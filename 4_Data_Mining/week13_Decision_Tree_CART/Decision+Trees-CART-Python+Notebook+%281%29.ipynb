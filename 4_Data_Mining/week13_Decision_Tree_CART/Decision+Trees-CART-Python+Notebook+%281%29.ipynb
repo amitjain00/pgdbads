{
 "cells": [
  {
   "cell_type": "code",
   "execution_count": 90,
   "metadata": {},
   "outputs": [],
   "source": [
    "import numpy as np\n",
    "import pandas as pd\n",
    "from sklearn.tree import DecisionTreeClassifier"
   ]
  },
  {
   "cell_type": "code",
   "execution_count": 128,
   "metadata": {},
   "outputs": [],
   "source": [
    "import os\n",
    "os.chdir(\"C:\\\\Users\\\\Amit.Jain\\\\Desktop\\\\PGP-DSBA\\\\week13_Decision_Tree_CART\")"
   ]
  },
  {
   "cell_type": "code",
   "execution_count": 129,
   "metadata": {},
   "outputs": [],
   "source": [
    "credit_df = pd.read_csv(\"credit.csv\")"
   ]
  },
  {
   "cell_type": "code",
   "execution_count": 130,
   "metadata": {},
   "outputs": [
    {
     "data": {
      "text/html": [
       "<div>\n",
       "<style scoped>\n",
       "    .dataframe tbody tr th:only-of-type {\n",
       "        vertical-align: middle;\n",
       "    }\n",
       "\n",
       "    .dataframe tbody tr th {\n",
       "        vertical-align: top;\n",
       "    }\n",
       "\n",
       "    .dataframe thead th {\n",
       "        text-align: right;\n",
       "    }\n",
       "</style>\n",
       "<table border=\"1\" class=\"dataframe\">\n",
       "  <thead>\n",
       "    <tr style=\"text-align: right;\">\n",
       "      <th></th>\n",
       "      <th>checking_balance</th>\n",
       "      <th>months_loan_duration</th>\n",
       "      <th>credit_history</th>\n",
       "      <th>purpose</th>\n",
       "      <th>amount</th>\n",
       "      <th>savings_balance</th>\n",
       "      <th>employment_duration</th>\n",
       "      <th>percent_of_income</th>\n",
       "      <th>years_at_residence</th>\n",
       "      <th>age</th>\n",
       "      <th>other_credit</th>\n",
       "      <th>housing</th>\n",
       "      <th>existing_loans_count</th>\n",
       "      <th>job</th>\n",
       "      <th>dependents</th>\n",
       "      <th>phone</th>\n",
       "      <th>default</th>\n",
       "    </tr>\n",
       "  </thead>\n",
       "  <tbody>\n",
       "    <tr>\n",
       "      <th>0</th>\n",
       "      <td>&lt; 0 DM</td>\n",
       "      <td>6</td>\n",
       "      <td>critical</td>\n",
       "      <td>furniture/appliances</td>\n",
       "      <td>1169</td>\n",
       "      <td>unknown</td>\n",
       "      <td>&gt; 7 years</td>\n",
       "      <td>4</td>\n",
       "      <td>4</td>\n",
       "      <td>67</td>\n",
       "      <td>none</td>\n",
       "      <td>own</td>\n",
       "      <td>2</td>\n",
       "      <td>skilled</td>\n",
       "      <td>1</td>\n",
       "      <td>yes</td>\n",
       "      <td>no</td>\n",
       "    </tr>\n",
       "    <tr>\n",
       "      <th>1</th>\n",
       "      <td>1 - 200 DM</td>\n",
       "      <td>48</td>\n",
       "      <td>good</td>\n",
       "      <td>furniture/appliances</td>\n",
       "      <td>5951</td>\n",
       "      <td>&lt; 100 DM</td>\n",
       "      <td>1 - 4 years</td>\n",
       "      <td>2</td>\n",
       "      <td>2</td>\n",
       "      <td>22</td>\n",
       "      <td>none</td>\n",
       "      <td>own</td>\n",
       "      <td>1</td>\n",
       "      <td>skilled</td>\n",
       "      <td>1</td>\n",
       "      <td>no</td>\n",
       "      <td>yes</td>\n",
       "    </tr>\n",
       "    <tr>\n",
       "      <th>2</th>\n",
       "      <td>unknown</td>\n",
       "      <td>12</td>\n",
       "      <td>critical</td>\n",
       "      <td>education</td>\n",
       "      <td>2096</td>\n",
       "      <td>&lt; 100 DM</td>\n",
       "      <td>4 - 7 years</td>\n",
       "      <td>2</td>\n",
       "      <td>3</td>\n",
       "      <td>49</td>\n",
       "      <td>none</td>\n",
       "      <td>own</td>\n",
       "      <td>1</td>\n",
       "      <td>unskilled</td>\n",
       "      <td>2</td>\n",
       "      <td>no</td>\n",
       "      <td>no</td>\n",
       "    </tr>\n",
       "    <tr>\n",
       "      <th>3</th>\n",
       "      <td>&lt; 0 DM</td>\n",
       "      <td>42</td>\n",
       "      <td>good</td>\n",
       "      <td>furniture/appliances</td>\n",
       "      <td>7882</td>\n",
       "      <td>&lt; 100 DM</td>\n",
       "      <td>4 - 7 years</td>\n",
       "      <td>2</td>\n",
       "      <td>4</td>\n",
       "      <td>45</td>\n",
       "      <td>none</td>\n",
       "      <td>other</td>\n",
       "      <td>1</td>\n",
       "      <td>skilled</td>\n",
       "      <td>2</td>\n",
       "      <td>no</td>\n",
       "      <td>no</td>\n",
       "    </tr>\n",
       "    <tr>\n",
       "      <th>4</th>\n",
       "      <td>&lt; 0 DM</td>\n",
       "      <td>24</td>\n",
       "      <td>poor</td>\n",
       "      <td>car</td>\n",
       "      <td>4870</td>\n",
       "      <td>&lt; 100 DM</td>\n",
       "      <td>1 - 4 years</td>\n",
       "      <td>3</td>\n",
       "      <td>4</td>\n",
       "      <td>53</td>\n",
       "      <td>none</td>\n",
       "      <td>other</td>\n",
       "      <td>2</td>\n",
       "      <td>skilled</td>\n",
       "      <td>2</td>\n",
       "      <td>no</td>\n",
       "      <td>yes</td>\n",
       "    </tr>\n",
       "  </tbody>\n",
       "</table>\n",
       "</div>"
      ],
      "text/plain": [
       "  checking_balance  months_loan_duration credit_history               purpose  \\\n",
       "0           < 0 DM                     6       critical  furniture/appliances   \n",
       "1       1 - 200 DM                    48           good  furniture/appliances   \n",
       "2          unknown                    12       critical             education   \n",
       "3           < 0 DM                    42           good  furniture/appliances   \n",
       "4           < 0 DM                    24           poor                   car   \n",
       "\n",
       "   amount savings_balance employment_duration  percent_of_income  \\\n",
       "0    1169         unknown           > 7 years                  4   \n",
       "1    5951        < 100 DM         1 - 4 years                  2   \n",
       "2    2096        < 100 DM         4 - 7 years                  2   \n",
       "3    7882        < 100 DM         4 - 7 years                  2   \n",
       "4    4870        < 100 DM         1 - 4 years                  3   \n",
       "\n",
       "   years_at_residence  age other_credit housing  existing_loans_count  \\\n",
       "0                   4   67         none     own                     2   \n",
       "1                   2   22         none     own                     1   \n",
       "2                   3   49         none     own                     1   \n",
       "3                   4   45         none   other                     1   \n",
       "4                   4   53         none   other                     2   \n",
       "\n",
       "         job  dependents phone default  \n",
       "0    skilled           1   yes      no  \n",
       "1    skilled           1    no     yes  \n",
       "2  unskilled           2    no      no  \n",
       "3    skilled           2    no      no  \n",
       "4    skilled           2    no     yes  "
      ]
     },
     "execution_count": 130,
     "metadata": {},
     "output_type": "execute_result"
    }
   ],
   "source": [
    "credit_df.head()"
   ]
  },
  {
   "cell_type": "code",
   "execution_count": 131,
   "metadata": {},
   "outputs": [
    {
     "data": {
      "text/plain": [
       "(1000, 17)"
      ]
     },
     "execution_count": 131,
     "metadata": {},
     "output_type": "execute_result"
    }
   ],
   "source": [
    "credit_df.shape"
   ]
  },
  {
   "cell_type": "code",
   "execution_count": 132,
   "metadata": {},
   "outputs": [
    {
     "name": "stdout",
     "output_type": "stream",
     "text": [
      "<class 'pandas.core.frame.DataFrame'>\n",
      "RangeIndex: 1000 entries, 0 to 999\n",
      "Data columns (total 17 columns):\n",
      " #   Column                Non-Null Count  Dtype \n",
      "---  ------                --------------  ----- \n",
      " 0   checking_balance      1000 non-null   object\n",
      " 1   months_loan_duration  1000 non-null   int64 \n",
      " 2   credit_history        1000 non-null   object\n",
      " 3   purpose               1000 non-null   object\n",
      " 4   amount                1000 non-null   int64 \n",
      " 5   savings_balance       1000 non-null   object\n",
      " 6   employment_duration   1000 non-null   object\n",
      " 7   percent_of_income     1000 non-null   int64 \n",
      " 8   years_at_residence    1000 non-null   int64 \n",
      " 9   age                   1000 non-null   int64 \n",
      " 10  other_credit          1000 non-null   object\n",
      " 11  housing               1000 non-null   object\n",
      " 12  existing_loans_count  1000 non-null   int64 \n",
      " 13  job                   1000 non-null   object\n",
      " 14  dependents            1000 non-null   int64 \n",
      " 15  phone                 1000 non-null   object\n",
      " 16  default               1000 non-null   object\n",
      "dtypes: int64(7), object(10)\n",
      "memory usage: 132.9+ KB\n"
     ]
    }
   ],
   "source": [
    "credit_df.info()  # many columns are of type object i.e. strings. These need to be converted to ordinal type"
   ]
  },
  {
   "cell_type": "code",
   "execution_count": 133,
   "metadata": {},
   "outputs": [
    {
     "data": {
      "text/plain": [
       "Index(['checking_balance', 'months_loan_duration', 'credit_history', 'purpose',\n",
       "       'amount', 'savings_balance', 'employment_duration', 'percent_of_income',\n",
       "       'years_at_residence', 'age', 'other_credit', 'housing',\n",
       "       'existing_loans_count', 'job', 'dependents', 'phone', 'default'],\n",
       "      dtype='object')"
      ]
     },
     "execution_count": 133,
     "metadata": {},
     "output_type": "execute_result"
    }
   ],
   "source": [
    "credit_df.columns"
   ]
  },
  {
   "cell_type": "code",
   "execution_count": 134,
   "metadata": {},
   "outputs": [
    {
     "data": {
      "text/plain": [
       "array([48,  3, 30, 26, 34, 16, 34, 16, 42,  9,  6,  5,  3, 41,  9, 13, 34,\n",
       "        6, 25, 12, 29, 25, 29, 25,  7, 17, 20, 23, 15, 44, 17,  8, 11, 38,\n",
       "       14,  6, 12, 18, 18,  5, 11,  7, 25,  5, 39, 16, 20,  4, 20,  9, 10,\n",
       "       11,  6, 12, 38,  7, 33, 12,  4,  4,  8, 31, 42,  6,  7, 29, 10,  3,\n",
       "       18,  6, 11, 27, 32, 22, 21, 47, 15, 32, 20,  3, 25, 28,  5, 39, 33,\n",
       "       10,  8, 28, 11,  9, 37, 35, 14,  1, 35, 39, 42, 15, 17, 17, 22,  5,\n",
       "        5, 16,  7, 20, 20, 13, 11, 16, 12,  4,  9,  6, 16, 28, 11,  8,  4,\n",
       "       17,  6, 22,  5, 44,  8, 11, 21, 11, 15, 10,  5, 10,  8, 28,  2, 19,\n",
       "        8, 47, 16, 25,  8, 11,  8,  3,  4, 11, 20, 32,  9, 27, 23, 19,  5,\n",
       "       10, 17,  1, 29, 26, 19, 15, 17, 11, 17, 50, 17, 13, 14,  1,  6, 12,\n",
       "       14,  7, 15, 14,  7, 34, 23, 33, 12, 46,  9, 11, 21, 31, 17, 12, 51,\n",
       "       49,  1, 14, 35, 15, 17, 10,  2, 15,  9,  8, 17, 21, 33,  8,  7,  2,\n",
       "       19, 19, 24,  7,  2, 36, 14, 26, 31, 47, 32, 20, 12,  4,  5, 45,  7,\n",
       "        4, 11, 13, 11,  8,  8, 34,  3,  3,  7, 32, 16,  6, 23, 11,  4, 42,\n",
       "       16, 20, 10, 32,  5,  8, 16,  6, 33, 16,  7,  3, 20, 27,  5, 16,  5,\n",
       "        8, 16, 10,  4, 38,  8, 36, 17, 38, 13, 18, 17, 19, 26,  6, 13, 18,\n",
       "       17,  9, 15, 13,  7, 30, 13, 10,  4, 31, 30, 44, 18, 16,  7, 12, 30,\n",
       "       29,  7,  9, 25, 37, 27,  7,  1, 26, 24, 13, 35, 23, 18, 30, 25, 14,\n",
       "        5, 14,  5,  3, 21,  6,  7,  6, 10, 12, 19, 29, 13,  8,  9, 13, 15,\n",
       "        9, 17, 20, 30, 15, 12,  9, 52, 11,  5,  5,  4, 25,  4,  5,  9, 12,\n",
       "        5,  7,  6, 14, 18, 24,  4,  4, 15, 13,  4, 10, 19,  9, 27,  4, 30,\n",
       "        7,  9,  4, 42, 18, 17,  2,  6, 17,  8,  3, 23, 21, 17, 14,  4, 44,\n",
       "       41, 18, 15, 17, 38, 33, 20, 19,  6,  7,  7,  6,  2, 21,  8,  8, 11,\n",
       "        0, 20, 12, 12, 13, 36, 27, 27, 24, 20,  9,  8,  8, 24,  3, 24,  8,\n",
       "        7,  9,  1, 16, 23, 21, 16, 16, 14,  4, 12, 14,  1, 11, 28, 15,  6,\n",
       "        2, 10, 27,  1, 36, 51, 10, 17, 14,  6,  6,  4, 18, 46,  7, 20, 11,\n",
       "       10, 22, 11, 22, 15, 16, 36, 42, 11, 10, 15, 16, 12, 10, 17, 16,  8,\n",
       "       13, 18, 17, 15, 19, 15, 44, 10, 13,  7, 16,  3,  4,  9, 17, 14,  7,\n",
       "        5,  6, 20, 25,  4,  7, 38, 11, 25, 28, 33, 43, 16,  7,  7, 23,  8,\n",
       "       19, 20,  1, 10, 21, 13,  9,  8, 23, 30, 19,  5,  8, 17, 15,  9, 26,\n",
       "        7, 13,  7,  1, 35, 18, 21,  4, 24, 17, 25,  5, 34,  4,  7, 11, 12,\n",
       "       23, 12, 22, 13,  9, 22,  7,  6, 14, 52, 18, 23, 26,  4, 41, 12, 15,\n",
       "       42, 24, 18, 13,  5, 16,  4, 26, 15,  8, 48,  3,  9, 10,  8, 12, 30,\n",
       "        5, 10, 18, 18,  4, 17, 15, 22, 12,  4, 19,  7,  3,  8,  5,  8, 14,\n",
       "        8,  8, 11, 30,  7, 14, 33,  1, 17,  2, 28, 41, 39, 23, 17,  1, 21,\n",
       "       13,  4, 17, 12, 13, 26, 11, 15,  9,  4,  3, 51, 31, 14, 26,  3, 29,\n",
       "       10,  3,  3, 29,  8, 18,  2, 30,  8, 13, 19,  3, 46, 16, 22, 10, 17,\n",
       "       45,  9, 25,  4,  0,  6, 28,  9,  2, 15,  7,  8, 19, 21, 14, 13,  8,\n",
       "       13,  7, 19, 21, 31, 18, 26, 23, 16,  3, 22, 18,  9, 22,  4,  4, 31,\n",
       "       16, 31,  8, 15,  8, 24, 28,  8, 12, 23,  5, 22,  7, 14,  5, 45,  7,\n",
       "       37, 18, 14, 28, 12, 15,  8, 11, 16, 12,  6,  6, 10, 25,  9, 31, 10,\n",
       "       19,  5, 21, 10, 27, 28, 22, 13, 16,  5,  6,  6, 18, 13, 16, 27,  6,\n",
       "        8, 44, 21, 13, 12, 12, 15,  5,  5, 47,  2, 22, 28,  6, 40, 17, 14,\n",
       "        2, 25,  9, 18, 10,  4, 16, 26,  7, 13,  4, 22,  3, 11,  9,  4, 18,\n",
       "        7, 14, 30,  4,  4,  6, 36, 13, 51, 20, 12, 16, 40,  5,  5, 11,  8,\n",
       "       21, 12, 12,  9, 44,  7,  6, 17, 33, 47,  6, 18,  6, 19, 48,  6, 41,\n",
       "       12,  4, 41, 16, 21, 19, 31,  8, 20, 22,  8, 32, 13,  3, 32,  3, 35,\n",
       "       16, 35, 29,  5, 16,  5,  5,  7, 46, 36,  7,  7,  9,  5, 35, 27, 35,\n",
       "       43,  5, 24,  7,  8,  5, 22, 28, 16, 11, 14, 17, 28, 19, 25,  4, 10,\n",
       "       23,  6, 29,  2,  4, 44, 27, 10,  9,  4, 31, 28, 16, 49,  9, 40, 38,\n",
       "       14, 24, 16, 13, 26, 14, 21,  9, 10,  7,  8,  9, 16, 13,  6,  1,  8,\n",
       "       23, 18,  5, 21, 27,  7,  5, 10, 21, 17,  9,  8, 17, 19, 29, 17, 46,\n",
       "       24, 34, 15,  4, 15, 21, 24, 27, 19, 15, 10, 12,  9, 16, 14, 23, 24,\n",
       "       25, 23, 21, 17,  1,  5,  8, 27, 14, 15,  6,  6,  9, 12, 13, 13, 49,\n",
       "       14, 20,  9, 18,  3, 11, 36, 27,  2, 20, 39, 24,  5,  3, 11, 23,  4,\n",
       "       11,  9, 11, 23, 27, 26, 12, 12, 23, 27, 11, 11, 19, 24, 12, 21,  5,\n",
       "        9,  7, 10, 38, 30, 18, 26, 11, 11, 28, 10, 16,  3,  7,  4, 35, 10,\n",
       "       21,  3, 24, 10, 17, 14, 38, 45, 23, 28,  6, 30, 14,  9,  7, 11,  6,\n",
       "       14, 45, 10, 29, 18, 15,  4, 11, 31, 12, 21, 19,  4,  8], dtype=int8)"
      ]
     },
     "execution_count": 134,
     "metadata": {},
     "output_type": "execute_result"
    }
   ],
   "source": [
    "pd.Categorical(credit_df[\"age\"]).codes"
   ]
  },
  {
   "cell_type": "code",
   "execution_count": 135,
   "metadata": {},
   "outputs": [
    {
     "data": {
      "text/plain": [
       "['no', 'yes', 'no', 'no', 'yes', ..., 'no', 'no', 'no', 'yes', 'no']\n",
       "Length: 1000\n",
       "Categories (2, object): ['no', 'yes']"
      ]
     },
     "execution_count": 135,
     "metadata": {},
     "output_type": "execute_result"
    }
   ],
   "source": [
    "pd.Categorical(credit_df[feature])"
   ]
  },
  {
   "cell_type": "code",
   "execution_count": 136,
   "metadata": {},
   "outputs": [],
   "source": [
    "# Decision tree in Python can take only numerical / categorical colums. It cannot take string / obeject types. \n",
    "# The following code loops through each column and checks if the column type is object then converts those columns\n",
    "# into categorical with each distinct value becoming a category or code.\n",
    "for feature in credit_df.columns: \n",
    "    if credit_df[feature].dtype == 'object': \n",
    "        credit_df[feature] = pd.Categorical(credit_df[feature]).codes"
   ]
  },
  {
   "cell_type": "code",
   "execution_count": 137,
   "metadata": {},
   "outputs": [
    {
     "name": "stdout",
     "output_type": "stream",
     "text": [
      "<class 'pandas.core.frame.DataFrame'>\n",
      "RangeIndex: 1000 entries, 0 to 999\n",
      "Data columns (total 17 columns):\n",
      " #   Column                Non-Null Count  Dtype\n",
      "---  ------                --------------  -----\n",
      " 0   checking_balance      1000 non-null   int8 \n",
      " 1   months_loan_duration  1000 non-null   int64\n",
      " 2   credit_history        1000 non-null   int8 \n",
      " 3   purpose               1000 non-null   int8 \n",
      " 4   amount                1000 non-null   int64\n",
      " 5   savings_balance       1000 non-null   int8 \n",
      " 6   employment_duration   1000 non-null   int8 \n",
      " 7   percent_of_income     1000 non-null   int64\n",
      " 8   years_at_residence    1000 non-null   int64\n",
      " 9   age                   1000 non-null   int64\n",
      " 10  other_credit          1000 non-null   int8 \n",
      " 11  housing               1000 non-null   int8 \n",
      " 12  existing_loans_count  1000 non-null   int64\n",
      " 13  job                   1000 non-null   int8 \n",
      " 14  dependents            1000 non-null   int64\n",
      " 15  phone                 1000 non-null   int8 \n",
      " 16  default               1000 non-null   int8 \n",
      "dtypes: int64(7), int8(10)\n",
      "memory usage: 64.6 KB\n"
     ]
    }
   ],
   "source": [
    "credit_df.info()"
   ]
  },
  {
   "cell_type": "code",
   "execution_count": 138,
   "metadata": {},
   "outputs": [],
   "source": [
    "# capture the target column (\"default\") into separate vectors for training set and test set\n",
    "X = credit_df.drop(\"default\" , axis=1)\n",
    "y = credit_df.pop(\"default\")"
   ]
  },
  {
   "cell_type": "raw",
   "metadata": {},
   "source": [
    "X= Independent variable (Mean, columns, which are needed For predictions)\n",
    "Y= Dependent variable (Which needs to be predicted )\n"
   ]
  },
  {
   "cell_type": "code",
   "execution_count": 139,
   "metadata": {},
   "outputs": [
    {
     "data": {
      "text/html": [
       "<div>\n",
       "<style scoped>\n",
       "    .dataframe tbody tr th:only-of-type {\n",
       "        vertical-align: middle;\n",
       "    }\n",
       "\n",
       "    .dataframe tbody tr th {\n",
       "        vertical-align: top;\n",
       "    }\n",
       "\n",
       "    .dataframe thead th {\n",
       "        text-align: right;\n",
       "    }\n",
       "</style>\n",
       "<table border=\"1\" class=\"dataframe\">\n",
       "  <thead>\n",
       "    <tr style=\"text-align: right;\">\n",
       "      <th></th>\n",
       "      <th>checking_balance</th>\n",
       "      <th>months_loan_duration</th>\n",
       "      <th>credit_history</th>\n",
       "      <th>purpose</th>\n",
       "      <th>amount</th>\n",
       "      <th>savings_balance</th>\n",
       "      <th>employment_duration</th>\n",
       "      <th>percent_of_income</th>\n",
       "      <th>years_at_residence</th>\n",
       "      <th>age</th>\n",
       "      <th>other_credit</th>\n",
       "      <th>housing</th>\n",
       "      <th>existing_loans_count</th>\n",
       "      <th>job</th>\n",
       "      <th>dependents</th>\n",
       "      <th>phone</th>\n",
       "    </tr>\n",
       "  </thead>\n",
       "  <tbody>\n",
       "    <tr>\n",
       "      <th>0</th>\n",
       "      <td>1</td>\n",
       "      <td>6</td>\n",
       "      <td>0</td>\n",
       "      <td>4</td>\n",
       "      <td>1169</td>\n",
       "      <td>4</td>\n",
       "      <td>3</td>\n",
       "      <td>4</td>\n",
       "      <td>4</td>\n",
       "      <td>67</td>\n",
       "      <td>1</td>\n",
       "      <td>1</td>\n",
       "      <td>2</td>\n",
       "      <td>1</td>\n",
       "      <td>1</td>\n",
       "      <td>1</td>\n",
       "    </tr>\n",
       "    <tr>\n",
       "      <th>1</th>\n",
       "      <td>0</td>\n",
       "      <td>48</td>\n",
       "      <td>1</td>\n",
       "      <td>4</td>\n",
       "      <td>5951</td>\n",
       "      <td>2</td>\n",
       "      <td>0</td>\n",
       "      <td>2</td>\n",
       "      <td>2</td>\n",
       "      <td>22</td>\n",
       "      <td>1</td>\n",
       "      <td>1</td>\n",
       "      <td>1</td>\n",
       "      <td>1</td>\n",
       "      <td>1</td>\n",
       "      <td>0</td>\n",
       "    </tr>\n",
       "    <tr>\n",
       "      <th>2</th>\n",
       "      <td>3</td>\n",
       "      <td>12</td>\n",
       "      <td>0</td>\n",
       "      <td>3</td>\n",
       "      <td>2096</td>\n",
       "      <td>2</td>\n",
       "      <td>1</td>\n",
       "      <td>2</td>\n",
       "      <td>3</td>\n",
       "      <td>49</td>\n",
       "      <td>1</td>\n",
       "      <td>1</td>\n",
       "      <td>1</td>\n",
       "      <td>3</td>\n",
       "      <td>2</td>\n",
       "      <td>0</td>\n",
       "    </tr>\n",
       "    <tr>\n",
       "      <th>3</th>\n",
       "      <td>1</td>\n",
       "      <td>42</td>\n",
       "      <td>1</td>\n",
       "      <td>4</td>\n",
       "      <td>7882</td>\n",
       "      <td>2</td>\n",
       "      <td>1</td>\n",
       "      <td>2</td>\n",
       "      <td>4</td>\n",
       "      <td>45</td>\n",
       "      <td>1</td>\n",
       "      <td>0</td>\n",
       "      <td>1</td>\n",
       "      <td>1</td>\n",
       "      <td>2</td>\n",
       "      <td>0</td>\n",
       "    </tr>\n",
       "    <tr>\n",
       "      <th>4</th>\n",
       "      <td>1</td>\n",
       "      <td>24</td>\n",
       "      <td>3</td>\n",
       "      <td>1</td>\n",
       "      <td>4870</td>\n",
       "      <td>2</td>\n",
       "      <td>0</td>\n",
       "      <td>3</td>\n",
       "      <td>4</td>\n",
       "      <td>53</td>\n",
       "      <td>1</td>\n",
       "      <td>0</td>\n",
       "      <td>2</td>\n",
       "      <td>1</td>\n",
       "      <td>2</td>\n",
       "      <td>0</td>\n",
       "    </tr>\n",
       "  </tbody>\n",
       "</table>\n",
       "</div>"
      ],
      "text/plain": [
       "   checking_balance  months_loan_duration  credit_history  purpose  amount  \\\n",
       "0                 1                     6               0        4    1169   \n",
       "1                 0                    48               1        4    5951   \n",
       "2                 3                    12               0        3    2096   \n",
       "3                 1                    42               1        4    7882   \n",
       "4                 1                    24               3        1    4870   \n",
       "\n",
       "   savings_balance  employment_duration  percent_of_income  \\\n",
       "0                4                    3                  4   \n",
       "1                2                    0                  2   \n",
       "2                2                    1                  2   \n",
       "3                2                    1                  2   \n",
       "4                2                    0                  3   \n",
       "\n",
       "   years_at_residence  age  other_credit  housing  existing_loans_count  job  \\\n",
       "0                   4   67             1        1                     2    1   \n",
       "1                   2   22             1        1                     1    1   \n",
       "2                   3   49             1        1                     1    3   \n",
       "3                   4   45             1        0                     1    1   \n",
       "4                   4   53             1        0                     2    1   \n",
       "\n",
       "   dependents  phone  \n",
       "0           1      1  \n",
       "1           1      0  \n",
       "2           2      0  \n",
       "3           2      0  \n",
       "4           2      0  "
      ]
     },
     "execution_count": 139,
     "metadata": {},
     "output_type": "execute_result"
    }
   ],
   "source": [
    "X.head()"
   ]
  },
  {
   "cell_type": "code",
   "execution_count": 140,
   "metadata": {},
   "outputs": [
    {
     "data": {
      "text/plain": [
       "0    0\n",
       "1    1\n",
       "2    0\n",
       "3    0\n",
       "4    1\n",
       "Name: default, dtype: int8"
      ]
     },
     "execution_count": 140,
     "metadata": {},
     "output_type": "execute_result"
    }
   ],
   "source": [
    "y.head()"
   ]
  },
  {
   "cell_type": "code",
   "execution_count": 141,
   "metadata": {},
   "outputs": [
    {
     "data": {
      "text/html": [
       "<div>\n",
       "<style scoped>\n",
       "    .dataframe tbody tr th:only-of-type {\n",
       "        vertical-align: middle;\n",
       "    }\n",
       "\n",
       "    .dataframe tbody tr th {\n",
       "        vertical-align: top;\n",
       "    }\n",
       "\n",
       "    .dataframe thead th {\n",
       "        text-align: right;\n",
       "    }\n",
       "</style>\n",
       "<table border=\"1\" class=\"dataframe\">\n",
       "  <thead>\n",
       "    <tr style=\"text-align: right;\">\n",
       "      <th></th>\n",
       "      <th>count</th>\n",
       "      <th>mean</th>\n",
       "      <th>std</th>\n",
       "      <th>min</th>\n",
       "      <th>25%</th>\n",
       "      <th>50%</th>\n",
       "      <th>75%</th>\n",
       "      <th>max</th>\n",
       "    </tr>\n",
       "  </thead>\n",
       "  <tbody>\n",
       "    <tr>\n",
       "      <th>checking_balance</th>\n",
       "      <td>1000.0</td>\n",
       "      <td>1.582</td>\n",
       "      <td>1.253334</td>\n",
       "      <td>0.0</td>\n",
       "      <td>0.0</td>\n",
       "      <td>1.0</td>\n",
       "      <td>3.00</td>\n",
       "      <td>3.0</td>\n",
       "    </tr>\n",
       "    <tr>\n",
       "      <th>months_loan_duration</th>\n",
       "      <td>1000.0</td>\n",
       "      <td>20.903</td>\n",
       "      <td>12.058814</td>\n",
       "      <td>4.0</td>\n",
       "      <td>12.0</td>\n",
       "      <td>18.0</td>\n",
       "      <td>24.00</td>\n",
       "      <td>72.0</td>\n",
       "    </tr>\n",
       "    <tr>\n",
       "      <th>credit_history</th>\n",
       "      <td>1000.0</td>\n",
       "      <td>1.070</td>\n",
       "      <td>1.059350</td>\n",
       "      <td>0.0</td>\n",
       "      <td>0.0</td>\n",
       "      <td>1.0</td>\n",
       "      <td>1.00</td>\n",
       "      <td>4.0</td>\n",
       "    </tr>\n",
       "    <tr>\n",
       "      <th>purpose</th>\n",
       "      <td>1000.0</td>\n",
       "      <td>2.540</td>\n",
       "      <td>1.607789</td>\n",
       "      <td>0.0</td>\n",
       "      <td>1.0</td>\n",
       "      <td>3.0</td>\n",
       "      <td>4.00</td>\n",
       "      <td>5.0</td>\n",
       "    </tr>\n",
       "    <tr>\n",
       "      <th>amount</th>\n",
       "      <td>1000.0</td>\n",
       "      <td>3271.258</td>\n",
       "      <td>2822.736876</td>\n",
       "      <td>250.0</td>\n",
       "      <td>1365.5</td>\n",
       "      <td>2319.5</td>\n",
       "      <td>3972.25</td>\n",
       "      <td>18424.0</td>\n",
       "    </tr>\n",
       "    <tr>\n",
       "      <th>savings_balance</th>\n",
       "      <td>1000.0</td>\n",
       "      <td>2.145</td>\n",
       "      <td>1.111400</td>\n",
       "      <td>0.0</td>\n",
       "      <td>2.0</td>\n",
       "      <td>2.0</td>\n",
       "      <td>2.00</td>\n",
       "      <td>4.0</td>\n",
       "    </tr>\n",
       "    <tr>\n",
       "      <th>employment_duration</th>\n",
       "      <td>1000.0</td>\n",
       "      <td>1.525</td>\n",
       "      <td>1.344315</td>\n",
       "      <td>0.0</td>\n",
       "      <td>0.0</td>\n",
       "      <td>1.0</td>\n",
       "      <td>3.00</td>\n",
       "      <td>4.0</td>\n",
       "    </tr>\n",
       "    <tr>\n",
       "      <th>percent_of_income</th>\n",
       "      <td>1000.0</td>\n",
       "      <td>2.973</td>\n",
       "      <td>1.118715</td>\n",
       "      <td>1.0</td>\n",
       "      <td>2.0</td>\n",
       "      <td>3.0</td>\n",
       "      <td>4.00</td>\n",
       "      <td>4.0</td>\n",
       "    </tr>\n",
       "    <tr>\n",
       "      <th>years_at_residence</th>\n",
       "      <td>1000.0</td>\n",
       "      <td>2.845</td>\n",
       "      <td>1.103718</td>\n",
       "      <td>1.0</td>\n",
       "      <td>2.0</td>\n",
       "      <td>3.0</td>\n",
       "      <td>4.00</td>\n",
       "      <td>4.0</td>\n",
       "    </tr>\n",
       "    <tr>\n",
       "      <th>age</th>\n",
       "      <td>1000.0</td>\n",
       "      <td>35.546</td>\n",
       "      <td>11.375469</td>\n",
       "      <td>19.0</td>\n",
       "      <td>27.0</td>\n",
       "      <td>33.0</td>\n",
       "      <td>42.00</td>\n",
       "      <td>75.0</td>\n",
       "    </tr>\n",
       "    <tr>\n",
       "      <th>other_credit</th>\n",
       "      <td>1000.0</td>\n",
       "      <td>0.908</td>\n",
       "      <td>0.421561</td>\n",
       "      <td>0.0</td>\n",
       "      <td>1.0</td>\n",
       "      <td>1.0</td>\n",
       "      <td>1.00</td>\n",
       "      <td>2.0</td>\n",
       "    </tr>\n",
       "    <tr>\n",
       "      <th>housing</th>\n",
       "      <td>1000.0</td>\n",
       "      <td>1.071</td>\n",
       "      <td>0.531264</td>\n",
       "      <td>0.0</td>\n",
       "      <td>1.0</td>\n",
       "      <td>1.0</td>\n",
       "      <td>1.00</td>\n",
       "      <td>2.0</td>\n",
       "    </tr>\n",
       "    <tr>\n",
       "      <th>existing_loans_count</th>\n",
       "      <td>1000.0</td>\n",
       "      <td>1.407</td>\n",
       "      <td>0.577654</td>\n",
       "      <td>1.0</td>\n",
       "      <td>1.0</td>\n",
       "      <td>1.0</td>\n",
       "      <td>2.00</td>\n",
       "      <td>4.0</td>\n",
       "    </tr>\n",
       "    <tr>\n",
       "      <th>job</th>\n",
       "      <td>1000.0</td>\n",
       "      <td>1.274</td>\n",
       "      <td>0.946478</td>\n",
       "      <td>0.0</td>\n",
       "      <td>1.0</td>\n",
       "      <td>1.0</td>\n",
       "      <td>1.00</td>\n",
       "      <td>3.0</td>\n",
       "    </tr>\n",
       "    <tr>\n",
       "      <th>dependents</th>\n",
       "      <td>1000.0</td>\n",
       "      <td>1.155</td>\n",
       "      <td>0.362086</td>\n",
       "      <td>1.0</td>\n",
       "      <td>1.0</td>\n",
       "      <td>1.0</td>\n",
       "      <td>1.00</td>\n",
       "      <td>2.0</td>\n",
       "    </tr>\n",
       "    <tr>\n",
       "      <th>phone</th>\n",
       "      <td>1000.0</td>\n",
       "      <td>0.404</td>\n",
       "      <td>0.490943</td>\n",
       "      <td>0.0</td>\n",
       "      <td>0.0</td>\n",
       "      <td>0.0</td>\n",
       "      <td>1.00</td>\n",
       "      <td>1.0</td>\n",
       "    </tr>\n",
       "  </tbody>\n",
       "</table>\n",
       "</div>"
      ],
      "text/plain": [
       "                       count      mean          std    min     25%     50%  \\\n",
       "checking_balance      1000.0     1.582     1.253334    0.0     0.0     1.0   \n",
       "months_loan_duration  1000.0    20.903    12.058814    4.0    12.0    18.0   \n",
       "credit_history        1000.0     1.070     1.059350    0.0     0.0     1.0   \n",
       "purpose               1000.0     2.540     1.607789    0.0     1.0     3.0   \n",
       "amount                1000.0  3271.258  2822.736876  250.0  1365.5  2319.5   \n",
       "savings_balance       1000.0     2.145     1.111400    0.0     2.0     2.0   \n",
       "employment_duration   1000.0     1.525     1.344315    0.0     0.0     1.0   \n",
       "percent_of_income     1000.0     2.973     1.118715    1.0     2.0     3.0   \n",
       "years_at_residence    1000.0     2.845     1.103718    1.0     2.0     3.0   \n",
       "age                   1000.0    35.546    11.375469   19.0    27.0    33.0   \n",
       "other_credit          1000.0     0.908     0.421561    0.0     1.0     1.0   \n",
       "housing               1000.0     1.071     0.531264    0.0     1.0     1.0   \n",
       "existing_loans_count  1000.0     1.407     0.577654    1.0     1.0     1.0   \n",
       "job                   1000.0     1.274     0.946478    0.0     1.0     1.0   \n",
       "dependents            1000.0     1.155     0.362086    1.0     1.0     1.0   \n",
       "phone                 1000.0     0.404     0.490943    0.0     0.0     0.0   \n",
       "\n",
       "                          75%      max  \n",
       "checking_balance         3.00      3.0  \n",
       "months_loan_duration    24.00     72.0  \n",
       "credit_history           1.00      4.0  \n",
       "purpose                  4.00      5.0  \n",
       "amount                3972.25  18424.0  \n",
       "savings_balance          2.00      4.0  \n",
       "employment_duration      3.00      4.0  \n",
       "percent_of_income        4.00      4.0  \n",
       "years_at_residence       4.00      4.0  \n",
       "age                     42.00     75.0  \n",
       "other_credit             1.00      2.0  \n",
       "housing                  1.00      2.0  \n",
       "existing_loans_count     2.00      4.0  \n",
       "job                      1.00      3.0  \n",
       "dependents               1.00      2.0  \n",
       "phone                    1.00      1.0  "
      ]
     },
     "execution_count": 141,
     "metadata": {},
     "output_type": "execute_result"
    }
   ],
   "source": [
    "X.describe().T"
   ]
  },
  {
   "cell_type": "code",
   "execution_count": 142,
   "metadata": {},
   "outputs": [
    {
     "data": {
      "text/plain": [
       "count    1000.000000\n",
       "mean        0.300000\n",
       "std         0.458487\n",
       "min         0.000000\n",
       "25%         0.000000\n",
       "50%         0.000000\n",
       "75%         1.000000\n",
       "max         1.000000\n",
       "Name: default, dtype: float64"
      ]
     },
     "execution_count": 142,
     "metadata": {},
     "output_type": "execute_result"
    }
   ],
   "source": [
    "y.describe()"
   ]
  },
  {
   "cell_type": "code",
   "execution_count": null,
   "metadata": {},
   "outputs": [],
   "source": []
  },
  {
   "cell_type": "code",
   "execution_count": 181,
   "metadata": {},
   "outputs": [],
   "source": [
    "# splitting data into training and test set for independent attributes\n",
    "from sklearn.model_selection import train_test_split\n",
    "\n",
    "X_train, X_test, train_labels, test_labels = train_test_split(X, y, test_size=.30, random_state=1)\n"
   ]
  },
  {
   "cell_type": "raw",
   "metadata": {},
   "source": [
    "Actually ,  train_test_split function, Divide data into 4 set,\n",
    "Example: if you have sample of 1000 records, and test_size=.30\n",
    "    then it divide 1000-30=\n",
    "        970 records of Independent vairbale, , we call them X_train, these are used for prediction Model\n",
    "        970 records of Dependent vairbale, , we call them train_labels( Y_train), these are used for prediction comparisions\n",
    "         30 records of Independent vairbale, , we call them X_test, these are treated, if this data is given, \n",
    "            then what will be your predictions\n",
    "        30 records of Dependent vairbale, , we call them test_labels(Y_test), these are used for prediction comparisions\n",
    "        "
   ]
  },
  {
   "cell_type": "code",
   "execution_count": 148,
   "metadata": {},
   "outputs": [
    {
     "name": "stdout",
     "output_type": "stream",
     "text": [
      "<class 'pandas.core.frame.DataFrame'>\n",
      "Int64Index: 970 entries, 910 to 37\n",
      "Data columns (total 16 columns):\n",
      " #   Column                Non-Null Count  Dtype\n",
      "---  ------                --------------  -----\n",
      " 0   checking_balance      970 non-null    int8 \n",
      " 1   months_loan_duration  970 non-null    int64\n",
      " 2   credit_history        970 non-null    int8 \n",
      " 3   purpose               970 non-null    int8 \n",
      " 4   amount                970 non-null    int64\n",
      " 5   savings_balance       970 non-null    int8 \n",
      " 6   employment_duration   970 non-null    int8 \n",
      " 7   percent_of_income     970 non-null    int64\n",
      " 8   years_at_residence    970 non-null    int64\n",
      " 9   age                   970 non-null    int64\n",
      " 10  other_credit          970 non-null    int8 \n",
      " 11  housing               970 non-null    int8 \n",
      " 12  existing_loans_count  970 non-null    int64\n",
      " 13  job                   970 non-null    int8 \n",
      " 14  dependents            970 non-null    int64\n",
      " 15  phone                 970 non-null    int8 \n",
      "dtypes: int64(7), int8(9)\n",
      "memory usage: 69.2 KB\n"
     ]
    }
   ],
   "source": [
    "X_train.info()"
   ]
  },
  {
   "cell_type": "raw",
   "metadata": {},
   "source": []
  },
  {
   "cell_type": "code",
   "execution_count": 182,
   "metadata": {},
   "outputs": [
    {
     "data": {
      "text/plain": [
       "700"
      ]
     },
     "execution_count": 182,
     "metadata": {},
     "output_type": "execute_result"
    }
   ],
   "source": [
    "train_labels.count()"
   ]
  },
  {
   "cell_type": "code",
   "execution_count": 149,
   "metadata": {},
   "outputs": [
    {
     "name": "stdout",
     "output_type": "stream",
     "text": [
      "<class 'pandas.core.frame.DataFrame'>\n",
      "RangeIndex: 1000 entries, 0 to 999\n",
      "Data columns (total 16 columns):\n",
      " #   Column                Non-Null Count  Dtype\n",
      "---  ------                --------------  -----\n",
      " 0   checking_balance      1000 non-null   int8 \n",
      " 1   months_loan_duration  1000 non-null   int64\n",
      " 2   credit_history        1000 non-null   int8 \n",
      " 3   purpose               1000 non-null   int8 \n",
      " 4   amount                1000 non-null   int64\n",
      " 5   savings_balance       1000 non-null   int8 \n",
      " 6   employment_duration   1000 non-null   int8 \n",
      " 7   percent_of_income     1000 non-null   int64\n",
      " 8   years_at_residence    1000 non-null   int64\n",
      " 9   age                   1000 non-null   int64\n",
      " 10  other_credit          1000 non-null   int8 \n",
      " 11  housing               1000 non-null   int8 \n",
      " 12  existing_loans_count  1000 non-null   int64\n",
      " 13  job                   1000 non-null   int8 \n",
      " 14  dependents            1000 non-null   int64\n",
      " 15  phone                 1000 non-null   int8 \n",
      "dtypes: int64(7), int8(9)\n",
      "memory usage: 63.6 KB\n"
     ]
    }
   ],
   "source": [
    "credit_df.info()"
   ]
  },
  {
   "cell_type": "code",
   "execution_count": null,
   "metadata": {},
   "outputs": [],
   "source": []
  },
  {
   "cell_type": "code",
   "execution_count": 150,
   "metadata": {},
   "outputs": [],
   "source": [
    "dt_model = DecisionTreeClassifier(criterion = 'gini' )"
   ]
  },
  {
   "cell_type": "code",
   "execution_count": 151,
   "metadata": {},
   "outputs": [
    {
     "data": {
      "text/plain": [
       "DecisionTreeClassifier()"
      ]
     },
     "execution_count": 151,
     "metadata": {},
     "output_type": "execute_result"
    }
   ],
   "source": [
    "dt_model.fit(X_train, train_labels)"
   ]
  },
  {
   "cell_type": "raw",
   "metadata": {},
   "source": [
    "DecisionTreeClassifier(class_weight=None, criterion='gini', max_depth=None,\n",
    "            max_features=None, max_leaf_nodes=None,\n",
    "            min_impurity_decrease=0.0, min_impurity_split=None,\n",
    "            min_samples_leaf=1, min_samples_split=2,\n",
    "            min_weight_fraction_leaf=0.0, presort=False, random_state=None,\n",
    "            splitter='best')"
   ]
  },
  {
   "cell_type": "code",
   "execution_count": 152,
   "metadata": {
    "scrolled": true
   },
   "outputs": [],
   "source": [
    "from sklearn import tree\n",
    "\n",
    "train_char_label = ['No', 'Yes']  ## this is the Labels for for any decision Node\n",
    "Credit_Tree_File = open('C:\\\\Users\\\\Amit.Jain\\\\Desktop\\\\PGP-DSBA\\\\week13_Decision_Tree_CART\\\\credit_tree.dot','w')\n",
    "dot_data = tree.export_graphviz(dt_model, out_file=Credit_Tree_File, feature_names = list(X_train), class_names = list(train_char_label))\n",
    "\n",
    "Credit_Tree_File.close()\n"
   ]
  },
  {
   "cell_type": "code",
   "execution_count": null,
   "metadata": {},
   "outputs": [],
   "source": []
  },
  {
   "cell_type": "code",
   "execution_count": 153,
   "metadata": {},
   "outputs": [
    {
     "name": "stdout",
     "output_type": "stream",
     "text": [
      "                           Imp\n",
      "checking_balance      0.143026\n",
      "months_loan_duration  0.108025\n",
      "credit_history        0.056580\n",
      "purpose               0.052034\n",
      "amount                0.206183\n",
      "savings_balance       0.036204\n",
      "employment_duration   0.040659\n",
      "percent_of_income     0.052178\n",
      "years_at_residence    0.054678\n",
      "age                   0.100295\n",
      "other_credit          0.025990\n",
      "housing               0.027960\n",
      "existing_loans_count  0.031342\n",
      "job                   0.040725\n",
      "dependents            0.017235\n",
      "phone                 0.006886\n"
     ]
    }
   ],
   "source": [
    "# importance of features in the tree building ( The importance of a feature is computed as the \n",
    "#(normalized) total reduction of the criterion brought by that feature. It is also known as the Gini importance )\n",
    "\n",
    "print (pd.DataFrame(dt_model.feature_importances_, columns = [\"Imp\"], index = X_train.columns))\n"
   ]
  },
  {
   "cell_type": "code",
   "execution_count": 156,
   "metadata": {},
   "outputs": [
    {
     "data": {
      "text/plain": [
       "array([1, 1, 0, 1, 1, 1, 0, 0, 0, 0, 1, 1, 0, 0, 0, 0, 0, 0, 0, 0, 0, 0,\n",
       "       1, 1, 0, 0, 1, 0, 0, 1], dtype=int8)"
      ]
     },
     "execution_count": 156,
     "metadata": {},
     "output_type": "execute_result"
    }
   ],
   "source": [
    "y_predict = dt_model.predict(X_test)\n",
    "y_predict"
   ]
  },
  {
   "cell_type": "markdown",
   "metadata": {
    "collapsed": true
   },
   "source": [
    "#                                      Regularising the Decision Tree"
   ]
  },
  {
   "cell_type": "code",
   "execution_count": 157,
   "metadata": {},
   "outputs": [
    {
     "data": {
      "text/plain": [
       "DecisionTreeClassifier(max_depth=7, min_samples_leaf=10, min_samples_split=30)"
      ]
     },
     "execution_count": 157,
     "metadata": {},
     "output_type": "execute_result"
    }
   ],
   "source": [
    "\n",
    "reg_dt_model = DecisionTreeClassifier(criterion = 'gini', max_depth = 7,min_samples_leaf=10,min_samples_split=30)\n",
    "reg_dt_model.fit(X_train, train_labels)"
   ]
  },
  {
   "cell_type": "code",
   "execution_count": 159,
   "metadata": {},
   "outputs": [
    {
     "name": "stdout",
     "output_type": "stream",
     "text": [
      "                           Imp\n",
      "checking_balance      0.143026\n",
      "months_loan_duration  0.108025\n",
      "credit_history        0.056580\n",
      "purpose               0.052034\n",
      "amount                0.206183\n",
      "savings_balance       0.036204\n",
      "employment_duration   0.040659\n",
      "percent_of_income     0.052178\n",
      "years_at_residence    0.054678\n",
      "age                   0.100295\n",
      "other_credit          0.025990\n",
      "housing               0.027960\n",
      "existing_loans_count  0.031342\n",
      "job                   0.040725\n",
      "dependents            0.017235\n",
      "phone                 0.006886\n"
     ]
    }
   ],
   "source": [
    "credit_tree_regularized = open('C:\\\\Users\\\\Amit.Jain\\\\Desktop\\\\PGP-DSBA\\\\week13_Decision_Tree_CART\\\\credit_tree_regularized.dot','w')\n",
    "dot_data = tree.export_graphviz(reg_dt_model, out_file= credit_tree_regularized , feature_names = list(X_train), class_names = list(train_char_label))\n",
    "\n",
    "credit_tree_regularized.close()\n",
    "\n",
    "print (pd.DataFrame(dt_model.feature_importances_, columns = [\"Imp\"], index = X_train.columns))\n"
   ]
  },
  {
   "cell_type": "code",
   "execution_count": 160,
   "metadata": {},
   "outputs": [],
   "source": [
    "ytrain_predict = reg_dt_model.predict(X_train)\n",
    "ytest_predict = reg_dt_model.predict(X_test)"
   ]
  },
  {
   "cell_type": "code",
   "execution_count": 161,
   "metadata": {},
   "outputs": [],
   "source": [
    "import matplotlib.pyplot as plt"
   ]
  },
  {
   "cell_type": "code",
   "execution_count": 172,
   "metadata": {},
   "outputs": [
    {
     "name": "stdout",
     "output_type": "stream",
     "text": [
      "AUC: 0.855\n"
     ]
    },
    {
     "data": {
      "image/png": "[encoded data removed]",
      "text/plain": [
       "<Figure size 432x288 with 1 Axes>"
      ]
     },
     "metadata": {
      "needs_background": "light"
     },
     "output_type": "display_data"
    }
   ],
   "source": [
    "# AUC and ROC for the training data\n",
    "\n",
    "# predict probabilities\n",
    "probs = reg_dt_model.predict_proba(X_train)\n",
    "# keep probabilities for the positive outcome only\n",
    "probs = probs[:, 1]\n",
    "# calculate AUC\n",
    "from sklearn.metrics import roc_auc_score\n",
    "auc = roc_auc_score(train_labels, probs)\n",
    "print('AUC: %.3f' % auc)\n",
    "# calculate roc curve\n",
    "from sklearn.metrics import roc_curve\n",
    "fpr, tpr, thresholds = roc_curve(train_labels, probs)\n",
    "plt.plot([0, 1], [0, 1], linestyle='--')\n",
    "# plot the roc curve for the model\n",
    "plt.plot(fpr, tpr, marker='.')\n",
    "# show the plot\n",
    "plt.show()"
   ]
  },
  {
   "cell_type": "code",
   "execution_count": 171,
   "metadata": {},
   "outputs": [
    {
     "name": "stdout",
     "output_type": "stream",
     "text": [
      "AUC: 0.780\n"
     ]
    },
    {
     "data": {
      "image/png": "[encoded data removed]",
      "text/plain": [
       "<Figure size 432x288 with 1 Axes>"
      ]
     },
     "metadata": {
      "needs_background": "light"
     },
     "output_type": "display_data"
    }
   ],
   "source": [
    "# AUC and ROC for the test data\n",
    "\n",
    "\n",
    "# predict probabilities\n",
    "probs = reg_dt_model.predict_proba(X_test)\n",
    "# keep probabilities for the positive outcome only\n",
    "probs = probs[:, 1]\n",
    "# calculate AUC\n",
    "from sklearn.metrics import roc_auc_score\n",
    "auc = roc_auc_score(test_labels, probs)\n",
    "print('AUC: %.3f' % auc)\n",
    "# calculate roc curve\n",
    "from sklearn.metrics import roc_curve\n",
    "fpr, tpr, thresholds = roc_curve(test_labels, probs)\n",
    "plt.plot([0, 1], [0, 1], linestyle='--')\n",
    "# plot the roc curve for the model\n",
    "plt.plot(fpr, tpr, marker='.')\n",
    "# show the plot\n",
    "plt.show()"
   ]
  },
  {
   "cell_type": "code",
   "execution_count": 174,
   "metadata": {},
   "outputs": [],
   "source": [
    "from sklearn.metrics import classification_report,confusion_matrix"
   ]
  },
  {
   "cell_type": "code",
   "execution_count": 176,
   "metadata": {},
   "outputs": [
    {
     "name": "stdout",
     "output_type": "stream",
     "text": [
      "              precision    recall  f1-score   support\n",
      "\n",
      "           0       0.84      0.86      0.85       680\n",
      "           1       0.66      0.62      0.64       290\n",
      "\n",
      "    accuracy                           0.79       970\n",
      "   macro avg       0.75      0.74      0.75       970\n",
      "weighted avg       0.79      0.79      0.79       970\n",
      "\n"
     ]
    }
   ],
   "source": [
    "print(classification_report(train_labels, ytrain_predict))"
   ]
  },
  {
   "cell_type": "code",
   "execution_count": 175,
   "metadata": {},
   "outputs": [
    {
     "name": "stdout",
     "output_type": "stream",
     "text": [
      "              precision    recall  f1-score   support\n",
      "\n",
      "           0       0.80      0.80      0.80        20\n",
      "           1       0.60      0.60      0.60        10\n",
      "\n",
      "    accuracy                           0.73        30\n",
      "   macro avg       0.70      0.70      0.70        30\n",
      "weighted avg       0.73      0.73      0.73        30\n",
      "\n"
     ]
    }
   ],
   "source": [
    "print(classification_report(test_labels, ytest_predict))"
   ]
  },
  {
   "cell_type": "code",
   "execution_count": 177,
   "metadata": {},
   "outputs": [
    {
     "data": {
      "text/plain": [
       "array([[586,  94],\n",
       "       [109, 181]], dtype=int64)"
      ]
     },
     "execution_count": 177,
     "metadata": {},
     "output_type": "execute_result"
    }
   ],
   "source": [
    "confusion_matrix(train_labels, ytrain_predict)"
   ]
  },
  {
   "cell_type": "code",
   "execution_count": 178,
   "metadata": {},
   "outputs": [
    {
     "data": {
      "text/plain": [
       "array([[16,  4],\n",
       "       [ 4,  6]], dtype=int64)"
      ]
     },
     "execution_count": 178,
     "metadata": {},
     "output_type": "execute_result"
    }
   ],
   "source": [
    "confusion_matrix(test_labels, ytest_predict)"
   ]
  },
  {
   "cell_type": "code",
   "execution_count": 179,
   "metadata": {},
   "outputs": [
    {
     "data": {
      "text/plain": [
       "0.790721649484536"
      ]
     },
     "execution_count": 179,
     "metadata": {},
     "output_type": "execute_result"
    }
   ],
   "source": [
    "reg_dt_model.score(X_train,train_labels)"
   ]
  },
  {
   "cell_type": "code",
   "execution_count": 180,
   "metadata": {},
   "outputs": [
    {
     "data": {
      "text/plain": [
       "0.7333333333333333"
      ]
     },
     "execution_count": 180,
     "metadata": {},
     "output_type": "execute_result"
    }
   ],
   "source": [
    "reg_dt_model.score(X_test,test_labels)"
   ]
  },
  {
   "cell_type": "code",
   "execution_count": null,
   "metadata": {},
   "outputs": [],
   "source": []
  },
  {
   "cell_type": "code",
   "execution_count": null,
   "metadata": {},
   "outputs": [],
   "source": []
  }
 ],
 "metadata": {
  "kernelspec": {
   "display_name": "Python 3",
   "language": "python",
   "name": "python3"
  },
  "language_info": {
   "codemirror_mode": {
    "name": "ipython",
    "version": 3
   },
   "file_extension": ".py",
   "mimetype": "text/x-python",
   "name": "python",
   "nbconvert_exporter": "python",
   "pygments_lexer": "ipython3",
   "version": "3.8.8"
  }
 },
 "nbformat": 4,
 "nbformat_minor": 2
}
