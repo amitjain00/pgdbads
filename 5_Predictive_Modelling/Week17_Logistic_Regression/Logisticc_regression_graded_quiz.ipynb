{
 "cells": [
  {
   "cell_type": "markdown",
   "id": "257597c0",
   "metadata": {},
   "source": [
    "# Background of the case\n",
    "During the year 2018, the Canadian Goverment received an appeal that prisioners were being wrongfully convicted and the issue gained mass amounts of traction. Thus, the government appointed a team to look into the issue by conducting lie detector tests on 1372 prisoners across various states and provinces of the country. The team has done the basic checks and accordingly given the Variance, Skewness, Kurtosis and Entropy of the Responses obtained by the lie detector test. These are predictors for the Dependent Variable which states whether the response being considered belongs to a liar or not a liar. (These variables are to be treated as Independent Variables only, and no variance, skewness, kurtosis, entropy needs to be calculated for the analysis.)\n",
    "\n",
    "Data Dictionary\n",
    "The dataset consists of the following variables:\n",
    "\n",
    "X1 : Prisoner ID\n",
    "X2 : Variance of responses obtained.\n",
    "X3 : Skewness of responses obtained.\n",
    "X4 : Kurtosis of responses obtained.\n",
    "X5 : Entropy of responses.\n",
    "X6 : Class of person, 0 means the person is not a liar, and 1 means that the person is a liar."
   ]
  },
  {
   "cell_type": "code",
   "execution_count": 45,
   "id": "a08ae471",
   "metadata": {},
   "outputs": [],
   "source": [
    "import pandas as pd\n",
    "from sklearn.linear_model import LogisticRegression\n",
    "\n",
    "# importing ploting libraries\n",
    "import matplotlib.pyplot as plt   \n",
    "\n",
    "#importing seaborn for statistical plots\n",
    "import seaborn as sns\n",
    "\n",
    "#Let us break the X and y dataframes into training set and test set. For this we will use\n",
    "#Sklearn package's data splitting function which is based on random function\n",
    "\n",
    "from sklearn.model_selection import train_test_split\n",
    "\n",
    "import numpy as np\n",
    "\n",
    "\n",
    "# calculate accuracy measures and confusion matrix\n",
    "from sklearn import metrics\n",
    "\n",
    "# !pip install imblearn\n",
    "\n",
    "# To enable plotting graphs in Jupyter notebook\n",
    "%matplotlib inline "
   ]
  },
  {
   "cell_type": "code",
   "execution_count": 46,
   "id": "57333215",
   "metadata": {},
   "outputs": [
    {
     "data": {
      "text/html": [
       "<div>\n",
       "<style scoped>\n",
       "    .dataframe tbody tr th:only-of-type {\n",
       "        vertical-align: middle;\n",
       "    }\n",
       "\n",
       "    .dataframe tbody tr th {\n",
       "        vertical-align: top;\n",
       "    }\n",
       "\n",
       "    .dataframe thead th {\n",
       "        text-align: right;\n",
       "    }\n",
       "</style>\n",
       "<table border=\"1\" class=\"dataframe\">\n",
       "  <thead>\n",
       "    <tr style=\"text-align: right;\">\n",
       "      <th></th>\n",
       "      <th>X1</th>\n",
       "      <th>X2</th>\n",
       "      <th>X3</th>\n",
       "      <th>X4</th>\n",
       "      <th>X5</th>\n",
       "      <th>X6</th>\n",
       "    </tr>\n",
       "  </thead>\n",
       "  <tbody>\n",
       "    <tr>\n",
       "      <th>0</th>\n",
       "      <td>P_001</td>\n",
       "      <td>3.6216</td>\n",
       "      <td>8.6661</td>\n",
       "      <td>-2.8073</td>\n",
       "      <td>-0.44699</td>\n",
       "      <td>0</td>\n",
       "    </tr>\n",
       "    <tr>\n",
       "      <th>1</th>\n",
       "      <td>P_002</td>\n",
       "      <td>4.5459</td>\n",
       "      <td>8.1674</td>\n",
       "      <td>-2.4586</td>\n",
       "      <td>-1.46210</td>\n",
       "      <td>0</td>\n",
       "    </tr>\n",
       "    <tr>\n",
       "      <th>2</th>\n",
       "      <td>P_003</td>\n",
       "      <td>3.8660</td>\n",
       "      <td>-2.6383</td>\n",
       "      <td>1.9242</td>\n",
       "      <td>0.10645</td>\n",
       "      <td>0</td>\n",
       "    </tr>\n",
       "    <tr>\n",
       "      <th>3</th>\n",
       "      <td>P_004</td>\n",
       "      <td>3.4566</td>\n",
       "      <td>9.5228</td>\n",
       "      <td>-4.0112</td>\n",
       "      <td>-3.59440</td>\n",
       "      <td>0</td>\n",
       "    </tr>\n",
       "    <tr>\n",
       "      <th>4</th>\n",
       "      <td>P_005</td>\n",
       "      <td>0.2323</td>\n",
       "      <td>-4.4552</td>\n",
       "      <td>4.5718</td>\n",
       "      <td>-0.98880</td>\n",
       "      <td>0</td>\n",
       "    </tr>\n",
       "  </tbody>\n",
       "</table>\n",
       "</div>"
      ],
      "text/plain": [
       "      X1      X2      X3      X4       X5  X6\n",
       "0  P_001  3.6216  8.6661 -2.8073 -0.44699   0\n",
       "1  P_002  4.5459  8.1674 -2.4586 -1.46210   0\n",
       "2  P_003  3.8660 -2.6383  1.9242  0.10645   0\n",
       "3  P_004  3.4566  9.5228 -4.0112 -3.59440   0\n",
       "4  P_005  0.2323 -4.4552  4.5718 -0.98880   0"
      ]
     },
     "execution_count": 46,
     "metadata": {},
     "output_type": "execute_result"
    }
   ],
   "source": [
    "df=pd.read_csv(\"liedetector.csv\")\n",
    "df.head()"
   ]
  },
  {
   "cell_type": "code",
   "execution_count": 47,
   "id": "b00a9419",
   "metadata": {},
   "outputs": [
    {
     "data": {
      "text/plain": [
       "['Prisoner ID',\n",
       " 'Variance of responses obtained',\n",
       " 'Skewness of responses obtained',\n",
       " 'Kurtosis of responses obtained',\n",
       " 'Entropy of responses',\n",
       " 'Class of person']"
      ]
     },
     "execution_count": 47,
     "metadata": {},
     "output_type": "execute_result"
    }
   ],
   "source": [
    "col_list=['Prisoner ID',\n",
    "          'Variance of responses obtained',\n",
    "          'Skewness of responses obtained',\n",
    "          'Kurtosis of responses obtained',\n",
    "          'Entropy of responses',\n",
    "          'Class of person']\n",
    "          ##0 means the person is not a liar, and 1 means that the person is a liar.\n",
    "col_list"
   ]
  },
  {
   "cell_type": "code",
   "execution_count": 48,
   "id": "adeb29c5",
   "metadata": {},
   "outputs": [
    {
     "data": {
      "text/html": [
       "<div>\n",
       "<style scoped>\n",
       "    .dataframe tbody tr th:only-of-type {\n",
       "        vertical-align: middle;\n",
       "    }\n",
       "\n",
       "    .dataframe tbody tr th {\n",
       "        vertical-align: top;\n",
       "    }\n",
       "\n",
       "    .dataframe thead th {\n",
       "        text-align: right;\n",
       "    }\n",
       "</style>\n",
       "<table border=\"1\" class=\"dataframe\">\n",
       "  <thead>\n",
       "    <tr style=\"text-align: right;\">\n",
       "      <th></th>\n",
       "      <th>Prisoner ID</th>\n",
       "      <th>Variance of responses obtained</th>\n",
       "      <th>Skewness of responses obtained</th>\n",
       "      <th>Kurtosis of responses obtained</th>\n",
       "      <th>Entropy of responses</th>\n",
       "      <th>Class of person</th>\n",
       "    </tr>\n",
       "  </thead>\n",
       "  <tbody>\n",
       "    <tr>\n",
       "      <th>0</th>\n",
       "      <td>P_001</td>\n",
       "      <td>3.6216</td>\n",
       "      <td>8.6661</td>\n",
       "      <td>-2.8073</td>\n",
       "      <td>-0.44699</td>\n",
       "      <td>0</td>\n",
       "    </tr>\n",
       "    <tr>\n",
       "      <th>1</th>\n",
       "      <td>P_002</td>\n",
       "      <td>4.5459</td>\n",
       "      <td>8.1674</td>\n",
       "      <td>-2.4586</td>\n",
       "      <td>-1.46210</td>\n",
       "      <td>0</td>\n",
       "    </tr>\n",
       "    <tr>\n",
       "      <th>2</th>\n",
       "      <td>P_003</td>\n",
       "      <td>3.8660</td>\n",
       "      <td>-2.6383</td>\n",
       "      <td>1.9242</td>\n",
       "      <td>0.10645</td>\n",
       "      <td>0</td>\n",
       "    </tr>\n",
       "    <tr>\n",
       "      <th>3</th>\n",
       "      <td>P_004</td>\n",
       "      <td>3.4566</td>\n",
       "      <td>9.5228</td>\n",
       "      <td>-4.0112</td>\n",
       "      <td>-3.59440</td>\n",
       "      <td>0</td>\n",
       "    </tr>\n",
       "    <tr>\n",
       "      <th>4</th>\n",
       "      <td>P_005</td>\n",
       "      <td>0.2323</td>\n",
       "      <td>-4.4552</td>\n",
       "      <td>4.5718</td>\n",
       "      <td>-0.98880</td>\n",
       "      <td>0</td>\n",
       "    </tr>\n",
       "  </tbody>\n",
       "</table>\n",
       "</div>"
      ],
      "text/plain": [
       "  Prisoner ID  Variance of responses obtained  Skewness of responses obtained  \\\n",
       "0       P_001                          3.6216                          8.6661   \n",
       "1       P_002                          4.5459                          8.1674   \n",
       "2       P_003                          3.8660                         -2.6383   \n",
       "3       P_004                          3.4566                          9.5228   \n",
       "4       P_005                          0.2323                         -4.4552   \n",
       "\n",
       "   Kurtosis of responses obtained  Entropy of responses  Class of person  \n",
       "0                         -2.8073              -0.44699                0  \n",
       "1                         -2.4586              -1.46210                0  \n",
       "2                          1.9242               0.10645                0  \n",
       "3                         -4.0112              -3.59440                0  \n",
       "4                          4.5718              -0.98880                0  "
      ]
     },
     "execution_count": 48,
     "metadata": {},
     "output_type": "execute_result"
    }
   ],
   "source": [
    "df.columns=col_list\n",
    "df.head()"
   ]
  },
  {
   "cell_type": "code",
   "execution_count": 49,
   "id": "13cbf3cd",
   "metadata": {},
   "outputs": [
    {
     "data": {
      "text/plain": [
       "0    814\n",
       "1    558\n",
       "Name: Class of person, dtype: int64"
      ]
     },
     "execution_count": 49,
     "metadata": {},
     "output_type": "execute_result"
    }
   ],
   "source": [
    "df['Class of person'].value_counts()"
   ]
  },
  {
   "cell_type": "code",
   "execution_count": 50,
   "id": "6916c773",
   "metadata": {},
   "outputs": [
    {
     "data": {
      "text/plain": [
       "(1372, 6)"
      ]
     },
     "execution_count": 50,
     "metadata": {},
     "output_type": "execute_result"
    }
   ],
   "source": [
    "df.shape"
   ]
  },
  {
   "cell_type": "code",
   "execution_count": 51,
   "id": "5799d130",
   "metadata": {},
   "outputs": [
    {
     "data": {
      "text/plain": [
       "Prisoner ID                       0\n",
       "Variance of responses obtained    0\n",
       "Skewness of responses obtained    0\n",
       "Kurtosis of responses obtained    0\n",
       "Entropy of responses              0\n",
       "Class of person                   0\n",
       "dtype: int64"
      ]
     },
     "execution_count": 51,
     "metadata": {},
     "output_type": "execute_result"
    }
   ],
   "source": [
    "df.isnull().sum()"
   ]
  },
  {
   "cell_type": "code",
   "execution_count": 52,
   "id": "69efc372",
   "metadata": {},
   "outputs": [
    {
     "name": "stdout",
     "output_type": "stream",
     "text": [
      "<class 'pandas.core.frame.DataFrame'>\n",
      "RangeIndex: 1372 entries, 0 to 1371\n",
      "Data columns (total 6 columns):\n",
      " #   Column                          Non-Null Count  Dtype  \n",
      "---  ------                          --------------  -----  \n",
      " 0   Prisoner ID                     1372 non-null   object \n",
      " 1   Variance of responses obtained  1372 non-null   float64\n",
      " 2   Skewness of responses obtained  1372 non-null   float64\n",
      " 3   Kurtosis of responses obtained  1372 non-null   float64\n",
      " 4   Entropy of responses            1372 non-null   float64\n",
      " 5   Class of person                 1372 non-null   int64  \n",
      "dtypes: float64(4), int64(1), object(1)\n",
      "memory usage: 64.4+ KB\n"
     ]
    }
   ],
   "source": [
    "df.info()"
   ]
  },
  {
   "cell_type": "code",
   "execution_count": 53,
   "id": "e2d51109",
   "metadata": {},
   "outputs": [
    {
     "data": {
      "text/html": [
       "<div>\n",
       "<style scoped>\n",
       "    .dataframe tbody tr th:only-of-type {\n",
       "        vertical-align: middle;\n",
       "    }\n",
       "\n",
       "    .dataframe tbody tr th {\n",
       "        vertical-align: top;\n",
       "    }\n",
       "\n",
       "    .dataframe thead th {\n",
       "        text-align: right;\n",
       "    }\n",
       "</style>\n",
       "<table border=\"1\" class=\"dataframe\">\n",
       "  <thead>\n",
       "    <tr style=\"text-align: right;\">\n",
       "      <th></th>\n",
       "      <th>count</th>\n",
       "      <th>mean</th>\n",
       "      <th>std</th>\n",
       "      <th>min</th>\n",
       "      <th>25%</th>\n",
       "      <th>50%</th>\n",
       "      <th>75%</th>\n",
       "      <th>max</th>\n",
       "    </tr>\n",
       "  </thead>\n",
       "  <tbody>\n",
       "    <tr>\n",
       "      <th>Variance of responses obtained</th>\n",
       "      <td>1372.0</td>\n",
       "      <td>0.433665</td>\n",
       "      <td>2.842766</td>\n",
       "      <td>-7.0421</td>\n",
       "      <td>-1.773000</td>\n",
       "      <td>0.49618</td>\n",
       "      <td>2.821475</td>\n",
       "      <td>6.8248</td>\n",
       "    </tr>\n",
       "    <tr>\n",
       "      <th>Skewness of responses obtained</th>\n",
       "      <td>1372.0</td>\n",
       "      <td>1.922353</td>\n",
       "      <td>5.869047</td>\n",
       "      <td>-13.7731</td>\n",
       "      <td>-1.708200</td>\n",
       "      <td>2.31965</td>\n",
       "      <td>6.814625</td>\n",
       "      <td>12.9516</td>\n",
       "    </tr>\n",
       "    <tr>\n",
       "      <th>Kurtosis of responses obtained</th>\n",
       "      <td>1372.0</td>\n",
       "      <td>1.397627</td>\n",
       "      <td>4.310030</td>\n",
       "      <td>-5.2861</td>\n",
       "      <td>-1.574975</td>\n",
       "      <td>0.61663</td>\n",
       "      <td>3.179250</td>\n",
       "      <td>17.9274</td>\n",
       "    </tr>\n",
       "    <tr>\n",
       "      <th>Entropy of responses</th>\n",
       "      <td>1372.0</td>\n",
       "      <td>-1.191657</td>\n",
       "      <td>2.101013</td>\n",
       "      <td>-8.5482</td>\n",
       "      <td>-2.413450</td>\n",
       "      <td>-0.58665</td>\n",
       "      <td>0.394810</td>\n",
       "      <td>2.4495</td>\n",
       "    </tr>\n",
       "    <tr>\n",
       "      <th>Class of person</th>\n",
       "      <td>1372.0</td>\n",
       "      <td>0.406706</td>\n",
       "      <td>0.491398</td>\n",
       "      <td>0.0000</td>\n",
       "      <td>0.000000</td>\n",
       "      <td>0.00000</td>\n",
       "      <td>1.000000</td>\n",
       "      <td>1.0000</td>\n",
       "    </tr>\n",
       "  </tbody>\n",
       "</table>\n",
       "</div>"
      ],
      "text/plain": [
       "                                 count      mean       std      min       25%  \\\n",
       "Variance of responses obtained  1372.0  0.433665  2.842766  -7.0421 -1.773000   \n",
       "Skewness of responses obtained  1372.0  1.922353  5.869047 -13.7731 -1.708200   \n",
       "Kurtosis of responses obtained  1372.0  1.397627  4.310030  -5.2861 -1.574975   \n",
       "Entropy of responses            1372.0 -1.191657  2.101013  -8.5482 -2.413450   \n",
       "Class of person                 1372.0  0.406706  0.491398   0.0000  0.000000   \n",
       "\n",
       "                                    50%       75%      max  \n",
       "Variance of responses obtained  0.49618  2.821475   6.8248  \n",
       "Skewness of responses obtained  2.31965  6.814625  12.9516  \n",
       "Kurtosis of responses obtained  0.61663  3.179250  17.9274  \n",
       "Entropy of responses           -0.58665  0.394810   2.4495  \n",
       "Class of person                 0.00000  1.000000   1.0000  "
      ]
     },
     "execution_count": 53,
     "metadata": {},
     "output_type": "execute_result"
    }
   ],
   "source": [
    "df.describe().T"
   ]
  },
  {
   "cell_type": "code",
   "execution_count": 54,
   "id": "11a7e43b",
   "metadata": {},
   "outputs": [],
   "source": [
    "df.drop('Prisoner ID',axis=1,inplace=True)"
   ]
  },
  {
   "cell_type": "code",
   "execution_count": 55,
   "id": "7031e8e5",
   "metadata": {},
   "outputs": [
    {
     "data": {
      "text/html": [
       "<div>\n",
       "<style scoped>\n",
       "    .dataframe tbody tr th:only-of-type {\n",
       "        vertical-align: middle;\n",
       "    }\n",
       "\n",
       "    .dataframe tbody tr th {\n",
       "        vertical-align: top;\n",
       "    }\n",
       "\n",
       "    .dataframe thead th {\n",
       "        text-align: right;\n",
       "    }\n",
       "</style>\n",
       "<table border=\"1\" class=\"dataframe\">\n",
       "  <thead>\n",
       "    <tr style=\"text-align: right;\">\n",
       "      <th></th>\n",
       "      <th>Variance of responses obtained</th>\n",
       "      <th>Skewness of responses obtained</th>\n",
       "      <th>Kurtosis of responses obtained</th>\n",
       "      <th>Entropy of responses</th>\n",
       "      <th>Class of person</th>\n",
       "    </tr>\n",
       "  </thead>\n",
       "  <tbody>\n",
       "    <tr>\n",
       "      <th>0</th>\n",
       "      <td>3.6216</td>\n",
       "      <td>8.6661</td>\n",
       "      <td>-2.8073</td>\n",
       "      <td>-0.44699</td>\n",
       "      <td>0</td>\n",
       "    </tr>\n",
       "    <tr>\n",
       "      <th>1</th>\n",
       "      <td>4.5459</td>\n",
       "      <td>8.1674</td>\n",
       "      <td>-2.4586</td>\n",
       "      <td>-1.46210</td>\n",
       "      <td>0</td>\n",
       "    </tr>\n",
       "    <tr>\n",
       "      <th>2</th>\n",
       "      <td>3.8660</td>\n",
       "      <td>-2.6383</td>\n",
       "      <td>1.9242</td>\n",
       "      <td>0.10645</td>\n",
       "      <td>0</td>\n",
       "    </tr>\n",
       "    <tr>\n",
       "      <th>3</th>\n",
       "      <td>3.4566</td>\n",
       "      <td>9.5228</td>\n",
       "      <td>-4.0112</td>\n",
       "      <td>-3.59440</td>\n",
       "      <td>0</td>\n",
       "    </tr>\n",
       "    <tr>\n",
       "      <th>4</th>\n",
       "      <td>0.2323</td>\n",
       "      <td>-4.4552</td>\n",
       "      <td>4.5718</td>\n",
       "      <td>-0.98880</td>\n",
       "      <td>0</td>\n",
       "    </tr>\n",
       "  </tbody>\n",
       "</table>\n",
       "</div>"
      ],
      "text/plain": [
       "   Variance of responses obtained  Skewness of responses obtained  \\\n",
       "0                          3.6216                          8.6661   \n",
       "1                          4.5459                          8.1674   \n",
       "2                          3.8660                         -2.6383   \n",
       "3                          3.4566                          9.5228   \n",
       "4                          0.2323                         -4.4552   \n",
       "\n",
       "   Kurtosis of responses obtained  Entropy of responses  Class of person  \n",
       "0                         -2.8073              -0.44699                0  \n",
       "1                         -2.4586              -1.46210                0  \n",
       "2                          1.9242               0.10645                0  \n",
       "3                         -4.0112              -3.59440                0  \n",
       "4                          4.5718              -0.98880                0  "
      ]
     },
     "execution_count": 55,
     "metadata": {},
     "output_type": "execute_result"
    }
   ],
   "source": [
    "df.head()"
   ]
  },
  {
   "cell_type": "code",
   "execution_count": 27,
   "id": "b28ef208",
   "metadata": {},
   "outputs": [],
   "source": [
    "X = df.drop('Class of person',axis=1)\n",
    "Y = df['Class of person']"
   ]
  },
  {
   "cell_type": "code",
   "execution_count": 56,
   "id": "e5afb44f",
   "metadata": {},
   "outputs": [],
   "source": [
    "model = LogisticRegression(max_iter=1000)\n",
    "model.fit(X, Y)\n",
    "y_predict = model.predict(X)"
   ]
  },
  {
   "cell_type": "code",
   "execution_count": 57,
   "id": "a479e9e3",
   "metadata": {},
   "outputs": [
    {
     "name": "stdout",
     "output_type": "stream",
     "text": [
      "Accuracy Score is  0.8411078717201166\n"
     ]
    }
   ],
   "source": [
    "model_score = model.score(X, Y)\n",
    "print('Accuracy Score is ',model_score)"
   ]
  },
  {
   "cell_type": "code",
   "execution_count": 58,
   "id": "8a2b210b",
   "metadata": {},
   "outputs": [
    {
     "name": "stdout",
     "output_type": "stream",
     "text": [
      "Confusion Matrix \n",
      " [[674 140]\n",
      " [ 78 480]] \n",
      "\n",
      "Classification Report \n",
      "               precision    recall  f1-score   support\n",
      "\n",
      "           0       0.90      0.83      0.86       814\n",
      "           1       0.77      0.86      0.81       558\n",
      "\n",
      "    accuracy                           0.84      1372\n",
      "   macro avg       0.84      0.84      0.84      1372\n",
      "weighted avg       0.85      0.84      0.84      1372\n",
      "\n"
     ]
    }
   ],
   "source": [
    "print('Confusion Matrix','\\n',metrics.confusion_matrix(Y, y_predict),'\\n')\n",
    "print('Classification Report','\\n',metrics.classification_report(Y, y_predict))"
   ]
  },
  {
   "cell_type": "code",
   "execution_count": 60,
   "id": "36615bbd",
   "metadata": {},
   "outputs": [],
   "source": [
    "from sklearn.metrics import roc_auc_score\n",
    "from sklearn.metrics import roc_curve"
   ]
  },
  {
   "cell_type": "code",
   "execution_count": 63,
   "id": "9aacdbde",
   "metadata": {},
   "outputs": [
    {
     "name": "stdout",
     "output_type": "stream",
     "text": [
      "0.8517245251116219\n"
     ]
    }
   ],
   "source": [
    "y_pred_proba = model.predict_proba(X)[::,1]\n",
    "\n",
    "#calculate AUC of model\n",
    "auc = metrics.roc_auc_score(Y, y_pred_proba)\n",
    "\n",
    "#print AUC score\n",
    "print(auc)\n"
   ]
  },
  {
   "cell_type": "code",
   "execution_count": null,
   "id": "d76dac25",
   "metadata": {},
   "outputs": [],
   "source": []
  },
  {
   "cell_type": "code",
   "execution_count": null,
   "id": "420a5ebd",
   "metadata": {},
   "outputs": [],
   "source": []
  },
  {
   "cell_type": "code",
   "execution_count": null,
   "id": "e7ce0aa7",
   "metadata": {},
   "outputs": [],
   "source": []
  },
  {
   "cell_type": "code",
   "execution_count": null,
   "id": "cc471036",
   "metadata": {},
   "outputs": [],
   "source": []
  },
  {
   "cell_type": "code",
   "execution_count": null,
   "id": "9a3c9a2d",
   "metadata": {},
   "outputs": [],
   "source": []
  }
 ],
 "metadata": {
  "kernelspec": {
   "display_name": "Python 3",
   "language": "python",
   "name": "python3"
  },
  "language_info": {
   "codemirror_mode": {
    "name": "ipython",
    "version": 3
   },
   "file_extension": ".py",
   "mimetype": "text/x-python",
   "name": "python",
   "nbconvert_exporter": "python",
   "pygments_lexer": "ipython3",
   "version": "3.8.8"
  }
 },
 "nbformat": 4,
 "nbformat_minor": 5
}
