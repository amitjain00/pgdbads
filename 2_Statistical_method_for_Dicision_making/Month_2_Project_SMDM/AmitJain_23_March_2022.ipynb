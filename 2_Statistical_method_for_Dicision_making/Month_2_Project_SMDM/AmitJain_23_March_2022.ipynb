{
 "cells": [
  {
   "cell_type": "code",
   "execution_count": 3,
   "id": "42d393f7",
   "metadata": {},
   "outputs": [],
   "source": [
    "import numpy as np\n",
    "import pandas as pd\n",
    "pd.set_option('display.float_format', lambda x: '%.2f' % x)\n",
    "import scipy.stats as stats"
   ]
  },
  {
   "cell_type": "code",
   "execution_count": 5,
   "id": "3f9507ca",
   "metadata": {},
   "outputs": [],
   "source": [
    "## Import all necessary Libraries\n",
    "import pandas as pd\n",
    "import numpy as np\n",
    "import seaborn as sns\n",
    "import matplotlib.pyplot as plt\n",
    "%matplotlib inline\n",
    "import statsmodels.api as sm\n",
    "from scipy.stats import norm\n",
    "import pylab"
   ]
  },
  {
   "cell_type": "code",
   "execution_count": null,
   "id": "d6ad7b8d",
   "metadata": {},
   "outputs": [],
   "source": []
  },
  {
   "cell_type": "markdown",
   "id": "54997ea4",
   "metadata": {},
   "source": [
    "# Solving Problem 1\n",
    "## Wholesale Customers Analysis (Download Data) \n",
    "### Problem Statement: A wholesale distributor operating in different regions of Portugal has information on annual spending of several items in their stores across different regions and channels. The data consists of 440 large retailers’ annual spending on 6 different varieties of products in 3 different regions (Lisbon, Oporto, Other) and across different sales channel (Hotel, Retail).\n"
   ]
  },
  {
   "cell_type": "code",
   "execution_count": 6,
   "id": "17dbdb3c",
   "metadata": {},
   "outputs": [
    {
     "data": {
      "text/html": [
       "<div>\n",
       "<style scoped>\n",
       "    .dataframe tbody tr th:only-of-type {\n",
       "        vertical-align: middle;\n",
       "    }\n",
       "\n",
       "    .dataframe tbody tr th {\n",
       "        vertical-align: top;\n",
       "    }\n",
       "\n",
       "    .dataframe thead th {\n",
       "        text-align: right;\n",
       "    }\n",
       "</style>\n",
       "<table border=\"1\" class=\"dataframe\">\n",
       "  <thead>\n",
       "    <tr style=\"text-align: right;\">\n",
       "      <th></th>\n",
       "      <th>Buyer/Spender</th>\n",
       "      <th>Channel</th>\n",
       "      <th>Region</th>\n",
       "      <th>Fresh</th>\n",
       "      <th>Milk</th>\n",
       "      <th>Grocery</th>\n",
       "      <th>Frozen</th>\n",
       "      <th>Detergents_Paper</th>\n",
       "      <th>Delicatessen</th>\n",
       "    </tr>\n",
       "  </thead>\n",
       "  <tbody>\n",
       "    <tr>\n",
       "      <th>0</th>\n",
       "      <td>1</td>\n",
       "      <td>Retail</td>\n",
       "      <td>Other</td>\n",
       "      <td>12669</td>\n",
       "      <td>9656</td>\n",
       "      <td>7561</td>\n",
       "      <td>214</td>\n",
       "      <td>2674</td>\n",
       "      <td>1338</td>\n",
       "    </tr>\n",
       "    <tr>\n",
       "      <th>1</th>\n",
       "      <td>2</td>\n",
       "      <td>Retail</td>\n",
       "      <td>Other</td>\n",
       "      <td>7057</td>\n",
       "      <td>9810</td>\n",
       "      <td>9568</td>\n",
       "      <td>1762</td>\n",
       "      <td>3293</td>\n",
       "      <td>1776</td>\n",
       "    </tr>\n",
       "    <tr>\n",
       "      <th>2</th>\n",
       "      <td>3</td>\n",
       "      <td>Retail</td>\n",
       "      <td>Other</td>\n",
       "      <td>6353</td>\n",
       "      <td>8808</td>\n",
       "      <td>7684</td>\n",
       "      <td>2405</td>\n",
       "      <td>3516</td>\n",
       "      <td>7844</td>\n",
       "    </tr>\n",
       "    <tr>\n",
       "      <th>3</th>\n",
       "      <td>4</td>\n",
       "      <td>Hotel</td>\n",
       "      <td>Other</td>\n",
       "      <td>13265</td>\n",
       "      <td>1196</td>\n",
       "      <td>4221</td>\n",
       "      <td>6404</td>\n",
       "      <td>507</td>\n",
       "      <td>1788</td>\n",
       "    </tr>\n",
       "    <tr>\n",
       "      <th>4</th>\n",
       "      <td>5</td>\n",
       "      <td>Retail</td>\n",
       "      <td>Other</td>\n",
       "      <td>22615</td>\n",
       "      <td>5410</td>\n",
       "      <td>7198</td>\n",
       "      <td>3915</td>\n",
       "      <td>1777</td>\n",
       "      <td>5185</td>\n",
       "    </tr>\n",
       "  </tbody>\n",
       "</table>\n",
       "</div>"
      ],
      "text/plain": [
       "   Buyer/Spender Channel Region  Fresh  Milk  Grocery  Frozen  \\\n",
       "0              1  Retail  Other  12669  9656     7561     214   \n",
       "1              2  Retail  Other   7057  9810     9568    1762   \n",
       "2              3  Retail  Other   6353  8808     7684    2405   \n",
       "3              4   Hotel  Other  13265  1196     4221    6404   \n",
       "4              5  Retail  Other  22615  5410     7198    3915   \n",
       "\n",
       "   Detergents_Paper  Delicatessen  \n",
       "0              2674          1338  \n",
       "1              3293          1776  \n",
       "2              3516          7844  \n",
       "3               507          1788  \n",
       "4              1777          5185  "
      ]
     },
     "execution_count": 6,
     "metadata": {},
     "output_type": "execute_result"
    }
   ],
   "source": [
    "##Load the data set \n",
    "df= pd.read_csv(\"Wholesale+Customers+Data.csv\")\n",
    "\n",
    "# Check Data top rows\n",
    "df.head()"
   ]
  },
  {
   "cell_type": "code",
   "execution_count": 7,
   "id": "361e1bc4",
   "metadata": {},
   "outputs": [
    {
     "name": "stdout",
     "output_type": "stream",
     "text": [
      "<class 'pandas.core.frame.DataFrame'>\n",
      "RangeIndex: 440 entries, 0 to 439\n",
      "Data columns (total 9 columns):\n",
      " #   Column            Non-Null Count  Dtype \n",
      "---  ------            --------------  ----- \n",
      " 0   Buyer/Spender     440 non-null    int64 \n",
      " 1   Channel           440 non-null    object\n",
      " 2   Region            440 non-null    object\n",
      " 3   Fresh             440 non-null    int64 \n",
      " 4   Milk              440 non-null    int64 \n",
      " 5   Grocery           440 non-null    int64 \n",
      " 6   Frozen            440 non-null    int64 \n",
      " 7   Detergents_Paper  440 non-null    int64 \n",
      " 8   Delicatessen      440 non-null    int64 \n",
      "dtypes: int64(7), object(2)\n",
      "memory usage: 31.1+ KB\n"
     ]
    }
   ],
   "source": [
    "## Check Data information\n",
    "df.info()"
   ]
  },
  {
   "cell_type": "code",
   "execution_count": 8,
   "id": "ef9b5e40",
   "metadata": {},
   "outputs": [
    {
     "data": {
      "text/html": [
       "<div>\n",
       "<style scoped>\n",
       "    .dataframe tbody tr th:only-of-type {\n",
       "        vertical-align: middle;\n",
       "    }\n",
       "\n",
       "    .dataframe tbody tr th {\n",
       "        vertical-align: top;\n",
       "    }\n",
       "\n",
       "    .dataframe thead th {\n",
       "        text-align: right;\n",
       "    }\n",
       "</style>\n",
       "<table border=\"1\" class=\"dataframe\">\n",
       "  <thead>\n",
       "    <tr style=\"text-align: right;\">\n",
       "      <th></th>\n",
       "      <th>Buyer/Spender</th>\n",
       "      <th>Channel</th>\n",
       "      <th>Region</th>\n",
       "      <th>Fresh</th>\n",
       "      <th>Milk</th>\n",
       "      <th>Grocery</th>\n",
       "      <th>Frozen</th>\n",
       "      <th>Detergents_Paper</th>\n",
       "      <th>Delicatessen</th>\n",
       "    </tr>\n",
       "  </thead>\n",
       "  <tbody>\n",
       "    <tr>\n",
       "      <th>count</th>\n",
       "      <td>440.00</td>\n",
       "      <td>440</td>\n",
       "      <td>440</td>\n",
       "      <td>440.00</td>\n",
       "      <td>440.00</td>\n",
       "      <td>440.00</td>\n",
       "      <td>440.00</td>\n",
       "      <td>440.00</td>\n",
       "      <td>440.00</td>\n",
       "    </tr>\n",
       "    <tr>\n",
       "      <th>unique</th>\n",
       "      <td>NaN</td>\n",
       "      <td>2</td>\n",
       "      <td>3</td>\n",
       "      <td>NaN</td>\n",
       "      <td>NaN</td>\n",
       "      <td>NaN</td>\n",
       "      <td>NaN</td>\n",
       "      <td>NaN</td>\n",
       "      <td>NaN</td>\n",
       "    </tr>\n",
       "    <tr>\n",
       "      <th>top</th>\n",
       "      <td>NaN</td>\n",
       "      <td>Hotel</td>\n",
       "      <td>Other</td>\n",
       "      <td>NaN</td>\n",
       "      <td>NaN</td>\n",
       "      <td>NaN</td>\n",
       "      <td>NaN</td>\n",
       "      <td>NaN</td>\n",
       "      <td>NaN</td>\n",
       "    </tr>\n",
       "    <tr>\n",
       "      <th>freq</th>\n",
       "      <td>NaN</td>\n",
       "      <td>298</td>\n",
       "      <td>316</td>\n",
       "      <td>NaN</td>\n",
       "      <td>NaN</td>\n",
       "      <td>NaN</td>\n",
       "      <td>NaN</td>\n",
       "      <td>NaN</td>\n",
       "      <td>NaN</td>\n",
       "    </tr>\n",
       "    <tr>\n",
       "      <th>mean</th>\n",
       "      <td>220.50</td>\n",
       "      <td>NaN</td>\n",
       "      <td>NaN</td>\n",
       "      <td>12000.30</td>\n",
       "      <td>5796.27</td>\n",
       "      <td>7951.28</td>\n",
       "      <td>3071.93</td>\n",
       "      <td>2881.49</td>\n",
       "      <td>1524.87</td>\n",
       "    </tr>\n",
       "    <tr>\n",
       "      <th>std</th>\n",
       "      <td>127.16</td>\n",
       "      <td>NaN</td>\n",
       "      <td>NaN</td>\n",
       "      <td>12647.33</td>\n",
       "      <td>7380.38</td>\n",
       "      <td>9503.16</td>\n",
       "      <td>4854.67</td>\n",
       "      <td>4767.85</td>\n",
       "      <td>2820.11</td>\n",
       "    </tr>\n",
       "    <tr>\n",
       "      <th>min</th>\n",
       "      <td>1.00</td>\n",
       "      <td>NaN</td>\n",
       "      <td>NaN</td>\n",
       "      <td>3.00</td>\n",
       "      <td>55.00</td>\n",
       "      <td>3.00</td>\n",
       "      <td>25.00</td>\n",
       "      <td>3.00</td>\n",
       "      <td>3.00</td>\n",
       "    </tr>\n",
       "    <tr>\n",
       "      <th>25%</th>\n",
       "      <td>110.75</td>\n",
       "      <td>NaN</td>\n",
       "      <td>NaN</td>\n",
       "      <td>3127.75</td>\n",
       "      <td>1533.00</td>\n",
       "      <td>2153.00</td>\n",
       "      <td>742.25</td>\n",
       "      <td>256.75</td>\n",
       "      <td>408.25</td>\n",
       "    </tr>\n",
       "    <tr>\n",
       "      <th>50%</th>\n",
       "      <td>220.50</td>\n",
       "      <td>NaN</td>\n",
       "      <td>NaN</td>\n",
       "      <td>8504.00</td>\n",
       "      <td>3627.00</td>\n",
       "      <td>4755.50</td>\n",
       "      <td>1526.00</td>\n",
       "      <td>816.50</td>\n",
       "      <td>965.50</td>\n",
       "    </tr>\n",
       "    <tr>\n",
       "      <th>75%</th>\n",
       "      <td>330.25</td>\n",
       "      <td>NaN</td>\n",
       "      <td>NaN</td>\n",
       "      <td>16933.75</td>\n",
       "      <td>7190.25</td>\n",
       "      <td>10655.75</td>\n",
       "      <td>3554.25</td>\n",
       "      <td>3922.00</td>\n",
       "      <td>1820.25</td>\n",
       "    </tr>\n",
       "    <tr>\n",
       "      <th>max</th>\n",
       "      <td>440.00</td>\n",
       "      <td>NaN</td>\n",
       "      <td>NaN</td>\n",
       "      <td>112151.00</td>\n",
       "      <td>73498.00</td>\n",
       "      <td>92780.00</td>\n",
       "      <td>60869.00</td>\n",
       "      <td>40827.00</td>\n",
       "      <td>47943.00</td>\n",
       "    </tr>\n",
       "  </tbody>\n",
       "</table>\n",
       "</div>"
      ],
      "text/plain": [
       "        Buyer/Spender Channel Region     Fresh     Milk  Grocery   Frozen  \\\n",
       "count          440.00     440    440    440.00   440.00   440.00   440.00   \n",
       "unique            NaN       2      3       NaN      NaN      NaN      NaN   \n",
       "top               NaN   Hotel  Other       NaN      NaN      NaN      NaN   \n",
       "freq              NaN     298    316       NaN      NaN      NaN      NaN   \n",
       "mean           220.50     NaN    NaN  12000.30  5796.27  7951.28  3071.93   \n",
       "std            127.16     NaN    NaN  12647.33  7380.38  9503.16  4854.67   \n",
       "min              1.00     NaN    NaN      3.00    55.00     3.00    25.00   \n",
       "25%            110.75     NaN    NaN   3127.75  1533.00  2153.00   742.25   \n",
       "50%            220.50     NaN    NaN   8504.00  3627.00  4755.50  1526.00   \n",
       "75%            330.25     NaN    NaN  16933.75  7190.25 10655.75  3554.25   \n",
       "max            440.00     NaN    NaN 112151.00 73498.00 92780.00 60869.00   \n",
       "\n",
       "        Detergents_Paper  Delicatessen  \n",
       "count             440.00        440.00  \n",
       "unique               NaN           NaN  \n",
       "top                  NaN           NaN  \n",
       "freq                 NaN           NaN  \n",
       "mean             2881.49       1524.87  \n",
       "std              4767.85       2820.11  \n",
       "min                 3.00          3.00  \n",
       "25%               256.75        408.25  \n",
       "50%               816.50        965.50  \n",
       "75%              3922.00       1820.25  \n",
       "max             40827.00      47943.00  "
      ]
     },
     "execution_count": 8,
     "metadata": {},
     "output_type": "execute_result"
    }
   ],
   "source": [
    "# Check Data distribution Pattern\n",
    "df.describe(include='all')"
   ]
  },
  {
   "cell_type": "markdown",
   "id": "fd93995b",
   "metadata": {},
   "source": [
    "## 1.1 Use methods of descriptive statistics to summarize data. Which Region and which Channel spent the most? Which Region and which Channel spent the least?"
   ]
  },
  {
   "cell_type": "code",
   "execution_count": 9,
   "id": "0523fa44",
   "metadata": {},
   "outputs": [
    {
     "data": {
      "text/html": [
       "<div>\n",
       "<style scoped>\n",
       "    .dataframe tbody tr th:only-of-type {\n",
       "        vertical-align: middle;\n",
       "    }\n",
       "\n",
       "    .dataframe tbody tr th {\n",
       "        vertical-align: top;\n",
       "    }\n",
       "\n",
       "    .dataframe thead th {\n",
       "        text-align: right;\n",
       "    }\n",
       "</style>\n",
       "<table border=\"1\" class=\"dataframe\">\n",
       "  <thead>\n",
       "    <tr style=\"text-align: right;\">\n",
       "      <th></th>\n",
       "      <th>Channel</th>\n",
       "      <th>total_amount_spent</th>\n",
       "    </tr>\n",
       "  </thead>\n",
       "  <tbody>\n",
       "    <tr>\n",
       "      <th>0</th>\n",
       "      <td>Hotel</td>\n",
       "      <td>7999569</td>\n",
       "    </tr>\n",
       "    <tr>\n",
       "      <th>1</th>\n",
       "      <td>Retail</td>\n",
       "      <td>6619931</td>\n",
       "    </tr>\n",
       "  </tbody>\n",
       "</table>\n",
       "</div>"
      ],
      "text/plain": [
       "  Channel  total_amount_spent\n",
       "0   Hotel             7999569\n",
       "1  Retail             6619931"
      ]
     },
     "execution_count": 9,
     "metadata": {},
     "output_type": "execute_result"
    }
   ],
   "source": [
    "df[\"total_amount_spent\"]=df[\"Fresh\"]+df[\"Milk\"]+df[\"Grocery\"]+df[\"Frozen\"]+df[\"Detergents_Paper\"]+df[\"Delicatessen\"]\n",
    "df_channel = pd.DataFrame(df.groupby(\"Channel\")[\"total_amount_spent\"].sum().reset_index())\n",
    "df_channel.head()"
   ]
  },
  {
   "cell_type": "code",
   "execution_count": 10,
   "id": "5832cf79",
   "metadata": {},
   "outputs": [
    {
     "name": "stderr",
     "output_type": "stream",
     "text": [
      "C:\\Anaconda3\\lib\\site-packages\\seaborn\\_decorators.py:36: FutureWarning: Pass the following variables as keyword args: x, y. From version 0.12, the only valid positional argument will be `data`, and passing other arguments without an explicit keyword will result in an error or misinterpretation.\n",
      "  warnings.warn(\n"
     ]
    },
    {
     "data": {
      "image/png": "[encoded data removed]",
      "text/plain": [
       "<Figure size 432x288 with 1 Axes>"
      ]
     },
     "metadata": {
      "needs_background": "light"
     },
     "output_type": "display_data"
    }
   ],
   "source": [
    "sns.barplot(df_channel[\"Channel\"],df_channel[\"total_amount_spent\"],data=df_channel);"
   ]
  },
  {
   "cell_type": "markdown",
   "id": "b0b6775a",
   "metadata": {},
   "source": [
    "#### We can clearly see in above Bar Plot that in the \"Hotel\" Channel , amount was spent most and \"Retail\" Channel spent less Amount"
   ]
  },
  {
   "cell_type": "code",
   "execution_count": 11,
   "id": "2e9f5944",
   "metadata": {
    "scrolled": true
   },
   "outputs": [
    {
     "data": {
      "text/html": [
       "<div>\n",
       "<style scoped>\n",
       "    .dataframe tbody tr th:only-of-type {\n",
       "        vertical-align: middle;\n",
       "    }\n",
       "\n",
       "    .dataframe tbody tr th {\n",
       "        vertical-align: top;\n",
       "    }\n",
       "\n",
       "    .dataframe thead th {\n",
       "        text-align: right;\n",
       "    }\n",
       "</style>\n",
       "<table border=\"1\" class=\"dataframe\">\n",
       "  <thead>\n",
       "    <tr style=\"text-align: right;\">\n",
       "      <th></th>\n",
       "      <th>Region</th>\n",
       "      <th>total_amount_spent</th>\n",
       "    </tr>\n",
       "  </thead>\n",
       "  <tbody>\n",
       "    <tr>\n",
       "      <th>0</th>\n",
       "      <td>Lisbon</td>\n",
       "      <td>2386813</td>\n",
       "    </tr>\n",
       "    <tr>\n",
       "      <th>1</th>\n",
       "      <td>Oporto</td>\n",
       "      <td>1555088</td>\n",
       "    </tr>\n",
       "    <tr>\n",
       "      <th>2</th>\n",
       "      <td>Other</td>\n",
       "      <td>10677599</td>\n",
       "    </tr>\n",
       "  </tbody>\n",
       "</table>\n",
       "</div>"
      ],
      "text/plain": [
       "   Region  total_amount_spent\n",
       "0  Lisbon             2386813\n",
       "1  Oporto             1555088\n",
       "2   Other            10677599"
      ]
     },
     "execution_count": 11,
     "metadata": {},
     "output_type": "execute_result"
    }
   ],
   "source": [
    "df_Region = pd.DataFrame(df.groupby(\"Region\")[\"total_amount_spent\"].sum().reset_index())\n",
    "df_Region"
   ]
  },
  {
   "cell_type": "code",
   "execution_count": 12,
   "id": "85e2ba82",
   "metadata": {},
   "outputs": [
    {
     "name": "stderr",
     "output_type": "stream",
     "text": [
      "C:\\Anaconda3\\lib\\site-packages\\seaborn\\_decorators.py:36: FutureWarning: Pass the following variables as keyword args: x, y. From version 0.12, the only valid positional argument will be `data`, and passing other arguments without an explicit keyword will result in an error or misinterpretation.\n",
      "  warnings.warn(\n"
     ]
    },
    {
     "data": {
      "image/png": "[encoded data removed]",
      "text/plain": [
       "<Figure size 432x288 with 1 Axes>"
      ]
     },
     "metadata": {
      "needs_background": "light"
     },
     "output_type": "display_data"
    }
   ],
   "source": [
    "sns.barplot(df_Region[\"Region\"],df_Region[\"total_amount_spent\"]);"
   ]
  },
  {
   "cell_type": "markdown",
   "id": "bb4ba639",
   "metadata": {},
   "source": [
    "#### We can clearly see in above Bar Plot that in the \"Other\" Region , amount was spent most and \"Oporto\" Region spent least Amount"
   ]
  },
  {
   "cell_type": "markdown",
   "id": "2c9aaebe",
   "metadata": {},
   "source": [
    "## 1.2 There are 6 different varieties of items that are considered. Describe and comment/explain all the varieties across Region and Channel? Provide a detailed justification for your answer."
   ]
  },
  {
   "cell_type": "code",
   "execution_count": 13,
   "id": "cd59984c",
   "metadata": {},
   "outputs": [
    {
     "data": {
      "text/html": [
       "<div>\n",
       "<style scoped>\n",
       "    .dataframe tbody tr th:only-of-type {\n",
       "        vertical-align: middle;\n",
       "    }\n",
       "\n",
       "    .dataframe tbody tr th {\n",
       "        vertical-align: top;\n",
       "    }\n",
       "\n",
       "    .dataframe thead th {\n",
       "        text-align: right;\n",
       "    }\n",
       "</style>\n",
       "<table border=\"1\" class=\"dataframe\">\n",
       "  <thead>\n",
       "    <tr style=\"text-align: right;\">\n",
       "      <th></th>\n",
       "      <th>Buyer/Spender</th>\n",
       "      <th>Fresh</th>\n",
       "      <th>Milk</th>\n",
       "      <th>Grocery</th>\n",
       "      <th>Frozen</th>\n",
       "      <th>Detergents_Paper</th>\n",
       "      <th>Delicatessen</th>\n",
       "      <th>total_amount_spent</th>\n",
       "    </tr>\n",
       "  </thead>\n",
       "  <tbody>\n",
       "    <tr>\n",
       "      <th>count</th>\n",
       "      <td>440.00</td>\n",
       "      <td>440.00</td>\n",
       "      <td>440.00</td>\n",
       "      <td>440.00</td>\n",
       "      <td>440.00</td>\n",
       "      <td>440.00</td>\n",
       "      <td>440.00</td>\n",
       "      <td>440.00</td>\n",
       "    </tr>\n",
       "    <tr>\n",
       "      <th>mean</th>\n",
       "      <td>220.50</td>\n",
       "      <td>12000.30</td>\n",
       "      <td>5796.27</td>\n",
       "      <td>7951.28</td>\n",
       "      <td>3071.93</td>\n",
       "      <td>2881.49</td>\n",
       "      <td>1524.87</td>\n",
       "      <td>33226.14</td>\n",
       "    </tr>\n",
       "    <tr>\n",
       "      <th>std</th>\n",
       "      <td>127.16</td>\n",
       "      <td>12647.33</td>\n",
       "      <td>7380.38</td>\n",
       "      <td>9503.16</td>\n",
       "      <td>4854.67</td>\n",
       "      <td>4767.85</td>\n",
       "      <td>2820.11</td>\n",
       "      <td>26356.30</td>\n",
       "    </tr>\n",
       "    <tr>\n",
       "      <th>min</th>\n",
       "      <td>1.00</td>\n",
       "      <td>3.00</td>\n",
       "      <td>55.00</td>\n",
       "      <td>3.00</td>\n",
       "      <td>25.00</td>\n",
       "      <td>3.00</td>\n",
       "      <td>3.00</td>\n",
       "      <td>904.00</td>\n",
       "    </tr>\n",
       "    <tr>\n",
       "      <th>25%</th>\n",
       "      <td>110.75</td>\n",
       "      <td>3127.75</td>\n",
       "      <td>1533.00</td>\n",
       "      <td>2153.00</td>\n",
       "      <td>742.25</td>\n",
       "      <td>256.75</td>\n",
       "      <td>408.25</td>\n",
       "      <td>17448.75</td>\n",
       "    </tr>\n",
       "    <tr>\n",
       "      <th>50%</th>\n",
       "      <td>220.50</td>\n",
       "      <td>8504.00</td>\n",
       "      <td>3627.00</td>\n",
       "      <td>4755.50</td>\n",
       "      <td>1526.00</td>\n",
       "      <td>816.50</td>\n",
       "      <td>965.50</td>\n",
       "      <td>27492.00</td>\n",
       "    </tr>\n",
       "    <tr>\n",
       "      <th>75%</th>\n",
       "      <td>330.25</td>\n",
       "      <td>16933.75</td>\n",
       "      <td>7190.25</td>\n",
       "      <td>10655.75</td>\n",
       "      <td>3554.25</td>\n",
       "      <td>3922.00</td>\n",
       "      <td>1820.25</td>\n",
       "      <td>41307.50</td>\n",
       "    </tr>\n",
       "    <tr>\n",
       "      <th>max</th>\n",
       "      <td>440.00</td>\n",
       "      <td>112151.00</td>\n",
       "      <td>73498.00</td>\n",
       "      <td>92780.00</td>\n",
       "      <td>60869.00</td>\n",
       "      <td>40827.00</td>\n",
       "      <td>47943.00</td>\n",
       "      <td>199891.00</td>\n",
       "    </tr>\n",
       "  </tbody>\n",
       "</table>\n",
       "</div>"
      ],
      "text/plain": [
       "       Buyer/Spender     Fresh     Milk  Grocery   Frozen  Detergents_Paper  \\\n",
       "count         440.00    440.00   440.00   440.00   440.00            440.00   \n",
       "mean          220.50  12000.30  5796.27  7951.28  3071.93           2881.49   \n",
       "std           127.16  12647.33  7380.38  9503.16  4854.67           4767.85   \n",
       "min             1.00      3.00    55.00     3.00    25.00              3.00   \n",
       "25%           110.75   3127.75  1533.00  2153.00   742.25            256.75   \n",
       "50%           220.50   8504.00  3627.00  4755.50  1526.00            816.50   \n",
       "75%           330.25  16933.75  7190.25 10655.75  3554.25           3922.00   \n",
       "max           440.00 112151.00 73498.00 92780.00 60869.00          40827.00   \n",
       "\n",
       "       Delicatessen  total_amount_spent  \n",
       "count        440.00              440.00  \n",
       "mean        1524.87            33226.14  \n",
       "std         2820.11            26356.30  \n",
       "min            3.00              904.00  \n",
       "25%          408.25            17448.75  \n",
       "50%          965.50            27492.00  \n",
       "75%         1820.25            41307.50  \n",
       "max        47943.00           199891.00  "
      ]
     },
     "execution_count": 13,
     "metadata": {},
     "output_type": "execute_result"
    }
   ],
   "source": [
    "df.describe()"
   ]
  },
  {
   "cell_type": "code",
   "execution_count": 14,
   "id": "87938f8b",
   "metadata": {},
   "outputs": [
    {
     "data": {
      "text/html": [
       "<div>\n",
       "<style scoped>\n",
       "    .dataframe tbody tr th:only-of-type {\n",
       "        vertical-align: middle;\n",
       "    }\n",
       "\n",
       "    .dataframe tbody tr th {\n",
       "        vertical-align: top;\n",
       "    }\n",
       "\n",
       "    .dataframe thead th {\n",
       "        text-align: right;\n",
       "    }\n",
       "</style>\n",
       "<table border=\"1\" class=\"dataframe\">\n",
       "  <thead>\n",
       "    <tr style=\"text-align: right;\">\n",
       "      <th></th>\n",
       "      <th>0</th>\n",
       "      <th>1</th>\n",
       "    </tr>\n",
       "  </thead>\n",
       "  <tbody>\n",
       "    <tr>\n",
       "      <th>Channel</th>\n",
       "      <td>Hotel</td>\n",
       "      <td>Retail</td>\n",
       "    </tr>\n",
       "    <tr>\n",
       "      <th>Buyer/Spender</th>\n",
       "      <td>71034</td>\n",
       "      <td>25986</td>\n",
       "    </tr>\n",
       "    <tr>\n",
       "      <th>Fresh</th>\n",
       "      <td>4015717</td>\n",
       "      <td>1264414</td>\n",
       "    </tr>\n",
       "    <tr>\n",
       "      <th>Milk</th>\n",
       "      <td>1028614</td>\n",
       "      <td>1521743</td>\n",
       "    </tr>\n",
       "    <tr>\n",
       "      <th>Grocery</th>\n",
       "      <td>1180717</td>\n",
       "      <td>2317845</td>\n",
       "    </tr>\n",
       "    <tr>\n",
       "      <th>Frozen</th>\n",
       "      <td>1116979</td>\n",
       "      <td>234671</td>\n",
       "    </tr>\n",
       "    <tr>\n",
       "      <th>Detergents_Paper</th>\n",
       "      <td>235587</td>\n",
       "      <td>1032270</td>\n",
       "    </tr>\n",
       "    <tr>\n",
       "      <th>Delicatessen</th>\n",
       "      <td>421955</td>\n",
       "      <td>248988</td>\n",
       "    </tr>\n",
       "    <tr>\n",
       "      <th>total_amount_spent</th>\n",
       "      <td>7999569</td>\n",
       "      <td>6619931</td>\n",
       "    </tr>\n",
       "  </tbody>\n",
       "</table>\n",
       "</div>"
      ],
      "text/plain": [
       "                          0        1\n",
       "Channel               Hotel   Retail\n",
       "Buyer/Spender         71034    25986\n",
       "Fresh               4015717  1264414\n",
       "Milk                1028614  1521743\n",
       "Grocery             1180717  2317845\n",
       "Frozen              1116979   234671\n",
       "Detergents_Paper     235587  1032270\n",
       "Delicatessen         421955   248988\n",
       "total_amount_spent  7999569  6619931"
      ]
     },
     "execution_count": 14,
     "metadata": {},
     "output_type": "execute_result"
    }
   ],
   "source": [
    "new_index=['Hotel','Retail']\n",
    "df_channel=df.groupby(\"Channel\").sum().reset_index().T\n",
    "df_channel"
   ]
  },
  {
   "cell_type": "code",
   "execution_count": 15,
   "id": "c19cec9c",
   "metadata": {},
   "outputs": [
    {
     "data": {
      "text/html": [
       "<div>\n",
       "<style scoped>\n",
       "    .dataframe tbody tr th:only-of-type {\n",
       "        vertical-align: middle;\n",
       "    }\n",
       "\n",
       "    .dataframe tbody tr th {\n",
       "        vertical-align: top;\n",
       "    }\n",
       "\n",
       "    .dataframe thead th {\n",
       "        text-align: right;\n",
       "    }\n",
       "</style>\n",
       "<table border=\"1\" class=\"dataframe\">\n",
       "  <thead>\n",
       "    <tr style=\"text-align: right;\">\n",
       "      <th></th>\n",
       "      <th>Hotel</th>\n",
       "      <th>Retail</th>\n",
       "    </tr>\n",
       "  </thead>\n",
       "  <tbody>\n",
       "    <tr>\n",
       "      <th>Channel</th>\n",
       "      <td>Hotel</td>\n",
       "      <td>Retail</td>\n",
       "    </tr>\n",
       "    <tr>\n",
       "      <th>Buyer/Spender</th>\n",
       "      <td>71034</td>\n",
       "      <td>25986</td>\n",
       "    </tr>\n",
       "    <tr>\n",
       "      <th>Fresh</th>\n",
       "      <td>4015717</td>\n",
       "      <td>1264414</td>\n",
       "    </tr>\n",
       "    <tr>\n",
       "      <th>Milk</th>\n",
       "      <td>1028614</td>\n",
       "      <td>1521743</td>\n",
       "    </tr>\n",
       "    <tr>\n",
       "      <th>Grocery</th>\n",
       "      <td>1180717</td>\n",
       "      <td>2317845</td>\n",
       "    </tr>\n",
       "    <tr>\n",
       "      <th>Frozen</th>\n",
       "      <td>1116979</td>\n",
       "      <td>234671</td>\n",
       "    </tr>\n",
       "    <tr>\n",
       "      <th>Detergents_Paper</th>\n",
       "      <td>235587</td>\n",
       "      <td>1032270</td>\n",
       "    </tr>\n",
       "    <tr>\n",
       "      <th>Delicatessen</th>\n",
       "      <td>421955</td>\n",
       "      <td>248988</td>\n",
       "    </tr>\n",
       "    <tr>\n",
       "      <th>total_amount_spent</th>\n",
       "      <td>7999569</td>\n",
       "      <td>6619931</td>\n",
       "    </tr>\n",
       "  </tbody>\n",
       "</table>\n",
       "</div>"
      ],
      "text/plain": [
       "                      Hotel   Retail\n",
       "Channel               Hotel   Retail\n",
       "Buyer/Spender         71034    25986\n",
       "Fresh               4015717  1264414\n",
       "Milk                1028614  1521743\n",
       "Grocery             1180717  2317845\n",
       "Frozen              1116979   234671\n",
       "Detergents_Paper     235587  1032270\n",
       "Delicatessen         421955   248988\n",
       "total_amount_spent  7999569  6619931"
      ]
     },
     "execution_count": 15,
     "metadata": {},
     "output_type": "execute_result"
    }
   ],
   "source": [
    "df_channel.columns=new_index\n",
    "df_channel"
   ]
  },
  {
   "cell_type": "code",
   "execution_count": 16,
   "id": "34738747",
   "metadata": {},
   "outputs": [
    {
     "data": {
      "text/html": [
       "<div>\n",
       "<style scoped>\n",
       "    .dataframe tbody tr th:only-of-type {\n",
       "        vertical-align: middle;\n",
       "    }\n",
       "\n",
       "    .dataframe tbody tr th {\n",
       "        vertical-align: top;\n",
       "    }\n",
       "\n",
       "    .dataframe thead th {\n",
       "        text-align: right;\n",
       "    }\n",
       "</style>\n",
       "<table border=\"1\" class=\"dataframe\">\n",
       "  <thead>\n",
       "    <tr style=\"text-align: right;\">\n",
       "      <th></th>\n",
       "      <th>Hotel</th>\n",
       "      <th>Retail</th>\n",
       "    </tr>\n",
       "  </thead>\n",
       "  <tbody>\n",
       "    <tr>\n",
       "      <th>Fresh</th>\n",
       "      <td>4015717</td>\n",
       "      <td>1264414</td>\n",
       "    </tr>\n",
       "    <tr>\n",
       "      <th>Milk</th>\n",
       "      <td>1028614</td>\n",
       "      <td>1521743</td>\n",
       "    </tr>\n",
       "    <tr>\n",
       "      <th>Grocery</th>\n",
       "      <td>1180717</td>\n",
       "      <td>2317845</td>\n",
       "    </tr>\n",
       "    <tr>\n",
       "      <th>Frozen</th>\n",
       "      <td>1116979</td>\n",
       "      <td>234671</td>\n",
       "    </tr>\n",
       "    <tr>\n",
       "      <th>Detergents_Paper</th>\n",
       "      <td>235587</td>\n",
       "      <td>1032270</td>\n",
       "    </tr>\n",
       "    <tr>\n",
       "      <th>Delicatessen</th>\n",
       "      <td>421955</td>\n",
       "      <td>248988</td>\n",
       "    </tr>\n",
       "    <tr>\n",
       "      <th>total_amount_spent</th>\n",
       "      <td>7999569</td>\n",
       "      <td>6619931</td>\n",
       "    </tr>\n",
       "  </tbody>\n",
       "</table>\n",
       "</div>"
      ],
      "text/plain": [
       "                      Hotel   Retail\n",
       "Fresh               4015717  1264414\n",
       "Milk                1028614  1521743\n",
       "Grocery             1180717  2317845\n",
       "Frozen              1116979   234671\n",
       "Detergents_Paper     235587  1032270\n",
       "Delicatessen         421955   248988\n",
       "total_amount_spent  7999569  6619931"
      ]
     },
     "execution_count": 16,
     "metadata": {},
     "output_type": "execute_result"
    }
   ],
   "source": [
    "df_channel = df_channel.iloc[2:]\n",
    "df_channel"
   ]
  },
  {
   "cell_type": "code",
   "execution_count": 17,
   "id": "217d0aff",
   "metadata": {},
   "outputs": [
    {
     "data": {
      "text/html": [
       "<div>\n",
       "<style scoped>\n",
       "    .dataframe tbody tr th:only-of-type {\n",
       "        vertical-align: middle;\n",
       "    }\n",
       "\n",
       "    .dataframe tbody tr th {\n",
       "        vertical-align: top;\n",
       "    }\n",
       "\n",
       "    .dataframe thead th {\n",
       "        text-align: right;\n",
       "    }\n",
       "</style>\n",
       "<table border=\"1\" class=\"dataframe\">\n",
       "  <thead>\n",
       "    <tr style=\"text-align: right;\">\n",
       "      <th></th>\n",
       "      <th>Hotel</th>\n",
       "      <th>Retail</th>\n",
       "    </tr>\n",
       "  </thead>\n",
       "  <tbody>\n",
       "    <tr>\n",
       "      <th>Fresh</th>\n",
       "      <td>4015717</td>\n",
       "      <td>1264414</td>\n",
       "    </tr>\n",
       "    <tr>\n",
       "      <th>Milk</th>\n",
       "      <td>1028614</td>\n",
       "      <td>1521743</td>\n",
       "    </tr>\n",
       "    <tr>\n",
       "      <th>Grocery</th>\n",
       "      <td>1180717</td>\n",
       "      <td>2317845</td>\n",
       "    </tr>\n",
       "    <tr>\n",
       "      <th>Frozen</th>\n",
       "      <td>1116979</td>\n",
       "      <td>234671</td>\n",
       "    </tr>\n",
       "    <tr>\n",
       "      <th>Detergents_Paper</th>\n",
       "      <td>235587</td>\n",
       "      <td>1032270</td>\n",
       "    </tr>\n",
       "    <tr>\n",
       "      <th>Delicatessen</th>\n",
       "      <td>421955</td>\n",
       "      <td>248988</td>\n",
       "    </tr>\n",
       "  </tbody>\n",
       "</table>\n",
       "</div>"
      ],
      "text/plain": [
       "                    Hotel   Retail\n",
       "Fresh             4015717  1264414\n",
       "Milk              1028614  1521743\n",
       "Grocery           1180717  2317845\n",
       "Frozen            1116979   234671\n",
       "Detergents_Paper   235587  1032270\n",
       "Delicatessen       421955   248988"
      ]
     },
     "execution_count": 17,
     "metadata": {},
     "output_type": "execute_result"
    }
   ],
   "source": [
    "df_channel = df_channel.iloc[:6]\n",
    "df_channel"
   ]
  },
  {
   "cell_type": "code",
   "execution_count": 18,
   "id": "3e8feb3e",
   "metadata": {},
   "outputs": [
    {
     "data": {
      "text/html": [
       "<div>\n",
       "<style scoped>\n",
       "    .dataframe tbody tr th:only-of-type {\n",
       "        vertical-align: middle;\n",
       "    }\n",
       "\n",
       "    .dataframe tbody tr th {\n",
       "        vertical-align: top;\n",
       "    }\n",
       "\n",
       "    .dataframe thead th {\n",
       "        text-align: right;\n",
       "    }\n",
       "</style>\n",
       "<table border=\"1\" class=\"dataframe\">\n",
       "  <thead>\n",
       "    <tr style=\"text-align: right;\">\n",
       "      <th></th>\n",
       "      <th>index</th>\n",
       "      <th>Hotel</th>\n",
       "      <th>Retail</th>\n",
       "    </tr>\n",
       "  </thead>\n",
       "  <tbody>\n",
       "    <tr>\n",
       "      <th>0</th>\n",
       "      <td>Fresh</td>\n",
       "      <td>4015717</td>\n",
       "      <td>1264414</td>\n",
       "    </tr>\n",
       "    <tr>\n",
       "      <th>1</th>\n",
       "      <td>Milk</td>\n",
       "      <td>1028614</td>\n",
       "      <td>1521743</td>\n",
       "    </tr>\n",
       "    <tr>\n",
       "      <th>2</th>\n",
       "      <td>Grocery</td>\n",
       "      <td>1180717</td>\n",
       "      <td>2317845</td>\n",
       "    </tr>\n",
       "    <tr>\n",
       "      <th>3</th>\n",
       "      <td>Frozen</td>\n",
       "      <td>1116979</td>\n",
       "      <td>234671</td>\n",
       "    </tr>\n",
       "    <tr>\n",
       "      <th>4</th>\n",
       "      <td>Detergents_Paper</td>\n",
       "      <td>235587</td>\n",
       "      <td>1032270</td>\n",
       "    </tr>\n",
       "    <tr>\n",
       "      <th>5</th>\n",
       "      <td>Delicatessen</td>\n",
       "      <td>421955</td>\n",
       "      <td>248988</td>\n",
       "    </tr>\n",
       "  </tbody>\n",
       "</table>\n",
       "</div>"
      ],
      "text/plain": [
       "              index    Hotel   Retail\n",
       "0             Fresh  4015717  1264414\n",
       "1              Milk  1028614  1521743\n",
       "2           Grocery  1180717  2317845\n",
       "3            Frozen  1116979   234671\n",
       "4  Detergents_Paper   235587  1032270\n",
       "5      Delicatessen   421955   248988"
      ]
     },
     "execution_count": 18,
     "metadata": {},
     "output_type": "execute_result"
    }
   ],
   "source": [
    "df_channe2= pd.DataFrame(df_channel.reset_index())\n",
    "df_channe2"
   ]
  },
  {
   "cell_type": "code",
   "execution_count": 19,
   "id": "6f6c03ca",
   "metadata": {},
   "outputs": [
    {
     "data": {
      "image/png": "[encoded data removed]",
      "text/plain": [
       "<Figure size 648x576 with 1 Axes>"
      ]
     },
     "metadata": {
      "needs_background": "light"
     },
     "output_type": "display_data"
    }
   ],
   "source": [
    "df_channe2.plot(x=\"index\", y=[\"Hotel\", \"Retail\"], kind=\"bar\",figsize=(9,8))\n",
    "plt.show()"
   ]
  },
  {
   "cell_type": "markdown",
   "id": "82ea5fdd",
   "metadata": {},
   "source": [
    "#### From Above graph we can see that \"Hotel\" has spend most of the amount in \"Fresh\" product and least in \"Detergents_Paper\" \n",
    "#### And also \"Retail\" has spend most of the amount in \"Grocery\" product and least in \"Frozen\" "
   ]
  },
  {
   "cell_type": "code",
   "execution_count": null,
   "id": "e0177c28",
   "metadata": {},
   "outputs": [],
   "source": []
  },
  {
   "cell_type": "code",
   "execution_count": null,
   "id": "072b5abc",
   "metadata": {},
   "outputs": [],
   "source": []
  },
  {
   "cell_type": "code",
   "execution_count": 20,
   "id": "c2a57fb6",
   "metadata": {
    "scrolled": true
   },
   "outputs": [
    {
     "data": {
      "text/html": [
       "<div>\n",
       "<style scoped>\n",
       "    .dataframe tbody tr th:only-of-type {\n",
       "        vertical-align: middle;\n",
       "    }\n",
       "\n",
       "    .dataframe tbody tr th {\n",
       "        vertical-align: top;\n",
       "    }\n",
       "\n",
       "    .dataframe thead th {\n",
       "        text-align: right;\n",
       "    }\n",
       "</style>\n",
       "<table border=\"1\" class=\"dataframe\">\n",
       "  <thead>\n",
       "    <tr style=\"text-align: right;\">\n",
       "      <th></th>\n",
       "      <th>0</th>\n",
       "      <th>1</th>\n",
       "      <th>2</th>\n",
       "    </tr>\n",
       "  </thead>\n",
       "  <tbody>\n",
       "    <tr>\n",
       "      <th>Region</th>\n",
       "      <td>Lisbon</td>\n",
       "      <td>Oporto</td>\n",
       "      <td>Other</td>\n",
       "    </tr>\n",
       "    <tr>\n",
       "      <th>Buyer/Spender</th>\n",
       "      <td>273</td>\n",
       "      <td>340</td>\n",
       "      <td>440</td>\n",
       "    </tr>\n",
       "    <tr>\n",
       "      <th>Channel</th>\n",
       "      <td>Retail</td>\n",
       "      <td>Retail</td>\n",
       "      <td>Retail</td>\n",
       "    </tr>\n",
       "    <tr>\n",
       "      <th>Fresh</th>\n",
       "      <td>56083</td>\n",
       "      <td>32717</td>\n",
       "      <td>112151</td>\n",
       "    </tr>\n",
       "    <tr>\n",
       "      <th>Milk</th>\n",
       "      <td>28326</td>\n",
       "      <td>25071</td>\n",
       "      <td>73498</td>\n",
       "    </tr>\n",
       "    <tr>\n",
       "      <th>Grocery</th>\n",
       "      <td>39694</td>\n",
       "      <td>67298</td>\n",
       "      <td>92780</td>\n",
       "    </tr>\n",
       "    <tr>\n",
       "      <th>Frozen</th>\n",
       "      <td>18711</td>\n",
       "      <td>60869</td>\n",
       "      <td>36534</td>\n",
       "    </tr>\n",
       "    <tr>\n",
       "      <th>Detergents_Paper</th>\n",
       "      <td>19410</td>\n",
       "      <td>38102</td>\n",
       "      <td>40827</td>\n",
       "    </tr>\n",
       "    <tr>\n",
       "      <th>Delicatessen</th>\n",
       "      <td>6854</td>\n",
       "      <td>5609</td>\n",
       "      <td>47943</td>\n",
       "    </tr>\n",
       "    <tr>\n",
       "      <th>total_amount_spent</th>\n",
       "      <td>107155</td>\n",
       "      <td>130877</td>\n",
       "      <td>199891</td>\n",
       "    </tr>\n",
       "  </tbody>\n",
       "</table>\n",
       "</div>"
      ],
      "text/plain": [
       "                         0       1       2\n",
       "Region              Lisbon  Oporto   Other\n",
       "Buyer/Spender          273     340     440\n",
       "Channel             Retail  Retail  Retail\n",
       "Fresh                56083   32717  112151\n",
       "Milk                 28326   25071   73498\n",
       "Grocery              39694   67298   92780\n",
       "Frozen               18711   60869   36534\n",
       "Detergents_Paper     19410   38102   40827\n",
       "Delicatessen          6854    5609   47943\n",
       "total_amount_spent  107155  130877  199891"
      ]
     },
     "execution_count": 20,
     "metadata": {},
     "output_type": "execute_result"
    }
   ],
   "source": [
    "df.groupby(\"Region\").max().reset_index().T"
   ]
  },
  {
   "cell_type": "code",
   "execution_count": 21,
   "id": "e2269750",
   "metadata": {},
   "outputs": [
    {
     "data": {
      "text/html": [
       "<div>\n",
       "<style scoped>\n",
       "    .dataframe tbody tr th:only-of-type {\n",
       "        vertical-align: middle;\n",
       "    }\n",
       "\n",
       "    .dataframe tbody tr th {\n",
       "        vertical-align: top;\n",
       "    }\n",
       "\n",
       "    .dataframe thead th {\n",
       "        text-align: right;\n",
       "    }\n",
       "</style>\n",
       "<table border=\"1\" class=\"dataframe\">\n",
       "  <thead>\n",
       "    <tr style=\"text-align: right;\">\n",
       "      <th></th>\n",
       "      <th>index</th>\n",
       "      <th>Lisbon</th>\n",
       "      <th>Oporto</th>\n",
       "      <th>Other</th>\n",
       "    </tr>\n",
       "  </thead>\n",
       "  <tbody>\n",
       "    <tr>\n",
       "      <th>0</th>\n",
       "      <td>Fresh</td>\n",
       "      <td>854833</td>\n",
       "      <td>464721</td>\n",
       "      <td>3960577</td>\n",
       "    </tr>\n",
       "    <tr>\n",
       "      <th>1</th>\n",
       "      <td>Milk</td>\n",
       "      <td>422454</td>\n",
       "      <td>239144</td>\n",
       "      <td>1888759</td>\n",
       "    </tr>\n",
       "    <tr>\n",
       "      <th>2</th>\n",
       "      <td>Grocery</td>\n",
       "      <td>570037</td>\n",
       "      <td>433274</td>\n",
       "      <td>2495251</td>\n",
       "    </tr>\n",
       "    <tr>\n",
       "      <th>3</th>\n",
       "      <td>Frozen</td>\n",
       "      <td>231026</td>\n",
       "      <td>190132</td>\n",
       "      <td>930492</td>\n",
       "    </tr>\n",
       "    <tr>\n",
       "      <th>4</th>\n",
       "      <td>Detergents_Paper</td>\n",
       "      <td>204136</td>\n",
       "      <td>173311</td>\n",
       "      <td>890410</td>\n",
       "    </tr>\n",
       "    <tr>\n",
       "      <th>5</th>\n",
       "      <td>Delicatessen</td>\n",
       "      <td>104327</td>\n",
       "      <td>54506</td>\n",
       "      <td>512110</td>\n",
       "    </tr>\n",
       "  </tbody>\n",
       "</table>\n",
       "</div>"
      ],
      "text/plain": [
       "              index  Lisbon  Oporto    Other\n",
       "0             Fresh  854833  464721  3960577\n",
       "1              Milk  422454  239144  1888759\n",
       "2           Grocery  570037  433274  2495251\n",
       "3            Frozen  231026  190132   930492\n",
       "4  Detergents_Paper  204136  173311   890410\n",
       "5      Delicatessen  104327   54506   512110"
      ]
     },
     "execution_count": 21,
     "metadata": {},
     "output_type": "execute_result"
    }
   ],
   "source": [
    "new_index=['Lisbon','Oporto','Other']\n",
    "df_Region=df.groupby(\"Region\").sum().reset_index().T\n",
    "df_Region\n",
    "df_Region.columns=new_index\n",
    "df_Region\n",
    "df_Region = df_Region.iloc[2:8]\n",
    "df_Region\n",
    "df_Region2= pd.DataFrame(df_Region.reset_index())\n",
    "df_Region2"
   ]
  },
  {
   "cell_type": "code",
   "execution_count": 22,
   "id": "e9fd094e",
   "metadata": {
    "scrolled": true
   },
   "outputs": [
    {
     "data": {
      "image/png": "[encoded data removed]",
      "text/plain": [
       "<Figure size 432x288 with 1 Axes>"
      ]
     },
     "metadata": {
      "needs_background": "light"
     },
     "output_type": "display_data"
    }
   ],
   "source": [
    "df_Region2.plot(x=\"index\", y=[\"Lisbon\", \"Oporto\",\"Other\"], kind=\"bar\", figsize=(6,4))\n",
    "plt.show()"
   ]
  },
  {
   "cell_type": "markdown",
   "id": "884b5a15",
   "metadata": {},
   "source": [
    "#### From Above graph we can see that \"Lisbon\" has spend most of the amount in \"Fresh\" product and least in \"Delicatessen\" \n",
    "#### And also \"Oporto\" has spend most of the amount in \"Fresh\" product and least in \"Delicatessen\" \n",
    "#### And also \"Other\" has spend most of the amount in \"Fresh\" product and least in \"Delicatessen\" "
   ]
  },
  {
   "cell_type": "code",
   "execution_count": null,
   "id": "10e2d7fd",
   "metadata": {},
   "outputs": [],
   "source": []
  },
  {
   "cell_type": "code",
   "execution_count": null,
   "id": "c253673f",
   "metadata": {},
   "outputs": [],
   "source": []
  },
  {
   "cell_type": "markdown",
   "id": "915d72d0",
   "metadata": {},
   "source": [
    "## 1.3 On the basis of a descriptive measure of variability, which item shows the most inconsistent behaviour? Which items show the least inconsistent behaviour?"
   ]
  },
  {
   "cell_type": "code",
   "execution_count": 23,
   "id": "4f013482",
   "metadata": {},
   "outputs": [
    {
     "data": {
      "text/html": [
       "<div>\n",
       "<style scoped>\n",
       "    .dataframe tbody tr th:only-of-type {\n",
       "        vertical-align: middle;\n",
       "    }\n",
       "\n",
       "    .dataframe tbody tr th {\n",
       "        vertical-align: top;\n",
       "    }\n",
       "\n",
       "    .dataframe thead th {\n",
       "        text-align: right;\n",
       "    }\n",
       "</style>\n",
       "<table border=\"1\" class=\"dataframe\">\n",
       "  <thead>\n",
       "    <tr style=\"text-align: right;\">\n",
       "      <th></th>\n",
       "      <th>Fresh</th>\n",
       "      <th>Milk</th>\n",
       "      <th>Grocery</th>\n",
       "      <th>Frozen</th>\n",
       "      <th>Detergents_Paper</th>\n",
       "      <th>Delicatessen</th>\n",
       "    </tr>\n",
       "  </thead>\n",
       "  <tbody>\n",
       "    <tr>\n",
       "      <th>0</th>\n",
       "      <td>12669</td>\n",
       "      <td>9656</td>\n",
       "      <td>7561</td>\n",
       "      <td>214</td>\n",
       "      <td>2674</td>\n",
       "      <td>1338</td>\n",
       "    </tr>\n",
       "    <tr>\n",
       "      <th>1</th>\n",
       "      <td>7057</td>\n",
       "      <td>9810</td>\n",
       "      <td>9568</td>\n",
       "      <td>1762</td>\n",
       "      <td>3293</td>\n",
       "      <td>1776</td>\n",
       "    </tr>\n",
       "    <tr>\n",
       "      <th>2</th>\n",
       "      <td>6353</td>\n",
       "      <td>8808</td>\n",
       "      <td>7684</td>\n",
       "      <td>2405</td>\n",
       "      <td>3516</td>\n",
       "      <td>7844</td>\n",
       "    </tr>\n",
       "    <tr>\n",
       "      <th>3</th>\n",
       "      <td>13265</td>\n",
       "      <td>1196</td>\n",
       "      <td>4221</td>\n",
       "      <td>6404</td>\n",
       "      <td>507</td>\n",
       "      <td>1788</td>\n",
       "    </tr>\n",
       "    <tr>\n",
       "      <th>4</th>\n",
       "      <td>22615</td>\n",
       "      <td>5410</td>\n",
       "      <td>7198</td>\n",
       "      <td>3915</td>\n",
       "      <td>1777</td>\n",
       "      <td>5185</td>\n",
       "    </tr>\n",
       "    <tr>\n",
       "      <th>...</th>\n",
       "      <td>...</td>\n",
       "      <td>...</td>\n",
       "      <td>...</td>\n",
       "      <td>...</td>\n",
       "      <td>...</td>\n",
       "      <td>...</td>\n",
       "    </tr>\n",
       "    <tr>\n",
       "      <th>435</th>\n",
       "      <td>29703</td>\n",
       "      <td>12051</td>\n",
       "      <td>16027</td>\n",
       "      <td>13135</td>\n",
       "      <td>182</td>\n",
       "      <td>2204</td>\n",
       "    </tr>\n",
       "    <tr>\n",
       "      <th>436</th>\n",
       "      <td>39228</td>\n",
       "      <td>1431</td>\n",
       "      <td>764</td>\n",
       "      <td>4510</td>\n",
       "      <td>93</td>\n",
       "      <td>2346</td>\n",
       "    </tr>\n",
       "    <tr>\n",
       "      <th>437</th>\n",
       "      <td>14531</td>\n",
       "      <td>15488</td>\n",
       "      <td>30243</td>\n",
       "      <td>437</td>\n",
       "      <td>14841</td>\n",
       "      <td>1867</td>\n",
       "    </tr>\n",
       "    <tr>\n",
       "      <th>438</th>\n",
       "      <td>10290</td>\n",
       "      <td>1981</td>\n",
       "      <td>2232</td>\n",
       "      <td>1038</td>\n",
       "      <td>168</td>\n",
       "      <td>2125</td>\n",
       "    </tr>\n",
       "    <tr>\n",
       "      <th>439</th>\n",
       "      <td>2787</td>\n",
       "      <td>1698</td>\n",
       "      <td>2510</td>\n",
       "      <td>65</td>\n",
       "      <td>477</td>\n",
       "      <td>52</td>\n",
       "    </tr>\n",
       "  </tbody>\n",
       "</table>\n",
       "<p>440 rows × 6 columns</p>\n",
       "</div>"
      ],
      "text/plain": [
       "     Fresh   Milk  Grocery  Frozen  Detergents_Paper  Delicatessen\n",
       "0    12669   9656     7561     214              2674          1338\n",
       "1     7057   9810     9568    1762              3293          1776\n",
       "2     6353   8808     7684    2405              3516          7844\n",
       "3    13265   1196     4221    6404               507          1788\n",
       "4    22615   5410     7198    3915              1777          5185\n",
       "..     ...    ...      ...     ...               ...           ...\n",
       "435  29703  12051    16027   13135               182          2204\n",
       "436  39228   1431      764    4510                93          2346\n",
       "437  14531  15488    30243     437             14841          1867\n",
       "438  10290   1981     2232    1038               168          2125\n",
       "439   2787   1698     2510      65               477            52\n",
       "\n",
       "[440 rows x 6 columns]"
      ]
     },
     "execution_count": 23,
     "metadata": {},
     "output_type": "execute_result"
    }
   ],
   "source": [
    "df\n",
    "df_items=df[[\"Fresh\",\"Milk\",\"Grocery\",\"Frozen\",\"Detergents_Paper\",\"Delicatessen\"]]\n",
    "df_items"
   ]
  },
  {
   "cell_type": "code",
   "execution_count": 24,
   "id": "e2cd6653",
   "metadata": {},
   "outputs": [
    {
     "data": {
      "text/html": [
       "<div>\n",
       "<style scoped>\n",
       "    .dataframe tbody tr th:only-of-type {\n",
       "        vertical-align: middle;\n",
       "    }\n",
       "\n",
       "    .dataframe tbody tr th {\n",
       "        vertical-align: top;\n",
       "    }\n",
       "\n",
       "    .dataframe thead th {\n",
       "        text-align: right;\n",
       "    }\n",
       "</style>\n",
       "<table border=\"1\" class=\"dataframe\">\n",
       "  <thead>\n",
       "    <tr style=\"text-align: right;\">\n",
       "      <th></th>\n",
       "      <th>index</th>\n",
       "      <th>count</th>\n",
       "      <th>mean</th>\n",
       "      <th>std</th>\n",
       "      <th>min</th>\n",
       "      <th>25%</th>\n",
       "      <th>50%</th>\n",
       "      <th>75%</th>\n",
       "      <th>max</th>\n",
       "    </tr>\n",
       "  </thead>\n",
       "  <tbody>\n",
       "    <tr>\n",
       "      <th>0</th>\n",
       "      <td>Fresh</td>\n",
       "      <td>440.00</td>\n",
       "      <td>12000.30</td>\n",
       "      <td>12647.33</td>\n",
       "      <td>3.00</td>\n",
       "      <td>3127.75</td>\n",
       "      <td>8504.00</td>\n",
       "      <td>16933.75</td>\n",
       "      <td>112151.00</td>\n",
       "    </tr>\n",
       "    <tr>\n",
       "      <th>1</th>\n",
       "      <td>Milk</td>\n",
       "      <td>440.00</td>\n",
       "      <td>5796.27</td>\n",
       "      <td>7380.38</td>\n",
       "      <td>55.00</td>\n",
       "      <td>1533.00</td>\n",
       "      <td>3627.00</td>\n",
       "      <td>7190.25</td>\n",
       "      <td>73498.00</td>\n",
       "    </tr>\n",
       "    <tr>\n",
       "      <th>2</th>\n",
       "      <td>Grocery</td>\n",
       "      <td>440.00</td>\n",
       "      <td>7951.28</td>\n",
       "      <td>9503.16</td>\n",
       "      <td>3.00</td>\n",
       "      <td>2153.00</td>\n",
       "      <td>4755.50</td>\n",
       "      <td>10655.75</td>\n",
       "      <td>92780.00</td>\n",
       "    </tr>\n",
       "    <tr>\n",
       "      <th>3</th>\n",
       "      <td>Frozen</td>\n",
       "      <td>440.00</td>\n",
       "      <td>3071.93</td>\n",
       "      <td>4854.67</td>\n",
       "      <td>25.00</td>\n",
       "      <td>742.25</td>\n",
       "      <td>1526.00</td>\n",
       "      <td>3554.25</td>\n",
       "      <td>60869.00</td>\n",
       "    </tr>\n",
       "    <tr>\n",
       "      <th>4</th>\n",
       "      <td>Detergents_Paper</td>\n",
       "      <td>440.00</td>\n",
       "      <td>2881.49</td>\n",
       "      <td>4767.85</td>\n",
       "      <td>3.00</td>\n",
       "      <td>256.75</td>\n",
       "      <td>816.50</td>\n",
       "      <td>3922.00</td>\n",
       "      <td>40827.00</td>\n",
       "    </tr>\n",
       "    <tr>\n",
       "      <th>5</th>\n",
       "      <td>Delicatessen</td>\n",
       "      <td>440.00</td>\n",
       "      <td>1524.87</td>\n",
       "      <td>2820.11</td>\n",
       "      <td>3.00</td>\n",
       "      <td>408.25</td>\n",
       "      <td>965.50</td>\n",
       "      <td>1820.25</td>\n",
       "      <td>47943.00</td>\n",
       "    </tr>\n",
       "  </tbody>\n",
       "</table>\n",
       "</div>"
      ],
      "text/plain": [
       "              index  count     mean      std   min     25%     50%      75%  \\\n",
       "0             Fresh 440.00 12000.30 12647.33  3.00 3127.75 8504.00 16933.75   \n",
       "1              Milk 440.00  5796.27  7380.38 55.00 1533.00 3627.00  7190.25   \n",
       "2           Grocery 440.00  7951.28  9503.16  3.00 2153.00 4755.50 10655.75   \n",
       "3            Frozen 440.00  3071.93  4854.67 25.00  742.25 1526.00  3554.25   \n",
       "4  Detergents_Paper 440.00  2881.49  4767.85  3.00  256.75  816.50  3922.00   \n",
       "5      Delicatessen 440.00  1524.87  2820.11  3.00  408.25  965.50  1820.25   \n",
       "\n",
       "        max  \n",
       "0 112151.00  \n",
       "1  73498.00  \n",
       "2  92780.00  \n",
       "3  60869.00  \n",
       "4  40827.00  \n",
       "5  47943.00  "
      ]
     },
     "execution_count": 24,
     "metadata": {},
     "output_type": "execute_result"
    }
   ],
   "source": [
    "df_items2=df_items.describe().T.reset_index()\n",
    "df_items2"
   ]
  },
  {
   "cell_type": "code",
   "execution_count": 25,
   "id": "996845a7",
   "metadata": {},
   "outputs": [
    {
     "data": {
      "text/html": [
       "<div>\n",
       "<style scoped>\n",
       "    .dataframe tbody tr th:only-of-type {\n",
       "        vertical-align: middle;\n",
       "    }\n",
       "\n",
       "    .dataframe tbody tr th {\n",
       "        vertical-align: top;\n",
       "    }\n",
       "\n",
       "    .dataframe thead th {\n",
       "        text-align: right;\n",
       "    }\n",
       "</style>\n",
       "<table border=\"1\" class=\"dataframe\">\n",
       "  <thead>\n",
       "    <tr style=\"text-align: right;\">\n",
       "      <th></th>\n",
       "      <th>index</th>\n",
       "      <th>std</th>\n",
       "      <th>mean</th>\n",
       "    </tr>\n",
       "  </thead>\n",
       "  <tbody>\n",
       "    <tr>\n",
       "      <th>0</th>\n",
       "      <td>Fresh</td>\n",
       "      <td>12647.33</td>\n",
       "      <td>12000.30</td>\n",
       "    </tr>\n",
       "    <tr>\n",
       "      <th>1</th>\n",
       "      <td>Milk</td>\n",
       "      <td>7380.38</td>\n",
       "      <td>5796.27</td>\n",
       "    </tr>\n",
       "    <tr>\n",
       "      <th>2</th>\n",
       "      <td>Grocery</td>\n",
       "      <td>9503.16</td>\n",
       "      <td>7951.28</td>\n",
       "    </tr>\n",
       "    <tr>\n",
       "      <th>3</th>\n",
       "      <td>Frozen</td>\n",
       "      <td>4854.67</td>\n",
       "      <td>3071.93</td>\n",
       "    </tr>\n",
       "    <tr>\n",
       "      <th>4</th>\n",
       "      <td>Detergents_Paper</td>\n",
       "      <td>4767.85</td>\n",
       "      <td>2881.49</td>\n",
       "    </tr>\n",
       "    <tr>\n",
       "      <th>5</th>\n",
       "      <td>Delicatessen</td>\n",
       "      <td>2820.11</td>\n",
       "      <td>1524.87</td>\n",
       "    </tr>\n",
       "  </tbody>\n",
       "</table>\n",
       "</div>"
      ],
      "text/plain": [
       "              index      std     mean\n",
       "0             Fresh 12647.33 12000.30\n",
       "1              Milk  7380.38  5796.27\n",
       "2           Grocery  9503.16  7951.28\n",
       "3            Frozen  4854.67  3071.93\n",
       "4  Detergents_Paper  4767.85  2881.49\n",
       "5      Delicatessen  2820.11  1524.87"
      ]
     },
     "execution_count": 25,
     "metadata": {},
     "output_type": "execute_result"
    }
   ],
   "source": [
    "df_items3=df_items2[[\"index\",\"std\",\"mean\"]]\n",
    "df_items3"
   ]
  },
  {
   "cell_type": "code",
   "execution_count": 26,
   "id": "8966a82c",
   "metadata": {},
   "outputs": [
    {
     "name": "stderr",
     "output_type": "stream",
     "text": [
      "<ipython-input-26-3acb8cb76eca>:1: SettingWithCopyWarning: \n",
      "A value is trying to be set on a copy of a slice from a DataFrame.\n",
      "Try using .loc[row_indexer,col_indexer] = value instead\n",
      "\n",
      "See the caveats in the documentation: https://pandas.pydata.org/pandas-docs/stable/user_guide/indexing.html#returning-a-view-versus-a-copy\n",
      "  df_items3[\"variance\"]=df_items3[\"std\"]/df_items3[\"mean\"]\n"
     ]
    },
    {
     "data": {
      "text/html": [
       "<div>\n",
       "<style scoped>\n",
       "    .dataframe tbody tr th:only-of-type {\n",
       "        vertical-align: middle;\n",
       "    }\n",
       "\n",
       "    .dataframe tbody tr th {\n",
       "        vertical-align: top;\n",
       "    }\n",
       "\n",
       "    .dataframe thead th {\n",
       "        text-align: right;\n",
       "    }\n",
       "</style>\n",
       "<table border=\"1\" class=\"dataframe\">\n",
       "  <thead>\n",
       "    <tr style=\"text-align: right;\">\n",
       "      <th></th>\n",
       "      <th>index</th>\n",
       "      <th>std</th>\n",
       "      <th>mean</th>\n",
       "      <th>variance</th>\n",
       "    </tr>\n",
       "  </thead>\n",
       "  <tbody>\n",
       "    <tr>\n",
       "      <th>0</th>\n",
       "      <td>Fresh</td>\n",
       "      <td>12647.33</td>\n",
       "      <td>12000.30</td>\n",
       "      <td>1.05</td>\n",
       "    </tr>\n",
       "    <tr>\n",
       "      <th>2</th>\n",
       "      <td>Grocery</td>\n",
       "      <td>9503.16</td>\n",
       "      <td>7951.28</td>\n",
       "      <td>1.20</td>\n",
       "    </tr>\n",
       "    <tr>\n",
       "      <th>1</th>\n",
       "      <td>Milk</td>\n",
       "      <td>7380.38</td>\n",
       "      <td>5796.27</td>\n",
       "      <td>1.27</td>\n",
       "    </tr>\n",
       "    <tr>\n",
       "      <th>3</th>\n",
       "      <td>Frozen</td>\n",
       "      <td>4854.67</td>\n",
       "      <td>3071.93</td>\n",
       "      <td>1.58</td>\n",
       "    </tr>\n",
       "    <tr>\n",
       "      <th>4</th>\n",
       "      <td>Detergents_Paper</td>\n",
       "      <td>4767.85</td>\n",
       "      <td>2881.49</td>\n",
       "      <td>1.65</td>\n",
       "    </tr>\n",
       "    <tr>\n",
       "      <th>5</th>\n",
       "      <td>Delicatessen</td>\n",
       "      <td>2820.11</td>\n",
       "      <td>1524.87</td>\n",
       "      <td>1.85</td>\n",
       "    </tr>\n",
       "  </tbody>\n",
       "</table>\n",
       "</div>"
      ],
      "text/plain": [
       "              index      std     mean  variance\n",
       "0             Fresh 12647.33 12000.30      1.05\n",
       "2           Grocery  9503.16  7951.28      1.20\n",
       "1              Milk  7380.38  5796.27      1.27\n",
       "3            Frozen  4854.67  3071.93      1.58\n",
       "4  Detergents_Paper  4767.85  2881.49      1.65\n",
       "5      Delicatessen  2820.11  1524.87      1.85"
      ]
     },
     "execution_count": 26,
     "metadata": {},
     "output_type": "execute_result"
    }
   ],
   "source": [
    "df_items3[\"variance\"]=df_items3[\"std\"]/df_items3[\"mean\"]\n",
    "df_items3 = df_items3.sort_values(by=\"variance\")\n",
    "df_items3"
   ]
  },
  {
   "cell_type": "code",
   "execution_count": 27,
   "id": "5bc7ecfe",
   "metadata": {},
   "outputs": [
    {
     "data": {
      "text/plain": [
       "<AxesSubplot:xlabel='index', ylabel='variance'>"
      ]
     },
     "execution_count": 27,
     "metadata": {},
     "output_type": "execute_result"
    },
    {
     "data": {
      "image/png": "[encoded data removed]",
      "text/plain": [
       "<Figure size 720x288 with 1 Axes>"
      ]
     },
     "metadata": {
      "needs_background": "light"
     },
     "output_type": "display_data"
    }
   ],
   "source": [
    "plt.figure(figsize=(10,4))\n",
    "sns.barplot(x=df_items3[\"index\"],y=df_items3[\"variance\"])\n",
    "sns.lineplot(x=df_items3[\"index\"],y=df_items3[\"variance\"])"
   ]
  },
  {
   "cell_type": "markdown",
   "id": "59d7ccae",
   "metadata": {},
   "source": [
    "#### From above Chart we can clearly see that the variance for the Delicatessen is Most, thats why the most inconsistent behaviour is for the product \"Delicatessen\" and inconsistent behaviour is for \"Fresh\" products"
   ]
  },
  {
   "cell_type": "code",
   "execution_count": null,
   "id": "f5d99467",
   "metadata": {},
   "outputs": [],
   "source": []
  },
  {
   "cell_type": "code",
   "execution_count": null,
   "id": "0878fe06",
   "metadata": {},
   "outputs": [],
   "source": []
  },
  {
   "cell_type": "markdown",
   "id": "ce01079e",
   "metadata": {},
   "source": [
    "## 1.4 Are there any outliers in the data? Back up your answer with a suitable plot/technique with the help of detailed comments."
   ]
  },
  {
   "cell_type": "code",
   "execution_count": 28,
   "id": "8ae18dcf",
   "metadata": {},
   "outputs": [
    {
     "data": {
      "image/png": "[encoded data removed]",
      "text/plain": [
       "<Figure size 720x576 with 1 Axes>"
      ]
     },
     "metadata": {
      "needs_background": "light"
     },
     "output_type": "display_data"
    }
   ],
   "source": [
    "#plt.figure(figsize=(10,15))\n",
    "plt.figure(figsize=(10,8))\n",
    "sns.boxplot(data=df_items);"
   ]
  },
  {
   "cell_type": "markdown",
   "id": "97d0b951",
   "metadata": {},
   "source": [
    "#### Based on Boxplot we can see that we have outliers for every product."
   ]
  },
  {
   "cell_type": "code",
   "execution_count": null,
   "id": "6c737c62",
   "metadata": {},
   "outputs": [],
   "source": []
  },
  {
   "cell_type": "markdown",
   "id": "f33af357",
   "metadata": {},
   "source": [
    "## 1.5 On the basis of your analysis, what are your recommendations for the business? How can your analysis help the business to solve its problem? Answer from the business perspective"
   ]
  },
  {
   "cell_type": "code",
   "execution_count": 29,
   "id": "b4445fd7",
   "metadata": {},
   "outputs": [
    {
     "data": {
      "text/html": [
       "<div>\n",
       "<style scoped>\n",
       "    .dataframe tbody tr th:only-of-type {\n",
       "        vertical-align: middle;\n",
       "    }\n",
       "\n",
       "    .dataframe tbody tr th {\n",
       "        vertical-align: top;\n",
       "    }\n",
       "\n",
       "    .dataframe thead th {\n",
       "        text-align: right;\n",
       "    }\n",
       "</style>\n",
       "<table border=\"1\" class=\"dataframe\">\n",
       "  <thead>\n",
       "    <tr style=\"text-align: right;\">\n",
       "      <th></th>\n",
       "      <th>Buyer/Spender</th>\n",
       "      <th>Fresh</th>\n",
       "      <th>Milk</th>\n",
       "      <th>Grocery</th>\n",
       "      <th>Frozen</th>\n",
       "      <th>Detergents_Paper</th>\n",
       "      <th>Delicatessen</th>\n",
       "      <th>total_amount_spent</th>\n",
       "    </tr>\n",
       "  </thead>\n",
       "  <tbody>\n",
       "    <tr>\n",
       "      <th>count</th>\n",
       "      <td>440.00</td>\n",
       "      <td>440.00</td>\n",
       "      <td>440.00</td>\n",
       "      <td>440.00</td>\n",
       "      <td>440.00</td>\n",
       "      <td>440.00</td>\n",
       "      <td>440.00</td>\n",
       "      <td>440.00</td>\n",
       "    </tr>\n",
       "    <tr>\n",
       "      <th>mean</th>\n",
       "      <td>220.50</td>\n",
       "      <td>12000.30</td>\n",
       "      <td>5796.27</td>\n",
       "      <td>7951.28</td>\n",
       "      <td>3071.93</td>\n",
       "      <td>2881.49</td>\n",
       "      <td>1524.87</td>\n",
       "      <td>33226.14</td>\n",
       "    </tr>\n",
       "    <tr>\n",
       "      <th>std</th>\n",
       "      <td>127.16</td>\n",
       "      <td>12647.33</td>\n",
       "      <td>7380.38</td>\n",
       "      <td>9503.16</td>\n",
       "      <td>4854.67</td>\n",
       "      <td>4767.85</td>\n",
       "      <td>2820.11</td>\n",
       "      <td>26356.30</td>\n",
       "    </tr>\n",
       "    <tr>\n",
       "      <th>min</th>\n",
       "      <td>1.00</td>\n",
       "      <td>3.00</td>\n",
       "      <td>55.00</td>\n",
       "      <td>3.00</td>\n",
       "      <td>25.00</td>\n",
       "      <td>3.00</td>\n",
       "      <td>3.00</td>\n",
       "      <td>904.00</td>\n",
       "    </tr>\n",
       "    <tr>\n",
       "      <th>25%</th>\n",
       "      <td>110.75</td>\n",
       "      <td>3127.75</td>\n",
       "      <td>1533.00</td>\n",
       "      <td>2153.00</td>\n",
       "      <td>742.25</td>\n",
       "      <td>256.75</td>\n",
       "      <td>408.25</td>\n",
       "      <td>17448.75</td>\n",
       "    </tr>\n",
       "    <tr>\n",
       "      <th>50%</th>\n",
       "      <td>220.50</td>\n",
       "      <td>8504.00</td>\n",
       "      <td>3627.00</td>\n",
       "      <td>4755.50</td>\n",
       "      <td>1526.00</td>\n",
       "      <td>816.50</td>\n",
       "      <td>965.50</td>\n",
       "      <td>27492.00</td>\n",
       "    </tr>\n",
       "    <tr>\n",
       "      <th>75%</th>\n",
       "      <td>330.25</td>\n",
       "      <td>16933.75</td>\n",
       "      <td>7190.25</td>\n",
       "      <td>10655.75</td>\n",
       "      <td>3554.25</td>\n",
       "      <td>3922.00</td>\n",
       "      <td>1820.25</td>\n",
       "      <td>41307.50</td>\n",
       "    </tr>\n",
       "    <tr>\n",
       "      <th>max</th>\n",
       "      <td>440.00</td>\n",
       "      <td>112151.00</td>\n",
       "      <td>73498.00</td>\n",
       "      <td>92780.00</td>\n",
       "      <td>60869.00</td>\n",
       "      <td>40827.00</td>\n",
       "      <td>47943.00</td>\n",
       "      <td>199891.00</td>\n",
       "    </tr>\n",
       "  </tbody>\n",
       "</table>\n",
       "</div>"
      ],
      "text/plain": [
       "       Buyer/Spender     Fresh     Milk  Grocery   Frozen  Detergents_Paper  \\\n",
       "count         440.00    440.00   440.00   440.00   440.00            440.00   \n",
       "mean          220.50  12000.30  5796.27  7951.28  3071.93           2881.49   \n",
       "std           127.16  12647.33  7380.38  9503.16  4854.67           4767.85   \n",
       "min             1.00      3.00    55.00     3.00    25.00              3.00   \n",
       "25%           110.75   3127.75  1533.00  2153.00   742.25            256.75   \n",
       "50%           220.50   8504.00  3627.00  4755.50  1526.00            816.50   \n",
       "75%           330.25  16933.75  7190.25 10655.75  3554.25           3922.00   \n",
       "max           440.00 112151.00 73498.00 92780.00 60869.00          40827.00   \n",
       "\n",
       "       Delicatessen  total_amount_spent  \n",
       "count        440.00              440.00  \n",
       "mean        1524.87            33226.14  \n",
       "std         2820.11            26356.30  \n",
       "min            3.00              904.00  \n",
       "25%          408.25            17448.75  \n",
       "50%          965.50            27492.00  \n",
       "75%         1820.25            41307.50  \n",
       "max        47943.00           199891.00  "
      ]
     },
     "execution_count": 29,
     "metadata": {},
     "output_type": "execute_result"
    }
   ],
   "source": [
    "df.describe()"
   ]
  },
  {
   "cell_type": "code",
   "execution_count": 30,
   "id": "f9ed984a",
   "metadata": {},
   "outputs": [
    {
     "data": {
      "text/html": [
       "<div>\n",
       "<style scoped>\n",
       "    .dataframe tbody tr th:only-of-type {\n",
       "        vertical-align: middle;\n",
       "    }\n",
       "\n",
       "    .dataframe tbody tr th {\n",
       "        vertical-align: top;\n",
       "    }\n",
       "\n",
       "    .dataframe thead th {\n",
       "        text-align: right;\n",
       "    }\n",
       "</style>\n",
       "<table border=\"1\" class=\"dataframe\">\n",
       "  <thead>\n",
       "    <tr style=\"text-align: right;\">\n",
       "      <th></th>\n",
       "      <th>index</th>\n",
       "      <th>std</th>\n",
       "      <th>mean</th>\n",
       "      <th>variance</th>\n",
       "    </tr>\n",
       "  </thead>\n",
       "  <tbody>\n",
       "    <tr>\n",
       "      <th>0</th>\n",
       "      <td>Fresh</td>\n",
       "      <td>12647.33</td>\n",
       "      <td>12000.30</td>\n",
       "      <td>1.05</td>\n",
       "    </tr>\n",
       "    <tr>\n",
       "      <th>2</th>\n",
       "      <td>Grocery</td>\n",
       "      <td>9503.16</td>\n",
       "      <td>7951.28</td>\n",
       "      <td>1.20</td>\n",
       "    </tr>\n",
       "    <tr>\n",
       "      <th>1</th>\n",
       "      <td>Milk</td>\n",
       "      <td>7380.38</td>\n",
       "      <td>5796.27</td>\n",
       "      <td>1.27</td>\n",
       "    </tr>\n",
       "    <tr>\n",
       "      <th>3</th>\n",
       "      <td>Frozen</td>\n",
       "      <td>4854.67</td>\n",
       "      <td>3071.93</td>\n",
       "      <td>1.58</td>\n",
       "    </tr>\n",
       "    <tr>\n",
       "      <th>4</th>\n",
       "      <td>Detergents_Paper</td>\n",
       "      <td>4767.85</td>\n",
       "      <td>2881.49</td>\n",
       "      <td>1.65</td>\n",
       "    </tr>\n",
       "    <tr>\n",
       "      <th>5</th>\n",
       "      <td>Delicatessen</td>\n",
       "      <td>2820.11</td>\n",
       "      <td>1524.87</td>\n",
       "      <td>1.85</td>\n",
       "    </tr>\n",
       "  </tbody>\n",
       "</table>\n",
       "</div>"
      ],
      "text/plain": [
       "              index      std     mean  variance\n",
       "0             Fresh 12647.33 12000.30      1.05\n",
       "2           Grocery  9503.16  7951.28      1.20\n",
       "1              Milk  7380.38  5796.27      1.27\n",
       "3            Frozen  4854.67  3071.93      1.58\n",
       "4  Detergents_Paper  4767.85  2881.49      1.65\n",
       "5      Delicatessen  2820.11  1524.87      1.85"
      ]
     },
     "execution_count": 30,
     "metadata": {},
     "output_type": "execute_result"
    }
   ],
   "source": [
    "df_items3[\"variance\"]=df_items3[\"std\"]/df_items3[\"mean\"]\n",
    "df_items3 = df_items3.sort_values(by=\"variance\")\n",
    "df_items3"
   ]
  },
  {
   "cell_type": "code",
   "execution_count": null,
   "id": "78ab0fbb",
   "metadata": {},
   "outputs": [],
   "source": []
  },
  {
   "cell_type": "markdown",
   "id": "ed00e8ec",
   "metadata": {},
   "source": [
    "### Since we do not have enough data available in data source, example: profit or loss information, we can not judge if spendng more money on any product is good for the business or spending less money is good,\n",
    "\n",
    "### If we ASSUME that profits are same in ration for all the products , and bassed on variance in above chart we can suggest that Spending behaviour has lot of variations in Product \"Delicatessen\" so amount spend should be equally distributed in all of the products, to forseen the future market."
   ]
  },
  {
   "cell_type": "code",
   "execution_count": null,
   "id": "f83ef02e",
   "metadata": {},
   "outputs": [],
   "source": []
  },
  {
   "cell_type": "markdown",
   "id": "49317e30",
   "metadata": {},
   "source": [
    "# Solving Problem 2  \n",
    "\n",
    "## The Student News Service at Clear Mountain State University (CMSU) has decided to gather data about the undergraduate students that attend CMSU. CMSU creates and distributes a survey of 14 questions and receives responses from 62 undergraduates (stored in the Survey data set)."
   ]
  },
  {
   "cell_type": "code",
   "execution_count": 31,
   "id": "ad5d8da3",
   "metadata": {},
   "outputs": [
    {
     "data": {
      "text/html": [
       "<div>\n",
       "<style scoped>\n",
       "    .dataframe tbody tr th:only-of-type {\n",
       "        vertical-align: middle;\n",
       "    }\n",
       "\n",
       "    .dataframe tbody tr th {\n",
       "        vertical-align: top;\n",
       "    }\n",
       "\n",
       "    .dataframe thead th {\n",
       "        text-align: right;\n",
       "    }\n",
       "</style>\n",
       "<table border=\"1\" class=\"dataframe\">\n",
       "  <thead>\n",
       "    <tr style=\"text-align: right;\">\n",
       "      <th></th>\n",
       "      <th>ID</th>\n",
       "      <th>Gender</th>\n",
       "      <th>Age</th>\n",
       "      <th>Class</th>\n",
       "      <th>Major</th>\n",
       "      <th>Grad Intention</th>\n",
       "      <th>GPA</th>\n",
       "      <th>Employment</th>\n",
       "      <th>Salary</th>\n",
       "      <th>Social Networking</th>\n",
       "      <th>Satisfaction</th>\n",
       "      <th>Spending</th>\n",
       "      <th>Computer</th>\n",
       "      <th>Text Messages</th>\n",
       "    </tr>\n",
       "  </thead>\n",
       "  <tbody>\n",
       "    <tr>\n",
       "      <th>0</th>\n",
       "      <td>1</td>\n",
       "      <td>Female</td>\n",
       "      <td>20</td>\n",
       "      <td>Junior</td>\n",
       "      <td>Other</td>\n",
       "      <td>Yes</td>\n",
       "      <td>2.90</td>\n",
       "      <td>Full-Time</td>\n",
       "      <td>50.00</td>\n",
       "      <td>1</td>\n",
       "      <td>3</td>\n",
       "      <td>350</td>\n",
       "      <td>Laptop</td>\n",
       "      <td>200</td>\n",
       "    </tr>\n",
       "    <tr>\n",
       "      <th>1</th>\n",
       "      <td>2</td>\n",
       "      <td>Male</td>\n",
       "      <td>23</td>\n",
       "      <td>Senior</td>\n",
       "      <td>Management</td>\n",
       "      <td>Yes</td>\n",
       "      <td>3.60</td>\n",
       "      <td>Part-Time</td>\n",
       "      <td>25.00</td>\n",
       "      <td>1</td>\n",
       "      <td>4</td>\n",
       "      <td>360</td>\n",
       "      <td>Laptop</td>\n",
       "      <td>50</td>\n",
       "    </tr>\n",
       "    <tr>\n",
       "      <th>2</th>\n",
       "      <td>3</td>\n",
       "      <td>Male</td>\n",
       "      <td>21</td>\n",
       "      <td>Junior</td>\n",
       "      <td>Other</td>\n",
       "      <td>Yes</td>\n",
       "      <td>2.50</td>\n",
       "      <td>Part-Time</td>\n",
       "      <td>45.00</td>\n",
       "      <td>2</td>\n",
       "      <td>4</td>\n",
       "      <td>600</td>\n",
       "      <td>Laptop</td>\n",
       "      <td>200</td>\n",
       "    </tr>\n",
       "    <tr>\n",
       "      <th>3</th>\n",
       "      <td>4</td>\n",
       "      <td>Male</td>\n",
       "      <td>21</td>\n",
       "      <td>Junior</td>\n",
       "      <td>CIS</td>\n",
       "      <td>Yes</td>\n",
       "      <td>2.50</td>\n",
       "      <td>Full-Time</td>\n",
       "      <td>40.00</td>\n",
       "      <td>4</td>\n",
       "      <td>6</td>\n",
       "      <td>600</td>\n",
       "      <td>Laptop</td>\n",
       "      <td>250</td>\n",
       "    </tr>\n",
       "    <tr>\n",
       "      <th>4</th>\n",
       "      <td>5</td>\n",
       "      <td>Male</td>\n",
       "      <td>23</td>\n",
       "      <td>Senior</td>\n",
       "      <td>Other</td>\n",
       "      <td>Undecided</td>\n",
       "      <td>2.80</td>\n",
       "      <td>Unemployed</td>\n",
       "      <td>40.00</td>\n",
       "      <td>2</td>\n",
       "      <td>4</td>\n",
       "      <td>500</td>\n",
       "      <td>Laptop</td>\n",
       "      <td>100</td>\n",
       "    </tr>\n",
       "  </tbody>\n",
       "</table>\n",
       "</div>"
      ],
      "text/plain": [
       "   ID  Gender  Age   Class       Major Grad Intention  GPA  Employment  \\\n",
       "0   1  Female   20  Junior       Other            Yes 2.90   Full-Time   \n",
       "1   2    Male   23  Senior  Management            Yes 3.60   Part-Time   \n",
       "2   3    Male   21  Junior       Other            Yes 2.50   Part-Time   \n",
       "3   4    Male   21  Junior         CIS            Yes 2.50   Full-Time   \n",
       "4   5    Male   23  Senior       Other      Undecided 2.80  Unemployed   \n",
       "\n",
       "   Salary  Social Networking  Satisfaction  Spending Computer  Text Messages  \n",
       "0   50.00                  1             3       350   Laptop            200  \n",
       "1   25.00                  1             4       360   Laptop             50  \n",
       "2   45.00                  2             4       600   Laptop            200  \n",
       "3   40.00                  4             6       600   Laptop            250  \n",
       "4   40.00                  2             4       500   Laptop            100  "
      ]
     },
     "execution_count": 31,
     "metadata": {},
     "output_type": "execute_result"
    }
   ],
   "source": [
    "stud_srvey = pd.read_csv(\"Survey.csv\")\n",
    "stud_srvey.head()"
   ]
  },
  {
   "cell_type": "code",
   "execution_count": 32,
   "id": "959e6d7d",
   "metadata": {},
   "outputs": [
    {
     "data": {
      "text/html": [
       "<div>\n",
       "<style scoped>\n",
       "    .dataframe tbody tr th:only-of-type {\n",
       "        vertical-align: middle;\n",
       "    }\n",
       "\n",
       "    .dataframe tbody tr th {\n",
       "        vertical-align: top;\n",
       "    }\n",
       "\n",
       "    .dataframe thead th {\n",
       "        text-align: right;\n",
       "    }\n",
       "</style>\n",
       "<table border=\"1\" class=\"dataframe\">\n",
       "  <thead>\n",
       "    <tr style=\"text-align: right;\">\n",
       "      <th></th>\n",
       "      <th>Gender</th>\n",
       "      <th>Computer</th>\n",
       "      <th>ID</th>\n",
       "      <th>Age</th>\n",
       "      <th>Class</th>\n",
       "      <th>Major</th>\n",
       "      <th>Grad Intention</th>\n",
       "      <th>GPA</th>\n",
       "      <th>Employment</th>\n",
       "      <th>Salary</th>\n",
       "      <th>Social Networking</th>\n",
       "      <th>Satisfaction</th>\n",
       "      <th>Spending</th>\n",
       "      <th>Text Messages</th>\n",
       "    </tr>\n",
       "  </thead>\n",
       "  <tbody>\n",
       "    <tr>\n",
       "      <th>0</th>\n",
       "      <td>Female</td>\n",
       "      <td>Desktop</td>\n",
       "      <td>2</td>\n",
       "      <td>2</td>\n",
       "      <td>2</td>\n",
       "      <td>2</td>\n",
       "      <td>2</td>\n",
       "      <td>2</td>\n",
       "      <td>2</td>\n",
       "      <td>2</td>\n",
       "      <td>2</td>\n",
       "      <td>2</td>\n",
       "      <td>2</td>\n",
       "      <td>2</td>\n",
       "    </tr>\n",
       "    <tr>\n",
       "      <th>1</th>\n",
       "      <td>Female</td>\n",
       "      <td>Laptop</td>\n",
       "      <td>29</td>\n",
       "      <td>29</td>\n",
       "      <td>29</td>\n",
       "      <td>29</td>\n",
       "      <td>29</td>\n",
       "      <td>29</td>\n",
       "      <td>29</td>\n",
       "      <td>29</td>\n",
       "      <td>29</td>\n",
       "      <td>29</td>\n",
       "      <td>29</td>\n",
       "      <td>29</td>\n",
       "    </tr>\n",
       "    <tr>\n",
       "      <th>2</th>\n",
       "      <td>Female</td>\n",
       "      <td>Tablet</td>\n",
       "      <td>2</td>\n",
       "      <td>2</td>\n",
       "      <td>2</td>\n",
       "      <td>2</td>\n",
       "      <td>2</td>\n",
       "      <td>2</td>\n",
       "      <td>2</td>\n",
       "      <td>2</td>\n",
       "      <td>2</td>\n",
       "      <td>2</td>\n",
       "      <td>2</td>\n",
       "      <td>2</td>\n",
       "    </tr>\n",
       "    <tr>\n",
       "      <th>3</th>\n",
       "      <td>Male</td>\n",
       "      <td>Desktop</td>\n",
       "      <td>3</td>\n",
       "      <td>3</td>\n",
       "      <td>3</td>\n",
       "      <td>3</td>\n",
       "      <td>3</td>\n",
       "      <td>3</td>\n",
       "      <td>3</td>\n",
       "      <td>3</td>\n",
       "      <td>3</td>\n",
       "      <td>3</td>\n",
       "      <td>3</td>\n",
       "      <td>3</td>\n",
       "    </tr>\n",
       "    <tr>\n",
       "      <th>4</th>\n",
       "      <td>Male</td>\n",
       "      <td>Laptop</td>\n",
       "      <td>26</td>\n",
       "      <td>26</td>\n",
       "      <td>26</td>\n",
       "      <td>26</td>\n",
       "      <td>26</td>\n",
       "      <td>26</td>\n",
       "      <td>26</td>\n",
       "      <td>26</td>\n",
       "      <td>26</td>\n",
       "      <td>26</td>\n",
       "      <td>26</td>\n",
       "      <td>26</td>\n",
       "    </tr>\n",
       "  </tbody>\n",
       "</table>\n",
       "</div>"
      ],
      "text/plain": [
       "   Gender Computer  ID  Age  Class  Major  Grad Intention  GPA  Employment  \\\n",
       "0  Female  Desktop   2    2      2      2               2    2           2   \n",
       "1  Female   Laptop  29   29     29     29              29   29          29   \n",
       "2  Female   Tablet   2    2      2      2               2    2           2   \n",
       "3    Male  Desktop   3    3      3      3               3    3           3   \n",
       "4    Male   Laptop  26   26     26     26              26   26          26   \n",
       "\n",
       "   Salary  Social Networking  Satisfaction  Spending  Text Messages  \n",
       "0       2                  2             2         2              2  \n",
       "1      29                 29            29        29             29  \n",
       "2       2                  2             2         2              2  \n",
       "3       3                  3             3         3              3  \n",
       "4      26                 26            26        26             26  "
      ]
     },
     "execution_count": 32,
     "metadata": {},
     "output_type": "execute_result"
    }
   ],
   "source": [
    "stud_srvey.groupby([\"Gender\",\"Computer\"]).count().reset_index()"
   ]
  },
  {
   "cell_type": "code",
   "execution_count": null,
   "id": "1fbefe16",
   "metadata": {},
   "outputs": [],
   "source": []
  },
  {
   "cell_type": "markdown",
   "id": "92779154",
   "metadata": {},
   "source": [
    "## 2.1. For this data, construct the following contingency tables (Keep Gender as row variable)"
   ]
  },
  {
   "cell_type": "markdown",
   "id": "98df2317",
   "metadata": {},
   "source": [
    "## 2.1.1. Gender and Major"
   ]
  },
  {
   "cell_type": "code",
   "execution_count": 33,
   "id": "35ddbfa6",
   "metadata": {},
   "outputs": [
    {
     "data": {
      "text/html": [
       "<div>\n",
       "<style scoped>\n",
       "    .dataframe tbody tr th:only-of-type {\n",
       "        vertical-align: middle;\n",
       "    }\n",
       "\n",
       "    .dataframe tbody tr th {\n",
       "        vertical-align: top;\n",
       "    }\n",
       "\n",
       "    .dataframe thead th {\n",
       "        text-align: right;\n",
       "    }\n",
       "</style>\n",
       "<table border=\"1\" class=\"dataframe\">\n",
       "  <thead>\n",
       "    <tr style=\"text-align: right;\">\n",
       "      <th>Major</th>\n",
       "      <th>Accounting</th>\n",
       "      <th>CIS</th>\n",
       "      <th>Economics/Finance</th>\n",
       "      <th>International Business</th>\n",
       "      <th>Management</th>\n",
       "      <th>Other</th>\n",
       "      <th>Retailing/Marketing</th>\n",
       "      <th>Undecided</th>\n",
       "    </tr>\n",
       "    <tr>\n",
       "      <th>Gender</th>\n",
       "      <th></th>\n",
       "      <th></th>\n",
       "      <th></th>\n",
       "      <th></th>\n",
       "      <th></th>\n",
       "      <th></th>\n",
       "      <th></th>\n",
       "      <th></th>\n",
       "    </tr>\n",
       "  </thead>\n",
       "  <tbody>\n",
       "    <tr>\n",
       "      <th>Female</th>\n",
       "      <td>3</td>\n",
       "      <td>3</td>\n",
       "      <td>7</td>\n",
       "      <td>4</td>\n",
       "      <td>4</td>\n",
       "      <td>3</td>\n",
       "      <td>9</td>\n",
       "      <td>0</td>\n",
       "    </tr>\n",
       "    <tr>\n",
       "      <th>Male</th>\n",
       "      <td>4</td>\n",
       "      <td>1</td>\n",
       "      <td>4</td>\n",
       "      <td>2</td>\n",
       "      <td>6</td>\n",
       "      <td>4</td>\n",
       "      <td>5</td>\n",
       "      <td>3</td>\n",
       "    </tr>\n",
       "  </tbody>\n",
       "</table>\n",
       "</div>"
      ],
      "text/plain": [
       "Major   Accounting  CIS  Economics/Finance  International Business  \\\n",
       "Gender                                                               \n",
       "Female           3    3                  7                       4   \n",
       "Male             4    1                  4                       2   \n",
       "\n",
       "Major   Management  Other  Retailing/Marketing  Undecided  \n",
       "Gender                                                     \n",
       "Female           4      3                    9          0  \n",
       "Male             6      4                    5          3  "
      ]
     },
     "execution_count": 33,
     "metadata": {},
     "output_type": "execute_result"
    }
   ],
   "source": [
    "stud_gender_major=pd.crosstab(stud_srvey['Gender'],stud_srvey['Major'])\n",
    "stud_gender_major"
   ]
  },
  {
   "cell_type": "markdown",
   "id": "5a097c43",
   "metadata": {},
   "source": [
    "## 2.1.2. Gender and Grad Intention"
   ]
  },
  {
   "cell_type": "code",
   "execution_count": 34,
   "id": "a59e06dc",
   "metadata": {},
   "outputs": [
    {
     "data": {
      "text/html": [
       "<div>\n",
       "<style scoped>\n",
       "    .dataframe tbody tr th:only-of-type {\n",
       "        vertical-align: middle;\n",
       "    }\n",
       "\n",
       "    .dataframe tbody tr th {\n",
       "        vertical-align: top;\n",
       "    }\n",
       "\n",
       "    .dataframe thead th {\n",
       "        text-align: right;\n",
       "    }\n",
       "</style>\n",
       "<table border=\"1\" class=\"dataframe\">\n",
       "  <thead>\n",
       "    <tr style=\"text-align: right;\">\n",
       "      <th>Grad Intention</th>\n",
       "      <th>Gender</th>\n",
       "      <th>No</th>\n",
       "      <th>Undecided</th>\n",
       "      <th>Yes</th>\n",
       "    </tr>\n",
       "  </thead>\n",
       "  <tbody>\n",
       "    <tr>\n",
       "      <th>0</th>\n",
       "      <td>Female</td>\n",
       "      <td>9</td>\n",
       "      <td>13</td>\n",
       "      <td>11</td>\n",
       "    </tr>\n",
       "    <tr>\n",
       "      <th>1</th>\n",
       "      <td>Male</td>\n",
       "      <td>3</td>\n",
       "      <td>9</td>\n",
       "      <td>17</td>\n",
       "    </tr>\n",
       "  </tbody>\n",
       "</table>\n",
       "</div>"
      ],
      "text/plain": [
       "Grad Intention  Gender  No  Undecided  Yes\n",
       "0               Female   9         13   11\n",
       "1                 Male   3          9   17"
      ]
     },
     "execution_count": 34,
     "metadata": {},
     "output_type": "execute_result"
    }
   ],
   "source": [
    "stud_gender_grad_intention=pd.crosstab(stud_srvey['Gender'],stud_srvey['Grad Intention']).reset_index()\n",
    "stud_gender_grad_intention"
   ]
  },
  {
   "cell_type": "markdown",
   "id": "f14157f4",
   "metadata": {},
   "source": [
    "## 2.1.3. Gender and Employment"
   ]
  },
  {
   "cell_type": "code",
   "execution_count": 35,
   "id": "c6437c98",
   "metadata": {},
   "outputs": [
    {
     "data": {
      "text/html": [
       "<div>\n",
       "<style scoped>\n",
       "    .dataframe tbody tr th:only-of-type {\n",
       "        vertical-align: middle;\n",
       "    }\n",
       "\n",
       "    .dataframe tbody tr th {\n",
       "        vertical-align: top;\n",
       "    }\n",
       "\n",
       "    .dataframe thead th {\n",
       "        text-align: right;\n",
       "    }\n",
       "</style>\n",
       "<table border=\"1\" class=\"dataframe\">\n",
       "  <thead>\n",
       "    <tr style=\"text-align: right;\">\n",
       "      <th>Employment</th>\n",
       "      <th>Gender</th>\n",
       "      <th>Full-Time</th>\n",
       "      <th>Part-Time</th>\n",
       "      <th>Unemployed</th>\n",
       "    </tr>\n",
       "  </thead>\n",
       "  <tbody>\n",
       "    <tr>\n",
       "      <th>0</th>\n",
       "      <td>Female</td>\n",
       "      <td>3</td>\n",
       "      <td>24</td>\n",
       "      <td>6</td>\n",
       "    </tr>\n",
       "    <tr>\n",
       "      <th>1</th>\n",
       "      <td>Male</td>\n",
       "      <td>7</td>\n",
       "      <td>19</td>\n",
       "      <td>3</td>\n",
       "    </tr>\n",
       "  </tbody>\n",
       "</table>\n",
       "</div>"
      ],
      "text/plain": [
       "Employment  Gender  Full-Time  Part-Time  Unemployed\n",
       "0           Female          3         24           6\n",
       "1             Male          7         19           3"
      ]
     },
     "execution_count": 35,
     "metadata": {},
     "output_type": "execute_result"
    }
   ],
   "source": [
    "stud_gender_employment=pd.crosstab(stud_srvey['Gender'],stud_srvey['Employment']).reset_index()\n",
    "stud_gender_employment"
   ]
  },
  {
   "cell_type": "markdown",
   "id": "b0f54580",
   "metadata": {},
   "source": [
    "## 2.1.4. Gender and Computer"
   ]
  },
  {
   "cell_type": "code",
   "execution_count": 36,
   "id": "66b53d6d",
   "metadata": {},
   "outputs": [
    {
     "data": {
      "text/html": [
       "<div>\n",
       "<style scoped>\n",
       "    .dataframe tbody tr th:only-of-type {\n",
       "        vertical-align: middle;\n",
       "    }\n",
       "\n",
       "    .dataframe tbody tr th {\n",
       "        vertical-align: top;\n",
       "    }\n",
       "\n",
       "    .dataframe thead th {\n",
       "        text-align: right;\n",
       "    }\n",
       "</style>\n",
       "<table border=\"1\" class=\"dataframe\">\n",
       "  <thead>\n",
       "    <tr style=\"text-align: right;\">\n",
       "      <th>Computer</th>\n",
       "      <th>Gender</th>\n",
       "      <th>Desktop</th>\n",
       "      <th>Laptop</th>\n",
       "      <th>Tablet</th>\n",
       "    </tr>\n",
       "  </thead>\n",
       "  <tbody>\n",
       "    <tr>\n",
       "      <th>0</th>\n",
       "      <td>Female</td>\n",
       "      <td>2</td>\n",
       "      <td>29</td>\n",
       "      <td>2</td>\n",
       "    </tr>\n",
       "    <tr>\n",
       "      <th>1</th>\n",
       "      <td>Male</td>\n",
       "      <td>3</td>\n",
       "      <td>26</td>\n",
       "      <td>0</td>\n",
       "    </tr>\n",
       "  </tbody>\n",
       "</table>\n",
       "</div>"
      ],
      "text/plain": [
       "Computer  Gender  Desktop  Laptop  Tablet\n",
       "0         Female        2      29       2\n",
       "1           Male        3      26       0"
      ]
     },
     "execution_count": 36,
     "metadata": {},
     "output_type": "execute_result"
    }
   ],
   "source": [
    "stud_gender_computer=pd.crosstab(stud_srvey['Gender'],stud_srvey['Computer']).reset_index()\n",
    "stud_gender_computer"
   ]
  },
  {
   "cell_type": "code",
   "execution_count": null,
   "id": "364db26b",
   "metadata": {},
   "outputs": [],
   "source": []
  },
  {
   "cell_type": "markdown",
   "id": "6813c354",
   "metadata": {},
   "source": [
    "## 2.2. Assume that the sample is representative of the population of CMSU. Based on the data, answer the following question:"
   ]
  },
  {
   "cell_type": "markdown",
   "id": "eca9eab8",
   "metadata": {},
   "source": [
    "## 2.2.1. What is the probability that a randomly selected CMSU student will be male?"
   ]
  },
  {
   "cell_type": "code",
   "execution_count": 37,
   "id": "31d3c097",
   "metadata": {},
   "outputs": [
    {
     "data": {
      "text/html": [
       "<div>\n",
       "<style scoped>\n",
       "    .dataframe tbody tr th:only-of-type {\n",
       "        vertical-align: middle;\n",
       "    }\n",
       "\n",
       "    .dataframe tbody tr th {\n",
       "        vertical-align: top;\n",
       "    }\n",
       "\n",
       "    .dataframe thead th {\n",
       "        text-align: right;\n",
       "    }\n",
       "</style>\n",
       "<table border=\"1\" class=\"dataframe\">\n",
       "  <thead>\n",
       "    <tr style=\"text-align: right;\">\n",
       "      <th></th>\n",
       "      <th>ID</th>\n",
       "      <th>Gender</th>\n",
       "      <th>Age</th>\n",
       "      <th>Class</th>\n",
       "      <th>Major</th>\n",
       "      <th>Grad Intention</th>\n",
       "      <th>GPA</th>\n",
       "      <th>Employment</th>\n",
       "      <th>Salary</th>\n",
       "      <th>Social Networking</th>\n",
       "      <th>Satisfaction</th>\n",
       "      <th>Spending</th>\n",
       "      <th>Computer</th>\n",
       "      <th>Text Messages</th>\n",
       "    </tr>\n",
       "  </thead>\n",
       "  <tbody>\n",
       "    <tr>\n",
       "      <th>0</th>\n",
       "      <td>1</td>\n",
       "      <td>Female</td>\n",
       "      <td>20</td>\n",
       "      <td>Junior</td>\n",
       "      <td>Other</td>\n",
       "      <td>Yes</td>\n",
       "      <td>2.90</td>\n",
       "      <td>Full-Time</td>\n",
       "      <td>50.00</td>\n",
       "      <td>1</td>\n",
       "      <td>3</td>\n",
       "      <td>350</td>\n",
       "      <td>Laptop</td>\n",
       "      <td>200</td>\n",
       "    </tr>\n",
       "    <tr>\n",
       "      <th>1</th>\n",
       "      <td>2</td>\n",
       "      <td>Male</td>\n",
       "      <td>23</td>\n",
       "      <td>Senior</td>\n",
       "      <td>Management</td>\n",
       "      <td>Yes</td>\n",
       "      <td>3.60</td>\n",
       "      <td>Part-Time</td>\n",
       "      <td>25.00</td>\n",
       "      <td>1</td>\n",
       "      <td>4</td>\n",
       "      <td>360</td>\n",
       "      <td>Laptop</td>\n",
       "      <td>50</td>\n",
       "    </tr>\n",
       "    <tr>\n",
       "      <th>2</th>\n",
       "      <td>3</td>\n",
       "      <td>Male</td>\n",
       "      <td>21</td>\n",
       "      <td>Junior</td>\n",
       "      <td>Other</td>\n",
       "      <td>Yes</td>\n",
       "      <td>2.50</td>\n",
       "      <td>Part-Time</td>\n",
       "      <td>45.00</td>\n",
       "      <td>2</td>\n",
       "      <td>4</td>\n",
       "      <td>600</td>\n",
       "      <td>Laptop</td>\n",
       "      <td>200</td>\n",
       "    </tr>\n",
       "    <tr>\n",
       "      <th>3</th>\n",
       "      <td>4</td>\n",
       "      <td>Male</td>\n",
       "      <td>21</td>\n",
       "      <td>Junior</td>\n",
       "      <td>CIS</td>\n",
       "      <td>Yes</td>\n",
       "      <td>2.50</td>\n",
       "      <td>Full-Time</td>\n",
       "      <td>40.00</td>\n",
       "      <td>4</td>\n",
       "      <td>6</td>\n",
       "      <td>600</td>\n",
       "      <td>Laptop</td>\n",
       "      <td>250</td>\n",
       "    </tr>\n",
       "    <tr>\n",
       "      <th>4</th>\n",
       "      <td>5</td>\n",
       "      <td>Male</td>\n",
       "      <td>23</td>\n",
       "      <td>Senior</td>\n",
       "      <td>Other</td>\n",
       "      <td>Undecided</td>\n",
       "      <td>2.80</td>\n",
       "      <td>Unemployed</td>\n",
       "      <td>40.00</td>\n",
       "      <td>2</td>\n",
       "      <td>4</td>\n",
       "      <td>500</td>\n",
       "      <td>Laptop</td>\n",
       "      <td>100</td>\n",
       "    </tr>\n",
       "    <tr>\n",
       "      <th>...</th>\n",
       "      <td>...</td>\n",
       "      <td>...</td>\n",
       "      <td>...</td>\n",
       "      <td>...</td>\n",
       "      <td>...</td>\n",
       "      <td>...</td>\n",
       "      <td>...</td>\n",
       "      <td>...</td>\n",
       "      <td>...</td>\n",
       "      <td>...</td>\n",
       "      <td>...</td>\n",
       "      <td>...</td>\n",
       "      <td>...</td>\n",
       "      <td>...</td>\n",
       "    </tr>\n",
       "    <tr>\n",
       "      <th>57</th>\n",
       "      <td>58</td>\n",
       "      <td>Female</td>\n",
       "      <td>21</td>\n",
       "      <td>Senior</td>\n",
       "      <td>International Business</td>\n",
       "      <td>No</td>\n",
       "      <td>2.40</td>\n",
       "      <td>Part-Time</td>\n",
       "      <td>40.00</td>\n",
       "      <td>1</td>\n",
       "      <td>3</td>\n",
       "      <td>1000</td>\n",
       "      <td>Laptop</td>\n",
       "      <td>10</td>\n",
       "    </tr>\n",
       "    <tr>\n",
       "      <th>58</th>\n",
       "      <td>59</td>\n",
       "      <td>Female</td>\n",
       "      <td>20</td>\n",
       "      <td>Junior</td>\n",
       "      <td>CIS</td>\n",
       "      <td>No</td>\n",
       "      <td>2.90</td>\n",
       "      <td>Part-Time</td>\n",
       "      <td>40.00</td>\n",
       "      <td>2</td>\n",
       "      <td>4</td>\n",
       "      <td>350</td>\n",
       "      <td>Laptop</td>\n",
       "      <td>250</td>\n",
       "    </tr>\n",
       "    <tr>\n",
       "      <th>59</th>\n",
       "      <td>60</td>\n",
       "      <td>Female</td>\n",
       "      <td>20</td>\n",
       "      <td>Sophomore</td>\n",
       "      <td>CIS</td>\n",
       "      <td>No</td>\n",
       "      <td>2.50</td>\n",
       "      <td>Part-Time</td>\n",
       "      <td>55.00</td>\n",
       "      <td>1</td>\n",
       "      <td>4</td>\n",
       "      <td>500</td>\n",
       "      <td>Laptop</td>\n",
       "      <td>500</td>\n",
       "    </tr>\n",
       "    <tr>\n",
       "      <th>60</th>\n",
       "      <td>61</td>\n",
       "      <td>Female</td>\n",
       "      <td>23</td>\n",
       "      <td>Senior</td>\n",
       "      <td>Accounting</td>\n",
       "      <td>Yes</td>\n",
       "      <td>3.50</td>\n",
       "      <td>Part-Time</td>\n",
       "      <td>30.00</td>\n",
       "      <td>2</td>\n",
       "      <td>3</td>\n",
       "      <td>490</td>\n",
       "      <td>Laptop</td>\n",
       "      <td>50</td>\n",
       "    </tr>\n",
       "    <tr>\n",
       "      <th>61</th>\n",
       "      <td>62</td>\n",
       "      <td>Female</td>\n",
       "      <td>23</td>\n",
       "      <td>Senior</td>\n",
       "      <td>Economics/Finance</td>\n",
       "      <td>No</td>\n",
       "      <td>3.20</td>\n",
       "      <td>Part-Time</td>\n",
       "      <td>70.00</td>\n",
       "      <td>2</td>\n",
       "      <td>3</td>\n",
       "      <td>250</td>\n",
       "      <td>Laptop</td>\n",
       "      <td>0</td>\n",
       "    </tr>\n",
       "  </tbody>\n",
       "</table>\n",
       "<p>62 rows × 14 columns</p>\n",
       "</div>"
      ],
      "text/plain": [
       "    ID  Gender  Age      Class                   Major Grad Intention  GPA  \\\n",
       "0    1  Female   20     Junior                   Other            Yes 2.90   \n",
       "1    2    Male   23     Senior              Management            Yes 3.60   \n",
       "2    3    Male   21     Junior                   Other            Yes 2.50   \n",
       "3    4    Male   21     Junior                     CIS            Yes 2.50   \n",
       "4    5    Male   23     Senior                   Other      Undecided 2.80   \n",
       "..  ..     ...  ...        ...                     ...            ...  ...   \n",
       "57  58  Female   21     Senior  International Business             No 2.40   \n",
       "58  59  Female   20     Junior                     CIS             No 2.90   \n",
       "59  60  Female   20  Sophomore                     CIS             No 2.50   \n",
       "60  61  Female   23     Senior              Accounting            Yes 3.50   \n",
       "61  62  Female   23     Senior       Economics/Finance             No 3.20   \n",
       "\n",
       "    Employment  Salary  Social Networking  Satisfaction  Spending Computer  \\\n",
       "0    Full-Time   50.00                  1             3       350   Laptop   \n",
       "1    Part-Time   25.00                  1             4       360   Laptop   \n",
       "2    Part-Time   45.00                  2             4       600   Laptop   \n",
       "3    Full-Time   40.00                  4             6       600   Laptop   \n",
       "4   Unemployed   40.00                  2             4       500   Laptop   \n",
       "..         ...     ...                ...           ...       ...      ...   \n",
       "57   Part-Time   40.00                  1             3      1000   Laptop   \n",
       "58   Part-Time   40.00                  2             4       350   Laptop   \n",
       "59   Part-Time   55.00                  1             4       500   Laptop   \n",
       "60   Part-Time   30.00                  2             3       490   Laptop   \n",
       "61   Part-Time   70.00                  2             3       250   Laptop   \n",
       "\n",
       "    Text Messages  \n",
       "0             200  \n",
       "1              50  \n",
       "2             200  \n",
       "3             250  \n",
       "4             100  \n",
       "..            ...  \n",
       "57             10  \n",
       "58            250  \n",
       "59            500  \n",
       "60             50  \n",
       "61              0  \n",
       "\n",
       "[62 rows x 14 columns]"
      ]
     },
     "execution_count": 37,
     "metadata": {},
     "output_type": "execute_result"
    }
   ],
   "source": [
    "stud_srvey"
   ]
  },
  {
   "cell_type": "code",
   "execution_count": 38,
   "id": "8ee902c3",
   "metadata": {},
   "outputs": [
    {
     "data": {
      "text/plain": [
       "29"
      ]
     },
     "execution_count": 38,
     "metadata": {},
     "output_type": "execute_result"
    }
   ],
   "source": [
    "male_count=stud_srvey[stud_srvey[\"Gender\"]==\"Male\"][\"ID\"].count()\n",
    "male_count"
   ]
  },
  {
   "cell_type": "code",
   "execution_count": 39,
   "id": "bd4a4764",
   "metadata": {},
   "outputs": [
    {
     "data": {
      "text/plain": [
       "62"
      ]
     },
     "execution_count": 39,
     "metadata": {},
     "output_type": "execute_result"
    }
   ],
   "source": [
    "total_count=stud_srvey[\"ID\"].count()\n",
    "total_count"
   ]
  },
  {
   "cell_type": "code",
   "execution_count": 40,
   "id": "2707f47d",
   "metadata": {},
   "outputs": [
    {
     "data": {
      "text/plain": [
       "0.46774193548387094"
      ]
     },
     "execution_count": 40,
     "metadata": {},
     "output_type": "execute_result"
    }
   ],
   "source": [
    "probability_of_male = male_count/total_count\n",
    "probability_of_male"
   ]
  },
  {
   "cell_type": "code",
   "execution_count": 41,
   "id": "a00bf6eb",
   "metadata": {},
   "outputs": [
    {
     "name": "stdout",
     "output_type": "stream",
     "text": [
      "The probability that a random selected CMSU student will be a male is :  0.47\n"
     ]
    }
   ],
   "source": [
    "print('The probability that a random selected CMSU student will be a male is : ', round(probability_of_male,2))"
   ]
  },
  {
   "cell_type": "markdown",
   "id": "7ecd2b26",
   "metadata": {},
   "source": [
    "## 2.2.2. What is the probability that a randomly selected CMSU student will be female?"
   ]
  },
  {
   "cell_type": "code",
   "execution_count": 42,
   "id": "4e7a03a6",
   "metadata": {},
   "outputs": [
    {
     "data": {
      "text/plain": [
       "33"
      ]
     },
     "execution_count": 42,
     "metadata": {},
     "output_type": "execute_result"
    }
   ],
   "source": [
    "female_count=stud_srvey[stud_srvey[\"Gender\"]==\"Female\"][\"ID\"].count()\n",
    "female_count"
   ]
  },
  {
   "cell_type": "code",
   "execution_count": 43,
   "id": "0ee19a63",
   "metadata": {},
   "outputs": [
    {
     "data": {
      "text/plain": [
       "0.532258064516129"
      ]
     },
     "execution_count": 43,
     "metadata": {},
     "output_type": "execute_result"
    }
   ],
   "source": [
    "probability_of_female = female_count/total_count\n",
    "probability_of_female"
   ]
  },
  {
   "cell_type": "code",
   "execution_count": 44,
   "id": "e35ad24f",
   "metadata": {},
   "outputs": [
    {
     "name": "stdout",
     "output_type": "stream",
     "text": [
      "The probability that a random selected CMSU student will be a male is :  0.53\n"
     ]
    }
   ],
   "source": [
    "print('The probability that a random selected CMSU student will be a male is : ', round(probability_of_female,2))"
   ]
  },
  {
   "cell_type": "markdown",
   "id": "97028812",
   "metadata": {},
   "source": [
    "## 2.3. Assume that the sample is representative of the population of CMSU. Based on the data, answer the following question:"
   ]
  },
  {
   "cell_type": "markdown",
   "id": "af0b3eab",
   "metadata": {},
   "source": [
    "## 2.3.1. Find the conditional probability of different majors among the male students in CMSU."
   ]
  },
  {
   "cell_type": "code",
   "execution_count": 45,
   "id": "89cce4ac",
   "metadata": {},
   "outputs": [
    {
     "data": {
      "text/html": [
       "<div>\n",
       "<style scoped>\n",
       "    .dataframe tbody tr th:only-of-type {\n",
       "        vertical-align: middle;\n",
       "    }\n",
       "\n",
       "    .dataframe tbody tr th {\n",
       "        vertical-align: top;\n",
       "    }\n",
       "\n",
       "    .dataframe thead th {\n",
       "        text-align: right;\n",
       "    }\n",
       "</style>\n",
       "<table border=\"1\" class=\"dataframe\">\n",
       "  <thead>\n",
       "    <tr style=\"text-align: right;\">\n",
       "      <th>Major</th>\n",
       "      <th>Accounting</th>\n",
       "      <th>CIS</th>\n",
       "      <th>Economics/Finance</th>\n",
       "      <th>International Business</th>\n",
       "      <th>Management</th>\n",
       "      <th>Other</th>\n",
       "      <th>Retailing/Marketing</th>\n",
       "      <th>Undecided</th>\n",
       "    </tr>\n",
       "    <tr>\n",
       "      <th>Gender</th>\n",
       "      <th></th>\n",
       "      <th></th>\n",
       "      <th></th>\n",
       "      <th></th>\n",
       "      <th></th>\n",
       "      <th></th>\n",
       "      <th></th>\n",
       "      <th></th>\n",
       "    </tr>\n",
       "  </thead>\n",
       "  <tbody>\n",
       "    <tr>\n",
       "      <th>Female</th>\n",
       "      <td>3</td>\n",
       "      <td>3</td>\n",
       "      <td>7</td>\n",
       "      <td>4</td>\n",
       "      <td>4</td>\n",
       "      <td>3</td>\n",
       "      <td>9</td>\n",
       "      <td>0</td>\n",
       "    </tr>\n",
       "    <tr>\n",
       "      <th>Male</th>\n",
       "      <td>4</td>\n",
       "      <td>1</td>\n",
       "      <td>4</td>\n",
       "      <td>2</td>\n",
       "      <td>6</td>\n",
       "      <td>4</td>\n",
       "      <td>5</td>\n",
       "      <td>3</td>\n",
       "    </tr>\n",
       "  </tbody>\n",
       "</table>\n",
       "</div>"
      ],
      "text/plain": [
       "Major   Accounting  CIS  Economics/Finance  International Business  \\\n",
       "Gender                                                               \n",
       "Female           3    3                  7                       4   \n",
       "Male             4    1                  4                       2   \n",
       "\n",
       "Major   Management  Other  Retailing/Marketing  Undecided  \n",
       "Gender                                                     \n",
       "Female           4      3                    9          0  \n",
       "Male             6      4                    5          3  "
      ]
     },
     "execution_count": 45,
     "metadata": {},
     "output_type": "execute_result"
    }
   ],
   "source": [
    "## As we calculated in above cells Contengency table for Male student is as follows\n",
    "stud_gender_major"
   ]
  },
  {
   "cell_type": "code",
   "execution_count": 46,
   "id": "a3ce4252",
   "metadata": {},
   "outputs": [
    {
     "data": {
      "text/plain": [
       "29"
      ]
     },
     "execution_count": 46,
     "metadata": {},
     "output_type": "execute_result"
    }
   ],
   "source": [
    "male_count"
   ]
  },
  {
   "cell_type": "code",
   "execution_count": 47,
   "id": "a6042cbb",
   "metadata": {},
   "outputs": [
    {
     "name": "stdout",
     "output_type": "stream",
     "text": [
      "The probability that a random selected CMSU Male student taking Accounting as a major 0.13793103448275862\n"
     ]
    }
   ],
   "source": [
    "print('The probability that a random selected CMSU Male student taking Accounting as a major', 4/male_count)"
   ]
  },
  {
   "cell_type": "code",
   "execution_count": 48,
   "id": "b19b0e7d",
   "metadata": {},
   "outputs": [
    {
     "name": "stdout",
     "output_type": "stream",
     "text": [
      "The probability that a random selected CMSU Male student taking CIS as a major 3.4482758620689653\n"
     ]
    }
   ],
   "source": [
    "print('The probability that a random selected CMSU Male student taking CIS as a major', 1/male_count*100)"
   ]
  },
  {
   "cell_type": "code",
   "execution_count": 49,
   "id": "3067d5d5",
   "metadata": {},
   "outputs": [
    {
     "name": "stdout",
     "output_type": "stream",
     "text": [
      "The probability that a random selected CMSU Male student taking Economics/Finance as a major 0.13793103448275862\n"
     ]
    }
   ],
   "source": [
    "print('The probability that a random selected CMSU Male student taking Economics/Finance as a major', 4/male_count)"
   ]
  },
  {
   "cell_type": "code",
   "execution_count": 50,
   "id": "a5b87c04",
   "metadata": {},
   "outputs": [
    {
     "name": "stdout",
     "output_type": "stream",
     "text": [
      "The probability that a random selected CMSU Male student taking International Business as a major 0.06896551724137931\n"
     ]
    }
   ],
   "source": [
    "print('The probability that a random selected CMSU Male student taking International Business as a major', 2/male_count)"
   ]
  },
  {
   "cell_type": "code",
   "execution_count": 51,
   "id": "1e3c7e9a",
   "metadata": {},
   "outputs": [
    {
     "name": "stdout",
     "output_type": "stream",
     "text": [
      "The probability that a random selected CMSU Male student taking Management as a major 0.20689655172413793\n"
     ]
    }
   ],
   "source": [
    "print('The probability that a random selected CMSU Male student taking Management as a major', 6/male_count)"
   ]
  },
  {
   "cell_type": "code",
   "execution_count": 52,
   "id": "7c1c3308",
   "metadata": {},
   "outputs": [
    {
     "name": "stdout",
     "output_type": "stream",
     "text": [
      "The probability that a random selected CMSU Male student taking Other as a major 0.13793103448275862\n"
     ]
    }
   ],
   "source": [
    "print('The probability that a random selected CMSU Male student taking Other as a major', 4/male_count)"
   ]
  },
  {
   "cell_type": "code",
   "execution_count": 53,
   "id": "3ecb7656",
   "metadata": {},
   "outputs": [
    {
     "name": "stdout",
     "output_type": "stream",
     "text": [
      "The probability that a random selected CMSU Male student taking Retailing/Marketing as a major 0.1724137931034483\n"
     ]
    }
   ],
   "source": [
    "print('The probability that a random selected CMSU Male student taking Retailing/Marketing as a major', 5/male_count)"
   ]
  },
  {
   "cell_type": "code",
   "execution_count": 54,
   "id": "f932985c",
   "metadata": {},
   "outputs": [
    {
     "name": "stdout",
     "output_type": "stream",
     "text": [
      "The probability that a random selected CMSU Male student and not yet Decided for any major 0.10344827586206896\n"
     ]
    }
   ],
   "source": [
    "print('The probability that a random selected CMSU Male student and not yet Decided for any major', 3/male_count)"
   ]
  },
  {
   "cell_type": "markdown",
   "id": "cef54b2c",
   "metadata": {},
   "source": [
    "## 2.3.2 Find the conditional probability of different majors among the female students of CMSU."
   ]
  },
  {
   "cell_type": "code",
   "execution_count": 55,
   "id": "2b69fa3a",
   "metadata": {},
   "outputs": [
    {
     "data": {
      "text/html": [
       "<div>\n",
       "<style scoped>\n",
       "    .dataframe tbody tr th:only-of-type {\n",
       "        vertical-align: middle;\n",
       "    }\n",
       "\n",
       "    .dataframe tbody tr th {\n",
       "        vertical-align: top;\n",
       "    }\n",
       "\n",
       "    .dataframe thead th {\n",
       "        text-align: right;\n",
       "    }\n",
       "</style>\n",
       "<table border=\"1\" class=\"dataframe\">\n",
       "  <thead>\n",
       "    <tr style=\"text-align: right;\">\n",
       "      <th>Major</th>\n",
       "      <th>Accounting</th>\n",
       "      <th>CIS</th>\n",
       "      <th>Economics/Finance</th>\n",
       "      <th>International Business</th>\n",
       "      <th>Management</th>\n",
       "      <th>Other</th>\n",
       "      <th>Retailing/Marketing</th>\n",
       "      <th>Undecided</th>\n",
       "    </tr>\n",
       "    <tr>\n",
       "      <th>Gender</th>\n",
       "      <th></th>\n",
       "      <th></th>\n",
       "      <th></th>\n",
       "      <th></th>\n",
       "      <th></th>\n",
       "      <th></th>\n",
       "      <th></th>\n",
       "      <th></th>\n",
       "    </tr>\n",
       "  </thead>\n",
       "  <tbody>\n",
       "    <tr>\n",
       "      <th>Female</th>\n",
       "      <td>3</td>\n",
       "      <td>3</td>\n",
       "      <td>7</td>\n",
       "      <td>4</td>\n",
       "      <td>4</td>\n",
       "      <td>3</td>\n",
       "      <td>9</td>\n",
       "      <td>0</td>\n",
       "    </tr>\n",
       "    <tr>\n",
       "      <th>Male</th>\n",
       "      <td>4</td>\n",
       "      <td>1</td>\n",
       "      <td>4</td>\n",
       "      <td>2</td>\n",
       "      <td>6</td>\n",
       "      <td>4</td>\n",
       "      <td>5</td>\n",
       "      <td>3</td>\n",
       "    </tr>\n",
       "  </tbody>\n",
       "</table>\n",
       "</div>"
      ],
      "text/plain": [
       "Major   Accounting  CIS  Economics/Finance  International Business  \\\n",
       "Gender                                                               \n",
       "Female           3    3                  7                       4   \n",
       "Male             4    1                  4                       2   \n",
       "\n",
       "Major   Management  Other  Retailing/Marketing  Undecided  \n",
       "Gender                                                     \n",
       "Female           4      3                    9          0  \n",
       "Male             6      4                    5          3  "
      ]
     },
     "execution_count": 55,
     "metadata": {},
     "output_type": "execute_result"
    }
   ],
   "source": [
    "## As we calculated in above cells Contengency table for Male student is as follows\n",
    "stud_gender_major"
   ]
  },
  {
   "cell_type": "code",
   "execution_count": 56,
   "id": "ed515d8f",
   "metadata": {},
   "outputs": [
    {
     "data": {
      "text/plain": [
       "33"
      ]
     },
     "execution_count": 56,
     "metadata": {},
     "output_type": "execute_result"
    }
   ],
   "source": [
    "female_count"
   ]
  },
  {
   "cell_type": "code",
   "execution_count": 57,
   "id": "9e90ad47",
   "metadata": {},
   "outputs": [
    {
     "name": "stdout",
     "output_type": "stream",
     "text": [
      "The probability that a random selected CMSU Female student taking Accounting as a major 0.09090909090909091\n"
     ]
    }
   ],
   "source": [
    "print('The probability that a random selected CMSU Female student taking Accounting as a major', 3/female_count)"
   ]
  },
  {
   "cell_type": "code",
   "execution_count": 58,
   "id": "597ee8a4",
   "metadata": {},
   "outputs": [
    {
     "name": "stdout",
     "output_type": "stream",
     "text": [
      "The probability that a random selected CMSU Female student taking CIS as a major 0.030303030303030304\n"
     ]
    }
   ],
   "source": [
    "print('The probability that a random selected CMSU Female student taking CIS as a major', 1/female_count)"
   ]
  },
  {
   "cell_type": "code",
   "execution_count": 59,
   "id": "9a906412",
   "metadata": {},
   "outputs": [
    {
     "name": "stdout",
     "output_type": "stream",
     "text": [
      "The probability that a random selected CMSU Female student taking Economics/Finance as a major 0.21212121212121213\n"
     ]
    }
   ],
   "source": [
    "print('The probability that a random selected CMSU Female student taking Economics/Finance as a major', 7/female_count)"
   ]
  },
  {
   "cell_type": "code",
   "execution_count": 60,
   "id": "eaa9b43b",
   "metadata": {},
   "outputs": [
    {
     "name": "stdout",
     "output_type": "stream",
     "text": [
      "The probability that a random selected CMSU Female student taking International Business\t as a major 0.12121212121212122\n"
     ]
    }
   ],
   "source": [
    "print('The probability that a random selected CMSU Female student taking International Business\t as a major', 4/female_count)"
   ]
  },
  {
   "cell_type": "code",
   "execution_count": 61,
   "id": "2e8e1d76",
   "metadata": {},
   "outputs": [
    {
     "name": "stdout",
     "output_type": "stream",
     "text": [
      "The probability that a random selected CMSU Female student taking Management as a major 0.12121212121212122\n"
     ]
    }
   ],
   "source": [
    "print('The probability that a random selected CMSU Female student taking Management as a major', 4/female_count)"
   ]
  },
  {
   "cell_type": "code",
   "execution_count": 62,
   "id": "0ef52fb4",
   "metadata": {},
   "outputs": [
    {
     "name": "stdout",
     "output_type": "stream",
     "text": [
      "The probability that a random selected CMSU Female student taking Other as a major 0.09090909090909091\n"
     ]
    }
   ],
   "source": [
    "print('The probability that a random selected CMSU Female student taking Other as a major', 3/female_count)"
   ]
  },
  {
   "cell_type": "code",
   "execution_count": 63,
   "id": "57592f01",
   "metadata": {},
   "outputs": [
    {
     "name": "stdout",
     "output_type": "stream",
     "text": [
      "The probability that a random selected CMSU Female student taking Retailing/Marketing as a major 0.2727272727272727\n"
     ]
    }
   ],
   "source": [
    "print('The probability that a random selected CMSU Female student taking Retailing/Marketing as a major', 9/female_count)"
   ]
  },
  {
   "cell_type": "code",
   "execution_count": 64,
   "id": "5516e60b",
   "metadata": {},
   "outputs": [
    {
     "name": "stdout",
     "output_type": "stream",
     "text": [
      "The probability that a random selected CMSU Female student and not yet Decided for any major 0.0\n"
     ]
    }
   ],
   "source": [
    "print('The probability that a random selected CMSU Female student and not yet Decided for any major', 0/female_count)"
   ]
  },
  {
   "cell_type": "code",
   "execution_count": null,
   "id": "9791b3bd",
   "metadata": {},
   "outputs": [],
   "source": []
  },
  {
   "cell_type": "markdown",
   "id": "c6c517ac",
   "metadata": {},
   "source": [
    "# 2.4. Assume that the sample is a representative of the population of CMSU. Based on the data, answer the following question:"
   ]
  },
  {
   "cell_type": "markdown",
   "id": "8d0081a9",
   "metadata": {},
   "source": [
    "## 2.4.1 Find the probability That a randomly chosen student is a male and intends to graduate."
   ]
  },
  {
   "cell_type": "code",
   "execution_count": 67,
   "id": "5278efa5",
   "metadata": {},
   "outputs": [
    {
     "data": {
      "text/html": [
       "<div>\n",
       "<style scoped>\n",
       "    .dataframe tbody tr th:only-of-type {\n",
       "        vertical-align: middle;\n",
       "    }\n",
       "\n",
       "    .dataframe tbody tr th {\n",
       "        vertical-align: top;\n",
       "    }\n",
       "\n",
       "    .dataframe thead th {\n",
       "        text-align: right;\n",
       "    }\n",
       "</style>\n",
       "<table border=\"1\" class=\"dataframe\">\n",
       "  <thead>\n",
       "    <tr style=\"text-align: right;\">\n",
       "      <th>Grad Intention</th>\n",
       "      <th>Gender</th>\n",
       "      <th>No</th>\n",
       "      <th>Undecided</th>\n",
       "      <th>Yes</th>\n",
       "    </tr>\n",
       "  </thead>\n",
       "  <tbody>\n",
       "    <tr>\n",
       "      <th>0</th>\n",
       "      <td>Female</td>\n",
       "      <td>9</td>\n",
       "      <td>13</td>\n",
       "      <td>11</td>\n",
       "    </tr>\n",
       "    <tr>\n",
       "      <th>1</th>\n",
       "      <td>Male</td>\n",
       "      <td>3</td>\n",
       "      <td>9</td>\n",
       "      <td>17</td>\n",
       "    </tr>\n",
       "  </tbody>\n",
       "</table>\n",
       "</div>"
      ],
      "text/plain": [
       "Grad Intention  Gender  No  Undecided  Yes\n",
       "0               Female   9         13   11\n",
       "1                 Male   3          9   17"
      ]
     },
     "execution_count": 67,
     "metadata": {},
     "output_type": "execute_result"
    }
   ],
   "source": [
    "stud_gender_grad_intention"
   ]
  },
  {
   "cell_type": "code",
   "execution_count": 68,
   "id": "fc5bca5f",
   "metadata": {},
   "outputs": [
    {
     "data": {
      "text/plain": [
       "0.27419354838709675"
      ]
     },
     "execution_count": 68,
     "metadata": {},
     "output_type": "execute_result"
    }
   ],
   "source": [
    "17/total_count"
   ]
  },
  {
   "cell_type": "code",
   "execution_count": 66,
   "id": "ac626a44",
   "metadata": {},
   "outputs": [
    {
     "name": "stdout",
     "output_type": "stream",
     "text": [
      "The probability That a randomly chosen student is a male and intends to graduate is 0.5862068965517241\n"
     ]
    }
   ],
   "source": [
    "## Count of Male candidate Intended for graduation/ Total male Candidate\n",
    "print('The probability That a randomly chosen student is a male and intends to graduate is', 17/29 )"
   ]
  },
  {
   "cell_type": "markdown",
   "id": "0ea6abfd",
   "metadata": {},
   "source": [
    "## 2.4.2 Find the probability that a randomly selected student is a female and does NOT have a laptop."
   ]
  },
  {
   "cell_type": "code",
   "execution_count": 735,
   "id": "429e68f0",
   "metadata": {},
   "outputs": [
    {
     "data": {
      "text/html": [
       "<div>\n",
       "<style scoped>\n",
       "    .dataframe tbody tr th:only-of-type {\n",
       "        vertical-align: middle;\n",
       "    }\n",
       "\n",
       "    .dataframe tbody tr th {\n",
       "        vertical-align: top;\n",
       "    }\n",
       "\n",
       "    .dataframe thead th {\n",
       "        text-align: right;\n",
       "    }\n",
       "</style>\n",
       "<table border=\"1\" class=\"dataframe\">\n",
       "  <thead>\n",
       "    <tr style=\"text-align: right;\">\n",
       "      <th>Computer</th>\n",
       "      <th>Gender</th>\n",
       "      <th>Desktop</th>\n",
       "      <th>Laptop</th>\n",
       "      <th>Tablet</th>\n",
       "    </tr>\n",
       "  </thead>\n",
       "  <tbody>\n",
       "    <tr>\n",
       "      <th>0</th>\n",
       "      <td>Female</td>\n",
       "      <td>2</td>\n",
       "      <td>29</td>\n",
       "      <td>2</td>\n",
       "    </tr>\n",
       "    <tr>\n",
       "      <th>1</th>\n",
       "      <td>Male</td>\n",
       "      <td>3</td>\n",
       "      <td>26</td>\n",
       "      <td>0</td>\n",
       "    </tr>\n",
       "  </tbody>\n",
       "</table>\n",
       "</div>"
      ],
      "text/plain": [
       "Computer  Gender  Desktop  Laptop  Tablet\n",
       "0         Female        2      29       2\n",
       "1           Male        3      26       0"
      ]
     },
     "execution_count": 735,
     "metadata": {},
     "output_type": "execute_result"
    }
   ],
   "source": [
    "stud_gender_computer"
   ]
  },
  {
   "cell_type": "code",
   "execution_count": 857,
   "id": "3c0e37b2",
   "metadata": {},
   "outputs": [
    {
     "name": "stdout",
     "output_type": "stream",
     "text": [
      "The probability That a randomly chosen student is a Female and Dont have Laptop is  0.12121212121212122\n"
     ]
    }
   ],
   "source": [
    "## Count of Female candidate dont have Laptop (2+2) = 4/ Total Female Candidate\n",
    "\n",
    "print('The probability That a randomly chosen student is a Female and Dont have Laptop is ', 4/33 )"
   ]
  },
  {
   "cell_type": "code",
   "execution_count": 71,
   "id": "06959a21",
   "metadata": {},
   "outputs": [
    {
     "data": {
      "text/plain": [
       "0.06451612903225806"
      ]
     },
     "execution_count": 71,
     "metadata": {},
     "output_type": "execute_result"
    }
   ],
   "source": [
    "4/total_count"
   ]
  },
  {
   "cell_type": "markdown",
   "id": "7e2a4c9a",
   "metadata": {},
   "source": [
    "## 2.5. Assume that the sample is a representative of the population of CMSU. Based on the data, answer the following question:"
   ]
  },
  {
   "cell_type": "markdown",
   "id": "6bd97c89",
   "metadata": {},
   "source": [
    "## 2.5.1 Find the probability that a randomly chosen student is a male or has a full-time employment"
   ]
  },
  {
   "cell_type": "code",
   "execution_count": 72,
   "id": "5d106902",
   "metadata": {},
   "outputs": [
    {
     "data": {
      "text/html": [
       "<div>\n",
       "<style scoped>\n",
       "    .dataframe tbody tr th:only-of-type {\n",
       "        vertical-align: middle;\n",
       "    }\n",
       "\n",
       "    .dataframe tbody tr th {\n",
       "        vertical-align: top;\n",
       "    }\n",
       "\n",
       "    .dataframe thead th {\n",
       "        text-align: right;\n",
       "    }\n",
       "</style>\n",
       "<table border=\"1\" class=\"dataframe\">\n",
       "  <thead>\n",
       "    <tr style=\"text-align: right;\">\n",
       "      <th>Employment</th>\n",
       "      <th>Gender</th>\n",
       "      <th>Full-Time</th>\n",
       "      <th>Part-Time</th>\n",
       "      <th>Unemployed</th>\n",
       "    </tr>\n",
       "  </thead>\n",
       "  <tbody>\n",
       "    <tr>\n",
       "      <th>0</th>\n",
       "      <td>Female</td>\n",
       "      <td>3</td>\n",
       "      <td>24</td>\n",
       "      <td>6</td>\n",
       "    </tr>\n",
       "    <tr>\n",
       "      <th>1</th>\n",
       "      <td>Male</td>\n",
       "      <td>7</td>\n",
       "      <td>19</td>\n",
       "      <td>3</td>\n",
       "    </tr>\n",
       "  </tbody>\n",
       "</table>\n",
       "</div>"
      ],
      "text/plain": [
       "Employment  Gender  Full-Time  Part-Time  Unemployed\n",
       "0           Female          3         24           6\n",
       "1             Male          7         19           3"
      ]
     },
     "execution_count": 72,
     "metadata": {},
     "output_type": "execute_result"
    }
   ],
   "source": [
    "stud_gender_employment"
   ]
  },
  {
   "cell_type": "code",
   "execution_count": 73,
   "id": "639bdb16",
   "metadata": {},
   "outputs": [
    {
     "data": {
      "text/plain": [
       "29"
      ]
     },
     "execution_count": 73,
     "metadata": {},
     "output_type": "execute_result"
    }
   ],
   "source": [
    "male_count"
   ]
  },
  {
   "cell_type": "code",
   "execution_count": 74,
   "id": "05385432",
   "metadata": {},
   "outputs": [
    {
     "data": {
      "text/plain": [
       "62"
      ]
     },
     "execution_count": 74,
     "metadata": {},
     "output_type": "execute_result"
    }
   ],
   "source": [
    "total_count"
   ]
  },
  {
   "cell_type": "code",
   "execution_count": 75,
   "id": "1c530da7",
   "metadata": {},
   "outputs": [],
   "source": [
    "prob_for_being_male = 29/62"
   ]
  },
  {
   "cell_type": "code",
   "execution_count": 76,
   "id": "06d128fd",
   "metadata": {},
   "outputs": [],
   "source": [
    "prob_for_full_time_emp= (7+3)/62"
   ]
  },
  {
   "cell_type": "code",
   "execution_count": 77,
   "id": "6a0692f1",
   "metadata": {},
   "outputs": [],
   "source": [
    "prob_full_time_emp_and_male = 7/62"
   ]
  },
  {
   "cell_type": "code",
   "execution_count": 78,
   "id": "6f3a8093",
   "metadata": {},
   "outputs": [
    {
     "data": {
      "text/plain": [
       "0.5161290322580645"
      ]
     },
     "execution_count": 78,
     "metadata": {},
     "output_type": "execute_result"
    }
   ],
   "source": [
    "## P of (A OR B) = P{A) + P(B) - P(A intersect B)\n",
    "prob_male_plus_full_time_empl= prob_for_being_male+ prob_for_full_time_emp - prob_full_time_emp_and_male\n",
    "prob_male_plus_full_time_empl"
   ]
  },
  {
   "cell_type": "code",
   "execution_count": 79,
   "id": "afa30e49",
   "metadata": {},
   "outputs": [
    {
     "name": "stdout",
     "output_type": "stream",
     "text": [
      "The probability of  randomly chosen student is a male or has a full-time employment is 0.5161290322580645\n"
     ]
    }
   ],
   "source": [
    "print('The probability of  randomly chosen student is a male or has a full-time employment is',prob_male_plus_full_time_empl)"
   ]
  },
  {
   "cell_type": "markdown",
   "id": "85253a4f",
   "metadata": {},
   "source": [
    "## 2.5.2 Find the conditional probability that given a female student is randomly chosen, she is majoring in international business or management"
   ]
  },
  {
   "cell_type": "code",
   "execution_count": 80,
   "id": "ebebaf52",
   "metadata": {},
   "outputs": [
    {
     "data": {
      "text/html": [
       "<div>\n",
       "<style scoped>\n",
       "    .dataframe tbody tr th:only-of-type {\n",
       "        vertical-align: middle;\n",
       "    }\n",
       "\n",
       "    .dataframe tbody tr th {\n",
       "        vertical-align: top;\n",
       "    }\n",
       "\n",
       "    .dataframe thead th {\n",
       "        text-align: right;\n",
       "    }\n",
       "</style>\n",
       "<table border=\"1\" class=\"dataframe\">\n",
       "  <thead>\n",
       "    <tr style=\"text-align: right;\">\n",
       "      <th>Major</th>\n",
       "      <th>Accounting</th>\n",
       "      <th>CIS</th>\n",
       "      <th>Economics/Finance</th>\n",
       "      <th>International Business</th>\n",
       "      <th>Management</th>\n",
       "      <th>Other</th>\n",
       "      <th>Retailing/Marketing</th>\n",
       "      <th>Undecided</th>\n",
       "    </tr>\n",
       "    <tr>\n",
       "      <th>Gender</th>\n",
       "      <th></th>\n",
       "      <th></th>\n",
       "      <th></th>\n",
       "      <th></th>\n",
       "      <th></th>\n",
       "      <th></th>\n",
       "      <th></th>\n",
       "      <th></th>\n",
       "    </tr>\n",
       "  </thead>\n",
       "  <tbody>\n",
       "    <tr>\n",
       "      <th>Female</th>\n",
       "      <td>3</td>\n",
       "      <td>3</td>\n",
       "      <td>7</td>\n",
       "      <td>4</td>\n",
       "      <td>4</td>\n",
       "      <td>3</td>\n",
       "      <td>9</td>\n",
       "      <td>0</td>\n",
       "    </tr>\n",
       "    <tr>\n",
       "      <th>Male</th>\n",
       "      <td>4</td>\n",
       "      <td>1</td>\n",
       "      <td>4</td>\n",
       "      <td>2</td>\n",
       "      <td>6</td>\n",
       "      <td>4</td>\n",
       "      <td>5</td>\n",
       "      <td>3</td>\n",
       "    </tr>\n",
       "  </tbody>\n",
       "</table>\n",
       "</div>"
      ],
      "text/plain": [
       "Major   Accounting  CIS  Economics/Finance  International Business  \\\n",
       "Gender                                                               \n",
       "Female           3    3                  7                       4   \n",
       "Male             4    1                  4                       2   \n",
       "\n",
       "Major   Management  Other  Retailing/Marketing  Undecided  \n",
       "Gender                                                     \n",
       "Female           4      3                    9          0  \n",
       "Male             6      4                    5          3  "
      ]
     },
     "execution_count": 80,
     "metadata": {},
     "output_type": "execute_result"
    }
   ],
   "source": [
    "stud_gender_major"
   ]
  },
  {
   "cell_type": "code",
   "execution_count": 81,
   "id": "41cdc405",
   "metadata": {},
   "outputs": [
    {
     "data": {
      "text/plain": [
       "33"
      ]
     },
     "execution_count": 81,
     "metadata": {},
     "output_type": "execute_result"
    }
   ],
   "source": [
    "female_count"
   ]
  },
  {
   "cell_type": "code",
   "execution_count": 82,
   "id": "6a5a29fe",
   "metadata": {},
   "outputs": [
    {
     "data": {
      "text/plain": [
       "62"
      ]
     },
     "execution_count": 82,
     "metadata": {},
     "output_type": "execute_result"
    }
   ],
   "source": [
    "total_count"
   ]
  },
  {
   "cell_type": "code",
   "execution_count": 83,
   "id": "2fc7c683",
   "metadata": {},
   "outputs": [],
   "source": [
    "prob_major_in_inter_busins = 4/33"
   ]
  },
  {
   "cell_type": "code",
   "execution_count": 84,
   "id": "8f997c20",
   "metadata": {},
   "outputs": [],
   "source": [
    "prob_major_in_management = 4/33"
   ]
  },
  {
   "cell_type": "code",
   "execution_count": 85,
   "id": "987a3358",
   "metadata": {},
   "outputs": [
    {
     "name": "stdout",
     "output_type": "stream",
     "text": [
      "The probability of  randomly chosen student is a Female and she is majoring in international business or management 0.24242424242424243\n"
     ]
    }
   ],
   "source": [
    "prob_major_in_inter_and_mgmt = prob_major_in_inter_busins + prob_major_in_management\n",
    "prob_major_in_inter_and_mgmt\n",
    "print('The probability of  randomly chosen student is a Female and she is majoring in international business or management',prob_major_in_inter_and_mgmt)"
   ]
  },
  {
   "cell_type": "markdown",
   "id": "f5e2f3e5",
   "metadata": {},
   "source": [
    "## 2.6 Construct a contingency table of Gender and Intent to Graduate at 2 levels (Yes/No). The Undecided students are not considered now and the table is a 2x2 table. Do you think graduate intention and being female are independent events?"
   ]
  },
  {
   "cell_type": "code",
   "execution_count": 86,
   "id": "0b86bade",
   "metadata": {},
   "outputs": [
    {
     "data": {
      "text/html": [
       "<div>\n",
       "<style scoped>\n",
       "    .dataframe tbody tr th:only-of-type {\n",
       "        vertical-align: middle;\n",
       "    }\n",
       "\n",
       "    .dataframe tbody tr th {\n",
       "        vertical-align: top;\n",
       "    }\n",
       "\n",
       "    .dataframe thead th {\n",
       "        text-align: right;\n",
       "    }\n",
       "</style>\n",
       "<table border=\"1\" class=\"dataframe\">\n",
       "  <thead>\n",
       "    <tr style=\"text-align: right;\">\n",
       "      <th>Grad Intention</th>\n",
       "      <th>Gender</th>\n",
       "      <th>No</th>\n",
       "      <th>Yes</th>\n",
       "    </tr>\n",
       "  </thead>\n",
       "  <tbody>\n",
       "    <tr>\n",
       "      <th>0</th>\n",
       "      <td>Female</td>\n",
       "      <td>9</td>\n",
       "      <td>11</td>\n",
       "    </tr>\n",
       "    <tr>\n",
       "      <th>1</th>\n",
       "      <td>Male</td>\n",
       "      <td>3</td>\n",
       "      <td>17</td>\n",
       "    </tr>\n",
       "  </tbody>\n",
       "</table>\n",
       "</div>"
      ],
      "text/plain": [
       "Grad Intention  Gender  No  Yes\n",
       "0               Female   9   11\n",
       "1                 Male   3   17"
      ]
     },
     "execution_count": 86,
     "metadata": {},
     "output_type": "execute_result"
    }
   ],
   "source": [
    "stud_gender_grad_intention=pd.crosstab(stud_srvey['Gender'],stud_srvey[stud_srvey['Grad Intention']!=\"Undecided\"][\"Grad Intention\"]).reset_index()\n",
    "stud_gender_grad_intention"
   ]
  },
  {
   "cell_type": "code",
   "execution_count": 790,
   "id": "39b4e4b3",
   "metadata": {},
   "outputs": [
    {
     "name": "stdout",
     "output_type": "stream",
     "text": [
      "Grad Intention\n",
      "Gender    FemaleMale\n",
      "No                12\n",
      "Yes               28\n",
      "dtype: object\n"
     ]
    }
   ],
   "source": [
    "print(stud_gender_grad_intention.sum())"
   ]
  },
  {
   "cell_type": "code",
   "execution_count": 792,
   "id": "4f0bc8a4",
   "metadata": {},
   "outputs": [
    {
     "name": "stdout",
     "output_type": "stream",
     "text": [
      "Probability of graduate intention is 0.7\n"
     ]
    }
   ],
   "source": [
    "print('Probability of graduate intention is', 28/40)"
   ]
  },
  {
   "cell_type": "code",
   "execution_count": 791,
   "id": "938b5723",
   "metadata": {},
   "outputs": [
    {
     "name": "stdout",
     "output_type": "stream",
     "text": [
      "Probability of graduate intention being female is 0.55\n"
     ]
    }
   ],
   "source": [
    "print('Probability of graduate intention being female is',11/20)"
   ]
  },
  {
   "cell_type": "code",
   "execution_count": 859,
   "id": "aa07fd00",
   "metadata": {},
   "outputs": [
    {
     "name": "stdout",
     "output_type": "stream",
     "text": [
      "We call Events as independent when thier probabilities are not equal, Hence from above result we can say \n",
      " that Being Female and graduate intention is not dependent \n"
     ]
    }
   ],
   "source": [
    "print(\"We call Events as independent when thier probabilities are not equal, Hence from above result we can say \")\n",
    "print(\" that Being Female and graduate intention is not dependent \")"
   ]
  },
  {
   "cell_type": "code",
   "execution_count": null,
   "id": "ee0f4eed",
   "metadata": {},
   "outputs": [],
   "source": []
  },
  {
   "cell_type": "markdown",
   "id": "a1ee0f2d",
   "metadata": {},
   "source": [
    "## 2.7 Note that there are four numerical (continuous) variables in the data set, GPA, Salary, Spending and Text Messages. Answer the following questions based on the data"
   ]
  },
  {
   "cell_type": "code",
   "execution_count": 390,
   "id": "98eb8dfa",
   "metadata": {},
   "outputs": [
    {
     "data": {
      "text/html": [
       "<div>\n",
       "<style scoped>\n",
       "    .dataframe tbody tr th:only-of-type {\n",
       "        vertical-align: middle;\n",
       "    }\n",
       "\n",
       "    .dataframe tbody tr th {\n",
       "        vertical-align: top;\n",
       "    }\n",
       "\n",
       "    .dataframe thead th {\n",
       "        text-align: right;\n",
       "    }\n",
       "</style>\n",
       "<table border=\"1\" class=\"dataframe\">\n",
       "  <thead>\n",
       "    <tr style=\"text-align: right;\">\n",
       "      <th></th>\n",
       "      <th>GPA</th>\n",
       "      <th>Salary</th>\n",
       "      <th>Spending</th>\n",
       "      <th>Text Messages</th>\n",
       "    </tr>\n",
       "  </thead>\n",
       "  <tbody>\n",
       "    <tr>\n",
       "      <th>0</th>\n",
       "      <td>2.90</td>\n",
       "      <td>50.00</td>\n",
       "      <td>350</td>\n",
       "      <td>200</td>\n",
       "    </tr>\n",
       "    <tr>\n",
       "      <th>1</th>\n",
       "      <td>3.60</td>\n",
       "      <td>25.00</td>\n",
       "      <td>360</td>\n",
       "      <td>50</td>\n",
       "    </tr>\n",
       "    <tr>\n",
       "      <th>2</th>\n",
       "      <td>2.50</td>\n",
       "      <td>45.00</td>\n",
       "      <td>600</td>\n",
       "      <td>200</td>\n",
       "    </tr>\n",
       "    <tr>\n",
       "      <th>3</th>\n",
       "      <td>2.50</td>\n",
       "      <td>40.00</td>\n",
       "      <td>600</td>\n",
       "      <td>250</td>\n",
       "    </tr>\n",
       "    <tr>\n",
       "      <th>4</th>\n",
       "      <td>2.80</td>\n",
       "      <td>40.00</td>\n",
       "      <td>500</td>\n",
       "      <td>100</td>\n",
       "    </tr>\n",
       "    <tr>\n",
       "      <th>...</th>\n",
       "      <td>...</td>\n",
       "      <td>...</td>\n",
       "      <td>...</td>\n",
       "      <td>...</td>\n",
       "    </tr>\n",
       "    <tr>\n",
       "      <th>57</th>\n",
       "      <td>2.40</td>\n",
       "      <td>40.00</td>\n",
       "      <td>1000</td>\n",
       "      <td>10</td>\n",
       "    </tr>\n",
       "    <tr>\n",
       "      <th>58</th>\n",
       "      <td>2.90</td>\n",
       "      <td>40.00</td>\n",
       "      <td>350</td>\n",
       "      <td>250</td>\n",
       "    </tr>\n",
       "    <tr>\n",
       "      <th>59</th>\n",
       "      <td>2.50</td>\n",
       "      <td>55.00</td>\n",
       "      <td>500</td>\n",
       "      <td>500</td>\n",
       "    </tr>\n",
       "    <tr>\n",
       "      <th>60</th>\n",
       "      <td>3.50</td>\n",
       "      <td>30.00</td>\n",
       "      <td>490</td>\n",
       "      <td>50</td>\n",
       "    </tr>\n",
       "    <tr>\n",
       "      <th>61</th>\n",
       "      <td>3.20</td>\n",
       "      <td>70.00</td>\n",
       "      <td>250</td>\n",
       "      <td>0</td>\n",
       "    </tr>\n",
       "  </tbody>\n",
       "</table>\n",
       "<p>62 rows × 4 columns</p>\n",
       "</div>"
      ],
      "text/plain": [
       "    GPA  Salary  Spending  Text Messages\n",
       "0  2.90   50.00       350            200\n",
       "1  3.60   25.00       360             50\n",
       "2  2.50   45.00       600            200\n",
       "3  2.50   40.00       600            250\n",
       "4  2.80   40.00       500            100\n",
       "..  ...     ...       ...            ...\n",
       "57 2.40   40.00      1000             10\n",
       "58 2.90   40.00       350            250\n",
       "59 2.50   55.00       500            500\n",
       "60 3.50   30.00       490             50\n",
       "61 3.20   70.00       250              0\n",
       "\n",
       "[62 rows x 4 columns]"
      ]
     },
     "execution_count": 390,
     "metadata": {},
     "output_type": "execute_result"
    }
   ],
   "source": [
    "new_stud_srvey = stud_srvey[[\"GPA\",\"Salary\",\"Spending\",\"Text Messages\"]]\n",
    "new_stud_srvey"
   ]
  },
  {
   "cell_type": "markdown",
   "id": "730ed022",
   "metadata": {},
   "source": [
    "### 2.7.1. If a student is chosen randomly, what is the probability that his/her GPA is less than 3?"
   ]
  },
  {
   "cell_type": "code",
   "execution_count": 796,
   "id": "0b57b0f0",
   "metadata": {},
   "outputs": [
    {
     "data": {
      "text/plain": [
       "17"
      ]
     },
     "execution_count": 796,
     "metadata": {},
     "output_type": "execute_result"
    }
   ],
   "source": [
    "stud_gpa_lt_3=new_stud_srvey[new_stud_srvey['GPA']<3]\n",
    "stud_gpa_lt_3[\"GPA\"].count()"
   ]
  },
  {
   "cell_type": "code",
   "execution_count": 798,
   "id": "21efc102",
   "metadata": {},
   "outputs": [
    {
     "data": {
      "text/plain": [
       "62"
      ]
     },
     "execution_count": 798,
     "metadata": {},
     "output_type": "execute_result"
    }
   ],
   "source": [
    "new_stud_srvey[\"GPA\"].count()"
   ]
  },
  {
   "cell_type": "code",
   "execution_count": 799,
   "id": "cac36465",
   "metadata": {},
   "outputs": [
    {
     "data": {
      "text/plain": [
       "0.27419354838709675"
      ]
     },
     "execution_count": 799,
     "metadata": {},
     "output_type": "execute_result"
    }
   ],
   "source": [
    "prob_gpa_lt_3 = stud_gpa_lt_3[\"GPA\"].count() / new_stud_srvey[\"GPA\"].count()\n",
    "prob_gpa_lt_3"
   ]
  },
  {
   "cell_type": "code",
   "execution_count": 800,
   "id": "134b3f5e",
   "metadata": {},
   "outputs": [
    {
     "name": "stdout",
     "output_type": "stream",
     "text": [
      "Probability that if a student is chosen randomly his/her GPA is less than 3 is 0.27419354838709675\n"
     ]
    }
   ],
   "source": [
    "print('Probability that if a student is chosen randomly his/her GPA is less than 3 is',prob_gpa_lt_3 )"
   ]
  },
  {
   "cell_type": "code",
   "execution_count": null,
   "id": "4d51fee1",
   "metadata": {},
   "outputs": [],
   "source": []
  },
  {
   "cell_type": "markdown",
   "id": "897e2aa6",
   "metadata": {},
   "source": [
    "## 2.7.2 Find conditional probability that a randomly selected male earns 50 or more. Find conditional probability that a randomly selected female earns 50 or more."
   ]
  },
  {
   "cell_type": "code",
   "execution_count": 88,
   "id": "5f5a0a0f",
   "metadata": {},
   "outputs": [
    {
     "data": {
      "text/html": [
       "<div>\n",
       "<style scoped>\n",
       "    .dataframe tbody tr th:only-of-type {\n",
       "        vertical-align: middle;\n",
       "    }\n",
       "\n",
       "    .dataframe tbody tr th {\n",
       "        vertical-align: top;\n",
       "    }\n",
       "\n",
       "    .dataframe thead th {\n",
       "        text-align: right;\n",
       "    }\n",
       "</style>\n",
       "<table border=\"1\" class=\"dataframe\">\n",
       "  <thead>\n",
       "    <tr style=\"text-align: right;\">\n",
       "      <th></th>\n",
       "      <th>ID</th>\n",
       "      <th>Gender</th>\n",
       "      <th>Age</th>\n",
       "      <th>Class</th>\n",
       "      <th>Major</th>\n",
       "      <th>Grad Intention</th>\n",
       "      <th>GPA</th>\n",
       "      <th>Employment</th>\n",
       "      <th>Salary</th>\n",
       "      <th>Social Networking</th>\n",
       "      <th>Satisfaction</th>\n",
       "      <th>Spending</th>\n",
       "      <th>Computer</th>\n",
       "      <th>Text Messages</th>\n",
       "    </tr>\n",
       "  </thead>\n",
       "  <tbody>\n",
       "    <tr>\n",
       "      <th>14</th>\n",
       "      <td>15</td>\n",
       "      <td>Male</td>\n",
       "      <td>21</td>\n",
       "      <td>Senior</td>\n",
       "      <td>Management</td>\n",
       "      <td>Yes</td>\n",
       "      <td>3.20</td>\n",
       "      <td>Part-Time</td>\n",
       "      <td>54.00</td>\n",
       "      <td>3</td>\n",
       "      <td>4</td>\n",
       "      <td>600</td>\n",
       "      <td>Laptop</td>\n",
       "      <td>400</td>\n",
       "    </tr>\n",
       "    <tr>\n",
       "      <th>17</th>\n",
       "      <td>18</td>\n",
       "      <td>Male</td>\n",
       "      <td>21</td>\n",
       "      <td>Junior</td>\n",
       "      <td>Economics/Finance</td>\n",
       "      <td>Undecided</td>\n",
       "      <td>3.10</td>\n",
       "      <td>Part-Time</td>\n",
       "      <td>55.00</td>\n",
       "      <td>2</td>\n",
       "      <td>3</td>\n",
       "      <td>600</td>\n",
       "      <td>Laptop</td>\n",
       "      <td>300</td>\n",
       "    </tr>\n",
       "    <tr>\n",
       "      <th>18</th>\n",
       "      <td>19</td>\n",
       "      <td>Male</td>\n",
       "      <td>19</td>\n",
       "      <td>Junior</td>\n",
       "      <td>Economics/Finance</td>\n",
       "      <td>Yes</td>\n",
       "      <td>3.50</td>\n",
       "      <td>Part-Time</td>\n",
       "      <td>52.00</td>\n",
       "      <td>2</td>\n",
       "      <td>5</td>\n",
       "      <td>500</td>\n",
       "      <td>Laptop</td>\n",
       "      <td>300</td>\n",
       "    </tr>\n",
       "    <tr>\n",
       "      <th>21</th>\n",
       "      <td>22</td>\n",
       "      <td>Male</td>\n",
       "      <td>18</td>\n",
       "      <td>Sophomore</td>\n",
       "      <td>Accounting</td>\n",
       "      <td>Undecided</td>\n",
       "      <td>3.00</td>\n",
       "      <td>Unemployed</td>\n",
       "      <td>60.00</td>\n",
       "      <td>1</td>\n",
       "      <td>4</td>\n",
       "      <td>600</td>\n",
       "      <td>Laptop</td>\n",
       "      <td>500</td>\n",
       "    </tr>\n",
       "    <tr>\n",
       "      <th>25</th>\n",
       "      <td>26</td>\n",
       "      <td>Male</td>\n",
       "      <td>24</td>\n",
       "      <td>Senior</td>\n",
       "      <td>Management</td>\n",
       "      <td>Yes</td>\n",
       "      <td>3.30</td>\n",
       "      <td>Full-Time</td>\n",
       "      <td>60.00</td>\n",
       "      <td>0</td>\n",
       "      <td>1</td>\n",
       "      <td>300</td>\n",
       "      <td>Laptop</td>\n",
       "      <td>40</td>\n",
       "    </tr>\n",
       "    <tr>\n",
       "      <th>26</th>\n",
       "      <td>27</td>\n",
       "      <td>Male</td>\n",
       "      <td>20</td>\n",
       "      <td>Junior</td>\n",
       "      <td>Economics/Finance</td>\n",
       "      <td>Yes</td>\n",
       "      <td>3.10</td>\n",
       "      <td>Full-Time</td>\n",
       "      <td>65.00</td>\n",
       "      <td>1</td>\n",
       "      <td>5</td>\n",
       "      <td>375</td>\n",
       "      <td>Laptop</td>\n",
       "      <td>300</td>\n",
       "    </tr>\n",
       "    <tr>\n",
       "      <th>28</th>\n",
       "      <td>29</td>\n",
       "      <td>Male</td>\n",
       "      <td>22</td>\n",
       "      <td>Senior</td>\n",
       "      <td>Retailing/Marketing</td>\n",
       "      <td>Yes</td>\n",
       "      <td>3.30</td>\n",
       "      <td>Part-Time</td>\n",
       "      <td>55.00</td>\n",
       "      <td>1</td>\n",
       "      <td>6</td>\n",
       "      <td>1100</td>\n",
       "      <td>Laptop</td>\n",
       "      <td>60</td>\n",
       "    </tr>\n",
       "    <tr>\n",
       "      <th>30</th>\n",
       "      <td>31</td>\n",
       "      <td>Male</td>\n",
       "      <td>20</td>\n",
       "      <td>Junior</td>\n",
       "      <td>Accounting</td>\n",
       "      <td>Undecided</td>\n",
       "      <td>3.40</td>\n",
       "      <td>Part-Time</td>\n",
       "      <td>55.00</td>\n",
       "      <td>2</td>\n",
       "      <td>3</td>\n",
       "      <td>500</td>\n",
       "      <td>Laptop</td>\n",
       "      <td>750</td>\n",
       "    </tr>\n",
       "    <tr>\n",
       "      <th>38</th>\n",
       "      <td>39</td>\n",
       "      <td>Male</td>\n",
       "      <td>24</td>\n",
       "      <td>Junior</td>\n",
       "      <td>Economics/Finance</td>\n",
       "      <td>Yes</td>\n",
       "      <td>2.80</td>\n",
       "      <td>Part-Time</td>\n",
       "      <td>50.00</td>\n",
       "      <td>1</td>\n",
       "      <td>6</td>\n",
       "      <td>600</td>\n",
       "      <td>Laptop</td>\n",
       "      <td>50</td>\n",
       "    </tr>\n",
       "    <tr>\n",
       "      <th>39</th>\n",
       "      <td>40</td>\n",
       "      <td>Male</td>\n",
       "      <td>19</td>\n",
       "      <td>Sophomore</td>\n",
       "      <td>Retailing/Marketing</td>\n",
       "      <td>Yes</td>\n",
       "      <td>2.50</td>\n",
       "      <td>Unemployed</td>\n",
       "      <td>50.00</td>\n",
       "      <td>2</td>\n",
       "      <td>5</td>\n",
       "      <td>300</td>\n",
       "      <td>Laptop</td>\n",
       "      <td>100</td>\n",
       "    </tr>\n",
       "    <tr>\n",
       "      <th>40</th>\n",
       "      <td>41</td>\n",
       "      <td>Male</td>\n",
       "      <td>22</td>\n",
       "      <td>Junior</td>\n",
       "      <td>Accounting</td>\n",
       "      <td>Yes</td>\n",
       "      <td>3.20</td>\n",
       "      <td>Full-Time</td>\n",
       "      <td>60.00</td>\n",
       "      <td>1</td>\n",
       "      <td>4</td>\n",
       "      <td>680</td>\n",
       "      <td>Desktop</td>\n",
       "      <td>200</td>\n",
       "    </tr>\n",
       "    <tr>\n",
       "      <th>47</th>\n",
       "      <td>48</td>\n",
       "      <td>Male</td>\n",
       "      <td>19</td>\n",
       "      <td>Sophomore</td>\n",
       "      <td>Undecided</td>\n",
       "      <td>Undecided</td>\n",
       "      <td>2.50</td>\n",
       "      <td>Part-Time</td>\n",
       "      <td>80.00</td>\n",
       "      <td>2</td>\n",
       "      <td>4</td>\n",
       "      <td>500</td>\n",
       "      <td>Laptop</td>\n",
       "      <td>150</td>\n",
       "    </tr>\n",
       "    <tr>\n",
       "      <th>51</th>\n",
       "      <td>52</td>\n",
       "      <td>Male</td>\n",
       "      <td>21</td>\n",
       "      <td>Senior</td>\n",
       "      <td>Management</td>\n",
       "      <td>No</td>\n",
       "      <td>3.00</td>\n",
       "      <td>Part-Time</td>\n",
       "      <td>50.00</td>\n",
       "      <td>1</td>\n",
       "      <td>4</td>\n",
       "      <td>500</td>\n",
       "      <td>Laptop</td>\n",
       "      <td>200</td>\n",
       "    </tr>\n",
       "    <tr>\n",
       "      <th>54</th>\n",
       "      <td>55</td>\n",
       "      <td>Male</td>\n",
       "      <td>21</td>\n",
       "      <td>Senior</td>\n",
       "      <td>Other</td>\n",
       "      <td>Yes</td>\n",
       "      <td>3.40</td>\n",
       "      <td>Part-Time</td>\n",
       "      <td>50.00</td>\n",
       "      <td>1</td>\n",
       "      <td>4</td>\n",
       "      <td>250</td>\n",
       "      <td>Desktop</td>\n",
       "      <td>700</td>\n",
       "    </tr>\n",
       "  </tbody>\n",
       "</table>\n",
       "</div>"
      ],
      "text/plain": [
       "    ID Gender  Age      Class                Major Grad Intention  GPA  \\\n",
       "14  15   Male   21     Senior           Management            Yes 3.20   \n",
       "17  18   Male   21     Junior    Economics/Finance      Undecided 3.10   \n",
       "18  19   Male   19     Junior    Economics/Finance            Yes 3.50   \n",
       "21  22   Male   18  Sophomore           Accounting      Undecided 3.00   \n",
       "25  26   Male   24     Senior           Management            Yes 3.30   \n",
       "26  27   Male   20     Junior    Economics/Finance            Yes 3.10   \n",
       "28  29   Male   22     Senior  Retailing/Marketing            Yes 3.30   \n",
       "30  31   Male   20     Junior           Accounting      Undecided 3.40   \n",
       "38  39   Male   24     Junior    Economics/Finance            Yes 2.80   \n",
       "39  40   Male   19  Sophomore  Retailing/Marketing            Yes 2.50   \n",
       "40  41   Male   22     Junior           Accounting            Yes 3.20   \n",
       "47  48   Male   19  Sophomore            Undecided      Undecided 2.50   \n",
       "51  52   Male   21     Senior           Management             No 3.00   \n",
       "54  55   Male   21     Senior                Other            Yes 3.40   \n",
       "\n",
       "    Employment  Salary  Social Networking  Satisfaction  Spending Computer  \\\n",
       "14   Part-Time   54.00                  3             4       600   Laptop   \n",
       "17   Part-Time   55.00                  2             3       600   Laptop   \n",
       "18   Part-Time   52.00                  2             5       500   Laptop   \n",
       "21  Unemployed   60.00                  1             4       600   Laptop   \n",
       "25   Full-Time   60.00                  0             1       300   Laptop   \n",
       "26   Full-Time   65.00                  1             5       375   Laptop   \n",
       "28   Part-Time   55.00                  1             6      1100   Laptop   \n",
       "30   Part-Time   55.00                  2             3       500   Laptop   \n",
       "38   Part-Time   50.00                  1             6       600   Laptop   \n",
       "39  Unemployed   50.00                  2             5       300   Laptop   \n",
       "40   Full-Time   60.00                  1             4       680  Desktop   \n",
       "47   Part-Time   80.00                  2             4       500   Laptop   \n",
       "51   Part-Time   50.00                  1             4       500   Laptop   \n",
       "54   Part-Time   50.00                  1             4       250  Desktop   \n",
       "\n",
       "    Text Messages  \n",
       "14            400  \n",
       "17            300  \n",
       "18            300  \n",
       "21            500  \n",
       "25             40  \n",
       "26            300  \n",
       "28             60  \n",
       "30            750  \n",
       "38             50  \n",
       "39            100  \n",
       "40            200  \n",
       "47            150  \n",
       "51            200  \n",
       "54            700  "
      ]
     },
     "execution_count": 88,
     "metadata": {},
     "output_type": "execute_result"
    }
   ],
   "source": [
    "new_stud_male = stud_srvey[stud_srvey['Gender']=='Male']\n",
    "new_stud_male\n",
    "new_stud_male_50_sal=new_stud_male[new_stud_male['Salary']>=50]\n",
    "new_stud_male_50_sal"
   ]
  },
  {
   "cell_type": "code",
   "execution_count": 89,
   "id": "76b72d73",
   "metadata": {},
   "outputs": [
    {
     "data": {
      "text/plain": [
       "0.4827586206896552"
      ]
     },
     "execution_count": 89,
     "metadata": {},
     "output_type": "execute_result"
    }
   ],
   "source": [
    "prob_new_stud_male_50_sal= new_stud_male_50_sal[\"ID\"].count()/new_stud_male[\"ID\"].count()\n",
    "prob_new_stud_male_50_sal"
   ]
  },
  {
   "cell_type": "code",
   "execution_count": 90,
   "id": "c2685cfc",
   "metadata": {},
   "outputs": [
    {
     "name": "stdout",
     "output_type": "stream",
     "text": [
      "Probability that if  randomly selected male earns 50 or more is 0.4827586206896552\n"
     ]
    }
   ],
   "source": [
    "print('Probability that if  randomly selected male earns 50 or more is',prob_new_stud_male_50_sal)"
   ]
  },
  {
   "cell_type": "code",
   "execution_count": null,
   "id": "fb46d905",
   "metadata": {},
   "outputs": [],
   "source": []
  },
  {
   "cell_type": "markdown",
   "id": "ff271beb",
   "metadata": {},
   "source": [
    "### 2.8 Note that there are four numerical (continuous) variables in the data set, GPA, Salary, Spending and Text Messages. For each of them comment whether they follow a normal distribution."
   ]
  },
  {
   "cell_type": "code",
   "execution_count": 811,
   "id": "79d96a9e",
   "metadata": {},
   "outputs": [
    {
     "data": {
      "text/plain": [
       "<seaborn.axisgrid.FacetGrid at 0x223138ded90>"
      ]
     },
     "execution_count": 811,
     "metadata": {},
     "output_type": "execute_result"
    },
    {
     "data": {
      "image/png": "[encoded data removed]",
      "text/plain": [
       "<Figure size 360x360 with 1 Axes>"
      ]
     },
     "metadata": {
      "needs_background": "light"
     },
     "output_type": "display_data"
    },
    {
     "data": {
      "image/png": "[encoded data removed]",
      "text/plain": [
       "<Figure size 360x360 with 1 Axes>"
      ]
     },
     "metadata": {
      "needs_background": "light"
     },
     "output_type": "display_data"
    },
    {
     "data": {
      "image/png": "[encoded data removed]",
      "text/plain": [
       "<Figure size 360x360 with 1 Axes>"
      ]
     },
     "metadata": {
      "needs_background": "light"
     },
     "output_type": "display_data"
    },
    {
     "data": {
      "image/png": "[encoded data removed]",
      "text/plain": [
       "<Figure size 360x360 with 1 Axes>"
      ]
     },
     "metadata": {
      "needs_background": "light"
     },
     "output_type": "display_data"
    }
   ],
   "source": [
    "sns.displot(data=stud_srvey[\"GPA\"],kde=True,rug=True)\n",
    "sns.displot(data=stud_srvey[\"Salary\"],kde=True,rug=True)\n",
    "sns.displot(data=stud_srvey[\"Spending\"],kde=True,rug=True)\n",
    "sns.displot(data=stud_srvey[\"Text Messages\"],kde=True,rug=True)"
   ]
  },
  {
   "cell_type": "code",
   "execution_count": 812,
   "id": "ec23c683",
   "metadata": {},
   "outputs": [
    {
     "data": {
      "image/png": "[encoded data removed]",
      "text/plain": [
       "<Figure size 432x288 with 1 Axes>"
      ]
     },
     "metadata": {
      "needs_background": "light"
     },
     "output_type": "display_data"
    },
    {
     "data": {
      "image/png": "[encoded data removed]",
      "text/plain": [
       "<Figure size 432x288 with 1 Axes>"
      ]
     },
     "metadata": {
      "needs_background": "light"
     },
     "output_type": "display_data"
    },
    {
     "data": {
      "image/png": "[encoded data removed]",
      "text/plain": [
       "<Figure size 432x288 with 1 Axes>"
      ]
     },
     "metadata": {
      "needs_background": "light"
     },
     "output_type": "display_data"
    },
    {
     "data": {
      "image/png": "[encoded data removed]",
      "text/plain": [
       "<Figure size 432x288 with 1 Axes>"
      ]
     },
     "metadata": {
      "needs_background": "light"
     },
     "output_type": "display_data"
    }
   ],
   "source": [
    "my_data_gpa = stud_srvey[\"GPA\"]\n",
    "my_data_salary = stud_srvey[\"Salary\"]\n",
    "my_data_spending = stud_srvey[\"Spending\"]\n",
    "my_data_text_messages = stud_srvey[\"Text Messages\"]\n",
    "\n",
    "sm.qqplot(my_data_gpa, line='45')\n",
    "sm.qqplot(my_data_salary, line='45')\n",
    "sm.qqplot(my_data_spending, line='45')\n",
    "sm.qqplot(my_data_text_messages, line='45')\n",
    "pylab.show()"
   ]
  },
  {
   "cell_type": "markdown",
   "id": "8eb5618b",
   "metadata": {},
   "source": [
    "### Based on the Dist Plot and QQ Plot, we can see that GPA and salary are normally distributed but spending and Text messages are not normally distributed"
   ]
  },
  {
   "cell_type": "markdown",
   "id": "e587b6fd",
   "metadata": {},
   "source": [
    "# Problem 3 (Download Data)\n",
    "\n",
    "## An important quality characteristic used by the manufacturers of ABC asphalt shingles is the amount of moisture the shingles contain when they are packaged. Customers may feel that they have purchased a product lacking in quality if they find moisture and wet shingles inside the packaging.   In some cases, excessive moisture can cause the granules attached to the shingles for texture and coloring purposes to fall off the shingles resulting in appearance problems. To monitor the amount of moisture present, the company conducts moisture tests. A shingle is weighed and then dried. The shingle is then reweighed, and based on the amount of moisture taken out of the product, the pounds of moisture per 100 square feet are calculated. The company would like to show that the mean moisture content is less than 0.35 pounds per 100 square feet.\n",
    "\n",
    "## The file (A & B shingles.csv) includes 36 measurements (in pounds per 100 square feet) for A shingles and 31 for B shingles."
   ]
  },
  {
   "cell_type": "code",
   "execution_count": 105,
   "id": "045d085c",
   "metadata": {},
   "outputs": [
    {
     "data": {
      "text/html": [
       "<div>\n",
       "<style scoped>\n",
       "    .dataframe tbody tr th:only-of-type {\n",
       "        vertical-align: middle;\n",
       "    }\n",
       "\n",
       "    .dataframe tbody tr th {\n",
       "        vertical-align: top;\n",
       "    }\n",
       "\n",
       "    .dataframe thead th {\n",
       "        text-align: right;\n",
       "    }\n",
       "</style>\n",
       "<table border=\"1\" class=\"dataframe\">\n",
       "  <thead>\n",
       "    <tr style=\"text-align: right;\">\n",
       "      <th></th>\n",
       "      <th>A</th>\n",
       "      <th>B</th>\n",
       "    </tr>\n",
       "  </thead>\n",
       "  <tbody>\n",
       "    <tr>\n",
       "      <th>0</th>\n",
       "      <td>0.44</td>\n",
       "      <td>0.14</td>\n",
       "    </tr>\n",
       "    <tr>\n",
       "      <th>1</th>\n",
       "      <td>0.61</td>\n",
       "      <td>0.15</td>\n",
       "    </tr>\n",
       "    <tr>\n",
       "      <th>2</th>\n",
       "      <td>0.47</td>\n",
       "      <td>0.31</td>\n",
       "    </tr>\n",
       "    <tr>\n",
       "      <th>3</th>\n",
       "      <td>0.30</td>\n",
       "      <td>0.16</td>\n",
       "    </tr>\n",
       "    <tr>\n",
       "      <th>4</th>\n",
       "      <td>0.15</td>\n",
       "      <td>0.37</td>\n",
       "    </tr>\n",
       "    <tr>\n",
       "      <th>5</th>\n",
       "      <td>0.24</td>\n",
       "      <td>0.18</td>\n",
       "    </tr>\n",
       "    <tr>\n",
       "      <th>6</th>\n",
       "      <td>0.16</td>\n",
       "      <td>0.42</td>\n",
       "    </tr>\n",
       "    <tr>\n",
       "      <th>7</th>\n",
       "      <td>0.20</td>\n",
       "      <td>0.58</td>\n",
       "    </tr>\n",
       "    <tr>\n",
       "      <th>8</th>\n",
       "      <td>0.20</td>\n",
       "      <td>0.25</td>\n",
       "    </tr>\n",
       "    <tr>\n",
       "      <th>9</th>\n",
       "      <td>0.20</td>\n",
       "      <td>0.41</td>\n",
       "    </tr>\n",
       "    <tr>\n",
       "      <th>10</th>\n",
       "      <td>0.26</td>\n",
       "      <td>0.17</td>\n",
       "    </tr>\n",
       "    <tr>\n",
       "      <th>11</th>\n",
       "      <td>0.14</td>\n",
       "      <td>0.13</td>\n",
       "    </tr>\n",
       "    <tr>\n",
       "      <th>12</th>\n",
       "      <td>0.33</td>\n",
       "      <td>0.23</td>\n",
       "    </tr>\n",
       "    <tr>\n",
       "      <th>13</th>\n",
       "      <td>0.13</td>\n",
       "      <td>0.11</td>\n",
       "    </tr>\n",
       "    <tr>\n",
       "      <th>14</th>\n",
       "      <td>0.72</td>\n",
       "      <td>0.10</td>\n",
       "    </tr>\n",
       "    <tr>\n",
       "      <th>15</th>\n",
       "      <td>0.51</td>\n",
       "      <td>0.19</td>\n",
       "    </tr>\n",
       "    <tr>\n",
       "      <th>16</th>\n",
       "      <td>0.28</td>\n",
       "      <td>0.22</td>\n",
       "    </tr>\n",
       "    <tr>\n",
       "      <th>17</th>\n",
       "      <td>0.39</td>\n",
       "      <td>0.44</td>\n",
       "    </tr>\n",
       "    <tr>\n",
       "      <th>18</th>\n",
       "      <td>0.39</td>\n",
       "      <td>0.11</td>\n",
       "    </tr>\n",
       "    <tr>\n",
       "      <th>19</th>\n",
       "      <td>0.25</td>\n",
       "      <td>0.11</td>\n",
       "    </tr>\n",
       "    <tr>\n",
       "      <th>20</th>\n",
       "      <td>0.16</td>\n",
       "      <td>0.31</td>\n",
       "    </tr>\n",
       "    <tr>\n",
       "      <th>21</th>\n",
       "      <td>0.20</td>\n",
       "      <td>0.43</td>\n",
       "    </tr>\n",
       "    <tr>\n",
       "      <th>22</th>\n",
       "      <td>0.22</td>\n",
       "      <td>0.26</td>\n",
       "    </tr>\n",
       "    <tr>\n",
       "      <th>23</th>\n",
       "      <td>0.42</td>\n",
       "      <td>0.18</td>\n",
       "    </tr>\n",
       "    <tr>\n",
       "      <th>24</th>\n",
       "      <td>0.24</td>\n",
       "      <td>0.44</td>\n",
       "    </tr>\n",
       "    <tr>\n",
       "      <th>25</th>\n",
       "      <td>0.21</td>\n",
       "      <td>0.43</td>\n",
       "    </tr>\n",
       "    <tr>\n",
       "      <th>26</th>\n",
       "      <td>0.49</td>\n",
       "      <td>0.16</td>\n",
       "    </tr>\n",
       "    <tr>\n",
       "      <th>27</th>\n",
       "      <td>0.34</td>\n",
       "      <td>0.52</td>\n",
       "    </tr>\n",
       "    <tr>\n",
       "      <th>28</th>\n",
       "      <td>0.36</td>\n",
       "      <td>0.36</td>\n",
       "    </tr>\n",
       "    <tr>\n",
       "      <th>29</th>\n",
       "      <td>0.29</td>\n",
       "      <td>0.22</td>\n",
       "    </tr>\n",
       "    <tr>\n",
       "      <th>30</th>\n",
       "      <td>0.27</td>\n",
       "      <td>0.39</td>\n",
       "    </tr>\n",
       "    <tr>\n",
       "      <th>31</th>\n",
       "      <td>0.40</td>\n",
       "      <td>NaN</td>\n",
       "    </tr>\n",
       "    <tr>\n",
       "      <th>32</th>\n",
       "      <td>0.29</td>\n",
       "      <td>NaN</td>\n",
       "    </tr>\n",
       "    <tr>\n",
       "      <th>33</th>\n",
       "      <td>0.43</td>\n",
       "      <td>NaN</td>\n",
       "    </tr>\n",
       "    <tr>\n",
       "      <th>34</th>\n",
       "      <td>0.34</td>\n",
       "      <td>NaN</td>\n",
       "    </tr>\n",
       "    <tr>\n",
       "      <th>35</th>\n",
       "      <td>0.37</td>\n",
       "      <td>NaN</td>\n",
       "    </tr>\n",
       "  </tbody>\n",
       "</table>\n",
       "</div>"
      ],
      "text/plain": [
       "      A    B\n",
       "0  0.44 0.14\n",
       "1  0.61 0.15\n",
       "2  0.47 0.31\n",
       "3  0.30 0.16\n",
       "4  0.15 0.37\n",
       "5  0.24 0.18\n",
       "6  0.16 0.42\n",
       "7  0.20 0.58\n",
       "8  0.20 0.25\n",
       "9  0.20 0.41\n",
       "10 0.26 0.17\n",
       "11 0.14 0.13\n",
       "12 0.33 0.23\n",
       "13 0.13 0.11\n",
       "14 0.72 0.10\n",
       "15 0.51 0.19\n",
       "16 0.28 0.22\n",
       "17 0.39 0.44\n",
       "18 0.39 0.11\n",
       "19 0.25 0.11\n",
       "20 0.16 0.31\n",
       "21 0.20 0.43\n",
       "22 0.22 0.26\n",
       "23 0.42 0.18\n",
       "24 0.24 0.44\n",
       "25 0.21 0.43\n",
       "26 0.49 0.16\n",
       "27 0.34 0.52\n",
       "28 0.36 0.36\n",
       "29 0.29 0.22\n",
       "30 0.27 0.39\n",
       "31 0.40  NaN\n",
       "32 0.29  NaN\n",
       "33 0.43  NaN\n",
       "34 0.34  NaN\n",
       "35 0.37  NaN"
      ]
     },
     "execution_count": 105,
     "metadata": {},
     "output_type": "execute_result"
    }
   ],
   "source": [
    "shdf= pd.read_csv(\"A+&+B+shingles.csv\")\n",
    "shdf"
   ]
  },
  {
   "cell_type": "markdown",
   "id": "8fc962fc",
   "metadata": {},
   "source": [
    "### 3.1 Do you think there is evidence that means moisture contents in both types of shingles are within the permissible limits? State your conclusions clearly showing all steps."
   ]
  },
  {
   "cell_type": "markdown",
   "id": "593761f1",
   "metadata": {},
   "source": [
    "Declare Null and Alternate Hypothesis\n",
    "\n",
    "Ho= MC >= 0.35\n",
    "Ha= MC < 0.35"
   ]
  },
  {
   "cell_type": "markdown",
   "id": "47f86972",
   "metadata": {},
   "source": [
    "## Check for Shingle A"
   ]
  },
  {
   "cell_type": "code",
   "execution_count": 106,
   "id": "36917a13",
   "metadata": {},
   "outputs": [
    {
     "data": {
      "text/plain": [
       "36"
      ]
     },
     "execution_count": 106,
     "metadata": {},
     "output_type": "execute_result"
    }
   ],
   "source": [
    "from scipy.stats import   ttest_1samp , ttest_ind\n",
    "shdf['A'].count()"
   ]
  },
  {
   "cell_type": "code",
   "execution_count": 107,
   "id": "a4593910",
   "metadata": {},
   "outputs": [
    {
     "name": "stdout",
     "output_type": "stream",
     "text": [
      "One sample t test \n",
      "t statistic: -1.4735046253382782 p value: 0.07477633144907513 \n"
     ]
    }
   ],
   "source": [
    "t_statistic, p_value = ttest_1samp(shdf['A'], 0.35)\n",
    "\n",
    "print('One sample t test \\nt statistic: {0} p value: {1} '.format(t_statistic, p_value/2))\n",
    "## Since it is not a 2 tail test, so we need to Divide p_value by 2\n",
    "\n",
    "actual_p_value= p_value/2\n",
    "alpha_value = 0.05"
   ]
  },
  {
   "cell_type": "code",
   "execution_count": 99,
   "id": "aaca7eca",
   "metadata": {},
   "outputs": [
    {
     "name": "stdout",
     "output_type": "stream",
     "text": [
      "We have no evidence to reject the null hypothesis since actual_p_value > Level of significance\n",
      "Our one-sample t-test p-value= 0.07477633144907513\n",
      "Null Hypothisis is True , it means Moisture content is Greater than 0.35\n"
     ]
    }
   ],
   "source": [
    "if actual_p_value < alpha_value: \n",
    "    print('We have evidence to reject the null hypothesis since actual_p_value < Level of significance')\n",
    "else:\n",
    "    print('We have no evidence to reject the null hypothesis since actual_p_value > Level of significance') \n",
    "\n",
    "print (\"Our one-sample t-test p-value=\", actual_p_value)\n",
    "\n",
    "print(\"Null Hypothisis is True , it means Moisture content is Greater than 0.35\")"
   ]
  },
  {
   "cell_type": "markdown",
   "id": "93504c2e",
   "metadata": {},
   "source": [
    "## Check for Shingle B"
   ]
  },
  {
   "cell_type": "code",
   "execution_count": 831,
   "id": "7d00a1f8",
   "metadata": {},
   "outputs": [
    {
     "data": {
      "text/plain": [
       "0    0.14\n",
       "1    0.15\n",
       "2    0.31\n",
       "3    0.16\n",
       "4    0.37\n",
       "5    0.18\n",
       "6    0.42\n",
       "7    0.58\n",
       "8    0.25\n",
       "9    0.41\n",
       "10   0.17\n",
       "11   0.13\n",
       "12   0.23\n",
       "13   0.11\n",
       "14   0.10\n",
       "15   0.19\n",
       "16   0.22\n",
       "17   0.44\n",
       "18   0.11\n",
       "19   0.11\n",
       "20   0.31\n",
       "21   0.43\n",
       "22   0.26\n",
       "23   0.18\n",
       "24   0.44\n",
       "25   0.43\n",
       "26   0.16\n",
       "27   0.52\n",
       "28   0.36\n",
       "29   0.22\n",
       "30   0.39\n",
       "31    NaN\n",
       "32    NaN\n",
       "33    NaN\n",
       "34    NaN\n",
       "35    NaN\n",
       "Name: B, dtype: float64"
      ]
     },
     "execution_count": 831,
     "metadata": {},
     "output_type": "execute_result"
    }
   ],
   "source": [
    "from scipy.stats import   ttest_1samp , ttest_ind\n",
    "shdf['B']"
   ]
  },
  {
   "cell_type": "code",
   "execution_count": 833,
   "id": "1530c18c",
   "metadata": {},
   "outputs": [
    {
     "data": {
      "text/plain": [
       "0    0.14\n",
       "1    0.15\n",
       "2    0.31\n",
       "3    0.16\n",
       "4    0.37\n",
       "5    0.18\n",
       "6    0.42\n",
       "7    0.58\n",
       "8    0.25\n",
       "9    0.41\n",
       "10   0.17\n",
       "11   0.13\n",
       "12   0.23\n",
       "13   0.11\n",
       "14   0.10\n",
       "15   0.19\n",
       "16   0.22\n",
       "17   0.44\n",
       "18   0.11\n",
       "19   0.11\n",
       "20   0.31\n",
       "21   0.43\n",
       "22   0.26\n",
       "23   0.18\n",
       "24   0.44\n",
       "25   0.43\n",
       "26   0.16\n",
       "27   0.52\n",
       "28   0.36\n",
       "29   0.22\n",
       "30   0.39\n",
       "Name: B, dtype: float64"
      ]
     },
     "execution_count": 833,
     "metadata": {},
     "output_type": "execute_result"
    }
   ],
   "source": [
    "#removing NULL for Shingle B\n",
    "shdf_B= shdf['B'].dropna()\n",
    "shdf_B"
   ]
  },
  {
   "cell_type": "code",
   "execution_count": 834,
   "id": "3bfbc6d6",
   "metadata": {},
   "outputs": [
    {
     "data": {
      "text/plain": [
       "31"
      ]
     },
     "execution_count": 834,
     "metadata": {},
     "output_type": "execute_result"
    }
   ],
   "source": [
    "shdf_B.count()"
   ]
  },
  {
   "cell_type": "code",
   "execution_count": 835,
   "id": "1bf96220",
   "metadata": {},
   "outputs": [
    {
     "name": "stdout",
     "output_type": "stream",
     "text": [
      "One sample t test \n",
      "t statistic: -3.1003313069986995 p value: 0.0020904774003191813 \n"
     ]
    }
   ],
   "source": [
    "t_statistic, p_value = ttest_1samp(shdf_B, 0.35)\n",
    "\n",
    "print('One sample t test \\nt statistic: {0} p value: {1} '.format(t_statistic, p_value/2))\n",
    "## Since it is not a 2 tail test, so we need to Divide p_value by 2\n",
    "\n",
    "actual_p_value= p_value/2\n",
    "alpha_value = 0.05"
   ]
  },
  {
   "cell_type": "code",
   "execution_count": 837,
   "id": "93966a04",
   "metadata": {},
   "outputs": [
    {
     "name": "stdout",
     "output_type": "stream",
     "text": [
      "We have evidence to reject the null hypothesis since p value < Level of significance\n",
      "Our one-sample t-test p-value= 0.0020904774003191813\n",
      "Alternate Hypothisis is True , it means Moisture content is Less than 0.35\n"
     ]
    }
   ],
   "source": [
    "if actual_p_value < alpha_value: \n",
    "    print('We have evidence to reject the null hypothesis since p value < Level of significance')\n",
    "else:\n",
    "    print('We have no evidence to reject the null hypothesis since p value > Level of significance') \n",
    "\n",
    "print (\"Our one-sample t-test p-value=\", actual_p_value)\n",
    "\n",
    "print(\"Alternate Hypothisis is True , it means Moisture content is Less than 0.35\")"
   ]
  },
  {
   "cell_type": "code",
   "execution_count": null,
   "id": "71061b15",
   "metadata": {},
   "outputs": [],
   "source": []
  },
  {
   "cell_type": "markdown",
   "id": "cac7256d",
   "metadata": {},
   "source": [
    "### 3.2 Do you think that the population mean for shingles A and B are equal? Form the hypothesis and conduct the test of the hypothesis. What assumption do you need to check before the test for equality of means is performed?"
   ]
  },
  {
   "cell_type": "markdown",
   "id": "37c6006a",
   "metadata": {},
   "source": [
    "Ho= meanA = meanB\n",
    "Ha= meanA != meanB"
   ]
  },
  {
   "cell_type": "code",
   "execution_count": 840,
   "id": "90eab33a",
   "metadata": {},
   "outputs": [
    {
     "data": {
      "text/html": [
       "<div>\n",
       "<style scoped>\n",
       "    .dataframe tbody tr th:only-of-type {\n",
       "        vertical-align: middle;\n",
       "    }\n",
       "\n",
       "    .dataframe tbody tr th {\n",
       "        vertical-align: top;\n",
       "    }\n",
       "\n",
       "    .dataframe thead th {\n",
       "        text-align: right;\n",
       "    }\n",
       "</style>\n",
       "<table border=\"1\" class=\"dataframe\">\n",
       "  <thead>\n",
       "    <tr style=\"text-align: right;\">\n",
       "      <th></th>\n",
       "      <th>A</th>\n",
       "      <th>B</th>\n",
       "    </tr>\n",
       "  </thead>\n",
       "  <tbody>\n",
       "    <tr>\n",
       "      <th>0</th>\n",
       "      <td>0.44</td>\n",
       "      <td>0.14</td>\n",
       "    </tr>\n",
       "    <tr>\n",
       "      <th>1</th>\n",
       "      <td>0.61</td>\n",
       "      <td>0.15</td>\n",
       "    </tr>\n",
       "    <tr>\n",
       "      <th>2</th>\n",
       "      <td>0.47</td>\n",
       "      <td>0.31</td>\n",
       "    </tr>\n",
       "    <tr>\n",
       "      <th>3</th>\n",
       "      <td>0.30</td>\n",
       "      <td>0.16</td>\n",
       "    </tr>\n",
       "    <tr>\n",
       "      <th>4</th>\n",
       "      <td>0.15</td>\n",
       "      <td>0.37</td>\n",
       "    </tr>\n",
       "    <tr>\n",
       "      <th>5</th>\n",
       "      <td>0.24</td>\n",
       "      <td>0.18</td>\n",
       "    </tr>\n",
       "    <tr>\n",
       "      <th>6</th>\n",
       "      <td>0.16</td>\n",
       "      <td>0.42</td>\n",
       "    </tr>\n",
       "    <tr>\n",
       "      <th>7</th>\n",
       "      <td>0.20</td>\n",
       "      <td>0.58</td>\n",
       "    </tr>\n",
       "    <tr>\n",
       "      <th>8</th>\n",
       "      <td>0.20</td>\n",
       "      <td>0.25</td>\n",
       "    </tr>\n",
       "    <tr>\n",
       "      <th>9</th>\n",
       "      <td>0.20</td>\n",
       "      <td>0.41</td>\n",
       "    </tr>\n",
       "    <tr>\n",
       "      <th>10</th>\n",
       "      <td>0.26</td>\n",
       "      <td>0.17</td>\n",
       "    </tr>\n",
       "    <tr>\n",
       "      <th>11</th>\n",
       "      <td>0.14</td>\n",
       "      <td>0.13</td>\n",
       "    </tr>\n",
       "    <tr>\n",
       "      <th>12</th>\n",
       "      <td>0.33</td>\n",
       "      <td>0.23</td>\n",
       "    </tr>\n",
       "    <tr>\n",
       "      <th>13</th>\n",
       "      <td>0.13</td>\n",
       "      <td>0.11</td>\n",
       "    </tr>\n",
       "    <tr>\n",
       "      <th>14</th>\n",
       "      <td>0.72</td>\n",
       "      <td>0.10</td>\n",
       "    </tr>\n",
       "    <tr>\n",
       "      <th>15</th>\n",
       "      <td>0.51</td>\n",
       "      <td>0.19</td>\n",
       "    </tr>\n",
       "    <tr>\n",
       "      <th>16</th>\n",
       "      <td>0.28</td>\n",
       "      <td>0.22</td>\n",
       "    </tr>\n",
       "    <tr>\n",
       "      <th>17</th>\n",
       "      <td>0.39</td>\n",
       "      <td>0.44</td>\n",
       "    </tr>\n",
       "    <tr>\n",
       "      <th>18</th>\n",
       "      <td>0.39</td>\n",
       "      <td>0.11</td>\n",
       "    </tr>\n",
       "    <tr>\n",
       "      <th>19</th>\n",
       "      <td>0.25</td>\n",
       "      <td>0.11</td>\n",
       "    </tr>\n",
       "    <tr>\n",
       "      <th>20</th>\n",
       "      <td>0.16</td>\n",
       "      <td>0.31</td>\n",
       "    </tr>\n",
       "    <tr>\n",
       "      <th>21</th>\n",
       "      <td>0.20</td>\n",
       "      <td>0.43</td>\n",
       "    </tr>\n",
       "    <tr>\n",
       "      <th>22</th>\n",
       "      <td>0.22</td>\n",
       "      <td>0.26</td>\n",
       "    </tr>\n",
       "    <tr>\n",
       "      <th>23</th>\n",
       "      <td>0.42</td>\n",
       "      <td>0.18</td>\n",
       "    </tr>\n",
       "    <tr>\n",
       "      <th>24</th>\n",
       "      <td>0.24</td>\n",
       "      <td>0.44</td>\n",
       "    </tr>\n",
       "    <tr>\n",
       "      <th>25</th>\n",
       "      <td>0.21</td>\n",
       "      <td>0.43</td>\n",
       "    </tr>\n",
       "    <tr>\n",
       "      <th>26</th>\n",
       "      <td>0.49</td>\n",
       "      <td>0.16</td>\n",
       "    </tr>\n",
       "    <tr>\n",
       "      <th>27</th>\n",
       "      <td>0.34</td>\n",
       "      <td>0.52</td>\n",
       "    </tr>\n",
       "    <tr>\n",
       "      <th>28</th>\n",
       "      <td>0.36</td>\n",
       "      <td>0.36</td>\n",
       "    </tr>\n",
       "    <tr>\n",
       "      <th>29</th>\n",
       "      <td>0.29</td>\n",
       "      <td>0.22</td>\n",
       "    </tr>\n",
       "    <tr>\n",
       "      <th>30</th>\n",
       "      <td>0.27</td>\n",
       "      <td>0.39</td>\n",
       "    </tr>\n",
       "    <tr>\n",
       "      <th>31</th>\n",
       "      <td>0.40</td>\n",
       "      <td>NaN</td>\n",
       "    </tr>\n",
       "    <tr>\n",
       "      <th>32</th>\n",
       "      <td>0.29</td>\n",
       "      <td>NaN</td>\n",
       "    </tr>\n",
       "    <tr>\n",
       "      <th>33</th>\n",
       "      <td>0.43</td>\n",
       "      <td>NaN</td>\n",
       "    </tr>\n",
       "    <tr>\n",
       "      <th>34</th>\n",
       "      <td>0.34</td>\n",
       "      <td>NaN</td>\n",
       "    </tr>\n",
       "    <tr>\n",
       "      <th>35</th>\n",
       "      <td>0.37</td>\n",
       "      <td>NaN</td>\n",
       "    </tr>\n",
       "  </tbody>\n",
       "</table>\n",
       "</div>"
      ],
      "text/plain": [
       "      A    B\n",
       "0  0.44 0.14\n",
       "1  0.61 0.15\n",
       "2  0.47 0.31\n",
       "3  0.30 0.16\n",
       "4  0.15 0.37\n",
       "5  0.24 0.18\n",
       "6  0.16 0.42\n",
       "7  0.20 0.58\n",
       "8  0.20 0.25\n",
       "9  0.20 0.41\n",
       "10 0.26 0.17\n",
       "11 0.14 0.13\n",
       "12 0.33 0.23\n",
       "13 0.13 0.11\n",
       "14 0.72 0.10\n",
       "15 0.51 0.19\n",
       "16 0.28 0.22\n",
       "17 0.39 0.44\n",
       "18 0.39 0.11\n",
       "19 0.25 0.11\n",
       "20 0.16 0.31\n",
       "21 0.20 0.43\n",
       "22 0.22 0.26\n",
       "23 0.42 0.18\n",
       "24 0.24 0.44\n",
       "25 0.21 0.43\n",
       "26 0.49 0.16\n",
       "27 0.34 0.52\n",
       "28 0.36 0.36\n",
       "29 0.29 0.22\n",
       "30 0.27 0.39\n",
       "31 0.40  NaN\n",
       "32 0.29  NaN\n",
       "33 0.43  NaN\n",
       "34 0.34  NaN\n",
       "35 0.37  NaN"
      ]
     },
     "execution_count": 840,
     "metadata": {},
     "output_type": "execute_result"
    }
   ],
   "source": [
    "shdf"
   ]
  },
  {
   "cell_type": "code",
   "execution_count": 841,
   "id": "26d8f226",
   "metadata": {},
   "outputs": [
    {
     "name": "stdout",
     "output_type": "stream",
     "text": [
      "tstat 1.2896282719661123\n",
      "P Value 0.2017496571835306\n"
     ]
    }
   ],
   "source": [
    "t_statistic, p_value  = ttest_ind(shdf['A'],shdf['B'], equal_var=True,nan_policy='omit')\n",
    "print('tstat',t_statistic)    \n",
    "print('P Value',p_value)"
   ]
  },
  {
   "cell_type": "code",
   "execution_count": 844,
   "id": "8ed2b225",
   "metadata": {},
   "outputs": [
    {
     "name": "stdout",
     "output_type": "stream",
     "text": [
      "We have no evidence to reject the null hypothesis since p value > Level of significance\n",
      "Our one-sample t-test p-value= 0.0020904774003191813\n"
     ]
    }
   ],
   "source": [
    "if p_value < alpha_value: \n",
    "    print('We have evidence to reject the null hypothesis since p value < Level of significance')\n",
    "else:\n",
    "    print('We have no evidence to reject the null hypothesis since p value > Level of significance') \n",
    "\n",
    "print (\"Our one-sample t-test p-value=\", actual_p_value)"
   ]
  },
  {
   "cell_type": "code",
   "execution_count": null,
   "id": "d1676063",
   "metadata": {},
   "outputs": [],
   "source": []
  },
  {
   "cell_type": "code",
   "execution_count": null,
   "id": "f3a2e651",
   "metadata": {},
   "outputs": [],
   "source": []
  },
  {
   "cell_type": "code",
   "execution_count": null,
   "id": "62eaeb05",
   "metadata": {},
   "outputs": [],
   "source": []
  },
  {
   "cell_type": "code",
   "execution_count": null,
   "id": "1d61216b",
   "metadata": {},
   "outputs": [],
   "source": []
  }
 ],
 "metadata": {
  "kernelspec": {
   "display_name": "Python 3",
   "language": "python",
   "name": "python3"
  },
  "language_info": {
   "codemirror_mode": {
    "name": "ipython",
    "version": 3
   },
   "file_extension": ".py",
   "mimetype": "text/x-python",
   "name": "python",
   "nbconvert_exporter": "python",
   "pygments_lexer": "ipython3",
   "version": "3.8.8"
  }
 },
 "nbformat": 4,
 "nbformat_minor": 5
}
