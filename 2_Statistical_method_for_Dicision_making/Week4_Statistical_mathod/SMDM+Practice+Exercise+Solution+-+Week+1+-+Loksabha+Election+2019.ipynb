{
 "cells": [
  {
   "cell_type": "code",
   "execution_count": 1,
   "metadata": {},
   "outputs": [],
   "source": [
    "import numpy as np\n",
    "import pandas as pd\n",
    "pd.set_option('display.float_format', lambda x: '%.2f' % x)\n",
    "import scipy.stats as stats\n",
    "import matplotlib.pyplot as plt"
   ]
  },
  {
   "cell_type": "code",
   "execution_count": 2,
   "metadata": {},
   "outputs": [],
   "source": [
    "df = pd.read_csv('Lok+Sabha_2019.csv')"
   ]
  },
  {
   "cell_type": "code",
   "execution_count": 3,
   "metadata": {},
   "outputs": [
    {
     "data": {
      "text/html": [
       "<div>\n",
       "<style scoped>\n",
       "    .dataframe tbody tr th:only-of-type {\n",
       "        vertical-align: middle;\n",
       "    }\n",
       "\n",
       "    .dataframe tbody tr th {\n",
       "        vertical-align: top;\n",
       "    }\n",
       "\n",
       "    .dataframe thead th {\n",
       "        text-align: right;\n",
       "    }\n",
       "</style>\n",
       "<table border=\"1\" class=\"dataframe\">\n",
       "  <thead>\n",
       "    <tr style=\"text-align: right;\">\n",
       "      <th></th>\n",
       "      <th>STATE</th>\n",
       "      <th>CONSTITUENCY</th>\n",
       "      <th>NAME</th>\n",
       "      <th>WINNER</th>\n",
       "      <th>PARTY</th>\n",
       "      <th>SYMBOL</th>\n",
       "      <th>GENDER</th>\n",
       "      <th>CRIMINAL CASES</th>\n",
       "      <th>AGE</th>\n",
       "      <th>CATEGORY</th>\n",
       "      <th>EDUCATION</th>\n",
       "      <th>ASSETS</th>\n",
       "      <th>LIABILITIES</th>\n",
       "      <th>GENERAL VOTES</th>\n",
       "      <th>POSTAL VOTES</th>\n",
       "      <th>TOTAL VOTES</th>\n",
       "      <th>OVER TOTAL ELECTORS IN CONSTITUENCY</th>\n",
       "      <th>OVER TOTAL VOTES POLLED IN CONSTITUENCY</th>\n",
       "      <th>TOTAL ELECTORS</th>\n",
       "    </tr>\n",
       "  </thead>\n",
       "  <tbody>\n",
       "    <tr>\n",
       "      <th>0</th>\n",
       "      <td>Telangana</td>\n",
       "      <td>ADILABAD</td>\n",
       "      <td>SOYAM BAPU RAO</td>\n",
       "      <td>1</td>\n",
       "      <td>BJP</td>\n",
       "      <td>Lotus</td>\n",
       "      <td>MALE</td>\n",
       "      <td>52.00</td>\n",
       "      <td>52</td>\n",
       "      <td>ST</td>\n",
       "      <td>Basic Level</td>\n",
       "      <td>3099414.00</td>\n",
       "      <td>231450.00</td>\n",
       "      <td>376892</td>\n",
       "      <td>482</td>\n",
       "      <td>377374</td>\n",
       "      <td>25.33</td>\n",
       "      <td>35.47</td>\n",
       "      <td>1489790</td>\n",
       "    </tr>\n",
       "    <tr>\n",
       "      <th>1</th>\n",
       "      <td>Telangana</td>\n",
       "      <td>ADILABAD</td>\n",
       "      <td>Godam Nagesh</td>\n",
       "      <td>0</td>\n",
       "      <td>TRS</td>\n",
       "      <td>Car</td>\n",
       "      <td>MALE</td>\n",
       "      <td>0.00</td>\n",
       "      <td>54</td>\n",
       "      <td>ST</td>\n",
       "      <td>Post Graduate</td>\n",
       "      <td>18477888.00</td>\n",
       "      <td>847000.00</td>\n",
       "      <td>318665</td>\n",
       "      <td>149</td>\n",
       "      <td>318814</td>\n",
       "      <td>21.40</td>\n",
       "      <td>29.96</td>\n",
       "      <td>1489790</td>\n",
       "    </tr>\n",
       "    <tr>\n",
       "      <th>2</th>\n",
       "      <td>Telangana</td>\n",
       "      <td>ADILABAD</td>\n",
       "      <td>RATHOD RAMESH</td>\n",
       "      <td>0</td>\n",
       "      <td>INC</td>\n",
       "      <td>Hand</td>\n",
       "      <td>MALE</td>\n",
       "      <td>3.00</td>\n",
       "      <td>52</td>\n",
       "      <td>ST</td>\n",
       "      <td>Basic Level</td>\n",
       "      <td>36491000.00</td>\n",
       "      <td>15300000.00</td>\n",
       "      <td>314057</td>\n",
       "      <td>181</td>\n",
       "      <td>314238</td>\n",
       "      <td>21.09</td>\n",
       "      <td>29.53</td>\n",
       "      <td>1489790</td>\n",
       "    </tr>\n",
       "    <tr>\n",
       "      <th>3</th>\n",
       "      <td>Uttar Pradesh</td>\n",
       "      <td>AGRA</td>\n",
       "      <td>Satyapal Singh Baghel</td>\n",
       "      <td>1</td>\n",
       "      <td>BJP</td>\n",
       "      <td>Lotus</td>\n",
       "      <td>MALE</td>\n",
       "      <td>5.00</td>\n",
       "      <td>58</td>\n",
       "      <td>SC</td>\n",
       "      <td>Doctorate</td>\n",
       "      <td>74274036.00</td>\n",
       "      <td>8606522.00</td>\n",
       "      <td>644459</td>\n",
       "      <td>2416</td>\n",
       "      <td>646875</td>\n",
       "      <td>33.38</td>\n",
       "      <td>56.46</td>\n",
       "      <td>1937690</td>\n",
       "    </tr>\n",
       "    <tr>\n",
       "      <th>4</th>\n",
       "      <td>Uttar Pradesh</td>\n",
       "      <td>AGRA</td>\n",
       "      <td>Manoj Kumar Soni</td>\n",
       "      <td>0</td>\n",
       "      <td>BSP</td>\n",
       "      <td>Elephant</td>\n",
       "      <td>MALE</td>\n",
       "      <td>0.00</td>\n",
       "      <td>47</td>\n",
       "      <td>SC</td>\n",
       "      <td>Post Graduate</td>\n",
       "      <td>133784385.00</td>\n",
       "      <td>22251891.00</td>\n",
       "      <td>434199</td>\n",
       "      <td>1130</td>\n",
       "      <td>435329</td>\n",
       "      <td>22.47</td>\n",
       "      <td>38.00</td>\n",
       "      <td>1937690</td>\n",
       "    </tr>\n",
       "  </tbody>\n",
       "</table>\n",
       "</div>"
      ],
      "text/plain": [
       "           STATE CONSTITUENCY                   NAME  WINNER PARTY    SYMBOL  \\\n",
       "0      Telangana     ADILABAD         SOYAM BAPU RAO       1   BJP     Lotus   \n",
       "1      Telangana     ADILABAD           Godam Nagesh       0   TRS       Car   \n",
       "2      Telangana     ADILABAD          RATHOD RAMESH       0   INC      Hand   \n",
       "3  Uttar Pradesh         AGRA  Satyapal Singh Baghel       1   BJP     Lotus   \n",
       "4  Uttar Pradesh         AGRA       Manoj Kumar Soni       0   BSP  Elephant   \n",
       "\n",
       "  GENDER  CRIMINAL CASES  AGE CATEGORY      EDUCATION       ASSETS  \\\n",
       "0   MALE           52.00   52       ST    Basic Level   3099414.00   \n",
       "1   MALE            0.00   54       ST  Post Graduate  18477888.00   \n",
       "2   MALE            3.00   52       ST    Basic Level  36491000.00   \n",
       "3   MALE            5.00   58       SC      Doctorate  74274036.00   \n",
       "4   MALE            0.00   47       SC  Post Graduate 133784385.00   \n",
       "\n",
       "   LIABILITIES  GENERAL VOTES  POSTAL VOTES  TOTAL VOTES  \\\n",
       "0    231450.00         376892           482       377374   \n",
       "1    847000.00         318665           149       318814   \n",
       "2  15300000.00         314057           181       314238   \n",
       "3   8606522.00         644459          2416       646875   \n",
       "4  22251891.00         434199          1130       435329   \n",
       "\n",
       "   OVER TOTAL ELECTORS IN CONSTITUENCY  \\\n",
       "0                                25.33   \n",
       "1                                21.40   \n",
       "2                                21.09   \n",
       "3                                33.38   \n",
       "4                                22.47   \n",
       "\n",
       "   OVER TOTAL VOTES POLLED IN CONSTITUENCY  TOTAL ELECTORS  \n",
       "0                                    35.47         1489790  \n",
       "1                                    29.96         1489790  \n",
       "2                                    29.53         1489790  \n",
       "3                                    56.46         1937690  \n",
       "4                                    38.00         1937690  "
      ]
     },
     "execution_count": 3,
     "metadata": {},
     "output_type": "execute_result"
    }
   ],
   "source": [
    "df.head()"
   ]
  },
  {
   "cell_type": "markdown",
   "metadata": {},
   "source": [
    "# 1. Which State/UT contributes to the least number of total votes? Which State/UT contributes to the most number of total votes?"
   ]
  },
  {
   "cell_type": "code",
   "execution_count": 4,
   "metadata": {},
   "outputs": [
    {
     "data": {
      "text/plain": [
       "<AxesSubplot:xlabel='STATE'>"
      ]
     },
     "execution_count": 4,
     "metadata": {},
     "output_type": "execute_result"
    },
    {
     "data": {
      "image/png": "[encoded data removed]",
      "text/plain": [
       "<Figure size 1440x576 with 1 Axes>"
      ]
     },
     "metadata": {
      "needs_background": "light"
     },
     "output_type": "display_data"
    }
   ],
   "source": [
    "plt.figure(figsize=(20,8))\n",
    "df.groupby('STATE').sum()['TOTAL VOTES'].sort_values(ascending = True).plot(kind = 'bar')"
   ]
  },
  {
   "cell_type": "markdown",
   "metadata": {},
   "source": [
    "From the bar chart,\n",
    "1. It’s evident that Uttar Pradesh contributes the most number of total votes - 14.2%, approx. 84 mln votes\n",
    "2. Lakshadweep contributes the least number of total votes - 0.0078%, approx. 46k votes"
   ]
  },
  {
   "cell_type": "markdown",
   "metadata": {},
   "source": [
    "# 2. Candidates from which constituency on an average seems to contribute most towards the amount of assets declared? Candidates from which constituency on an average seems to contribute least towards amount of assets declared?"
   ]
  },
  {
   "cell_type": "code",
   "execution_count": 5,
   "metadata": {},
   "outputs": [
    {
     "data": {
      "text/plain": [
       "CONSTITUENCY\n",
       "ALATHUR              2165624.67\n",
       "VILUPPURAM           3032143.33\n",
       "GAYA (SC)            3796683.45\n",
       "ALIPURDUARS          3895905.50\n",
       "BOLPUR               4090779.40\n",
       "                       ...     \n",
       "BANGALORE RURAL   1230421937.67\n",
       "NELLORE           1289469814.67\n",
       "GUNA              1296719487.00\n",
       "CHHINDWARA        1655144708.25\n",
       "CHEVELLA          3927395902.00\n",
       "Name: ASSETS, Length: 539, dtype: float64"
      ]
     },
     "execution_count": 5,
     "metadata": {},
     "output_type": "execute_result"
    }
   ],
   "source": [
    "df.groupby('CONSTITUENCY').mean()['ASSETS'].sort_values(ascending = True)"
   ]
  },
  {
   "cell_type": "markdown",
   "metadata": {},
   "source": [
    "### Candidates from ALATHUR constituency on an average seems to contribute most towards the amount of assets declared with an avg amount of approx. 2.2 mln rupees"
   ]
  },
  {
   "cell_type": "code",
   "execution_count": 6,
   "metadata": {},
   "outputs": [
    {
     "data": {
      "text/plain": [
       "CONSTITUENCY\n",
       "CHEVELLA          3927395902.00\n",
       "CHHINDWARA        1655144708.25\n",
       "GUNA              1296719487.00\n",
       "NELLORE           1289469814.67\n",
       "BANGALORE RURAL   1230421937.67\n",
       "                       ...     \n",
       "BOLPUR               4090779.40\n",
       "ALIPURDUARS          3895905.50\n",
       "GAYA (SC)            3796683.45\n",
       "VILUPPURAM           3032143.33\n",
       "ALATHUR              2165624.67\n",
       "Name: ASSETS, Length: 539, dtype: float64"
      ]
     },
     "execution_count": 6,
     "metadata": {},
     "output_type": "execute_result"
    }
   ],
   "source": [
    "df.groupby('CONSTITUENCY').mean()['ASSETS'].sort_values(ascending = False)"
   ]
  },
  {
   "cell_type": "markdown",
   "metadata": {},
   "source": [
    "### Candidates from CHEVELLA constituency on an average seems to contribute least towards the amount of assets declared with an avg amount of approx. 3.9 bln rupees"
   ]
  },
  {
   "cell_type": "markdown",
   "metadata": {},
   "source": [
    "# 3. Consider assets and liabilities. Describe and explain both across the Education level? Provide a detailed justification for your answer."
   ]
  },
  {
   "cell_type": "code",
   "execution_count": 7,
   "metadata": {},
   "outputs": [],
   "source": [
    "df_asset = df.groupby('EDUCATION')['ASSETS']\n",
    "df_asset_des = df_asset.describe().T\n",
    "df_asset_des.loc[('Total'), :] = df_asset.sum()"
   ]
  },
  {
   "cell_type": "code",
   "execution_count": 8,
   "metadata": {},
   "outputs": [
    {
     "data": {
      "text/html": [
       "<div>\n",
       "<style scoped>\n",
       "    .dataframe tbody tr th:only-of-type {\n",
       "        vertical-align: middle;\n",
       "    }\n",
       "\n",
       "    .dataframe tbody tr th {\n",
       "        vertical-align: top;\n",
       "    }\n",
       "\n",
       "    .dataframe thead th {\n",
       "        text-align: right;\n",
       "    }\n",
       "</style>\n",
       "<table border=\"1\" class=\"dataframe\">\n",
       "  <thead>\n",
       "    <tr style=\"text-align: right;\">\n",
       "      <th>EDUCATION</th>\n",
       "      <th>Basic Level</th>\n",
       "      <th>Doctorate</th>\n",
       "      <th>Graduate</th>\n",
       "      <th>Illiterate</th>\n",
       "      <th>Post Graduate</th>\n",
       "    </tr>\n",
       "  </thead>\n",
       "  <tbody>\n",
       "    <tr>\n",
       "      <th>count</th>\n",
       "      <td>588.00</td>\n",
       "      <td>73.00</td>\n",
       "      <td>776.00</td>\n",
       "      <td>55.00</td>\n",
       "      <td>503.00</td>\n",
       "    </tr>\n",
       "    <tr>\n",
       "      <th>mean</th>\n",
       "      <td>113087357.14</td>\n",
       "      <td>163789131.21</td>\n",
       "      <td>147467337.18</td>\n",
       "      <td>124500820.24</td>\n",
       "      <td>130823318.28</td>\n",
       "    </tr>\n",
       "    <tr>\n",
       "      <th>std</th>\n",
       "      <td>339566599.54</td>\n",
       "      <td>470070948.95</td>\n",
       "      <td>478087455.58</td>\n",
       "      <td>232219087.71</td>\n",
       "      <td>394944020.12</td>\n",
       "    </tr>\n",
       "    <tr>\n",
       "      <th>min</th>\n",
       "      <td>565.00</td>\n",
       "      <td>177000.00</td>\n",
       "      <td>0.00</td>\n",
       "      <td>0.00</td>\n",
       "      <td>0.00</td>\n",
       "    </tr>\n",
       "    <tr>\n",
       "      <th>25%</th>\n",
       "      <td>3000851.00</td>\n",
       "      <td>9770000.00</td>\n",
       "      <td>9909171.25</td>\n",
       "      <td>7262786.00</td>\n",
       "      <td>7944132.00</td>\n",
       "    </tr>\n",
       "    <tr>\n",
       "      <th>50%</th>\n",
       "      <td>14935796.50</td>\n",
       "      <td>18988281.00</td>\n",
       "      <td>33282304.00</td>\n",
       "      <td>28350217.00</td>\n",
       "      <td>27182370.00</td>\n",
       "    </tr>\n",
       "    <tr>\n",
       "      <th>75%</th>\n",
       "      <td>65860366.50</td>\n",
       "      <td>74274036.00</td>\n",
       "      <td>115810559.75</td>\n",
       "      <td>116754959.00</td>\n",
       "      <td>92760397.50</td>\n",
       "    </tr>\n",
       "    <tr>\n",
       "      <th>max</th>\n",
       "      <td>3418643970.00</td>\n",
       "      <td>2508270292.00</td>\n",
       "      <td>8950179170.00</td>\n",
       "      <td>1197313405.00</td>\n",
       "      <td>4174930444.00</td>\n",
       "    </tr>\n",
       "    <tr>\n",
       "      <th>Total</th>\n",
       "      <td>66495365996.00</td>\n",
       "      <td>11956606578.00</td>\n",
       "      <td>114434653649.00</td>\n",
       "      <td>6847545113.00</td>\n",
       "      <td>65804129095.00</td>\n",
       "    </tr>\n",
       "  </tbody>\n",
       "</table>\n",
       "</div>"
      ],
      "text/plain": [
       "EDUCATION    Basic Level      Doctorate        Graduate    Illiterate  \\\n",
       "count             588.00          73.00          776.00         55.00   \n",
       "mean        113087357.14   163789131.21    147467337.18  124500820.24   \n",
       "std         339566599.54   470070948.95    478087455.58  232219087.71   \n",
       "min               565.00      177000.00            0.00          0.00   \n",
       "25%           3000851.00     9770000.00      9909171.25    7262786.00   \n",
       "50%          14935796.50    18988281.00     33282304.00   28350217.00   \n",
       "75%          65860366.50    74274036.00    115810559.75  116754959.00   \n",
       "max        3418643970.00  2508270292.00   8950179170.00 1197313405.00   \n",
       "Total     66495365996.00 11956606578.00 114434653649.00 6847545113.00   \n",
       "\n",
       "EDUCATION  Post Graduate  \n",
       "count             503.00  \n",
       "mean        130823318.28  \n",
       "std         394944020.12  \n",
       "min                 0.00  \n",
       "25%           7944132.00  \n",
       "50%          27182370.00  \n",
       "75%          92760397.50  \n",
       "max        4174930444.00  \n",
       "Total     65804129095.00  "
      ]
     },
     "execution_count": 8,
     "metadata": {},
     "output_type": "execute_result"
    }
   ],
   "source": [
    "df_asset_des"
   ]
  },
  {
   "cell_type": "markdown",
   "metadata": {},
   "source": [
    "From the above table,\n",
    "1. On an average, the assets declared by a Doctorate candidate are the highest, whereas, the average assets declared by a candidate with Basic level of education is the lowest.\n",
    "2. The highest total amount of assests declared come from Gradute candidates, whereas, the lowest total amount of assests declared come from Illiterate candidates."
   ]
  },
  {
   "cell_type": "code",
   "execution_count": 9,
   "metadata": {},
   "outputs": [
    {
     "data": {
      "text/plain": [
       "Text(0.5, 0, 'Post Graduate')"
      ]
     },
     "execution_count": 9,
     "metadata": {},
     "output_type": "execute_result"
    },
    {
     "data": {
      "image/png": "[encoded data removed]",
      "text/plain": [
       "<Figure size 1440x576 with 5 Axes>"
      ]
     },
     "metadata": {
      "needs_background": "light"
     },
     "output_type": "display_data"
    }
   ],
   "source": [
    "plt.figure(figsize=(20,8))\n",
    "plt.subplot(2,3,1)\n",
    "df_asset.get_group('Basic Level').plot(kind = 'hist')\n",
    "plt.xlabel('Basic Level')\n",
    "plt.subplot(2,3,2)\n",
    "df_asset.get_group('Doctorate').plot(kind = 'hist')\n",
    "plt.xlabel('Doctorate')\n",
    "plt.subplot(2,3,3)\n",
    "df_asset.get_group('Graduate').plot(kind = 'hist')\n",
    "plt.xlabel('Graduate')\n",
    "plt.subplot(2,3,4)\n",
    "df_asset.get_group('Illiterate').plot(kind = 'hist')\n",
    "plt.xlabel('Illiterate')\n",
    "plt.subplot(2,3,5)\n",
    "df_asset.get_group('Post Graduate').plot(kind = 'hist')\n",
    "plt.xlabel('Post Graduate')"
   ]
  },
  {
   "cell_type": "markdown",
   "metadata": {},
   "source": [
    "From the individual histograms, it shows the **assets** spread is right skewed and it’s not normal distribution across all education levels."
   ]
  },
  {
   "cell_type": "code",
   "execution_count": 10,
   "metadata": {},
   "outputs": [],
   "source": [
    "df_lia = df.groupby('EDUCATION')['LIABILITIES']\n",
    "df_lia_des = df_lia.describe().T\n",
    "df_lia_des.loc[('Total'), :] = df_lia.sum()"
   ]
  },
  {
   "cell_type": "code",
   "execution_count": 11,
   "metadata": {},
   "outputs": [
    {
     "data": {
      "text/html": [
       "<div>\n",
       "<style scoped>\n",
       "    .dataframe tbody tr th:only-of-type {\n",
       "        vertical-align: middle;\n",
       "    }\n",
       "\n",
       "    .dataframe tbody tr th {\n",
       "        vertical-align: top;\n",
       "    }\n",
       "\n",
       "    .dataframe thead th {\n",
       "        text-align: right;\n",
       "    }\n",
       "</style>\n",
       "<table border=\"1\" class=\"dataframe\">\n",
       "  <thead>\n",
       "    <tr style=\"text-align: right;\">\n",
       "      <th>EDUCATION</th>\n",
       "      <th>Basic Level</th>\n",
       "      <th>Doctorate</th>\n",
       "      <th>Graduate</th>\n",
       "      <th>Illiterate</th>\n",
       "      <th>Post Graduate</th>\n",
       "    </tr>\n",
       "  </thead>\n",
       "  <tbody>\n",
       "    <tr>\n",
       "      <th>count</th>\n",
       "      <td>588.00</td>\n",
       "      <td>73.00</td>\n",
       "      <td>777.00</td>\n",
       "      <td>55.00</td>\n",
       "      <td>503.00</td>\n",
       "    </tr>\n",
       "    <tr>\n",
       "      <th>mean</th>\n",
       "      <td>21598924.78</td>\n",
       "      <td>8972111.25</td>\n",
       "      <td>18852620.89</td>\n",
       "      <td>19511916.51</td>\n",
       "      <td>21383130.71</td>\n",
       "    </tr>\n",
       "    <tr>\n",
       "      <th>std</th>\n",
       "      <td>99416300.01</td>\n",
       "      <td>25885435.30</td>\n",
       "      <td>74590853.58</td>\n",
       "      <td>73095280.61</td>\n",
       "      <td>106208631.07</td>\n",
       "    </tr>\n",
       "    <tr>\n",
       "      <th>min</th>\n",
       "      <td>0.00</td>\n",
       "      <td>0.00</td>\n",
       "      <td>0.00</td>\n",
       "      <td>0.00</td>\n",
       "      <td>0.00</td>\n",
       "    </tr>\n",
       "    <tr>\n",
       "      <th>25%</th>\n",
       "      <td>0.00</td>\n",
       "      <td>0.00</td>\n",
       "      <td>0.00</td>\n",
       "      <td>0.00</td>\n",
       "      <td>0.00</td>\n",
       "    </tr>\n",
       "    <tr>\n",
       "      <th>50%</th>\n",
       "      <td>500000.00</td>\n",
       "      <td>1127000.00</td>\n",
       "      <td>1387000.00</td>\n",
       "      <td>1935504.00</td>\n",
       "      <td>980000.00</td>\n",
       "    </tr>\n",
       "    <tr>\n",
       "      <th>75%</th>\n",
       "      <td>4575793.25</td>\n",
       "      <td>2623964.00</td>\n",
       "      <td>7450651.00</td>\n",
       "      <td>7845260.50</td>\n",
       "      <td>6474886.00</td>\n",
       "    </tr>\n",
       "    <tr>\n",
       "      <th>max</th>\n",
       "      <td>1350000000.00</td>\n",
       "      <td>137800000.00</td>\n",
       "      <td>1079582000.00</td>\n",
       "      <td>534644785.00</td>\n",
       "      <td>1547511439.00</td>\n",
       "    </tr>\n",
       "    <tr>\n",
       "      <th>Total</th>\n",
       "      <td>12700167770.00</td>\n",
       "      <td>654964121.00</td>\n",
       "      <td>14648486430.00</td>\n",
       "      <td>1073155408.00</td>\n",
       "      <td>10755714746.00</td>\n",
       "    </tr>\n",
       "  </tbody>\n",
       "</table>\n",
       "</div>"
      ],
      "text/plain": [
       "EDUCATION    Basic Level    Doctorate       Graduate    Illiterate  \\\n",
       "count             588.00        73.00         777.00         55.00   \n",
       "mean         21598924.78   8972111.25    18852620.89   19511916.51   \n",
       "std          99416300.01  25885435.30    74590853.58   73095280.61   \n",
       "min                 0.00         0.00           0.00          0.00   \n",
       "25%                 0.00         0.00           0.00          0.00   \n",
       "50%            500000.00   1127000.00     1387000.00    1935504.00   \n",
       "75%           4575793.25   2623964.00     7450651.00    7845260.50   \n",
       "max        1350000000.00 137800000.00  1079582000.00  534644785.00   \n",
       "Total     12700167770.00 654964121.00 14648486430.00 1073155408.00   \n",
       "\n",
       "EDUCATION  Post Graduate  \n",
       "count             503.00  \n",
       "mean         21383130.71  \n",
       "std         106208631.07  \n",
       "min                 0.00  \n",
       "25%                 0.00  \n",
       "50%            980000.00  \n",
       "75%           6474886.00  \n",
       "max        1547511439.00  \n",
       "Total     10755714746.00  "
      ]
     },
     "execution_count": 11,
     "metadata": {},
     "output_type": "execute_result"
    }
   ],
   "source": [
    "df_lia_des"
   ]
  },
  {
   "cell_type": "markdown",
   "metadata": {},
   "source": [
    "From the above table,\n",
    "\n",
    "1. On an average, the liabilities declared by a candidates with Basic level of education are the highest, whereas, the average liabilities declared by Doctorate candidate is the lowest.\n",
    "2. The highest total amount of liabilities declared come from Gradute candidates, whereas, the lowest total amount of liabilities declared come from Doctorate candidates."
   ]
  },
  {
   "cell_type": "code",
   "execution_count": 204,
   "metadata": {},
   "outputs": [
    {
     "data": {
      "text/plain": [
       "Text(0.5, 0, 'Post Graduate')"
      ]
     },
     "execution_count": 204,
     "metadata": {},
     "output_type": "execute_result"
    },
    {
     "data": {
      "image/png": "[encoded data removed]",
      "text/plain": [
       "<Figure size 1440x576 with 5 Axes>"
      ]
     },
     "metadata": {
      "needs_background": "light"
     },
     "output_type": "display_data"
    }
   ],
   "source": [
    "plt.figure(figsize=(20,8))\n",
    "plt.subplot(2,3,1)\n",
    "df_lia.get_group('Basic Level').plot(kind = 'hist')\n",
    "plt.xlabel('Basic Level')\n",
    "plt.subplot(2,3,2)\n",
    "df_lia.get_group('Doctorate').plot(kind = 'hist')\n",
    "plt.xlabel('Doctorate')\n",
    "plt.subplot(2,3,3)\n",
    "df_lia.get_group('Graduate').plot(kind = 'hist')\n",
    "plt.xlabel('Graduate')\n",
    "plt.subplot(2,3,4)\n",
    "df_lia.get_group('Illiterate').plot(kind = 'hist')\n",
    "plt.xlabel('Illiterate')\n",
    "plt.subplot(2,3,5)\n",
    "df_lia.get_group('Post Graduate').plot(kind = 'hist')\n",
    "plt.xlabel('Post Graduate')"
   ]
  },
  {
   "cell_type": "markdown",
   "metadata": {},
   "source": [
    "From the individual histograms, it shows the liabilities spread is right skewed and it’s not normal distribution across all education levels."
   ]
  },
  {
   "cell_type": "markdown",
   "metadata": {},
   "source": [
    "# 4. Are there any outliers in assets and liabilities across Education level? Back up your answer with a suitable plot/technique."
   ]
  },
  {
   "cell_type": "code",
   "execution_count": 205,
   "metadata": {},
   "outputs": [
    {
     "data": {
      "text/plain": [
       "Text(0.5, 0, 'Post Graduate')"
      ]
     },
     "execution_count": 205,
     "metadata": {},
     "output_type": "execute_result"
    },
    {
     "data": {
      "image/png": "[encoded data removed]",
      "text/plain": [
       "<Figure size 1440x576 with 5 Axes>"
      ]
     },
     "metadata": {
      "needs_background": "light"
     },
     "output_type": "display_data"
    }
   ],
   "source": [
    "plt.figure(figsize=(20,8))\n",
    "plt.subplot(1,5,1)\n",
    "df_asset.get_group('Basic Level').plot(kind = 'box')\n",
    "plt.xlabel('Basic Level')\n",
    "plt.subplot(1,5,2)\n",
    "df_asset.get_group('Doctorate').plot(kind = 'box')\n",
    "plt.xlabel('Doctorate')\n",
    "plt.subplot(1,5,3)\n",
    "df_asset.get_group('Graduate').plot(kind = 'box')\n",
    "plt.xlabel('Graduate')\n",
    "plt.subplot(1,5,4)\n",
    "df_asset.get_group('Illiterate').plot(kind = 'box')\n",
    "plt.xlabel('Illiterate')\n",
    "plt.subplot(1,5,5)\n",
    "df_asset.get_group('Post Graduate').plot(kind = 'box')\n",
    "plt.xlabel('Post Graduate')"
   ]
  },
  {
   "cell_type": "code",
   "execution_count": 206,
   "metadata": {},
   "outputs": [
    {
     "data": {
      "text/plain": [
       "Text(0.5, 0, 'Post Graduate')"
      ]
     },
     "execution_count": 206,
     "metadata": {},
     "output_type": "execute_result"
    },
    {
     "data": {
      "image/png": "[encoded data removed]",
      "text/plain": [
       "<Figure size 1440x576 with 5 Axes>"
      ]
     },
     "metadata": {
      "needs_background": "light"
     },
     "output_type": "display_data"
    }
   ],
   "source": [
    "plt.figure(figsize=(20,8))\n",
    "plt.subplot(1,5,1)\n",
    "df_lia.get_group('Basic Level').plot(kind = 'box')\n",
    "plt.xlabel('Basic Level')\n",
    "plt.subplot(1,5,2)\n",
    "df_lia.get_group('Doctorate').plot(kind = 'box')\n",
    "plt.xlabel('Doctorate')\n",
    "plt.subplot(1,5,3)\n",
    "df_lia.get_group('Graduate').plot(kind = 'box')\n",
    "plt.xlabel('Graduate')\n",
    "plt.subplot(1,5,4)\n",
    "df_lia.get_group('Illiterate').plot(kind = 'box')\n",
    "plt.xlabel('Illiterate')\n",
    "plt.subplot(1,5,5)\n",
    "df_lia.get_group('Post Graduate').plot(kind = 'box')\n",
    "plt.xlabel('Post Graduate')"
   ]
  },
  {
   "cell_type": "markdown",
   "metadata": {},
   "source": [
    "Box plot is the best pictorial presentation to show the outliers. Clearly, both assets and liabilites have outliers across all the education levels."
   ]
  },
  {
   "cell_type": "markdown",
   "metadata": {},
   "source": [
    "# 5. On the basis of the descriptive measure of variability, candidates with what education level shows the most and the least inconsistent behavior in the declared assets?"
   ]
  },
  {
   "cell_type": "code",
   "execution_count": 12,
   "metadata": {},
   "outputs": [
    {
     "data": {
      "text/html": [
       "<div>\n",
       "<style scoped>\n",
       "    .dataframe tbody tr th:only-of-type {\n",
       "        vertical-align: middle;\n",
       "    }\n",
       "\n",
       "    .dataframe tbody tr th {\n",
       "        vertical-align: top;\n",
       "    }\n",
       "\n",
       "    .dataframe thead th {\n",
       "        text-align: right;\n",
       "    }\n",
       "</style>\n",
       "<table border=\"1\" class=\"dataframe\">\n",
       "  <thead>\n",
       "    <tr style=\"text-align: right;\">\n",
       "      <th>EDUCATION</th>\n",
       "      <th>Basic Level</th>\n",
       "      <th>Doctorate</th>\n",
       "      <th>Graduate</th>\n",
       "      <th>Illiterate</th>\n",
       "      <th>Post Graduate</th>\n",
       "    </tr>\n",
       "  </thead>\n",
       "  <tbody>\n",
       "    <tr>\n",
       "      <th>count</th>\n",
       "      <td>588.00</td>\n",
       "      <td>73.00</td>\n",
       "      <td>776.00</td>\n",
       "      <td>55.00</td>\n",
       "      <td>503.00</td>\n",
       "    </tr>\n",
       "    <tr>\n",
       "      <th>mean</th>\n",
       "      <td>113087357.14</td>\n",
       "      <td>163789131.21</td>\n",
       "      <td>147467337.18</td>\n",
       "      <td>124500820.24</td>\n",
       "      <td>130823318.28</td>\n",
       "    </tr>\n",
       "    <tr>\n",
       "      <th>std</th>\n",
       "      <td>339566599.54</td>\n",
       "      <td>470070948.95</td>\n",
       "      <td>478087455.58</td>\n",
       "      <td>232219087.71</td>\n",
       "      <td>394944020.12</td>\n",
       "    </tr>\n",
       "    <tr>\n",
       "      <th>min</th>\n",
       "      <td>565.00</td>\n",
       "      <td>177000.00</td>\n",
       "      <td>0.00</td>\n",
       "      <td>0.00</td>\n",
       "      <td>0.00</td>\n",
       "    </tr>\n",
       "    <tr>\n",
       "      <th>25%</th>\n",
       "      <td>3000851.00</td>\n",
       "      <td>9770000.00</td>\n",
       "      <td>9909171.25</td>\n",
       "      <td>7262786.00</td>\n",
       "      <td>7944132.00</td>\n",
       "    </tr>\n",
       "    <tr>\n",
       "      <th>50%</th>\n",
       "      <td>14935796.50</td>\n",
       "      <td>18988281.00</td>\n",
       "      <td>33282304.00</td>\n",
       "      <td>28350217.00</td>\n",
       "      <td>27182370.00</td>\n",
       "    </tr>\n",
       "    <tr>\n",
       "      <th>75%</th>\n",
       "      <td>65860366.50</td>\n",
       "      <td>74274036.00</td>\n",
       "      <td>115810559.75</td>\n",
       "      <td>116754959.00</td>\n",
       "      <td>92760397.50</td>\n",
       "    </tr>\n",
       "    <tr>\n",
       "      <th>max</th>\n",
       "      <td>3418643970.00</td>\n",
       "      <td>2508270292.00</td>\n",
       "      <td>8950179170.00</td>\n",
       "      <td>1197313405.00</td>\n",
       "      <td>4174930444.00</td>\n",
       "    </tr>\n",
       "    <tr>\n",
       "      <th>Total</th>\n",
       "      <td>66495365996.00</td>\n",
       "      <td>11956606578.00</td>\n",
       "      <td>114434653649.00</td>\n",
       "      <td>6847545113.00</td>\n",
       "      <td>65804129095.00</td>\n",
       "    </tr>\n",
       "    <tr>\n",
       "      <th>CV</th>\n",
       "      <td>3.00</td>\n",
       "      <td>2.87</td>\n",
       "      <td>3.24</td>\n",
       "      <td>1.87</td>\n",
       "      <td>3.02</td>\n",
       "    </tr>\n",
       "  </tbody>\n",
       "</table>\n",
       "</div>"
      ],
      "text/plain": [
       "EDUCATION    Basic Level      Doctorate        Graduate    Illiterate  \\\n",
       "count             588.00          73.00          776.00         55.00   \n",
       "mean        113087357.14   163789131.21    147467337.18  124500820.24   \n",
       "std         339566599.54   470070948.95    478087455.58  232219087.71   \n",
       "min               565.00      177000.00            0.00          0.00   \n",
       "25%           3000851.00     9770000.00      9909171.25    7262786.00   \n",
       "50%          14935796.50    18988281.00     33282304.00   28350217.00   \n",
       "75%          65860366.50    74274036.00    115810559.75  116754959.00   \n",
       "max        3418643970.00  2508270292.00   8950179170.00 1197313405.00   \n",
       "Total     66495365996.00 11956606578.00 114434653649.00 6847545113.00   \n",
       "CV                  3.00           2.87            3.24          1.87   \n",
       "\n",
       "EDUCATION  Post Graduate  \n",
       "count             503.00  \n",
       "mean        130823318.28  \n",
       "std         394944020.12  \n",
       "min                 0.00  \n",
       "25%           7944132.00  \n",
       "50%          27182370.00  \n",
       "75%          92760397.50  \n",
       "max        4174930444.00  \n",
       "Total     65804129095.00  \n",
       "CV                  3.02  "
      ]
     },
     "execution_count": 12,
     "metadata": {},
     "output_type": "execute_result"
    }
   ],
   "source": [
    "df_asset_des.loc[('CV'), :] = df_asset_des.loc[('std'), :]/df_asset_des.loc[('mean'), :]\n",
    "df_asset_des"
   ]
  },
  {
   "cell_type": "markdown",
   "metadata": {},
   "source": [
    "From the above table, we can say that, Illiterate candidates show the least inconsistent behavior in the declared assets as the coefficient of variation is the lowest for it. On the other hand, Graduate candidates show the most inconsistent behavior in the declared assets as the CV is the highest."
   ]
  }
 ],
 "metadata": {
  "kernelspec": {
   "display_name": "Python 3",
   "language": "python",
   "name": "python3"
  },
  "language_info": {
   "codemirror_mode": {
    "name": "ipython",
    "version": 3
   },
   "file_extension": ".py",
   "mimetype": "text/x-python",
   "name": "python",
   "nbconvert_exporter": "python",
   "pygments_lexer": "ipython3",
   "version": "3.8.8"
  }
 },
 "nbformat": 4,
 "nbformat_minor": 4
}
