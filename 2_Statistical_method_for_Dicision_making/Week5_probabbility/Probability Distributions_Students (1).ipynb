{
 "cells": [
  {
   "cell_type": "markdown",
   "metadata": {},
   "source": [
    "# Load the necessary libraries."
   ]
  },
  {
   "cell_type": "code",
   "execution_count": 4,
   "metadata": {},
   "outputs": [],
   "source": [
    "import scipy.stats as stats # Many functions for probability distributions in python are in scipy.stats\n",
    "import numpy as np\n",
    "import pandas as pd\n",
    "import matplotlib.pyplot as plt\n",
    "import os"
   ]
  },
  {
   "cell_type": "markdown",
   "metadata": {},
   "source": [
    "## Problem Statement 1: \n",
    "### Investment Advisors agree that near retirees, defined as people aged 55 to 65, should have balanced portfolios. Most advisors suggest that the near –retirees have no more than 50% of their investments in stocks. However, during the huge decline in the stock market in 2008, 22% of near retirees had 90% or more of their investments in stocks. \n",
    "### Suppose you have a random sample of 10 people who have labeled as near retirees in 2008. "
   ]
  },
  {
   "cell_type": "markdown",
   "metadata": {},
   "source": [
    "## Question: Define the random variable and the corresponding probability distribution that this random variable follows."
   ]
  },
  {
   "cell_type": "code",
   "execution_count": 1,
   "metadata": {},
   "outputs": [
    {
     "name": "stdout",
     "output_type": "stream",
     "text": [
      "The total number of trials is 10 and the probability of success at each trial is 0.22 .\n"
     ]
    }
   ],
   "source": [
    "n,p = 10,0.22\n",
    "print('The total number of trials is',n,'and the probability of success at each trial is',p,'.')"
   ]
  },
  {
   "cell_type": "code",
   "execution_count": 2,
   "metadata": {},
   "outputs": [
    {
     "name": "stdout",
     "output_type": "stream",
     "text": [
      "The value of the random for which we are calculating the probability is 0 .\n"
     ]
    }
   ],
   "source": [
    "k = 0\n",
    "print('The value of the random for which we are calculating the probability is',k,'.')"
   ]
  },
  {
   "cell_type": "code",
   "execution_count": 5,
   "metadata": {},
   "outputs": [
    {
     "name": "stdout",
     "output_type": "stream",
     "text": [
      "Probability that during 2008, Zero had 90% or more of their investments in stocks is 0.083357758312362 .\n"
     ]
    }
   ],
   "source": [
    "print('Probability that during 2008, Zero had 90% or more of their investments in stocks is',stats.binom.pmf(k,n,p),'.')"
   ]
  },
  {
   "cell_type": "code",
   "execution_count": null,
   "metadata": {},
   "outputs": [],
   "source": []
  },
  {
   "cell_type": "code",
   "execution_count": null,
   "metadata": {},
   "outputs": [],
   "source": []
  },
  {
   "cell_type": "markdown",
   "metadata": {},
   "source": [
    "## Question 1.1: What is the probability that during 2008 zero near retirees had 90% or more of their investments in stocks?\n"
   ]
  },
  {
   "cell_type": "code",
   "execution_count": 10,
   "metadata": {},
   "outputs": [
    {
     "data": {
      "text/plain": [
       "0.083357758312362"
      ]
     },
     "execution_count": 10,
     "metadata": {},
     "output_type": "execute_result"
    }
   ],
   "source": [
    "stats.binom.pmf(k,n,p)"
   ]
  },
  {
   "cell_type": "markdown",
   "metadata": {},
   "source": [
    "## Question 1.2: What is the probability that during 2008 exactly one near retiree had 90% or more of his investments in stocks?"
   ]
  },
  {
   "cell_type": "code",
   "execution_count": 12,
   "metadata": {},
   "outputs": [
    {
     "name": "stdout",
     "output_type": "stream",
     "text": [
      " Probability that during 2008, exactly one had 90% or more of his investments in stocks is \", 0.23511162600922644 .\n"
     ]
    }
   ],
   "source": [
    "n,p = 10,0.22\n",
    "k_2 = 1\n",
    "stats.binom(k_2,n,p)\n",
    "print(' Probability that during 2008, exactly one had 90% or more of his investments in stocks is \",'\n",
    "      ,stats.binom.pmf(k_2,n,p),'.')"
   ]
  },
  {
   "cell_type": "markdown",
   "metadata": {},
   "source": [
    "## Question 1.3: What is the probability that during 2008 two or fewer near retirees had 90% or more of their investment in stocks?"
   ]
  },
  {
   "cell_type": "code",
   "execution_count": 16,
   "metadata": {},
   "outputs": [
    {
     "name": "stdout",
     "output_type": "stream",
     "text": [
      " Probability that during 2008, exactly one had 90% or more of his investments in stocks is \", 0.23511162600922644 .\n",
      "Probability that during 2008 two or fewer near retirees had 90% or more of their investment in stocks is 0.6168802942563754\n"
     ]
    }
   ],
   "source": [
    "n,p = 10,0.22\n",
    "k_3 = np.arange(0,1,2)\n",
    "stats.binom(k_2,n,p)\n",
    "print(' Probability that during 2008, exactly one had 90% or more of his investments in stocks is \",'\n",
    "      ,stats.binom.pmf(k_2,n,p),'.')\n",
    "\n",
    "print('Probability that during 2008 two or fewer near retirees had 90% or more of their investment in stocks is',\n",
    "      stats.binom.pmf(0,n,p) + stats.binom.pmf(1,n,p) + stats.binom.pmf(2,n,p))"
   ]
  },
  {
   "cell_type": "code",
   "execution_count": 19,
   "metadata": {},
   "outputs": [
    {
     "data": {
      "text/plain": [
       "0.6168802942563754"
      ]
     },
     "execution_count": 19,
     "metadata": {},
     "output_type": "execute_result"
    }
   ],
   "source": [
    "stats.binom.cdf(2,n,p)"
   ]
  },
  {
   "cell_type": "markdown",
   "metadata": {},
   "source": [
    "## Question 1.4: What is the probability that during 2008 three or more near retirees had 90% or more of their investments in stocks?"
   ]
  },
  {
   "cell_type": "code",
   "execution_count": 22,
   "metadata": {},
   "outputs": [
    {
     "data": {
      "text/plain": [
       "0.38311970574362464"
      ]
     },
     "execution_count": 22,
     "metadata": {},
     "output_type": "execute_result"
    }
   ],
   "source": [
    "1-stats.binom.cdf(2,n,p)"
   ]
  },
  {
   "cell_type": "markdown",
   "metadata": {},
   "source": [
    "## Problem Statement 2: \n",
    "## Assume that number of network errors experienced in a day on a local area network (LAN) is distributed as a Poisson random variable. The mean number of network errors experienced in a day is 2.4. "
   ]
  },
  {
   "cell_type": "markdown",
   "metadata": {},
   "source": [
    "## Question: Define the random variable and the corresponding probability distribution that this random variable follows.\n",
    "### Note: Even though the probability distribution is mentioned in the question it is generally a good practice to write it before hand along with declaring the random variable."
   ]
  },
  {
   "cell_type": "code",
   "execution_count": 25,
   "metadata": {},
   "outputs": [],
   "source": [
    "m=2.4\n",
    "n=0"
   ]
  },
  {
   "cell_type": "markdown",
   "metadata": {},
   "source": [
    "## Question 2.1: What is the probability that in any given day zero network errors will occur?"
   ]
  },
  {
   "cell_type": "code",
   "execution_count": 26,
   "metadata": {},
   "outputs": [
    {
     "data": {
      "text/plain": [
       "0.09071795328941251"
      ]
     },
     "execution_count": 26,
     "metadata": {},
     "output_type": "execute_result"
    }
   ],
   "source": [
    "stats.poisson.pmf(0,2.4)"
   ]
  },
  {
   "cell_type": "markdown",
   "metadata": {},
   "source": [
    "## Question 2.2: What is the probability that in any given day exactly one network error will occur?"
   ]
  },
  {
   "cell_type": "code",
   "execution_count": 27,
   "metadata": {},
   "outputs": [
    {
     "data": {
      "text/plain": [
       "0.21772308789459"
      ]
     },
     "execution_count": 27,
     "metadata": {},
     "output_type": "execute_result"
    }
   ],
   "source": [
    "stats.poisson.pmf(1,2.4)"
   ]
  },
  {
   "cell_type": "markdown",
   "metadata": {},
   "source": [
    "## Question 2.3: What is the probability that in any given day two or more network errors will occur?"
   ]
  },
  {
   "cell_type": "code",
   "execution_count": 29,
   "metadata": {},
   "outputs": [
    {
     "name": "stdout",
     "output_type": "stream",
     "text": [
      "0.6915589588159976\n",
      "0.6915589588159975\n"
     ]
    }
   ],
   "source": [
    "print(1-stats.poisson.cdf(1,2.4))\n",
    "print(1-(stats.poisson.pmf(0,2.4)+stats.poisson.pmf(1,2.4)))"
   ]
  },
  {
   "cell_type": "markdown",
   "metadata": {},
   "source": [
    "## Question 2.4: What is the probability that in any given day fewer than three network errors will occur?"
   ]
  },
  {
   "cell_type": "code",
   "execution_count": 36,
   "metadata": {},
   "outputs": [
    {
     "name": "stdout",
     "output_type": "stream",
     "text": [
      "0.5697087466575106\n",
      "0.5697087466575105\n"
     ]
    }
   ],
   "source": [
    "print(stats.poisson.cdf(2,2.4))\n",
    "print(stats.poisson.pmf(0,2.4)+stats.poisson.pmf(1,2.4)+stats.poisson.pmf(2,2.4))"
   ]
  },
  {
   "cell_type": "markdown",
   "metadata": {},
   "source": [
    "## Problem Statement 3:\n",
    "## The quality control manager of Marilyn’s cookies is inspecting a batch of chocolate–chip cookies that has been just baked. If the production process is in control the mean number of chocolate chips per cookie is 6.0."
   ]
  },
  {
   "cell_type": "markdown",
   "metadata": {},
   "source": [
    "## Question: Define the random variable and the corresponding probability distribution that this random variable follows."
   ]
  },
  {
   "cell_type": "code",
   "execution_count": 37,
   "metadata": {},
   "outputs": [],
   "source": [
    "m=6"
   ]
  },
  {
   "cell_type": "markdown",
   "metadata": {},
   "source": [
    "## Question 3.1:What is the probability that in any particular cookie being inspected fewer than 5 chocolate chips will be found?"
   ]
  },
  {
   "cell_type": "code",
   "execution_count": 40,
   "metadata": {},
   "outputs": [
    {
     "name": "stdout",
     "output_type": "stream",
     "text": [
      "0.2850565003166312\n",
      "0.2850565003166312\n"
     ]
    }
   ],
   "source": [
    "print(stats.poisson.cdf(4,6))\n",
    "print(stats.poisson.pmf(0,6)+stats.poisson.pmf(1,6)+stats.poisson.pmf(2,6)+stats.poisson.pmf(3,6)+stats.poisson.pmf(4,6))"
   ]
  },
  {
   "cell_type": "markdown",
   "metadata": {},
   "source": [
    "## Question 3.2: What is the probability that in any particular cookie being inspected exactly five chocolate chips will be found?"
   ]
  },
  {
   "cell_type": "code",
   "execution_count": 43,
   "metadata": {},
   "outputs": [
    {
     "name": "stdout",
     "output_type": "stream",
     "text": [
      "0.16062314104797976\n",
      "0.16062314104797995\n"
     ]
    }
   ],
   "source": [
    "print(stats.poisson.cdf(5,6)-stats.poisson.cdf(4,6))\n",
    "print(stats.poisson.pmf(5,6))"
   ]
  },
  {
   "cell_type": "markdown",
   "metadata": {},
   "source": [
    "## Question 3.3: What is the probability that in any particular cookie being inspected five or more chocolate chips will be found?"
   ]
  },
  {
   "cell_type": "code",
   "execution_count": 46,
   "metadata": {},
   "outputs": [
    {
     "name": "stdout",
     "output_type": "stream",
     "text": [
      "0.7149434996833688\n"
     ]
    }
   ],
   "source": [
    "print(1-stats.poisson.cdf(4,6))\n",
    "#0.7149434996833688"
   ]
  },
  {
   "cell_type": "markdown",
   "metadata": {},
   "source": [
    "## Question 3.4: What is the probability that in any particular cookie being inspected either four or five chips part will be found?"
   ]
  },
  {
   "cell_type": "code",
   "execution_count": 48,
   "metadata": {},
   "outputs": [
    {
     "data": {
      "text/plain": [
       "0.29447575858796327"
      ]
     },
     "execution_count": 48,
     "metadata": {},
     "output_type": "execute_result"
    }
   ],
   "source": [
    "stats.poisson.pmf(4,6)+stats.poisson.pmf(5,6)\n",
    "#0.29447575858796327"
   ]
  },
  {
   "cell_type": "markdown",
   "metadata": {},
   "source": [
    "## Problem Statement 4:\n",
    "## In a recent year, about two thirds of US households purchased ground coffee. Consider the annual ground coffee expenditures for households  purchasing ground coffee assuming that these expenditures are approximately distributed as a normal random variable with a mean of  ${\\$}$ 65.16 and a Standard Deviation of ${\\$}$ 10.00. "
   ]
  },
  {
   "cell_type": "markdown",
   "metadata": {},
   "source": [
    "## Question: Define the random variable and the corresponding probability distribution that this random variable follows.\n",
    "### Note: Even though the probability distribution is mentioned in the question it is generally a good practice to write it before hand along with declaring the random variable."
   ]
  },
  {
   "cell_type": "code",
   "execution_count": 50,
   "metadata": {},
   "outputs": [],
   "source": [
    "mean_exp= 65.16\n",
    "std_exp=10"
   ]
  },
  {
   "cell_type": "markdown",
   "metadata": {},
   "source": [
    "## Question 4.1: Find the probability that a household spent less than ${\\$}$35.00."
   ]
  },
  {
   "cell_type": "code",
   "execution_count": 52,
   "metadata": {},
   "outputs": [
    {
     "data": {
      "text/plain": [
       "0.0012806662997021233"
      ]
     },
     "execution_count": 52,
     "metadata": {},
     "output_type": "execute_result"
    }
   ],
   "source": [
    "stats.norm.cdf(35,mean_exp,std_exp)"
   ]
  },
  {
   "cell_type": "markdown",
   "metadata": {},
   "source": [
    "## Question 4.2: Find the probability that a household spent more than ${\\$}$60.00."
   ]
  },
  {
   "cell_type": "code",
   "execution_count": 53,
   "metadata": {},
   "outputs": [
    {
     "data": {
      "text/plain": [
       "0.6970727953905248"
      ]
     },
     "execution_count": 53,
     "metadata": {},
     "output_type": "execute_result"
    }
   ],
   "source": [
    "1-stats.norm.cdf(60,mean_exp,std_exp)\n",
    "#0.6970727953905248"
   ]
  },
  {
   "cell_type": "markdown",
   "metadata": {},
   "source": [
    "## Question 4.3: What is the probability that the households spent between ${\\$}$40.00 and ${\\$}$50.00?"
   ]
  },
  {
   "cell_type": "code",
   "execution_count": 58,
   "metadata": {},
   "outputs": [
    {
     "data": {
      "text/plain": [
       "0.05882491706235944"
      ]
     },
     "execution_count": 58,
     "metadata": {},
     "output_type": "execute_result"
    }
   ],
   "source": [
    "stats.norm.cdf(50,mean_exp,std_exp) -stats.norm.cdf(40,mean_exp,std_exp)"
   ]
  },
  {
   "cell_type": "markdown",
   "metadata": {},
   "source": [
    "## Question 4.4: 99% of the households spent less than what amount?"
   ]
  },
  {
   "cell_type": "code",
   "execution_count": 59,
   "metadata": {},
   "outputs": [
    {
     "data": {
      "text/plain": [
       "6.949296154015537e-11"
      ]
     },
     "execution_count": 59,
     "metadata": {},
     "output_type": "execute_result"
    }
   ],
   "source": [
    "stats.norm.cdf(0.99,mean_exp,std_exp)"
   ]
  }
 ],
 "metadata": {
  "kernelspec": {
   "display_name": "Python 3",
   "language": "python",
   "name": "python3"
  },
  "language_info": {
   "codemirror_mode": {
    "name": "ipython",
    "version": 3
   },
   "file_extension": ".py",
   "mimetype": "text/x-python",
   "name": "python",
   "nbconvert_exporter": "python",
   "pygments_lexer": "ipython3",
   "version": "3.8.8"
  }
 },
 "nbformat": 4,
 "nbformat_minor": 2
}
