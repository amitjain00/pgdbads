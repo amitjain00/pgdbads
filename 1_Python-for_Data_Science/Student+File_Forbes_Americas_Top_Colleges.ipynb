{
 "cells": [
  {
   "cell_type": "markdown",
   "metadata": {
    "id": "-q_wgrtstgmU"
   },
   "source": [
    "## Context\n",
    "\n",
    "Starting in 2008, every year Forbes Magazine publishes a list of America's best colleges. When it comes to the question everyone seems to be asking, “Is college worth it? this published list of colleges comes handy to take a decision based on student's requirement or desire.\n",
    "\n",
    "The mission of the college ranking by Forbes Magazine is to conduct an annual review of the undergraduate institutions that deliver the top academics, best experiences, career success and lowest debt. Whether a school is in the Top 10 or near the bottom of the list, the 650 colleges are the best in the country.\n",
    "\n",
    "For most families, choosing a four-year college is one of the biggest and most expensive decisions they can make. For students, this time of their life may layout their future plans. So choose carefully."
   ]
  },
  {
   "cell_type": "markdown",
   "metadata": {
    "id": "OSZd99VDtgmU"
   },
   "source": [
    "## About Data\n",
    "\n",
    "The data set contains the rankings of 650 Unites States colleges along with various other statistics pertaining to each school."
   ]
  },
  {
   "cell_type": "markdown",
   "metadata": {},
   "source": [
    "<img src =\"https://i.ibb.co/sKwQjfw/Stanford.jpg\" width=80% height =40%></img>"
   ]
  },
  {
   "cell_type": "markdown",
   "metadata": {
    "id": "Vc1l7FhUtgmU"
   },
   "source": [
    "### Load required packages"
   ]
  },
  {
   "cell_type": "code",
   "execution_count": 5,
   "metadata": {
    "id": "hQdKNDMOtgmU"
   },
   "outputs": [],
   "source": [
    "import numpy as np\n",
    "import pandas as pd"
   ]
  },
  {
   "cell_type": "markdown",
   "metadata": {
    "id": "qT0Hjo-AtgmV"
   },
   "source": [
    "### Load the data into pandas dataframe and view the details"
   ]
  },
  {
   "cell_type": "code",
   "execution_count": 8,
   "metadata": {
    "id": "jAhaE2VVtgmV"
   },
   "outputs": [],
   "source": [
    "df = pd.read_csv(\"/Users/Amit.Jain/Desktop/PGP-DSBA/ForbesAmericasTopColleges2019.csv\")"
   ]
  },
  {
   "cell_type": "markdown",
   "metadata": {
    "id": "sSy16YsFtgmV"
   },
   "source": [
    "### Dimension of the data"
   ]
  },
  {
   "cell_type": "markdown",
   "metadata": {
    "id": "RIciQizYtgmV"
   },
   "source": [
    "*'shape'* is a property associated with DataFrame. It returns a tuple representing the dimensionality of the DataFrame. First value is giving number of rows and second value is giving number of columns."
   ]
  },
  {
   "cell_type": "code",
   "execution_count": 9,
   "metadata": {
    "colab": {
     "base_uri": "https://localhost:8080/"
    },
    "id": "5HWTSIy5tgmV",
    "outputId": "9abf7a13-17a0-49b4-b514-c831ca7be110"
   },
   "outputs": [
    {
     "data": {
      "text/plain": [
       "(650, 17)"
      ]
     },
     "execution_count": 9,
     "metadata": {},
     "output_type": "execute_result"
    }
   ],
   "source": [
    "df.shape"
   ]
  },
  {
   "cell_type": "markdown",
   "metadata": {
    "id": "Lv5WnED6tgmW"
   },
   "source": [
    "### Datatype of the fields in the data"
   ]
  },
  {
   "cell_type": "markdown",
   "metadata": {
    "id": "zCb-8nUmtgmX"
   },
   "source": [
    "'info()' method prints information about a DataFrame including the index dtype and column dtypes, non-null values and memory usage"
   ]
  },
  {
   "cell_type": "code",
   "execution_count": 15,
   "metadata": {
    "colab": {
     "base_uri": "https://localhost:8080/"
    },
    "id": "jV2_y-outgmX",
    "outputId": "e58993a2-e1f6-4c79-a285-84b624fbb0a2"
   },
   "outputs": [
    {
     "data": {
      "text/plain": [
       "<bound method DataFrame.info of      Rank                                   Name         City State  \\\n",
       "0       1                     Harvard University    Cambridge    MA   \n",
       "1       2                    Stanford University     Stanford    CA   \n",
       "2       3                        Yale University    New Haven    CT   \n",
       "3       4  Massachusetts Institute of Technology    Cambridge    MA   \n",
       "4       5                   Princeton University    Princeton    NJ   \n",
       "..    ...                                    ...          ...   ...   \n",
       "645   646            New Mexico State University   Las Cruces    NM   \n",
       "646   647               Indiana State University  Terre Haute    IN   \n",
       "647   648              Emory &amp; Henry College        Emory    VA   \n",
       "648   649                          Wells College       Aurora    NY   \n",
       "649   650                        Catawba College    Salisbury    NC   \n",
       "\n",
       "    Public/Private  Undergraduate Population  Student Population  Net Price  \\\n",
       "0          Private                     13844               31120    14327.0   \n",
       "1          Private                      8402               17534    13261.0   \n",
       "2          Private                      6483               12974    18627.0   \n",
       "3          Private                      4680               11466    20771.0   \n",
       "4          Private                      5659                8273     9327.0   \n",
       "..             ...                       ...                 ...        ...   \n",
       "645         Public                     13379               14432     8625.0   \n",
       "646         Public                     13626               13763    13012.0   \n",
       "647        Private                      1094                1226    19340.0   \n",
       "648        Private                       488                 516    22828.0   \n",
       "649        Private                      1336                1463    19807.0   \n",
       "\n",
       "     Average Grant Aid  Total Annual Cost  Alumni Salary  Acceptance Rate  \\\n",
       "0              49870.0              69600       146800.0              5.0   \n",
       "1              50134.0              69109       145200.0              5.0   \n",
       "2              50897.0              71290       138300.0              7.0   \n",
       "3              43248.0              67430       155200.0              7.0   \n",
       "4              48088.0              66150       139400.0              6.0   \n",
       "..                 ...                ...            ...              ...   \n",
       "645             9582.0              34720        96700.0             64.0   \n",
       "646             9297.0              32938        85600.0             85.0   \n",
       "647            27155.0              48100        70700.0             72.0   \n",
       "648            30207.0              55180            NaN             80.0   \n",
       "649            23662.0              44921        78100.0             42.0   \n",
       "\n",
       "     SAT Lower  SAT Upper  ACT Lower  ACT Upper            Website  \n",
       "0       1460.0     1590.0       32.0       35.0    www.harvard.edu  \n",
       "1       1390.0     1540.0       32.0       35.0   www.stanford.edu  \n",
       "2       1460.0     1580.0       32.0       35.0       www.yale.edu  \n",
       "3       1490.0     1570.0       33.0       35.0        web.mit.edu  \n",
       "4       1430.0     1570.0       31.0       35.0  www.princeton.edu  \n",
       "..         ...        ...        ...        ...                ...  \n",
       "645      910.0     1160.0       18.0       23.0       www.nmsu.edu  \n",
       "646      900.0     1110.0       17.0       23.0   www.indstate.edu  \n",
       "647      988.0     1170.0       19.0       25.0        www.ehc.edu  \n",
       "648        NaN        NaN        NaN        NaN      www.wells.edu  \n",
       "649      930.0     1100.0       18.0       23.0    www.catawba.edu  \n",
       "\n",
       "[650 rows x 17 columns]>"
      ]
     },
     "execution_count": 15,
     "metadata": {},
     "output_type": "execute_result"
    }
   ],
   "source": [
    "df.columns\n",
    "df.info"
   ]
  },
  {
   "cell_type": "markdown",
   "metadata": {
    "id": "JYr2YCtG6sGn"
   },
   "source": []
  },
  {
   "cell_type": "markdown",
   "metadata": {
    "id": "AaYuiPE1tgmX"
   },
   "source": [
    "### Check the missing values in the data\n",
    "'isnull()' method detects missing values. It returns a boolean same-sized object indicating if the values are NA. NA values, gets mapped to True values.Everything else gets mapped to False values.\n",
    "\n",
    "'sum()' method followed by 'isnull()' adds up all the True instances per column to give a summary of missing values per column"
   ]
  },
  {
   "cell_type": "code",
   "execution_count": 77,
   "metadata": {
    "id": "gGjFdfEgtgmX",
    "outputId": "3572830d-c1eb-4ab8-962d-6193e5f6c1b0"
   },
   "outputs": [
    {
     "data": {
      "text/plain": [
       "0"
      ]
     },
     "execution_count": 77,
     "metadata": {},
     "output_type": "execute_result"
    }
   ],
   "source": [
    "df.isnull().sum()\n",
    "df.Name.isnull().sum()\n",
    "df[\"Name\"].isnull().sum()"
   ]
  },
  {
   "cell_type": "markdown",
   "metadata": {
    "id": "3Ce0LbyRtgmX"
   },
   "source": []
  },
  {
   "cell_type": "markdown",
   "metadata": {
    "id": "FfyQfVwhtgmX"
   },
   "source": [
    "### Data Cleanup"
   ]
  },
  {
   "cell_type": "markdown",
   "metadata": {
    "id": "xTvtcQShtgmX"
   },
   "source": [
    "Let's first drop all columns that are not need. \n",
    "\n",
    "'drop()' method with 'axis=1' indicates that columns have to be dropped. List of column names to be dropped is passed to the method. 'inplace = True' ensures that the columns are dropped from the DataFrame permanently"
   ]
  },
  {
   "cell_type": "code",
   "execution_count": 23,
   "metadata": {
    "id": "_wPeCQ8xtgmX"
   },
   "outputs": [],
   "source": [
    "df.dropna(inplace=True)"
   ]
  },
  {
   "cell_type": "markdown",
   "metadata": {
    "id": "3vb8ZhMAtgmX"
   },
   "source": [
    "'dropna()' method drops all rows with NA values (by default axis = 0)"
   ]
  },
  {
   "cell_type": "code",
   "execution_count": 79,
   "metadata": {
    "id": "9DfcH1YktgmX"
   },
   "outputs": [
    {
     "data": {
      "text/plain": [
       "(523, 18)"
      ]
     },
     "execution_count": 79,
     "metadata": {},
     "output_type": "execute_result"
    }
   ],
   "source": [
    "df.shape\n",
    "df.shape[0]\n",
    "df.shape[:]"
   ]
  },
  {
   "cell_type": "code",
   "execution_count": 26,
   "metadata": {
    "colab": {
     "base_uri": "https://localhost:8080/"
    },
    "id": "amMAF6ahtgmY",
    "outputId": "fe860b07-0bd0-4040-dcd7-cf963fe09428"
   },
   "outputs": [
    {
     "data": {
      "text/html": [
       "<div>\n",
       "<style scoped>\n",
       "    .dataframe tbody tr th:only-of-type {\n",
       "        vertical-align: middle;\n",
       "    }\n",
       "\n",
       "    .dataframe tbody tr th {\n",
       "        vertical-align: top;\n",
       "    }\n",
       "\n",
       "    .dataframe thead th {\n",
       "        text-align: right;\n",
       "    }\n",
       "</style>\n",
       "<table border=\"1\" class=\"dataframe\">\n",
       "  <thead>\n",
       "    <tr style=\"text-align: right;\">\n",
       "      <th></th>\n",
       "      <th>Rank</th>\n",
       "      <th>Name</th>\n",
       "      <th>City</th>\n",
       "      <th>State</th>\n",
       "      <th>Public/Private</th>\n",
       "      <th>Undergraduate Population</th>\n",
       "      <th>Student Population</th>\n",
       "      <th>Net Price</th>\n",
       "      <th>Average Grant Aid</th>\n",
       "      <th>Total Annual Cost</th>\n",
       "      <th>Alumni Salary</th>\n",
       "      <th>Acceptance Rate</th>\n",
       "      <th>SAT Lower</th>\n",
       "      <th>SAT Upper</th>\n",
       "      <th>ACT Lower</th>\n",
       "      <th>ACT Upper</th>\n",
       "      <th>Website</th>\n",
       "    </tr>\n",
       "  </thead>\n",
       "  <tbody>\n",
       "    <tr>\n",
       "      <th>644</th>\n",
       "      <td>645</td>\n",
       "      <td>Morehouse College</td>\n",
       "      <td>Atlanta</td>\n",
       "      <td>GA</td>\n",
       "      <td>Private</td>\n",
       "      <td>2202</td>\n",
       "      <td>2219</td>\n",
       "      <td>34928.0</td>\n",
       "      <td>17318.0</td>\n",
       "      <td>48723</td>\n",
       "      <td>98700.0</td>\n",
       "      <td>74.0</td>\n",
       "      <td>950.0</td>\n",
       "      <td>1160.0</td>\n",
       "      <td>18.0</td>\n",
       "      <td>23.0</td>\n",
       "      <td>https://www.morehouse.edu</td>\n",
       "    </tr>\n",
       "    <tr>\n",
       "      <th>645</th>\n",
       "      <td>646</td>\n",
       "      <td>New Mexico State University</td>\n",
       "      <td>Las Cruces</td>\n",
       "      <td>NM</td>\n",
       "      <td>Public</td>\n",
       "      <td>13379</td>\n",
       "      <td>14432</td>\n",
       "      <td>8625.0</td>\n",
       "      <td>9582.0</td>\n",
       "      <td>34720</td>\n",
       "      <td>96700.0</td>\n",
       "      <td>64.0</td>\n",
       "      <td>910.0</td>\n",
       "      <td>1160.0</td>\n",
       "      <td>18.0</td>\n",
       "      <td>23.0</td>\n",
       "      <td>www.nmsu.edu</td>\n",
       "    </tr>\n",
       "    <tr>\n",
       "      <th>646</th>\n",
       "      <td>647</td>\n",
       "      <td>Indiana State University</td>\n",
       "      <td>Terre Haute</td>\n",
       "      <td>IN</td>\n",
       "      <td>Public</td>\n",
       "      <td>13626</td>\n",
       "      <td>13763</td>\n",
       "      <td>13012.0</td>\n",
       "      <td>9297.0</td>\n",
       "      <td>32938</td>\n",
       "      <td>85600.0</td>\n",
       "      <td>85.0</td>\n",
       "      <td>900.0</td>\n",
       "      <td>1110.0</td>\n",
       "      <td>17.0</td>\n",
       "      <td>23.0</td>\n",
       "      <td>www.indstate.edu</td>\n",
       "    </tr>\n",
       "    <tr>\n",
       "      <th>647</th>\n",
       "      <td>648</td>\n",
       "      <td>Emory &amp;amp; Henry College</td>\n",
       "      <td>Emory</td>\n",
       "      <td>VA</td>\n",
       "      <td>Private</td>\n",
       "      <td>1094</td>\n",
       "      <td>1226</td>\n",
       "      <td>19340.0</td>\n",
       "      <td>27155.0</td>\n",
       "      <td>48100</td>\n",
       "      <td>70700.0</td>\n",
       "      <td>72.0</td>\n",
       "      <td>988.0</td>\n",
       "      <td>1170.0</td>\n",
       "      <td>19.0</td>\n",
       "      <td>25.0</td>\n",
       "      <td>www.ehc.edu</td>\n",
       "    </tr>\n",
       "    <tr>\n",
       "      <th>649</th>\n",
       "      <td>650</td>\n",
       "      <td>Catawba College</td>\n",
       "      <td>Salisbury</td>\n",
       "      <td>NC</td>\n",
       "      <td>Private</td>\n",
       "      <td>1336</td>\n",
       "      <td>1463</td>\n",
       "      <td>19807.0</td>\n",
       "      <td>23662.0</td>\n",
       "      <td>44921</td>\n",
       "      <td>78100.0</td>\n",
       "      <td>42.0</td>\n",
       "      <td>930.0</td>\n",
       "      <td>1100.0</td>\n",
       "      <td>18.0</td>\n",
       "      <td>23.0</td>\n",
       "      <td>www.catawba.edu</td>\n",
       "    </tr>\n",
       "  </tbody>\n",
       "</table>\n",
       "</div>"
      ],
      "text/plain": [
       "     Rank                         Name         City State Public/Private  \\\n",
       "644   645            Morehouse College      Atlanta    GA        Private   \n",
       "645   646  New Mexico State University   Las Cruces    NM         Public   \n",
       "646   647     Indiana State University  Terre Haute    IN         Public   \n",
       "647   648    Emory &amp; Henry College        Emory    VA        Private   \n",
       "649   650              Catawba College    Salisbury    NC        Private   \n",
       "\n",
       "     Undergraduate Population  Student Population  Net Price  \\\n",
       "644                      2202                2219    34928.0   \n",
       "645                     13379               14432     8625.0   \n",
       "646                     13626               13763    13012.0   \n",
       "647                      1094                1226    19340.0   \n",
       "649                      1336                1463    19807.0   \n",
       "\n",
       "     Average Grant Aid  Total Annual Cost  Alumni Salary  Acceptance Rate  \\\n",
       "644            17318.0              48723        98700.0             74.0   \n",
       "645             9582.0              34720        96700.0             64.0   \n",
       "646             9297.0              32938        85600.0             85.0   \n",
       "647            27155.0              48100        70700.0             72.0   \n",
       "649            23662.0              44921        78100.0             42.0   \n",
       "\n",
       "     SAT Lower  SAT Upper  ACT Lower  ACT Upper                    Website  \n",
       "644      950.0     1160.0       18.0       23.0  https://www.morehouse.edu  \n",
       "645      910.0     1160.0       18.0       23.0               www.nmsu.edu  \n",
       "646      900.0     1110.0       17.0       23.0           www.indstate.edu  \n",
       "647      988.0     1170.0       19.0       25.0                www.ehc.edu  \n",
       "649      930.0     1100.0       18.0       23.0            www.catawba.edu  "
      ]
     },
     "execution_count": 26,
     "metadata": {},
     "output_type": "execute_result"
    }
   ],
   "source": [
    "df.tail(5)"
   ]
  },
  {
   "cell_type": "markdown",
   "metadata": {
    "id": "dRhJfREXtgmY"
   },
   "source": [
    "### Reset the index of the dataframe\n",
    "\n",
    "'reset_index()' resets the index of the DataFrame\n",
    "\n",
    "'drop' as True, will not try to insert index into DataFrame columns\n",
    "\n",
    "'inplace' as True resets the index permanently"
   ]
  },
  {
   "cell_type": "code",
   "execution_count": 27,
   "metadata": {
    "id": "fpBPXoWutgmY"
   },
   "outputs": [],
   "source": [
    "df.reset_index(drop=True, inplace= True)"
   ]
  },
  {
   "cell_type": "markdown",
   "metadata": {
    "id": "8S9FjBQetgmY"
   },
   "source": [
    "### Check the first 5 rows of the dataset\n",
    "'head()' function is used to view the top records. By default it displays 5 rows."
   ]
  },
  {
   "cell_type": "code",
   "execution_count": 30,
   "metadata": {
    "colab": {
     "base_uri": "https://localhost:8080/",
     "height": 255
    },
    "id": "wW-ONC4ktgmY",
    "outputId": "542b2ec9-9db8-4745-f1e8-806b7d981fcf"
   },
   "outputs": [
    {
     "data": {
      "text/html": [
       "<div>\n",
       "<style scoped>\n",
       "    .dataframe tbody tr th:only-of-type {\n",
       "        vertical-align: middle;\n",
       "    }\n",
       "\n",
       "    .dataframe tbody tr th {\n",
       "        vertical-align: top;\n",
       "    }\n",
       "\n",
       "    .dataframe thead th {\n",
       "        text-align: right;\n",
       "    }\n",
       "</style>\n",
       "<table border=\"1\" class=\"dataframe\">\n",
       "  <thead>\n",
       "    <tr style=\"text-align: right;\">\n",
       "      <th></th>\n",
       "      <th>Rank</th>\n",
       "      <th>Name</th>\n",
       "      <th>City</th>\n",
       "      <th>State</th>\n",
       "      <th>Public/Private</th>\n",
       "      <th>Undergraduate Population</th>\n",
       "      <th>Student Population</th>\n",
       "      <th>Net Price</th>\n",
       "      <th>Average Grant Aid</th>\n",
       "      <th>Total Annual Cost</th>\n",
       "      <th>Alumni Salary</th>\n",
       "      <th>Acceptance Rate</th>\n",
       "      <th>SAT Lower</th>\n",
       "      <th>SAT Upper</th>\n",
       "      <th>ACT Lower</th>\n",
       "      <th>ACT Upper</th>\n",
       "      <th>Website</th>\n",
       "    </tr>\n",
       "  </thead>\n",
       "  <tbody>\n",
       "    <tr>\n",
       "      <th>0</th>\n",
       "      <td>1</td>\n",
       "      <td>Harvard University</td>\n",
       "      <td>Cambridge</td>\n",
       "      <td>MA</td>\n",
       "      <td>Private</td>\n",
       "      <td>13844</td>\n",
       "      <td>31120</td>\n",
       "      <td>14327.0</td>\n",
       "      <td>49870.0</td>\n",
       "      <td>69600</td>\n",
       "      <td>146800.0</td>\n",
       "      <td>5.0</td>\n",
       "      <td>1460.0</td>\n",
       "      <td>1590.0</td>\n",
       "      <td>32.0</td>\n",
       "      <td>35.0</td>\n",
       "      <td>www.harvard.edu</td>\n",
       "    </tr>\n",
       "    <tr>\n",
       "      <th>1</th>\n",
       "      <td>2</td>\n",
       "      <td>Stanford University</td>\n",
       "      <td>Stanford</td>\n",
       "      <td>CA</td>\n",
       "      <td>Private</td>\n",
       "      <td>8402</td>\n",
       "      <td>17534</td>\n",
       "      <td>13261.0</td>\n",
       "      <td>50134.0</td>\n",
       "      <td>69109</td>\n",
       "      <td>145200.0</td>\n",
       "      <td>5.0</td>\n",
       "      <td>1390.0</td>\n",
       "      <td>1540.0</td>\n",
       "      <td>32.0</td>\n",
       "      <td>35.0</td>\n",
       "      <td>www.stanford.edu</td>\n",
       "    </tr>\n",
       "    <tr>\n",
       "      <th>2</th>\n",
       "      <td>3</td>\n",
       "      <td>Yale University</td>\n",
       "      <td>New Haven</td>\n",
       "      <td>CT</td>\n",
       "      <td>Private</td>\n",
       "      <td>6483</td>\n",
       "      <td>12974</td>\n",
       "      <td>18627.0</td>\n",
       "      <td>50897.0</td>\n",
       "      <td>71290</td>\n",
       "      <td>138300.0</td>\n",
       "      <td>7.0</td>\n",
       "      <td>1460.0</td>\n",
       "      <td>1580.0</td>\n",
       "      <td>32.0</td>\n",
       "      <td>35.0</td>\n",
       "      <td>www.yale.edu</td>\n",
       "    </tr>\n",
       "    <tr>\n",
       "      <th>3</th>\n",
       "      <td>4</td>\n",
       "      <td>Massachusetts Institute of Technology</td>\n",
       "      <td>Cambridge</td>\n",
       "      <td>MA</td>\n",
       "      <td>Private</td>\n",
       "      <td>4680</td>\n",
       "      <td>11466</td>\n",
       "      <td>20771.0</td>\n",
       "      <td>43248.0</td>\n",
       "      <td>67430</td>\n",
       "      <td>155200.0</td>\n",
       "      <td>7.0</td>\n",
       "      <td>1490.0</td>\n",
       "      <td>1570.0</td>\n",
       "      <td>33.0</td>\n",
       "      <td>35.0</td>\n",
       "      <td>web.mit.edu</td>\n",
       "    </tr>\n",
       "    <tr>\n",
       "      <th>4</th>\n",
       "      <td>5</td>\n",
       "      <td>Princeton University</td>\n",
       "      <td>Princeton</td>\n",
       "      <td>NJ</td>\n",
       "      <td>Private</td>\n",
       "      <td>5659</td>\n",
       "      <td>8273</td>\n",
       "      <td>9327.0</td>\n",
       "      <td>48088.0</td>\n",
       "      <td>66150</td>\n",
       "      <td>139400.0</td>\n",
       "      <td>6.0</td>\n",
       "      <td>1430.0</td>\n",
       "      <td>1570.0</td>\n",
       "      <td>31.0</td>\n",
       "      <td>35.0</td>\n",
       "      <td>www.princeton.edu</td>\n",
       "    </tr>\n",
       "  </tbody>\n",
       "</table>\n",
       "</div>"
      ],
      "text/plain": [
       "   Rank                                   Name       City State  \\\n",
       "0     1                     Harvard University  Cambridge    MA   \n",
       "1     2                    Stanford University   Stanford    CA   \n",
       "2     3                        Yale University  New Haven    CT   \n",
       "3     4  Massachusetts Institute of Technology  Cambridge    MA   \n",
       "4     5                   Princeton University  Princeton    NJ   \n",
       "\n",
       "  Public/Private  Undergraduate Population  Student Population  Net Price  \\\n",
       "0        Private                     13844               31120    14327.0   \n",
       "1        Private                      8402               17534    13261.0   \n",
       "2        Private                      6483               12974    18627.0   \n",
       "3        Private                      4680               11466    20771.0   \n",
       "4        Private                      5659                8273     9327.0   \n",
       "\n",
       "   Average Grant Aid  Total Annual Cost  Alumni Salary  Acceptance Rate  \\\n",
       "0            49870.0              69600       146800.0              5.0   \n",
       "1            50134.0              69109       145200.0              5.0   \n",
       "2            50897.0              71290       138300.0              7.0   \n",
       "3            43248.0              67430       155200.0              7.0   \n",
       "4            48088.0              66150       139400.0              6.0   \n",
       "\n",
       "   SAT Lower  SAT Upper  ACT Lower  ACT Upper            Website  \n",
       "0     1460.0     1590.0       32.0       35.0    www.harvard.edu  \n",
       "1     1390.0     1540.0       32.0       35.0   www.stanford.edu  \n",
       "2     1460.0     1580.0       32.0       35.0       www.yale.edu  \n",
       "3     1490.0     1570.0       33.0       35.0        web.mit.edu  \n",
       "4     1430.0     1570.0       31.0       35.0  www.princeton.edu  "
      ]
     },
     "execution_count": 30,
     "metadata": {},
     "output_type": "execute_result"
    }
   ],
   "source": [
    "df.head(5)"
   ]
  },
  {
   "cell_type": "markdown",
   "metadata": {
    "id": "seNXIKL-tgmY"
   },
   "source": [
    "### Display the last five rows of the dataset\n",
    "'tail()' function is used to view the last records. By default it displays 5 rows."
   ]
  },
  {
   "cell_type": "code",
   "execution_count": 31,
   "metadata": {
    "id": "1iAyCwLGtgmY",
    "outputId": "80a0c798-444c-49be-9261-d0fa719ea75c"
   },
   "outputs": [
    {
     "data": {
      "text/html": [
       "<div>\n",
       "<style scoped>\n",
       "    .dataframe tbody tr th:only-of-type {\n",
       "        vertical-align: middle;\n",
       "    }\n",
       "\n",
       "    .dataframe tbody tr th {\n",
       "        vertical-align: top;\n",
       "    }\n",
       "\n",
       "    .dataframe thead th {\n",
       "        text-align: right;\n",
       "    }\n",
       "</style>\n",
       "<table border=\"1\" class=\"dataframe\">\n",
       "  <thead>\n",
       "    <tr style=\"text-align: right;\">\n",
       "      <th></th>\n",
       "      <th>Rank</th>\n",
       "      <th>Name</th>\n",
       "      <th>City</th>\n",
       "      <th>State</th>\n",
       "      <th>Public/Private</th>\n",
       "      <th>Undergraduate Population</th>\n",
       "      <th>Student Population</th>\n",
       "      <th>Net Price</th>\n",
       "      <th>Average Grant Aid</th>\n",
       "      <th>Total Annual Cost</th>\n",
       "      <th>Alumni Salary</th>\n",
       "      <th>Acceptance Rate</th>\n",
       "      <th>SAT Lower</th>\n",
       "      <th>SAT Upper</th>\n",
       "      <th>ACT Lower</th>\n",
       "      <th>ACT Upper</th>\n",
       "      <th>Website</th>\n",
       "    </tr>\n",
       "  </thead>\n",
       "  <tbody>\n",
       "    <tr>\n",
       "      <th>518</th>\n",
       "      <td>645</td>\n",
       "      <td>Morehouse College</td>\n",
       "      <td>Atlanta</td>\n",
       "      <td>GA</td>\n",
       "      <td>Private</td>\n",
       "      <td>2202</td>\n",
       "      <td>2219</td>\n",
       "      <td>34928.0</td>\n",
       "      <td>17318.0</td>\n",
       "      <td>48723</td>\n",
       "      <td>98700.0</td>\n",
       "      <td>74.0</td>\n",
       "      <td>950.0</td>\n",
       "      <td>1160.0</td>\n",
       "      <td>18.0</td>\n",
       "      <td>23.0</td>\n",
       "      <td>https://www.morehouse.edu</td>\n",
       "    </tr>\n",
       "    <tr>\n",
       "      <th>519</th>\n",
       "      <td>646</td>\n",
       "      <td>New Mexico State University</td>\n",
       "      <td>Las Cruces</td>\n",
       "      <td>NM</td>\n",
       "      <td>Public</td>\n",
       "      <td>13379</td>\n",
       "      <td>14432</td>\n",
       "      <td>8625.0</td>\n",
       "      <td>9582.0</td>\n",
       "      <td>34720</td>\n",
       "      <td>96700.0</td>\n",
       "      <td>64.0</td>\n",
       "      <td>910.0</td>\n",
       "      <td>1160.0</td>\n",
       "      <td>18.0</td>\n",
       "      <td>23.0</td>\n",
       "      <td>www.nmsu.edu</td>\n",
       "    </tr>\n",
       "    <tr>\n",
       "      <th>520</th>\n",
       "      <td>647</td>\n",
       "      <td>Indiana State University</td>\n",
       "      <td>Terre Haute</td>\n",
       "      <td>IN</td>\n",
       "      <td>Public</td>\n",
       "      <td>13626</td>\n",
       "      <td>13763</td>\n",
       "      <td>13012.0</td>\n",
       "      <td>9297.0</td>\n",
       "      <td>32938</td>\n",
       "      <td>85600.0</td>\n",
       "      <td>85.0</td>\n",
       "      <td>900.0</td>\n",
       "      <td>1110.0</td>\n",
       "      <td>17.0</td>\n",
       "      <td>23.0</td>\n",
       "      <td>www.indstate.edu</td>\n",
       "    </tr>\n",
       "    <tr>\n",
       "      <th>521</th>\n",
       "      <td>648</td>\n",
       "      <td>Emory &amp;amp; Henry College</td>\n",
       "      <td>Emory</td>\n",
       "      <td>VA</td>\n",
       "      <td>Private</td>\n",
       "      <td>1094</td>\n",
       "      <td>1226</td>\n",
       "      <td>19340.0</td>\n",
       "      <td>27155.0</td>\n",
       "      <td>48100</td>\n",
       "      <td>70700.0</td>\n",
       "      <td>72.0</td>\n",
       "      <td>988.0</td>\n",
       "      <td>1170.0</td>\n",
       "      <td>19.0</td>\n",
       "      <td>25.0</td>\n",
       "      <td>www.ehc.edu</td>\n",
       "    </tr>\n",
       "    <tr>\n",
       "      <th>522</th>\n",
       "      <td>650</td>\n",
       "      <td>Catawba College</td>\n",
       "      <td>Salisbury</td>\n",
       "      <td>NC</td>\n",
       "      <td>Private</td>\n",
       "      <td>1336</td>\n",
       "      <td>1463</td>\n",
       "      <td>19807.0</td>\n",
       "      <td>23662.0</td>\n",
       "      <td>44921</td>\n",
       "      <td>78100.0</td>\n",
       "      <td>42.0</td>\n",
       "      <td>930.0</td>\n",
       "      <td>1100.0</td>\n",
       "      <td>18.0</td>\n",
       "      <td>23.0</td>\n",
       "      <td>www.catawba.edu</td>\n",
       "    </tr>\n",
       "  </tbody>\n",
       "</table>\n",
       "</div>"
      ],
      "text/plain": [
       "     Rank                         Name         City State Public/Private  \\\n",
       "518   645            Morehouse College      Atlanta    GA        Private   \n",
       "519   646  New Mexico State University   Las Cruces    NM         Public   \n",
       "520   647     Indiana State University  Terre Haute    IN         Public   \n",
       "521   648    Emory &amp; Henry College        Emory    VA        Private   \n",
       "522   650              Catawba College    Salisbury    NC        Private   \n",
       "\n",
       "     Undergraduate Population  Student Population  Net Price  \\\n",
       "518                      2202                2219    34928.0   \n",
       "519                     13379               14432     8625.0   \n",
       "520                     13626               13763    13012.0   \n",
       "521                      1094                1226    19340.0   \n",
       "522                      1336                1463    19807.0   \n",
       "\n",
       "     Average Grant Aid  Total Annual Cost  Alumni Salary  Acceptance Rate  \\\n",
       "518            17318.0              48723        98700.0             74.0   \n",
       "519             9582.0              34720        96700.0             64.0   \n",
       "520             9297.0              32938        85600.0             85.0   \n",
       "521            27155.0              48100        70700.0             72.0   \n",
       "522            23662.0              44921        78100.0             42.0   \n",
       "\n",
       "     SAT Lower  SAT Upper  ACT Lower  ACT Upper                    Website  \n",
       "518      950.0     1160.0       18.0       23.0  https://www.morehouse.edu  \n",
       "519      910.0     1160.0       18.0       23.0               www.nmsu.edu  \n",
       "520      900.0     1110.0       17.0       23.0           www.indstate.edu  \n",
       "521      988.0     1170.0       19.0       25.0                www.ehc.edu  \n",
       "522      930.0     1100.0       18.0       23.0            www.catawba.edu  "
      ]
     },
     "execution_count": 31,
     "metadata": {},
     "output_type": "execute_result"
    }
   ],
   "source": [
    "df.tail(5)"
   ]
  },
  {
   "cell_type": "markdown",
   "metadata": {
    "id": "cHskLSaBtgmZ"
   },
   "source": []
  },
  {
   "cell_type": "markdown",
   "metadata": {
    "id": "2MIH0RTj7_iO"
   },
   "source": [
    "### Recheck the dimension and info of the data "
   ]
  },
  {
   "cell_type": "code",
   "execution_count": 41,
   "metadata": {
    "id": "Er4-UkBFtgmZ",
    "outputId": "afdb13e3-d1c2-4a72-ff8c-507f342ba35e"
   },
   "outputs": [
    {
     "data": {
      "text/plain": [
       "(523, 17)"
      ]
     },
     "execution_count": 41,
     "metadata": {},
     "output_type": "execute_result"
    }
   ],
   "source": [
    "df.shape"
   ]
  },
  {
   "cell_type": "code",
   "execution_count": 47,
   "metadata": {
    "id": "kzygTqlAtgmZ",
    "outputId": "3e52f648-afb9-484b-ceb1-325e331a03e4"
   },
   "outputs": [
    {
     "name": "stdout",
     "output_type": "stream",
     "text": [
      "<class 'pandas.core.frame.DataFrame'>\n",
      "RangeIndex: 523 entries, 0 to 522\n",
      "Data columns (total 17 columns):\n",
      " #   Column                    Non-Null Count  Dtype  \n",
      "---  ------                    --------------  -----  \n",
      " 0   Rank                      523 non-null    int64  \n",
      " 1   Name                      523 non-null    object \n",
      " 2   City                      523 non-null    object \n",
      " 3   State                     523 non-null    object \n",
      " 4   Public/Private            523 non-null    object \n",
      " 5   Undergraduate Population  523 non-null    int64  \n",
      " 6   Student Population        523 non-null    int64  \n",
      " 7   Net Price                 523 non-null    float64\n",
      " 8   Average Grant Aid         523 non-null    float64\n",
      " 9   Total Annual Cost         523 non-null    int64  \n",
      " 10  Alumni Salary             523 non-null    float64\n",
      " 11  Acceptance Rate           523 non-null    float64\n",
      " 12  SAT Lower                 523 non-null    float64\n",
      " 13  SAT Upper                 523 non-null    float64\n",
      " 14  ACT Lower                 523 non-null    float64\n",
      " 15  ACT Upper                 523 non-null    float64\n",
      " 16  Website                   523 non-null    object \n",
      "dtypes: float64(8), int64(4), object(5)\n",
      "memory usage: 69.6+ KB\n"
     ]
    },
    {
     "data": {
      "text/plain": [
       "Rank                        0\n",
       "Name                        0\n",
       "City                        0\n",
       "State                       0\n",
       "Public/Private              0\n",
       "Undergraduate Population    0\n",
       "Student Population          0\n",
       "Net Price                   0\n",
       "Average Grant Aid           0\n",
       "Total Annual Cost           0\n",
       "Alumni Salary               0\n",
       "Acceptance Rate             0\n",
       "SAT Lower                   0\n",
       "SAT Upper                   0\n",
       "ACT Lower                   0\n",
       "ACT Upper                   0\n",
       "Website                     0\n",
       "dtype: int64"
      ]
     },
     "execution_count": 47,
     "metadata": {},
     "output_type": "execute_result"
    }
   ],
   "source": [
    "df.info()\n",
    "df.isnull().sum()"
   ]
  },
  {
   "cell_type": "markdown",
   "metadata": {
    "id": "0tR2xaFutgmZ"
   },
   "source": [
    "# Data Analysis"
   ]
  },
  {
   "cell_type": "markdown",
   "metadata": {
    "id": "2lAXzmq-tgmZ"
   },
   "source": [
    "### Get Summary of Data"
   ]
  },
  {
   "cell_type": "markdown",
   "metadata": {
    "id": "OlktZ7whtgmZ"
   },
   "source": [
    "'describe()' method generates descriptive statistics. Descriptive statistics include those that summarize the central\n",
    "tendency, dispersion and shape of a dataset's distribution, excluding 'NaN' values"
   ]
  },
  {
   "cell_type": "code",
   "execution_count": 38,
   "metadata": {
    "id": "AMsXZpWbtgmZ",
    "outputId": "4d233079-9407-487b-fa1d-a1022be388a3"
   },
   "outputs": [
    {
     "data": {
      "text/html": [
       "<div>\n",
       "<style scoped>\n",
       "    .dataframe tbody tr th:only-of-type {\n",
       "        vertical-align: middle;\n",
       "    }\n",
       "\n",
       "    .dataframe tbody tr th {\n",
       "        vertical-align: top;\n",
       "    }\n",
       "\n",
       "    .dataframe thead th {\n",
       "        text-align: right;\n",
       "    }\n",
       "</style>\n",
       "<table border=\"1\" class=\"dataframe\">\n",
       "  <thead>\n",
       "    <tr style=\"text-align: right;\">\n",
       "      <th></th>\n",
       "      <th>Rank</th>\n",
       "      <th>Undergraduate Population</th>\n",
       "      <th>Student Population</th>\n",
       "      <th>Net Price</th>\n",
       "      <th>Average Grant Aid</th>\n",
       "      <th>Total Annual Cost</th>\n",
       "      <th>Alumni Salary</th>\n",
       "      <th>Acceptance Rate</th>\n",
       "      <th>SAT Lower</th>\n",
       "      <th>SAT Upper</th>\n",
       "      <th>ACT Lower</th>\n",
       "      <th>ACT Upper</th>\n",
       "    </tr>\n",
       "  </thead>\n",
       "  <tbody>\n",
       "    <tr>\n",
       "      <th>count</th>\n",
       "      <td>523.000000</td>\n",
       "      <td>523.000000</td>\n",
       "      <td>523.000000</td>\n",
       "      <td>523.000000</td>\n",
       "      <td>523.000000</td>\n",
       "      <td>523.000000</td>\n",
       "      <td>523.000000</td>\n",
       "      <td>523.000000</td>\n",
       "      <td>523.000000</td>\n",
       "      <td>523.000000</td>\n",
       "      <td>523.000000</td>\n",
       "      <td>523.000000</td>\n",
       "    </tr>\n",
       "    <tr>\n",
       "      <th>mean</th>\n",
       "      <td>318.500956</td>\n",
       "      <td>10874.346080</td>\n",
       "      <td>13173.776291</td>\n",
       "      <td>22169.518164</td>\n",
       "      <td>19668.535373</td>\n",
       "      <td>50364.416826</td>\n",
       "      <td>99046.271511</td>\n",
       "      <td>61.623327</td>\n",
       "      <td>1111.728489</td>\n",
       "      <td>1310.128107</td>\n",
       "      <td>23.372849</td>\n",
       "      <td>28.510516</td>\n",
       "    </tr>\n",
       "    <tr>\n",
       "      <th>std</th>\n",
       "      <td>188.889387</td>\n",
       "      <td>11620.485424</td>\n",
       "      <td>13697.553695</td>\n",
       "      <td>7779.185471</td>\n",
       "      <td>11247.855910</td>\n",
       "      <td>12628.590736</td>\n",
       "      <td>14597.397831</td>\n",
       "      <td>22.078352</td>\n",
       "      <td>128.771497</td>\n",
       "      <td>114.031172</td>\n",
       "      <td>3.763684</td>\n",
       "      <td>3.062782</td>\n",
       "    </tr>\n",
       "    <tr>\n",
       "      <th>min</th>\n",
       "      <td>1.000000</td>\n",
       "      <td>323.000000</td>\n",
       "      <td>406.000000</td>\n",
       "      <td>1298.000000</td>\n",
       "      <td>3597.000000</td>\n",
       "      <td>8646.000000</td>\n",
       "      <td>70700.000000</td>\n",
       "      <td>5.000000</td>\n",
       "      <td>820.000000</td>\n",
       "      <td>1060.000000</td>\n",
       "      <td>15.000000</td>\n",
       "      <td>20.000000</td>\n",
       "    </tr>\n",
       "    <tr>\n",
       "      <th>25%</th>\n",
       "      <td>154.000000</td>\n",
       "      <td>2151.500000</td>\n",
       "      <td>2500.000000</td>\n",
       "      <td>16258.000000</td>\n",
       "      <td>9034.000000</td>\n",
       "      <td>40009.500000</td>\n",
       "      <td>88600.000000</td>\n",
       "      <td>49.000000</td>\n",
       "      <td>1024.000000</td>\n",
       "      <td>1230.000000</td>\n",
       "      <td>21.000000</td>\n",
       "      <td>26.000000</td>\n",
       "    </tr>\n",
       "    <tr>\n",
       "      <th>50%</th>\n",
       "      <td>317.000000</td>\n",
       "      <td>5768.000000</td>\n",
       "      <td>7709.000000</td>\n",
       "      <td>21374.000000</td>\n",
       "      <td>18824.000000</td>\n",
       "      <td>49698.000000</td>\n",
       "      <td>96400.000000</td>\n",
       "      <td>67.000000</td>\n",
       "      <td>1080.000000</td>\n",
       "      <td>1290.000000</td>\n",
       "      <td>22.000000</td>\n",
       "      <td>28.000000</td>\n",
       "    </tr>\n",
       "    <tr>\n",
       "      <th>75%</th>\n",
       "      <td>479.500000</td>\n",
       "      <td>17514.500000</td>\n",
       "      <td>20802.000000</td>\n",
       "      <td>27336.000000</td>\n",
       "      <td>26740.000000</td>\n",
       "      <td>60136.500000</td>\n",
       "      <td>106550.000000</td>\n",
       "      <td>78.000000</td>\n",
       "      <td>1180.000000</td>\n",
       "      <td>1380.000000</td>\n",
       "      <td>25.500000</td>\n",
       "      <td>31.000000</td>\n",
       "    </tr>\n",
       "    <tr>\n",
       "      <th>max</th>\n",
       "      <td>650.000000</td>\n",
       "      <td>65100.000000</td>\n",
       "      <td>75044.000000</td>\n",
       "      <td>46277.000000</td>\n",
       "      <td>50897.000000</td>\n",
       "      <td>75735.000000</td>\n",
       "      <td>158200.000000</td>\n",
       "      <td>100.000000</td>\n",
       "      <td>1530.000000</td>\n",
       "      <td>1590.000000</td>\n",
       "      <td>34.000000</td>\n",
       "      <td>35.000000</td>\n",
       "    </tr>\n",
       "  </tbody>\n",
       "</table>\n",
       "</div>"
      ],
      "text/plain": [
       "             Rank  Undergraduate Population  Student Population     Net Price  \\\n",
       "count  523.000000                523.000000          523.000000    523.000000   \n",
       "mean   318.500956              10874.346080        13173.776291  22169.518164   \n",
       "std    188.889387              11620.485424        13697.553695   7779.185471   \n",
       "min      1.000000                323.000000          406.000000   1298.000000   \n",
       "25%    154.000000               2151.500000         2500.000000  16258.000000   \n",
       "50%    317.000000               5768.000000         7709.000000  21374.000000   \n",
       "75%    479.500000              17514.500000        20802.000000  27336.000000   \n",
       "max    650.000000              65100.000000        75044.000000  46277.000000   \n",
       "\n",
       "       Average Grant Aid  Total Annual Cost  Alumni Salary  Acceptance Rate  \\\n",
       "count         523.000000         523.000000     523.000000       523.000000   \n",
       "mean        19668.535373       50364.416826   99046.271511        61.623327   \n",
       "std         11247.855910       12628.590736   14597.397831        22.078352   \n",
       "min          3597.000000        8646.000000   70700.000000         5.000000   \n",
       "25%          9034.000000       40009.500000   88600.000000        49.000000   \n",
       "50%         18824.000000       49698.000000   96400.000000        67.000000   \n",
       "75%         26740.000000       60136.500000  106550.000000        78.000000   \n",
       "max         50897.000000       75735.000000  158200.000000       100.000000   \n",
       "\n",
       "         SAT Lower    SAT Upper   ACT Lower   ACT Upper  \n",
       "count   523.000000   523.000000  523.000000  523.000000  \n",
       "mean   1111.728489  1310.128107   23.372849   28.510516  \n",
       "std     128.771497   114.031172    3.763684    3.062782  \n",
       "min     820.000000  1060.000000   15.000000   20.000000  \n",
       "25%    1024.000000  1230.000000   21.000000   26.000000  \n",
       "50%    1080.000000  1290.000000   22.000000   28.000000  \n",
       "75%    1180.000000  1380.000000   25.500000   31.000000  \n",
       "max    1530.000000  1590.000000   34.000000   35.000000  "
      ]
     },
     "execution_count": 38,
     "metadata": {},
     "output_type": "execute_result"
    }
   ],
   "source": [
    "df.describe()"
   ]
  },
  {
   "cell_type": "markdown",
   "metadata": {
    "id": "RrH71ybUtgma"
   },
   "source": [
    "### 1) Which are the top 5 colleges listed in the Forbes Magazine 2019?"
   ]
  },
  {
   "cell_type": "markdown",
   "metadata": {
    "id": "oLOGstSVtgma"
   },
   "source": [
    "As we need the 'Name' of the colleges, we first pick the 'Name' column and then display the top 5 rows using head() function"
   ]
  },
  {
   "cell_type": "markdown",
   "metadata": {},
   "source": [
    "<img src =\"https://i.ibb.co/dj0PFhK/Harvard.jpg\" width=80% height =40%></img>\n"
   ]
  },
  {
   "cell_type": "code",
   "execution_count": 49,
   "metadata": {
    "id": "k55BuH2Jtgma",
    "outputId": "3e27da57-085a-42d1-8fbb-fe10353707f4"
   },
   "outputs": [
    {
     "data": {
      "text/plain": [
       "0                       Harvard University\n",
       "1                      Stanford University\n",
       "2                          Yale University\n",
       "3    Massachusetts Institute of Technology\n",
       "4                     Princeton University\n",
       "Name: Name, dtype: object"
      ]
     },
     "execution_count": 49,
     "metadata": {},
     "output_type": "execute_result"
    }
   ],
   "source": [
    "df[\"Name\"].head(5)"
   ]
  },
  {
   "cell_type": "markdown",
   "metadata": {
    "id": "-agVXiUhtgma"
   },
   "source": [
    "We can also save the information in an object 'top5' and display it"
   ]
  },
  {
   "cell_type": "code",
   "execution_count": 54,
   "metadata": {
    "id": "ORpS4fMKtgma",
    "outputId": "6fee132f-c980-40cd-8cab-dfa669bd1a43"
   },
   "outputs": [
    {
     "data": {
      "text/html": [
       "<div>\n",
       "<style scoped>\n",
       "    .dataframe tbody tr th:only-of-type {\n",
       "        vertical-align: middle;\n",
       "    }\n",
       "\n",
       "    .dataframe tbody tr th {\n",
       "        vertical-align: top;\n",
       "    }\n",
       "\n",
       "    .dataframe thead th {\n",
       "        text-align: right;\n",
       "    }\n",
       "</style>\n",
       "<table border=\"1\" class=\"dataframe\">\n",
       "  <thead>\n",
       "    <tr style=\"text-align: right;\">\n",
       "      <th></th>\n",
       "      <th>Name</th>\n",
       "      <th>City</th>\n",
       "      <th>State</th>\n",
       "    </tr>\n",
       "  </thead>\n",
       "  <tbody>\n",
       "    <tr>\n",
       "      <th>0</th>\n",
       "      <td>Harvard University</td>\n",
       "      <td>Cambridge</td>\n",
       "      <td>MA</td>\n",
       "    </tr>\n",
       "    <tr>\n",
       "      <th>1</th>\n",
       "      <td>Stanford University</td>\n",
       "      <td>Stanford</td>\n",
       "      <td>CA</td>\n",
       "    </tr>\n",
       "    <tr>\n",
       "      <th>2</th>\n",
       "      <td>Yale University</td>\n",
       "      <td>New Haven</td>\n",
       "      <td>CT</td>\n",
       "    </tr>\n",
       "    <tr>\n",
       "      <th>3</th>\n",
       "      <td>Massachusetts Institute of Technology</td>\n",
       "      <td>Cambridge</td>\n",
       "      <td>MA</td>\n",
       "    </tr>\n",
       "    <tr>\n",
       "      <th>4</th>\n",
       "      <td>Princeton University</td>\n",
       "      <td>Princeton</td>\n",
       "      <td>NJ</td>\n",
       "    </tr>\n",
       "  </tbody>\n",
       "</table>\n",
       "</div>"
      ],
      "text/plain": [
       "                                    Name       City State\n",
       "0                     Harvard University  Cambridge    MA\n",
       "1                    Stanford University   Stanford    CA\n",
       "2                        Yale University  New Haven    CT\n",
       "3  Massachusetts Institute of Technology  Cambridge    MA\n",
       "4                   Princeton University  Princeton    NJ"
      ]
     },
     "execution_count": 54,
     "metadata": {},
     "output_type": "execute_result"
    }
   ],
   "source": [
    "df[[\"Name\",\"City\",\"State\"]].head(5)"
   ]
  },
  {
   "cell_type": "markdown",
   "metadata": {
    "id": "p5zmndDStgma"
   },
   "source": [
    "### 2) Which state and city do the top 5 colleges belong to?"
   ]
  },
  {
   "cell_type": "markdown",
   "metadata": {
    "id": "fYwMKw8Ttgma"
   },
   "source": [
    "As we need the 'Name', 'City' and 'State' of the colleges, we first pick the required columns and then display the top 5 rows using head() function"
   ]
  },
  {
   "cell_type": "code",
   "execution_count": 55,
   "metadata": {
    "id": "ZQqj9CmRtgma",
    "outputId": "120ba67c-56ec-40e9-98ba-8ad44d80315e"
   },
   "outputs": [
    {
     "data": {
      "text/html": [
       "<div>\n",
       "<style scoped>\n",
       "    .dataframe tbody tr th:only-of-type {\n",
       "        vertical-align: middle;\n",
       "    }\n",
       "\n",
       "    .dataframe tbody tr th {\n",
       "        vertical-align: top;\n",
       "    }\n",
       "\n",
       "    .dataframe thead th {\n",
       "        text-align: right;\n",
       "    }\n",
       "</style>\n",
       "<table border=\"1\" class=\"dataframe\">\n",
       "  <thead>\n",
       "    <tr style=\"text-align: right;\">\n",
       "      <th></th>\n",
       "      <th>Name</th>\n",
       "      <th>City</th>\n",
       "      <th>State</th>\n",
       "    </tr>\n",
       "  </thead>\n",
       "  <tbody>\n",
       "    <tr>\n",
       "      <th>0</th>\n",
       "      <td>Harvard University</td>\n",
       "      <td>Cambridge</td>\n",
       "      <td>MA</td>\n",
       "    </tr>\n",
       "    <tr>\n",
       "      <th>1</th>\n",
       "      <td>Stanford University</td>\n",
       "      <td>Stanford</td>\n",
       "      <td>CA</td>\n",
       "    </tr>\n",
       "    <tr>\n",
       "      <th>2</th>\n",
       "      <td>Yale University</td>\n",
       "      <td>New Haven</td>\n",
       "      <td>CT</td>\n",
       "    </tr>\n",
       "    <tr>\n",
       "      <th>3</th>\n",
       "      <td>Massachusetts Institute of Technology</td>\n",
       "      <td>Cambridge</td>\n",
       "      <td>MA</td>\n",
       "    </tr>\n",
       "    <tr>\n",
       "      <th>4</th>\n",
       "      <td>Princeton University</td>\n",
       "      <td>Princeton</td>\n",
       "      <td>NJ</td>\n",
       "    </tr>\n",
       "  </tbody>\n",
       "</table>\n",
       "</div>"
      ],
      "text/plain": [
       "                                    Name       City State\n",
       "0                     Harvard University  Cambridge    MA\n",
       "1                    Stanford University   Stanford    CA\n",
       "2                        Yale University  New Haven    CT\n",
       "3  Massachusetts Institute of Technology  Cambridge    MA\n",
       "4                   Princeton University  Princeton    NJ"
      ]
     },
     "execution_count": 55,
     "metadata": {},
     "output_type": "execute_result"
    }
   ],
   "source": [
    "df[[\"Name\",\"City\",\"State\"]].head(5)"
   ]
  },
  {
   "cell_type": "markdown",
   "metadata": {
    "id": "DwVO9HT7tgmb"
   },
   "source": [
    "Note:\n",
    "\n",
    "As 'City' and 'State' are immediate columns after 'Name', iloc can also be used to get the results"
   ]
  },
  {
   "cell_type": "code",
   "execution_count": 64,
   "metadata": {
    "id": "LP8gD4Detgmb",
    "outputId": "cd4800b8-ee80-4d1a-9c55-1a5b852049e7"
   },
   "outputs": [
    {
     "data": {
      "text/html": [
       "<div>\n",
       "<style scoped>\n",
       "    .dataframe tbody tr th:only-of-type {\n",
       "        vertical-align: middle;\n",
       "    }\n",
       "\n",
       "    .dataframe tbody tr th {\n",
       "        vertical-align: top;\n",
       "    }\n",
       "\n",
       "    .dataframe thead th {\n",
       "        text-align: right;\n",
       "    }\n",
       "</style>\n",
       "<table border=\"1\" class=\"dataframe\">\n",
       "  <thead>\n",
       "    <tr style=\"text-align: right;\">\n",
       "      <th></th>\n",
       "      <th>Name</th>\n",
       "      <th>City</th>\n",
       "      <th>State</th>\n",
       "    </tr>\n",
       "  </thead>\n",
       "  <tbody>\n",
       "    <tr>\n",
       "      <th>0</th>\n",
       "      <td>Harvard University</td>\n",
       "      <td>Cambridge</td>\n",
       "      <td>MA</td>\n",
       "    </tr>\n",
       "    <tr>\n",
       "      <th>1</th>\n",
       "      <td>Stanford University</td>\n",
       "      <td>Stanford</td>\n",
       "      <td>CA</td>\n",
       "    </tr>\n",
       "    <tr>\n",
       "      <th>2</th>\n",
       "      <td>Yale University</td>\n",
       "      <td>New Haven</td>\n",
       "      <td>CT</td>\n",
       "    </tr>\n",
       "    <tr>\n",
       "      <th>3</th>\n",
       "      <td>Massachusetts Institute of Technology</td>\n",
       "      <td>Cambridge</td>\n",
       "      <td>MA</td>\n",
       "    </tr>\n",
       "    <tr>\n",
       "      <th>4</th>\n",
       "      <td>Princeton University</td>\n",
       "      <td>Princeton</td>\n",
       "      <td>NJ</td>\n",
       "    </tr>\n",
       "  </tbody>\n",
       "</table>\n",
       "</div>"
      ],
      "text/plain": [
       "                                    Name       City State\n",
       "0                     Harvard University  Cambridge    MA\n",
       "1                    Stanford University   Stanford    CA\n",
       "2                        Yale University  New Haven    CT\n",
       "3  Massachusetts Institute of Technology  Cambridge    MA\n",
       "4                   Princeton University  Princeton    NJ"
      ]
     },
     "execution_count": 64,
     "metadata": {},
     "output_type": "execute_result"
    }
   ],
   "source": [
    "df.loc[:,[\"Name\",\"City\",\"State\"]]\n",
    "df.iloc[0:5,1:4]"
   ]
  },
  {
   "cell_type": "markdown",
   "metadata": {
    "id": "sNsRW3oNtgmb"
   },
   "source": [
    "### 3) How many states and which all states have the colleges listed by Forbes?"
   ]
  },
  {
   "cell_type": "markdown",
   "metadata": {
    "id": "LrIXs8ZBtgmb"
   },
   "source": [
    "'nunique()' returns number of unique elements in the object. As we want number of unique states, we first pick up the 'State' column of the DataFrame and then call nunique() function"
   ]
  },
  {
   "cell_type": "code",
   "execution_count": 66,
   "metadata": {
    "colab": {
     "base_uri": "https://localhost:8080/"
    },
    "id": "hPmLGCqBtgmb",
    "outputId": "520c64ff-c82d-4c37-b34c-23d89c0d207b"
   },
   "outputs": [
    {
     "ename": "AttributeError",
     "evalue": "'Series' object has no attribute 'value_count'",
     "output_type": "error",
     "traceback": [
      "\u001b[1;31m---------------------------------------------------------------------------\u001b[0m",
      "\u001b[1;31mAttributeError\u001b[0m                            Traceback (most recent call last)",
      "\u001b[1;32m<ipython-input-66-b7480824f265>\u001b[0m in \u001b[0;36m<module>\u001b[1;34m\u001b[0m\n\u001b[1;32m----> 1\u001b[1;33m \u001b[0mdf\u001b[0m\u001b[1;33m[\u001b[0m\u001b[1;34m\"State\"\u001b[0m\u001b[1;33m]\u001b[0m\u001b[1;33m.\u001b[0m\u001b[0mvalue_count\u001b[0m\u001b[1;33m(\u001b[0m\u001b[1;33m)\u001b[0m\u001b[1;33m\u001b[0m\u001b[1;33m\u001b[0m\u001b[0m\n\u001b[0m",
      "\u001b[1;32mC:\\Anaconda3\\lib\\site-packages\\pandas\\core\\generic.py\u001b[0m in \u001b[0;36m__getattr__\u001b[1;34m(self, name)\u001b[0m\n\u001b[0;32m   5463\u001b[0m             \u001b[1;32mif\u001b[0m \u001b[0mself\u001b[0m\u001b[1;33m.\u001b[0m\u001b[0m_info_axis\u001b[0m\u001b[1;33m.\u001b[0m\u001b[0m_can_hold_identifiers_and_holds_name\u001b[0m\u001b[1;33m(\u001b[0m\u001b[0mname\u001b[0m\u001b[1;33m)\u001b[0m\u001b[1;33m:\u001b[0m\u001b[1;33m\u001b[0m\u001b[1;33m\u001b[0m\u001b[0m\n\u001b[0;32m   5464\u001b[0m                 \u001b[1;32mreturn\u001b[0m \u001b[0mself\u001b[0m\u001b[1;33m[\u001b[0m\u001b[0mname\u001b[0m\u001b[1;33m]\u001b[0m\u001b[1;33m\u001b[0m\u001b[1;33m\u001b[0m\u001b[0m\n\u001b[1;32m-> 5465\u001b[1;33m             \u001b[1;32mreturn\u001b[0m \u001b[0mobject\u001b[0m\u001b[1;33m.\u001b[0m\u001b[0m__getattribute__\u001b[0m\u001b[1;33m(\u001b[0m\u001b[0mself\u001b[0m\u001b[1;33m,\u001b[0m \u001b[0mname\u001b[0m\u001b[1;33m)\u001b[0m\u001b[1;33m\u001b[0m\u001b[1;33m\u001b[0m\u001b[0m\n\u001b[0m\u001b[0;32m   5466\u001b[0m \u001b[1;33m\u001b[0m\u001b[0m\n\u001b[0;32m   5467\u001b[0m     \u001b[1;32mdef\u001b[0m \u001b[0m__setattr__\u001b[0m\u001b[1;33m(\u001b[0m\u001b[0mself\u001b[0m\u001b[1;33m,\u001b[0m \u001b[0mname\u001b[0m\u001b[1;33m:\u001b[0m \u001b[0mstr\u001b[0m\u001b[1;33m,\u001b[0m \u001b[0mvalue\u001b[0m\u001b[1;33m)\u001b[0m \u001b[1;33m->\u001b[0m \u001b[1;32mNone\u001b[0m\u001b[1;33m:\u001b[0m\u001b[1;33m\u001b[0m\u001b[1;33m\u001b[0m\u001b[0m\n",
      "\u001b[1;31mAttributeError\u001b[0m: 'Series' object has no attribute 'value_count'"
     ]
    }
   ],
   "source": [
    "df[\"State\"].value_count()"
   ]
  },
  {
   "cell_type": "markdown",
   "metadata": {
    "id": "AYeZD7-Ptgmb"
   },
   "source": [
    "'unique()' function returns unique values of Series object. Hence, we first pick up the 'State' column of the DataFrame and then call unique() function to get all all the States"
   ]
  },
  {
   "cell_type": "code",
   "execution_count": null,
   "metadata": {
    "colab": {
     "base_uri": "https://localhost:8080/"
    },
    "id": "j6CuTyCntgmb",
    "outputId": "6ca097f9-2971-4f07-a3f3-dcd5a1b0750e"
   },
   "outputs": [],
   "source": []
  },
  {
   "cell_type": "markdown",
   "metadata": {
    "id": "6iiuMMtGtgmb"
   },
   "source": [
    "### 4) In all how many private and public colleges are there in the given list?"
   ]
  },
  {
   "cell_type": "markdown",
   "metadata": {
    "id": "VbJemXU_tgmb"
   },
   "source": [
    "'Public/Private' column is of object data type in the DataFrame.\n",
    "\n",
    "'value_count()' returns a series containing counts of unique values"
   ]
  },
  {
   "cell_type": "code",
   "execution_count": null,
   "metadata": {
    "colab": {
     "base_uri": "https://localhost:8080/"
    },
    "id": "RQHDdL4xtgmb",
    "outputId": "3ae185fd-d9bb-4456-dede-bb89165cce41"
   },
   "outputs": [],
   "source": []
  },
  {
   "cell_type": "markdown",
   "metadata": {
    "id": "RecfpJzFtgmb"
   },
   "source": [
    "### 5) From the list how many colleges are there within each State? Which State has highest number of colleges?"
   ]
  },
  {
   "cell_type": "markdown",
   "metadata": {
    "id": "yZA5lfSGtgmb"
   },
   "source": [
    "As we have to find number of colleges within each State, we first group (groupby()) the data based on 'State'. For each State we then count the colleges using number of unique values (nunique())  in 'Name' field.\n",
    "\n",
    "As we want the 'State' with highest number of colleges, we sort the values (sort_values()) in descending order to get the results."
   ]
  },
  {
   "cell_type": "markdown",
   "metadata": {},
   "source": [
    "<img src =\"https://i.ibb.co/GcnXVC0/New-York.jpg\" width=80% height =40%></img>"
   ]
  },
  {
   "cell_type": "code",
   "execution_count": null,
   "metadata": {
    "colab": {
     "base_uri": "https://localhost:8080/"
    },
    "id": "1kxn-0Bttgmb",
    "outputId": "970acca4-080d-4b3d-8906-c53d71a128ca"
   },
   "outputs": [],
   "source": []
  },
  {
   "cell_type": "markdown",
   "metadata": {
    "id": "oBJ3TdOytgmc"
   },
   "source": [
    "### 6) What is percentage of undergraduates in each college? (Add a new field to calculate)"
   ]
  },
  {
   "cell_type": "markdown",
   "metadata": {
    "id": "YauOIxZqtgmc"
   },
   "source": [
    "Divsion of 'Undergraduate Population' by 'Student Population' multiplied by 100 will give percentage of undergraduates.\n",
    "\n",
    "round() method will round off the derived value to 2 decimal places which is then stored in new field 'Percentage UG'"
   ]
  },
  {
   "cell_type": "code",
   "execution_count": 68,
   "metadata": {
    "id": "_T-Auo3gtgmc"
   },
   "outputs": [
    {
     "data": {
      "text/plain": [
       "Index(['Rank', 'Name', 'City', 'State', 'Public/Private',\n",
       "       'Undergraduate Population', 'Student Population', 'Net Price',\n",
       "       'Average Grant Aid', 'Total Annual Cost', 'Alumni Salary',\n",
       "       'Acceptance Rate', 'SAT Lower', 'SAT Upper', 'ACT Lower', 'ACT Upper',\n",
       "       'Website'],\n",
       "      dtype='object')"
      ]
     },
     "execution_count": 68,
     "metadata": {},
     "output_type": "execute_result"
    }
   ],
   "source": [
    "df.columns"
   ]
  },
  {
   "cell_type": "code",
   "execution_count": 71,
   "metadata": {
    "colab": {
     "base_uri": "https://localhost:8080/",
     "height": 272
    },
    "id": "jvRdXy7stgmc",
    "outputId": "ce241cbb-41c3-47c4-da9a-c265aafdfa5d"
   },
   "outputs": [
    {
     "data": {
      "text/plain": [
       "0    44.49\n",
       "1    47.92\n",
       "2    49.97\n",
       "3    40.82\n",
       "4    68.40\n",
       "Name: Percentage UG, dtype: float64"
      ]
     },
     "execution_count": 71,
     "metadata": {},
     "output_type": "execute_result"
    }
   ],
   "source": [
    "df[\"Percentage UG\"] = round(df[\"Undergraduate Population\"]/df[\"Student Population\"]*100,2)\n",
    "df[\"Percentage UG\"].head()"
   ]
  },
  {
   "cell_type": "markdown",
   "metadata": {
    "id": "GnCS2q0vtgmc"
   },
   "source": [
    "### 7) Which are the 5 colleges with highest percentage of undergraduates?"
   ]
  },
  {
   "cell_type": "markdown",
   "metadata": {
    "id": "4z6v1g5atgmc"
   },
   "source": [
    "Let's just pick up 'Name' and 'Percentage UG' field, sort by 'Percentage UG' in descending order to get the desired ouput"
   ]
  },
  {
   "cell_type": "code",
   "execution_count": null,
   "metadata": {
    "colab": {
     "base_uri": "https://localhost:8080/",
     "height": 204
    },
    "id": "S0_s3CPHtgmc",
    "outputId": "b9049346-6551-44da-f315-c3dfd57bab2b"
   },
   "outputs": [],
   "source": []
  },
  {
   "cell_type": "markdown",
   "metadata": {
    "id": "NcK8UBrXtgmc"
   },
   "source": [
    "### 8) 5 colleges that receive highest Average Grant Aid?"
   ]
  },
  {
   "cell_type": "markdown",
   "metadata": {
    "id": "cUQFFFGGtgmc"
   },
   "source": [
    "Sort 'Average Grant Aid' in descending order and pick up the top 5 colleges using 'Name' field"
   ]
  },
  {
   "cell_type": "markdown",
   "metadata": {},
   "source": [
    "<img src =\"https://i.ibb.co/TMtRJ54/Yale.jpg\" width=80% height =40%></img>"
   ]
  },
  {
   "cell_type": "code",
   "execution_count": null,
   "metadata": {
    "colab": {
     "base_uri": "https://localhost:8080/"
    },
    "id": "kG0vlM2stgmc",
    "outputId": "89ca5f7a-416d-4164-8489-2d05d117feae"
   },
   "outputs": [],
   "source": []
  },
  {
   "cell_type": "markdown",
   "metadata": {
    "id": "PZLBR78btgmc"
   },
   "source": [
    "\n",
    "### 9) What is the average Undergraduate population in State of 'CA'?"
   ]
  },
  {
   "cell_type": "markdown",
   "metadata": {
    "id": "Z_r3MnY6tgmc"
   },
   "source": [
    "First lets filter the DataFrame and get only rows with 'State' as 'CA'\n",
    "\n",
    "We then pick up the 'Undergraduate Population' for the above subset and calculate its mean\n",
    "\n",
    "round off the final value to 2 decimal places using the round() function"
   ]
  },
  {
   "cell_type": "code",
   "execution_count": null,
   "metadata": {
    "colab": {
     "base_uri": "https://localhost:8080/"
    },
    "id": "WZ8M0xE8tgmc",
    "outputId": "5d17ec8b-95b3-401f-fb55-9b17fadedc3c"
   },
   "outputs": [],
   "source": []
  },
  {
   "cell_type": "markdown",
   "metadata": {
    "id": "_jpeG1v-tgmc"
   },
   "source": [
    "### 10) Which are the colleges where chances of admission is high?"
   ]
  },
  {
   "cell_type": "markdown",
   "metadata": {
    "id": "1hcolpQwtgmc"
   },
   "source": [
    "As per the data dictionary 'Acceptance Rate' field provides information on chances of admission. We can sort this column in descending order to get the results"
   ]
  },
  {
   "cell_type": "code",
   "execution_count": null,
   "metadata": {
    "colab": {
     "base_uri": "https://localhost:8080/",
     "height": 289
    },
    "id": "rW86etpLtgmd",
    "outputId": "79541235-3cc3-4676-96df-7c7f528a3c32"
   },
   "outputs": [],
   "source": []
  },
  {
   "cell_type": "markdown",
   "metadata": {
    "id": "1ORWPdmutgmd"
   },
   "source": [
    "### 11) Find if there are any 'Art' colleges in the list"
   ]
  },
  {
   "cell_type": "markdown",
   "metadata": {
    "id": "fP5vmlQctgmd"
   },
   "source": [
    "To find a specific string value 'Art' we will use the 'contains()' method. We will pass the string in the paranthesis which needs to be located in the dataframe variable."
   ]
  },
  {
   "cell_type": "code",
   "execution_count": null,
   "metadata": {
    "id": "mXknVr1Vtgmd",
    "outputId": "2342e7b0-f455-4b06-9371-8afb3766eb5f"
   },
   "outputs": [],
   "source": []
  },
  {
   "cell_type": "markdown",
   "metadata": {
    "id": "WuPrMG2Jtgmd"
   },
   "source": [
    "### 12) Lets divide the Alumni Salary equally into 3 buckets (Low Salary - L; Medium Salary - M; High Salary - H ) and check which colleges falls in 'H' bucket"
   ]
  },
  {
   "cell_type": "code",
   "execution_count": null,
   "metadata": {
    "id": "ZBrzuKHOtgmd"
   },
   "outputs": [],
   "source": []
  },
  {
   "cell_type": "markdown",
   "metadata": {
    "id": "1Y4cKc9ztgmd"
   },
   "source": [
    "Take a copy of the original DataFrame to work on"
   ]
  },
  {
   "cell_type": "code",
   "execution_count": null,
   "metadata": {
    "id": "OCoOgQSttgmd"
   },
   "outputs": [],
   "source": []
  },
  {
   "cell_type": "markdown",
   "metadata": {
    "id": "SchXFRAYtgmd"
   },
   "source": [
    "'cut()' function bins values into discrete intervals. 'cut()' function is used when you need to segment and sort data values into bins. This function is also useful for going from a continuous variable to a categorical variable.\n",
    "\n",
    "In the above code we have created 3 bins using 'Alumni Salary' column. Lowest range of salary is labelled as 'L', middle range is labelled as 'M' and highest range of salary is labelled as 'H'. These labels are saved in a new column 'Alumni Sal Level'.\n",
    "\n",
    "Note: The entire range of the 'Alumni Salary' has been divided into 3 equal ranges i.e. 3 bins"
   ]
  },
  {
   "cell_type": "code",
   "execution_count": null,
   "metadata": {
    "colab": {
     "base_uri": "https://localhost:8080/",
     "height": 272
    },
    "id": "69_t2FTZtgmd",
    "outputId": "790221d6-ffc0-43dd-ce16-0b75d4df5f8a"
   },
   "outputs": [],
   "source": []
  },
  {
   "cell_type": "code",
   "execution_count": null,
   "metadata": {
    "colab": {
     "base_uri": "https://localhost:8080/"
    },
    "id": "Aa2Awqd7tgmd",
    "outputId": "b60efa05-816f-4154-c965-04355a536a67"
   },
   "outputs": [],
   "source": []
  },
  {
   "cell_type": "markdown",
   "metadata": {
    "id": "GePZYooGtgmd"
   },
   "source": [
    "### 13) Let's check the mean Alumni Salary at each level"
   ]
  },
  {
   "cell_type": "code",
   "execution_count": null,
   "metadata": {
    "colab": {
     "base_uri": "https://localhost:8080/"
    },
    "id": "Mo3yAIFitgmd",
    "outputId": "590a77fa-7715-41c6-a2cf-bc2332751dfe"
   },
   "outputs": [],
   "source": []
  },
  {
   "cell_type": "markdown",
   "metadata": {
    "id": "3twplwj1tgmd"
   },
   "source": [
    "### 14) Let's create a new dataframe to further analyze the 28 colleges with High Alumni Salary "
   ]
  },
  {
   "cell_type": "code",
   "execution_count": null,
   "metadata": {
    "id": "oblq2Umotgmd"
   },
   "outputs": [],
   "source": []
  },
  {
   "cell_type": "markdown",
   "metadata": {
    "id": "jR6Z14Omtgmd"
   },
   "source": [
    "Passing 'include = 'all'' to describe() method provides descriptive summary of all fields in the DataFrame. 'T' property transposes the table which helps in reviewing the statistics per column"
   ]
  },
  {
   "cell_type": "code",
   "execution_count": null,
   "metadata": {
    "colab": {
     "base_uri": "https://localhost:8080/",
     "height": 483
    },
    "id": "kJSjcjnRtgmd",
    "outputId": "567bd7c4-a650-491e-f778-8933db9c2764"
   },
   "outputs": [],
   "source": []
  },
  {
   "cell_type": "markdown",
   "metadata": {
    "id": "p0XOVKsXtgme"
   },
   "source": [
    "### Happy Learning!!!"
   ]
  }
 ],
 "metadata": {
  "colab": {
   "name": "Forbes - Americas Top Colleges 2019 (1).ipynb",
   "provenance": []
  },
  "kernelspec": {
   "display_name": "Python 3",
   "language": "python",
   "name": "python3"
  },
  "language_info": {
   "codemirror_mode": {
    "name": "ipython",
    "version": 3
   },
   "file_extension": ".py",
   "mimetype": "text/x-python",
   "name": "python",
   "nbconvert_exporter": "python",
   "pygments_lexer": "ipython3",
   "version": "3.8.8"
  }
 },
 "nbformat": 4,
 "nbformat_minor": 1
}
