{
 "cells": [
  {
   "cell_type": "markdown",
   "metadata": {},
   "source": [
    "## Problem Statement - GDP and For Loop\n",
    "\n"
   ]
  },
  {
   "cell_type": "markdown",
   "metadata": {},
   "source": [
    "## GDP"
   ]
  },
  {
   "cell_type": "code",
   "execution_count": 1,
   "metadata": {},
   "outputs": [],
   "source": [
    "\n",
    "import pandas as pd  ###Software library written for the Python programming language for data manipulation and analysis.\n",
    "import numpy as np ### fundamental package for scientific computing with Python\n",
    "import os ### using operating system dependent functionality\n"
   ]
  },
  {
   "cell_type": "markdown",
   "metadata": {},
   "source": [
    "# Set the working directory"
   ]
  },
  {
   "cell_type": "code",
   "execution_count": 2,
   "metadata": {},
   "outputs": [],
   "source": [
    "os.chdir('C:\\\\GL Class\\DSBA - Python\\Introduction to Analytics\\Week 1')"
   ]
  },
  {
   "cell_type": "markdown",
   "metadata": {},
   "source": [
    "# Import Excel file"
   ]
  },
  {
   "cell_type": "markdown",
   "metadata": {},
   "source": [
    "Load the Data file into Python DataFrame using pandas read_excel method"
   ]
  },
  {
   "cell_type": "markdown",
   "metadata": {},
   "source": [
    "The csv that we are going to load contains the unicode format data. We will use an additional encoding parameter which will allow pandas to load the csv. "
   ]
  },
  {
   "cell_type": "code",
   "execution_count": 3,
   "metadata": {},
   "outputs": [],
   "source": [
    "data_df = pd.read_excel(\"World GDP Dataset.xlsx\")\n"
   ]
  },
  {
   "cell_type": "markdown",
   "metadata": {},
   "source": [
    "# View Top 10 rows"
   ]
  },
  {
   "cell_type": "markdown",
   "metadata": {},
   "source": [
    "head function is used to view the top records. The number records to be view need to be  given in the parenthesis."
   ]
  },
  {
   "cell_type": "code",
   "execution_count": 4,
   "metadata": {},
   "outputs": [
    {
     "data": {
      "text/html": [
       "<div>\n",
       "<style scoped>\n",
       "    .dataframe tbody tr th:only-of-type {\n",
       "        vertical-align: middle;\n",
       "    }\n",
       "\n",
       "    .dataframe tbody tr th {\n",
       "        vertical-align: top;\n",
       "    }\n",
       "\n",
       "    .dataframe thead th {\n",
       "        text-align: right;\n",
       "    }\n",
       "</style>\n",
       "<table border=\"1\" class=\"dataframe\">\n",
       "  <thead>\n",
       "    <tr style=\"text-align: right;\">\n",
       "      <th></th>\n",
       "      <th>S.No</th>\n",
       "      <th>Country</th>\n",
       "      <th>Population</th>\n",
       "      <th>Yearly Change</th>\n",
       "      <th>Land Area(Km2)</th>\n",
       "      <th>Population Density (P/Km2)</th>\n",
       "      <th>Migrants Net (last year)</th>\n",
       "      <th>Median Age</th>\n",
       "      <th>Urban Population %</th>\n",
       "      <th>World Share in Population%</th>\n",
       "      <th>GDP (in $ Billions )</th>\n",
       "      <th>GDP per Capita(in $ Thousands)</th>\n",
       "      <th>Share of World GDP(in %)</th>\n",
       "    </tr>\n",
       "  </thead>\n",
       "  <tbody>\n",
       "    <tr>\n",
       "      <th>0</th>\n",
       "      <td>1</td>\n",
       "      <td>China</td>\n",
       "      <td>1421021791</td>\n",
       "      <td>0.0039</td>\n",
       "      <td>9388211</td>\n",
       "      <td>151.362362</td>\n",
       "      <td>-348399</td>\n",
       "      <td>38</td>\n",
       "      <td>0.61</td>\n",
       "      <td>0.1847</td>\n",
       "      <td>12238.0</td>\n",
       "      <td>8.612113</td>\n",
       "      <td>0.1512</td>\n",
       "    </tr>\n",
       "    <tr>\n",
       "      <th>1</th>\n",
       "      <td>2</td>\n",
       "      <td>India</td>\n",
       "      <td>1338676785</td>\n",
       "      <td>0.0099</td>\n",
       "      <td>2973190</td>\n",
       "      <td>450.249323</td>\n",
       "      <td>-532687</td>\n",
       "      <td>28</td>\n",
       "      <td>0.35</td>\n",
       "      <td>0.1770</td>\n",
       "      <td>2651.0</td>\n",
       "      <td>1.980314</td>\n",
       "      <td>0.0328</td>\n",
       "    </tr>\n",
       "    <tr>\n",
       "      <th>2</th>\n",
       "      <td>3</td>\n",
       "      <td>United States</td>\n",
       "      <td>325084756</td>\n",
       "      <td>0.0059</td>\n",
       "      <td>9147420</td>\n",
       "      <td>35.538409</td>\n",
       "      <td>954806</td>\n",
       "      <td>38</td>\n",
       "      <td>0.83</td>\n",
       "      <td>0.0425</td>\n",
       "      <td>19485.0</td>\n",
       "      <td>59.938215</td>\n",
       "      <td>0.2408</td>\n",
       "    </tr>\n",
       "    <tr>\n",
       "      <th>3</th>\n",
       "      <td>4</td>\n",
       "      <td>Indonesia</td>\n",
       "      <td>264650963</td>\n",
       "      <td>0.0107</td>\n",
       "      <td>1811570</td>\n",
       "      <td>146.089283</td>\n",
       "      <td>-98955</td>\n",
       "      <td>30</td>\n",
       "      <td>0.56</td>\n",
       "      <td>0.0351</td>\n",
       "      <td>1015.0</td>\n",
       "      <td>3.835240</td>\n",
       "      <td>0.0125</td>\n",
       "    </tr>\n",
       "    <tr>\n",
       "      <th>4</th>\n",
       "      <td>5</td>\n",
       "      <td>Pakistan</td>\n",
       "      <td>207906209</td>\n",
       "      <td>0.0200</td>\n",
       "      <td>770880</td>\n",
       "      <td>269.699835</td>\n",
       "      <td>-233379</td>\n",
       "      <td>23</td>\n",
       "      <td>0.35</td>\n",
       "      <td>0.0283</td>\n",
       "      <td>305.0</td>\n",
       "      <td>1.467008</td>\n",
       "      <td>0.0038</td>\n",
       "    </tr>\n",
       "    <tr>\n",
       "      <th>5</th>\n",
       "      <td>6</td>\n",
       "      <td>Brazil</td>\n",
       "      <td>207833823</td>\n",
       "      <td>0.0072</td>\n",
       "      <td>8358140</td>\n",
       "      <td>24.866038</td>\n",
       "      <td>21200</td>\n",
       "      <td>33</td>\n",
       "      <td>0.88</td>\n",
       "      <td>0.0273</td>\n",
       "      <td>2054.0</td>\n",
       "      <td>9.882896</td>\n",
       "      <td>0.0254</td>\n",
       "    </tr>\n",
       "    <tr>\n",
       "      <th>6</th>\n",
       "      <td>7</td>\n",
       "      <td>Nigeria</td>\n",
       "      <td>190873244</td>\n",
       "      <td>0.0258</td>\n",
       "      <td>910770</td>\n",
       "      <td>209.573486</td>\n",
       "      <td>-60000</td>\n",
       "      <td>18</td>\n",
       "      <td>0.52</td>\n",
       "      <td>0.0264</td>\n",
       "      <td>376.0</td>\n",
       "      <td>1.969894</td>\n",
       "      <td>0.0046</td>\n",
       "    </tr>\n",
       "    <tr>\n",
       "      <th>7</th>\n",
       "      <td>8</td>\n",
       "      <td>Bangladesh</td>\n",
       "      <td>159685424</td>\n",
       "      <td>0.0101</td>\n",
       "      <td>130170</td>\n",
       "      <td>1226.745210</td>\n",
       "      <td>-369501</td>\n",
       "      <td>28</td>\n",
       "      <td>0.39</td>\n",
       "      <td>0.0211</td>\n",
       "      <td>250.0</td>\n",
       "      <td>1.565578</td>\n",
       "      <td>0.0031</td>\n",
       "    </tr>\n",
       "    <tr>\n",
       "      <th>8</th>\n",
       "      <td>9</td>\n",
       "      <td>Russia</td>\n",
       "      <td>145530082</td>\n",
       "      <td>0.0004</td>\n",
       "      <td>16376870</td>\n",
       "      <td>8.886318</td>\n",
       "      <td>182456</td>\n",
       "      <td>40</td>\n",
       "      <td>0.74</td>\n",
       "      <td>0.0187</td>\n",
       "      <td>1578.0</td>\n",
       "      <td>10.843119</td>\n",
       "      <td>0.0195</td>\n",
       "    </tr>\n",
       "    <tr>\n",
       "      <th>9</th>\n",
       "      <td>10</td>\n",
       "      <td>Mexico</td>\n",
       "      <td>127502725</td>\n",
       "      <td>0.0106</td>\n",
       "      <td>1943950</td>\n",
       "      <td>65.589508</td>\n",
       "      <td>-60000</td>\n",
       "      <td>29</td>\n",
       "      <td>0.84</td>\n",
       "      <td>0.0165</td>\n",
       "      <td>1151.0</td>\n",
       "      <td>9.027258</td>\n",
       "      <td>0.0142</td>\n",
       "    </tr>\n",
       "  </tbody>\n",
       "</table>\n",
       "</div>"
      ],
      "text/plain": [
       "   S.No        Country  Population  Yearly Change  Land Area(Km2)  \\\n",
       "0     1          China  1421021791         0.0039         9388211   \n",
       "1     2          India  1338676785         0.0099         2973190   \n",
       "2     3  United States   325084756         0.0059         9147420   \n",
       "3     4      Indonesia   264650963         0.0107         1811570   \n",
       "4     5       Pakistan   207906209         0.0200          770880   \n",
       "5     6         Brazil   207833823         0.0072         8358140   \n",
       "6     7        Nigeria   190873244         0.0258          910770   \n",
       "7     8     Bangladesh   159685424         0.0101          130170   \n",
       "8     9         Russia   145530082         0.0004        16376870   \n",
       "9    10         Mexico   127502725         0.0106         1943950   \n",
       "\n",
       "   Population Density (P/Km2)  Migrants Net (last year)  Median Age  \\\n",
       "0                  151.362362                   -348399          38   \n",
       "1                  450.249323                   -532687          28   \n",
       "2                   35.538409                    954806          38   \n",
       "3                  146.089283                    -98955          30   \n",
       "4                  269.699835                   -233379          23   \n",
       "5                   24.866038                     21200          33   \n",
       "6                  209.573486                    -60000          18   \n",
       "7                 1226.745210                   -369501          28   \n",
       "8                    8.886318                    182456          40   \n",
       "9                   65.589508                    -60000          29   \n",
       "\n",
       "  Urban Population %  World Share in Population%  GDP (in $ Billions )  \\\n",
       "0               0.61                      0.1847               12238.0   \n",
       "1               0.35                      0.1770                2651.0   \n",
       "2               0.83                      0.0425               19485.0   \n",
       "3               0.56                      0.0351                1015.0   \n",
       "4               0.35                      0.0283                 305.0   \n",
       "5               0.88                      0.0273                2054.0   \n",
       "6               0.52                      0.0264                 376.0   \n",
       "7               0.39                      0.0211                 250.0   \n",
       "8               0.74                      0.0187                1578.0   \n",
       "9               0.84                      0.0165                1151.0   \n",
       "\n",
       "   GDP per Capita(in $ Thousands)  Share of World GDP(in %)  \n",
       "0                        8.612113                    0.1512  \n",
       "1                        1.980314                    0.0328  \n",
       "2                       59.938215                    0.2408  \n",
       "3                        3.835240                    0.0125  \n",
       "4                        1.467008                    0.0038  \n",
       "5                        9.882896                    0.0254  \n",
       "6                        1.969894                    0.0046  \n",
       "7                        1.565578                    0.0031  \n",
       "8                       10.843119                    0.0195  \n",
       "9                        9.027258                    0.0142  "
      ]
     },
     "execution_count": 4,
     "metadata": {},
     "output_type": "execute_result"
    }
   ],
   "source": [
    "data_df.head(10)"
   ]
  },
  {
   "cell_type": "code",
   "execution_count": 5,
   "metadata": {},
   "outputs": [
    {
     "data": {
      "text/plain": [
       "1151.0"
      ]
     },
     "execution_count": 5,
     "metadata": {},
     "output_type": "execute_result"
    }
   ],
   "source": [
    "data_df_val= data_df.loc[data_df[\"Country\"]== \"Mexico\"]['GDP (in $ Billions )'].values[0]\n",
    "data_df_val"
   ]
  },
  {
   "cell_type": "code",
   "execution_count": 6,
   "metadata": {},
   "outputs": [
    {
     "data": {
      "text/plain": [
       "182"
      ]
     },
     "execution_count": 6,
     "metadata": {},
     "output_type": "execute_result"
    }
   ],
   "source": [
    "new_subset= data_df[data_df[\"GDP (in $ Billions )\"]> data_df_val]\n",
    "new_subset.size\n"
   ]
  },
  {
   "cell_type": "markdown",
   "metadata": {},
   "source": [
    "## Compare the array values in a for loop"
   ]
  },
  {
   "cell_type": "code",
   "execution_count": 14,
   "metadata": {},
   "outputs": [],
   "source": [
    "arr = [10, 324, 45, 90, 9808]"
   ]
  },
  {
   "cell_type": "code",
   "execution_count": 12,
   "metadata": {},
   "outputs": [
    {
     "data": {
      "text/plain": [
       "10"
      ]
     },
     "execution_count": 12,
     "metadata": {},
     "output_type": "execute_result"
    }
   ],
   "source": [
    "max=arr[0] ## Initialize a max variable with the first element in an array\n",
    "max"
   ]
  },
  {
   "cell_type": "code",
   "execution_count": 15,
   "metadata": {},
   "outputs": [
    {
     "data": {
      "text/plain": [
       "5"
      ]
     },
     "execution_count": 15,
     "metadata": {},
     "output_type": "execute_result"
    }
   ],
   "source": [
    "n = len(arr)\n",
    "n"
   ]
  },
  {
   "cell_type": "code",
   "execution_count": null,
   "metadata": {},
   "outputs": [],
   "source": [
    " for i in range(1, n):\n",
    "        if arr[i] > max:\n",
    "            max = arr[i]\n",
    "   \n",
    "  "
   ]
  },
  {
   "cell_type": "code",
   "execution_count": 11,
   "metadata": {},
   "outputs": [
    {
     "name": "stdout",
     "output_type": "stream",
     "text": [
      "9808\n"
     ]
    }
   ],
   "source": [
    "print(max)"
   ]
  },
  {
   "cell_type": "code",
   "execution_count": null,
   "metadata": {},
   "outputs": [],
   "source": []
  }
 ],
 "metadata": {
  "kernelspec": {
   "display_name": "Python 3",
   "language": "python",
   "name": "python3"
  },
  "language_info": {
   "codemirror_mode": {
    "name": "ipython",
    "version": 3
   },
   "file_extension": ".py",
   "mimetype": "text/x-python",
   "name": "python",
   "nbconvert_exporter": "python",
   "pygments_lexer": "ipython3",
   "version": "3.8.8"
  }
 },
 "nbformat": 4,
 "nbformat_minor": 2
}
