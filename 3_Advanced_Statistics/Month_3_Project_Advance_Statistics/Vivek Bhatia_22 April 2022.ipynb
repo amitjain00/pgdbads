{
 "cells": [
  {
   "cell_type": "markdown",
   "id": "872c6353",
   "metadata": {},
   "source": [
    "# Problem Set 1"
   ]
  },
  {
   "cell_type": "code",
   "execution_count": 1,
   "id": "23bfa226",
   "metadata": {},
   "outputs": [],
   "source": [
    "import pandas as pd\n",
    "import numpy as np\n",
    "import seaborn as sns\n",
    "import matplotlib.pyplot as plt\n",
    "%matplotlib inline"
   ]
  },
  {
   "cell_type": "markdown",
   "id": "a48c8ddf",
   "metadata": {},
   "source": [
    "Import the salary dataset"
   ]
  },
  {
   "cell_type": "code",
   "execution_count": 2,
   "id": "e7c4d4d4",
   "metadata": {},
   "outputs": [],
   "source": [
    "df=pd.read_csv('SalaryData.csv')"
   ]
  },
  {
   "cell_type": "code",
   "execution_count": 3,
   "id": "8f0f8ee8",
   "metadata": {},
   "outputs": [
    {
     "data": {
      "text/html": [
       "<div>\n",
       "<style scoped>\n",
       "    .dataframe tbody tr th:only-of-type {\n",
       "        vertical-align: middle;\n",
       "    }\n",
       "\n",
       "    .dataframe tbody tr th {\n",
       "        vertical-align: top;\n",
       "    }\n",
       "\n",
       "    .dataframe thead th {\n",
       "        text-align: right;\n",
       "    }\n",
       "</style>\n",
       "<table border=\"1\" class=\"dataframe\">\n",
       "  <thead>\n",
       "    <tr style=\"text-align: right;\">\n",
       "      <th></th>\n",
       "      <th>Education</th>\n",
       "      <th>Occupation</th>\n",
       "      <th>Salary</th>\n",
       "    </tr>\n",
       "  </thead>\n",
       "  <tbody>\n",
       "    <tr>\n",
       "      <th>0</th>\n",
       "      <td>Doctorate</td>\n",
       "      <td>Adm-clerical</td>\n",
       "      <td>153197</td>\n",
       "    </tr>\n",
       "    <tr>\n",
       "      <th>1</th>\n",
       "      <td>Doctorate</td>\n",
       "      <td>Adm-clerical</td>\n",
       "      <td>115945</td>\n",
       "    </tr>\n",
       "    <tr>\n",
       "      <th>2</th>\n",
       "      <td>Doctorate</td>\n",
       "      <td>Adm-clerical</td>\n",
       "      <td>175935</td>\n",
       "    </tr>\n",
       "    <tr>\n",
       "      <th>3</th>\n",
       "      <td>Doctorate</td>\n",
       "      <td>Adm-clerical</td>\n",
       "      <td>220754</td>\n",
       "    </tr>\n",
       "    <tr>\n",
       "      <th>4</th>\n",
       "      <td>Doctorate</td>\n",
       "      <td>Sales</td>\n",
       "      <td>170769</td>\n",
       "    </tr>\n",
       "  </tbody>\n",
       "</table>\n",
       "</div>"
      ],
      "text/plain": [
       "    Education     Occupation  Salary\n",
       "0   Doctorate   Adm-clerical  153197\n",
       "1   Doctorate   Adm-clerical  115945\n",
       "2   Doctorate   Adm-clerical  175935\n",
       "3   Doctorate   Adm-clerical  220754\n",
       "4   Doctorate          Sales  170769"
      ]
     },
     "execution_count": 3,
     "metadata": {},
     "output_type": "execute_result"
    }
   ],
   "source": [
    "df.head()"
   ]
  },
  {
   "cell_type": "code",
   "execution_count": 4,
   "id": "3ee956bb",
   "metadata": {},
   "outputs": [
    {
     "data": {
      "text/html": [
       "<div>\n",
       "<style scoped>\n",
       "    .dataframe tbody tr th:only-of-type {\n",
       "        vertical-align: middle;\n",
       "    }\n",
       "\n",
       "    .dataframe tbody tr th {\n",
       "        vertical-align: top;\n",
       "    }\n",
       "\n",
       "    .dataframe thead th {\n",
       "        text-align: right;\n",
       "    }\n",
       "</style>\n",
       "<table border=\"1\" class=\"dataframe\">\n",
       "  <thead>\n",
       "    <tr style=\"text-align: right;\">\n",
       "      <th></th>\n",
       "      <th>Education</th>\n",
       "      <th>Occupation</th>\n",
       "      <th>Salary</th>\n",
       "    </tr>\n",
       "  </thead>\n",
       "  <tbody>\n",
       "    <tr>\n",
       "      <th>35</th>\n",
       "      <td>Bachelors</td>\n",
       "      <td>Exec-managerial</td>\n",
       "      <td>173935</td>\n",
       "    </tr>\n",
       "    <tr>\n",
       "      <th>36</th>\n",
       "      <td>Bachelors</td>\n",
       "      <td>Exec-managerial</td>\n",
       "      <td>212448</td>\n",
       "    </tr>\n",
       "    <tr>\n",
       "      <th>37</th>\n",
       "      <td>Bachelors</td>\n",
       "      <td>Exec-managerial</td>\n",
       "      <td>173664</td>\n",
       "    </tr>\n",
       "    <tr>\n",
       "      <th>38</th>\n",
       "      <td>Bachelors</td>\n",
       "      <td>Exec-managerial</td>\n",
       "      <td>212760</td>\n",
       "    </tr>\n",
       "    <tr>\n",
       "      <th>39</th>\n",
       "      <td>Doctorate</td>\n",
       "      <td>Exec-managerial</td>\n",
       "      <td>212781</td>\n",
       "    </tr>\n",
       "  </tbody>\n",
       "</table>\n",
       "</div>"
      ],
      "text/plain": [
       "     Education        Occupation  Salary\n",
       "35   Bachelors   Exec-managerial  173935\n",
       "36   Bachelors   Exec-managerial  212448\n",
       "37   Bachelors   Exec-managerial  173664\n",
       "38   Bachelors   Exec-managerial  212760\n",
       "39   Doctorate   Exec-managerial  212781"
      ]
     },
     "execution_count": 4,
     "metadata": {},
     "output_type": "execute_result"
    }
   ],
   "source": [
    "df.tail()"
   ]
  },
  {
   "cell_type": "code",
   "execution_count": 5,
   "id": "25abc433",
   "metadata": {},
   "outputs": [
    {
     "data": {
      "text/plain": [
       "(40, 3)"
      ]
     },
     "execution_count": 5,
     "metadata": {},
     "output_type": "execute_result"
    }
   ],
   "source": [
    "df.shape"
   ]
  },
  {
   "cell_type": "markdown",
   "id": "95921444",
   "metadata": {},
   "source": [
    "There are 40 rows and 3 columns in the dataset."
   ]
  },
  {
   "cell_type": "code",
   "execution_count": 6,
   "id": "a0c606e5",
   "metadata": {},
   "outputs": [
    {
     "name": "stdout",
     "output_type": "stream",
     "text": [
      "<class 'pandas.core.frame.DataFrame'>\n",
      "RangeIndex: 40 entries, 0 to 39\n",
      "Data columns (total 3 columns):\n",
      " #   Column      Non-Null Count  Dtype \n",
      "---  ------      --------------  ----- \n",
      " 0   Education   40 non-null     object\n",
      " 1   Occupation  40 non-null     object\n",
      " 2   Salary      40 non-null     int64 \n",
      "dtypes: int64(1), object(2)\n",
      "memory usage: 1.1+ KB\n"
     ]
    }
   ],
   "source": [
    "df.info()"
   ]
  },
  {
   "cell_type": "markdown",
   "id": "7b6362ff",
   "metadata": {},
   "source": [
    "There are no null values in the data set and the data type of education and occupation is 'object' and  'salary' is int64."
   ]
  },
  {
   "cell_type": "code",
   "execution_count": 7,
   "id": "90c97487",
   "metadata": {},
   "outputs": [
    {
     "data": {
      "text/html": [
       "<div>\n",
       "<style scoped>\n",
       "    .dataframe tbody tr th:only-of-type {\n",
       "        vertical-align: middle;\n",
       "    }\n",
       "\n",
       "    .dataframe tbody tr th {\n",
       "        vertical-align: top;\n",
       "    }\n",
       "\n",
       "    .dataframe thead th {\n",
       "        text-align: right;\n",
       "    }\n",
       "</style>\n",
       "<table border=\"1\" class=\"dataframe\">\n",
       "  <thead>\n",
       "    <tr style=\"text-align: right;\">\n",
       "      <th></th>\n",
       "      <th>count</th>\n",
       "      <th>mean</th>\n",
       "      <th>std</th>\n",
       "      <th>min</th>\n",
       "      <th>25%</th>\n",
       "      <th>50%</th>\n",
       "      <th>75%</th>\n",
       "      <th>max</th>\n",
       "    </tr>\n",
       "  </thead>\n",
       "  <tbody>\n",
       "    <tr>\n",
       "      <th>Salary</th>\n",
       "      <td>40.0</td>\n",
       "      <td>162186.875</td>\n",
       "      <td>64860.407506</td>\n",
       "      <td>50103.0</td>\n",
       "      <td>99897.5</td>\n",
       "      <td>169100.0</td>\n",
       "      <td>214440.75</td>\n",
       "      <td>260151.0</td>\n",
       "    </tr>\n",
       "  </tbody>\n",
       "</table>\n",
       "</div>"
      ],
      "text/plain": [
       "        count        mean           std      min      25%       50%  \\\n",
       "Salary   40.0  162186.875  64860.407506  50103.0  99897.5  169100.0   \n",
       "\n",
       "              75%       max  \n",
       "Salary  214440.75  260151.0  "
      ]
     },
     "execution_count": 7,
     "metadata": {},
     "output_type": "execute_result"
    }
   ],
   "source": [
    "df.describe().T"
   ]
  },
  {
   "cell_type": "markdown",
   "id": "b0f04dff",
   "metadata": {},
   "source": [
    "As we can infer from the above data, min salary is 50103.0, max salary is 260151.0 and the mean is 162186.875"
   ]
  },
  {
   "cell_type": "code",
   "execution_count": 11,
   "id": "9a3f34ac",
   "metadata": {},
   "outputs": [
    {
     "data": {
      "text/plain": [
       "array([153197, 115945, 175935, 220754, 170769, 219420, 237920, 160540,\n",
       "       180934, 248156, 247724, 249207, 235334, 248871, 257345, 160910,\n",
       "       162494, 188729,  99185,  90135, 100135, 133696, 149909, 191712,\n",
       "       167431, 260151,  50103,  50122,  52242,  75333,  77743,  83203,\n",
       "        90456, 100678,  95469, 173935, 212448, 173664, 212760, 212781],\n",
       "      dtype=int64)"
      ]
     },
     "execution_count": 11,
     "metadata": {},
     "output_type": "execute_result"
    }
   ],
   "source": [
    "df['Salary'].unique()"
   ]
  },
  {
   "cell_type": "code",
   "execution_count": 12,
   "id": "87b0d48e",
   "metadata": {},
   "outputs": [
    {
     "data": {
      "text/plain": [
       "array([' Doctorate', ' Bachelors', ' HS-grad'], dtype=object)"
      ]
     },
     "execution_count": 12,
     "metadata": {},
     "output_type": "execute_result"
    }
   ],
   "source": [
    "df['Education'].unique()"
   ]
  },
  {
   "cell_type": "code",
   "execution_count": 13,
   "id": "6e5a746c",
   "metadata": {},
   "outputs": [
    {
     "data": {
      "text/plain": [
       "array([' Adm-clerical', ' Sales', ' Prof-specialty', ' Exec-managerial'],\n",
       "      dtype=object)"
      ]
     },
     "execution_count": 13,
     "metadata": {},
     "output_type": "execute_result"
    }
   ],
   "source": [
    "df['Occupation'].unique()"
   ]
  },
  {
   "cell_type": "markdown",
   "id": "e4c47d39",
   "metadata": {},
   "source": [
    "As observed there are no bad or missing data in the dataset"
   ]
  },
  {
   "cell_type": "markdown",
   "id": "380892e7",
   "metadata": {},
   "source": [
    "## Problem 1A:"
   ]
  },
  {
   "cell_type": "markdown",
   "id": "203a1af3",
   "metadata": {},
   "source": [
    "## 1.1 State the null and the alternate hypothesis for conducting one-way ANOVA for both Education and Occupation individually."
   ]
  },
  {
   "cell_type": "markdown",
   "id": "fbcc5b0d",
   "metadata": {},
   "source": [
    "Salary is hypothesized to depend on educational qualification and occupation.\n",
    "Educational qualification is at three levels, High school graduate, Bachelor, and Doctorate.\n",
    "Occupation is at four levels, Administrative and clerical, Sales, Professional or specialty, and Executive or managerial."
   ]
  },
  {
   "cell_type": "markdown",
   "id": "b3f19688",
   "metadata": {},
   "source": [
    "#### Hypothesis testing for educational qualification."
   ]
  },
  {
   "cell_type": "markdown",
   "id": "0a7a971e",
   "metadata": {},
   "source": [
    "Ho: The mean salary is same across all categories of educational qualification.\n",
    "Ha: The mean salary is not same across atleast one category of educational qualification."
   ]
  },
  {
   "cell_type": "markdown",
   "id": "79bd2053",
   "metadata": {},
   "source": [
    "#### Hypothesis testing for Occupation."
   ]
  },
  {
   "cell_type": "code",
   "execution_count": null,
   "id": "86c0fa45",
   "metadata": {},
   "outputs": [],
   "source": [
    "Ho: The mean salary is same across all categories of Occupation.\n",
    "Ha: The mean salary is not same across atleast one category of Occupation."
   ]
  },
  {
   "cell_type": "markdown",
   "id": "b8008bc2",
   "metadata": {},
   "source": [
    "## 1.2 Perform a one-way ANOVA on Salary with respect to Education. State whether the null hypothesis is accepted or rejected based on the ANOVA results"
   ]
  },
  {
   "cell_type": "markdown",
   "id": "eb390dd7",
   "metadata": {},
   "source": [
    "Importing the necessary functions from library"
   ]
  },
  {
   "cell_type": "code",
   "execution_count": 21,
   "id": "379476ab",
   "metadata": {},
   "outputs": [],
   "source": [
    "from statsmodels.formula.api import ols\n",
    "from statsmodels.stats.anova import _get_covariance , anova_lm"
   ]
  },
  {
   "cell_type": "markdown",
   "id": "80a8b55a",
   "metadata": {},
   "source": [
    "#### Hypothesis testing for educational Qulaification."
   ]
  },
  {
   "cell_type": "markdown",
   "id": "84541e98",
   "metadata": {},
   "source": [
    "Ho: The mean salary is same across all categories of educational qualification.\n",
    "Ha: The mean salary is not same across atleast one category of educational qualification."
   ]
  },
  {
   "cell_type": "code",
   "execution_count": 28,
   "id": "5a76614f",
   "metadata": {},
   "outputs": [
    {
     "data": {
      "text/html": [
       "<div>\n",
       "<style scoped>\n",
       "    .dataframe tbody tr th:only-of-type {\n",
       "        vertical-align: middle;\n",
       "    }\n",
       "\n",
       "    .dataframe tbody tr th {\n",
       "        vertical-align: top;\n",
       "    }\n",
       "\n",
       "    .dataframe thead th {\n",
       "        text-align: right;\n",
       "    }\n",
       "</style>\n",
       "<table border=\"1\" class=\"dataframe\">\n",
       "  <thead>\n",
       "    <tr style=\"text-align: right;\">\n",
       "      <th></th>\n",
       "      <th>df</th>\n",
       "      <th>sum_sq</th>\n",
       "      <th>mean_sq</th>\n",
       "      <th>F</th>\n",
       "      <th>PR(&gt;F)</th>\n",
       "    </tr>\n",
       "  </thead>\n",
       "  <tbody>\n",
       "    <tr>\n",
       "      <th>Education</th>\n",
       "      <td>2.0</td>\n",
       "      <td>1.026955e+11</td>\n",
       "      <td>5.134773e+10</td>\n",
       "      <td>30.95628</td>\n",
       "      <td>1.257709e-08</td>\n",
       "    </tr>\n",
       "    <tr>\n",
       "      <th>Residual</th>\n",
       "      <td>37.0</td>\n",
       "      <td>6.137256e+10</td>\n",
       "      <td>1.658718e+09</td>\n",
       "      <td>NaN</td>\n",
       "      <td>NaN</td>\n",
       "    </tr>\n",
       "  </tbody>\n",
       "</table>\n",
       "</div>"
      ],
      "text/plain": [
       "             df        sum_sq       mean_sq         F        PR(>F)\n",
       "Education   2.0  1.026955e+11  5.134773e+10  30.95628  1.257709e-08\n",
       "Residual   37.0  6.137256e+10  1.658718e+09       NaN           NaN"
      ]
     },
     "execution_count": 28,
     "metadata": {},
     "output_type": "execute_result"
    }
   ],
   "source": [
    "formula='Salary~Education'\n",
    "model=ols(formula,df).fit()\n",
    "aov_table=anova_lm(model)\n",
    "aov_table"
   ]
  },
  {
   "cell_type": "code",
   "execution_count": 52,
   "id": "617e4f4b",
   "metadata": {},
   "outputs": [
    {
     "name": "stdout",
     "output_type": "stream",
     "text": [
      "As P value is less than 0.05, we reject the null hypothesis that the mean salary is same across all categories of educational qualification\n"
     ]
    }
   ],
   "source": [
    "print('As P value is less than 0.05, we reject the null hypothesis that the mean salary is same across all categories of educational qualification')"
   ]
  },
  {
   "cell_type": "markdown",
   "id": "4c928cfa",
   "metadata": {},
   "source": [
    "## 1.3 Perform one-way ANOVA for variable Occupation with respect to the variable ‘Salary’. State whether the null hypothesis is accepted or rejected based on the ANOVA results."
   ]
  },
  {
   "cell_type": "markdown",
   "id": "c0dc2202",
   "metadata": {},
   "source": [
    "#### Hypothesis testing for Occupation."
   ]
  },
  {
   "cell_type": "markdown",
   "id": "2348d3a5",
   "metadata": {},
   "source": [
    "Ho: The mean salary is same across all categories of Occupation.\n",
    "Ha: The mean salary is not same across atleast one category of Occupation."
   ]
  },
  {
   "cell_type": "code",
   "execution_count": 31,
   "id": "97a90484",
   "metadata": {},
   "outputs": [
    {
     "data": {
      "text/html": [
       "<div>\n",
       "<style scoped>\n",
       "    .dataframe tbody tr th:only-of-type {\n",
       "        vertical-align: middle;\n",
       "    }\n",
       "\n",
       "    .dataframe tbody tr th {\n",
       "        vertical-align: top;\n",
       "    }\n",
       "\n",
       "    .dataframe thead th {\n",
       "        text-align: right;\n",
       "    }\n",
       "</style>\n",
       "<table border=\"1\" class=\"dataframe\">\n",
       "  <thead>\n",
       "    <tr style=\"text-align: right;\">\n",
       "      <th></th>\n",
       "      <th>df</th>\n",
       "      <th>sum_sq</th>\n",
       "      <th>mean_sq</th>\n",
       "      <th>F</th>\n",
       "      <th>PR(&gt;F)</th>\n",
       "    </tr>\n",
       "  </thead>\n",
       "  <tbody>\n",
       "    <tr>\n",
       "      <th>Occupation</th>\n",
       "      <td>3.0</td>\n",
       "      <td>1.125878e+10</td>\n",
       "      <td>3.752928e+09</td>\n",
       "      <td>0.884144</td>\n",
       "      <td>0.458508</td>\n",
       "    </tr>\n",
       "    <tr>\n",
       "      <th>Residual</th>\n",
       "      <td>36.0</td>\n",
       "      <td>1.528092e+11</td>\n",
       "      <td>4.244701e+09</td>\n",
       "      <td>NaN</td>\n",
       "      <td>NaN</td>\n",
       "    </tr>\n",
       "  </tbody>\n",
       "</table>\n",
       "</div>"
      ],
      "text/plain": [
       "              df        sum_sq       mean_sq         F    PR(>F)\n",
       "Occupation   3.0  1.125878e+10  3.752928e+09  0.884144  0.458508\n",
       "Residual    36.0  1.528092e+11  4.244701e+09       NaN       NaN"
      ]
     },
     "execution_count": 31,
     "metadata": {},
     "output_type": "execute_result"
    }
   ],
   "source": [
    "formula='Salary~Occupation'\n",
    "model=ols(formula,df).fit()\n",
    "aov_table=anova_lm(model)\n",
    "aov_table"
   ]
  },
  {
   "cell_type": "code",
   "execution_count": 53,
   "id": "af9fc076",
   "metadata": {},
   "outputs": [
    {
     "name": "stdout",
     "output_type": "stream",
     "text": [
      "As P value is more than 0.05, we fail to reject the null hypothesis that the mean salary is same across all categories of  Occupation\n"
     ]
    }
   ],
   "source": [
    "print('As P value is more than 0.05, we fail to reject the null hypothesis that the mean salary is same across all categories of  Occupation')"
   ]
  },
  {
   "cell_type": "markdown",
   "id": "cf039c5a",
   "metadata": {},
   "source": [
    "## 1.4 If the null hypothesis is rejected in either (1.2) or in (1.3), find out which class means are significantly different. Interpret the result."
   ]
  },
  {
   "cell_type": "markdown",
   "id": "4347c8fb",
   "metadata": {},
   "source": [
    "As observed from the above analysis we confirm that the mean salary is not same across all categories of Education.\n",
    "To find out which one of those categories have a different mean we perform Tukey's test."
   ]
  },
  {
   "cell_type": "code",
   "execution_count": 4,
   "id": "9dc7ac7e",
   "metadata": {},
   "outputs": [],
   "source": [
    "from statsmodels.stats.multicomp import pairwise_tukeyhsd\n",
    "from statsmodels.stats.multicomp import MultiComparison"
   ]
  },
  {
   "cell_type": "code",
   "execution_count": 17,
   "id": "46103548",
   "metadata": {},
   "outputs": [
    {
     "name": "stdout",
     "output_type": "stream",
     "text": [
      "           Multiple Comparison of Means - Tukey HSD, FWER=0.05           \n",
      "=========================================================================\n",
      "  group1     group2     meandiff   p-adj     lower        upper    reject\n",
      "-------------------------------------------------------------------------\n",
      " Bachelors  Doctorate   43274.0667 0.0146    7541.1439  79006.9894   True\n",
      " Bachelors    HS-grad  -90114.1556  0.001 -132035.1958 -48193.1153   True\n",
      " Doctorate    HS-grad -133388.2222  0.001 -174815.0876 -91961.3569   True\n",
      "-------------------------------------------------------------------------\n"
     ]
    }
   ],
   "source": [
    "compare=MultiComparison(df['Salary'],df['Education'])\n",
    "result=compare.tukeyhsd()\n",
    "print(result)"
   ]
  },
  {
   "cell_type": "markdown",
   "id": "e850f7ae",
   "metadata": {},
   "source": [
    "From the test result we observe that the P values of all the groups are lower than 0.05, hence it implies that the mean value of all the categories of Education are different."
   ]
  },
  {
   "cell_type": "markdown",
   "id": "c791db8a",
   "metadata": {},
   "source": [
    "## Problem 1B:"
   ]
  },
  {
   "cell_type": "markdown",
   "id": "4b9c363b",
   "metadata": {},
   "source": [
    "## 1.5 What is the interaction between the two treatments? Analyze the effects of one variable on the other (Education and Occupation) with the help of an interaction plot."
   ]
  },
  {
   "cell_type": "raw",
   "id": "89c40173",
   "metadata": {},
   "source": [
    "To understand the interaction between ecucation and occupation let us plot interaction plot and count plot and try to analyse the effect and relationship of one variable with another."
   ]
  },
  {
   "cell_type": "code",
   "execution_count": 15,
   "id": "e4a22bf0",
   "metadata": {},
   "outputs": [
    {
     "data": {
      "image/png": "[encoded data removed]",
      "text/plain": [
       "<Figure size 432x288 with 1 Axes>"
      ]
     },
     "metadata": {
      "needs_background": "light"
     },
     "output_type": "display_data"
    }
   ],
   "source": [
    "sns.pointplot(x='Occupation', y='Salary', data=df, hue='Education',ci=None);"
   ]
  },
  {
   "cell_type": "code",
   "execution_count": 62,
   "id": "0e5e21d2",
   "metadata": {},
   "outputs": [
    {
     "data": {
      "image/png": "[encoded data removed]",
      "text/plain": [
       "<Figure size 432x288 with 1 Axes>"
      ]
     },
     "metadata": {
      "needs_background": "light"
     },
     "output_type": "display_data"
    }
   ],
   "source": [
    "sns.countplot(data=df,x='Occupation',hue='Education');"
   ]
  },
  {
   "cell_type": "markdown",
   "id": "8c6767a1",
   "metadata": {},
   "source": [
    "From the interaction plot it is evident that there is a lot of interaction between Education and Occupation.\n"
   ]
  },
  {
   "cell_type": "raw",
   "id": "3e267e28",
   "metadata": {},
   "source": [
    "Doctorate:\n",
    "\n",
    "From the count plot we can see that Doctorate degree holders are dominant in Prof-Speciality with a count of 6 and draw the highest salaries of approximately 250000.However, 4 people with doctorate degree holders also work in Adm-clerical position and have lowest salaries of around 160000. Around 5 people work in sales drawing a salary of around 190000 and Lowest count of 1 is observed in Exec-managerial however the salaries is high around 210000. From the above analysis it is evident that with doctorate degree one should work in Prof-Speciality or Exec-managerial roles to draw maximum salary."
   ]
  },
  {
   "cell_type": "raw",
   "id": "15f31db3",
   "metadata": {},
   "source": [
    "Bachelors Education:\n",
    "\n",
    "People with Bachelor education are having identical count of 4 in sales,Prof-Speciality and  Exec-managerial domains and have the lowest count of 3 in Adm-clerical roles.\n",
    "People working in Exec-managerial and sales earn highest amount of approximately 200000 followed by Adm-clerical with an earning of 175000 and the lowest earning domain for bachelors education is Prof-Speciality.\n",
    "\n",
    "From the interaction plot and count plot analysis we can conclude that with Bachelors education working in Prof-Speciality is not a ideal choice. However, sales,Prof-Speciality and  Exec-managerial offer them with wide variety of options and almost at par salary.\n"
   ]
  },
  {
   "cell_type": "raw",
   "id": "9cba9430",
   "metadata": {},
   "source": [
    "HS-grad:\n",
    "\n",
    "HS-grad are working in sales,Prof-Speciality and Adm-clerical and have identical count of 3 in each of the domain. Howver, no HS-grad are observed to be working in Exec-managerial roles.\n",
    "\n",
    "HS-grad is  the lowest earning group and the maximum average salary drwan by them is in Prof-Speciality with a earning of around 100000. The earning reduces to 75000 for Adm-clerical jobs and 50000 for sales."
   ]
  },
  {
   "cell_type": "raw",
   "id": "ad624995",
   "metadata": {},
   "source": [
    "From the above analysis it is evident that higher degree yeilds higher salaries."
   ]
  },
  {
   "cell_type": "markdown",
   "id": "59ed430d",
   "metadata": {},
   "source": [
    "## 1.6 Perform a two-way ANOVA based on the Education and Occupation (along with their interaction Education*Occupation) with the variable ‘Salary’. State the null and alternative hypotheses and state your results. How will you interpret this result?"
   ]
  },
  {
   "cell_type": "raw",
   "id": "e2d4623d",
   "metadata": {},
   "source": [
    "As we confirmed from the interaction plot that there is a lot of interaction between education and Occupation, we conduct a two way anova to determine the interaction between them.\n",
    "Let us formulate the null and alternate hypothesis."
   ]
  },
  {
   "cell_type": "raw",
   "id": "30d16311",
   "metadata": {},
   "source": [
    "Ho:There is no interaction between Education and Occupation\n",
    "Ha: There is an interaction between Education and Occupation"
   ]
  },
  {
   "cell_type": "code",
   "execution_count": 60,
   "id": "41e91304",
   "metadata": {},
   "outputs": [
    {
     "data": {
      "text/html": [
       "<div>\n",
       "<style scoped>\n",
       "    .dataframe tbody tr th:only-of-type {\n",
       "        vertical-align: middle;\n",
       "    }\n",
       "\n",
       "    .dataframe tbody tr th {\n",
       "        vertical-align: top;\n",
       "    }\n",
       "\n",
       "    .dataframe thead th {\n",
       "        text-align: right;\n",
       "    }\n",
       "</style>\n",
       "<table border=\"1\" class=\"dataframe\">\n",
       "  <thead>\n",
       "    <tr style=\"text-align: right;\">\n",
       "      <th></th>\n",
       "      <th>df</th>\n",
       "      <th>sum_sq</th>\n",
       "      <th>mean_sq</th>\n",
       "      <th>F</th>\n",
       "      <th>PR(&gt;F)</th>\n",
       "    </tr>\n",
       "  </thead>\n",
       "  <tbody>\n",
       "    <tr>\n",
       "      <th>C(Education)</th>\n",
       "      <td>2.0</td>\n",
       "      <td>1.026955e+11</td>\n",
       "      <td>5.134773e+10</td>\n",
       "      <td>72.211958</td>\n",
       "      <td>5.466264e-12</td>\n",
       "    </tr>\n",
       "    <tr>\n",
       "      <th>C(Occupation)</th>\n",
       "      <td>3.0</td>\n",
       "      <td>5.519946e+09</td>\n",
       "      <td>1.839982e+09</td>\n",
       "      <td>2.587626</td>\n",
       "      <td>7.211580e-02</td>\n",
       "    </tr>\n",
       "    <tr>\n",
       "      <th>C(Education):C(Occupation)</th>\n",
       "      <td>6.0</td>\n",
       "      <td>3.634909e+10</td>\n",
       "      <td>6.058182e+09</td>\n",
       "      <td>8.519815</td>\n",
       "      <td>2.232500e-05</td>\n",
       "    </tr>\n",
       "    <tr>\n",
       "      <th>Residual</th>\n",
       "      <td>29.0</td>\n",
       "      <td>2.062102e+10</td>\n",
       "      <td>7.110697e+08</td>\n",
       "      <td>NaN</td>\n",
       "      <td>NaN</td>\n",
       "    </tr>\n",
       "  </tbody>\n",
       "</table>\n",
       "</div>"
      ],
      "text/plain": [
       "                              df        sum_sq       mean_sq          F  \\\n",
       "C(Education)                 2.0  1.026955e+11  5.134773e+10  72.211958   \n",
       "C(Occupation)                3.0  5.519946e+09  1.839982e+09   2.587626   \n",
       "C(Education):C(Occupation)   6.0  3.634909e+10  6.058182e+09   8.519815   \n",
       "Residual                    29.0  2.062102e+10  7.110697e+08        NaN   \n",
       "\n",
       "                                  PR(>F)  \n",
       "C(Education)                5.466264e-12  \n",
       "C(Occupation)               7.211580e-02  \n",
       "C(Education):C(Occupation)  2.232500e-05  \n",
       "Residual                             NaN  "
      ]
     },
     "execution_count": 60,
     "metadata": {},
     "output_type": "execute_result"
    }
   ],
   "source": [
    "formula = 'Salary ~ C(Education) + C(Occupation) + C(Education):C(Occupation)'\n",
    "model = ols(formula, df).fit()\n",
    "aov_table = anova_lm(model)\n",
    "(aov_table)"
   ]
  },
  {
   "cell_type": "markdown",
   "id": "d3e1d9a0",
   "metadata": {},
   "source": [
    "**Amit:  Why converting Occupation and Education into Categorical fields, they are already in Category **"
   ]
  },
  {
   "cell_type": "raw",
   "id": "f59c4a14",
   "metadata": {},
   "source": [
    "As P value is less than 0.05, we reject the null hypothesis and conclude that at 95% significance level there is an interaction between Education and Occupation. In other words, the mean salary is affected by an interaction of Education and Occupation.\n",
    "From the interaction plot, it is evident that people with Doctorate degree falls into the highest earning groups followed by Bachelors education and High school graduates."
   ]
  },
  {
   "cell_type": "markdown",
   "id": "ca0af863",
   "metadata": {},
   "source": [
    "**Amit: You have mentioned that , \"From the interaction plot, \" where is this  interaction plot, **"
   ]
  },
  {
   "cell_type": "code",
   "execution_count": null,
   "id": "f806c1a2",
   "metadata": {},
   "outputs": [],
   "source": []
  },
  {
   "cell_type": "markdown",
   "id": "97ccd2a8",
   "metadata": {},
   "source": [
    "## 1.7 Explain the business implications of performing ANOVA for this particular case study."
   ]
  },
  {
   "cell_type": "raw",
   "id": "5787cd2b",
   "metadata": {},
   "source": [
    "By conducting ANOVA analysis we can see the effect of two categorical variables namely Education and Occupation on the numeric variable Salary. It becomes very evident on how Education and Ocuupation are related to salary and also if the mean salary is same for both or not. \n",
    "Our hypothesis concluded that mean salary is same for Occupation but different for different education levels.\n",
    "Highest earning group consisted of Doctorate and lowest earning group is High school graduate.\n",
    "\n",
    "We also conducted TWO-WAY ANOVA to determine the combined effect of Education and Occupation and tried to visualise it through intersection plot and observed that there is a definite interaction between the two categories and the higher the education the more the earning."
   ]
  },
  {
   "cell_type": "markdown",
   "id": "716a91da",
   "metadata": {},
   "source": [
    "**Amit: Why you have written in above comment that \"higher the education the more the earning.\"  When you are talking about combined affect, and there is no Huge interation between Education and Occupation, I found there is Slight interaction so \"Yes\" there is some affect of Education and Occupation as a combine on Salary for sure, but not Much, becuase interaction plot is connecting to each other , for **\n",
    "\n",
    "Try following interaction chart,"
   ]
  },
  {
   "cell_type": "code",
   "execution_count": 14,
   "id": "8279497d",
   "metadata": {},
   "outputs": [
    {
     "data": {
      "image/png": "[encoded data removed]",
      "text/plain": [
       "<Figure size 432x288 with 1 Axes>"
      ]
     },
     "metadata": {
      "needs_background": "light"
     },
     "output_type": "display_data"
    }
   ],
   "source": [
    "from statsmodels.graphics.factorplots import interaction_plot\n",
    "interaction_plot(np.array(df['Occupation']),np.array(df['Education']),np.array(df['Salary']),markers=['D','^','o']);"
   ]
  },
  {
   "cell_type": "code",
   "execution_count": null,
   "id": "23eacb24",
   "metadata": {},
   "outputs": [],
   "source": []
  },
  {
   "cell_type": "markdown",
   "id": "c2a94312",
   "metadata": {},
   "source": [
    "# Problem Set 2:"
   ]
  },
  {
   "cell_type": "raw",
   "id": "683aa906",
   "metadata": {},
   "source": [
    "Let us import the data set"
   ]
  },
  {
   "cell_type": "code",
   "execution_count": 63,
   "id": "1bad72ce",
   "metadata": {},
   "outputs": [],
   "source": [
    "df1=pd.read_csv('Education+-+Post+12th+Standard.csv')"
   ]
  },
  {
   "cell_type": "code",
   "execution_count": 64,
   "id": "109e24bd",
   "metadata": {},
   "outputs": [
    {
     "data": {
      "text/html": [
       "<div>\n",
       "<style scoped>\n",
       "    .dataframe tbody tr th:only-of-type {\n",
       "        vertical-align: middle;\n",
       "    }\n",
       "\n",
       "    .dataframe tbody tr th {\n",
       "        vertical-align: top;\n",
       "    }\n",
       "\n",
       "    .dataframe thead th {\n",
       "        text-align: right;\n",
       "    }\n",
       "</style>\n",
       "<table border=\"1\" class=\"dataframe\">\n",
       "  <thead>\n",
       "    <tr style=\"text-align: right;\">\n",
       "      <th></th>\n",
       "      <th>Names</th>\n",
       "      <th>Apps</th>\n",
       "      <th>Accept</th>\n",
       "      <th>Enroll</th>\n",
       "      <th>Top10perc</th>\n",
       "      <th>Top25perc</th>\n",
       "      <th>F.Undergrad</th>\n",
       "      <th>P.Undergrad</th>\n",
       "      <th>Outstate</th>\n",
       "      <th>Room.Board</th>\n",
       "      <th>Books</th>\n",
       "      <th>Personal</th>\n",
       "      <th>PhD</th>\n",
       "      <th>Terminal</th>\n",
       "      <th>S.F.Ratio</th>\n",
       "      <th>perc.alumni</th>\n",
       "      <th>Expend</th>\n",
       "      <th>Grad.Rate</th>\n",
       "    </tr>\n",
       "  </thead>\n",
       "  <tbody>\n",
       "    <tr>\n",
       "      <th>0</th>\n",
       "      <td>Abilene Christian University</td>\n",
       "      <td>1660</td>\n",
       "      <td>1232</td>\n",
       "      <td>721</td>\n",
       "      <td>23</td>\n",
       "      <td>52</td>\n",
       "      <td>2885</td>\n",
       "      <td>537</td>\n",
       "      <td>7440</td>\n",
       "      <td>3300</td>\n",
       "      <td>450</td>\n",
       "      <td>2200</td>\n",
       "      <td>70</td>\n",
       "      <td>78</td>\n",
       "      <td>18.1</td>\n",
       "      <td>12</td>\n",
       "      <td>7041</td>\n",
       "      <td>60</td>\n",
       "    </tr>\n",
       "    <tr>\n",
       "      <th>1</th>\n",
       "      <td>Adelphi University</td>\n",
       "      <td>2186</td>\n",
       "      <td>1924</td>\n",
       "      <td>512</td>\n",
       "      <td>16</td>\n",
       "      <td>29</td>\n",
       "      <td>2683</td>\n",
       "      <td>1227</td>\n",
       "      <td>12280</td>\n",
       "      <td>6450</td>\n",
       "      <td>750</td>\n",
       "      <td>1500</td>\n",
       "      <td>29</td>\n",
       "      <td>30</td>\n",
       "      <td>12.2</td>\n",
       "      <td>16</td>\n",
       "      <td>10527</td>\n",
       "      <td>56</td>\n",
       "    </tr>\n",
       "    <tr>\n",
       "      <th>2</th>\n",
       "      <td>Adrian College</td>\n",
       "      <td>1428</td>\n",
       "      <td>1097</td>\n",
       "      <td>336</td>\n",
       "      <td>22</td>\n",
       "      <td>50</td>\n",
       "      <td>1036</td>\n",
       "      <td>99</td>\n",
       "      <td>11250</td>\n",
       "      <td>3750</td>\n",
       "      <td>400</td>\n",
       "      <td>1165</td>\n",
       "      <td>53</td>\n",
       "      <td>66</td>\n",
       "      <td>12.9</td>\n",
       "      <td>30</td>\n",
       "      <td>8735</td>\n",
       "      <td>54</td>\n",
       "    </tr>\n",
       "    <tr>\n",
       "      <th>3</th>\n",
       "      <td>Agnes Scott College</td>\n",
       "      <td>417</td>\n",
       "      <td>349</td>\n",
       "      <td>137</td>\n",
       "      <td>60</td>\n",
       "      <td>89</td>\n",
       "      <td>510</td>\n",
       "      <td>63</td>\n",
       "      <td>12960</td>\n",
       "      <td>5450</td>\n",
       "      <td>450</td>\n",
       "      <td>875</td>\n",
       "      <td>92</td>\n",
       "      <td>97</td>\n",
       "      <td>7.7</td>\n",
       "      <td>37</td>\n",
       "      <td>19016</td>\n",
       "      <td>59</td>\n",
       "    </tr>\n",
       "    <tr>\n",
       "      <th>4</th>\n",
       "      <td>Alaska Pacific University</td>\n",
       "      <td>193</td>\n",
       "      <td>146</td>\n",
       "      <td>55</td>\n",
       "      <td>16</td>\n",
       "      <td>44</td>\n",
       "      <td>249</td>\n",
       "      <td>869</td>\n",
       "      <td>7560</td>\n",
       "      <td>4120</td>\n",
       "      <td>800</td>\n",
       "      <td>1500</td>\n",
       "      <td>76</td>\n",
       "      <td>72</td>\n",
       "      <td>11.9</td>\n",
       "      <td>2</td>\n",
       "      <td>10922</td>\n",
       "      <td>15</td>\n",
       "    </tr>\n",
       "  </tbody>\n",
       "</table>\n",
       "</div>"
      ],
      "text/plain": [
       "                          Names  Apps  Accept  Enroll  Top10perc  Top25perc  \\\n",
       "0  Abilene Christian University  1660    1232     721         23         52   \n",
       "1            Adelphi University  2186    1924     512         16         29   \n",
       "2                Adrian College  1428    1097     336         22         50   \n",
       "3           Agnes Scott College   417     349     137         60         89   \n",
       "4     Alaska Pacific University   193     146      55         16         44   \n",
       "\n",
       "   F.Undergrad  P.Undergrad  Outstate  Room.Board  Books  Personal  PhD  \\\n",
       "0         2885          537      7440        3300    450      2200   70   \n",
       "1         2683         1227     12280        6450    750      1500   29   \n",
       "2         1036           99     11250        3750    400      1165   53   \n",
       "3          510           63     12960        5450    450       875   92   \n",
       "4          249          869      7560        4120    800      1500   76   \n",
       "\n",
       "   Terminal  S.F.Ratio  perc.alumni  Expend  Grad.Rate  \n",
       "0        78       18.1           12    7041         60  \n",
       "1        30       12.2           16   10527         56  \n",
       "2        66       12.9           30    8735         54  \n",
       "3        97        7.7           37   19016         59  \n",
       "4        72       11.9            2   10922         15  "
      ]
     },
     "execution_count": 64,
     "metadata": {},
     "output_type": "execute_result"
    }
   ],
   "source": [
    "df1.head()"
   ]
  },
  {
   "cell_type": "code",
   "execution_count": 65,
   "id": "95ba2f86",
   "metadata": {},
   "outputs": [
    {
     "data": {
      "text/html": [
       "<div>\n",
       "<style scoped>\n",
       "    .dataframe tbody tr th:only-of-type {\n",
       "        vertical-align: middle;\n",
       "    }\n",
       "\n",
       "    .dataframe tbody tr th {\n",
       "        vertical-align: top;\n",
       "    }\n",
       "\n",
       "    .dataframe thead th {\n",
       "        text-align: right;\n",
       "    }\n",
       "</style>\n",
       "<table border=\"1\" class=\"dataframe\">\n",
       "  <thead>\n",
       "    <tr style=\"text-align: right;\">\n",
       "      <th></th>\n",
       "      <th>Names</th>\n",
       "      <th>Apps</th>\n",
       "      <th>Accept</th>\n",
       "      <th>Enroll</th>\n",
       "      <th>Top10perc</th>\n",
       "      <th>Top25perc</th>\n",
       "      <th>F.Undergrad</th>\n",
       "      <th>P.Undergrad</th>\n",
       "      <th>Outstate</th>\n",
       "      <th>Room.Board</th>\n",
       "      <th>Books</th>\n",
       "      <th>Personal</th>\n",
       "      <th>PhD</th>\n",
       "      <th>Terminal</th>\n",
       "      <th>S.F.Ratio</th>\n",
       "      <th>perc.alumni</th>\n",
       "      <th>Expend</th>\n",
       "      <th>Grad.Rate</th>\n",
       "    </tr>\n",
       "  </thead>\n",
       "  <tbody>\n",
       "    <tr>\n",
       "      <th>772</th>\n",
       "      <td>Worcester State College</td>\n",
       "      <td>2197</td>\n",
       "      <td>1515</td>\n",
       "      <td>543</td>\n",
       "      <td>4</td>\n",
       "      <td>26</td>\n",
       "      <td>3089</td>\n",
       "      <td>2029</td>\n",
       "      <td>6797</td>\n",
       "      <td>3900</td>\n",
       "      <td>500</td>\n",
       "      <td>1200</td>\n",
       "      <td>60</td>\n",
       "      <td>60</td>\n",
       "      <td>21.0</td>\n",
       "      <td>14</td>\n",
       "      <td>4469</td>\n",
       "      <td>40</td>\n",
       "    </tr>\n",
       "    <tr>\n",
       "      <th>773</th>\n",
       "      <td>Xavier University</td>\n",
       "      <td>1959</td>\n",
       "      <td>1805</td>\n",
       "      <td>695</td>\n",
       "      <td>24</td>\n",
       "      <td>47</td>\n",
       "      <td>2849</td>\n",
       "      <td>1107</td>\n",
       "      <td>11520</td>\n",
       "      <td>4960</td>\n",
       "      <td>600</td>\n",
       "      <td>1250</td>\n",
       "      <td>73</td>\n",
       "      <td>75</td>\n",
       "      <td>13.3</td>\n",
       "      <td>31</td>\n",
       "      <td>9189</td>\n",
       "      <td>83</td>\n",
       "    </tr>\n",
       "    <tr>\n",
       "      <th>774</th>\n",
       "      <td>Xavier University of Louisiana</td>\n",
       "      <td>2097</td>\n",
       "      <td>1915</td>\n",
       "      <td>695</td>\n",
       "      <td>34</td>\n",
       "      <td>61</td>\n",
       "      <td>2793</td>\n",
       "      <td>166</td>\n",
       "      <td>6900</td>\n",
       "      <td>4200</td>\n",
       "      <td>617</td>\n",
       "      <td>781</td>\n",
       "      <td>67</td>\n",
       "      <td>75</td>\n",
       "      <td>14.4</td>\n",
       "      <td>20</td>\n",
       "      <td>8323</td>\n",
       "      <td>49</td>\n",
       "    </tr>\n",
       "    <tr>\n",
       "      <th>775</th>\n",
       "      <td>Yale University</td>\n",
       "      <td>10705</td>\n",
       "      <td>2453</td>\n",
       "      <td>1317</td>\n",
       "      <td>95</td>\n",
       "      <td>99</td>\n",
       "      <td>5217</td>\n",
       "      <td>83</td>\n",
       "      <td>19840</td>\n",
       "      <td>6510</td>\n",
       "      <td>630</td>\n",
       "      <td>2115</td>\n",
       "      <td>96</td>\n",
       "      <td>96</td>\n",
       "      <td>5.8</td>\n",
       "      <td>49</td>\n",
       "      <td>40386</td>\n",
       "      <td>99</td>\n",
       "    </tr>\n",
       "    <tr>\n",
       "      <th>776</th>\n",
       "      <td>York College of Pennsylvania</td>\n",
       "      <td>2989</td>\n",
       "      <td>1855</td>\n",
       "      <td>691</td>\n",
       "      <td>28</td>\n",
       "      <td>63</td>\n",
       "      <td>2988</td>\n",
       "      <td>1726</td>\n",
       "      <td>4990</td>\n",
       "      <td>3560</td>\n",
       "      <td>500</td>\n",
       "      <td>1250</td>\n",
       "      <td>75</td>\n",
       "      <td>75</td>\n",
       "      <td>18.1</td>\n",
       "      <td>28</td>\n",
       "      <td>4509</td>\n",
       "      <td>99</td>\n",
       "    </tr>\n",
       "  </tbody>\n",
       "</table>\n",
       "</div>"
      ],
      "text/plain": [
       "                              Names   Apps  Accept  Enroll  Top10perc  \\\n",
       "772         Worcester State College   2197    1515     543          4   \n",
       "773               Xavier University   1959    1805     695         24   \n",
       "774  Xavier University of Louisiana   2097    1915     695         34   \n",
       "775                 Yale University  10705    2453    1317         95   \n",
       "776    York College of Pennsylvania   2989    1855     691         28   \n",
       "\n",
       "     Top25perc  F.Undergrad  P.Undergrad  Outstate  Room.Board  Books  \\\n",
       "772         26         3089         2029      6797        3900    500   \n",
       "773         47         2849         1107     11520        4960    600   \n",
       "774         61         2793          166      6900        4200    617   \n",
       "775         99         5217           83     19840        6510    630   \n",
       "776         63         2988         1726      4990        3560    500   \n",
       "\n",
       "     Personal  PhD  Terminal  S.F.Ratio  perc.alumni  Expend  Grad.Rate  \n",
       "772      1200   60        60       21.0           14    4469         40  \n",
       "773      1250   73        75       13.3           31    9189         83  \n",
       "774       781   67        75       14.4           20    8323         49  \n",
       "775      2115   96        96        5.8           49   40386         99  \n",
       "776      1250   75        75       18.1           28    4509         99  "
      ]
     },
     "execution_count": 65,
     "metadata": {},
     "output_type": "execute_result"
    }
   ],
   "source": [
    "df1.tail()"
   ]
  },
  {
   "cell_type": "code",
   "execution_count": 66,
   "id": "02f93f30",
   "metadata": {},
   "outputs": [
    {
     "data": {
      "text/plain": [
       "(777, 18)"
      ]
     },
     "execution_count": 66,
     "metadata": {},
     "output_type": "execute_result"
    }
   ],
   "source": [
    "df1.shape"
   ]
  },
  {
   "cell_type": "raw",
   "id": "56997cdd",
   "metadata": {},
   "source": [
    "There are 777 rows and 18 columns in the dataset."
   ]
  },
  {
   "cell_type": "code",
   "execution_count": 67,
   "id": "4295a322",
   "metadata": {},
   "outputs": [
    {
     "name": "stdout",
     "output_type": "stream",
     "text": [
      "<class 'pandas.core.frame.DataFrame'>\n",
      "RangeIndex: 777 entries, 0 to 776\n",
      "Data columns (total 18 columns):\n",
      " #   Column       Non-Null Count  Dtype  \n",
      "---  ------       --------------  -----  \n",
      " 0   Names        777 non-null    object \n",
      " 1   Apps         777 non-null    int64  \n",
      " 2   Accept       777 non-null    int64  \n",
      " 3   Enroll       777 non-null    int64  \n",
      " 4   Top10perc    777 non-null    int64  \n",
      " 5   Top25perc    777 non-null    int64  \n",
      " 6   F.Undergrad  777 non-null    int64  \n",
      " 7   P.Undergrad  777 non-null    int64  \n",
      " 8   Outstate     777 non-null    int64  \n",
      " 9   Room.Board   777 non-null    int64  \n",
      " 10  Books        777 non-null    int64  \n",
      " 11  Personal     777 non-null    int64  \n",
      " 12  PhD          777 non-null    int64  \n",
      " 13  Terminal     777 non-null    int64  \n",
      " 14  S.F.Ratio    777 non-null    float64\n",
      " 15  perc.alumni  777 non-null    int64  \n",
      " 16  Expend       777 non-null    int64  \n",
      " 17  Grad.Rate    777 non-null    int64  \n",
      "dtypes: float64(1), int64(16), object(1)\n",
      "memory usage: 109.4+ KB\n"
     ]
    }
   ],
   "source": [
    "df1.info()"
   ]
  },
  {
   "cell_type": "raw",
   "id": "18e8f7c5",
   "metadata": {},
   "source": [
    "There are no null values in the data set and the data type of name is Object, S.F.Ratio is float64 and remaining 16 columns are int64."
   ]
  },
  {
   "cell_type": "code",
   "execution_count": 69,
   "id": "fca85120",
   "metadata": {},
   "outputs": [
    {
     "data": {
      "text/html": [
       "<div>\n",
       "<style scoped>\n",
       "    .dataframe tbody tr th:only-of-type {\n",
       "        vertical-align: middle;\n",
       "    }\n",
       "\n",
       "    .dataframe tbody tr th {\n",
       "        vertical-align: top;\n",
       "    }\n",
       "\n",
       "    .dataframe thead th {\n",
       "        text-align: right;\n",
       "    }\n",
       "</style>\n",
       "<table border=\"1\" class=\"dataframe\">\n",
       "  <thead>\n",
       "    <tr style=\"text-align: right;\">\n",
       "      <th></th>\n",
       "      <th>count</th>\n",
       "      <th>mean</th>\n",
       "      <th>std</th>\n",
       "      <th>min</th>\n",
       "      <th>25%</th>\n",
       "      <th>50%</th>\n",
       "      <th>75%</th>\n",
       "      <th>max</th>\n",
       "    </tr>\n",
       "  </thead>\n",
       "  <tbody>\n",
       "    <tr>\n",
       "      <th>Apps</th>\n",
       "      <td>777.0</td>\n",
       "      <td>3001.638353</td>\n",
       "      <td>3870.201484</td>\n",
       "      <td>81.0</td>\n",
       "      <td>776.0</td>\n",
       "      <td>1558.0</td>\n",
       "      <td>3624.0</td>\n",
       "      <td>48094.0</td>\n",
       "    </tr>\n",
       "    <tr>\n",
       "      <th>Accept</th>\n",
       "      <td>777.0</td>\n",
       "      <td>2018.804376</td>\n",
       "      <td>2451.113971</td>\n",
       "      <td>72.0</td>\n",
       "      <td>604.0</td>\n",
       "      <td>1110.0</td>\n",
       "      <td>2424.0</td>\n",
       "      <td>26330.0</td>\n",
       "    </tr>\n",
       "    <tr>\n",
       "      <th>Enroll</th>\n",
       "      <td>777.0</td>\n",
       "      <td>779.972973</td>\n",
       "      <td>929.176190</td>\n",
       "      <td>35.0</td>\n",
       "      <td>242.0</td>\n",
       "      <td>434.0</td>\n",
       "      <td>902.0</td>\n",
       "      <td>6392.0</td>\n",
       "    </tr>\n",
       "    <tr>\n",
       "      <th>Top10perc</th>\n",
       "      <td>777.0</td>\n",
       "      <td>27.558559</td>\n",
       "      <td>17.640364</td>\n",
       "      <td>1.0</td>\n",
       "      <td>15.0</td>\n",
       "      <td>23.0</td>\n",
       "      <td>35.0</td>\n",
       "      <td>96.0</td>\n",
       "    </tr>\n",
       "    <tr>\n",
       "      <th>Top25perc</th>\n",
       "      <td>777.0</td>\n",
       "      <td>55.796654</td>\n",
       "      <td>19.804778</td>\n",
       "      <td>9.0</td>\n",
       "      <td>41.0</td>\n",
       "      <td>54.0</td>\n",
       "      <td>69.0</td>\n",
       "      <td>100.0</td>\n",
       "    </tr>\n",
       "    <tr>\n",
       "      <th>F.Undergrad</th>\n",
       "      <td>777.0</td>\n",
       "      <td>3699.907336</td>\n",
       "      <td>4850.420531</td>\n",
       "      <td>139.0</td>\n",
       "      <td>992.0</td>\n",
       "      <td>1707.0</td>\n",
       "      <td>4005.0</td>\n",
       "      <td>31643.0</td>\n",
       "    </tr>\n",
       "    <tr>\n",
       "      <th>P.Undergrad</th>\n",
       "      <td>777.0</td>\n",
       "      <td>855.298584</td>\n",
       "      <td>1522.431887</td>\n",
       "      <td>1.0</td>\n",
       "      <td>95.0</td>\n",
       "      <td>353.0</td>\n",
       "      <td>967.0</td>\n",
       "      <td>21836.0</td>\n",
       "    </tr>\n",
       "    <tr>\n",
       "      <th>Outstate</th>\n",
       "      <td>777.0</td>\n",
       "      <td>10440.669241</td>\n",
       "      <td>4023.016484</td>\n",
       "      <td>2340.0</td>\n",
       "      <td>7320.0</td>\n",
       "      <td>9990.0</td>\n",
       "      <td>12925.0</td>\n",
       "      <td>21700.0</td>\n",
       "    </tr>\n",
       "    <tr>\n",
       "      <th>Room.Board</th>\n",
       "      <td>777.0</td>\n",
       "      <td>4357.526384</td>\n",
       "      <td>1096.696416</td>\n",
       "      <td>1780.0</td>\n",
       "      <td>3597.0</td>\n",
       "      <td>4200.0</td>\n",
       "      <td>5050.0</td>\n",
       "      <td>8124.0</td>\n",
       "    </tr>\n",
       "    <tr>\n",
       "      <th>Books</th>\n",
       "      <td>777.0</td>\n",
       "      <td>549.380952</td>\n",
       "      <td>165.105360</td>\n",
       "      <td>96.0</td>\n",
       "      <td>470.0</td>\n",
       "      <td>500.0</td>\n",
       "      <td>600.0</td>\n",
       "      <td>2340.0</td>\n",
       "    </tr>\n",
       "    <tr>\n",
       "      <th>Personal</th>\n",
       "      <td>777.0</td>\n",
       "      <td>1340.642214</td>\n",
       "      <td>677.071454</td>\n",
       "      <td>250.0</td>\n",
       "      <td>850.0</td>\n",
       "      <td>1200.0</td>\n",
       "      <td>1700.0</td>\n",
       "      <td>6800.0</td>\n",
       "    </tr>\n",
       "    <tr>\n",
       "      <th>PhD</th>\n",
       "      <td>777.0</td>\n",
       "      <td>72.660232</td>\n",
       "      <td>16.328155</td>\n",
       "      <td>8.0</td>\n",
       "      <td>62.0</td>\n",
       "      <td>75.0</td>\n",
       "      <td>85.0</td>\n",
       "      <td>103.0</td>\n",
       "    </tr>\n",
       "    <tr>\n",
       "      <th>Terminal</th>\n",
       "      <td>777.0</td>\n",
       "      <td>79.702703</td>\n",
       "      <td>14.722359</td>\n",
       "      <td>24.0</td>\n",
       "      <td>71.0</td>\n",
       "      <td>82.0</td>\n",
       "      <td>92.0</td>\n",
       "      <td>100.0</td>\n",
       "    </tr>\n",
       "    <tr>\n",
       "      <th>S.F.Ratio</th>\n",
       "      <td>777.0</td>\n",
       "      <td>14.089704</td>\n",
       "      <td>3.958349</td>\n",
       "      <td>2.5</td>\n",
       "      <td>11.5</td>\n",
       "      <td>13.6</td>\n",
       "      <td>16.5</td>\n",
       "      <td>39.8</td>\n",
       "    </tr>\n",
       "    <tr>\n",
       "      <th>perc.alumni</th>\n",
       "      <td>777.0</td>\n",
       "      <td>22.743887</td>\n",
       "      <td>12.391801</td>\n",
       "      <td>0.0</td>\n",
       "      <td>13.0</td>\n",
       "      <td>21.0</td>\n",
       "      <td>31.0</td>\n",
       "      <td>64.0</td>\n",
       "    </tr>\n",
       "    <tr>\n",
       "      <th>Expend</th>\n",
       "      <td>777.0</td>\n",
       "      <td>9660.171171</td>\n",
       "      <td>5221.768440</td>\n",
       "      <td>3186.0</td>\n",
       "      <td>6751.0</td>\n",
       "      <td>8377.0</td>\n",
       "      <td>10830.0</td>\n",
       "      <td>56233.0</td>\n",
       "    </tr>\n",
       "    <tr>\n",
       "      <th>Grad.Rate</th>\n",
       "      <td>777.0</td>\n",
       "      <td>65.463320</td>\n",
       "      <td>17.177710</td>\n",
       "      <td>10.0</td>\n",
       "      <td>53.0</td>\n",
       "      <td>65.0</td>\n",
       "      <td>78.0</td>\n",
       "      <td>118.0</td>\n",
       "    </tr>\n",
       "  </tbody>\n",
       "</table>\n",
       "</div>"
      ],
      "text/plain": [
       "             count          mean          std     min     25%     50%  \\\n",
       "Apps         777.0   3001.638353  3870.201484    81.0   776.0  1558.0   \n",
       "Accept       777.0   2018.804376  2451.113971    72.0   604.0  1110.0   \n",
       "Enroll       777.0    779.972973   929.176190    35.0   242.0   434.0   \n",
       "Top10perc    777.0     27.558559    17.640364     1.0    15.0    23.0   \n",
       "Top25perc    777.0     55.796654    19.804778     9.0    41.0    54.0   \n",
       "F.Undergrad  777.0   3699.907336  4850.420531   139.0   992.0  1707.0   \n",
       "P.Undergrad  777.0    855.298584  1522.431887     1.0    95.0   353.0   \n",
       "Outstate     777.0  10440.669241  4023.016484  2340.0  7320.0  9990.0   \n",
       "Room.Board   777.0   4357.526384  1096.696416  1780.0  3597.0  4200.0   \n",
       "Books        777.0    549.380952   165.105360    96.0   470.0   500.0   \n",
       "Personal     777.0   1340.642214   677.071454   250.0   850.0  1200.0   \n",
       "PhD          777.0     72.660232    16.328155     8.0    62.0    75.0   \n",
       "Terminal     777.0     79.702703    14.722359    24.0    71.0    82.0   \n",
       "S.F.Ratio    777.0     14.089704     3.958349     2.5    11.5    13.6   \n",
       "perc.alumni  777.0     22.743887    12.391801     0.0    13.0    21.0   \n",
       "Expend       777.0   9660.171171  5221.768440  3186.0  6751.0  8377.0   \n",
       "Grad.Rate    777.0     65.463320    17.177710    10.0    53.0    65.0   \n",
       "\n",
       "                 75%      max  \n",
       "Apps          3624.0  48094.0  \n",
       "Accept        2424.0  26330.0  \n",
       "Enroll         902.0   6392.0  \n",
       "Top10perc       35.0     96.0  \n",
       "Top25perc       69.0    100.0  \n",
       "F.Undergrad   4005.0  31643.0  \n",
       "P.Undergrad    967.0  21836.0  \n",
       "Outstate     12925.0  21700.0  \n",
       "Room.Board    5050.0   8124.0  \n",
       "Books          600.0   2340.0  \n",
       "Personal      1700.0   6800.0  \n",
       "PhD             85.0    103.0  \n",
       "Terminal        92.0    100.0  \n",
       "S.F.Ratio       16.5     39.8  \n",
       "perc.alumni     31.0     64.0  \n",
       "Expend       10830.0  56233.0  \n",
       "Grad.Rate       78.0    118.0  "
      ]
     },
     "execution_count": 69,
     "metadata": {},
     "output_type": "execute_result"
    }
   ],
   "source": [
    "df1.describe().T"
   ]
  },
  {
   "cell_type": "raw",
   "id": "1d82369a",
   "metadata": {},
   "source": [
    "Based on the above data we do not find any bad data in the dataset."
   ]
  },
  {
   "cell_type": "code",
   "execution_count": 70,
   "id": "cf69aa8f",
   "metadata": {},
   "outputs": [
    {
     "data": {
      "text/plain": [
       "0"
      ]
     },
     "execution_count": 70,
     "metadata": {},
     "output_type": "execute_result"
    }
   ],
   "source": [
    "df1.duplicated().sum()"
   ]
  },
  {
   "cell_type": "raw",
   "id": "8b49c929",
   "metadata": {},
   "source": [
    "There are no duplicated data"
   ]
  },
  {
   "cell_type": "code",
   "execution_count": null,
   "id": "80c8856e",
   "metadata": {},
   "outputs": [],
   "source": []
  },
  {
   "cell_type": "markdown",
   "id": "f9c980b6",
   "metadata": {},
   "source": [
    "## 2.1 Perform Exploratory Data Analysis [both univariate and multivariate analysis to be performed]. What insight do you draw from the EDA?"
   ]
  },
  {
   "cell_type": "code",
   "execution_count": 98,
   "id": "f02e1ba7",
   "metadata": {},
   "outputs": [
    {
     "data": {
      "text/plain": [
       "17"
      ]
     },
     "execution_count": 98,
     "metadata": {},
     "output_type": "execute_result"
    }
   ],
   "source": [
    "df_num = df1.select_dtypes(include = ['float64', 'int64'])\n",
    "lstnumericcolumns = list(df_num.columns.values)\n",
    "len(lstnumericcolumns)"
   ]
  },
  {
   "cell_type": "code",
   "execution_count": 99,
   "id": "afaa1a83",
   "metadata": {},
   "outputs": [
    {
     "data": {
      "text/html": [
       "<div>\n",
       "<style scoped>\n",
       "    .dataframe tbody tr th:only-of-type {\n",
       "        vertical-align: middle;\n",
       "    }\n",
       "\n",
       "    .dataframe tbody tr th {\n",
       "        vertical-align: top;\n",
       "    }\n",
       "\n",
       "    .dataframe thead th {\n",
       "        text-align: right;\n",
       "    }\n",
       "</style>\n",
       "<table border=\"1\" class=\"dataframe\">\n",
       "  <thead>\n",
       "    <tr style=\"text-align: right;\">\n",
       "      <th></th>\n",
       "      <th>Apps</th>\n",
       "      <th>Accept</th>\n",
       "      <th>Enroll</th>\n",
       "      <th>Top10perc</th>\n",
       "      <th>Top25perc</th>\n",
       "      <th>F.Undergrad</th>\n",
       "      <th>P.Undergrad</th>\n",
       "      <th>Outstate</th>\n",
       "      <th>Room.Board</th>\n",
       "      <th>Books</th>\n",
       "      <th>Personal</th>\n",
       "      <th>PhD</th>\n",
       "      <th>Terminal</th>\n",
       "      <th>S.F.Ratio</th>\n",
       "      <th>perc.alumni</th>\n",
       "      <th>Expend</th>\n",
       "      <th>Grad.Rate</th>\n",
       "    </tr>\n",
       "  </thead>\n",
       "  <tbody>\n",
       "    <tr>\n",
       "      <th>0</th>\n",
       "      <td>1660</td>\n",
       "      <td>1232</td>\n",
       "      <td>721</td>\n",
       "      <td>23</td>\n",
       "      <td>52</td>\n",
       "      <td>2885</td>\n",
       "      <td>537</td>\n",
       "      <td>7440</td>\n",
       "      <td>3300</td>\n",
       "      <td>450</td>\n",
       "      <td>2200</td>\n",
       "      <td>70</td>\n",
       "      <td>78</td>\n",
       "      <td>18.1</td>\n",
       "      <td>12</td>\n",
       "      <td>7041</td>\n",
       "      <td>60</td>\n",
       "    </tr>\n",
       "    <tr>\n",
       "      <th>1</th>\n",
       "      <td>2186</td>\n",
       "      <td>1924</td>\n",
       "      <td>512</td>\n",
       "      <td>16</td>\n",
       "      <td>29</td>\n",
       "      <td>2683</td>\n",
       "      <td>1227</td>\n",
       "      <td>12280</td>\n",
       "      <td>6450</td>\n",
       "      <td>750</td>\n",
       "      <td>1500</td>\n",
       "      <td>29</td>\n",
       "      <td>30</td>\n",
       "      <td>12.2</td>\n",
       "      <td>16</td>\n",
       "      <td>10527</td>\n",
       "      <td>56</td>\n",
       "    </tr>\n",
       "    <tr>\n",
       "      <th>2</th>\n",
       "      <td>1428</td>\n",
       "      <td>1097</td>\n",
       "      <td>336</td>\n",
       "      <td>22</td>\n",
       "      <td>50</td>\n",
       "      <td>1036</td>\n",
       "      <td>99</td>\n",
       "      <td>11250</td>\n",
       "      <td>3750</td>\n",
       "      <td>400</td>\n",
       "      <td>1165</td>\n",
       "      <td>53</td>\n",
       "      <td>66</td>\n",
       "      <td>12.9</td>\n",
       "      <td>30</td>\n",
       "      <td>8735</td>\n",
       "      <td>54</td>\n",
       "    </tr>\n",
       "    <tr>\n",
       "      <th>3</th>\n",
       "      <td>417</td>\n",
       "      <td>349</td>\n",
       "      <td>137</td>\n",
       "      <td>60</td>\n",
       "      <td>89</td>\n",
       "      <td>510</td>\n",
       "      <td>63</td>\n",
       "      <td>12960</td>\n",
       "      <td>5450</td>\n",
       "      <td>450</td>\n",
       "      <td>875</td>\n",
       "      <td>92</td>\n",
       "      <td>97</td>\n",
       "      <td>7.7</td>\n",
       "      <td>37</td>\n",
       "      <td>19016</td>\n",
       "      <td>59</td>\n",
       "    </tr>\n",
       "    <tr>\n",
       "      <th>4</th>\n",
       "      <td>193</td>\n",
       "      <td>146</td>\n",
       "      <td>55</td>\n",
       "      <td>16</td>\n",
       "      <td>44</td>\n",
       "      <td>249</td>\n",
       "      <td>869</td>\n",
       "      <td>7560</td>\n",
       "      <td>4120</td>\n",
       "      <td>800</td>\n",
       "      <td>1500</td>\n",
       "      <td>76</td>\n",
       "      <td>72</td>\n",
       "      <td>11.9</td>\n",
       "      <td>2</td>\n",
       "      <td>10922</td>\n",
       "      <td>15</td>\n",
       "    </tr>\n",
       "  </tbody>\n",
       "</table>\n",
       "</div>"
      ],
      "text/plain": [
       "   Apps  Accept  Enroll  Top10perc  Top25perc  F.Undergrad  P.Undergrad  \\\n",
       "0  1660    1232     721         23         52         2885          537   \n",
       "1  2186    1924     512         16         29         2683         1227   \n",
       "2  1428    1097     336         22         50         1036           99   \n",
       "3   417     349     137         60         89          510           63   \n",
       "4   193     146      55         16         44          249          869   \n",
       "\n",
       "   Outstate  Room.Board  Books  Personal  PhD  Terminal  S.F.Ratio  \\\n",
       "0      7440        3300    450      2200   70        78       18.1   \n",
       "1     12280        6450    750      1500   29        30       12.2   \n",
       "2     11250        3750    400      1165   53        66       12.9   \n",
       "3     12960        5450    450       875   92        97        7.7   \n",
       "4      7560        4120    800      1500   76        72       11.9   \n",
       "\n",
       "   perc.alumni  Expend  Grad.Rate  \n",
       "0           12    7041         60  \n",
       "1           16   10527         56  \n",
       "2           30    8735         54  \n",
       "3           37   19016         59  \n",
       "4            2   10922         15  "
      ]
     },
     "execution_count": 99,
     "metadata": {},
     "output_type": "execute_result"
    }
   ],
   "source": [
    "df_num.head()"
   ]
  },
  {
   "cell_type": "code",
   "execution_count": 76,
   "id": "a82f1175",
   "metadata": {},
   "outputs": [
    {
     "data": {
      "text/plain": [
       "(777, 17)"
      ]
     },
     "execution_count": 76,
     "metadata": {},
     "output_type": "execute_result"
    }
   ],
   "source": [
    "df_num.shape"
   ]
  },
  {
   "cell_type": "markdown",
   "id": "de86cde2",
   "metadata": {},
   "source": [
    "#### Univariate analysis"
   ]
  },
  {
   "cell_type": "code",
   "execution_count": 121,
   "id": "9286b81b",
   "metadata": {},
   "outputs": [],
   "source": [
    "def univariateAnalysis_numeric(column,nbins):\n",
    "    print(\"Description of \" + column)\n",
    "    print(\"----------------------------------------------------------------------------\")\n",
    "    print(df_num[column].describe(),end=' ')\n",
    "    \n",
    "    \n",
    "    plt.figure(figsize=(12,5))\n",
    "    print(\"Distribution of \" + column)\n",
    "    print(\"----------------------------------------------------------------------------\")\n",
    "    sns.displot(df_num[column], kde=True, color='r',bins=nbins);\n",
    "    plt.show()\n",
    "    \n",
    "    plt.figure(figsize=(6,3))\n",
    "    print(\"BoxPlot of \" + column)\n",
    "    print(\"----------------------------------------------------------------------------\")\n",
    "    ax = sns.boxplot(x=df_num[column])\n",
    "    plt.show()"
   ]
  },
  {
   "cell_type": "code",
   "execution_count": 122,
   "id": "7c232b3a",
   "metadata": {},
   "outputs": [
    {
     "name": "stdout",
     "output_type": "stream",
     "text": [
      "Description of Apps\n",
      "----------------------------------------------------------------------------\n",
      "count      777.000000\n",
      "mean      3001.638353\n",
      "std       3870.201484\n",
      "min         81.000000\n",
      "25%        776.000000\n",
      "50%       1558.000000\n",
      "75%       3624.000000\n",
      "max      48094.000000\n",
      "Name: Apps, dtype: float64 Distribution of Apps\n",
      "----------------------------------------------------------------------------\n"
     ]
    },
    {
     "data": {
      "text/plain": [
       "<Figure size 864x360 with 0 Axes>"
      ]
     },
     "metadata": {},
     "output_type": "display_data"
    },
    {
     "data": {
      "image/png": "[encoded data removed]",
      "text/plain": [
       "<Figure size 360x360 with 1 Axes>"
      ]
     },
     "metadata": {
      "needs_background": "light"
     },
     "output_type": "display_data"
    },
    {
     "name": "stdout",
     "output_type": "stream",
     "text": [
      "BoxPlot of Apps\n",
      "----------------------------------------------------------------------------\n"
     ]
    },
    {
     "data": {
      "image/png": "[encoded data removed]",
      "text/plain": [
       "<Figure size 432x216 with 1 Axes>"
      ]
     },
     "metadata": {
      "needs_background": "light"
     },
     "output_type": "display_data"
    },
    {
     "name": "stdout",
     "output_type": "stream",
     "text": [
      "Description of Accept\n",
      "----------------------------------------------------------------------------\n",
      "count      777.000000\n",
      "mean      2018.804376\n",
      "std       2451.113971\n",
      "min         72.000000\n",
      "25%        604.000000\n",
      "50%       1110.000000\n",
      "75%       2424.000000\n",
      "max      26330.000000\n",
      "Name: Accept, dtype: float64 Distribution of Accept\n",
      "----------------------------------------------------------------------------\n"
     ]
    },
    {
     "data": {
      "text/plain": [
       "<Figure size 864x360 with 0 Axes>"
      ]
     },
     "metadata": {},
     "output_type": "display_data"
    },
    {
     "data": {
      "image/png": "[encoded data removed]",
      "text/plain": [
       "<Figure size 360x360 with 1 Axes>"
      ]
     },
     "metadata": {
      "needs_background": "light"
     },
     "output_type": "display_data"
    },
    {
     "name": "stdout",
     "output_type": "stream",
     "text": [
      "BoxPlot of Accept\n",
      "----------------------------------------------------------------------------\n"
     ]
    },
    {
     "data": {
      "image/png": "[encoded data removed]",
      "text/plain": [
       "<Figure size 432x216 with 1 Axes>"
      ]
     },
     "metadata": {
      "needs_background": "light"
     },
     "output_type": "display_data"
    },
    {
     "name": "stdout",
     "output_type": "stream",
     "text": [
      "Description of Enroll\n",
      "----------------------------------------------------------------------------\n",
      "count     777.000000\n",
      "mean      779.972973\n",
      "std       929.176190\n",
      "min        35.000000\n",
      "25%       242.000000\n",
      "50%       434.000000\n",
      "75%       902.000000\n",
      "max      6392.000000\n",
      "Name: Enroll, dtype: float64 Distribution of Enroll\n",
      "----------------------------------------------------------------------------\n"
     ]
    },
    {
     "data": {
      "text/plain": [
       "<Figure size 864x360 with 0 Axes>"
      ]
     },
     "metadata": {},
     "output_type": "display_data"
    },
    {
     "data": {
      "image/png": "[encoded data removed]",
      "text/plain": [
       "<Figure size 360x360 with 1 Axes>"
      ]
     },
     "metadata": {
      "needs_background": "light"
     },
     "output_type": "display_data"
    },
    {
     "name": "stdout",
     "output_type": "stream",
     "text": [
      "BoxPlot of Enroll\n",
      "----------------------------------------------------------------------------\n"
     ]
    },
    {
     "data": {
      "image/png": "[encoded data removed]",
      "text/plain": [
       "<Figure size 432x216 with 1 Axes>"
      ]
     },
     "metadata": {
      "needs_background": "light"
     },
     "output_type": "display_data"
    },
    {
     "name": "stdout",
     "output_type": "stream",
     "text": [
      "Description of Top10perc\n",
      "----------------------------------------------------------------------------\n",
      "count    777.000000\n",
      "mean      27.558559\n",
      "std       17.640364\n",
      "min        1.000000\n",
      "25%       15.000000\n",
      "50%       23.000000\n",
      "75%       35.000000\n",
      "max       96.000000\n",
      "Name: Top10perc, dtype: float64 Distribution of Top10perc\n",
      "----------------------------------------------------------------------------\n"
     ]
    },
    {
     "data": {
      "text/plain": [
       "<Figure size 864x360 with 0 Axes>"
      ]
     },
     "metadata": {},
     "output_type": "display_data"
    },
    {
     "data": {
      "image/png": "[encoded data removed]",
      "text/plain": [
       "<Figure size 360x360 with 1 Axes>"
      ]
     },
     "metadata": {
      "needs_background": "light"
     },
     "output_type": "display_data"
    },
    {
     "name": "stdout",
     "output_type": "stream",
     "text": [
      "BoxPlot of Top10perc\n",
      "----------------------------------------------------------------------------\n"
     ]
    },
    {
     "data": {
      "image/png": "[encoded data removed]",
      "text/plain": [
       "<Figure size 432x216 with 1 Axes>"
      ]
     },
     "metadata": {
      "needs_background": "light"
     },
     "output_type": "display_data"
    },
    {
     "name": "stdout",
     "output_type": "stream",
     "text": [
      "Description of Top25perc\n",
      "----------------------------------------------------------------------------\n",
      "count    777.000000\n",
      "mean      55.796654\n",
      "std       19.804778\n",
      "min        9.000000\n",
      "25%       41.000000\n",
      "50%       54.000000\n",
      "75%       69.000000\n",
      "max      100.000000\n",
      "Name: Top25perc, dtype: float64 Distribution of Top25perc\n",
      "----------------------------------------------------------------------------\n"
     ]
    },
    {
     "data": {
      "text/plain": [
       "<Figure size 864x360 with 0 Axes>"
      ]
     },
     "metadata": {},
     "output_type": "display_data"
    },
    {
     "data": {
      "image/png": "[encoded data removed]",
      "text/plain": [
       "<Figure size 360x360 with 1 Axes>"
      ]
     },
     "metadata": {
      "needs_background": "light"
     },
     "output_type": "display_data"
    },
    {
     "name": "stdout",
     "output_type": "stream",
     "text": [
      "BoxPlot of Top25perc\n",
      "----------------------------------------------------------------------------\n"
     ]
    },
    {
     "data": {
      "image/png": "[encoded data removed]",
      "text/plain": [
       "<Figure size 432x216 with 1 Axes>"
      ]
     },
     "metadata": {
      "needs_background": "light"
     },
     "output_type": "display_data"
    },
    {
     "name": "stdout",
     "output_type": "stream",
     "text": [
      "Description of F.Undergrad\n",
      "----------------------------------------------------------------------------\n",
      "count      777.000000\n",
      "mean      3699.907336\n",
      "std       4850.420531\n",
      "min        139.000000\n",
      "25%        992.000000\n",
      "50%       1707.000000\n",
      "75%       4005.000000\n",
      "max      31643.000000\n",
      "Name: F.Undergrad, dtype: float64 Distribution of F.Undergrad\n",
      "----------------------------------------------------------------------------\n"
     ]
    },
    {
     "data": {
      "text/plain": [
       "<Figure size 864x360 with 0 Axes>"
      ]
     },
     "metadata": {},
     "output_type": "display_data"
    },
    {
     "data": {
      "image/png": "[encoded data removed]",
      "text/plain": [
       "<Figure size 360x360 with 1 Axes>"
      ]
     },
     "metadata": {
      "needs_background": "light"
     },
     "output_type": "display_data"
    },
    {
     "name": "stdout",
     "output_type": "stream",
     "text": [
      "BoxPlot of F.Undergrad\n",
      "----------------------------------------------------------------------------\n"
     ]
    },
    {
     "data": {
      "image/png": "[encoded data removed]",
      "text/plain": [
       "<Figure size 432x216 with 1 Axes>"
      ]
     },
     "metadata": {
      "needs_background": "light"
     },
     "output_type": "display_data"
    },
    {
     "name": "stdout",
     "output_type": "stream",
     "text": [
      "Description of P.Undergrad\n",
      "----------------------------------------------------------------------------\n",
      "count      777.000000\n",
      "mean       855.298584\n",
      "std       1522.431887\n",
      "min          1.000000\n",
      "25%         95.000000\n",
      "50%        353.000000\n",
      "75%        967.000000\n",
      "max      21836.000000\n",
      "Name: P.Undergrad, dtype: float64 Distribution of P.Undergrad\n",
      "----------------------------------------------------------------------------\n"
     ]
    },
    {
     "data": {
      "text/plain": [
       "<Figure size 864x360 with 0 Axes>"
      ]
     },
     "metadata": {},
     "output_type": "display_data"
    },
    {
     "data": {
      "image/png": "[encoded data removed]",
      "text/plain": [
       "<Figure size 360x360 with 1 Axes>"
      ]
     },
     "metadata": {
      "needs_background": "light"
     },
     "output_type": "display_data"
    },
    {
     "name": "stdout",
     "output_type": "stream",
     "text": [
      "BoxPlot of P.Undergrad\n",
      "----------------------------------------------------------------------------\n"
     ]
    },
    {
     "data": {
      "image/png": "[encoded data removed]",
      "text/plain": [
       "<Figure size 432x216 with 1 Axes>"
      ]
     },
     "metadata": {
      "needs_background": "light"
     },
     "output_type": "display_data"
    },
    {
     "name": "stdout",
     "output_type": "stream",
     "text": [
      "Description of Outstate\n",
      "----------------------------------------------------------------------------\n",
      "count      777.000000\n",
      "mean     10440.669241\n",
      "std       4023.016484\n",
      "min       2340.000000\n",
      "25%       7320.000000\n",
      "50%       9990.000000\n",
      "75%      12925.000000\n",
      "max      21700.000000\n",
      "Name: Outstate, dtype: float64 Distribution of Outstate\n",
      "----------------------------------------------------------------------------\n"
     ]
    },
    {
     "data": {
      "text/plain": [
       "<Figure size 864x360 with 0 Axes>"
      ]
     },
     "metadata": {},
     "output_type": "display_data"
    },
    {
     "data": {
      "image/png": "[encoded data removed]",
      "text/plain": [
       "<Figure size 360x360 with 1 Axes>"
      ]
     },
     "metadata": {
      "needs_background": "light"
     },
     "output_type": "display_data"
    },
    {
     "name": "stdout",
     "output_type": "stream",
     "text": [
      "BoxPlot of Outstate\n",
      "----------------------------------------------------------------------------\n"
     ]
    },
    {
     "data": {
      "image/png": "[encoded data removed]",
      "text/plain": [
       "<Figure size 432x216 with 1 Axes>"
      ]
     },
     "metadata": {
      "needs_background": "light"
     },
     "output_type": "display_data"
    },
    {
     "name": "stdout",
     "output_type": "stream",
     "text": [
      "Description of Room.Board\n",
      "----------------------------------------------------------------------------\n",
      "count     777.000000\n",
      "mean     4357.526384\n",
      "std      1096.696416\n",
      "min      1780.000000\n",
      "25%      3597.000000\n",
      "50%      4200.000000\n",
      "75%      5050.000000\n",
      "max      8124.000000\n",
      "Name: Room.Board, dtype: float64 Distribution of Room.Board\n",
      "----------------------------------------------------------------------------\n"
     ]
    },
    {
     "data": {
      "text/plain": [
       "<Figure size 864x360 with 0 Axes>"
      ]
     },
     "metadata": {},
     "output_type": "display_data"
    },
    {
     "data": {
      "image/png": "[encoded data removed]",
      "text/plain": [
       "<Figure size 360x360 with 1 Axes>"
      ]
     },
     "metadata": {
      "needs_background": "light"
     },
     "output_type": "display_data"
    },
    {
     "name": "stdout",
     "output_type": "stream",
     "text": [
      "BoxPlot of Room.Board\n",
      "----------------------------------------------------------------------------\n"
     ]
    },
    {
     "data": {
      "image/png": "[encoded data removed]",
      "text/plain": [
       "<Figure size 432x216 with 1 Axes>"
      ]
     },
     "metadata": {
      "needs_background": "light"
     },
     "output_type": "display_data"
    },
    {
     "name": "stdout",
     "output_type": "stream",
     "text": [
      "Description of Books\n",
      "----------------------------------------------------------------------------\n",
      "count     777.000000\n",
      "mean      549.380952\n",
      "std       165.105360\n",
      "min        96.000000\n",
      "25%       470.000000\n",
      "50%       500.000000\n",
      "75%       600.000000\n",
      "max      2340.000000\n",
      "Name: Books, dtype: float64 Distribution of Books\n",
      "----------------------------------------------------------------------------\n"
     ]
    },
    {
     "data": {
      "text/plain": [
       "<Figure size 864x360 with 0 Axes>"
      ]
     },
     "metadata": {},
     "output_type": "display_data"
    },
    {
     "data": {
      "image/png": "[encoded data removed]",
      "text/plain": [
       "<Figure size 360x360 with 1 Axes>"
      ]
     },
     "metadata": {
      "needs_background": "light"
     },
     "output_type": "display_data"
    },
    {
     "name": "stdout",
     "output_type": "stream",
     "text": [
      "BoxPlot of Books\n",
      "----------------------------------------------------------------------------\n"
     ]
    },
    {
     "data": {
      "image/png": "[encoded data removed]",
      "text/plain": [
       "<Figure size 432x216 with 1 Axes>"
      ]
     },
     "metadata": {
      "needs_background": "light"
     },
     "output_type": "display_data"
    },
    {
     "name": "stdout",
     "output_type": "stream",
     "text": [
      "Description of Personal\n",
      "----------------------------------------------------------------------------\n",
      "count     777.000000\n",
      "mean     1340.642214\n",
      "std       677.071454\n",
      "min       250.000000\n",
      "25%       850.000000\n",
      "50%      1200.000000\n",
      "75%      1700.000000\n",
      "max      6800.000000\n",
      "Name: Personal, dtype: float64 Distribution of Personal\n",
      "----------------------------------------------------------------------------\n"
     ]
    },
    {
     "data": {
      "text/plain": [
       "<Figure size 864x360 with 0 Axes>"
      ]
     },
     "metadata": {},
     "output_type": "display_data"
    },
    {
     "data": {
      "image/png": "[encoded data removed]",
      "text/plain": [
       "<Figure size 360x360 with 1 Axes>"
      ]
     },
     "metadata": {
      "needs_background": "light"
     },
     "output_type": "display_data"
    },
    {
     "name": "stdout",
     "output_type": "stream",
     "text": [
      "BoxPlot of Personal\n",
      "----------------------------------------------------------------------------\n"
     ]
    },
    {
     "data": {
      "image/png": "[encoded data removed]",
      "text/plain": [
       "<Figure size 432x216 with 1 Axes>"
      ]
     },
     "metadata": {
      "needs_background": "light"
     },
     "output_type": "display_data"
    },
    {
     "name": "stdout",
     "output_type": "stream",
     "text": [
      "Description of PhD\n",
      "----------------------------------------------------------------------------\n",
      "count    777.000000\n",
      "mean      72.660232\n",
      "std       16.328155\n",
      "min        8.000000\n",
      "25%       62.000000\n",
      "50%       75.000000\n",
      "75%       85.000000\n",
      "max      103.000000\n",
      "Name: PhD, dtype: float64 Distribution of PhD\n",
      "----------------------------------------------------------------------------\n"
     ]
    },
    {
     "data": {
      "text/plain": [
       "<Figure size 864x360 with 0 Axes>"
      ]
     },
     "metadata": {},
     "output_type": "display_data"
    },
    {
     "data": {
      "image/png": "[encoded data removed]",
      "text/plain": [
       "<Figure size 360x360 with 1 Axes>"
      ]
     },
     "metadata": {
      "needs_background": "light"
     },
     "output_type": "display_data"
    },
    {
     "name": "stdout",
     "output_type": "stream",
     "text": [
      "BoxPlot of PhD\n",
      "----------------------------------------------------------------------------\n"
     ]
    },
    {
     "data": {
      "image/png": "[encoded data removed]",
      "text/plain": [
       "<Figure size 432x216 with 1 Axes>"
      ]
     },
     "metadata": {
      "needs_background": "light"
     },
     "output_type": "display_data"
    },
    {
     "name": "stdout",
     "output_type": "stream",
     "text": [
      "Description of Terminal\n",
      "----------------------------------------------------------------------------\n",
      "count    777.000000\n",
      "mean      79.702703\n",
      "std       14.722359\n",
      "min       24.000000\n",
      "25%       71.000000\n",
      "50%       82.000000\n",
      "75%       92.000000\n",
      "max      100.000000\n",
      "Name: Terminal, dtype: float64 Distribution of Terminal\n",
      "----------------------------------------------------------------------------\n"
     ]
    },
    {
     "data": {
      "text/plain": [
       "<Figure size 864x360 with 0 Axes>"
      ]
     },
     "metadata": {},
     "output_type": "display_data"
    },
    {
     "data": {
      "image/png": "[encoded data removed]",
      "text/plain": [
       "<Figure size 360x360 with 1 Axes>"
      ]
     },
     "metadata": {
      "needs_background": "light"
     },
     "output_type": "display_data"
    },
    {
     "name": "stdout",
     "output_type": "stream",
     "text": [
      "BoxPlot of Terminal\n",
      "----------------------------------------------------------------------------\n"
     ]
    },
    {
     "data": {
      "image/png": "[encoded data removed]",
      "text/plain": [
       "<Figure size 432x216 with 1 Axes>"
      ]
     },
     "metadata": {
      "needs_background": "light"
     },
     "output_type": "display_data"
    },
    {
     "name": "stdout",
     "output_type": "stream",
     "text": [
      "Description of S.F.Ratio\n",
      "----------------------------------------------------------------------------\n",
      "count    777.000000\n",
      "mean      14.089704\n",
      "std        3.958349\n",
      "min        2.500000\n",
      "25%       11.500000\n",
      "50%       13.600000\n",
      "75%       16.500000\n",
      "max       39.800000\n",
      "Name: S.F.Ratio, dtype: float64 Distribution of S.F.Ratio\n",
      "----------------------------------------------------------------------------\n"
     ]
    },
    {
     "data": {
      "text/plain": [
       "<Figure size 864x360 with 0 Axes>"
      ]
     },
     "metadata": {},
     "output_type": "display_data"
    },
    {
     "data": {
      "image/png": "[encoded data removed]",
      "text/plain": [
       "<Figure size 360x360 with 1 Axes>"
      ]
     },
     "metadata": {
      "needs_background": "light"
     },
     "output_type": "display_data"
    },
    {
     "name": "stdout",
     "output_type": "stream",
     "text": [
      "BoxPlot of S.F.Ratio\n",
      "----------------------------------------------------------------------------\n"
     ]
    },
    {
     "data": {
      "image/png": "[encoded data removed]",
      "text/plain": [
       "<Figure size 432x216 with 1 Axes>"
      ]
     },
     "metadata": {
      "needs_background": "light"
     },
     "output_type": "display_data"
    },
    {
     "name": "stdout",
     "output_type": "stream",
     "text": [
      "Description of perc.alumni\n",
      "----------------------------------------------------------------------------\n",
      "count    777.000000\n",
      "mean      22.743887\n",
      "std       12.391801\n",
      "min        0.000000\n",
      "25%       13.000000\n",
      "50%       21.000000\n",
      "75%       31.000000\n",
      "max       64.000000\n",
      "Name: perc.alumni, dtype: float64 Distribution of perc.alumni\n",
      "----------------------------------------------------------------------------\n"
     ]
    },
    {
     "data": {
      "text/plain": [
       "<Figure size 864x360 with 0 Axes>"
      ]
     },
     "metadata": {},
     "output_type": "display_data"
    },
    {
     "data": {
      "image/png": "[encoded data removed]",
      "text/plain": [
       "<Figure size 360x360 with 1 Axes>"
      ]
     },
     "metadata": {
      "needs_background": "light"
     },
     "output_type": "display_data"
    },
    {
     "name": "stdout",
     "output_type": "stream",
     "text": [
      "BoxPlot of perc.alumni\n",
      "----------------------------------------------------------------------------\n"
     ]
    },
    {
     "data": {
      "image/png": "[encoded data removed]",
      "text/plain": [
       "<Figure size 432x216 with 1 Axes>"
      ]
     },
     "metadata": {
      "needs_background": "light"
     },
     "output_type": "display_data"
    },
    {
     "name": "stdout",
     "output_type": "stream",
     "text": [
      "Description of Expend\n",
      "----------------------------------------------------------------------------\n",
      "count      777.000000\n",
      "mean      9660.171171\n",
      "std       5221.768440\n",
      "min       3186.000000\n",
      "25%       6751.000000\n",
      "50%       8377.000000\n",
      "75%      10830.000000\n",
      "max      56233.000000\n",
      "Name: Expend, dtype: float64 Distribution of Expend\n",
      "----------------------------------------------------------------------------\n"
     ]
    },
    {
     "data": {
      "text/plain": [
       "<Figure size 864x360 with 0 Axes>"
      ]
     },
     "metadata": {},
     "output_type": "display_data"
    },
    {
     "data": {
      "image/png": "[encoded data removed]",
      "text/plain": [
       "<Figure size 360x360 with 1 Axes>"
      ]
     },
     "metadata": {
      "needs_background": "light"
     },
     "output_type": "display_data"
    },
    {
     "name": "stdout",
     "output_type": "stream",
     "text": [
      "BoxPlot of Expend\n",
      "----------------------------------------------------------------------------\n"
     ]
    },
    {
     "data": {
      "image/png": "[encoded data removed]",
      "text/plain": [
       "<Figure size 432x216 with 1 Axes>"
      ]
     },
     "metadata": {
      "needs_background": "light"
     },
     "output_type": "display_data"
    },
    {
     "name": "stdout",
     "output_type": "stream",
     "text": [
      "Description of Grad.Rate\n",
      "----------------------------------------------------------------------------\n",
      "count    777.00000\n",
      "mean      65.46332\n",
      "std       17.17771\n",
      "min       10.00000\n",
      "25%       53.00000\n",
      "50%       65.00000\n",
      "75%       78.00000\n",
      "max      118.00000\n",
      "Name: Grad.Rate, dtype: float64 Distribution of Grad.Rate\n",
      "----------------------------------------------------------------------------\n"
     ]
    },
    {
     "data": {
      "text/plain": [
       "<Figure size 864x360 with 0 Axes>"
      ]
     },
     "metadata": {},
     "output_type": "display_data"
    },
    {
     "data": {
      "image/png": "[encoded data removed]",
      "text/plain": [
       "<Figure size 360x360 with 1 Axes>"
      ]
     },
     "metadata": {
      "needs_background": "light"
     },
     "output_type": "display_data"
    },
    {
     "name": "stdout",
     "output_type": "stream",
     "text": [
      "BoxPlot of Grad.Rate\n",
      "----------------------------------------------------------------------------\n"
     ]
    },
    {
     "data": {
      "image/png": "[encoded data removed]",
      "text/plain": [
       "<Figure size 432x216 with 1 Axes>"
      ]
     },
     "metadata": {
      "needs_background": "light"
     },
     "output_type": "display_data"
    }
   ],
   "source": [
    "for x in lstnumericcolumns:\n",
    "    univariateAnalysis_numeric(x,20)"
   ]
  },
  {
   "cell_type": "raw",
   "id": "1224b144",
   "metadata": {},
   "source": [
    "Observations:"
   ]
  },
  {
   "cell_type": "code",
   "execution_count": null,
   "id": "bd9dac0c",
   "metadata": {},
   "outputs": [],
   "source": []
  },
  {
   "cell_type": "code",
   "execution_count": null,
   "id": "469cf9d5",
   "metadata": {},
   "outputs": [],
   "source": []
  },
  {
   "cell_type": "code",
   "execution_count": null,
   "id": "12185bf1",
   "metadata": {},
   "outputs": [],
   "source": []
  },
  {
   "cell_type": "code",
   "execution_count": null,
   "id": "b89cbe6b",
   "metadata": {},
   "outputs": [],
   "source": []
  },
  {
   "cell_type": "markdown",
   "id": "096d2b83",
   "metadata": {},
   "source": [
    "#### Bivariate Analysis"
   ]
  },
  {
   "cell_type": "code",
   "execution_count": 18,
   "id": "e927a52d",
   "metadata": {},
   "outputs": [
    {
     "ename": "NameError",
     "evalue": "name 'df_num' is not defined",
     "output_type": "error",
     "traceback": [
      "\u001b[1;31m---------------------------------------------------------------------------\u001b[0m",
      "\u001b[1;31mNameError\u001b[0m                                 Traceback (most recent call last)",
      "\u001b[1;32m<ipython-input-18-5ae0e932fcc2>\u001b[0m in \u001b[0;36m<module>\u001b[1;34m\u001b[0m\n\u001b[1;32m----> 1\u001b[1;33m \u001b[0mcorr\u001b[0m\u001b[1;33m=\u001b[0m\u001b[0mdf_num\u001b[0m\u001b[1;33m.\u001b[0m\u001b[0mcorr\u001b[0m\u001b[1;33m(\u001b[0m\u001b[0mmethod\u001b[0m\u001b[1;33m=\u001b[0m\u001b[1;34m'pearson'\u001b[0m\u001b[1;33m)\u001b[0m\u001b[1;33m\u001b[0m\u001b[1;33m\u001b[0m\u001b[0m\n\u001b[0m",
      "\u001b[1;31mNameError\u001b[0m: name 'df_num' is not defined"
     ]
    }
   ],
   "source": [
    "corr=df_num.corr(method='pearson')"
   ]
  },
  {
   "cell_type": "code",
   "execution_count": 126,
   "id": "a9aa11fd",
   "metadata": {},
   "outputs": [
    {
     "data": {
      "image/png": "[encoded data removed]",
      "text/plain": [
       "<Figure size 1800x1080 with 2 Axes>"
      ]
     },
     "metadata": {
      "needs_background": "light"
     },
     "output_type": "display_data"
    }
   ],
   "source": [
    "mask=np.triu(np.ones_like(corr,dtype=bool))\n",
    "fig=plt.subplots(figsize=(25,15))\n",
    "sns.heatmap(df_num.corr(),annot=True,fmt='.2f',mask=mask);"
   ]
  },
  {
   "cell_type": "code",
   "execution_count": null,
   "id": "e6095ef5",
   "metadata": {},
   "outputs": [],
   "source": []
  },
  {
   "cell_type": "code",
   "execution_count": null,
   "id": "7f960d18",
   "metadata": {},
   "outputs": [],
   "source": []
  },
  {
   "cell_type": "markdown",
   "id": "a1fc2529",
   "metadata": {},
   "source": [
    "## 2.2 Is scaling necessary for PCA in this case? Give justification and perform scaling."
   ]
  },
  {
   "cell_type": "code",
   "execution_count": 127,
   "id": "cfe4c05d",
   "metadata": {},
   "outputs": [
    {
     "data": {
      "text/html": [
       "<div>\n",
       "<style scoped>\n",
       "    .dataframe tbody tr th:only-of-type {\n",
       "        vertical-align: middle;\n",
       "    }\n",
       "\n",
       "    .dataframe tbody tr th {\n",
       "        vertical-align: top;\n",
       "    }\n",
       "\n",
       "    .dataframe thead th {\n",
       "        text-align: right;\n",
       "    }\n",
       "</style>\n",
       "<table border=\"1\" class=\"dataframe\">\n",
       "  <thead>\n",
       "    <tr style=\"text-align: right;\">\n",
       "      <th></th>\n",
       "      <th>Apps</th>\n",
       "      <th>Accept</th>\n",
       "      <th>Enroll</th>\n",
       "      <th>Top10perc</th>\n",
       "      <th>Top25perc</th>\n",
       "      <th>F.Undergrad</th>\n",
       "      <th>P.Undergrad</th>\n",
       "      <th>Outstate</th>\n",
       "      <th>Room.Board</th>\n",
       "      <th>Books</th>\n",
       "      <th>Personal</th>\n",
       "      <th>PhD</th>\n",
       "      <th>Terminal</th>\n",
       "      <th>S.F.Ratio</th>\n",
       "      <th>perc.alumni</th>\n",
       "      <th>Expend</th>\n",
       "      <th>Grad.Rate</th>\n",
       "    </tr>\n",
       "  </thead>\n",
       "  <tbody>\n",
       "    <tr>\n",
       "      <th>0</th>\n",
       "      <td>1660</td>\n",
       "      <td>1232</td>\n",
       "      <td>721</td>\n",
       "      <td>23</td>\n",
       "      <td>52</td>\n",
       "      <td>2885</td>\n",
       "      <td>537</td>\n",
       "      <td>7440</td>\n",
       "      <td>3300</td>\n",
       "      <td>450</td>\n",
       "      <td>2200</td>\n",
       "      <td>70</td>\n",
       "      <td>78</td>\n",
       "      <td>18.1</td>\n",
       "      <td>12</td>\n",
       "      <td>7041</td>\n",
       "      <td>60</td>\n",
       "    </tr>\n",
       "  </tbody>\n",
       "</table>\n",
       "</div>"
      ],
      "text/plain": [
       "   Apps  Accept  Enroll  Top10perc  Top25perc  F.Undergrad  P.Undergrad  \\\n",
       "0  1660    1232     721         23         52         2885          537   \n",
       "\n",
       "   Outstate  Room.Board  Books  Personal  PhD  Terminal  S.F.Ratio  \\\n",
       "0      7440        3300    450      2200   70        78       18.1   \n",
       "\n",
       "   perc.alumni  Expend  Grad.Rate  \n",
       "0           12    7041         60  "
      ]
     },
     "execution_count": 127,
     "metadata": {},
     "output_type": "execute_result"
    }
   ],
   "source": [
    "df_num.head(1)"
   ]
  },
  {
   "cell_type": "raw",
   "id": "7a5012ba",
   "metadata": {},
   "source": [
    "Yes scaling is necessary because there are different data corresponding to numbers, percentage,cost, expenditure per student and graduation rate.To pre-process the data and to normalize it and bring it into a common scale we need to do scaling."
   ]
  },
  {
   "cell_type": "raw",
   "id": "fa309816",
   "metadata": {},
   "source": [
    "Let us import the necessary function to scale the data"
   ]
  },
  {
   "cell_type": "code",
   "execution_count": 128,
   "id": "d7e19ddd",
   "metadata": {},
   "outputs": [],
   "source": [
    "from scipy.stats import zscore"
   ]
  },
  {
   "cell_type": "code",
   "execution_count": 129,
   "id": "9307118e",
   "metadata": {},
   "outputs": [
    {
     "data": {
      "text/html": [
       "<div>\n",
       "<style scoped>\n",
       "    .dataframe tbody tr th:only-of-type {\n",
       "        vertical-align: middle;\n",
       "    }\n",
       "\n",
       "    .dataframe tbody tr th {\n",
       "        vertical-align: top;\n",
       "    }\n",
       "\n",
       "    .dataframe thead th {\n",
       "        text-align: right;\n",
       "    }\n",
       "</style>\n",
       "<table border=\"1\" class=\"dataframe\">\n",
       "  <thead>\n",
       "    <tr style=\"text-align: right;\">\n",
       "      <th></th>\n",
       "      <th>Apps</th>\n",
       "      <th>Accept</th>\n",
       "      <th>Enroll</th>\n",
       "      <th>Top10perc</th>\n",
       "      <th>Top25perc</th>\n",
       "      <th>F.Undergrad</th>\n",
       "      <th>P.Undergrad</th>\n",
       "      <th>Outstate</th>\n",
       "      <th>Room.Board</th>\n",
       "      <th>Books</th>\n",
       "      <th>Personal</th>\n",
       "      <th>PhD</th>\n",
       "      <th>Terminal</th>\n",
       "      <th>S.F.Ratio</th>\n",
       "      <th>perc.alumni</th>\n",
       "      <th>Expend</th>\n",
       "      <th>Grad.Rate</th>\n",
       "    </tr>\n",
       "  </thead>\n",
       "  <tbody>\n",
       "    <tr>\n",
       "      <th>0</th>\n",
       "      <td>-0.346882</td>\n",
       "      <td>-0.321205</td>\n",
       "      <td>-0.063509</td>\n",
       "      <td>-0.258583</td>\n",
       "      <td>-0.191827</td>\n",
       "      <td>-0.168116</td>\n",
       "      <td>-0.209207</td>\n",
       "      <td>-0.746356</td>\n",
       "      <td>-0.964905</td>\n",
       "      <td>-0.602312</td>\n",
       "      <td>1.270045</td>\n",
       "      <td>-0.163028</td>\n",
       "      <td>-0.115729</td>\n",
       "      <td>1.013776</td>\n",
       "      <td>-0.867574</td>\n",
       "      <td>-0.501910</td>\n",
       "      <td>-0.318252</td>\n",
       "    </tr>\n",
       "    <tr>\n",
       "      <th>1</th>\n",
       "      <td>-0.210884</td>\n",
       "      <td>-0.038703</td>\n",
       "      <td>-0.288584</td>\n",
       "      <td>-0.655656</td>\n",
       "      <td>-1.353911</td>\n",
       "      <td>-0.209788</td>\n",
       "      <td>0.244307</td>\n",
       "      <td>0.457496</td>\n",
       "      <td>1.909208</td>\n",
       "      <td>1.215880</td>\n",
       "      <td>0.235515</td>\n",
       "      <td>-2.675646</td>\n",
       "      <td>-3.378176</td>\n",
       "      <td>-0.477704</td>\n",
       "      <td>-0.544572</td>\n",
       "      <td>0.166110</td>\n",
       "      <td>-0.551262</td>\n",
       "    </tr>\n",
       "    <tr>\n",
       "      <th>2</th>\n",
       "      <td>-0.406866</td>\n",
       "      <td>-0.376318</td>\n",
       "      <td>-0.478121</td>\n",
       "      <td>-0.315307</td>\n",
       "      <td>-0.292878</td>\n",
       "      <td>-0.549565</td>\n",
       "      <td>-0.497090</td>\n",
       "      <td>0.201305</td>\n",
       "      <td>-0.554317</td>\n",
       "      <td>-0.905344</td>\n",
       "      <td>-0.259582</td>\n",
       "      <td>-1.204845</td>\n",
       "      <td>-0.931341</td>\n",
       "      <td>-0.300749</td>\n",
       "      <td>0.585935</td>\n",
       "      <td>-0.177290</td>\n",
       "      <td>-0.667767</td>\n",
       "    </tr>\n",
       "    <tr>\n",
       "      <th>3</th>\n",
       "      <td>-0.668261</td>\n",
       "      <td>-0.681682</td>\n",
       "      <td>-0.692427</td>\n",
       "      <td>1.840231</td>\n",
       "      <td>1.677612</td>\n",
       "      <td>-0.658079</td>\n",
       "      <td>-0.520752</td>\n",
       "      <td>0.626633</td>\n",
       "      <td>0.996791</td>\n",
       "      <td>-0.602312</td>\n",
       "      <td>-0.688173</td>\n",
       "      <td>1.185206</td>\n",
       "      <td>1.175657</td>\n",
       "      <td>-1.615274</td>\n",
       "      <td>1.151188</td>\n",
       "      <td>1.792851</td>\n",
       "      <td>-0.376504</td>\n",
       "    </tr>\n",
       "    <tr>\n",
       "      <th>4</th>\n",
       "      <td>-0.726176</td>\n",
       "      <td>-0.764555</td>\n",
       "      <td>-0.780735</td>\n",
       "      <td>-0.655656</td>\n",
       "      <td>-0.596031</td>\n",
       "      <td>-0.711924</td>\n",
       "      <td>0.009005</td>\n",
       "      <td>-0.716508</td>\n",
       "      <td>-0.216723</td>\n",
       "      <td>1.518912</td>\n",
       "      <td>0.235515</td>\n",
       "      <td>0.204672</td>\n",
       "      <td>-0.523535</td>\n",
       "      <td>-0.553542</td>\n",
       "      <td>-1.675079</td>\n",
       "      <td>0.241803</td>\n",
       "      <td>-2.939613</td>\n",
       "    </tr>\n",
       "  </tbody>\n",
       "</table>\n",
       "</div>"
      ],
      "text/plain": [
       "       Apps    Accept    Enroll  Top10perc  Top25perc  F.Undergrad  \\\n",
       "0 -0.346882 -0.321205 -0.063509  -0.258583  -0.191827    -0.168116   \n",
       "1 -0.210884 -0.038703 -0.288584  -0.655656  -1.353911    -0.209788   \n",
       "2 -0.406866 -0.376318 -0.478121  -0.315307  -0.292878    -0.549565   \n",
       "3 -0.668261 -0.681682 -0.692427   1.840231   1.677612    -0.658079   \n",
       "4 -0.726176 -0.764555 -0.780735  -0.655656  -0.596031    -0.711924   \n",
       "\n",
       "   P.Undergrad  Outstate  Room.Board     Books  Personal       PhD  Terminal  \\\n",
       "0    -0.209207 -0.746356   -0.964905 -0.602312  1.270045 -0.163028 -0.115729   \n",
       "1     0.244307  0.457496    1.909208  1.215880  0.235515 -2.675646 -3.378176   \n",
       "2    -0.497090  0.201305   -0.554317 -0.905344 -0.259582 -1.204845 -0.931341   \n",
       "3    -0.520752  0.626633    0.996791 -0.602312 -0.688173  1.185206  1.175657   \n",
       "4     0.009005 -0.716508   -0.216723  1.518912  0.235515  0.204672 -0.523535   \n",
       "\n",
       "   S.F.Ratio  perc.alumni    Expend  Grad.Rate  \n",
       "0   1.013776    -0.867574 -0.501910  -0.318252  \n",
       "1  -0.477704    -0.544572  0.166110  -0.551262  \n",
       "2  -0.300749     0.585935 -0.177290  -0.667767  \n",
       "3  -1.615274     1.151188  1.792851  -0.376504  \n",
       "4  -0.553542    -1.675079  0.241803  -2.939613  "
      ]
     },
     "execution_count": 129,
     "metadata": {},
     "output_type": "execute_result"
    }
   ],
   "source": [
    "df_num_scaled=df_num.apply(zscore)\n",
    "df_num_scaled.head()"
   ]
  },
  {
   "cell_type": "markdown",
   "id": "9b1d71c1",
   "metadata": {},
   "source": [
    "## 2.3 Comment on the comparison between the covariance and the correlation matrices from this data.[on scaled data]"
   ]
  },
  {
   "cell_type": "code",
   "execution_count": 132,
   "id": "db055e13",
   "metadata": {},
   "outputs": [
    {
     "data": {
      "image/png": "[encoded data removed]",
      "text/plain": [
       "<Figure size 1440x720 with 2 Axes>"
      ]
     },
     "metadata": {
      "needs_background": "light"
     },
     "output_type": "display_data"
    }
   ],
   "source": [
    "mask=np.triu(np.ones_like(corr,dtype=bool))\n",
    "plt.subplots(figsize=(20,10))\n",
    "0"
   ]
  },
  {
   "cell_type": "code",
   "execution_count": null,
   "id": "6d03aa24",
   "metadata": {},
   "outputs": [],
   "source": []
  },
  {
   "cell_type": "markdown",
   "id": "4f5812a1",
   "metadata": {},
   "source": [
    "## 2.4 Check the dataset for outliers before and after scaling. What insight do you derive here?"
   ]
  },
  {
   "cell_type": "raw",
   "id": "d68764ac",
   "metadata": {},
   "source": [
    "Before scaling"
   ]
  },
  {
   "cell_type": "code",
   "execution_count": 135,
   "id": "585f1481",
   "metadata": {},
   "outputs": [
    {
     "data": {
      "image/png": "[encoded data removed]",
      "text/plain": [
       "<Figure size 1440x216 with 1 Axes>"
      ]
     },
     "metadata": {
      "needs_background": "light"
     },
     "output_type": "display_data"
    }
   ],
   "source": [
    "df_num.boxplot(figsize=(20,3))\n",
    "plt.xticks(rotation=90)\n",
    "plt.show()"
   ]
  },
  {
   "cell_type": "raw",
   "id": "11d6955f",
   "metadata": {},
   "source": [
    "After Scaling"
   ]
  },
  {
   "cell_type": "code",
   "execution_count": 133,
   "id": "86791e44",
   "metadata": {},
   "outputs": [
    {
     "data": {
      "image/png": "[encoded data removed]",
      "text/plain": [
       "<Figure size 1440x216 with 1 Axes>"
      ]
     },
     "metadata": {
      "needs_background": "light"
     },
     "output_type": "display_data"
    }
   ],
   "source": [
    "df_num_scaled.boxplot(figsize=(20,3))\n",
    "plt.xticks(rotation=90)\n",
    "plt.show()"
   ]
  },
  {
   "cell_type": "raw",
   "id": "5f153793",
   "metadata": {},
   "source": [
    "Observation:"
   ]
  },
  {
   "cell_type": "markdown",
   "id": "302c215f",
   "metadata": {},
   "source": [
    "## 2.5 Extract the eigenvalues and eigenvectors. [Using Sklearn PCA Print Both]"
   ]
  },
  {
   "cell_type": "raw",
   "id": "e6e3c274",
   "metadata": {},
   "source": [
    "Let us import the necessary function"
   ]
  },
  {
   "cell_type": "code",
   "execution_count": 136,
   "id": "c65dd178",
   "metadata": {},
   "outputs": [],
   "source": [
    "from sklearn.decomposition import PCA"
   ]
  },
  {
   "cell_type": "code",
   "execution_count": 170,
   "id": "0f47d528",
   "metadata": {},
   "outputs": [
    {
     "data": {
      "text/plain": [
       "array([[-1.59285540e+00, -2.19240180e+00, -1.43096371e+00, ...,\n",
       "        -7.32560596e-01,  7.91932735e+00, -4.69508066e-01],\n",
       "       [ 7.67333510e-01, -5.78829984e-01, -1.09281889e+00, ...,\n",
       "        -7.72352397e-02, -2.06832886e+00,  3.66660943e-01],\n",
       "       [-1.01073537e-01,  2.27879812e+00, -4.38092811e-01, ...,\n",
       "        -4.05641899e-04,  2.07356368e+00, -1.32891515e+00],\n",
       "       ...,\n",
       "       [ 1.75239502e-03,  1.03709803e-01, -2.25582869e-02, ...,\n",
       "         6.79013123e-02,  3.53597440e-01, -1.14873492e-01],\n",
       "       [-9.31400698e-02, -5.02556890e-02, -4.05268301e-03, ...,\n",
       "        -2.32023970e-01,  3.04416200e-01, -1.17076127e-01],\n",
       "       [ 9.35522023e-02, -1.74057054e-01,  3.75875882e-03, ...,\n",
       "        -9.99380421e-02,  3.35104811e-01, -2.57218339e-03]])"
      ]
     },
     "execution_count": 170,
     "metadata": {},
     "output_type": "execute_result"
    }
   ],
   "source": [
    "pca=PCA(random_state=123)\n",
    "df_pca=pca.fit_transform(df_num_scaled)\n",
    "df_pca.transpose()"
   ]
  },
  {
   "cell_type": "markdown",
   "id": "007b2799",
   "metadata": {},
   "source": [
    "## 2.6 Perform PCA and export the data of the Principal Component (eigenvectors) into a data frame with the original features"
   ]
  },
  {
   "cell_type": "code",
   "execution_count": 171,
   "id": "30173da4",
   "metadata": {},
   "outputs": [
    {
     "data": {
      "text/plain": [
       "array([[ 2.48765602e-01,  2.07601502e-01,  1.76303592e-01,\n",
       "         3.54273947e-01,  3.44001279e-01,  1.54640962e-01,\n",
       "         2.64425045e-02,  2.94736419e-01,  2.49030449e-01,\n",
       "         6.47575181e-02, -4.25285386e-02,  3.18312875e-01,\n",
       "         3.17056016e-01, -1.76957895e-01,  2.05082369e-01,\n",
       "         3.18908750e-01,  2.52315654e-01],\n",
       "       [ 3.31598227e-01,  3.72116750e-01,  4.03724252e-01,\n",
       "        -8.24118211e-02, -4.47786551e-02,  4.17673774e-01,\n",
       "         3.15087830e-01, -2.49643522e-01, -1.37808883e-01,\n",
       "         5.63418434e-02,  2.19929218e-01,  5.83113174e-02,\n",
       "         4.64294477e-02,  2.46665277e-01, -2.46595274e-01,\n",
       "        -1.31689865e-01, -1.69240532e-01],\n",
       "       [-6.30921033e-02, -1.01249056e-01, -8.29855709e-02,\n",
       "         3.50555339e-02, -2.41479376e-02, -6.13929764e-02,\n",
       "         1.39681716e-01,  4.65988731e-02,  1.48967389e-01,\n",
       "         6.77411649e-01,  4.99721120e-01, -1.27028371e-01,\n",
       "        -6.60375454e-02, -2.89848401e-01, -1.46989274e-01,\n",
       "         2.26743985e-01, -2.08064649e-01],\n",
       "       [ 2.81310530e-01,  2.67817346e-01,  1.61826771e-01,\n",
       "        -5.15472524e-02, -1.09766541e-01,  1.00412335e-01,\n",
       "        -1.58558487e-01,  1.31291364e-01,  1.84995991e-01,\n",
       "         8.70892205e-02, -2.30710568e-01, -5.34724832e-01,\n",
       "        -5.19443019e-01, -1.61189487e-01,  1.73142230e-02,\n",
       "         7.92734946e-02,  2.69129066e-01],\n",
       "       [ 5.74140964e-03,  5.57860920e-02, -5.56936353e-02,\n",
       "        -3.95434345e-01, -4.26533594e-01, -4.34543659e-02,\n",
       "         3.02385408e-01,  2.22532003e-01,  5.60919470e-01,\n",
       "        -1.27288825e-01, -2.22311021e-01,  1.40166326e-01,\n",
       "         2.04719730e-01, -7.93882496e-02, -2.16297411e-01,\n",
       "         7.59581203e-02, -1.09267913e-01],\n",
       "       [-1.62374420e-02,  7.53468452e-03, -4.25579803e-02,\n",
       "        -5.26927980e-02,  3.30915896e-02, -4.34542349e-02,\n",
       "        -1.91198583e-01, -3.00003910e-02,  1.62755446e-01,\n",
       "         6.41054950e-01, -3.31398003e-01,  9.12555212e-02,\n",
       "         1.54927646e-01,  4.87045875e-01, -4.73400144e-02,\n",
       "        -2.98118619e-01,  2.16163313e-01],\n",
       "       [-4.24863486e-02, -1.29497196e-02, -2.76928937e-02,\n",
       "        -1.61332069e-01, -1.18485556e-01, -2.50763629e-02,\n",
       "         6.10423460e-02,  1.08528966e-01,  2.09744235e-01,\n",
       "        -1.49692034e-01,  6.33790064e-01, -1.09641298e-03,\n",
       "        -2.84770105e-02,  2.19259358e-01,  2.43321156e-01,\n",
       "        -2.26584481e-01,  5.59943937e-01],\n",
       "       [-1.03090398e-01, -5.62709623e-02,  5.86623552e-02,\n",
       "        -1.22678028e-01, -1.02491967e-01,  7.88896442e-02,\n",
       "         5.70783816e-01,  9.84599754e-03, -2.21453442e-01,\n",
       "         2.13293009e-01, -2.32660840e-01, -7.70400002e-02,\n",
       "        -1.21613297e-02, -8.36048735e-02,  6.78523654e-01,\n",
       "        -5.41593771e-02, -5.33553891e-03],\n",
       "       [-9.02270802e-02, -1.77864814e-01, -1.28560713e-01,\n",
       "         3.41099863e-01,  4.03711989e-01, -5.94419181e-02,\n",
       "         5.60672902e-01, -4.57332880e-03,  2.75022548e-01,\n",
       "        -1.33663353e-01, -9.44688900e-02, -1.85181525e-01,\n",
       "        -2.54938198e-01,  2.74544380e-01, -2.55334907e-01,\n",
       "        -4.91388809e-02,  4.19043052e-02],\n",
       "       [ 5.25098025e-02,  4.11400844e-02,  3.44879147e-02,\n",
       "         6.40257785e-02,  1.45492289e-02,  2.08471834e-02,\n",
       "        -2.23105808e-01,  1.86675363e-01,  2.98324237e-01,\n",
       "        -8.20292186e-02,  1.36027616e-01, -1.23452200e-01,\n",
       "        -8.85784627e-02,  4.72045249e-01,  4.22999706e-01,\n",
       "         1.32286331e-01, -5.90271067e-01],\n",
       "       [ 4.30462074e-02, -5.84055850e-02, -6.93988831e-02,\n",
       "        -8.10481404e-03, -2.73128469e-01, -8.11578181e-02,\n",
       "         1.00693324e-01,  1.43220673e-01, -3.59321731e-01,\n",
       "         3.19400370e-02, -1.85784733e-02,  4.03723253e-02,\n",
       "        -5.89734026e-02,  4.45000727e-01, -1.30727978e-01,\n",
       "         6.92088870e-01,  2.19839000e-01],\n",
       "       [ 2.40709086e-02, -1.45102446e-01,  1.11431545e-02,\n",
       "         3.85543001e-02, -8.93515563e-02,  5.61767721e-02,\n",
       "        -6.35360730e-02, -8.23443779e-01,  3.54559731e-01,\n",
       "        -2.81593679e-02, -3.92640266e-02,  2.32224316e-02,\n",
       "         1.64850420e-02, -1.10262122e-02,  1.82660654e-01,\n",
       "         3.25982295e-01,  1.22106697e-01],\n",
       "       [ 5.95830975e-01,  2.92642398e-01, -4.44638207e-01,\n",
       "         1.02303616e-03,  2.18838802e-02, -5.23622267e-01,\n",
       "         1.25997650e-01, -1.41856014e-01, -6.97485854e-02,\n",
       "         1.14379958e-02,  3.94547417e-02,  1.27696382e-01,\n",
       "        -5.83134662e-02, -1.77152700e-02,  1.04088088e-01,\n",
       "        -9.37464497e-02, -6.91969778e-02],\n",
       "       [ 8.06328039e-02,  3.34674281e-02, -8.56967180e-02,\n",
       "        -1.07828189e-01,  1.51742110e-01, -5.63728817e-02,\n",
       "         1.92857500e-02, -3.40115407e-02, -5.84289756e-02,\n",
       "        -6.68494643e-02,  2.75286207e-02, -6.91126145e-01,\n",
       "         6.71008607e-01,  4.13740967e-02, -2.71542091e-02,\n",
       "         7.31225166e-02,  3.64767385e-02],\n",
       "       [ 1.33405806e-01, -1.45497511e-01,  2.95896092e-02,\n",
       "         6.97722522e-01, -6.17274818e-01,  9.91640992e-03,\n",
       "         2.09515982e-02,  3.83544794e-02,  3.40197083e-03,\n",
       "        -9.43887925e-03, -3.09001353e-03, -1.12055599e-01,\n",
       "         1.58909651e-01, -2.08991284e-02, -8.41789410e-03,\n",
       "        -2.27742017e-01, -3.39433604e-03],\n",
       "       [ 4.59139498e-01, -5.18568789e-01, -4.04318439e-01,\n",
       "        -1.48738723e-01,  5.18683400e-02,  5.60363054e-01,\n",
       "        -5.27313042e-02,  1.01594830e-01, -2.59293381e-02,\n",
       "         2.88282896e-03, -1.28904022e-02,  2.98075465e-02,\n",
       "        -2.70759809e-02, -2.12476294e-02,  3.33406243e-03,\n",
       "        -4.38803230e-02, -5.00844705e-03],\n",
       "       [ 3.58970400e-01, -5.43427250e-01,  6.09651110e-01,\n",
       "        -1.44986329e-01,  8.03478445e-02, -4.14705279e-01,\n",
       "         9.01788964e-03,  5.08995918e-02,  1.14639620e-03,\n",
       "         7.72631963e-04, -1.11433396e-03,  1.38133366e-02,\n",
       "         6.20932749e-03, -2.22215182e-03, -1.91869743e-02,\n",
       "        -3.53098218e-02, -1.30710024e-02]])"
      ]
     },
     "execution_count": 171,
     "metadata": {},
     "output_type": "execute_result"
    }
   ],
   "source": [
    "pca.components_"
   ]
  },
  {
   "cell_type": "code",
   "execution_count": 172,
   "id": "5883f26a",
   "metadata": {},
   "outputs": [
    {
     "data": {
      "text/plain": [
       "array([[ 2.48765602e-01,  3.31598227e-01, -6.30921033e-02,\n",
       "         2.81310530e-01,  5.74140964e-03, -1.62374420e-02,\n",
       "        -4.24863486e-02, -1.03090398e-01, -9.02270802e-02,\n",
       "         5.25098025e-02,  4.30462074e-02,  2.40709086e-02,\n",
       "         5.95830975e-01,  8.06328039e-02,  1.33405806e-01,\n",
       "         4.59139498e-01,  3.58970400e-01],\n",
       "       [ 2.07601502e-01,  3.72116750e-01, -1.01249056e-01,\n",
       "         2.67817346e-01,  5.57860920e-02,  7.53468452e-03,\n",
       "        -1.29497196e-02, -5.62709623e-02, -1.77864814e-01,\n",
       "         4.11400844e-02, -5.84055850e-02, -1.45102446e-01,\n",
       "         2.92642398e-01,  3.34674281e-02, -1.45497511e-01,\n",
       "        -5.18568789e-01, -5.43427250e-01],\n",
       "       [ 1.76303592e-01,  4.03724252e-01, -8.29855709e-02,\n",
       "         1.61826771e-01, -5.56936353e-02, -4.25579803e-02,\n",
       "        -2.76928937e-02,  5.86623552e-02, -1.28560713e-01,\n",
       "         3.44879147e-02, -6.93988831e-02,  1.11431545e-02,\n",
       "        -4.44638207e-01, -8.56967180e-02,  2.95896092e-02,\n",
       "        -4.04318439e-01,  6.09651110e-01],\n",
       "       [ 3.54273947e-01, -8.24118211e-02,  3.50555339e-02,\n",
       "        -5.15472524e-02, -3.95434345e-01, -5.26927980e-02,\n",
       "        -1.61332069e-01, -1.22678028e-01,  3.41099863e-01,\n",
       "         6.40257785e-02, -8.10481404e-03,  3.85543001e-02,\n",
       "         1.02303616e-03, -1.07828189e-01,  6.97722522e-01,\n",
       "        -1.48738723e-01, -1.44986329e-01],\n",
       "       [ 3.44001279e-01, -4.47786551e-02, -2.41479376e-02,\n",
       "        -1.09766541e-01, -4.26533594e-01,  3.30915896e-02,\n",
       "        -1.18485556e-01, -1.02491967e-01,  4.03711989e-01,\n",
       "         1.45492289e-02, -2.73128469e-01, -8.93515563e-02,\n",
       "         2.18838802e-02,  1.51742110e-01, -6.17274818e-01,\n",
       "         5.18683400e-02,  8.03478445e-02],\n",
       "       [ 1.54640962e-01,  4.17673774e-01, -6.13929764e-02,\n",
       "         1.00412335e-01, -4.34543659e-02, -4.34542349e-02,\n",
       "        -2.50763629e-02,  7.88896442e-02, -5.94419181e-02,\n",
       "         2.08471834e-02, -8.11578181e-02,  5.61767721e-02,\n",
       "        -5.23622267e-01, -5.63728817e-02,  9.91640992e-03,\n",
       "         5.60363054e-01, -4.14705279e-01],\n",
       "       [ 2.64425045e-02,  3.15087830e-01,  1.39681716e-01,\n",
       "        -1.58558487e-01,  3.02385408e-01, -1.91198583e-01,\n",
       "         6.10423460e-02,  5.70783816e-01,  5.60672902e-01,\n",
       "        -2.23105808e-01,  1.00693324e-01, -6.35360730e-02,\n",
       "         1.25997650e-01,  1.92857500e-02,  2.09515982e-02,\n",
       "        -5.27313042e-02,  9.01788964e-03],\n",
       "       [ 2.94736419e-01, -2.49643522e-01,  4.65988731e-02,\n",
       "         1.31291364e-01,  2.22532003e-01, -3.00003910e-02,\n",
       "         1.08528966e-01,  9.84599754e-03, -4.57332880e-03,\n",
       "         1.86675363e-01,  1.43220673e-01, -8.23443779e-01,\n",
       "        -1.41856014e-01, -3.40115407e-02,  3.83544794e-02,\n",
       "         1.01594830e-01,  5.08995918e-02],\n",
       "       [ 2.49030449e-01, -1.37808883e-01,  1.48967389e-01,\n",
       "         1.84995991e-01,  5.60919470e-01,  1.62755446e-01,\n",
       "         2.09744235e-01, -2.21453442e-01,  2.75022548e-01,\n",
       "         2.98324237e-01, -3.59321731e-01,  3.54559731e-01,\n",
       "        -6.97485854e-02, -5.84289756e-02,  3.40197083e-03,\n",
       "        -2.59293381e-02,  1.14639620e-03],\n",
       "       [ 6.47575181e-02,  5.63418434e-02,  6.77411649e-01,\n",
       "         8.70892205e-02, -1.27288825e-01,  6.41054950e-01,\n",
       "        -1.49692034e-01,  2.13293009e-01, -1.33663353e-01,\n",
       "        -8.20292186e-02,  3.19400370e-02, -2.81593679e-02,\n",
       "         1.14379958e-02, -6.68494643e-02, -9.43887925e-03,\n",
       "         2.88282896e-03,  7.72631963e-04],\n",
       "       [-4.25285386e-02,  2.19929218e-01,  4.99721120e-01,\n",
       "        -2.30710568e-01, -2.22311021e-01, -3.31398003e-01,\n",
       "         6.33790064e-01, -2.32660840e-01, -9.44688900e-02,\n",
       "         1.36027616e-01, -1.85784733e-02, -3.92640266e-02,\n",
       "         3.94547417e-02,  2.75286207e-02, -3.09001353e-03,\n",
       "        -1.28904022e-02, -1.11433396e-03],\n",
       "       [ 3.18312875e-01,  5.83113174e-02, -1.27028371e-01,\n",
       "        -5.34724832e-01,  1.40166326e-01,  9.12555212e-02,\n",
       "        -1.09641298e-03, -7.70400002e-02, -1.85181525e-01,\n",
       "        -1.23452200e-01,  4.03723253e-02,  2.32224316e-02,\n",
       "         1.27696382e-01, -6.91126145e-01, -1.12055599e-01,\n",
       "         2.98075465e-02,  1.38133366e-02],\n",
       "       [ 3.17056016e-01,  4.64294477e-02, -6.60375454e-02,\n",
       "        -5.19443019e-01,  2.04719730e-01,  1.54927646e-01,\n",
       "        -2.84770105e-02, -1.21613297e-02, -2.54938198e-01,\n",
       "        -8.85784627e-02, -5.89734026e-02,  1.64850420e-02,\n",
       "        -5.83134662e-02,  6.71008607e-01,  1.58909651e-01,\n",
       "        -2.70759809e-02,  6.20932749e-03],\n",
       "       [-1.76957895e-01,  2.46665277e-01, -2.89848401e-01,\n",
       "        -1.61189487e-01, -7.93882496e-02,  4.87045875e-01,\n",
       "         2.19259358e-01, -8.36048735e-02,  2.74544380e-01,\n",
       "         4.72045249e-01,  4.45000727e-01, -1.10262122e-02,\n",
       "        -1.77152700e-02,  4.13740967e-02, -2.08991284e-02,\n",
       "        -2.12476294e-02, -2.22215182e-03],\n",
       "       [ 2.05082369e-01, -2.46595274e-01, -1.46989274e-01,\n",
       "         1.73142230e-02, -2.16297411e-01, -4.73400144e-02,\n",
       "         2.43321156e-01,  6.78523654e-01, -2.55334907e-01,\n",
       "         4.22999706e-01, -1.30727978e-01,  1.82660654e-01,\n",
       "         1.04088088e-01, -2.71542091e-02, -8.41789410e-03,\n",
       "         3.33406243e-03, -1.91869743e-02],\n",
       "       [ 3.18908750e-01, -1.31689865e-01,  2.26743985e-01,\n",
       "         7.92734946e-02,  7.59581203e-02, -2.98118619e-01,\n",
       "        -2.26584481e-01, -5.41593771e-02, -4.91388809e-02,\n",
       "         1.32286331e-01,  6.92088870e-01,  3.25982295e-01,\n",
       "        -9.37464497e-02,  7.31225166e-02, -2.27742017e-01,\n",
       "        -4.38803230e-02, -3.53098218e-02],\n",
       "       [ 2.52315654e-01, -1.69240532e-01, -2.08064649e-01,\n",
       "         2.69129066e-01, -1.09267913e-01,  2.16163313e-01,\n",
       "         5.59943937e-01, -5.33553891e-03,  4.19043052e-02,\n",
       "        -5.90271067e-01,  2.19839000e-01,  1.22106697e-01,\n",
       "        -6.91969778e-02,  3.64767385e-02, -3.39433604e-03,\n",
       "        -5.00844705e-03, -1.30710024e-02]])"
      ]
     },
     "execution_count": 172,
     "metadata": {},
     "output_type": "execute_result"
    }
   ],
   "source": [
    "pca.components_.T"
   ]
  },
  {
   "cell_type": "code",
   "execution_count": 1,
   "id": "044829e9",
   "metadata": {
    "scrolled": true
   },
   "outputs": [
    {
     "ename": "NameError",
     "evalue": "name 'pca' is not defined",
     "output_type": "error",
     "traceback": [
      "\u001b[1;31m---------------------------------------------------------------------------\u001b[0m",
      "\u001b[1;31mNameError\u001b[0m                                 Traceback (most recent call last)",
      "\u001b[1;32m<ipython-input-1-a8cdb5aaddbf>\u001b[0m in \u001b[0;36m<module>\u001b[1;34m\u001b[0m\n\u001b[1;32m----> 1\u001b[1;33m \u001b[0mpca\u001b[0m\u001b[1;33m.\u001b[0m\u001b[0mexplained_variance_\u001b[0m\u001b[1;33m\u001b[0m\u001b[1;33m\u001b[0m\u001b[0m\n\u001b[0m",
      "\u001b[1;31mNameError\u001b[0m: name 'pca' is not defined"
     ]
    }
   ],
   "source": [
    "exp_var=pca.explained_variance_ratio_\n",
    "pca.explained_variance_"
   ]
  },
  {
   "cell_type": "code",
   "execution_count": 174,
   "id": "2ac5c800",
   "metadata": {},
   "outputs": [
    {
     "data": {
      "text/plain": [
       "array([0.32020628, 0.26340214, 0.06900917, 0.05922989, 0.05488405,\n",
       "       0.04984701, 0.03558871, 0.03453621, 0.03117234, 0.02375192,\n",
       "       0.01841426, 0.01296041, 0.00985754, 0.00845842, 0.00517126,\n",
       "       0.00215754, 0.00135284])"
      ]
     },
     "execution_count": 174,
     "metadata": {},
     "output_type": "execute_result"
    }
   ],
   "source": [
    "exp_var"
   ]
  },
  {
   "cell_type": "code",
   "execution_count": 175,
   "id": "b2a0d405",
   "metadata": {},
   "outputs": [
    {
     "data": {
      "text/plain": [
       "array([0.32020628, 0.58360843, 0.65261759, 0.71184748, 0.76673154,\n",
       "       0.81657854, 0.85216726, 0.88670347, 0.91787581, 0.94162773,\n",
       "       0.96004199, 0.9730024 , 0.98285994, 0.99131837, 0.99648962,\n",
       "       0.99864716, 1.        ])"
      ]
     },
     "execution_count": 175,
     "metadata": {},
     "output_type": "execute_result"
    }
   ],
   "source": [
    "np.cumsum(pca.explained_variance_ratio_)"
   ]
  },
  {
   "cell_type": "code",
   "execution_count": 176,
   "id": "a4958779",
   "metadata": {},
   "outputs": [],
   "source": [
    "df_extrated=pd.DataFrame(pca.components_.T,\n",
    "                                 columns=['PC1','PC2','PC3','PC4','PC5','PC6','PC7','PC8','PC9','PC10','PC11','PC12','PC13',\n",
    "                                         'PC14','PC15','PC16','PC17'],\n",
    "                                 index=df_num_scaled.columns)"
   ]
  },
  {
   "cell_type": "code",
   "execution_count": 177,
   "id": "a33420a8",
   "metadata": {},
   "outputs": [
    {
     "data": {
      "text/html": [
       "<div>\n",
       "<style scoped>\n",
       "    .dataframe tbody tr th:only-of-type {\n",
       "        vertical-align: middle;\n",
       "    }\n",
       "\n",
       "    .dataframe tbody tr th {\n",
       "        vertical-align: top;\n",
       "    }\n",
       "\n",
       "    .dataframe thead th {\n",
       "        text-align: right;\n",
       "    }\n",
       "</style>\n",
       "<table border=\"1\" class=\"dataframe\">\n",
       "  <thead>\n",
       "    <tr style=\"text-align: right;\">\n",
       "      <th></th>\n",
       "      <th>Apps</th>\n",
       "      <th>Accept</th>\n",
       "      <th>Enroll</th>\n",
       "      <th>Top10perc</th>\n",
       "      <th>Top25perc</th>\n",
       "    </tr>\n",
       "  </thead>\n",
       "  <tbody>\n",
       "    <tr>\n",
       "      <th>PC1</th>\n",
       "      <td>0.248766</td>\n",
       "      <td>0.207602</td>\n",
       "      <td>0.176304</td>\n",
       "      <td>0.354274</td>\n",
       "      <td>0.344001</td>\n",
       "    </tr>\n",
       "    <tr>\n",
       "      <th>PC2</th>\n",
       "      <td>0.331598</td>\n",
       "      <td>0.372117</td>\n",
       "      <td>0.403724</td>\n",
       "      <td>-0.082412</td>\n",
       "      <td>-0.044779</td>\n",
       "    </tr>\n",
       "    <tr>\n",
       "      <th>PC3</th>\n",
       "      <td>-0.063092</td>\n",
       "      <td>-0.101249</td>\n",
       "      <td>-0.082986</td>\n",
       "      <td>0.035056</td>\n",
       "      <td>-0.024148</td>\n",
       "    </tr>\n",
       "    <tr>\n",
       "      <th>PC4</th>\n",
       "      <td>0.281311</td>\n",
       "      <td>0.267817</td>\n",
       "      <td>0.161827</td>\n",
       "      <td>-0.051547</td>\n",
       "      <td>-0.109767</td>\n",
       "    </tr>\n",
       "    <tr>\n",
       "      <th>PC5</th>\n",
       "      <td>0.005741</td>\n",
       "      <td>0.055786</td>\n",
       "      <td>-0.055694</td>\n",
       "      <td>-0.395434</td>\n",
       "      <td>-0.426534</td>\n",
       "    </tr>\n",
       "    <tr>\n",
       "      <th>PC6</th>\n",
       "      <td>-0.016237</td>\n",
       "      <td>0.007535</td>\n",
       "      <td>-0.042558</td>\n",
       "      <td>-0.052693</td>\n",
       "      <td>0.033092</td>\n",
       "    </tr>\n",
       "    <tr>\n",
       "      <th>PC7</th>\n",
       "      <td>-0.042486</td>\n",
       "      <td>-0.012950</td>\n",
       "      <td>-0.027693</td>\n",
       "      <td>-0.161332</td>\n",
       "      <td>-0.118486</td>\n",
       "    </tr>\n",
       "    <tr>\n",
       "      <th>PC8</th>\n",
       "      <td>-0.103090</td>\n",
       "      <td>-0.056271</td>\n",
       "      <td>0.058662</td>\n",
       "      <td>-0.122678</td>\n",
       "      <td>-0.102492</td>\n",
       "    </tr>\n",
       "    <tr>\n",
       "      <th>PC9</th>\n",
       "      <td>-0.090227</td>\n",
       "      <td>-0.177865</td>\n",
       "      <td>-0.128561</td>\n",
       "      <td>0.341100</td>\n",
       "      <td>0.403712</td>\n",
       "    </tr>\n",
       "    <tr>\n",
       "      <th>PC10</th>\n",
       "      <td>0.052510</td>\n",
       "      <td>0.041140</td>\n",
       "      <td>0.034488</td>\n",
       "      <td>0.064026</td>\n",
       "      <td>0.014549</td>\n",
       "    </tr>\n",
       "    <tr>\n",
       "      <th>PC11</th>\n",
       "      <td>0.043046</td>\n",
       "      <td>-0.058406</td>\n",
       "      <td>-0.069399</td>\n",
       "      <td>-0.008105</td>\n",
       "      <td>-0.273128</td>\n",
       "    </tr>\n",
       "    <tr>\n",
       "      <th>PC12</th>\n",
       "      <td>0.024071</td>\n",
       "      <td>-0.145102</td>\n",
       "      <td>0.011143</td>\n",
       "      <td>0.038554</td>\n",
       "      <td>-0.089352</td>\n",
       "    </tr>\n",
       "    <tr>\n",
       "      <th>PC13</th>\n",
       "      <td>0.595831</td>\n",
       "      <td>0.292642</td>\n",
       "      <td>-0.444638</td>\n",
       "      <td>0.001023</td>\n",
       "      <td>0.021884</td>\n",
       "    </tr>\n",
       "    <tr>\n",
       "      <th>PC14</th>\n",
       "      <td>0.080633</td>\n",
       "      <td>0.033467</td>\n",
       "      <td>-0.085697</td>\n",
       "      <td>-0.107828</td>\n",
       "      <td>0.151742</td>\n",
       "    </tr>\n",
       "    <tr>\n",
       "      <th>PC15</th>\n",
       "      <td>0.133406</td>\n",
       "      <td>-0.145498</td>\n",
       "      <td>0.029590</td>\n",
       "      <td>0.697723</td>\n",
       "      <td>-0.617275</td>\n",
       "    </tr>\n",
       "    <tr>\n",
       "      <th>PC16</th>\n",
       "      <td>0.459139</td>\n",
       "      <td>-0.518569</td>\n",
       "      <td>-0.404318</td>\n",
       "      <td>-0.148739</td>\n",
       "      <td>0.051868</td>\n",
       "    </tr>\n",
       "    <tr>\n",
       "      <th>PC17</th>\n",
       "      <td>0.358970</td>\n",
       "      <td>-0.543427</td>\n",
       "      <td>0.609651</td>\n",
       "      <td>-0.144986</td>\n",
       "      <td>0.080348</td>\n",
       "    </tr>\n",
       "  </tbody>\n",
       "</table>\n",
       "</div>"
      ],
      "text/plain": [
       "          Apps    Accept    Enroll  Top10perc  Top25perc\n",
       "PC1   0.248766  0.207602  0.176304   0.354274   0.344001\n",
       "PC2   0.331598  0.372117  0.403724  -0.082412  -0.044779\n",
       "PC3  -0.063092 -0.101249 -0.082986   0.035056  -0.024148\n",
       "PC4   0.281311  0.267817  0.161827  -0.051547  -0.109767\n",
       "PC5   0.005741  0.055786 -0.055694  -0.395434  -0.426534\n",
       "PC6  -0.016237  0.007535 -0.042558  -0.052693   0.033092\n",
       "PC7  -0.042486 -0.012950 -0.027693  -0.161332  -0.118486\n",
       "PC8  -0.103090 -0.056271  0.058662  -0.122678  -0.102492\n",
       "PC9  -0.090227 -0.177865 -0.128561   0.341100   0.403712\n",
       "PC10  0.052510  0.041140  0.034488   0.064026   0.014549\n",
       "PC11  0.043046 -0.058406 -0.069399  -0.008105  -0.273128\n",
       "PC12  0.024071 -0.145102  0.011143   0.038554  -0.089352\n",
       "PC13  0.595831  0.292642 -0.444638   0.001023   0.021884\n",
       "PC14  0.080633  0.033467 -0.085697  -0.107828   0.151742\n",
       "PC15  0.133406 -0.145498  0.029590   0.697723  -0.617275\n",
       "PC16  0.459139 -0.518569 -0.404318  -0.148739   0.051868\n",
       "PC17  0.358970 -0.543427  0.609651  -0.144986   0.080348"
      ]
     },
     "execution_count": 177,
     "metadata": {},
     "output_type": "execute_result"
    }
   ],
   "source": [
    "df_extrated.head().T"
   ]
  },
  {
   "cell_type": "code",
   "execution_count": 178,
   "id": "85497ded",
   "metadata": {},
   "outputs": [
    {
     "data": {
      "image/png": "[encoded data removed]",
      "text/plain": [
       "<Figure size 720x360 with 1 Axes>"
      ]
     },
     "metadata": {
      "needs_background": "light"
     },
     "output_type": "display_data"
    }
   ],
   "source": [
    "plt.figure(figsize=(10,5))\n",
    "sns.lineplot(y=exp_var,x=range(1,len(exp_var)+1),marker='o')\n",
    "plt.xlabel('Number of components',fontsize=10)\n",
    "plt.ylabel('Variance explained',fontsize=10)\n",
    "plt.title('Scree plot',fontsize=10)\n",
    "plt.grid()\n",
    "plt.show()"
   ]
  },
  {
   "cell_type": "code",
   "execution_count": 180,
   "id": "28394ad9",
   "metadata": {},
   "outputs": [],
   "source": [
    "df_selected=df_extrated[['PC1','PC2','PC3','PC4','PC5','PC6','PC7','PC8']]"
   ]
  },
  {
   "cell_type": "code",
   "execution_count": 181,
   "id": "080bf5eb",
   "metadata": {},
   "outputs": [
    {
     "data": {
      "text/html": [
       "<div>\n",
       "<style scoped>\n",
       "    .dataframe tbody tr th:only-of-type {\n",
       "        vertical-align: middle;\n",
       "    }\n",
       "\n",
       "    .dataframe tbody tr th {\n",
       "        vertical-align: top;\n",
       "    }\n",
       "\n",
       "    .dataframe thead th {\n",
       "        text-align: right;\n",
       "    }\n",
       "</style>\n",
       "<table border=\"1\" class=\"dataframe\">\n",
       "  <thead>\n",
       "    <tr style=\"text-align: right;\">\n",
       "      <th></th>\n",
       "      <th>PC1</th>\n",
       "      <th>PC2</th>\n",
       "      <th>PC3</th>\n",
       "      <th>PC4</th>\n",
       "      <th>PC5</th>\n",
       "      <th>PC6</th>\n",
       "      <th>PC7</th>\n",
       "      <th>PC8</th>\n",
       "    </tr>\n",
       "  </thead>\n",
       "  <tbody>\n",
       "    <tr>\n",
       "      <th>Apps</th>\n",
       "      <td>0.248766</td>\n",
       "      <td>0.331598</td>\n",
       "      <td>-0.063092</td>\n",
       "      <td>0.281311</td>\n",
       "      <td>0.005741</td>\n",
       "      <td>-0.016237</td>\n",
       "      <td>-0.042486</td>\n",
       "      <td>-0.103090</td>\n",
       "    </tr>\n",
       "    <tr>\n",
       "      <th>Accept</th>\n",
       "      <td>0.207602</td>\n",
       "      <td>0.372117</td>\n",
       "      <td>-0.101249</td>\n",
       "      <td>0.267817</td>\n",
       "      <td>0.055786</td>\n",
       "      <td>0.007535</td>\n",
       "      <td>-0.012950</td>\n",
       "      <td>-0.056271</td>\n",
       "    </tr>\n",
       "    <tr>\n",
       "      <th>Enroll</th>\n",
       "      <td>0.176304</td>\n",
       "      <td>0.403724</td>\n",
       "      <td>-0.082986</td>\n",
       "      <td>0.161827</td>\n",
       "      <td>-0.055694</td>\n",
       "      <td>-0.042558</td>\n",
       "      <td>-0.027693</td>\n",
       "      <td>0.058662</td>\n",
       "    </tr>\n",
       "    <tr>\n",
       "      <th>Top10perc</th>\n",
       "      <td>0.354274</td>\n",
       "      <td>-0.082412</td>\n",
       "      <td>0.035056</td>\n",
       "      <td>-0.051547</td>\n",
       "      <td>-0.395434</td>\n",
       "      <td>-0.052693</td>\n",
       "      <td>-0.161332</td>\n",
       "      <td>-0.122678</td>\n",
       "    </tr>\n",
       "    <tr>\n",
       "      <th>Top25perc</th>\n",
       "      <td>0.344001</td>\n",
       "      <td>-0.044779</td>\n",
       "      <td>-0.024148</td>\n",
       "      <td>-0.109767</td>\n",
       "      <td>-0.426534</td>\n",
       "      <td>0.033092</td>\n",
       "      <td>-0.118486</td>\n",
       "      <td>-0.102492</td>\n",
       "    </tr>\n",
       "  </tbody>\n",
       "</table>\n",
       "</div>"
      ],
      "text/plain": [
       "                PC1       PC2       PC3       PC4       PC5       PC6  \\\n",
       "Apps       0.248766  0.331598 -0.063092  0.281311  0.005741 -0.016237   \n",
       "Accept     0.207602  0.372117 -0.101249  0.267817  0.055786  0.007535   \n",
       "Enroll     0.176304  0.403724 -0.082986  0.161827 -0.055694 -0.042558   \n",
       "Top10perc  0.354274 -0.082412  0.035056 -0.051547 -0.395434 -0.052693   \n",
       "Top25perc  0.344001 -0.044779 -0.024148 -0.109767 -0.426534  0.033092   \n",
       "\n",
       "                PC7       PC8  \n",
       "Apps      -0.042486 -0.103090  \n",
       "Accept    -0.012950 -0.056271  \n",
       "Enroll    -0.027693  0.058662  \n",
       "Top10perc -0.161332 -0.122678  \n",
       "Top25perc -0.118486 -0.102492  "
      ]
     },
     "execution_count": 181,
     "metadata": {},
     "output_type": "execute_result"
    }
   ],
   "source": [
    "df_selected.head()"
   ]
  },
  {
   "cell_type": "code",
   "execution_count": null,
   "id": "697086dd",
   "metadata": {},
   "outputs": [],
   "source": []
  },
  {
   "cell_type": "code",
   "execution_count": null,
   "id": "e40a7faf",
   "metadata": {},
   "outputs": [],
   "source": []
  },
  {
   "cell_type": "code",
   "execution_count": null,
   "id": "2987b3a8",
   "metadata": {},
   "outputs": [],
   "source": []
  },
  {
   "cell_type": "markdown",
   "id": "ecbb425b",
   "metadata": {},
   "source": [
    "## 2.7 Write down the explicit form of the first PC (in terms of the eigenvectors. Use values with two places of decimals only). [hint: write the linear equation of PC in terms of eigenvectors and corresponding features]"
   ]
  },
  {
   "cell_type": "code",
   "execution_count": 185,
   "id": "89720e54",
   "metadata": {
    "scrolled": true
   },
   "outputs": [
    {
     "data": {
      "image/png": "[encoded data removed]",
      "text/plain": [
       "<Figure size 720x504 with 2 Axes>"
      ]
     },
     "metadata": {
      "needs_background": "light"
     },
     "output_type": "display_data"
    }
   ],
   "source": [
    "plt.figure(figsize=(10,7))\n",
    "sns.heatmap(abs(df_selected),annot=True,cmap='autumn',fmt='.2f');"
   ]
  },
  {
   "cell_type": "code",
   "execution_count": null,
   "id": "2c9e7597",
   "metadata": {},
   "outputs": [],
   "source": []
  },
  {
   "cell_type": "code",
   "execution_count": null,
   "id": "7ec9ea83",
   "metadata": {},
   "outputs": [],
   "source": []
  },
  {
   "cell_type": "markdown",
   "id": "c563fe85",
   "metadata": {},
   "source": [
    "## 2.8 Consider the cumulative values of the eigenvalues. How does it help you to decide on the optimum number of principal components? What do the eigenvectors indicate?"
   ]
  },
  {
   "cell_type": "code",
   "execution_count": 186,
   "id": "8ede235f",
   "metadata": {},
   "outputs": [
    {
     "data": {
      "text/plain": [
       "array([0.32020628, 0.58360843, 0.65261759, 0.71184748, 0.76673154,\n",
       "       0.81657854, 0.85216726, 0.88670347, 0.91787581, 0.94162773,\n",
       "       0.96004199, 0.9730024 , 0.98285994, 0.99131837, 0.99648962,\n",
       "       0.99864716, 1.        ])"
      ]
     },
     "execution_count": 186,
     "metadata": {},
     "output_type": "execute_result"
    }
   ],
   "source": [
    "np.cumsum(pca.explained_variance_ratio_)"
   ]
  },
  {
   "cell_type": "raw",
   "id": "1f8b17c4",
   "metadata": {},
   "source": [
    "To decide on the optimum number of principal components we need to look at the percentage of information covered by the components. As we can see 88.67 % of information is covered upto PC8 so we can take it as optimum number.If we try to take more components it will increase the dimensionality."
   ]
  },
  {
   "cell_type": "code",
   "execution_count": null,
   "id": "e1e37caa",
   "metadata": {},
   "outputs": [],
   "source": []
  },
  {
   "cell_type": "markdown",
   "id": "36643131",
   "metadata": {},
   "source": [
    "## 2.9 Explain the business implication of using the Principal Component Analysis for this case study. How may PCs help in the further analysis? [Hint: Write Interpretations of the Principal Components Obtained]"
   ]
  },
  {
   "cell_type": "code",
   "execution_count": null,
   "id": "57e80316",
   "metadata": {},
   "outputs": [],
   "source": []
  }
 ],
 "metadata": {
  "kernelspec": {
   "display_name": "Python 3",
   "language": "python",
   "name": "python3"
  },
  "language_info": {
   "codemirror_mode": {
    "name": "ipython",
    "version": 3
   },
   "file_extension": ".py",
   "mimetype": "text/x-python",
   "name": "python",
   "nbconvert_exporter": "python",
   "pygments_lexer": "ipython3",
   "version": "3.8.8"
  }
 },
 "nbformat": 4,
 "nbformat_minor": 5
}
