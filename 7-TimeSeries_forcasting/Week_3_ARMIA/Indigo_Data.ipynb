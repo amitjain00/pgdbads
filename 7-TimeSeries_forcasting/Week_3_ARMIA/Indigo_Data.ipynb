{
 "cells": [
  {
   "cell_type": "markdown",
   "metadata": {},
   "source": [
    "# In this particular session, we will build different models on the Training Data and then go on to check the accuracy (or error) on the training and test data. The model which performs the best on the test data is an optimum model for us."
   ]
  },
  {
   "cell_type": "code",
   "execution_count": 1,
   "metadata": {
    "ExecuteTime": {
     "end_time": "2021-02-10T08:28:46.494450Z",
     "start_time": "2021-02-10T08:28:09.486249Z"
    }
   },
   "outputs": [],
   "source": [
    "import numpy as np\n",
    "import pandas as pd\n",
    "import seaborn as sns\n",
    "from matplotlib import pyplot as plt\n",
    "import matplotlib\n",
    "import sklearn\n",
    "import statsmodels"
   ]
  },
  {
   "cell_type": "code",
   "execution_count": 2,
   "metadata": {
    "ExecuteTime": {
     "end_time": "2021-02-10T08:28:46.573829Z",
     "start_time": "2021-02-10T08:28:46.559095Z"
    }
   },
   "outputs": [],
   "source": [
    "#conda update conda"
   ]
  },
  {
   "cell_type": "code",
   "execution_count": 21,
   "metadata": {
    "ExecuteTime": {
     "end_time": "2021-02-10T08:28:46.732435Z",
     "start_time": "2021-02-10T08:28:46.638344Z"
    }
   },
   "outputs": [
    {
     "name": "stdout",
     "output_type": "stream",
     "text": [
      "Numpy version: 1.22.3\n",
      "Pandas version: 1.2.4\n",
      "Seaborn version: 0.11.2\n",
      "Matplotlib version: 3.5.1\n",
      "Sklearn version: 0.23.1\n",
      "Statsmodels version: 0.13.2\n"
     ]
    }
   ],
   "source": [
    "print('Numpy version:',np.__version__)\n",
    "print('Pandas version:',pd.__version__)\n",
    "print('Seaborn version:',sns.__version__)\n",
    "print('Matplotlib version:',matplotlib.__version__)\n",
    "print('Sklearn version:',sklearn.__version__)\n",
    "print('Statsmodels version:',statsmodels.__version__)"
   ]
  },
  {
   "cell_type": "markdown",
   "metadata": {},
   "source": [
    "## Read the data from the '.csv' file as a monthly Time Series."
   ]
  },
  {
   "cell_type": "code",
   "execution_count": 22,
   "metadata": {
    "ExecuteTime": {
     "end_time": "2021-02-10T08:28:54.273089Z",
     "start_time": "2021-02-10T08:28:53.715752Z"
    }
   },
   "outputs": [
    {
     "data": {
      "text/html": [
       "<div>\n",
       "<style scoped>\n",
       "    .dataframe tbody tr th:only-of-type {\n",
       "        vertical-align: middle;\n",
       "    }\n",
       "\n",
       "    .dataframe tbody tr th {\n",
       "        vertical-align: top;\n",
       "    }\n",
       "\n",
       "    .dataframe thead th {\n",
       "        text-align: right;\n",
       "    }\n",
       "</style>\n",
       "<table border=\"1\" class=\"dataframe\">\n",
       "  <thead>\n",
       "    <tr style=\"text-align: right;\">\n",
       "      <th></th>\n",
       "      <th>Year</th>\n",
       "      <th>Quarter</th>\n",
       "      <th>Total income</th>\n",
       "      <th>Total Cost</th>\n",
       "      <th>Netprofit</th>\n",
       "    </tr>\n",
       "  </thead>\n",
       "  <tbody>\n",
       "    <tr>\n",
       "      <th>24</th>\n",
       "      <td>2021</td>\n",
       "      <td>Q1</td>\n",
       "      <td>31703.0</td>\n",
       "      <td>63444.0</td>\n",
       "      <td>-31741.0</td>\n",
       "    </tr>\n",
       "    <tr>\n",
       "      <th>25</th>\n",
       "      <td>2021</td>\n",
       "      <td>Q2</td>\n",
       "      <td>57987.0</td>\n",
       "      <td>72344.0</td>\n",
       "      <td>-14357.0</td>\n",
       "    </tr>\n",
       "    <tr>\n",
       "      <th>26</th>\n",
       "      <td>2021</td>\n",
       "      <td>Q3</td>\n",
       "      <td>94801.0</td>\n",
       "      <td>93464.0</td>\n",
       "      <td>1337.0</td>\n",
       "    </tr>\n",
       "    <tr>\n",
       "      <th>27</th>\n",
       "      <td>2021</td>\n",
       "      <td>Q4</td>\n",
       "      <td>82075.0</td>\n",
       "      <td>98850.0</td>\n",
       "      <td>-16775.0</td>\n",
       "    </tr>\n",
       "    <tr>\n",
       "      <th>28</th>\n",
       "      <td>2022</td>\n",
       "      <td>Q1</td>\n",
       "      <td>130188.0</td>\n",
       "      <td>140831.0</td>\n",
       "      <td>-10643.0</td>\n",
       "    </tr>\n",
       "  </tbody>\n",
       "</table>\n",
       "</div>"
      ],
      "text/plain": [
       "    Year Quarter  Total income  Total Cost  Netprofit\n",
       "24  2021      Q1       31703.0     63444.0   -31741.0\n",
       "25  2021      Q2       57987.0     72344.0   -14357.0\n",
       "26  2021      Q3       94801.0     93464.0     1337.0\n",
       "27  2021      Q4       82075.0     98850.0   -16775.0\n",
       "28  2022      Q1      130188.0    140831.0   -10643.0"
      ]
     },
     "execution_count": 22,
     "metadata": {},
     "output_type": "execute_result"
    }
   ],
   "source": [
    "df = pd.read_excel('Indigodata.xlsx', parse_dates=True)\n",
    "df.tail()"
   ]
  },
  {
   "cell_type": "code",
   "execution_count": 23,
   "metadata": {
    "ExecuteTime": {
     "end_time": "2021-02-10T08:28:55.452228Z",
     "start_time": "2021-02-10T08:28:55.266087Z"
    }
   },
   "outputs": [
    {
     "data": {
      "text/plain": [
       "DatetimeIndex(['2015-03-31', '2015-06-30', '2015-09-30', '2015-12-31',\n",
       "               '2016-03-31', '2016-06-30', '2016-09-30', '2016-12-31',\n",
       "               '2017-03-31', '2017-06-30', '2017-09-30', '2017-12-31',\n",
       "               '2018-03-31', '2018-06-30', '2018-09-30', '2018-12-31',\n",
       "               '2019-03-31', '2019-06-30', '2019-09-30', '2019-12-31',\n",
       "               '2020-03-31', '2020-06-30', '2020-09-30', '2020-12-31',\n",
       "               '2021-03-31', '2021-06-30', '2021-09-30', '2021-12-31',\n",
       "               '2022-03-31'],\n",
       "              dtype='datetime64[ns]', freq='Q-DEC')"
      ]
     },
     "execution_count": 23,
     "metadata": {},
     "output_type": "execute_result"
    }
   ],
   "source": [
    "date=pd.date_range(start='1/1/2015',end='4/1/2022',freq='Q')\n",
    "date"
   ]
  },
  {
   "cell_type": "code",
   "execution_count": 24,
   "metadata": {
    "ExecuteTime": {
     "end_time": "2021-02-10T08:29:02.397992Z",
     "start_time": "2021-02-10T08:29:02.341783Z"
    }
   },
   "outputs": [
    {
     "data": {
      "text/html": [
       "<div>\n",
       "<style scoped>\n",
       "    .dataframe tbody tr th:only-of-type {\n",
       "        vertical-align: middle;\n",
       "    }\n",
       "\n",
       "    .dataframe tbody tr th {\n",
       "        vertical-align: top;\n",
       "    }\n",
       "\n",
       "    .dataframe thead th {\n",
       "        text-align: right;\n",
       "    }\n",
       "</style>\n",
       "<table border=\"1\" class=\"dataframe\">\n",
       "  <thead>\n",
       "    <tr style=\"text-align: right;\">\n",
       "      <th></th>\n",
       "      <th>Year</th>\n",
       "      <th>Quarter</th>\n",
       "      <th>Total income</th>\n",
       "      <th>Total Cost</th>\n",
       "      <th>Netprofit</th>\n",
       "      <th>Time_Stamp</th>\n",
       "    </tr>\n",
       "  </thead>\n",
       "  <tbody>\n",
       "    <tr>\n",
       "      <th>0</th>\n",
       "      <td>2015</td>\n",
       "      <td>Q1</td>\n",
       "      <td>43222.48</td>\n",
       "      <td>33993.29</td>\n",
       "      <td>9229.19</td>\n",
       "      <td>2015-03-31</td>\n",
       "    </tr>\n",
       "    <tr>\n",
       "      <th>1</th>\n",
       "      <td>2015</td>\n",
       "      <td>Q2</td>\n",
       "      <td>36387.33</td>\n",
       "      <td>34781.59</td>\n",
       "      <td>1605.74</td>\n",
       "      <td>2015-06-30</td>\n",
       "    </tr>\n",
       "    <tr>\n",
       "      <th>2</th>\n",
       "      <td>2015</td>\n",
       "      <td>Q3</td>\n",
       "      <td>44181.20</td>\n",
       "      <td>34958.34</td>\n",
       "      <td>9222.86</td>\n",
       "      <td>2015-09-30</td>\n",
       "    </tr>\n",
       "    <tr>\n",
       "      <th>3</th>\n",
       "      <td>2015</td>\n",
       "      <td>Q4</td>\n",
       "      <td>51419.90</td>\n",
       "      <td>45230.36</td>\n",
       "      <td>6189.54</td>\n",
       "      <td>2015-12-31</td>\n",
       "    </tr>\n",
       "    <tr>\n",
       "      <th>4</th>\n",
       "      <td>2016</td>\n",
       "      <td>Q1</td>\n",
       "      <td>47414.58</td>\n",
       "      <td>39947.62</td>\n",
       "      <td>7466.96</td>\n",
       "      <td>2016-03-31</td>\n",
       "    </tr>\n",
       "  </tbody>\n",
       "</table>\n",
       "</div>"
      ],
      "text/plain": [
       "   Year Quarter  Total income  Total Cost  Netprofit Time_Stamp\n",
       "0  2015      Q1      43222.48    33993.29    9229.19 2015-03-31\n",
       "1  2015      Q2      36387.33    34781.59    1605.74 2015-06-30\n",
       "2  2015      Q3      44181.20    34958.34    9222.86 2015-09-30\n",
       "3  2015      Q4      51419.90    45230.36    6189.54 2015-12-31\n",
       "4  2016      Q1      47414.58    39947.62    7466.96 2016-03-31"
      ]
     },
     "execution_count": 24,
     "metadata": {},
     "output_type": "execute_result"
    }
   ],
   "source": [
    "df['Time_Stamp'] = date\n",
    "df.head()"
   ]
  },
  {
   "cell_type": "code",
   "execution_count": 25,
   "metadata": {},
   "outputs": [
    {
     "data": {
      "text/html": [
       "<div>\n",
       "<style scoped>\n",
       "    .dataframe tbody tr th:only-of-type {\n",
       "        vertical-align: middle;\n",
       "    }\n",
       "\n",
       "    .dataframe tbody tr th {\n",
       "        vertical-align: top;\n",
       "    }\n",
       "\n",
       "    .dataframe thead th {\n",
       "        text-align: right;\n",
       "    }\n",
       "</style>\n",
       "<table border=\"1\" class=\"dataframe\">\n",
       "  <thead>\n",
       "    <tr style=\"text-align: right;\">\n",
       "      <th></th>\n",
       "      <th>Year</th>\n",
       "      <th>Quarter</th>\n",
       "      <th>Total income</th>\n",
       "      <th>Total Cost</th>\n",
       "      <th>Netprofit</th>\n",
       "    </tr>\n",
       "    <tr>\n",
       "      <th>Time_Stamp</th>\n",
       "      <th></th>\n",
       "      <th></th>\n",
       "      <th></th>\n",
       "      <th></th>\n",
       "      <th></th>\n",
       "    </tr>\n",
       "  </thead>\n",
       "  <tbody>\n",
       "    <tr>\n",
       "      <th>2015-03-31</th>\n",
       "      <td>2015</td>\n",
       "      <td>Q1</td>\n",
       "      <td>43222.48</td>\n",
       "      <td>33993.29</td>\n",
       "      <td>9229.19</td>\n",
       "    </tr>\n",
       "    <tr>\n",
       "      <th>2015-06-30</th>\n",
       "      <td>2015</td>\n",
       "      <td>Q2</td>\n",
       "      <td>36387.33</td>\n",
       "      <td>34781.59</td>\n",
       "      <td>1605.74</td>\n",
       "    </tr>\n",
       "    <tr>\n",
       "      <th>2015-09-30</th>\n",
       "      <td>2015</td>\n",
       "      <td>Q3</td>\n",
       "      <td>44181.20</td>\n",
       "      <td>34958.34</td>\n",
       "      <td>9222.86</td>\n",
       "    </tr>\n",
       "    <tr>\n",
       "      <th>2015-12-31</th>\n",
       "      <td>2015</td>\n",
       "      <td>Q4</td>\n",
       "      <td>51419.90</td>\n",
       "      <td>45230.36</td>\n",
       "      <td>6189.54</td>\n",
       "    </tr>\n",
       "    <tr>\n",
       "      <th>2016-03-31</th>\n",
       "      <td>2016</td>\n",
       "      <td>Q1</td>\n",
       "      <td>47414.58</td>\n",
       "      <td>39947.62</td>\n",
       "      <td>7466.96</td>\n",
       "    </tr>\n",
       "  </tbody>\n",
       "</table>\n",
       "</div>"
      ],
      "text/plain": [
       "            Year Quarter  Total income  Total Cost  Netprofit\n",
       "Time_Stamp                                                   \n",
       "2015-03-31  2015      Q1      43222.48    33993.29    9229.19\n",
       "2015-06-30  2015      Q2      36387.33    34781.59    1605.74\n",
       "2015-09-30  2015      Q3      44181.20    34958.34    9222.86\n",
       "2015-12-31  2015      Q4      51419.90    45230.36    6189.54\n",
       "2016-03-31  2016      Q1      47414.58    39947.62    7466.96"
      ]
     },
     "execution_count": 25,
     "metadata": {},
     "output_type": "execute_result"
    }
   ],
   "source": [
    "df.set_index(keys='Time_Stamp',drop=True,inplace=True)\n",
    "df.head()"
   ]
  },
  {
   "cell_type": "code",
   "execution_count": 26,
   "metadata": {},
   "outputs": [],
   "source": [
    "df=pd.DataFrame(df['Netprofit'])"
   ]
  },
  {
   "cell_type": "code",
   "execution_count": 28,
   "metadata": {},
   "outputs": [
    {
     "data": {
      "text/html": [
       "<div>\n",
       "<style scoped>\n",
       "    .dataframe tbody tr th:only-of-type {\n",
       "        vertical-align: middle;\n",
       "    }\n",
       "\n",
       "    .dataframe tbody tr th {\n",
       "        vertical-align: top;\n",
       "    }\n",
       "\n",
       "    .dataframe thead th {\n",
       "        text-align: right;\n",
       "    }\n",
       "</style>\n",
       "<table border=\"1\" class=\"dataframe\">\n",
       "  <thead>\n",
       "    <tr style=\"text-align: right;\">\n",
       "      <th></th>\n",
       "      <th>Netprofit</th>\n",
       "    </tr>\n",
       "    <tr>\n",
       "      <th>Time_Stamp</th>\n",
       "      <th></th>\n",
       "    </tr>\n",
       "  </thead>\n",
       "  <tbody>\n",
       "    <tr>\n",
       "      <th>2015-03-31</th>\n",
       "      <td>9229.19</td>\n",
       "    </tr>\n",
       "    <tr>\n",
       "      <th>2015-06-30</th>\n",
       "      <td>1605.74</td>\n",
       "    </tr>\n",
       "    <tr>\n",
       "      <th>2015-09-30</th>\n",
       "      <td>9222.86</td>\n",
       "    </tr>\n",
       "    <tr>\n",
       "      <th>2015-12-31</th>\n",
       "      <td>6189.54</td>\n",
       "    </tr>\n",
       "    <tr>\n",
       "      <th>2016-03-31</th>\n",
       "      <td>7466.96</td>\n",
       "    </tr>\n",
       "  </tbody>\n",
       "</table>\n",
       "</div>"
      ],
      "text/plain": [
       "            Netprofit\n",
       "Time_Stamp           \n",
       "2015-03-31    9229.19\n",
       "2015-06-30    1605.74\n",
       "2015-09-30    9222.86\n",
       "2015-12-31    6189.54\n",
       "2016-03-31    7466.96"
      ]
     },
     "execution_count": 28,
     "metadata": {},
     "output_type": "execute_result"
    }
   ],
   "source": [
    "df.head()"
   ]
  },
  {
   "cell_type": "code",
   "execution_count": null,
   "metadata": {},
   "outputs": [],
   "source": []
  },
  {
   "cell_type": "code",
   "execution_count": null,
   "metadata": {},
   "outputs": [],
   "source": []
  },
  {
   "cell_type": "code",
   "execution_count": 7,
   "metadata": {
    "ExecuteTime": {
     "end_time": "2021-02-10T08:29:03.203494Z",
     "start_time": "2021-02-10T08:29:03.175487Z"
    }
   },
   "outputs": [
    {
     "data": {
      "text/html": [
       "<div>\n",
       "<style scoped>\n",
       "    .dataframe tbody tr th:only-of-type {\n",
       "        vertical-align: middle;\n",
       "    }\n",
       "\n",
       "    .dataframe tbody tr th {\n",
       "        vertical-align: top;\n",
       "    }\n",
       "\n",
       "    .dataframe thead th {\n",
       "        text-align: right;\n",
       "    }\n",
       "</style>\n",
       "<table border=\"1\" class=\"dataframe\">\n",
       "  <thead>\n",
       "    <tr style=\"text-align: right;\">\n",
       "      <th></th>\n",
       "      <th>Sales_quantity</th>\n",
       "    </tr>\n",
       "    <tr>\n",
       "      <th>Time_Stamp</th>\n",
       "      <th></th>\n",
       "    </tr>\n",
       "  </thead>\n",
       "  <tbody>\n",
       "    <tr>\n",
       "      <th>2015-01-31</th>\n",
       "      <td>12729</td>\n",
       "    </tr>\n",
       "    <tr>\n",
       "      <th>2015-02-28</th>\n",
       "      <td>11636</td>\n",
       "    </tr>\n",
       "    <tr>\n",
       "      <th>2015-03-31</th>\n",
       "      <td>15922</td>\n",
       "    </tr>\n",
       "    <tr>\n",
       "      <th>2015-04-30</th>\n",
       "      <td>15227</td>\n",
       "    </tr>\n",
       "    <tr>\n",
       "      <th>2015-05-31</th>\n",
       "      <td>8620</td>\n",
       "    </tr>\n",
       "    <tr>\n",
       "      <th>...</th>\n",
       "      <td>...</td>\n",
       "    </tr>\n",
       "    <tr>\n",
       "      <th>2019-12-31</th>\n",
       "      <td>38069</td>\n",
       "    </tr>\n",
       "    <tr>\n",
       "      <th>2020-01-31</th>\n",
       "      <td>27184</td>\n",
       "    </tr>\n",
       "    <tr>\n",
       "      <th>2020-02-29</th>\n",
       "      <td>23509</td>\n",
       "    </tr>\n",
       "    <tr>\n",
       "      <th>2020-03-31</th>\n",
       "      <td>32569</td>\n",
       "    </tr>\n",
       "    <tr>\n",
       "      <th>2020-04-30</th>\n",
       "      <td>26615</td>\n",
       "    </tr>\n",
       "  </tbody>\n",
       "</table>\n",
       "<p>64 rows × 1 columns</p>\n",
       "</div>"
      ],
      "text/plain": [
       "            Sales_quantity\n",
       "Time_Stamp                \n",
       "2015-01-31           12729\n",
       "2015-02-28           11636\n",
       "2015-03-31           15922\n",
       "2015-04-30           15227\n",
       "2015-05-31            8620\n",
       "...                    ...\n",
       "2019-12-31           38069\n",
       "2020-01-31           27184\n",
       "2020-02-29           23509\n",
       "2020-03-31           32569\n",
       "2020-04-30           26615\n",
       "\n",
       "[64 rows x 1 columns]"
      ]
     },
     "execution_count": 7,
     "metadata": {},
     "output_type": "execute_result"
    }
   ],
   "source": [
    "df.set_index(keys='Time_Stamp',inplace=True)\n",
    "df"
   ]
  },
  {
   "cell_type": "markdown",
   "metadata": {},
   "source": [
    "## Plot the Time Series to understand the behaviour of the data."
   ]
  },
  {
   "cell_type": "code",
   "execution_count": 8,
   "metadata": {
    "ExecuteTime": {
     "end_time": "2021-02-10T08:29:06.623759Z",
     "start_time": "2021-02-10T08:29:06.467627Z"
    }
   },
   "outputs": [],
   "source": [
    "# The following code is to set the subsequent figure sizes\n",
    "\n",
    "from pylab import rcParams\n",
    "rcParams['figure.figsize'] = 20,8"
   ]
  },
  {
   "cell_type": "code",
   "execution_count": 9,
   "metadata": {
    "ExecuteTime": {
     "end_time": "2021-02-10T08:29:09.683449Z",
     "start_time": "2021-02-10T08:29:07.091375Z"
    }
   },
   "outputs": [
    {
     "data": {
      "image/png": "[encoded data removed]",
      "text/plain": [
       "<Figure size 1440x576 with 1 Axes>"
      ]
     },
     "metadata": {
      "needs_background": "light"
     },
     "output_type": "display_data"
    }
   ],
   "source": [
    "df.plot(grid=True);"
   ]
  },
  {
   "cell_type": "markdown",
   "metadata": {},
   "source": [
    "We can see that there is a trend with a seasonal pattern associated as well."
   ]
  },
  {
   "cell_type": "markdown",
   "metadata": {},
   "source": [
    "## Check the basic measures of descriptive statistics"
   ]
  },
  {
   "cell_type": "code",
   "execution_count": 10,
   "metadata": {
    "ExecuteTime": {
     "end_time": "2021-02-10T08:29:13.762515Z",
     "start_time": "2021-02-10T08:29:13.737451Z"
    }
   },
   "outputs": [
    {
     "data": {
      "text/html": [
       "<div>\n",
       "<style scoped>\n",
       "    .dataframe tbody tr th:only-of-type {\n",
       "        vertical-align: middle;\n",
       "    }\n",
       "\n",
       "    .dataframe tbody tr th {\n",
       "        vertical-align: top;\n",
       "    }\n",
       "\n",
       "    .dataframe thead th {\n",
       "        text-align: right;\n",
       "    }\n",
       "</style>\n",
       "<table border=\"1\" class=\"dataframe\">\n",
       "  <thead>\n",
       "    <tr style=\"text-align: right;\">\n",
       "      <th></th>\n",
       "      <th>Sales_quantity</th>\n",
       "    </tr>\n",
       "  </thead>\n",
       "  <tbody>\n",
       "    <tr>\n",
       "      <th>count</th>\n",
       "      <td>64.000000</td>\n",
       "    </tr>\n",
       "    <tr>\n",
       "      <th>mean</th>\n",
       "      <td>19197.375000</td>\n",
       "    </tr>\n",
       "    <tr>\n",
       "      <th>std</th>\n",
       "      <td>6591.287257</td>\n",
       "    </tr>\n",
       "    <tr>\n",
       "      <th>min</th>\n",
       "      <td>8314.000000</td>\n",
       "    </tr>\n",
       "    <tr>\n",
       "      <th>25%</th>\n",
       "      <td>15065.500000</td>\n",
       "    </tr>\n",
       "    <tr>\n",
       "      <th>50%</th>\n",
       "      <td>18368.000000</td>\n",
       "    </tr>\n",
       "    <tr>\n",
       "      <th>75%</th>\n",
       "      <td>22856.250000</td>\n",
       "    </tr>\n",
       "    <tr>\n",
       "      <th>max</th>\n",
       "      <td>38069.000000</td>\n",
       "    </tr>\n",
       "  </tbody>\n",
       "</table>\n",
       "</div>"
      ],
      "text/plain": [
       "       Sales_quantity\n",
       "count       64.000000\n",
       "mean     19197.375000\n",
       "std       6591.287257\n",
       "min       8314.000000\n",
       "25%      15065.500000\n",
       "50%      18368.000000\n",
       "75%      22856.250000\n",
       "max      38069.000000"
      ]
     },
     "execution_count": 10,
     "metadata": {},
     "output_type": "execute_result"
    }
   ],
   "source": [
    "df.describe()"
   ]
  },
  {
   "cell_type": "markdown",
   "metadata": {},
   "source": [
    "The basic measures of descriptive statistics tell us how the Sales have varied across years. But remember, for this measure of descriptive statistics we have averaged over the whole data without taking the time component into account."
   ]
  },
  {
   "cell_type": "markdown",
   "metadata": {},
   "source": [
    "## Decompose the Time Series and plot the different components."
   ]
  },
  {
   "cell_type": "code",
   "execution_count": 11,
   "metadata": {
    "ExecuteTime": {
     "end_time": "2021-02-10T08:29:22.403295Z",
     "start_time": "2021-02-10T08:29:20.495273Z"
    }
   },
   "outputs": [],
   "source": [
    "from    statsmodels.tsa.seasonal import   seasonal_decompose"
   ]
  },
  {
   "cell_type": "markdown",
   "metadata": {},
   "source": [
    "### Additive Decomposition"
   ]
  },
  {
   "cell_type": "code",
   "execution_count": 12,
   "metadata": {
    "ExecuteTime": {
     "end_time": "2021-02-10T08:29:26.653065Z",
     "start_time": "2021-02-10T08:29:24.681477Z"
    }
   },
   "outputs": [
    {
     "data": {
      "image/png": "[encoded data removed]",
      "text/plain": [
       "<Figure size 1440x576 with 4 Axes>"
      ]
     },
     "metadata": {
      "needs_background": "light"
     },
     "output_type": "display_data"
    }
   ],
   "source": [
    "decomposition = seasonal_decompose(df,model='additive')\n",
    "decomposition.plot();"
   ]
  },
  {
   "cell_type": "markdown",
   "metadata": {},
   "source": [
    "We see that the residuals have a pattern in this decomposition."
   ]
  },
  {
   "cell_type": "code",
   "execution_count": 13,
   "metadata": {
    "ExecuteTime": {
     "end_time": "2021-02-10T08:29:28.679194Z",
     "start_time": "2021-02-10T08:29:28.659785Z"
    },
    "scrolled": true
   },
   "outputs": [
    {
     "name": "stdout",
     "output_type": "stream",
     "text": [
      "Trend \n",
      " Time_Stamp\n",
      "2015-01-31             NaN\n",
      "2015-02-28             NaN\n",
      "2015-03-31             NaN\n",
      "2015-04-30             NaN\n",
      "2015-05-31             NaN\n",
      "2015-06-30             NaN\n",
      "2015-07-31    14311.750000\n",
      "2015-08-31    14484.791667\n",
      "2015-09-30    14648.708333\n",
      "2015-10-31    14694.500000\n",
      "2015-11-30    14636.791667\n",
      "2015-12-31    14714.875000\n",
      "Name: trend, dtype: float64 \n",
      "\n",
      "Seasonality \n",
      " Time_Stamp\n",
      "2015-01-31     334.942708\n",
      "2015-02-28   -1548.182292\n",
      "2015-03-31    6928.213542\n",
      "2015-04-30     -81.796875\n",
      "2015-05-31   -6501.359375\n",
      "2015-06-30     883.578125\n",
      "2015-07-31    -540.938542\n",
      "2015-08-31   -8376.538542\n",
      "2015-09-30     905.194792\n",
      "2015-10-31    1709.969792\n",
      "2015-11-30   -3474.494792\n",
      "2015-12-31    9761.411458\n",
      "Name: seasonal, dtype: float64 \n",
      "\n",
      "Residual \n",
      " Time_Stamp\n",
      "2015-01-31            NaN\n",
      "2015-02-28            NaN\n",
      "2015-03-31            NaN\n",
      "2015-04-30            NaN\n",
      "2015-05-31            NaN\n",
      "2015-06-30            NaN\n",
      "2015-07-31    3483.188542\n",
      "2015-08-31    2533.746875\n",
      "2015-09-30     590.096875\n",
      "2015-10-31    1730.530208\n",
      "2015-11-30    -321.296875\n",
      "2015-12-31   -2363.286458\n",
      "Name: resid, dtype: float64 \n",
      "\n"
     ]
    }
   ],
   "source": [
    "trend = decomposition.trend\n",
    "seasonality = decomposition.seasonal\n",
    "residual = decomposition.resid\n",
    "\n",
    "print('Trend','\\n',trend.head(12),'\\n')\n",
    "print('Seasonality','\\n',seasonality.head(12),'\\n')\n",
    "print('Residual','\\n',residual.head(12),'\\n')"
   ]
  },
  {
   "cell_type": "markdown",
   "metadata": {},
   "source": [
    "### Multiplicative Decomposition"
   ]
  },
  {
   "cell_type": "code",
   "execution_count": 14,
   "metadata": {
    "ExecuteTime": {
     "end_time": "2021-02-10T08:29:34.633205Z",
     "start_time": "2021-02-10T08:29:33.535424Z"
    }
   },
   "outputs": [
    {
     "data": {
      "image/png": "[encoded data removed]",
      "text/plain": [
       "<Figure size 1440x576 with 4 Axes>"
      ]
     },
     "metadata": {
      "needs_background": "light"
     },
     "output_type": "display_data"
    }
   ],
   "source": [
    "decomposition = seasonal_decompose(df,model='multiplicative')\n",
    "decomposition.plot();"
   ]
  },
  {
   "cell_type": "code",
   "execution_count": 15,
   "metadata": {
    "ExecuteTime": {
     "end_time": "2021-02-10T08:29:37.088625Z",
     "start_time": "2021-02-10T08:29:37.073006Z"
    },
    "scrolled": true
   },
   "outputs": [
    {
     "name": "stdout",
     "output_type": "stream",
     "text": [
      "Trend \n",
      " Time_Stamp\n",
      "2015-01-31             NaN\n",
      "2015-02-28             NaN\n",
      "2015-03-31             NaN\n",
      "2015-04-30             NaN\n",
      "2015-05-31             NaN\n",
      "2015-06-30             NaN\n",
      "2015-07-31    14311.750000\n",
      "2015-08-31    14484.791667\n",
      "2015-09-30    14648.708333\n",
      "2015-10-31    14694.500000\n",
      "2015-11-30    14636.791667\n",
      "2015-12-31    14714.875000\n",
      "Name: trend, dtype: float64 \n",
      "\n",
      "Seasonality \n",
      " Time_Stamp\n",
      "2015-01-31    1.016014\n",
      "2015-02-28    0.914684\n",
      "2015-03-31    1.351165\n",
      "2015-04-30    0.992906\n",
      "2015-05-31    0.652248\n",
      "2015-06-30    1.040221\n",
      "2015-07-31    0.990120\n",
      "2015-08-31    0.557343\n",
      "2015-09-30    1.055952\n",
      "2015-10-31    1.098610\n",
      "2015-11-30    0.802419\n",
      "2015-12-31    1.528319\n",
      "Name: seasonal, dtype: float64 \n",
      "\n",
      "Residual \n",
      " Time_Stamp\n",
      "2015-01-31         NaN\n",
      "2015-02-28         NaN\n",
      "2015-03-31         NaN\n",
      "2015-04-30         NaN\n",
      "2015-05-31         NaN\n",
      "2015-06-30         NaN\n",
      "2015-07-31    1.217613\n",
      "2015-08-31    1.070482\n",
      "2015-09-30    1.043681\n",
      "2015-10-31    1.123361\n",
      "2015-11-30    0.923043\n",
      "2015-12-31    0.983280\n",
      "Name: resid, dtype: float64 \n",
      "\n"
     ]
    }
   ],
   "source": [
    "trend = decomposition.trend\n",
    "seasonality = decomposition.seasonal\n",
    "residual = decomposition.resid\n",
    "\n",
    "print('Trend','\\n',trend.head(12),'\\n')\n",
    "print('Seasonality','\\n',seasonality.head(12),'\\n')\n",
    "print('Residual','\\n',residual.head(12),'\\n')"
   ]
  },
  {
   "cell_type": "markdown",
   "metadata": {},
   "source": [
    "For the multiplicative series, we see that a lot of residuals are located around 1."
   ]
  },
  {
   "cell_type": "markdown",
   "metadata": {},
   "source": [
    "## Check for stationarity of the whole Time Series data."
   ]
  },
  {
   "cell_type": "markdown",
   "metadata": {},
   "source": [
    "The Augmented Dickey-Fuller test is an unit root test which determines whether there is a unit root and subsequently whether the series is non-stationary.\n",
    "\n",
    "The hypothesis in a simple form for the ADF test is:\n",
    "* $H_0$ : The Time Series has a unit root and is thus non-stationary.\n",
    "* $H_1$ : The Time Series does not have a unit root and is thus stationary.\n",
    "\n",
    "We would want the series to be stationary for building ARIMA models and thus we would want the p-value of this test to be less than the $\\alpha$ value."
   ]
  },
  {
   "cell_type": "code",
   "execution_count": 36,
   "metadata": {
    "ExecuteTime": {
     "end_time": "2021-02-10T08:29:48.522765Z",
     "start_time": "2021-02-10T08:29:46.423939Z"
    }
   },
   "outputs": [],
   "source": [
    "from statsmodels.tsa.stattools import adfuller"
   ]
  },
  {
   "cell_type": "code",
   "execution_count": 37,
   "metadata": {
    "ExecuteTime": {
     "end_time": "2021-02-10T08:29:49.150470Z",
     "start_time": "2021-02-10T08:29:48.585005Z"
    }
   },
   "outputs": [
    {
     "name": "stdout",
     "output_type": "stream",
     "text": [
      "DF test statistic is -4.449\n",
      "DF test p-value is 0.001826283921732257\n",
      "Number of lags used 0\n"
     ]
    }
   ],
   "source": [
    "dftest = adfuller(df,regression='ct')\n",
    "print('DF test statistic is %3.3f' %dftest[0])\n",
    "print('DF test p-value is' ,dftest[1])\n",
    "print('Number of lags used' ,dftest[2])"
   ]
  },
  {
   "cell_type": "markdown",
   "metadata": {},
   "source": [
    "We see that at 5% significant level the Time Series is non-stationary."
   ]
  },
  {
   "cell_type": "markdown",
   "metadata": {},
   "source": [
    "There are various ways that Python allows us to select the appropriate number of lags at which we check whether the Time Series is stationary. To know more about the how to select the various ways, please refer to the link over $\\href{https://www.statsmodels.org/dev/generated/statsmodels.tsa.stattools.adfuller.html}{here}$."
   ]
  },
  {
   "cell_type": "markdown",
   "metadata": {},
   "source": [
    "Let us take one level of differencing to see whether the series becomes stationary."
   ]
  },
  {
   "cell_type": "code",
   "execution_count": 38,
   "metadata": {
    "ExecuteTime": {
     "end_time": "2021-02-10T08:29:58.972498Z",
     "start_time": "2021-02-10T08:29:58.409214Z"
    }
   },
   "outputs": [
    {
     "name": "stdout",
     "output_type": "stream",
     "text": [
      "DF test statistic is -4.750\n",
      "DF test p-value is 0.0005716752394229384\n",
      "Number of lags used 2\n"
     ]
    }
   ],
   "source": [
    "dftest = adfuller(df.diff().dropna(),regression='ct')\n",
    "print('DF test statistic is %3.3f' %dftest[0])\n",
    "print('DF test p-value is' ,dftest[1])\n",
    "print('Number of lags used' ,dftest[2])"
   ]
  },
  {
   "cell_type": "markdown",
   "metadata": {},
   "source": [
    "Now, let us go ahead and plot the stationary series."
   ]
  },
  {
   "cell_type": "code",
   "execution_count": 19,
   "metadata": {
    "ExecuteTime": {
     "end_time": "2021-02-10T08:30:02.040405Z",
     "start_time": "2021-02-10T08:30:01.535813Z"
    }
   },
   "outputs": [
    {
     "data": {
      "image/png": "[encoded data removed]",
      "text/plain": [
       "<Figure size 1440x576 with 1 Axes>"
      ]
     },
     "metadata": {
      "needs_background": "light"
     },
     "output_type": "display_data"
    }
   ],
   "source": [
    "df.diff().dropna().plot(grid=True);"
   ]
  },
  {
   "cell_type": "markdown",
   "metadata": {},
   "source": [
    "## Plot the Autocorrelation and the Partial Autocorrelation function plots on the whole data."
   ]
  },
  {
   "cell_type": "code",
   "execution_count": 20,
   "metadata": {
    "ExecuteTime": {
     "end_time": "2021-02-10T09:21:01.113424Z",
     "start_time": "2021-02-10T09:21:00.300370Z"
    }
   },
   "outputs": [],
   "source": [
    "from statsmodels.graphics.tsaplots import plot_acf, plot_pacf"
   ]
  },
  {
   "cell_type": "code",
   "execution_count": 21,
   "metadata": {
    "ExecuteTime": {
     "end_time": "2021-02-10T09:21:07.923025Z",
     "start_time": "2021-02-10T09:21:06.995424Z"
    }
   },
   "outputs": [
    {
     "data": {
      "image/png": "[encoded data removed]",
      "text/plain": [
       "<Figure size 1440x576 with 1 Axes>"
      ]
     },
     "metadata": {
      "needs_background": "light"
     },
     "output_type": "display_data"
    }
   ],
   "source": [
    "plot_acf(df,alpha=0.05);"
   ]
  },
  {
   "cell_type": "markdown",
   "metadata": {},
   "source": [
    "From the above plots, we can say that there seems to be a seasonality in the data."
   ]
  },
  {
   "cell_type": "code",
   "execution_count": 22,
   "metadata": {
    "ExecuteTime": {
     "end_time": "2021-02-10T09:21:15.813150Z",
     "start_time": "2021-02-10T09:21:14.878538Z"
    }
   },
   "outputs": [
    {
     "name": "stderr",
     "output_type": "stream",
     "text": [
      "/Users/ssps/opt/anaconda3/lib/python3.8/site-packages/statsmodels/regression/linear_model.py:1434: RuntimeWarning: invalid value encountered in sqrt\n",
      "  return rho, np.sqrt(sigmasq)\n"
     ]
    },
    {
     "data": {
      "image/png": "[encoded data removed]",
      "text/plain": [
       "<Figure size 1440x576 with 1 Axes>"
      ]
     },
     "metadata": {
      "needs_background": "light"
     },
     "output_type": "display_data"
    }
   ],
   "source": [
    "plot_pacf(df,zero=False,alpha=0.05);"
   ]
  },
  {
   "cell_type": "code",
   "execution_count": 23,
   "metadata": {
    "ExecuteTime": {
     "end_time": "2021-02-10T09:21:20.777202Z",
     "start_time": "2021-02-10T09:21:20.227864Z"
    }
   },
   "outputs": [
    {
     "data": {
      "image/png": "[encoded data removed]",
      "text/plain": [
       "<Figure size 1440x576 with 1 Axes>"
      ]
     },
     "metadata": {
      "needs_background": "light"
     },
     "output_type": "display_data"
    }
   ],
   "source": [
    "plot_pacf(df,zero=False,alpha=0.05,method='ywmle');"
   ]
  },
  {
   "cell_type": "markdown",
   "metadata": {},
   "source": [
    "## Split the data into train and test and plot the training and test data.\n",
    "\n",
    "Training Data is till the end of 2018. Test Data is from the beginning of 2019 to the last time stamp provided."
   ]
  },
  {
   "cell_type": "code",
   "execution_count": 39,
   "metadata": {
    "ExecuteTime": {
     "end_time": "2021-02-10T09:21:26.492005Z",
     "start_time": "2021-02-10T09:21:26.386170Z"
    }
   },
   "outputs": [
    {
     "data": {
      "text/plain": [
       "Int64Index([2015, 2016, 2017, 2018, 2019, 2020, 2021, 2022], dtype='int64', name='Time_Stamp')"
      ]
     },
     "execution_count": 39,
     "metadata": {},
     "output_type": "execute_result"
    }
   ],
   "source": [
    "df.index.year.unique()"
   ]
  },
  {
   "cell_type": "code",
   "execution_count": 87,
   "metadata": {
    "ExecuteTime": {
     "end_time": "2021-02-10T09:21:28.712738Z",
     "start_time": "2021-02-10T09:21:27.508138Z"
    }
   },
   "outputs": [],
   "source": [
    "train = df[df.index<='2021'] \n",
    "test = df[df.index>'2021']"
   ]
  },
  {
   "cell_type": "code",
   "execution_count": 88,
   "metadata": {
    "ExecuteTime": {
     "end_time": "2021-02-10T09:21:29.931057Z",
     "start_time": "2021-02-10T09:21:29.925830Z"
    }
   },
   "outputs": [],
   "source": [
    "## This is to display multiple data frames from one cell\n",
    "from IPython.display import display"
   ]
  },
  {
   "cell_type": "code",
   "execution_count": 89,
   "metadata": {
    "ExecuteTime": {
     "end_time": "2021-02-10T09:21:30.874123Z",
     "start_time": "2021-02-10T09:21:30.825569Z"
    },
    "scrolled": true
   },
   "outputs": [
    {
     "name": "stdout",
     "output_type": "stream",
     "text": [
      "First few rows of Training Data\n"
     ]
    },
    {
     "data": {
      "text/html": [
       "<div>\n",
       "<style scoped>\n",
       "    .dataframe tbody tr th:only-of-type {\n",
       "        vertical-align: middle;\n",
       "    }\n",
       "\n",
       "    .dataframe tbody tr th {\n",
       "        vertical-align: top;\n",
       "    }\n",
       "\n",
       "    .dataframe thead th {\n",
       "        text-align: right;\n",
       "    }\n",
       "</style>\n",
       "<table border=\"1\" class=\"dataframe\">\n",
       "  <thead>\n",
       "    <tr style=\"text-align: right;\">\n",
       "      <th></th>\n",
       "      <th>Netprofit</th>\n",
       "    </tr>\n",
       "    <tr>\n",
       "      <th>Time_Stamp</th>\n",
       "      <th></th>\n",
       "    </tr>\n",
       "  </thead>\n",
       "  <tbody>\n",
       "    <tr>\n",
       "      <th>2015-03-31</th>\n",
       "      <td>9229.19</td>\n",
       "    </tr>\n",
       "    <tr>\n",
       "      <th>2015-06-30</th>\n",
       "      <td>1605.74</td>\n",
       "    </tr>\n",
       "    <tr>\n",
       "      <th>2015-09-30</th>\n",
       "      <td>9222.86</td>\n",
       "    </tr>\n",
       "    <tr>\n",
       "      <th>2015-12-31</th>\n",
       "      <td>6189.54</td>\n",
       "    </tr>\n",
       "    <tr>\n",
       "      <th>2016-03-31</th>\n",
       "      <td>7466.96</td>\n",
       "    </tr>\n",
       "  </tbody>\n",
       "</table>\n",
       "</div>"
      ],
      "text/plain": [
       "            Netprofit\n",
       "Time_Stamp           \n",
       "2015-03-31    9229.19\n",
       "2015-06-30    1605.74\n",
       "2015-09-30    9222.86\n",
       "2015-12-31    6189.54\n",
       "2016-03-31    7466.96"
      ]
     },
     "metadata": {},
     "output_type": "display_data"
    },
    {
     "name": "stdout",
     "output_type": "stream",
     "text": [
      "Last few rows of Training Data\n"
     ]
    },
    {
     "data": {
      "text/html": [
       "<div>\n",
       "<style scoped>\n",
       "    .dataframe tbody tr th:only-of-type {\n",
       "        vertical-align: middle;\n",
       "    }\n",
       "\n",
       "    .dataframe tbody tr th {\n",
       "        vertical-align: top;\n",
       "    }\n",
       "\n",
       "    .dataframe thead th {\n",
       "        text-align: right;\n",
       "    }\n",
       "</style>\n",
       "<table border=\"1\" class=\"dataframe\">\n",
       "  <thead>\n",
       "    <tr style=\"text-align: right;\">\n",
       "      <th></th>\n",
       "      <th>Netprofit</th>\n",
       "    </tr>\n",
       "    <tr>\n",
       "      <th>Time_Stamp</th>\n",
       "      <th></th>\n",
       "    </tr>\n",
       "  </thead>\n",
       "  <tbody>\n",
       "    <tr>\n",
       "      <th>2019-12-31</th>\n",
       "      <td>-12898.0</td>\n",
       "    </tr>\n",
       "    <tr>\n",
       "      <th>2020-03-31</th>\n",
       "      <td>-28426.0</td>\n",
       "    </tr>\n",
       "    <tr>\n",
       "      <th>2020-06-30</th>\n",
       "      <td>-11949.0</td>\n",
       "    </tr>\n",
       "    <tr>\n",
       "      <th>2020-09-30</th>\n",
       "      <td>-6231.0</td>\n",
       "    </tr>\n",
       "    <tr>\n",
       "      <th>2020-12-31</th>\n",
       "      <td>-11575.0</td>\n",
       "    </tr>\n",
       "  </tbody>\n",
       "</table>\n",
       "</div>"
      ],
      "text/plain": [
       "            Netprofit\n",
       "Time_Stamp           \n",
       "2019-12-31   -12898.0\n",
       "2020-03-31   -28426.0\n",
       "2020-06-30   -11949.0\n",
       "2020-09-30    -6231.0\n",
       "2020-12-31   -11575.0"
      ]
     },
     "metadata": {},
     "output_type": "display_data"
    },
    {
     "name": "stdout",
     "output_type": "stream",
     "text": [
      "First few rows of Test Data\n"
     ]
    },
    {
     "data": {
      "text/html": [
       "<div>\n",
       "<style scoped>\n",
       "    .dataframe tbody tr th:only-of-type {\n",
       "        vertical-align: middle;\n",
       "    }\n",
       "\n",
       "    .dataframe tbody tr th {\n",
       "        vertical-align: top;\n",
       "    }\n",
       "\n",
       "    .dataframe thead th {\n",
       "        text-align: right;\n",
       "    }\n",
       "</style>\n",
       "<table border=\"1\" class=\"dataframe\">\n",
       "  <thead>\n",
       "    <tr style=\"text-align: right;\">\n",
       "      <th></th>\n",
       "      <th>Netprofit</th>\n",
       "    </tr>\n",
       "    <tr>\n",
       "      <th>Time_Stamp</th>\n",
       "      <th></th>\n",
       "    </tr>\n",
       "  </thead>\n",
       "  <tbody>\n",
       "    <tr>\n",
       "      <th>2021-03-31</th>\n",
       "      <td>-31741.0</td>\n",
       "    </tr>\n",
       "    <tr>\n",
       "      <th>2021-06-30</th>\n",
       "      <td>-14357.0</td>\n",
       "    </tr>\n",
       "    <tr>\n",
       "      <th>2021-09-30</th>\n",
       "      <td>1337.0</td>\n",
       "    </tr>\n",
       "    <tr>\n",
       "      <th>2021-12-31</th>\n",
       "      <td>-16775.0</td>\n",
       "    </tr>\n",
       "    <tr>\n",
       "      <th>2022-03-31</th>\n",
       "      <td>-10643.0</td>\n",
       "    </tr>\n",
       "  </tbody>\n",
       "</table>\n",
       "</div>"
      ],
      "text/plain": [
       "            Netprofit\n",
       "Time_Stamp           \n",
       "2021-03-31   -31741.0\n",
       "2021-06-30   -14357.0\n",
       "2021-09-30     1337.0\n",
       "2021-12-31   -16775.0\n",
       "2022-03-31   -10643.0"
      ]
     },
     "metadata": {},
     "output_type": "display_data"
    },
    {
     "name": "stdout",
     "output_type": "stream",
     "text": [
      "Last few rows of Test Data\n"
     ]
    },
    {
     "data": {
      "text/html": [
       "<div>\n",
       "<style scoped>\n",
       "    .dataframe tbody tr th:only-of-type {\n",
       "        vertical-align: middle;\n",
       "    }\n",
       "\n",
       "    .dataframe tbody tr th {\n",
       "        vertical-align: top;\n",
       "    }\n",
       "\n",
       "    .dataframe thead th {\n",
       "        text-align: right;\n",
       "    }\n",
       "</style>\n",
       "<table border=\"1\" class=\"dataframe\">\n",
       "  <thead>\n",
       "    <tr style=\"text-align: right;\">\n",
       "      <th></th>\n",
       "      <th>Netprofit</th>\n",
       "    </tr>\n",
       "    <tr>\n",
       "      <th>Time_Stamp</th>\n",
       "      <th></th>\n",
       "    </tr>\n",
       "  </thead>\n",
       "  <tbody>\n",
       "    <tr>\n",
       "      <th>2021-03-31</th>\n",
       "      <td>-31741.0</td>\n",
       "    </tr>\n",
       "    <tr>\n",
       "      <th>2021-06-30</th>\n",
       "      <td>-14357.0</td>\n",
       "    </tr>\n",
       "    <tr>\n",
       "      <th>2021-09-30</th>\n",
       "      <td>1337.0</td>\n",
       "    </tr>\n",
       "    <tr>\n",
       "      <th>2021-12-31</th>\n",
       "      <td>-16775.0</td>\n",
       "    </tr>\n",
       "    <tr>\n",
       "      <th>2022-03-31</th>\n",
       "      <td>-10643.0</td>\n",
       "    </tr>\n",
       "  </tbody>\n",
       "</table>\n",
       "</div>"
      ],
      "text/plain": [
       "            Netprofit\n",
       "Time_Stamp           \n",
       "2021-03-31   -31741.0\n",
       "2021-06-30   -14357.0\n",
       "2021-09-30     1337.0\n",
       "2021-12-31   -16775.0\n",
       "2022-03-31   -10643.0"
      ]
     },
     "metadata": {},
     "output_type": "display_data"
    }
   ],
   "source": [
    "print('First few rows of Training Data')\n",
    "display(train.head())\n",
    "print('Last few rows of Training Data')\n",
    "display(train.tail())\n",
    "print('First few rows of Test Data')\n",
    "display(test.head())\n",
    "print('Last few rows of Test Data')\n",
    "display(test.tail())"
   ]
  },
  {
   "cell_type": "code",
   "execution_count": 90,
   "metadata": {
    "ExecuteTime": {
     "end_time": "2021-02-10T09:21:34.896574Z",
     "start_time": "2021-02-10T09:21:34.881907Z"
    }
   },
   "outputs": [
    {
     "name": "stdout",
     "output_type": "stream",
     "text": [
      "(24, 1)\n",
      "(5, 1)\n"
     ]
    }
   ],
   "source": [
    "print(train.shape)\n",
    "print(test.shape)"
   ]
  },
  {
   "cell_type": "markdown",
   "metadata": {},
   "source": [
    "## Check for stationarity of the Training Data Time Series."
   ]
  },
  {
   "cell_type": "markdown",
   "metadata": {},
   "source": [
    "Let us plot the training data once."
   ]
  },
  {
   "cell_type": "code",
   "execution_count": 91,
   "metadata": {
    "ExecuteTime": {
     "end_time": "2021-02-10T09:21:40.753265Z",
     "start_time": "2021-02-10T09:21:39.797034Z"
    }
   },
   "outputs": [
    {
     "data": {
      "image/png": "[encoded data removed]",
      "text/plain": [
       "<Figure size 432x288 with 1 Axes>"
      ]
     },
     "metadata": {
      "needs_background": "light"
     },
     "output_type": "display_data"
    }
   ],
   "source": [
    "train.plot(grid=True);"
   ]
  },
  {
   "cell_type": "code",
   "execution_count": 92,
   "metadata": {
    "ExecuteTime": {
     "end_time": "2021-02-10T09:21:41.843120Z",
     "start_time": "2021-02-10T09:21:41.604672Z"
    }
   },
   "outputs": [
    {
     "name": "stdout",
     "output_type": "stream",
     "text": [
      "DF test statistic is -3.173\n",
      "DF test p-value is 0.0898203964213714\n",
      "Number of lags used 9\n"
     ]
    }
   ],
   "source": [
    "dftest = adfuller(train,regression='ct')\n",
    "print('DF test statistic is %3.3f' %dftest[0])\n",
    "print('DF test p-value is' ,dftest[1])\n",
    "print('Number of lags used' ,dftest[2])"
   ]
  },
  {
   "cell_type": "markdown",
   "metadata": {},
   "source": [
    "The training data is non-stationary at 95% confidence level. Let us take a first level of differencing to stationarize the Time Series."
   ]
  },
  {
   "cell_type": "code",
   "execution_count": 117,
   "metadata": {
    "ExecuteTime": {
     "end_time": "2021-02-10T09:21:45.051672Z",
     "start_time": "2021-02-10T09:21:45.011186Z"
    }
   },
   "outputs": [
    {
     "name": "stdout",
     "output_type": "stream",
     "text": [
      "DF test statistic is -4.838\n",
      "DF test p-value is 0.00040105787264059327\n",
      "Number of lags used 6\n",
      "Number of lags used 16\n"
     ]
    }
   ],
   "source": [
    "dftest = adfuller(train.diff().dropna(),regression='ct')\n",
    "print('DF test statistic is %3.3f' %dftest[0])\n",
    "print('DF test p-value is' ,dftest[1])\n",
    "print('Number of lags used' ,dftest[2])\n",
    "print('Number of lags used' ,dftest[3])"
   ]
  },
  {
   "cell_type": "markdown",
   "metadata": {},
   "source": [
    "Now, let us go ahead and plot the differenced training data."
   ]
  },
  {
   "cell_type": "code",
   "execution_count": 94,
   "metadata": {
    "ExecuteTime": {
     "end_time": "2021-02-10T09:21:50.188722Z",
     "start_time": "2021-02-10T09:21:49.347085Z"
    }
   },
   "outputs": [
    {
     "data": {
      "image/png": "[encoded data removed]",
      "text/plain": [
       "<Figure size 432x288 with 1 Axes>"
      ]
     },
     "metadata": {
      "needs_background": "light"
     },
     "output_type": "display_data"
    }
   ],
   "source": [
    "train.diff(3).dropna().plot(grid=True);"
   ]
  },
  {
   "cell_type": "markdown",
   "metadata": {},
   "source": [
    "##### Note: If the series is non-stationary, stationarize the Time Series by taking a difference of the Time Series. Then we can use this particular differenced series to train the ARIMA models. We do not need to worry about stationarity for the Test Data because we are not building any models on the Test Data, we are evaluating our models over there. You can look at other kinds of transformations as part of making the time series stationary like taking logarithms."
   ]
  },
  {
   "cell_type": "code",
   "execution_count": 118,
   "metadata": {
    "ExecuteTime": {
     "end_time": "2021-02-10T09:22:02.932347Z",
     "start_time": "2021-02-10T09:22:02.748964Z"
    }
   },
   "outputs": [
    {
     "name": "stdout",
     "output_type": "stream",
     "text": [
      "<class 'pandas.core.frame.DataFrame'>\n",
      "DatetimeIndex: 24 entries, 2015-03-31 to 2020-12-31\n",
      "Data columns (total 1 columns):\n",
      " #   Column     Non-Null Count  Dtype  \n",
      "---  ------     --------------  -----  \n",
      " 0   Netprofit  24 non-null     float64\n",
      "dtypes: float64(1)\n",
      "memory usage: 384.0 bytes\n"
     ]
    }
   ],
   "source": [
    "train.info()"
   ]
  },
  {
   "cell_type": "markdown",
   "metadata": {},
   "source": [
    "## Build an Automated version of an ARIMA model for which the best parameters are selected in accordance with the lowest Akaike Information Criteria (AIC)."
   ]
  },
  {
   "cell_type": "markdown",
   "metadata": {},
   "source": [
    "##### Note: The data has some seasonality so ideally we should build a SARIMA model. But for demonstration purposes we are building an ARIMA model both by looking at the minimum AIC criterion and by looking at the ACF and the PACF plots."
   ]
  },
  {
   "cell_type": "code",
   "execution_count": 120,
   "metadata": {
    "ExecuteTime": {
     "end_time": "2021-02-10T09:22:06.231139Z",
     "start_time": "2021-02-10T09:22:06.212855Z"
    }
   },
   "outputs": [
    {
     "name": "stdout",
     "output_type": "stream",
     "text": [
      "Examples of the parameter combinations for the Model\n",
      "Model: (0, 0, 0)\n",
      "Model: (0, 0, 1)\n",
      "Model: (0, 0, 2)\n",
      "Model: (0, 0, 3)\n",
      "Model: (0, 1, 0)\n",
      "Model: (0, 1, 1)\n",
      "Model: (0, 1, 2)\n",
      "Model: (0, 1, 3)\n",
      "Model: (1, 0, 0)\n",
      "Model: (1, 0, 1)\n",
      "Model: (1, 0, 2)\n",
      "Model: (1, 0, 3)\n",
      "Model: (1, 1, 0)\n",
      "Model: (1, 1, 1)\n",
      "Model: (1, 1, 2)\n",
      "Model: (1, 1, 3)\n",
      "Model: (2, 0, 0)\n",
      "Model: (2, 0, 1)\n",
      "Model: (2, 0, 2)\n",
      "Model: (2, 0, 3)\n",
      "Model: (2, 1, 0)\n",
      "Model: (2, 1, 1)\n",
      "Model: (2, 1, 2)\n",
      "Model: (2, 1, 3)\n",
      "Model: (3, 0, 0)\n",
      "Model: (3, 0, 1)\n",
      "Model: (3, 0, 2)\n",
      "Model: (3, 0, 3)\n",
      "Model: (3, 1, 0)\n",
      "Model: (3, 1, 1)\n",
      "Model: (3, 1, 2)\n",
      "Model: (3, 1, 3)\n"
     ]
    }
   ],
   "source": [
    "## The following loop helps us in getting a combination of different parameters of p and q in the range of 0 and 2\n",
    "## We have kept the value of d as 1 as we need to take a difference of the series to make it stationary.\n",
    "\n",
    "import itertools\n",
    "p = q = range(0, 4)\n",
    "d= range(0,2)\n",
    "pdq = list(itertools.product(p, d, q))\n",
    "print('Examples of the parameter combinations for the Model')\n",
    "for i in range(0,len(pdq)):\n",
    "    print('Model: {}'.format(pdq[i]))"
   ]
  },
  {
   "cell_type": "code",
   "execution_count": 121,
   "metadata": {
    "ExecuteTime": {
     "end_time": "2021-02-10T09:22:09.252783Z",
     "start_time": "2021-02-10T09:22:09.188046Z"
    }
   },
   "outputs": [
    {
     "data": {
      "text/html": [
       "<div>\n",
       "<style scoped>\n",
       "    .dataframe tbody tr th:only-of-type {\n",
       "        vertical-align: middle;\n",
       "    }\n",
       "\n",
       "    .dataframe tbody tr th {\n",
       "        vertical-align: top;\n",
       "    }\n",
       "\n",
       "    .dataframe thead th {\n",
       "        text-align: right;\n",
       "    }\n",
       "</style>\n",
       "<table border=\"1\" class=\"dataframe\">\n",
       "  <thead>\n",
       "    <tr style=\"text-align: right;\">\n",
       "      <th></th>\n",
       "      <th>param</th>\n",
       "      <th>AIC</th>\n",
       "    </tr>\n",
       "  </thead>\n",
       "  <tbody>\n",
       "  </tbody>\n",
       "</table>\n",
       "</div>"
      ],
      "text/plain": [
       "Empty DataFrame\n",
       "Columns: [param, AIC]\n",
       "Index: []"
      ]
     },
     "execution_count": 121,
     "metadata": {},
     "output_type": "execute_result"
    }
   ],
   "source": [
    "# Creating an empty Dataframe with column names only\n",
    "ARIMA_AIC = pd.DataFrame(columns=['param', 'AIC'])\n",
    "ARIMA_AIC"
   ]
  },
  {
   "cell_type": "code",
   "execution_count": 122,
   "metadata": {
    "ExecuteTime": {
     "end_time": "2021-02-10T09:22:17.313387Z",
     "start_time": "2021-02-10T09:22:09.950509Z"
    }
   },
   "outputs": [
    {
     "name": "stdout",
     "output_type": "stream",
     "text": [
      "ARIMA(0, 0, 0) - AIC:514.772923020536\n",
      "ARIMA(0, 0, 1) - AIC:513.2617743068538\n",
      "ARIMA(0, 0, 2) - AIC:514.2378495590046\n",
      "ARIMA(0, 0, 3) - AIC:512.9951098766853\n",
      "ARIMA(0, 1, 0) - AIC:492.41113021173476\n",
      "ARIMA(0, 1, 1) - AIC:488.42285923239837\n",
      "ARIMA(0, 1, 2) - AIC:491.31674302398204\n",
      "ARIMA(0, 1, 3) - AIC:494.73495568276803\n",
      "ARIMA(1, 0, 0) - AIC:510.8108554683157\n",
      "ARIMA(1, 0, 1) - AIC:512.0322204359129\n",
      "ARIMA(1, 0, 2) - AIC:514.6862551051101\n",
      "ARIMA(1, 0, 3) - AIC:514.8372306923939\n",
      "ARIMA(1, 1, 0) - AIC:489.82451952199085\n",
      "ARIMA(1, 1, 1) - AIC:490.28920091039214\n"
     ]
    },
    {
     "name": "stderr",
     "output_type": "stream",
     "text": [
      "C:\\Anaconda3\\lib\\site-packages\\statsmodels\\tsa\\statespace\\sarimax.py:966: UserWarning: Non-stationary starting autoregressive parameters found. Using zeros as starting parameters.\n",
      "  warn('Non-stationary starting autoregressive parameters'\n",
      "C:\\Anaconda3\\lib\\site-packages\\statsmodels\\tsa\\statespace\\sarimax.py:978: UserWarning: Non-invertible starting MA parameters found. Using zeros as starting parameters.\n",
      "  warn('Non-invertible starting MA parameters found.'\n"
     ]
    },
    {
     "name": "stdout",
     "output_type": "stream",
     "text": [
      "ARIMA(1, 1, 2) - AIC:492.8323194094433\n",
      "ARIMA(1, 1, 3) - AIC:496.68041162557404\n",
      "ARIMA(2, 0, 0) - AIC:511.83373648428557\n",
      "ARIMA(2, 0, 1) - AIC:513.9527162924378\n",
      "ARIMA(2, 0, 2) - AIC:515.2503773456772\n",
      "ARIMA(2, 0, 3) - AIC:515.7742411516874\n",
      "ARIMA(2, 1, 0) - AIC:491.19919124203534\n",
      "ARIMA(2, 1, 1) - AIC:492.17617472542065\n"
     ]
    },
    {
     "name": "stderr",
     "output_type": "stream",
     "text": [
      "C:\\Anaconda3\\lib\\site-packages\\statsmodels\\base\\model.py:604: ConvergenceWarning: Maximum Likelihood optimization failed to converge. Check mle_retvals\n",
      "  warnings.warn(\"Maximum Likelihood optimization failed to \"\n"
     ]
    },
    {
     "name": "stdout",
     "output_type": "stream",
     "text": [
      "ARIMA(2, 1, 2) - AIC:492.1057344253717\n",
      "ARIMA(2, 1, 3) - AIC:496.0139079688671\n",
      "ARIMA(3, 0, 0) - AIC:513.8394725887497\n",
      "ARIMA(3, 0, 1) - AIC:515.941082184749\n",
      "ARIMA(3, 0, 2) - AIC:515.0173741222222\n",
      "ARIMA(3, 0, 3) - AIC:516.8155775945008\n",
      "ARIMA(3, 1, 0) - AIC:492.8092882713744\n",
      "ARIMA(3, 1, 1) - AIC:494.105753084527\n",
      "ARIMA(3, 1, 2) - AIC:494.17119391632934\n",
      "ARIMA(3, 1, 3) - AIC:496.2832313423291\n"
     ]
    }
   ],
   "source": [
    "from statsmodels.tsa.arima.model import ARIMA\n",
    "\n",
    "for param in pdq:# running a loop within the pdq parameters defined by itertools\n",
    "    ARIMA_model = ARIMA(train['Netprofit'].values,order=param).fit()#fitting the ARIMA model\n",
    "    #using the parameters from the loop\n",
    "    print('ARIMA{} - AIC:{}'.format(param,ARIMA_model.aic))#printing the parameters and the AIC\n",
    "    #from the fitted models\n",
    "    ARIMA_AIC = ARIMA_AIC.append({'param':param, 'AIC': ARIMA_model.aic}, ignore_index=True)\n",
    "    #appending the AIC values and the model parameters to the previously created data frame\n",
    "    #for easier understanding and sorting of the AIC values"
   ]
  },
  {
   "cell_type": "code",
   "execution_count": 124,
   "metadata": {
    "ExecuteTime": {
     "end_time": "2021-02-10T09:25:26.080286Z",
     "start_time": "2021-02-10T09:25:26.018462Z"
    }
   },
   "outputs": [
    {
     "data": {
      "text/html": [
       "<div>\n",
       "<style scoped>\n",
       "    .dataframe tbody tr th:only-of-type {\n",
       "        vertical-align: middle;\n",
       "    }\n",
       "\n",
       "    .dataframe tbody tr th {\n",
       "        vertical-align: top;\n",
       "    }\n",
       "\n",
       "    .dataframe thead th {\n",
       "        text-align: right;\n",
       "    }\n",
       "</style>\n",
       "<table border=\"1\" class=\"dataframe\">\n",
       "  <thead>\n",
       "    <tr style=\"text-align: right;\">\n",
       "      <th></th>\n",
       "      <th>param</th>\n",
       "      <th>AIC</th>\n",
       "    </tr>\n",
       "  </thead>\n",
       "  <tbody>\n",
       "    <tr>\n",
       "      <th>5</th>\n",
       "      <td>(0, 1, 1)</td>\n",
       "      <td>488.422859</td>\n",
       "    </tr>\n",
       "    <tr>\n",
       "      <th>12</th>\n",
       "      <td>(1, 1, 0)</td>\n",
       "      <td>489.824520</td>\n",
       "    </tr>\n",
       "    <tr>\n",
       "      <th>13</th>\n",
       "      <td>(1, 1, 1)</td>\n",
       "      <td>490.289201</td>\n",
       "    </tr>\n",
       "    <tr>\n",
       "      <th>20</th>\n",
       "      <td>(2, 1, 0)</td>\n",
       "      <td>491.199191</td>\n",
       "    </tr>\n",
       "    <tr>\n",
       "      <th>6</th>\n",
       "      <td>(0, 1, 2)</td>\n",
       "      <td>491.316743</td>\n",
       "    </tr>\n",
       "  </tbody>\n",
       "</table>\n",
       "</div>"
      ],
      "text/plain": [
       "        param         AIC\n",
       "5   (0, 1, 1)  488.422859\n",
       "12  (1, 1, 0)  489.824520\n",
       "13  (1, 1, 1)  490.289201\n",
       "20  (2, 1, 0)  491.199191\n",
       "6   (0, 1, 2)  491.316743"
      ]
     },
     "execution_count": 124,
     "metadata": {},
     "output_type": "execute_result"
    }
   ],
   "source": [
    "## Sort the above AIC values in the ascending order to get the parameters for the minimum AIC value\n",
    "\n",
    "ARIMA_AIC.sort_values(by='AIC',ascending=True).head()"
   ]
  },
  {
   "cell_type": "code",
   "execution_count": 126,
   "metadata": {
    "ExecuteTime": {
     "end_time": "2021-02-10T09:25:33.891047Z",
     "start_time": "2021-02-10T09:25:32.876973Z"
    }
   },
   "outputs": [
    {
     "name": "stdout",
     "output_type": "stream",
     "text": [
      "                               SARIMAX Results                                \n",
      "==============================================================================\n",
      "Dep. Variable:              Netprofit   No. Observations:                   24\n",
      "Model:                 ARIMA(0, 1, 1)   Log Likelihood                -242.211\n",
      "Date:                Sun, 28 Aug 2022   AIC                            488.423\n",
      "Time:                        12:45:55   BIC                            490.694\n",
      "Sample:                    03-31-2015   HQIC                           488.994\n",
      "                         - 12-31-2020                                         \n",
      "Covariance Type:                  opg                                         \n",
      "==============================================================================\n",
      "                 coef    std err          z      P>|z|      [0.025      0.975]\n",
      "------------------------------------------------------------------------------\n",
      "ma.L1         -0.6130      0.195     -3.149      0.002      -0.995      -0.231\n",
      "sigma2      9.814e+07   7.31e-10   1.34e+17      0.000    9.81e+07    9.81e+07\n",
      "===================================================================================\n",
      "Ljung-Box (L1) (Q):                   0.01   Jarque-Bera (JB):                 3.92\n",
      "Prob(Q):                              0.91   Prob(JB):                         0.14\n",
      "Heteroskedasticity (H):              13.77   Skew:                            -0.99\n",
      "Prob(H) (two-sided):                  0.00   Kurtosis:                         3.45\n",
      "===================================================================================\n",
      "\n",
      "Warnings:\n",
      "[1] Covariance matrix calculated using the outer product of gradients (complex-step).\n",
      "[2] Covariance matrix is singular or near-singular, with condition number    inf. Standard errors may be unstable.\n"
     ]
    },
    {
     "name": "stderr",
     "output_type": "stream",
     "text": [
      "C:\\Anaconda3\\lib\\site-packages\\statsmodels\\tsa\\base\\tsa_model.py:471: ValueWarning: No frequency information was provided, so inferred frequency Q-DEC will be used.\n",
      "  self._init_dates(dates, freq)\n",
      "C:\\Anaconda3\\lib\\site-packages\\statsmodels\\tsa\\base\\tsa_model.py:471: ValueWarning: No frequency information was provided, so inferred frequency Q-DEC will be used.\n",
      "  self._init_dates(dates, freq)\n",
      "C:\\Anaconda3\\lib\\site-packages\\statsmodels\\tsa\\base\\tsa_model.py:471: ValueWarning: No frequency information was provided, so inferred frequency Q-DEC will be used.\n",
      "  self._init_dates(dates, freq)\n"
     ]
    }
   ],
   "source": [
    "auto_ARIMA = ARIMA(train, order=(0,1,1))\n",
    "\n",
    "results_auto_ARIMA = auto_ARIMA.fit()\n",
    "\n",
    "print(results_auto_ARIMA.summary())"
   ]
  },
  {
   "cell_type": "markdown",
   "metadata": {},
   "source": [
    "Diagnostics plot."
   ]
  },
  {
   "cell_type": "code",
   "execution_count": 127,
   "metadata": {
    "ExecuteTime": {
     "end_time": "2021-02-10T09:25:41.523120Z",
     "start_time": "2021-02-10T09:25:38.539789Z"
    }
   },
   "outputs": [
    {
     "data": {
      "image/png": "[encoded data removed]",
      "text/plain": [
       "<Figure size 432x288 with 4 Axes>"
      ]
     },
     "metadata": {
      "needs_background": "light"
     },
     "output_type": "display_data"
    }
   ],
   "source": [
    "results_auto_ARIMA.plot_diagnostics();"
   ]
  },
  {
   "cell_type": "markdown",
   "metadata": {},
   "source": [
    "## Predict on the Test Set using this model and evaluate the model."
   ]
  },
  {
   "cell_type": "code",
   "execution_count": 128,
   "metadata": {
    "ExecuteTime": {
     "end_time": "2021-02-10T09:25:48.804839Z",
     "start_time": "2021-02-10T09:25:48.674849Z"
    }
   },
   "outputs": [],
   "source": [
    "predicted_auto_ARIMA = results_auto_ARIMA.forecast(steps=len(test))"
   ]
  },
  {
   "cell_type": "code",
   "execution_count": 129,
   "metadata": {
    "ExecuteTime": {
     "end_time": "2021-02-10T09:25:51.494844Z",
     "start_time": "2021-02-10T09:25:49.815128Z"
    }
   },
   "outputs": [],
   "source": [
    "## Mean Absolute Percentage Error (MAPE) - Function Definition\n",
    "\n",
    "def mean_absolute_percentage_error(y_true, y_pred):\n",
    "    return np.mean((np.abs(y_true-y_pred))/(y_true))*100\n",
    "\n",
    "## Importing the mean_squared_error function from sklearn to calculate the RMSE\n",
    "\n",
    "from sklearn.metrics import mean_squared_error"
   ]
  },
  {
   "cell_type": "code",
   "execution_count": 130,
   "metadata": {
    "ExecuteTime": {
     "end_time": "2021-02-10T09:25:57.921133Z",
     "start_time": "2021-02-10T09:25:57.905231Z"
    }
   },
   "outputs": [
    {
     "name": "stdout",
     "output_type": "stream",
     "text": [
      "RMSE: 11287.375921606788 \n",
      "MAPE: 154.7387340251457\n"
     ]
    }
   ],
   "source": [
    "rmse = mean_squared_error(test['Netprofit'],predicted_auto_ARIMA,squared=False)\n",
    "mape = mean_absolute_percentage_error(test['Netprofit'],predicted_auto_ARIMA)\n",
    "print('RMSE:',rmse,'\\nMAPE:',mape)"
   ]
  },
  {
   "cell_type": "code",
   "execution_count": 131,
   "metadata": {
    "ExecuteTime": {
     "end_time": "2021-02-10T09:25:59.409070Z",
     "start_time": "2021-02-10T09:25:59.372400Z"
    }
   },
   "outputs": [
    {
     "data": {
      "text/html": [
       "<div>\n",
       "<style scoped>\n",
       "    .dataframe tbody tr th:only-of-type {\n",
       "        vertical-align: middle;\n",
       "    }\n",
       "\n",
       "    .dataframe tbody tr th {\n",
       "        vertical-align: top;\n",
       "    }\n",
       "\n",
       "    .dataframe thead th {\n",
       "        text-align: right;\n",
       "    }\n",
       "</style>\n",
       "<table border=\"1\" class=\"dataframe\">\n",
       "  <thead>\n",
       "    <tr style=\"text-align: right;\">\n",
       "      <th></th>\n",
       "      <th>RMSE</th>\n",
       "      <th>MAPE</th>\n",
       "    </tr>\n",
       "  </thead>\n",
       "  <tbody>\n",
       "    <tr>\n",
       "      <th>ARIMA(1,3,3)</th>\n",
       "      <td>11287.375922</td>\n",
       "      <td>154.738734</td>\n",
       "    </tr>\n",
       "  </tbody>\n",
       "</table>\n",
       "</div>"
      ],
      "text/plain": [
       "                      RMSE        MAPE\n",
       "ARIMA(1,3,3)  11287.375922  154.738734"
      ]
     },
     "execution_count": 131,
     "metadata": {},
     "output_type": "execute_result"
    }
   ],
   "source": [
    "resultsDf = pd.DataFrame({'RMSE': rmse,'MAPE':mape}\n",
    "                           ,index=['ARIMA(1,3,3)'])\n",
    "\n",
    "resultsDf"
   ]
  },
  {
   "cell_type": "markdown",
   "metadata": {},
   "source": [
    "## Build a version of the ARIMA model for which the best parameters are selected by looking at the ACF and the PACF plots."
   ]
  },
  {
   "cell_type": "markdown",
   "metadata": {},
   "source": [
    "Let us look at the ACF and the PACF plots once more."
   ]
  },
  {
   "cell_type": "code",
   "execution_count": 132,
   "metadata": {
    "ExecuteTime": {
     "end_time": "2021-02-10T09:26:12.442127Z",
     "start_time": "2021-02-10T09:26:11.316765Z"
    }
   },
   "outputs": [
    {
     "ename": "NameError",
     "evalue": "name 'plot_acf' is not defined",
     "output_type": "error",
     "traceback": [
      "\u001b[1;31m---------------------------------------------------------------------------\u001b[0m",
      "\u001b[1;31mNameError\u001b[0m                                 Traceback (most recent call last)",
      "\u001b[1;32m<ipython-input-132-a890de61cd67>\u001b[0m in \u001b[0;36m<module>\u001b[1;34m\u001b[0m\n\u001b[1;32m----> 1\u001b[1;33m \u001b[0mplot_acf\u001b[0m\u001b[1;33m(\u001b[0m\u001b[0mtrain\u001b[0m\u001b[1;33m.\u001b[0m\u001b[0mdiff\u001b[0m\u001b[1;33m(\u001b[0m\u001b[1;33m)\u001b[0m\u001b[1;33m,\u001b[0m\u001b[0mtitle\u001b[0m\u001b[1;33m=\u001b[0m\u001b[1;34m'Training Data Autocorrelation'\u001b[0m\u001b[1;33m,\u001b[0m\u001b[0mmissing\u001b[0m\u001b[1;33m=\u001b[0m\u001b[1;34m'drop'\u001b[0m\u001b[1;33m)\u001b[0m\u001b[1;33m\u001b[0m\u001b[1;33m\u001b[0m\u001b[0m\n\u001b[0m\u001b[0;32m      2\u001b[0m \u001b[0mplot_pacf\u001b[0m\u001b[1;33m(\u001b[0m\u001b[0mtrain\u001b[0m\u001b[1;33m.\u001b[0m\u001b[0mdiff\u001b[0m\u001b[1;33m(\u001b[0m\u001b[1;33m)\u001b[0m\u001b[1;33m.\u001b[0m\u001b[0mdropna\u001b[0m\u001b[1;33m(\u001b[0m\u001b[1;33m)\u001b[0m\u001b[1;33m,\u001b[0m\u001b[0mtitle\u001b[0m\u001b[1;33m=\u001b[0m\u001b[1;34m'Training Data Partial Autocorrelation'\u001b[0m\u001b[1;33m,\u001b[0m\u001b[0mzero\u001b[0m\u001b[1;33m=\u001b[0m\u001b[1;32mFalse\u001b[0m\u001b[1;33m,\u001b[0m\u001b[0mmethod\u001b[0m\u001b[1;33m=\u001b[0m\u001b[1;34m'ywmle'\u001b[0m\u001b[1;33m)\u001b[0m\u001b[1;33m\u001b[0m\u001b[1;33m\u001b[0m\u001b[0m\n\u001b[0;32m      3\u001b[0m \u001b[0mplt\u001b[0m\u001b[1;33m.\u001b[0m\u001b[0mshow\u001b[0m\u001b[1;33m(\u001b[0m\u001b[1;33m)\u001b[0m\u001b[1;33m\u001b[0m\u001b[1;33m\u001b[0m\u001b[0m\n",
      "\u001b[1;31mNameError\u001b[0m: name 'plot_acf' is not defined"
     ]
    }
   ],
   "source": [
    "plot_acf(train.diff(),title='Training Data Autocorrelation',missing='drop')\n",
    "plot_pacf(train.diff().dropna(),title='Training Data Partial Autocorrelation',zero=False,method='ywmle')\n",
    "plt.show()"
   ]
  },
  {
   "cell_type": "markdown",
   "metadata": {},
   "source": [
    "Here, we have taken alpha=0.05.\n",
    "\n",
    "* The Auto-Regressive parameter in an ARIMA model is 'p' which comes from the significant lag before which the PACF plot cuts-off to 3.\n",
    "* The Moving-Average parameter in an ARIMA model is 'q' which comes from the significant lag before the ACF plot cuts-off to 3.\n",
    "\n",
    "By looking at the above plots, we will take the value of p and q to be 3 and 1 respectively."
   ]
  },
  {
   "cell_type": "code",
   "execution_count": 133,
   "metadata": {
    "ExecuteTime": {
     "end_time": "2021-02-10T09:26:41.697175Z",
     "start_time": "2021-02-10T09:26:40.806510Z"
    }
   },
   "outputs": [
    {
     "name": "stderr",
     "output_type": "stream",
     "text": [
      "C:\\Anaconda3\\lib\\site-packages\\statsmodels\\tsa\\base\\tsa_model.py:471: ValueWarning: No frequency information was provided, so inferred frequency Q-DEC will be used.\n",
      "  self._init_dates(dates, freq)\n",
      "C:\\Anaconda3\\lib\\site-packages\\statsmodels\\tsa\\statespace\\sarimax.py:966: UserWarning: Non-stationary starting autoregressive parameters found. Using zeros as starting parameters.\n",
      "  warn('Non-stationary starting autoregressive parameters'\n",
      "C:\\Anaconda3\\lib\\site-packages\\statsmodels\\tsa\\statespace\\sarimax.py:978: UserWarning: Non-invertible starting MA parameters found. Using zeros as starting parameters.\n",
      "  warn('Non-invertible starting MA parameters found.'\n"
     ]
    },
    {
     "name": "stdout",
     "output_type": "stream",
     "text": [
      "                               SARIMAX Results                                \n",
      "==============================================================================\n",
      "Dep. Variable:              Netprofit   No. Observations:                   24\n",
      "Model:                 ARIMA(3, 1, 2)   Log Likelihood                -241.086\n",
      "Date:                Sun, 28 Aug 2022   AIC                            494.171\n",
      "Time:                        12:48:47   BIC                            500.984\n",
      "Sample:                    03-31-2015   HQIC                           495.885\n",
      "                         - 12-31-2020                                         \n",
      "Covariance Type:                  opg                                         \n",
      "==============================================================================\n",
      "                 coef    std err          z      P>|z|      [0.025      0.975]\n",
      "------------------------------------------------------------------------------\n",
      "ar.L1         -0.7355      0.727     -1.011      0.312      -2.161       0.690\n",
      "ar.L2          0.2203      0.986      0.223      0.823      -1.712       2.153\n",
      "ar.L3         -0.0434      0.460     -0.094      0.925      -0.945       0.858\n",
      "ma.L1          0.2661      0.617      0.431      0.666      -0.944       1.476\n",
      "ma.L2         -0.7084      0.957     -0.741      0.459      -2.583       1.166\n",
      "sigma2      7.647e+07   7.95e-09   9.61e+15      0.000    7.65e+07    7.65e+07\n",
      "===================================================================================\n",
      "Ljung-Box (L1) (Q):                   0.02   Jarque-Bera (JB):                 9.16\n",
      "Prob(Q):                              0.90   Prob(JB):                         0.01\n",
      "Heteroskedasticity (H):              19.00   Skew:                            -1.35\n",
      "Prob(H) (two-sided):                  0.00   Kurtosis:                         4.52\n",
      "===================================================================================\n",
      "\n",
      "Warnings:\n",
      "[1] Covariance matrix calculated using the outer product of gradients (complex-step).\n",
      "[2] Covariance matrix is singular or near-singular, with condition number 1.71e+32. Standard errors may be unstable.\n"
     ]
    }
   ],
   "source": [
    "manual_ARIMA = ARIMA(train['Netprofit'], order=(3,1,2),freq='Q')\n",
    "\n",
    "results_manual_ARIMA = manual_ARIMA.fit()\n",
    "\n",
    "print(results_manual_ARIMA.summary())"
   ]
  },
  {
   "cell_type": "markdown",
   "metadata": {},
   "source": [
    "Let us analyse the residuals from the various diagnostics plot."
   ]
  },
  {
   "cell_type": "code",
   "execution_count": 113,
   "metadata": {
    "ExecuteTime": {
     "end_time": "2021-02-10T09:26:55.318477Z",
     "start_time": "2021-02-10T09:26:53.186184Z"
    }
   },
   "outputs": [
    {
     "data": {
      "image/png": "[encoded data removed]",
      "text/plain": [
       "<Figure size 432x288 with 4 Axes>"
      ]
     },
     "metadata": {
      "needs_background": "light"
     },
     "output_type": "display_data"
    }
   ],
   "source": [
    "results_manual_ARIMA.plot_diagnostics();"
   ]
  },
  {
   "cell_type": "markdown",
   "metadata": {},
   "source": [
    "## Predict on the Test Set using this model and evaluate the model."
   ]
  },
  {
   "cell_type": "code",
   "execution_count": 114,
   "metadata": {
    "ExecuteTime": {
     "end_time": "2021-02-10T09:26:57.612623Z",
     "start_time": "2021-02-10T09:26:57.576580Z"
    }
   },
   "outputs": [],
   "source": [
    "predicted_manual_ARIMA = results_manual_ARIMA.forecast(steps=len(test))"
   ]
  },
  {
   "cell_type": "code",
   "execution_count": 116,
   "metadata": {
    "ExecuteTime": {
     "end_time": "2021-02-10T09:26:58.375871Z",
     "start_time": "2021-02-10T09:26:58.355654Z"
    }
   },
   "outputs": [
    {
     "name": "stdout",
     "output_type": "stream",
     "text": [
      "RMSE: 11927.08023762092 \n",
      "MAPE: 99.30441965803449\n"
     ]
    }
   ],
   "source": [
    "rmse = mean_squared_error(test['Netprofit'],predicted_manual_ARIMA,squared=False)\n",
    "mape = mean_absolute_percentage_error(test['Netprofit'],predicted_manual_ARIMA)\n",
    "print('RMSE:',rmse,'\\nMAPE:',mape)"
   ]
  },
  {
   "cell_type": "code",
   "execution_count": 49,
   "metadata": {
    "ExecuteTime": {
     "end_time": "2021-02-10T09:26:59.420973Z",
     "start_time": "2021-02-10T09:26:59.396220Z"
    }
   },
   "outputs": [
    {
     "data": {
      "text/html": [
       "<div>\n",
       "<style scoped>\n",
       "    .dataframe tbody tr th:only-of-type {\n",
       "        vertical-align: middle;\n",
       "    }\n",
       "\n",
       "    .dataframe tbody tr th {\n",
       "        vertical-align: top;\n",
       "    }\n",
       "\n",
       "    .dataframe thead th {\n",
       "        text-align: right;\n",
       "    }\n",
       "</style>\n",
       "<table border=\"1\" class=\"dataframe\">\n",
       "  <thead>\n",
       "    <tr style=\"text-align: right;\">\n",
       "      <th></th>\n",
       "      <th>RMSE</th>\n",
       "      <th>MAPE</th>\n",
       "    </tr>\n",
       "  </thead>\n",
       "  <tbody>\n",
       "    <tr>\n",
       "      <th>ARIMA(2,1,2)</th>\n",
       "      <td>4400.537137</td>\n",
       "      <td>14.606968</td>\n",
       "    </tr>\n",
       "    <tr>\n",
       "      <th>ARIMA(3,1,3)</th>\n",
       "      <td>4094.968771</td>\n",
       "      <td>14.383639</td>\n",
       "    </tr>\n",
       "  </tbody>\n",
       "</table>\n",
       "</div>"
      ],
      "text/plain": [
       "                     RMSE       MAPE\n",
       "ARIMA(2,1,2)  4400.537137  14.606968\n",
       "ARIMA(3,1,3)  4094.968771  14.383639"
      ]
     },
     "execution_count": 49,
     "metadata": {},
     "output_type": "execute_result"
    }
   ],
   "source": [
    "temp_resultsDf = pd.DataFrame({'RMSE': rmse,'MAPE':mape}\n",
    "                           ,index=['ARIMA(3,1,3)'])\n",
    "\n",
    "\n",
    "resultsDf = pd.concat([resultsDf,temp_resultsDf])\n",
    "\n",
    "resultsDf"
   ]
  },
  {
   "cell_type": "markdown",
   "metadata": {},
   "source": [
    "## Build an Automated version of a SARIMA model for which the best parameters are selected in accordance with the lowest Akaike Information Criteria (AIC)."
   ]
  },
  {
   "cell_type": "markdown",
   "metadata": {},
   "source": [
    "Let us look at the ACF plot once more to understand the seasonal parameter for the SARIMA model."
   ]
  },
  {
   "cell_type": "code",
   "execution_count": 134,
   "metadata": {
    "ExecuteTime": {
     "end_time": "2021-02-10T09:27:08.149963Z",
     "start_time": "2021-02-10T09:27:07.645484Z"
    }
   },
   "outputs": [
    {
     "ename": "NameError",
     "evalue": "name 'plot_acf' is not defined",
     "output_type": "error",
     "traceback": [
      "\u001b[1;31m---------------------------------------------------------------------------\u001b[0m",
      "\u001b[1;31mNameError\u001b[0m                                 Traceback (most recent call last)",
      "\u001b[1;32m<ipython-input-134-b8520fa4ef61>\u001b[0m in \u001b[0;36m<module>\u001b[1;34m\u001b[0m\n\u001b[1;32m----> 1\u001b[1;33m \u001b[0mplot_acf\u001b[0m\u001b[1;33m(\u001b[0m\u001b[0mtrain\u001b[0m\u001b[1;33m.\u001b[0m\u001b[0mdiff\u001b[0m\u001b[1;33m(\u001b[0m\u001b[1;33m)\u001b[0m\u001b[1;33m,\u001b[0m\u001b[0mtitle\u001b[0m\u001b[1;33m=\u001b[0m\u001b[1;34m'Training Data Autocorrelation'\u001b[0m\u001b[1;33m,\u001b[0m\u001b[0mmissing\u001b[0m\u001b[1;33m=\u001b[0m\u001b[1;34m'drop'\u001b[0m\u001b[1;33m)\u001b[0m\u001b[1;33m;\u001b[0m\u001b[1;33m\u001b[0m\u001b[1;33m\u001b[0m\u001b[0m\n\u001b[0m",
      "\u001b[1;31mNameError\u001b[0m: name 'plot_acf' is not defined"
     ]
    }
   ],
   "source": [
    "plot_acf(train.diff(),title='Training Data Autocorrelation',missing='drop');"
   ]
  },
  {
   "cell_type": "markdown",
   "metadata": {},
   "source": [
    "We can see that there is a seasonality."
   ]
  },
  {
   "cell_type": "code",
   "execution_count": 135,
   "metadata": {
    "ExecuteTime": {
     "end_time": "2021-02-10T09:27:18.470992Z",
     "start_time": "2021-02-10T09:27:18.445779Z"
    }
   },
   "outputs": [
    {
     "name": "stdout",
     "output_type": "stream",
     "text": [
      "Examples of the parameter combinations for the Model are\n",
      "Model: (0, 0, 1)(0, 0, 1, 6)\n",
      "Model: (0, 0, 2)(0, 0, 2, 6)\n",
      "Model: (0, 0, 3)(0, 0, 3, 6)\n",
      "Model: (0, 1, 0)(0, 1, 0, 6)\n",
      "Model: (0, 1, 1)(0, 1, 1, 6)\n",
      "Model: (0, 1, 2)(0, 1, 2, 6)\n",
      "Model: (0, 1, 3)(0, 1, 3, 6)\n",
      "Model: (1, 0, 0)(1, 0, 0, 6)\n",
      "Model: (1, 0, 1)(1, 0, 1, 6)\n",
      "Model: (1, 0, 2)(1, 0, 2, 6)\n",
      "Model: (1, 0, 3)(1, 0, 3, 6)\n",
      "Model: (1, 1, 0)(1, 1, 0, 6)\n",
      "Model: (1, 1, 1)(1, 1, 1, 6)\n",
      "Model: (1, 1, 2)(1, 1, 2, 6)\n",
      "Model: (1, 1, 3)(1, 1, 3, 6)\n",
      "Model: (2, 0, 0)(2, 0, 0, 6)\n",
      "Model: (2, 0, 1)(2, 0, 1, 6)\n",
      "Model: (2, 0, 2)(2, 0, 2, 6)\n",
      "Model: (2, 0, 3)(2, 0, 3, 6)\n",
      "Model: (2, 1, 0)(2, 1, 0, 6)\n",
      "Model: (2, 1, 1)(2, 1, 1, 6)\n",
      "Model: (2, 1, 2)(2, 1, 2, 6)\n",
      "Model: (2, 1, 3)(2, 1, 3, 6)\n",
      "Model: (3, 0, 0)(3, 0, 0, 6)\n",
      "Model: (3, 0, 1)(3, 0, 1, 6)\n",
      "Model: (3, 0, 2)(3, 0, 2, 6)\n",
      "Model: (3, 0, 3)(3, 0, 3, 6)\n",
      "Model: (3, 1, 0)(3, 1, 0, 6)\n",
      "Model: (3, 1, 1)(3, 1, 1, 6)\n",
      "Model: (3, 1, 2)(3, 1, 2, 6)\n",
      "Model: (3, 1, 3)(3, 1, 3, 6)\n"
     ]
    }
   ],
   "source": [
    "import itertools\n",
    "p = q = range(0, 4)\n",
    "d= range(0,2)\n",
    "D = range(0,2)\n",
    "pdq = list(itertools.product(p, d, q))\n",
    "PDQ = [(x[0], x[1], x[2], 6) for x in list(itertools.product(p, D, q))]\n",
    "print('Examples of the parameter combinations for the Model are')\n",
    "for i in range(1,len(pdq)):\n",
    "    print('Model: {}{}'.format(pdq[i], PDQ[i]))"
   ]
  },
  {
   "cell_type": "code",
   "execution_count": 136,
   "metadata": {
    "ExecuteTime": {
     "end_time": "2021-02-10T09:27:21.332797Z",
     "start_time": "2021-02-10T09:27:21.305305Z"
    }
   },
   "outputs": [
    {
     "data": {
      "text/html": [
       "<div>\n",
       "<style scoped>\n",
       "    .dataframe tbody tr th:only-of-type {\n",
       "        vertical-align: middle;\n",
       "    }\n",
       "\n",
       "    .dataframe tbody tr th {\n",
       "        vertical-align: top;\n",
       "    }\n",
       "\n",
       "    .dataframe thead th {\n",
       "        text-align: right;\n",
       "    }\n",
       "</style>\n",
       "<table border=\"1\" class=\"dataframe\">\n",
       "  <thead>\n",
       "    <tr style=\"text-align: right;\">\n",
       "      <th></th>\n",
       "      <th>param</th>\n",
       "      <th>seasonal</th>\n",
       "      <th>AIC</th>\n",
       "    </tr>\n",
       "  </thead>\n",
       "  <tbody>\n",
       "  </tbody>\n",
       "</table>\n",
       "</div>"
      ],
      "text/plain": [
       "Empty DataFrame\n",
       "Columns: [param, seasonal, AIC]\n",
       "Index: []"
      ]
     },
     "execution_count": 136,
     "metadata": {},
     "output_type": "execute_result"
    }
   ],
   "source": [
    "SARIMA_AIC = pd.DataFrame(columns=['param','seasonal', 'AIC'])\n",
    "SARIMA_AIC"
   ]
  },
  {
   "cell_type": "code",
   "execution_count": 137,
   "metadata": {
    "ExecuteTime": {
     "end_time": "2021-02-10T09:33:09.504698Z",
     "start_time": "2021-02-10T09:27:22.751470Z"
    },
    "scrolled": true
   },
   "outputs": [
    {
     "name": "stdout",
     "output_type": "stream",
     "text": [
      "SARIMA(0, 0, 0)x(0, 0, 0, 6) - AIC:491.801944762327\n"
     ]
    },
    {
     "name": "stderr",
     "output_type": "stream",
     "text": [
      "C:\\Anaconda3\\lib\\site-packages\\statsmodels\\base\\model.py:604: ConvergenceWarning: Maximum Likelihood optimization failed to converge. Check mle_retvals\n",
      "  warnings.warn(\"Maximum Likelihood optimization failed to \"\n",
      "C:\\Anaconda3\\lib\\site-packages\\statsmodels\\tsa\\statespace\\sarimax.py:866: UserWarning: Too few observations to estimate starting parameters for seasonal ARMA. All parameters except for variances will be set to zeros.\n",
      "  warn('Too few observations to estimate starting parameters%s.'\n"
     ]
    },
    {
     "name": "stdout",
     "output_type": "stream",
     "text": [
      "SARIMA(0, 0, 0)x(0, 0, 1, 6) - AIC:688.9660293348043\n",
      "SARIMA(0, 0, 0)x(0, 0, 2, 6) - AIC:243.73416347977198\n",
      "SARIMA(0, 0, 0)x(0, 0, 3, 6) - AIC:101.59986929983353\n",
      "SARIMA(0, 0, 0)x(0, 1, 0, 6) - AIC:369.391800940329\n",
      "SARIMA(0, 0, 0)x(0, 1, 1, 6) - AIC:241.57585213545306\n",
      "SARIMA(0, 0, 0)x(0, 1, 2, 6) - AIC:109.84035343838109\n",
      "SARIMA(0, 0, 0)x(0, 1, 3, 6) - AIC:8.0\n",
      "SARIMA(0, 0, 0)x(1, 0, 0, 6) - AIC:388.66812810394754\n"
     ]
    },
    {
     "name": "stderr",
     "output_type": "stream",
     "text": [
      "C:\\Anaconda3\\lib\\site-packages\\statsmodels\\base\\model.py:604: ConvergenceWarning: Maximum Likelihood optimization failed to converge. Check mle_retvals\n",
      "  warnings.warn(\"Maximum Likelihood optimization failed to \"\n"
     ]
    },
    {
     "name": "stdout",
     "output_type": "stream",
     "text": [
      "SARIMA(0, 0, 0)x(1, 0, 1, 6) - AIC:591.42375308437\n",
      "SARIMA(0, 0, 0)x(1, 0, 2, 6) - AIC:241.17757089568073\n",
      "SARIMA(0, 0, 0)x(1, 0, 3, 6) - AIC:103.08414662040346\n",
      "SARIMA(0, 0, 0)x(1, 1, 0, 6) - AIC:266.98801810250535\n",
      "SARIMA(0, 0, 0)x(1, 1, 1, 6) - AIC:251.85002473746925\n",
      "SARIMA(0, 0, 0)x(1, 1, 2, 6) - AIC:104.27728932253264\n",
      "SARIMA(0, 0, 0)x(1, 1, 3, 6) - AIC:10.0\n",
      "SARIMA(0, 0, 0)x(2, 0, 0, 6) - AIC:260.96811290102994\n",
      "SARIMA(0, 0, 0)x(2, 0, 1, 6) - AIC:942.5444220730435\n",
      "SARIMA(0, 0, 0)x(2, 0, 2, 6) - AIC:238.60307475719958\n",
      "SARIMA(0, 0, 0)x(2, 0, 3, 6) - AIC:113.12560308520267\n",
      "SARIMA(0, 0, 0)x(2, 1, 0, 6) - AIC:137.63204927518763\n",
      "SARIMA(0, 0, 0)x(2, 1, 1, 6) - AIC:131.26472040143585\n",
      "SARIMA(0, 0, 0)x(2, 1, 2, 6) - AIC:112.42732189939551\n",
      "SARIMA(0, 0, 0)x(2, 1, 3, 6) - AIC:12.0\n",
      "SARIMA(0, 0, 0)x(3, 0, 0, 6) - AIC:132.85494085725887\n"
     ]
    },
    {
     "name": "stderr",
     "output_type": "stream",
     "text": [
      "C:\\Anaconda3\\lib\\site-packages\\statsmodels\\base\\model.py:604: ConvergenceWarning: Maximum Likelihood optimization failed to converge. Check mle_retvals\n",
      "  warnings.warn(\"Maximum Likelihood optimization failed to \"\n"
     ]
    },
    {
     "name": "stdout",
     "output_type": "stream",
     "text": [
      "SARIMA(0, 0, 0)x(3, 0, 1, 6) - AIC:204.55260435555545\n",
      "SARIMA(0, 0, 0)x(3, 0, 2, 6) - AIC:134.2507674696446\n",
      "SARIMA(0, 0, 0)x(3, 0, 3, 6) - AIC:104.65203300680135\n",
      "SARIMA(0, 0, 0)x(3, 1, 0, 6) - AIC:8.0\n",
      "SARIMA(0, 0, 0)x(3, 1, 1, 6) - AIC:10.0\n",
      "SARIMA(0, 0, 0)x(3, 1, 2, 6) - AIC:12.0\n"
     ]
    },
    {
     "name": "stderr",
     "output_type": "stream",
     "text": [
      "C:\\Anaconda3\\lib\\site-packages\\statsmodels\\tsa\\statespace\\mlemodel.py:1234: RuntimeWarning: invalid value encountered in true_divide\n",
      "  np.inner(score_obs, score_obs) /\n"
     ]
    },
    {
     "name": "stdout",
     "output_type": "stream",
     "text": [
      "SARIMA(0, 0, 0)x(3, 1, 3, 6) - AIC:14.0\n",
      "SARIMA(0, 0, 1)x(0, 0, 0, 6) - AIC:469.7057085126227\n",
      "SARIMA(0, 0, 1)x(0, 0, 1, 6) - AIC:1297.5104861556595\n",
      "SARIMA(0, 0, 1)x(0, 0, 2, 6) - AIC:215.72005146783894\n",
      "SARIMA(0, 0, 1)x(0, 0, 3, 6) - AIC:92.83478084560488\n",
      "SARIMA(0, 0, 1)x(0, 1, 0, 6) - AIC:346.6964749781949\n",
      "SARIMA(0, 0, 1)x(0, 1, 1, 6) - AIC:220.97872778969474\n",
      "SARIMA(0, 0, 1)x(0, 1, 2, 6) - AIC:91.47483831877466\n",
      "SARIMA(0, 0, 1)x(0, 1, 3, 6) - AIC:10.0\n",
      "SARIMA(0, 0, 1)x(1, 0, 0, 6) - AIC:387.0279886964176\n"
     ]
    },
    {
     "name": "stderr",
     "output_type": "stream",
     "text": [
      "C:\\Anaconda3\\lib\\site-packages\\statsmodels\\base\\model.py:604: ConvergenceWarning: Maximum Likelihood optimization failed to converge. Check mle_retvals\n",
      "  warnings.warn(\"Maximum Likelihood optimization failed to \"\n"
     ]
    },
    {
     "name": "stdout",
     "output_type": "stream",
     "text": [
      "SARIMA(0, 0, 1)x(1, 0, 1, 6) - AIC:1238.78386456616\n",
      "SARIMA(0, 0, 1)x(1, 0, 2, 6) - AIC:221.5578837502302\n",
      "SARIMA(0, 0, 1)x(1, 0, 3, 6) - AIC:93.3412891870792\n",
      "SARIMA(0, 0, 1)x(1, 1, 0, 6) - AIC:265.89688819578515\n",
      "SARIMA(0, 0, 1)x(1, 1, 1, 6) - AIC:220.37460861908704\n",
      "SARIMA(0, 0, 1)x(1, 1, 2, 6) - AIC:93.27212038726904\n",
      "SARIMA(0, 0, 1)x(1, 1, 3, 6) - AIC:12.0\n",
      "SARIMA(0, 0, 1)x(2, 0, 0, 6) - AIC:262.8558284754017\n",
      "SARIMA(0, 0, 1)x(2, 0, 1, 6) - AIC:958.3874280626117\n",
      "SARIMA(0, 0, 1)x(2, 0, 2, 6) - AIC:217.0447902845198\n",
      "SARIMA(0, 0, 1)x(2, 0, 3, 6) - AIC:82.14446528244926\n",
      "SARIMA(0, 0, 1)x(2, 1, 0, 6) - AIC:138.69403672325006\n",
      "SARIMA(0, 0, 1)x(2, 1, 1, 6) - AIC:129.64768870675948\n",
      "SARIMA(0, 0, 1)x(2, 1, 2, 6) - AIC:95.1818477685174\n",
      "SARIMA(0, 0, 1)x(2, 1, 3, 6) - AIC:14.0\n",
      "SARIMA(0, 0, 1)x(3, 0, 0, 6) - AIC:135.26599728511863\n"
     ]
    },
    {
     "name": "stderr",
     "output_type": "stream",
     "text": [
      "C:\\Anaconda3\\lib\\site-packages\\statsmodels\\base\\model.py:604: ConvergenceWarning: Maximum Likelihood optimization failed to converge. Check mle_retvals\n",
      "  warnings.warn(\"Maximum Likelihood optimization failed to \"\n"
     ]
    },
    {
     "name": "stdout",
     "output_type": "stream",
     "text": [
      "SARIMA(0, 0, 1)x(3, 0, 1, 6) - AIC:251.67486773421444\n",
      "SARIMA(0, 0, 1)x(3, 0, 2, 6) - AIC:135.94861794731963\n",
      "SARIMA(0, 0, 1)x(3, 0, 3, 6) - AIC:97.09901570097436\n",
      "SARIMA(0, 0, 1)x(3, 1, 0, 6) - AIC:10.0\n",
      "SARIMA(0, 0, 1)x(3, 1, 1, 6) - AIC:12.0\n",
      "SARIMA(0, 0, 1)x(3, 1, 2, 6) - AIC:14.0\n",
      "SARIMA(0, 0, 1)x(3, 1, 3, 6) - AIC:16.0\n",
      "SARIMA(0, 0, 2)x(0, 0, 0, 6) - AIC:449.673070132824\n"
     ]
    },
    {
     "name": "stderr",
     "output_type": "stream",
     "text": [
      "C:\\Anaconda3\\lib\\site-packages\\statsmodels\\base\\model.py:604: ConvergenceWarning: Maximum Likelihood optimization failed to converge. Check mle_retvals\n",
      "  warnings.warn(\"Maximum Likelihood optimization failed to \"\n"
     ]
    },
    {
     "name": "stdout",
     "output_type": "stream",
     "text": [
      "SARIMA(0, 0, 2)x(0, 0, 1, 6) - AIC:1109.5182063181435\n",
      "SARIMA(0, 0, 2)x(0, 0, 2, 6) - AIC:195.98045203623127\n",
      "SARIMA(0, 0, 2)x(0, 0, 3, 6) - AIC:61.9246112364477\n",
      "SARIMA(0, 0, 2)x(0, 1, 0, 6) - AIC:327.77918049657234\n",
      "SARIMA(0, 0, 2)x(0, 1, 1, 6) - AIC:201.73724734012833\n",
      "SARIMA(0, 0, 2)x(0, 1, 2, 6) - AIC:71.96310960619027\n",
      "SARIMA(0, 0, 2)x(0, 1, 3, 6) - AIC:12.0\n",
      "SARIMA(0, 0, 2)x(1, 0, 0, 6) - AIC:388.6294181233844\n"
     ]
    },
    {
     "name": "stderr",
     "output_type": "stream",
     "text": [
      "C:\\Anaconda3\\lib\\site-packages\\statsmodels\\base\\model.py:604: ConvergenceWarning: Maximum Likelihood optimization failed to converge. Check mle_retvals\n",
      "  warnings.warn(\"Maximum Likelihood optimization failed to \"\n"
     ]
    },
    {
     "name": "stdout",
     "output_type": "stream",
     "text": [
      "SARIMA(0, 0, 2)x(1, 0, 1, 6) - AIC:1106.0662823264433\n",
      "SARIMA(0, 0, 2)x(1, 0, 2, 6) - AIC:202.54977493027735\n",
      "SARIMA(0, 0, 2)x(1, 0, 3, 6) - AIC:74.95432741530715\n",
      "SARIMA(0, 0, 2)x(1, 1, 0, 6) - AIC:267.422065778883\n",
      "SARIMA(0, 0, 2)x(1, 1, 1, 6) - AIC:201.1932568253783\n",
      "SARIMA(0, 0, 2)x(1, 1, 2, 6) - AIC:73.96310513836772\n",
      "SARIMA(0, 0, 2)x(1, 1, 3, 6) - AIC:14.0\n",
      "SARIMA(0, 0, 2)x(2, 0, 0, 6) - AIC:264.04663349487\n",
      "SARIMA(0, 0, 2)x(2, 0, 1, 6) - AIC:960.8198573813224\n",
      "SARIMA(0, 0, 2)x(2, 0, 2, 6) - AIC:198.8364173522025\n",
      "SARIMA(0, 0, 2)x(2, 0, 3, 6) - AIC:60.845550005890274\n",
      "SARIMA(0, 0, 2)x(2, 1, 0, 6) - AIC:139.8674788789442\n",
      "SARIMA(0, 0, 2)x(2, 1, 1, 6) - AIC:136.81654521776508\n",
      "SARIMA(0, 0, 2)x(2, 1, 2, 6) - AIC:75.96309803013227\n",
      "SARIMA(0, 0, 2)x(2, 1, 3, 6) - AIC:16.0\n",
      "SARIMA(0, 0, 2)x(3, 0, 0, 6) - AIC:134.46490661887978\n"
     ]
    },
    {
     "name": "stderr",
     "output_type": "stream",
     "text": [
      "C:\\Anaconda3\\lib\\site-packages\\statsmodels\\base\\model.py:604: ConvergenceWarning: Maximum Likelihood optimization failed to converge. Check mle_retvals\n",
      "  warnings.warn(\"Maximum Likelihood optimization failed to \"\n"
     ]
    },
    {
     "name": "stdout",
     "output_type": "stream",
     "text": [
      "SARIMA(0, 0, 2)x(3, 0, 1, 6) - AIC:273.66684600485195\n",
      "SARIMA(0, 0, 2)x(3, 0, 2, 6) - AIC:138.34338626286092\n",
      "SARIMA(0, 0, 2)x(3, 0, 3, 6) - AIC:78.78178911686774\n",
      "SARIMA(0, 0, 2)x(3, 1, 0, 6) - AIC:12.0\n",
      "SARIMA(0, 0, 2)x(3, 1, 1, 6) - AIC:14.0\n",
      "SARIMA(0, 0, 2)x(3, 1, 2, 6) - AIC:16.0\n",
      "SARIMA(0, 0, 2)x(3, 1, 3, 6) - AIC:18.0\n",
      "SARIMA(0, 0, 3)x(0, 0, 0, 6) - AIC:427.73313033504337\n",
      "SARIMA(0, 0, 3)x(0, 0, 1, 6) - AIC:980.3022478714666\n",
      "SARIMA(0, 0, 3)x(0, 0, 2, 6) - AIC:179.85453423753458\n",
      "SARIMA(0, 0, 3)x(0, 0, 3, 6) - AIC:54.56055307886342\n",
      "SARIMA(0, 0, 3)x(0, 1, 0, 6) - AIC:308.2972270742466\n",
      "SARIMA(0, 0, 3)x(0, 1, 1, 6) - AIC:180.98537591499033\n",
      "SARIMA(0, 0, 3)x(0, 1, 2, 6) - AIC:54.07351631007724\n",
      "SARIMA(0, 0, 3)x(0, 1, 3, 6) - AIC:14.0\n",
      "SARIMA(0, 0, 3)x(1, 0, 0, 6) - AIC:386.84911486684587\n"
     ]
    },
    {
     "name": "stderr",
     "output_type": "stream",
     "text": [
      "C:\\Anaconda3\\lib\\site-packages\\statsmodels\\base\\model.py:604: ConvergenceWarning: Maximum Likelihood optimization failed to converge. Check mle_retvals\n",
      "  warnings.warn(\"Maximum Likelihood optimization failed to \"\n"
     ]
    },
    {
     "name": "stdout",
     "output_type": "stream",
     "text": [
      "SARIMA(0, 0, 3)x(1, 0, 1, 6) - AIC:1048.0699432168244\n",
      "SARIMA(0, 0, 3)x(1, 0, 2, 6) - AIC:179.77631929417288\n",
      "SARIMA(0, 0, 3)x(1, 0, 3, 6) - AIC:56.55677981875791\n",
      "SARIMA(0, 0, 3)x(1, 1, 0, 6) - AIC:267.1570080703726\n",
      "SARIMA(0, 0, 3)x(1, 1, 1, 6) - AIC:182.2496000635022\n",
      "SARIMA(0, 0, 3)x(1, 1, 2, 6) - AIC:56.073397670844315\n",
      "SARIMA(0, 0, 3)x(1, 1, 3, 6) - AIC:16.0\n",
      "SARIMA(0, 0, 3)x(2, 0, 0, 6) - AIC:262.3502049228316\n",
      "SARIMA(0, 0, 3)x(2, 0, 1, 6) - AIC:962.2566630122335\n",
      "SARIMA(0, 0, 3)x(2, 0, 2, 6) - AIC:180.57712703048293\n",
      "SARIMA(0, 0, 3)x(2, 0, 3, 6) - AIC:58.53036303031381\n",
      "SARIMA(0, 0, 3)x(2, 1, 0, 6) - AIC:138.93071506460285\n",
      "SARIMA(0, 0, 3)x(2, 1, 1, 6) - AIC:127.21581868312232\n",
      "SARIMA(0, 0, 3)x(2, 1, 2, 6) - AIC:58.07339813829297\n",
      "SARIMA(0, 0, 3)x(2, 1, 3, 6) - AIC:18.0\n",
      "SARIMA(0, 0, 3)x(3, 0, 0, 6) - AIC:135.68218547108788\n"
     ]
    },
    {
     "name": "stderr",
     "output_type": "stream",
     "text": [
      "C:\\Anaconda3\\lib\\site-packages\\statsmodels\\base\\model.py:604: ConvergenceWarning: Maximum Likelihood optimization failed to converge. Check mle_retvals\n",
      "  warnings.warn(\"Maximum Likelihood optimization failed to \"\n"
     ]
    },
    {
     "name": "stdout",
     "output_type": "stream",
     "text": [
      "SARIMA(0, 0, 3)x(3, 0, 1, 6) - AIC:245.54044410767807\n",
      "SARIMA(0, 0, 3)x(3, 0, 2, 6) - AIC:139.65789932109496\n",
      "SARIMA(0, 0, 3)x(3, 0, 3, 6) - AIC:60.52573026443534\n",
      "SARIMA(0, 0, 3)x(3, 1, 0, 6) - AIC:14.0\n",
      "SARIMA(0, 0, 3)x(3, 1, 1, 6) - AIC:16.0\n",
      "SARIMA(0, 0, 3)x(3, 1, 2, 6) - AIC:18.0\n",
      "SARIMA(0, 0, 3)x(3, 1, 3, 6) - AIC:20.0\n",
      "SARIMA(0, 1, 0)x(0, 0, 0, 6) - AIC:471.56282996219403\n",
      "SARIMA(0, 1, 0)x(0, 0, 1, 6) - AIC:610.4582705650187\n",
      "SARIMA(0, 1, 0)x(0, 0, 2, 6) - AIC:224.1761439904436\n",
      "SARIMA(0, 1, 0)x(0, 0, 3, 6) - AIC:89.31831118071928\n",
      "SARIMA(0, 1, 0)x(0, 1, 0, 6) - AIC:348.2158452012193\n",
      "SARIMA(0, 1, 0)x(0, 1, 1, 6) - AIC:222.51082220509255\n",
      "SARIMA(0, 1, 0)x(0, 1, 2, 6) - AIC:91.222344960792\n",
      "SARIMA(0, 1, 0)x(0, 1, 3, 6) - AIC:8.0\n",
      "SARIMA(0, 1, 0)x(1, 0, 0, 6) - AIC:368.3434654009988\n",
      "SARIMA(0, 1, 0)x(1, 0, 1, 6) - AIC:1440.3459703580515\n",
      "SARIMA(0, 1, 0)x(1, 0, 2, 6) - AIC:225.94808547771416\n",
      "SARIMA(0, 1, 0)x(1, 0, 3, 6) - AIC:84.2473673084014\n",
      "SARIMA(0, 1, 0)x(1, 1, 0, 6) - AIC:243.32216664914273\n",
      "SARIMA(0, 1, 0)x(1, 1, 1, 6) - AIC:222.30450525060064\n",
      "SARIMA(0, 1, 0)x(1, 1, 2, 6) - AIC:92.52998903128923\n",
      "SARIMA(0, 1, 0)x(1, 1, 3, 6) - AIC:10.0\n",
      "SARIMA(0, 1, 0)x(2, 0, 0, 6) - AIC:245.32216349701721\n"
     ]
    },
    {
     "name": "stderr",
     "output_type": "stream",
     "text": [
      "C:\\Anaconda3\\lib\\site-packages\\statsmodels\\base\\model.py:604: ConvergenceWarning: Maximum Likelihood optimization failed to converge. Check mle_retvals\n",
      "  warnings.warn(\"Maximum Likelihood optimization failed to \"\n"
     ]
    },
    {
     "name": "stdout",
     "output_type": "stream",
     "text": [
      "SARIMA(0, 1, 0)x(2, 0, 1, 6) - AIC:468.9093319865159\n",
      "SARIMA(0, 1, 0)x(2, 0, 2, 6) - AIC:225.05154741730354\n",
      "SARIMA(0, 1, 0)x(2, 0, 3, 6) - AIC:77.52592859231022\n",
      "SARIMA(0, 1, 0)x(2, 1, 0, 6) - AIC:115.92486771150057\n",
      "SARIMA(0, 1, 0)x(2, 1, 1, 6) - AIC:113.47320736382468\n",
      "SARIMA(0, 1, 0)x(2, 1, 2, 6) - AIC:93.34495613142458\n",
      "SARIMA(0, 1, 0)x(2, 1, 3, 6) - AIC:12.0\n",
      "SARIMA(0, 1, 0)x(3, 0, 0, 6) - AIC:110.99449276933325\n"
     ]
    },
    {
     "name": "stderr",
     "output_type": "stream",
     "text": [
      "C:\\Anaconda3\\lib\\site-packages\\statsmodels\\base\\model.py:604: ConvergenceWarning: Maximum Likelihood optimization failed to converge. Check mle_retvals\n",
      "  warnings.warn(\"Maximum Likelihood optimization failed to \"\n"
     ]
    },
    {
     "name": "stdout",
     "output_type": "stream",
     "text": [
      "SARIMA(0, 1, 0)x(3, 0, 1, 6) - AIC:202.08870561687527\n",
      "SARIMA(0, 1, 0)x(3, 0, 2, 6) - AIC:115.81045906889601\n",
      "SARIMA(0, 1, 0)x(3, 0, 3, 6) - AIC:75.42292585052513\n",
      "SARIMA(0, 1, 0)x(3, 1, 0, 6) - AIC:8.0\n",
      "SARIMA(0, 1, 0)x(3, 1, 1, 6) - AIC:10.0\n",
      "SARIMA(0, 1, 0)x(3, 1, 2, 6) - AIC:12.0\n",
      "SARIMA(0, 1, 0)x(3, 1, 3, 6) - AIC:14.0\n",
      "SARIMA(0, 1, 1)x(0, 0, 0, 6) - AIC:447.38507455964094\n",
      "SARIMA(0, 1, 1)x(0, 0, 1, 6) - AIC:1087.7110934858824\n"
     ]
    },
    {
     "name": "stderr",
     "output_type": "stream",
     "text": [
      "C:\\Anaconda3\\lib\\site-packages\\statsmodels\\base\\model.py:604: ConvergenceWarning: Maximum Likelihood optimization failed to converge. Check mle_retvals\n",
      "  warnings.warn(\"Maximum Likelihood optimization failed to \"\n"
     ]
    },
    {
     "name": "stdout",
     "output_type": "stream",
     "text": [
      "SARIMA(0, 1, 1)x(0, 0, 2, 6) - AIC:201.97404287838862\n",
      "SARIMA(0, 1, 1)x(0, 0, 3, 6) - AIC:62.6519579813858\n",
      "SARIMA(0, 1, 1)x(0, 1, 0, 6) - AIC:326.0307133222663\n",
      "SARIMA(0, 1, 1)x(0, 1, 1, 6) - AIC:202.01616539065273\n",
      "SARIMA(0, 1, 1)x(0, 1, 2, 6) - AIC:70.15187805693702\n",
      "SARIMA(0, 1, 1)x(0, 1, 3, 6) - AIC:10.0\n",
      "SARIMA(0, 1, 1)x(1, 0, 0, 6) - AIC:366.33442986618587\n"
     ]
    },
    {
     "name": "stderr",
     "output_type": "stream",
     "text": [
      "C:\\Anaconda3\\lib\\site-packages\\statsmodels\\base\\model.py:604: ConvergenceWarning: Maximum Likelihood optimization failed to converge. Check mle_retvals\n",
      "  warnings.warn(\"Maximum Likelihood optimization failed to \"\n"
     ]
    },
    {
     "name": "stdout",
     "output_type": "stream",
     "text": [
      "SARIMA(0, 1, 1)x(1, 0, 1, 6) - AIC:1123.1793914577333\n",
      "SARIMA(0, 1, 1)x(1, 0, 2, 6) - AIC:201.56351207496922\n",
      "SARIMA(0, 1, 1)x(1, 0, 3, 6) - AIC:60.01200698866208\n",
      "SARIMA(0, 1, 1)x(1, 1, 0, 6) - AIC:243.8978443028317\n",
      "SARIMA(0, 1, 1)x(1, 1, 1, 6) - AIC:201.51408622225415\n",
      "SARIMA(0, 1, 1)x(1, 1, 2, 6) - AIC:72.06748472703816\n",
      "SARIMA(0, 1, 1)x(1, 1, 3, 6) - AIC:12.0\n",
      "SARIMA(0, 1, 1)x(2, 0, 0, 6) - AIC:245.67588755804073\n"
     ]
    },
    {
     "name": "stderr",
     "output_type": "stream",
     "text": [
      "C:\\Anaconda3\\lib\\site-packages\\statsmodels\\base\\model.py:604: ConvergenceWarning: Maximum Likelihood optimization failed to converge. Check mle_retvals\n",
      "  warnings.warn(\"Maximum Likelihood optimization failed to \"\n"
     ]
    },
    {
     "name": "stdout",
     "output_type": "stream",
     "text": [
      "SARIMA(0, 1, 1)x(2, 0, 1, 6) - AIC:372.2975684341352\n",
      "SARIMA(0, 1, 1)x(2, 0, 2, 6) - AIC:200.7414713292739\n",
      "SARIMA(0, 1, 1)x(2, 0, 3, 6) - AIC:60.02336377585273\n",
      "SARIMA(0, 1, 1)x(2, 1, 0, 6) - AIC:117.40848668645522\n",
      "SARIMA(0, 1, 1)x(2, 1, 1, 6) - AIC:115.75565952952127\n",
      "SARIMA(0, 1, 1)x(2, 1, 2, 6) - AIC:74.05281753903554\n",
      "SARIMA(0, 1, 1)x(2, 1, 3, 6) - AIC:14.0\n",
      "SARIMA(0, 1, 1)x(3, 0, 0, 6) - AIC:113.01934396066113\n"
     ]
    },
    {
     "name": "stderr",
     "output_type": "stream",
     "text": [
      "C:\\Anaconda3\\lib\\site-packages\\statsmodels\\base\\model.py:604: ConvergenceWarning: Maximum Likelihood optimization failed to converge. Check mle_retvals\n",
      "  warnings.warn(\"Maximum Likelihood optimization failed to \"\n"
     ]
    },
    {
     "name": "stdout",
     "output_type": "stream",
     "text": [
      "SARIMA(0, 1, 1)x(3, 0, 1, 6) - AIC:170.8287118505053\n",
      "SARIMA(0, 1, 1)x(3, 0, 2, 6) - AIC:116.50651647643423\n",
      "SARIMA(0, 1, 1)x(3, 0, 3, 6) - AIC:76.70255436795213\n",
      "SARIMA(0, 1, 1)x(3, 1, 0, 6) - AIC:10.0\n",
      "SARIMA(0, 1, 1)x(3, 1, 1, 6) - AIC:12.0\n",
      "SARIMA(0, 1, 1)x(3, 1, 2, 6) - AIC:14.0\n",
      "SARIMA(0, 1, 1)x(3, 1, 3, 6) - AIC:16.0\n",
      "SARIMA(0, 1, 2)x(0, 0, 0, 6) - AIC:429.4657495262502\n"
     ]
    },
    {
     "name": "stderr",
     "output_type": "stream",
     "text": [
      "C:\\Anaconda3\\lib\\site-packages\\statsmodels\\base\\model.py:604: ConvergenceWarning: Maximum Likelihood optimization failed to converge. Check mle_retvals\n",
      "  warnings.warn(\"Maximum Likelihood optimization failed to \"\n"
     ]
    },
    {
     "name": "stdout",
     "output_type": "stream",
     "text": [
      "SARIMA(0, 1, 2)x(0, 0, 1, 6) - AIC:1014.0503432921048\n",
      "SARIMA(0, 1, 2)x(0, 0, 2, 6) - AIC:182.030942242937\n",
      "SARIMA(0, 1, 2)x(0, 0, 3, 6) - AIC:52.82021065969099\n",
      "SARIMA(0, 1, 2)x(0, 1, 0, 6) - AIC:306.9164488475961\n",
      "SARIMA(0, 1, 2)x(0, 1, 1, 6) - AIC:182.0094140908209\n",
      "SARIMA(0, 1, 2)x(0, 1, 2, 6) - AIC:51.33735581488192\n",
      "SARIMA(0, 1, 2)x(0, 1, 3, 6) - AIC:12.0\n",
      "SARIMA(0, 1, 2)x(1, 0, 0, 6) - AIC:368.26634679094633\n"
     ]
    },
    {
     "name": "stderr",
     "output_type": "stream",
     "text": [
      "C:\\Anaconda3\\lib\\site-packages\\statsmodels\\base\\model.py:604: ConvergenceWarning: Maximum Likelihood optimization failed to converge. Check mle_retvals\n",
      "  warnings.warn(\"Maximum Likelihood optimization failed to \"\n"
     ]
    },
    {
     "name": "stdout",
     "output_type": "stream",
     "text": [
      "SARIMA(0, 1, 2)x(1, 0, 1, 6) - AIC:1213.5372505971013\n",
      "SARIMA(0, 1, 2)x(1, 0, 2, 6) - AIC:180.91675291514102\n",
      "SARIMA(0, 1, 2)x(1, 0, 3, 6) - AIC:54.82013993057234\n",
      "SARIMA(0, 1, 2)x(1, 1, 0, 6) - AIC:245.36117959466236\n",
      "SARIMA(0, 1, 2)x(1, 1, 1, 6) - AIC:182.416928784087\n",
      "SARIMA(0, 1, 2)x(1, 1, 2, 6) - AIC:53.31956838260227\n",
      "SARIMA(0, 1, 2)x(1, 1, 3, 6) - AIC:14.0\n",
      "SARIMA(0, 1, 2)x(2, 0, 0, 6) - AIC:247.04295840955544\n"
     ]
    },
    {
     "name": "stderr",
     "output_type": "stream",
     "text": [
      "C:\\Anaconda3\\lib\\site-packages\\statsmodels\\base\\model.py:604: ConvergenceWarning: Maximum Likelihood optimization failed to converge. Check mle_retvals\n",
      "  warnings.warn(\"Maximum Likelihood optimization failed to \"\n"
     ]
    },
    {
     "name": "stdout",
     "output_type": "stream",
     "text": [
      "SARIMA(0, 1, 2)x(2, 0, 1, 6) - AIC:393.5353461275556\n",
      "SARIMA(0, 1, 2)x(2, 0, 2, 6) - AIC:180.54608801959654\n",
      "SARIMA(0, 1, 2)x(2, 0, 3, 6) - AIC:56.807930018758654\n",
      "SARIMA(0, 1, 2)x(2, 1, 0, 6) - AIC:116.66523942178435\n",
      "SARIMA(0, 1, 2)x(2, 1, 1, 6) - AIC:117.12959157342004\n",
      "SARIMA(0, 1, 2)x(2, 1, 2, 6) - AIC:55.31958044035207\n",
      "SARIMA(0, 1, 2)x(2, 1, 3, 6) - AIC:16.0\n",
      "SARIMA(0, 1, 2)x(3, 0, 0, 6) - AIC:114.26821906974072\n"
     ]
    },
    {
     "name": "stderr",
     "output_type": "stream",
     "text": [
      "C:\\Anaconda3\\lib\\site-packages\\statsmodels\\base\\model.py:604: ConvergenceWarning: Maximum Likelihood optimization failed to converge. Check mle_retvals\n",
      "  warnings.warn(\"Maximum Likelihood optimization failed to \"\n"
     ]
    },
    {
     "name": "stdout",
     "output_type": "stream",
     "text": [
      "SARIMA(0, 1, 2)x(3, 0, 1, 6) - AIC:214.84845052110964\n",
      "SARIMA(0, 1, 2)x(3, 0, 2, 6) - AIC:118.25856474358744\n",
      "SARIMA(0, 1, 2)x(3, 0, 3, 6) - AIC:58.75792434828248\n",
      "SARIMA(0, 1, 2)x(3, 1, 0, 6) - AIC:12.0\n",
      "SARIMA(0, 1, 2)x(3, 1, 1, 6) - AIC:14.0\n",
      "SARIMA(0, 1, 2)x(3, 1, 2, 6) - AIC:16.0\n",
      "SARIMA(0, 1, 2)x(3, 1, 3, 6) - AIC:18.0\n",
      "SARIMA(0, 1, 3)x(0, 0, 0, 6) - AIC:411.89907647217956\n"
     ]
    },
    {
     "name": "stderr",
     "output_type": "stream",
     "text": [
      "C:\\Anaconda3\\lib\\site-packages\\statsmodels\\base\\model.py:604: ConvergenceWarning: Maximum Likelihood optimization failed to converge. Check mle_retvals\n",
      "  warnings.warn(\"Maximum Likelihood optimization failed to \"\n"
     ]
    },
    {
     "name": "stdout",
     "output_type": "stream",
     "text": [
      "SARIMA(0, 1, 3)x(0, 0, 1, 6) - AIC:776.8948060332533\n",
      "SARIMA(0, 1, 3)x(0, 0, 2, 6) - AIC:161.01751588795798\n",
      "SARIMA(0, 1, 3)x(0, 0, 3, 6) - AIC:34.58685338977215\n",
      "SARIMA(0, 1, 3)x(0, 1, 0, 6) - AIC:294.88982118601797\n",
      "SARIMA(0, 1, 3)x(0, 1, 1, 6) - AIC:164.3118016756929\n",
      "SARIMA(0, 1, 3)x(0, 1, 2, 6) - AIC:33.055137390290625\n",
      "SARIMA(0, 1, 3)x(0, 1, 3, 6) - AIC:14.0\n",
      "SARIMA(0, 1, 3)x(1, 0, 0, 6) - AIC:371.11797787883813\n"
     ]
    },
    {
     "name": "stderr",
     "output_type": "stream",
     "text": [
      "C:\\Anaconda3\\lib\\site-packages\\statsmodels\\base\\model.py:604: ConvergenceWarning: Maximum Likelihood optimization failed to converge. Check mle_retvals\n",
      "  warnings.warn(\"Maximum Likelihood optimization failed to \"\n"
     ]
    },
    {
     "name": "stdout",
     "output_type": "stream",
     "text": [
      "SARIMA(0, 1, 3)x(1, 0, 1, 6) - AIC:1050.694031223498\n",
      "SARIMA(0, 1, 3)x(1, 0, 2, 6) - AIC:162.01266716880144\n",
      "SARIMA(0, 1, 3)x(1, 0, 3, 6) - AIC:36.58682079898264\n",
      "SARIMA(0, 1, 3)x(1, 1, 0, 6) - AIC:248.39786428906504\n",
      "SARIMA(0, 1, 3)x(1, 1, 1, 6) - AIC:163.11427529513688\n",
      "SARIMA(0, 1, 3)x(1, 1, 2, 6) - AIC:35.055472436860924\n",
      "SARIMA(0, 1, 3)x(1, 1, 3, 6) - AIC:16.0\n",
      "SARIMA(0, 1, 3)x(2, 0, 0, 6) - AIC:248.9492117595334\n"
     ]
    },
    {
     "name": "stderr",
     "output_type": "stream",
     "text": [
      "C:\\Anaconda3\\lib\\site-packages\\statsmodels\\base\\model.py:604: ConvergenceWarning: Maximum Likelihood optimization failed to converge. Check mle_retvals\n",
      "  warnings.warn(\"Maximum Likelihood optimization failed to \"\n"
     ]
    },
    {
     "name": "stdout",
     "output_type": "stream",
     "text": [
      "SARIMA(0, 1, 3)x(2, 0, 1, 6) - AIC:407.2356352360199\n",
      "SARIMA(0, 1, 3)x(2, 0, 2, 6) - AIC:161.20275512168146\n",
      "SARIMA(0, 1, 3)x(2, 0, 3, 6) - AIC:38.58687202265024\n",
      "SARIMA(0, 1, 3)x(2, 1, 0, 6) - AIC:118.91170234194789\n",
      "SARIMA(0, 1, 3)x(2, 1, 1, 6) - AIC:120.66382358978056\n",
      "SARIMA(0, 1, 3)x(2, 1, 2, 6) - AIC:37.05505685563875\n",
      "SARIMA(0, 1, 3)x(2, 1, 3, 6) - AIC:18.0\n",
      "SARIMA(0, 1, 3)x(3, 0, 0, 6) - AIC:117.02505671178744\n"
     ]
    },
    {
     "name": "stderr",
     "output_type": "stream",
     "text": [
      "C:\\Anaconda3\\lib\\site-packages\\statsmodels\\base\\model.py:604: ConvergenceWarning: Maximum Likelihood optimization failed to converge. Check mle_retvals\n",
      "  warnings.warn(\"Maximum Likelihood optimization failed to \"\n"
     ]
    },
    {
     "name": "stdout",
     "output_type": "stream",
     "text": [
      "SARIMA(0, 1, 3)x(3, 0, 1, 6) - AIC:204.70844973184327\n",
      "SARIMA(0, 1, 3)x(3, 0, 2, 6) - AIC:120.99207736024492\n",
      "SARIMA(0, 1, 3)x(3, 0, 3, 6) - AIC:40.58687105081684\n",
      "SARIMA(0, 1, 3)x(3, 1, 0, 6) - AIC:14.0\n",
      "SARIMA(0, 1, 3)x(3, 1, 1, 6) - AIC:16.0\n",
      "SARIMA(0, 1, 3)x(3, 1, 2, 6) - AIC:18.0\n",
      "SARIMA(0, 1, 3)x(3, 1, 3, 6) - AIC:20.0\n",
      "SARIMA(1, 0, 0)x(0, 0, 0, 6) - AIC:487.727176600413\n",
      "SARIMA(1, 0, 0)x(0, 0, 1, 6) - AIC:1417.2382514286885\n",
      "SARIMA(1, 0, 0)x(0, 0, 2, 6) - AIC:238.79621280793134\n",
      "SARIMA(1, 0, 0)x(0, 0, 3, 6) - AIC:110.86025478684999\n",
      "SARIMA(1, 0, 0)x(0, 1, 0, 6) - AIC:366.4748176784376\n",
      "SARIMA(1, 0, 0)x(0, 1, 1, 6) - AIC:242.02107863890717\n",
      "SARIMA(1, 0, 0)x(0, 1, 2, 6) - AIC:111.60909412060582\n",
      "SARIMA(1, 0, 0)x(0, 1, 3, 6) - AIC:10.0\n",
      "SARIMA(1, 0, 0)x(1, 0, 0, 6) - AIC:365.6726515169247\n",
      "SARIMA(1, 0, 0)x(1, 0, 1, 6) - AIC:672.6520800304191\n",
      "SARIMA(1, 0, 0)x(1, 0, 2, 6) - AIC:239.96627974977415\n",
      "SARIMA(1, 0, 0)x(1, 0, 3, 6) - AIC:112.85511634178212\n",
      "SARIMA(1, 0, 0)x(1, 1, 0, 6) - AIC:243.87798066317376\n",
      "SARIMA(1, 0, 0)x(1, 1, 1, 6) - AIC:241.37145126008625\n",
      "SARIMA(1, 0, 0)x(1, 1, 2, 6) - AIC:113.56699340520326\n",
      "SARIMA(1, 0, 0)x(1, 1, 3, 6) - AIC:12.0\n",
      "SARIMA(1, 0, 0)x(2, 0, 0, 6) - AIC:242.4533473223693\n"
     ]
    },
    {
     "name": "stderr",
     "output_type": "stream",
     "text": [
      "C:\\Anaconda3\\lib\\site-packages\\statsmodels\\base\\model.py:604: ConvergenceWarning: Maximum Likelihood optimization failed to converge. Check mle_retvals\n",
      "  warnings.warn(\"Maximum Likelihood optimization failed to \"\n"
     ]
    },
    {
     "name": "stdout",
     "output_type": "stream",
     "text": [
      "SARIMA(1, 0, 0)x(2, 0, 1, 6) - AIC:379.8583485728679\n",
      "SARIMA(1, 0, 0)x(2, 0, 2, 6) - AIC:239.66746302754427\n",
      "SARIMA(1, 0, 0)x(2, 0, 3, 6) - AIC:114.50258805847963\n",
      "SARIMA(1, 0, 0)x(2, 1, 0, 6) - AIC:118.25061291073877\n",
      "SARIMA(1, 0, 0)x(2, 1, 1, 6) - AIC:113.27788470070695\n",
      "SARIMA(1, 0, 0)x(2, 1, 2, 6) - AIC:114.90548596103895\n",
      "SARIMA(1, 0, 0)x(2, 1, 3, 6) - AIC:14.0\n",
      "SARIMA(1, 0, 0)x(3, 0, 0, 6) - AIC:100.63082947561719\n"
     ]
    },
    {
     "name": "stderr",
     "output_type": "stream",
     "text": [
      "C:\\Anaconda3\\lib\\site-packages\\statsmodels\\base\\model.py:604: ConvergenceWarning: Maximum Likelihood optimization failed to converge. Check mle_retvals\n",
      "  warnings.warn(\"Maximum Likelihood optimization failed to \"\n"
     ]
    },
    {
     "name": "stdout",
     "output_type": "stream",
     "text": [
      "SARIMA(1, 0, 0)x(3, 0, 1, 6) - AIC:203.1844287858802\n",
      "SARIMA(1, 0, 0)x(3, 0, 2, 6) - AIC:114.43163810003347\n",
      "SARIMA(1, 0, 0)x(3, 0, 3, 6) - AIC:106.63082953953962\n",
      "SARIMA(1, 0, 0)x(3, 1, 0, 6) - AIC:10.0\n",
      "SARIMA(1, 0, 0)x(3, 1, 1, 6) - AIC:12.0\n",
      "SARIMA(1, 0, 0)x(3, 1, 2, 6) - AIC:14.0\n",
      "SARIMA(1, 0, 0)x(3, 1, 3, 6) - AIC:16.0\n",
      "SARIMA(1, 0, 1)x(0, 0, 0, 6) - AIC:468.42033732559975\n"
     ]
    },
    {
     "name": "stderr",
     "output_type": "stream",
     "text": [
      "C:\\Anaconda3\\lib\\site-packages\\statsmodels\\base\\model.py:604: ConvergenceWarning: Maximum Likelihood optimization failed to converge. Check mle_retvals\n",
      "  warnings.warn(\"Maximum Likelihood optimization failed to \"\n"
     ]
    },
    {
     "name": "stdout",
     "output_type": "stream",
     "text": [
      "SARIMA(1, 0, 1)x(0, 0, 1, 6) - AIC:1191.1461297531246\n",
      "SARIMA(1, 0, 1)x(0, 0, 2, 6) - AIC:222.6011346852706\n",
      "SARIMA(1, 0, 1)x(0, 0, 3, 6) - AIC:92.47444820265737\n",
      "SARIMA(1, 0, 1)x(0, 1, 0, 6) - AIC:347.6243614453173\n",
      "SARIMA(1, 0, 1)x(0, 1, 1, 6) - AIC:222.51811276207283\n",
      "SARIMA(1, 0, 1)x(0, 1, 2, 6) - AIC:92.42831131643669\n",
      "SARIMA(1, 0, 1)x(0, 1, 3, 6) - AIC:12.0\n",
      "SARIMA(1, 0, 1)x(1, 0, 0, 6) - AIC:367.3431748254926\n"
     ]
    },
    {
     "name": "stderr",
     "output_type": "stream",
     "text": [
      "C:\\Anaconda3\\lib\\site-packages\\statsmodels\\base\\model.py:604: ConvergenceWarning: Maximum Likelihood optimization failed to converge. Check mle_retvals\n",
      "  warnings.warn(\"Maximum Likelihood optimization failed to \"\n"
     ]
    },
    {
     "name": "stdout",
     "output_type": "stream",
     "text": [
      "SARIMA(1, 0, 1)x(1, 0, 1, 6) - AIC:1166.1289480059954\n",
      "SARIMA(1, 0, 1)x(1, 0, 2, 6) - AIC:224.45046577525142\n",
      "SARIMA(1, 0, 1)x(1, 0, 3, 6) - AIC:94.47114392840032\n",
      "SARIMA(1, 0, 1)x(1, 1, 0, 6) - AIC:245.41275921118654\n",
      "SARIMA(1, 0, 1)x(1, 1, 1, 6) - AIC:222.00538583524843\n",
      "SARIMA(1, 0, 1)x(1, 1, 2, 6) - AIC:94.17891981081314\n",
      "SARIMA(1, 0, 1)x(1, 1, 3, 6) - AIC:14.0\n",
      "SARIMA(1, 0, 1)x(2, 0, 0, 6) - AIC:242.91835093743978\n"
     ]
    },
    {
     "name": "stderr",
     "output_type": "stream",
     "text": [
      "C:\\Anaconda3\\lib\\site-packages\\statsmodels\\base\\model.py:604: ConvergenceWarning: Maximum Likelihood optimization failed to converge. Check mle_retvals\n",
      "  warnings.warn(\"Maximum Likelihood optimization failed to \"\n"
     ]
    },
    {
     "name": "stdout",
     "output_type": "stream",
     "text": [
      "SARIMA(1, 0, 1)x(2, 0, 1, 6) - AIC:400.91374565179416\n",
      "SARIMA(1, 0, 1)x(2, 0, 2, 6) - AIC:219.05174078258088\n",
      "SARIMA(1, 0, 1)x(2, 0, 3, 6) - AIC:96.38363876354191\n",
      "SARIMA(1, 0, 1)x(2, 1, 0, 6) - AIC:119.68593301879005\n",
      "SARIMA(1, 0, 1)x(2, 1, 1, 6) - AIC:115.60117072914473\n",
      "SARIMA(1, 0, 1)x(2, 1, 2, 6) - AIC:96.17870443861482\n",
      "SARIMA(1, 0, 1)x(2, 1, 3, 6) - AIC:16.0\n",
      "SARIMA(1, 0, 1)x(3, 0, 0, 6) - AIC:112.50137819557676\n"
     ]
    },
    {
     "name": "stderr",
     "output_type": "stream",
     "text": [
      "C:\\Anaconda3\\lib\\site-packages\\statsmodels\\base\\model.py:604: ConvergenceWarning: Maximum Likelihood optimization failed to converge. Check mle_retvals\n",
      "  warnings.warn(\"Maximum Likelihood optimization failed to \"\n"
     ]
    },
    {
     "name": "stdout",
     "output_type": "stream",
     "text": [
      "SARIMA(1, 0, 1)x(3, 0, 1, 6) - AIC:206.4278185110962\n",
      "SARIMA(1, 0, 1)x(3, 0, 2, 6) - AIC:116.61537177071489\n",
      "SARIMA(1, 0, 1)x(3, 0, 3, 6) - AIC:98.36682003387742\n",
      "SARIMA(1, 0, 1)x(3, 1, 0, 6) - AIC:12.0\n",
      "SARIMA(1, 0, 1)x(3, 1, 1, 6) - AIC:14.0\n",
      "SARIMA(1, 0, 1)x(3, 1, 2, 6) - AIC:16.0\n",
      "SARIMA(1, 0, 1)x(3, 1, 3, 6) - AIC:18.0\n",
      "SARIMA(1, 0, 2)x(0, 0, 0, 6) - AIC:450.3829236844189\n"
     ]
    },
    {
     "name": "stderr",
     "output_type": "stream",
     "text": [
      "C:\\Anaconda3\\lib\\site-packages\\statsmodels\\base\\model.py:604: ConvergenceWarning: Maximum Likelihood optimization failed to converge. Check mle_retvals\n",
      "  warnings.warn(\"Maximum Likelihood optimization failed to \"\n"
     ]
    },
    {
     "name": "stdout",
     "output_type": "stream",
     "text": [
      "SARIMA(1, 0, 2)x(0, 0, 1, 6) - AIC:1112.0238169070376\n",
      "SARIMA(1, 0, 2)x(0, 0, 2, 6) - AIC:202.72330595355461\n",
      "SARIMA(1, 0, 2)x(0, 0, 3, 6) - AIC:74.80755467334941\n",
      "SARIMA(1, 0, 2)x(0, 1, 0, 6) - AIC:329.4719427989588\n",
      "SARIMA(1, 0, 2)x(0, 1, 1, 6) - AIC:203.70742655720855\n",
      "SARIMA(1, 0, 2)x(0, 1, 2, 6) - AIC:73.92098947170044\n",
      "SARIMA(1, 0, 2)x(0, 1, 3, 6) - AIC:14.0\n",
      "SARIMA(1, 0, 2)x(1, 0, 0, 6) - AIC:369.4610765762596\n"
     ]
    },
    {
     "name": "stderr",
     "output_type": "stream",
     "text": [
      "C:\\Anaconda3\\lib\\site-packages\\statsmodels\\base\\model.py:604: ConvergenceWarning: Maximum Likelihood optimization failed to converge. Check mle_retvals\n",
      "  warnings.warn(\"Maximum Likelihood optimization failed to \"\n"
     ]
    },
    {
     "name": "stdout",
     "output_type": "stream",
     "text": [
      "SARIMA(1, 0, 2)x(1, 0, 1, 6) - AIC:1172.8859803172616\n",
      "SARIMA(1, 0, 2)x(1, 0, 2, 6) - AIC:204.56426891634848\n",
      "SARIMA(1, 0, 2)x(1, 0, 3, 6) - AIC:76.80396851824472\n",
      "SARIMA(1, 0, 2)x(1, 1, 0, 6) - AIC:247.35194660970296\n",
      "SARIMA(1, 0, 2)x(1, 1, 1, 6) - AIC:203.1012291731739\n",
      "SARIMA(1, 0, 2)x(1, 1, 2, 6) - AIC:75.92099847636317\n",
      "SARIMA(1, 0, 2)x(1, 1, 3, 6) - AIC:16.0\n",
      "SARIMA(1, 0, 2)x(2, 0, 0, 6) - AIC:244.41761913877534\n"
     ]
    },
    {
     "name": "stderr",
     "output_type": "stream",
     "text": [
      "C:\\Anaconda3\\lib\\site-packages\\statsmodels\\base\\model.py:604: ConvergenceWarning: Maximum Likelihood optimization failed to converge. Check mle_retvals\n",
      "  warnings.warn(\"Maximum Likelihood optimization failed to \"\n"
     ]
    },
    {
     "name": "stdout",
     "output_type": "stream",
     "text": [
      "SARIMA(1, 0, 2)x(2, 0, 1, 6) - AIC:412.1810747516566\n",
      "SARIMA(1, 0, 2)x(2, 0, 2, 6) - AIC:200.49679922122598\n",
      "SARIMA(1, 0, 2)x(2, 0, 3, 6) - AIC:75.99522982523325\n",
      "SARIMA(1, 0, 2)x(2, 1, 0, 6) - AIC:115.57385427896152\n",
      "SARIMA(1, 0, 2)x(2, 1, 1, 6) - AIC:117.5952861300182\n",
      "SARIMA(1, 0, 2)x(2, 1, 2, 6) - AIC:77.92083642089202\n",
      "SARIMA(1, 0, 2)x(2, 1, 3, 6) - AIC:18.0\n",
      "SARIMA(1, 0, 2)x(3, 0, 0, 6) - AIC:115.34861433289596\n"
     ]
    },
    {
     "name": "stderr",
     "output_type": "stream",
     "text": [
      "C:\\Anaconda3\\lib\\site-packages\\statsmodels\\base\\model.py:604: ConvergenceWarning: Maximum Likelihood optimization failed to converge. Check mle_retvals\n",
      "  warnings.warn(\"Maximum Likelihood optimization failed to \"\n"
     ]
    },
    {
     "name": "stdout",
     "output_type": "stream",
     "text": [
      "SARIMA(1, 0, 2)x(3, 0, 1, 6) - AIC:169.7353448660827\n",
      "SARIMA(1, 0, 2)x(3, 0, 2, 6) - AIC:119.347457622464\n",
      "SARIMA(1, 0, 2)x(3, 0, 3, 6) - AIC:80.63589369408902\n",
      "SARIMA(1, 0, 2)x(3, 1, 0, 6) - AIC:14.0\n",
      "SARIMA(1, 0, 2)x(3, 1, 1, 6) - AIC:16.0\n",
      "SARIMA(1, 0, 2)x(3, 1, 2, 6) - AIC:18.0\n",
      "SARIMA(1, 0, 2)x(3, 1, 3, 6) - AIC:20.0\n",
      "SARIMA(1, 0, 3)x(0, 0, 0, 6) - AIC:429.1228386420272\n"
     ]
    },
    {
     "name": "stderr",
     "output_type": "stream",
     "text": [
      "C:\\Anaconda3\\lib\\site-packages\\statsmodels\\base\\model.py:604: ConvergenceWarning: Maximum Likelihood optimization failed to converge. Check mle_retvals\n",
      "  warnings.warn(\"Maximum Likelihood optimization failed to \"\n"
     ]
    },
    {
     "name": "stdout",
     "output_type": "stream",
     "text": [
      "SARIMA(1, 0, 3)x(0, 0, 1, 6) - AIC:1038.9932312158483\n",
      "SARIMA(1, 0, 3)x(0, 0, 2, 6) - AIC:179.96195205004466\n",
      "SARIMA(1, 0, 3)x(0, 0, 3, 6) - AIC:56.517987465718164\n",
      "SARIMA(1, 0, 3)x(0, 1, 0, 6) - AIC:310.81324117333077\n",
      "SARIMA(1, 0, 3)x(0, 1, 1, 6) - AIC:186.33425633020664\n",
      "SARIMA(1, 0, 3)x(0, 1, 2, 6) - AIC:55.50043701718657\n",
      "SARIMA(1, 0, 3)x(0, 1, 3, 6) - AIC:16.0\n",
      "SARIMA(1, 0, 3)x(1, 0, 0, 6) - AIC:368.1943113026365\n"
     ]
    },
    {
     "name": "stderr",
     "output_type": "stream",
     "text": [
      "C:\\Anaconda3\\lib\\site-packages\\statsmodels\\base\\model.py:604: ConvergenceWarning: Maximum Likelihood optimization failed to converge. Check mle_retvals\n",
      "  warnings.warn(\"Maximum Likelihood optimization failed to \"\n"
     ]
    },
    {
     "name": "stdout",
     "output_type": "stream",
     "text": [
      "SARIMA(1, 0, 3)x(1, 0, 1, 6) - AIC:936.0362689566707\n",
      "SARIMA(1, 0, 3)x(1, 0, 2, 6) - AIC:181.71768485522125\n",
      "SARIMA(1, 0, 3)x(1, 0, 3, 6) - AIC:58.51725445967329\n",
      "SARIMA(1, 0, 3)x(1, 1, 0, 6) - AIC:249.54924640377368\n",
      "SARIMA(1, 0, 3)x(1, 1, 1, 6) - AIC:186.82855152736\n",
      "SARIMA(1, 0, 3)x(1, 1, 2, 6) - AIC:57.500314136047365\n",
      "SARIMA(1, 0, 3)x(1, 1, 3, 6) - AIC:18.0\n",
      "SARIMA(1, 0, 3)x(2, 0, 0, 6) - AIC:242.78401256988144\n"
     ]
    },
    {
     "name": "stderr",
     "output_type": "stream",
     "text": [
      "C:\\Anaconda3\\lib\\site-packages\\statsmodels\\base\\model.py:604: ConvergenceWarning: Maximum Likelihood optimization failed to converge. Check mle_retvals\n",
      "  warnings.warn(\"Maximum Likelihood optimization failed to \"\n"
     ]
    },
    {
     "name": "stdout",
     "output_type": "stream",
     "text": [
      "SARIMA(1, 0, 3)x(2, 0, 1, 6) - AIC:343.46055225100497\n",
      "SARIMA(1, 0, 3)x(2, 0, 2, 6) - AIC:182.55354017875072\n",
      "SARIMA(1, 0, 3)x(2, 0, 3, 6) - AIC:60.517241284110604\n",
      "SARIMA(1, 0, 3)x(2, 1, 0, 6) - AIC:118.34669416920836\n",
      "SARIMA(1, 0, 3)x(2, 1, 1, 6) - AIC:120.09120382466868\n",
      "SARIMA(1, 0, 3)x(2, 1, 2, 6) - AIC:59.50034051107062\n",
      "SARIMA(1, 0, 3)x(2, 1, 3, 6) - AIC:20.0\n",
      "SARIMA(1, 0, 3)x(3, 0, 0, 6) - AIC:117.29698848433961\n"
     ]
    },
    {
     "name": "stderr",
     "output_type": "stream",
     "text": [
      "C:\\Anaconda3\\lib\\site-packages\\statsmodels\\base\\model.py:604: ConvergenceWarning: Maximum Likelihood optimization failed to converge. Check mle_retvals\n",
      "  warnings.warn(\"Maximum Likelihood optimization failed to \"\n"
     ]
    },
    {
     "name": "stdout",
     "output_type": "stream",
     "text": [
      "SARIMA(1, 0, 3)x(3, 0, 1, 6) - AIC:201.1263553811436\n",
      "SARIMA(1, 0, 3)x(3, 0, 2, 6) - AIC:121.3067966156292\n",
      "SARIMA(1, 0, 3)x(3, 0, 3, 6) - AIC:62.517269818657724\n",
      "SARIMA(1, 0, 3)x(3, 1, 0, 6) - AIC:16.0\n",
      "SARIMA(1, 0, 3)x(3, 1, 1, 6) - AIC:18.0\n",
      "SARIMA(1, 0, 3)x(3, 1, 2, 6) - AIC:20.0\n",
      "SARIMA(1, 0, 3)x(3, 1, 3, 6) - AIC:22.0\n",
      "SARIMA(1, 1, 0)x(0, 0, 0, 6) - AIC:469.50057670793973\n",
      "SARIMA(1, 1, 0)x(0, 0, 1, 6) - AIC:1307.4609152926\n",
      "SARIMA(1, 1, 0)x(0, 0, 2, 6) - AIC:222.3996847643547\n",
      "SARIMA(1, 1, 0)x(0, 0, 3, 6) - AIC:84.05142100387893\n",
      "SARIMA(1, 1, 0)x(0, 1, 0, 6) - AIC:348.4350849664744\n",
      "SARIMA(1, 1, 0)x(0, 1, 1, 6) - AIC:223.09778197555087\n",
      "SARIMA(1, 1, 0)x(0, 1, 2, 6) - AIC:93.19430729037146\n",
      "SARIMA(1, 1, 0)x(0, 1, 3, 6) - AIC:10.0\n",
      "SARIMA(1, 1, 0)x(1, 0, 0, 6) - AIC:347.82967733681267\n",
      "SARIMA(1, 1, 0)x(1, 0, 1, 6) - AIC:1368.64911051357\n",
      "SARIMA(1, 1, 0)x(1, 0, 2, 6) - AIC:224.21664360779485\n",
      "SARIMA(1, 1, 0)x(1, 0, 3, 6) - AIC:93.06599449701346\n",
      "SARIMA(1, 1, 0)x(1, 1, 0, 6) - AIC:223.59530334354932\n",
      "SARIMA(1, 1, 0)x(1, 1, 1, 6) - AIC:223.53809359871843\n",
      "SARIMA(1, 1, 0)x(1, 1, 2, 6) - AIC:94.4351903084017\n",
      "SARIMA(1, 1, 0)x(1, 1, 3, 6) - AIC:12.0\n",
      "SARIMA(1, 1, 0)x(2, 0, 0, 6) - AIC:226.13371489857118\n"
     ]
    },
    {
     "name": "stderr",
     "output_type": "stream",
     "text": [
      "C:\\Anaconda3\\lib\\site-packages\\statsmodels\\base\\model.py:604: ConvergenceWarning: Maximum Likelihood optimization failed to converge. Check mle_retvals\n",
      "  warnings.warn(\"Maximum Likelihood optimization failed to \"\n"
     ]
    },
    {
     "name": "stdout",
     "output_type": "stream",
     "text": [
      "SARIMA(1, 1, 0)x(2, 0, 1, 6) - AIC:356.1902186547324\n",
      "SARIMA(1, 1, 0)x(2, 0, 2, 6) - AIC:223.58053588039607\n",
      "SARIMA(1, 1, 0)x(2, 0, 3, 6) - AIC:94.68964973586867\n",
      "SARIMA(1, 1, 0)x(2, 1, 0, 6) - AIC:94.61958411969496\n",
      "SARIMA(1, 1, 0)x(2, 1, 1, 6) - AIC:94.1258443180362\n",
      "SARIMA(1, 1, 0)x(2, 1, 2, 6) - AIC:95.40783541659346\n",
      "SARIMA(1, 1, 0)x(2, 1, 3, 6) - AIC:14.0\n",
      "SARIMA(1, 1, 0)x(3, 0, 0, 6) - AIC:10.225985281460911\n"
     ]
    },
    {
     "name": "stderr",
     "output_type": "stream",
     "text": [
      "C:\\Anaconda3\\lib\\site-packages\\statsmodels\\base\\model.py:604: ConvergenceWarning: Maximum Likelihood optimization failed to converge. Check mle_retvals\n",
      "  warnings.warn(\"Maximum Likelihood optimization failed to \"\n"
     ]
    },
    {
     "name": "stdout",
     "output_type": "stream",
     "text": [
      "SARIMA(1, 1, 0)x(3, 0, 1, 6) - AIC:173.38175454228076\n",
      "SARIMA(1, 1, 0)x(3, 0, 2, 6) - AIC:16.867182637072702\n",
      "SARIMA(1, 1, 0)x(3, 0, 3, 6) - AIC:96.63625863249419\n",
      "SARIMA(1, 1, 0)x(3, 1, 0, 6) - AIC:10.0\n",
      "SARIMA(1, 1, 0)x(3, 1, 1, 6) - AIC:12.0\n",
      "SARIMA(1, 1, 0)x(3, 1, 2, 6) - AIC:14.0\n",
      "SARIMA(1, 1, 0)x(3, 1, 3, 6) - AIC:16.0\n",
      "SARIMA(1, 1, 1)x(0, 0, 0, 6) - AIC:449.16523710057584\n"
     ]
    },
    {
     "name": "stderr",
     "output_type": "stream",
     "text": [
      "C:\\Anaconda3\\lib\\site-packages\\statsmodels\\base\\model.py:604: ConvergenceWarning: Maximum Likelihood optimization failed to converge. Check mle_retvals\n",
      "  warnings.warn(\"Maximum Likelihood optimization failed to \"\n"
     ]
    },
    {
     "name": "stdout",
     "output_type": "stream",
     "text": [
      "SARIMA(1, 1, 1)x(0, 0, 1, 6) - AIC:1143.9761480930151\n",
      "SARIMA(1, 1, 1)x(0, 0, 2, 6) - AIC:203.93722851714205\n",
      "SARIMA(1, 1, 1)x(0, 0, 3, 6) - AIC:60.631797043710336\n",
      "SARIMA(1, 1, 1)x(0, 1, 0, 6) - AIC:327.59407317464746\n",
      "SARIMA(1, 1, 1)x(0, 1, 1, 6) - AIC:202.81900166671358\n",
      "SARIMA(1, 1, 1)x(0, 1, 2, 6) - AIC:64.35641683710786\n",
      "SARIMA(1, 1, 1)x(0, 1, 3, 6) - AIC:12.0\n",
      "SARIMA(1, 1, 1)x(1, 0, 0, 6) - AIC:347.4247816956679\n"
     ]
    },
    {
     "name": "stderr",
     "output_type": "stream",
     "text": [
      "C:\\Anaconda3\\lib\\site-packages\\statsmodels\\base\\model.py:604: ConvergenceWarning: Maximum Likelihood optimization failed to converge. Check mle_retvals\n",
      "  warnings.warn(\"Maximum Likelihood optimization failed to \"\n"
     ]
    },
    {
     "name": "stdout",
     "output_type": "stream",
     "text": [
      "SARIMA(1, 1, 1)x(1, 0, 1, 6) - AIC:1201.2852163222406\n",
      "SARIMA(1, 1, 1)x(1, 0, 2, 6) - AIC:203.47125074482796\n",
      "SARIMA(1, 1, 1)x(1, 0, 3, 6) - AIC:74.7296666923767\n",
      "SARIMA(1, 1, 1)x(1, 1, 0, 6) - AIC:223.59723985015384\n",
      "SARIMA(1, 1, 1)x(1, 1, 1, 6) - AIC:203.42361867177326\n",
      "SARIMA(1, 1, 1)x(1, 1, 2, 6) - AIC:73.94172015169084\n",
      "SARIMA(1, 1, 1)x(1, 1, 3, 6) - AIC:14.0\n",
      "SARIMA(1, 1, 1)x(2, 0, 0, 6) - AIC:223.26333537849874\n"
     ]
    },
    {
     "name": "stderr",
     "output_type": "stream",
     "text": [
      "C:\\Anaconda3\\lib\\site-packages\\statsmodels\\base\\model.py:604: ConvergenceWarning: Maximum Likelihood optimization failed to converge. Check mle_retvals\n",
      "  warnings.warn(\"Maximum Likelihood optimization failed to \"\n"
     ]
    },
    {
     "name": "stdout",
     "output_type": "stream",
     "text": [
      "SARIMA(1, 1, 1)x(2, 0, 1, 6) - AIC:389.19243628902836\n",
      "SARIMA(1, 1, 1)x(2, 0, 2, 6) - AIC:201.92870719135865\n",
      "SARIMA(1, 1, 1)x(2, 0, 3, 6) - AIC:76.7264438151542\n",
      "SARIMA(1, 1, 1)x(2, 1, 0, 6) - AIC:94.46782659701088\n",
      "SARIMA(1, 1, 1)x(2, 1, 1, 6) - AIC:94.93683959715274\n",
      "SARIMA(1, 1, 1)x(2, 1, 2, 6) - AIC:46.0585244263344\n",
      "SARIMA(1, 1, 1)x(2, 1, 3, 6) - AIC:16.0\n",
      "SARIMA(1, 1, 1)x(3, 0, 0, 6) - AIC:93.44030764738635\n",
      "SARIMA(1, 1, 1)x(3, 0, 1, 6) - AIC:122.85423092631227\n",
      "SARIMA(1, 1, 1)x(3, 0, 2, 6) - AIC:96.95257648065783\n",
      "SARIMA(1, 1, 1)x(3, 0, 3, 6) - AIC:78.65530336969562\n",
      "SARIMA(1, 1, 1)x(3, 1, 0, 6) - AIC:12.0\n",
      "SARIMA(1, 1, 1)x(3, 1, 1, 6) - AIC:14.0\n",
      "SARIMA(1, 1, 1)x(3, 1, 2, 6) - AIC:16.0\n",
      "SARIMA(1, 1, 1)x(3, 1, 3, 6) - AIC:18.0\n",
      "SARIMA(1, 1, 2)x(0, 0, 0, 6) - AIC:433.70137131045976\n",
      "SARIMA(1, 1, 2)x(0, 0, 1, 6) - AIC:1255.6130410121584\n"
     ]
    },
    {
     "name": "stderr",
     "output_type": "stream",
     "text": [
      "C:\\Anaconda3\\lib\\site-packages\\statsmodels\\base\\model.py:604: ConvergenceWarning: Maximum Likelihood optimization failed to converge. Check mle_retvals\n",
      "  warnings.warn(\"Maximum Likelihood optimization failed to \"\n"
     ]
    },
    {
     "name": "stdout",
     "output_type": "stream",
     "text": [
      "SARIMA(1, 1, 2)x(0, 0, 2, 6) - AIC:184.59911752744233\n",
      "SARIMA(1, 1, 2)x(0, 0, 3, 6) - AIC:54.69545284483948\n",
      "SARIMA(1, 1, 2)x(0, 1, 0, 6) - AIC:307.73266161643653\n",
      "SARIMA(1, 1, 2)x(0, 1, 1, 6) - AIC:183.4496691207736\n",
      "SARIMA(1, 1, 2)x(0, 1, 2, 6) - AIC:53.21913486079433\n",
      "SARIMA(1, 1, 2)x(0, 1, 3, 6) - AIC:14.0\n",
      "SARIMA(1, 1, 2)x(1, 0, 0, 6) - AIC:348.85298669573586\n",
      "SARIMA(1, 1, 2)x(1, 0, 1, 6) - AIC:1332.1862049234683\n"
     ]
    },
    {
     "name": "stderr",
     "output_type": "stream",
     "text": [
      "C:\\Anaconda3\\lib\\site-packages\\statsmodels\\base\\model.py:604: ConvergenceWarning: Maximum Likelihood optimization failed to converge. Check mle_retvals\n",
      "  warnings.warn(\"Maximum Likelihood optimization failed to \"\n"
     ]
    },
    {
     "name": "stdout",
     "output_type": "stream",
     "text": [
      "SARIMA(1, 1, 2)x(1, 0, 2, 6) - AIC:185.91798971204284\n",
      "SARIMA(1, 1, 2)x(1, 0, 3, 6) - AIC:56.69511895433402\n",
      "SARIMA(1, 1, 2)x(1, 1, 0, 6) - AIC:224.83611492916253\n",
      "SARIMA(1, 1, 2)x(1, 1, 1, 6) - AIC:185.31254290003375\n",
      "SARIMA(1, 1, 2)x(1, 1, 2, 6) - AIC:55.219040365169036\n",
      "SARIMA(1, 1, 2)x(1, 1, 3, 6) - AIC:16.0\n",
      "SARIMA(1, 1, 2)x(2, 0, 0, 6) - AIC:224.0814923942388\n"
     ]
    },
    {
     "name": "stderr",
     "output_type": "stream",
     "text": [
      "C:\\Anaconda3\\lib\\site-packages\\statsmodels\\base\\model.py:604: ConvergenceWarning: Maximum Likelihood optimization failed to converge. Check mle_retvals\n",
      "  warnings.warn(\"Maximum Likelihood optimization failed to \"\n"
     ]
    },
    {
     "name": "stdout",
     "output_type": "stream",
     "text": [
      "SARIMA(1, 1, 2)x(2, 0, 1, 6) - AIC:645.3920594455276\n",
      "SARIMA(1, 1, 2)x(2, 0, 2, 6) - AIC:187.14956687513276\n",
      "SARIMA(1, 1, 2)x(2, 0, 3, 6) - AIC:58.6907853976914\n",
      "SARIMA(1, 1, 2)x(2, 1, 0, 6) - AIC:94.43861973082721\n",
      "SARIMA(1, 1, 2)x(2, 1, 1, 6) - AIC:96.43843946638619\n",
      "SARIMA(1, 1, 2)x(2, 1, 2, 6) - AIC:57.21904955919959\n",
      "SARIMA(1, 1, 2)x(2, 1, 3, 6) - AIC:18.0\n",
      "SARIMA(1, 1, 2)x(3, 0, 0, 6) - AIC:95.38227352481555\n"
     ]
    },
    {
     "name": "stderr",
     "output_type": "stream",
     "text": [
      "C:\\Anaconda3\\lib\\site-packages\\statsmodels\\base\\model.py:604: ConvergenceWarning: Maximum Likelihood optimization failed to converge. Check mle_retvals\n",
      "  warnings.warn(\"Maximum Likelihood optimization failed to \"\n"
     ]
    },
    {
     "name": "stdout",
     "output_type": "stream",
     "text": [
      "SARIMA(1, 1, 2)x(3, 0, 1, 6) - AIC:184.613181532417\n",
      "SARIMA(1, 1, 2)x(3, 0, 2, 6) - AIC:88.12390909912119\n",
      "SARIMA(1, 1, 2)x(3, 0, 3, 6) - AIC:60.69125640870166\n",
      "SARIMA(1, 1, 2)x(3, 1, 0, 6) - AIC:14.0\n",
      "SARIMA(1, 1, 2)x(3, 1, 1, 6) - AIC:16.0\n",
      "SARIMA(1, 1, 2)x(3, 1, 2, 6) - AIC:18.0\n",
      "SARIMA(1, 1, 2)x(3, 1, 3, 6) - AIC:20.0\n",
      "SARIMA(1, 1, 3)x(0, 0, 0, 6) - AIC:412.2215986913392\n"
     ]
    },
    {
     "name": "stderr",
     "output_type": "stream",
     "text": [
      "C:\\Anaconda3\\lib\\site-packages\\statsmodels\\base\\model.py:604: ConvergenceWarning: Maximum Likelihood optimization failed to converge. Check mle_retvals\n",
      "  warnings.warn(\"Maximum Likelihood optimization failed to \"\n"
     ]
    },
    {
     "name": "stdout",
     "output_type": "stream",
     "text": [
      "SARIMA(1, 1, 3)x(0, 0, 1, 6) - AIC:940.9247871657719\n",
      "SARIMA(1, 1, 3)x(0, 0, 2, 6) - AIC:163.138392705334\n",
      "SARIMA(1, 1, 3)x(0, 0, 3, 6) - AIC:36.58355526262473\n",
      "SARIMA(1, 1, 3)x(0, 1, 0, 6) - AIC:295.9765081053553\n",
      "SARIMA(1, 1, 3)x(0, 1, 1, 6) - AIC:163.00907306641713\n",
      "SARIMA(1, 1, 3)x(0, 1, 2, 6) - AIC:35.05275007614674\n",
      "SARIMA(1, 1, 3)x(0, 1, 3, 6) - AIC:16.0\n",
      "SARIMA(1, 1, 3)x(1, 0, 0, 6) - AIC:351.61860359543255\n"
     ]
    },
    {
     "name": "stderr",
     "output_type": "stream",
     "text": [
      "C:\\Anaconda3\\lib\\site-packages\\statsmodels\\base\\model.py:604: ConvergenceWarning: Maximum Likelihood optimization failed to converge. Check mle_retvals\n",
      "  warnings.warn(\"Maximum Likelihood optimization failed to \"\n"
     ]
    },
    {
     "name": "stdout",
     "output_type": "stream",
     "text": [
      "SARIMA(1, 1, 3)x(1, 0, 1, 6) - AIC:1023.0741623584856\n",
      "SARIMA(1, 1, 3)x(1, 0, 2, 6) - AIC:163.80810923598185\n",
      "SARIMA(1, 1, 3)x(1, 0, 3, 6) - AIC:38.583502849870214\n",
      "SARIMA(1, 1, 3)x(1, 1, 0, 6) - AIC:227.55422898394278\n",
      "SARIMA(1, 1, 3)x(1, 1, 1, 6) - AIC:164.42563661825358\n",
      "SARIMA(1, 1, 3)x(1, 1, 2, 6) - AIC:37.05277388143621\n",
      "SARIMA(1, 1, 3)x(1, 1, 3, 6) - AIC:18.0\n",
      "SARIMA(1, 1, 3)x(2, 0, 0, 6) - AIC:225.931774579385\n"
     ]
    },
    {
     "name": "stderr",
     "output_type": "stream",
     "text": [
      "C:\\Anaconda3\\lib\\site-packages\\statsmodels\\base\\model.py:604: ConvergenceWarning: Maximum Likelihood optimization failed to converge. Check mle_retvals\n",
      "  warnings.warn(\"Maximum Likelihood optimization failed to \"\n"
     ]
    },
    {
     "name": "stdout",
     "output_type": "stream",
     "text": [
      "SARIMA(1, 1, 3)x(2, 0, 1, 6) - AIC:409.9044913750829\n",
      "SARIMA(1, 1, 3)x(2, 0, 2, 6) - AIC:164.1107802854433\n",
      "SARIMA(1, 1, 3)x(2, 0, 3, 6) - AIC:40.58350236178388\n",
      "SARIMA(1, 1, 3)x(2, 1, 0, 6) - AIC:98.21113168448359\n",
      "SARIMA(1, 1, 3)x(2, 1, 1, 6) - AIC:100.21098290297664\n",
      "SARIMA(1, 1, 3)x(2, 1, 2, 6) - AIC:39.05277558855968\n",
      "SARIMA(1, 1, 3)x(2, 1, 3, 6) - AIC:20.0\n",
      "SARIMA(1, 1, 3)x(3, 0, 0, 6) - AIC:98.35007981574613\n"
     ]
    },
    {
     "name": "stderr",
     "output_type": "stream",
     "text": [
      "C:\\Anaconda3\\lib\\site-packages\\statsmodels\\base\\model.py:604: ConvergenceWarning: Maximum Likelihood optimization failed to converge. Check mle_retvals\n",
      "  warnings.warn(\"Maximum Likelihood optimization failed to \"\n"
     ]
    },
    {
     "name": "stdout",
     "output_type": "stream",
     "text": [
      "SARIMA(1, 1, 3)x(3, 0, 1, 6) - AIC:146.51278915019066\n",
      "SARIMA(1, 1, 3)x(3, 0, 2, 6) - AIC:102.33322452817211\n",
      "SARIMA(1, 1, 3)x(3, 0, 3, 6) - AIC:42.583536645648024\n",
      "SARIMA(1, 1, 3)x(3, 1, 0, 6) - AIC:16.0\n",
      "SARIMA(1, 1, 3)x(3, 1, 1, 6) - AIC:18.0\n",
      "SARIMA(1, 1, 3)x(3, 1, 2, 6) - AIC:20.0\n",
      "SARIMA(1, 1, 3)x(3, 1, 3, 6) - AIC:22.0\n",
      "SARIMA(2, 0, 0)x(0, 0, 0, 6) - AIC:468.5361878866913\n"
     ]
    },
    {
     "name": "stderr",
     "output_type": "stream",
     "text": [
      "C:\\Anaconda3\\lib\\site-packages\\statsmodels\\base\\model.py:604: ConvergenceWarning: Maximum Likelihood optimization failed to converge. Check mle_retvals\n",
      "  warnings.warn(\"Maximum Likelihood optimization failed to \"\n"
     ]
    },
    {
     "name": "stdout",
     "output_type": "stream",
     "text": [
      "SARIMA(2, 0, 0)x(0, 0, 1, 6) - AIC:548.021955100958\n",
      "SARIMA(2, 0, 0)x(0, 0, 2, 6) - AIC:240.47205687626595\n",
      "SARIMA(2, 0, 0)x(0, 0, 3, 6) - AIC:112.31615525878884\n",
      "SARIMA(2, 0, 0)x(0, 1, 0, 6) - AIC:347.4847542817174\n",
      "SARIMA(2, 0, 0)x(0, 1, 1, 6) - AIC:243.9898065603611\n",
      "SARIMA(2, 0, 0)x(0, 1, 2, 6) - AIC:112.83307489765821\n",
      "SARIMA(2, 0, 0)x(0, 1, 3, 6) - AIC:12.0\n",
      "SARIMA(2, 0, 0)x(1, 0, 0, 6) - AIC:346.932416433571\n",
      "SARIMA(2, 0, 0)x(1, 0, 1, 6) - AIC:1257.0628071268613\n",
      "SARIMA(2, 0, 0)x(1, 0, 2, 6) - AIC:241.61368472886875\n",
      "SARIMA(2, 0, 0)x(1, 0, 3, 6) - AIC:114.31491527593096\n",
      "SARIMA(2, 0, 0)x(1, 1, 0, 6) - AIC:224.30058578151463\n",
      "SARIMA(2, 0, 0)x(1, 1, 1, 6) - AIC:221.01036732507336\n",
      "SARIMA(2, 0, 0)x(1, 1, 2, 6) - AIC:114.82360034881029\n",
      "SARIMA(2, 0, 0)x(1, 1, 3, 6) - AIC:14.0\n",
      "SARIMA(2, 0, 0)x(2, 0, 0, 6) - AIC:221.70728944274344\n"
     ]
    },
    {
     "name": "stderr",
     "output_type": "stream",
     "text": [
      "C:\\Anaconda3\\lib\\site-packages\\statsmodels\\base\\model.py:604: ConvergenceWarning: Maximum Likelihood optimization failed to converge. Check mle_retvals\n",
      "  warnings.warn(\"Maximum Likelihood optimization failed to \"\n"
     ]
    },
    {
     "name": "stdout",
     "output_type": "stream",
     "text": [
      "SARIMA(2, 0, 0)x(2, 0, 1, 6) - AIC:377.56996986843205\n",
      "SARIMA(2, 0, 0)x(2, 0, 2, 6) - AIC:217.55290672184188\n",
      "SARIMA(2, 0, 0)x(2, 0, 3, 6) - AIC:102.62559777449763\n",
      "SARIMA(2, 0, 0)x(2, 1, 0, 6) - AIC:91.3711892177023\n",
      "SARIMA(2, 0, 0)x(2, 1, 1, 6) - AIC:93.37117374987619\n",
      "SARIMA(2, 0, 0)x(2, 1, 2, 6) - AIC:95.37117180438106\n",
      "SARIMA(2, 0, 0)x(2, 1, 3, 6) - AIC:16.0\n",
      "SARIMA(2, 0, 0)x(3, 0, 0, 6) - AIC:92.09748692248529\n"
     ]
    },
    {
     "name": "stderr",
     "output_type": "stream",
     "text": [
      "C:\\Anaconda3\\lib\\site-packages\\statsmodels\\base\\model.py:604: ConvergenceWarning: Maximum Likelihood optimization failed to converge. Check mle_retvals\n",
      "  warnings.warn(\"Maximum Likelihood optimization failed to \"\n"
     ]
    },
    {
     "name": "stdout",
     "output_type": "stream",
     "text": [
      "SARIMA(2, 0, 0)x(3, 0, 1, 6) - AIC:159.86562894235573\n",
      "SARIMA(2, 0, 0)x(3, 0, 2, 6) - AIC:74.43831734746924\n",
      "SARIMA(2, 0, 0)x(3, 0, 3, 6) - AIC:96.81785774918286\n",
      "SARIMA(2, 0, 0)x(3, 1, 0, 6) - AIC:12.0\n",
      "SARIMA(2, 0, 0)x(3, 1, 1, 6) - AIC:14.0\n",
      "SARIMA(2, 0, 0)x(3, 1, 2, 6) - AIC:16.0\n",
      "SARIMA(2, 0, 0)x(3, 1, 3, 6) - AIC:18.0\n",
      "SARIMA(2, 0, 1)x(0, 0, 0, 6) - AIC:470.1197018276272\n"
     ]
    },
    {
     "name": "stderr",
     "output_type": "stream",
     "text": [
      "C:\\Anaconda3\\lib\\site-packages\\statsmodels\\base\\model.py:604: ConvergenceWarning: Maximum Likelihood optimization failed to converge. Check mle_retvals\n",
      "  warnings.warn(\"Maximum Likelihood optimization failed to \"\n"
     ]
    },
    {
     "name": "stdout",
     "output_type": "stream",
     "text": [
      "SARIMA(2, 0, 1)x(0, 0, 1, 6) - AIC:1111.295675579862\n",
      "SARIMA(2, 0, 1)x(0, 0, 2, 6) - AIC:218.51788574575204\n",
      "SARIMA(2, 0, 1)x(0, 0, 3, 6) - AIC:94.3973824530917\n",
      "SARIMA(2, 0, 1)x(0, 1, 0, 6) - AIC:349.61888511291784\n",
      "SARIMA(2, 0, 1)x(0, 1, 1, 6) - AIC:224.11913234970876\n",
      "SARIMA(2, 0, 1)x(0, 1, 2, 6) - AIC:94.35796081667083\n",
      "SARIMA(2, 0, 1)x(0, 1, 3, 6) - AIC:14.0\n",
      "SARIMA(2, 0, 1)x(1, 0, 0, 6) - AIC:348.79921334320164\n"
     ]
    },
    {
     "name": "stderr",
     "output_type": "stream",
     "text": [
      "C:\\Anaconda3\\lib\\site-packages\\statsmodels\\base\\model.py:604: ConvergenceWarning: Maximum Likelihood optimization failed to converge. Check mle_retvals\n",
      "  warnings.warn(\"Maximum Likelihood optimization failed to \"\n"
     ]
    },
    {
     "name": "stdout",
     "output_type": "stream",
     "text": [
      "SARIMA(2, 0, 1)x(1, 0, 1, 6) - AIC:1095.9799129477924\n",
      "SARIMA(2, 0, 1)x(1, 0, 2, 6) - AIC:226.44919498125185\n",
      "SARIMA(2, 0, 1)x(1, 0, 3, 6) - AIC:96.39544970311223\n",
      "SARIMA(2, 0, 1)x(1, 1, 0, 6) - AIC:225.609057650988\n",
      "SARIMA(2, 0, 1)x(1, 1, 1, 6) - AIC:223.447490446889\n",
      "SARIMA(2, 0, 1)x(1, 1, 2, 6) - AIC:95.90335127888814\n",
      "SARIMA(2, 0, 1)x(1, 1, 3, 6) - AIC:16.0\n",
      "SARIMA(2, 0, 1)x(2, 0, 0, 6) - AIC:221.4938132484227\n"
     ]
    },
    {
     "name": "stderr",
     "output_type": "stream",
     "text": [
      "C:\\Anaconda3\\lib\\site-packages\\statsmodels\\base\\model.py:604: ConvergenceWarning: Maximum Likelihood optimization failed to converge. Check mle_retvals\n",
      "  warnings.warn(\"Maximum Likelihood optimization failed to \"\n"
     ]
    },
    {
     "name": "stdout",
     "output_type": "stream",
     "text": [
      "SARIMA(2, 0, 1)x(2, 0, 1, 6) - AIC:338.3690233556817\n",
      "SARIMA(2, 0, 1)x(2, 0, 2, 6) - AIC:219.09287656811992\n",
      "SARIMA(2, 0, 1)x(2, 0, 3, 6) - AIC:86.07584419510124\n",
      "SARIMA(2, 0, 1)x(2, 1, 0, 6) - AIC:93.90235666285699\n",
      "SARIMA(2, 0, 1)x(2, 1, 1, 6) - AIC:95.90616080312576\n",
      "SARIMA(2, 0, 1)x(2, 1, 2, 6) - AIC:97.9032514777843\n",
      "SARIMA(2, 0, 1)x(2, 1, 3, 6) - AIC:18.0\n",
      "SARIMA(2, 0, 1)x(3, 0, 0, 6) - AIC:81.54780012663626\n"
     ]
    },
    {
     "name": "stderr",
     "output_type": "stream",
     "text": [
      "C:\\Anaconda3\\lib\\site-packages\\statsmodels\\base\\model.py:604: ConvergenceWarning: Maximum Likelihood optimization failed to converge. Check mle_retvals\n",
      "  warnings.warn(\"Maximum Likelihood optimization failed to \"\n"
     ]
    },
    {
     "name": "stdout",
     "output_type": "stream",
     "text": [
      "SARIMA(2, 0, 1)x(3, 0, 1, 6) - AIC:186.80958880299073\n",
      "SARIMA(2, 0, 1)x(3, 0, 2, 6) - AIC:78.52012368146009\n",
      "SARIMA(2, 0, 1)x(3, 0, 3, 6) - AIC:96.10256121776152\n",
      "SARIMA(2, 0, 1)x(3, 1, 0, 6) - AIC:14.0\n",
      "SARIMA(2, 0, 1)x(3, 1, 1, 6) - AIC:16.0\n",
      "SARIMA(2, 0, 1)x(3, 1, 2, 6) - AIC:18.0\n",
      "SARIMA(2, 0, 1)x(3, 1, 3, 6) - AIC:20.0\n",
      "SARIMA(2, 0, 2)x(0, 0, 0, 6) - AIC:450.2600780744702\n"
     ]
    },
    {
     "name": "stderr",
     "output_type": "stream",
     "text": [
      "C:\\Anaconda3\\lib\\site-packages\\statsmodels\\base\\model.py:604: ConvergenceWarning: Maximum Likelihood optimization failed to converge. Check mle_retvals\n",
      "  warnings.warn(\"Maximum Likelihood optimization failed to \"\n"
     ]
    },
    {
     "name": "stdout",
     "output_type": "stream",
     "text": [
      "SARIMA(2, 0, 2)x(0, 0, 1, 6) - AIC:1895.2123984040416\n",
      "SARIMA(2, 0, 2)x(0, 0, 2, 6) - AIC:205.02010883891802\n",
      "SARIMA(2, 0, 2)x(0, 0, 3, 6) - AIC:76.53256472723781\n",
      "SARIMA(2, 0, 2)x(0, 1, 0, 6) - AIC:329.7334203976259\n",
      "SARIMA(2, 0, 2)x(0, 1, 1, 6) - AIC:205.5872224723422\n",
      "SARIMA(2, 0, 2)x(0, 1, 2, 6) - AIC:75.86686140865217\n",
      "SARIMA(2, 0, 2)x(0, 1, 3, 6) - AIC:16.0\n",
      "SARIMA(2, 0, 2)x(1, 0, 0, 6) - AIC:349.63476612178783\n",
      "SARIMA(2, 0, 2)x(1, 0, 1, 6) - AIC:1792.3552891871198\n",
      "SARIMA(2, 0, 2)x(1, 0, 2, 6) - AIC:205.17801244422506\n",
      "SARIMA(2, 0, 2)x(1, 0, 3, 6) - AIC:78.44565174919754\n",
      "SARIMA(2, 0, 2)x(1, 1, 0, 6) - AIC:226.54488294019487\n",
      "SARIMA(2, 0, 2)x(1, 1, 1, 6) - AIC:202.08367819539458\n",
      "SARIMA(2, 0, 2)x(1, 1, 2, 6) - AIC:77.86681628812352\n",
      "SARIMA(2, 0, 2)x(1, 1, 3, 6) - AIC:18.0\n",
      "SARIMA(2, 0, 2)x(2, 0, 0, 6) - AIC:221.36741455046143\n",
      "SARIMA(2, 0, 2)x(2, 0, 1, 6) - AIC:491.26253296417246\n"
     ]
    },
    {
     "name": "stderr",
     "output_type": "stream",
     "text": [
      "C:\\Anaconda3\\lib\\site-packages\\statsmodels\\base\\model.py:604: ConvergenceWarning: Maximum Likelihood optimization failed to converge. Check mle_retvals\n",
      "  warnings.warn(\"Maximum Likelihood optimization failed to \"\n"
     ]
    },
    {
     "name": "stdout",
     "output_type": "stream",
     "text": [
      "SARIMA(2, 0, 2)x(2, 0, 2, 6) - AIC:206.9357032515909\n",
      "SARIMA(2, 0, 2)x(2, 0, 3, 6) - AIC:80.42815368402893\n",
      "SARIMA(2, 0, 2)x(2, 1, 0, 6) - AIC:96.48900523316293\n",
      "SARIMA(2, 0, 2)x(2, 1, 1, 6) - AIC:98.48951891837183\n",
      "SARIMA(2, 0, 2)x(2, 1, 2, 6) - AIC:79.86681669587385\n",
      "SARIMA(2, 0, 2)x(2, 1, 3, 6) - AIC:20.0\n",
      "SARIMA(2, 0, 2)x(3, 0, 0, 6) - AIC:87.33898238384893\n"
     ]
    },
    {
     "name": "stderr",
     "output_type": "stream",
     "text": [
      "C:\\Anaconda3\\lib\\site-packages\\statsmodels\\base\\model.py:604: ConvergenceWarning: Maximum Likelihood optimization failed to converge. Check mle_retvals\n",
      "  warnings.warn(\"Maximum Likelihood optimization failed to \"\n"
     ]
    },
    {
     "name": "stdout",
     "output_type": "stream",
     "text": [
      "SARIMA(2, 0, 2)x(3, 0, 1, 6) - AIC:18.0\n",
      "SARIMA(2, 0, 2)x(3, 0, 2, 6) - AIC:100.59458319646701\n",
      "SARIMA(2, 0, 2)x(3, 0, 3, 6) - AIC:82.44624295400625\n",
      "SARIMA(2, 0, 2)x(3, 1, 0, 6) - AIC:16.0\n",
      "SARIMA(2, 0, 2)x(3, 1, 1, 6) - AIC:18.0\n",
      "SARIMA(2, 0, 2)x(3, 1, 2, 6) - AIC:20.0\n",
      "SARIMA(2, 0, 2)x(3, 1, 3, 6) - AIC:22.0\n",
      "SARIMA(2, 0, 3)x(0, 0, 0, 6) - AIC:430.56601058317796\n"
     ]
    },
    {
     "name": "stderr",
     "output_type": "stream",
     "text": [
      "C:\\Anaconda3\\lib\\site-packages\\statsmodels\\base\\model.py:604: ConvergenceWarning: Maximum Likelihood optimization failed to converge. Check mle_retvals\n",
      "  warnings.warn(\"Maximum Likelihood optimization failed to \"\n"
     ]
    },
    {
     "name": "stdout",
     "output_type": "stream",
     "text": [
      "SARIMA(2, 0, 3)x(0, 0, 1, 6) - AIC:853.9163840727977\n",
      "SARIMA(2, 0, 3)x(0, 0, 2, 6) - AIC:181.70993668930086\n",
      "SARIMA(2, 0, 3)x(0, 0, 3, 6) - AIC:58.40327837777879\n",
      "SARIMA(2, 0, 3)x(0, 1, 0, 6) - AIC:310.03573566060453\n",
      "SARIMA(2, 0, 3)x(0, 1, 1, 6) - AIC:186.92882907052038\n",
      "SARIMA(2, 0, 3)x(0, 1, 2, 6) - AIC:57.313451387203415\n",
      "SARIMA(2, 0, 3)x(0, 1, 3, 6) - AIC:18.0\n",
      "SARIMA(2, 0, 3)x(1, 0, 0, 6) - AIC:348.3640897067679\n"
     ]
    },
    {
     "name": "stderr",
     "output_type": "stream",
     "text": [
      "C:\\Anaconda3\\lib\\site-packages\\statsmodels\\base\\model.py:604: ConvergenceWarning: Maximum Likelihood optimization failed to converge. Check mle_retvals\n",
      "  warnings.warn(\"Maximum Likelihood optimization failed to \"\n"
     ]
    },
    {
     "name": "stdout",
     "output_type": "stream",
     "text": [
      "SARIMA(2, 0, 3)x(1, 0, 1, 6) - AIC:781.7417133188715\n",
      "SARIMA(2, 0, 3)x(1, 0, 2, 6) - AIC:182.00055250592368\n",
      "SARIMA(2, 0, 3)x(1, 0, 3, 6) - AIC:60.40178719820557\n",
      "SARIMA(2, 0, 3)x(1, 1, 0, 6) - AIC:228.52860775075405\n",
      "SARIMA(2, 0, 3)x(1, 1, 1, 6) - AIC:185.79601243323629\n",
      "SARIMA(2, 0, 3)x(1, 1, 2, 6) - AIC:59.31345097352251\n",
      "SARIMA(2, 0, 3)x(1, 1, 3, 6) - AIC:20.0\n",
      "SARIMA(2, 0, 3)x(2, 0, 0, 6) - AIC:222.9596480785123\n"
     ]
    },
    {
     "name": "stderr",
     "output_type": "stream",
     "text": [
      "C:\\Anaconda3\\lib\\site-packages\\statsmodels\\base\\model.py:604: ConvergenceWarning: Maximum Likelihood optimization failed to converge. Check mle_retvals\n",
      "  warnings.warn(\"Maximum Likelihood optimization failed to \"\n"
     ]
    },
    {
     "name": "stdout",
     "output_type": "stream",
     "text": [
      "SARIMA(2, 0, 3)x(2, 0, 1, 6) - AIC:361.6856509361594\n",
      "SARIMA(2, 0, 3)x(2, 0, 2, 6) - AIC:184.9500813112682\n",
      "SARIMA(2, 0, 3)x(2, 0, 3, 6) - AIC:62.401789649224995\n",
      "SARIMA(2, 0, 3)x(2, 1, 0, 6) - AIC:98.62680685571483\n",
      "SARIMA(2, 0, 3)x(2, 1, 1, 6) - AIC:100.87504806282983\n",
      "SARIMA(2, 0, 3)x(2, 1, 2, 6) - AIC:61.313432379255076\n",
      "SARIMA(2, 0, 3)x(2, 1, 3, 6) - AIC:22.0\n",
      "SARIMA(2, 0, 3)x(3, 0, 0, 6) - AIC:97.45951033527953\n"
     ]
    },
    {
     "name": "stderr",
     "output_type": "stream",
     "text": [
      "C:\\Anaconda3\\lib\\site-packages\\statsmodels\\base\\model.py:604: ConvergenceWarning: Maximum Likelihood optimization failed to converge. Check mle_retvals\n",
      "  warnings.warn(\"Maximum Likelihood optimization failed to \"\n"
     ]
    },
    {
     "name": "stdout",
     "output_type": "stream",
     "text": [
      "SARIMA(2, 0, 3)x(3, 0, 1, 6) - AIC:142.17598623141106\n",
      "SARIMA(2, 0, 3)x(3, 0, 2, 6) - AIC:102.50839275738699\n",
      "SARIMA(2, 0, 3)x(3, 0, 3, 6) - AIC:64.40178695919434\n",
      "SARIMA(2, 0, 3)x(3, 1, 0, 6) - AIC:18.0\n",
      "SARIMA(2, 0, 3)x(3, 1, 1, 6) - AIC:20.0\n",
      "SARIMA(2, 0, 3)x(3, 1, 2, 6) - AIC:22.0\n",
      "SARIMA(2, 0, 3)x(3, 1, 3, 6) - AIC:24.0\n",
      "SARIMA(2, 1, 0)x(0, 0, 0, 6) - AIC:450.34034180468365\n",
      "SARIMA(2, 1, 0)x(0, 0, 1, 6) - AIC:1309.4603017773243\n",
      "SARIMA(2, 1, 0)x(0, 0, 2, 6) - AIC:223.33970529378615\n",
      "SARIMA(2, 1, 0)x(0, 0, 3, 6) - AIC:92.64003314662291\n",
      "SARIMA(2, 1, 0)x(0, 1, 0, 6) - AIC:329.21275870711054\n",
      "SARIMA(2, 1, 0)x(0, 1, 1, 6) - AIC:224.2577067127032\n",
      "SARIMA(2, 1, 0)x(0, 1, 2, 6) - AIC:92.465325275617\n",
      "SARIMA(2, 1, 0)x(0, 1, 3, 6) - AIC:12.0\n",
      "SARIMA(2, 1, 0)x(1, 0, 0, 6) - AIC:328.62175858148265\n",
      "SARIMA(2, 1, 0)x(1, 0, 1, 6) - AIC:1280.1653641492462\n",
      "SARIMA(2, 1, 0)x(1, 0, 2, 6) - AIC:226.94152077388858\n",
      "SARIMA(2, 1, 0)x(1, 0, 3, 6) - AIC:94.63740618437117\n",
      "SARIMA(2, 1, 0)x(1, 1, 0, 6) - AIC:204.32630468151615\n",
      "SARIMA(2, 1, 0)x(1, 1, 1, 6) - AIC:203.74441587932938\n",
      "SARIMA(2, 1, 0)x(1, 1, 2, 6) - AIC:94.19940405060754\n",
      "SARIMA(2, 1, 0)x(1, 1, 3, 6) - AIC:14.0\n",
      "SARIMA(2, 1, 0)x(2, 0, 0, 6) - AIC:204.91352381035028\n"
     ]
    },
    {
     "name": "stderr",
     "output_type": "stream",
     "text": [
      "C:\\Anaconda3\\lib\\site-packages\\statsmodels\\base\\model.py:604: ConvergenceWarning: Maximum Likelihood optimization failed to converge. Check mle_retvals\n",
      "  warnings.warn(\"Maximum Likelihood optimization failed to \"\n"
     ]
    },
    {
     "name": "stdout",
     "output_type": "stream",
     "text": [
      "SARIMA(2, 1, 0)x(2, 0, 1, 6) - AIC:292.0270090904073\n",
      "SARIMA(2, 1, 0)x(2, 0, 2, 6) - AIC:205.1251914244395\n",
      "SARIMA(2, 1, 0)x(2, 0, 3, 6) - AIC:96.6362218508947\n",
      "SARIMA(2, 1, 0)x(2, 1, 0, 6) - AIC:71.64254799345251\n",
      "SARIMA(2, 1, 0)x(2, 1, 1, 6) - AIC:73.6424909924673\n",
      "SARIMA(2, 1, 0)x(2, 1, 2, 6) - AIC:75.46858746282602\n",
      "SARIMA(2, 1, 0)x(2, 1, 3, 6) - AIC:16.0\n",
      "SARIMA(2, 1, 0)x(3, 0, 0, 6) - AIC:72.47719113170662\n"
     ]
    },
    {
     "name": "stderr",
     "output_type": "stream",
     "text": [
      "C:\\Anaconda3\\lib\\site-packages\\statsmodels\\base\\model.py:604: ConvergenceWarning: Maximum Likelihood optimization failed to converge. Check mle_retvals\n",
      "  warnings.warn(\"Maximum Likelihood optimization failed to \"\n"
     ]
    },
    {
     "name": "stdout",
     "output_type": "stream",
     "text": [
      "SARIMA(2, 1, 0)x(3, 0, 1, 6) - AIC:106.7251122978661\n",
      "SARIMA(2, 1, 0)x(3, 0, 2, 6) - AIC:76.36360650059005\n",
      "SARIMA(2, 1, 0)x(3, 0, 3, 6) - AIC:78.47717344949832\n",
      "SARIMA(2, 1, 0)x(3, 1, 0, 6) - AIC:12.0\n",
      "SARIMA(2, 1, 0)x(3, 1, 1, 6) - AIC:14.0\n",
      "SARIMA(2, 1, 0)x(3, 1, 2, 6) - AIC:16.0\n",
      "SARIMA(2, 1, 0)x(3, 1, 3, 6) - AIC:18.0\n",
      "SARIMA(2, 1, 1)x(0, 0, 0, 6) - AIC:451.1490500659379\n"
     ]
    },
    {
     "name": "stderr",
     "output_type": "stream",
     "text": [
      "C:\\Anaconda3\\lib\\site-packages\\statsmodels\\base\\model.py:604: ConvergenceWarning: Maximum Likelihood optimization failed to converge. Check mle_retvals\n",
      "  warnings.warn(\"Maximum Likelihood optimization failed to \"\n"
     ]
    },
    {
     "name": "stdout",
     "output_type": "stream",
     "text": [
      "SARIMA(2, 1, 1)x(0, 0, 1, 6) - AIC:1065.443337726316\n",
      "SARIMA(2, 1, 1)x(0, 0, 2, 6) - AIC:205.742747163527\n",
      "SARIMA(2, 1, 1)x(0, 0, 3, 6) - AIC:54.94884963880309\n",
      "SARIMA(2, 1, 1)x(0, 1, 0, 6) - AIC:329.4853862283551\n",
      "SARIMA(2, 1, 1)x(0, 1, 1, 6) - AIC:205.43082205336174\n",
      "SARIMA(2, 1, 1)x(0, 1, 2, 6) - AIC:73.9627219073491\n",
      "SARIMA(2, 1, 1)x(0, 1, 3, 6) - AIC:14.0\n",
      "SARIMA(2, 1, 1)x(1, 0, 0, 6) - AIC:329.1591838809372\n"
     ]
    },
    {
     "name": "stderr",
     "output_type": "stream",
     "text": [
      "C:\\Anaconda3\\lib\\site-packages\\statsmodels\\base\\model.py:604: ConvergenceWarning: Maximum Likelihood optimization failed to converge. Check mle_retvals\n",
      "  warnings.warn(\"Maximum Likelihood optimization failed to \"\n"
     ]
    },
    {
     "name": "stdout",
     "output_type": "stream",
     "text": [
      "SARIMA(2, 1, 1)x(1, 0, 1, 6) - AIC:511.1106613721382\n",
      "SARIMA(2, 1, 1)x(1, 0, 2, 6) - AIC:204.8041125609766\n",
      "SARIMA(2, 1, 1)x(1, 0, 3, 6) - AIC:16.090243402884052\n",
      "SARIMA(2, 1, 1)x(1, 1, 0, 6) - AIC:205.88615192974888\n",
      "SARIMA(2, 1, 1)x(1, 1, 1, 6) - AIC:204.76906604167056\n",
      "SARIMA(2, 1, 1)x(1, 1, 2, 6) - AIC:75.92170952402854\n",
      "SARIMA(2, 1, 1)x(1, 1, 3, 6) - AIC:16.0\n",
      "SARIMA(2, 1, 1)x(2, 0, 0, 6) - AIC:203.32128582625512\n"
     ]
    },
    {
     "name": "stderr",
     "output_type": "stream",
     "text": [
      "C:\\Anaconda3\\lib\\site-packages\\statsmodels\\base\\model.py:604: ConvergenceWarning: Maximum Likelihood optimization failed to converge. Check mle_retvals\n",
      "  warnings.warn(\"Maximum Likelihood optimization failed to \"\n"
     ]
    },
    {
     "name": "stdout",
     "output_type": "stream",
     "text": [
      "SARIMA(2, 1, 1)x(2, 0, 1, 6) - AIC:335.2386653797357\n",
      "SARIMA(2, 1, 1)x(2, 0, 2, 6) - AIC:203.5732000686478\n",
      "SARIMA(2, 1, 1)x(2, 0, 3, 6) - AIC:78.70452876681867\n",
      "SARIMA(2, 1, 1)x(2, 1, 0, 6) - AIC:73.75528480689299\n",
      "SARIMA(2, 1, 1)x(2, 1, 1, 6) - AIC:75.92318148435872\n",
      "SARIMA(2, 1, 1)x(2, 1, 2, 6) - AIC:71.9176709469281\n",
      "SARIMA(2, 1, 1)x(2, 1, 3, 6) - AIC:18.0\n",
      "SARIMA(2, 1, 1)x(3, 0, 0, 6) - AIC:74.43606119786895\n"
     ]
    },
    {
     "name": "stderr",
     "output_type": "stream",
     "text": [
      "C:\\Anaconda3\\lib\\site-packages\\statsmodels\\base\\model.py:604: ConvergenceWarning: Maximum Likelihood optimization failed to converge. Check mle_retvals\n",
      "  warnings.warn(\"Maximum Likelihood optimization failed to \"\n"
     ]
    },
    {
     "name": "stdout",
     "output_type": "stream",
     "text": [
      "SARIMA(2, 1, 1)x(3, 0, 1, 6) - AIC:138.60054466661495\n",
      "SARIMA(2, 1, 1)x(3, 0, 2, 6) - AIC:78.38299084914317\n",
      "SARIMA(2, 1, 1)x(3, 0, 3, 6) - AIC:80.61704876097639\n",
      "SARIMA(2, 1, 1)x(3, 1, 0, 6) - AIC:14.0\n",
      "SARIMA(2, 1, 1)x(3, 1, 1, 6) - AIC:16.0\n",
      "SARIMA(2, 1, 1)x(3, 1, 2, 6) - AIC:18.0\n",
      "SARIMA(2, 1, 1)x(3, 1, 3, 6) - AIC:20.0\n",
      "SARIMA(2, 1, 2)x(0, 0, 0, 6) - AIC:430.64565163720755\n",
      "SARIMA(2, 1, 2)x(0, 0, 1, 6) - AIC:1448.107313050228\n",
      "SARIMA(2, 1, 2)x(0, 0, 2, 6) - AIC:186.23476051330704\n",
      "SARIMA(2, 1, 2)x(0, 0, 3, 6) - AIC:57.20119913491192\n",
      "SARIMA(2, 1, 2)x(0, 1, 0, 6) - AIC:309.6046604151965\n",
      "SARIMA(2, 1, 2)x(0, 1, 1, 6) - AIC:185.96777184560108\n",
      "SARIMA(2, 1, 2)x(0, 1, 2, 6) - AIC:55.070837226135\n",
      "SARIMA(2, 1, 2)x(0, 1, 3, 6) - AIC:16.0\n",
      "SARIMA(2, 1, 2)x(1, 0, 0, 6) - AIC:330.1121342099708\n"
     ]
    },
    {
     "name": "stderr",
     "output_type": "stream",
     "text": [
      "C:\\Anaconda3\\lib\\site-packages\\statsmodels\\base\\model.py:604: ConvergenceWarning: Maximum Likelihood optimization failed to converge. Check mle_retvals\n",
      "  warnings.warn(\"Maximum Likelihood optimization failed to \"\n"
     ]
    },
    {
     "name": "stdout",
     "output_type": "stream",
     "text": [
      "SARIMA(2, 1, 2)x(1, 0, 1, 6) - AIC:774.2285969539439\n",
      "SARIMA(2, 1, 2)x(1, 0, 2, 6) - AIC:184.03583363654707\n",
      "SARIMA(2, 1, 2)x(1, 0, 3, 6) - AIC:58.54032331482419\n",
      "SARIMA(2, 1, 2)x(1, 1, 0, 6) - AIC:207.23769791854494\n",
      "SARIMA(2, 1, 2)x(1, 1, 1, 6) - AIC:184.28230698385258\n",
      "SARIMA(2, 1, 2)x(1, 1, 2, 6) - AIC:56.244746280910064\n",
      "SARIMA(2, 1, 2)x(1, 1, 3, 6) - AIC:18.0\n",
      "SARIMA(2, 1, 2)x(2, 0, 0, 6) - AIC:205.33132857858936\n"
     ]
    },
    {
     "name": "stderr",
     "output_type": "stream",
     "text": [
      "C:\\Anaconda3\\lib\\site-packages\\statsmodels\\base\\model.py:604: ConvergenceWarning: Maximum Likelihood optimization failed to converge. Check mle_retvals\n",
      "  warnings.warn(\"Maximum Likelihood optimization failed to \"\n"
     ]
    },
    {
     "name": "stdout",
     "output_type": "stream",
     "text": [
      "SARIMA(2, 1, 2)x(2, 0, 1, 6) - AIC:252.82826758712994\n",
      "SARIMA(2, 1, 2)x(2, 0, 2, 6) - AIC:182.64321118833857\n",
      "SARIMA(2, 1, 2)x(2, 0, 3, 6) - AIC:60.53465763574427\n",
      "SARIMA(2, 1, 2)x(2, 1, 0, 6) - AIC:74.36534603540194\n",
      "SARIMA(2, 1, 2)x(2, 1, 1, 6) - AIC:76.36546225506189\n",
      "SARIMA(2, 1, 2)x(2, 1, 2, 6) - AIC:58.24368344860123\n",
      "SARIMA(2, 1, 2)x(2, 1, 3, 6) - AIC:20.0\n",
      "SARIMA(2, 1, 2)x(3, 0, 0, 6) - AIC:76.70686133524282\n"
     ]
    },
    {
     "name": "stderr",
     "output_type": "stream",
     "text": [
      "C:\\Anaconda3\\lib\\site-packages\\statsmodels\\base\\model.py:604: ConvergenceWarning: Maximum Likelihood optimization failed to converge. Check mle_retvals\n",
      "  warnings.warn(\"Maximum Likelihood optimization failed to \"\n"
     ]
    },
    {
     "name": "stdout",
     "output_type": "stream",
     "text": [
      "SARIMA(2, 1, 2)x(3, 0, 1, 6) - AIC:18.0\n",
      "SARIMA(2, 1, 2)x(3, 0, 2, 6) - AIC:80.78564647432562\n",
      "SARIMA(2, 1, 2)x(3, 0, 3, 6) - AIC:62.53072276979363\n",
      "SARIMA(2, 1, 2)x(3, 1, 0, 6) - AIC:16.0\n",
      "SARIMA(2, 1, 2)x(3, 1, 1, 6) - AIC:18.0\n",
      "SARIMA(2, 1, 2)x(3, 1, 2, 6) - AIC:20.0\n",
      "SARIMA(2, 1, 2)x(3, 1, 3, 6) - AIC:22.0\n",
      "SARIMA(2, 1, 3)x(0, 0, 0, 6) - AIC:412.76324232847224\n"
     ]
    },
    {
     "name": "stderr",
     "output_type": "stream",
     "text": [
      "C:\\Anaconda3\\lib\\site-packages\\statsmodels\\base\\model.py:604: ConvergenceWarning: Maximum Likelihood optimization failed to converge. Check mle_retvals\n",
      "  warnings.warn(\"Maximum Likelihood optimization failed to \"\n"
     ]
    },
    {
     "name": "stdout",
     "output_type": "stream",
     "text": [
      "SARIMA(2, 1, 3)x(0, 0, 1, 6) - AIC:505.7279603089631\n",
      "SARIMA(2, 1, 3)x(0, 0, 2, 6) - AIC:162.6097536636401\n",
      "SARIMA(2, 1, 3)x(0, 0, 3, 6) - AIC:38.503156928822314\n",
      "SARIMA(2, 1, 3)x(0, 1, 0, 6) - AIC:291.69115681539125\n",
      "SARIMA(2, 1, 3)x(0, 1, 1, 6) - AIC:164.76089821061595\n",
      "SARIMA(2, 1, 3)x(0, 1, 2, 6) - AIC:37.086036623245846\n",
      "SARIMA(2, 1, 3)x(0, 1, 3, 6) - AIC:18.0\n",
      "SARIMA(2, 1, 3)x(1, 0, 0, 6) - AIC:330.4429618007254\n"
     ]
    },
    {
     "name": "stderr",
     "output_type": "stream",
     "text": [
      "C:\\Anaconda3\\lib\\site-packages\\statsmodels\\base\\model.py:604: ConvergenceWarning: Maximum Likelihood optimization failed to converge. Check mle_retvals\n",
      "  warnings.warn(\"Maximum Likelihood optimization failed to \"\n"
     ]
    },
    {
     "name": "stdout",
     "output_type": "stream",
     "text": [
      "SARIMA(2, 1, 3)x(1, 0, 1, 6) - AIC:1106.5094210197785\n",
      "SARIMA(2, 1, 3)x(1, 0, 2, 6) - AIC:165.41342978774577\n",
      "SARIMA(2, 1, 3)x(1, 0, 3, 6) - AIC:40.5032385377753\n",
      "SARIMA(2, 1, 3)x(1, 1, 0, 6) - AIC:208.01232705507525\n",
      "SARIMA(2, 1, 3)x(1, 1, 1, 6) - AIC:166.5279696172555\n",
      "SARIMA(2, 1, 3)x(1, 1, 2, 6) - AIC:39.086035166445896\n",
      "SARIMA(2, 1, 3)x(1, 1, 3, 6) - AIC:20.0\n",
      "SARIMA(2, 1, 3)x(2, 0, 0, 6) - AIC:205.1134656492776\n"
     ]
    },
    {
     "name": "stderr",
     "output_type": "stream",
     "text": [
      "C:\\Anaconda3\\lib\\site-packages\\statsmodels\\base\\model.py:604: ConvergenceWarning: Maximum Likelihood optimization failed to converge. Check mle_retvals\n",
      "  warnings.warn(\"Maximum Likelihood optimization failed to \"\n"
     ]
    },
    {
     "name": "stdout",
     "output_type": "stream",
     "text": [
      "SARIMA(2, 1, 3)x(2, 0, 1, 6) - AIC:406.75473675508647\n",
      "SARIMA(2, 1, 3)x(2, 0, 2, 6) - AIC:164.2406348766033\n",
      "SARIMA(2, 1, 3)x(2, 0, 3, 6) - AIC:42.50317407238822\n",
      "SARIMA(2, 1, 3)x(2, 1, 0, 6) - AIC:79.25811008213927\n",
      "SARIMA(2, 1, 3)x(2, 1, 1, 6) - AIC:81.25769536031368\n",
      "SARIMA(2, 1, 3)x(2, 1, 2, 6) - AIC:41.086048147447784\n",
      "SARIMA(2, 1, 3)x(2, 1, 3, 6) - AIC:22.0\n",
      "SARIMA(2, 1, 3)x(3, 0, 0, 6) - AIC:79.50929539950644\n"
     ]
    },
    {
     "name": "stderr",
     "output_type": "stream",
     "text": [
      "C:\\Anaconda3\\lib\\site-packages\\statsmodels\\base\\model.py:604: ConvergenceWarning: Maximum Likelihood optimization failed to converge. Check mle_retvals\n",
      "  warnings.warn(\"Maximum Likelihood optimization failed to \"\n"
     ]
    },
    {
     "name": "stdout",
     "output_type": "stream",
     "text": [
      "SARIMA(2, 1, 3)x(3, 0, 1, 6) - AIC:143.39596225644556\n",
      "SARIMA(2, 1, 3)x(3, 0, 2, 6) - AIC:83.5094762992654\n",
      "SARIMA(2, 1, 3)x(3, 0, 3, 6) - AIC:44.50315896087024\n",
      "SARIMA(2, 1, 3)x(3, 1, 0, 6) - AIC:18.0\n",
      "SARIMA(2, 1, 3)x(3, 1, 1, 6) - AIC:20.0\n",
      "SARIMA(2, 1, 3)x(3, 1, 2, 6) - AIC:22.0\n",
      "SARIMA(2, 1, 3)x(3, 1, 3, 6) - AIC:24.0\n",
      "SARIMA(3, 0, 0)x(0, 0, 0, 6) - AIC:449.90305234666437\n"
     ]
    },
    {
     "name": "stderr",
     "output_type": "stream",
     "text": [
      "C:\\Anaconda3\\lib\\site-packages\\statsmodels\\base\\model.py:604: ConvergenceWarning: Maximum Likelihood optimization failed to converge. Check mle_retvals\n",
      "  warnings.warn(\"Maximum Likelihood optimization failed to \"\n"
     ]
    },
    {
     "name": "stdout",
     "output_type": "stream",
     "text": [
      "SARIMA(3, 0, 0)x(0, 0, 1, 6) - AIC:696.362707956633\n",
      "SARIMA(3, 0, 0)x(0, 0, 2, 6) - AIC:242.30759952947395\n",
      "SARIMA(3, 0, 0)x(0, 0, 3, 6) - AIC:114.39354959847307\n",
      "SARIMA(3, 0, 0)x(0, 1, 0, 6) - AIC:329.0994259786675\n",
      "SARIMA(3, 0, 0)x(0, 1, 1, 6) - AIC:245.94244232830127\n",
      "SARIMA(3, 0, 0)x(0, 1, 2, 6) - AIC:114.89114931013378\n",
      "SARIMA(3, 0, 0)x(0, 1, 3, 6) - AIC:14.0\n",
      "SARIMA(3, 0, 0)x(1, 0, 0, 6) - AIC:328.6318739305003\n",
      "SARIMA(3, 0, 0)x(1, 0, 1, 6) - AIC:1153.9317949234696\n",
      "SARIMA(3, 0, 0)x(1, 0, 2, 6) - AIC:243.4387137878904\n",
      "SARIMA(3, 0, 0)x(1, 0, 3, 6) - AIC:116.39010401699102\n",
      "SARIMA(3, 0, 0)x(1, 1, 0, 6) - AIC:205.67789603589642\n",
      "SARIMA(3, 0, 0)x(1, 1, 1, 6) - AIC:201.57701460064604\n",
      "SARIMA(3, 0, 0)x(1, 1, 2, 6) - AIC:116.81994591577013\n",
      "SARIMA(3, 0, 0)x(1, 1, 3, 6) - AIC:16.0\n",
      "SARIMA(3, 0, 0)x(2, 0, 0, 6) - AIC:203.42509172328977\n"
     ]
    },
    {
     "name": "stderr",
     "output_type": "stream",
     "text": [
      "C:\\Anaconda3\\lib\\site-packages\\statsmodels\\base\\model.py:604: ConvergenceWarning: Maximum Likelihood optimization failed to converge. Check mle_retvals\n",
      "  warnings.warn(\"Maximum Likelihood optimization failed to \"\n"
     ]
    },
    {
     "name": "stdout",
     "output_type": "stream",
     "text": [
      "SARIMA(3, 0, 0)x(2, 0, 1, 6) - AIC:320.8836176186723\n",
      "SARIMA(3, 0, 0)x(2, 0, 2, 6) - AIC:199.13106334703858\n",
      "SARIMA(3, 0, 0)x(2, 0, 3, 6) - AIC:96.95391570149161\n",
      "SARIMA(3, 0, 0)x(2, 1, 0, 6) - AIC:73.21988512947482\n",
      "SARIMA(3, 0, 0)x(2, 1, 1, 6) - AIC:75.2198176237326\n",
      "SARIMA(3, 0, 0)x(2, 1, 2, 6) - AIC:77.21988500362755\n",
      "SARIMA(3, 0, 0)x(2, 1, 3, 6) - AIC:18.0\n",
      "SARIMA(3, 0, 0)x(3, 0, 0, 6) - AIC:74.1290070633086\n"
     ]
    },
    {
     "name": "stderr",
     "output_type": "stream",
     "text": [
      "C:\\Anaconda3\\lib\\site-packages\\statsmodels\\base\\model.py:604: ConvergenceWarning: Maximum Likelihood optimization failed to converge. Check mle_retvals\n",
      "  warnings.warn(\"Maximum Likelihood optimization failed to \"\n"
     ]
    },
    {
     "name": "stdout",
     "output_type": "stream",
     "text": [
      "SARIMA(3, 0, 0)x(3, 0, 1, 6) - AIC:118.9249725020091\n",
      "SARIMA(3, 0, 0)x(3, 0, 2, 6) - AIC:78.12900432854136\n",
      "SARIMA(3, 0, 0)x(3, 0, 3, 6) - AIC:80.128989952303\n",
      "SARIMA(3, 0, 0)x(3, 1, 0, 6) - AIC:14.0\n",
      "SARIMA(3, 0, 0)x(3, 1, 1, 6) - AIC:16.0\n",
      "SARIMA(3, 0, 0)x(3, 1, 2, 6) - AIC:18.0\n",
      "SARIMA(3, 0, 0)x(3, 1, 3, 6) - AIC:20.0\n",
      "SARIMA(3, 0, 1)x(0, 0, 0, 6) - AIC:451.9228443905441\n"
     ]
    },
    {
     "name": "stderr",
     "output_type": "stream",
     "text": [
      "C:\\Anaconda3\\lib\\site-packages\\statsmodels\\base\\model.py:604: ConvergenceWarning: Maximum Likelihood optimization failed to converge. Check mle_retvals\n",
      "  warnings.warn(\"Maximum Likelihood optimization failed to \"\n"
     ]
    },
    {
     "name": "stdout",
     "output_type": "stream",
     "text": [
      "SARIMA(3, 0, 1)x(0, 0, 1, 6) - AIC:1087.9021329688644\n",
      "SARIMA(3, 0, 1)x(0, 0, 2, 6) - AIC:219.4361660815743\n",
      "SARIMA(3, 0, 1)x(0, 0, 3, 6) - AIC:96.36077683646307\n",
      "SARIMA(3, 0, 1)x(0, 1, 0, 6) - AIC:328.98649932669224\n",
      "SARIMA(3, 0, 1)x(0, 1, 1, 6) - AIC:225.8968453495885\n",
      "SARIMA(3, 0, 1)x(0, 1, 2, 6) - AIC:96.08667713131334\n",
      "SARIMA(3, 0, 1)x(0, 1, 3, 6) - AIC:16.0\n",
      "SARIMA(3, 0, 1)x(1, 0, 0, 6) - AIC:330.4324579933329\n",
      "SARIMA(3, 0, 1)x(1, 0, 1, 6) - AIC:1156.4469285053183\n",
      "SARIMA(3, 0, 1)x(1, 0, 2, 6) - AIC:221.25633993903855\n",
      "SARIMA(3, 0, 1)x(1, 0, 3, 6) - AIC:98.35883160290223\n",
      "SARIMA(3, 0, 1)x(1, 1, 0, 6) - AIC:205.9857949202608\n",
      "SARIMA(3, 0, 1)x(1, 1, 1, 6) - AIC:203.84312538869062\n",
      "SARIMA(3, 0, 1)x(1, 1, 2, 6) - AIC:97.90235665238902\n",
      "SARIMA(3, 0, 1)x(1, 1, 3, 6) - AIC:18.0\n",
      "SARIMA(3, 0, 1)x(2, 0, 0, 6) - AIC:205.17121086452957\n"
     ]
    },
    {
     "name": "stderr",
     "output_type": "stream",
     "text": [
      "C:\\Anaconda3\\lib\\site-packages\\statsmodels\\base\\model.py:604: ConvergenceWarning: Maximum Likelihood optimization failed to converge. Check mle_retvals\n",
      "  warnings.warn(\"Maximum Likelihood optimization failed to \"\n"
     ]
    },
    {
     "name": "stdout",
     "output_type": "stream",
     "text": [
      "SARIMA(3, 0, 1)x(2, 0, 1, 6) - AIC:323.118213456157\n",
      "SARIMA(3, 0, 1)x(2, 0, 2, 6) - AIC:200.83857434421788\n",
      "SARIMA(3, 0, 1)x(2, 0, 3, 6) - AIC:100.3588283126634\n",
      "SARIMA(3, 0, 1)x(2, 1, 0, 6) - AIC:75.42685226088997\n",
      "SARIMA(3, 0, 1)x(2, 1, 1, 6) - AIC:77.42669754779926\n",
      "SARIMA(3, 0, 1)x(2, 1, 2, 6) - AIC:79.42677666424122\n",
      "SARIMA(3, 0, 1)x(2, 1, 3, 6) - AIC:20.0\n",
      "SARIMA(3, 0, 1)x(3, 0, 0, 6) - AIC:76.26915783618144\n"
     ]
    },
    {
     "name": "stderr",
     "output_type": "stream",
     "text": [
      "C:\\Anaconda3\\lib\\site-packages\\statsmodels\\base\\model.py:604: ConvergenceWarning: Maximum Likelihood optimization failed to converge. Check mle_retvals\n",
      "  warnings.warn(\"Maximum Likelihood optimization failed to \"\n"
     ]
    },
    {
     "name": "stdout",
     "output_type": "stream",
     "text": [
      "SARIMA(3, 0, 1)x(3, 0, 1, 6) - AIC:119.77496944291718\n",
      "SARIMA(3, 0, 1)x(3, 0, 2, 6) - AIC:80.15447944474126\n",
      "SARIMA(3, 0, 1)x(3, 0, 3, 6) - AIC:82.26914224793046\n",
      "SARIMA(3, 0, 1)x(3, 1, 0, 6) - AIC:16.0\n",
      "SARIMA(3, 0, 1)x(3, 1, 1, 6) - AIC:18.0\n",
      "SARIMA(3, 0, 1)x(3, 1, 2, 6) - AIC:20.0\n",
      "SARIMA(3, 0, 1)x(3, 1, 3, 6) - AIC:22.0\n",
      "SARIMA(3, 0, 2)x(0, 0, 0, 6) - AIC:448.72941259999527\n",
      "SARIMA(3, 0, 2)x(0, 0, 1, 6) - AIC:1985.0694344388148\n"
     ]
    },
    {
     "name": "stderr",
     "output_type": "stream",
     "text": [
      "C:\\Anaconda3\\lib\\site-packages\\statsmodels\\base\\model.py:604: ConvergenceWarning: Maximum Likelihood optimization failed to converge. Check mle_retvals\n",
      "  warnings.warn(\"Maximum Likelihood optimization failed to \"\n"
     ]
    },
    {
     "name": "stdout",
     "output_type": "stream",
     "text": [
      "SARIMA(3, 0, 2)x(0, 0, 2, 6) - AIC:204.7370304656918\n",
      "SARIMA(3, 0, 2)x(0, 0, 3, 6) - AIC:78.42268219292532\n",
      "SARIMA(3, 0, 2)x(0, 1, 0, 6) - AIC:330.91095649394197\n",
      "SARIMA(3, 0, 2)x(0, 1, 1, 6) - AIC:204.00820098042942\n",
      "SARIMA(3, 0, 2)x(0, 1, 2, 6) - AIC:77.8019479436639\n",
      "SARIMA(3, 0, 2)x(0, 1, 3, 6) - AIC:18.0\n",
      "SARIMA(3, 0, 2)x(1, 0, 0, 6) - AIC:329.2614967058562\n",
      "SARIMA(3, 0, 2)x(1, 0, 1, 6) - AIC:2200.289844285447\n"
     ]
    },
    {
     "name": "stderr",
     "output_type": "stream",
     "text": [
      "C:\\Anaconda3\\lib\\site-packages\\statsmodels\\base\\model.py:604: ConvergenceWarning: Maximum Likelihood optimization failed to converge. Check mle_retvals\n",
      "  warnings.warn(\"Maximum Likelihood optimization failed to \"\n"
     ]
    },
    {
     "name": "stdout",
     "output_type": "stream",
     "text": [
      "SARIMA(3, 0, 2)x(1, 0, 2, 6) - AIC:205.9544455716669\n",
      "SARIMA(3, 0, 2)x(1, 0, 3, 6) - AIC:80.41947477005208\n",
      "SARIMA(3, 0, 2)x(1, 1, 0, 6) - AIC:204.9896027606993\n",
      "SARIMA(3, 0, 2)x(1, 1, 1, 6) - AIC:203.91162622992394\n",
      "SARIMA(3, 0, 2)x(1, 1, 2, 6) - AIC:79.80195082005271\n",
      "SARIMA(3, 0, 2)x(1, 1, 3, 6) - AIC:20.0\n",
      "SARIMA(3, 0, 2)x(2, 0, 0, 6) - AIC:206.75952053802564\n"
     ]
    },
    {
     "name": "stderr",
     "output_type": "stream",
     "text": [
      "C:\\Anaconda3\\lib\\site-packages\\statsmodels\\base\\model.py:604: ConvergenceWarning: Maximum Likelihood optimization failed to converge. Check mle_retvals\n",
      "  warnings.warn(\"Maximum Likelihood optimization failed to \"\n"
     ]
    },
    {
     "name": "stdout",
     "output_type": "stream",
     "text": [
      "SARIMA(3, 0, 2)x(2, 0, 1, 6) - AIC:413.80539344897227\n",
      "SARIMA(3, 0, 2)x(2, 0, 2, 6) - AIC:203.5418266658817\n",
      "SARIMA(3, 0, 2)x(2, 0, 3, 6) - AIC:82.42203359681577\n",
      "SARIMA(3, 0, 2)x(2, 1, 0, 6) - AIC:77.8019846924898\n",
      "SARIMA(3, 0, 2)x(2, 1, 1, 6) - AIC:79.8019572161277\n",
      "SARIMA(3, 0, 2)x(2, 1, 2, 6) - AIC:81.80194961335873\n",
      "SARIMA(3, 0, 2)x(2, 1, 3, 6) - AIC:22.0\n",
      "SARIMA(3, 0, 2)x(3, 0, 0, 6) - AIC:78.41938593741219\n"
     ]
    },
    {
     "name": "stderr",
     "output_type": "stream",
     "text": [
      "C:\\Anaconda3\\lib\\site-packages\\statsmodels\\base\\model.py:604: ConvergenceWarning: Maximum Likelihood optimization failed to converge. Check mle_retvals\n",
      "  warnings.warn(\"Maximum Likelihood optimization failed to \"\n"
     ]
    },
    {
     "name": "stdout",
     "output_type": "stream",
     "text": [
      "SARIMA(3, 0, 2)x(3, 0, 1, 6) - AIC:182.17779371178347\n",
      "SARIMA(3, 0, 2)x(3, 0, 2, 6) - AIC:82.41966966608543\n",
      "SARIMA(3, 0, 2)x(3, 0, 3, 6) - AIC:84.41929381138772\n",
      "SARIMA(3, 0, 2)x(3, 1, 0, 6) - AIC:18.0\n",
      "SARIMA(3, 0, 2)x(3, 1, 1, 6) - AIC:20.0\n",
      "SARIMA(3, 0, 2)x(3, 1, 2, 6) - AIC:22.0\n",
      "SARIMA(3, 0, 2)x(3, 1, 3, 6) - AIC:24.0\n",
      "SARIMA(3, 0, 3)x(0, 0, 0, 6) - AIC:428.6017398029014\n",
      "SARIMA(3, 0, 3)x(0, 0, 1, 6) - AIC:612.1026640703906\n",
      "SARIMA(3, 0, 3)x(0, 0, 2, 6) - AIC:183.23948970253116\n",
      "SARIMA(3, 0, 3)x(0, 0, 3, 6) - AIC:60.208338775682066\n",
      "SARIMA(3, 0, 3)x(0, 1, 0, 6) - AIC:308.2165128054849\n",
      "SARIMA(3, 0, 3)x(0, 1, 1, 6) - AIC:182.29360611653226\n",
      "SARIMA(3, 0, 3)x(0, 1, 2, 6) - AIC:58.10712951271606\n",
      "SARIMA(3, 0, 3)x(0, 1, 3, 6) - AIC:20.0\n",
      "SARIMA(3, 0, 3)x(1, 0, 0, 6) - AIC:326.9515545175368\n"
     ]
    },
    {
     "name": "stderr",
     "output_type": "stream",
     "text": [
      "C:\\Anaconda3\\lib\\site-packages\\statsmodels\\base\\model.py:604: ConvergenceWarning: Maximum Likelihood optimization failed to converge. Check mle_retvals\n",
      "  warnings.warn(\"Maximum Likelihood optimization failed to \"\n"
     ]
    },
    {
     "name": "stdout",
     "output_type": "stream",
     "text": [
      "SARIMA(3, 0, 3)x(1, 0, 1, 6) - AIC:1009.2712041591459\n",
      "SARIMA(3, 0, 3)x(1, 0, 2, 6) - AIC:183.28039528053952\n",
      "SARIMA(3, 0, 3)x(1, 0, 3, 6) - AIC:62.20834616454942\n",
      "SARIMA(3, 0, 3)x(1, 1, 0, 6) - AIC:208.63151263512458\n",
      "SARIMA(3, 0, 3)x(1, 1, 1, 6) - AIC:192.710382612481\n",
      "SARIMA(3, 0, 3)x(1, 1, 2, 6) - AIC:60.10772772058151\n",
      "SARIMA(3, 0, 3)x(1, 1, 3, 6) - AIC:22.0\n",
      "SARIMA(3, 0, 3)x(2, 0, 0, 6) - AIC:203.90541990928338\n"
     ]
    },
    {
     "name": "stderr",
     "output_type": "stream",
     "text": [
      "C:\\Anaconda3\\lib\\site-packages\\statsmodels\\base\\model.py:604: ConvergenceWarning: Maximum Likelihood optimization failed to converge. Check mle_retvals\n",
      "  warnings.warn(\"Maximum Likelihood optimization failed to \"\n"
     ]
    },
    {
     "name": "stdout",
     "output_type": "stream",
     "text": [
      "SARIMA(3, 0, 3)x(2, 0, 1, 6) - AIC:280.8709193334432\n",
      "SARIMA(3, 0, 3)x(2, 0, 2, 6) - AIC:186.4355227135508\n",
      "SARIMA(3, 0, 3)x(2, 0, 3, 6) - AIC:64.20834297107594\n",
      "SARIMA(3, 0, 3)x(2, 1, 0, 6) - AIC:78.16134431359256\n",
      "SARIMA(3, 0, 3)x(2, 1, 1, 6) - AIC:80.16059819269115\n",
      "SARIMA(3, 0, 3)x(2, 1, 2, 6) - AIC:62.107358668735046\n",
      "SARIMA(3, 0, 3)x(2, 1, 3, 6) - AIC:24.0\n",
      "SARIMA(3, 0, 3)x(3, 0, 0, 6) - AIC:80.31227708210915\n"
     ]
    },
    {
     "name": "stderr",
     "output_type": "stream",
     "text": [
      "C:\\Anaconda3\\lib\\site-packages\\statsmodels\\base\\model.py:604: ConvergenceWarning: Maximum Likelihood optimization failed to converge. Check mle_retvals\n",
      "  warnings.warn(\"Maximum Likelihood optimization failed to \"\n"
     ]
    },
    {
     "name": "stdout",
     "output_type": "stream",
     "text": [
      "SARIMA(3, 0, 3)x(3, 0, 1, 6) - AIC:135.20355787624067\n",
      "SARIMA(3, 0, 3)x(3, 0, 2, 6) - AIC:84.31243049032824\n",
      "SARIMA(3, 0, 3)x(3, 0, 3, 6) - AIC:66.2083521823999\n",
      "SARIMA(3, 0, 3)x(3, 1, 0, 6) - AIC:20.0\n",
      "SARIMA(3, 0, 3)x(3, 1, 1, 6) - AIC:22.0\n",
      "SARIMA(3, 0, 3)x(3, 1, 2, 6) - AIC:24.0\n",
      "SARIMA(3, 0, 3)x(3, 1, 3, 6) - AIC:26.0\n",
      "SARIMA(3, 1, 0)x(0, 0, 0, 6) - AIC:431.67513848348943\n",
      "SARIMA(3, 1, 0)x(0, 0, 1, 6) - AIC:1305.0892192673375\n",
      "SARIMA(3, 1, 0)x(0, 0, 2, 6) - AIC:226.35438492879047\n",
      "SARIMA(3, 1, 0)x(0, 0, 3, 6) - AIC:94.73859830892893\n",
      "SARIMA(3, 1, 0)x(0, 1, 0, 6) - AIC:309.978918688819\n",
      "SARIMA(3, 1, 0)x(0, 1, 1, 6) - AIC:226.15674731160408\n",
      "SARIMA(3, 1, 0)x(0, 1, 2, 6) - AIC:94.52382040038734\n",
      "SARIMA(3, 1, 0)x(0, 1, 3, 6) - AIC:14.0\n",
      "SARIMA(3, 1, 0)x(1, 0, 0, 6) - AIC:310.1954168277282\n",
      "SARIMA(3, 1, 0)x(1, 0, 1, 6) - AIC:1179.4379080423826\n",
      "SARIMA(3, 1, 0)x(1, 0, 2, 6) - AIC:226.18520366028648\n",
      "SARIMA(3, 1, 0)x(1, 0, 3, 6) - AIC:96.73499865717211\n",
      "SARIMA(3, 1, 0)x(1, 1, 0, 6) - AIC:185.1705932054648\n",
      "SARIMA(3, 1, 0)x(1, 1, 1, 6) - AIC:184.52392793350612\n",
      "SARIMA(3, 1, 0)x(1, 1, 2, 6) - AIC:96.27967395942242\n",
      "SARIMA(3, 1, 0)x(1, 1, 3, 6) - AIC:16.0\n",
      "SARIMA(3, 1, 0)x(2, 0, 0, 6) - AIC:180.71630096057902\n"
     ]
    },
    {
     "name": "stderr",
     "output_type": "stream",
     "text": [
      "C:\\Anaconda3\\lib\\site-packages\\statsmodels\\base\\model.py:604: ConvergenceWarning: Maximum Likelihood optimization failed to converge. Check mle_retvals\n",
      "  warnings.warn(\"Maximum Likelihood optimization failed to \"\n"
     ]
    },
    {
     "name": "stdout",
     "output_type": "stream",
     "text": [
      "SARIMA(3, 1, 0)x(2, 0, 1, 6) - AIC:227.5234741478037\n",
      "SARIMA(3, 1, 0)x(2, 0, 2, 6) - AIC:183.25160553459034\n",
      "SARIMA(3, 1, 0)x(2, 0, 3, 6) - AIC:98.73499921720204\n",
      "SARIMA(3, 1, 0)x(2, 1, 0, 6) - AIC:53.139845506116785\n",
      "SARIMA(3, 1, 0)x(2, 1, 1, 6) - AIC:55.1398596763791\n",
      "SARIMA(3, 1, 0)x(2, 1, 2, 6) - AIC:57.13984281787331\n",
      "SARIMA(3, 1, 0)x(2, 1, 3, 6) - AIC:18.0\n",
      "SARIMA(3, 1, 0)x(3, 0, 0, 6) - AIC:54.36751381541297\n",
      "SARIMA(3, 1, 0)x(3, 0, 1, 6) - AIC:184.61440501095913\n",
      "SARIMA(3, 1, 0)x(3, 0, 2, 6) - AIC:58.36750897888806\n",
      "SARIMA(3, 1, 0)x(3, 0, 3, 6) - AIC:60.367510558115505\n",
      "SARIMA(3, 1, 0)x(3, 1, 0, 6) - AIC:14.0\n",
      "SARIMA(3, 1, 0)x(3, 1, 1, 6) - AIC:16.0\n",
      "SARIMA(3, 1, 0)x(3, 1, 2, 6) - AIC:18.0\n",
      "SARIMA(3, 1, 0)x(3, 1, 3, 6) - AIC:20.0\n",
      "SARIMA(3, 1, 1)x(0, 0, 0, 6) - AIC:432.77474159532636\n",
      "SARIMA(3, 1, 1)x(0, 0, 1, 6) - AIC:1043.1777360418216\n",
      "SARIMA(3, 1, 1)x(0, 0, 2, 6) - AIC:207.74034630564336\n",
      "SARIMA(3, 1, 1)x(0, 0, 3, 6) - AIC:76.703059996153\n",
      "SARIMA(3, 1, 1)x(0, 1, 0, 6) - AIC:310.57086277513395\n",
      "SARIMA(3, 1, 1)x(0, 1, 1, 6) - AIC:206.73546640441143\n",
      "SARIMA(3, 1, 1)x(0, 1, 2, 6) - AIC:75.9232026911549\n",
      "SARIMA(3, 1, 1)x(0, 1, 3, 6) - AIC:16.0\n",
      "SARIMA(3, 1, 1)x(1, 0, 0, 6) - AIC:310.88145704839155\n",
      "SARIMA(3, 1, 1)x(1, 0, 1, 6) - AIC:1181.9990363443785\n",
      "SARIMA(3, 1, 1)x(1, 0, 2, 6) - AIC:205.94314675934615\n",
      "SARIMA(3, 1, 1)x(1, 0, 3, 6) - AIC:78.70354432347865\n",
      "SARIMA(3, 1, 1)x(1, 1, 0, 6) - AIC:186.06795769563158\n",
      "SARIMA(3, 1, 1)x(1, 1, 1, 6) - AIC:184.37370665015249\n",
      "SARIMA(3, 1, 1)x(1, 1, 2, 6) - AIC:77.92320127461764\n",
      "SARIMA(3, 1, 1)x(1, 1, 3, 6) - AIC:18.0\n",
      "SARIMA(3, 1, 1)x(2, 0, 0, 6) - AIC:182.9481935862422\n",
      "SARIMA(3, 1, 1)x(2, 0, 1, 6) - AIC:305.3225630485989\n",
      "SARIMA(3, 1, 1)x(2, 0, 2, 6) - AIC:183.31201647960498\n",
      "SARIMA(3, 1, 1)x(2, 0, 3, 6) - AIC:80.70378994761141\n",
      "SARIMA(3, 1, 1)x(2, 1, 0, 6) - AIC:55.04522992328243\n",
      "SARIMA(3, 1, 1)x(2, 1, 1, 6) - AIC:57.282168653289304\n",
      "SARIMA(3, 1, 1)x(2, 1, 2, 6) - AIC:59.282135063443945\n",
      "SARIMA(3, 1, 1)x(2, 1, 3, 6) - AIC:20.0\n",
      "SARIMA(3, 1, 1)x(3, 0, 0, 6) - AIC:56.469716925044935\n",
      "SARIMA(3, 1, 1)x(3, 0, 1, 6) - AIC:186.71660213890576\n",
      "SARIMA(3, 1, 1)x(3, 0, 2, 6) - AIC:60.46958336959473\n",
      "SARIMA(3, 1, 1)x(3, 0, 3, 6) - AIC:62.46952543800968\n",
      "SARIMA(3, 1, 1)x(3, 1, 0, 6) - AIC:16.0\n",
      "SARIMA(3, 1, 1)x(3, 1, 1, 6) - AIC:18.0\n",
      "SARIMA(3, 1, 1)x(3, 1, 2, 6) - AIC:20.0\n",
      "SARIMA(3, 1, 1)x(3, 1, 3, 6) - AIC:22.0\n",
      "SARIMA(3, 1, 2)x(0, 0, 0, 6) - AIC:434.26086272200257\n",
      "SARIMA(3, 1, 2)x(0, 0, 1, 6) - AIC:2824.8279343707973\n"
     ]
    },
    {
     "name": "stderr",
     "output_type": "stream",
     "text": [
      "C:\\Anaconda3\\lib\\site-packages\\statsmodels\\base\\model.py:604: ConvergenceWarning: Maximum Likelihood optimization failed to converge. Check mle_retvals\n",
      "  warnings.warn(\"Maximum Likelihood optimization failed to \"\n"
     ]
    },
    {
     "name": "stdout",
     "output_type": "stream",
     "text": [
      "SARIMA(3, 1, 2)x(0, 0, 2, 6) - AIC:186.7335319710356\n",
      "SARIMA(3, 1, 2)x(0, 0, 3, 6) - AIC:58.59316379608407\n",
      "SARIMA(3, 1, 2)x(0, 1, 0, 6) - AIC:311.7409885607419\n",
      "SARIMA(3, 1, 2)x(0, 1, 1, 6) - AIC:187.83029706184576\n",
      "SARIMA(3, 1, 2)x(0, 1, 2, 6) - AIC:56.17165421885386\n",
      "SARIMA(3, 1, 2)x(0, 1, 3, 6) - AIC:18.0\n",
      "SARIMA(3, 1, 2)x(1, 0, 0, 6) - AIC:312.33454840358314\n"
     ]
    },
    {
     "name": "stderr",
     "output_type": "stream",
     "text": [
      "C:\\Anaconda3\\lib\\site-packages\\statsmodels\\base\\model.py:604: ConvergenceWarning: Maximum Likelihood optimization failed to converge. Check mle_retvals\n",
      "  warnings.warn(\"Maximum Likelihood optimization failed to \"\n"
     ]
    },
    {
     "name": "stdout",
     "output_type": "stream",
     "text": [
      "SARIMA(3, 1, 2)x(1, 0, 1, 6) - AIC:2658.939160067721\n"
     ]
    },
    {
     "name": "stderr",
     "output_type": "stream",
     "text": [
      "C:\\Anaconda3\\lib\\site-packages\\statsmodels\\base\\model.py:604: ConvergenceWarning: Maximum Likelihood optimization failed to converge. Check mle_retvals\n",
      "  warnings.warn(\"Maximum Likelihood optimization failed to \"\n"
     ]
    },
    {
     "name": "stdout",
     "output_type": "stream",
     "text": [
      "SARIMA(3, 1, 2)x(1, 0, 2, 6) - AIC:18.0\n",
      "SARIMA(3, 1, 2)x(1, 0, 3, 6) - AIC:60.62201424585473\n",
      "SARIMA(3, 1, 2)x(1, 1, 0, 6) - AIC:188.27001220216815\n",
      "SARIMA(3, 1, 2)x(1, 1, 1, 6) - AIC:188.94925218505745\n",
      "SARIMA(3, 1, 2)x(1, 1, 2, 6) - AIC:58.17262256258721\n",
      "SARIMA(3, 1, 2)x(1, 1, 3, 6) - AIC:20.0\n",
      "SARIMA(3, 1, 2)x(2, 0, 0, 6) - AIC:184.8122576802939\n"
     ]
    },
    {
     "name": "stderr",
     "output_type": "stream",
     "text": [
      "C:\\Anaconda3\\lib\\site-packages\\statsmodels\\base\\model.py:604: ConvergenceWarning: Maximum Likelihood optimization failed to converge. Check mle_retvals\n",
      "  warnings.warn(\"Maximum Likelihood optimization failed to \"\n"
     ]
    },
    {
     "name": "stdout",
     "output_type": "stream",
     "text": [
      "SARIMA(3, 1, 2)x(2, 0, 1, 6) - AIC:18.0\n",
      "SARIMA(3, 1, 2)x(2, 0, 2, 6) - AIC:182.76833951784408\n",
      "SARIMA(3, 1, 2)x(2, 0, 3, 6) - AIC:62.6467842234313\n",
      "SARIMA(3, 1, 2)x(2, 1, 0, 6) - AIC:56.17094769752957\n",
      "SARIMA(3, 1, 2)x(2, 1, 1, 6) - AIC:58.170433580281845\n",
      "SARIMA(3, 1, 2)x(2, 1, 2, 6) - AIC:60.170451796420416\n",
      "SARIMA(3, 1, 2)x(2, 1, 3, 6) - AIC:22.0\n",
      "SARIMA(3, 1, 2)x(3, 0, 0, 6) - AIC:57.98051022453242\n",
      "SARIMA(3, 1, 2)x(3, 0, 1, 6) - AIC:20.0\n"
     ]
    },
    {
     "name": "stderr",
     "output_type": "stream",
     "text": [
      "C:\\Anaconda3\\lib\\site-packages\\statsmodels\\base\\model.py:604: ConvergenceWarning: Maximum Likelihood optimization failed to converge. Check mle_retvals\n",
      "  warnings.warn(\"Maximum Likelihood optimization failed to \"\n"
     ]
    },
    {
     "name": "stdout",
     "output_type": "stream",
     "text": [
      "SARIMA(3, 1, 2)x(3, 0, 2, 6) - AIC:62.01548954065922\n",
      "SARIMA(3, 1, 2)x(3, 0, 3, 6) - AIC:64.6803435570807\n",
      "SARIMA(3, 1, 2)x(3, 1, 0, 6) - AIC:18.0\n",
      "SARIMA(3, 1, 2)x(3, 1, 1, 6) - AIC:20.0\n",
      "SARIMA(3, 1, 2)x(3, 1, 2, 6) - AIC:22.0\n",
      "SARIMA(3, 1, 2)x(3, 1, 3, 6) - AIC:24.0\n",
      "SARIMA(3, 1, 3)x(0, 0, 0, 6) - AIC:413.2350758220147\n"
     ]
    },
    {
     "name": "stderr",
     "output_type": "stream",
     "text": [
      "C:\\Anaconda3\\lib\\site-packages\\statsmodels\\base\\model.py:604: ConvergenceWarning: Maximum Likelihood optimization failed to converge. Check mle_retvals\n",
      "  warnings.warn(\"Maximum Likelihood optimization failed to \"\n"
     ]
    },
    {
     "name": "stdout",
     "output_type": "stream",
     "text": [
      "SARIMA(3, 1, 3)x(0, 0, 1, 6) - AIC:983.8519017195084\n",
      "SARIMA(3, 1, 3)x(0, 0, 2, 6) - AIC:163.26761575473705\n",
      "SARIMA(3, 1, 3)x(0, 0, 3, 6) - AIC:40.26887914430473\n",
      "SARIMA(3, 1, 3)x(0, 1, 0, 6) - AIC:292.14780182590704\n",
      "SARIMA(3, 1, 3)x(0, 1, 1, 6) - AIC:165.9357011250164\n",
      "SARIMA(3, 1, 3)x(0, 1, 2, 6) - AIC:38.32853170555326\n",
      "SARIMA(3, 1, 3)x(0, 1, 3, 6) - AIC:20.0\n",
      "SARIMA(3, 1, 3)x(1, 0, 0, 6) - AIC:310.76172516275597\n"
     ]
    },
    {
     "name": "stderr",
     "output_type": "stream",
     "text": [
      "C:\\Anaconda3\\lib\\site-packages\\statsmodels\\base\\model.py:604: ConvergenceWarning: Maximum Likelihood optimization failed to converge. Check mle_retvals\n",
      "  warnings.warn(\"Maximum Likelihood optimization failed to \"\n"
     ]
    },
    {
     "name": "stdout",
     "output_type": "stream",
     "text": [
      "SARIMA(3, 1, 3)x(1, 0, 1, 6) - AIC:691.1809435817222\n",
      "SARIMA(3, 1, 3)x(1, 0, 2, 6) - AIC:164.74937526371264\n",
      "SARIMA(3, 1, 3)x(1, 0, 3, 6) - AIC:42.269001050888484\n",
      "SARIMA(3, 1, 3)x(1, 1, 0, 6) - AIC:190.51888577488396\n",
      "SARIMA(3, 1, 3)x(1, 1, 1, 6) - AIC:165.9576010217252\n",
      "SARIMA(3, 1, 3)x(1, 1, 2, 6) - AIC:40.32850938015832\n",
      "SARIMA(3, 1, 3)x(1, 1, 3, 6) - AIC:22.0\n",
      "SARIMA(3, 1, 3)x(2, 0, 0, 6) - AIC:185.34031749417917\n",
      "SARIMA(3, 1, 3)x(2, 0, 1, 6) - AIC:613.2562051735024\n",
      "SARIMA(3, 1, 3)x(2, 0, 2, 6) - AIC:165.42560612328043\n",
      "SARIMA(3, 1, 3)x(2, 0, 3, 6) - AIC:44.26888915677006\n",
      "SARIMA(3, 1, 3)x(2, 1, 0, 6) - AIC:58.657000097305826\n",
      "SARIMA(3, 1, 3)x(2, 1, 1, 6) - AIC:60.65702739384133\n",
      "SARIMA(3, 1, 3)x(2, 1, 2, 6) - AIC:42.32851512585993\n",
      "SARIMA(3, 1, 3)x(2, 1, 3, 6) - AIC:24.0\n",
      "SARIMA(3, 1, 3)x(3, 0, 0, 6) - AIC:60.5377023671822\n",
      "SARIMA(3, 1, 3)x(3, 0, 1, 6) - AIC:190.7846576751885\n",
      "SARIMA(3, 1, 3)x(3, 0, 2, 6) - AIC:64.53771638784839\n",
      "SARIMA(3, 1, 3)x(3, 0, 3, 6) - AIC:46.268864157269476\n",
      "SARIMA(3, 1, 3)x(3, 1, 0, 6) - AIC:20.0\n",
      "SARIMA(3, 1, 3)x(3, 1, 1, 6) - AIC:22.0\n",
      "SARIMA(3, 1, 3)x(3, 1, 2, 6) - AIC:24.0\n",
      "SARIMA(3, 1, 3)x(3, 1, 3, 6) - AIC:26.0\n"
     ]
    }
   ],
   "source": [
    "import statsmodels.api as sm\n",
    "\n",
    "for param in pdq:\n",
    "    for param_seasonal in PDQ:\n",
    "        SARIMA_model = sm.tsa.statespace.SARIMAX(train['Netprofit'].values,\n",
    "                                            order=param,\n",
    "                                            seasonal_order=param_seasonal,\n",
    "                                            enforce_stationarity=False,\n",
    "                                            enforce_invertibility=False)\n",
    "            \n",
    "        results_SARIMA = SARIMA_model.fit(maxiter=1000)\n",
    "        print('SARIMA{}x{} - AIC:{}'.format(param, param_seasonal, results_SARIMA.aic))\n",
    "        SARIMA_AIC = SARIMA_AIC.append({'param':param,'seasonal':param_seasonal ,'AIC': results_SARIMA.aic}, ignore_index=True)"
   ]
  },
  {
   "cell_type": "code",
   "execution_count": 138,
   "metadata": {
    "ExecuteTime": {
     "end_time": "2021-02-10T10:09:02.352797Z",
     "start_time": "2021-02-10T10:09:02.269293Z"
    }
   },
   "outputs": [
    {
     "data": {
      "text/html": [
       "<div>\n",
       "<style scoped>\n",
       "    .dataframe tbody tr th:only-of-type {\n",
       "        vertical-align: middle;\n",
       "    }\n",
       "\n",
       "    .dataframe tbody tr th {\n",
       "        vertical-align: top;\n",
       "    }\n",
       "\n",
       "    .dataframe thead th {\n",
       "        text-align: right;\n",
       "    }\n",
       "</style>\n",
       "<table border=\"1\" class=\"dataframe\">\n",
       "  <thead>\n",
       "    <tr style=\"text-align: right;\">\n",
       "      <th></th>\n",
       "      <th>param</th>\n",
       "      <th>seasonal</th>\n",
       "      <th>AIC</th>\n",
       "    </tr>\n",
       "  </thead>\n",
       "  <tbody>\n",
       "    <tr>\n",
       "      <th>28</th>\n",
       "      <td>(0, 0, 0)</td>\n",
       "      <td>(3, 1, 0, 6)</td>\n",
       "      <td>8.0</td>\n",
       "    </tr>\n",
       "    <tr>\n",
       "      <th>135</th>\n",
       "      <td>(0, 1, 0)</td>\n",
       "      <td>(0, 1, 3, 6)</td>\n",
       "      <td>8.0</td>\n",
       "    </tr>\n",
       "    <tr>\n",
       "      <th>7</th>\n",
       "      <td>(0, 0, 0)</td>\n",
       "      <td>(0, 1, 3, 6)</td>\n",
       "      <td>8.0</td>\n",
       "    </tr>\n",
       "    <tr>\n",
       "      <th>156</th>\n",
       "      <td>(0, 1, 0)</td>\n",
       "      <td>(3, 1, 0, 6)</td>\n",
       "      <td>8.0</td>\n",
       "    </tr>\n",
       "    <tr>\n",
       "      <th>157</th>\n",
       "      <td>(0, 1, 0)</td>\n",
       "      <td>(3, 1, 1, 6)</td>\n",
       "      <td>10.0</td>\n",
       "    </tr>\n",
       "  </tbody>\n",
       "</table>\n",
       "</div>"
      ],
      "text/plain": [
       "         param      seasonal   AIC\n",
       "28   (0, 0, 0)  (3, 1, 0, 6)   8.0\n",
       "135  (0, 1, 0)  (0, 1, 3, 6)   8.0\n",
       "7    (0, 0, 0)  (0, 1, 3, 6)   8.0\n",
       "156  (0, 1, 0)  (3, 1, 0, 6)   8.0\n",
       "157  (0, 1, 0)  (3, 1, 1, 6)  10.0"
      ]
     },
     "execution_count": 138,
     "metadata": {},
     "output_type": "execute_result"
    }
   ],
   "source": [
    "SARIMA_AIC.sort_values(by=['AIC']).head()"
   ]
  },
  {
   "cell_type": "code",
   "execution_count": 139,
   "metadata": {
    "ExecuteTime": {
     "end_time": "2021-02-10T10:09:25.555727Z",
     "start_time": "2021-02-10T10:09:19.567709Z"
    }
   },
   "outputs": [
    {
     "name": "stdout",
     "output_type": "stream",
     "text": [
      "                                SARIMAX Results                                \n",
      "===============================================================================\n",
      "Dep. Variable:               Netprofit   No. Observations:                   24\n",
      "Model:             SARIMAX(3, 1, 0, 6)   Log Likelihood                   0.000\n",
      "Date:                 Sun, 28 Aug 2022   AIC                              8.000\n",
      "Time:                         13:17:09   BIC                               -inf\n",
      "Sample:                     03-31-2015   HQIC                               nan\n",
      "                          - 12-31-2020                                         \n",
      "Covariance Type:                   opg                                         \n",
      "==============================================================================\n",
      "                 coef    std err          z      P>|z|      [0.025      0.975]\n",
      "------------------------------------------------------------------------------\n",
      "ar.S.L6             0        nan        nan        nan         nan         nan\n",
      "ar.S.L12            0        nan        nan        nan         nan         nan\n",
      "ar.S.L18            0        nan        nan        nan         nan         nan\n",
      "sigma2       1.03e+08        nan        nan        nan         nan         nan\n",
      "===================================================================================\n",
      "Ljung-Box (L1) (Q):                    nan   Jarque-Bera (JB):                  nan\n",
      "Prob(Q):                               nan   Prob(JB):                          nan\n",
      "Heteroskedasticity (H):                nan   Skew:                              nan\n",
      "Prob(H) (two-sided):                   nan   Kurtosis:                          nan\n",
      "===================================================================================\n",
      "\n",
      "Warnings:\n",
      "[1] Covariance matrix is singular or near-singular, with condition number    nan. Standard errors may be unstable.\n"
     ]
    },
    {
     "name": "stderr",
     "output_type": "stream",
     "text": [
      "C:\\Anaconda3\\lib\\site-packages\\statsmodels\\tsa\\base\\tsa_model.py:471: ValueWarning: No frequency information was provided, so inferred frequency Q-DEC will be used.\n",
      "  self._init_dates(dates, freq)\n",
      "C:\\Anaconda3\\lib\\site-packages\\statsmodels\\tsa\\base\\tsa_model.py:471: ValueWarning: No frequency information was provided, so inferred frequency Q-DEC will be used.\n",
      "  self._init_dates(dates, freq)\n",
      "C:\\Anaconda3\\lib\\site-packages\\statsmodels\\tsa\\statespace\\sarimax.py:866: UserWarning: Too few observations to estimate starting parameters for seasonal ARMA. All parameters except for variances will be set to zeros.\n",
      "  warn('Too few observations to estimate starting parameters%s.'\n",
      "C:\\Anaconda3\\lib\\site-packages\\statsmodels\\tsa\\statespace\\mlemodel.py:1234: RuntimeWarning: invalid value encountered in true_divide\n",
      "  np.inner(score_obs, score_obs) /\n",
      "C:\\Anaconda3\\lib\\site-packages\\statsmodels\\tools\\eval_measures.py:406: RuntimeWarning: divide by zero encountered in log\n",
      "  return -2.0 * llf + np.log(nobs) * df_modelwc\n",
      "C:\\Anaconda3\\lib\\site-packages\\statsmodels\\tools\\eval_measures.py:431: RuntimeWarning: divide by zero encountered in log\n",
      "  return -2.0 * llf + 2 * np.log(np.log(nobs)) * df_modelwc\n",
      "C:\\Anaconda3\\lib\\site-packages\\statsmodels\\tools\\eval_measures.py:431: RuntimeWarning: invalid value encountered in log\n",
      "  return -2.0 * llf + 2 * np.log(np.log(nobs)) * df_modelwc\n",
      "C:\\Anaconda3\\lib\\site-packages\\statsmodels\\tsa\\stattools.py:467: RuntimeWarning: Mean of empty slice.\n",
      "  xo = x - x.mean()\n",
      "C:\\Users\\Amit.Jain\\AppData\\Roaming\\Python\\Python38\\site-packages\\numpy\\core\\_methods.py:189: RuntimeWarning: invalid value encountered in double_scalars\n",
      "  ret = ret.dtype.type(ret / rcount)\n"
     ]
    }
   ],
   "source": [
    "import statsmodels.api as sm\n",
    "\n",
    "auto_SARIMA = sm.tsa.statespace.SARIMAX(train['Netprofit'],\n",
    "                                order=(0,0,0),\n",
    "                                seasonal_order=(3, 1, 0, 6),\n",
    "                                enforce_stationarity=False,\n",
    "                                enforce_invertibility=False)\n",
    "results_auto_SARIMA = auto_SARIMA.fit(maxiter=1000)\n",
    "print(results_auto_SARIMA.summary())"
   ]
  },
  {
   "cell_type": "code",
   "execution_count": 140,
   "metadata": {
    "ExecuteTime": {
     "end_time": "2021-02-10T10:09:30.055653Z",
     "start_time": "2021-02-10T10:09:28.251441Z"
    }
   },
   "outputs": [
    {
     "ename": "ValueError",
     "evalue": "Length of endogenous variable must be larger the the number of lags used in the model and the number of observations burned in the log-likelihood calculation.",
     "output_type": "error",
     "traceback": [
      "\u001b[1;31m---------------------------------------------------------------------------\u001b[0m",
      "\u001b[1;31mValueError\u001b[0m                                Traceback (most recent call last)",
      "\u001b[1;32m<ipython-input-140-8fcc465462a5>\u001b[0m in \u001b[0;36m<module>\u001b[1;34m\u001b[0m\n\u001b[1;32m----> 1\u001b[1;33m \u001b[0mresults_auto_SARIMA\u001b[0m\u001b[1;33m.\u001b[0m\u001b[0mplot_diagnostics\u001b[0m\u001b[1;33m(\u001b[0m\u001b[1;33m)\u001b[0m\u001b[1;33m;\u001b[0m\u001b[1;33m\u001b[0m\u001b[1;33m\u001b[0m\u001b[0m\n\u001b[0m",
      "\u001b[1;32mC:\\Anaconda3\\lib\\site-packages\\statsmodels\\tsa\\statespace\\mlemodel.py\u001b[0m in \u001b[0;36mplot_diagnostics\u001b[1;34m(self, variable, lags, fig, figsize, truncate_endog_names, auto_ylims, bartlett_confint, acf_kwargs)\u001b[0m\n\u001b[0;32m   4349\u001b[0m \u001b[1;33m\u001b[0m\u001b[0m\n\u001b[0;32m   4350\u001b[0m         \u001b[1;32mif\u001b[0m \u001b[0mresid\u001b[0m\u001b[1;33m.\u001b[0m\u001b[0mshape\u001b[0m\u001b[1;33m[\u001b[0m\u001b[1;36m0\u001b[0m\u001b[1;33m]\u001b[0m \u001b[1;33m<\u001b[0m \u001b[0mmax\u001b[0m\u001b[1;33m(\u001b[0m\u001b[0md\u001b[0m\u001b[1;33m,\u001b[0m \u001b[0mlags\u001b[0m\u001b[1;33m)\u001b[0m\u001b[1;33m:\u001b[0m\u001b[1;33m\u001b[0m\u001b[1;33m\u001b[0m\u001b[0m\n\u001b[1;32m-> 4351\u001b[1;33m             raise ValueError(\n\u001b[0m\u001b[0;32m   4352\u001b[0m                 \u001b[1;34m\"Length of endogenous variable must be larger the the number \"\u001b[0m\u001b[1;33m\u001b[0m\u001b[1;33m\u001b[0m\u001b[0m\n\u001b[0;32m   4353\u001b[0m                 \u001b[1;34m\"of lags used in the model and the number of observations \"\u001b[0m\u001b[1;33m\u001b[0m\u001b[1;33m\u001b[0m\u001b[0m\n",
      "\u001b[1;31mValueError\u001b[0m: Length of endogenous variable must be larger the the number of lags used in the model and the number of observations burned in the log-likelihood calculation."
     ]
    },
    {
     "data": {
      "text/plain": [
       "<Figure size 432x288 with 0 Axes>"
      ]
     },
     "metadata": {},
     "output_type": "display_data"
    }
   ],
   "source": [
    "results_auto_SARIMA.plot_diagnostics();"
   ]
  },
  {
   "cell_type": "markdown",
   "metadata": {},
   "source": [
    "## Predict on the Test Set using this model and evaluate the model."
   ]
  },
  {
   "cell_type": "code",
   "execution_count": 141,
   "metadata": {
    "ExecuteTime": {
     "end_time": "2021-02-10T10:09:34.245737Z",
     "start_time": "2021-02-10T10:09:34.220038Z"
    }
   },
   "outputs": [],
   "source": [
    "predicted_auto_SARIMA = results_auto_SARIMA.get_forecast(steps=len(test))"
   ]
  },
  {
   "cell_type": "code",
   "execution_count": 142,
   "metadata": {
    "ExecuteTime": {
     "end_time": "2021-02-10T10:09:34.873013Z",
     "start_time": "2021-02-10T10:09:34.840030Z"
    },
    "scrolled": true
   },
   "outputs": [
    {
     "data": {
      "text/html": [
       "<div>\n",
       "<style scoped>\n",
       "    .dataframe tbody tr th:only-of-type {\n",
       "        vertical-align: middle;\n",
       "    }\n",
       "\n",
       "    .dataframe tbody tr th {\n",
       "        vertical-align: top;\n",
       "    }\n",
       "\n",
       "    .dataframe thead th {\n",
       "        text-align: right;\n",
       "    }\n",
       "</style>\n",
       "<table border=\"1\" class=\"dataframe\">\n",
       "  <thead>\n",
       "    <tr style=\"text-align: right;\">\n",
       "      <th>Netprofit</th>\n",
       "      <th>mean</th>\n",
       "      <th>mean_se</th>\n",
       "      <th>mean_ci_lower</th>\n",
       "      <th>mean_ci_upper</th>\n",
       "    </tr>\n",
       "  </thead>\n",
       "  <tbody>\n",
       "    <tr>\n",
       "      <th>2021-03-31</th>\n",
       "      <td>5566.0</td>\n",
       "      <td>10147.873388</td>\n",
       "      <td>-14323.46636</td>\n",
       "      <td>25455.46636</td>\n",
       "    </tr>\n",
       "    <tr>\n",
       "      <th>2021-06-30</th>\n",
       "      <td>-12898.0</td>\n",
       "      <td>10147.873388</td>\n",
       "      <td>-32787.46636</td>\n",
       "      <td>6991.46636</td>\n",
       "    </tr>\n",
       "    <tr>\n",
       "      <th>2021-09-30</th>\n",
       "      <td>-28426.0</td>\n",
       "      <td>10147.873388</td>\n",
       "      <td>-48315.46636</td>\n",
       "      <td>-8536.53364</td>\n",
       "    </tr>\n",
       "    <tr>\n",
       "      <th>2021-12-31</th>\n",
       "      <td>-11949.0</td>\n",
       "      <td>10147.873388</td>\n",
       "      <td>-31838.46636</td>\n",
       "      <td>7940.46636</td>\n",
       "    </tr>\n",
       "    <tr>\n",
       "      <th>2022-03-31</th>\n",
       "      <td>-6231.0</td>\n",
       "      <td>10147.873388</td>\n",
       "      <td>-26120.46636</td>\n",
       "      <td>13658.46636</td>\n",
       "    </tr>\n",
       "  </tbody>\n",
       "</table>\n",
       "</div>"
      ],
      "text/plain": [
       "Netprofit      mean       mean_se  mean_ci_lower  mean_ci_upper\n",
       "2021-03-31   5566.0  10147.873388   -14323.46636    25455.46636\n",
       "2021-06-30 -12898.0  10147.873388   -32787.46636     6991.46636\n",
       "2021-09-30 -28426.0  10147.873388   -48315.46636    -8536.53364\n",
       "2021-12-31 -11949.0  10147.873388   -31838.46636     7940.46636\n",
       "2022-03-31  -6231.0  10147.873388   -26120.46636    13658.46636"
      ]
     },
     "execution_count": 142,
     "metadata": {},
     "output_type": "execute_result"
    }
   ],
   "source": [
    "predicted_auto_SARIMA.summary_frame(alpha=0.05).head()"
   ]
  },
  {
   "cell_type": "code",
   "execution_count": 145,
   "metadata": {
    "ExecuteTime": {
     "end_time": "2021-02-10T10:09:37.145804Z",
     "start_time": "2021-02-10T10:09:37.128821Z"
    }
   },
   "outputs": [
    {
     "name": "stdout",
     "output_type": "stream",
     "text": [
      "RMSE: 21552.415730028966 \n",
      "MAPE: 405.6363535933839\n"
     ]
    }
   ],
   "source": [
    "rmse = mean_squared_error(test['Netprofit'],predicted_auto_SARIMA.predicted_mean,squared=False)\n",
    "mape = mean_absolute_percentage_error(test['Netprofit'],predicted_auto_SARIMA.predicted_mean)\n",
    "print('RMSE:',rmse,'\\nMAPE:',mape)"
   ]
  },
  {
   "cell_type": "code",
   "execution_count": 146,
   "metadata": {
    "ExecuteTime": {
     "end_time": "2021-02-10T10:09:52.124003Z",
     "start_time": "2021-02-10T10:09:52.103018Z"
    }
   },
   "outputs": [
    {
     "data": {
      "text/html": [
       "<div>\n",
       "<style scoped>\n",
       "    .dataframe tbody tr th:only-of-type {\n",
       "        vertical-align: middle;\n",
       "    }\n",
       "\n",
       "    .dataframe tbody tr th {\n",
       "        vertical-align: top;\n",
       "    }\n",
       "\n",
       "    .dataframe thead th {\n",
       "        text-align: right;\n",
       "    }\n",
       "</style>\n",
       "<table border=\"1\" class=\"dataframe\">\n",
       "  <thead>\n",
       "    <tr style=\"text-align: right;\">\n",
       "      <th></th>\n",
       "      <th>RMSE</th>\n",
       "      <th>MAPE</th>\n",
       "    </tr>\n",
       "  </thead>\n",
       "  <tbody>\n",
       "    <tr>\n",
       "      <th>ARIMA(1,3,3)</th>\n",
       "      <td>11287.375922</td>\n",
       "      <td>154.738734</td>\n",
       "    </tr>\n",
       "    <tr>\n",
       "      <th>SARIMA(1,1,3)(3,0,3,6)</th>\n",
       "      <td>21552.415730</td>\n",
       "      <td>405.636354</td>\n",
       "    </tr>\n",
       "  </tbody>\n",
       "</table>\n",
       "</div>"
      ],
      "text/plain": [
       "                                RMSE        MAPE\n",
       "ARIMA(1,3,3)            11287.375922  154.738734\n",
       "SARIMA(1,1,3)(3,0,3,6)  21552.415730  405.636354"
      ]
     },
     "execution_count": 146,
     "metadata": {},
     "output_type": "execute_result"
    }
   ],
   "source": [
    "temp_resultsDf = pd.DataFrame({'RMSE': rmse,'MAPE':mape}\n",
    "                           ,index=['SARIMA(1,1,3)(3,0,3,6)'])\n",
    "\n",
    "\n",
    "resultsDf = pd.concat([resultsDf,temp_resultsDf])\n",
    "\n",
    "resultsDf"
   ]
  },
  {
   "cell_type": "markdown",
   "metadata": {},
   "source": [
    "## Build a version of the SARIMA model for which the best parameters are selected by looking at the ACF and the PACF plots. - Seasonality at 6."
   ]
  },
  {
   "cell_type": "markdown",
   "metadata": {},
   "source": [
    "Let us look at the ACF and the PACF plots once more."
   ]
  },
  {
   "cell_type": "code",
   "execution_count": 61,
   "metadata": {
    "ExecuteTime": {
     "end_time": "2021-02-10T10:10:06.795657Z",
     "start_time": "2021-02-10T10:10:05.978003Z"
    }
   },
   "outputs": [
    {
     "data": {
      "image/png": "[encoded data removed]",
      "text/plain": [
       "<Figure size 1440x576 with 1 Axes>"
      ]
     },
     "metadata": {
      "needs_background": "light"
     },
     "output_type": "display_data"
    },
    {
     "data": {
      "image/png": "[encoded data removed]",
      "text/plain": [
       "<Figure size 1440x576 with 1 Axes>"
      ]
     },
     "metadata": {
      "needs_background": "light"
     },
     "output_type": "display_data"
    }
   ],
   "source": [
    "plot_acf(train.diff(),title='Training Data Autocorrelation',missing='drop')\n",
    "plot_pacf(train.diff().dropna(),title='Training Data Partial Autocorrelation',zero=False,method='ywmle');"
   ]
  },
  {
   "cell_type": "markdown",
   "metadata": {},
   "source": [
    "Here, we have taken alpha=0.05.\n",
    "\n",
    "We are going to take the seasonal period as 3 or its multiple e.g. 6.\n",
    "We are taking the p value to be 3 and the q value also to be 3 as the parameters same as the ARIMA model.\n",
    "\n",
    "* The Auto-Regressive parameter in an SARIMA model is 'P' which comes from the significant lag after which the PACF plot cuts-off to 0. \n",
    "* The Moving-Average parameter in an SARIMA model is 'Q' which comes from the significant lag after which the ACF plot cuts-off to 3.\n",
    "\n",
    "Remember to check the ACF and the PACF plots only at multiples of 3 (since 3 is the seasonal period)."
   ]
  },
  {
   "cell_type": "markdown",
   "metadata": {},
   "source": [
    "Please do refer to $\\href{https://online.stat.psu.edu/stat510/lesson/4/4.1}{this\\ link}$ to read more about Seasonal Auto-Regressive Integrtaed Moving Average Models."
   ]
  },
  {
   "cell_type": "code",
   "execution_count": 62,
   "metadata": {
    "ExecuteTime": {
     "end_time": "2021-02-10T10:10:16.621128Z",
     "start_time": "2021-02-10T10:10:15.317039Z"
    },
    "scrolled": false
   },
   "outputs": [
    {
     "name": "stderr",
     "output_type": "stream",
     "text": [
      "/Users/ssps/opt/anaconda3/lib/python3.8/site-packages/statsmodels/tsa/base/tsa_model.py:524: ValueWarning: No frequency information was provided, so inferred frequency M will be used.\n",
      "  warnings.warn('No frequency information was'\n",
      "/Users/ssps/opt/anaconda3/lib/python3.8/site-packages/statsmodels/tsa/base/tsa_model.py:524: ValueWarning: No frequency information was provided, so inferred frequency M will be used.\n",
      "  warnings.warn('No frequency information was'\n",
      "/Users/ssps/opt/anaconda3/lib/python3.8/site-packages/statsmodels/tsa/statespace/sarimax.py:865: UserWarning: Too few observations to estimate starting parameters for seasonal ARMA. All parameters except for variances will be set to zeros.\n",
      "  warn('Too few observations to estimate starting parameters%s.'\n"
     ]
    },
    {
     "name": "stdout",
     "output_type": "stream",
     "text": [
      "                                     SARIMAX Results                                     \n",
      "=========================================================================================\n",
      "Dep. Variable:                    Sales_quantity   No. Observations:                   48\n",
      "Model:             SARIMAX(3, 1, 3)x(0, 0, 3, 6)   Log Likelihood                -229.624\n",
      "Date:                           Tue, 23 Feb 2021   AIC                            479.249\n",
      "Time:                                   07:53:29   BIC                            491.437\n",
      "Sample:                               01-31-2015   HQIC                           482.629\n",
      "                                    - 12-31-2018                                         \n",
      "Covariance Type:                             opg                                         \n",
      "==============================================================================\n",
      "                 coef    std err          z      P>|z|      [0.025      0.975]\n",
      "------------------------------------------------------------------------------\n",
      "ar.L1         -0.4033      2.528     -0.160      0.873      -5.358       4.552\n",
      "ar.L2         -0.3966      2.539     -0.156      0.876      -5.372       4.579\n",
      "ar.L3          0.6295      2.515      0.250      0.802      -4.300       5.559\n",
      "ma.L1         -0.0044      2.937     -0.001      0.999      -5.761       5.753\n",
      "ma.L2          0.2768      1.423      0.194      0.846      -2.513       3.066\n",
      "ma.L3         -0.6402      2.086     -0.307      0.759      -4.728       3.448\n",
      "ma.S.L6       -0.4915      0.894     -0.550      0.583      -2.244       1.261\n",
      "ma.S.L12       0.6914      0.887      0.780      0.436      -1.047       2.429\n",
      "ma.S.L18      -0.0899      0.915     -0.098      0.922      -1.883       1.703\n",
      "sigma2      9.436e+06    4.4e-07   2.14e+13      0.000    9.44e+06    9.44e+06\n",
      "===================================================================================\n",
      "Ljung-Box (L1) (Q):                   1.10   Jarque-Bera (JB):                 0.53\n",
      "Prob(Q):                              0.29   Prob(JB):                         0.77\n",
      "Heteroskedasticity (H):               0.91   Skew:                             0.12\n",
      "Prob(H) (two-sided):                  0.89   Kurtosis:                         2.33\n",
      "===================================================================================\n",
      "\n",
      "Warnings:\n",
      "[1] Covariance matrix calculated using the outer product of gradients (complex-step).\n",
      "[2] Covariance matrix is singular or near-singular, with condition number 2.08e+31. Standard errors may be unstable.\n"
     ]
    }
   ],
   "source": [
    "import statsmodels.api as sm\n",
    "\n",
    "manual_SARIMA = sm.tsa.statespace.SARIMAX(train['Sales_quantity'],\n",
    "                                order=(3,1,3),\n",
    "                                seasonal_order=(0, 0, 3, 6),\n",
    "                                enforce_stationarity=False,\n",
    "                                enforce_invertibility=False)\n",
    "results_manual_SARIMA = manual_SARIMA.fit(maxiter=1000)\n",
    "print(results_manual_SARIMA.summary())"
   ]
  },
  {
   "cell_type": "code",
   "execution_count": 63,
   "metadata": {
    "ExecuteTime": {
     "end_time": "2021-02-10T10:10:24.885637Z",
     "start_time": "2021-02-10T10:10:23.171354Z"
    }
   },
   "outputs": [
    {
     "data": {
      "image/png": "[encoded data removed]",
      "text/plain": [
       "<Figure size 1440x576 with 4 Axes>"
      ]
     },
     "metadata": {
      "needs_background": "light"
     },
     "output_type": "display_data"
    }
   ],
   "source": [
    "results_manual_SARIMA.plot_diagnostics()\n",
    "plt.show()"
   ]
  },
  {
   "cell_type": "markdown",
   "metadata": {},
   "source": [
    "## Predict on the Test Set using this model and evaluate the model."
   ]
  },
  {
   "cell_type": "code",
   "execution_count": 64,
   "metadata": {
    "ExecuteTime": {
     "end_time": "2021-02-10T10:10:27.715635Z",
     "start_time": "2021-02-10T10:10:27.692140Z"
    }
   },
   "outputs": [],
   "source": [
    "predicted_manual_SARIMA = results_manual_SARIMA.get_forecast(steps=len(test))"
   ]
  },
  {
   "cell_type": "code",
   "execution_count": 65,
   "metadata": {
    "ExecuteTime": {
     "end_time": "2021-02-10T10:10:29.723817Z",
     "start_time": "2021-02-10T10:10:29.708925Z"
    }
   },
   "outputs": [
    {
     "name": "stdout",
     "output_type": "stream",
     "text": [
      "RMSE: 2870.5384370887773 \n",
      "MAPE: 9.367992796777662\n"
     ]
    }
   ],
   "source": [
    "rmse = mean_squared_error(test['Sales_quantity'],predicted_manual_SARIMA.predicted_mean,squared=False)\n",
    "mape = mean_absolute_percentage_error(test['Sales_quantity'],predicted_manual_SARIMA.predicted_mean)\n",
    "print('RMSE:',rmse,'\\nMAPE:',mape)"
   ]
  },
  {
   "cell_type": "code",
   "execution_count": 66,
   "metadata": {
    "ExecuteTime": {
     "end_time": "2021-02-10T10:10:36.433709Z",
     "start_time": "2021-02-10T10:10:36.407996Z"
    }
   },
   "outputs": [
    {
     "data": {
      "text/html": [
       "<div>\n",
       "<style scoped>\n",
       "    .dataframe tbody tr th:only-of-type {\n",
       "        vertical-align: middle;\n",
       "    }\n",
       "\n",
       "    .dataframe tbody tr th {\n",
       "        vertical-align: top;\n",
       "    }\n",
       "\n",
       "    .dataframe thead th {\n",
       "        text-align: right;\n",
       "    }\n",
       "</style>\n",
       "<table border=\"1\" class=\"dataframe\">\n",
       "  <thead>\n",
       "    <tr style=\"text-align: right;\">\n",
       "      <th></th>\n",
       "      <th>RMSE</th>\n",
       "      <th>MAPE</th>\n",
       "    </tr>\n",
       "  </thead>\n",
       "  <tbody>\n",
       "    <tr>\n",
       "      <th>ARIMA(2,1,2)</th>\n",
       "      <td>4400.537137</td>\n",
       "      <td>14.606968</td>\n",
       "    </tr>\n",
       "    <tr>\n",
       "      <th>ARIMA(3,1,3)</th>\n",
       "      <td>4094.968771</td>\n",
       "      <td>14.383639</td>\n",
       "    </tr>\n",
       "    <tr>\n",
       "      <th>SARIMA(1,1,3)(3,0,3,6)</th>\n",
       "      <td>2388.755767</td>\n",
       "      <td>7.939640</td>\n",
       "    </tr>\n",
       "    <tr>\n",
       "      <th>SARIMA(3,1,3)(0,0,3,6)</th>\n",
       "      <td>2870.538437</td>\n",
       "      <td>9.367993</td>\n",
       "    </tr>\n",
       "  </tbody>\n",
       "</table>\n",
       "</div>"
      ],
      "text/plain": [
       "                               RMSE       MAPE\n",
       "ARIMA(2,1,2)            4400.537137  14.606968\n",
       "ARIMA(3,1,3)            4094.968771  14.383639\n",
       "SARIMA(1,1,3)(3,0,3,6)  2388.755767   7.939640\n",
       "SARIMA(3,1,3)(0,0,3,6)  2870.538437   9.367993"
      ]
     },
     "execution_count": 66,
     "metadata": {},
     "output_type": "execute_result"
    }
   ],
   "source": [
    "temp_resultsDf = pd.DataFrame({'RMSE': [rmse],'MAPE':mape}\n",
    "                           ,index=['SARIMA(3,1,3)(0,0,3,6)'])\n",
    "\n",
    "\n",
    "resultsDf = pd.concat([resultsDf,temp_resultsDf])\n",
    "\n",
    "resultsDf"
   ]
  },
  {
   "cell_type": "markdown",
   "metadata": {},
   "source": [
    "This is where our model building exercise ends. \n",
    "\n",
    "Please do try out with a different seasonal frequency parameter (if that works) and check whether that gives you a better RMSE value. Also, try taking different kinds of transformations as well."
   ]
  },
  {
   "cell_type": "markdown",
   "metadata": {},
   "source": [
    "## Building the most optimum model on the Full Data."
   ]
  },
  {
   "cell_type": "markdown",
   "metadata": {},
   "source": [
    "Here, we have a scenario where our training data was stationary but our full data was not stationary. So, we will use the same parameters as our training data but with adding a level of differencing which is needed for the data to be stationary."
   ]
  },
  {
   "cell_type": "code",
   "execution_count": 147,
   "metadata": {
    "ExecuteTime": {
     "end_time": "2021-02-10T10:11:03.173912Z",
     "start_time": "2021-02-10T10:11:01.070183Z"
    }
   },
   "outputs": [
    {
     "name": "stdout",
     "output_type": "stream",
     "text": [
      "                                SARIMAX Results                                \n",
      "===============================================================================\n",
      "Dep. Variable:               Netprofit   No. Observations:                   29\n",
      "Model:             SARIMAX(3, 1, 0, 6)   Log Likelihood                 -56.243\n",
      "Date:                 Sun, 28 Aug 2022   AIC                            120.486\n",
      "Time:                         13:28:33   BIC                            118.924\n",
      "Sample:                     03-31-2015   HQIC                           116.293\n",
      "                          - 03-31-2022                                         \n",
      "Covariance Type:                   opg                                         \n",
      "==============================================================================\n",
      "                 coef    std err          z      P>|z|      [0.025      0.975]\n",
      "------------------------------------------------------------------------------\n",
      "ar.S.L6       -0.3956      0.857     -0.461      0.645      -2.076       1.285\n",
      "ar.S.L12       0.5029      1.764      0.285      0.776      -2.955       3.961\n",
      "ar.S.L18       1.7639      5.539      0.318      0.750      -9.093      12.620\n",
      "sigma2      3.451e+08   6.32e-08   5.46e+15      0.000    3.45e+08    3.45e+08\n",
      "===================================================================================\n",
      "Ljung-Box (L1) (Q):                   0.00   Jarque-Bera (JB):                 0.64\n",
      "Prob(Q):                              0.95   Prob(JB):                         0.72\n",
      "Heteroskedasticity (H):               0.85   Skew:                             0.82\n",
      "Prob(H) (two-sided):                  0.92   Kurtosis:                         2.35\n",
      "===================================================================================\n",
      "\n",
      "Warnings:\n",
      "[1] Covariance matrix calculated using the outer product of gradients (complex-step).\n",
      "[2] Covariance matrix is singular or near-singular, with condition number 3.07e+32. Standard errors may be unstable.\n"
     ]
    },
    {
     "name": "stderr",
     "output_type": "stream",
     "text": [
      "C:\\Anaconda3\\lib\\site-packages\\statsmodels\\tsa\\base\\tsa_model.py:471: ValueWarning: No frequency information was provided, so inferred frequency Q-DEC will be used.\n",
      "  self._init_dates(dates, freq)\n",
      "C:\\Anaconda3\\lib\\site-packages\\statsmodels\\tsa\\base\\tsa_model.py:471: ValueWarning: No frequency information was provided, so inferred frequency Q-DEC will be used.\n",
      "  self._init_dates(dates, freq)\n"
     ]
    }
   ],
   "source": [
    "full_data_model = sm.tsa.statespace.SARIMAX(df['Netprofit'],\n",
    "                                order=(0,0,0),\n",
    "                                seasonal_order=(3, 1, 0, 6),\n",
    "                                enforce_stationarity=False,\n",
    "                                enforce_invertibility=False)\n",
    "results_full_data_model = full_data_model.fit(maxiter=1000)\n",
    "print(results_full_data_model.summary())"
   ]
  },
  {
   "cell_type": "markdown",
   "metadata": {},
   "source": [
    "###### Note: If we have a scenario where our training data was stationary but our full data was not stationary. We can still use the same parameters as our training data but with adding an appropriate level of differencing or transformation which is needed for the data to be stationary."
   ]
  },
  {
   "cell_type": "markdown",
   "metadata": {},
   "source": [
    "## Evaluate the model on the whole data and predict 20 months into the future (till the end of next year)."
   ]
  },
  {
   "cell_type": "code",
   "execution_count": 148,
   "metadata": {
    "ExecuteTime": {
     "end_time": "2021-02-10T10:11:15.758340Z",
     "start_time": "2021-02-10T10:11:15.744420Z"
    }
   },
   "outputs": [],
   "source": [
    "predicted_manual_SARIMA_full_data = results_full_data_model.get_forecast(steps=8)"
   ]
  },
  {
   "cell_type": "code",
   "execution_count": 153,
   "metadata": {
    "ExecuteTime": {
     "end_time": "2021-02-10T10:11:17.684971Z",
     "start_time": "2021-02-10T10:11:17.650685Z"
    }
   },
   "outputs": [
    {
     "data": {
      "text/html": [
       "<div>\n",
       "<style scoped>\n",
       "    .dataframe tbody tr th:only-of-type {\n",
       "        vertical-align: middle;\n",
       "    }\n",
       "\n",
       "    .dataframe tbody tr th {\n",
       "        vertical-align: top;\n",
       "    }\n",
       "\n",
       "    .dataframe thead th {\n",
       "        text-align: right;\n",
       "    }\n",
       "</style>\n",
       "<table border=\"1\" class=\"dataframe\">\n",
       "  <thead>\n",
       "    <tr style=\"text-align: right;\">\n",
       "      <th>Netprofit</th>\n",
       "      <th>mean</th>\n",
       "      <th>mean_se</th>\n",
       "      <th>mean_ci_lower</th>\n",
       "      <th>mean_ci_upper</th>\n",
       "    </tr>\n",
       "  </thead>\n",
       "  <tbody>\n",
       "    <tr>\n",
       "      <th>2022-06-30</th>\n",
       "      <td>-17284.786096</td>\n",
       "      <td>18576.312965</td>\n",
       "      <td>-53693.690474</td>\n",
       "      <td>19124.118281</td>\n",
       "    </tr>\n",
       "    <tr>\n",
       "      <th>2022-09-30</th>\n",
       "      <td>-24410.074410</td>\n",
       "      <td>18576.312965</td>\n",
       "      <td>-60818.978788</td>\n",
       "      <td>11998.829968</td>\n",
       "    </tr>\n",
       "    <tr>\n",
       "      <th>2022-12-31</th>\n",
       "      <td>-47028.577512</td>\n",
       "      <td>18576.312965</td>\n",
       "      <td>-83437.481890</td>\n",
       "      <td>-10619.673134</td>\n",
       "    </tr>\n",
       "    <tr>\n",
       "      <th>2023-03-31</th>\n",
       "      <td>-42156.628667</td>\n",
       "      <td>18576.312965</td>\n",
       "      <td>-78565.533045</td>\n",
       "      <td>-5747.724290</td>\n",
       "    </tr>\n",
       "    <tr>\n",
       "      <th>2023-06-30</th>\n",
       "      <td>-26935.200990</td>\n",
       "      <td>18576.312965</td>\n",
       "      <td>-63344.105368</td>\n",
       "      <td>9473.703387</td>\n",
       "    </tr>\n",
       "  </tbody>\n",
       "</table>\n",
       "</div>"
      ],
      "text/plain": [
       "Netprofit           mean       mean_se  mean_ci_lower  mean_ci_upper\n",
       "2022-06-30 -17284.786096  18576.312965  -53693.690474   19124.118281\n",
       "2022-09-30 -24410.074410  18576.312965  -60818.978788   11998.829968\n",
       "2022-12-31 -47028.577512  18576.312965  -83437.481890  -10619.673134\n",
       "2023-03-31 -42156.628667  18576.312965  -78565.533045   -5747.724290\n",
       "2023-06-30 -26935.200990  18576.312965  -63344.105368    9473.703387"
      ]
     },
     "execution_count": 153,
     "metadata": {},
     "output_type": "execute_result"
    }
   ],
   "source": [
    "pred_full_manual_SARIMA_date = predicted_manual_SARIMA_full_data.summary_frame(alpha=0.05)\n",
    "pred_full_manual_SARIMA_date.head()"
   ]
  },
  {
   "cell_type": "code",
   "execution_count": 154,
   "metadata": {
    "ExecuteTime": {
     "end_time": "2021-02-10T10:11:22.813099Z",
     "start_time": "2021-02-10T10:11:22.802298Z"
    }
   },
   "outputs": [
    {
     "name": "stdout",
     "output_type": "stream",
     "text": [
      "RMSE of the Full Model 16539.89316003404\n"
     ]
    }
   ],
   "source": [
    "rmse = mean_squared_error(df['Netprofit'],results_full_data_model.fittedvalues,squared=False)\n",
    "print('RMSE of the Full Model',rmse)"
   ]
  },
  {
   "cell_type": "code",
   "execution_count": 155,
   "metadata": {
    "ExecuteTime": {
     "end_time": "2021-02-10T10:14:19.555721Z",
     "start_time": "2021-02-10T10:14:18.673180Z"
    }
   },
   "outputs": [
    {
     "data": {
      "image/png": "[encoded data removed]",
      "text/plain": [
       "<Figure size 432x288 with 1 Axes>"
      ]
     },
     "metadata": {
      "needs_background": "light"
     },
     "output_type": "display_data"
    }
   ],
   "source": [
    "axis = df['Netprofit'].plot(label='Observed')\n",
    "pred_full_manual_SARIMA_date['mean'].plot(ax=axis, label='Forecast', alpha=0.7)\n",
    "\n",
    "axis.set_xlabel('Year-Months')\n",
    "axis.set_ylabel('Netprofit')\n",
    "plt.legend(loc='best')\n",
    "plt.grid();"
   ]
  },
  {
   "cell_type": "code",
   "execution_count": 73,
   "metadata": {
    "ExecuteTime": {
     "end_time": "2020-11-13T11:56:05.316285Z",
     "start_time": "2020-11-13T11:56:05.308268Z"
    }
   },
   "outputs": [
    {
     "data": {
      "text/html": [
       "<div>\n",
       "<style scoped>\n",
       "    .dataframe tbody tr th:only-of-type {\n",
       "        vertical-align: middle;\n",
       "    }\n",
       "\n",
       "    .dataframe tbody tr th {\n",
       "        vertical-align: top;\n",
       "    }\n",
       "\n",
       "    .dataframe thead th {\n",
       "        text-align: right;\n",
       "    }\n",
       "</style>\n",
       "<table border=\"1\" class=\"dataframe\">\n",
       "  <thead>\n",
       "    <tr style=\"text-align: right;\">\n",
       "      <th></th>\n",
       "      <th>RMSE</th>\n",
       "      <th>MAPE</th>\n",
       "    </tr>\n",
       "  </thead>\n",
       "  <tbody>\n",
       "    <tr>\n",
       "      <th>ARIMA(2,1,2)</th>\n",
       "      <td>4400.537137</td>\n",
       "      <td>14.606968</td>\n",
       "    </tr>\n",
       "    <tr>\n",
       "      <th>ARIMA(3,1,3)</th>\n",
       "      <td>4094.968771</td>\n",
       "      <td>14.383639</td>\n",
       "    </tr>\n",
       "    <tr>\n",
       "      <th>SARIMA(1,1,3)(3,0,3,6)</th>\n",
       "      <td>2388.755767</td>\n",
       "      <td>7.939640</td>\n",
       "    </tr>\n",
       "    <tr>\n",
       "      <th>SARIMA(3,1,3)(0,0,3,6)</th>\n",
       "      <td>2870.538437</td>\n",
       "      <td>9.367993</td>\n",
       "    </tr>\n",
       "  </tbody>\n",
       "</table>\n",
       "</div>"
      ],
      "text/plain": [
       "                               RMSE       MAPE\n",
       "ARIMA(2,1,2)            4400.537137  14.606968\n",
       "ARIMA(3,1,3)            4094.968771  14.383639\n",
       "SARIMA(1,1,3)(3,0,3,6)  2388.755767   7.939640\n",
       "SARIMA(3,1,3)(0,0,3,6)  2870.538437   9.367993"
      ]
     },
     "execution_count": 73,
     "metadata": {},
     "output_type": "execute_result"
    }
   ],
   "source": [
    "resultsDf"
   ]
  },
  {
   "cell_type": "markdown",
   "metadata": {},
   "source": [
    "# END"
   ]
  }
 ],
 "metadata": {
  "kernelspec": {
   "display_name": "Python 3",
   "language": "python",
   "name": "python3"
  },
  "language_info": {
   "codemirror_mode": {
    "name": "ipython",
    "version": 3
   },
   "file_extension": ".py",
   "mimetype": "text/x-python",
   "name": "python",
   "nbconvert_exporter": "python",
   "pygments_lexer": "ipython3",
   "version": "3.8.8"
  },
  "toc": {
   "base_numbering": 1,
   "nav_menu": {},
   "number_sections": true,
   "sideBar": true,
   "skip_h1_title": false,
   "title_cell": "Table of Contents",
   "title_sidebar": "Contents",
   "toc_cell": false,
   "toc_position": {
    "height": "calc(100% - 180px)",
    "left": "10px",
    "top": "150px",
    "width": "251px"
   },
   "toc_section_display": true,
   "toc_window_display": true
  },
  "varInspector": {
   "cols": {
    "lenName": 16,
    "lenType": 16,
    "lenVar": 40
   },
   "kernels_config": {
    "python": {
     "delete_cmd_postfix": "",
     "delete_cmd_prefix": "del ",
     "library": "var_list.py",
     "varRefreshCmd": "print(var_dic_list())"
    },
    "r": {
     "delete_cmd_postfix": ") ",
     "delete_cmd_prefix": "rm(",
     "library": "var_list.r",
     "varRefreshCmd": "cat(var_dic_list()) "
    }
   },
   "types_to_exclude": [
    "module",
    "function",
    "builtin_function_or_method",
    "instance",
    "_Feature"
   ],
   "window_display": false
  }
 },
 "nbformat": 4,
 "nbformat_minor": 4
}
