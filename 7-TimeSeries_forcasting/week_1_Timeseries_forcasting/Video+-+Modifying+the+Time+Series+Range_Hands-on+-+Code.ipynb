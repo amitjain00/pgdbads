{
 "cells": [
  {
   "cell_type": "markdown",
   "metadata": {
    "collapsed": true
   },
   "source": [
    "## Forecast Range, Accuracy and Various Requirements"
   ]
  },
  {
   "cell_type": "markdown",
   "metadata": {},
   "source": [
    "#### Note: The forecasting techniques and model evaluation parameters will be covered in great detail in the upcoming weeks. The following lines of theoretical information is just to give you an introduction to Forecasting."
   ]
  },
  {
   "cell_type": "markdown",
   "metadata": {
    "collapsed": true
   },
   "source": [
    "Time Series forecast models can both make predictions and provide a confidence interval for those predictions. "
   ]
  },
  {
   "cell_type": "markdown",
   "metadata": {},
   "source": [
    "### Forecast Range\n"
   ]
  },
  {
   "cell_type": "markdown",
   "metadata": {},
   "source": [
    "**Confidence intervals provide an upper and lower expectation for the real observation. **\n",
    "\n",
    "These are useful for assessing the range of real possible outcomes for a prediction and for better understanding the skill of the model.\n",
    "\n",
    "For example, the ARIMA implementation in the statsmodel python library can be used to fit an ARIMA model. It returns an ARIMAResults object. \n",
    "\n",
    "The object provides the forecast() function returns three values:\n",
    "* 1) Forecast: The forecasted value in the \n",
    "* 2) Standard Error of the model: \n",
    "* 3) Confidence Interval: The 95% confidence interval for the forecast\n"
   ]
  },
  {
   "cell_type": "markdown",
   "metadata": {},
   "source": [
    "### Forecast Accuracy\n"
   ]
  },
  {
   "cell_type": "markdown",
   "metadata": {},
   "source": [
    "The error in the forecast is the difference between the actual value and the forecast.\n",
    "\n",
    "Two popular accuracy measures are RMSE and MAPE."
   ]
  },
  {
   "cell_type": "markdown",
   "metadata": {},
   "source": [
    "### Forecast  Requirements"
   ]
  },
  {
   "cell_type": "markdown",
   "metadata": {},
   "source": [
    "A time series model must contain a key time column that contains unique values, input columns, and at least one predictable column.\n"
   ]
  },
  {
   "cell_type": "markdown",
   "metadata": {},
   "source": [
    "Time series data often requires cleaning, scaling, and even transformation"
   ]
  },
  {
   "cell_type": "markdown",
   "metadata": {},
   "source": [
    "**Frequency:** Data may be provided at a frequency that is too high to model or is unvenly spread through time requiring  resampling for use in models.\n",
    "\n",
    "**Outliers:** Data may contain corrupt or extreme outlier values that need to be identified and handled.\n",
    "\n",
    "**Frequency:**\n",
    "\n",
    "* Frequencies may be too granular or not granular enough to get insights.\n",
    "* The pandas library in Pyhton provides the capability to increase or decrease the sampling frequency of the time series data.\n",
    "\n",
    "**Resampling:**\n",
    "\n",
    "* Resampling may be required if the data is not available at the same frequency that you want to make predictions.\n",
    "* Resampling may be required to provide additional structure or insight into the learning problem for supervised learning models."
   ]
  },
  {
   "cell_type": "markdown",
   "metadata": {},
   "source": [
    "**Up-sampling**\n",
    "* Increase the frequencies of the sample, example: months to days\n",
    "* Care may be needed in deciding how the fine-grained observations are calculated using interpolation.\n",
    "\n",
    "* The function, resample() available in the pandas library works on the Series and DataFrame objects.\n",
    "* This can be used to group records when down-sampling and make space for new observations when up-sampling."
   ]
  },
  {
   "cell_type": "markdown",
   "metadata": {},
   "source": [
    "### Example 12\n",
    "\n",
    "**Up-sampling frequency**\n",
    "\n",
    "* The observations in the Shampoo Sales are monthly. We need to up-sample the frequency from monthly to daily and use an interpolation scheme to fill in the new daily frequency.\n",
    "\n",
    "* We can use this function to transform our monthly dataset into a daily dataset by calling resampling and specifying preferred frequency of calendar day frequency or D."
   ]
  },
  {
   "cell_type": "code",
   "execution_count": 7,
   "metadata": {},
   "outputs": [
    {
     "data": {
      "text/plain": [
       "(36, 2)"
      ]
     },
     "execution_count": 7,
     "metadata": {},
     "output_type": "execute_result"
    }
   ],
   "source": [
    "\n",
    "tseries = read_csv('shampoo-sales.csv')\n",
    "tseries.shape"
   ]
  },
  {
   "cell_type": "code",
   "execution_count": 11,
   "metadata": {
    "ExecuteTime": {
     "end_time": "2020-06-17T13:45:19.927295Z",
     "start_time": "2020-06-17T13:45:19.460844Z"
    }
   },
   "outputs": [
    {
     "name": "stdout",
     "output_type": "stream",
     "text": [
      "Month\n",
      "1901-01-01    266.0\n",
      "1901-01-02      NaN\n",
      "1901-01-03      NaN\n",
      "1901-01-04      NaN\n",
      "1901-01-05      NaN\n",
      "1901-01-06      NaN\n",
      "1901-01-07      NaN\n",
      "1901-01-08      NaN\n",
      "1901-01-09      NaN\n",
      "1901-01-10      NaN\n",
      "1901-01-11      NaN\n",
      "1901-01-12      NaN\n",
      "1901-01-13      NaN\n",
      "1901-01-14      NaN\n",
      "1901-01-15      NaN\n",
      "1901-01-16      NaN\n",
      "1901-01-17      NaN\n",
      "1901-01-18      NaN\n",
      "1901-01-19      NaN\n",
      "1901-01-20      NaN\n",
      "1901-01-21      NaN\n",
      "1901-01-22      NaN\n",
      "1901-01-23      NaN\n",
      "1901-01-24      NaN\n",
      "1901-01-25      NaN\n",
      "1901-01-26      NaN\n",
      "1901-01-27      NaN\n",
      "1901-01-28      NaN\n",
      "1901-01-29      NaN\n",
      "1901-01-30      NaN\n",
      "1901-01-31      NaN\n",
      "1901-02-01    145.9\n",
      "1901-02-02      NaN\n",
      "1901-02-03      NaN\n",
      "1901-02-04      NaN\n",
      "1901-02-05      NaN\n",
      "Freq: D, Name: Sales, dtype: float64\n"
     ]
    }
   ],
   "source": [
    "#upsample to daily sales\n",
    "from   pandas            import read_csv\n",
    "# from     pandas                   import datetime #this particular submodule from pandas will be deprecated in future\n",
    "# versions, thus the next line of code\n",
    "from     datetime                 import datetime\n",
    "import matplotlib.pyplot as     plt\n",
    "\n",
    "def parser(x):\n",
    "       return datetime.strptime('190'+x, '%Y-%m')\n",
    "\n",
    "tseries = read_csv('shampoo-sales.csv', header = 0, index_col = 0, parse_dates = True, \n",
    "                               squeeze = True, date_parser = parser)\n",
    "\n",
    "upsampled_ts = tseries.resample('D').mean()\n",
    "print(upsampled_ts .head(36))"
   ]
  },
  {
   "cell_type": "markdown",
   "metadata": {},
   "source": [
    "### Inference\n",
    "\n",
    "We observe that the resample() function has created the rows by putting NaN values as new values for dates other than day 01. \n",
    "\n",
    "Next we can interpolate the missing  values at this new frequency. The function, interpolate() of pandas library is used to interpolate the missing values. \n",
    "We use a linear interpolation which draws a straight line between available data, on the first day of the month and fills in values at the chosen frequency from this line. \n"
   ]
  },
  {
   "cell_type": "code",
   "execution_count": 12,
   "metadata": {
    "ExecuteTime": {
     "end_time": "2020-06-17T13:45:20.801921Z",
     "start_time": "2020-06-17T13:45:19.934764Z"
    }
   },
   "outputs": [
    {
     "data": {
      "image/png": "[encoded data removed]",
      "text/plain": [
       "<Figure size 432x288 with 1 Axes>"
      ]
     },
     "metadata": {
      "needs_background": "light"
     },
     "output_type": "display_data"
    }
   ],
   "source": [
    "interpolated = upsampled_ts.interpolate(method = 'linear')\n",
    "interpolated.plot()\n",
    "plt.show()"
   ]
  },
  {
   "cell_type": "markdown",
   "metadata": {},
   "source": [
    "**Another common interpolation**\n",
    "\n",
    "* Another common interpolation method is to use a polynomial or a spline to connect the values.\n",
    "This creates more curves and look more natural on many datasets.\n",
    "* Using a spline interpolation requires you specify the order (count of terms in the polynomial). Here, we are using 2."
   ]
  },
  {
   "cell_type": "code",
   "execution_count": 13,
   "metadata": {
    "ExecuteTime": {
     "end_time": "2020-06-17T13:45:21.764773Z",
     "start_time": "2020-06-17T13:45:20.805356Z"
    }
   },
   "outputs": [
    {
     "data": {
      "image/png": "[encoded data removed]",
      "text/plain": [
       "<Figure size 432x288 with 1 Axes>"
      ]
     },
     "metadata": {
      "needs_background": "light"
     },
     "output_type": "display_data"
    }
   ],
   "source": [
    "interpolated1 = upsampled_ts.interpolate(method = 'spline', order = 2)\n",
    "interpolated1.plot()\n",
    "plt.show()"
   ]
  },
  {
   "cell_type": "code",
   "execution_count": 14,
   "metadata": {
    "ExecuteTime": {
     "end_time": "2020-06-17T13:45:21.789465Z",
     "start_time": "2020-06-17T13:45:21.770180Z"
    }
   },
   "outputs": [
    {
     "name": "stdout",
     "output_type": "stream",
     "text": [
      "Month\n",
      "1901-01-01    266.000000\n",
      "1901-01-02    258.630160\n",
      "1901-01-03    251.560886\n",
      "1901-01-04    244.720748\n",
      "1901-01-05    238.109746\n",
      "1901-01-06    231.727880\n",
      "1901-01-07    225.575149\n",
      "1901-01-08    219.651553\n",
      "1901-01-09    213.957094\n",
      "1901-01-10    208.491770\n",
      "1901-01-11    203.255582\n",
      "1901-01-12    198.248529\n",
      "Freq: D, Name: Sales, dtype: float64\n"
     ]
    }
   ],
   "source": [
    "print(interpolated1.head(12))"
   ]
  },
  {
   "cell_type": "markdown",
   "metadata": {},
   "source": [
    "### Example 13\n",
    "\n",
    "**Down-sampling Frequency**\n",
    "\n",
    "* The sales data is monthly, but we prefer the data to be quarterly. The year can be divided into 4 business quarters, 3 months a piece. \n",
    "* The resample() function will group all observations by the new frequency.\n",
    "* We need to decide how to create a new quarterly value from each group of 3 records. We shall use the mean() function to calculate the average monthly sales numbers for the quarter"
   ]
  },
  {
   "cell_type": "code",
   "execution_count": 16,
   "metadata": {
    "ExecuteTime": {
     "end_time": "2020-06-17T13:45:22.358611Z",
     "start_time": "2020-06-17T13:45:21.791789Z"
    }
   },
   "outputs": [
    {
     "name": "stdout",
     "output_type": "stream",
     "text": [
      "Month\n",
      "1901-03-31    198.333333\n",
      "1901-06-30    156.033333\n",
      "1901-09-30    216.366667\n",
      "1901-12-31    215.100000\n",
      "1902-03-31    184.633333\n",
      "Freq: Q-DEC, Name: Sales, dtype: float64\n"
     ]
    },
    {
     "data": {
      "image/png": "[encoded data removed]",
      "text/plain": [
       "<Figure size 432x288 with 1 Axes>"
      ]
     },
     "metadata": {
      "needs_background": "light"
     },
     "output_type": "display_data"
    }
   ],
   "source": [
    "resample             = tseries.resample('Q')\n",
    "quarterly_mean_sales = resample.mean()\n",
    "print(quarterly_mean_sales.head())\n",
    "quarterly_mean_sales.plot()\n",
    "plt.show()"
   ]
  },
  {
   "cell_type": "markdown",
   "metadata": {},
   "source": [
    "### Example 14\n",
    "\n",
    "We can turn monthly data into yearly data. Down-sample the data using the alias, A for year-end frequency and this time use sum to calculate the total sales each year."
   ]
  },
  {
   "cell_type": "code",
   "execution_count": 17,
   "metadata": {
    "ExecuteTime": {
     "end_time": "2020-06-17T13:45:22.717366Z",
     "start_time": "2020-06-17T13:45:22.363714Z"
    }
   },
   "outputs": [
    {
     "name": "stdout",
     "output_type": "stream",
     "text": [
      "Month\n",
      "1901-12-31    2357.5\n",
      "1902-12-31    3153.5\n",
      "1903-12-31    5742.6\n",
      "Freq: A-DEC, Name: Sales, dtype: float64\n"
     ]
    },
    {
     "data": {
      "image/png": "[encoded data removed]",
      "text/plain": [
       "<Figure size 432x288 with 1 Axes>"
      ]
     },
     "metadata": {
      "needs_background": "light"
     },
     "output_type": "display_data"
    }
   ],
   "source": [
    "resample = tseries.resample('A')\n",
    "yearly_mean_sales = resample.sum()\n",
    "print(yearly_mean_sales.head() )\n",
    "yearly_mean_sales.plot()\n",
    "plt.show()"
   ]
  },
  {
   "cell_type": "markdown",
   "metadata": {},
   "source": [
    "**Outliers**\n",
    "Data may contain corrupt or extreme outlier values that need to be identified and handled.\n",
    "\n",
    "####  Detection of outliers in time series is difficult.\n",
    "* If a trend is present in the data, then usual method of detecting outliers by boxplot may not work.\n",
    "* If seasonality is present in the data, one particular season's data may be too small or too large compared to others.\n",
    "\n",
    "#### Decomposition helps in identifying unsual observations\n",
    "\n",
    "* If trend and seasonality are not adequate to explain the observation\n",
    "\n",
    "#### Outliers cannot be eliminated - they need to be imputed as closely as possible by using the knowledge gained from decomposition."
   ]
  },
  {
   "cell_type": "markdown",
   "metadata": {},
   "source": [
    "# END"
   ]
  }
 ],
 "metadata": {
  "kernelspec": {
   "display_name": "Python 3",
   "language": "python",
   "name": "python3"
  },
  "language_info": {
   "codemirror_mode": {
    "name": "ipython",
    "version": 3
   },
   "file_extension": ".py",
   "mimetype": "text/x-python",
   "name": "python",
   "nbconvert_exporter": "python",
   "pygments_lexer": "ipython3",
   "version": "3.8.8"
  },
  "toc": {
   "base_numbering": 1,
   "nav_menu": {},
   "number_sections": true,
   "sideBar": true,
   "skip_h1_title": false,
   "title_cell": "Table of Contents",
   "title_sidebar": "Contents",
   "toc_cell": false,
   "toc_position": {},
   "toc_section_display": true,
   "toc_window_display": false
  },
  "varInspector": {
   "cols": {
    "lenName": 16,
    "lenType": 16,
    "lenVar": 40
   },
   "kernels_config": {
    "python": {
     "delete_cmd_postfix": "",
     "delete_cmd_prefix": "del ",
     "library": "var_list.py",
     "varRefreshCmd": "print(var_dic_list())"
    },
    "r": {
     "delete_cmd_postfix": ") ",
     "delete_cmd_prefix": "rm(",
     "library": "var_list.r",
     "varRefreshCmd": "cat(var_dic_list()) "
    }
   },
   "types_to_exclude": [
    "module",
    "function",
    "builtin_function_or_method",
    "instance",
    "_Feature"
   ],
   "window_display": false
  }
 },
 "nbformat": 4,
 "nbformat_minor": 2
}
