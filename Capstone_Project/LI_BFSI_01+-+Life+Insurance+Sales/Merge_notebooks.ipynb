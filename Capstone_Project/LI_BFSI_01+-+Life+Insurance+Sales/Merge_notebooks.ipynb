{
 "cells": [
  {
   "cell_type": "code",
   "execution_count": 1,
   "id": "3f7e1ee0",
   "metadata": {},
   "outputs": [],
   "source": [
    "import json\n",
    "\n",
    "def read_ipynb(notebook_path):\n",
    "    with open(notebook_path, 'r', encoding='utf-8') as f:\n",
    "        return json.load(f)"
   ]
  },
  {
   "cell_type": "code",
   "execution_count": 2,
   "id": "0ed24b35",
   "metadata": {},
   "outputs": [],
   "source": [
    "first_notebook = read_ipynb('Amit_Jain_LI_BFSI_01+-+Life+Insurance+Sales_Project Notes -1 submission.ipynb')\n",
    "second_notebook = read_ipynb('Amit_Jain_LI_BFSI_01+-+Life+Insurance+Sales_Project Notes -2- submission.ipynb')"
   ]
  },
  {
   "cell_type": "code",
   "execution_count": 3,
   "id": "ffb8b14b",
   "metadata": {},
   "outputs": [],
   "source": [
    "import copy\n",
    "Amit_Jain_Capstone_project = copy.deepcopy(first_notebook)"
   ]
  },
  {
   "cell_type": "code",
   "execution_count": 4,
   "id": "a2b0fd20",
   "metadata": {},
   "outputs": [],
   "source": [
    "Amit_Jain_Capstone_project['cells'] = first_notebook['cells'] + second_notebook['cells']"
   ]
  },
  {
   "cell_type": "code",
   "execution_count": 5,
   "id": "c220ed73",
   "metadata": {},
   "outputs": [],
   "source": [
    "def write_ipynb(notebook, notebook_path):\n",
    "    with open(notebook_path, 'w', encoding='utf-8') as f:\n",
    "        json.dump(notebook, f)\n",
    "\n",
    "# Saving the resulting notebook\n",
    "write_ipynb(Amit_Jain_Capstone_project, 'Amit_Jain_Capstone_project_15_jan_2023.ipynb')"
   ]
  },
  {
   "cell_type": "code",
   "execution_count": null,
   "id": "8b6b6c09",
   "metadata": {},
   "outputs": [],
   "source": []
  },
  {
   "cell_type": "code",
   "execution_count": null,
   "id": "261f2641",
   "metadata": {},
   "outputs": [],
   "source": []
  },
  {
   "cell_type": "code",
   "execution_count": null,
   "id": "d0f1d412",
   "metadata": {},
   "outputs": [],
   "source": []
  },
  {
   "cell_type": "code",
   "execution_count": null,
   "id": "c1df05ef",
   "metadata": {},
   "outputs": [],
   "source": []
  },
  {
   "cell_type": "code",
   "execution_count": null,
   "id": "7959ca31",
   "metadata": {},
   "outputs": [],
   "source": []
  },
  {
   "cell_type": "code",
   "execution_count": null,
   "id": "6fd5d743",
   "metadata": {},
   "outputs": [],
   "source": []
  },
  {
   "cell_type": "code",
   "execution_count": null,
   "id": "0cfbe58e",
   "metadata": {},
   "outputs": [],
   "source": []
  }
 ],
 "metadata": {
  "kernelspec": {
   "display_name": "Python 3",
   "language": "python",
   "name": "python3"
  },
  "language_info": {
   "codemirror_mode": {
    "name": "ipython",
    "version": 3
   },
   "file_extension": ".py",
   "mimetype": "text/x-python",
   "name": "python",
   "nbconvert_exporter": "python",
   "pygments_lexer": "ipython3",
   "version": "3.8.8"
  }
 },
 "nbformat": 4,
 "nbformat_minor": 5
}
