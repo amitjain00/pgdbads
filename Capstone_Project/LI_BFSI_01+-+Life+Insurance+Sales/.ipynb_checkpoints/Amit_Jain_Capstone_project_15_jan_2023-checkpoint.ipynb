{
 "cells": [
  {
   "cell_type": "markdown",
   "id": "342be4e4",
   "metadata": {},
   "source": [
    "# Problem Statement: Life Insurance Data\n",
    "\n",
    "## The dataset belongs to a leading life insurance company. The company wants to predict the bonus for its agents so that it may design appropriate engagement activity for their high  performing agents and upskill programs for low performing agents."
   ]
  },
  {
   "cell_type": "markdown",
   "id": "6964c9be",
   "metadata": {},
   "source": [
    "### Step -1 . Read the data and do exploratory data analysis. Describe the data briefly. (Check the null values, Data types, shape, EDA, duplicate values). Perform Univariate and Bivariate Analysis."
   ]
  },
  {
   "cell_type": "code",
   "execution_count": 1,
   "id": "0e80ab5d",
   "metadata": {},
   "outputs": [],
   "source": [
    "#Import necessary libraries\n",
    "import pandas as pd\n",
    "import numpy as np\n",
    "import seaborn as sns\n",
    "import matplotlib.pyplot as plt   \n",
    "import matplotlib.style\n",
    "%matplotlib inline\n",
    "\n",
    "from sklearn.model_selection import train_test_split\n",
    "from sklearn.metrics import roc_auc_score,roc_curve,classification_report,confusion_matrix,plot_confusion_matrix\n",
    "from sklearn.linear_model import LinearRegression\n",
    "from sklearn import metrics\n",
    "import scipy.stats as stats\n",
    "from warnings import filterwarnings\n",
    "filterwarnings('ignore')"
   ]
  },
  {
   "cell_type": "code",
   "execution_count": 2,
   "id": "74c47bdd",
   "metadata": {},
   "outputs": [
    {
     "data": {
      "text/html": [
       "<div>\n",
       "<style scoped>\n",
       "    .dataframe tbody tr th:only-of-type {\n",
       "        vertical-align: middle;\n",
       "    }\n",
       "\n",
       "    .dataframe tbody tr th {\n",
       "        vertical-align: top;\n",
       "    }\n",
       "\n",
       "    .dataframe thead th {\n",
       "        text-align: right;\n",
       "    }\n",
       "</style>\n",
       "<table border=\"1\" class=\"dataframe\">\n",
       "  <thead>\n",
       "    <tr style=\"text-align: right;\">\n",
       "      <th></th>\n",
       "      <th>CustID</th>\n",
       "      <th>AgentBonus</th>\n",
       "      <th>Age</th>\n",
       "      <th>CustTenure</th>\n",
       "      <th>Channel</th>\n",
       "      <th>Occupation</th>\n",
       "      <th>EducationField</th>\n",
       "      <th>Gender</th>\n",
       "      <th>ExistingProdType</th>\n",
       "      <th>Designation</th>\n",
       "      <th>NumberOfPolicy</th>\n",
       "      <th>MaritalStatus</th>\n",
       "      <th>MonthlyIncome</th>\n",
       "      <th>Complaint</th>\n",
       "      <th>ExistingPolicyTenure</th>\n",
       "      <th>SumAssured</th>\n",
       "      <th>Zone</th>\n",
       "      <th>PaymentMethod</th>\n",
       "      <th>LastMonthCalls</th>\n",
       "      <th>CustCareScore</th>\n",
       "    </tr>\n",
       "  </thead>\n",
       "  <tbody>\n",
       "    <tr>\n",
       "      <th>0</th>\n",
       "      <td>7000000</td>\n",
       "      <td>4409</td>\n",
       "      <td>22.0</td>\n",
       "      <td>4.0</td>\n",
       "      <td>Agent</td>\n",
       "      <td>Salaried</td>\n",
       "      <td>Graduate</td>\n",
       "      <td>Female</td>\n",
       "      <td>3</td>\n",
       "      <td>Manager</td>\n",
       "      <td>2.0</td>\n",
       "      <td>Single</td>\n",
       "      <td>20993.0</td>\n",
       "      <td>1</td>\n",
       "      <td>2.0</td>\n",
       "      <td>806761.0</td>\n",
       "      <td>North</td>\n",
       "      <td>Half Yearly</td>\n",
       "      <td>5</td>\n",
       "      <td>2.0</td>\n",
       "    </tr>\n",
       "    <tr>\n",
       "      <th>1</th>\n",
       "      <td>7000001</td>\n",
       "      <td>2214</td>\n",
       "      <td>11.0</td>\n",
       "      <td>2.0</td>\n",
       "      <td>Third Party Partner</td>\n",
       "      <td>Salaried</td>\n",
       "      <td>Graduate</td>\n",
       "      <td>Male</td>\n",
       "      <td>4</td>\n",
       "      <td>Manager</td>\n",
       "      <td>4.0</td>\n",
       "      <td>Divorced</td>\n",
       "      <td>20130.0</td>\n",
       "      <td>0</td>\n",
       "      <td>3.0</td>\n",
       "      <td>294502.0</td>\n",
       "      <td>North</td>\n",
       "      <td>Yearly</td>\n",
       "      <td>7</td>\n",
       "      <td>3.0</td>\n",
       "    </tr>\n",
       "    <tr>\n",
       "      <th>2</th>\n",
       "      <td>7000002</td>\n",
       "      <td>4273</td>\n",
       "      <td>26.0</td>\n",
       "      <td>4.0</td>\n",
       "      <td>Agent</td>\n",
       "      <td>Free Lancer</td>\n",
       "      <td>Post Graduate</td>\n",
       "      <td>Male</td>\n",
       "      <td>4</td>\n",
       "      <td>Exe</td>\n",
       "      <td>3.0</td>\n",
       "      <td>Unmarried</td>\n",
       "      <td>17090.0</td>\n",
       "      <td>1</td>\n",
       "      <td>2.0</td>\n",
       "      <td>NaN</td>\n",
       "      <td>North</td>\n",
       "      <td>Yearly</td>\n",
       "      <td>0</td>\n",
       "      <td>3.0</td>\n",
       "    </tr>\n",
       "    <tr>\n",
       "      <th>3</th>\n",
       "      <td>7000003</td>\n",
       "      <td>1791</td>\n",
       "      <td>11.0</td>\n",
       "      <td>NaN</td>\n",
       "      <td>Third Party Partner</td>\n",
       "      <td>Salaried</td>\n",
       "      <td>Graduate</td>\n",
       "      <td>Fe male</td>\n",
       "      <td>3</td>\n",
       "      <td>Executive</td>\n",
       "      <td>3.0</td>\n",
       "      <td>Divorced</td>\n",
       "      <td>17909.0</td>\n",
       "      <td>1</td>\n",
       "      <td>2.0</td>\n",
       "      <td>268635.0</td>\n",
       "      <td>West</td>\n",
       "      <td>Half Yearly</td>\n",
       "      <td>0</td>\n",
       "      <td>5.0</td>\n",
       "    </tr>\n",
       "    <tr>\n",
       "      <th>4</th>\n",
       "      <td>7000004</td>\n",
       "      <td>2955</td>\n",
       "      <td>6.0</td>\n",
       "      <td>NaN</td>\n",
       "      <td>Agent</td>\n",
       "      <td>Small Business</td>\n",
       "      <td>UG</td>\n",
       "      <td>Male</td>\n",
       "      <td>3</td>\n",
       "      <td>Executive</td>\n",
       "      <td>4.0</td>\n",
       "      <td>Divorced</td>\n",
       "      <td>18468.0</td>\n",
       "      <td>0</td>\n",
       "      <td>4.0</td>\n",
       "      <td>366405.0</td>\n",
       "      <td>West</td>\n",
       "      <td>Half Yearly</td>\n",
       "      <td>2</td>\n",
       "      <td>5.0</td>\n",
       "    </tr>\n",
       "  </tbody>\n",
       "</table>\n",
       "</div>"
      ],
      "text/plain": [
       "    CustID  AgentBonus   Age  CustTenure              Channel      Occupation  \\\n",
       "0  7000000        4409  22.0         4.0                Agent        Salaried   \n",
       "1  7000001        2214  11.0         2.0  Third Party Partner        Salaried   \n",
       "2  7000002        4273  26.0         4.0                Agent     Free Lancer   \n",
       "3  7000003        1791  11.0         NaN  Third Party Partner        Salaried   \n",
       "4  7000004        2955   6.0         NaN                Agent  Small Business   \n",
       "\n",
       "  EducationField   Gender  ExistingProdType Designation  NumberOfPolicy  \\\n",
       "0       Graduate   Female                 3     Manager             2.0   \n",
       "1       Graduate     Male                 4     Manager             4.0   \n",
       "2  Post Graduate     Male                 4         Exe             3.0   \n",
       "3       Graduate  Fe male                 3   Executive             3.0   \n",
       "4             UG     Male                 3   Executive             4.0   \n",
       "\n",
       "  MaritalStatus  MonthlyIncome  Complaint  ExistingPolicyTenure  SumAssured  \\\n",
       "0        Single        20993.0          1                   2.0    806761.0   \n",
       "1      Divorced        20130.0          0                   3.0    294502.0   \n",
       "2     Unmarried        17090.0          1                   2.0         NaN   \n",
       "3      Divorced        17909.0          1                   2.0    268635.0   \n",
       "4      Divorced        18468.0          0                   4.0    366405.0   \n",
       "\n",
       "    Zone PaymentMethod  LastMonthCalls  CustCareScore  \n",
       "0  North   Half Yearly               5            2.0  \n",
       "1  North        Yearly               7            3.0  \n",
       "2  North        Yearly               0            3.0  \n",
       "3   West   Half Yearly               0            5.0  \n",
       "4   West   Half Yearly               2            5.0  "
      ]
     },
     "execution_count": 2,
     "metadata": {},
     "output_type": "execute_result"
    }
   ],
   "source": [
    "df = pd.read_excel(\"Sales.xlsx\", sheet_name='Sales')\n",
    "df.head()"
   ]
  },
  {
   "cell_type": "code",
   "execution_count": 3,
   "id": "bec3e792",
   "metadata": {},
   "outputs": [
    {
     "data": {
      "text/plain": [
       "(4520, 20)"
      ]
     },
     "execution_count": 3,
     "metadata": {},
     "output_type": "execute_result"
    }
   ],
   "source": [
    "df.shape"
   ]
  },
  {
   "cell_type": "code",
   "execution_count": 4,
   "id": "59c3c05a",
   "metadata": {},
   "outputs": [
    {
     "name": "stdout",
     "output_type": "stream",
     "text": [
      "Data has  4520  rows and   20  columns \n"
     ]
    }
   ],
   "source": [
    "print(\"Data has \", df.shape[0],\" rows and  \",df.shape[1],\" columns \")"
   ]
  },
  {
   "cell_type": "raw",
   "id": "70ee055e",
   "metadata": {},
   "source": [
    "Data Dictionary:\n",
    "\n",
    "Variable Name\tDescription\n",
    "\n",
    "Sales : CustID =>Unique customer ID\n",
    "Sales : AgentBonus =>Bonus amount given to each agents in last month\n",
    "Sales : Age =>Age of customer\n",
    "Sales : CustTenure =>Tenure of customer in organization\n",
    "Sales : Channel =>Channel through which acquisition of customer is done\n",
    "Sales : Occupation =>Occupation of customer\n",
    "Sales : EducationField =>Field of education of customer\n",
    "Sales : Gender =>Gender of customer\n",
    "Sales : ExistingProdType =>Existing product type of customer\n",
    "Sales : Designation =>Designation of customer in their organization\n",
    "Sales : NumberOfPolicy =>Total number of existing policy of a customer\n",
    "Sales : MaritalStatus =>Marital status of customer\n",
    "Sales : MonthlyIncome =>Gross monthly income of customer\n",
    "Sales : Complaint =>Indicator of complaint registered in last one month by customer\n",
    "Sales : ExistingPolicyTenure =>Max tenure in all existing policies of customer\n",
    "Sales : SumAssured =>Max of sum assured in all existing policies of customer\n",
    "Sales : Zone =>Customer belongs to which zone in India. Like East, West, North and South\n",
    "Sales : PaymentMethod =>Frequency of payment selected by customer like Monthly, quarterly, half yearly and yearly\n",
    "Sales : LastMonthCalls =>Total calls attempted by company to a customer for cross sell\n",
    "Sales : CustCareScore =>Customer satisfaction score given by customer in previous service call\n"
   ]
  },
  {
   "cell_type": "code",
   "execution_count": 5,
   "id": "d58d6068",
   "metadata": {},
   "outputs": [
    {
     "data": {
      "text/html": [
       "<div>\n",
       "<style scoped>\n",
       "    .dataframe tbody tr th:only-of-type {\n",
       "        vertical-align: middle;\n",
       "    }\n",
       "\n",
       "    .dataframe tbody tr th {\n",
       "        vertical-align: top;\n",
       "    }\n",
       "\n",
       "    .dataframe thead th {\n",
       "        text-align: right;\n",
       "    }\n",
       "</style>\n",
       "<table border=\"1\" class=\"dataframe\">\n",
       "  <thead>\n",
       "    <tr style=\"text-align: right;\">\n",
       "      <th></th>\n",
       "      <th>count</th>\n",
       "      <th>unique</th>\n",
       "      <th>top</th>\n",
       "      <th>freq</th>\n",
       "      <th>mean</th>\n",
       "      <th>std</th>\n",
       "      <th>min</th>\n",
       "      <th>25%</th>\n",
       "      <th>50%</th>\n",
       "      <th>75%</th>\n",
       "      <th>max</th>\n",
       "    </tr>\n",
       "  </thead>\n",
       "  <tbody>\n",
       "    <tr>\n",
       "      <th>CustID</th>\n",
       "      <td>4520.0</td>\n",
       "      <td>NaN</td>\n",
       "      <td>NaN</td>\n",
       "      <td>NaN</td>\n",
       "      <td>7002259.5</td>\n",
       "      <td>1304.955938</td>\n",
       "      <td>7000000.0</td>\n",
       "      <td>7001129.75</td>\n",
       "      <td>7002259.5</td>\n",
       "      <td>7003389.25</td>\n",
       "      <td>7004519.0</td>\n",
       "    </tr>\n",
       "    <tr>\n",
       "      <th>AgentBonus</th>\n",
       "      <td>4520.0</td>\n",
       "      <td>NaN</td>\n",
       "      <td>NaN</td>\n",
       "      <td>NaN</td>\n",
       "      <td>4077.838274</td>\n",
       "      <td>1403.321711</td>\n",
       "      <td>1605.0</td>\n",
       "      <td>3027.75</td>\n",
       "      <td>3911.5</td>\n",
       "      <td>4867.25</td>\n",
       "      <td>9608.0</td>\n",
       "    </tr>\n",
       "    <tr>\n",
       "      <th>Age</th>\n",
       "      <td>4251.0</td>\n",
       "      <td>NaN</td>\n",
       "      <td>NaN</td>\n",
       "      <td>NaN</td>\n",
       "      <td>14.494707</td>\n",
       "      <td>9.037629</td>\n",
       "      <td>2.0</td>\n",
       "      <td>7.0</td>\n",
       "      <td>13.0</td>\n",
       "      <td>20.0</td>\n",
       "      <td>58.0</td>\n",
       "    </tr>\n",
       "    <tr>\n",
       "      <th>CustTenure</th>\n",
       "      <td>4294.0</td>\n",
       "      <td>NaN</td>\n",
       "      <td>NaN</td>\n",
       "      <td>NaN</td>\n",
       "      <td>14.469027</td>\n",
       "      <td>8.963671</td>\n",
       "      <td>2.0</td>\n",
       "      <td>7.0</td>\n",
       "      <td>13.0</td>\n",
       "      <td>20.0</td>\n",
       "      <td>57.0</td>\n",
       "    </tr>\n",
       "    <tr>\n",
       "      <th>Channel</th>\n",
       "      <td>4520</td>\n",
       "      <td>3</td>\n",
       "      <td>Agent</td>\n",
       "      <td>3194</td>\n",
       "      <td>NaN</td>\n",
       "      <td>NaN</td>\n",
       "      <td>NaN</td>\n",
       "      <td>NaN</td>\n",
       "      <td>NaN</td>\n",
       "      <td>NaN</td>\n",
       "      <td>NaN</td>\n",
       "    </tr>\n",
       "    <tr>\n",
       "      <th>Occupation</th>\n",
       "      <td>4520</td>\n",
       "      <td>5</td>\n",
       "      <td>Salaried</td>\n",
       "      <td>2192</td>\n",
       "      <td>NaN</td>\n",
       "      <td>NaN</td>\n",
       "      <td>NaN</td>\n",
       "      <td>NaN</td>\n",
       "      <td>NaN</td>\n",
       "      <td>NaN</td>\n",
       "      <td>NaN</td>\n",
       "    </tr>\n",
       "    <tr>\n",
       "      <th>EducationField</th>\n",
       "      <td>4520</td>\n",
       "      <td>7</td>\n",
       "      <td>Graduate</td>\n",
       "      <td>1870</td>\n",
       "      <td>NaN</td>\n",
       "      <td>NaN</td>\n",
       "      <td>NaN</td>\n",
       "      <td>NaN</td>\n",
       "      <td>NaN</td>\n",
       "      <td>NaN</td>\n",
       "      <td>NaN</td>\n",
       "    </tr>\n",
       "    <tr>\n",
       "      <th>Gender</th>\n",
       "      <td>4520</td>\n",
       "      <td>3</td>\n",
       "      <td>Male</td>\n",
       "      <td>2688</td>\n",
       "      <td>NaN</td>\n",
       "      <td>NaN</td>\n",
       "      <td>NaN</td>\n",
       "      <td>NaN</td>\n",
       "      <td>NaN</td>\n",
       "      <td>NaN</td>\n",
       "      <td>NaN</td>\n",
       "    </tr>\n",
       "    <tr>\n",
       "      <th>ExistingProdType</th>\n",
       "      <td>4520.0</td>\n",
       "      <td>NaN</td>\n",
       "      <td>NaN</td>\n",
       "      <td>NaN</td>\n",
       "      <td>3.688938</td>\n",
       "      <td>1.015769</td>\n",
       "      <td>1.0</td>\n",
       "      <td>3.0</td>\n",
       "      <td>4.0</td>\n",
       "      <td>4.0</td>\n",
       "      <td>6.0</td>\n",
       "    </tr>\n",
       "    <tr>\n",
       "      <th>Designation</th>\n",
       "      <td>4520</td>\n",
       "      <td>6</td>\n",
       "      <td>Manager</td>\n",
       "      <td>1620</td>\n",
       "      <td>NaN</td>\n",
       "      <td>NaN</td>\n",
       "      <td>NaN</td>\n",
       "      <td>NaN</td>\n",
       "      <td>NaN</td>\n",
       "      <td>NaN</td>\n",
       "      <td>NaN</td>\n",
       "    </tr>\n",
       "    <tr>\n",
       "      <th>NumberOfPolicy</th>\n",
       "      <td>4475.0</td>\n",
       "      <td>NaN</td>\n",
       "      <td>NaN</td>\n",
       "      <td>NaN</td>\n",
       "      <td>3.565363</td>\n",
       "      <td>1.455926</td>\n",
       "      <td>1.0</td>\n",
       "      <td>2.0</td>\n",
       "      <td>4.0</td>\n",
       "      <td>5.0</td>\n",
       "      <td>6.0</td>\n",
       "    </tr>\n",
       "    <tr>\n",
       "      <th>MaritalStatus</th>\n",
       "      <td>4520</td>\n",
       "      <td>4</td>\n",
       "      <td>Married</td>\n",
       "      <td>2268</td>\n",
       "      <td>NaN</td>\n",
       "      <td>NaN</td>\n",
       "      <td>NaN</td>\n",
       "      <td>NaN</td>\n",
       "      <td>NaN</td>\n",
       "      <td>NaN</td>\n",
       "      <td>NaN</td>\n",
       "    </tr>\n",
       "    <tr>\n",
       "      <th>MonthlyIncome</th>\n",
       "      <td>4284.0</td>\n",
       "      <td>NaN</td>\n",
       "      <td>NaN</td>\n",
       "      <td>NaN</td>\n",
       "      <td>22890.309991</td>\n",
       "      <td>4885.600757</td>\n",
       "      <td>16009.0</td>\n",
       "      <td>19683.5</td>\n",
       "      <td>21606.0</td>\n",
       "      <td>24725.0</td>\n",
       "      <td>38456.0</td>\n",
       "    </tr>\n",
       "    <tr>\n",
       "      <th>Complaint</th>\n",
       "      <td>4520.0</td>\n",
       "      <td>NaN</td>\n",
       "      <td>NaN</td>\n",
       "      <td>NaN</td>\n",
       "      <td>0.287168</td>\n",
       "      <td>0.452491</td>\n",
       "      <td>0.0</td>\n",
       "      <td>0.0</td>\n",
       "      <td>0.0</td>\n",
       "      <td>1.0</td>\n",
       "      <td>1.0</td>\n",
       "    </tr>\n",
       "    <tr>\n",
       "      <th>ExistingPolicyTenure</th>\n",
       "      <td>4336.0</td>\n",
       "      <td>NaN</td>\n",
       "      <td>NaN</td>\n",
       "      <td>NaN</td>\n",
       "      <td>4.130074</td>\n",
       "      <td>3.346386</td>\n",
       "      <td>1.0</td>\n",
       "      <td>2.0</td>\n",
       "      <td>3.0</td>\n",
       "      <td>6.0</td>\n",
       "      <td>25.0</td>\n",
       "    </tr>\n",
       "    <tr>\n",
       "      <th>SumAssured</th>\n",
       "      <td>4366.0</td>\n",
       "      <td>NaN</td>\n",
       "      <td>NaN</td>\n",
       "      <td>NaN</td>\n",
       "      <td>619999.699267</td>\n",
       "      <td>246234.82214</td>\n",
       "      <td>168536.0</td>\n",
       "      <td>439443.25</td>\n",
       "      <td>578976.5</td>\n",
       "      <td>758236.0</td>\n",
       "      <td>1838496.0</td>\n",
       "    </tr>\n",
       "    <tr>\n",
       "      <th>Zone</th>\n",
       "      <td>4520</td>\n",
       "      <td>4</td>\n",
       "      <td>West</td>\n",
       "      <td>2566</td>\n",
       "      <td>NaN</td>\n",
       "      <td>NaN</td>\n",
       "      <td>NaN</td>\n",
       "      <td>NaN</td>\n",
       "      <td>NaN</td>\n",
       "      <td>NaN</td>\n",
       "      <td>NaN</td>\n",
       "    </tr>\n",
       "    <tr>\n",
       "      <th>PaymentMethod</th>\n",
       "      <td>4520</td>\n",
       "      <td>4</td>\n",
       "      <td>Half Yearly</td>\n",
       "      <td>2656</td>\n",
       "      <td>NaN</td>\n",
       "      <td>NaN</td>\n",
       "      <td>NaN</td>\n",
       "      <td>NaN</td>\n",
       "      <td>NaN</td>\n",
       "      <td>NaN</td>\n",
       "      <td>NaN</td>\n",
       "    </tr>\n",
       "    <tr>\n",
       "      <th>LastMonthCalls</th>\n",
       "      <td>4520.0</td>\n",
       "      <td>NaN</td>\n",
       "      <td>NaN</td>\n",
       "      <td>NaN</td>\n",
       "      <td>4.626991</td>\n",
       "      <td>3.620132</td>\n",
       "      <td>0.0</td>\n",
       "      <td>2.0</td>\n",
       "      <td>3.0</td>\n",
       "      <td>8.0</td>\n",
       "      <td>18.0</td>\n",
       "    </tr>\n",
       "    <tr>\n",
       "      <th>CustCareScore</th>\n",
       "      <td>4468.0</td>\n",
       "      <td>NaN</td>\n",
       "      <td>NaN</td>\n",
       "      <td>NaN</td>\n",
       "      <td>3.067592</td>\n",
       "      <td>1.382968</td>\n",
       "      <td>1.0</td>\n",
       "      <td>2.0</td>\n",
       "      <td>3.0</td>\n",
       "      <td>4.0</td>\n",
       "      <td>5.0</td>\n",
       "    </tr>\n",
       "  </tbody>\n",
       "</table>\n",
       "</div>"
      ],
      "text/plain": [
       "                       count unique          top  freq           mean  \\\n",
       "CustID                4520.0    NaN          NaN   NaN      7002259.5   \n",
       "AgentBonus            4520.0    NaN          NaN   NaN    4077.838274   \n",
       "Age                   4251.0    NaN          NaN   NaN      14.494707   \n",
       "CustTenure            4294.0    NaN          NaN   NaN      14.469027   \n",
       "Channel                 4520      3        Agent  3194            NaN   \n",
       "Occupation              4520      5     Salaried  2192            NaN   \n",
       "EducationField          4520      7     Graduate  1870            NaN   \n",
       "Gender                  4520      3         Male  2688            NaN   \n",
       "ExistingProdType      4520.0    NaN          NaN   NaN       3.688938   \n",
       "Designation             4520      6      Manager  1620            NaN   \n",
       "NumberOfPolicy        4475.0    NaN          NaN   NaN       3.565363   \n",
       "MaritalStatus           4520      4      Married  2268            NaN   \n",
       "MonthlyIncome         4284.0    NaN          NaN   NaN   22890.309991   \n",
       "Complaint             4520.0    NaN          NaN   NaN       0.287168   \n",
       "ExistingPolicyTenure  4336.0    NaN          NaN   NaN       4.130074   \n",
       "SumAssured            4366.0    NaN          NaN   NaN  619999.699267   \n",
       "Zone                    4520      4         West  2566            NaN   \n",
       "PaymentMethod           4520      4  Half Yearly  2656            NaN   \n",
       "LastMonthCalls        4520.0    NaN          NaN   NaN       4.626991   \n",
       "CustCareScore         4468.0    NaN          NaN   NaN       3.067592   \n",
       "\n",
       "                               std        min         25%        50%  \\\n",
       "CustID                 1304.955938  7000000.0  7001129.75  7002259.5   \n",
       "AgentBonus             1403.321711     1605.0     3027.75     3911.5   \n",
       "Age                       9.037629        2.0         7.0       13.0   \n",
       "CustTenure                8.963671        2.0         7.0       13.0   \n",
       "Channel                        NaN        NaN         NaN        NaN   \n",
       "Occupation                     NaN        NaN         NaN        NaN   \n",
       "EducationField                 NaN        NaN         NaN        NaN   \n",
       "Gender                         NaN        NaN         NaN        NaN   \n",
       "ExistingProdType          1.015769        1.0         3.0        4.0   \n",
       "Designation                    NaN        NaN         NaN        NaN   \n",
       "NumberOfPolicy            1.455926        1.0         2.0        4.0   \n",
       "MaritalStatus                  NaN        NaN         NaN        NaN   \n",
       "MonthlyIncome          4885.600757    16009.0     19683.5    21606.0   \n",
       "Complaint                 0.452491        0.0         0.0        0.0   \n",
       "ExistingPolicyTenure      3.346386        1.0         2.0        3.0   \n",
       "SumAssured            246234.82214   168536.0   439443.25   578976.5   \n",
       "Zone                           NaN        NaN         NaN        NaN   \n",
       "PaymentMethod                  NaN        NaN         NaN        NaN   \n",
       "LastMonthCalls            3.620132        0.0         2.0        3.0   \n",
       "CustCareScore             1.382968        1.0         2.0        3.0   \n",
       "\n",
       "                             75%        max  \n",
       "CustID                7003389.25  7004519.0  \n",
       "AgentBonus               4867.25     9608.0  \n",
       "Age                         20.0       58.0  \n",
       "CustTenure                  20.0       57.0  \n",
       "Channel                      NaN        NaN  \n",
       "Occupation                   NaN        NaN  \n",
       "EducationField               NaN        NaN  \n",
       "Gender                       NaN        NaN  \n",
       "ExistingProdType             4.0        6.0  \n",
       "Designation                  NaN        NaN  \n",
       "NumberOfPolicy               5.0        6.0  \n",
       "MaritalStatus                NaN        NaN  \n",
       "MonthlyIncome            24725.0    38456.0  \n",
       "Complaint                    1.0        1.0  \n",
       "ExistingPolicyTenure         6.0       25.0  \n",
       "SumAssured              758236.0  1838496.0  \n",
       "Zone                         NaN        NaN  \n",
       "PaymentMethod                NaN        NaN  \n",
       "LastMonthCalls               8.0       18.0  \n",
       "CustCareScore                4.0        5.0  "
      ]
     },
     "execution_count": 5,
     "metadata": {},
     "output_type": "execute_result"
    }
   ],
   "source": [
    "df.describe(include='all').T"
   ]
  },
  {
   "cell_type": "raw",
   "id": "27cfa3a0",
   "metadata": {},
   "source": [
    "Insights:\n",
    "1. Agent Bonus : Bonus given to Agents, as well as Target variable. Minimum bonus given as 1605 and Max is 9608\n",
    "2. Age: Customers of all age group from 2 years to 58 years, there are also customers with 0 Age, needs to be corrected\n",
    "3. Customer Tenure: Many customers associated with Company from their Birth\n",
    "4. Existing Prod Type : There are only 6 insurance products\n",
    "5. Number of Policy: Customer can have multiple policies, from insurance company , for their family members or Self , if it is blank, that needs to be corrected\n",
    "6. Monthly income Ranging between about 16K to 38K , if it is blank, needs to be corrected\n",
    "7. Complaint: 0 to 1 complaint in last one month\n",
    "8. Gender showing as 3 ,: this needs to be corrected\n",
    "9. Occupation : Different Occupations, there can be multiple business with same name, needs to be corrected\n",
    "10. Education : can have similar names of degrees, needs to be corrected\n",
    "11. Designation: can be duplicate\n",
    "12. existing Policy tenure. if it is blank needs to be corrected\n",
    "13. Sum Assured : if it is blank  needs to be corrected\n",
    "14. Customer care score. needs to be corrected if it is blank"
   ]
  },
  {
   "cell_type": "code",
   "execution_count": null,
   "id": "4f9bac56",
   "metadata": {},
   "outputs": [],
   "source": []
  },
  {
   "cell_type": "code",
   "execution_count": 6,
   "id": "4b30c203",
   "metadata": {},
   "outputs": [
    {
     "name": "stdout",
     "output_type": "stream",
     "text": [
      "<class 'pandas.core.frame.DataFrame'>\n",
      "RangeIndex: 4520 entries, 0 to 4519\n",
      "Data columns (total 20 columns):\n",
      " #   Column                Non-Null Count  Dtype  \n",
      "---  ------                --------------  -----  \n",
      " 0   CustID                4520 non-null   int64  \n",
      " 1   AgentBonus            4520 non-null   int64  \n",
      " 2   Age                   4251 non-null   float64\n",
      " 3   CustTenure            4294 non-null   float64\n",
      " 4   Channel               4520 non-null   object \n",
      " 5   Occupation            4520 non-null   object \n",
      " 6   EducationField        4520 non-null   object \n",
      " 7   Gender                4520 non-null   object \n",
      " 8   ExistingProdType      4520 non-null   int64  \n",
      " 9   Designation           4520 non-null   object \n",
      " 10  NumberOfPolicy        4475 non-null   float64\n",
      " 11  MaritalStatus         4520 non-null   object \n",
      " 12  MonthlyIncome         4284 non-null   float64\n",
      " 13  Complaint             4520 non-null   int64  \n",
      " 14  ExistingPolicyTenure  4336 non-null   float64\n",
      " 15  SumAssured            4366 non-null   float64\n",
      " 16  Zone                  4520 non-null   object \n",
      " 17  PaymentMethod         4520 non-null   object \n",
      " 18  LastMonthCalls        4520 non-null   int64  \n",
      " 19  CustCareScore         4468 non-null   float64\n",
      "dtypes: float64(7), int64(5), object(8)\n",
      "memory usage: 706.4+ KB\n"
     ]
    }
   ],
   "source": [
    "df.info()"
   ]
  },
  {
   "cell_type": "raw",
   "id": "a602212d",
   "metadata": {},
   "source": [
    "Insights:\n",
    "1. Customer id can be removed from data, as it will not be required for Bonus prediction\n",
    "2. Channel , occupation, Education, Gender, Designation , Marital Status and all other Object type fields should be converted to Numeric format in order to use it in prediction Model"
   ]
  },
  {
   "cell_type": "markdown",
   "id": "0b43a1f0",
   "metadata": {},
   "source": [
    "Correcting Messy Column names"
   ]
  },
  {
   "cell_type": "code",
   "execution_count": 7,
   "id": "e94be58f",
   "metadata": {},
   "outputs": [],
   "source": [
    "df.columns = df.columns.str.strip().str.replace(' ', '_').str.replace('(', '').str.replace(')', '').str.replace('%', 'perc').str.replace('/','_by_').str.replace('&','and').str.replace('[','').str.replace(']','').str.replace('-','_').str.replace('.','')"
   ]
  },
  {
   "cell_type": "markdown",
   "id": "cbcde0f1",
   "metadata": {},
   "source": [
    "# Addition of new variables (if required)\n",
    "\n",
    "### Since we have Column AgentBonus and No of Policies taken by any Customer, so it would NOT be fare , if we consider Agent Bonus for all Agents, as Bonus Should be calculated Average each policy and then Consider Agent Bonus\n",
    "\n",
    "## 1.  So lets create additional Field, \"AgentBonus_Per_Policy\", which should be calculated by\n",
    "\n",
    "### AgentBonus_Per_Policy = AgentBonus/NumberOfPolicy\n",
    "\n",
    "## 2. Also lets create a new field called SumAssured_Per_Policy, which should be calculated by \n",
    "\n",
    "\n",
    "### SumAssured_Per_Policy = SumAssured/NumberOfPolicy\n",
    "\n"
   ]
  },
  {
   "cell_type": "code",
   "execution_count": 8,
   "id": "1181d8e3",
   "metadata": {},
   "outputs": [],
   "source": [
    "df2=df.copy()"
   ]
  },
  {
   "cell_type": "code",
   "execution_count": 9,
   "id": "ce1d12f9",
   "metadata": {},
   "outputs": [],
   "source": [
    "df2['AgentBonus_Per_Policy']=df2['AgentBonus']/df2['NumberOfPolicy']"
   ]
  },
  {
   "cell_type": "code",
   "execution_count": 10,
   "id": "e8c01915",
   "metadata": {},
   "outputs": [],
   "source": [
    "df2['SumAssured_Per_Policy']=df2['SumAssured']/df2['NumberOfPolicy']"
   ]
  },
  {
   "cell_type": "raw",
   "id": "c9cae955",
   "metadata": {},
   "source": [
    "Now check for all the fields"
   ]
  },
  {
   "cell_type": "code",
   "execution_count": 11,
   "id": "b626c1ab",
   "metadata": {
    "scrolled": true
   },
   "outputs": [
    {
     "data": {
      "text/plain": [
       "Index(['CustID', 'AgentBonus', 'Age', 'CustTenure', 'Channel', 'Occupation',\n",
       "       'EducationField', 'Gender', 'ExistingProdType', 'Designation',\n",
       "       'NumberOfPolicy', 'MaritalStatus', 'MonthlyIncome', 'Complaint',\n",
       "       'ExistingPolicyTenure', 'SumAssured', 'Zone', 'PaymentMethod',\n",
       "       'LastMonthCalls', 'CustCareScore', 'AgentBonus_Per_Policy',\n",
       "       'SumAssured_Per_Policy'],\n",
       "      dtype='object')"
      ]
     },
     "execution_count": 11,
     "metadata": {},
     "output_type": "execute_result"
    }
   ],
   "source": [
    "df2.columns"
   ]
  },
  {
   "cell_type": "code",
   "execution_count": 12,
   "id": "62cc9f3d",
   "metadata": {},
   "outputs": [
    {
     "data": {
      "text/plain": [
       "Index(['CustID', 'AgentBonus', 'Age', 'CustTenure', 'Channel', 'Occupation',\n",
       "       'EducationField', 'Gender', 'ExistingProdType', 'Designation',\n",
       "       'NumberOfPolicy', 'MaritalStatus', 'MonthlyIncome', 'Complaint',\n",
       "       'ExistingPolicyTenure', 'SumAssured', 'Zone', 'PaymentMethod',\n",
       "       'LastMonthCalls', 'CustCareScore'],\n",
       "      dtype='object')"
      ]
     },
     "execution_count": 12,
     "metadata": {},
     "output_type": "execute_result"
    }
   ],
   "source": [
    "df.columns"
   ]
  },
  {
   "cell_type": "code",
   "execution_count": 13,
   "id": "da05256d",
   "metadata": {},
   "outputs": [
    {
     "data": {
      "text/plain": [
       "CustID                     0\n",
       "AgentBonus                 0\n",
       "Age                      269\n",
       "CustTenure               226\n",
       "Channel                    0\n",
       "Occupation                 0\n",
       "EducationField             0\n",
       "Gender                     0\n",
       "ExistingProdType           0\n",
       "Designation                0\n",
       "NumberOfPolicy            45\n",
       "MaritalStatus              0\n",
       "MonthlyIncome            236\n",
       "Complaint                  0\n",
       "ExistingPolicyTenure     184\n",
       "SumAssured               154\n",
       "Zone                       0\n",
       "PaymentMethod              0\n",
       "LastMonthCalls             0\n",
       "CustCareScore             52\n",
       "AgentBonus_Per_Policy     45\n",
       "SumAssured_Per_Policy    199\n",
       "dtype: int64"
      ]
     },
     "execution_count": 13,
     "metadata": {},
     "output_type": "execute_result"
    }
   ],
   "source": [
    "#Checking Null Value\n",
    "df2.isnull().sum()"
   ]
  },
  {
   "cell_type": "markdown",
   "id": "5ef7596b",
   "metadata": {},
   "source": [
    "Table have NULL values in the many field, which needs to be impoted."
   ]
  },
  {
   "cell_type": "code",
   "execution_count": 14,
   "id": "9972ef10",
   "metadata": {},
   "outputs": [
    {
     "data": {
      "text/plain": [
       "1410"
      ]
     },
     "execution_count": 14,
     "metadata": {},
     "output_type": "execute_result"
    }
   ],
   "source": [
    "df2.isnull().sum().sum()"
   ]
  },
  {
   "cell_type": "code",
   "execution_count": 15,
   "id": "67e9144e",
   "metadata": {},
   "outputs": [
    {
     "data": {
      "text/plain": [
       "99440"
      ]
     },
     "execution_count": 15,
     "metadata": {},
     "output_type": "execute_result"
    }
   ],
   "source": [
    "df2.size"
   ]
  },
  {
   "cell_type": "markdown",
   "id": "e41e8e88",
   "metadata": {},
   "source": [
    "#### 1410 is the total Null counts, which includes NULL counts for our 2 newly created fields as well, which are :\n",
    "AgentBonus_Per_Policy     45\n",
    "SumAssured_Per_Policy    199\n",
    "\n",
    "#### If we subtract this count, then actual total number of missing values count is 1166\n"
   ]
  },
  {
   "cell_type": "markdown",
   "id": "bfd7963c",
   "metadata": {},
   "source": [
    "### NULL Treatment one by one for each NULL field"
   ]
  },
  {
   "cell_type": "raw",
   "id": "60795b8b",
   "metadata": {},
   "source": [
    "Treating NULL Age\n",
    "Age should be Greater than or Equals to Customer Tenure as well as Existing Policy Tenure\n",
    "So lets give First preference to Customer Tenure and then existing Policy Tenure for Correcting NULL age"
   ]
  },
  {
   "cell_type": "code",
   "execution_count": 16,
   "id": "d4a7bb6d",
   "metadata": {},
   "outputs": [
    {
     "data": {
      "text/plain": [
       "269"
      ]
     },
     "execution_count": 16,
     "metadata": {},
     "output_type": "execute_result"
    }
   ],
   "source": [
    "df2.Age.isnull().sum()"
   ]
  },
  {
   "cell_type": "code",
   "execution_count": 17,
   "id": "3addc2b2",
   "metadata": {},
   "outputs": [],
   "source": [
    "df2.Age = np.where( df2.Age.isnull(), df2.CustTenure, df2.Age)\n",
    "df2.Age = np.where( df2.Age.isnull(), df2.ExistingPolicyTenure , df2.Age)"
   ]
  },
  {
   "cell_type": "markdown",
   "id": "879c673d",
   "metadata": {},
   "source": [
    "### Similarly if Cust tenure is NULL, replace it with existing Policy Tenure or Customer Age "
   ]
  },
  {
   "cell_type": "code",
   "execution_count": 18,
   "id": "20e8d7be",
   "metadata": {},
   "outputs": [
    {
     "data": {
      "text/plain": [
       "0       False\n",
       "1       False\n",
       "2       False\n",
       "3        True\n",
       "4        True\n",
       "        ...  \n",
       "4515    False\n",
       "4516    False\n",
       "4517    False\n",
       "4518    False\n",
       "4519    False\n",
       "Name: CustTenure, Length: 4520, dtype: bool"
      ]
     },
     "execution_count": 18,
     "metadata": {},
     "output_type": "execute_result"
    }
   ],
   "source": [
    "df2.CustTenure.isnull()"
   ]
  },
  {
   "cell_type": "code",
   "execution_count": 19,
   "id": "08acc950",
   "metadata": {},
   "outputs": [
    {
     "data": {
      "text/plain": [
       "226"
      ]
     },
     "execution_count": 19,
     "metadata": {},
     "output_type": "execute_result"
    }
   ],
   "source": [
    "df2.CustTenure.isnull().sum()"
   ]
  },
  {
   "cell_type": "code",
   "execution_count": 20,
   "id": "1d379f99",
   "metadata": {},
   "outputs": [],
   "source": [
    "df2.CustTenure = np.where( df2.CustTenure.isnull(), df2.ExistingPolicyTenure , df2.CustTenure)\n",
    "df2.CustTenure = np.where( df2.CustTenure.isnull(), df2.Age, df2.CustTenure)"
   ]
  },
  {
   "cell_type": "code",
   "execution_count": 21,
   "id": "cbef0585",
   "metadata": {},
   "outputs": [
    {
     "data": {
      "text/plain": [
       "0"
      ]
     },
     "execution_count": 21,
     "metadata": {},
     "output_type": "execute_result"
    }
   ],
   "source": [
    "df2.CustTenure.isnull().sum()"
   ]
  },
  {
   "cell_type": "markdown",
   "id": "01c19b8b",
   "metadata": {},
   "source": [
    "### Similarly if Cust Existing Policy tenure is NULL, replace it with Customer Tenure or Customer Age "
   ]
  },
  {
   "cell_type": "code",
   "execution_count": 22,
   "id": "2bc132c9",
   "metadata": {},
   "outputs": [
    {
     "data": {
      "text/plain": [
       "184"
      ]
     },
     "execution_count": 22,
     "metadata": {},
     "output_type": "execute_result"
    }
   ],
   "source": [
    "df2.ExistingPolicyTenure.isnull().sum()"
   ]
  },
  {
   "cell_type": "code",
   "execution_count": 23,
   "id": "2741a587",
   "metadata": {},
   "outputs": [],
   "source": [
    "df2.ExistingPolicyTenure = np.where( df2.ExistingPolicyTenure.isnull(), df2.CustTenure , df2.ExistingPolicyTenure)\n",
    "df2.ExistingPolicyTenure = np.where( df2.ExistingPolicyTenure.isnull(), df2.Age, df2.ExistingPolicyTenure)"
   ]
  },
  {
   "cell_type": "code",
   "execution_count": 24,
   "id": "4c9aa7d7",
   "metadata": {},
   "outputs": [
    {
     "data": {
      "text/plain": [
       "0"
      ]
     },
     "execution_count": 24,
     "metadata": {},
     "output_type": "execute_result"
    }
   ],
   "source": [
    "df2.ExistingPolicyTenure.isnull().sum()"
   ]
  },
  {
   "cell_type": "markdown",
   "id": "b9e18464",
   "metadata": {},
   "source": [
    "### Treating NULL  for Number of Policies \n",
    "### Best way to Treat this field is to replace NULL with Mode"
   ]
  },
  {
   "cell_type": "code",
   "execution_count": 25,
   "id": "ff6dec60",
   "metadata": {},
   "outputs": [
    {
     "data": {
      "text/plain": [
       "45"
      ]
     },
     "execution_count": 25,
     "metadata": {},
     "output_type": "execute_result"
    }
   ],
   "source": [
    "df2.NumberOfPolicy.isnull().sum()"
   ]
  },
  {
   "cell_type": "code",
   "execution_count": 26,
   "id": "2efbbd25",
   "metadata": {},
   "outputs": [],
   "source": [
    "mode = df2.NumberOfPolicy.mode()[0]\n",
    "df2.NumberOfPolicy = df2.NumberOfPolicy.fillna(mode)"
   ]
  },
  {
   "cell_type": "code",
   "execution_count": 27,
   "id": "3459e1ce",
   "metadata": {},
   "outputs": [
    {
     "data": {
      "text/plain": [
       "0"
      ]
     },
     "execution_count": 27,
     "metadata": {},
     "output_type": "execute_result"
    }
   ],
   "source": [
    "df2.NumberOfPolicy.isnull().sum()"
   ]
  },
  {
   "cell_type": "markdown",
   "id": "18fc292b",
   "metadata": {},
   "source": [
    "### Treating NULLs for \"AgentBonus_Per_Policy\""
   ]
  },
  {
   "cell_type": "code",
   "execution_count": 28,
   "id": "bc278df9",
   "metadata": {},
   "outputs": [],
   "source": [
    "df2['AgentBonus_Per_Policy']=df2['AgentBonus']/df2['NumberOfPolicy']"
   ]
  },
  {
   "cell_type": "code",
   "execution_count": 29,
   "id": "3118b795",
   "metadata": {},
   "outputs": [
    {
     "data": {
      "text/plain": [
       "0"
      ]
     },
     "execution_count": 29,
     "metadata": {},
     "output_type": "execute_result"
    }
   ],
   "source": [
    "df2.AgentBonus_Per_Policy.isnull().sum()"
   ]
  },
  {
   "cell_type": "markdown",
   "id": "1ada4b47",
   "metadata": {},
   "source": [
    "### Treating NULL  for \"MonthlyIncome\" and \"SumAssured\"\n",
    "### Best way to Treat this field is to use KNN Imputers for missing NULL values"
   ]
  },
  {
   "cell_type": "code",
   "execution_count": 30,
   "id": "d4d0aab7",
   "metadata": {},
   "outputs": [
    {
     "data": {
      "text/plain": [
       "CustID                     0\n",
       "AgentBonus                 0\n",
       "Age                        0\n",
       "CustTenure                 0\n",
       "Channel                    0\n",
       "Occupation                 0\n",
       "EducationField             0\n",
       "Gender                     0\n",
       "ExistingProdType           0\n",
       "Designation                0\n",
       "NumberOfPolicy             0\n",
       "MaritalStatus              0\n",
       "MonthlyIncome            236\n",
       "Complaint                  0\n",
       "ExistingPolicyTenure       0\n",
       "SumAssured               154\n",
       "Zone                       0\n",
       "PaymentMethod              0\n",
       "LastMonthCalls             0\n",
       "CustCareScore             52\n",
       "AgentBonus_Per_Policy      0\n",
       "SumAssured_Per_Policy    199\n",
       "dtype: int64"
      ]
     },
     "execution_count": 30,
     "metadata": {},
     "output_type": "execute_result"
    }
   ],
   "source": [
    "df2.isnull().sum()"
   ]
  },
  {
   "cell_type": "code",
   "execution_count": 31,
   "id": "e959fd18",
   "metadata": {},
   "outputs": [],
   "source": [
    "from sklearn.impute import KNNImputer"
   ]
  },
  {
   "cell_type": "code",
   "execution_count": 32,
   "id": "db54998c",
   "metadata": {},
   "outputs": [],
   "source": [
    "imputer = KNNImputer(n_neighbors=10)"
   ]
  },
  {
   "cell_type": "code",
   "execution_count": 33,
   "id": "bd52ae73",
   "metadata": {},
   "outputs": [],
   "source": [
    "df_temp = df2[[\"MonthlyIncome\",\"SumAssured_Per_Policy\"]]"
   ]
  },
  {
   "cell_type": "code",
   "execution_count": 34,
   "id": "1156c48d",
   "metadata": {},
   "outputs": [],
   "source": [
    "df_temp = pd.DataFrame(imputer.fit_transform(df_temp), columns = df_temp.columns)"
   ]
  },
  {
   "cell_type": "code",
   "execution_count": 35,
   "id": "e2033ec0",
   "metadata": {},
   "outputs": [],
   "source": [
    "df2[[\"MonthlyIncome\",\"SumAssured_Per_Policy\"]]=df_temp"
   ]
  },
  {
   "cell_type": "code",
   "execution_count": null,
   "id": "bce1e426",
   "metadata": {},
   "outputs": [],
   "source": []
  },
  {
   "cell_type": "code",
   "execution_count": 36,
   "id": "d5cda932",
   "metadata": {
    "scrolled": false
   },
   "outputs": [
    {
     "data": {
      "text/plain": [
       "CustID                     0\n",
       "AgentBonus                 0\n",
       "Age                        0\n",
       "CustTenure                 0\n",
       "Channel                    0\n",
       "Occupation                 0\n",
       "EducationField             0\n",
       "Gender                     0\n",
       "ExistingProdType           0\n",
       "Designation                0\n",
       "NumberOfPolicy             0\n",
       "MaritalStatus              0\n",
       "MonthlyIncome              0\n",
       "Complaint                  0\n",
       "ExistingPolicyTenure       0\n",
       "SumAssured               154\n",
       "Zone                       0\n",
       "PaymentMethod              0\n",
       "LastMonthCalls             0\n",
       "CustCareScore             52\n",
       "AgentBonus_Per_Policy      0\n",
       "SumAssured_Per_Policy      0\n",
       "dtype: int64"
      ]
     },
     "execution_count": 36,
     "metadata": {},
     "output_type": "execute_result"
    }
   ],
   "source": [
    "df2.isnull().sum()"
   ]
  },
  {
   "cell_type": "code",
   "execution_count": null,
   "id": "507deec9",
   "metadata": {},
   "outputs": [],
   "source": []
  },
  {
   "cell_type": "markdown",
   "id": "2ff7fc3a",
   "metadata": {},
   "source": [
    "### Treating NULL  for  \"CustCareScore\" is to use Median for this value"
   ]
  },
  {
   "cell_type": "code",
   "execution_count": 37,
   "id": "3840d530",
   "metadata": {},
   "outputs": [
    {
     "data": {
      "text/plain": [
       "52"
      ]
     },
     "execution_count": 37,
     "metadata": {},
     "output_type": "execute_result"
    }
   ],
   "source": [
    "df2.CustCareScore.isnull().sum()"
   ]
  },
  {
   "cell_type": "code",
   "execution_count": 38,
   "id": "7e639cfc",
   "metadata": {},
   "outputs": [],
   "source": [
    "df2.CustCareScore.fillna(int(df2.CustCareScore.median()), inplace=True)"
   ]
  },
  {
   "cell_type": "code",
   "execution_count": 39,
   "id": "161588ae",
   "metadata": {},
   "outputs": [
    {
     "data": {
      "text/plain": [
       "0"
      ]
     },
     "execution_count": 39,
     "metadata": {},
     "output_type": "execute_result"
    }
   ],
   "source": [
    "df2.CustCareScore.isnull().sum()"
   ]
  },
  {
   "cell_type": "code",
   "execution_count": 40,
   "id": "97910095",
   "metadata": {
    "scrolled": false
   },
   "outputs": [
    {
     "data": {
      "text/plain": [
       "CustID                     0\n",
       "AgentBonus                 0\n",
       "Age                        0\n",
       "CustTenure                 0\n",
       "Channel                    0\n",
       "Occupation                 0\n",
       "EducationField             0\n",
       "Gender                     0\n",
       "ExistingProdType           0\n",
       "Designation                0\n",
       "NumberOfPolicy             0\n",
       "MaritalStatus              0\n",
       "MonthlyIncome              0\n",
       "Complaint                  0\n",
       "ExistingPolicyTenure       0\n",
       "SumAssured               154\n",
       "Zone                       0\n",
       "PaymentMethod              0\n",
       "LastMonthCalls             0\n",
       "CustCareScore              0\n",
       "AgentBonus_Per_Policy      0\n",
       "SumAssured_Per_Policy      0\n",
       "dtype: int64"
      ]
     },
     "execution_count": 40,
     "metadata": {},
     "output_type": "execute_result"
    }
   ],
   "source": [
    "df2.isnull().sum()"
   ]
  },
  {
   "cell_type": "markdown",
   "id": "05645735",
   "metadata": {},
   "source": [
    "### We have treated all NULL values except SumAssured and Since we dont need this column, as we have already created SumAssured_per_policy and treated it's NULL, so we can ignore this column SumAssured and we will drop this in further steps"
   ]
  },
  {
   "cell_type": "markdown",
   "id": "3216b21a",
   "metadata": {},
   "source": [
    "### Check for the Duplicate Customer IDs in Sample data"
   ]
  },
  {
   "cell_type": "code",
   "execution_count": 41,
   "id": "d7eab1b9",
   "metadata": {
    "scrolled": true
   },
   "outputs": [
    {
     "data": {
      "text/plain": [
       "0"
      ]
     },
     "execution_count": 41,
     "metadata": {},
     "output_type": "execute_result"
    }
   ],
   "source": [
    "df2.CustID.duplicated().sum()"
   ]
  },
  {
   "cell_type": "code",
   "execution_count": null,
   "id": "6dbc43a5",
   "metadata": {},
   "outputs": [],
   "source": []
  },
  {
   "cell_type": "markdown",
   "id": "7fa125a0",
   "metadata": {},
   "source": [
    "# Remove not necessary Columns\n",
    "\n",
    "#### Since We have used AgentBonus and SumAssured for building our new field, so we dont need them any more for our analysis, \n",
    "#### Also We dont need field CustId for our analysis"
   ]
  },
  {
   "cell_type": "code",
   "execution_count": null,
   "id": "556cee6d",
   "metadata": {},
   "outputs": [],
   "source": []
  },
  {
   "cell_type": "code",
   "execution_count": 42,
   "id": "a59f8354",
   "metadata": {},
   "outputs": [],
   "source": [
    "df2.drop('CustID',axis=1 , inplace=True)\n",
    "df2.drop('AgentBonus',axis=1 , inplace=True)\n",
    "df2.drop('SumAssured',axis=1 , inplace=True)"
   ]
  },
  {
   "cell_type": "markdown",
   "id": "2ef036d3",
   "metadata": {},
   "source": [
    "### Also check co-relation matrix for all the fields and based on affect, we can take more actions:\n",
    "    "
   ]
  },
  {
   "cell_type": "code",
   "execution_count": 43,
   "id": "b072b19f",
   "metadata": {},
   "outputs": [
    {
     "data": {
      "text/html": [
       "<div>\n",
       "<style scoped>\n",
       "    .dataframe tbody tr th:only-of-type {\n",
       "        vertical-align: middle;\n",
       "    }\n",
       "\n",
       "    .dataframe tbody tr th {\n",
       "        vertical-align: top;\n",
       "    }\n",
       "\n",
       "    .dataframe thead th {\n",
       "        text-align: right;\n",
       "    }\n",
       "</style>\n",
       "<table border=\"1\" class=\"dataframe\">\n",
       "  <thead>\n",
       "    <tr style=\"text-align: right;\">\n",
       "      <th></th>\n",
       "      <th>Age</th>\n",
       "      <th>CustTenure</th>\n",
       "      <th>ExistingProdType</th>\n",
       "      <th>NumberOfPolicy</th>\n",
       "      <th>MonthlyIncome</th>\n",
       "      <th>Complaint</th>\n",
       "      <th>ExistingPolicyTenure</th>\n",
       "      <th>LastMonthCalls</th>\n",
       "      <th>CustCareScore</th>\n",
       "      <th>AgentBonus_Per_Policy</th>\n",
       "      <th>SumAssured_Per_Policy</th>\n",
       "    </tr>\n",
       "  </thead>\n",
       "  <tbody>\n",
       "    <tr>\n",
       "      <th>Age</th>\n",
       "      <td>1.000000</td>\n",
       "      <td>0.359631</td>\n",
       "      <td>0.076609</td>\n",
       "      <td>0.053143</td>\n",
       "      <td>0.347944</td>\n",
       "      <td>0.019496</td>\n",
       "      <td>0.263640</td>\n",
       "      <td>0.123837</td>\n",
       "      <td>0.029853</td>\n",
       "      <td>0.211933</td>\n",
       "      <td>0.197146</td>\n",
       "    </tr>\n",
       "    <tr>\n",
       "      <th>CustTenure</th>\n",
       "      <td>0.359631</td>\n",
       "      <td>1.000000</td>\n",
       "      <td>0.115561</td>\n",
       "      <td>0.066859</td>\n",
       "      <td>0.368525</td>\n",
       "      <td>0.006850</td>\n",
       "      <td>0.347473</td>\n",
       "      <td>0.142982</td>\n",
       "      <td>0.013919</td>\n",
       "      <td>0.207415</td>\n",
       "      <td>0.193545</td>\n",
       "    </tr>\n",
       "    <tr>\n",
       "      <th>ExistingProdType</th>\n",
       "      <td>0.076609</td>\n",
       "      <td>0.115561</td>\n",
       "      <td>1.000000</td>\n",
       "      <td>0.149862</td>\n",
       "      <td>0.191194</td>\n",
       "      <td>-0.003486</td>\n",
       "      <td>0.009800</td>\n",
       "      <td>0.033191</td>\n",
       "      <td>0.004110</td>\n",
       "      <td>-0.085003</td>\n",
       "      <td>-0.072151</td>\n",
       "    </tr>\n",
       "    <tr>\n",
       "      <th>NumberOfPolicy</th>\n",
       "      <td>0.053143</td>\n",
       "      <td>0.066859</td>\n",
       "      <td>0.149862</td>\n",
       "      <td>1.000000</td>\n",
       "      <td>0.128329</td>\n",
       "      <td>-0.016014</td>\n",
       "      <td>0.021839</td>\n",
       "      <td>0.075138</td>\n",
       "      <td>-0.001005</td>\n",
       "      <td>-0.733911</td>\n",
       "      <td>-0.683045</td>\n",
       "    </tr>\n",
       "    <tr>\n",
       "      <th>MonthlyIncome</th>\n",
       "      <td>0.347944</td>\n",
       "      <td>0.368525</td>\n",
       "      <td>0.191194</td>\n",
       "      <td>0.128329</td>\n",
       "      <td>1.000000</td>\n",
       "      <td>-0.004815</td>\n",
       "      <td>0.410641</td>\n",
       "      <td>0.343932</td>\n",
       "      <td>0.035751</td>\n",
       "      <td>0.163632</td>\n",
       "      <td>0.154270</td>\n",
       "    </tr>\n",
       "    <tr>\n",
       "      <th>Complaint</th>\n",
       "      <td>0.019496</td>\n",
       "      <td>0.006850</td>\n",
       "      <td>-0.003486</td>\n",
       "      <td>-0.016014</td>\n",
       "      <td>-0.004815</td>\n",
       "      <td>1.000000</td>\n",
       "      <td>-0.005082</td>\n",
       "      <td>-0.026320</td>\n",
       "      <td>-0.003814</td>\n",
       "      <td>0.025091</td>\n",
       "      <td>0.023838</td>\n",
       "    </tr>\n",
       "    <tr>\n",
       "      <th>ExistingPolicyTenure</th>\n",
       "      <td>0.263640</td>\n",
       "      <td>0.347473</td>\n",
       "      <td>0.009800</td>\n",
       "      <td>0.021839</td>\n",
       "      <td>0.410641</td>\n",
       "      <td>-0.005082</td>\n",
       "      <td>1.000000</td>\n",
       "      <td>0.126951</td>\n",
       "      <td>0.013532</td>\n",
       "      <td>0.188274</td>\n",
       "      <td>0.185564</td>\n",
       "    </tr>\n",
       "    <tr>\n",
       "      <th>LastMonthCalls</th>\n",
       "      <td>0.123837</td>\n",
       "      <td>0.142982</td>\n",
       "      <td>0.033191</td>\n",
       "      <td>0.075138</td>\n",
       "      <td>0.343932</td>\n",
       "      <td>-0.026320</td>\n",
       "      <td>0.126951</td>\n",
       "      <td>1.000000</td>\n",
       "      <td>0.006386</td>\n",
       "      <td>0.038717</td>\n",
       "      <td>0.034740</td>\n",
       "    </tr>\n",
       "    <tr>\n",
       "      <th>CustCareScore</th>\n",
       "      <td>0.029853</td>\n",
       "      <td>0.013919</td>\n",
       "      <td>0.004110</td>\n",
       "      <td>-0.001005</td>\n",
       "      <td>0.035751</td>\n",
       "      <td>-0.003814</td>\n",
       "      <td>0.013532</td>\n",
       "      <td>0.006386</td>\n",
       "      <td>1.000000</td>\n",
       "      <td>-0.005319</td>\n",
       "      <td>-0.013488</td>\n",
       "    </tr>\n",
       "    <tr>\n",
       "      <th>AgentBonus_Per_Policy</th>\n",
       "      <td>0.211933</td>\n",
       "      <td>0.207415</td>\n",
       "      <td>-0.085003</td>\n",
       "      <td>-0.733911</td>\n",
       "      <td>0.163632</td>\n",
       "      <td>0.025091</td>\n",
       "      <td>0.188274</td>\n",
       "      <td>0.038717</td>\n",
       "      <td>-0.005319</td>\n",
       "      <td>1.000000</td>\n",
       "      <td>0.937796</td>\n",
       "    </tr>\n",
       "    <tr>\n",
       "      <th>SumAssured_Per_Policy</th>\n",
       "      <td>0.197146</td>\n",
       "      <td>0.193545</td>\n",
       "      <td>-0.072151</td>\n",
       "      <td>-0.683045</td>\n",
       "      <td>0.154270</td>\n",
       "      <td>0.023838</td>\n",
       "      <td>0.185564</td>\n",
       "      <td>0.034740</td>\n",
       "      <td>-0.013488</td>\n",
       "      <td>0.937796</td>\n",
       "      <td>1.000000</td>\n",
       "    </tr>\n",
       "  </tbody>\n",
       "</table>\n",
       "</div>"
      ],
      "text/plain": [
       "                            Age  CustTenure  ExistingProdType  NumberOfPolicy  \\\n",
       "Age                    1.000000    0.359631          0.076609        0.053143   \n",
       "CustTenure             0.359631    1.000000          0.115561        0.066859   \n",
       "ExistingProdType       0.076609    0.115561          1.000000        0.149862   \n",
       "NumberOfPolicy         0.053143    0.066859          0.149862        1.000000   \n",
       "MonthlyIncome          0.347944    0.368525          0.191194        0.128329   \n",
       "Complaint              0.019496    0.006850         -0.003486       -0.016014   \n",
       "ExistingPolicyTenure   0.263640    0.347473          0.009800        0.021839   \n",
       "LastMonthCalls         0.123837    0.142982          0.033191        0.075138   \n",
       "CustCareScore          0.029853    0.013919          0.004110       -0.001005   \n",
       "AgentBonus_Per_Policy  0.211933    0.207415         -0.085003       -0.733911   \n",
       "SumAssured_Per_Policy  0.197146    0.193545         -0.072151       -0.683045   \n",
       "\n",
       "                       MonthlyIncome  Complaint  ExistingPolicyTenure  \\\n",
       "Age                         0.347944   0.019496              0.263640   \n",
       "CustTenure                  0.368525   0.006850              0.347473   \n",
       "ExistingProdType            0.191194  -0.003486              0.009800   \n",
       "NumberOfPolicy              0.128329  -0.016014              0.021839   \n",
       "MonthlyIncome               1.000000  -0.004815              0.410641   \n",
       "Complaint                  -0.004815   1.000000             -0.005082   \n",
       "ExistingPolicyTenure        0.410641  -0.005082              1.000000   \n",
       "LastMonthCalls              0.343932  -0.026320              0.126951   \n",
       "CustCareScore               0.035751  -0.003814              0.013532   \n",
       "AgentBonus_Per_Policy       0.163632   0.025091              0.188274   \n",
       "SumAssured_Per_Policy       0.154270   0.023838              0.185564   \n",
       "\n",
       "                       LastMonthCalls  CustCareScore  AgentBonus_Per_Policy  \\\n",
       "Age                          0.123837       0.029853               0.211933   \n",
       "CustTenure                   0.142982       0.013919               0.207415   \n",
       "ExistingProdType             0.033191       0.004110              -0.085003   \n",
       "NumberOfPolicy               0.075138      -0.001005              -0.733911   \n",
       "MonthlyIncome                0.343932       0.035751               0.163632   \n",
       "Complaint                   -0.026320      -0.003814               0.025091   \n",
       "ExistingPolicyTenure         0.126951       0.013532               0.188274   \n",
       "LastMonthCalls               1.000000       0.006386               0.038717   \n",
       "CustCareScore                0.006386       1.000000              -0.005319   \n",
       "AgentBonus_Per_Policy        0.038717      -0.005319               1.000000   \n",
       "SumAssured_Per_Policy        0.034740      -0.013488               0.937796   \n",
       "\n",
       "                       SumAssured_Per_Policy  \n",
       "Age                                 0.197146  \n",
       "CustTenure                          0.193545  \n",
       "ExistingProdType                   -0.072151  \n",
       "NumberOfPolicy                     -0.683045  \n",
       "MonthlyIncome                       0.154270  \n",
       "Complaint                           0.023838  \n",
       "ExistingPolicyTenure                0.185564  \n",
       "LastMonthCalls                      0.034740  \n",
       "CustCareScore                      -0.013488  \n",
       "AgentBonus_Per_Policy               0.937796  \n",
       "SumAssured_Per_Policy               1.000000  "
      ]
     },
     "execution_count": 43,
     "metadata": {},
     "output_type": "execute_result"
    }
   ],
   "source": [
    "df2.corr().T"
   ]
  },
  {
   "cell_type": "markdown",
   "id": "c453194f",
   "metadata": {},
   "source": [
    "### CustCareScore, LastMonthCalls and Compaint dont have any relation with any other field, its almost 0 co-relation with every other field.and its good to drop those fields."
   ]
  },
  {
   "cell_type": "code",
   "execution_count": 44,
   "id": "4d3e8ff8",
   "metadata": {},
   "outputs": [],
   "source": [
    "df2.drop('CustCareScore',axis=1 , inplace=True)\n",
    "df2.drop('LastMonthCalls',axis=1 , inplace=True)\n",
    "df2.drop('Complaint',axis=1 , inplace=True)"
   ]
  },
  {
   "cell_type": "code",
   "execution_count": null,
   "id": "afe35754",
   "metadata": {},
   "outputs": [],
   "source": []
  },
  {
   "cell_type": "markdown",
   "id": "95f321c5",
   "metadata": {},
   "source": [
    "### Outlier removal (if applicable)"
   ]
  },
  {
   "cell_type": "code",
   "execution_count": 45,
   "id": "09d01c8f",
   "metadata": {},
   "outputs": [
    {
     "data": {
      "image/png": "[encoded data removed]",
      "text/plain": [
       "<Figure size 720x720 with 1 Axes>"
      ]
     },
     "metadata": {
      "needs_background": "light"
     },
     "output_type": "display_data"
    }
   ],
   "source": [
    "plt.figure(figsize=(10,10))\n",
    "ax_box=sns.boxplot(data=df2, color='y', orient='h')\n"
   ]
  },
  {
   "cell_type": "raw",
   "id": "03b781f8",
   "metadata": {},
   "source": [
    "Insights:\n",
    "We do see outliers in about  each of the field of sample data, but data scales are different, \n",
    "Example: Age have limited discrete values, AgentBonus will be always lesser than SumAssured and it will be just a fraction of percentage of SumAssured . Customer Tenure, Existing Policy tenure, and other Age type fields are also discrete in nature.\n",
    "So I would not like to treat outliers, as People have different income slaves and can take multiple or Single Policy as well.\n",
    "And I really want to understand nature of other fields, how they are affecting our target field, AgentBonus , so we will not treat the outliers\n"
   ]
  },
  {
   "cell_type": "code",
   "execution_count": null,
   "id": "75941c0c",
   "metadata": {},
   "outputs": [],
   "source": []
  },
  {
   "cell_type": "code",
   "execution_count": null,
   "id": "ffcca1f4",
   "metadata": {},
   "outputs": [],
   "source": []
  },
  {
   "cell_type": "markdown",
   "id": "b8c903f8",
   "metadata": {},
   "source": [
    "# Univariate Analysis"
   ]
  },
  {
   "cell_type": "code",
   "execution_count": 46,
   "id": "131c941a",
   "metadata": {
    "scrolled": false
   },
   "outputs": [
    {
     "name": "stdout",
     "output_type": "stream",
     "text": [
      "<class 'pandas.core.frame.DataFrame'>\n",
      "RangeIndex: 4520 entries, 0 to 4519\n",
      "Data columns (total 16 columns):\n",
      " #   Column                 Non-Null Count  Dtype  \n",
      "---  ------                 --------------  -----  \n",
      " 0   Age                    4520 non-null   float64\n",
      " 1   CustTenure             4520 non-null   float64\n",
      " 2   Channel                4520 non-null   object \n",
      " 3   Occupation             4520 non-null   object \n",
      " 4   EducationField         4520 non-null   object \n",
      " 5   Gender                 4520 non-null   object \n",
      " 6   ExistingProdType       4520 non-null   int64  \n",
      " 7   Designation            4520 non-null   object \n",
      " 8   NumberOfPolicy         4520 non-null   float64\n",
      " 9   MaritalStatus          4520 non-null   object \n",
      " 10  MonthlyIncome          4520 non-null   float64\n",
      " 11  ExistingPolicyTenure   4520 non-null   float64\n",
      " 12  Zone                   4520 non-null   object \n",
      " 13  PaymentMethod          4520 non-null   object \n",
      " 14  AgentBonus_Per_Policy  4520 non-null   float64\n",
      " 15  SumAssured_Per_Policy  4520 non-null   float64\n",
      "dtypes: float64(7), int64(1), object(8)\n",
      "memory usage: 565.1+ KB\n"
     ]
    }
   ],
   "source": [
    "df2.info()"
   ]
  },
  {
   "cell_type": "markdown",
   "id": "9c0403f4",
   "metadata": {},
   "source": [
    "### Convert \"MonthlyIncome\" , \"SumAssured\" to Numeric Format"
   ]
  },
  {
   "cell_type": "code",
   "execution_count": 47,
   "id": "b5f202fc",
   "metadata": {},
   "outputs": [
    {
     "data": {
      "text/plain": [
       "<bound method NDFrame._add_numeric_operations.<locals>.median of 0       20993.0\n",
       "1       20130.0\n",
       "2       17090.0\n",
       "3       17909.0\n",
       "4       18468.0\n",
       "         ...   \n",
       "4515    26355.0\n",
       "4516    20991.0\n",
       "4517    22892.6\n",
       "4518    20068.0\n",
       "4519    23820.0\n",
       "Name: MonthlyIncome, Length: 4520, dtype: float64>"
      ]
     },
     "execution_count": 47,
     "metadata": {},
     "output_type": "execute_result"
    }
   ],
   "source": [
    "df2['MonthlyIncome'].median"
   ]
  },
  {
   "cell_type": "code",
   "execution_count": 48,
   "id": "c30011cf",
   "metadata": {},
   "outputs": [],
   "source": [
    "df2['MonthlyIncome'] = df2['MonthlyIncome'].astype(int)"
   ]
  },
  {
   "cell_type": "code",
   "execution_count": 49,
   "id": "44fd94e4",
   "metadata": {},
   "outputs": [],
   "source": [
    "df2['SumAssured_Per_Policy'] = df2['SumAssured_Per_Policy'].astype(int)"
   ]
  },
  {
   "cell_type": "markdown",
   "id": "7804ed8d",
   "metadata": {},
   "source": [
    "### Taking counts for each Categorical fields "
   ]
  },
  {
   "cell_type": "code",
   "execution_count": 50,
   "id": "57f9444c",
   "metadata": {
    "scrolled": false
   },
   "outputs": [
    {
     "name": "stdout",
     "output_type": "stream",
     "text": [
      "Field name is  CHANNEL : and Count for this categories are  3\n",
      "Online                  468\n",
      "Third Party Partner     858\n",
      "Agent                  3194\n",
      "Name: Channel, dtype: int64\n",
      "\n",
      "\n",
      "\n",
      "Field name is  OCCUPATION : and Count for this categories are  5\n",
      "Free Lancer           2\n",
      "Laarge Business     153\n",
      "Large Business      255\n",
      "Small Business     1918\n",
      "Salaried           2192\n",
      "Name: Occupation, dtype: int64\n",
      "\n",
      "\n",
      "\n",
      "Field name is  EDUCATIONFIELD : and Count for this categories are  7\n",
      "MBA                 74\n",
      "UG                 230\n",
      "Post Graduate      252\n",
      "Engineer           408\n",
      "Diploma            496\n",
      "Under Graduate    1190\n",
      "Graduate          1870\n",
      "Name: EducationField, dtype: int64\n",
      "\n",
      "\n",
      "\n",
      "Field name is  GENDER : and Count for this categories are  3\n",
      "Fe male     325\n",
      "Female     1507\n",
      "Male       2688\n",
      "Name: Gender, dtype: int64\n",
      "\n",
      "\n",
      "\n",
      "Field name is  DESIGNATION : and Count for this categories are  6\n",
      "Exe                127\n",
      "VP                 226\n",
      "AVP                336\n",
      "Senior Manager     676\n",
      "Executive         1535\n",
      "Manager           1620\n",
      "Name: Designation, dtype: int64\n",
      "\n",
      "\n",
      "\n",
      "Field name is  MARITALSTATUS : and Count for this categories are  4\n",
      "Unmarried     194\n",
      "Divorced      804\n",
      "Single       1254\n",
      "Married      2268\n",
      "Name: MaritalStatus, dtype: int64\n",
      "\n",
      "\n",
      "\n",
      "Field name is  ZONE : and Count for this categories are  4\n",
      "South       6\n",
      "East       64\n",
      "North    1884\n",
      "West     2566\n",
      "Name: Zone, dtype: int64\n",
      "\n",
      "\n",
      "\n",
      "Field name is  PAYMENTMETHOD : and Count for this categories are  4\n",
      "Quarterly        76\n",
      "Monthly         354\n",
      "Yearly         1434\n",
      "Half Yearly    2656\n",
      "Name: PaymentMethod, dtype: int64\n",
      "\n",
      "\n",
      "\n"
     ]
    }
   ],
   "source": [
    "#Finding unique values for categorical variables\n",
    "for column in df2.columns:\n",
    "    if df2[column].dtype == 'object':\n",
    "        print(\"Field name is \", column.upper(),': and Count for this categories are ',df2[column].nunique())\n",
    "        print(df2[column].value_counts().sort_values())\n",
    "        print('\\n\\n')\n",
    "        "
   ]
  },
  {
   "cell_type": "raw",
   "id": "5cfb9bf6",
   "metadata": {},
   "source": [
    "Insights:\n",
    "1. Channel as \"Agent\"  has maximum count of 3194, and least no of channel is Online. with 468\n",
    "2. OCCUPATION  : Maximum Policy Holder are Salaried Employees, where as free Lancer and Large business people are very less in Insurance .\n",
    "3. OCCUPATION : \"Laarge Business\" and \"Large Business\" are same, it needs to be merged.\n",
    "4. EDUCATIONFIELD: \"UG\" and \"Under Graduate\" are same category and needs to merged. \n",
    "5: EDUCATIONFIELD: Highest Policy holders are Graduate and Least are MBA degree Holder.\n",
    "6: GENDER : \"Fe male\" and \"Female\" are same, and needs to merge into one category\n",
    "7. Maximum policy Holders are male with 2688 Count.\n",
    "8. DESIGNATION : Exe and Executive are same and can be merge into one Category.\n",
    "9. South Zone and followed by east zone haev very less number of customers , need to work in that area\n",
    "10. Customers like to pay half yearly and yearly payments method most for the payment of their premiums."
   ]
  },
  {
   "cell_type": "markdown",
   "id": "5f9c9a4c",
   "metadata": {},
   "source": [
    "### Merge similar categoriccal values as mentioned above in Insights "
   ]
  },
  {
   "cell_type": "code",
   "execution_count": 51,
   "id": "a9a0f320",
   "metadata": {},
   "outputs": [
    {
     "name": "stdout",
     "output_type": "stream",
     "text": [
      "Graduate          1870\n",
      "Under Graduate    1190\n",
      "Diploma            496\n",
      "Engineer           408\n",
      "Post Graduate      252\n",
      "UG                 230\n",
      "MBA                 74\n",
      "Name: EducationField, dtype: int64\n",
      "Male       2688\n",
      "Female     1507\n",
      "Fe male     325\n",
      "Name: Gender, dtype: int64\n",
      "Salaried           2192\n",
      "Small Business     1918\n",
      "Large Business      255\n",
      "Laarge Business     153\n",
      "Free Lancer           2\n",
      "Name: Occupation, dtype: int64\n",
      "Manager           1620\n",
      "Executive         1535\n",
      "Senior Manager     676\n",
      "AVP                336\n",
      "VP                 226\n",
      "Exe                127\n",
      "Name: Designation, dtype: int64\n"
     ]
    }
   ],
   "source": [
    "print(df2.EducationField.value_counts())\n",
    "print(df2.Gender.value_counts())\n",
    "print(df2.Occupation.value_counts())\n",
    "print(df2.Designation.value_counts())"
   ]
  },
  {
   "cell_type": "code",
   "execution_count": 52,
   "id": "3a1cd366",
   "metadata": {},
   "outputs": [],
   "source": [
    "df2.EducationField = np.where(df2.EducationField==\"UG\",\"Under Graduate\",df2.EducationField)\n",
    "df2.Gender = np.where(df2.Gender==\"Fe male\",\"Female\",df2.Gender)\n",
    "df2.Occupation = np.where(df2.Occupation==\"Laarge Business\",\"Large Business\",df2.Occupation)\n",
    "df2.Designation = np.where(df2.Designation==\"Exe\",\"Executive\",df2.Designation)"
   ]
  },
  {
   "cell_type": "code",
   "execution_count": 53,
   "id": "b5114747",
   "metadata": {
    "scrolled": false
   },
   "outputs": [
    {
     "name": "stdout",
     "output_type": "stream",
     "text": [
      "Field name is  CHANNEL : and Count for this categories are  3\n",
      "Online                  468\n",
      "Third Party Partner     858\n",
      "Agent                  3194\n",
      "Name: Channel, dtype: int64\n",
      "\n",
      "\n",
      "\n",
      "Field name is  OCCUPATION : and Count for this categories are  4\n",
      "Free Lancer          2\n",
      "Large Business     408\n",
      "Small Business    1918\n",
      "Salaried          2192\n",
      "Name: Occupation, dtype: int64\n",
      "\n",
      "\n",
      "\n",
      "Field name is  EDUCATIONFIELD : and Count for this categories are  6\n",
      "MBA                 74\n",
      "Post Graduate      252\n",
      "Engineer           408\n",
      "Diploma            496\n",
      "Under Graduate    1420\n",
      "Graduate          1870\n",
      "Name: EducationField, dtype: int64\n",
      "\n",
      "\n",
      "\n",
      "Field name is  GENDER : and Count for this categories are  2\n",
      "Female    1832\n",
      "Male      2688\n",
      "Name: Gender, dtype: int64\n",
      "\n",
      "\n",
      "\n",
      "Field name is  DESIGNATION : and Count for this categories are  5\n",
      "VP                 226\n",
      "AVP                336\n",
      "Senior Manager     676\n",
      "Manager           1620\n",
      "Executive         1662\n",
      "Name: Designation, dtype: int64\n",
      "\n",
      "\n",
      "\n",
      "Field name is  MARITALSTATUS : and Count for this categories are  4\n",
      "Unmarried     194\n",
      "Divorced      804\n",
      "Single       1254\n",
      "Married      2268\n",
      "Name: MaritalStatus, dtype: int64\n",
      "\n",
      "\n",
      "\n",
      "Field name is  ZONE : and Count for this categories are  4\n",
      "South       6\n",
      "East       64\n",
      "North    1884\n",
      "West     2566\n",
      "Name: Zone, dtype: int64\n",
      "\n",
      "\n",
      "\n",
      "Field name is  PAYMENTMETHOD : and Count for this categories are  4\n",
      "Quarterly        76\n",
      "Monthly         354\n",
      "Yearly         1434\n",
      "Half Yearly    2656\n",
      "Name: PaymentMethod, dtype: int64\n",
      "\n",
      "\n",
      "\n"
     ]
    }
   ],
   "source": [
    "#Finding unique values for categorical variables\n",
    "for column in df2.columns:\n",
    "    if df2[column].dtype == 'object':\n",
    "        print(\"Field name is \", column.upper(),': and Count for this categories are ',df2[column].nunique())\n",
    "        print(df2[column].value_counts().sort_values())\n",
    "        print('\\n\\n')"
   ]
  },
  {
   "cell_type": "code",
   "execution_count": 54,
   "id": "f9570ece",
   "metadata": {},
   "outputs": [
    {
     "name": "stdout",
     "output_type": "stream",
     "text": [
      "Index(['Age', 'CustTenure', 'Channel', 'Occupation', 'EducationField',\n",
      "       'Gender', 'ExistingProdType', 'Designation', 'NumberOfPolicy',\n",
      "       'MaritalStatus', 'MonthlyIncome', 'ExistingPolicyTenure', 'Zone',\n",
      "       'PaymentMethod', 'AgentBonus_Per_Policy', 'SumAssured_Per_Policy'],\n",
      "      dtype='object')\n"
     ]
    },
    {
     "data": {
      "image/png": "[encoded data removed]",
      "text/plain": [
       "<Figure size 864x1152 with 16 Axes>"
      ]
     },
     "metadata": {
      "needs_background": "light"
     },
     "output_type": "display_data"
    }
   ],
   "source": [
    "col_list=df2.columns\n",
    "print(col_list)\n",
    "\n",
    "fig, axes = plt.subplots(nrows=8,ncols=2)\n",
    "fig.set_size_inches(12,16)\n",
    "x=0\n",
    "y=0\n",
    "for i in df2.select_dtypes(include='number'):\n",
    "        ax_hist=sns.histplot(x=df2[i], kde=True, ax=axes[x][y], color='g')\n",
    "        ax_box=sns.boxplot(x=df2[i], data=df2, ax=axes[x][y+1], color='y')\n",
    "        plt.xticks(rotation=45)\n",
    "        ax_hist.set(xlabel=i,title='Histogram for '+i)\n",
    "        ax_box.set(xlabel=i,title='BoxPlot for '+i)\n",
    "        plt.tight_layout()\n",
    "        x=x+1"
   ]
  },
  {
   "cell_type": "code",
   "execution_count": 55,
   "id": "e961ba90",
   "metadata": {},
   "outputs": [
    {
     "data": {
      "text/plain": [
       "Age                      0.960101\n",
       "CustTenure               0.928995\n",
       "ExistingProdType        -0.401100\n",
       "NumberOfPolicy          -0.108161\n",
       "MonthlyIncome            1.373508\n",
       "ExistingPolicyTenure     3.440053\n",
       "AgentBonus_Per_Policy    2.144651\n",
       "SumAssured_Per_Policy    2.373659\n",
       "dtype: float64"
      ]
     },
     "execution_count": 55,
     "metadata": {},
     "output_type": "execute_result"
    }
   ],
   "source": [
    "##Check for Skewness of the data:\n",
    "df2.skew()"
   ]
  },
  {
   "cell_type": "raw",
   "id": "6c86bde7",
   "metadata": {},
   "source": [
    "Insights:\n",
    "\tdata is not 100% Normally distributed\n",
    "\tAbout all data have Outliers, and which is possible because , insurance Policies , can be different for many customers, depending on their Need , worth and sum insured.\n",
    "\tAll data is Slightly Right Skewed  "
   ]
  },
  {
   "cell_type": "markdown",
   "id": "5af924bd",
   "metadata": {},
   "source": [
    "## Bivariate Analysis"
   ]
  },
  {
   "cell_type": "markdown",
   "id": "ce59896f",
   "metadata": {},
   "source": [
    "#### Biveriate analysis of all other fields, with repect to Agent Bonus, and take Mean, Counts and Sum of Categorical fields"
   ]
  },
  {
   "cell_type": "code",
   "execution_count": 56,
   "id": "2e83d198",
   "metadata": {
    "scrolled": false
   },
   "outputs": [
    {
     "name": "stdout",
     "output_type": "stream",
     "text": [
      "Field name is  CHANNEL : and Distinct Count for this Column is  3\n",
      "Field name is  CHANNEL : and it's distinct  categories are  ['Agent' 'Third Party Partner' 'Online']\n",
      "Counts are each categories of this column are : \n",
      " Online                  468\n",
      "Third Party Partner     858\n",
      "Agent                  3194\n",
      "Name: Channel, dtype: int64\n",
      "\n",
      "Average AgentBonus for each categories of this Column are:  Channel\n",
      "Third Party Partner    1419.576690\n",
      "Agent                  1453.390106\n",
      "Online                 1456.468768\n",
      "Name: AgentBonus_Per_Policy, dtype: float64\n",
      "\n",
      "Total sum value of AgentBonus for each category for Column are :  Channel\n",
      "Online                 6.816274e+05\n",
      "Third Party Partner    1.217997e+06\n",
      "Agent                  4.642128e+06\n",
      "Name: AgentBonus_Per_Policy, dtype: float64\n",
      "\n",
      "\n",
      "\n",
      "\n",
      "Field name is  OCCUPATION : and Distinct Count for this Column is  4\n",
      "Field name is  OCCUPATION : and it's distinct  categories are  ['Salaried' 'Free Lancer' 'Small Business' 'Large Business']\n",
      "Counts are each categories of this column are : \n",
      " Free Lancer          2\n",
      "Large Business     408\n",
      "Small Business    1918\n",
      "Salaried          2192\n",
      "Name: Occupation, dtype: int64\n",
      "\n",
      "Average AgentBonus for each categories of this Column are:  Occupation\n",
      "Free Lancer       1174.416667\n",
      "Large Business    1337.526348\n",
      "Small Business    1426.108568\n",
      "Salaried          1486.503817\n",
      "Name: AgentBonus_Per_Policy, dtype: float64\n",
      "\n",
      "Total sum value of AgentBonus for each category for Column are :  Occupation\n",
      "Free Lancer       2.348833e+03\n",
      "Large Business    5.457107e+05\n",
      "Small Business    2.735276e+06\n",
      "Salaried          3.258416e+06\n",
      "Name: AgentBonus_Per_Policy, dtype: float64\n",
      "\n",
      "\n",
      "\n",
      "\n",
      "Field name is  EDUCATIONFIELD : and Distinct Count for this Column is  6\n",
      "Field name is  EDUCATIONFIELD : and it's distinct  categories are  ['Graduate' 'Post Graduate' 'Under Graduate' 'Engineer' 'Diploma' 'MBA']\n",
      "Counts are each categories of this column are : \n",
      " MBA                 74\n",
      "Post Graduate      252\n",
      "Engineer           408\n",
      "Diploma            496\n",
      "Under Graduate    1420\n",
      "Graduate          1870\n",
      "Name: EducationField, dtype: int64\n",
      "\n",
      "Average AgentBonus for each categories of this Column are:  EducationField\n",
      "Engineer          1306.026511\n",
      "Under Graduate    1416.263650\n",
      "MBA               1432.172297\n",
      "Diploma           1454.777688\n",
      "Graduate          1491.099947\n",
      "Post Graduate     1515.442857\n",
      "Name: AgentBonus_Per_Policy, dtype: float64\n",
      "\n",
      "Total sum value of AgentBonus for each category for Column are :  EducationField\n",
      "MBA               1.059808e+05\n",
      "Post Graduate     3.818916e+05\n",
      "Engineer          5.328588e+05\n",
      "Diploma           7.215697e+05\n",
      "Under Graduate    2.011094e+06\n",
      "Graduate          2.788357e+06\n",
      "Name: AgentBonus_Per_Policy, dtype: float64\n",
      "\n",
      "\n",
      "\n",
      "\n",
      "Field name is  GENDER : and Distinct Count for this Column is  2\n",
      "Field name is  GENDER : and it's distinct  categories are  ['Female' 'Male']\n",
      "Counts are each categories of this column are : \n",
      " Female    1832\n",
      "Male      2688\n",
      "Name: Gender, dtype: int64\n",
      "\n",
      "Average AgentBonus for each categories of this Column are:  Gender\n",
      "Female    1432.857442\n",
      "Male      1457.126990\n",
      "Name: AgentBonus_Per_Policy, dtype: float64\n",
      "\n",
      "Total sum value of AgentBonus for each category for Column are :  Gender\n",
      "Female    2.624995e+06\n",
      "Male      3.916757e+06\n",
      "Name: AgentBonus_Per_Policy, dtype: float64\n",
      "\n",
      "\n",
      "\n",
      "\n",
      "Field name is  DESIGNATION : and Distinct Count for this Column is  5\n",
      "Field name is  DESIGNATION : and it's distinct  categories are  ['Manager' 'Executive' 'VP' 'AVP' 'Senior Manager']\n",
      "Counts are each categories of this column are : \n",
      " VP                 226\n",
      "AVP                336\n",
      "Senior Manager     676\n",
      "Manager           1620\n",
      "Executive         1662\n",
      "Name: Designation, dtype: int64\n",
      "\n",
      "Average AgentBonus for each categories of this Column are:  Designation\n",
      "Executive         1234.364811\n",
      "Manager           1405.986770\n",
      "Senior Manager    1607.296031\n",
      "AVP               1897.170685\n",
      "VP                2161.760324\n",
      "Name: AgentBonus_Per_Policy, dtype: float64\n",
      "\n",
      "Total sum value of AgentBonus for each category for Column are :  Designation\n",
      "VP                4.885578e+05\n",
      "AVP               6.374494e+05\n",
      "Senior Manager    1.086532e+06\n",
      "Executive         2.051514e+06\n",
      "Manager           2.277699e+06\n",
      "Name: AgentBonus_Per_Policy, dtype: float64\n",
      "\n",
      "\n",
      "\n",
      "\n",
      "Field name is  MARITALSTATUS : and Distinct Count for this Column is  4\n",
      "Field name is  MARITALSTATUS : and it's distinct  categories are  ['Single' 'Divorced' 'Unmarried' 'Married']\n",
      "Counts are each categories of this column are : \n",
      " Unmarried     194\n",
      "Divorced      804\n",
      "Single       1254\n",
      "Married      2268\n",
      "Name: MaritalStatus, dtype: int64\n",
      "\n",
      "Average AgentBonus for each categories of this Column are:  MaritalStatus\n",
      "Divorced     1213.452177\n",
      "Unmarried    1348.409622\n",
      "Single       1452.517145\n",
      "Married      1535.753380\n",
      "Name: AgentBonus_Per_Policy, dtype: float64\n",
      "\n",
      "Total sum value of AgentBonus for each category for Column are :  MaritalStatus\n",
      "Unmarried    2.615915e+05\n",
      "Divorced     9.756155e+05\n",
      "Single       1.821456e+06\n",
      "Married      3.483089e+06\n",
      "Name: AgentBonus_Per_Policy, dtype: float64\n",
      "\n",
      "\n",
      "\n",
      "\n",
      "Field name is  ZONE : and Distinct Count for this Column is  4\n",
      "Field name is  ZONE : and it's distinct  categories are  ['North' 'West' 'East' 'South']\n",
      "Counts are each categories of this column are : \n",
      " South       6\n",
      "East       64\n",
      "North    1884\n",
      "West     2566\n",
      "Name: Zone, dtype: int64\n",
      "\n",
      "Average AgentBonus for each categories of this Column are:  Zone\n",
      "South    1337.038889\n",
      "North    1423.996665\n",
      "East     1427.593229\n",
      "West     1465.141959\n",
      "Name: AgentBonus_Per_Policy, dtype: float64\n",
      "\n",
      "Total sum value of AgentBonus for each category for Column are :  Zone\n",
      "South    8.022233e+03\n",
      "East     9.136597e+04\n",
      "North    2.682810e+06\n",
      "West     3.759554e+06\n",
      "Name: AgentBonus_Per_Policy, dtype: float64\n",
      "\n",
      "\n",
      "\n",
      "\n",
      "Field name is  PAYMENTMETHOD : and Distinct Count for this Column is  4\n",
      "Field name is  PAYMENTMETHOD : and it's distinct  categories are  ['Half Yearly' 'Yearly' 'Quarterly' 'Monthly']\n",
      "Counts are each categories of this column are : \n",
      " Quarterly        76\n",
      "Monthly         354\n",
      "Yearly         1434\n",
      "Half Yearly    2656\n",
      "Name: PaymentMethod, dtype: int64\n",
      "\n",
      "Average AgentBonus for each categories of this Column are:  PaymentMethod\n",
      "Quarterly      1148.781579\n",
      "Yearly         1438.049361\n",
      "Monthly        1443.254661\n",
      "Half Yearly    1461.359130\n",
      "Name: AgentBonus_Per_Policy, dtype: float64\n",
      "\n",
      "Total sum value of AgentBonus for each category for Column are :  PaymentMethod\n",
      "Quarterly      8.730740e+04\n",
      "Monthly        5.109121e+05\n",
      "Yearly         2.062163e+06\n",
      "Half Yearly    3.881370e+06\n",
      "Name: AgentBonus_Per_Policy, dtype: float64\n",
      "\n",
      "\n",
      "\n",
      "\n"
     ]
    }
   ],
   "source": [
    "#Finding unique values for categorical variables\n",
    "for column in df2.select_dtypes(include='object'):\n",
    "    print(\"Field name is \", column.upper(),': and Distinct Count for this Column is ',df2[column].nunique())\n",
    "    print(\"Field name is \", column.upper(),': and it\\'s distinct  categories are ',df2[column].unique(), end='\\n')\n",
    "    print('Counts are each categories of this column are : \\n',df2[column].value_counts().sort_values(),end='\\n\\n')\n",
    "    print('Average AgentBonus for each categories of this Column are: ',df2.groupby(column)['AgentBonus_Per_Policy'].mean('AgentBonus_Per_Policy').sort_values(),end='\\n\\n')\n",
    "    print('Total sum value of AgentBonus for each category for Column are : ',df2.groupby(column)['AgentBonus_Per_Policy'].sum('AgentBonus_Per_Policy').sort_values(),end='\\n\\n')\n",
    "    print('\\n\\n')"
   ]
  },
  {
   "cell_type": "raw",
   "id": "393b763e",
   "metadata": {},
   "source": [
    "Insights:\n",
    "Based on the Above counts and unique values of Different Categorical fields of the data, we can come to this conclusion:\n",
    "\n",
    "1. Field name is  CHANNEL : and Distinct Count for this Column is  3\n",
    "Field name is  CHANNEL : and it's distinct  categories are  ['Agent' 'Third Party Partner' 'Online']\n",
    "There are maximum no of insurance taken from Agents with no of 3194 , and least no of insurance taken by online channel with count of 468.\n",
    "\n",
    "2. On an average all three type of channels recceiving about similar bonus, there is very slight difference in Bonus amount, if channel is different.\n",
    "\n",
    "3. maximum total Bonus received by Agents Categories and Online policy giving agents get least amount of Bonus\n",
    "\n",
    "4. Field name is  OCCUPATION : and Distinct Count for this Column is  4\n",
    "Field name is  OCCUPATION : and it's distinct  categories are  ['Salaried' 'Free Lancer' 'Small Business' 'Large Business']\n",
    "Salaried person are among highest Insurance holder with count of 2192, whereas Free lancer taken very less insurance of only 2 records in sample data\n",
    "\n",
    "5. again, on an average Bonus remain about same for all agents, who sold policies to any occupation of Custoomer, though Bonus is highest for Salaries Customer.\n",
    "\n",
    "6. Undoubtly Total bonus for Agents, who sold policy to Salaried Customers are maximum, because Salaried person are maximum in numbers as well.\n",
    "\n",
    "7. Field name is  EDUCATIONFIELD : and Distinct Count for this Column is  6\n",
    "Field name is  EDUCATIONFIELD : and it's distinct  categories are  ['Graduate' 'Post Graduate' 'Under Graduate' 'Engineer' 'Diploma' 'MBA']\n",
    "there are maximum Customers are Graduate, whereas MBA holder are least.\n",
    "\n",
    "8. Field name is  GENDER : and Distinct Count for this Column is  2\n",
    "Field name is  GENDER : and it's distinct  categories are  ['Female' 'Male']\n",
    "Maximu  Customers are Male \n",
    "\n",
    "9. Field name is  DESIGNATION : and Distinct Count for this Column is  5\n",
    "Field name is  DESIGNATION : and it's distinct  categories are  ['Manager' 'Executive' 'VP' 'AVP' 'Senior Manager']\n",
    "Counts are each categories of this column are : \n",
    "maximum customers are Executivves and lesat customers are on VP post, this is obvious data.\n",
    "\n",
    "10. maximum Average bonus given to Agents, who sold policies to VP, it seems, VP takes most Sum insured, thats why Bonus is high for them.\n",
    "\n",
    "11. Field name is  MARITALSTATUS : and Distinct Count for this Column is  4\n",
    "Field name is  MARITALSTATUS : and it's distinct  categories are  ['Single' 'Divorced' 'Unmarried' 'Married']\n",
    "Counts are each categories of this column are : \n",
    "Married person baught maximum policies.\n",
    "\n",
    "12. Field name is  ZONE : and Distinct Count for this Column is  4\n",
    "Field name is  ZONE : and it's distinct  categories are  ['North' 'West' 'East' 'South']\n",
    "Counts are each categories of this column are : \n",
    "maximum customers belong to West region of Country with the count of 2566, whereas there are only 6 customers from South region, this is interesting data to analyze, why we have very less customers from south. Also customers from east region are also very less with no of 64.\n",
    "\n",
    "13. Field name is  PAYMENTMETHOD : and Distinct Count for this Column is  4\n",
    "Field name is  PAYMENTMETHOD : and it's distinct  categories are  ['Half Yearly' 'Yearly' 'Quarterly' 'Monthly']\n",
    "Counts are each categories of this column are : \n",
    "Customers like to give EMI for policy maximumm is half yearly and then yearly."
   ]
  },
  {
   "cell_type": "code",
   "execution_count": 57,
   "id": "03fb819f",
   "metadata": {
    "scrolled": false
   },
   "outputs": [
    {
     "name": "stdout",
     "output_type": "stream",
     "text": [
      "Index(['Age', 'CustTenure', 'Channel', 'Occupation', 'EducationField',\n",
      "       'Gender', 'ExistingProdType', 'Designation', 'NumberOfPolicy',\n",
      "       'MaritalStatus', 'MonthlyIncome', 'ExistingPolicyTenure', 'Zone',\n",
      "       'PaymentMethod', 'AgentBonus_Per_Policy', 'SumAssured_Per_Policy'],\n",
      "      dtype='object')\n"
     ]
    },
    {
     "data": {
      "image/png": "[encoded data removed]",
      "text/plain": [
       "<Figure size 1728x2160 with 24 Axes>"
      ]
     },
     "metadata": {
      "needs_background": "light"
     },
     "output_type": "display_data"
    }
   ],
   "source": [
    "col_list=df2.columns\n",
    "print(col_list)\n",
    "\n",
    "fig, axes = plt.subplots(nrows=8,ncols=3)\n",
    "fig.set_size_inches(24,30)\n",
    "x=0\n",
    "y=0\n",
    "for i in df2.select_dtypes(include='object'):\n",
    "        ax_count=sns.countplot(data=df2, ax=axes[x][y], x=i, color='lightgreen', orient='v' ) ##color='g'\n",
    "        ax_count.set(xlabel=i,title='Count Plot for '+i)\n",
    "        plt.xticks(rotation=60)\n",
    "        for container in ax_count.containers:\n",
    "            ax_count.bar_label(container)\n",
    "        ax_bar=sns.barplot(data = df2, x=i, y='AgentBonus_Per_Policy', ax=axes[x][y+1] , color='orange', ci=0.1, orient='v')\n",
    "        ax_bar.set(xlabel=i,title='BarPlot for '+i)\n",
    "        plt.xticks(rotation=60)\n",
    "        for container in ax_bar.containers:\n",
    "            ax_bar.bar_label(container)\n",
    "        ax_sum_var=sns.barplot(data = df2, x=i, y='AgentBonus_Per_Policy', ax=axes[x][y+2] , estimator=sum, color='lightblue', ci=0.1, orient='v')\n",
    "        ax_sum_var.set(xlabel=i,title='Sum for this field Graph for '+i)\n",
    "        plt.xticks(rotation=60)\n",
    "        for container in ax_sum_var.containers:\n",
    "            #ax_sum_var.bar_label(container)\n",
    "            ax_sum_var.bar_label(ax_sum_var.containers[0], fmt='%.0f')\n",
    "        plt.tight_layout()\n",
    "        x=x+1"
   ]
  },
  {
   "cell_type": "markdown",
   "id": "98dca1d9",
   "metadata": {},
   "source": [
    "#### We have ploted Counts, Mean and Sum for Agent Bonus against each categorical field of sample data"
   ]
  },
  {
   "cell_type": "markdown",
   "id": "1fa06582",
   "metadata": {},
   "source": [
    "## Multivariate Analysis"
   ]
  },
  {
   "cell_type": "code",
   "execution_count": null,
   "id": "219b0b84",
   "metadata": {
    "scrolled": false
   },
   "outputs": [],
   "source": [
    "plt.figure(figsize=(10,10))\n",
    "## sns.pairplot(data=df2, diag_kind='kde',hue = 'AgentBonus');\n",
    "sns.pairplot(data=df2.select_dtypes(include='number'),  hue=\"AgentBonus_Per_Policy\")"
   ]
  },
  {
   "cell_type": "raw",
   "id": "092cc7f1",
   "metadata": {},
   "source": [
    "insights:\n",
    "1. there is clear separation of Bonus for Agents, as all variables increasing, Bonus also increasing."
   ]
  },
  {
   "cell_type": "code",
   "execution_count": null,
   "id": "5b699bc4",
   "metadata": {
    "scrolled": false
   },
   "outputs": [],
   "source": [
    "## Heat Map for all Numeric Fields\n",
    "plt.figure(figsize=(8,8))\n",
    "colormap = sns.color_palette(\"Greens\")\n",
    "sns.heatmap(df2.corr(),annot=True,cmap=colormap,);\n",
    "plt.xticks(rotation=60)"
   ]
  },
  {
   "cell_type": "code",
   "execution_count": null,
   "id": "c5d3907a",
   "metadata": {},
   "outputs": [],
   "source": [
    "colormap = sns.color_palette(\"Blues\")\n",
    "sns.heatmap(df2.corr(), cmap=colormap)\n",
    "plt.xticks(rotation=60)"
   ]
  },
  {
   "cell_type": "code",
   "execution_count": null,
   "id": "6dd88d7f",
   "metadata": {},
   "outputs": [],
   "source": [
    "df2.corr().T"
   ]
  },
  {
   "cell_type": "code",
   "execution_count": null,
   "id": "8bef3783",
   "metadata": {},
   "outputs": [],
   "source": []
  },
  {
   "cell_type": "raw",
   "id": "f2650cea",
   "metadata": {},
   "source": [
    "Insights:\n",
    "1. AgentBonus_Per_Policy have very strong relationship with about all of the other fields\n",
    "    As Sum insured of the Customer increases, Bonus also increases\n",
    "    Bonus increased with the experience of the Age of the Customer, Customer tenure, Monthly income of the Customer, \n",
    "    as well as Existing policy tenure, \n",
    "2. There are very minute positive relationship between Agent Bonus with Existing Prod type, Number of Policies, and \n",
    "    Customer care Score\n"
   ]
  },
  {
   "cell_type": "code",
   "execution_count": null,
   "id": "a42731fb",
   "metadata": {},
   "outputs": [],
   "source": [
    "df2.groupby(\"NumberOfPolicy\").Age.count()"
   ]
  },
  {
   "cell_type": "code",
   "execution_count": null,
   "id": "1114466c",
   "metadata": {},
   "outputs": [],
   "source": [
    "df2.to_csv('C:\\\\Users\\\\Amit.Jain\\\\Desktop\\\\PGP-DSBA\\\\Capstone_Project\\\\LI_BFSI_01+-+Life+Insurance+Sales\\\\Sales_refined_data.csv')"
   ]
  },
  {
   "cell_type": "code",
   "execution_count": null,
   "id": "5a704d3e",
   "metadata": {},
   "outputs": [],
   "source": []
  },
  {
   "cell_type": "code",
   "execution_count": null,
   "id": "5bf5ac0b",
   "metadata": {},
   "outputs": [],
   "source": []
  },
  {
   "cell_type": "code",
   "execution_count": null,
   "id": "aec3d7e9",
   "metadata": {
    "scrolled": true
   },
   "outputs": [],
   "source": [
    "df = pd.read_csv(\"Sales_refined_data.csv\")\n",
    "df.head()"
   ]
  },
  {
   "cell_type": "code",
   "execution_count": null,
   "id": "c5626148",
   "metadata": {},
   "outputs": [],
   "source": [
    "df.drop('Unnamed: 0',inplace=True, axis=1)"
   ]
  },
  {
   "cell_type": "code",
   "execution_count": null,
   "id": "bec3e792",
   "metadata": {},
   "outputs": [],
   "source": [
    "df.shape"
   ]
  },
  {
   "cell_type": "code",
   "execution_count": null,
   "id": "94c0df88",
   "metadata": {},
   "outputs": [],
   "source": [
    "df.head()"
   ]
  },
  {
   "cell_type": "code",
   "execution_count": null,
   "id": "59c3c05a",
   "metadata": {},
   "outputs": [],
   "source": [
    "print(\"Data has \", df.shape[0],\" rows and  \",df.shape[1],\" columns \")"
   ]
  },
  {
   "cell_type": "code",
   "execution_count": null,
   "id": "d58d6068",
   "metadata": {},
   "outputs": [],
   "source": [
    "df.describe().T"
   ]
  },
  {
   "cell_type": "code",
   "execution_count": null,
   "id": "4b30c203",
   "metadata": {},
   "outputs": [],
   "source": [
    "df.info()"
   ]
  },
  {
   "cell_type": "code",
   "execution_count": null,
   "id": "103ad187",
   "metadata": {
    "scrolled": true
   },
   "outputs": [],
   "source": [
    "df.columns"
   ]
  },
  {
   "cell_type": "code",
   "execution_count": null,
   "id": "da05256d",
   "metadata": {},
   "outputs": [],
   "source": [
    "#Checking Null Value\n",
    "df.isnull().sum()"
   ]
  },
  {
   "cell_type": "markdown",
   "id": "5ef7596b",
   "metadata": {},
   "source": [
    "There are no NULL values in the any field"
   ]
  },
  {
   "cell_type": "code",
   "execution_count": null,
   "id": "9972ef10",
   "metadata": {},
   "outputs": [],
   "source": [
    "df.isnull().sum().sum()"
   ]
  },
  {
   "cell_type": "code",
   "execution_count": null,
   "id": "67e9144e",
   "metadata": {},
   "outputs": [],
   "source": [
    "df.size"
   ]
  },
  {
   "cell_type": "markdown",
   "id": "a84ecba9",
   "metadata": {},
   "source": [
    "## Encode the data (having string values) for Modelling. \n",
    "\n",
    "## Split the data into train and test (70:30). Apply Linear regression using scikit learn. \n",
    "\n",
    "## Perform checks for significant variables using appropriate method from statsmodel. Create multiple models and check the performance of Predictions on Train and Test sets using Rsquare, RMSE & Adj Rsquare. Compare these models and select the best one with appropriate reasoning."
   ]
  },
  {
   "cell_type": "markdown",
   "id": "f41986a2",
   "metadata": {},
   "source": [
    "### Data Encoding:"
   ]
  },
  {
   "cell_type": "code",
   "execution_count": null,
   "id": "a4b26ba9",
   "metadata": {
    "scrolled": true
   },
   "outputs": [],
   "source": [
    "df3=df.copy()"
   ]
  },
  {
   "cell_type": "code",
   "execution_count": null,
   "id": "ab51753c",
   "metadata": {},
   "outputs": [],
   "source": [
    "for col in df3.columns: \n",
    "    if df3[col].dtype == 'object': \n",
    "        print('\\n')\n",
    "        print('Columns is :',col)\n",
    "        print(pd.Categorical(df3[col].unique()))\n",
    "        print(pd.Categorical(df3[col].unique()).codes)\n",
    "        df3[col] = pd.Categorical(df3[col]).codes"
   ]
  },
  {
   "cell_type": "code",
   "execution_count": null,
   "id": "000ab215",
   "metadata": {},
   "outputs": [],
   "source": [
    "df3.head()"
   ]
  },
  {
   "cell_type": "code",
   "execution_count": null,
   "id": "89969d38",
   "metadata": {
    "scrolled": false
   },
   "outputs": [],
   "source": [
    "df3.info()"
   ]
  },
  {
   "cell_type": "code",
   "execution_count": null,
   "id": "161ca373",
   "metadata": {
    "scrolled": true
   },
   "outputs": [],
   "source": [
    "df3.columns"
   ]
  },
  {
   "cell_type": "code",
   "execution_count": null,
   "id": "36c57b66",
   "metadata": {},
   "outputs": [],
   "source": []
  },
  {
   "cell_type": "markdown",
   "id": "18f3232e",
   "metadata": {},
   "source": [
    "### Data Split: Split the data into train and test (70:30)"
   ]
  },
  {
   "cell_type": "code",
   "execution_count": null,
   "id": "8126c082",
   "metadata": {},
   "outputs": [],
   "source": [
    "## Create one more Duplicate data set , in case anything goes wrong while Splitting the data set\n",
    "df_new=df3.copy()"
   ]
  },
  {
   "cell_type": "raw",
   "id": "0d3ebbda",
   "metadata": {},
   "source": [
    "Split the original data into train and Test data set"
   ]
  },
  {
   "cell_type": "code",
   "execution_count": null,
   "id": "0025288a",
   "metadata": {},
   "outputs": [],
   "source": [
    "df_new.drop('AgentBonus_Per_Policy', axis=1)"
   ]
  },
  {
   "cell_type": "code",
   "execution_count": null,
   "id": "1814e031",
   "metadata": {},
   "outputs": [],
   "source": [
    "X = df_new.drop('AgentBonus_Per_Policy', axis=1)\n",
    "y = df_new[['AgentBonus_Per_Policy']]"
   ]
  },
  {
   "cell_type": "code",
   "execution_count": null,
   "id": "41b70bf6",
   "metadata": {},
   "outputs": [],
   "source": [
    "X.head()"
   ]
  },
  {
   "cell_type": "code",
   "execution_count": null,
   "id": "b61a3c2f",
   "metadata": {},
   "outputs": [],
   "source": [
    "y.head()"
   ]
  },
  {
   "cell_type": "code",
   "execution_count": null,
   "id": "599ba977",
   "metadata": {},
   "outputs": [],
   "source": [
    "#Train and test split of X and y in 70:30 ratio\n",
    "X_train, X_test, y_train, y_test = train_test_split(X, y, test_size=0.3 , random_state=1)"
   ]
  },
  {
   "cell_type": "code",
   "execution_count": null,
   "id": "87f27efd",
   "metadata": {},
   "outputs": [],
   "source": [
    "X_train.head()"
   ]
  },
  {
   "cell_type": "code",
   "execution_count": null,
   "id": "e04fc14c",
   "metadata": {},
   "outputs": [],
   "source": [
    "print('Shape for X_train is ',X_train.shape)\n",
    "print('Shape for X_test is ',X_test.shape)\n",
    "print('Shape for y_train is ',y_train.shape)\n",
    "print('Shape for y_test is ',y_test.shape)"
   ]
  },
  {
   "cell_type": "markdown",
   "id": "7cb31d81",
   "metadata": {},
   "source": [
    "### SKLearn Linear Model"
   ]
  },
  {
   "cell_type": "code",
   "execution_count": null,
   "id": "ebea427f",
   "metadata": {},
   "outputs": [],
   "source": [
    "regression_model = LinearRegression()\n",
    "regression_model.fit(X_train, y_train)"
   ]
  },
  {
   "cell_type": "code",
   "execution_count": null,
   "id": "e96ef86f",
   "metadata": {},
   "outputs": [],
   "source": [
    "# As further deep dive, explore coefficients for each of the independent attributes\n",
    "for id, col in enumerate(X_train.columns):\n",
    "    print(\"The coefficient for {} is {}\".format(col, regression_model.coef_[0][id]))"
   ]
  },
  {
   "cell_type": "code",
   "execution_count": null,
   "id": "240eceba",
   "metadata": {},
   "outputs": [],
   "source": [
    "##Equation according to Learning regression First Model \n",
    "for id, col in enumerate(X_train.columns):\n",
    "    print(\"{} * {}\".format(col, regression_model.coef_[0][id]), end=' + ')\n",
    "print(regression_model.intercept_[0])"
   ]
  },
  {
   "cell_type": "code",
   "execution_count": null,
   "id": "ab9694b4",
   "metadata": {
    "scrolled": true
   },
   "outputs": [],
   "source": [
    "# Checking the intercept for the model\n",
    "intercept = regression_model.intercept_[0]\n",
    "print(\"The intercept for the model is {}\".format(intercept))\n",
    "\n",
    "print(\"Intercept is the point on Y Axis , when all values of X are Zero. basically when we say, what should be the value of Y when all params are Zero \")"
   ]
  },
  {
   "cell_type": "raw",
   "id": "b57a4d10",
   "metadata": {},
   "source": [
    "The coefficient of determination, denoted as 𝑅², tells you which amount of variation in 𝑦 can be explained by the dependence on 𝐱, using the particular regression model. A larger 𝑅² indicates a better fit and means that the model can better explain the variation of the output with different inputs.\n",
    "\n",
    "The value 𝑅² = 1 corresponds to SSR = 0. That’s the perfect fit, since the values of predicted and actual responses fit completely to each other.\n",
    "\n",
    "R-Squared: R2 is a statistic that will give some information about the goodness of fit of a model. It ranges from 0 to 1. Exxample: if the value of R-squared is 0.745 so it explains 74% of variance is explained by the model.\n",
    "\n",
    "for this Model , we have R-Squared as 0.896, which means, model is 89.6% of variance is explained by the model."
   ]
  },
  {
   "cell_type": "code",
   "execution_count": null,
   "id": "2a205c7b",
   "metadata": {},
   "outputs": [],
   "source": [
    "# R square for training data\n",
    "print('The coefficient of determination R^2 of the prediction on Train set',regression_model.score(X_train, y_train))"
   ]
  },
  {
   "cell_type": "code",
   "execution_count": null,
   "id": "1fafab35",
   "metadata": {},
   "outputs": [],
   "source": [
    "# R square for test data\n",
    "print('The coefficient of determination R^2 of the prediction on Test set',regression_model.score(X_test, y_test))"
   ]
  },
  {
   "cell_type": "raw",
   "id": "64f7bca5",
   "metadata": {},
   "source": [
    "One way to assess how well a regression model fits a dataset is to calculate the root mean square error, which is a metric that tells us the average distance between the predicted values from the model and the actual values in the dataset.\n",
    "\n",
    "The lower the RMSE, the better a given model is able to “fit” a dataset.\n",
    "\n",
    "The formula to find the root mean square error, often abbreviated RMSE, is as follows:\n",
    "\n",
    "RMSE = Square root of ( sum(Pi – Oi)**2 / n)\n",
    "\n",
    "where:\n",
    "\n",
    "Σ is a fancy symbol that means “sum”\n",
    "Pi is the predicted value for the ith observation in the dataset\n",
    "Oi is the observed value for the ith observation in the dataset\n",
    "n is the sample size\n",
    "\n",
    "This means that the RMSE represents the square root of the variance of the residuals.\n",
    "\n",
    "suppose we want to build a regression model to predict the exam score of students and we want to find the best possible model among several potential models.\n",
    "\n",
    "Suppose we fit three different regression models and find their corresponding RMSE values:\n",
    "\n",
    "RMSE of Model 1: 14.5\n",
    "RMSE of Model 2: 16.7\n",
    "RMSE of Model 3: 9.8\n",
    "\n",
    "Model 3 has the lowest RMSE, which tells us that it’s able to fit the dataset the best out of the three potential models."
   ]
  },
  {
   "cell_type": "code",
   "execution_count": null,
   "id": "5fb6135b",
   "metadata": {},
   "outputs": [],
   "source": [
    "#RMSE for Training data\n",
    "predicted_train=regression_model.fit(X_train, y_train).predict(X_train)\n",
    "print(\"The Root Mean Square Error (RMSE) of the model is for Train data set is\",np.sqrt(metrics.mean_squared_error(y_train,predicted_train)))"
   ]
  },
  {
   "cell_type": "code",
   "execution_count": null,
   "id": "179c3dec",
   "metadata": {},
   "outputs": [],
   "source": [
    "linear_reg_train_rmse = np.sqrt(metrics.mean_squared_error(y_train,predicted_train))\n",
    "linear_reg_train_rmse"
   ]
  },
  {
   "cell_type": "code",
   "execution_count": null,
   "id": "692a3186",
   "metadata": {},
   "outputs": [],
   "source": [
    "#RMSE for Testing data\n",
    "predicted_test=regression_model.fit(X_train, y_train).predict(X_test)\n",
    "np.sqrt(metrics.mean_squared_error(y_test,predicted_test))\n",
    "print(\"The Root Mean Square Error (RMSE) of the model is for testing set is\",np.sqrt(metrics.mean_squared_error(y_test,predicted_test)))"
   ]
  },
  {
   "cell_type": "code",
   "execution_count": null,
   "id": "43be5d75",
   "metadata": {},
   "outputs": [],
   "source": [
    "linear_reg_test_rmse = np.sqrt(metrics.mean_squared_error(y_test,predicted_test))\n",
    "linear_reg_test_rmse"
   ]
  },
  {
   "cell_type": "code",
   "execution_count": null,
   "id": "7b3050f4",
   "metadata": {
    "scrolled": false
   },
   "outputs": [],
   "source": [
    "#mpg prediction\n",
    "y_pred_test = regression_model.predict(X_test)\n",
    "plt.scatter(y_test['AgentBonus_Per_Policy'], y_pred_test)"
   ]
  },
  {
   "cell_type": "code",
   "execution_count": null,
   "id": "ad855126",
   "metadata": {},
   "outputs": [],
   "source": [
    "#mpg prediction\n",
    "y_pred_train = regression_model.predict(X_train)\n",
    "plt.scatter(y_train['AgentBonus_Per_Policy'], y_pred_train)"
   ]
  },
  {
   "cell_type": "code",
   "execution_count": null,
   "id": "f851e562",
   "metadata": {},
   "outputs": [],
   "source": [
    "from sklearn.metrics import mean_absolute_error,mean_absolute_percentage_error,mean_squared_error,explained_variance_score,r2_score"
   ]
  },
  {
   "cell_type": "code",
   "execution_count": null,
   "id": "397c9b09",
   "metadata": {},
   "outputs": [],
   "source": []
  },
  {
   "cell_type": "code",
   "execution_count": null,
   "id": "b15210b7",
   "metadata": {},
   "outputs": [],
   "source": [
    "# The MAE ( Mean asbsolute error)\n",
    "print('The MAE is:', mean_absolute_error(y_train,y_pred_train))\n",
    "linear_reg_train_MAE=mean_absolute_error(y_train,y_pred_train)\n",
    "# The MSE ( Mean Squared Error)\n",
    "print('The MSE is:', mean_squared_error(y_train,y_pred_train))\n",
    "linear_reg_train_MSE=mean_squared_error(y_train,y_pred_train)\n",
    "# The MAPE ( Mean Absolute Percentage Error)\n",
    "print( 'The MAPE is', mean_absolute_percentage_error(y_train,y_pred_train))\n",
    "linear_reg_train_MAPE=mean_absolute_percentage_error(y_train,y_pred_train)\n",
    "# The EVS (Expalained Variance Score)\n",
    "print('The EVS is', explained_variance_score(y_train,y_pred_train))\n",
    "linear_reg_train_EVS=explained_variance_score(y_train,y_pred_train)"
   ]
  },
  {
   "cell_type": "code",
   "execution_count": null,
   "id": "37d9f092",
   "metadata": {},
   "outputs": [],
   "source": [
    "# The MAE ( Mean asbsolute error)\n",
    "print('The MAE for Test data is:', mean_absolute_error(y_test,y_pred_test))\n",
    "linear_reg_test_MAE=mean_absolute_error(y_test,y_pred_test)\n",
    "# The MSE ( Mean Squared Error)\n",
    "print('The MSE for Test data is:', mean_squared_error(y_test,y_pred_test))\n",
    "linear_reg_test_MSE=mean_squared_error(y_test,y_pred_test)\n",
    "# The MAPE ( Mean Absolute Percentage Error)\n",
    "print('The MAPE for Test data is', mean_absolute_percentage_error(y_test,y_pred_test))\n",
    "linear_reg_test_MAPE=mean_absolute_percentage_error(y_test,y_pred_test)\n",
    "# The EVS (Expalained Variance Score)\n",
    "print('The EVS for Test data is', explained_variance_score(y_test,y_pred_test))\n",
    "linear_reg_test_EVS=explained_variance_score(y_test,y_pred_test)"
   ]
  },
  {
   "cell_type": "code",
   "execution_count": null,
   "id": "6605499c",
   "metadata": {},
   "outputs": [],
   "source": [
    "index=['Train RMSE', 'Test RMSE','Train MAE', 'Test MAE', 'Train MSE', 'Test MSE', \n",
    "       'Train MAPE', 'Test MAPE', 'Train EVS', 'Test EVS' ]\n",
    "final_result = pd.DataFrame({\n",
    "        'Linear Regression':[linear_reg_train_rmse,linear_reg_test_rmse, linear_reg_train_MAE, linear_reg_test_MAE,\n",
    "                             linear_reg_train_MSE, linear_reg_test_MSE, linear_reg_train_MAPE, linear_reg_test_MAPE,\n",
    "                             linear_reg_train_EVS, linear_reg_test_EVS]\n",
    "        },index=index)\n",
    "final_result"
   ]
  },
  {
   "cell_type": "markdown",
   "id": "7747a195",
   "metadata": {},
   "source": [
    "### Building Stats Model"
   ]
  },
  {
   "cell_type": "raw",
   "id": "973c4b85",
   "metadata": {},
   "source": [
    "Lets check all columns we have in the dataset"
   ]
  },
  {
   "cell_type": "code",
   "execution_count": null,
   "id": "765c3b69",
   "metadata": {},
   "outputs": [],
   "source": [
    "df_new.columns"
   ]
  },
  {
   "cell_type": "code",
   "execution_count": null,
   "id": "3ad29d23",
   "metadata": {},
   "outputs": [],
   "source": [
    "data_train = pd.concat([X_train, y_train], axis = 1)\n",
    "data_test = pd.concat([X_test, y_test], axis = 1)"
   ]
  },
  {
   "cell_type": "code",
   "execution_count": null,
   "id": "8a4d6c35",
   "metadata": {},
   "outputs": [],
   "source": [
    "data_train.columns"
   ]
  },
  {
   "cell_type": "code",
   "execution_count": null,
   "id": "3e8fe7ff",
   "metadata": {},
   "outputs": [],
   "source": [
    "data_train.info()"
   ]
  },
  {
   "cell_type": "code",
   "execution_count": null,
   "id": "09c532c9",
   "metadata": {},
   "outputs": [],
   "source": [
    "f_1 = 'AgentBonus_Per_Policy~Age+CustTenure+Channel+Occupation+EducationField+Gender+ExistingProdType+Designation+NumberOfPolicy+MaritalStatus+MonthlyIncome+ExistingPolicyTenure+Zone+PaymentMethod+SumAssured_Per_Policy'"
   ]
  },
  {
   "cell_type": "code",
   "execution_count": null,
   "id": "3dc6b1c4",
   "metadata": {},
   "outputs": [],
   "source": [
    "import statsmodels.formula.api as SM"
   ]
  },
  {
   "cell_type": "code",
   "execution_count": null,
   "id": "5f7a0f4a",
   "metadata": {},
   "outputs": [],
   "source": [
    "lm1 = SM.ols(formula = f_1, data= data_train).fit()\n",
    "lm1.params"
   ]
  },
  {
   "cell_type": "raw",
   "id": "5f6be233",
   "metadata": {},
   "source": [
    "Checking the parameters"
   ]
  },
  {
   "cell_type": "code",
   "execution_count": null,
   "id": "94df2644",
   "metadata": {},
   "outputs": [],
   "source": [
    "print(lm1.summary())  "
   ]
  },
  {
   "cell_type": "markdown",
   "id": "a82a83e0",
   "metadata": {},
   "source": [
    "### Matrics for Stats Model on Train and Test data"
   ]
  },
  {
   "cell_type": "code",
   "execution_count": null,
   "id": "e3cee67f",
   "metadata": {},
   "outputs": [],
   "source": [
    "import math"
   ]
  },
  {
   "cell_type": "code",
   "execution_count": null,
   "id": "38d431cc",
   "metadata": {},
   "outputs": [],
   "source": [
    "# Calculation of MSE for Test data set\n",
    "test_mse = np.mean((lm1.predict(data_test.drop('AgentBonus_Per_Policy',axis=1))-data_test['AgentBonus_Per_Policy'])**2)\n",
    "test_mse"
   ]
  },
  {
   "cell_type": "code",
   "execution_count": null,
   "id": "44cbdbf4",
   "metadata": {},
   "outputs": [],
   "source": [
    "#Root Mean Squared Error\n",
    "print('test data root mean square error value is : '+ str(np.sqrt(test_mse)))"
   ]
  },
  {
   "cell_type": "code",
   "execution_count": null,
   "id": "b072dd49",
   "metadata": {},
   "outputs": [],
   "source": [
    "# Calculation of MSE for Train data set\n",
    "train_mse = np.mean((lm1.predict(data_train.drop('AgentBonus_Per_Policy',axis=1))-data_train['AgentBonus_Per_Policy'])**2)\n",
    "train_mse"
   ]
  },
  {
   "cell_type": "code",
   "execution_count": null,
   "id": "1d6476a2",
   "metadata": {},
   "outputs": [],
   "source": [
    "#Root Mean Squared Error\n",
    "print('Train data root mean square error value is : '+ str(np.sqrt(train_mse)))"
   ]
  },
  {
   "cell_type": "code",
   "execution_count": null,
   "id": "1ae62098",
   "metadata": {
    "scrolled": false
   },
   "outputs": [],
   "source": [
    "# Calculation of MSE for Test data set\n",
    "test_mse_1 = np.mean((lm1.predict(data_test.drop('AgentBonus_Per_Policy',axis=1))-data_test['AgentBonus_Per_Policy'])**2)\n",
    "test_mse_1\n",
    "#Root Mean Squared Error\n",
    "print('test data root mean square error value is : '+ str(np.sqrt(test_mse_1)))\n",
    "# Calculation of MSE\n",
    "train_mse_1 = np.mean((lm1.predict(data_train.drop('AgentBonus_Per_Policy',axis=1))-data_train['AgentBonus_Per_Policy'])**2)\n",
    "train_mse_1\n",
    "#Root Mean Squared Error\n",
    "print('Train data root mean square error value is : '+ str(np.sqrt(train_mse_1)))\n",
    "print('Equation for model is :')\n",
    "for i,j in np.array(lm1.params.reset_index()):\n",
    "    print('({}) * {} +'.format(round(j,2),i),end=' ')\n",
    "    \n",
    "# Prediction on Test data\n",
    "y_pred_1 = lm1.predict(data_test)\n",
    "plt.scatter(y_test['AgentBonus_Per_Policy'], y_pred_1)\n",
    "plt.show()\n",
    "\n",
    "train_rmse_1=str(np.sqrt(train_mse_1))\n",
    "test_rmse_1=str(np.sqrt(test_mse_1))"
   ]
  },
  {
   "cell_type": "code",
   "execution_count": null,
   "id": "cdfb85a7",
   "metadata": {},
   "outputs": [],
   "source": [
    "y_test_predict = lm1.predict(data_test)\n",
    "y_train_predict = lm1.predict(data_train)"
   ]
  },
  {
   "cell_type": "code",
   "execution_count": null,
   "id": "f9ce6fd7",
   "metadata": {},
   "outputs": [],
   "source": [
    "y_train_predict.head()"
   ]
  },
  {
   "cell_type": "code",
   "execution_count": null,
   "id": "0719290f",
   "metadata": {},
   "outputs": [],
   "source": [
    "from statsmodels.iolib.summary import Summary\n",
    "\n",
    "y_test_predict = lm1.predict(data_test)\n",
    "y_train_predict = lm1.predict(data_train)\n",
    "\n",
    "# The MAE ( Mean asbsolute error)\n",
    "print('The MAE is:', mean_absolute_error(data_train['AgentBonus_Per_Policy'],y_train_predict))\n",
    "Stats_model_1_train_MAE=mean_absolute_error(data_train['AgentBonus_Per_Policy'],y_train_predict)\n",
    "# The MSE ( Mean Squared Error)\n",
    "print('The MSE is:', mean_squared_error(data_train['AgentBonus_Per_Policy'],y_train_predict))\n",
    "Stats_model_1_train_MSE=mean_squared_error(data_train['AgentBonus_Per_Policy'],y_train_predict)\n",
    "# The MAPE ( Mean Absolute Percentage Error)\n",
    "print( 'The MAPE is', mean_absolute_percentage_error(data_train['AgentBonus_Per_Policy'],y_train_predict))\n",
    "Stats_model_1_train_MAPE=mean_absolute_percentage_error(data_train['AgentBonus_Per_Policy'],y_train_predict)\n",
    "# The EVS (Expalained Variance Score)\n",
    "print('The EVS is', explained_variance_score(data_train['AgentBonus_Per_Policy'],y_train_predict))\n",
    "Stats_model_1_train_EVS=explained_variance_score(data_train['AgentBonus_Per_Policy'],y_train_predict)\n",
    "\n",
    "# The MAE ( Mean asbsolute error)\n",
    "print('The MAE for Test data is:', mean_absolute_error(data_test['AgentBonus_Per_Policy'],y_test_predict))\n",
    "Stats_model_1_test_MAE=mean_absolute_error(data_test['AgentBonus_Per_Policy'],y_test_predict)\n",
    "# The MSE ( Mean Squared Error)\n",
    "print('The MSE for Test data is:', mean_squared_error(data_test['AgentBonus_Per_Policy'],y_test_predict))\n",
    "Stats_model_1_test_MSE=mean_squared_error(data_test['AgentBonus_Per_Policy'],y_test_predict)\n",
    "# The MAPE ( Mean Absolute Percentage Error)\n",
    "print('The MAPE for Test data is', mean_absolute_percentage_error(data_test['AgentBonus_Per_Policy'],y_test_predict))\n",
    "Stats_model_1_test_MAPE=mean_absolute_percentage_error(data_test['AgentBonus_Per_Policy'],y_test_predict)\n",
    "# The EVS (Expalained Variance Score)\n",
    "print('The EVS for Test data is', explained_variance_score(data_test['AgentBonus_Per_Policy'],y_test_predict))\n",
    "Stats_model_1_test_EVS=explained_variance_score(data_test['AgentBonus_Per_Policy'],y_test_predict)"
   ]
  },
  {
   "cell_type": "code",
   "execution_count": null,
   "id": "b0a21f69",
   "metadata": {},
   "outputs": [],
   "source": [
    "data2= pd.DataFrame({\n",
    "        'Stats Model 1':[train_rmse_1,test_rmse_1, Stats_model_1_train_MAE, Stats_model_1_test_MAE,\n",
    "                  Stats_model_1_train_MSE, Stats_model_1_test_MSE, Stats_model_1_train_MAPE, Stats_model_1_test_MAPE,\n",
    "                  Stats_model_1_train_EVS, Stats_model_1_test_EVS]\n",
    "        },index=index)\n",
    "\n",
    "final_result=pd.concat([final_result,data2],axis=1)\n",
    "final_result"
   ]
  },
  {
   "cell_type": "markdown",
   "id": "61bd135e",
   "metadata": {},
   "source": [
    "### Iteration: 2"
   ]
  },
  {
   "cell_type": "markdown",
   "id": "bd94871c",
   "metadata": {},
   "source": [
    "#### We can see Lot of Fields have P value as more than 0.05, so we need to iliminate them , before we go further.\n",
    "#### Also to Notice, since we have lot of fields, we can not go and check for each single columns,\n",
    "#### So lets check VIF in Loop and find the best features according to VIF\n",
    "#### For this testing we will keep VIF thresold value as 5"
   ]
  },
  {
   "cell_type": "raw",
   "id": "cdcfc506",
   "metadata": {},
   "source": [
    "Calculate VIF for each Field and based on VIF value we decide, which column can be eliminated\n",
    "\n",
    "\n",
    "VIF (variance inflation factor) is used for checking multicollinearity in regression Model.\n",
    "its Values can range between 1 to Infinite.\n",
    "\n",
    "How to interpret a given VIF value?\n",
    "\n",
    "Consider the following linear regression model:\n",
    "\n",
    "Y = β0 + β1 × X1 + β2 × X2 + β3 × X3 + ε\n",
    "\n",
    "For each of the independent variables X1, X2 and X3 we can calculate the variance inflation factor (VIF) in order to determine if we have a multicollinearity problem.\n",
    "\n",
    "Here’s the formula for calculating the VIF for X1:\n",
    "\n",
    "VIF1 = 1 / (1 - R**2)\n",
    "\n",
    "VIF (variance inflating factor) formula for the first variable in the model\n",
    "R2 in this formula is the coefficient of determination from the linear regression model which has:\n",
    "\n",
    "X1 as dependent variable\n",
    "X2 and X3 as independent variables\n",
    "In other words, R2 comes from the following linear regression model:\n",
    "\n",
    "X1 = β0 + β1 × X2 + β2 × X3 + ε\n",
    "\n",
    "And because R2 is a number between 0 and 1:\n",
    "\n",
    "When R2 is close to 1 (i.e. X2 and X3 are highly predictive of X1): the VIF will be very large\n",
    "When R2 is close to 0 (i.e. X2 and X3 are not related to X1): the VIF will be close to 1\n",
    "Therefore the range of VIF is between 1 and infinity."
   ]
  },
  {
   "cell_type": "code",
   "execution_count": null,
   "id": "4a919c71",
   "metadata": {},
   "outputs": [],
   "source": [
    "import statsmodels.api as sm\n",
    "import pandas as pd\n",
    "from statsmodels.stats.outliers_influence import variance_inflation_factor\n",
    "\n",
    "x_vif = data_train.iloc[:,1:]\n",
    "y = data_train['AgentBonus_Per_Policy']"
   ]
  },
  {
   "cell_type": "code",
   "execution_count": null,
   "id": "b5cf5859",
   "metadata": {},
   "outputs": [],
   "source": [
    "thres = 5\n",
    "\n",
    "while True:\n",
    "    Cols = range(x_vif.shape[1])\n",
    "    \n",
    "    vif = np.array([variance_inflation_factor(x_vif.values, i) for i in Cols])\n",
    "    if all(vif < thres):\n",
    "        break\n",
    "    else:\n",
    "        Cols = np.delete(Cols,np.argmax(vif))\n",
    "        x_vif = x_vif.iloc[:,Cols]"
   ]
  },
  {
   "cell_type": "code",
   "execution_count": null,
   "id": "41f4a543",
   "metadata": {},
   "outputs": [],
   "source": [
    "len(x_vif.columns)"
   ]
  },
  {
   "cell_type": "code",
   "execution_count": null,
   "id": "2ce7bb43",
   "metadata": {
    "scrolled": true
   },
   "outputs": [],
   "source": [
    "x_vif.columns"
   ]
  },
  {
   "cell_type": "code",
   "execution_count": null,
   "id": "242a9ba8",
   "metadata": {},
   "outputs": [],
   "source": [
    "vif = [variance_inflation_factor(x_vif.values, ix) for ix in range(x_vif.shape[1])]"
   ]
  },
  {
   "cell_type": "code",
   "execution_count": null,
   "id": "4c8842c2",
   "metadata": {},
   "outputs": [],
   "source": [
    "i=0\n",
    "for column in x_vif.columns:\n",
    "    if i < len(x_vif.columns):\n",
    "        print ('VIF for ',column ,\"-->\",  vif[i])\n",
    "        i = i+1"
   ]
  },
  {
   "cell_type": "raw",
   "id": "52b4f26a",
   "metadata": {},
   "source": [
    "So features has been eliminated to 10 from total 16 features of Trian data set.\n",
    "Now lets run the Stats Model one more time."
   ]
  },
  {
   "cell_type": "code",
   "execution_count": null,
   "id": "f013b39c",
   "metadata": {},
   "outputs": [],
   "source": [
    "f_2 = 'AgentBonus_Per_Policy~CustTenure+Channel+EducationField+Gender+Designation+MaritalStatus+ExistingPolicyTenure+Zone+PaymentMethod+SumAssured_Per_Policy'"
   ]
  },
  {
   "cell_type": "code",
   "execution_count": null,
   "id": "0d7aebcc",
   "metadata": {},
   "outputs": [],
   "source": [
    "lm2 = SM.ols(formula= f_2, data = data_train).fit()\n",
    "lm2.params"
   ]
  },
  {
   "cell_type": "code",
   "execution_count": null,
   "id": "1e9588f3",
   "metadata": {
    "scrolled": false
   },
   "outputs": [],
   "source": [
    "print(lm2.summary()) "
   ]
  },
  {
   "cell_type": "code",
   "execution_count": null,
   "id": "b68c369d",
   "metadata": {},
   "outputs": [],
   "source": [
    "# Calculation of MSE for Test data set\n",
    "test_mse_2 = np.mean((lm2.predict(data_test.drop('AgentBonus_Per_Policy',axis=1))-data_test['AgentBonus_Per_Policy'])**2)\n",
    "test_mse_2\n",
    "#Root Mean Squared Error\n",
    "print('test data root mean square error value is : '+ str(np.sqrt(test_mse_2)))\n",
    "# Calculation of MSE\n",
    "train_mse_2 = np.mean((lm2.predict(data_train.drop('AgentBonus_Per_Policy',axis=1))-data_train['AgentBonus_Per_Policy'])**2)\n",
    "train_mse_2\n",
    "#Root Mean Squared Error\n",
    "print('Train data root mean square error value is : '+ str(np.sqrt(train_mse_2)))\n",
    "print('Equation for model is :')\n",
    "for i,j in np.array(lm2.params.reset_index()):\n",
    "    print('({}) * {} +'.format(round(j,2),i),end=' ')\n",
    "    \n",
    "# Prediction on Test data\n",
    "y_pred_2 = lm2.predict(data_test)\n",
    "plt.scatter(y_test['AgentBonus_Per_Policy'], y_pred_2)\n",
    "plt.show()\n",
    "\n",
    "train_rmse_2=str(np.sqrt(train_mse_2))\n",
    "test_rmse_2=str(np.sqrt(test_mse_2))"
   ]
  },
  {
   "cell_type": "code",
   "execution_count": null,
   "id": "e82c9ef8",
   "metadata": {},
   "outputs": [],
   "source": [
    "from statsmodels.iolib.summary import Summary\n",
    "\n",
    "y_test_predict = lm2.predict(data_test)\n",
    "y_train_predict = lm2.predict(data_train)\n",
    "\n",
    "# The MAE ( Mean asbsolute error)\n",
    "print('The MAE is:', mean_absolute_error(data_train['AgentBonus_Per_Policy'],y_train_predict))\n",
    "Stats_model_2_train_MAE=mean_absolute_error(data_train['AgentBonus_Per_Policy'],y_train_predict)\n",
    "# The MSE ( Mean Squared Error)\n",
    "print('The MSE is:', mean_squared_error(data_train['AgentBonus_Per_Policy'],y_train_predict))\n",
    "Stats_model_2_train_MSE=mean_squared_error(data_train['AgentBonus_Per_Policy'],y_train_predict)\n",
    "# The MAPE ( Mean Absolute Percentage Error)\n",
    "print( 'The MAPE is', mean_absolute_percentage_error(data_train['AgentBonus_Per_Policy'],y_train_predict))\n",
    "Stats_model_2_train_MAPE=mean_absolute_percentage_error(data_train['AgentBonus_Per_Policy'],y_train_predict)\n",
    "# The EVS (Expalained Variance Score)\n",
    "print('The EVS is', explained_variance_score(data_train['AgentBonus_Per_Policy'],y_train_predict))\n",
    "Stats_model_2_train_EVS=explained_variance_score(data_train['AgentBonus_Per_Policy'],y_train_predict)\n",
    "\n",
    "# The MAE ( Mean asbsolute error)\n",
    "print('The MAE for Test data is:', mean_absolute_error(data_test['AgentBonus_Per_Policy'],y_test_predict))\n",
    "Stats_model_2_test_MAE=mean_absolute_error(data_test['AgentBonus_Per_Policy'],y_test_predict)\n",
    "# The MSE ( Mean Squared Error)\n",
    "print('The MSE for Test data is:', mean_squared_error(data_test['AgentBonus_Per_Policy'],y_test_predict))\n",
    "Stats_model_2_test_MSE=mean_squared_error(data_test['AgentBonus_Per_Policy'],y_test_predict)\n",
    "# The MAPE ( Mean Absolute Percentage Error)\n",
    "print('The MAPE for Test data is', mean_absolute_percentage_error(data_test['AgentBonus_Per_Policy'],y_test_predict))\n",
    "Stats_model_2_test_MAPE=mean_absolute_percentage_error(data_test['AgentBonus_Per_Policy'],y_test_predict)\n",
    "# The EVS (Expalained Variance Score)\n",
    "print('The EVS for Test data is', explained_variance_score(data_test['AgentBonus_Per_Policy'],y_test_predict))\n",
    "Stats_model_2_test_EVS=explained_variance_score(data_test['AgentBonus_Per_Policy'],y_test_predict)"
   ]
  },
  {
   "cell_type": "code",
   "execution_count": null,
   "id": "76269b13",
   "metadata": {},
   "outputs": [],
   "source": [
    "data2= pd.DataFrame({\n",
    "        'Stats Model 2 ':[train_rmse_2,test_rmse_2, Stats_model_2_train_MAE, Stats_model_2_test_MAE,\n",
    "                  Stats_model_2_train_MSE, Stats_model_2_test_MSE, Stats_model_2_train_MAPE, Stats_model_2_test_MAPE,\n",
    "                  Stats_model_2_train_EVS, Stats_model_2_test_EVS],\n",
    "        },index=index)\n",
    "\n",
    "final_result=pd.concat([final_result,data2],axis=1)\n",
    "final_result"
   ]
  },
  {
   "cell_type": "markdown",
   "id": "d2319cfa",
   "metadata": {},
   "source": [
    "### Iteration 3:\n",
    "\n",
    "### Since P value is more than 0.05 for many fields, lets remove one by one fields, starting with Highest value of \"Zone\" and regenerate our OLS Model"
   ]
  },
  {
   "cell_type": "code",
   "execution_count": null,
   "id": "93eff234",
   "metadata": {},
   "outputs": [],
   "source": [
    "f_3 = 'AgentBonus_Per_Policy~CustTenure+Channel+EducationField+Gender+Designation+MaritalStatus+ExistingPolicyTenure+PaymentMethod+SumAssured_Per_Policy'"
   ]
  },
  {
   "cell_type": "code",
   "execution_count": null,
   "id": "79b02642",
   "metadata": {},
   "outputs": [],
   "source": [
    "lm3 = SM.ols(formula= f_3, data = data_train).fit()\n",
    "lm3.params"
   ]
  },
  {
   "cell_type": "code",
   "execution_count": null,
   "id": "a72d87a2",
   "metadata": {
    "scrolled": false
   },
   "outputs": [],
   "source": [
    "print(lm3.summary()) "
   ]
  },
  {
   "cell_type": "code",
   "execution_count": null,
   "id": "419b5145",
   "metadata": {
    "scrolled": false
   },
   "outputs": [],
   "source": [
    "# Calculation of MSE for Test data set\n",
    "test_mse_3 = np.mean((lm3.predict(data_test.drop('AgentBonus_Per_Policy',axis=1))-data_test['AgentBonus_Per_Policy'])**2)\n",
    "test_mse_3\n",
    "#Root Mean Squared Error\n",
    "print('test data root mean square error value is : '+ str(np.sqrt(test_mse_3)))\n",
    "# Calculation of MSE\n",
    "train_mse_3 = np.mean((lm3.predict(data_train.drop('AgentBonus_Per_Policy',axis=1))-data_train['AgentBonus_Per_Policy'])**2)\n",
    "train_mse_3\n",
    "#Root Mean Squared Error\n",
    "print('Train data root mean square error value is : '+ str(np.sqrt(train_mse_3)))\n",
    "print('Equation for model is :')\n",
    "for i,j in np.array(lm3.params.reset_index()):\n",
    "    print('({}) * {} +'.format(round(j,3),i),end=' ')\n",
    "    \n",
    "# Prediction on Test data\n",
    "y_pred_3 = lm3.predict(data_test)\n",
    "plt.scatter(y_test['AgentBonus_Per_Policy'], y_pred_3)\n",
    "plt.show()\n",
    "\n",
    "train_rmse_3=str(np.sqrt(train_mse_3))\n",
    "test_rmse_3=str(np.sqrt(test_mse_3))"
   ]
  },
  {
   "cell_type": "code",
   "execution_count": null,
   "id": "7bb5eb7b",
   "metadata": {
    "scrolled": true
   },
   "outputs": [],
   "source": [
    "from statsmodels.iolib.summary import Summary\n",
    "\n",
    "y_test_predict = lm3.predict(data_test)\n",
    "y_train_predict = lm3.predict(data_train)\n",
    "\n",
    "# The MAE ( Mean asbsolute error)\n",
    "print('The MAE is:', mean_absolute_error(data_train['AgentBonus_Per_Policy'],y_train_predict))\n",
    "Stats_model_3_train_MAE=mean_absolute_error(data_train['AgentBonus_Per_Policy'],y_train_predict)\n",
    "# The MSE ( Mean Squared Error)\n",
    "print('The MSE is:', mean_squared_error(data_train['AgentBonus_Per_Policy'],y_train_predict))\n",
    "Stats_model_3_train_MSE=mean_squared_error(data_train['AgentBonus_Per_Policy'],y_train_predict)\n",
    "# The MAPE ( Mean Absolute Percentage Error)\n",
    "print( 'The MAPE is', mean_absolute_percentage_error(data_train['AgentBonus_Per_Policy'],y_train_predict))\n",
    "Stats_model_3_train_MAPE=mean_absolute_percentage_error(data_train['AgentBonus_Per_Policy'],y_train_predict)\n",
    "# The EVS (Expalained Variance Score)\n",
    "print('The EVS is', explained_variance_score(data_train['AgentBonus_Per_Policy'],y_train_predict))\n",
    "Stats_model_3_train_EVS=explained_variance_score(data_train['AgentBonus_Per_Policy'],y_train_predict)\n",
    "\n",
    "# The MAE ( Mean asbsolute error)\n",
    "print('The MAE for Test data is:', mean_absolute_error(data_test['AgentBonus_Per_Policy'],y_test_predict))\n",
    "Stats_model_3_test_MAE=mean_absolute_error(data_test['AgentBonus_Per_Policy'],y_test_predict)\n",
    "# The MSE ( Mean Squared Error)\n",
    "print('The MSE for Test data is:', mean_squared_error(data_test['AgentBonus_Per_Policy'],y_test_predict))\n",
    "Stats_model_3_test_MSE=mean_squared_error(data_test['AgentBonus_Per_Policy'],y_test_predict)\n",
    "# The MAPE ( Mean Absolute Percentage Error)\n",
    "print('The MAPE for Test data is', mean_absolute_percentage_error(data_test['AgentBonus_Per_Policy'],y_test_predict))\n",
    "Stats_model_3_test_MAPE=mean_absolute_percentage_error(data_test['AgentBonus_Per_Policy'],y_test_predict)\n",
    "# The EVS (Expalained Variance Score)\n",
    "print('The EVS for Test data is', explained_variance_score(data_test['AgentBonus_Per_Policy'],y_test_predict))\n",
    "Stats_model_3_test_EVS=explained_variance_score(data_test['AgentBonus_Per_Policy'],y_test_predict)"
   ]
  },
  {
   "cell_type": "code",
   "execution_count": null,
   "id": "3c1c9132",
   "metadata": {},
   "outputs": [],
   "source": [
    "data2= pd.DataFrame({\n",
    "        'Stats Model 3 ':[train_rmse_3,test_rmse_3, Stats_model_3_train_MAE, Stats_model_3_test_MAE,\n",
    "                  Stats_model_3_train_MSE, Stats_model_3_test_MSE, Stats_model_3_train_MAPE, Stats_model_3_test_MAPE,\n",
    "                  Stats_model_3_train_EVS, Stats_model_3_test_EVS],\n",
    "        },index=index)\n",
    "\n",
    "final_result=pd.concat([final_result,data2],axis=1)\n",
    "final_result"
   ]
  },
  {
   "cell_type": "markdown",
   "id": "a922a07b",
   "metadata": {},
   "source": [
    "### Iteration 4\n",
    "### Lets remove \"Channel\"  field , because it hass P value as 0.9 , which is far away from 0.05"
   ]
  },
  {
   "cell_type": "code",
   "execution_count": null,
   "id": "9c761488",
   "metadata": {},
   "outputs": [],
   "source": [
    "f_4 = 'AgentBonus_Per_Policy~CustTenure+EducationField+Gender+Designation+MaritalStatus+ExistingPolicyTenure+PaymentMethod+SumAssured_Per_Policy'"
   ]
  },
  {
   "cell_type": "code",
   "execution_count": null,
   "id": "5c3f827f",
   "metadata": {},
   "outputs": [],
   "source": [
    "lm4 = SM.ols(formula= f_4, data = data_train).fit()\n",
    "lm4.params"
   ]
  },
  {
   "cell_type": "code",
   "execution_count": null,
   "id": "44e6d832",
   "metadata": {
    "scrolled": false
   },
   "outputs": [],
   "source": [
    "print(lm4.summary()) "
   ]
  },
  {
   "cell_type": "code",
   "execution_count": null,
   "id": "ce76e9a3",
   "metadata": {
    "scrolled": true
   },
   "outputs": [],
   "source": [
    "# Calculation of MSE for Test data set\n",
    "test_mse_4 = np.mean((lm4.predict(data_test.drop('AgentBonus_Per_Policy',axis=1))-data_test['AgentBonus_Per_Policy'])**2)\n",
    "test_mse_4\n",
    "#Root Mean Squared Error\n",
    "print('test data root mean square error value is : '+ str(np.sqrt(test_mse_4)))\n",
    "# Calculation of MSE\n",
    "train_mse_4 = np.mean((lm4.predict(data_train.drop('AgentBonus_Per_Policy',axis=1))-data_train['AgentBonus_Per_Policy'])**2)\n",
    "train_mse_4\n",
    "#Root Mean Squared Error\n",
    "print('Train data root mean square error value is : '+ str(np.sqrt(train_mse_4)))\n",
    "print('Equation for model is :')\n",
    "for i,j in np.array(lm4.params.reset_index()):\n",
    "    print('({}) * {} +'.format(round(j,4),i),end=' ')\n",
    "    \n",
    "# Prediction on Test data\n",
    "y_pred_4 = lm4.predict(data_test)\n",
    "plt.scatter(y_test['AgentBonus_Per_Policy'], y_pred_4)\n",
    "plt.show()\n",
    "\n",
    "train_rmse_4=str(np.sqrt(train_mse_4))\n",
    "test_rmse_4=str(np.sqrt(test_mse_4))"
   ]
  },
  {
   "cell_type": "code",
   "execution_count": null,
   "id": "f5eba68c",
   "metadata": {},
   "outputs": [],
   "source": [
    "from statsmodels.iolib.summary import Summary\n",
    "\n",
    "y_test_predict = lm4.predict(data_test)\n",
    "y_train_predict = lm4.predict(data_train)\n",
    "\n",
    "# The MAE ( Mean asbsolute error)\n",
    "print('The MAE is:', mean_absolute_error(data_train['AgentBonus_Per_Policy'],y_train_predict))\n",
    "Stats_model_4_train_MAE=mean_absolute_error(data_train['AgentBonus_Per_Policy'],y_train_predict)\n",
    "# The MSE ( Mean Squared Error)\n",
    "print('The MSE is:', mean_squared_error(data_train['AgentBonus_Per_Policy'],y_train_predict))\n",
    "Stats_model_4_train_MSE=mean_squared_error(data_train['AgentBonus_Per_Policy'],y_train_predict)\n",
    "# The MAPE ( Mean Absolute Percentage Error)\n",
    "print( 'The MAPE is', mean_absolute_percentage_error(data_train['AgentBonus_Per_Policy'],y_train_predict))\n",
    "Stats_model_4_train_MAPE=mean_absolute_percentage_error(data_train['AgentBonus_Per_Policy'],y_train_predict)\n",
    "# The EVS (Expalained Variance Score)\n",
    "print('The EVS is', explained_variance_score(data_train['AgentBonus_Per_Policy'],y_train_predict))\n",
    "Stats_model_4_train_EVS=explained_variance_score(data_train['AgentBonus_Per_Policy'],y_train_predict)\n",
    "\n",
    "# The MAE ( Mean asbsolute error)\n",
    "print('The MAE for Test data is:', mean_absolute_error(data_test['AgentBonus_Per_Policy'],y_test_predict))\n",
    "Stats_model_4_test_MAE=mean_absolute_error(data_test['AgentBonus_Per_Policy'],y_test_predict)\n",
    "# The MSE ( Mean Squared Error)\n",
    "print('The MSE for Test data is:', mean_squared_error(data_test['AgentBonus_Per_Policy'],y_test_predict))\n",
    "Stats_model_4_test_MSE=mean_squared_error(data_test['AgentBonus_Per_Policy'],y_test_predict)\n",
    "# The MAPE ( Mean Absolute Percentage Error)\n",
    "print('The MAPE for Test data is', mean_absolute_percentage_error(data_test['AgentBonus_Per_Policy'],y_test_predict))\n",
    "Stats_model_4_test_MAPE=mean_absolute_percentage_error(data_test['AgentBonus_Per_Policy'],y_test_predict)\n",
    "# The EVS (Expalained Variance Score)\n",
    "print('The EVS for Test data is', explained_variance_score(data_test['AgentBonus_Per_Policy'],y_test_predict))\n",
    "Stats_model_4_test_EVS=explained_variance_score(data_test['AgentBonus_Per_Policy'],y_test_predict)"
   ]
  },
  {
   "cell_type": "code",
   "execution_count": null,
   "id": "53fefbda",
   "metadata": {},
   "outputs": [],
   "source": [
    "data2= pd.DataFrame({\n",
    "        'Stats Model 4 ':[train_rmse_4,test_rmse_4, Stats_model_4_train_MAE, Stats_model_4_test_MAE,\n",
    "                  Stats_model_4_train_MSE, Stats_model_4_test_MSE, Stats_model_4_train_MAPE, Stats_model_4_test_MAPE,\n",
    "                  Stats_model_4_train_EVS, Stats_model_4_test_EVS],\n",
    "        },index=index)\n",
    "\n",
    "final_result=pd.concat([final_result,data2],axis=1)\n",
    "final_result"
   ]
  },
  {
   "cell_type": "markdown",
   "id": "837c0e2f",
   "metadata": {},
   "source": [
    "### Iteration 5:\n",
    "### Lets remove \"Gender\"  this time and try again"
   ]
  },
  {
   "cell_type": "code",
   "execution_count": null,
   "id": "f65ceaef",
   "metadata": {},
   "outputs": [],
   "source": [
    "f_5 = 'AgentBonus_Per_Policy~CustTenure+EducationField+Designation+MaritalStatus+ExistingPolicyTenure+PaymentMethod+SumAssured_Per_Policy'"
   ]
  },
  {
   "cell_type": "code",
   "execution_count": null,
   "id": "40999c55",
   "metadata": {
    "scrolled": false
   },
   "outputs": [],
   "source": [
    "lm5 = SM.ols(formula= f_5, data = data_train).fit()\n",
    "lm5.params\n",
    "print(lm5.summary()) "
   ]
  },
  {
   "cell_type": "code",
   "execution_count": null,
   "id": "a4be6ed4",
   "metadata": {
    "scrolled": true
   },
   "outputs": [],
   "source": [
    "# Calculation of MSE for Test data set\n",
    "test_mse_5 = np.mean((lm5.predict(data_test.drop('AgentBonus_Per_Policy',axis=1))-data_test['AgentBonus_Per_Policy'])**2)\n",
    "test_mse_5\n",
    "#Root Mean Squared Error\n",
    "print('test data root mean square error value is : '+ str(np.sqrt(test_mse_5)))\n",
    "# Calculation of MSE\n",
    "train_mse_5 = np.mean((lm5.predict(data_train.drop('AgentBonus_Per_Policy',axis=1))-data_train['AgentBonus_Per_Policy'])**2)\n",
    "train_mse_5\n",
    "#Root Mean Squared Error\n",
    "print('Train data root mean square error value is : '+ str(np.sqrt(train_mse_5)))\n",
    "print('Equation for model is :')\n",
    "for i,j in np.array(lm5.params.reset_index()):\n",
    "    print('({}) * {} +'.format(round(j,5),i),end=' ')\n",
    "    \n",
    "# Prediction on Test data\n",
    "y_pred_5 = lm5.predict(data_test)\n",
    "plt.scatter(y_test['AgentBonus_Per_Policy'], y_pred_5)\n",
    "plt.show()\n",
    "\n",
    "train_rmse_5=str(np.sqrt(train_mse_5))\n",
    "test_rmse_5=str(np.sqrt(test_mse_5))"
   ]
  },
  {
   "cell_type": "code",
   "execution_count": null,
   "id": "06d20c66",
   "metadata": {},
   "outputs": [],
   "source": [
    "from statsmodels.iolib.summary import Summary\n",
    "\n",
    "y_test_predict = lm5.predict(data_test)\n",
    "y_train_predict = lm5.predict(data_train)\n",
    "\n",
    "# The MAE ( Mean asbsolute error)\n",
    "print('The MAE is:', mean_absolute_error(data_train['AgentBonus_Per_Policy'],y_train_predict))\n",
    "Stats_model_5_train_MAE=mean_absolute_error(data_train['AgentBonus_Per_Policy'],y_train_predict)\n",
    "# The MSE ( Mean Squared Error)\n",
    "print('The MSE is:', mean_squared_error(data_train['AgentBonus_Per_Policy'],y_train_predict))\n",
    "Stats_model_5_train_MSE=mean_squared_error(data_train['AgentBonus_Per_Policy'],y_train_predict)\n",
    "# The MAPE ( Mean Absolute Percentage Error)\n",
    "print( 'The MAPE is', mean_absolute_percentage_error(data_train['AgentBonus_Per_Policy'],y_train_predict))\n",
    "Stats_model_5_train_MAPE=mean_absolute_percentage_error(data_train['AgentBonus_Per_Policy'],y_train_predict)\n",
    "# The EVS (Expalained Variance Score)\n",
    "print('The EVS is', explained_variance_score(data_train['AgentBonus_Per_Policy'],y_train_predict))\n",
    "Stats_model_5_train_EVS=explained_variance_score(data_train['AgentBonus_Per_Policy'],y_train_predict)\n",
    "\n",
    "# The MAE ( Mean asbsolute error)\n",
    "print('The MAE for Test data is:', mean_absolute_error(data_test['AgentBonus_Per_Policy'],y_test_predict))\n",
    "Stats_model_5_test_MAE=mean_absolute_error(data_test['AgentBonus_Per_Policy'],y_test_predict)\n",
    "# The MSE ( Mean Squared Error)\n",
    "print('The MSE for Test data is:', mean_squared_error(data_test['AgentBonus_Per_Policy'],y_test_predict))\n",
    "Stats_model_5_test_MSE=mean_squared_error(data_test['AgentBonus_Per_Policy'],y_test_predict)\n",
    "# The MAPE ( Mean Absolute Percentage Error)\n",
    "print('The MAPE for Test data is', mean_absolute_percentage_error(data_test['AgentBonus_Per_Policy'],y_test_predict))\n",
    "Stats_model_5_test_MAPE=mean_absolute_percentage_error(data_test['AgentBonus_Per_Policy'],y_test_predict)\n",
    "# The EVS (Expalained Variance Score)\n",
    "print('The EVS for Test data is', explained_variance_score(data_test['AgentBonus_Per_Policy'],y_test_predict))\n",
    "Stats_model_5_test_EVS=explained_variance_score(data_test['AgentBonus_Per_Policy'],y_test_predict)"
   ]
  },
  {
   "cell_type": "code",
   "execution_count": null,
   "id": "ca61256f",
   "metadata": {},
   "outputs": [],
   "source": [
    "data2= pd.DataFrame({\n",
    "        'Stats Model 5 ':[train_rmse_5,test_rmse_5, Stats_model_5_train_MAE, Stats_model_5_test_MAE,\n",
    "                  Stats_model_5_train_MSE, Stats_model_5_test_MSE, Stats_model_5_train_MAPE, Stats_model_5_test_MAPE,\n",
    "                  Stats_model_5_train_EVS, Stats_model_5_test_EVS],\n",
    "        },index=index)\n",
    "\n",
    "final_result=pd.concat([final_result,data2],axis=1)\n",
    "final_result"
   ]
  },
  {
   "cell_type": "markdown",
   "id": "a2194b2a",
   "metadata": {},
   "source": [
    "### Iteration 6:\n",
    "### Lets remove \"EducationField\" this time and try again"
   ]
  },
  {
   "cell_type": "code",
   "execution_count": null,
   "id": "1257237f",
   "metadata": {
    "scrolled": false
   },
   "outputs": [],
   "source": [
    "f_6 = 'AgentBonus_Per_Policy~CustTenure+Designation+MaritalStatus+ExistingPolicyTenure+PaymentMethod+SumAssured_Per_Policy'\n",
    "lm6 = SM.ols(formula= f_6, data = data_train).fit()\n",
    "lm6.params\n",
    "print(lm6.summary()) "
   ]
  },
  {
   "cell_type": "code",
   "execution_count": null,
   "id": "af3e78d0",
   "metadata": {
    "scrolled": true
   },
   "outputs": [],
   "source": [
    "# Calculation of MSE for Test data set\n",
    "test_mse_6 = np.mean((lm6.predict(data_test.drop('AgentBonus_Per_Policy',axis=1))-data_test['AgentBonus_Per_Policy'])**2)\n",
    "test_mse_6\n",
    "#Root Mean Squared Error\n",
    "print('test data root mean square error value is : '+ str(np.sqrt(test_mse_6)))\n",
    "# Calculation of MSE\n",
    "train_mse_6 = np.mean((lm6.predict(data_train.drop('AgentBonus_Per_Policy',axis=1))-data_train['AgentBonus_Per_Policy'])**2)\n",
    "train_mse_6\n",
    "#Root Mean Squared Error\n",
    "print('Train data root mean square error value is : '+ str(np.sqrt(train_mse_6)))\n",
    "print('Equation for model is :')\n",
    "for i,j in np.array(lm6.params.reset_index()):\n",
    "    print('({}) * {} +'.format(round(j,6),i),end=' ')\n",
    "    \n",
    "# Prediction on Test data\n",
    "y_pred_6 = lm6.predict(data_test)\n",
    "plt.scatter(y_test['AgentBonus_Per_Policy'], y_pred_6)\n",
    "plt.show()\n",
    "\n",
    "train_rmse_6=str(np.sqrt(train_mse_6))\n",
    "test_rmse_6=str(np.sqrt(test_mse_6))"
   ]
  },
  {
   "cell_type": "code",
   "execution_count": null,
   "id": "c68fbd58",
   "metadata": {},
   "outputs": [],
   "source": [
    "from statsmodels.iolib.summary import Summary\n",
    "\n",
    "y_test_predict = lm6.predict(data_test)\n",
    "y_train_predict = lm6.predict(data_train)\n",
    "\n",
    "# The MAE ( Mean asbsolute error)\n",
    "print('The MAE is:', mean_absolute_error(data_train['AgentBonus_Per_Policy'],y_train_predict))\n",
    "Stats_model_6_train_MAE=mean_absolute_error(data_train['AgentBonus_Per_Policy'],y_train_predict)\n",
    "# The MSE ( Mean Squared Error)\n",
    "print('The MSE is:', mean_squared_error(data_train['AgentBonus_Per_Policy'],y_train_predict))\n",
    "Stats_model_6_train_MSE=mean_squared_error(data_train['AgentBonus_Per_Policy'],y_train_predict)\n",
    "# The MAPE ( Mean Absolute Percentage Error)\n",
    "print( 'The MAPE is', mean_absolute_percentage_error(data_train['AgentBonus_Per_Policy'],y_train_predict))\n",
    "Stats_model_6_train_MAPE=mean_absolute_percentage_error(data_train['AgentBonus_Per_Policy'],y_train_predict)\n",
    "# The EVS (Expalained Variance Score)\n",
    "print('The EVS is', explained_variance_score(data_train['AgentBonus_Per_Policy'],y_train_predict))\n",
    "Stats_model_6_train_EVS=explained_variance_score(data_train['AgentBonus_Per_Policy'],y_train_predict)\n",
    "\n",
    "# The MAE ( Mean asbsolute error)\n",
    "print('The MAE for Test data is:', mean_absolute_error(data_test['AgentBonus_Per_Policy'],y_test_predict))\n",
    "Stats_model_6_test_MAE=mean_absolute_error(data_test['AgentBonus_Per_Policy'],y_test_predict)\n",
    "# The MSE ( Mean Squared Error)\n",
    "print('The MSE for Test data is:', mean_squared_error(data_test['AgentBonus_Per_Policy'],y_test_predict))\n",
    "Stats_model_6_test_MSE=mean_squared_error(data_test['AgentBonus_Per_Policy'],y_test_predict)\n",
    "# The MAPE ( Mean Absolute Percentage Error)\n",
    "print('The MAPE for Test data is', mean_absolute_percentage_error(data_test['AgentBonus_Per_Policy'],y_test_predict))\n",
    "Stats_model_6_test_MAPE=mean_absolute_percentage_error(data_test['AgentBonus_Per_Policy'],y_test_predict)\n",
    "# The EVS (Expalained Variance Score)\n",
    "print('The EVS for Test data is', explained_variance_score(data_test['AgentBonus_Per_Policy'],y_test_predict))\n",
    "Stats_model_6_test_EVS=explained_variance_score(data_test['AgentBonus_Per_Policy'],y_test_predict)"
   ]
  },
  {
   "cell_type": "code",
   "execution_count": null,
   "id": "b04f5d0b",
   "metadata": {},
   "outputs": [],
   "source": [
    "data2= pd.DataFrame({\n",
    "       'Stats Model 6 ':[train_rmse_6,test_rmse_6, Stats_model_6_train_MAE, Stats_model_6_test_MAE,\n",
    "                  Stats_model_6_train_MSE, Stats_model_6_test_MSE, Stats_model_6_train_MAPE, Stats_model_6_test_MAPE,\n",
    "                  Stats_model_6_train_EVS, Stats_model_6_test_EVS],\n",
    "        },index=index)\n",
    "\n",
    "final_result=pd.concat([final_result,data2],axis=1)\n",
    "final_result"
   ]
  },
  {
   "cell_type": "markdown",
   "id": "4b9b47f3",
   "metadata": {},
   "source": [
    "# Iteration 7:\n",
    "### Lets remove \"PaymentMethod\" this time and try again"
   ]
  },
  {
   "cell_type": "code",
   "execution_count": null,
   "id": "fdc31bea",
   "metadata": {
    "scrolled": false
   },
   "outputs": [],
   "source": [
    "f_7 = 'AgentBonus_Per_Policy~CustTenure+Designation+MaritalStatus+ExistingPolicyTenure+SumAssured_Per_Policy'\n",
    "lm7 = SM.ols(formula= f_7, data = data_train).fit()\n",
    "lm7.params\n",
    "print(lm7.summary()) "
   ]
  },
  {
   "cell_type": "code",
   "execution_count": null,
   "id": "65581c68",
   "metadata": {
    "scrolled": true
   },
   "outputs": [],
   "source": [
    "# Calculation of MSE for Test data set\n",
    "test_mse_7 = np.mean((lm7.predict(data_test.drop('AgentBonus_Per_Policy',axis=1))-data_test['AgentBonus_Per_Policy'])**2)\n",
    "test_mse_7\n",
    "#Root Mean Squared Error\n",
    "print('test data root mean square error value is : '+ str(np.sqrt(test_mse_7)))\n",
    "# Calculation of MSE\n",
    "train_mse_7 = np.mean((lm7.predict(data_train.drop('AgentBonus_Per_Policy',axis=1))-data_train['AgentBonus_Per_Policy'])**2)\n",
    "train_mse_7\n",
    "#Root Mean Squared Error\n",
    "print('Train data root mean square error value is : '+ str(np.sqrt(train_mse_7)))\n",
    "print('Equation for model is :')\n",
    "for i,j in np.array(lm7.params.reset_index()):\n",
    "    print('({}) * {} +'.format(round(j,7),i),end=' ')\n",
    "    \n",
    "# Prediction on Test data\n",
    "y_pred_7 = lm7.predict(data_test)\n",
    "plt.scatter(y_test['AgentBonus_Per_Policy'], y_pred_7)\n",
    "plt.show()\n",
    "\n",
    "train_rmse_7=str(np.sqrt(train_mse_7))\n",
    "test_rmse_7=str(np.sqrt(test_mse_7))"
   ]
  },
  {
   "cell_type": "code",
   "execution_count": null,
   "id": "bace7afb",
   "metadata": {},
   "outputs": [],
   "source": [
    "from statsmodels.iolib.summary import Summary\n",
    "\n",
    "y_test_predict = lm7.predict(data_test)\n",
    "y_train_predict = lm7.predict(data_train)\n",
    "\n",
    "# The MAE ( Mean asbsolute error)\n",
    "print('The MAE is:', mean_absolute_error(data_train['AgentBonus_Per_Policy'],y_train_predict))\n",
    "Stats_model_7_train_MAE=mean_absolute_error(data_train['AgentBonus_Per_Policy'],y_train_predict)\n",
    "# The MSE ( Mean Squared Error)\n",
    "print('The MSE is:', mean_squared_error(data_train['AgentBonus_Per_Policy'],y_train_predict))\n",
    "Stats_model_7_train_MSE=mean_squared_error(data_train['AgentBonus_Per_Policy'],y_train_predict)\n",
    "# The MAPE ( Mean Absolute Percentage Error)\n",
    "print( 'The MAPE is', mean_absolute_percentage_error(data_train['AgentBonus_Per_Policy'],y_train_predict))\n",
    "Stats_model_7_train_MAPE=mean_absolute_percentage_error(data_train['AgentBonus_Per_Policy'],y_train_predict)\n",
    "# The EVS (Expalained Variance Score)\n",
    "print('The EVS is', explained_variance_score(data_train['AgentBonus_Per_Policy'],y_train_predict))\n",
    "Stats_model_7_train_EVS=explained_variance_score(data_train['AgentBonus_Per_Policy'],y_train_predict)\n",
    "\n",
    "# The MAE ( Mean asbsolute error)\n",
    "print('The MAE for Test data is:', mean_absolute_error(data_test['AgentBonus_Per_Policy'],y_test_predict))\n",
    "Stats_model_7_test_MAE=mean_absolute_error(data_test['AgentBonus_Per_Policy'],y_test_predict)\n",
    "# The MSE ( Mean Squared Error)\n",
    "print('The MSE for Test data is:', mean_squared_error(data_test['AgentBonus_Per_Policy'],y_test_predict))\n",
    "Stats_model_7_test_MSE=mean_squared_error(data_test['AgentBonus_Per_Policy'],y_test_predict)\n",
    "# The MAPE ( Mean Absolute Percentage Error)\n",
    "print('The MAPE for Test data is', mean_absolute_percentage_error(data_test['AgentBonus_Per_Policy'],y_test_predict))\n",
    "Stats_model_7_test_MAPE=mean_absolute_percentage_error(data_test['AgentBonus_Per_Policy'],y_test_predict)\n",
    "# The EVS (Expalained Variance Score)\n",
    "print('The EVS for Test data is', explained_variance_score(data_test['AgentBonus_Per_Policy'],y_test_predict))\n",
    "Stats_model_7_test_EVS=explained_variance_score(data_test['AgentBonus_Per_Policy'],y_test_predict)"
   ]
  },
  {
   "cell_type": "code",
   "execution_count": null,
   "id": "b07875ca",
   "metadata": {},
   "outputs": [],
   "source": [
    "data2= pd.DataFrame({\n",
    "        'Stats Model 7 ':[train_rmse_7,test_rmse_7 , Stats_model_7_train_MAE, Stats_model_7_test_MAE,\n",
    "                  Stats_model_7_train_MSE, Stats_model_7_test_MSE, Stats_model_7_train_MAPE, Stats_model_7_test_MAPE,\n",
    "                  Stats_model_7_train_EVS, Stats_model_7_test_EVS],\n",
    "        },index=index)\n",
    "\n",
    "final_result=pd.concat([final_result,data2],axis=1)\n",
    "final_result"
   ]
  },
  {
   "cell_type": "markdown",
   "id": "eafe3209",
   "metadata": {},
   "source": [
    "# Iteration 8:\n",
    "### Lets remove \"Designation\" this time and try again"
   ]
  },
  {
   "cell_type": "code",
   "execution_count": null,
   "id": "346bbcf6",
   "metadata": {
    "scrolled": false
   },
   "outputs": [],
   "source": [
    "f_8 = 'AgentBonus_Per_Policy~CustTenure+MaritalStatus+ExistingPolicyTenure+SumAssured_Per_Policy'\n",
    "lm8 = SM.ols(formula= f_8, data = data_train).fit()\n",
    "lm8.params\n",
    "print(lm8.summary()) "
   ]
  },
  {
   "cell_type": "code",
   "execution_count": null,
   "id": "d07df423",
   "metadata": {
    "scrolled": true
   },
   "outputs": [],
   "source": [
    "# Calculation of MSE for Test data set\n",
    "test_mse_8 = np.mean((lm8.predict(data_test.drop('AgentBonus_Per_Policy',axis=1))-data_test['AgentBonus_Per_Policy'])**2)\n",
    "test_mse_8\n",
    "#Root Mean Squared Error\n",
    "print('test data root mean square error value is : '+ str(np.sqrt(test_mse_8)))\n",
    "# Calculation of MSE\n",
    "train_mse_8 = np.mean((lm8.predict(data_train.drop('AgentBonus_Per_Policy',axis=1))-data_train['AgentBonus_Per_Policy'])**2)\n",
    "train_mse_8\n",
    "#Root Mean Squared Error\n",
    "print('Train data root mean square error value is : '+ str(np.sqrt(train_mse_8)))\n",
    "print('Equation for model is :')\n",
    "for i,j in np.array(lm8.params.reset_index()):\n",
    "    print('({}) * {} +'.format(round(j,8),i),end=' ')\n",
    "    \n",
    "# Prediction on Test data\n",
    "y_pred_8 = lm8.predict(data_test)\n",
    "plt.scatter(y_test['AgentBonus_Per_Policy'], y_pred_8)\n",
    "plt.show()\n",
    "\n",
    "train_rmse_8=str(np.sqrt(train_mse_8))\n",
    "test_rmse_8=str(np.sqrt(test_mse_8))"
   ]
  },
  {
   "cell_type": "code",
   "execution_count": null,
   "id": "3cca53bc",
   "metadata": {},
   "outputs": [],
   "source": [
    "from statsmodels.iolib.summary import Summary\n",
    "\n",
    "y_test_predict = lm8.predict(data_test)\n",
    "y_train_predict = lm8.predict(data_train)\n",
    "\n",
    "# The MAE ( Mean asbsolute error)\n",
    "print('The MAE is:', mean_absolute_error(data_train['AgentBonus_Per_Policy'],y_train_predict))\n",
    "Stats_model_8_train_MAE=mean_absolute_error(data_train['AgentBonus_Per_Policy'],y_train_predict)\n",
    "# The MSE ( Mean Squared Error)\n",
    "print('The MSE is:', mean_squared_error(data_train['AgentBonus_Per_Policy'],y_train_predict))\n",
    "Stats_model_8_train_MSE=mean_squared_error(data_train['AgentBonus_Per_Policy'],y_train_predict)\n",
    "# The MAPE ( Mean Absolute Percentage Error)\n",
    "print( 'The MAPE is', mean_absolute_percentage_error(data_train['AgentBonus_Per_Policy'],y_train_predict))\n",
    "Stats_model_8_train_MAPE=mean_absolute_percentage_error(data_train['AgentBonus_Per_Policy'],y_train_predict)\n",
    "# The EVS (Expalained Variance Score)\n",
    "print('The EVS is', explained_variance_score(data_train['AgentBonus_Per_Policy'],y_train_predict))\n",
    "Stats_model_8_train_EVS=explained_variance_score(data_train['AgentBonus_Per_Policy'],y_train_predict)\n",
    "\n",
    "# The MAE ( Mean asbsolute error)\n",
    "print('The MAE for Test data is:', mean_absolute_error(data_test['AgentBonus_Per_Policy'],y_test_predict))\n",
    "Stats_model_8_test_MAE=mean_absolute_error(data_test['AgentBonus_Per_Policy'],y_test_predict)\n",
    "# The MSE ( Mean Squared Error)\n",
    "print('The MSE for Test data is:', mean_squared_error(data_test['AgentBonus_Per_Policy'],y_test_predict))\n",
    "Stats_model_8_test_MSE=mean_squared_error(data_test['AgentBonus_Per_Policy'],y_test_predict)\n",
    "# The MAPE ( Mean Absolute Percentage Error)\n",
    "print('The MAPE for Test data is', mean_absolute_percentage_error(data_test['AgentBonus_Per_Policy'],y_test_predict))\n",
    "Stats_model_8_test_MAPE=mean_absolute_percentage_error(data_test['AgentBonus_Per_Policy'],y_test_predict)\n",
    "# The EVS (Expalained Variance Score)\n",
    "print('The EVS for Test data is', explained_variance_score(data_test['AgentBonus_Per_Policy'],y_test_predict))\n",
    "Stats_model_8_test_EVS=explained_variance_score(data_test['AgentBonus_Per_Policy'],y_test_predict)"
   ]
  },
  {
   "cell_type": "code",
   "execution_count": null,
   "id": "576fdc8d",
   "metadata": {},
   "outputs": [],
   "source": [
    "data2= pd.DataFrame({\n",
    "        'Stats Model 8 ':[train_rmse_8,test_rmse_8, Stats_model_8_train_MAE, Stats_model_8_test_MAE,\n",
    "                  Stats_model_8_train_MSE, Stats_model_8_test_MSE, Stats_model_8_train_MAPE, Stats_model_8_test_MAPE,\n",
    "                  Stats_model_8_train_EVS, Stats_model_8_test_EVS],\n",
    "        },index=index)\n",
    "\n",
    "final_result=pd.concat([final_result,data2],axis=1)\n",
    "final_result"
   ]
  },
  {
   "cell_type": "markdown",
   "id": "9d86970a",
   "metadata": {},
   "source": [
    "# Iteration 9:\n",
    "### Lets remove \"MaritalStatus\" this time and try again"
   ]
  },
  {
   "cell_type": "code",
   "execution_count": null,
   "id": "add61648",
   "metadata": {
    "scrolled": false
   },
   "outputs": [],
   "source": [
    "f_9 = 'AgentBonus_Per_Policy~CustTenure+ExistingPolicyTenure+SumAssured_Per_Policy'\n",
    "lm9 = SM.ols(formula= f_9, data = data_train).fit()\n",
    "lm9.params\n",
    "print(lm9.summary()) "
   ]
  },
  {
   "cell_type": "code",
   "execution_count": null,
   "id": "23285107",
   "metadata": {
    "scrolled": true
   },
   "outputs": [],
   "source": [
    "# Calculation of MSE for Test data set\n",
    "test_mse_9 = np.mean((lm9.predict(data_test.drop('AgentBonus_Per_Policy',axis=1))-data_test['AgentBonus_Per_Policy'])**2)\n",
    "test_mse_9\n",
    "#Root Mean Squared Error\n",
    "print('test data root mean square error value is : '+ str(np.sqrt(test_mse_9)))\n",
    "# Calculation of MSE\n",
    "train_mse_9 = np.mean((lm9.predict(data_train.drop('AgentBonus_Per_Policy',axis=1))-data_train['AgentBonus_Per_Policy'])**2)\n",
    "train_mse_9\n",
    "#Root Mean Squared Error\n",
    "print('Train data root mean square error value is : '+ str(np.sqrt(train_mse_9)))\n",
    "print('Equation for model is :')\n",
    "for i,j in np.array(lm9.params.reset_index()):\n",
    "    print('({}) * {} +'.format(round(j,9),i),end=' ')\n",
    "    \n",
    "# Prediction on Test data\n",
    "y_pred_9 = lm9.predict(data_test)\n",
    "plt.scatter(y_test['AgentBonus_Per_Policy'], y_pred_9)\n",
    "plt.show()\n",
    "\n",
    "train_rmse_9=str(np.sqrt(train_mse_9))\n",
    "test_rmse_9=str(np.sqrt(test_mse_9))"
   ]
  },
  {
   "cell_type": "code",
   "execution_count": null,
   "id": "c3798a79",
   "metadata": {},
   "outputs": [],
   "source": [
    "from statsmodels.iolib.summary import Summary\n",
    "\n",
    "y_test_predict = lm9.predict(data_test)\n",
    "y_train_predict = lm9.predict(data_train)\n",
    "\n",
    "# The MAE ( Mean asbsolute error)\n",
    "print('The MAE is:', mean_absolute_error(data_train['AgentBonus_Per_Policy'],y_train_predict))\n",
    "Stats_model_9_train_MAE=mean_absolute_error(data_train['AgentBonus_Per_Policy'],y_train_predict)\n",
    "# The MSE ( Mean Squared Error)\n",
    "print('The MSE is:', mean_squared_error(data_train['AgentBonus_Per_Policy'],y_train_predict))\n",
    "Stats_model_9_train_MSE=mean_squared_error(data_train['AgentBonus_Per_Policy'],y_train_predict)\n",
    "# The MAPE ( Mean Absolute Percentage Error)\n",
    "print( 'The MAPE is', mean_absolute_percentage_error(data_train['AgentBonus_Per_Policy'],y_train_predict))\n",
    "Stats_model_9_train_MAPE=mean_absolute_percentage_error(data_train['AgentBonus_Per_Policy'],y_train_predict)\n",
    "# The EVS (Expalained Variance Score)\n",
    "print('The EVS is', explained_variance_score(data_train['AgentBonus_Per_Policy'],y_train_predict))\n",
    "Stats_model_9_train_EVS=explained_variance_score(data_train['AgentBonus_Per_Policy'],y_train_predict)\n",
    "\n",
    "# The MAE ( Mean asbsolute error)\n",
    "print('The MAE for Test data is:', mean_absolute_error(data_test['AgentBonus_Per_Policy'],y_test_predict))\n",
    "Stats_model_9_test_MAE=mean_absolute_error(data_test['AgentBonus_Per_Policy'],y_test_predict)\n",
    "# The MSE ( Mean Squared Error)\n",
    "print('The MSE for Test data is:', mean_squared_error(data_test['AgentBonus_Per_Policy'],y_test_predict))\n",
    "Stats_model_9_test_MSE=mean_squared_error(data_test['AgentBonus_Per_Policy'],y_test_predict)\n",
    "# The MAPE ( Mean Absolute Percentage Error)\n",
    "print('The MAPE for Test data is', mean_absolute_percentage_error(data_test['AgentBonus_Per_Policy'],y_test_predict))\n",
    "Stats_model_9_test_MAPE=mean_absolute_percentage_error(data_test['AgentBonus_Per_Policy'],y_test_predict)\n",
    "# The EVS (Expalained Variance Score)\n",
    "print('The EVS for Test data is', explained_variance_score(data_test['AgentBonus_Per_Policy'],y_test_predict))\n",
    "Stats_model_9_test_EVS=explained_variance_score(data_test['AgentBonus_Per_Policy'],y_test_predict)"
   ]
  },
  {
   "cell_type": "code",
   "execution_count": null,
   "id": "aa079f4e",
   "metadata": {},
   "outputs": [],
   "source": [
    "data2= pd.DataFrame({\n",
    "       'Stats Model 9 ':[train_rmse_9,test_rmse_9 , Stats_model_9_train_MAE, Stats_model_9_test_MAE,\n",
    "                  Stats_model_9_train_MSE, Stats_model_9_test_MSE, Stats_model_9_train_MAPE, Stats_model_9_test_MAPE,\n",
    "                  Stats_model_9_train_EVS, Stats_model_9_test_EVS],\n",
    "        },index=index)\n",
    "\n",
    "final_result=pd.concat([final_result,data2],axis=1)\n",
    "final_result.T"
   ]
  },
  {
   "cell_type": "markdown",
   "id": "3715cdbe",
   "metadata": {},
   "source": [
    "### Now everything looks perfect, \n",
    "## We have only 3 fields, which are playing deciding factor in order to determine the AgentBonus field, and those are :\n",
    "#### CustTenure\n",
    "#### ExistingPolicyTenure\n",
    "#### SumAssured_per_policy"
   ]
  },
  {
   "cell_type": "code",
   "execution_count": null,
   "id": "e028ee1e",
   "metadata": {},
   "outputs": [],
   "source": [
    "#Concatenation of X and y into one DF\n",
    "data_train = pd.concat([X_train, y_train], axis=1)\n",
    "data_test=pd.concat([X_test,y_test],axis=1)\n",
    "data_train.head()"
   ]
  },
  {
   "cell_type": "code",
   "execution_count": null,
   "id": "ea27ce83",
   "metadata": {},
   "outputs": [],
   "source": [
    "data_test.head(10)"
   ]
  },
  {
   "cell_type": "code",
   "execution_count": null,
   "id": "5998c0e2",
   "metadata": {},
   "outputs": [],
   "source": [
    "# Calculation of MSE for Test data set\n",
    "test_mse = np.mean((lm9.predict(data_test.drop('AgentBonus_Per_Policy',axis=1))-data_test['AgentBonus_Per_Policy'])**2)\n",
    "test_mse"
   ]
  },
  {
   "cell_type": "code",
   "execution_count": null,
   "id": "b92f5dff",
   "metadata": {},
   "outputs": [],
   "source": []
  },
  {
   "cell_type": "code",
   "execution_count": null,
   "id": "42d8f3ed",
   "metadata": {},
   "outputs": [],
   "source": [
    "#Root Mean Squared Error\n",
    "print('test data root mean square error value is : '+ str(np.sqrt(test_mse)))"
   ]
  },
  {
   "cell_type": "code",
   "execution_count": null,
   "id": "445c6ba9",
   "metadata": {},
   "outputs": [],
   "source": [
    "# Calculation of MSE\n",
    "train_mse = np.mean((lm9.predict(data_train.drop('AgentBonus_Per_Policy',axis=1))-data_train['AgentBonus_Per_Policy'])**2)\n",
    "train_mse"
   ]
  },
  {
   "cell_type": "code",
   "execution_count": null,
   "id": "db2d5aa4",
   "metadata": {},
   "outputs": [],
   "source": [
    "#Root Mean Squared Error\n",
    "print('test data root mean square error value is : '+ str(np.sqrt(train_mse)))"
   ]
  },
  {
   "cell_type": "code",
   "execution_count": null,
   "id": "b1cf4b29",
   "metadata": {},
   "outputs": [],
   "source": [
    "for i,j in np.array(lm9.params.reset_index()):\n",
    "    print('({}) * {} +'.format(round(j,2),i),end=' ')"
   ]
  },
  {
   "cell_type": "markdown",
   "id": "a9f82bbd",
   "metadata": {},
   "source": [
    "## Decision Tree Regressor Model"
   ]
  },
  {
   "cell_type": "code",
   "execution_count": null,
   "id": "cc4c9c6a",
   "metadata": {},
   "outputs": [],
   "source": [
    "print(X_train.shape,X_test.shape,y_train.shape,y_test.shape)"
   ]
  },
  {
   "cell_type": "code",
   "execution_count": null,
   "id": "4680091a",
   "metadata": {},
   "outputs": [],
   "source": [
    "# Decision tree Regression Model building\n",
    "# Importing the regressor\n",
    "\n",
    "from sklearn.tree import DecisionTreeRegressor"
   ]
  },
  {
   "cell_type": "code",
   "execution_count": null,
   "id": "c0fe5937",
   "metadata": {},
   "outputs": [],
   "source": [
    "# Creating and fitting the model\n",
    "\n",
    "DT_model=DecisionTreeRegressor().fit(X_train,y_train)"
   ]
  },
  {
   "cell_type": "code",
   "execution_count": null,
   "id": "55b5ae9f",
   "metadata": {},
   "outputs": [],
   "source": [
    "# The coefficient of determinantion\n",
    "\n",
    "print('The training r square is : %.2f'% DT_model.score(X_train,y_train))"
   ]
  },
  {
   "cell_type": "code",
   "execution_count": null,
   "id": "c45d55c6",
   "metadata": {
    "scrolled": false
   },
   "outputs": [],
   "source": [
    "# prediction on training data\n",
    "y_train_pred_DT=DT_model.predict(X_train)\n",
    "# prediction on test data\n",
    "y_test_pred_DT=DT_model.predict(X_test)\n",
    "\n",
    "# The MAE ( Mean asbsolute error)\n",
    "print('The MAE is:', mean_absolute_error(y_train,y_train_pred_DT))\n",
    "dtree_model_train_MAE=mean_absolute_error(y_train,y_train_pred_DT)\n",
    "# The MSE ( Mean Squared Error)\n",
    "print('The MSE is:', mean_squared_error(y_train,y_train_pred_DT))\n",
    "dtree_model_train_MSE=mean_squared_error(y_train,y_train_pred_DT)\n",
    "# The MAPE ( Mean Absolute Percentage Error)\n",
    "print( 'The MAPE is', mean_absolute_percentage_error(y_train,y_train_pred_DT))\n",
    "dtree_model_train_MAPE=mean_absolute_percentage_error(y_train,y_train_pred_DT)\n",
    "# The EVS (Expalained Variance Score)\n",
    "print('The EVS is', explained_variance_score(y_train,y_train_pred_DT))\n",
    "dtree_model_train_EVS=explained_variance_score(y_train,y_train_pred_DT)\n",
    "# The RMSE\n",
    "print('The RMSE is:%.2f'% np.sqrt(mean_squared_error(y_train,y_train_pred_DT)))\n",
    "dtree_model_train_rmse=np.sqrt(mean_squared_error(y_train,y_train_pred_DT))\n",
    "\n",
    "# The MAE ( Mean asbsolute error)\n",
    "print('The MAE for Test data is:', mean_absolute_error(y_test, y_test_pred_DT))\n",
    "dtree_model_test_MAE=mean_absolute_error(y_test, y_test_pred_DT)\n",
    "# The MSE ( Mean Squared Error)\n",
    "print('The MSE for Test data is:', mean_squared_error(y_test, y_test_pred_DT))\n",
    "dtree_model_test_MSE=mean_squared_error(y_test, y_test_pred_DT)\n",
    "# The MAPE ( Mean Absolute Percentage Error)\n",
    "print('The MAPE for Test data is', mean_absolute_percentage_error(y_test, y_test_pred_DT))\n",
    "dtree_model_test_MAPE=mean_absolute_percentage_error(y_test, y_test_pred_DT)\n",
    "# The EVS (Expalained Variance Score)\n",
    "print('The EVS for Test data is', explained_variance_score(y_test, y_test_pred_DT))\n",
    "dtree_model_test_EVS=explained_variance_score(y_test, y_test_pred_DT)\n",
    "# The RMSE\n",
    "print('The RMSE is:%.2f'% np.sqrt(mean_squared_error(y_test, y_test_pred_DT)))\n",
    "dtree_model_test_rmse=np.sqrt(mean_squared_error(y_test, y_test_pred_DT))"
   ]
  },
  {
   "cell_type": "code",
   "execution_count": null,
   "id": "c9f033be",
   "metadata": {},
   "outputs": [],
   "source": [
    "data2= pd.DataFrame({\n",
    "        'Decision Tree':[dtree_model_train_rmse,dtree_model_test_rmse, dtree_model_train_MAE, dtree_model_test_MAE,\n",
    "                             dtree_model_train_MSE, dtree_model_test_MSE, dtree_model_train_MAPE, dtree_model_test_MAPE,\n",
    "                             dtree_model_train_EVS, dtree_model_test_EVS],\n",
    "        },index=index)\n",
    "\n",
    "final_result=pd.concat([final_result,data2],axis=1)\n",
    "final_result.T"
   ]
  },
  {
   "cell_type": "markdown",
   "id": "cc7d2d8d",
   "metadata": {},
   "source": [
    "### Decision Tree Feature importance"
   ]
  },
  {
   "cell_type": "code",
   "execution_count": null,
   "id": "29ed1443",
   "metadata": {},
   "outputs": [],
   "source": [
    "f_list_DT=list(X.columns)\n",
    "f_importance_DT=pd.Series(DT_model.feature_importances_,index=f_list_DT).sort_values(ascending=False)\n",
    "print(f_importance_DT)"
   ]
  },
  {
   "cell_type": "code",
   "execution_count": null,
   "id": "be6fabc9",
   "metadata": {},
   "outputs": [],
   "source": [
    "##Print Feature Importances\n",
    "x=pd.DataFrame(DT_model.feature_importances_*100,index=X_train.columns).sort_values(by=0,ascending=False)\n",
    "plt.figure(figsize=(12,7))\n",
    "sns.barplot(x[0],x.index,palette='rainbow')\n",
    "plt.ylabel('Feature Name')\n",
    "plt.xlabel('Feature Importance in %')\n",
    "plt.title('Feature Importance Plot')\n",
    "plt.show()"
   ]
  },
  {
   "cell_type": "markdown",
   "id": "8946c9d8",
   "metadata": {},
   "source": [
    "### Random Forest Regressor Model"
   ]
  },
  {
   "cell_type": "code",
   "execution_count": null,
   "id": "29795c37",
   "metadata": {},
   "outputs": [],
   "source": [
    "# Random Forest Model\n",
    "\n",
    "from sklearn.ensemble import RandomForestRegressor"
   ]
  },
  {
   "cell_type": "code",
   "execution_count": null,
   "id": "f9129bde",
   "metadata": {},
   "outputs": [],
   "source": [
    "# Instantiation of the model\n",
    "\n",
    "model=RandomForestRegressor(n_estimators=30,random_state=30)"
   ]
  },
  {
   "cell_type": "code",
   "execution_count": null,
   "id": "846c966b",
   "metadata": {},
   "outputs": [],
   "source": [
    "RF_model=model.fit(X_train,y_train)"
   ]
  },
  {
   "cell_type": "code",
   "execution_count": null,
   "id": "7e87e411",
   "metadata": {},
   "outputs": [],
   "source": [
    "# Training Model Evaluation\n",
    "# The training r_sq\n",
    "\n",
    "print('The training r_sq is: %.2f'% RF_model.score(X_train,y_train))"
   ]
  },
  {
   "cell_type": "code",
   "execution_count": null,
   "id": "526bd3f4",
   "metadata": {},
   "outputs": [],
   "source": [
    "# prediction on training data\n",
    "y_train_pred_RF=RF_model.predict(X_train)\n",
    "# prediction on test data\n",
    "y_test_pred_RF=RF_model.predict(X_test)\n",
    "\n",
    "# The MAE ( Mean asbsolute error)\n",
    "print('The MAE is:', mean_absolute_error(y_train,y_train_pred_RF))\n",
    "rand_Forest_train_MAE=mean_absolute_error(y_train,y_train_pred_RF)\n",
    "# The MSE ( Mean Squared Error)\n",
    "print('The MSE is:', mean_squared_error(y_train,y_train_pred_RF))\n",
    "rand_Forest_train_MSE=mean_squared_error(y_train,y_train_pred_RF)\n",
    "# The MAPE ( Mean Absolute Percentage Error)\n",
    "print( 'The MAPE is', mean_absolute_percentage_error(y_train,y_train_pred_RF))\n",
    "rand_Forest_train_MAPE=mean_absolute_percentage_error(y_train,y_train_pred_RF)\n",
    "# The EVS (Expalained Variance Score)\n",
    "print('The EVS is', explained_variance_score(y_train,y_train_pred_RF))\n",
    "rand_Forest_train_EVS=explained_variance_score(y_train,y_train_pred_RF)\n",
    "# The RMSE\n",
    "print('The RMSE is:%.2f'% np.sqrt(mean_squared_error(y_train,y_train_pred_RF)))\n",
    "rand_Forest_train_rmse=np.sqrt(mean_squared_error(y_train,y_train_pred_RF))\n",
    "\n",
    "\n",
    "# The MAE ( Mean asbsolute error)\n",
    "print('The MAE for Test data is:', mean_absolute_error(y_test, y_test_pred_RF))\n",
    "rand_Forest_test_MAE=mean_absolute_error(y_test, y_test_pred_RF)\n",
    "# The MSE ( Mean Squared Error)\n",
    "print('The MSE for Test data is:', mean_squared_error(y_test, y_test_pred_RF))\n",
    "rand_Forest_test_MSE=mean_squared_error(y_test, y_test_pred_RF)\n",
    "# The MAPE ( Mean Absolute Percentage Error)\n",
    "print('The MAPE for Test data is', mean_absolute_percentage_error(y_test, y_test_pred_RF))\n",
    "rand_Forest_test_MAPE=mean_absolute_percentage_error(y_test, y_test_pred_RF)\n",
    "# The EVS (Expalained Variance Score)\n",
    "print('The EVS for Test data is', explained_variance_score(y_test, y_test_pred_RF))\n",
    "rand_Forest_test_EVS=explained_variance_score(y_test, y_test_pred_RF)\n",
    "# The RMSE\n",
    "print('The RMSE is:%.2f'% np.sqrt(mean_squared_error(y_test, y_test_pred_RF)))\n",
    "rand_Forest_test_rmse=np.sqrt(mean_squared_error(y_test, y_test_pred_RF))"
   ]
  },
  {
   "cell_type": "code",
   "execution_count": null,
   "id": "585a8801",
   "metadata": {},
   "outputs": [],
   "source": [
    "data2= pd.DataFrame({\n",
    "        'Random Forest':[rand_Forest_train_rmse,rand_Forest_test_rmse, rand_Forest_train_MAE, rand_Forest_test_MAE,\n",
    "                             rand_Forest_train_MSE, rand_Forest_test_MSE, rand_Forest_train_MAPE, rand_Forest_test_MAPE,\n",
    "                             rand_Forest_train_EVS, rand_Forest_test_EVS],\n",
    "        },index=index)\n",
    "\n",
    "final_result=pd.concat([final_result,data2],axis=1)\n",
    "final_result.T"
   ]
  },
  {
   "cell_type": "markdown",
   "id": "911a4163",
   "metadata": {},
   "source": [
    "## Random Forest Feature importance"
   ]
  },
  {
   "cell_type": "code",
   "execution_count": null,
   "id": "3667388f",
   "metadata": {
    "scrolled": true
   },
   "outputs": [],
   "source": [
    "f_list_RF=list(X.columns)\n",
    "f_importance_RF=pd.Series(RF_model.feature_importances_,index=f_list_RF).sort_values(ascending=False)\n",
    "print(f_importance_RF)"
   ]
  },
  {
   "cell_type": "code",
   "execution_count": null,
   "id": "f5538cb7",
   "metadata": {},
   "outputs": [],
   "source": [
    "##Print Feature Importances\n",
    "x=pd.DataFrame(RF_model.feature_importances_*100,index=X_train.columns).sort_values(by=0,ascending=False)\n",
    "plt.figure(figsize=(12,7))\n",
    "sns.barplot(x[0],x.index,palette='rainbow')\n",
    "plt.ylabel('Feature Name')\n",
    "plt.xlabel('Feature Importance in %')\n",
    "plt.title('Feature Importance Plot')\n",
    "plt.show()"
   ]
  },
  {
   "cell_type": "markdown",
   "id": "16787157",
   "metadata": {},
   "source": [
    "### Building a Artificial Neural Network Regressor"
   ]
  },
  {
   "cell_type": "raw",
   "id": "ef314b3a",
   "metadata": {},
   "source": [
    "Artificial neural network needs Scaling of the data, so we will use Standard Scalar Mathod for scaling the data set"
   ]
  },
  {
   "cell_type": "code",
   "execution_count": null,
   "id": "32721f08",
   "metadata": {},
   "outputs": [],
   "source": [
    "from sklearn.preprocessing import StandardScaler\n",
    "\n",
    "std_scale = StandardScaler()\n",
    "\n",
    "## We should Fit and transform oonly x_train data\n",
    "x_train_scaled = std_scale.fit_transform(X_train)\n",
    "\n",
    "## we should only transform x_test data , we dont want it to Consider new Mean and median rather use froom Training data\n",
    "x_test_scaled = std_scale.transform(X_test)"
   ]
  },
  {
   "cell_type": "code",
   "execution_count": null,
   "id": "15541f90",
   "metadata": {},
   "outputs": [],
   "source": [
    "from sklearn.neural_network import MLPRegressor\n",
    "from sklearn.model_selection import GridSearchCV\n",
    "\n",
    "param_grid = {\n",
    "    'hidden_layer_sizes': [50,100], \n",
    "    'activation':['logistic','relu'],\n",
    "    'max_iter': [250,], \n",
    "    'solver': ['adam','sgd'], \n",
    "    'tol': [0.1,0.01], \n",
    "}\n",
    "\n",
    "anncl = MLPRegressor(random_state=1)\n",
    "\n",
    "grid_search_ann = GridSearchCV(estimator = anncl, param_grid = param_grid, cv = 5)"
   ]
  },
  {
   "cell_type": "code",
   "execution_count": null,
   "id": "9b058964",
   "metadata": {},
   "outputs": [],
   "source": [
    "grid_search_ann.fit(x_train_scaled, y_train)\n",
    "\n",
    "grid_search_ann.best_params_\n"
   ]
  },
  {
   "cell_type": "code",
   "execution_count": null,
   "id": "30971703",
   "metadata": {},
   "outputs": [],
   "source": [
    "best_grid_ann = grid_search_ann.best_estimator_"
   ]
  },
  {
   "cell_type": "code",
   "execution_count": null,
   "id": "9129263c",
   "metadata": {},
   "outputs": [],
   "source": [
    "best_grid_ann"
   ]
  },
  {
   "cell_type": "code",
   "execution_count": null,
   "id": "98cf6f7a",
   "metadata": {},
   "outputs": [],
   "source": [
    "clf=MLPRegressor(hidden_layer_sizes=100,max_iter=2500,solver='adam',verbose=True, activation='relu',\n",
    "                 random_state=1,tol=0.01)"
   ]
  },
  {
   "cell_type": "code",
   "execution_count": null,
   "id": "a34b6c7c",
   "metadata": {
    "scrolled": true
   },
   "outputs": [],
   "source": [
    "# prediction on training data\n",
    "y_train_pred_ANN=best_grid_ann.predict(X_train)\n",
    "# prediction on test data\n",
    "y_test_pred_ANN=best_grid_ann.predict(X_test)\n",
    "\n",
    "# The MAE ( Mean asbsolute error)\n",
    "print('The MAE is:', mean_absolute_error(y_train,y_train_pred_ANN))\n",
    "ANN_train_MAE=mean_absolute_error(y_train,y_train_pred_ANN)\n",
    "# The MSE ( Mean Squared Error)\n",
    "print('The MSE is:', mean_squared_error(y_train,y_train_pred_ANN))\n",
    "ANN_train_MSE=mean_squared_error(y_train,y_train_pred_ANN)\n",
    "# The MAPE ( Mean Absolute Percentage Error)\n",
    "print( 'The MAPE is', mean_absolute_percentage_error(y_train,y_train_pred_ANN))\n",
    "ANN_train_MAPE=mean_absolute_percentage_error(y_train,y_train_pred_ANN)\n",
    "# The EVS (Expalained Variance Score)\n",
    "print('The EVS is', explained_variance_score(y_train,y_train_pred_ANN))\n",
    "ANN_train_EVS=explained_variance_score(y_train,y_train_pred_ANN)\n",
    "# The RMSE\n",
    "print('The RMSE is:%.2f'% np.sqrt(mean_squared_error(y_train,y_train_pred_ANN)))\n",
    "ANN_train_rmse=np.sqrt(mean_squared_error(y_train,y_train_pred_ANN))\n",
    "\n",
    "\n",
    "# The MAE ( Mean asbsolute error)\n",
    "print('The MAE for Test data is:', mean_absolute_error(y_test, y_test_pred_ANN))\n",
    "ANN_test_MAE=mean_absolute_error(y_test, y_test_pred_ANN)\n",
    "# The MSE ( Mean Squared Error)\n",
    "print('The MSE for Test data is:', mean_squared_error(y_test, y_test_pred_ANN))\n",
    "ANN_test_MSE=mean_squared_error(y_test, y_test_pred_ANN)\n",
    "# The MAPE ( Mean Absolute Percentage Error)\n",
    "print('The MAPE for Test data is', mean_absolute_percentage_error(y_test, y_test_pred_ANN))\n",
    "ANN_test_MAPE=mean_absolute_percentage_error(y_test, y_test_pred_ANN)\n",
    "# The EVS (Expalained Variance Score)\n",
    "print('The EVS for Test data is', explained_variance_score(y_test, y_test_pred_ANN))\n",
    "ANN_test_EVS=explained_variance_score(y_test, y_test_pred_ANN)\n",
    "# The RMSE\n",
    "print('The RMSE is:%.2f'% np.sqrt(mean_squared_error(y_test, y_test_pred_ANN)))\n",
    "ANN_test_rmse=np.sqrt(mean_squared_error(y_test, y_test_pred_ANN))"
   ]
  },
  {
   "cell_type": "code",
   "execution_count": null,
   "id": "d5b19937",
   "metadata": {},
   "outputs": [],
   "source": []
  },
  {
   "cell_type": "code",
   "execution_count": null,
   "id": "abc95636",
   "metadata": {},
   "outputs": [],
   "source": [
    "data2= pd.DataFrame({\n",
    "        'ANN Model':[ANN_train_rmse,ANN_test_rmse, ANN_train_MAE, ANN_test_MAE,\n",
    "                             ANN_train_MSE, ANN_test_MSE, ANN_train_MAPE, ANN_test_MAPE,\n",
    "                             ANN_train_EVS, ANN_test_EVS],\n",
    "        },index=index)\n",
    "\n",
    "final_result=pd.concat([final_result,data2],axis=1)\n",
    "final_result.T"
   ]
  },
  {
   "cell_type": "markdown",
   "id": "d168bdb8",
   "metadata": {},
   "source": [
    "## ANN Feature importance\n",
    "\n",
    "### 'MLPRegressor' object has no attribute 'feature_importances_'\n",
    "### So we can not say, whch Attribute of Sample data set is more contributing in prediction model"
   ]
  },
  {
   "cell_type": "code",
   "execution_count": null,
   "id": "940193ae",
   "metadata": {},
   "outputs": [],
   "source": []
  },
  {
   "cell_type": "markdown",
   "id": "3797fdcd",
   "metadata": {},
   "source": [
    "## Model Tuning"
   ]
  },
  {
   "cell_type": "markdown",
   "id": "2252a8a1",
   "metadata": {},
   "source": [
    "### Bagging Regressor (Random Forest should be applied for Bagging)\n",
    "#### A Bagging Regressor is an ensemble meta-estimator that fits base regressor each on random subsets of the original dataset and then aggregate their individual predictions (either by voting or by averaging) to form a final prediction."
   ]
  },
  {
   "cell_type": "code",
   "execution_count": null,
   "id": "0ad8a779",
   "metadata": {},
   "outputs": [],
   "source": [
    "from sklearn.ensemble import BaggingRegressor\n",
    "from sklearn.ensemble import RandomForestRegressor"
   ]
  },
  {
   "cell_type": "code",
   "execution_count": null,
   "id": "73b76ffa",
   "metadata": {},
   "outputs": [],
   "source": [
    "#Create a Gaussian Classifier\n",
    "clfRF=RandomForestRegressor(n_estimators=50)\n",
    "bgcl = BaggingRegressor(random_state=1, base_estimator=clfRF, n_estimators=50 ) #BaggingClassifier(n_estimators=50,random_state=1)\n",
    "model_bgcl = bgcl.fit(X_train, y_train)"
   ]
  },
  {
   "cell_type": "code",
   "execution_count": null,
   "id": "395915ed",
   "metadata": {},
   "outputs": [],
   "source": [
    "RF_model_bagging=bgcl.fit(X_train,y_train)"
   ]
  },
  {
   "cell_type": "code",
   "execution_count": null,
   "id": "2ba4c585",
   "metadata": {},
   "outputs": [],
   "source": [
    "# Training Model Evaluation\n",
    "# The training r_sq\n",
    "\n",
    "print('The training r_sq is: %.2f'% RF_model_bagging.score(X_train,y_train))"
   ]
  },
  {
   "cell_type": "code",
   "execution_count": null,
   "id": "345442ff",
   "metadata": {
    "scrolled": false
   },
   "outputs": [],
   "source": [
    "# prediction on training data\n",
    "y_train_pred_RF_bagging=RF_model_bagging.predict(X_train)\n",
    "# prediction on test data\n",
    "y_test_pred_RF_bagging=RF_model_bagging.predict(X_test)\n",
    "\n",
    "# The MAE ( Mean asbsolute error)\n",
    "print('The MAE is:', mean_absolute_error(y_train,y_train_pred_RF_bagging))\n",
    "rand_Forest_bagging_train_MAE=mean_absolute_error(y_train,y_train_pred_RF_bagging)\n",
    "# The MSE ( Mean Squared Error)\n",
    "print('The MSE is:', mean_squared_error(y_train,y_train_pred_RF_bagging))\n",
    "rand_Forest_bagging_train_MSE=mean_squared_error(y_train,y_train_pred_RF_bagging)\n",
    "# The MAPE ( Mean Absolute Percentage Error)\n",
    "print( 'The MAPE is', mean_absolute_percentage_error(y_train,y_train_pred_RF_bagging))\n",
    "rand_Forest_bagging_train_MAPE=mean_absolute_percentage_error(y_train,y_train_pred_RF_bagging)\n",
    "# The EVS (Expalained Variance Score)\n",
    "print('The EVS is', explained_variance_score(y_train,y_train_pred_RF_bagging))\n",
    "rand_Forest_bagging_train_EVS=explained_variance_score(y_train,y_train_pred_RF_bagging)\n",
    "# The RMSE\n",
    "print('The RMSE is:%.2f'% np.sqrt(mean_squared_error(y_train,y_train_pred_RF_bagging)))\n",
    "rand_Forest_bagging_train_rmse=np.sqrt(mean_squared_error(y_train,y_train_pred_RF_bagging))\n",
    "\n",
    "\n",
    "# The MAE ( Mean asbsolute error)\n",
    "print('The MAE for Test data is:', mean_absolute_error(y_test, y_test_pred_RF_bagging))\n",
    "rand_Forest_bagging_test_MAE=mean_absolute_error(y_test, y_test_pred_RF_bagging)\n",
    "# The MSE ( Mean Squared Error)\n",
    "print('The MSE for Test data is:', mean_squared_error(y_test, y_test_pred_RF_bagging))\n",
    "rand_Forest_bagging_test_MSE=mean_squared_error(y_test, y_test_pred_RF_bagging)\n",
    "# The MAPE ( Mean Absolute Percentage Error)\n",
    "print('The MAPE for Test data is', mean_absolute_percentage_error(y_test, y_test_pred_RF_bagging))\n",
    "rand_Forest_bagging_test_MAPE=mean_absolute_percentage_error(y_test, y_test_pred_RF_bagging)\n",
    "# The EVS (Expalained Variance Score)\n",
    "print('The EVS for Test data is', explained_variance_score(y_test, y_test_pred_RF_bagging))\n",
    "rand_Forest_bagging_test_EVS=explained_variance_score(y_test, y_test_pred_RF_bagging)\n",
    "# The RMSE\n",
    "print('The RMSE is:%.2f'% np.sqrt(mean_squared_error(y_test, y_test_pred_RF_bagging)))\n",
    "rand_Forest_bagging_test_rmse=np.sqrt(mean_squared_error(y_test, y_test_pred_RF_bagging))"
   ]
  },
  {
   "cell_type": "code",
   "execution_count": null,
   "id": "365b6bbb",
   "metadata": {
    "scrolled": false
   },
   "outputs": [],
   "source": [
    "data2= pd.DataFrame({\n",
    "        'Random Forest Bagging Model':[rand_Forest_bagging_train_rmse,rand_Forest_bagging_test_rmse, rand_Forest_bagging_train_MAE, rand_Forest_bagging_test_MAE,\n",
    "                             rand_Forest_bagging_train_MSE, rand_Forest_bagging_test_MSE, rand_Forest_bagging_train_MAPE, rand_Forest_bagging_test_MAPE,\n",
    "                             rand_Forest_bagging_train_EVS, rand_Forest_bagging_test_EVS],\n",
    "        },index=index)\n",
    "\n",
    "final_result=pd.concat([final_result,data2],axis=1)\n",
    "final_result"
   ]
  },
  {
   "cell_type": "markdown",
   "id": "cd37c850",
   "metadata": {},
   "source": [
    "## Bagging Regressor Feature importance\n",
    "### 'BaggingRegressor' object has no attribute 'feature_importances_'\n",
    "### So we can not say, whch Attribute of Sample data set is more contributing in prediction model"
   ]
  },
  {
   "cell_type": "markdown",
   "id": "3b5c605d",
   "metadata": {},
   "source": [
    "### Hyper parameter tuning for random forest"
   ]
  },
  {
   "cell_type": "code",
   "execution_count": null,
   "id": "b98bada7",
   "metadata": {},
   "outputs": [],
   "source": [
    "from sklearn.ensemble import RandomForestRegressor\n",
    "from sklearn.model_selection import GridSearchCV\n",
    "\n",
    "param_grid = {\n",
    "    'max_depth': [8,10,12],\n",
    "    'max_features': [3,4,5],\n",
    "    'max_depth': [8,10],   \n",
    "    'min_samples_leaf': [30,60,90],   ## 1-3% of training data set\n",
    "    'min_samples_split': [100,180,250],   ## 3 times of min sample leaf\n",
    "    'n_estimators': [100,200] \n",
    "}\n",
    "\n",
    "rfcl = RandomForestRegressor(random_state=1)\n",
    "\n",
    "grid_search_random_forest = GridSearchCV(estimator = rfcl, param_grid = param_grid, cv = 5)"
   ]
  },
  {
   "cell_type": "code",
   "execution_count": null,
   "id": "58a4ed6f",
   "metadata": {},
   "outputs": [],
   "source": [
    "grid_search_random_forest.fit(X_train, y_train)"
   ]
  },
  {
   "cell_type": "code",
   "execution_count": null,
   "id": "35be5d74",
   "metadata": {},
   "outputs": [],
   "source": [
    "grid_search_random_forest.best_params_"
   ]
  },
  {
   "cell_type": "code",
   "execution_count": null,
   "id": "898ad6d2",
   "metadata": {},
   "outputs": [],
   "source": [
    "best_grid_random_forest = grid_search_random_forest.best_estimator_"
   ]
  },
  {
   "cell_type": "code",
   "execution_count": null,
   "id": "f91a18f8",
   "metadata": {},
   "outputs": [],
   "source": [
    "print(pd.DataFrame(best_grid_random_forest.feature_importances_,\n",
    "                 columns=[\"Imp\"],\n",
    "                 index=X_train.columns).sort_values('Imp', ascending=False))"
   ]
  },
  {
   "cell_type": "code",
   "execution_count": null,
   "id": "105adf24",
   "metadata": {},
   "outputs": [],
   "source": [
    "##Print Feature Importances\n",
    "x=pd.DataFrame(best_grid_random_forest.feature_importances_*100,index=X_train.columns).sort_values(by=0,ascending=False)\n",
    "plt.figure(figsize=(12,7))\n",
    "sns.barplot(x[0],x.index,palette='rainbow')\n",
    "plt.ylabel('Feature Name')\n",
    "plt.xlabel('Feature Importance in %')\n",
    "plt.title('Feature Importance Plot')\n",
    "plt.show()"
   ]
  },
  {
   "cell_type": "code",
   "execution_count": null,
   "id": "6ba356bd",
   "metadata": {},
   "outputs": [],
   "source": [
    "RF_model_tunned_param=best_grid_random_forest.fit(X_train,y_train)"
   ]
  },
  {
   "cell_type": "code",
   "execution_count": null,
   "id": "9b8f7f3f",
   "metadata": {},
   "outputs": [],
   "source": [
    "# Training Model Evaluation\n",
    "# The training r_sq\n",
    "\n",
    "print('The training r_sq is: %.2f'% RF_model_tunned_param.score(X_train,y_train))"
   ]
  },
  {
   "cell_type": "code",
   "execution_count": null,
   "id": "3c8c7c31",
   "metadata": {
    "scrolled": true
   },
   "outputs": [],
   "source": [
    "# prediction on training data\n",
    "y_train_pred_RF_tunned_param=RF_model_tunned_param.predict(X_train)\n",
    "# prediction on test data\n",
    "y_test_pred_RF_tunned_param=RF_model_tunned_param.predict(X_test)\n",
    "\n",
    "# The MAE ( Mean asbsolute error)\n",
    "print('The MAE is:', mean_absolute_error(y_train,y_train_pred_RF_bagging))\n",
    "rand_Forest_tunned_param_train_MAE=mean_absolute_error(y_train,y_train_pred_RF_bagging)\n",
    "# The MSE ( Mean Squared Error)\n",
    "print('The MSE is:', mean_squared_error(y_train,y_train_pred_RF_bagging))\n",
    "rand_Forest_tunned_param_train_MSE=mean_squared_error(y_train,y_train_pred_RF_bagging)\n",
    "# The MAPE ( Mean Absolute Percentage Error)\n",
    "print( 'The MAPE is', mean_absolute_percentage_error(y_train,y_train_pred_RF_bagging))\n",
    "rand_Forest_tunned_param_train_MAPE=mean_absolute_percentage_error(y_train,y_train_pred_RF_bagging)\n",
    "# The EVS (Expalained Variance Score)\n",
    "print('The EVS is', explained_variance_score(y_train,y_train_pred_RF_bagging))\n",
    "rand_Forest_tunned_param_train_EVS=explained_variance_score(y_train,y_train_pred_RF_bagging)\n",
    "# The RMSE\n",
    "print('The RMSE is:%.2f'% np.sqrt(mean_squared_error(y_train,y_train_pred_RF_bagging)))\n",
    "rand_Forest_tunned_param_train_rmse=np.sqrt(mean_squared_error(y_train,y_train_pred_RF_bagging))\n",
    "\n",
    "\n",
    "# The MAE ( Mean asbsolute error)\n",
    "print('The MAE for Test data is:', mean_absolute_error(y_test, y_test_pred_RF_bagging))\n",
    "rand_Forest_tunned_param_test_MAE=mean_absolute_error(y_test, y_test_pred_RF_bagging)\n",
    "# The MSE ( Mean Squared Error)\n",
    "print('The MSE for Test data is:', mean_squared_error(y_test, y_test_pred_RF_bagging))\n",
    "rand_Forest_tunned_param_test_MSE=mean_squared_error(y_test, y_test_pred_RF_bagging)\n",
    "# The MAPE ( Mean Absolute Percentage Error)\n",
    "print('The MAPE for Test data is', mean_absolute_percentage_error(y_test, y_test_pred_RF_bagging))\n",
    "rand_Forest_tunned_param_test_MAPE=mean_absolute_percentage_error(y_test, y_test_pred_RF_bagging)\n",
    "# The EVS (Expalained Variance Score)\n",
    "print('The EVS for Test data is', explained_variance_score(y_test, y_test_pred_RF_bagging))\n",
    "rand_Forest_tunned_param_test_EVS=explained_variance_score(y_test, y_test_pred_RF_bagging)\n",
    "# The RMSE\n",
    "print('The RMSE is:%.2f'% np.sqrt(mean_squared_error(y_test, y_test_pred_RF_bagging)))\n",
    "rand_Forest_tunned_param_test_rmse=np.sqrt(mean_squared_error(y_test, y_test_pred_RF_bagging))"
   ]
  },
  {
   "cell_type": "code",
   "execution_count": null,
   "id": "15b532ae",
   "metadata": {},
   "outputs": [],
   "source": [
    "data2= pd.DataFrame({\n",
    "        'Random Forest Tunned Param ':[rand_Forest_tunned_param_train_rmse,rand_Forest_tunned_param_test_rmse, rand_Forest_tunned_param_train_MAE, rand_Forest_tunned_param_test_MAE,\n",
    "                             rand_Forest_tunned_param_train_MSE, rand_Forest_tunned_param_test_MSE, rand_Forest_tunned_param_train_MAPE, rand_Forest_tunned_param_test_MAPE,\n",
    "                             rand_Forest_tunned_param_train_EVS, rand_Forest_tunned_param_test_EVS],\n",
    "        },index=index)\n",
    "\n",
    "final_result=pd.concat([final_result,data2],axis=1)\n",
    "final_result.T"
   ]
  },
  {
   "cell_type": "markdown",
   "id": "874cad84",
   "metadata": {},
   "source": [
    "### Hyper parameter tuning for Decision Tree Regressor"
   ]
  },
  {
   "cell_type": "code",
   "execution_count": null,
   "id": "5d78040a",
   "metadata": {},
   "outputs": [],
   "source": [
    "from sklearn.tree import DecisionTreeRegressor"
   ]
  },
  {
   "cell_type": "code",
   "execution_count": null,
   "id": "cb2192b0",
   "metadata": {},
   "outputs": [],
   "source": [
    "from sklearn.model_selection import GridSearchCV\n",
    "param_grid = {\n",
    "    'criterion':  ['squared_error', 'friedman_mse', 'absolute_error'],\n",
    "    'max_depth': [8,10,12],   \n",
    "    'min_samples_leaf': [100,150,200],   \n",
    "    'min_samples_split': [300,450,600],   \n",
    "}\n",
    "\n",
    "dtcl = DecisionTreeRegressor(random_state=1)\n",
    "\n",
    "grid_search_dtree = GridSearchCV(estimator = dtcl, param_grid = param_grid, cv = 5)"
   ]
  },
  {
   "cell_type": "code",
   "execution_count": null,
   "id": "6f7f6df1",
   "metadata": {},
   "outputs": [],
   "source": [
    "grid_search_dtree.fit(X_train, y_train)\n",
    "print(grid_search_dtree.best_params_)"
   ]
  },
  {
   "cell_type": "code",
   "execution_count": null,
   "id": "0f96727f",
   "metadata": {},
   "outputs": [],
   "source": [
    "best_grid_dtree = grid_search_dtree.best_estimator_\n",
    "best_grid_dtree"
   ]
  },
  {
   "cell_type": "code",
   "execution_count": null,
   "id": "10b53bc7",
   "metadata": {},
   "outputs": [],
   "source": [
    "## Print the variable importance\n",
    "print(pd.DataFrame(best_grid_dtree.feature_importances_,\n",
    "                 columns=[\"Imp\"],\n",
    "                 index=X_train.columns).sort_values('Imp', ascending=False))"
   ]
  },
  {
   "cell_type": "code",
   "execution_count": null,
   "id": "fd21692c",
   "metadata": {},
   "outputs": [],
   "source": [
    "##Print Feature Importances\n",
    "x=pd.DataFrame(best_grid_dtree.feature_importances_*100,index=X_train.columns).sort_values(by=0,ascending=False)\n",
    "plt.figure(figsize=(12,7))\n",
    "sns.barplot(x[0],x.index,palette='rainbow')\n",
    "plt.ylabel('Feature Name')\n",
    "plt.xlabel('Feature Importance in %')\n",
    "plt.title('Feature Importance Plot')\n",
    "plt.show()"
   ]
  },
  {
   "cell_type": "code",
   "execution_count": null,
   "id": "5610993d",
   "metadata": {},
   "outputs": [],
   "source": [
    "# prediction on training data\n",
    "y_train_pred_Dtree_tunned_param=RF_model_tunned_param.predict(X_train)\n",
    "# prediction on test data\n",
    "y_test_pred_Dtree_tunned_param=RF_model_tunned_param.predict(X_test)\n",
    "\n",
    "# The MAE ( Mean asbsolute error)\n",
    "print('The MAE is:', mean_absolute_error(y_train,y_train_pred_Dtree_tunned_param))\n",
    "decission_tree_tunned_param_train_MAE=mean_absolute_error(y_train,y_train_pred_Dtree_tunned_param)\n",
    "# The MSE ( Mean Squared Error)\n",
    "print('The MSE is:', mean_squared_error(y_train,y_train_pred_Dtree_tunned_param))\n",
    "decission_tree_tunned_param_train_MSE=mean_squared_error(y_train,y_train_pred_Dtree_tunned_param)\n",
    "# The MAPE ( Mean Absolute Percentage Error)\n",
    "print( 'The MAPE is', mean_absolute_percentage_error(y_train,y_train_pred_Dtree_tunned_param))\n",
    "decission_tree_tunned_param_train_MAPE=mean_absolute_percentage_error(y_train,y_train_pred_Dtree_tunned_param)\n",
    "# The EVS (Expalained Variance Score)\n",
    "print('The EVS is', explained_variance_score(y_train,y_train_pred_Dtree_tunned_param))\n",
    "decission_tree_tunned_param_train_EVS=explained_variance_score(y_train,y_train_pred_Dtree_tunned_param)\n",
    "# The RMSE\n",
    "print('The RMSE is:%.2f'% np.sqrt(mean_squared_error(y_train,y_train_pred_Dtree_tunned_param)))\n",
    "decission_tree_tunned_param_train_rmse=np.sqrt(mean_squared_error(y_train,y_train_pred_Dtree_tunned_param))\n",
    "\n",
    "\n",
    "# The MAE ( Mean asbsolute error)\n",
    "print('The MAE for Test data is:', mean_absolute_error(y_test, y_test_pred_Dtree_tunned_param))\n",
    "decission_tree_tunned_param_test_MAE=mean_absolute_error(y_test, y_test_pred_Dtree_tunned_param)\n",
    "# The MSE ( Mean Squared Error)\n",
    "print('The MSE for Test data is:', mean_squared_error(y_test, y_test_pred_Dtree_tunned_param))\n",
    "decission_tree_tunned_param_test_MSE=mean_squared_error(y_test, y_test_pred_Dtree_tunned_param)\n",
    "# The MAPE ( Mean Absolute Percentage Error)\n",
    "print('The MAPE for Test data is', mean_absolute_percentage_error(y_test, y_test_pred_Dtree_tunned_param))\n",
    "decission_tree_tunned_param_test_MAPE=mean_absolute_percentage_error(y_test, y_test_pred_Dtree_tunned_param)\n",
    "# The EVS (Expalained Variance Score)\n",
    "print('The EVS for Test data is', explained_variance_score(y_test, y_test_pred_Dtree_tunned_param))\n",
    "decission_tree_tunned_param_test_EVS=explained_variance_score(y_test, y_test_pred_Dtree_tunned_param)\n",
    "# The RMSE\n",
    "print('The RMSE is:%.2f'% np.sqrt(mean_squared_error(y_test, y_test_pred_Dtree_tunned_param)))\n",
    "decission_tree_tunned_param_test_rmse=np.sqrt(mean_squared_error(y_test, y_test_pred_Dtree_tunned_param))"
   ]
  },
  {
   "cell_type": "code",
   "execution_count": null,
   "id": "4f9255c6",
   "metadata": {
    "scrolled": false
   },
   "outputs": [],
   "source": [
    "data2= pd.DataFrame({\n",
    "        'decission_tree tunned param':[decission_tree_tunned_param_train_rmse,decission_tree_tunned_param_test_rmse, decission_tree_tunned_param_train_MAE, decission_tree_tunned_param_test_MAE,\n",
    "                             decission_tree_tunned_param_train_MSE, decission_tree_tunned_param_test_MSE, decission_tree_tunned_param_train_MAPE, decission_tree_tunned_param_test_MAPE,\n",
    "                             decission_tree_tunned_param_train_EVS, decission_tree_tunned_param_test_EVS],\n",
    "        },index=index)\n",
    "\n",
    "final_result=pd.concat([final_result,data2],axis=1)\n",
    "final_result.T\n"
   ]
  },
  {
   "cell_type": "markdown",
   "id": "d1afb359",
   "metadata": {},
   "source": [
    "### Compare these models and select the best one with appropriate reasoning."
   ]
  },
  {
   "cell_type": "code",
   "execution_count": null,
   "id": "815a8ac5",
   "metadata": {},
   "outputs": [],
   "source": [
    "All_Model_result= final_result.T"
   ]
  },
  {
   "cell_type": "code",
   "execution_count": null,
   "id": "ca88a4c4",
   "metadata": {},
   "outputs": [],
   "source": [
    "All_Model_result['Test RMSE']= All_Model_result['Test RMSE'].astype('float')\n",
    "All_Model_result['Train RMSE']= All_Model_result['Train RMSE'].astype('float')"
   ]
  },
  {
   "cell_type": "code",
   "execution_count": null,
   "id": "2ed48784",
   "metadata": {},
   "outputs": [],
   "source": [
    "All_Model_result.sort_values(by='Test RMSE')"
   ]
  },
  {
   "cell_type": "raw",
   "id": "d8824054",
   "metadata": {},
   "source": [
    "We have created different models using Scikit learn and OLS method and following are RMSE values for those Models:\n",
    "    \n",
    "RMSE of Model from Random Forest : 271.384305\n",
    "RMSE of Model from Random Forest Bagging Model: 271.384305\n",
    "\n",
    "Though difference is not much, but still Model 2 has the lowest RMSE, which tells us that it’s able to fit the dataset the best out of the potential models."
   ]
  },
  {
   "cell_type": "code",
   "execution_count": null,
   "id": "63f6d7a7",
   "metadata": {
    "scrolled": false
   },
   "outputs": [],
   "source": [
    "All_Model_result.sort_values(by='Test MAPE')"
   ]
  },
  {
   "cell_type": "code",
   "execution_count": null,
   "id": "0b9d9627",
   "metadata": {},
   "outputs": [],
   "source": [
    "my_result=All_Model_result.copy()"
   ]
  },
  {
   "cell_type": "code",
   "execution_count": null,
   "id": "8d4d9b02",
   "metadata": {},
   "outputs": [],
   "source": [
    "my_result['Model_name']=my_result.index"
   ]
  },
  {
   "cell_type": "code",
   "execution_count": null,
   "id": "91cf1ded",
   "metadata": {
    "scrolled": false
   },
   "outputs": [],
   "source": [
    "my_result"
   ]
  },
  {
   "cell_type": "code",
   "execution_count": null,
   "id": "a53342b3",
   "metadata": {},
   "outputs": [],
   "source": [
    "my_result=All_Model_result.copy()\n",
    "my_result['Model_name']=my_result.index\n",
    "my_result\n",
    "sns.lineplot(data=my_result, x=\"Model_name\", y=(\"Test RMSE\"))"
   ]
  }
 ],
 "metadata": {
  "kernelspec": {
   "display_name": "Python 3",
   "language": "python",
   "name": "python3"
  },
  "language_info": {
   "codemirror_mode": {
    "name": "ipython",
    "version": 3
   },
   "file_extension": ".py",
   "mimetype": "text/x-python",
   "name": "python",
   "nbconvert_exporter": "python",
   "pygments_lexer": "ipython3",
   "version": "3.8.8"
  }
 },
 "nbformat": 4,
 "nbformat_minor": 5
}
