{
 "cells": [
  {
   "cell_type": "markdown",
   "id": "fab8b1ae",
   "metadata": {},
   "source": [
    "## The project notes 2 is an extension of project notes 1. The project notes 1 was completed and data was exported as Sales_Project_notes_2. We will continue from there and start our next pahse of model building"
   ]
  },
  {
   "cell_type": "code",
   "execution_count": 1,
   "id": "e6cd420d",
   "metadata": {},
   "outputs": [],
   "source": [
    "# Importing basic libraries.."
   ]
  },
  {
   "cell_type": "code",
   "execution_count": 2,
   "id": "ff2d1b3d",
   "metadata": {},
   "outputs": [],
   "source": [
    "import pandas as pd\n",
    "import numpy as np\n",
    "import seaborn as sns\n",
    "import matplotlib.pyplot as plt\n",
    "%matplotlib inline\n",
    "from sklearn.model_selection import train_test_split\n",
    "from sklearn import metrics\n",
    "from sklearn.linear_model import LinearRegression\n",
    "import statsmodels.api as sm\n",
    "from sklearn.metrics import mean_squared_error\n",
    "from statsmodels.stats.outliers_influence import variance_inflation_factor\n",
    "import math\n",
    "\n",
    "\n",
    "from sklearn.metrics import roc_auc_score,roc_curve,classification_report,confusion_matrix,plot_confusion_matrix\n",
    "import scipy.stats as stats\n",
    "from warnings import filterwarnings\n",
    "filterwarnings('ignore')"
   ]
  },
  {
   "cell_type": "code",
   "execution_count": 3,
   "id": "4986fb67",
   "metadata": {},
   "outputs": [],
   "source": [
    "# importing the dataset..comparing the data with the last exported data for correctness and proceeding ahead with model building."
   ]
  },
  {
   "cell_type": "code",
   "execution_count": 4,
   "id": "e0f95071",
   "metadata": {},
   "outputs": [],
   "source": [
    "df=pd.read_csv('Sales_Project_notes_2.csv')"
   ]
  },
  {
   "cell_type": "code",
   "execution_count": 5,
   "id": "cb5fd785",
   "metadata": {},
   "outputs": [
    {
     "data": {
      "text/html": [
       "<div>\n",
       "<style scoped>\n",
       "    .dataframe tbody tr th:only-of-type {\n",
       "        vertical-align: middle;\n",
       "    }\n",
       "\n",
       "    .dataframe tbody tr th {\n",
       "        vertical-align: top;\n",
       "    }\n",
       "\n",
       "    .dataframe thead th {\n",
       "        text-align: right;\n",
       "    }\n",
       "</style>\n",
       "<table border=\"1\" class=\"dataframe\">\n",
       "  <thead>\n",
       "    <tr style=\"text-align: right;\">\n",
       "      <th></th>\n",
       "      <th>Age</th>\n",
       "      <th>CustTenure</th>\n",
       "      <th>Channel</th>\n",
       "      <th>Occupation</th>\n",
       "      <th>EducationField</th>\n",
       "      <th>Gender</th>\n",
       "      <th>Designation</th>\n",
       "      <th>NumberOfPolicy</th>\n",
       "      <th>MaritalStatus</th>\n",
       "      <th>MonthlyIncome</th>\n",
       "      <th>ExistingPolicyTenure</th>\n",
       "      <th>Zone</th>\n",
       "      <th>PaymentMethod</th>\n",
       "      <th>Agent_bonus_Per_Policy</th>\n",
       "      <th>Sum_assured_Per_Policy</th>\n",
       "    </tr>\n",
       "  </thead>\n",
       "  <tbody>\n",
       "    <tr>\n",
       "      <th>0</th>\n",
       "      <td>22.0</td>\n",
       "      <td>4.0</td>\n",
       "      <td>Agent</td>\n",
       "      <td>Salaried</td>\n",
       "      <td>Graduate</td>\n",
       "      <td>Female</td>\n",
       "      <td>Manager</td>\n",
       "      <td>2.0</td>\n",
       "      <td>Single</td>\n",
       "      <td>20993.0</td>\n",
       "      <td>2.0</td>\n",
       "      <td>North</td>\n",
       "      <td>Half Yearly</td>\n",
       "      <td>2204.500000</td>\n",
       "      <td>403380.50</td>\n",
       "    </tr>\n",
       "    <tr>\n",
       "      <th>1</th>\n",
       "      <td>11.0</td>\n",
       "      <td>2.0</td>\n",
       "      <td>Third Party Partner</td>\n",
       "      <td>Salaried</td>\n",
       "      <td>Graduate</td>\n",
       "      <td>Male</td>\n",
       "      <td>Manager</td>\n",
       "      <td>4.0</td>\n",
       "      <td>Divorced</td>\n",
       "      <td>20130.0</td>\n",
       "      <td>3.0</td>\n",
       "      <td>North</td>\n",
       "      <td>Yearly</td>\n",
       "      <td>553.500000</td>\n",
       "      <td>73625.50</td>\n",
       "    </tr>\n",
       "    <tr>\n",
       "      <th>2</th>\n",
       "      <td>26.0</td>\n",
       "      <td>4.0</td>\n",
       "      <td>Agent</td>\n",
       "      <td>Free Lancer</td>\n",
       "      <td>Post Graduate</td>\n",
       "      <td>Male</td>\n",
       "      <td>Executive</td>\n",
       "      <td>3.0</td>\n",
       "      <td>Unmarried</td>\n",
       "      <td>17090.0</td>\n",
       "      <td>2.0</td>\n",
       "      <td>North</td>\n",
       "      <td>Yearly</td>\n",
       "      <td>1424.333333</td>\n",
       "      <td>192992.00</td>\n",
       "    </tr>\n",
       "    <tr>\n",
       "      <th>3</th>\n",
       "      <td>11.0</td>\n",
       "      <td>2.0</td>\n",
       "      <td>Third Party Partner</td>\n",
       "      <td>Salaried</td>\n",
       "      <td>Graduate</td>\n",
       "      <td>Female</td>\n",
       "      <td>Executive</td>\n",
       "      <td>3.0</td>\n",
       "      <td>Divorced</td>\n",
       "      <td>17909.0</td>\n",
       "      <td>2.0</td>\n",
       "      <td>West</td>\n",
       "      <td>Half Yearly</td>\n",
       "      <td>597.000000</td>\n",
       "      <td>89545.00</td>\n",
       "    </tr>\n",
       "    <tr>\n",
       "      <th>4</th>\n",
       "      <td>6.0</td>\n",
       "      <td>4.0</td>\n",
       "      <td>Agent</td>\n",
       "      <td>Small Business</td>\n",
       "      <td>Under Graduate</td>\n",
       "      <td>Male</td>\n",
       "      <td>Executive</td>\n",
       "      <td>4.0</td>\n",
       "      <td>Divorced</td>\n",
       "      <td>18468.0</td>\n",
       "      <td>4.0</td>\n",
       "      <td>West</td>\n",
       "      <td>Half Yearly</td>\n",
       "      <td>738.750000</td>\n",
       "      <td>91601.25</td>\n",
       "    </tr>\n",
       "  </tbody>\n",
       "</table>\n",
       "</div>"
      ],
      "text/plain": [
       "    Age  CustTenure              Channel      Occupation  EducationField  \\\n",
       "0  22.0         4.0                Agent        Salaried        Graduate   \n",
       "1  11.0         2.0  Third Party Partner        Salaried        Graduate   \n",
       "2  26.0         4.0                Agent     Free Lancer   Post Graduate   \n",
       "3  11.0         2.0  Third Party Partner        Salaried        Graduate   \n",
       "4   6.0         4.0                Agent  Small Business  Under Graduate   \n",
       "\n",
       "   Gender Designation  NumberOfPolicy MaritalStatus  MonthlyIncome  \\\n",
       "0  Female     Manager             2.0        Single        20993.0   \n",
       "1    Male     Manager             4.0      Divorced        20130.0   \n",
       "2    Male   Executive             3.0     Unmarried        17090.0   \n",
       "3  Female   Executive             3.0      Divorced        17909.0   \n",
       "4    Male   Executive             4.0      Divorced        18468.0   \n",
       "\n",
       "   ExistingPolicyTenure   Zone PaymentMethod  Agent_bonus_Per_Policy  \\\n",
       "0                   2.0  North   Half Yearly             2204.500000   \n",
       "1                   3.0  North        Yearly              553.500000   \n",
       "2                   2.0  North        Yearly             1424.333333   \n",
       "3                   2.0   West   Half Yearly              597.000000   \n",
       "4                   4.0   West   Half Yearly              738.750000   \n",
       "\n",
       "   Sum_assured_Per_Policy  \n",
       "0               403380.50  \n",
       "1                73625.50  \n",
       "2               192992.00  \n",
       "3                89545.00  \n",
       "4                91601.25  "
      ]
     },
     "execution_count": 5,
     "metadata": {},
     "output_type": "execute_result"
    }
   ],
   "source": [
    "df.head()"
   ]
  },
  {
   "cell_type": "code",
   "execution_count": 6,
   "id": "e6626070",
   "metadata": {},
   "outputs": [
    {
     "data": {
      "text/html": [
       "<div>\n",
       "<style scoped>\n",
       "    .dataframe tbody tr th:only-of-type {\n",
       "        vertical-align: middle;\n",
       "    }\n",
       "\n",
       "    .dataframe tbody tr th {\n",
       "        vertical-align: top;\n",
       "    }\n",
       "\n",
       "    .dataframe thead th {\n",
       "        text-align: right;\n",
       "    }\n",
       "</style>\n",
       "<table border=\"1\" class=\"dataframe\">\n",
       "  <thead>\n",
       "    <tr style=\"text-align: right;\">\n",
       "      <th></th>\n",
       "      <th>Age</th>\n",
       "      <th>CustTenure</th>\n",
       "      <th>Channel</th>\n",
       "      <th>Occupation</th>\n",
       "      <th>EducationField</th>\n",
       "      <th>Gender</th>\n",
       "      <th>Designation</th>\n",
       "      <th>NumberOfPolicy</th>\n",
       "      <th>MaritalStatus</th>\n",
       "      <th>MonthlyIncome</th>\n",
       "      <th>ExistingPolicyTenure</th>\n",
       "      <th>Zone</th>\n",
       "      <th>PaymentMethod</th>\n",
       "      <th>Agent_bonus_Per_Policy</th>\n",
       "      <th>Sum_assured_Per_Policy</th>\n",
       "    </tr>\n",
       "  </thead>\n",
       "  <tbody>\n",
       "    <tr>\n",
       "      <th>4515</th>\n",
       "      <td>4.0</td>\n",
       "      <td>8.0</td>\n",
       "      <td>Agent</td>\n",
       "      <td>Small Business</td>\n",
       "      <td>Graduate</td>\n",
       "      <td>Male</td>\n",
       "      <td>Senior Manager</td>\n",
       "      <td>2.0</td>\n",
       "      <td>Single</td>\n",
       "      <td>26355.0</td>\n",
       "      <td>2.0</td>\n",
       "      <td>West</td>\n",
       "      <td>Yearly</td>\n",
       "      <td>1976.5</td>\n",
       "      <td>318236.5</td>\n",
       "    </tr>\n",
       "    <tr>\n",
       "      <th>4516</th>\n",
       "      <td>9.0</td>\n",
       "      <td>9.0</td>\n",
       "      <td>Agent</td>\n",
       "      <td>Salaried</td>\n",
       "      <td>Under Graduate</td>\n",
       "      <td>Female</td>\n",
       "      <td>Executive</td>\n",
       "      <td>2.0</td>\n",
       "      <td>Married</td>\n",
       "      <td>20991.0</td>\n",
       "      <td>3.0</td>\n",
       "      <td>North</td>\n",
       "      <td>Yearly</td>\n",
       "      <td>1469.5</td>\n",
       "      <td>148406.5</td>\n",
       "    </tr>\n",
       "    <tr>\n",
       "      <th>4517</th>\n",
       "      <td>23.0</td>\n",
       "      <td>23.0</td>\n",
       "      <td>Agent</td>\n",
       "      <td>Salaried</td>\n",
       "      <td>Engineer</td>\n",
       "      <td>Female</td>\n",
       "      <td>AVP</td>\n",
       "      <td>5.0</td>\n",
       "      <td>Single</td>\n",
       "      <td>21606.0</td>\n",
       "      <td>2.0</td>\n",
       "      <td>North</td>\n",
       "      <td>Half Yearly</td>\n",
       "      <td>758.4</td>\n",
       "      <td>133474.2</td>\n",
       "    </tr>\n",
       "    <tr>\n",
       "      <th>4518</th>\n",
       "      <td>10.0</td>\n",
       "      <td>10.0</td>\n",
       "      <td>Online</td>\n",
       "      <td>Small Business</td>\n",
       "      <td>Graduate</td>\n",
       "      <td>Female</td>\n",
       "      <td>Executive</td>\n",
       "      <td>2.0</td>\n",
       "      <td>Single</td>\n",
       "      <td>20068.0</td>\n",
       "      <td>6.0</td>\n",
       "      <td>West</td>\n",
       "      <td>Half Yearly</td>\n",
       "      <td>2408.0</td>\n",
       "      <td>471999.5</td>\n",
       "    </tr>\n",
       "    <tr>\n",
       "      <th>4519</th>\n",
       "      <td>14.0</td>\n",
       "      <td>10.0</td>\n",
       "      <td>Agent</td>\n",
       "      <td>Salaried</td>\n",
       "      <td>Under Graduate</td>\n",
       "      <td>Female</td>\n",
       "      <td>Manager</td>\n",
       "      <td>2.0</td>\n",
       "      <td>Married</td>\n",
       "      <td>23820.0</td>\n",
       "      <td>3.0</td>\n",
       "      <td>North</td>\n",
       "      <td>Half Yearly</td>\n",
       "      <td>2382.0</td>\n",
       "      <td>350154.0</td>\n",
       "    </tr>\n",
       "  </tbody>\n",
       "</table>\n",
       "</div>"
      ],
      "text/plain": [
       "       Age  CustTenure Channel      Occupation  EducationField  Gender  \\\n",
       "4515   4.0         8.0   Agent  Small Business        Graduate    Male   \n",
       "4516   9.0         9.0   Agent        Salaried  Under Graduate  Female   \n",
       "4517  23.0        23.0   Agent        Salaried        Engineer  Female   \n",
       "4518  10.0        10.0  Online  Small Business        Graduate  Female   \n",
       "4519  14.0        10.0   Agent        Salaried  Under Graduate  Female   \n",
       "\n",
       "         Designation  NumberOfPolicy MaritalStatus  MonthlyIncome  \\\n",
       "4515  Senior Manager             2.0        Single        26355.0   \n",
       "4516       Executive             2.0       Married        20991.0   \n",
       "4517             AVP             5.0        Single        21606.0   \n",
       "4518       Executive             2.0        Single        20068.0   \n",
       "4519         Manager             2.0       Married        23820.0   \n",
       "\n",
       "      ExistingPolicyTenure   Zone PaymentMethod  Agent_bonus_Per_Policy  \\\n",
       "4515                   2.0   West        Yearly                  1976.5   \n",
       "4516                   3.0  North        Yearly                  1469.5   \n",
       "4517                   2.0  North   Half Yearly                   758.4   \n",
       "4518                   6.0   West   Half Yearly                  2408.0   \n",
       "4519                   3.0  North   Half Yearly                  2382.0   \n",
       "\n",
       "      Sum_assured_Per_Policy  \n",
       "4515                318236.5  \n",
       "4516                148406.5  \n",
       "4517                133474.2  \n",
       "4518                471999.5  \n",
       "4519                350154.0  "
      ]
     },
     "execution_count": 6,
     "metadata": {},
     "output_type": "execute_result"
    }
   ],
   "source": [
    "df.tail()"
   ]
  },
  {
   "cell_type": "code",
   "execution_count": 7,
   "id": "962b5cbd",
   "metadata": {},
   "outputs": [
    {
     "data": {
      "text/plain": [
       "(4520, 15)"
      ]
     },
     "execution_count": 7,
     "metadata": {},
     "output_type": "execute_result"
    }
   ],
   "source": [
    "df.shape"
   ]
  },
  {
   "cell_type": "markdown",
   "id": "209bacf0",
   "metadata": {},
   "source": [
    "We have compared the data which was exported and saved as csv file with the data imported and it is good to go."
   ]
  },
  {
   "cell_type": "markdown",
   "id": "c023e749",
   "metadata": {},
   "source": [
    "#### The second set of project notes must include the model building aspect and be aligned to the analytical business problem the Capstone Project addresses. It should also include the rationale behind using/building one particular model (if applicable). The notes should be brief and succinct containing the depiction of the results for the models built aligned with the objective of the project. "
   ]
  },
  {
   "cell_type": "code",
   "execution_count": 8,
   "id": "41599618",
   "metadata": {},
   "outputs": [],
   "source": [
    "# Before we proceed for model building we will create copies of our original model to use it as and when needed.."
   ]
  },
  {
   "cell_type": "code",
   "execution_count": 9,
   "id": "7087d53f",
   "metadata": {},
   "outputs": [],
   "source": [
    "df1=df.copy()"
   ]
  },
  {
   "cell_type": "code",
   "execution_count": 26,
   "id": "7c0f23e6",
   "metadata": {},
   "outputs": [],
   "source": [
    "df2=df1.copy()"
   ]
  },
  {
   "cell_type": "code",
   "execution_count": 29,
   "id": "f36816cd",
   "metadata": {},
   "outputs": [
    {
     "name": "stdout",
     "output_type": "stream",
     "text": [
      "\n",
      "\n",
      "Columns is : Channel\n",
      "['Agent', 'Third Party Partner', 'Online']\n",
      "Categories (3, object): ['Agent', 'Online', 'Third Party Partner']\n",
      "[0 2 1]\n",
      "\n",
      "\n",
      "Columns is : Occupation\n",
      "['Salaried', 'Free Lancer', 'Small Business', 'Large Business']\n",
      "Categories (4, object): ['Free Lancer', 'Large Business', 'Salaried', 'Small Business']\n",
      "[2 0 3 1]\n",
      "\n",
      "\n",
      "Columns is : EducationField\n",
      "['Graduate', 'Post Graduate', 'Under Graduate', 'Engineer', 'Diploma', 'MBA']\n",
      "Categories (6, object): ['Diploma', 'Engineer', 'Graduate', 'MBA', 'Post Graduate', 'Under Graduate']\n",
      "[2 4 5 1 0 3]\n",
      "\n",
      "\n",
      "Columns is : Gender\n",
      "['Female', 'Male']\n",
      "Categories (2, object): ['Female', 'Male']\n",
      "[0 1]\n",
      "\n",
      "\n",
      "Columns is : Designation\n",
      "['Manager', 'Executive', 'VP', 'AVP', 'Senior Manager']\n",
      "Categories (5, object): ['AVP', 'Executive', 'Manager', 'Senior Manager', 'VP']\n",
      "[2 1 4 0 3]\n",
      "\n",
      "\n",
      "Columns is : MaritalStatus\n",
      "['Single', 'Divorced', 'Unmarried', 'Married']\n",
      "Categories (4, object): ['Divorced', 'Married', 'Single', 'Unmarried']\n",
      "[2 0 3 1]\n",
      "\n",
      "\n",
      "Columns is : Zone\n",
      "['North', 'West', 'East', 'South']\n",
      "Categories (4, object): ['East', 'North', 'South', 'West']\n",
      "[1 3 0 2]\n",
      "\n",
      "\n",
      "Columns is : PaymentMethod\n",
      "['Half Yearly', 'Yearly', 'Quarterly', 'Monthly']\n",
      "Categories (4, object): ['Half Yearly', 'Monthly', 'Quarterly', 'Yearly']\n",
      "[0 3 2 1]\n"
     ]
    }
   ],
   "source": [
    "for col in df2.columns: \n",
    "    if df2[col].dtype == 'object': \n",
    "        print('\\n')\n",
    "        print('Columns is :',col)\n",
    "        print(pd.Categorical(df2[col].unique()))\n",
    "        print(pd.Categorical(df2[col].unique()).codes)\n",
    "        df2[col] = pd.Categorical(df2[col]).codes"
   ]
  },
  {
   "cell_type": "code",
   "execution_count": 30,
   "id": "d633a0e1",
   "metadata": {},
   "outputs": [
    {
     "data": {
      "text/html": [
       "<div>\n",
       "<style scoped>\n",
       "    .dataframe tbody tr th:only-of-type {\n",
       "        vertical-align: middle;\n",
       "    }\n",
       "\n",
       "    .dataframe tbody tr th {\n",
       "        vertical-align: top;\n",
       "    }\n",
       "\n",
       "    .dataframe thead th {\n",
       "        text-align: right;\n",
       "    }\n",
       "</style>\n",
       "<table border=\"1\" class=\"dataframe\">\n",
       "  <thead>\n",
       "    <tr style=\"text-align: right;\">\n",
       "      <th></th>\n",
       "      <th>Age</th>\n",
       "      <th>CustTenure</th>\n",
       "      <th>Channel</th>\n",
       "      <th>Occupation</th>\n",
       "      <th>EducationField</th>\n",
       "      <th>Gender</th>\n",
       "      <th>Designation</th>\n",
       "      <th>NumberOfPolicy</th>\n",
       "      <th>MaritalStatus</th>\n",
       "      <th>MonthlyIncome</th>\n",
       "      <th>ExistingPolicyTenure</th>\n",
       "      <th>Zone</th>\n",
       "      <th>PaymentMethod</th>\n",
       "      <th>Agent_bonus_Per_Policy</th>\n",
       "      <th>Sum_assured_Per_Policy</th>\n",
       "    </tr>\n",
       "  </thead>\n",
       "  <tbody>\n",
       "    <tr>\n",
       "      <th>0</th>\n",
       "      <td>22.0</td>\n",
       "      <td>4.0</td>\n",
       "      <td>0</td>\n",
       "      <td>2</td>\n",
       "      <td>2</td>\n",
       "      <td>0</td>\n",
       "      <td>2</td>\n",
       "      <td>2.0</td>\n",
       "      <td>2</td>\n",
       "      <td>20993.0</td>\n",
       "      <td>2.0</td>\n",
       "      <td>1</td>\n",
       "      <td>0</td>\n",
       "      <td>2204.500000</td>\n",
       "      <td>403380.50</td>\n",
       "    </tr>\n",
       "    <tr>\n",
       "      <th>1</th>\n",
       "      <td>11.0</td>\n",
       "      <td>2.0</td>\n",
       "      <td>2</td>\n",
       "      <td>2</td>\n",
       "      <td>2</td>\n",
       "      <td>1</td>\n",
       "      <td>2</td>\n",
       "      <td>4.0</td>\n",
       "      <td>0</td>\n",
       "      <td>20130.0</td>\n",
       "      <td>3.0</td>\n",
       "      <td>1</td>\n",
       "      <td>3</td>\n",
       "      <td>553.500000</td>\n",
       "      <td>73625.50</td>\n",
       "    </tr>\n",
       "    <tr>\n",
       "      <th>2</th>\n",
       "      <td>26.0</td>\n",
       "      <td>4.0</td>\n",
       "      <td>0</td>\n",
       "      <td>0</td>\n",
       "      <td>4</td>\n",
       "      <td>1</td>\n",
       "      <td>1</td>\n",
       "      <td>3.0</td>\n",
       "      <td>3</td>\n",
       "      <td>17090.0</td>\n",
       "      <td>2.0</td>\n",
       "      <td>1</td>\n",
       "      <td>3</td>\n",
       "      <td>1424.333333</td>\n",
       "      <td>192992.00</td>\n",
       "    </tr>\n",
       "    <tr>\n",
       "      <th>3</th>\n",
       "      <td>11.0</td>\n",
       "      <td>2.0</td>\n",
       "      <td>2</td>\n",
       "      <td>2</td>\n",
       "      <td>2</td>\n",
       "      <td>0</td>\n",
       "      <td>1</td>\n",
       "      <td>3.0</td>\n",
       "      <td>0</td>\n",
       "      <td>17909.0</td>\n",
       "      <td>2.0</td>\n",
       "      <td>3</td>\n",
       "      <td>0</td>\n",
       "      <td>597.000000</td>\n",
       "      <td>89545.00</td>\n",
       "    </tr>\n",
       "    <tr>\n",
       "      <th>4</th>\n",
       "      <td>6.0</td>\n",
       "      <td>4.0</td>\n",
       "      <td>0</td>\n",
       "      <td>3</td>\n",
       "      <td>5</td>\n",
       "      <td>1</td>\n",
       "      <td>1</td>\n",
       "      <td>4.0</td>\n",
       "      <td>0</td>\n",
       "      <td>18468.0</td>\n",
       "      <td>4.0</td>\n",
       "      <td>3</td>\n",
       "      <td>0</td>\n",
       "      <td>738.750000</td>\n",
       "      <td>91601.25</td>\n",
       "    </tr>\n",
       "  </tbody>\n",
       "</table>\n",
       "</div>"
      ],
      "text/plain": [
       "    Age  CustTenure  Channel  Occupation  EducationField  Gender  Designation  \\\n",
       "0  22.0         4.0        0           2               2       0            2   \n",
       "1  11.0         2.0        2           2               2       1            2   \n",
       "2  26.0         4.0        0           0               4       1            1   \n",
       "3  11.0         2.0        2           2               2       0            1   \n",
       "4   6.0         4.0        0           3               5       1            1   \n",
       "\n",
       "   NumberOfPolicy  MaritalStatus  MonthlyIncome  ExistingPolicyTenure  Zone  \\\n",
       "0             2.0              2        20993.0                   2.0     1   \n",
       "1             4.0              0        20130.0                   3.0     1   \n",
       "2             3.0              3        17090.0                   2.0     1   \n",
       "3             3.0              0        17909.0                   2.0     3   \n",
       "4             4.0              0        18468.0                   4.0     3   \n",
       "\n",
       "   PaymentMethod  Agent_bonus_Per_Policy  Sum_assured_Per_Policy  \n",
       "0              0             2204.500000               403380.50  \n",
       "1              3              553.500000                73625.50  \n",
       "2              3             1424.333333               192992.00  \n",
       "3              0              597.000000                89545.00  \n",
       "4              0              738.750000                91601.25  "
      ]
     },
     "execution_count": 30,
     "metadata": {},
     "output_type": "execute_result"
    }
   ],
   "source": [
    "df2.head()"
   ]
  },
  {
   "cell_type": "code",
   "execution_count": 31,
   "id": "628a1023",
   "metadata": {},
   "outputs": [],
   "source": [
    "df_new=df2.copy()"
   ]
  },
  {
   "cell_type": "code",
   "execution_count": 32,
   "id": "aba3c197",
   "metadata": {},
   "outputs": [
    {
     "data": {
      "text/html": [
       "<div>\n",
       "<style scoped>\n",
       "    .dataframe tbody tr th:only-of-type {\n",
       "        vertical-align: middle;\n",
       "    }\n",
       "\n",
       "    .dataframe tbody tr th {\n",
       "        vertical-align: top;\n",
       "    }\n",
       "\n",
       "    .dataframe thead th {\n",
       "        text-align: right;\n",
       "    }\n",
       "</style>\n",
       "<table border=\"1\" class=\"dataframe\">\n",
       "  <thead>\n",
       "    <tr style=\"text-align: right;\">\n",
       "      <th></th>\n",
       "      <th>Age</th>\n",
       "      <th>CustTenure</th>\n",
       "      <th>Channel</th>\n",
       "      <th>Occupation</th>\n",
       "      <th>EducationField</th>\n",
       "      <th>Gender</th>\n",
       "      <th>Designation</th>\n",
       "      <th>NumberOfPolicy</th>\n",
       "      <th>MaritalStatus</th>\n",
       "      <th>MonthlyIncome</th>\n",
       "      <th>ExistingPolicyTenure</th>\n",
       "      <th>Zone</th>\n",
       "      <th>PaymentMethod</th>\n",
       "      <th>Agent_bonus_Per_Policy</th>\n",
       "      <th>Sum_assured_Per_Policy</th>\n",
       "    </tr>\n",
       "  </thead>\n",
       "  <tbody>\n",
       "    <tr>\n",
       "      <th>0</th>\n",
       "      <td>22.0</td>\n",
       "      <td>4.0</td>\n",
       "      <td>Agent</td>\n",
       "      <td>Salaried</td>\n",
       "      <td>Graduate</td>\n",
       "      <td>Female</td>\n",
       "      <td>Manager</td>\n",
       "      <td>2.0</td>\n",
       "      <td>Single</td>\n",
       "      <td>20993.0</td>\n",
       "      <td>2.0</td>\n",
       "      <td>North</td>\n",
       "      <td>Half Yearly</td>\n",
       "      <td>2204.500000</td>\n",
       "      <td>403380.50</td>\n",
       "    </tr>\n",
       "    <tr>\n",
       "      <th>1</th>\n",
       "      <td>11.0</td>\n",
       "      <td>2.0</td>\n",
       "      <td>Third Party Partner</td>\n",
       "      <td>Salaried</td>\n",
       "      <td>Graduate</td>\n",
       "      <td>Male</td>\n",
       "      <td>Manager</td>\n",
       "      <td>4.0</td>\n",
       "      <td>Divorced</td>\n",
       "      <td>20130.0</td>\n",
       "      <td>3.0</td>\n",
       "      <td>North</td>\n",
       "      <td>Yearly</td>\n",
       "      <td>553.500000</td>\n",
       "      <td>73625.50</td>\n",
       "    </tr>\n",
       "    <tr>\n",
       "      <th>2</th>\n",
       "      <td>26.0</td>\n",
       "      <td>4.0</td>\n",
       "      <td>Agent</td>\n",
       "      <td>Free Lancer</td>\n",
       "      <td>Post Graduate</td>\n",
       "      <td>Male</td>\n",
       "      <td>Executive</td>\n",
       "      <td>3.0</td>\n",
       "      <td>Unmarried</td>\n",
       "      <td>17090.0</td>\n",
       "      <td>2.0</td>\n",
       "      <td>North</td>\n",
       "      <td>Yearly</td>\n",
       "      <td>1424.333333</td>\n",
       "      <td>192992.00</td>\n",
       "    </tr>\n",
       "    <tr>\n",
       "      <th>3</th>\n",
       "      <td>11.0</td>\n",
       "      <td>2.0</td>\n",
       "      <td>Third Party Partner</td>\n",
       "      <td>Salaried</td>\n",
       "      <td>Graduate</td>\n",
       "      <td>Female</td>\n",
       "      <td>Executive</td>\n",
       "      <td>3.0</td>\n",
       "      <td>Divorced</td>\n",
       "      <td>17909.0</td>\n",
       "      <td>2.0</td>\n",
       "      <td>West</td>\n",
       "      <td>Half Yearly</td>\n",
       "      <td>597.000000</td>\n",
       "      <td>89545.00</td>\n",
       "    </tr>\n",
       "    <tr>\n",
       "      <th>4</th>\n",
       "      <td>6.0</td>\n",
       "      <td>4.0</td>\n",
       "      <td>Agent</td>\n",
       "      <td>Small Business</td>\n",
       "      <td>Under Graduate</td>\n",
       "      <td>Male</td>\n",
       "      <td>Executive</td>\n",
       "      <td>4.0</td>\n",
       "      <td>Divorced</td>\n",
       "      <td>18468.0</td>\n",
       "      <td>4.0</td>\n",
       "      <td>West</td>\n",
       "      <td>Half Yearly</td>\n",
       "      <td>738.750000</td>\n",
       "      <td>91601.25</td>\n",
       "    </tr>\n",
       "  </tbody>\n",
       "</table>\n",
       "</div>"
      ],
      "text/plain": [
       "    Age  CustTenure              Channel      Occupation  EducationField  \\\n",
       "0  22.0         4.0                Agent        Salaried        Graduate   \n",
       "1  11.0         2.0  Third Party Partner        Salaried        Graduate   \n",
       "2  26.0         4.0                Agent     Free Lancer   Post Graduate   \n",
       "3  11.0         2.0  Third Party Partner        Salaried        Graduate   \n",
       "4   6.0         4.0                Agent  Small Business  Under Graduate   \n",
       "\n",
       "   Gender Designation  NumberOfPolicy MaritalStatus  MonthlyIncome  \\\n",
       "0  Female     Manager             2.0        Single        20993.0   \n",
       "1    Male     Manager             4.0      Divorced        20130.0   \n",
       "2    Male   Executive             3.0     Unmarried        17090.0   \n",
       "3  Female   Executive             3.0      Divorced        17909.0   \n",
       "4    Male   Executive             4.0      Divorced        18468.0   \n",
       "\n",
       "   ExistingPolicyTenure   Zone PaymentMethod  Agent_bonus_Per_Policy  \\\n",
       "0                   2.0  North   Half Yearly             2204.500000   \n",
       "1                   3.0  North        Yearly              553.500000   \n",
       "2                   2.0  North        Yearly             1424.333333   \n",
       "3                   2.0   West   Half Yearly              597.000000   \n",
       "4                   4.0   West   Half Yearly              738.750000   \n",
       "\n",
       "   Sum_assured_Per_Policy  \n",
       "0               403380.50  \n",
       "1                73625.50  \n",
       "2               192992.00  \n",
       "3                89545.00  \n",
       "4                91601.25  "
      ]
     },
     "execution_count": 32,
     "metadata": {},
     "output_type": "execute_result"
    }
   ],
   "source": [
    "df1.head()"
   ]
  },
  {
   "cell_type": "code",
   "execution_count": 33,
   "id": "283dd04d",
   "metadata": {},
   "outputs": [
    {
     "data": {
      "text/html": [
       "<div>\n",
       "<style scoped>\n",
       "    .dataframe tbody tr th:only-of-type {\n",
       "        vertical-align: middle;\n",
       "    }\n",
       "\n",
       "    .dataframe tbody tr th {\n",
       "        vertical-align: top;\n",
       "    }\n",
       "\n",
       "    .dataframe thead th {\n",
       "        text-align: right;\n",
       "    }\n",
       "</style>\n",
       "<table border=\"1\" class=\"dataframe\">\n",
       "  <thead>\n",
       "    <tr style=\"text-align: right;\">\n",
       "      <th></th>\n",
       "      <th>Age</th>\n",
       "      <th>CustTenure</th>\n",
       "      <th>Channel</th>\n",
       "      <th>Occupation</th>\n",
       "      <th>EducationField</th>\n",
       "      <th>Gender</th>\n",
       "      <th>Designation</th>\n",
       "      <th>NumberOfPolicy</th>\n",
       "      <th>MaritalStatus</th>\n",
       "      <th>MonthlyIncome</th>\n",
       "      <th>ExistingPolicyTenure</th>\n",
       "      <th>Zone</th>\n",
       "      <th>PaymentMethod</th>\n",
       "      <th>Agent_bonus_Per_Policy</th>\n",
       "      <th>Sum_assured_Per_Policy</th>\n",
       "    </tr>\n",
       "  </thead>\n",
       "  <tbody>\n",
       "    <tr>\n",
       "      <th>0</th>\n",
       "      <td>22.0</td>\n",
       "      <td>4.0</td>\n",
       "      <td>0</td>\n",
       "      <td>2</td>\n",
       "      <td>2</td>\n",
       "      <td>0</td>\n",
       "      <td>2</td>\n",
       "      <td>2.0</td>\n",
       "      <td>2</td>\n",
       "      <td>20993.0</td>\n",
       "      <td>2.0</td>\n",
       "      <td>1</td>\n",
       "      <td>0</td>\n",
       "      <td>2204.500000</td>\n",
       "      <td>403380.50</td>\n",
       "    </tr>\n",
       "    <tr>\n",
       "      <th>1</th>\n",
       "      <td>11.0</td>\n",
       "      <td>2.0</td>\n",
       "      <td>2</td>\n",
       "      <td>2</td>\n",
       "      <td>2</td>\n",
       "      <td>1</td>\n",
       "      <td>2</td>\n",
       "      <td>4.0</td>\n",
       "      <td>0</td>\n",
       "      <td>20130.0</td>\n",
       "      <td>3.0</td>\n",
       "      <td>1</td>\n",
       "      <td>3</td>\n",
       "      <td>553.500000</td>\n",
       "      <td>73625.50</td>\n",
       "    </tr>\n",
       "    <tr>\n",
       "      <th>2</th>\n",
       "      <td>26.0</td>\n",
       "      <td>4.0</td>\n",
       "      <td>0</td>\n",
       "      <td>0</td>\n",
       "      <td>4</td>\n",
       "      <td>1</td>\n",
       "      <td>1</td>\n",
       "      <td>3.0</td>\n",
       "      <td>3</td>\n",
       "      <td>17090.0</td>\n",
       "      <td>2.0</td>\n",
       "      <td>1</td>\n",
       "      <td>3</td>\n",
       "      <td>1424.333333</td>\n",
       "      <td>192992.00</td>\n",
       "    </tr>\n",
       "    <tr>\n",
       "      <th>3</th>\n",
       "      <td>11.0</td>\n",
       "      <td>2.0</td>\n",
       "      <td>2</td>\n",
       "      <td>2</td>\n",
       "      <td>2</td>\n",
       "      <td>0</td>\n",
       "      <td>1</td>\n",
       "      <td>3.0</td>\n",
       "      <td>0</td>\n",
       "      <td>17909.0</td>\n",
       "      <td>2.0</td>\n",
       "      <td>3</td>\n",
       "      <td>0</td>\n",
       "      <td>597.000000</td>\n",
       "      <td>89545.00</td>\n",
       "    </tr>\n",
       "    <tr>\n",
       "      <th>4</th>\n",
       "      <td>6.0</td>\n",
       "      <td>4.0</td>\n",
       "      <td>0</td>\n",
       "      <td>3</td>\n",
       "      <td>5</td>\n",
       "      <td>1</td>\n",
       "      <td>1</td>\n",
       "      <td>4.0</td>\n",
       "      <td>0</td>\n",
       "      <td>18468.0</td>\n",
       "      <td>4.0</td>\n",
       "      <td>3</td>\n",
       "      <td>0</td>\n",
       "      <td>738.750000</td>\n",
       "      <td>91601.25</td>\n",
       "    </tr>\n",
       "  </tbody>\n",
       "</table>\n",
       "</div>"
      ],
      "text/plain": [
       "    Age  CustTenure  Channel  Occupation  EducationField  Gender  Designation  \\\n",
       "0  22.0         4.0        0           2               2       0            2   \n",
       "1  11.0         2.0        2           2               2       1            2   \n",
       "2  26.0         4.0        0           0               4       1            1   \n",
       "3  11.0         2.0        2           2               2       0            1   \n",
       "4   6.0         4.0        0           3               5       1            1   \n",
       "\n",
       "   NumberOfPolicy  MaritalStatus  MonthlyIncome  ExistingPolicyTenure  Zone  \\\n",
       "0             2.0              2        20993.0                   2.0     1   \n",
       "1             4.0              0        20130.0                   3.0     1   \n",
       "2             3.0              3        17090.0                   2.0     1   \n",
       "3             3.0              0        17909.0                   2.0     3   \n",
       "4             4.0              0        18468.0                   4.0     3   \n",
       "\n",
       "   PaymentMethod  Agent_bonus_Per_Policy  Sum_assured_Per_Policy  \n",
       "0              0             2204.500000               403380.50  \n",
       "1              3              553.500000                73625.50  \n",
       "2              3             1424.333333               192992.00  \n",
       "3              0              597.000000                89545.00  \n",
       "4              0              738.750000                91601.25  "
      ]
     },
     "execution_count": 33,
     "metadata": {},
     "output_type": "execute_result"
    }
   ],
   "source": [
    "df_new.head()"
   ]
  },
  {
   "cell_type": "markdown",
   "id": "9f29eab4",
   "metadata": {},
   "source": [
    "## 1). Model building and interpretation"
   ]
  },
  {
   "cell_type": "markdown",
   "id": "cfce1298",
   "metadata": {},
   "source": [
    "#### a. Build various models (You can choose to build models for either or all of descriptive, predictive or prescriptive purposes)"
   ]
  },
  {
   "cell_type": "markdown",
   "id": "ecb57f40",
   "metadata": {},
   "source": [
    "Split the data into train and Test data set"
   ]
  },
  {
   "cell_type": "code",
   "execution_count": 34,
   "id": "aac34a82",
   "metadata": {},
   "outputs": [
    {
     "name": "stdout",
     "output_type": "stream",
     "text": [
      "<class 'pandas.core.frame.DataFrame'>\n",
      "RangeIndex: 4520 entries, 0 to 4519\n",
      "Data columns (total 15 columns):\n",
      " #   Column                  Non-Null Count  Dtype  \n",
      "---  ------                  --------------  -----  \n",
      " 0   Age                     4520 non-null   float64\n",
      " 1   CustTenure              4520 non-null   float64\n",
      " 2   Channel                 4520 non-null   int8   \n",
      " 3   Occupation              4520 non-null   int8   \n",
      " 4   EducationField          4520 non-null   int8   \n",
      " 5   Gender                  4520 non-null   int8   \n",
      " 6   Designation             4520 non-null   int8   \n",
      " 7   NumberOfPolicy          4520 non-null   float64\n",
      " 8   MaritalStatus           4520 non-null   int8   \n",
      " 9   MonthlyIncome           4520 non-null   float64\n",
      " 10  ExistingPolicyTenure    4520 non-null   float64\n",
      " 11  Zone                    4520 non-null   int8   \n",
      " 12  PaymentMethod           4520 non-null   int8   \n",
      " 13  Agent_bonus_Per_Policy  4520 non-null   float64\n",
      " 14  Sum_assured_Per_Policy  4520 non-null   float64\n",
      "dtypes: float64(7), int8(8)\n",
      "memory usage: 282.6 KB\n"
     ]
    }
   ],
   "source": [
    "df_new.info()"
   ]
  },
  {
   "cell_type": "code",
   "execution_count": 35,
   "id": "6f61a7fe",
   "metadata": {},
   "outputs": [],
   "source": [
    "X=df_new.drop('Agent_bonus_Per_Policy',axis=1)\n",
    "y=df_new[['Agent_bonus_Per_Policy']]"
   ]
  },
  {
   "cell_type": "code",
   "execution_count": 36,
   "id": "eb3ce0b6",
   "metadata": {},
   "outputs": [
    {
     "data": {
      "text/html": [
       "<div>\n",
       "<style scoped>\n",
       "    .dataframe tbody tr th:only-of-type {\n",
       "        vertical-align: middle;\n",
       "    }\n",
       "\n",
       "    .dataframe tbody tr th {\n",
       "        vertical-align: top;\n",
       "    }\n",
       "\n",
       "    .dataframe thead th {\n",
       "        text-align: right;\n",
       "    }\n",
       "</style>\n",
       "<table border=\"1\" class=\"dataframe\">\n",
       "  <thead>\n",
       "    <tr style=\"text-align: right;\">\n",
       "      <th></th>\n",
       "      <th>Age</th>\n",
       "      <th>CustTenure</th>\n",
       "      <th>Channel</th>\n",
       "      <th>Occupation</th>\n",
       "      <th>EducationField</th>\n",
       "      <th>Gender</th>\n",
       "      <th>Designation</th>\n",
       "      <th>NumberOfPolicy</th>\n",
       "      <th>MaritalStatus</th>\n",
       "      <th>MonthlyIncome</th>\n",
       "      <th>ExistingPolicyTenure</th>\n",
       "      <th>Zone</th>\n",
       "      <th>PaymentMethod</th>\n",
       "      <th>Sum_assured_Per_Policy</th>\n",
       "    </tr>\n",
       "  </thead>\n",
       "  <tbody>\n",
       "    <tr>\n",
       "      <th>0</th>\n",
       "      <td>22.0</td>\n",
       "      <td>4.0</td>\n",
       "      <td>0</td>\n",
       "      <td>2</td>\n",
       "      <td>2</td>\n",
       "      <td>0</td>\n",
       "      <td>2</td>\n",
       "      <td>2.0</td>\n",
       "      <td>2</td>\n",
       "      <td>20993.0</td>\n",
       "      <td>2.0</td>\n",
       "      <td>1</td>\n",
       "      <td>0</td>\n",
       "      <td>403380.50</td>\n",
       "    </tr>\n",
       "    <tr>\n",
       "      <th>1</th>\n",
       "      <td>11.0</td>\n",
       "      <td>2.0</td>\n",
       "      <td>2</td>\n",
       "      <td>2</td>\n",
       "      <td>2</td>\n",
       "      <td>1</td>\n",
       "      <td>2</td>\n",
       "      <td>4.0</td>\n",
       "      <td>0</td>\n",
       "      <td>20130.0</td>\n",
       "      <td>3.0</td>\n",
       "      <td>1</td>\n",
       "      <td>3</td>\n",
       "      <td>73625.50</td>\n",
       "    </tr>\n",
       "    <tr>\n",
       "      <th>2</th>\n",
       "      <td>26.0</td>\n",
       "      <td>4.0</td>\n",
       "      <td>0</td>\n",
       "      <td>0</td>\n",
       "      <td>4</td>\n",
       "      <td>1</td>\n",
       "      <td>1</td>\n",
       "      <td>3.0</td>\n",
       "      <td>3</td>\n",
       "      <td>17090.0</td>\n",
       "      <td>2.0</td>\n",
       "      <td>1</td>\n",
       "      <td>3</td>\n",
       "      <td>192992.00</td>\n",
       "    </tr>\n",
       "    <tr>\n",
       "      <th>3</th>\n",
       "      <td>11.0</td>\n",
       "      <td>2.0</td>\n",
       "      <td>2</td>\n",
       "      <td>2</td>\n",
       "      <td>2</td>\n",
       "      <td>0</td>\n",
       "      <td>1</td>\n",
       "      <td>3.0</td>\n",
       "      <td>0</td>\n",
       "      <td>17909.0</td>\n",
       "      <td>2.0</td>\n",
       "      <td>3</td>\n",
       "      <td>0</td>\n",
       "      <td>89545.00</td>\n",
       "    </tr>\n",
       "    <tr>\n",
       "      <th>4</th>\n",
       "      <td>6.0</td>\n",
       "      <td>4.0</td>\n",
       "      <td>0</td>\n",
       "      <td>3</td>\n",
       "      <td>5</td>\n",
       "      <td>1</td>\n",
       "      <td>1</td>\n",
       "      <td>4.0</td>\n",
       "      <td>0</td>\n",
       "      <td>18468.0</td>\n",
       "      <td>4.0</td>\n",
       "      <td>3</td>\n",
       "      <td>0</td>\n",
       "      <td>91601.25</td>\n",
       "    </tr>\n",
       "  </tbody>\n",
       "</table>\n",
       "</div>"
      ],
      "text/plain": [
       "    Age  CustTenure  Channel  Occupation  EducationField  Gender  Designation  \\\n",
       "0  22.0         4.0        0           2               2       0            2   \n",
       "1  11.0         2.0        2           2               2       1            2   \n",
       "2  26.0         4.0        0           0               4       1            1   \n",
       "3  11.0         2.0        2           2               2       0            1   \n",
       "4   6.0         4.0        0           3               5       1            1   \n",
       "\n",
       "   NumberOfPolicy  MaritalStatus  MonthlyIncome  ExistingPolicyTenure  Zone  \\\n",
       "0             2.0              2        20993.0                   2.0     1   \n",
       "1             4.0              0        20130.0                   3.0     1   \n",
       "2             3.0              3        17090.0                   2.0     1   \n",
       "3             3.0              0        17909.0                   2.0     3   \n",
       "4             4.0              0        18468.0                   4.0     3   \n",
       "\n",
       "   PaymentMethod  Sum_assured_Per_Policy  \n",
       "0              0               403380.50  \n",
       "1              3                73625.50  \n",
       "2              3               192992.00  \n",
       "3              0                89545.00  \n",
       "4              0                91601.25  "
      ]
     },
     "execution_count": 36,
     "metadata": {},
     "output_type": "execute_result"
    }
   ],
   "source": [
    "X.head()"
   ]
  },
  {
   "cell_type": "code",
   "execution_count": 37,
   "id": "cf7659bd",
   "metadata": {},
   "outputs": [
    {
     "data": {
      "text/html": [
       "<div>\n",
       "<style scoped>\n",
       "    .dataframe tbody tr th:only-of-type {\n",
       "        vertical-align: middle;\n",
       "    }\n",
       "\n",
       "    .dataframe tbody tr th {\n",
       "        vertical-align: top;\n",
       "    }\n",
       "\n",
       "    .dataframe thead th {\n",
       "        text-align: right;\n",
       "    }\n",
       "</style>\n",
       "<table border=\"1\" class=\"dataframe\">\n",
       "  <thead>\n",
       "    <tr style=\"text-align: right;\">\n",
       "      <th></th>\n",
       "      <th>Agent_bonus_Per_Policy</th>\n",
       "    </tr>\n",
       "  </thead>\n",
       "  <tbody>\n",
       "    <tr>\n",
       "      <th>0</th>\n",
       "      <td>2204.500000</td>\n",
       "    </tr>\n",
       "    <tr>\n",
       "      <th>1</th>\n",
       "      <td>553.500000</td>\n",
       "    </tr>\n",
       "    <tr>\n",
       "      <th>2</th>\n",
       "      <td>1424.333333</td>\n",
       "    </tr>\n",
       "    <tr>\n",
       "      <th>3</th>\n",
       "      <td>597.000000</td>\n",
       "    </tr>\n",
       "    <tr>\n",
       "      <th>4</th>\n",
       "      <td>738.750000</td>\n",
       "    </tr>\n",
       "  </tbody>\n",
       "</table>\n",
       "</div>"
      ],
      "text/plain": [
       "   Agent_bonus_Per_Policy\n",
       "0             2204.500000\n",
       "1              553.500000\n",
       "2             1424.333333\n",
       "3              597.000000\n",
       "4              738.750000"
      ]
     },
     "execution_count": 37,
     "metadata": {},
     "output_type": "execute_result"
    }
   ],
   "source": [
    "y.head()"
   ]
  },
  {
   "cell_type": "code",
   "execution_count": 38,
   "id": "2bb77ec5",
   "metadata": {},
   "outputs": [
    {
     "data": {
      "text/plain": [
       "(4520, 14)"
      ]
     },
     "execution_count": 38,
     "metadata": {},
     "output_type": "execute_result"
    }
   ],
   "source": [
    "X.shape"
   ]
  },
  {
   "cell_type": "code",
   "execution_count": 39,
   "id": "7eb158d8",
   "metadata": {},
   "outputs": [
    {
     "data": {
      "text/plain": [
       "(4520, 1)"
      ]
     },
     "execution_count": 39,
     "metadata": {},
     "output_type": "execute_result"
    }
   ],
   "source": [
    "y.shape"
   ]
  },
  {
   "cell_type": "markdown",
   "id": "9a26db65",
   "metadata": {},
   "source": [
    "We have 4520 rows of data and we need to split the data into train and test for model building.We need to find a good ratio for our split so that it can be justified and more accurate results can be derived from the models."
   ]
  },
  {
   "cell_type": "code",
   "execution_count": 40,
   "id": "35a65246",
   "metadata": {},
   "outputs": [
    {
     "name": "stdout",
     "output_type": "stream",
     "text": [
      "If split percentage of  data is 60/40 then train_data is 2712.0 and test data is 1808.0\n",
      "If split percentage of  data is 65/35 then train_data is 2938.0 and test data is 1582.0\n",
      "If split percentage of  data is 70/30 then train_data is 3164.0 and test data is 1356.0\n",
      "If split percentage of  data is 75/25 then train_data is 3390.0 and test data is 1130.0\n",
      "If split percentage of  data is 68/33 then train_data is 3028.4 and test data is 1491.6000000000001\n"
     ]
    }
   ],
   "source": [
    "print('If split percentage of  data is 60/40 then train_data is',(4520*0.6), 'and test data is',(4520*0.4))\n",
    "print('If split percentage of  data is 65/35 then train_data is',(4520*0.65), 'and test data is',(4520*0.35))\n",
    "print('If split percentage of  data is 70/30 then train_data is',(4520*0.7), 'and test data is',(4520*0.3))\n",
    "print('If split percentage of  data is 75/25 then train_data is',(4520*0.75), 'and test data is',(4520*0.25))\n",
    "print('If split percentage of  data is 68/33 then train_data is',(4520*0.67), 'and test data is',(4520*0.33))"
   ]
  },
  {
   "cell_type": "markdown",
   "id": "0ad1f1ff",
   "metadata": {},
   "source": [
    "Given the size of the data we can settle for 67/33 ratio for train and test data."
   ]
  },
  {
   "cell_type": "code",
   "execution_count": 41,
   "id": "62271935",
   "metadata": {},
   "outputs": [],
   "source": [
    "X_train, X_test, y_train, y_test = train_test_split(X, y, test_size=0.33 , random_state=1)"
   ]
  },
  {
   "cell_type": "code",
   "execution_count": 42,
   "id": "dab12331",
   "metadata": {},
   "outputs": [
    {
     "name": "stdout",
     "output_type": "stream",
     "text": [
      "Shape for X_train is  (3028, 14)\n",
      "Shape for X_test is  (1492, 14)\n",
      "Shape for y_train is  (3028, 1)\n",
      "Shape for y_test is  (1492, 1)\n"
     ]
    }
   ],
   "source": [
    "print('Shape for X_train is ',X_train.shape)\n",
    "print('Shape for X_test is ',X_test.shape)\n",
    "print('Shape for y_train is ',y_train.shape)\n",
    "print('Shape for y_test is ',y_test.shape)"
   ]
  },
  {
   "cell_type": "markdown",
   "id": "6f43b8c8",
   "metadata": {},
   "source": [
    "### SKLearn Linear Model"
   ]
  },
  {
   "cell_type": "code",
   "execution_count": 43,
   "id": "5d5cf83c",
   "metadata": {},
   "outputs": [
    {
     "data": {
      "text/plain": [
       "LinearRegression()"
      ]
     },
     "execution_count": 43,
     "metadata": {},
     "output_type": "execute_result"
    }
   ],
   "source": [
    "regression_model = LinearRegression()\n",
    "regression_model.fit(X_train, y_train)"
   ]
  },
  {
   "cell_type": "code",
   "execution_count": 44,
   "id": "f78a12e4",
   "metadata": {},
   "outputs": [
    {
     "name": "stdout",
     "output_type": "stream",
     "text": [
      "The coefficient for Age is 4.559308195951619\n",
      "The coefficient for CustTenure is 4.48711465530082\n",
      "The coefficient for Channel is -8.69414171788064\n",
      "The coefficient for Occupation is 4.756481057067572\n",
      "The coefficient for EducationField is -3.788393427059755\n",
      "The coefficient for Gender is 9.942369590979972\n",
      "The coefficient for Designation is 5.905692200652281\n",
      "The coefficient for NumberOfPolicy is -135.09993477113767\n",
      "The coefficient for MaritalStatus is 13.114749490084574\n",
      "The coefficient for MonthlyIncome is 0.009671554103689388\n",
      "The coefficient for ExistingPolicyTenure is 3.1881838118774035\n",
      "The coefficient for Zone is -3.796137158014384\n",
      "The coefficient for PaymentMethod is 0.8427202451412025\n",
      "The coefficient for Sum_assured_Per_Policy is 0.004850042346581288\n"
     ]
    }
   ],
   "source": [
    "for id, col in enumerate(X_train.columns):\n",
    "    print(\"The coefficient for {} is {}\".format(col, regression_model.coef_[0][id]))"
   ]
  },
  {
   "cell_type": "markdown",
   "id": "e83bdcc4",
   "metadata": {},
   "source": []
  },
  {
   "cell_type": "code",
   "execution_count": 60,
   "id": "b593ab52",
   "metadata": {},
   "outputs": [
    {
     "name": "stdout",
     "output_type": "stream",
     "text": [
      "The meaning of coefficents is explained in a better way below:\n",
      "For a unit change in Age agent bonus per policy will change by  4.559308195951619\n",
      "The meaning of coefficents is explained in a better way below:\n",
      "For a unit change in CustTenure agent bonus per policy will change by  4.48711465530082\n",
      "The meaning of coefficents is explained in a better way below:\n",
      "For a unit change in Channel agent bonus per policy will change by  -8.69414171788064\n",
      "The meaning of coefficents is explained in a better way below:\n",
      "For a unit change in Occupation agent bonus per policy will change by  4.756481057067572\n",
      "The meaning of coefficents is explained in a better way below:\n",
      "For a unit change in EducationField agent bonus per policy will change by  -3.788393427059755\n",
      "The meaning of coefficents is explained in a better way below:\n",
      "For a unit change in Gender agent bonus per policy will change by  9.942369590979972\n",
      "The meaning of coefficents is explained in a better way below:\n",
      "For a unit change in Designation agent bonus per policy will change by  5.905692200652281\n",
      "The meaning of coefficents is explained in a better way below:\n",
      "For a unit change in NumberOfPolicy agent bonus per policy will change by  -135.09993477113767\n",
      "The meaning of coefficents is explained in a better way below:\n",
      "For a unit change in MaritalStatus agent bonus per policy will change by  13.114749490084574\n",
      "The meaning of coefficents is explained in a better way below:\n",
      "For a unit change in MonthlyIncome agent bonus per policy will change by  0.009671554103689388\n",
      "The meaning of coefficents is explained in a better way below:\n",
      "For a unit change in ExistingPolicyTenure agent bonus per policy will change by  3.1881838118774035\n",
      "The meaning of coefficents is explained in a better way below:\n",
      "For a unit change in Zone agent bonus per policy will change by  -3.796137158014384\n",
      "The meaning of coefficents is explained in a better way below:\n",
      "For a unit change in PaymentMethod agent bonus per policy will change by  0.8427202451412025\n",
      "The meaning of coefficents is explained in a better way below:\n",
      "For a unit change in Sum_assured_Per_Policy agent bonus per policy will change by  0.004850042346581288\n"
     ]
    }
   ],
   "source": [
    "for id, col in enumerate(X_train.columns):\n",
    "    print('The meaning of coefficents is explained in a better way below:')\n",
    "    \n",
    "    \n",
    "    \n",
    "    print(\"For a unit change in {} agent bonus per policy will change by  {}\".format(col, regression_model.coef_[0][id])) "
   ]
  },
  {
   "cell_type": "code",
   "execution_count": 45,
   "id": "0ec5a503",
   "metadata": {},
   "outputs": [
    {
     "name": "stdout",
     "output_type": "stream",
     "text": [
      "Age * 4.559308195951619 + CustTenure * 4.48711465530082 + Channel * -8.69414171788064 + Occupation * 4.756481057067572 + EducationField * -3.788393427059755 + Gender * 9.942369590979972 + Designation * 5.905692200652281 + NumberOfPolicy * -135.09993477113767 + MaritalStatus * 13.114749490084574 + MonthlyIncome * 0.009671554103689388 + ExistingPolicyTenure * 3.1881838118774035 + Zone * -3.796137158014384 + PaymentMethod * 0.8427202451412025 + Sum_assured_Per_Policy * 0.004850042346581288 + 474.0797477285163\n"
     ]
    }
   ],
   "source": [
    "for id, col in enumerate(X_train.columns):\n",
    "    print(\"{} * {}\".format(col, regression_model.coef_[0][id]), end=' + ')\n",
    "print(regression_model.intercept_[0])"
   ]
  },
  {
   "cell_type": "code",
   "execution_count": 46,
   "id": "a991de9c",
   "metadata": {},
   "outputs": [
    {
     "name": "stdout",
     "output_type": "stream",
     "text": [
      "The intercept for our model is 474.0797477285163\n"
     ]
    }
   ],
   "source": [
    "intercept = regression_model.intercept_[0]\n",
    "\n",
    "print(\"The intercept for our model is {}\".format(intercept))"
   ]
  },
  {
   "cell_type": "code",
   "execution_count": 62,
   "id": "99b8db6b",
   "metadata": {},
   "outputs": [
    {
     "name": "stdout",
     "output_type": "stream",
     "text": [
      "The intercept contains the effect of all the omitted variables that we have not considered in this model and the it simply means that when all the independent variables are 0 still agent bonus per policy will still be 474.0797477285163\n"
     ]
    }
   ],
   "source": [
    "intercept = regression_model.intercept_[0]\n",
    "\n",
    "print(\"The intercept contains the effect of all the omitted variables that we have not considered in this model and the it simply means that when all the independent variables are 0 still agent bonus per policy will still be {}\".format(intercept))"
   ]
  },
  {
   "cell_type": "code",
   "execution_count": 76,
   "id": "c7e56792",
   "metadata": {},
   "outputs": [
    {
     "name": "stdout",
     "output_type": "stream",
     "text": [
      "The coefficient of determination R^2 of the prediction on Train set 0.9149728934429991\n"
     ]
    }
   ],
   "source": [
    "print('The coefficient of determination R^2 of the prediction on Train set',regression_model.score(X_train, y_train))"
   ]
  },
  {
   "cell_type": "code",
   "execution_count": 77,
   "id": "895f2f26",
   "metadata": {},
   "outputs": [
    {
     "name": "stdout",
     "output_type": "stream",
     "text": [
      "The coefficient of determination R^2 of the prediction on Test set 0.9007990742890409\n"
     ]
    }
   ],
   "source": [
    "print('The coefficient of determination R^2 of the prediction on Test set',regression_model.score(X_test, y_test))"
   ]
  },
  {
   "cell_type": "markdown",
   "id": "8cdf3349",
   "metadata": {},
   "source": [
    "The coefficient of determination, denoted as 𝑅², tells you which amount of variation in 𝑦 can be explained by the dependence on 𝐱, using the particular regression model. A larger 𝑅² indicates a better fit and means that the model can better explain the variation of the output with different inputs. The larger the value of R^2 the less the unexplained variance is.\n",
    "\n",
    "The value 𝑅² = 1 corresponds to SSR = 0. That’s the perfect fit, since the values of predicted and actual responses fit completely to each other.\n",
    "\n",
    "R-Squared: R2 is a statistic that will give some information about the goodness of fit of a model. It ranges from 0 to 1. Exxample: if the value of R-squared is 0.75 so it explains 75% of variance is explained by the model and 25% of variance cannot be explained.\n",
    "\n",
    "For this Model , we have R^2 for train data  as 0.9149, which means 91.49% or ~92.5 % of variance is explained by the model. For test data the R^2 is 0.9007 or 90.07% which means 90% of variance is explained by the model and only ~7% variance cannot be explained."
   ]
  },
  {
   "cell_type": "markdown",
   "id": "f88143b6",
   "metadata": {},
   "source": [
    "One way to assess how well a regression model fits a dataset is to calculate the root mean square error, which is a metric that tells us the average distance between the predicted values from the model and the actual values in the dataset.\n",
    "\n",
    "The lower the RMSE, the better a given model is able to “fit” a dataset.\n",
    "\n",
    "The formula to find the root mean square error, often abbreviated RMSE, is as follows:\n",
    "\n",
    "RMSE = Square root of ( sum(Pi – Oi)**2 / n)\n",
    "\n",
    "where:\n",
    "\n",
    "Σ is a fancy symbol that means “sum”\n",
    "Pi is the predicted value for the ith observation in the dataset\n",
    "Oi is the observed value for the ith observation in the dataset\n",
    "n is the sample size\n",
    "\n",
    "This means that the RMSE represents the square root of the variance of the residuals.\n",
    "\n",
    "suppose we want to build a regression model to predict the exam score of students and we want to find the best possible model among several potential models.\n",
    "\n",
    "Suppose we fit three different regression models and find their corresponding RMSE values:\n",
    "\n",
    "RMSE of Model 1: 14.5\n",
    "RMSE of Model 2: 16.7\n",
    "RMSE of Model 3: 9.8\n",
    "\n",
    " Then,Model 3 has the lowest RMSE, which tells us that it’s able to fit the dataset the best out of the three potential models."
   ]
  },
  {
   "cell_type": "code",
   "execution_count": 78,
   "id": "eb26e0b0",
   "metadata": {},
   "outputs": [
    {
     "name": "stdout",
     "output_type": "stream",
     "text": [
      "The Root Mean Square Error (RMSE) of the model is for training set is 301.37590726277983\n"
     ]
    }
   ],
   "source": [
    "#RMSE for Training data\n",
    "predicted_train=regression_model.fit(X_train, y_train).predict(X_train)\n",
    "print(\"The Root Mean Square Error (RMSE) of the model is for training set is\",np.sqrt(metrics.mean_squared_error(y_train,predicted_train)))"
   ]
  },
  {
   "cell_type": "code",
   "execution_count": 79,
   "id": "48b9dd14",
   "metadata": {},
   "outputs": [
    {
     "name": "stdout",
     "output_type": "stream",
     "text": [
      "The Root Mean Square Error (RMSE) of the model is for testing set is 315.8326115941314\n"
     ]
    }
   ],
   "source": [
    "#RMSE for Testing data\n",
    "predicted_test=regression_model.fit(X_train, y_train).predict(X_test)\n",
    "np.sqrt(metrics.mean_squared_error(y_test,predicted_test))\n",
    "print(\"The Root Mean Square Error (RMSE) of the model is for testing set is\",np.sqrt(metrics.mean_squared_error(y_test,predicted_test)))"
   ]
  },
  {
   "cell_type": "code",
   "execution_count": 81,
   "id": "cb85d86b",
   "metadata": {},
   "outputs": [
    {
     "name": "stdout",
     "output_type": "stream",
     "text": [
      "The mean squared error of the model for testing is 315.8326115941314\n"
     ]
    },
    {
     "data": {
      "text/plain": [
       "<matplotlib.collections.PathCollection at 0x1a9a2358d00>"
      ]
     },
     "execution_count": 81,
     "metadata": {},
     "output_type": "execute_result"
    },
    {
     "data": {
      "image/png": "[encoded data removed]",
      "text/plain": [
       "<Figure size 432x288 with 1 Axes>"
      ]
     },
     "metadata": {
      "needs_background": "light"
     },
     "output_type": "display_data"
    }
   ],
   "source": [
    "mse = np.mean((regression_model.predict(X_test)-y_test)**2)\n",
    "import math\n",
    "print('The mean squared error of the model for testing is',math.sqrt(mse))\n",
    "#mpg prediction\n",
    "y_pred = regression_model.predict(X_test)\n",
    "plt.scatter(y_test['Agent_bonus_Per_Policy'], y_pred)"
   ]
  },
  {
   "cell_type": "markdown",
   "id": "d3261fc5",
   "metadata": {},
   "source": [
    "### Stats Model-OLS Model"
   ]
  },
  {
   "cell_type": "code",
   "execution_count": 83,
   "id": "ae3f36d5",
   "metadata": {},
   "outputs": [
    {
     "data": {
      "text/plain": [
       "Index(['Age', 'CustTenure', 'Channel', 'Occupation', 'EducationField',\n",
       "       'Gender', 'Designation', 'NumberOfPolicy', 'MaritalStatus',\n",
       "       'MonthlyIncome', 'ExistingPolicyTenure', 'Zone', 'PaymentMethod',\n",
       "       'Agent_bonus_Per_Policy', 'Sum_assured_Per_Policy'],\n",
       "      dtype='object')"
      ]
     },
     "execution_count": 83,
     "metadata": {},
     "output_type": "execute_result"
    }
   ],
   "source": [
    "df_new.columns"
   ]
  },
  {
   "cell_type": "code",
   "execution_count": 84,
   "id": "aa72d2cc",
   "metadata": {},
   "outputs": [],
   "source": [
    "train = pd.concat([X_train, y_train], axis = 1)\n",
    "test = pd.concat([X_test, y_test], axis = 1)"
   ]
  },
  {
   "cell_type": "code",
   "execution_count": 85,
   "id": "3502f02a",
   "metadata": {},
   "outputs": [
    {
     "name": "stdout",
     "output_type": "stream",
     "text": [
      "<class 'pandas.core.frame.DataFrame'>\n",
      "Int64Index: 3028 entries, 508 to 235\n",
      "Data columns (total 15 columns):\n",
      " #   Column                  Non-Null Count  Dtype  \n",
      "---  ------                  --------------  -----  \n",
      " 0   Age                     3028 non-null   float64\n",
      " 1   CustTenure              3028 non-null   float64\n",
      " 2   Channel                 3028 non-null   int8   \n",
      " 3   Occupation              3028 non-null   int8   \n",
      " 4   EducationField          3028 non-null   int8   \n",
      " 5   Gender                  3028 non-null   int8   \n",
      " 6   Designation             3028 non-null   int8   \n",
      " 7   NumberOfPolicy          3028 non-null   float64\n",
      " 8   MaritalStatus           3028 non-null   int8   \n",
      " 9   MonthlyIncome           3028 non-null   float64\n",
      " 10  ExistingPolicyTenure    3028 non-null   float64\n",
      " 11  Zone                    3028 non-null   int8   \n",
      " 12  PaymentMethod           3028 non-null   int8   \n",
      " 13  Sum_assured_Per_Policy  3028 non-null   float64\n",
      " 14  Agent_bonus_Per_Policy  3028 non-null   float64\n",
      "dtypes: float64(7), int8(8)\n",
      "memory usage: 212.9 KB\n"
     ]
    }
   ],
   "source": [
    "train.info()"
   ]
  },
  {
   "cell_type": "code",
   "execution_count": 89,
   "id": "c88a76b3",
   "metadata": {},
   "outputs": [],
   "source": [
    "f_1 = 'Agent_bonus_Per_Policy~Age+CustTenure+Channel+Occupation+EducationField+Gender+Designation+NumberOfPolicy+MaritalStatus+MonthlyIncome+ExistingPolicyTenure+Zone+PaymentMethod+Sum_assured_Per_Policy'"
   ]
  },
  {
   "cell_type": "code",
   "execution_count": 87,
   "id": "e0d549c6",
   "metadata": {},
   "outputs": [],
   "source": [
    "import statsmodels.formula.api as SM"
   ]
  },
  {
   "cell_type": "code",
   "execution_count": 90,
   "id": "f1d23703",
   "metadata": {},
   "outputs": [
    {
     "data": {
      "text/plain": [
       "Intercept                 474.079748\n",
       "Age                         4.559308\n",
       "CustTenure                  4.487115\n",
       "Channel                    -8.694142\n",
       "Occupation                  4.756481\n",
       "EducationField             -3.788393\n",
       "Gender                      9.942370\n",
       "Designation                 5.905692\n",
       "NumberOfPolicy           -135.099935\n",
       "MaritalStatus              13.114749\n",
       "MonthlyIncome               0.009672\n",
       "ExistingPolicyTenure        3.188184\n",
       "Zone                       -3.796137\n",
       "PaymentMethod               0.842720\n",
       "Sum_assured_Per_Policy      0.004850\n",
       "dtype: float64"
      ]
     },
     "execution_count": 90,
     "metadata": {},
     "output_type": "execute_result"
    }
   ],
   "source": [
    "lm1 = SM.ols(formula = f_1, data= train).fit()\n",
    "lm1.params"
   ]
  },
  {
   "cell_type": "code",
   "execution_count": 91,
   "id": "3d7ea35e",
   "metadata": {},
   "outputs": [
    {
     "name": "stdout",
     "output_type": "stream",
     "text": [
      "                              OLS Regression Results                              \n",
      "==================================================================================\n",
      "Dep. Variable:     Agent_bonus_Per_Policy   R-squared:                       0.915\n",
      "Model:                                OLS   Adj. R-squared:                  0.915\n",
      "Method:                     Least Squares   F-statistic:                     2316.\n",
      "Date:                    Sun, 18 Dec 2022   Prob (F-statistic):               0.00\n",
      "Time:                            12:54:07   Log-Likelihood:                -21581.\n",
      "No. Observations:                    3028   AIC:                         4.319e+04\n",
      "Df Residuals:                        3013   BIC:                         4.328e+04\n",
      "Df Model:                              14                                         \n",
      "Covariance Type:                nonrobust                                         \n",
      "==========================================================================================\n",
      "                             coef    std err          t      P>|t|      [0.025      0.975]\n",
      "------------------------------------------------------------------------------------------\n",
      "Intercept                474.0797     44.120     10.745      0.000     387.570     560.589\n",
      "Age                        4.5593      0.693      6.580      0.000       3.201       5.918\n",
      "CustTenure                 4.4871      0.701      6.405      0.000       3.114       5.861\n",
      "Channel                   -8.6941      6.947     -1.252      0.211     -22.315       4.927\n",
      "Occupation                 4.7565      9.898      0.481      0.631     -14.651      24.164\n",
      "EducationField            -3.7884      3.592     -1.055      0.292     -10.832       3.255\n",
      "Gender                     9.9424     11.164      0.891      0.373     -11.947      31.832\n",
      "Designation                5.9057      6.284      0.940      0.347      -6.415      18.227\n",
      "NumberOfPolicy          -135.0999      5.787    -23.346      0.000    -146.446    -123.754\n",
      "MaritalStatus             13.1147      7.195      1.823      0.068      -0.994      27.223\n",
      "MonthlyIncome              0.0097      0.001      6.449      0.000       0.007       0.013\n",
      "ExistingPolicyTenure       3.1882      1.234      2.584      0.010       0.769       5.608\n",
      "Zone                      -3.7961      5.446     -0.697      0.486     -14.475       6.883\n",
      "PaymentMethod              0.8427      4.032      0.209      0.834      -7.063       8.749\n",
      "Sum_assured_Per_Policy     0.0049    5.1e-05     95.018      0.000       0.005       0.005\n",
      "==============================================================================\n",
      "Omnibus:                     1034.954   Durbin-Watson:                   1.921\n",
      "Prob(Omnibus):                  0.000   Jarque-Bera (JB):             9508.576\n",
      "Skew:                           1.354   Prob(JB):                         0.00\n",
      "Kurtosis:                      11.248   Cond. No.                     2.26e+06\n",
      "==============================================================================\n",
      "\n",
      "Notes:\n",
      "[1] Standard Errors assume that the covariance matrix of the errors is correctly specified.\n",
      "[2] The condition number is large, 2.26e+06. This might indicate that there are\n",
      "strong multicollinearity or other numerical problems.\n"
     ]
    }
   ],
   "source": [
    "print(lm1.summary()) "
   ]
  },
  {
   "cell_type": "raw",
   "id": "efac599a",
   "metadata": {},
   "source": [
    "In the OLS Model result we get many results like R-squared,Adj. R-squared,F-statistic,Prob (F-statistic),Log-Likelihood,AIC and BIC.\n",
    "\n",
    "According to the Model, Columns with P value Less than 0.05 shold be consider for the Model. \n",
    "\n",
    "Null hypothesis says that there is No relation between Indepndent variable and Target (Dependent variable).\n",
    "When P value is Greater than 0.05 then we do not have enough evidanse in the data to reject the Null hypothesis and we do not reject H0, which means we accept the NULL Hypothesis and there is no relation between Independent and target variables.\n",
    "\n",
    "Looking at the P Values for all the fields, we can Come to this conclusion, following fields can be ignored for the Model prediction:\n",
    "\n",
    "                            coef    std err          t      P>|t| \n",
    "\n",
    "Channel                   -8.6941      6.947     -1.252      0.211 \n",
    "Occupation                 4.7565      9.898      0.481      0.631\n",
    "EducationField            -3.7884      3.592     -1.055      0.292\n",
    "Gender                     9.9424     11.164      0.891      0.373\n",
    "Designation                5.9057      6.284      0.940      0.347  \n",
    "MaritalStatus             13.1147      7.195      1.823      0.068\n",
    "Zone                      -3.7961      5.446     -0.697      0.486\n",
    "PaymentMethod              0.8427      4.032      0.209      0.834\n",
    "\n",
    "As we have lot of variables we can calculate the VIF and see which one can be eliminated from the next model."
   ]
  },
  {
   "cell_type": "markdown",
   "id": "6e54fdeb",
   "metadata": {},
   "source": [
    "Metrics"
   ]
  },
  {
   "cell_type": "code",
   "execution_count": 92,
   "id": "b2d4b6e0",
   "metadata": {},
   "outputs": [],
   "source": [
    "mse = np.mean((regression_model.predict(X_test)-y_test)**2)"
   ]
  },
  {
   "cell_type": "code",
   "execution_count": 93,
   "id": "a3ab69b7",
   "metadata": {},
   "outputs": [
    {
     "data": {
      "text/plain": [
       "315.8326115941314"
      ]
     },
     "execution_count": 93,
     "metadata": {},
     "output_type": "execute_result"
    }
   ],
   "source": [
    "import math\n",
    "math.sqrt(mse)"
   ]
  },
  {
   "cell_type": "code",
   "execution_count": 94,
   "id": "3f607872",
   "metadata": {},
   "outputs": [
    {
     "data": {
      "text/plain": [
       "0.9007990742890409"
      ]
     },
     "execution_count": 94,
     "metadata": {},
     "output_type": "execute_result"
    }
   ],
   "source": [
    "# Finding the model score i.e. coeff of determinant\n",
    "regression_model.score(X_test, y_test)"
   ]
  },
  {
   "cell_type": "code",
   "execution_count": 95,
   "id": "d8814850",
   "metadata": {},
   "outputs": [
    {
     "data": {
      "text/plain": [
       "<matplotlib.collections.PathCollection at 0x1a9a2fe9ac0>"
      ]
     },
     "execution_count": 95,
     "metadata": {},
     "output_type": "execute_result"
    },
    {
     "data": {
      "image/png": "[encoded data removed]",
      "text/plain": [
       "<Figure size 432x288 with 1 Axes>"
      ]
     },
     "metadata": {
      "needs_background": "light"
     },
     "output_type": "display_data"
    }
   ],
   "source": [
    "plt.scatter(y_test['Agent_bonus_Per_Policy'], y_pred)"
   ]
  },
  {
   "cell_type": "markdown",
   "id": "8b4b6b5b",
   "metadata": {},
   "source": [
    "Calculate VIF"
   ]
  },
  {
   "cell_type": "markdown",
   "id": "054e81fd",
   "metadata": {},
   "source": [
    "Calculate VIF for each Field and based on VIF value we decide, which column can be eliminated\n",
    "\n",
    "\n",
    "VIF (variance inflation factor) is used for checking multicollinearity in regression Model.\n",
    "its Values can range between 1 to Infinite.\n",
    "\n",
    "How to interpret a given VIF value?\n",
    "\n",
    "Consider the following linear regression model:\n",
    "\n",
    "Y = β0 + β1 × X1 + β2 × X2 + β3 × X3 + ε\n",
    "\n",
    "For each of the independent variables X1, X2 and X3 we can calculate the variance inflation factor (VIF) in order to determine if we have a multicollinearity problem.\n",
    "\n",
    "Here’s the formula for calculating the VIF for X1:\n",
    "\n",
    "VIF1 = 1 / (1 - R**2)\n",
    "\n",
    "VIF (variance inflating factor) formula for the first variable in the model\n",
    "R2 in this formula is the coefficient of determination from the linear regression model which has:\n",
    "\n",
    "X1 as dependent variable\n",
    "X2 and X3 as independent variables\n",
    "In other words, R2 comes from the following linear regression model:\n",
    "\n",
    "X1 = β0 + β1 × X2 + β2 × X3 + ε\n",
    "\n",
    "And because R2 is a number between 0 and 1:\n",
    "\n",
    "When R2 is close to 1 (i.e. X2 and X3 are highly predictive of X1): the VIF will be very large\n",
    "When R2 is close to 0 (i.e. X2 and X3 are not related to X1): the VIF will be close to 1\n",
    "Therefore the range of VIF is between 1 and infinity."
   ]
  },
  {
   "cell_type": "code",
   "execution_count": 96,
   "id": "3ab8dd55",
   "metadata": {},
   "outputs": [],
   "source": [
    "import statsmodels.api as sm\n",
    "import pandas as pd\n",
    "from statsmodels.stats.outliers_influence import variance_inflation_factor\n",
    "\n",
    "x_vif = train.iloc[:,1:]\n",
    "y = train['Agent_bonus_Per_Policy']"
   ]
  },
  {
   "cell_type": "code",
   "execution_count": 97,
   "id": "11266856",
   "metadata": {},
   "outputs": [],
   "source": [
    "thres = 5\n",
    "\n",
    "while True:\n",
    "    Cols = range(x_vif.shape[1])\n",
    "    \n",
    "    vif = np.array([variance_inflation_factor(x_vif.values, i) for i in Cols])\n",
    "    if all(vif < thres):\n",
    "        break\n",
    "    else:\n",
    "        Cols = np.delete(Cols,np.argmax(vif))\n",
    "        x_vif = x_vif.iloc[:,Cols]"
   ]
  },
  {
   "cell_type": "code",
   "execution_count": 98,
   "id": "10e14399",
   "metadata": {},
   "outputs": [
    {
     "data": {
      "text/plain": [
       "10"
      ]
     },
     "execution_count": 98,
     "metadata": {},
     "output_type": "execute_result"
    }
   ],
   "source": [
    "len(x_vif.columns)"
   ]
  },
  {
   "cell_type": "code",
   "execution_count": 99,
   "id": "335cd7ef",
   "metadata": {},
   "outputs": [
    {
     "data": {
      "text/plain": [
       "Index(['CustTenure', 'Channel', 'EducationField', 'Gender', 'Designation',\n",
       "       'MaritalStatus', 'ExistingPolicyTenure', 'Zone', 'PaymentMethod',\n",
       "       'Sum_assured_Per_Policy'],\n",
       "      dtype='object')"
      ]
     },
     "execution_count": 99,
     "metadata": {},
     "output_type": "execute_result"
    }
   ],
   "source": [
    "x_vif.columns"
   ]
  },
  {
   "cell_type": "markdown",
   "id": "96c6f79f",
   "metadata": {},
   "source": [
    "So features has been eliminated to 10 from total 14 features of Trian data set.\n",
    "Now lets run the Stats Model one more time."
   ]
  },
  {
   "cell_type": "code",
   "execution_count": 100,
   "id": "9d0fddea",
   "metadata": {},
   "outputs": [],
   "source": [
    "f_2 = 'Agent_bonus_Per_Policy~CustTenure+Channel+EducationField+Gender+Designation+MaritalStatus+ExistingPolicyTenure+Zone+PaymentMethod+Sum_assured_Per_Policy'"
   ]
  },
  {
   "cell_type": "code",
   "execution_count": 103,
   "id": "19bf4941",
   "metadata": {},
   "outputs": [
    {
     "data": {
      "text/plain": [
       "Intercept                 61.920887\n",
       "CustTenure                 3.079074\n",
       "Channel                   -6.259113\n",
       "EducationField            -2.138858\n",
       "Gender                    18.243899\n",
       "Designation               16.979978\n",
       "MaritalStatus             12.170802\n",
       "ExistingPolicyTenure       3.919562\n",
       "Zone                       3.349435\n",
       "PaymentMethod             -0.349521\n",
       "Sum_assured_Per_Policy     0.005751\n",
       "dtype: float64"
      ]
     },
     "execution_count": 103,
     "metadata": {},
     "output_type": "execute_result"
    }
   ],
   "source": [
    "lm2 = SM.ols(formula = f_2, data= train).fit()\n",
    "lm2.params"
   ]
  },
  {
   "cell_type": "code",
   "execution_count": 104,
   "id": "31bd6e4a",
   "metadata": {},
   "outputs": [
    {
     "name": "stdout",
     "output_type": "stream",
     "text": [
      "                              OLS Regression Results                              \n",
      "==================================================================================\n",
      "Dep. Variable:     Agent_bonus_Per_Policy   R-squared:                       0.899\n",
      "Model:                                OLS   Adj. R-squared:                  0.899\n",
      "Method:                     Least Squares   F-statistic:                     2685.\n",
      "Date:                    Sun, 18 Dec 2022   Prob (F-statistic):               0.00\n",
      "Time:                            13:20:58   Log-Likelihood:                -21842.\n",
      "No. Observations:                    3028   AIC:                         4.371e+04\n",
      "Df Residuals:                        3017   BIC:                         4.377e+04\n",
      "Df Model:                              10                                         \n",
      "Covariance Type:                nonrobust                                         \n",
      "==========================================================================================\n",
      "                             coef    std err          t      P>|t|      [0.025      0.975]\n",
      "------------------------------------------------------------------------------------------\n",
      "Intercept                 61.9209     25.595      2.419      0.016      11.736     112.106\n",
      "CustTenure                 3.0791      0.718      4.291      0.000       1.672       4.486\n",
      "Channel                   -6.2591      7.564     -0.827      0.408     -21.090       8.572\n",
      "EducationField            -2.1389      3.425     -0.625      0.532      -8.854       4.576\n",
      "Gender                    18.2439     12.148      1.502      0.133      -5.576      42.064\n",
      "Designation               16.9800      6.262      2.712      0.007       4.703      29.257\n",
      "MaritalStatus             12.1708      7.804      1.560      0.119      -3.130      27.472\n",
      "ExistingPolicyTenure       3.9196      1.258      3.116      0.002       1.453       6.386\n",
      "Zone                       3.3494      5.922      0.566      0.572      -8.262      14.961\n",
      "PaymentMethod             -0.3495      4.390     -0.080      0.937      -8.957       8.258\n",
      "Sum_assured_Per_Policy     0.0058   3.67e-05    156.902      0.000       0.006       0.006\n",
      "==============================================================================\n",
      "Omnibus:                      986.815   Durbin-Watson:                   1.946\n",
      "Prob(Omnibus):                  0.000   Jarque-Bera (JB):             6519.045\n",
      "Skew:                           1.382   Prob(JB):                         0.00\n",
      "Kurtosis:                       9.636   Cond. No.                     1.23e+06\n",
      "==============================================================================\n",
      "\n",
      "Notes:\n",
      "[1] Standard Errors assume that the covariance matrix of the errors is correctly specified.\n",
      "[2] The condition number is large, 1.23e+06. This might indicate that there are\n",
      "strong multicollinearity or other numerical problems.\n"
     ]
    }
   ],
   "source": [
    "print(lm2.summary()) "
   ]
  },
  {
   "cell_type": "code",
   "execution_count": null,
   "id": "45c8fac3",
   "metadata": {},
   "outputs": [],
   "source": []
  },
  {
   "cell_type": "code",
   "execution_count": null,
   "id": "ee59b391",
   "metadata": {},
   "outputs": [],
   "source": []
  },
  {
   "cell_type": "code",
   "execution_count": 105,
   "id": "fcc006ad",
   "metadata": {},
   "outputs": [
    {
     "data": {
      "text/html": [
       "<div>\n",
       "<style scoped>\n",
       "    .dataframe tbody tr th:only-of-type {\n",
       "        vertical-align: middle;\n",
       "    }\n",
       "\n",
       "    .dataframe tbody tr th {\n",
       "        vertical-align: top;\n",
       "    }\n",
       "\n",
       "    .dataframe thead th {\n",
       "        text-align: right;\n",
       "    }\n",
       "</style>\n",
       "<table border=\"1\" class=\"dataframe\">\n",
       "  <thead>\n",
       "    <tr style=\"text-align: right;\">\n",
       "      <th></th>\n",
       "      <th>Age</th>\n",
       "      <th>CustTenure</th>\n",
       "      <th>Channel</th>\n",
       "      <th>Occupation</th>\n",
       "      <th>EducationField</th>\n",
       "      <th>Gender</th>\n",
       "      <th>Designation</th>\n",
       "      <th>NumberOfPolicy</th>\n",
       "      <th>MaritalStatus</th>\n",
       "      <th>MonthlyIncome</th>\n",
       "      <th>ExistingPolicyTenure</th>\n",
       "      <th>Zone</th>\n",
       "      <th>PaymentMethod</th>\n",
       "      <th>Sum_assured_Per_Policy</th>\n",
       "      <th>Agent_bonus_Per_Policy</th>\n",
       "    </tr>\n",
       "  </thead>\n",
       "  <tbody>\n",
       "    <tr>\n",
       "      <th>508</th>\n",
       "      <td>13.0</td>\n",
       "      <td>2.0</td>\n",
       "      <td>0</td>\n",
       "      <td>3</td>\n",
       "      <td>5</td>\n",
       "      <td>0</td>\n",
       "      <td>2</td>\n",
       "      <td>5.0</td>\n",
       "      <td>0</td>\n",
       "      <td>21725.0</td>\n",
       "      <td>3.0</td>\n",
       "      <td>1</td>\n",
       "      <td>0</td>\n",
       "      <td>63002.6</td>\n",
       "      <td>434.60</td>\n",
       "    </tr>\n",
       "    <tr>\n",
       "      <th>1231</th>\n",
       "      <td>14.0</td>\n",
       "      <td>3.0</td>\n",
       "      <td>1</td>\n",
       "      <td>3</td>\n",
       "      <td>5</td>\n",
       "      <td>1</td>\n",
       "      <td>1</td>\n",
       "      <td>3.0</td>\n",
       "      <td>1</td>\n",
       "      <td>17008.0</td>\n",
       "      <td>1.0</td>\n",
       "      <td>3</td>\n",
       "      <td>3</td>\n",
       "      <td>192992.0</td>\n",
       "      <td>907.00</td>\n",
       "    </tr>\n",
       "    <tr>\n",
       "      <th>2723</th>\n",
       "      <td>28.0</td>\n",
       "      <td>5.0</td>\n",
       "      <td>0</td>\n",
       "      <td>1</td>\n",
       "      <td>1</td>\n",
       "      <td>1</td>\n",
       "      <td>3</td>\n",
       "      <td>5.0</td>\n",
       "      <td>0</td>\n",
       "      <td>21606.0</td>\n",
       "      <td>2.0</td>\n",
       "      <td>1</td>\n",
       "      <td>3</td>\n",
       "      <td>107105.2</td>\n",
       "      <td>939.60</td>\n",
       "    </tr>\n",
       "    <tr>\n",
       "      <th>3245</th>\n",
       "      <td>10.0</td>\n",
       "      <td>10.0</td>\n",
       "      <td>0</td>\n",
       "      <td>3</td>\n",
       "      <td>5</td>\n",
       "      <td>0</td>\n",
       "      <td>1</td>\n",
       "      <td>4.0</td>\n",
       "      <td>1</td>\n",
       "      <td>21974.0</td>\n",
       "      <td>1.0</td>\n",
       "      <td>3</td>\n",
       "      <td>1</td>\n",
       "      <td>94268.5</td>\n",
       "      <td>604.25</td>\n",
       "    </tr>\n",
       "    <tr>\n",
       "      <th>41</th>\n",
       "      <td>2.0</td>\n",
       "      <td>2.0</td>\n",
       "      <td>0</td>\n",
       "      <td>2</td>\n",
       "      <td>2</td>\n",
       "      <td>1</td>\n",
       "      <td>1</td>\n",
       "      <td>2.0</td>\n",
       "      <td>0</td>\n",
       "      <td>17177.0</td>\n",
       "      <td>7.0</td>\n",
       "      <td>1</td>\n",
       "      <td>3</td>\n",
       "      <td>289488.0</td>\n",
       "      <td>1202.50</td>\n",
       "    </tr>\n",
       "  </tbody>\n",
       "</table>\n",
       "</div>"
      ],
      "text/plain": [
       "       Age  CustTenure  Channel  Occupation  EducationField  Gender  \\\n",
       "508   13.0         2.0        0           3               5       0   \n",
       "1231  14.0         3.0        1           3               5       1   \n",
       "2723  28.0         5.0        0           1               1       1   \n",
       "3245  10.0        10.0        0           3               5       0   \n",
       "41     2.0         2.0        0           2               2       1   \n",
       "\n",
       "      Designation  NumberOfPolicy  MaritalStatus  MonthlyIncome  \\\n",
       "508             2             5.0              0        21725.0   \n",
       "1231            1             3.0              1        17008.0   \n",
       "2723            3             5.0              0        21606.0   \n",
       "3245            1             4.0              1        21974.0   \n",
       "41              1             2.0              0        17177.0   \n",
       "\n",
       "      ExistingPolicyTenure  Zone  PaymentMethod  Sum_assured_Per_Policy  \\\n",
       "508                    3.0     1              0                 63002.6   \n",
       "1231                   1.0     3              3                192992.0   \n",
       "2723                   2.0     1              3                107105.2   \n",
       "3245                   1.0     3              1                 94268.5   \n",
       "41                     7.0     1              3                289488.0   \n",
       "\n",
       "      Agent_bonus_Per_Policy  \n",
       "508                   434.60  \n",
       "1231                  907.00  \n",
       "2723                  939.60  \n",
       "3245                  604.25  \n",
       "41                   1202.50  "
      ]
     },
     "execution_count": 105,
     "metadata": {},
     "output_type": "execute_result"
    }
   ],
   "source": [
    "#Concatenation of X and y into one DF\n",
    "data_train = pd.concat([X_train, y_train], axis=1)\n",
    "data_test=pd.concat([X_test,y_test],axis=1)\n",
    "data_train.head()"
   ]
  },
  {
   "cell_type": "code",
   "execution_count": 106,
   "id": "716e85dc",
   "metadata": {},
   "outputs": [
    {
     "data": {
      "text/html": [
       "<div>\n",
       "<style scoped>\n",
       "    .dataframe tbody tr th:only-of-type {\n",
       "        vertical-align: middle;\n",
       "    }\n",
       "\n",
       "    .dataframe tbody tr th {\n",
       "        vertical-align: top;\n",
       "    }\n",
       "\n",
       "    .dataframe thead th {\n",
       "        text-align: right;\n",
       "    }\n",
       "</style>\n",
       "<table border=\"1\" class=\"dataframe\">\n",
       "  <thead>\n",
       "    <tr style=\"text-align: right;\">\n",
       "      <th></th>\n",
       "      <th>Age</th>\n",
       "      <th>CustTenure</th>\n",
       "      <th>Channel</th>\n",
       "      <th>Occupation</th>\n",
       "      <th>EducationField</th>\n",
       "      <th>Gender</th>\n",
       "      <th>Designation</th>\n",
       "      <th>NumberOfPolicy</th>\n",
       "      <th>MaritalStatus</th>\n",
       "      <th>MonthlyIncome</th>\n",
       "      <th>ExistingPolicyTenure</th>\n",
       "      <th>Zone</th>\n",
       "      <th>PaymentMethod</th>\n",
       "      <th>Sum_assured_Per_Policy</th>\n",
       "      <th>Agent_bonus_Per_Policy</th>\n",
       "    </tr>\n",
       "  </thead>\n",
       "  <tbody>\n",
       "    <tr>\n",
       "      <th>610</th>\n",
       "      <td>11.0</td>\n",
       "      <td>23.0</td>\n",
       "      <td>2</td>\n",
       "      <td>2</td>\n",
       "      <td>2</td>\n",
       "      <td>1</td>\n",
       "      <td>2</td>\n",
       "      <td>2.0</td>\n",
       "      <td>2</td>\n",
       "      <td>22756.0</td>\n",
       "      <td>1.0</td>\n",
       "      <td>3</td>\n",
       "      <td>0</td>\n",
       "      <td>3.925410e+05</td>\n",
       "      <td>2844.500000</td>\n",
       "    </tr>\n",
       "    <tr>\n",
       "      <th>1519</th>\n",
       "      <td>20.0</td>\n",
       "      <td>7.0</td>\n",
       "      <td>0</td>\n",
       "      <td>3</td>\n",
       "      <td>5</td>\n",
       "      <td>0</td>\n",
       "      <td>4</td>\n",
       "      <td>1.0</td>\n",
       "      <td>1</td>\n",
       "      <td>34517.0</td>\n",
       "      <td>7.0</td>\n",
       "      <td>1</td>\n",
       "      <td>0</td>\n",
       "      <td>1.200156e+06</td>\n",
       "      <td>6558.000000</td>\n",
       "    </tr>\n",
       "    <tr>\n",
       "      <th>1620</th>\n",
       "      <td>7.0</td>\n",
       "      <td>15.0</td>\n",
       "      <td>0</td>\n",
       "      <td>2</td>\n",
       "      <td>4</td>\n",
       "      <td>1</td>\n",
       "      <td>2</td>\n",
       "      <td>1.0</td>\n",
       "      <td>1</td>\n",
       "      <td>18697.0</td>\n",
       "      <td>4.0</td>\n",
       "      <td>1</td>\n",
       "      <td>0</td>\n",
       "      <td>4.302180e+05</td>\n",
       "      <td>2431.000000</td>\n",
       "    </tr>\n",
       "    <tr>\n",
       "      <th>2031</th>\n",
       "      <td>13.0</td>\n",
       "      <td>22.0</td>\n",
       "      <td>2</td>\n",
       "      <td>3</td>\n",
       "      <td>5</td>\n",
       "      <td>1</td>\n",
       "      <td>2</td>\n",
       "      <td>4.0</td>\n",
       "      <td>1</td>\n",
       "      <td>21385.0</td>\n",
       "      <td>4.0</td>\n",
       "      <td>1</td>\n",
       "      <td>0</td>\n",
       "      <td>2.211742e+05</td>\n",
       "      <td>1122.750000</td>\n",
       "    </tr>\n",
       "    <tr>\n",
       "      <th>494</th>\n",
       "      <td>12.0</td>\n",
       "      <td>14.0</td>\n",
       "      <td>0</td>\n",
       "      <td>3</td>\n",
       "      <td>5</td>\n",
       "      <td>1</td>\n",
       "      <td>1</td>\n",
       "      <td>3.0</td>\n",
       "      <td>0</td>\n",
       "      <td>17259.0</td>\n",
       "      <td>1.0</td>\n",
       "      <td>3</td>\n",
       "      <td>0</td>\n",
       "      <td>8.456900e+04</td>\n",
       "      <td>805.333333</td>\n",
       "    </tr>\n",
       "    <tr>\n",
       "      <th>1011</th>\n",
       "      <td>11.0</td>\n",
       "      <td>22.0</td>\n",
       "      <td>0</td>\n",
       "      <td>2</td>\n",
       "      <td>2</td>\n",
       "      <td>1</td>\n",
       "      <td>0</td>\n",
       "      <td>3.0</td>\n",
       "      <td>2</td>\n",
       "      <td>21606.0</td>\n",
       "      <td>13.0</td>\n",
       "      <td>3</td>\n",
       "      <td>0</td>\n",
       "      <td>2.971067e+05</td>\n",
       "      <td>1822.666667</td>\n",
       "    </tr>\n",
       "    <tr>\n",
       "      <th>3818</th>\n",
       "      <td>15.0</td>\n",
       "      <td>10.0</td>\n",
       "      <td>0</td>\n",
       "      <td>3</td>\n",
       "      <td>5</td>\n",
       "      <td>1</td>\n",
       "      <td>1</td>\n",
       "      <td>2.0</td>\n",
       "      <td>1</td>\n",
       "      <td>20527.0</td>\n",
       "      <td>2.0</td>\n",
       "      <td>1</td>\n",
       "      <td>0</td>\n",
       "      <td>4.669895e+05</td>\n",
       "      <td>2566.000000</td>\n",
       "    </tr>\n",
       "    <tr>\n",
       "      <th>3970</th>\n",
       "      <td>31.0</td>\n",
       "      <td>25.0</td>\n",
       "      <td>0</td>\n",
       "      <td>3</td>\n",
       "      <td>0</td>\n",
       "      <td>1</td>\n",
       "      <td>0</td>\n",
       "      <td>4.0</td>\n",
       "      <td>1</td>\n",
       "      <td>32575.0</td>\n",
       "      <td>25.0</td>\n",
       "      <td>3</td>\n",
       "      <td>3</td>\n",
       "      <td>1.655625e+05</td>\n",
       "      <td>1547.250000</td>\n",
       "    </tr>\n",
       "    <tr>\n",
       "      <th>745</th>\n",
       "      <td>18.0</td>\n",
       "      <td>18.0</td>\n",
       "      <td>2</td>\n",
       "      <td>2</td>\n",
       "      <td>2</td>\n",
       "      <td>1</td>\n",
       "      <td>1</td>\n",
       "      <td>2.0</td>\n",
       "      <td>0</td>\n",
       "      <td>18867.0</td>\n",
       "      <td>1.0</td>\n",
       "      <td>3</td>\n",
       "      <td>3</td>\n",
       "      <td>2.513085e+05</td>\n",
       "      <td>2264.000000</td>\n",
       "    </tr>\n",
       "    <tr>\n",
       "      <th>3240</th>\n",
       "      <td>35.0</td>\n",
       "      <td>12.0</td>\n",
       "      <td>0</td>\n",
       "      <td>2</td>\n",
       "      <td>2</td>\n",
       "      <td>0</td>\n",
       "      <td>3</td>\n",
       "      <td>2.0</td>\n",
       "      <td>2</td>\n",
       "      <td>26402.0</td>\n",
       "      <td>15.0</td>\n",
       "      <td>3</td>\n",
       "      <td>0</td>\n",
       "      <td>4.966215e+05</td>\n",
       "      <td>2904.000000</td>\n",
       "    </tr>\n",
       "  </tbody>\n",
       "</table>\n",
       "</div>"
      ],
      "text/plain": [
       "       Age  CustTenure  Channel  Occupation  EducationField  Gender  \\\n",
       "610   11.0        23.0        2           2               2       1   \n",
       "1519  20.0         7.0        0           3               5       0   \n",
       "1620   7.0        15.0        0           2               4       1   \n",
       "2031  13.0        22.0        2           3               5       1   \n",
       "494   12.0        14.0        0           3               5       1   \n",
       "1011  11.0        22.0        0           2               2       1   \n",
       "3818  15.0        10.0        0           3               5       1   \n",
       "3970  31.0        25.0        0           3               0       1   \n",
       "745   18.0        18.0        2           2               2       1   \n",
       "3240  35.0        12.0        0           2               2       0   \n",
       "\n",
       "      Designation  NumberOfPolicy  MaritalStatus  MonthlyIncome  \\\n",
       "610             2             2.0              2        22756.0   \n",
       "1519            4             1.0              1        34517.0   \n",
       "1620            2             1.0              1        18697.0   \n",
       "2031            2             4.0              1        21385.0   \n",
       "494             1             3.0              0        17259.0   \n",
       "1011            0             3.0              2        21606.0   \n",
       "3818            1             2.0              1        20527.0   \n",
       "3970            0             4.0              1        32575.0   \n",
       "745             1             2.0              0        18867.0   \n",
       "3240            3             2.0              2        26402.0   \n",
       "\n",
       "      ExistingPolicyTenure  Zone  PaymentMethod  Sum_assured_Per_Policy  \\\n",
       "610                    1.0     3              0            3.925410e+05   \n",
       "1519                   7.0     1              0            1.200156e+06   \n",
       "1620                   4.0     1              0            4.302180e+05   \n",
       "2031                   4.0     1              0            2.211742e+05   \n",
       "494                    1.0     3              0            8.456900e+04   \n",
       "1011                  13.0     3              0            2.971067e+05   \n",
       "3818                   2.0     1              0            4.669895e+05   \n",
       "3970                  25.0     3              3            1.655625e+05   \n",
       "745                    1.0     3              3            2.513085e+05   \n",
       "3240                  15.0     3              0            4.966215e+05   \n",
       "\n",
       "      Agent_bonus_Per_Policy  \n",
       "610              2844.500000  \n",
       "1519             6558.000000  \n",
       "1620             2431.000000  \n",
       "2031             1122.750000  \n",
       "494               805.333333  \n",
       "1011             1822.666667  \n",
       "3818             2566.000000  \n",
       "3970             1547.250000  \n",
       "745              2264.000000  \n",
       "3240             2904.000000  "
      ]
     },
     "execution_count": 106,
     "metadata": {},
     "output_type": "execute_result"
    }
   ],
   "source": [
    "data_test.head(10)"
   ]
  },
  {
   "cell_type": "code",
   "execution_count": 108,
   "id": "f2edc923",
   "metadata": {},
   "outputs": [
    {
     "data": {
      "text/plain": [
       "90827.43747846359"
      ]
     },
     "execution_count": 108,
     "metadata": {},
     "output_type": "execute_result"
    }
   ],
   "source": [
    "# Calculation of MSE\n",
    "mse = np.mean((lm1.predict(data_train.drop('Agent_bonus_Per_Policy',axis=1))-data_train['Agent_bonus_Per_Policy'])**2)\n",
    "mse"
   ]
  },
  {
   "cell_type": "code",
   "execution_count": 113,
   "id": "d9bfa749",
   "metadata": {},
   "outputs": [
    {
     "name": "stdout",
     "output_type": "stream",
     "text": [
      "The Root Mean Square Error (RMSE) of the OLS model is 301.3759072627797\n"
     ]
    }
   ],
   "source": [
    "#Root Mean Squared Error\n",
    "print(\"The Root Mean Square Error (RMSE) of the OLS model is\",np.sqrt(mse))"
   ]
  },
  {
   "cell_type": "code",
   "execution_count": 110,
   "id": "bf229bd4",
   "metadata": {},
   "outputs": [
    {
     "name": "stdout",
     "output_type": "stream",
     "text": [
      "(61.92) * Intercept + (3.08) * CustTenure + (-6.26) * Channel + (-2.14) * EducationField + (18.24) * Gender + (16.98) * Designation + (12.17) * MaritalStatus + (3.92) * ExistingPolicyTenure + (3.35) * Zone + (-0.35) * PaymentMethod + (0.01) * Sum_assured_Per_Policy + "
     ]
    }
   ],
   "source": [
    "for i,j in np.array(lm2.params.reset_index()):\n",
    "    print('({}) * {} +'.format(round(j,2),i),end=' ')"
   ]
  },
  {
   "cell_type": "code",
   "execution_count": 111,
   "id": "3213c963",
   "metadata": {},
   "outputs": [],
   "source": [
    "vif = [variance_inflation_factor(x_vif.values, ix) for ix in range(x_vif.shape[1])]"
   ]
  },
  {
   "cell_type": "code",
   "execution_count": 112,
   "id": "5badb80b",
   "metadata": {},
   "outputs": [
    {
     "name": "stdout",
     "output_type": "stream",
     "text": [
      "VIF for  CustTenure --> 3.747322350643076\n",
      "VIF for  Channel --> 1.354821934621015\n",
      "VIF for  EducationField --> 3.0146301437349856\n",
      "VIF for  Gender --> 2.2152924327596484\n",
      "VIF for  Designation --> 3.6584099794724305\n",
      "VIF for  MaritalStatus --> 2.9245715800576892\n",
      "VIF for  ExistingPolicyTenure --> 2.189713638304043\n",
      "VIF for  Zone --> 4.310506492275995\n",
      "VIF for  PaymentMethod --> 1.5637231207100406\n",
      "VIF for  Sum_assured_Per_Policy --> 2.829045662325185\n"
     ]
    }
   ],
   "source": [
    "i=0\n",
    "for column in x_vif.columns:\n",
    "    if i < len(x_vif.columns):\n",
    "        print ('VIF for ',column ,\"-->\",  vif[i])\n",
    "        i = i+1"
   ]
  },
  {
   "cell_type": "code",
   "execution_count": null,
   "id": "549b11a0",
   "metadata": {},
   "outputs": [],
   "source": []
  },
  {
   "cell_type": "code",
   "execution_count": null,
   "id": "781e8b45",
   "metadata": {},
   "outputs": [],
   "source": []
  },
  {
   "cell_type": "code",
   "execution_count": null,
   "id": "02fdb7d3",
   "metadata": {},
   "outputs": [],
   "source": []
  },
  {
   "cell_type": "code",
   "execution_count": null,
   "id": "29e8aa23",
   "metadata": {},
   "outputs": [],
   "source": []
  },
  {
   "cell_type": "code",
   "execution_count": null,
   "id": "411517ad",
   "metadata": {},
   "outputs": [],
   "source": []
  },
  {
   "cell_type": "markdown",
   "id": "38498e4e",
   "metadata": {},
   "source": [
    "### Decision Tree Regressor Model"
   ]
  },
  {
   "cell_type": "code",
   "execution_count": 114,
   "id": "96404c9d",
   "metadata": {},
   "outputs": [
    {
     "data": {
      "text/html": [
       "<div>\n",
       "<style scoped>\n",
       "    .dataframe tbody tr th:only-of-type {\n",
       "        vertical-align: middle;\n",
       "    }\n",
       "\n",
       "    .dataframe tbody tr th {\n",
       "        vertical-align: top;\n",
       "    }\n",
       "\n",
       "    .dataframe thead th {\n",
       "        text-align: right;\n",
       "    }\n",
       "</style>\n",
       "<table border=\"1\" class=\"dataframe\">\n",
       "  <thead>\n",
       "    <tr style=\"text-align: right;\">\n",
       "      <th></th>\n",
       "      <th>Age</th>\n",
       "      <th>CustTenure</th>\n",
       "      <th>Channel</th>\n",
       "      <th>Occupation</th>\n",
       "      <th>EducationField</th>\n",
       "      <th>Gender</th>\n",
       "      <th>Designation</th>\n",
       "      <th>NumberOfPolicy</th>\n",
       "      <th>MaritalStatus</th>\n",
       "      <th>MonthlyIncome</th>\n",
       "      <th>ExistingPolicyTenure</th>\n",
       "      <th>Zone</th>\n",
       "      <th>PaymentMethod</th>\n",
       "      <th>Sum_assured_Per_Policy</th>\n",
       "    </tr>\n",
       "  </thead>\n",
       "  <tbody>\n",
       "    <tr>\n",
       "      <th>508</th>\n",
       "      <td>13.0</td>\n",
       "      <td>2.0</td>\n",
       "      <td>0</td>\n",
       "      <td>3</td>\n",
       "      <td>5</td>\n",
       "      <td>0</td>\n",
       "      <td>2</td>\n",
       "      <td>5.0</td>\n",
       "      <td>0</td>\n",
       "      <td>21725.0</td>\n",
       "      <td>3.0</td>\n",
       "      <td>1</td>\n",
       "      <td>0</td>\n",
       "      <td>63002.6</td>\n",
       "    </tr>\n",
       "    <tr>\n",
       "      <th>1231</th>\n",
       "      <td>14.0</td>\n",
       "      <td>3.0</td>\n",
       "      <td>1</td>\n",
       "      <td>3</td>\n",
       "      <td>5</td>\n",
       "      <td>1</td>\n",
       "      <td>1</td>\n",
       "      <td>3.0</td>\n",
       "      <td>1</td>\n",
       "      <td>17008.0</td>\n",
       "      <td>1.0</td>\n",
       "      <td>3</td>\n",
       "      <td>3</td>\n",
       "      <td>192992.0</td>\n",
       "    </tr>\n",
       "    <tr>\n",
       "      <th>2723</th>\n",
       "      <td>28.0</td>\n",
       "      <td>5.0</td>\n",
       "      <td>0</td>\n",
       "      <td>1</td>\n",
       "      <td>1</td>\n",
       "      <td>1</td>\n",
       "      <td>3</td>\n",
       "      <td>5.0</td>\n",
       "      <td>0</td>\n",
       "      <td>21606.0</td>\n",
       "      <td>2.0</td>\n",
       "      <td>1</td>\n",
       "      <td>3</td>\n",
       "      <td>107105.2</td>\n",
       "    </tr>\n",
       "    <tr>\n",
       "      <th>3245</th>\n",
       "      <td>10.0</td>\n",
       "      <td>10.0</td>\n",
       "      <td>0</td>\n",
       "      <td>3</td>\n",
       "      <td>5</td>\n",
       "      <td>0</td>\n",
       "      <td>1</td>\n",
       "      <td>4.0</td>\n",
       "      <td>1</td>\n",
       "      <td>21974.0</td>\n",
       "      <td>1.0</td>\n",
       "      <td>3</td>\n",
       "      <td>1</td>\n",
       "      <td>94268.5</td>\n",
       "    </tr>\n",
       "    <tr>\n",
       "      <th>41</th>\n",
       "      <td>2.0</td>\n",
       "      <td>2.0</td>\n",
       "      <td>0</td>\n",
       "      <td>2</td>\n",
       "      <td>2</td>\n",
       "      <td>1</td>\n",
       "      <td>1</td>\n",
       "      <td>2.0</td>\n",
       "      <td>0</td>\n",
       "      <td>17177.0</td>\n",
       "      <td>7.0</td>\n",
       "      <td>1</td>\n",
       "      <td>3</td>\n",
       "      <td>289488.0</td>\n",
       "    </tr>\n",
       "  </tbody>\n",
       "</table>\n",
       "</div>"
      ],
      "text/plain": [
       "       Age  CustTenure  Channel  Occupation  EducationField  Gender  \\\n",
       "508   13.0         2.0        0           3               5       0   \n",
       "1231  14.0         3.0        1           3               5       1   \n",
       "2723  28.0         5.0        0           1               1       1   \n",
       "3245  10.0        10.0        0           3               5       0   \n",
       "41     2.0         2.0        0           2               2       1   \n",
       "\n",
       "      Designation  NumberOfPolicy  MaritalStatus  MonthlyIncome  \\\n",
       "508             2             5.0              0        21725.0   \n",
       "1231            1             3.0              1        17008.0   \n",
       "2723            3             5.0              0        21606.0   \n",
       "3245            1             4.0              1        21974.0   \n",
       "41              1             2.0              0        17177.0   \n",
       "\n",
       "      ExistingPolicyTenure  Zone  PaymentMethod  Sum_assured_Per_Policy  \n",
       "508                    3.0     1              0                 63002.6  \n",
       "1231                   1.0     3              3                192992.0  \n",
       "2723                   2.0     1              3                107105.2  \n",
       "3245                   1.0     3              1                 94268.5  \n",
       "41                     7.0     1              3                289488.0  "
      ]
     },
     "execution_count": 114,
     "metadata": {},
     "output_type": "execute_result"
    }
   ],
   "source": [
    "X_train.head()"
   ]
  },
  {
   "cell_type": "code",
   "execution_count": 115,
   "id": "825e5e6f",
   "metadata": {},
   "outputs": [
    {
     "data": {
      "text/html": [
       "<div>\n",
       "<style scoped>\n",
       "    .dataframe tbody tr th:only-of-type {\n",
       "        vertical-align: middle;\n",
       "    }\n",
       "\n",
       "    .dataframe tbody tr th {\n",
       "        vertical-align: top;\n",
       "    }\n",
       "\n",
       "    .dataframe thead th {\n",
       "        text-align: right;\n",
       "    }\n",
       "</style>\n",
       "<table border=\"1\" class=\"dataframe\">\n",
       "  <thead>\n",
       "    <tr style=\"text-align: right;\">\n",
       "      <th></th>\n",
       "      <th>Agent_bonus_Per_Policy</th>\n",
       "    </tr>\n",
       "  </thead>\n",
       "  <tbody>\n",
       "    <tr>\n",
       "      <th>508</th>\n",
       "      <td>434.60</td>\n",
       "    </tr>\n",
       "    <tr>\n",
       "      <th>1231</th>\n",
       "      <td>907.00</td>\n",
       "    </tr>\n",
       "    <tr>\n",
       "      <th>2723</th>\n",
       "      <td>939.60</td>\n",
       "    </tr>\n",
       "    <tr>\n",
       "      <th>3245</th>\n",
       "      <td>604.25</td>\n",
       "    </tr>\n",
       "    <tr>\n",
       "      <th>41</th>\n",
       "      <td>1202.50</td>\n",
       "    </tr>\n",
       "  </tbody>\n",
       "</table>\n",
       "</div>"
      ],
      "text/plain": [
       "      Agent_bonus_Per_Policy\n",
       "508                   434.60\n",
       "1231                  907.00\n",
       "2723                  939.60\n",
       "3245                  604.25\n",
       "41                   1202.50"
      ]
     },
     "execution_count": 115,
     "metadata": {},
     "output_type": "execute_result"
    }
   ],
   "source": [
    "y_train.head()"
   ]
  },
  {
   "cell_type": "code",
   "execution_count": 116,
   "id": "ae3dfce9",
   "metadata": {},
   "outputs": [
    {
     "name": "stdout",
     "output_type": "stream",
     "text": [
      "(3028, 14) (1492, 14) (3028, 1) (1492, 1)\n"
     ]
    }
   ],
   "source": [
    "print(X_train.shape,X_test.shape,y_train.shape,y_test.shape)"
   ]
  },
  {
   "cell_type": "code",
   "execution_count": 117,
   "id": "72200428",
   "metadata": {},
   "outputs": [],
   "source": [
    "# Decision tree Regression Model building\n",
    "# Importing the regressor\n",
    "\n",
    "from sklearn.tree import DecisionTreeRegressor"
   ]
  },
  {
   "cell_type": "code",
   "execution_count": 120,
   "id": "68f80389",
   "metadata": {},
   "outputs": [],
   "source": [
    "# Creating and fitting the model\n",
    "\n",
    "DT_model=DecisionTreeRegressor().fit(X_train,y_train)"
   ]
  },
  {
   "cell_type": "code",
   "execution_count": 121,
   "id": "ef0a8b50",
   "metadata": {},
   "outputs": [
    {
     "name": "stdout",
     "output_type": "stream",
     "text": [
      "The training r square is : 1.00\n"
     ]
    }
   ],
   "source": [
    "# The coefficient of determinantion\n",
    "\n",
    "print('The training r square is : %.2f'% DT_model.score(X_train,y_train))"
   ]
  },
  {
   "cell_type": "code",
   "execution_count": 122,
   "id": "52b5b876",
   "metadata": {},
   "outputs": [],
   "source": [
    "# Training Model Evaluation..\n",
    "\n",
    "from sklearn.metrics import mean_absolute_error,mean_absolute_percentage_error,mean_squared_error,explained_variance_score,r2_score"
   ]
  },
  {
   "cell_type": "code",
   "execution_count": 123,
   "id": "13c1b90c",
   "metadata": {},
   "outputs": [],
   "source": [
    "# prediction on training data\n",
    "\n",
    "y_train_pred_DT=DT_model.predict(X_train)"
   ]
  },
  {
   "cell_type": "code",
   "execution_count": 124,
   "id": "dc9a99ba",
   "metadata": {},
   "outputs": [
    {
     "name": "stdout",
     "output_type": "stream",
     "text": [
      "the r_sq is: 1.0\n"
     ]
    }
   ],
   "source": [
    "# T r_sq\n",
    "\n",
    "print('the r_sq is:', r2_score(y_train,y_train_pred_DT))"
   ]
  },
  {
   "cell_type": "code",
   "execution_count": 125,
   "id": "bb377f23",
   "metadata": {},
   "outputs": [
    {
     "name": "stdout",
     "output_type": "stream",
     "text": [
      "The MAE is: 0.0\n"
     ]
    }
   ],
   "source": [
    "# The MAE ( Mean asbsolute error)\n",
    "\n",
    "print('The MAE is:', mean_absolute_error(y_train,y_train_pred_DT))"
   ]
  },
  {
   "cell_type": "code",
   "execution_count": 126,
   "id": "15bb8491",
   "metadata": {},
   "outputs": [
    {
     "name": "stdout",
     "output_type": "stream",
     "text": [
      " The MSE is: 0.0\n"
     ]
    }
   ],
   "source": [
    "# The MSE ( Mean Squared Error)\n",
    "\n",
    "print(' The MSE is:', mean_squared_error(y_train,y_train_pred_DT))"
   ]
  },
  {
   "cell_type": "code",
   "execution_count": 127,
   "id": "38e155c7",
   "metadata": {},
   "outputs": [
    {
     "name": "stdout",
     "output_type": "stream",
     "text": [
      "The RMSE is 0.0\n"
     ]
    }
   ],
   "source": [
    "# The RMSE ( Root Mean Squared Error)\n",
    "\n",
    "print( 'The RMSE is', np.sqrt(mean_squared_error(y_train,y_train_pred_DT)))"
   ]
  },
  {
   "cell_type": "code",
   "execution_count": 128,
   "id": "bd27c0f2",
   "metadata": {},
   "outputs": [
    {
     "name": "stdout",
     "output_type": "stream",
     "text": [
      "The MAPE is 0.0\n"
     ]
    }
   ],
   "source": [
    "# The MAPE ( Mean Absolute Percentage Error)\n",
    "\n",
    "print( 'The MAPE is', mean_absolute_percentage_error(y_train,y_train_pred_DT))"
   ]
  },
  {
   "cell_type": "code",
   "execution_count": 130,
   "id": "c16f4a24",
   "metadata": {},
   "outputs": [
    {
     "name": "stdout",
     "output_type": "stream",
     "text": [
      "The EVS is 1.0\n"
     ]
    }
   ],
   "source": [
    "# The EVS (Expalained Variance Score)\n",
    "\n",
    "print('The EVS is', explained_variance_score(y_train,y_train_pred_DT))"
   ]
  },
  {
   "cell_type": "code",
   "execution_count": 131,
   "id": "d53d7ff8",
   "metadata": {},
   "outputs": [],
   "source": [
    "# Prediction on the testing data\n",
    "\n",
    "y_test_pred_DT=DT_model.predict(X_test)"
   ]
  },
  {
   "cell_type": "code",
   "execution_count": 136,
   "id": "57a94b2d",
   "metadata": {},
   "outputs": [
    {
     "name": "stdout",
     "output_type": "stream",
     "text": [
      "the r_sq is:0.88\n"
     ]
    }
   ],
   "source": [
    "# The R=r_sq\n",
    "\n",
    "print('the r_sq is:%.2f'% r2_score(y_test,y_test_pred_DT))"
   ]
  },
  {
   "cell_type": "code",
   "execution_count": 137,
   "id": "0acd8a90",
   "metadata": {},
   "outputs": [
    {
     "name": "stdout",
     "output_type": "stream",
     "text": [
      "The testing r_sq is: 0.88\n"
     ]
    }
   ],
   "source": [
    "print('The testing r_sq is: %.2f'% DT_model.score(X_test,y_test))"
   ]
  },
  {
   "cell_type": "code",
   "execution_count": 138,
   "id": "cd9258f2",
   "metadata": {},
   "outputs": [],
   "source": [
    "# Plotting the observed and predicted agent bonus\n",
    "\n",
    "import matplotlib.pyplot as plt"
   ]
  },
  {
   "cell_type": "code",
   "execution_count": 146,
   "id": "3db3c6e9",
   "metadata": {},
   "outputs": [
    {
     "data": {
      "image/png": "[encoded data removed]",
      "text/plain": [
       "<Figure size 1440x576 with 1 Axes>"
      ]
     },
     "metadata": {
      "needs_background": "light"
     },
     "output_type": "display_data"
    }
   ],
   "source": [
    "# Setting the boundries and parameters\n",
    "\n",
    "plt.rcParams['figure.figsize']=(20,8)\n",
    "x_ax=range(len(X_test))\n",
    "\n",
    "# Plotting\n",
    "\n",
    "plt.plot(x_ax,y_test,label='Observed',color='k',linestyle='-');\n",
    "plt.plot(x_ax,y_test_pred_DT,label='Predicted',color='g',linestyle='--')\n",
    "plt.ylabel('Agent_Bonus_per_Policy')\n",
    "plt.xlabel('Test data sample')\n",
    "plt.legend(bbox_to_anchor=(0.5,-0.2),loc='lower center',ncol=2,frameon=False)\n",
    "plt.show()"
   ]
  },
  {
   "cell_type": "code",
   "execution_count": null,
   "id": "53724ea8",
   "metadata": {},
   "outputs": [],
   "source": [
    "# Plotting the prediction errors and residuals\n",
    "# Cmd/Anaconda prompt and type : pip install yellowbrick"
   ]
  },
  {
   "cell_type": "code",
   "execution_count": 147,
   "id": "11c3f10b",
   "metadata": {},
   "outputs": [
    {
     "name": "stdout",
     "output_type": "stream",
     "text": [
      "Requirement already satisfied: yellowbrick in c:\\users\\vivek\\anaconda3\\lib\\site-packages (1.4)\n",
      "Requirement already satisfied: numpy>=1.16.0 in c:\\users\\vivek\\anaconda3\\lib\\site-packages (from yellowbrick) (1.20.3)\n",
      "Requirement already satisfied: matplotlib!=3.0.0,>=2.0.2 in c:\\users\\vivek\\anaconda3\\lib\\site-packages (from yellowbrick) (3.4.3)\n",
      "Requirement already satisfied: scikit-learn>=1.0.0 in c:\\users\\vivek\\anaconda3\\lib\\site-packages (from yellowbrick) (1.1.1)\n",
      "Requirement already satisfied: cycler>=0.10.0 in c:\\users\\vivek\\anaconda3\\lib\\site-packages (from yellowbrick) (0.10.0)\n",
      "Requirement already satisfied: scipy>=1.0.0 in c:\\users\\vivek\\anaconda3\\lib\\site-packages (from yellowbrick) (1.8.0)\n",
      "Requirement already satisfied: six in c:\\users\\vivek\\anaconda3\\lib\\site-packages (from cycler>=0.10.0->yellowbrick) (1.16.0)\n",
      "Requirement already satisfied: pyparsing>=2.2.1 in c:\\users\\vivek\\anaconda3\\lib\\site-packages (from matplotlib!=3.0.0,>=2.0.2->yellowbrick) (3.0.4)\n",
      "Requirement already satisfied: kiwisolver>=1.0.1 in c:\\users\\vivek\\anaconda3\\lib\\site-packages (from matplotlib!=3.0.0,>=2.0.2->yellowbrick) (1.3.1)\n",
      "Requirement already satisfied: python-dateutil>=2.7 in c:\\users\\vivek\\anaconda3\\lib\\site-packages (from matplotlib!=3.0.0,>=2.0.2->yellowbrick) (2.8.2)\n",
      "Requirement already satisfied: pillow>=6.2.0 in c:\\users\\vivek\\anaconda3\\lib\\site-packages (from matplotlib!=3.0.0,>=2.0.2->yellowbrick) (8.4.0)\n",
      "Requirement already satisfied: joblib>=1.0.0 in c:\\users\\vivek\\anaconda3\\lib\\site-packages (from scikit-learn>=1.0.0->yellowbrick) (1.1.0)\n",
      "Requirement already satisfied: threadpoolctl>=2.0.0 in c:\\users\\vivek\\anaconda3\\lib\\site-packages (from scikit-learn>=1.0.0->yellowbrick) (2.2.0)\n",
      "Note: you may need to restart the kernel to use updated packages.\n"
     ]
    }
   ],
   "source": [
    "pip install yellowbrick"
   ]
  },
  {
   "cell_type": "code",
   "execution_count": 212,
   "id": "2d3f849c",
   "metadata": {},
   "outputs": [
    {
     "data": {
      "image/png": "[encoded data removed]",
      "text/plain": [
       "<Figure size 1440x576 with 1 Axes>"
      ]
     },
     "metadata": {},
     "output_type": "display_data"
    },
    {
     "data": {
      "text/plain": [
       "<AxesSubplot:title={'center':'Prediction Error for DecisionTreeRegressor'}, xlabel='$y$', ylabel='$\\\\hat{y}$'>"
      ]
     },
     "execution_count": 212,
     "metadata": {},
     "output_type": "execute_result"
    }
   ],
   "source": [
    "# Prediction error..\n",
    "\n",
    "from yellowbrick.regressor import PredictionError\n",
    "\n",
    "visualizer=PredictionError(DT_model)\n",
    "visualizer.fit(X_train,y_train)\n",
    "visualizer.score(X_test,y_test_pred_DT)\n",
    "visualizer.poof()"
   ]
  },
  {
   "cell_type": "code",
   "execution_count": 155,
   "id": "225817ef",
   "metadata": {},
   "outputs": [],
   "source": [
    "from yellowbrick.regressor import ResidualsPlot"
   ]
  },
  {
   "cell_type": "code",
   "execution_count": 215,
   "id": "0b3bb19f",
   "metadata": {},
   "outputs": [
    {
     "data": {
      "image/png": "[encoded data removed]",
      "text/plain": [
       "<Figure size 1440x576 with 2 Axes>"
      ]
     },
     "metadata": {},
     "output_type": "display_data"
    },
    {
     "data": {
      "text/plain": [
       "<AxesSubplot:title={'center':'Residuals for DecisionTreeRegressor Model'}, xlabel='Predicted Value', ylabel='Residuals'>"
      ]
     },
     "execution_count": 215,
     "metadata": {},
     "output_type": "execute_result"
    }
   ],
   "source": [
    "# Residual Errors...\n",
    "\n",
    "visualizer=ResidualsPlot(DT_model)\n",
    "visualizer.fit(X_train,y_train_pred_DT)\n",
    "visualizer.score(X_test,y_test_pred_DT)\n",
    "visualizer.poof()"
   ]
  },
  {
   "cell_type": "code",
   "execution_count": 165,
   "id": "5816f624",
   "metadata": {},
   "outputs": [],
   "source": [
    "# Testing Model Evaluation "
   ]
  },
  {
   "cell_type": "code",
   "execution_count": 167,
   "id": "563c735d",
   "metadata": {},
   "outputs": [
    {
     "name": "stdout",
     "output_type": "stream",
     "text": [
      "The MAE is 230.84\n"
     ]
    }
   ],
   "source": [
    "# The MAE\n",
    "\n",
    "print('The MAE is %.2f'% mean_absolute_error(y_test,y_test_pred_DT))"
   ]
  },
  {
   "cell_type": "code",
   "execution_count": 168,
   "id": "fec4cffc",
   "metadata": {},
   "outputs": [
    {
     "name": "stdout",
     "output_type": "stream",
     "text": [
      "The MSE is 122017.48\n"
     ]
    }
   ],
   "source": [
    "# The MSE \n",
    "\n",
    "print('The MSE is %.2f'% mean_squared_error(y_test,y_test_pred_DT))"
   ]
  },
  {
   "cell_type": "code",
   "execution_count": 170,
   "id": "c97cee1c",
   "metadata": {},
   "outputs": [
    {
     "name": "stdout",
     "output_type": "stream",
     "text": [
      "The RMSE is 349.31\n"
     ]
    }
   ],
   "source": [
    "# The RMSE \n",
    "print('The RMSE is %.2f'% np.sqrt(mean_squared_error(y_test,y_test_pred_DT)))"
   ]
  },
  {
   "cell_type": "code",
   "execution_count": 171,
   "id": "51e528d4",
   "metadata": {},
   "outputs": [
    {
     "name": "stdout",
     "output_type": "stream",
     "text": [
      "The MAPE is 0.17\n"
     ]
    }
   ],
   "source": [
    "# The MAPE \n",
    "\n",
    "print('The MAPE is %.2f'% mean_absolute_percentage_error(y_test,y_test_pred_DT))"
   ]
  },
  {
   "cell_type": "code",
   "execution_count": 172,
   "id": "9debd204",
   "metadata": {},
   "outputs": [
    {
     "name": "stdout",
     "output_type": "stream",
     "text": [
      "The EVS is 0.88\n"
     ]
    }
   ],
   "source": [
    "# The EVS \n",
    "\n",
    "print('The EVS is %.2f'% explained_variance_score(y_test,y_test_pred_DT))"
   ]
  },
  {
   "cell_type": "code",
   "execution_count": 173,
   "id": "42758355",
   "metadata": {},
   "outputs": [],
   "source": [
    "# K-fold cross solution\n",
    "\n",
    "from sklearn.model_selection import cross_val_score"
   ]
  },
  {
   "cell_type": "code",
   "execution_count": 176,
   "id": "5efd40e7",
   "metadata": {},
   "outputs": [],
   "source": [
    "# On the training dataset\n",
    "\n",
    "score_train_DT_MSE=cross_val_score(DT_model,X_train,y_train,scoring='neg_mean_squared_error',cv=10)"
   ]
  },
  {
   "cell_type": "code",
   "execution_count": 177,
   "id": "9f0dd189",
   "metadata": {},
   "outputs": [
    {
     "data": {
      "text/plain": [
       "array([-113209.31540979, -115559.15233682, -126288.64435002,\n",
       "       -121197.32924367, -131130.35699395, -172186.51987165,\n",
       "       -122804.37674551, -145536.67022094, -161798.45176049,\n",
       "       -132054.98017936])"
      ]
     },
     "execution_count": 177,
     "metadata": {},
     "output_type": "execute_result"
    }
   ],
   "source": [
    "score_train_DT_MSE"
   ]
  },
  {
   "cell_type": "code",
   "execution_count": 178,
   "id": "f69c886e",
   "metadata": {},
   "outputs": [],
   "source": [
    "score_train_DT_MSE=np.mean(score_train_DT_MSE)"
   ]
  },
  {
   "cell_type": "code",
   "execution_count": 179,
   "id": "54eb50af",
   "metadata": {},
   "outputs": [
    {
     "data": {
      "text/plain": [
       "-134176.57971121962"
      ]
     },
     "execution_count": 179,
     "metadata": {},
     "output_type": "execute_result"
    }
   ],
   "source": [
    "score_train_DT_MSE"
   ]
  },
  {
   "cell_type": "code",
   "execution_count": 180,
   "id": "7853c895",
   "metadata": {},
   "outputs": [],
   "source": [
    "# let us make it absolute ( positive)\n",
    "\n",
    "from numpy import absolute\n"
   ]
  },
  {
   "cell_type": "code",
   "execution_count": 181,
   "id": "2348bdf8",
   "metadata": {},
   "outputs": [
    {
     "data": {
      "text/plain": [
       "134176.57971121962"
      ]
     },
     "execution_count": 181,
     "metadata": {},
     "output_type": "execute_result"
    }
   ],
   "source": [
    "score_train_DT_MSE=absolute(score_train_DT_MSE)\n",
    "score_train_DT_MSE"
   ]
  },
  {
   "cell_type": "code",
   "execution_count": 182,
   "id": "06bdf0e9",
   "metadata": {},
   "outputs": [],
   "source": [
    "# on the testing data\n",
    "\n",
    "score_test_DT_MSE=cross_val_score(DT_model,X_test,y_test,scoring='neg_mean_squared_error',cv=10)"
   ]
  },
  {
   "cell_type": "code",
   "execution_count": 183,
   "id": "fcb3c97c",
   "metadata": {},
   "outputs": [
    {
     "data": {
      "text/plain": [
       "array([-165662.68477778, -232159.36467963, -112495.64314131,\n",
       "       -226207.96168904, -213193.27469612, -131994.35320283,\n",
       "       -169267.48255593, -149046.07196868, -161187.94935309,\n",
       "       -250750.03711223])"
      ]
     },
     "execution_count": 183,
     "metadata": {},
     "output_type": "execute_result"
    }
   ],
   "source": [
    "score_test_DT_MSE"
   ]
  },
  {
   "cell_type": "code",
   "execution_count": 185,
   "id": "ea9e6c4a",
   "metadata": {},
   "outputs": [
    {
     "data": {
      "text/plain": [
       "181196.4823176647"
      ]
     },
     "execution_count": 185,
     "metadata": {},
     "output_type": "execute_result"
    }
   ],
   "source": [
    "score_test_DT_MSE=absolute(np.mean(score_test_DT_MSE))\n",
    "score_test_DT_MSE"
   ]
  },
  {
   "cell_type": "code",
   "execution_count": 240,
   "id": "08371be4",
   "metadata": {},
   "outputs": [],
   "source": [
    "# Decision Tree Feature Rankings..\n",
    "from sklearn.pipeline import Pipeline"
   ]
  },
  {
   "cell_type": "code",
   "execution_count": 241,
   "id": "b3cbee06",
   "metadata": {},
   "outputs": [],
   "source": [
    "f_list_DT=list(X.columns)\n",
    "f_importance_DT=pd.Series(DT_model.feature_importances_,index=f_list_DT).sort_values(ascending=False)"
   ]
  },
  {
   "cell_type": "code",
   "execution_count": 242,
   "id": "26e0b880",
   "metadata": {},
   "outputs": [
    {
     "name": "stdout",
     "output_type": "stream",
     "text": [
      "Sum_assured_Per_Policy    0.907811\n",
      "Age                       0.020091\n",
      "NumberOfPolicy            0.019759\n",
      "CustTenure                0.016041\n",
      "MonthlyIncome             0.015252\n",
      "ExistingPolicyTenure      0.005865\n",
      "EducationField            0.003479\n",
      "Designation               0.002530\n",
      "Channel                   0.002124\n",
      "Occupation                0.001653\n",
      "Gender                    0.001564\n",
      "MaritalStatus             0.001400\n",
      "Zone                      0.001389\n",
      "PaymentMethod             0.001043\n",
      "dtype: float64\n"
     ]
    }
   ],
   "source": [
    "print(f_importance_DT)"
   ]
  },
  {
   "cell_type": "code",
   "execution_count": null,
   "id": "d0a36c92",
   "metadata": {},
   "outputs": [],
   "source": []
  },
  {
   "cell_type": "code",
   "execution_count": null,
   "id": "cb949f42",
   "metadata": {},
   "outputs": [],
   "source": []
  },
  {
   "cell_type": "code",
   "execution_count": null,
   "id": "e8633964",
   "metadata": {},
   "outputs": [],
   "source": []
  },
  {
   "cell_type": "markdown",
   "id": "86e897cf",
   "metadata": {},
   "source": [
    "### Random Forest Regressor Model"
   ]
  },
  {
   "cell_type": "code",
   "execution_count": 186,
   "id": "01612a5b",
   "metadata": {},
   "outputs": [
    {
     "name": "stdout",
     "output_type": "stream",
     "text": [
      "(3028, 14) (1492, 14) (3028, 1) (1492, 1)\n"
     ]
    }
   ],
   "source": [
    "print(X_train.shape,X_test.shape,y_train.shape,y_test.shape)"
   ]
  },
  {
   "cell_type": "code",
   "execution_count": 187,
   "id": "3722bcca",
   "metadata": {},
   "outputs": [],
   "source": [
    "# Random Forest Model\n",
    "\n",
    "from sklearn.ensemble import RandomForestRegressor"
   ]
  },
  {
   "cell_type": "code",
   "execution_count": 188,
   "id": "44e3a4cc",
   "metadata": {},
   "outputs": [],
   "source": [
    "# Instantiation of the model\n",
    "\n",
    "model=RandomForestRegressor(n_estimators=30,random_state=30)"
   ]
  },
  {
   "cell_type": "code",
   "execution_count": 189,
   "id": "1a96f7ab",
   "metadata": {},
   "outputs": [],
   "source": [
    "RF_model=model.fit(X_train,y_train)"
   ]
  },
  {
   "cell_type": "code",
   "execution_count": 190,
   "id": "c2ceb999",
   "metadata": {},
   "outputs": [],
   "source": [
    "# Training Model Evaluation"
   ]
  },
  {
   "cell_type": "code",
   "execution_count": 191,
   "id": "f1c39e2e",
   "metadata": {},
   "outputs": [
    {
     "name": "stdout",
     "output_type": "stream",
     "text": [
      "The training r_sq is: 0.99\n"
     ]
    }
   ],
   "source": [
    "# The training r_sq\n",
    "\n",
    "print('The training r_sq is: %.2f'% RF_model.score(X_train,y_train))"
   ]
  },
  {
   "cell_type": "code",
   "execution_count": 192,
   "id": "f4ac1956",
   "metadata": {},
   "outputs": [],
   "source": [
    "# Precition on the training data\n",
    "\n",
    "y_train_pred_RF=RF_model.predict(X_train)"
   ]
  },
  {
   "cell_type": "code",
   "execution_count": 194,
   "id": "3edcd87d",
   "metadata": {},
   "outputs": [
    {
     "name": "stdout",
     "output_type": "stream",
     "text": [
      "The MAE is: 65.44\n"
     ]
    }
   ],
   "source": [
    "# The MAE\n",
    "\n",
    "print('The MAE is: %.2f'% mean_absolute_error(y_train,y_train_pred_RF))"
   ]
  },
  {
   "cell_type": "code",
   "execution_count": 195,
   "id": "b4e1e3c6",
   "metadata": {},
   "outputs": [
    {
     "name": "stdout",
     "output_type": "stream",
     "text": [
      "The RMSE is:103.59\n"
     ]
    }
   ],
   "source": [
    "# The RMSE\n",
    "print('The RMSE is:%.2f'% np.sqrt(mean_squared_error(y_train,y_train_pred_RF)))"
   ]
  },
  {
   "cell_type": "code",
   "execution_count": 196,
   "id": "5d56aed8",
   "metadata": {},
   "outputs": [
    {
     "name": "stdout",
     "output_type": "stream",
     "text": [
      "The EVS is: 0.99\n"
     ]
    }
   ],
   "source": [
    "# The EVS\n",
    "print('The EVS is: %.2f'% explained_variance_score(y_train,y_train_pred_RF))"
   ]
  },
  {
   "cell_type": "code",
   "execution_count": 197,
   "id": "8b9bd745",
   "metadata": {},
   "outputs": [],
   "source": [
    "# Preduiction on the testing data\n",
    "\n",
    "y_test_pred_RF=RF_model.predict(X_test)"
   ]
  },
  {
   "cell_type": "code",
   "execution_count": 199,
   "id": "ea6bef5a",
   "metadata": {},
   "outputs": [
    {
     "name": "stdout",
     "output_type": "stream",
     "text": [
      "The testing r_sq is: 0.93\n"
     ]
    }
   ],
   "source": [
    "# The testing coefficinet of determinination\n",
    "\n",
    "print('The testing r_sq is: %.2f'% r2_score(y_test,y_test_pred_RF))"
   ]
  },
  {
   "cell_type": "code",
   "execution_count": 200,
   "id": "05873ea2",
   "metadata": {},
   "outputs": [
    {
     "name": "stdout",
     "output_type": "stream",
     "text": [
      "The testing r_sq is: 0.93\n"
     ]
    }
   ],
   "source": [
    "# Or\n",
    "\n",
    "print('The testing r_sq is: %.2f'% RF_model.score(X_test,y_test))"
   ]
  },
  {
   "cell_type": "code",
   "execution_count": 201,
   "id": "a43201e7",
   "metadata": {},
   "outputs": [],
   "source": [
    "# The metrics"
   ]
  },
  {
   "cell_type": "code",
   "execution_count": 202,
   "id": "2bd6044d",
   "metadata": {},
   "outputs": [
    {
     "name": "stdout",
     "output_type": "stream",
     "text": [
      "The MAE is:178.91\n"
     ]
    }
   ],
   "source": [
    "# The MAE \n",
    "print('The MAE is:%.2f'% mean_absolute_error(y_test,y_test_pred_RF))"
   ]
  },
  {
   "cell_type": "code",
   "execution_count": 203,
   "id": "f5a30566",
   "metadata": {},
   "outputs": [
    {
     "name": "stdout",
     "output_type": "stream",
     "text": [
      "The MSE is: 74585.81\n"
     ]
    }
   ],
   "source": [
    "# MSE\n",
    "print('The MSE is: %.2f'% mean_squared_error(y_test,y_test_pred_RF))"
   ]
  },
  {
   "cell_type": "code",
   "execution_count": 204,
   "id": "bf1473a6",
   "metadata": {},
   "outputs": [
    {
     "name": "stdout",
     "output_type": "stream",
     "text": [
      "The RMSE is: 273.10\n"
     ]
    }
   ],
   "source": [
    "# The RMSE\n",
    "print('The RMSE is: %.2f'% np.sqrt(mean_squared_error(y_test,y_test_pred_RF)))"
   ]
  },
  {
   "cell_type": "code",
   "execution_count": 205,
   "id": "70886d05",
   "metadata": {},
   "outputs": [
    {
     "name": "stdout",
     "output_type": "stream",
     "text": [
      "The EVS is: 0.93\n"
     ]
    }
   ],
   "source": [
    "# The EVS\n",
    "\n",
    "print('The EVS is: %.2f'% explained_variance_score(y_test,y_test_pred_RF))"
   ]
  },
  {
   "cell_type": "code",
   "execution_count": 209,
   "id": "0f24c342",
   "metadata": {},
   "outputs": [
    {
     "data": {
      "image/png": "[encoded data removed]",
      "text/plain": [
       "<Figure size 1440x576 with 1 Axes>"
      ]
     },
     "metadata": {},
     "output_type": "display_data"
    }
   ],
   "source": [
    "# Plotting the Observed and Predicted data\n",
    "# Setting the boindaries and parameters\n",
    "\n",
    "\n",
    "plt.rcParams['figure.figsize']=(20,8)\n",
    "x_ax=range(len(X_test))\n",
    "# Plotting\n",
    "\n",
    "plt.plot(x_ax,y_test,label='Observed',color='k',linestyle='-');\n",
    "plt.plot(x_ax,y_test_pred_RF,label='Predicted',color='g',linestyle='--')\n",
    "plt.ylabel('Agent_Bonus_per_Policy')\n",
    "plt.xlabel('Test data sample')\n",
    "plt.legend(bbox_to_anchor=(0.5,-0.2),loc='lower center',ncol=2,frameon=False)\n",
    "plt.show()"
   ]
  },
  {
   "cell_type": "code",
   "execution_count": 211,
   "id": "0a2590a9",
   "metadata": {},
   "outputs": [
    {
     "data": {
      "image/png": "[encoded data removed]",
      "text/plain": [
       "<Figure size 1440x576 with 1 Axes>"
      ]
     },
     "metadata": {},
     "output_type": "display_data"
    },
    {
     "data": {
      "text/plain": [
       "<AxesSubplot:title={'center':'Prediction Error for RandomForestRegressor'}, xlabel='$y$', ylabel='$\\\\hat{y}$'>"
      ]
     },
     "execution_count": 211,
     "metadata": {},
     "output_type": "execute_result"
    }
   ],
   "source": [
    "# Plotting the Residual Errors and Residuals\n",
    "\n",
    "# Prediction errors train data...\n",
    "\n",
    "from yellowbrick.regressor import PredictionError\n",
    "\n",
    "visualizer=PredictionError(RF_model)\n",
    "visualizer.fit(X_train,y_train)\n",
    "visualizer.score(X_test,y_test_pred_RF)\n",
    "visualizer.poof()"
   ]
  },
  {
   "cell_type": "code",
   "execution_count": 213,
   "id": "a1434805",
   "metadata": {},
   "outputs": [
    {
     "data": {
      "image/png": "[encoded data removed]",
      "text/plain": [
       "<Figure size 1440x576 with 2 Axes>"
      ]
     },
     "metadata": {},
     "output_type": "display_data"
    },
    {
     "data": {
      "text/plain": [
       "<AxesSubplot:title={'center':'Residuals for RandomForestRegressor Model'}, xlabel='Predicted Value', ylabel='Residuals'>"
      ]
     },
     "execution_count": 213,
     "metadata": {},
     "output_type": "execute_result"
    }
   ],
   "source": [
    "# Plotting the residuals\n",
    "\n",
    "visualizer=ResidualsPlot(RF_model)\n",
    "visualizer.fit(X_train,y_train_pred_RF)\n",
    "visualizer.score(X_test,y_test_pred_RF)\n",
    "visualizer.poof()"
   ]
  },
  {
   "cell_type": "code",
   "execution_count": 222,
   "id": "3bbb91bb",
   "metadata": {},
   "outputs": [],
   "source": [
    "# K-fold cross solution\n",
    "\n",
    "from sklearn.model_selection import cross_val_score"
   ]
  },
  {
   "cell_type": "code",
   "execution_count": 223,
   "id": "501d5532",
   "metadata": {},
   "outputs": [],
   "source": [
    "# Training model CV \n",
    "\n",
    "score_train_RF_MSE=cross_val_score(RF_model,X_train,y_train,scoring='neg_mean_squared_error',cv=10)"
   ]
  },
  {
   "cell_type": "code",
   "execution_count": 224,
   "id": "1b9e34d7",
   "metadata": {},
   "outputs": [
    {
     "data": {
      "text/plain": [
       "array([-50766.30594474, -58481.20359701, -68380.20090307, -63425.29636599,\n",
       "       -68410.2245211 , -56682.95341569, -84725.7571444 , -74326.17327241,\n",
       "       -98050.7839241 , -70727.45289247])"
      ]
     },
     "execution_count": 224,
     "metadata": {},
     "output_type": "execute_result"
    }
   ],
   "source": [
    "score_train_RF_MSE"
   ]
  },
  {
   "cell_type": "code",
   "execution_count": 225,
   "id": "512f693f",
   "metadata": {},
   "outputs": [
    {
     "data": {
      "text/plain": [
       "69397.63519809759"
      ]
     },
     "execution_count": 225,
     "metadata": {},
     "output_type": "execute_result"
    }
   ],
   "source": [
    "score_train_RF_MSE=absolute(np.mean(score_train_RF_MSE))\n",
    "score_train_RF_MSE"
   ]
  },
  {
   "cell_type": "code",
   "execution_count": 226,
   "id": "1897a1f8",
   "metadata": {},
   "outputs": [],
   "source": [
    "# Testing model CV \n",
    "\n",
    "score_test_RF_MSE=cross_val_score(RF_model,X_test,y_test,scoring='neg_mean_squared_error',cv=10)"
   ]
  },
  {
   "cell_type": "code",
   "execution_count": 227,
   "id": "d5fb955c",
   "metadata": {},
   "outputs": [
    {
     "data": {
      "text/plain": [
       "97978.19373001863"
      ]
     },
     "execution_count": 227,
     "metadata": {},
     "output_type": "execute_result"
    }
   ],
   "source": [
    "score_test_RF_MSE=absolute(np.mean(score_test_RF_MSE))\n",
    "score_test_RF_MSE"
   ]
  },
  {
   "cell_type": "code",
   "execution_count": 234,
   "id": "2c51ca0b",
   "metadata": {},
   "outputs": [],
   "source": [
    "# Random Forest Feature Rankings..\n",
    "from sklearn.pipeline import Pipeline"
   ]
  },
  {
   "cell_type": "code",
   "execution_count": 236,
   "id": "416fdebc",
   "metadata": {},
   "outputs": [],
   "source": [
    "f_list_RF=list(X.columns)\n",
    "f_importance_RF=pd.Series(RF_model.feature_importances_,index=f_list_RF).sort_values(ascending=False)"
   ]
  },
  {
   "cell_type": "code",
   "execution_count": 237,
   "id": "94d97722",
   "metadata": {},
   "outputs": [
    {
     "name": "stdout",
     "output_type": "stream",
     "text": [
      "Sum_assured_Per_Policy    0.909962\n",
      "NumberOfPolicy            0.021229\n",
      "Age                       0.017367\n",
      "MonthlyIncome             0.015318\n",
      "CustTenure                0.014023\n",
      "ExistingPolicyTenure      0.008885\n",
      "Designation               0.002485\n",
      "EducationField            0.002104\n",
      "PaymentMethod             0.001771\n",
      "MaritalStatus             0.001656\n",
      "Zone                      0.001361\n",
      "Occupation                0.001337\n",
      "Channel                   0.001308\n",
      "Gender                    0.001195\n",
      "dtype: float64\n"
     ]
    }
   ],
   "source": [
    "print(f_importance_RF)"
   ]
  },
  {
   "cell_type": "code",
   "execution_count": null,
   "id": "40607d0f",
   "metadata": {},
   "outputs": [],
   "source": []
  }
 ],
 "metadata": {
  "kernelspec": {
   "display_name": "Python 3",
   "language": "python",
   "name": "python3"
  },
  "language_info": {
   "codemirror_mode": {
    "name": "ipython",
    "version": 3
   },
   "file_extension": ".py",
   "mimetype": "text/x-python",
   "name": "python",
   "nbconvert_exporter": "python",
   "pygments_lexer": "ipython3",
   "version": "3.8.8"
  }
 },
 "nbformat": 4,
 "nbformat_minor": 5
}
