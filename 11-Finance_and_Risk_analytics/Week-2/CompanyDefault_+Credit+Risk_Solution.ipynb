{
 "cells": [
  {
   "cell_type": "markdown",
   "metadata": {},
   "source": [
    "# Company Default Data"
   ]
  },
  {
   "cell_type": "code",
   "execution_count": 1,
   "metadata": {},
   "outputs": [],
   "source": [
    "# Importing the libraries\n",
    "import numpy as np\n",
    "import matplotlib.pyplot as plt\n",
    "import pandas as pd\n",
    "import seaborn as sns # for making plots with seaborn\n",
    "color = sns.color_palette()\n",
    "import sklearn.metrics as metrics\n",
    "\n",
    "import warnings\n",
    "warnings.filterwarnings(\"ignore\")"
   ]
  },
  {
   "cell_type": "markdown",
   "metadata": {},
   "source": [
    "Let us now go ahead and read the dataset and check the first five rows of the dataset."
   ]
  },
  {
   "cell_type": "markdown",
   "metadata": {},
   "source": [
    "#### Importing the dataset"
   ]
  },
  {
   "cell_type": "code",
   "execution_count": 2,
   "metadata": {},
   "outputs": [
    {
     "data": {
      "text/html": [
       "<div>\n",
       "<style scoped>\n",
       "    .dataframe tbody tr th:only-of-type {\n",
       "        vertical-align: middle;\n",
       "    }\n",
       "\n",
       "    .dataframe tbody tr th {\n",
       "        vertical-align: top;\n",
       "    }\n",
       "\n",
       "    .dataframe thead th {\n",
       "        text-align: right;\n",
       "    }\n",
       "</style>\n",
       "<table border=\"1\" class=\"dataframe\">\n",
       "  <thead>\n",
       "    <tr style=\"text-align: right;\">\n",
       "      <th></th>\n",
       "      <th>Num</th>\n",
       "      <th>Networth Next Year</th>\n",
       "      <th>Total assets</th>\n",
       "      <th>Net worth</th>\n",
       "      <th>Total income</th>\n",
       "      <th>Change in stock</th>\n",
       "      <th>Total expenses</th>\n",
       "      <th>Profit after tax</th>\n",
       "      <th>PBDITA</th>\n",
       "      <th>PBT</th>\n",
       "      <th>...</th>\n",
       "      <th>Debtors turnover</th>\n",
       "      <th>Finished goods turnover</th>\n",
       "      <th>WIP turnover</th>\n",
       "      <th>Raw material turnover</th>\n",
       "      <th>Shares outstanding</th>\n",
       "      <th>Equity face value</th>\n",
       "      <th>EPS</th>\n",
       "      <th>Adjusted EPS</th>\n",
       "      <th>Total liabilities</th>\n",
       "      <th>PE on BSE</th>\n",
       "    </tr>\n",
       "  </thead>\n",
       "  <tbody>\n",
       "    <tr>\n",
       "      <th>0</th>\n",
       "      <td>1</td>\n",
       "      <td>8890.6</td>\n",
       "      <td>17512.3</td>\n",
       "      <td>7093.2</td>\n",
       "      <td>24965.2</td>\n",
       "      <td>235.8</td>\n",
       "      <td>23657.8</td>\n",
       "      <td>1543.2</td>\n",
       "      <td>2860.2</td>\n",
       "      <td>2417.2</td>\n",
       "      <td>...</td>\n",
       "      <td>3.85</td>\n",
       "      <td>200.55</td>\n",
       "      <td>21.78</td>\n",
       "      <td>7.71</td>\n",
       "      <td>42381675.0</td>\n",
       "      <td>10.0</td>\n",
       "      <td>35.52</td>\n",
       "      <td>7.10</td>\n",
       "      <td>17512.3</td>\n",
       "      <td>27.31</td>\n",
       "    </tr>\n",
       "    <tr>\n",
       "      <th>1</th>\n",
       "      <td>2</td>\n",
       "      <td>394.3</td>\n",
       "      <td>941.0</td>\n",
       "      <td>351.5</td>\n",
       "      <td>1527.4</td>\n",
       "      <td>42.7</td>\n",
       "      <td>1454.9</td>\n",
       "      <td>115.2</td>\n",
       "      <td>283.0</td>\n",
       "      <td>188.4</td>\n",
       "      <td>...</td>\n",
       "      <td>5.70</td>\n",
       "      <td>14.21</td>\n",
       "      <td>7.49</td>\n",
       "      <td>11.46</td>\n",
       "      <td>11550000.0</td>\n",
       "      <td>10.0</td>\n",
       "      <td>9.97</td>\n",
       "      <td>9.97</td>\n",
       "      <td>941.0</td>\n",
       "      <td>8.17</td>\n",
       "    </tr>\n",
       "    <tr>\n",
       "      <th>2</th>\n",
       "      <td>3</td>\n",
       "      <td>92.2</td>\n",
       "      <td>232.8</td>\n",
       "      <td>100.6</td>\n",
       "      <td>477.3</td>\n",
       "      <td>-5.2</td>\n",
       "      <td>478.7</td>\n",
       "      <td>-6.6</td>\n",
       "      <td>5.8</td>\n",
       "      <td>-6.6</td>\n",
       "      <td>...</td>\n",
       "      <td>5.07</td>\n",
       "      <td>9.24</td>\n",
       "      <td>0.23</td>\n",
       "      <td>NaN</td>\n",
       "      <td>8149090.0</td>\n",
       "      <td>10.0</td>\n",
       "      <td>-0.50</td>\n",
       "      <td>-0.50</td>\n",
       "      <td>232.8</td>\n",
       "      <td>-5.76</td>\n",
       "    </tr>\n",
       "    <tr>\n",
       "      <th>3</th>\n",
       "      <td>4</td>\n",
       "      <td>2.7</td>\n",
       "      <td>2.7</td>\n",
       "      <td>2.7</td>\n",
       "      <td>NaN</td>\n",
       "      <td>NaN</td>\n",
       "      <td>NaN</td>\n",
       "      <td>NaN</td>\n",
       "      <td>NaN</td>\n",
       "      <td>NaN</td>\n",
       "      <td>...</td>\n",
       "      <td>0.00</td>\n",
       "      <td>NaN</td>\n",
       "      <td>NaN</td>\n",
       "      <td>0.00</td>\n",
       "      <td>52404.0</td>\n",
       "      <td>10.0</td>\n",
       "      <td>0.00</td>\n",
       "      <td>0.00</td>\n",
       "      <td>2.7</td>\n",
       "      <td>NaN</td>\n",
       "    </tr>\n",
       "    <tr>\n",
       "      <th>4</th>\n",
       "      <td>5</td>\n",
       "      <td>109.0</td>\n",
       "      <td>478.5</td>\n",
       "      <td>107.6</td>\n",
       "      <td>1580.5</td>\n",
       "      <td>-17.0</td>\n",
       "      <td>1558.0</td>\n",
       "      <td>5.5</td>\n",
       "      <td>31.0</td>\n",
       "      <td>6.3</td>\n",
       "      <td>...</td>\n",
       "      <td>9.46</td>\n",
       "      <td>12.68</td>\n",
       "      <td>7.90</td>\n",
       "      <td>17.03</td>\n",
       "      <td>619635.0</td>\n",
       "      <td>10.0</td>\n",
       "      <td>7.91</td>\n",
       "      <td>7.91</td>\n",
       "      <td>478.5</td>\n",
       "      <td>NaN</td>\n",
       "    </tr>\n",
       "  </tbody>\n",
       "</table>\n",
       "<p>5 rows × 52 columns</p>\n",
       "</div>"
      ],
      "text/plain": [
       "   Num  Networth Next Year  Total assets  Net worth  Total income  \\\n",
       "0    1              8890.6       17512.3     7093.2       24965.2   \n",
       "1    2               394.3         941.0      351.5        1527.4   \n",
       "2    3                92.2         232.8      100.6         477.3   \n",
       "3    4                 2.7           2.7        2.7           NaN   \n",
       "4    5               109.0         478.5      107.6        1580.5   \n",
       "\n",
       "   Change in stock  Total expenses  Profit after tax  PBDITA     PBT  ...  \\\n",
       "0            235.8         23657.8            1543.2  2860.2  2417.2  ...   \n",
       "1             42.7          1454.9             115.2   283.0   188.4  ...   \n",
       "2             -5.2           478.7              -6.6     5.8    -6.6  ...   \n",
       "3              NaN             NaN               NaN     NaN     NaN  ...   \n",
       "4            -17.0          1558.0               5.5    31.0     6.3  ...   \n",
       "\n",
       "   Debtors turnover  Finished goods turnover  WIP turnover  \\\n",
       "0              3.85                   200.55         21.78   \n",
       "1              5.70                    14.21          7.49   \n",
       "2              5.07                     9.24          0.23   \n",
       "3              0.00                      NaN           NaN   \n",
       "4              9.46                    12.68          7.90   \n",
       "\n",
       "   Raw material turnover  Shares outstanding  Equity face value    EPS  \\\n",
       "0                   7.71          42381675.0               10.0  35.52   \n",
       "1                  11.46          11550000.0               10.0   9.97   \n",
       "2                    NaN           8149090.0               10.0  -0.50   \n",
       "3                   0.00             52404.0               10.0   0.00   \n",
       "4                  17.03            619635.0               10.0   7.91   \n",
       "\n",
       "   Adjusted EPS  Total liabilities  PE on BSE  \n",
       "0          7.10            17512.3      27.31  \n",
       "1          9.97              941.0       8.17  \n",
       "2         -0.50              232.8      -5.76  \n",
       "3          0.00                2.7        NaN  \n",
       "4          7.91              478.5        NaN  \n",
       "\n",
       "[5 rows x 52 columns]"
      ]
     },
     "execution_count": 2,
     "metadata": {},
     "output_type": "execute_result"
    }
   ],
   "source": [
    "Company = pd.read_csv('Company data.csv')\n",
    "\n",
    "#Glimpse of Data\n",
    "Company.head()"
   ]
  },
  {
   "cell_type": "markdown",
   "metadata": {},
   "source": [
    "#### Fixing messy column names (containing spaces) for ease of use"
   ]
  },
  {
   "cell_type": "code",
   "execution_count": 3,
   "metadata": {},
   "outputs": [],
   "source": [
    "Company.columns = Company.columns.str.replace(' ', '_').str.replace('(', '').str.replace(')', '').str.replace('%', 'perc').str.replace('/', '_to_')"
   ]
  },
  {
   "cell_type": "markdown",
   "metadata": {},
   "source": [
    "#### Checking top 5 rows again"
   ]
  },
  {
   "cell_type": "code",
   "execution_count": 4,
   "metadata": {},
   "outputs": [
    {
     "data": {
      "text/html": [
       "<div>\n",
       "<style scoped>\n",
       "    .dataframe tbody tr th:only-of-type {\n",
       "        vertical-align: middle;\n",
       "    }\n",
       "\n",
       "    .dataframe tbody tr th {\n",
       "        vertical-align: top;\n",
       "    }\n",
       "\n",
       "    .dataframe thead th {\n",
       "        text-align: right;\n",
       "    }\n",
       "</style>\n",
       "<table border=\"1\" class=\"dataframe\">\n",
       "  <thead>\n",
       "    <tr style=\"text-align: right;\">\n",
       "      <th></th>\n",
       "      <th>Num</th>\n",
       "      <th>Networth_Next_Year</th>\n",
       "      <th>Total_assets</th>\n",
       "      <th>Net_worth</th>\n",
       "      <th>Total_income</th>\n",
       "      <th>Change_in_stock</th>\n",
       "      <th>Total_expenses</th>\n",
       "      <th>Profit_after_tax</th>\n",
       "      <th>PBDITA</th>\n",
       "      <th>PBT</th>\n",
       "      <th>...</th>\n",
       "      <th>Debtors_turnover</th>\n",
       "      <th>Finished_goods_turnover</th>\n",
       "      <th>WIP_turnover</th>\n",
       "      <th>Raw_material_turnover</th>\n",
       "      <th>Shares_outstanding</th>\n",
       "      <th>Equity_face_value</th>\n",
       "      <th>EPS</th>\n",
       "      <th>Adjusted_EPS</th>\n",
       "      <th>Total_liabilities</th>\n",
       "      <th>PE_on_BSE</th>\n",
       "    </tr>\n",
       "  </thead>\n",
       "  <tbody>\n",
       "    <tr>\n",
       "      <th>0</th>\n",
       "      <td>1</td>\n",
       "      <td>8890.6</td>\n",
       "      <td>17512.3</td>\n",
       "      <td>7093.2</td>\n",
       "      <td>24965.2</td>\n",
       "      <td>235.8</td>\n",
       "      <td>23657.8</td>\n",
       "      <td>1543.2</td>\n",
       "      <td>2860.2</td>\n",
       "      <td>2417.2</td>\n",
       "      <td>...</td>\n",
       "      <td>3.85</td>\n",
       "      <td>200.55</td>\n",
       "      <td>21.78</td>\n",
       "      <td>7.71</td>\n",
       "      <td>42381675.0</td>\n",
       "      <td>10.0</td>\n",
       "      <td>35.52</td>\n",
       "      <td>7.10</td>\n",
       "      <td>17512.3</td>\n",
       "      <td>27.31</td>\n",
       "    </tr>\n",
       "    <tr>\n",
       "      <th>1</th>\n",
       "      <td>2</td>\n",
       "      <td>394.3</td>\n",
       "      <td>941.0</td>\n",
       "      <td>351.5</td>\n",
       "      <td>1527.4</td>\n",
       "      <td>42.7</td>\n",
       "      <td>1454.9</td>\n",
       "      <td>115.2</td>\n",
       "      <td>283.0</td>\n",
       "      <td>188.4</td>\n",
       "      <td>...</td>\n",
       "      <td>5.70</td>\n",
       "      <td>14.21</td>\n",
       "      <td>7.49</td>\n",
       "      <td>11.46</td>\n",
       "      <td>11550000.0</td>\n",
       "      <td>10.0</td>\n",
       "      <td>9.97</td>\n",
       "      <td>9.97</td>\n",
       "      <td>941.0</td>\n",
       "      <td>8.17</td>\n",
       "    </tr>\n",
       "    <tr>\n",
       "      <th>2</th>\n",
       "      <td>3</td>\n",
       "      <td>92.2</td>\n",
       "      <td>232.8</td>\n",
       "      <td>100.6</td>\n",
       "      <td>477.3</td>\n",
       "      <td>-5.2</td>\n",
       "      <td>478.7</td>\n",
       "      <td>-6.6</td>\n",
       "      <td>5.8</td>\n",
       "      <td>-6.6</td>\n",
       "      <td>...</td>\n",
       "      <td>5.07</td>\n",
       "      <td>9.24</td>\n",
       "      <td>0.23</td>\n",
       "      <td>NaN</td>\n",
       "      <td>8149090.0</td>\n",
       "      <td>10.0</td>\n",
       "      <td>-0.50</td>\n",
       "      <td>-0.50</td>\n",
       "      <td>232.8</td>\n",
       "      <td>-5.76</td>\n",
       "    </tr>\n",
       "    <tr>\n",
       "      <th>3</th>\n",
       "      <td>4</td>\n",
       "      <td>2.7</td>\n",
       "      <td>2.7</td>\n",
       "      <td>2.7</td>\n",
       "      <td>NaN</td>\n",
       "      <td>NaN</td>\n",
       "      <td>NaN</td>\n",
       "      <td>NaN</td>\n",
       "      <td>NaN</td>\n",
       "      <td>NaN</td>\n",
       "      <td>...</td>\n",
       "      <td>0.00</td>\n",
       "      <td>NaN</td>\n",
       "      <td>NaN</td>\n",
       "      <td>0.00</td>\n",
       "      <td>52404.0</td>\n",
       "      <td>10.0</td>\n",
       "      <td>0.00</td>\n",
       "      <td>0.00</td>\n",
       "      <td>2.7</td>\n",
       "      <td>NaN</td>\n",
       "    </tr>\n",
       "    <tr>\n",
       "      <th>4</th>\n",
       "      <td>5</td>\n",
       "      <td>109.0</td>\n",
       "      <td>478.5</td>\n",
       "      <td>107.6</td>\n",
       "      <td>1580.5</td>\n",
       "      <td>-17.0</td>\n",
       "      <td>1558.0</td>\n",
       "      <td>5.5</td>\n",
       "      <td>31.0</td>\n",
       "      <td>6.3</td>\n",
       "      <td>...</td>\n",
       "      <td>9.46</td>\n",
       "      <td>12.68</td>\n",
       "      <td>7.90</td>\n",
       "      <td>17.03</td>\n",
       "      <td>619635.0</td>\n",
       "      <td>10.0</td>\n",
       "      <td>7.91</td>\n",
       "      <td>7.91</td>\n",
       "      <td>478.5</td>\n",
       "      <td>NaN</td>\n",
       "    </tr>\n",
       "  </tbody>\n",
       "</table>\n",
       "<p>5 rows × 52 columns</p>\n",
       "</div>"
      ],
      "text/plain": [
       "   Num  Networth_Next_Year  Total_assets  Net_worth  Total_income  \\\n",
       "0    1              8890.6       17512.3     7093.2       24965.2   \n",
       "1    2               394.3         941.0      351.5        1527.4   \n",
       "2    3                92.2         232.8      100.6         477.3   \n",
       "3    4                 2.7           2.7        2.7           NaN   \n",
       "4    5               109.0         478.5      107.6        1580.5   \n",
       "\n",
       "   Change_in_stock  Total_expenses  Profit_after_tax  PBDITA     PBT  ...  \\\n",
       "0            235.8         23657.8            1543.2  2860.2  2417.2  ...   \n",
       "1             42.7          1454.9             115.2   283.0   188.4  ...   \n",
       "2             -5.2           478.7              -6.6     5.8    -6.6  ...   \n",
       "3              NaN             NaN               NaN     NaN     NaN  ...   \n",
       "4            -17.0          1558.0               5.5    31.0     6.3  ...   \n",
       "\n",
       "   Debtors_turnover  Finished_goods_turnover  WIP_turnover  \\\n",
       "0              3.85                   200.55         21.78   \n",
       "1              5.70                    14.21          7.49   \n",
       "2              5.07                     9.24          0.23   \n",
       "3              0.00                      NaN           NaN   \n",
       "4              9.46                    12.68          7.90   \n",
       "\n",
       "   Raw_material_turnover  Shares_outstanding  Equity_face_value    EPS  \\\n",
       "0                   7.71          42381675.0               10.0  35.52   \n",
       "1                  11.46          11550000.0               10.0   9.97   \n",
       "2                    NaN           8149090.0               10.0  -0.50   \n",
       "3                   0.00             52404.0               10.0   0.00   \n",
       "4                  17.03            619635.0               10.0   7.91   \n",
       "\n",
       "   Adjusted_EPS  Total_liabilities  PE_on_BSE  \n",
       "0          7.10            17512.3      27.31  \n",
       "1          9.97              941.0       8.17  \n",
       "2         -0.50              232.8      -5.76  \n",
       "3          0.00                2.7        NaN  \n",
       "4          7.91              478.5        NaN  \n",
       "\n",
       "[5 rows x 52 columns]"
      ]
     },
     "execution_count": 4,
     "metadata": {},
     "output_type": "execute_result"
    }
   ],
   "source": [
    "Company.head()"
   ]
  },
  {
   "cell_type": "markdown",
   "metadata": {},
   "source": [
    "#### Now, let us check the number of rows (observations) and the number of columns (variables)"
   ]
  },
  {
   "cell_type": "code",
   "execution_count": 5,
   "metadata": {},
   "outputs": [
    {
     "name": "stdout",
     "output_type": "stream",
     "text": [
      "The number of rows (observations) is 3541 \n",
      "The number of columns (variables) is 52\n"
     ]
    }
   ],
   "source": [
    "print('The number of rows (observations) is',Company.shape[0],'\\n''The number of columns (variables) is',Company.shape[1])"
   ]
  },
  {
   "cell_type": "markdown",
   "metadata": {},
   "source": [
    "#### Checking datatype of all columns"
   ]
  },
  {
   "cell_type": "code",
   "execution_count": 6,
   "metadata": {},
   "outputs": [
    {
     "name": "stdout",
     "output_type": "stream",
     "text": [
      "<class 'pandas.core.frame.DataFrame'>\n",
      "RangeIndex: 3541 entries, 0 to 3540\n",
      "Data columns (total 52 columns):\n",
      " #   Column                                          Non-Null Count  Dtype  \n",
      "---  ------                                          --------------  -----  \n",
      " 0   Num                                             3541 non-null   int64  \n",
      " 1   Networth_Next_Year                              3541 non-null   float64\n",
      " 2   Total_assets                                    3541 non-null   float64\n",
      " 3   Net_worth                                       3541 non-null   float64\n",
      " 4   Total_income                                    3343 non-null   float64\n",
      " 5   Change_in_stock                                 3083 non-null   float64\n",
      " 6   Total_expenses                                  3402 non-null   float64\n",
      " 7   Profit_after_tax                                3410 non-null   float64\n",
      " 8   PBDITA                                          3410 non-null   float64\n",
      " 9   PBT                                             3410 non-null   float64\n",
      " 10  Cash_profit                                     3410 non-null   float64\n",
      " 11  PBDITA_as_perc_of_total_income                  3473 non-null   float64\n",
      " 12  PBT_as_perc_of_total_income                     3473 non-null   float64\n",
      " 13  PAT_as_perc_of_total_income                     3473 non-null   float64\n",
      " 14  Cash_profit_as_perc_of_total_income             3473 non-null   float64\n",
      " 15  PAT_as_perc_of_net_worth                        3541 non-null   float64\n",
      " 16  Sales                                           3282 non-null   float64\n",
      " 17  Income_from_financial_services                  2606 non-null   float64\n",
      " 18  Other_income                                    2246 non-null   float64\n",
      " 19  Total_capital                                   3537 non-null   float64\n",
      " 20  Reserves_and_funds                              3456 non-null   float64\n",
      " 21  Deposits_accepted_by_commercial_banks           0 non-null      float64\n",
      " 22  Borrowings                                      3175 non-null   float64\n",
      " 23  Current_liabilities_&_provisions                3445 non-null   float64\n",
      " 24  Deferred_tax_liability                          2401 non-null   float64\n",
      " 25  Shareholders_funds                              3541 non-null   float64\n",
      " 26  Cumulative_retained_profits                     3503 non-null   float64\n",
      " 27  Capital_employed                                3541 non-null   float64\n",
      " 28  TOL_to_TNW                                      3541 non-null   float64\n",
      " 29  Total_term_liabilities__to__tangible_net_worth  3541 non-null   float64\n",
      " 30  Contingent_liabilities__to__Net_worth_perc      3541 non-null   float64\n",
      " 31  Contingent_liabilities                          2353 non-null   float64\n",
      " 32  Net_fixed_assets                                3423 non-null   float64\n",
      " 33  Investments                                     2106 non-null   float64\n",
      " 34  Current_assets                                  3475 non-null   float64\n",
      " 35  Net_working_capital                             3509 non-null   float64\n",
      " 36  Quick_ratio_times                               3448 non-null   float64\n",
      " 37  Current_ratio_times                             3448 non-null   float64\n",
      " 38  Debt_to_equity_ratio_times                      3541 non-null   float64\n",
      " 39  Cash_to_current_liabilities_times               3448 non-null   float64\n",
      " 40  Cash_to_average_cost_of_sales_per_day           3456 non-null   float64\n",
      " 41  Creditors_turnover                              3208 non-null   float64\n",
      " 42  Debtors_turnover                                3213 non-null   float64\n",
      " 43  Finished_goods_turnover                         2801 non-null   float64\n",
      " 44  WIP_turnover                                    2901 non-null   float64\n",
      " 45  Raw_material_turnover                           3180 non-null   float64\n",
      " 46  Shares_outstanding                              2849 non-null   float64\n",
      " 47  Equity_face_value                               2849 non-null   float64\n",
      " 48  EPS                                             3541 non-null   float64\n",
      " 49  Adjusted_EPS                                    3541 non-null   float64\n",
      " 50  Total_liabilities                               3541 non-null   float64\n",
      " 51  PE_on_BSE                                       1347 non-null   float64\n",
      "dtypes: float64(51), int64(1)\n",
      "memory usage: 1.4 MB\n"
     ]
    }
   ],
   "source": [
    "Company.info()"
   ]
  },
  {
   "cell_type": "markdown",
   "metadata": {},
   "source": [
    "#### Now, let us check the basic measures of descriptive statistics for the continuous variables"
   ]
  },
  {
   "cell_type": "code",
   "execution_count": 7,
   "metadata": {
    "scrolled": true
   },
   "outputs": [
    {
     "data": {
      "text/html": [
       "<div>\n",
       "<style scoped>\n",
       "    .dataframe tbody tr th:only-of-type {\n",
       "        vertical-align: middle;\n",
       "    }\n",
       "\n",
       "    .dataframe tbody tr th {\n",
       "        vertical-align: top;\n",
       "    }\n",
       "\n",
       "    .dataframe thead th {\n",
       "        text-align: right;\n",
       "    }\n",
       "</style>\n",
       "<table border=\"1\" class=\"dataframe\">\n",
       "  <thead>\n",
       "    <tr style=\"text-align: right;\">\n",
       "      <th></th>\n",
       "      <th>Num</th>\n",
       "      <th>Networth_Next_Year</th>\n",
       "      <th>Total_assets</th>\n",
       "      <th>Net_worth</th>\n",
       "      <th>Total_income</th>\n",
       "      <th>Change_in_stock</th>\n",
       "      <th>Total_expenses</th>\n",
       "      <th>Profit_after_tax</th>\n",
       "      <th>PBDITA</th>\n",
       "      <th>PBT</th>\n",
       "      <th>...</th>\n",
       "      <th>Debtors_turnover</th>\n",
       "      <th>Finished_goods_turnover</th>\n",
       "      <th>WIP_turnover</th>\n",
       "      <th>Raw_material_turnover</th>\n",
       "      <th>Shares_outstanding</th>\n",
       "      <th>Equity_face_value</th>\n",
       "      <th>EPS</th>\n",
       "      <th>Adjusted_EPS</th>\n",
       "      <th>Total_liabilities</th>\n",
       "      <th>PE_on_BSE</th>\n",
       "    </tr>\n",
       "  </thead>\n",
       "  <tbody>\n",
       "    <tr>\n",
       "      <th>count</th>\n",
       "      <td>3541.000000</td>\n",
       "      <td>3541.000000</td>\n",
       "      <td>3.541000e+03</td>\n",
       "      <td>3541.000000</td>\n",
       "      <td>3.343000e+03</td>\n",
       "      <td>3083.000000</td>\n",
       "      <td>3.402000e+03</td>\n",
       "      <td>3410.00000</td>\n",
       "      <td>3410.000000</td>\n",
       "      <td>3410.000000</td>\n",
       "      <td>...</td>\n",
       "      <td>3213.000000</td>\n",
       "      <td>2801.000000</td>\n",
       "      <td>2901.000000</td>\n",
       "      <td>3180.000000</td>\n",
       "      <td>2.849000e+03</td>\n",
       "      <td>2849.000000</td>\n",
       "      <td>3541.000000</td>\n",
       "      <td>3541.000000</td>\n",
       "      <td>3.541000e+03</td>\n",
       "      <td>1347.000000</td>\n",
       "    </tr>\n",
       "    <tr>\n",
       "      <th>mean</th>\n",
       "      <td>1772.451567</td>\n",
       "      <td>1616.256199</td>\n",
       "      <td>3.443382e+03</td>\n",
       "      <td>1295.862214</td>\n",
       "      <td>4.582823e+03</td>\n",
       "      <td>41.489264</td>\n",
       "      <td>4.262931e+03</td>\n",
       "      <td>277.36044</td>\n",
       "      <td>578.056305</td>\n",
       "      <td>383.810088</td>\n",
       "      <td>...</td>\n",
       "      <td>17.041261</td>\n",
       "      <td>87.078725</td>\n",
       "      <td>27.930469</td>\n",
       "      <td>19.088399</td>\n",
       "      <td>2.206739e+07</td>\n",
       "      <td>-1333.698175</td>\n",
       "      <td>-220.316436</td>\n",
       "      <td>-221.512285</td>\n",
       "      <td>3.443382e+03</td>\n",
       "      <td>63.905687</td>\n",
       "    </tr>\n",
       "    <tr>\n",
       "      <th>std</th>\n",
       "      <td>1023.731393</td>\n",
       "      <td>17459.639673</td>\n",
       "      <td>3.097089e+04</td>\n",
       "      <td>13387.891867</td>\n",
       "      <td>5.568124e+04</td>\n",
       "      <td>440.573761</td>\n",
       "      <td>5.302869e+04</td>\n",
       "      <td>3064.40606</td>\n",
       "      <td>5653.770427</td>\n",
       "      <td>4117.069953</td>\n",
       "      <td>...</td>\n",
       "      <td>83.943754</td>\n",
       "      <td>598.545835</td>\n",
       "      <td>151.042868</td>\n",
       "      <td>376.340737</td>\n",
       "      <td>1.655193e+08</td>\n",
       "      <td>37500.729972</td>\n",
       "      <td>14261.946209</td>\n",
       "      <td>14261.923760</td>\n",
       "      <td>3.097089e+04</td>\n",
       "      <td>1433.809532</td>\n",
       "    </tr>\n",
       "    <tr>\n",
       "      <th>min</th>\n",
       "      <td>1.000000</td>\n",
       "      <td>-74265.600000</td>\n",
       "      <td>1.000000e-01</td>\n",
       "      <td>0.000000</td>\n",
       "      <td>0.000000e+00</td>\n",
       "      <td>-3029.400000</td>\n",
       "      <td>-1.000000e-01</td>\n",
       "      <td>-3908.30000</td>\n",
       "      <td>-440.700000</td>\n",
       "      <td>-3894.800000</td>\n",
       "      <td>...</td>\n",
       "      <td>0.000000</td>\n",
       "      <td>-0.090000</td>\n",
       "      <td>-0.180000</td>\n",
       "      <td>-2.000000</td>\n",
       "      <td>-2.147484e+09</td>\n",
       "      <td>-999998.900000</td>\n",
       "      <td>-843181.820000</td>\n",
       "      <td>-843181.820000</td>\n",
       "      <td>1.000000e-01</td>\n",
       "      <td>-1116.640000</td>\n",
       "    </tr>\n",
       "    <tr>\n",
       "      <th>25%</th>\n",
       "      <td>886.000000</td>\n",
       "      <td>31.700000</td>\n",
       "      <td>9.130000e+01</td>\n",
       "      <td>31.300000</td>\n",
       "      <td>1.064500e+02</td>\n",
       "      <td>-1.800000</td>\n",
       "      <td>9.582500e+01</td>\n",
       "      <td>0.50000</td>\n",
       "      <td>6.900000</td>\n",
       "      <td>0.700000</td>\n",
       "      <td>...</td>\n",
       "      <td>3.760000</td>\n",
       "      <td>8.200000</td>\n",
       "      <td>5.100000</td>\n",
       "      <td>2.990000</td>\n",
       "      <td>1.316250e+06</td>\n",
       "      <td>10.000000</td>\n",
       "      <td>0.000000</td>\n",
       "      <td>0.000000</td>\n",
       "      <td>9.130000e+01</td>\n",
       "      <td>3.275000</td>\n",
       "    </tr>\n",
       "    <tr>\n",
       "      <th>50%</th>\n",
       "      <td>1773.000000</td>\n",
       "      <td>116.300000</td>\n",
       "      <td>3.097000e+02</td>\n",
       "      <td>102.300000</td>\n",
       "      <td>4.449000e+02</td>\n",
       "      <td>1.600000</td>\n",
       "      <td>4.077000e+02</td>\n",
       "      <td>8.80000</td>\n",
       "      <td>35.400000</td>\n",
       "      <td>12.400000</td>\n",
       "      <td>...</td>\n",
       "      <td>6.320000</td>\n",
       "      <td>17.270000</td>\n",
       "      <td>9.760000</td>\n",
       "      <td>6.400000</td>\n",
       "      <td>4.672063e+06</td>\n",
       "      <td>10.000000</td>\n",
       "      <td>1.430000</td>\n",
       "      <td>1.180000</td>\n",
       "      <td>3.097000e+02</td>\n",
       "      <td>9.100000</td>\n",
       "    </tr>\n",
       "    <tr>\n",
       "      <th>75%</th>\n",
       "      <td>2658.000000</td>\n",
       "      <td>456.100000</td>\n",
       "      <td>1.098700e+03</td>\n",
       "      <td>377.300000</td>\n",
       "      <td>1.440900e+03</td>\n",
       "      <td>18.050000</td>\n",
       "      <td>1.359775e+03</td>\n",
       "      <td>52.27500</td>\n",
       "      <td>150.250000</td>\n",
       "      <td>71.975000</td>\n",
       "      <td>...</td>\n",
       "      <td>11.680000</td>\n",
       "      <td>40.350000</td>\n",
       "      <td>20.240000</td>\n",
       "      <td>11.845000</td>\n",
       "      <td>1.065197e+07</td>\n",
       "      <td>10.000000</td>\n",
       "      <td>9.620000</td>\n",
       "      <td>7.480000</td>\n",
       "      <td>1.098700e+03</td>\n",
       "      <td>17.790000</td>\n",
       "    </tr>\n",
       "    <tr>\n",
       "      <th>max</th>\n",
       "      <td>3545.000000</td>\n",
       "      <td>805773.400000</td>\n",
       "      <td>1.176509e+06</td>\n",
       "      <td>613151.600000</td>\n",
       "      <td>2.442828e+06</td>\n",
       "      <td>14185.500000</td>\n",
       "      <td>2.366035e+06</td>\n",
       "      <td>119439.10000</td>\n",
       "      <td>208576.500000</td>\n",
       "      <td>145292.600000</td>\n",
       "      <td>...</td>\n",
       "      <td>3135.200000</td>\n",
       "      <td>17947.600000</td>\n",
       "      <td>5651.400000</td>\n",
       "      <td>21092.000000</td>\n",
       "      <td>4.130401e+09</td>\n",
       "      <td>100000.000000</td>\n",
       "      <td>34522.530000</td>\n",
       "      <td>34522.530000</td>\n",
       "      <td>1.176509e+06</td>\n",
       "      <td>51002.740000</td>\n",
       "    </tr>\n",
       "  </tbody>\n",
       "</table>\n",
       "<p>8 rows × 52 columns</p>\n",
       "</div>"
      ],
      "text/plain": [
       "               Num  Networth_Next_Year  Total_assets      Net_worth  \\\n",
       "count  3541.000000         3541.000000  3.541000e+03    3541.000000   \n",
       "mean   1772.451567         1616.256199  3.443382e+03    1295.862214   \n",
       "std    1023.731393        17459.639673  3.097089e+04   13387.891867   \n",
       "min       1.000000       -74265.600000  1.000000e-01       0.000000   \n",
       "25%     886.000000           31.700000  9.130000e+01      31.300000   \n",
       "50%    1773.000000          116.300000  3.097000e+02     102.300000   \n",
       "75%    2658.000000          456.100000  1.098700e+03     377.300000   \n",
       "max    3545.000000       805773.400000  1.176509e+06  613151.600000   \n",
       "\n",
       "       Total_income  Change_in_stock  Total_expenses  Profit_after_tax  \\\n",
       "count  3.343000e+03      3083.000000    3.402000e+03        3410.00000   \n",
       "mean   4.582823e+03        41.489264    4.262931e+03         277.36044   \n",
       "std    5.568124e+04       440.573761    5.302869e+04        3064.40606   \n",
       "min    0.000000e+00     -3029.400000   -1.000000e-01       -3908.30000   \n",
       "25%    1.064500e+02        -1.800000    9.582500e+01           0.50000   \n",
       "50%    4.449000e+02         1.600000    4.077000e+02           8.80000   \n",
       "75%    1.440900e+03        18.050000    1.359775e+03          52.27500   \n",
       "max    2.442828e+06     14185.500000    2.366035e+06      119439.10000   \n",
       "\n",
       "              PBDITA            PBT  ...  Debtors_turnover  \\\n",
       "count    3410.000000    3410.000000  ...       3213.000000   \n",
       "mean      578.056305     383.810088  ...         17.041261   \n",
       "std      5653.770427    4117.069953  ...         83.943754   \n",
       "min      -440.700000   -3894.800000  ...          0.000000   \n",
       "25%         6.900000       0.700000  ...          3.760000   \n",
       "50%        35.400000      12.400000  ...          6.320000   \n",
       "75%       150.250000      71.975000  ...         11.680000   \n",
       "max    208576.500000  145292.600000  ...       3135.200000   \n",
       "\n",
       "       Finished_goods_turnover  WIP_turnover  Raw_material_turnover  \\\n",
       "count              2801.000000   2901.000000            3180.000000   \n",
       "mean                 87.078725     27.930469              19.088399   \n",
       "std                 598.545835    151.042868             376.340737   \n",
       "min                  -0.090000     -0.180000              -2.000000   \n",
       "25%                   8.200000      5.100000               2.990000   \n",
       "50%                  17.270000      9.760000               6.400000   \n",
       "75%                  40.350000     20.240000              11.845000   \n",
       "max               17947.600000   5651.400000           21092.000000   \n",
       "\n",
       "       Shares_outstanding  Equity_face_value            EPS   Adjusted_EPS  \\\n",
       "count        2.849000e+03        2849.000000    3541.000000    3541.000000   \n",
       "mean         2.206739e+07       -1333.698175    -220.316436    -221.512285   \n",
       "std          1.655193e+08       37500.729972   14261.946209   14261.923760   \n",
       "min         -2.147484e+09     -999998.900000 -843181.820000 -843181.820000   \n",
       "25%          1.316250e+06          10.000000       0.000000       0.000000   \n",
       "50%          4.672063e+06          10.000000       1.430000       1.180000   \n",
       "75%          1.065197e+07          10.000000       9.620000       7.480000   \n",
       "max          4.130401e+09      100000.000000   34522.530000   34522.530000   \n",
       "\n",
       "       Total_liabilities     PE_on_BSE  \n",
       "count       3.541000e+03   1347.000000  \n",
       "mean        3.443382e+03     63.905687  \n",
       "std         3.097089e+04   1433.809532  \n",
       "min         1.000000e-01  -1116.640000  \n",
       "25%         9.130000e+01      3.275000  \n",
       "50%         3.097000e+02      9.100000  \n",
       "75%         1.098700e+03     17.790000  \n",
       "max         1.176509e+06  51002.740000  \n",
       "\n",
       "[8 rows x 52 columns]"
      ]
     },
     "execution_count": 7,
     "metadata": {},
     "output_type": "execute_result"
    }
   ],
   "source": [
    "Company.describe()"
   ]
  },
  {
   "cell_type": "code",
   "execution_count": 8,
   "metadata": {},
   "outputs": [
    {
     "data": {
      "text/html": [
       "<div>\n",
       "<style scoped>\n",
       "    .dataframe tbody tr th:only-of-type {\n",
       "        vertical-align: middle;\n",
       "    }\n",
       "\n",
       "    .dataframe tbody tr th {\n",
       "        vertical-align: top;\n",
       "    }\n",
       "\n",
       "    .dataframe thead th {\n",
       "        text-align: right;\n",
       "    }\n",
       "</style>\n",
       "<table border=\"1\" class=\"dataframe\">\n",
       "  <thead>\n",
       "    <tr style=\"text-align: right;\">\n",
       "      <th></th>\n",
       "      <th>Num</th>\n",
       "      <th>Networth_Next_Year</th>\n",
       "      <th>Total_assets</th>\n",
       "      <th>Net_worth</th>\n",
       "      <th>Total_income</th>\n",
       "      <th>Change_in_stock</th>\n",
       "      <th>Total_expenses</th>\n",
       "      <th>Profit_after_tax</th>\n",
       "      <th>PBDITA</th>\n",
       "      <th>PBT</th>\n",
       "      <th>...</th>\n",
       "      <th>Debtors_turnover</th>\n",
       "      <th>Finished_goods_turnover</th>\n",
       "      <th>WIP_turnover</th>\n",
       "      <th>Raw_material_turnover</th>\n",
       "      <th>Shares_outstanding</th>\n",
       "      <th>Equity_face_value</th>\n",
       "      <th>EPS</th>\n",
       "      <th>Adjusted_EPS</th>\n",
       "      <th>Total_liabilities</th>\n",
       "      <th>PE_on_BSE</th>\n",
       "    </tr>\n",
       "  </thead>\n",
       "  <tbody>\n",
       "    <tr>\n",
       "      <th>count</th>\n",
       "      <td>3541.00</td>\n",
       "      <td>3541.00</td>\n",
       "      <td>3541.00</td>\n",
       "      <td>3541.00</td>\n",
       "      <td>3343.00</td>\n",
       "      <td>3083.00</td>\n",
       "      <td>3402.00</td>\n",
       "      <td>3410.00</td>\n",
       "      <td>3410.00</td>\n",
       "      <td>3410.00</td>\n",
       "      <td>...</td>\n",
       "      <td>3213.00</td>\n",
       "      <td>2801.00</td>\n",
       "      <td>2901.00</td>\n",
       "      <td>3180.00</td>\n",
       "      <td>2849.00</td>\n",
       "      <td>2849.00</td>\n",
       "      <td>3541.00</td>\n",
       "      <td>3541.00</td>\n",
       "      <td>3541.00</td>\n",
       "      <td>1347.00</td>\n",
       "    </tr>\n",
       "    <tr>\n",
       "      <th>mean</th>\n",
       "      <td>1772.45</td>\n",
       "      <td>1616.26</td>\n",
       "      <td>3443.38</td>\n",
       "      <td>1295.86</td>\n",
       "      <td>4582.82</td>\n",
       "      <td>41.49</td>\n",
       "      <td>4262.93</td>\n",
       "      <td>277.36</td>\n",
       "      <td>578.06</td>\n",
       "      <td>383.81</td>\n",
       "      <td>...</td>\n",
       "      <td>17.04</td>\n",
       "      <td>87.08</td>\n",
       "      <td>27.93</td>\n",
       "      <td>19.09</td>\n",
       "      <td>22067387.54</td>\n",
       "      <td>-1333.70</td>\n",
       "      <td>-220.32</td>\n",
       "      <td>-221.51</td>\n",
       "      <td>3443.38</td>\n",
       "      <td>63.91</td>\n",
       "    </tr>\n",
       "    <tr>\n",
       "      <th>std</th>\n",
       "      <td>1023.73</td>\n",
       "      <td>17459.64</td>\n",
       "      <td>30970.89</td>\n",
       "      <td>13387.89</td>\n",
       "      <td>55681.24</td>\n",
       "      <td>440.57</td>\n",
       "      <td>53028.69</td>\n",
       "      <td>3064.41</td>\n",
       "      <td>5653.77</td>\n",
       "      <td>4117.07</td>\n",
       "      <td>...</td>\n",
       "      <td>83.94</td>\n",
       "      <td>598.55</td>\n",
       "      <td>151.04</td>\n",
       "      <td>376.34</td>\n",
       "      <td>165519303.66</td>\n",
       "      <td>37500.73</td>\n",
       "      <td>14261.95</td>\n",
       "      <td>14261.92</td>\n",
       "      <td>30970.89</td>\n",
       "      <td>1433.81</td>\n",
       "    </tr>\n",
       "    <tr>\n",
       "      <th>min</th>\n",
       "      <td>1.00</td>\n",
       "      <td>-74265.60</td>\n",
       "      <td>0.10</td>\n",
       "      <td>0.00</td>\n",
       "      <td>0.00</td>\n",
       "      <td>-3029.40</td>\n",
       "      <td>-0.10</td>\n",
       "      <td>-3908.30</td>\n",
       "      <td>-440.70</td>\n",
       "      <td>-3894.80</td>\n",
       "      <td>...</td>\n",
       "      <td>0.00</td>\n",
       "      <td>-0.09</td>\n",
       "      <td>-0.18</td>\n",
       "      <td>-2.00</td>\n",
       "      <td>-2147483647.00</td>\n",
       "      <td>-999998.90</td>\n",
       "      <td>-843181.82</td>\n",
       "      <td>-843181.82</td>\n",
       "      <td>0.10</td>\n",
       "      <td>-1116.64</td>\n",
       "    </tr>\n",
       "    <tr>\n",
       "      <th>25%</th>\n",
       "      <td>886.00</td>\n",
       "      <td>31.70</td>\n",
       "      <td>91.30</td>\n",
       "      <td>31.30</td>\n",
       "      <td>106.45</td>\n",
       "      <td>-1.80</td>\n",
       "      <td>95.82</td>\n",
       "      <td>0.50</td>\n",
       "      <td>6.90</td>\n",
       "      <td>0.70</td>\n",
       "      <td>...</td>\n",
       "      <td>3.76</td>\n",
       "      <td>8.20</td>\n",
       "      <td>5.10</td>\n",
       "      <td>2.99</td>\n",
       "      <td>1316250.00</td>\n",
       "      <td>10.00</td>\n",
       "      <td>0.00</td>\n",
       "      <td>0.00</td>\n",
       "      <td>91.30</td>\n",
       "      <td>3.28</td>\n",
       "    </tr>\n",
       "    <tr>\n",
       "      <th>50%</th>\n",
       "      <td>1773.00</td>\n",
       "      <td>116.30</td>\n",
       "      <td>309.70</td>\n",
       "      <td>102.30</td>\n",
       "      <td>444.90</td>\n",
       "      <td>1.60</td>\n",
       "      <td>407.70</td>\n",
       "      <td>8.80</td>\n",
       "      <td>35.40</td>\n",
       "      <td>12.40</td>\n",
       "      <td>...</td>\n",
       "      <td>6.32</td>\n",
       "      <td>17.27</td>\n",
       "      <td>9.76</td>\n",
       "      <td>6.40</td>\n",
       "      <td>4672063.00</td>\n",
       "      <td>10.00</td>\n",
       "      <td>1.43</td>\n",
       "      <td>1.18</td>\n",
       "      <td>309.70</td>\n",
       "      <td>9.10</td>\n",
       "    </tr>\n",
       "    <tr>\n",
       "      <th>75%</th>\n",
       "      <td>2658.00</td>\n",
       "      <td>456.10</td>\n",
       "      <td>1098.70</td>\n",
       "      <td>377.30</td>\n",
       "      <td>1440.90</td>\n",
       "      <td>18.05</td>\n",
       "      <td>1359.78</td>\n",
       "      <td>52.27</td>\n",
       "      <td>150.25</td>\n",
       "      <td>71.97</td>\n",
       "      <td>...</td>\n",
       "      <td>11.68</td>\n",
       "      <td>40.35</td>\n",
       "      <td>20.24</td>\n",
       "      <td>11.85</td>\n",
       "      <td>10651966.00</td>\n",
       "      <td>10.00</td>\n",
       "      <td>9.62</td>\n",
       "      <td>7.48</td>\n",
       "      <td>1098.70</td>\n",
       "      <td>17.79</td>\n",
       "    </tr>\n",
       "    <tr>\n",
       "      <th>max</th>\n",
       "      <td>3545.00</td>\n",
       "      <td>805773.40</td>\n",
       "      <td>1176509.20</td>\n",
       "      <td>613151.60</td>\n",
       "      <td>2442828.20</td>\n",
       "      <td>14185.50</td>\n",
       "      <td>2366035.30</td>\n",
       "      <td>119439.10</td>\n",
       "      <td>208576.50</td>\n",
       "      <td>145292.60</td>\n",
       "      <td>...</td>\n",
       "      <td>3135.20</td>\n",
       "      <td>17947.60</td>\n",
       "      <td>5651.40</td>\n",
       "      <td>21092.00</td>\n",
       "      <td>4130400545.00</td>\n",
       "      <td>100000.00</td>\n",
       "      <td>34522.53</td>\n",
       "      <td>34522.53</td>\n",
       "      <td>1176509.20</td>\n",
       "      <td>51002.74</td>\n",
       "    </tr>\n",
       "  </tbody>\n",
       "</table>\n",
       "<p>8 rows × 52 columns</p>\n",
       "</div>"
      ],
      "text/plain": [
       "          Num  Networth_Next_Year  Total_assets  Net_worth  Total_income  \\\n",
       "count 3541.00             3541.00       3541.00    3541.00       3343.00   \n",
       "mean  1772.45             1616.26       3443.38    1295.86       4582.82   \n",
       "std   1023.73            17459.64      30970.89   13387.89      55681.24   \n",
       "min      1.00           -74265.60          0.10       0.00          0.00   \n",
       "25%    886.00               31.70         91.30      31.30        106.45   \n",
       "50%   1773.00              116.30        309.70     102.30        444.90   \n",
       "75%   2658.00              456.10       1098.70     377.30       1440.90   \n",
       "max   3545.00           805773.40    1176509.20  613151.60    2442828.20   \n",
       "\n",
       "       Change_in_stock  Total_expenses  Profit_after_tax    PBDITA       PBT  \\\n",
       "count          3083.00         3402.00           3410.00   3410.00   3410.00   \n",
       "mean             41.49         4262.93            277.36    578.06    383.81   \n",
       "std             440.57        53028.69           3064.41   5653.77   4117.07   \n",
       "min           -3029.40           -0.10          -3908.30   -440.70  -3894.80   \n",
       "25%              -1.80           95.82              0.50      6.90      0.70   \n",
       "50%               1.60          407.70              8.80     35.40     12.40   \n",
       "75%              18.05         1359.78             52.27    150.25     71.97   \n",
       "max           14185.50      2366035.30         119439.10 208576.50 145292.60   \n",
       "\n",
       "       ...  Debtors_turnover  Finished_goods_turnover  WIP_turnover  \\\n",
       "count  ...           3213.00                  2801.00       2901.00   \n",
       "mean   ...             17.04                    87.08         27.93   \n",
       "std    ...             83.94                   598.55        151.04   \n",
       "min    ...              0.00                    -0.09         -0.18   \n",
       "25%    ...              3.76                     8.20          5.10   \n",
       "50%    ...              6.32                    17.27          9.76   \n",
       "75%    ...             11.68                    40.35         20.24   \n",
       "max    ...           3135.20                 17947.60       5651.40   \n",
       "\n",
       "       Raw_material_turnover  Shares_outstanding  Equity_face_value  \\\n",
       "count                3180.00             2849.00            2849.00   \n",
       "mean                   19.09         22067387.54           -1333.70   \n",
       "std                   376.34        165519303.66           37500.73   \n",
       "min                    -2.00      -2147483647.00         -999998.90   \n",
       "25%                     2.99          1316250.00              10.00   \n",
       "50%                     6.40          4672063.00              10.00   \n",
       "75%                    11.85         10651966.00              10.00   \n",
       "max                 21092.00       4130400545.00          100000.00   \n",
       "\n",
       "             EPS  Adjusted_EPS  Total_liabilities  PE_on_BSE  \n",
       "count    3541.00       3541.00            3541.00    1347.00  \n",
       "mean     -220.32       -221.51            3443.38      63.91  \n",
       "std     14261.95      14261.92           30970.89    1433.81  \n",
       "min   -843181.82    -843181.82               0.10   -1116.64  \n",
       "25%         0.00          0.00              91.30       3.28  \n",
       "50%         1.43          1.18             309.70       9.10  \n",
       "75%         9.62          7.48            1098.70      17.79  \n",
       "max     34522.53      34522.53         1176509.20   51002.74  \n",
       "\n",
       "[8 rows x 52 columns]"
      ]
     },
     "execution_count": 8,
     "metadata": {},
     "output_type": "execute_result"
    }
   ],
   "source": [
    "pd.options.display.float_format = '{:.2f}'.format   \n",
    "\n",
    "Company.describe()"
   ]
  },
  {
   "cell_type": "markdown",
   "metadata": {},
   "source": [
    "#### Creating a binary target variable using 'Networth_Next_Year' "
   ]
  },
  {
   "cell_type": "code",
   "execution_count": 9,
   "metadata": {},
   "outputs": [],
   "source": [
    "Company['default'] = np.where((Company['Networth_Next_Year'] > 0), 0, 1)"
   ]
  },
  {
   "cell_type": "markdown",
   "metadata": {},
   "source": [
    "#### Checking top 10 rows"
   ]
  },
  {
   "cell_type": "code",
   "execution_count": 10,
   "metadata": {},
   "outputs": [
    {
     "data": {
      "text/html": [
       "<div>\n",
       "<style scoped>\n",
       "    .dataframe tbody tr th:only-of-type {\n",
       "        vertical-align: middle;\n",
       "    }\n",
       "\n",
       "    .dataframe tbody tr th {\n",
       "        vertical-align: top;\n",
       "    }\n",
       "\n",
       "    .dataframe thead th {\n",
       "        text-align: right;\n",
       "    }\n",
       "</style>\n",
       "<table border=\"1\" class=\"dataframe\">\n",
       "  <thead>\n",
       "    <tr style=\"text-align: right;\">\n",
       "      <th></th>\n",
       "      <th>default</th>\n",
       "      <th>Networth_Next_Year</th>\n",
       "    </tr>\n",
       "  </thead>\n",
       "  <tbody>\n",
       "    <tr>\n",
       "      <th>0</th>\n",
       "      <td>0</td>\n",
       "      <td>8890.60</td>\n",
       "    </tr>\n",
       "    <tr>\n",
       "      <th>1</th>\n",
       "      <td>0</td>\n",
       "      <td>394.30</td>\n",
       "    </tr>\n",
       "    <tr>\n",
       "      <th>2</th>\n",
       "      <td>0</td>\n",
       "      <td>92.20</td>\n",
       "    </tr>\n",
       "    <tr>\n",
       "      <th>3</th>\n",
       "      <td>0</td>\n",
       "      <td>2.70</td>\n",
       "    </tr>\n",
       "    <tr>\n",
       "      <th>4</th>\n",
       "      <td>0</td>\n",
       "      <td>109.00</td>\n",
       "    </tr>\n",
       "    <tr>\n",
       "      <th>5</th>\n",
       "      <td>0</td>\n",
       "      <td>688.60</td>\n",
       "    </tr>\n",
       "    <tr>\n",
       "      <th>6</th>\n",
       "      <td>0</td>\n",
       "      <td>246.00</td>\n",
       "    </tr>\n",
       "    <tr>\n",
       "      <th>7</th>\n",
       "      <td>0</td>\n",
       "      <td>13.70</td>\n",
       "    </tr>\n",
       "    <tr>\n",
       "      <th>8</th>\n",
       "      <td>0</td>\n",
       "      <td>291.50</td>\n",
       "    </tr>\n",
       "    <tr>\n",
       "      <th>9</th>\n",
       "      <td>1</td>\n",
       "      <td>-7.30</td>\n",
       "    </tr>\n",
       "  </tbody>\n",
       "</table>\n",
       "</div>"
      ],
      "text/plain": [
       "   default  Networth_Next_Year\n",
       "0        0             8890.60\n",
       "1        0              394.30\n",
       "2        0               92.20\n",
       "3        0                2.70\n",
       "4        0              109.00\n",
       "5        0              688.60\n",
       "6        0              246.00\n",
       "7        0               13.70\n",
       "8        0              291.50\n",
       "9        1               -7.30"
      ]
     },
     "execution_count": 10,
     "metadata": {},
     "output_type": "execute_result"
    }
   ],
   "source": [
    "Company[['default','Networth_Next_Year']].head(10)"
   ]
  },
  {
   "cell_type": "markdown",
   "metadata": {},
   "source": [
    "#### What does variable 'default' look like"
   ]
  },
  {
   "cell_type": "code",
   "execution_count": 11,
   "metadata": {},
   "outputs": [
    {
     "data": {
      "text/plain": [
       "0    3298\n",
       "1     243\n",
       "Name: default, dtype: int64"
      ]
     },
     "execution_count": 11,
     "metadata": {},
     "output_type": "execute_result"
    }
   ],
   "source": [
    "Company['default'].value_counts()"
   ]
  },
  {
   "cell_type": "markdown",
   "metadata": {},
   "source": [
    "#### Checking proportion of default"
   ]
  },
  {
   "cell_type": "code",
   "execution_count": 12,
   "metadata": {},
   "outputs": [
    {
     "data": {
      "text/plain": [
       "0   0.93\n",
       "1   0.07\n",
       "Name: default, dtype: float64"
      ]
     },
     "execution_count": 12,
     "metadata": {},
     "output_type": "execute_result"
    }
   ],
   "source": [
    "Company['default'].value_counts(normalize = True)"
   ]
  },
  {
   "cell_type": "markdown",
   "metadata": {},
   "source": [
    "#### Lets check for missing values in the dataset"
   ]
  },
  {
   "cell_type": "code",
   "execution_count": 13,
   "metadata": {},
   "outputs": [
    {
     "data": {
      "text/plain": [
       "Num                                                  0\n",
       "Networth_Next_Year                                   0\n",
       "Total_assets                                         0\n",
       "Net_worth                                            0\n",
       "Total_income                                       198\n",
       "Change_in_stock                                    458\n",
       "Total_expenses                                     139\n",
       "Profit_after_tax                                   131\n",
       "PBDITA                                             131\n",
       "PBT                                                131\n",
       "Cash_profit                                        131\n",
       "PBDITA_as_perc_of_total_income                      68\n",
       "PBT_as_perc_of_total_income                         68\n",
       "PAT_as_perc_of_total_income                         68\n",
       "Cash_profit_as_perc_of_total_income                 68\n",
       "PAT_as_perc_of_net_worth                             0\n",
       "Sales                                              259\n",
       "Income_from_financial_services                     935\n",
       "Other_income                                      1295\n",
       "Total_capital                                        4\n",
       "Reserves_and_funds                                  85\n",
       "Deposits_accepted_by_commercial_banks             3541\n",
       "Borrowings                                         366\n",
       "Current_liabilities_&_provisions                    96\n",
       "Deferred_tax_liability                            1140\n",
       "Shareholders_funds                                   0\n",
       "Cumulative_retained_profits                         38\n",
       "Capital_employed                                     0\n",
       "TOL_to_TNW                                           0\n",
       "Total_term_liabilities__to__tangible_net_worth       0\n",
       "Contingent_liabilities__to__Net_worth_perc           0\n",
       "Contingent_liabilities                            1188\n",
       "Net_fixed_assets                                   118\n",
       "Investments                                       1435\n",
       "Current_assets                                      66\n",
       "Net_working_capital                                 32\n",
       "Quick_ratio_times                                   93\n",
       "Current_ratio_times                                 93\n",
       "Debt_to_equity_ratio_times                           0\n",
       "Cash_to_current_liabilities_times                   93\n",
       "Cash_to_average_cost_of_sales_per_day               85\n",
       "Creditors_turnover                                 333\n",
       "Debtors_turnover                                   328\n",
       "Finished_goods_turnover                            740\n",
       "WIP_turnover                                       640\n",
       "Raw_material_turnover                              361\n",
       "Shares_outstanding                                 692\n",
       "Equity_face_value                                  692\n",
       "EPS                                                  0\n",
       "Adjusted_EPS                                         0\n",
       "Total_liabilities                                    0\n",
       "PE_on_BSE                                         2194\n",
       "default                                              0\n",
       "dtype: int64"
      ]
     },
     "execution_count": 13,
     "metadata": {},
     "output_type": "execute_result"
    }
   ],
   "source": [
    "Company.isnull().sum()"
   ]
  },
  {
   "cell_type": "code",
   "execution_count": 14,
   "metadata": {},
   "outputs": [
    {
     "data": {
      "text/plain": [
       "187673"
      ]
     },
     "execution_count": 14,
     "metadata": {},
     "output_type": "execute_result"
    }
   ],
   "source": [
    "Company.size"
   ]
  },
  {
   "cell_type": "code",
   "execution_count": 15,
   "metadata": {},
   "outputs": [
    {
     "data": {
      "text/plain": [
       "18533"
      ]
     },
     "execution_count": 15,
     "metadata": {},
     "output_type": "execute_result"
    }
   ],
   "source": [
    "Company.isnull().sum().sum()"
   ]
  },
  {
   "cell_type": "markdown",
   "metadata": {},
   "source": [
    "There are missing values in the dataset"
   ]
  },
  {
   "cell_type": "code",
   "execution_count": 16,
   "metadata": {},
   "outputs": [],
   "source": [
    "Company_X = Company.drop('default', axis = 1)\n",
    "Company_Y = Company['default']"
   ]
  },
  {
   "cell_type": "code",
   "execution_count": 17,
   "metadata": {},
   "outputs": [
    {
     "data": {
      "text/html": [
       "<div>\n",
       "<style scoped>\n",
       "    .dataframe tbody tr th:only-of-type {\n",
       "        vertical-align: middle;\n",
       "    }\n",
       "\n",
       "    .dataframe tbody tr th {\n",
       "        vertical-align: top;\n",
       "    }\n",
       "\n",
       "    .dataframe thead th {\n",
       "        text-align: right;\n",
       "    }\n",
       "</style>\n",
       "<table border=\"1\" class=\"dataframe\">\n",
       "  <thead>\n",
       "    <tr style=\"text-align: right;\">\n",
       "      <th></th>\n",
       "      <th>Num</th>\n",
       "      <th>Networth_Next_Year</th>\n",
       "      <th>Total_assets</th>\n",
       "      <th>Net_worth</th>\n",
       "      <th>Total_income</th>\n",
       "      <th>Change_in_stock</th>\n",
       "      <th>Total_expenses</th>\n",
       "      <th>Profit_after_tax</th>\n",
       "      <th>PBDITA</th>\n",
       "      <th>PBT</th>\n",
       "      <th>...</th>\n",
       "      <th>Debtors_turnover</th>\n",
       "      <th>Finished_goods_turnover</th>\n",
       "      <th>WIP_turnover</th>\n",
       "      <th>Raw_material_turnover</th>\n",
       "      <th>Shares_outstanding</th>\n",
       "      <th>Equity_face_value</th>\n",
       "      <th>EPS</th>\n",
       "      <th>Adjusted_EPS</th>\n",
       "      <th>Total_liabilities</th>\n",
       "      <th>PE_on_BSE</th>\n",
       "    </tr>\n",
       "  </thead>\n",
       "  <tbody>\n",
       "    <tr>\n",
       "      <th>0</th>\n",
       "      <td>1</td>\n",
       "      <td>8890.60</td>\n",
       "      <td>17512.30</td>\n",
       "      <td>7093.20</td>\n",
       "      <td>24965.20</td>\n",
       "      <td>235.80</td>\n",
       "      <td>23657.80</td>\n",
       "      <td>1543.20</td>\n",
       "      <td>2860.20</td>\n",
       "      <td>2417.20</td>\n",
       "      <td>...</td>\n",
       "      <td>3.85</td>\n",
       "      <td>200.55</td>\n",
       "      <td>21.78</td>\n",
       "      <td>7.71</td>\n",
       "      <td>42381675.00</td>\n",
       "      <td>10.00</td>\n",
       "      <td>35.52</td>\n",
       "      <td>7.10</td>\n",
       "      <td>17512.30</td>\n",
       "      <td>27.31</td>\n",
       "    </tr>\n",
       "    <tr>\n",
       "      <th>1</th>\n",
       "      <td>2</td>\n",
       "      <td>394.30</td>\n",
       "      <td>941.00</td>\n",
       "      <td>351.50</td>\n",
       "      <td>1527.40</td>\n",
       "      <td>42.70</td>\n",
       "      <td>1454.90</td>\n",
       "      <td>115.20</td>\n",
       "      <td>283.00</td>\n",
       "      <td>188.40</td>\n",
       "      <td>...</td>\n",
       "      <td>5.70</td>\n",
       "      <td>14.21</td>\n",
       "      <td>7.49</td>\n",
       "      <td>11.46</td>\n",
       "      <td>11550000.00</td>\n",
       "      <td>10.00</td>\n",
       "      <td>9.97</td>\n",
       "      <td>9.97</td>\n",
       "      <td>941.00</td>\n",
       "      <td>8.17</td>\n",
       "    </tr>\n",
       "    <tr>\n",
       "      <th>2</th>\n",
       "      <td>3</td>\n",
       "      <td>92.20</td>\n",
       "      <td>232.80</td>\n",
       "      <td>100.60</td>\n",
       "      <td>477.30</td>\n",
       "      <td>-5.20</td>\n",
       "      <td>478.70</td>\n",
       "      <td>-6.60</td>\n",
       "      <td>5.80</td>\n",
       "      <td>-6.60</td>\n",
       "      <td>...</td>\n",
       "      <td>5.07</td>\n",
       "      <td>9.24</td>\n",
       "      <td>0.23</td>\n",
       "      <td>nan</td>\n",
       "      <td>8149090.00</td>\n",
       "      <td>10.00</td>\n",
       "      <td>-0.50</td>\n",
       "      <td>-0.50</td>\n",
       "      <td>232.80</td>\n",
       "      <td>-5.76</td>\n",
       "    </tr>\n",
       "    <tr>\n",
       "      <th>3</th>\n",
       "      <td>4</td>\n",
       "      <td>2.70</td>\n",
       "      <td>2.70</td>\n",
       "      <td>2.70</td>\n",
       "      <td>nan</td>\n",
       "      <td>nan</td>\n",
       "      <td>nan</td>\n",
       "      <td>nan</td>\n",
       "      <td>nan</td>\n",
       "      <td>nan</td>\n",
       "      <td>...</td>\n",
       "      <td>0.00</td>\n",
       "      <td>nan</td>\n",
       "      <td>nan</td>\n",
       "      <td>0.00</td>\n",
       "      <td>52404.00</td>\n",
       "      <td>10.00</td>\n",
       "      <td>0.00</td>\n",
       "      <td>0.00</td>\n",
       "      <td>2.70</td>\n",
       "      <td>nan</td>\n",
       "    </tr>\n",
       "    <tr>\n",
       "      <th>4</th>\n",
       "      <td>5</td>\n",
       "      <td>109.00</td>\n",
       "      <td>478.50</td>\n",
       "      <td>107.60</td>\n",
       "      <td>1580.50</td>\n",
       "      <td>-17.00</td>\n",
       "      <td>1558.00</td>\n",
       "      <td>5.50</td>\n",
       "      <td>31.00</td>\n",
       "      <td>6.30</td>\n",
       "      <td>...</td>\n",
       "      <td>9.46</td>\n",
       "      <td>12.68</td>\n",
       "      <td>7.90</td>\n",
       "      <td>17.03</td>\n",
       "      <td>619635.00</td>\n",
       "      <td>10.00</td>\n",
       "      <td>7.91</td>\n",
       "      <td>7.91</td>\n",
       "      <td>478.50</td>\n",
       "      <td>nan</td>\n",
       "    </tr>\n",
       "    <tr>\n",
       "      <th>...</th>\n",
       "      <td>...</td>\n",
       "      <td>...</td>\n",
       "      <td>...</td>\n",
       "      <td>...</td>\n",
       "      <td>...</td>\n",
       "      <td>...</td>\n",
       "      <td>...</td>\n",
       "      <td>...</td>\n",
       "      <td>...</td>\n",
       "      <td>...</td>\n",
       "      <td>...</td>\n",
       "      <td>...</td>\n",
       "      <td>...</td>\n",
       "      <td>...</td>\n",
       "      <td>...</td>\n",
       "      <td>...</td>\n",
       "      <td>...</td>\n",
       "      <td>...</td>\n",
       "      <td>...</td>\n",
       "      <td>...</td>\n",
       "      <td>...</td>\n",
       "    </tr>\n",
       "    <tr>\n",
       "      <th>3536</th>\n",
       "      <td>3541</td>\n",
       "      <td>226.40</td>\n",
       "      <td>450.50</td>\n",
       "      <td>172.30</td>\n",
       "      <td>565.00</td>\n",
       "      <td>30.50</td>\n",
       "      <td>581.10</td>\n",
       "      <td>14.40</td>\n",
       "      <td>76.70</td>\n",
       "      <td>41.10</td>\n",
       "      <td>...</td>\n",
       "      <td>20.64</td>\n",
       "      <td>8.66</td>\n",
       "      <td>5.14</td>\n",
       "      <td>19.47</td>\n",
       "      <td>14904213.00</td>\n",
       "      <td>10.00</td>\n",
       "      <td>0.97</td>\n",
       "      <td>0.97</td>\n",
       "      <td>450.50</td>\n",
       "      <td>nan</td>\n",
       "    </tr>\n",
       "    <tr>\n",
       "      <th>3537</th>\n",
       "      <td>3542</td>\n",
       "      <td>89.40</td>\n",
       "      <td>97.60</td>\n",
       "      <td>82.00</td>\n",
       "      <td>75.80</td>\n",
       "      <td>-4.00</td>\n",
       "      <td>66.50</td>\n",
       "      <td>5.30</td>\n",
       "      <td>11.10</td>\n",
       "      <td>6.20</td>\n",
       "      <td>...</td>\n",
       "      <td>14.21</td>\n",
       "      <td>5.13</td>\n",
       "      <td>4.17</td>\n",
       "      <td>4.83</td>\n",
       "      <td>3362800.00</td>\n",
       "      <td>10.00</td>\n",
       "      <td>1.61</td>\n",
       "      <td>1.61</td>\n",
       "      <td>97.60</td>\n",
       "      <td>2.49</td>\n",
       "    </tr>\n",
       "    <tr>\n",
       "      <th>3538</th>\n",
       "      <td>3543</td>\n",
       "      <td>246.20</td>\n",
       "      <td>902.90</td>\n",
       "      <td>209.10</td>\n",
       "      <td>1005.10</td>\n",
       "      <td>5.60</td>\n",
       "      <td>966.50</td>\n",
       "      <td>44.20</td>\n",
       "      <td>120.30</td>\n",
       "      <td>70.00</td>\n",
       "      <td>...</td>\n",
       "      <td>3.76</td>\n",
       "      <td>33.03</td>\n",
       "      <td>11.68</td>\n",
       "      <td>4.63</td>\n",
       "      <td>3000000.00</td>\n",
       "      <td>10.00</td>\n",
       "      <td>13.10</td>\n",
       "      <td>13.10</td>\n",
       "      <td>902.90</td>\n",
       "      <td>12.62</td>\n",
       "    </tr>\n",
       "    <tr>\n",
       "      <th>3539</th>\n",
       "      <td>3544</td>\n",
       "      <td>146.90</td>\n",
       "      <td>177.00</td>\n",
       "      <td>137.20</td>\n",
       "      <td>371.00</td>\n",
       "      <td>3.90</td>\n",
       "      <td>348.90</td>\n",
       "      <td>26.00</td>\n",
       "      <td>50.50</td>\n",
       "      <td>40.80</td>\n",
       "      <td>...</td>\n",
       "      <td>13.75</td>\n",
       "      <td>49.00</td>\n",
       "      <td>47.03</td>\n",
       "      <td>17.42</td>\n",
       "      <td>4422346.00</td>\n",
       "      <td>10.00</td>\n",
       "      <td>6.06</td>\n",
       "      <td>6.06</td>\n",
       "      <td>177.00</td>\n",
       "      <td>4.07</td>\n",
       "    </tr>\n",
       "    <tr>\n",
       "      <th>3540</th>\n",
       "      <td>3545</td>\n",
       "      <td>-0.20</td>\n",
       "      <td>0.60</td>\n",
       "      <td>0.30</td>\n",
       "      <td>nan</td>\n",
       "      <td>nan</td>\n",
       "      <td>17.40</td>\n",
       "      <td>-17.40</td>\n",
       "      <td>-17.40</td>\n",
       "      <td>-17.40</td>\n",
       "      <td>...</td>\n",
       "      <td>0.00</td>\n",
       "      <td>nan</td>\n",
       "      <td>nan</td>\n",
       "      <td>0.00</td>\n",
       "      <td>5220000.00</td>\n",
       "      <td>10.00</td>\n",
       "      <td>-0.02</td>\n",
       "      <td>-0.02</td>\n",
       "      <td>0.60</td>\n",
       "      <td>nan</td>\n",
       "    </tr>\n",
       "  </tbody>\n",
       "</table>\n",
       "<p>3541 rows × 52 columns</p>\n",
       "</div>"
      ],
      "text/plain": [
       "       Num  Networth_Next_Year  Total_assets  Net_worth  Total_income  \\\n",
       "0        1             8890.60      17512.30    7093.20      24965.20   \n",
       "1        2              394.30        941.00     351.50       1527.40   \n",
       "2        3               92.20        232.80     100.60        477.30   \n",
       "3        4                2.70          2.70       2.70           nan   \n",
       "4        5              109.00        478.50     107.60       1580.50   \n",
       "...    ...                 ...           ...        ...           ...   \n",
       "3536  3541              226.40        450.50     172.30        565.00   \n",
       "3537  3542               89.40         97.60      82.00         75.80   \n",
       "3538  3543              246.20        902.90     209.10       1005.10   \n",
       "3539  3544              146.90        177.00     137.20        371.00   \n",
       "3540  3545               -0.20          0.60       0.30           nan   \n",
       "\n",
       "      Change_in_stock  Total_expenses  Profit_after_tax  PBDITA     PBT  ...  \\\n",
       "0              235.80        23657.80           1543.20 2860.20 2417.20  ...   \n",
       "1               42.70         1454.90            115.20  283.00  188.40  ...   \n",
       "2               -5.20          478.70             -6.60    5.80   -6.60  ...   \n",
       "3                 nan             nan               nan     nan     nan  ...   \n",
       "4              -17.00         1558.00              5.50   31.00    6.30  ...   \n",
       "...               ...             ...               ...     ...     ...  ...   \n",
       "3536            30.50          581.10             14.40   76.70   41.10  ...   \n",
       "3537            -4.00           66.50              5.30   11.10    6.20  ...   \n",
       "3538             5.60          966.50             44.20  120.30   70.00  ...   \n",
       "3539             3.90          348.90             26.00   50.50   40.80  ...   \n",
       "3540              nan           17.40            -17.40  -17.40  -17.40  ...   \n",
       "\n",
       "      Debtors_turnover  Finished_goods_turnover  WIP_turnover  \\\n",
       "0                 3.85                   200.55         21.78   \n",
       "1                 5.70                    14.21          7.49   \n",
       "2                 5.07                     9.24          0.23   \n",
       "3                 0.00                      nan           nan   \n",
       "4                 9.46                    12.68          7.90   \n",
       "...                ...                      ...           ...   \n",
       "3536             20.64                     8.66          5.14   \n",
       "3537             14.21                     5.13          4.17   \n",
       "3538              3.76                    33.03         11.68   \n",
       "3539             13.75                    49.00         47.03   \n",
       "3540              0.00                      nan           nan   \n",
       "\n",
       "      Raw_material_turnover  Shares_outstanding  Equity_face_value   EPS  \\\n",
       "0                      7.71         42381675.00              10.00 35.52   \n",
       "1                     11.46         11550000.00              10.00  9.97   \n",
       "2                       nan          8149090.00              10.00 -0.50   \n",
       "3                      0.00            52404.00              10.00  0.00   \n",
       "4                     17.03           619635.00              10.00  7.91   \n",
       "...                     ...                 ...                ...   ...   \n",
       "3536                  19.47         14904213.00              10.00  0.97   \n",
       "3537                   4.83          3362800.00              10.00  1.61   \n",
       "3538                   4.63          3000000.00              10.00 13.10   \n",
       "3539                  17.42          4422346.00              10.00  6.06   \n",
       "3540                   0.00          5220000.00              10.00 -0.02   \n",
       "\n",
       "      Adjusted_EPS  Total_liabilities  PE_on_BSE  \n",
       "0             7.10           17512.30      27.31  \n",
       "1             9.97             941.00       8.17  \n",
       "2            -0.50             232.80      -5.76  \n",
       "3             0.00               2.70        nan  \n",
       "4             7.91             478.50        nan  \n",
       "...            ...                ...        ...  \n",
       "3536          0.97             450.50        nan  \n",
       "3537          1.61              97.60       2.49  \n",
       "3538         13.10             902.90      12.62  \n",
       "3539          6.06             177.00       4.07  \n",
       "3540         -0.02               0.60        nan  \n",
       "\n",
       "[3541 rows x 52 columns]"
      ]
     },
     "execution_count": 17,
     "metadata": {},
     "output_type": "execute_result"
    }
   ],
   "source": [
    "Company_X"
   ]
  },
  {
   "cell_type": "markdown",
   "metadata": {},
   "source": [
    "#### Let's check the number of outliers per column"
   ]
  },
  {
   "cell_type": "code",
   "execution_count": 18,
   "metadata": {},
   "outputs": [],
   "source": [
    "Q1 = Company_X.quantile(0.25)\n",
    "Q3 = Company_X.quantile(0.75)\n",
    "IQR = Q3 - Q1\n",
    "UL = Q3 + 1.5*IQR\n",
    "LL = Q1 - 1.5*IQR"
   ]
  },
  {
   "cell_type": "code",
   "execution_count": 19,
   "metadata": {},
   "outputs": [
    {
     "data": {
      "text/plain": [
       "Num                                                 0\n",
       "Networth_Next_Year                                506\n",
       "Total_assets                                      484\n",
       "Net_worth                                         499\n",
       "Total_income                                      427\n",
       "Change_in_stock                                   621\n",
       "Total_expenses                                    432\n",
       "Profit_after_tax                                  577\n",
       "PBDITA                                            483\n",
       "PBT                                               576\n",
       "Cash_profit                                       515\n",
       "PBDITA_as_perc_of_total_income                    287\n",
       "PBT_as_perc_of_total_income                       453\n",
       "PAT_as_perc_of_total_income                       502\n",
       "Cash_profit_as_perc_of_total_income               353\n",
       "PAT_as_perc_of_net_worth                          344\n",
       "Sales                                             418\n",
       "Income_from_financial_services                    432\n",
       "Other_income                                      317\n",
       "Total_capital                                     444\n",
       "Reserves_and_funds                                526\n",
       "Deposits_accepted_by_commercial_banks               0\n",
       "Borrowings                                        432\n",
       "Current_liabilities_&_provisions                  482\n",
       "Deferred_tax_liability                            331\n",
       "Shareholders_funds                                495\n",
       "Cumulative_retained_profits                       575\n",
       "Capital_employed                                  477\n",
       "TOL_to_TNW                                        335\n",
       "Total_term_liabilities__to__tangible_net_worth    328\n",
       "Contingent_liabilities__to__Net_worth_perc        391\n",
       "Contingent_liabilities                            327\n",
       "Net_fixed_assets                                  468\n",
       "Investments                                       365\n",
       "Current_assets                                    451\n",
       "Net_working_capital                               672\n",
       "Quick_ratio_times                                 313\n",
       "Current_ratio_times                               335\n",
       "Debt_to_equity_ratio_times                        310\n",
       "Cash_to_current_liabilities_times                 452\n",
       "Cash_to_average_cost_of_sales_per_day             483\n",
       "Creditors_turnover                                369\n",
       "Debtors_turnover                                  336\n",
       "Finished_goods_turnover                           326\n",
       "WIP_turnover                                      316\n",
       "Raw_material_turnover                             247\n",
       "Shares_outstanding                                393\n",
       "Equity_face_value                                 436\n",
       "EPS                                               540\n",
       "Adjusted_EPS                                      582\n",
       "Total_liabilities                                 484\n",
       "PE_on_BSE                                         201\n",
       "dtype: int64"
      ]
     },
     "execution_count": 19,
     "metadata": {},
     "output_type": "execute_result"
    }
   ],
   "source": [
    "((Company_X > UL) | (Company_X < LL)).sum()"
   ]
  },
  {
   "cell_type": "code",
   "execution_count": 20,
   "metadata": {},
   "outputs": [],
   "source": [
    "Company_X[((Company_X > UL) | (Company_X < LL))]= np.nan"
   ]
  },
  {
   "cell_type": "code",
   "execution_count": 21,
   "metadata": {},
   "outputs": [
    {
     "data": {
      "text/plain": [
       "Num                                                  0\n",
       "Networth_Next_Year                                 506\n",
       "Total_assets                                       484\n",
       "Net_worth                                          499\n",
       "Total_income                                       625\n",
       "Change_in_stock                                   1079\n",
       "Total_expenses                                     571\n",
       "Profit_after_tax                                   708\n",
       "PBDITA                                             614\n",
       "PBT                                                707\n",
       "Cash_profit                                        646\n",
       "PBDITA_as_perc_of_total_income                     355\n",
       "PBT_as_perc_of_total_income                        521\n",
       "PAT_as_perc_of_total_income                        570\n",
       "Cash_profit_as_perc_of_total_income                421\n",
       "PAT_as_perc_of_net_worth                           344\n",
       "Sales                                              677\n",
       "Income_from_financial_services                    1367\n",
       "Other_income                                      1612\n",
       "Total_capital                                      448\n",
       "Reserves_and_funds                                 611\n",
       "Deposits_accepted_by_commercial_banks             3541\n",
       "Borrowings                                         798\n",
       "Current_liabilities_&_provisions                   578\n",
       "Deferred_tax_liability                            1471\n",
       "Shareholders_funds                                 495\n",
       "Cumulative_retained_profits                        613\n",
       "Capital_employed                                   477\n",
       "TOL_to_TNW                                         335\n",
       "Total_term_liabilities__to__tangible_net_worth     328\n",
       "Contingent_liabilities__to__Net_worth_perc         391\n",
       "Contingent_liabilities                            1515\n",
       "Net_fixed_assets                                   586\n",
       "Investments                                       1800\n",
       "Current_assets                                     517\n",
       "Net_working_capital                                704\n",
       "Quick_ratio_times                                  406\n",
       "Current_ratio_times                                428\n",
       "Debt_to_equity_ratio_times                         310\n",
       "Cash_to_current_liabilities_times                  545\n",
       "Cash_to_average_cost_of_sales_per_day              568\n",
       "Creditors_turnover                                 702\n",
       "Debtors_turnover                                   664\n",
       "Finished_goods_turnover                           1066\n",
       "WIP_turnover                                       956\n",
       "Raw_material_turnover                              608\n",
       "Shares_outstanding                                1085\n",
       "Equity_face_value                                 1128\n",
       "EPS                                                540\n",
       "Adjusted_EPS                                       582\n",
       "Total_liabilities                                  484\n",
       "PE_on_BSE                                         2395\n",
       "dtype: int64"
      ]
     },
     "execution_count": 21,
     "metadata": {},
     "output_type": "execute_result"
    }
   ],
   "source": [
    "Company_X.isnull().sum()"
   ]
  },
  {
   "cell_type": "code",
   "execution_count": 22,
   "metadata": {},
   "outputs": [
    {
     "data": {
      "text/plain": [
       "39981"
      ]
     },
     "execution_count": 22,
     "metadata": {},
     "output_type": "execute_result"
    }
   ],
   "source": [
    "Company_X.isnull().sum().sum()"
   ]
  },
  {
   "cell_type": "code",
   "execution_count": 23,
   "metadata": {},
   "outputs": [],
   "source": [
    "Company_X = Company_X.drop(['Num', 'Networth_Next_Year', 'Equity_face_value'], axis = 1)"
   ]
  },
  {
   "cell_type": "code",
   "execution_count": 24,
   "metadata": {},
   "outputs": [
    {
     "data": {
      "text/plain": [
       "(3541, 49)"
      ]
     },
     "execution_count": 24,
     "metadata": {},
     "output_type": "execute_result"
    }
   ],
   "source": [
    "Company_X.shape"
   ]
  },
  {
   "cell_type": "code",
   "execution_count": 25,
   "metadata": {},
   "outputs": [],
   "source": [
    "Company_sub1 = pd.concat([Company_X, Company_Y], axis =1 )"
   ]
  },
  {
   "cell_type": "markdown",
   "metadata": {},
   "source": [
    "#### Let's visually inspect the missing values in our data"
   ]
  },
  {
   "cell_type": "code",
   "execution_count": 26,
   "metadata": {},
   "outputs": [
    {
     "data": {
      "image/png": "[encoded data removed]",
      "text/plain": [
       "<Figure size 864x576 with 1 Axes>"
      ]
     },
     "metadata": {
      "needs_background": "light"
     },
     "output_type": "display_data"
    }
   ],
   "source": [
    "plt.figure(figsize = (12,8))\n",
    "sns.heatmap(Company_sub1.isnull(), cbar = False, cmap = 'coolwarm', yticklabels = False)\n",
    "plt.show()"
   ]
  },
  {
   "cell_type": "markdown",
   "metadata": {},
   "source": [
    "#### We should inspect total missing values by each row."
   ]
  },
  {
   "cell_type": "code",
   "execution_count": 27,
   "metadata": {},
   "outputs": [
    {
     "data": {
      "text/plain": [
       "0       30\n",
       "1        3\n",
       "2        3\n",
       "3       23\n",
       "4        3\n",
       "        ..\n",
       "3536     5\n",
       "3537     7\n",
       "3538     2\n",
       "3539     7\n",
       "3540    22\n",
       "Length: 3541, dtype: int64"
      ]
     },
     "execution_count": 27,
     "metadata": {},
     "output_type": "execute_result"
    }
   ],
   "source": [
    "Company_sub1.isnull().sum(axis = 1)"
   ]
  },
  {
   "cell_type": "code",
   "execution_count": 28,
   "metadata": {},
   "outputs": [],
   "source": [
    "Company_sub1_temp = Company_sub1[Company_sub1.isnull().sum(axis = 1) <= 5]"
   ]
  },
  {
   "cell_type": "code",
   "execution_count": 29,
   "metadata": {
    "scrolled": true
   },
   "outputs": [
    {
     "data": {
      "text/plain": [
       "(1082, 50)"
      ]
     },
     "execution_count": 29,
     "metadata": {},
     "output_type": "execute_result"
    }
   ],
   "source": [
    "Company_sub1_temp.shape"
   ]
  },
  {
   "cell_type": "code",
   "execution_count": 30,
   "metadata": {},
   "outputs": [
    {
     "data": {
      "text/plain": [
       "0    1063\n",
       "1      19\n",
       "Name: default, dtype: int64"
      ]
     },
     "execution_count": 30,
     "metadata": {},
     "output_type": "execute_result"
    }
   ],
   "source": [
    "Company_sub1_temp['default'].value_counts()"
   ]
  },
  {
   "cell_type": "code",
   "execution_count": 31,
   "metadata": {},
   "outputs": [
    {
     "data": {
      "text/plain": [
       "0.07818930041152264"
      ]
     },
     "execution_count": 31,
     "metadata": {},
     "output_type": "execute_result"
    }
   ],
   "source": [
    "19/243"
   ]
  },
  {
   "cell_type": "markdown",
   "metadata": {},
   "source": [
    "If we consider availability of features for deciding the observations to be considered, we will end up losing more than 90% of the actual defaulters."
   ]
  },
  {
   "cell_type": "code",
   "execution_count": 32,
   "metadata": {},
   "outputs": [
    {
     "data": {
      "text/plain": [
       "0    3298\n",
       "1     243\n",
       "Name: default, dtype: int64"
      ]
     },
     "execution_count": 32,
     "metadata": {},
     "output_type": "execute_result"
    }
   ],
   "source": [
    "Company_sub1['default'].value_counts()"
   ]
  },
  {
   "cell_type": "code",
   "execution_count": 33,
   "metadata": {
    "scrolled": true
   },
   "outputs": [
    {
     "data": {
      "text/plain": [
       "Deposits_accepted_by_commercial_banks            1.00\n",
       "PE_on_BSE                                        0.68\n",
       "Investments                                      0.51\n",
       "Other_income                                     0.46\n",
       "Contingent_liabilities                           0.43\n",
       "Deferred_tax_liability                           0.42\n",
       "Income_from_financial_services                   0.39\n",
       "Shares_outstanding                               0.31\n",
       "Change_in_stock                                  0.30\n",
       "Finished_goods_turnover                          0.30\n",
       "WIP_turnover                                     0.27\n",
       "Borrowings                                       0.23\n",
       "Profit_after_tax                                 0.20\n",
       "PBT                                              0.20\n",
       "Net_working_capital                              0.20\n",
       "Creditors_turnover                               0.20\n",
       "Sales                                            0.19\n",
       "Debtors_turnover                                 0.19\n",
       "Cash_profit                                      0.18\n",
       "Total_income                                     0.18\n",
       "PBDITA                                           0.17\n",
       "Cumulative_retained_profits                      0.17\n",
       "Reserves_and_funds                               0.17\n",
       "Raw_material_turnover                            0.17\n",
       "Net_fixed_assets                                 0.17\n",
       "Adjusted_EPS                                     0.16\n",
       "Current_liabilities_&_provisions                 0.16\n",
       "Total_expenses                                   0.16\n",
       "PAT_as_perc_of_total_income                      0.16\n",
       "Cash_to_average_cost_of_sales_per_day            0.16\n",
       "Cash_to_current_liabilities_times                0.15\n",
       "EPS                                              0.15\n",
       "PBT_as_perc_of_total_income                      0.15\n",
       "Current_assets                                   0.15\n",
       "Net_worth                                        0.14\n",
       "Shareholders_funds                               0.14\n",
       "Total_assets                                     0.14\n",
       "Total_liabilities                                0.14\n",
       "Capital_employed                                 0.13\n",
       "Total_capital                                    0.13\n",
       "Current_ratio_times                              0.12\n",
       "Cash_profit_as_perc_of_total_income              0.12\n",
       "Quick_ratio_times                                0.11\n",
       "Contingent_liabilities__to__Net_worth_perc       0.11\n",
       "PBDITA_as_perc_of_total_income                   0.10\n",
       "PAT_as_perc_of_net_worth                         0.10\n",
       "TOL_to_TNW                                       0.09\n",
       "Total_term_liabilities__to__tangible_net_worth   0.09\n",
       "Debt_to_equity_ratio_times                       0.09\n",
       "default                                          0.00\n",
       "dtype: float64"
      ]
     },
     "execution_count": 33,
     "metadata": {},
     "output_type": "execute_result"
    }
   ],
   "source": [
    "Company_sub1.isnull().sum().sort_values(ascending = False)/Company_sub1.index.size"
   ]
  },
  {
   "cell_type": "markdown",
   "metadata": {},
   "source": [
    "#### Dropping columns with more than 30% missing values "
   ]
  },
  {
   "cell_type": "code",
   "execution_count": 34,
   "metadata": {},
   "outputs": [],
   "source": [
    "Company_sub2 = Company_sub1.drop(['Deposits_accepted_by_commercial_banks', 'PE_on_BSE', \n",
    "                             'Investments', 'Other_income', 'Contingent_liabilities', \n",
    "                             'Deferred_tax_liability', 'Income_from_financial_services',\n",
    "                                  'Shares_outstanding'],\n",
    "                           axis = 1)"
   ]
  },
  {
   "cell_type": "code",
   "execution_count": 35,
   "metadata": {
    "scrolled": true
   },
   "outputs": [
    {
     "data": {
      "text/plain": [
       "(3541, 42)"
      ]
     },
     "execution_count": 35,
     "metadata": {},
     "output_type": "execute_result"
    }
   ],
   "source": [
    "Company_sub2.shape"
   ]
  },
  {
   "cell_type": "markdown",
   "metadata": {},
   "source": [
    "#### Segregate the predictors and response "
   ]
  },
  {
   "cell_type": "code",
   "execution_count": 36,
   "metadata": {},
   "outputs": [],
   "source": [
    "predictors = Company_sub2.drop('default', axis = 1)\n",
    "response = Company_sub2['default']"
   ]
  },
  {
   "cell_type": "markdown",
   "metadata": {},
   "source": [
    "#### Scale the predictors "
   ]
  },
  {
   "cell_type": "code",
   "execution_count": 37,
   "metadata": {},
   "outputs": [],
   "source": [
    "from sklearn.preprocessing import StandardScaler\n",
    "scaler = StandardScaler()\n",
    "scaled_predictors = pd.DataFrame(scaler.fit_transform(predictors), columns = predictors.columns)"
   ]
  },
  {
   "cell_type": "code",
   "execution_count": 38,
   "metadata": {},
   "outputs": [],
   "source": [
    "Company_sub3 = pd.concat([scaled_predictors, response], axis = 1)"
   ]
  },
  {
   "cell_type": "code",
   "execution_count": null,
   "metadata": {},
   "outputs": [],
   "source": []
  },
  {
   "cell_type": "markdown",
   "metadata": {},
   "source": [
    "#### Imputing the remaining missing values"
   ]
  },
  {
   "cell_type": "code",
   "execution_count": 39,
   "metadata": {},
   "outputs": [],
   "source": [
    "from sklearn.impute import KNNImputer"
   ]
  },
  {
   "cell_type": "code",
   "execution_count": 40,
   "metadata": {},
   "outputs": [],
   "source": [
    "imputer = KNNImputer(n_neighbors=10)"
   ]
  },
  {
   "cell_type": "code",
   "execution_count": 41,
   "metadata": {},
   "outputs": [],
   "source": [
    "Company_imputed = pd.DataFrame(imputer.fit_transform(Company_sub3), columns = Company_sub3.columns)"
   ]
  },
  {
   "cell_type": "code",
   "execution_count": 42,
   "metadata": {
    "scrolled": true
   },
   "outputs": [
    {
     "data": {
      "text/plain": [
       "Total_assets                                      0\n",
       "Net_worth                                         0\n",
       "Total_income                                      0\n",
       "Change_in_stock                                   0\n",
       "Total_expenses                                    0\n",
       "Profit_after_tax                                  0\n",
       "PBDITA                                            0\n",
       "PBT                                               0\n",
       "Cash_profit                                       0\n",
       "PBDITA_as_perc_of_total_income                    0\n",
       "PBT_as_perc_of_total_income                       0\n",
       "PAT_as_perc_of_total_income                       0\n",
       "Cash_profit_as_perc_of_total_income               0\n",
       "PAT_as_perc_of_net_worth                          0\n",
       "Sales                                             0\n",
       "Total_capital                                     0\n",
       "Reserves_and_funds                                0\n",
       "Borrowings                                        0\n",
       "Current_liabilities_&_provisions                  0\n",
       "Shareholders_funds                                0\n",
       "Cumulative_retained_profits                       0\n",
       "Capital_employed                                  0\n",
       "TOL_to_TNW                                        0\n",
       "Total_term_liabilities__to__tangible_net_worth    0\n",
       "Contingent_liabilities__to__Net_worth_perc        0\n",
       "Net_fixed_assets                                  0\n",
       "Current_assets                                    0\n",
       "Net_working_capital                               0\n",
       "Quick_ratio_times                                 0\n",
       "Current_ratio_times                               0\n",
       "Debt_to_equity_ratio_times                        0\n",
       "Cash_to_current_liabilities_times                 0\n",
       "Cash_to_average_cost_of_sales_per_day             0\n",
       "Creditors_turnover                                0\n",
       "Debtors_turnover                                  0\n",
       "Finished_goods_turnover                           0\n",
       "WIP_turnover                                      0\n",
       "Raw_material_turnover                             0\n",
       "EPS                                               0\n",
       "Adjusted_EPS                                      0\n",
       "Total_liabilities                                 0\n",
       "default                                           0\n",
       "dtype: int64"
      ]
     },
     "execution_count": 42,
     "metadata": {},
     "output_type": "execute_result"
    }
   ],
   "source": [
    "Company_imputed.isnull().sum()"
   ]
  },
  {
   "cell_type": "markdown",
   "metadata": {},
   "source": [
    "#### Inspect possible correlations between independent variables "
   ]
  },
  {
   "cell_type": "code",
   "execution_count": 43,
   "metadata": {},
   "outputs": [
    {
     "data": {
      "text/plain": [
       "<AxesSubplot:>"
      ]
     },
     "execution_count": 43,
     "metadata": {},
     "output_type": "execute_result"
    },
    {
     "data": {
      "image/png": "[encoded data removed]",
      "text/plain": [
       "<Figure size 864x576 with 2 Axes>"
      ]
     },
     "metadata": {
      "needs_background": "light"
     },
     "output_type": "display_data"
    }
   ],
   "source": [
    "plt.figure(figsize = (12,8))\n",
    "cor_matrix = Company_imputed.drop('default', axis = 1).corr()\n",
    "sns.heatmap(cor_matrix, cmap = 'plasma', vmin = -1, vmax= 1)"
   ]
  },
  {
   "cell_type": "code",
   "execution_count": 44,
   "metadata": {},
   "outputs": [],
   "source": [
    "predictors = Company_imputed.drop('default', axis = 1)\n",
    "response = Company_imputed['default']"
   ]
  },
  {
   "cell_type": "code",
   "execution_count": 45,
   "metadata": {},
   "outputs": [],
   "source": [
    "from sklearn.model_selection import train_test_split\n",
    "from sklearn.feature_selection import RFE\n",
    "from sklearn.linear_model import LogisticRegression"
   ]
  },
  {
   "cell_type": "markdown",
   "metadata": {},
   "source": [
    "#### Splitting the data into train and test sets"
   ]
  },
  {
   "cell_type": "code",
   "execution_count": 46,
   "metadata": {},
   "outputs": [],
   "source": [
    "X_train, X_test, y_train, y_test = train_test_split(predictors, response, \n",
    "                                                    test_size = 0.3, random_state = 2)"
   ]
  },
  {
   "cell_type": "markdown",
   "metadata": {},
   "source": [
    "#### For modeling we will use Logistic Regression with recursive feature elimination"
   ]
  },
  {
   "cell_type": "code",
   "execution_count": 47,
   "metadata": {},
   "outputs": [],
   "source": [
    "LogR = LogisticRegression()"
   ]
  },
  {
   "cell_type": "code",
   "execution_count": 48,
   "metadata": {},
   "outputs": [],
   "source": [
    "selector = RFE(estimator = LogR, n_features_to_select=15, step=1)"
   ]
  },
  {
   "cell_type": "code",
   "execution_count": 49,
   "metadata": {},
   "outputs": [],
   "source": [
    "selector = selector.fit(X_train, y_train)"
   ]
  },
  {
   "cell_type": "code",
   "execution_count": 50,
   "metadata": {},
   "outputs": [
    {
     "data": {
      "text/plain": [
       "15"
      ]
     },
     "execution_count": 50,
     "metadata": {},
     "output_type": "execute_result"
    }
   ],
   "source": [
    "selector.n_features_"
   ]
  },
  {
   "cell_type": "code",
   "execution_count": 51,
   "metadata": {},
   "outputs": [
    {
     "data": {
      "text/plain": [
       "array([12, 10,  1,  1,  1, 15,  1, 16, 19,  1, 21,  1,  6,  4,  1, 14,  1,\n",
       "       27, 24,  1,  1,  1, 17,  8, 20,  1,  2,  1, 26, 11,  7, 18, 22,  1,\n",
       "       23,  5, 25,  9,  1, 13,  3])"
      ]
     },
     "execution_count": 51,
     "metadata": {},
     "output_type": "execute_result"
    }
   ],
   "source": [
    "selector.ranking_"
   ]
  },
  {
   "cell_type": "code",
   "execution_count": 52,
   "metadata": {},
   "outputs": [
    {
     "data": {
      "text/html": [
       "<div>\n",
       "<style scoped>\n",
       "    .dataframe tbody tr th:only-of-type {\n",
       "        vertical-align: middle;\n",
       "    }\n",
       "\n",
       "    .dataframe tbody tr th {\n",
       "        vertical-align: top;\n",
       "    }\n",
       "\n",
       "    .dataframe thead th {\n",
       "        text-align: right;\n",
       "    }\n",
       "</style>\n",
       "<table border=\"1\" class=\"dataframe\">\n",
       "  <thead>\n",
       "    <tr style=\"text-align: right;\">\n",
       "      <th></th>\n",
       "      <th>Feature</th>\n",
       "      <th>Rank</th>\n",
       "    </tr>\n",
       "  </thead>\n",
       "  <tbody>\n",
       "    <tr>\n",
       "      <th>2</th>\n",
       "      <td>Total_income</td>\n",
       "      <td>1</td>\n",
       "    </tr>\n",
       "    <tr>\n",
       "      <th>3</th>\n",
       "      <td>Change_in_stock</td>\n",
       "      <td>1</td>\n",
       "    </tr>\n",
       "    <tr>\n",
       "      <th>4</th>\n",
       "      <td>Total_expenses</td>\n",
       "      <td>1</td>\n",
       "    </tr>\n",
       "    <tr>\n",
       "      <th>6</th>\n",
       "      <td>PBDITA</td>\n",
       "      <td>1</td>\n",
       "    </tr>\n",
       "    <tr>\n",
       "      <th>9</th>\n",
       "      <td>PBDITA_as_perc_of_total_income</td>\n",
       "      <td>1</td>\n",
       "    </tr>\n",
       "    <tr>\n",
       "      <th>11</th>\n",
       "      <td>PAT_as_perc_of_total_income</td>\n",
       "      <td>1</td>\n",
       "    </tr>\n",
       "    <tr>\n",
       "      <th>14</th>\n",
       "      <td>Sales</td>\n",
       "      <td>1</td>\n",
       "    </tr>\n",
       "    <tr>\n",
       "      <th>16</th>\n",
       "      <td>Reserves_and_funds</td>\n",
       "      <td>1</td>\n",
       "    </tr>\n",
       "    <tr>\n",
       "      <th>19</th>\n",
       "      <td>Shareholders_funds</td>\n",
       "      <td>1</td>\n",
       "    </tr>\n",
       "    <tr>\n",
       "      <th>20</th>\n",
       "      <td>Cumulative_retained_profits</td>\n",
       "      <td>1</td>\n",
       "    </tr>\n",
       "    <tr>\n",
       "      <th>21</th>\n",
       "      <td>Capital_employed</td>\n",
       "      <td>1</td>\n",
       "    </tr>\n",
       "    <tr>\n",
       "      <th>25</th>\n",
       "      <td>Net_fixed_assets</td>\n",
       "      <td>1</td>\n",
       "    </tr>\n",
       "    <tr>\n",
       "      <th>27</th>\n",
       "      <td>Net_working_capital</td>\n",
       "      <td>1</td>\n",
       "    </tr>\n",
       "    <tr>\n",
       "      <th>33</th>\n",
       "      <td>Creditors_turnover</td>\n",
       "      <td>1</td>\n",
       "    </tr>\n",
       "    <tr>\n",
       "      <th>38</th>\n",
       "      <td>EPS</td>\n",
       "      <td>1</td>\n",
       "    </tr>\n",
       "  </tbody>\n",
       "</table>\n",
       "</div>"
      ],
      "text/plain": [
       "                           Feature  Rank\n",
       "2                     Total_income     1\n",
       "3                  Change_in_stock     1\n",
       "4                   Total_expenses     1\n",
       "6                           PBDITA     1\n",
       "9   PBDITA_as_perc_of_total_income     1\n",
       "11     PAT_as_perc_of_total_income     1\n",
       "14                           Sales     1\n",
       "16              Reserves_and_funds     1\n",
       "19              Shareholders_funds     1\n",
       "20     Cumulative_retained_profits     1\n",
       "21                Capital_employed     1\n",
       "25                Net_fixed_assets     1\n",
       "27             Net_working_capital     1\n",
       "33              Creditors_turnover     1\n",
       "38                             EPS     1"
      ]
     },
     "execution_count": 52,
     "metadata": {},
     "output_type": "execute_result"
    }
   ],
   "source": [
    "df = pd.DataFrame({'Feature': scaled_predictors.columns, 'Rank': selector.ranking_})\n",
    "df[df['Rank'] == 1]"
   ]
  },
  {
   "cell_type": "markdown",
   "metadata": {},
   "source": [
    "#### Validating the model on train and test set "
   ]
  },
  {
   "cell_type": "code",
   "execution_count": 53,
   "metadata": {},
   "outputs": [],
   "source": [
    "from sklearn.metrics import confusion_matrix, classification_report"
   ]
  },
  {
   "cell_type": "code",
   "execution_count": 54,
   "metadata": {},
   "outputs": [],
   "source": [
    "pred_train = selector.predict(X_train)\n",
    "pred_test = selector.predict(X_test)"
   ]
  },
  {
   "cell_type": "code",
   "execution_count": 55,
   "metadata": {},
   "outputs": [
    {
     "name": "stdout",
     "output_type": "stream",
     "text": [
      "[[2286   17]\n",
      " [ 129   46]]\n"
     ]
    }
   ],
   "source": [
    "print(confusion_matrix(y_train, pred_train))"
   ]
  },
  {
   "cell_type": "code",
   "execution_count": 56,
   "metadata": {},
   "outputs": [
    {
     "name": "stdout",
     "output_type": "stream",
     "text": [
      "              precision    recall  f1-score   support\n",
      "\n",
      "         0.0       0.95      0.99      0.97      2303\n",
      "         1.0       0.73      0.26      0.39       175\n",
      "\n",
      "    accuracy                           0.94      2478\n",
      "   macro avg       0.84      0.63      0.68      2478\n",
      "weighted avg       0.93      0.94      0.93      2478\n",
      "\n"
     ]
    }
   ],
   "source": [
    "print(classification_report(y_train, pred_train))"
   ]
  },
  {
   "cell_type": "code",
   "execution_count": 57,
   "metadata": {},
   "outputs": [
    {
     "name": "stdout",
     "output_type": "stream",
     "text": [
      "[[978  17]\n",
      " [ 53  15]]\n"
     ]
    }
   ],
   "source": [
    "print(confusion_matrix(y_test, pred_test))"
   ]
  },
  {
   "cell_type": "code",
   "execution_count": 58,
   "metadata": {},
   "outputs": [
    {
     "name": "stdout",
     "output_type": "stream",
     "text": [
      "              precision    recall  f1-score   support\n",
      "\n",
      "         0.0       0.95      0.98      0.97       995\n",
      "         1.0       0.47      0.22      0.30        68\n",
      "\n",
      "    accuracy                           0.93      1063\n",
      "   macro avg       0.71      0.60      0.63      1063\n",
      "weighted avg       0.92      0.93      0.92      1063\n",
      "\n"
     ]
    }
   ],
   "source": [
    "print(classification_report(y_test, pred_test))"
   ]
  },
  {
   "cell_type": "markdown",
   "metadata": {},
   "source": [
    "We see poor recall score for both train and test"
   ]
  },
  {
   "cell_type": "markdown",
   "metadata": {},
   "source": [
    "Since only 7% of the total data had defaults, we will now try to balance the data before fiting the model. "
   ]
  },
  {
   "cell_type": "code",
   "execution_count": 59,
   "metadata": {},
   "outputs": [],
   "source": [
    "from imblearn.over_sampling import SMOTE \n",
    "sm = SMOTE(random_state=33)\n",
    "X_res, y_res = sm.fit_resample(X_train, y_train)"
   ]
  },
  {
   "cell_type": "code",
   "execution_count": 60,
   "metadata": {},
   "outputs": [],
   "source": [
    "selector_smote = selector.fit(X_res, y_res)"
   ]
  },
  {
   "cell_type": "code",
   "execution_count": 61,
   "metadata": {},
   "outputs": [
    {
     "data": {
      "text/plain": [
       "15"
      ]
     },
     "execution_count": 61,
     "metadata": {},
     "output_type": "execute_result"
    }
   ],
   "source": [
    "selector_smote.n_features_"
   ]
  },
  {
   "cell_type": "code",
   "execution_count": 62,
   "metadata": {},
   "outputs": [],
   "source": [
    "pred_train_smote = selector_smote.predict(X_res)\n",
    "pred_test_smote = selector_smote.predict(X_test)"
   ]
  },
  {
   "cell_type": "code",
   "execution_count": 63,
   "metadata": {},
   "outputs": [
    {
     "name": "stdout",
     "output_type": "stream",
     "text": [
      "              precision    recall  f1-score   support\n",
      "\n",
      "         0.0       0.89      0.82      0.86      2303\n",
      "         1.0       0.84      0.90      0.87      2303\n",
      "\n",
      "    accuracy                           0.86      4606\n",
      "   macro avg       0.86      0.86      0.86      4606\n",
      "weighted avg       0.86      0.86      0.86      4606\n",
      "\n"
     ]
    }
   ],
   "source": [
    "print(classification_report(y_res, pred_train_smote))"
   ]
  },
  {
   "cell_type": "code",
   "execution_count": 64,
   "metadata": {
    "scrolled": true
   },
   "outputs": [
    {
     "name": "stdout",
     "output_type": "stream",
     "text": [
      "              precision    recall  f1-score   support\n",
      "\n",
      "         0.0       0.99      0.81      0.89       995\n",
      "         1.0       0.23      0.85      0.37        68\n",
      "\n",
      "    accuracy                           0.81      1063\n",
      "   macro avg       0.61      0.83      0.63      1063\n",
      "weighted avg       0.94      0.81      0.86      1063\n",
      "\n"
     ]
    }
   ],
   "source": [
    "print(classification_report(y_test, pred_test_smote))"
   ]
  },
  {
   "cell_type": "markdown",
   "metadata": {},
   "source": [
    "Finally, we are able to achieve a descent recall value without overfitting. Considering the opportunities such as outliers, missing values and correlated features this is a fairly good model. It can be improved if we get better quality data where the features explaining the default are not missing to this extent. Of course we can try other techniques which are not sensitive towards missing values and outliers."
   ]
  },
  {
   "cell_type": "markdown",
   "metadata": {},
   "source": [
    "## END"
   ]
  }
 ],
 "metadata": {
  "kernelspec": {
   "display_name": "Python 3",
   "language": "python",
   "name": "python3"
  },
  "language_info": {
   "codemirror_mode": {
    "name": "ipython",
    "version": 3
   },
   "file_extension": ".py",
   "mimetype": "text/x-python",
   "name": "python",
   "nbconvert_exporter": "python",
   "pygments_lexer": "ipython3",
   "version": "3.8.8"
  }
 },
 "nbformat": 4,
 "nbformat_minor": 2
}
