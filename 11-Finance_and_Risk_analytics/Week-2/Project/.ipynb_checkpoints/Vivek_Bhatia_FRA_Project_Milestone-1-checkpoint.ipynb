{
 "cells": [
  {
   "cell_type": "code",
   "execution_count": 1,
   "id": "7708c09b",
   "metadata": {},
   "outputs": [],
   "source": [
    "import pandas as pd\n",
    "import numpy as np\n",
    "import seaborn as sns\n",
    "import matplotlib.pyplot as plt\n",
    "%matplotlib inline"
   ]
  },
  {
   "cell_type": "markdown",
   "id": "4094ea40",
   "metadata": {},
   "source": [
    "Businesses or companies can fall prey to default if they are not able to keep up their debt obligations. Defaults will lead to a lower credit rating for the company which in turn reduces its chances of getting credit in the future and may have to pay higher interests on existing debts as well as any new obligations. From an investor's point of view, he would want to invest in a company if it is capable of handling its financial obligations, can grow quickly, and is able to manage the growth scale.\n",
    "\n",
    "A balance sheet is a financial statement of a company that provides a snapshot of what a company owns, owes, and the amount invested by the shareholders. Thus, it is an important tool that helps evaluate the performance of a business.\n",
    "\n",
    "Data that is available includes information from the financial statement of the companies for the previous year (2015). Also, information about the Networth of the company in the following year (2016) is provided which can be used to drive the labeled field."
   ]
  },
  {
   "cell_type": "markdown",
   "id": "8d789245",
   "metadata": {},
   "source": [
    "We need to create a default variable that should take the value of 1 when net worth next year is negative & 0 when net worth next year is positive.\n",
    "\n",
    "Test Train Split -   Split the data into Train and Test dataset in a ratio of 67:33 and use random_state =42. Model Building is to be done on Train Dataset and Model Validation is to be done on Test Dataset."
   ]
  },
  {
   "cell_type": "code",
   "execution_count": 3,
   "id": "0b13448d",
   "metadata": {},
   "outputs": [
    {
     "ename": "FileNotFoundError",
     "evalue": "[Errno 2] No such file or directory: 'Company_Data2015-1.xlsx'",
     "output_type": "error",
     "traceback": [
      "\u001b[1;31m---------------------------------------------------------------------------\u001b[0m",
      "\u001b[1;31mFileNotFoundError\u001b[0m                         Traceback (most recent call last)",
      "\u001b[1;32m<ipython-input-3-d86fbe86270b>\u001b[0m in \u001b[0;36m<module>\u001b[1;34m\u001b[0m\n\u001b[1;32m----> 1\u001b[1;33m \u001b[0mdf\u001b[0m\u001b[1;33m=\u001b[0m\u001b[0mpd\u001b[0m\u001b[1;33m.\u001b[0m\u001b[0mread_excel\u001b[0m\u001b[1;33m(\u001b[0m\u001b[1;34m'Company_Data2015-1.xlsx'\u001b[0m\u001b[1;33m)\u001b[0m\u001b[1;33m\u001b[0m\u001b[1;33m\u001b[0m\u001b[0m\n\u001b[0m",
      "\u001b[1;32mC:\\Anaconda3\\lib\\site-packages\\pandas\\util\\_decorators.py\u001b[0m in \u001b[0;36mwrapper\u001b[1;34m(*args, **kwargs)\u001b[0m\n\u001b[0;32m    297\u001b[0m                 )\n\u001b[0;32m    298\u001b[0m                 \u001b[0mwarnings\u001b[0m\u001b[1;33m.\u001b[0m\u001b[0mwarn\u001b[0m\u001b[1;33m(\u001b[0m\u001b[0mmsg\u001b[0m\u001b[1;33m,\u001b[0m \u001b[0mFutureWarning\u001b[0m\u001b[1;33m,\u001b[0m \u001b[0mstacklevel\u001b[0m\u001b[1;33m=\u001b[0m\u001b[0mstacklevel\u001b[0m\u001b[1;33m)\u001b[0m\u001b[1;33m\u001b[0m\u001b[1;33m\u001b[0m\u001b[0m\n\u001b[1;32m--> 299\u001b[1;33m             \u001b[1;32mreturn\u001b[0m \u001b[0mfunc\u001b[0m\u001b[1;33m(\u001b[0m\u001b[1;33m*\u001b[0m\u001b[0margs\u001b[0m\u001b[1;33m,\u001b[0m \u001b[1;33m**\u001b[0m\u001b[0mkwargs\u001b[0m\u001b[1;33m)\u001b[0m\u001b[1;33m\u001b[0m\u001b[1;33m\u001b[0m\u001b[0m\n\u001b[0m\u001b[0;32m    300\u001b[0m \u001b[1;33m\u001b[0m\u001b[0m\n\u001b[0;32m    301\u001b[0m         \u001b[1;32mreturn\u001b[0m \u001b[0mwrapper\u001b[0m\u001b[1;33m\u001b[0m\u001b[1;33m\u001b[0m\u001b[0m\n",
      "\u001b[1;32mC:\\Anaconda3\\lib\\site-packages\\pandas\\io\\excel\\_base.py\u001b[0m in \u001b[0;36mread_excel\u001b[1;34m(io, sheet_name, header, names, index_col, usecols, squeeze, dtype, engine, converters, true_values, false_values, skiprows, nrows, na_values, keep_default_na, na_filter, verbose, parse_dates, date_parser, thousands, comment, skipfooter, convert_float, mangle_dupe_cols, storage_options)\u001b[0m\n\u001b[0;32m    334\u001b[0m     \u001b[1;32mif\u001b[0m \u001b[1;32mnot\u001b[0m \u001b[0misinstance\u001b[0m\u001b[1;33m(\u001b[0m\u001b[0mio\u001b[0m\u001b[1;33m,\u001b[0m \u001b[0mExcelFile\u001b[0m\u001b[1;33m)\u001b[0m\u001b[1;33m:\u001b[0m\u001b[1;33m\u001b[0m\u001b[1;33m\u001b[0m\u001b[0m\n\u001b[0;32m    335\u001b[0m         \u001b[0mshould_close\u001b[0m \u001b[1;33m=\u001b[0m \u001b[1;32mTrue\u001b[0m\u001b[1;33m\u001b[0m\u001b[1;33m\u001b[0m\u001b[0m\n\u001b[1;32m--> 336\u001b[1;33m         \u001b[0mio\u001b[0m \u001b[1;33m=\u001b[0m \u001b[0mExcelFile\u001b[0m\u001b[1;33m(\u001b[0m\u001b[0mio\u001b[0m\u001b[1;33m,\u001b[0m \u001b[0mstorage_options\u001b[0m\u001b[1;33m=\u001b[0m\u001b[0mstorage_options\u001b[0m\u001b[1;33m,\u001b[0m \u001b[0mengine\u001b[0m\u001b[1;33m=\u001b[0m\u001b[0mengine\u001b[0m\u001b[1;33m)\u001b[0m\u001b[1;33m\u001b[0m\u001b[1;33m\u001b[0m\u001b[0m\n\u001b[0m\u001b[0;32m    337\u001b[0m     \u001b[1;32melif\u001b[0m \u001b[0mengine\u001b[0m \u001b[1;32mand\u001b[0m \u001b[0mengine\u001b[0m \u001b[1;33m!=\u001b[0m \u001b[0mio\u001b[0m\u001b[1;33m.\u001b[0m\u001b[0mengine\u001b[0m\u001b[1;33m:\u001b[0m\u001b[1;33m\u001b[0m\u001b[1;33m\u001b[0m\u001b[0m\n\u001b[0;32m    338\u001b[0m         raise ValueError(\n",
      "\u001b[1;32mC:\\Anaconda3\\lib\\site-packages\\pandas\\io\\excel\\_base.py\u001b[0m in \u001b[0;36m__init__\u001b[1;34m(self, path_or_buffer, engine, storage_options)\u001b[0m\n\u001b[0;32m   1069\u001b[0m                 \u001b[0mext\u001b[0m \u001b[1;33m=\u001b[0m \u001b[1;34m\"xls\"\u001b[0m\u001b[1;33m\u001b[0m\u001b[1;33m\u001b[0m\u001b[0m\n\u001b[0;32m   1070\u001b[0m             \u001b[1;32melse\u001b[0m\u001b[1;33m:\u001b[0m\u001b[1;33m\u001b[0m\u001b[1;33m\u001b[0m\u001b[0m\n\u001b[1;32m-> 1071\u001b[1;33m                 ext = inspect_excel_format(\n\u001b[0m\u001b[0;32m   1072\u001b[0m                     \u001b[0mcontent\u001b[0m\u001b[1;33m=\u001b[0m\u001b[0mpath_or_buffer\u001b[0m\u001b[1;33m,\u001b[0m \u001b[0mstorage_options\u001b[0m\u001b[1;33m=\u001b[0m\u001b[0mstorage_options\u001b[0m\u001b[1;33m\u001b[0m\u001b[1;33m\u001b[0m\u001b[0m\n\u001b[0;32m   1073\u001b[0m                 )\n",
      "\u001b[1;32mC:\\Anaconda3\\lib\\site-packages\\pandas\\io\\excel\\_base.py\u001b[0m in \u001b[0;36minspect_excel_format\u001b[1;34m(path, content, storage_options)\u001b[0m\n\u001b[0;32m    947\u001b[0m     \u001b[1;32massert\u001b[0m \u001b[0mcontent_or_path\u001b[0m \u001b[1;32mis\u001b[0m \u001b[1;32mnot\u001b[0m \u001b[1;32mNone\u001b[0m\u001b[1;33m\u001b[0m\u001b[1;33m\u001b[0m\u001b[0m\n\u001b[0;32m    948\u001b[0m \u001b[1;33m\u001b[0m\u001b[0m\n\u001b[1;32m--> 949\u001b[1;33m     with get_handle(\n\u001b[0m\u001b[0;32m    950\u001b[0m         \u001b[0mcontent_or_path\u001b[0m\u001b[1;33m,\u001b[0m \u001b[1;34m\"rb\"\u001b[0m\u001b[1;33m,\u001b[0m \u001b[0mstorage_options\u001b[0m\u001b[1;33m=\u001b[0m\u001b[0mstorage_options\u001b[0m\u001b[1;33m,\u001b[0m \u001b[0mis_text\u001b[0m\u001b[1;33m=\u001b[0m\u001b[1;32mFalse\u001b[0m\u001b[1;33m\u001b[0m\u001b[1;33m\u001b[0m\u001b[0m\n\u001b[0;32m    951\u001b[0m     ) as handle:\n",
      "\u001b[1;32mC:\\Anaconda3\\lib\\site-packages\\pandas\\io\\common.py\u001b[0m in \u001b[0;36mget_handle\u001b[1;34m(path_or_buf, mode, encoding, compression, memory_map, is_text, errors, storage_options)\u001b[0m\n\u001b[0;32m    649\u001b[0m         \u001b[1;32melse\u001b[0m\u001b[1;33m:\u001b[0m\u001b[1;33m\u001b[0m\u001b[1;33m\u001b[0m\u001b[0m\n\u001b[0;32m    650\u001b[0m             \u001b[1;31m# Binary mode\u001b[0m\u001b[1;33m\u001b[0m\u001b[1;33m\u001b[0m\u001b[1;33m\u001b[0m\u001b[0m\n\u001b[1;32m--> 651\u001b[1;33m             \u001b[0mhandle\u001b[0m \u001b[1;33m=\u001b[0m \u001b[0mopen\u001b[0m\u001b[1;33m(\u001b[0m\u001b[0mhandle\u001b[0m\u001b[1;33m,\u001b[0m \u001b[0mioargs\u001b[0m\u001b[1;33m.\u001b[0m\u001b[0mmode\u001b[0m\u001b[1;33m)\u001b[0m\u001b[1;33m\u001b[0m\u001b[1;33m\u001b[0m\u001b[0m\n\u001b[0m\u001b[0;32m    652\u001b[0m         \u001b[0mhandles\u001b[0m\u001b[1;33m.\u001b[0m\u001b[0mappend\u001b[0m\u001b[1;33m(\u001b[0m\u001b[0mhandle\u001b[0m\u001b[1;33m)\u001b[0m\u001b[1;33m\u001b[0m\u001b[1;33m\u001b[0m\u001b[0m\n\u001b[0;32m    653\u001b[0m \u001b[1;33m\u001b[0m\u001b[0m\n",
      "\u001b[1;31mFileNotFoundError\u001b[0m: [Errno 2] No such file or directory: 'Company_Data2015-1.xlsx'"
     ]
    }
   ],
   "source": [
    "df=pd.read_excel('Company_Data2015-1.xlsx')"
   ]
  },
  {
   "cell_type": "code",
   "execution_count": null,
   "id": "81c4e7e8",
   "metadata": {},
   "outputs": [],
   "source": [
    "df.head()"
   ]
  },
  {
   "cell_type": "code",
   "execution_count": null,
   "id": "c104cffa",
   "metadata": {},
   "outputs": [],
   "source": [
    "df.shape"
   ]
  },
  {
   "cell_type": "code",
   "execution_count": null,
   "id": "d96617ed",
   "metadata": {},
   "outputs": [],
   "source": [
    "df.info()"
   ]
  },
  {
   "cell_type": "code",
   "execution_count": null,
   "id": "9dfa5784",
   "metadata": {},
   "outputs": [],
   "source": [
    "df.describe().T"
   ]
  },
  {
   "cell_type": "code",
   "execution_count": null,
   "id": "79b144eb",
   "metadata": {},
   "outputs": [],
   "source": [
    "df.duplicated().sum()"
   ]
  },
  {
   "cell_type": "markdown",
   "id": "34987d9a",
   "metadata": {},
   "source": [
    "Changing Field Name to New Filed Name as per data dictionary"
   ]
  },
  {
   "cell_type": "code",
   "execution_count": null,
   "id": "c93154ce",
   "metadata": {},
   "outputs": [],
   "source": [
    "df.columns = df.columns.str.strip().str.replace(' ', '_').str.replace('(', '').str.replace(')', '').str.replace('%', 'perc').str.replace('/','_by_').str.replace('&','and').str.replace('[','').str.replace(']','').str.replace('-','_').str.replace('.','')"
   ]
  },
  {
   "cell_type": "code",
   "execution_count": null,
   "id": "42e96513",
   "metadata": {},
   "outputs": [],
   "source": [
    "df.head()"
   ]
  },
  {
   "cell_type": "markdown",
   "id": "6f70a248",
   "metadata": {},
   "source": [
    "Transform Target variable into 0 and 1\n",
    "We need to create a default variable that should take the value of 1 when net worth next year is negative & 0 when net worth next year is positive."
   ]
  },
  {
   "cell_type": "code",
   "execution_count": null,
   "id": "61f8d71c",
   "metadata": {},
   "outputs": [],
   "source": [
    "df['default']=np.where((df['Networth_Next_Year']>0),0,1)"
   ]
  },
  {
   "cell_type": "code",
   "execution_count": null,
   "id": "e209e98e",
   "metadata": {},
   "outputs": [],
   "source": [
    "df.head()"
   ]
  },
  {
   "cell_type": "code",
   "execution_count": null,
   "id": "49503485",
   "metadata": {},
   "outputs": [],
   "source": [
    "df['default'].value_counts()"
   ]
  },
  {
   "cell_type": "markdown",
   "id": "eed7cbd2",
   "metadata": {},
   "source": [
    "Checking the proportion of default"
   ]
  },
  {
   "cell_type": "code",
   "execution_count": null,
   "id": "535dd257",
   "metadata": {},
   "outputs": [],
   "source": [
    "df.default.sum()/len(df.default)*100"
   ]
  },
  {
   "cell_type": "markdown",
   "id": "9b27b48f",
   "metadata": {},
   "source": [
    "Here we can see that 10.81 % of company fall under default category."
   ]
  },
  {
   "cell_type": "markdown",
   "id": "676d1b26",
   "metadata": {},
   "source": [
    "1.Dropping Co_Code and Co_Name as we do not need them for our analysis.\n",
    "2. Dropping Networth Next Year as we have already created a dependent default variable where we have taken take value of 1 when net worth next year is negative & 0 when net worth next year is positive."
   ]
  },
  {
   "cell_type": "code",
   "execution_count": null,
   "id": "feb9cc17",
   "metadata": {},
   "outputs": [],
   "source": [
    "df.drop(['Co_Code','Co_Name','Networth_Next_Year'],axis=1,inplace=True)"
   ]
  },
  {
   "cell_type": "code",
   "execution_count": null,
   "id": "5c5b23bb",
   "metadata": {},
   "outputs": [],
   "source": [
    "df.head()"
   ]
  },
  {
   "cell_type": "code",
   "execution_count": null,
   "id": "47401148",
   "metadata": {},
   "outputs": [],
   "source": [
    "df.shape"
   ]
  },
  {
   "cell_type": "markdown",
   "id": "81cd925e",
   "metadata": {},
   "source": [
    "Dropping the dependent variable for further analysis"
   ]
  },
  {
   "cell_type": "code",
   "execution_count": null,
   "id": "fef2fb62",
   "metadata": {},
   "outputs": [],
   "source": [
    "df_X = df.drop('default', axis = 1)\n",
    "df_Y = df['default']"
   ]
  },
  {
   "cell_type": "code",
   "execution_count": null,
   "id": "1bb083d8",
   "metadata": {},
   "outputs": [],
   "source": [
    "df_X.head()"
   ]
  },
  {
   "cell_type": "markdown",
   "id": "565cc267",
   "metadata": {},
   "source": [
    " Missing Value Treatment"
   ]
  },
  {
   "cell_type": "code",
   "execution_count": null,
   "id": "1b88155f",
   "metadata": {},
   "outputs": [],
   "source": [
    "import matplotlib.pyplot as plt\n",
    "def plot_nas(df_X: pd.DataFrame):\n",
    "    if df_X.isnull().sum().sum() != 0:\n",
    "        na_df = (df_X.isnull().sum() / len(df)) * 100      \n",
    "        na_df = na_df.drop(na_df[na_df == 0].index).sort_values(ascending=False)\n",
    "        missing_data = pd.DataFrame({'Missing Ratio %' :na_df})\n",
    "        missing_data.plot(kind = \"bar\")\n",
    "        plt.show()\n",
    "    else:\n",
    "        print('No NAs found')\n",
    "plot_nas(df_X)"
   ]
  },
  {
   "cell_type": "markdown",
   "id": "e3247505",
   "metadata": {},
   "source": [
    "Replacing missing values with median"
   ]
  },
  {
   "cell_type": "code",
   "execution_count": null,
   "id": "50c87b2e",
   "metadata": {},
   "outputs": [],
   "source": [
    "for column in df_X.columns:\n",
    "    if df_X[column].dtype != 'object':\n",
    "        median = df_X[column].median()\n",
    "        df_X[column] = df_X[column].fillna(median)"
   ]
  },
  {
   "cell_type": "code",
   "execution_count": null,
   "id": "9c2360ba",
   "metadata": {},
   "outputs": [],
   "source": [
    "df_X.isnull().sum().sum()"
   ]
  },
  {
   "cell_type": "code",
   "execution_count": null,
   "id": "00c598aa",
   "metadata": {},
   "outputs": [],
   "source": [
    "import matplotlib.pyplot as plt\n",
    "def plot_nas(df_X: pd.DataFrame):\n",
    "    if df_X.isnull().sum().sum() != 0:\n",
    "        na_df = (df_X.isnull().sum() / len(df)) * 100      \n",
    "        na_df = na_df.drop(na_df[na_df == 0].index).sort_values(ascending=False)\n",
    "        missing_data = pd.DataFrame({'Missing Ratio %' :na_df})\n",
    "        missing_data.plot(kind = \"bar\")\n",
    "        plt.show()\n",
    "    else:\n",
    "        print('No NAs found')\n",
    "plot_nas(df_X)"
   ]
  },
  {
   "cell_type": "markdown",
   "id": "bc42d770",
   "metadata": {},
   "source": [
    "Outlier detection & Treatment"
   ]
  },
  {
   "cell_type": "code",
   "execution_count": null,
   "id": "2ef7023c",
   "metadata": {},
   "outputs": [],
   "source": [
    "col_names = list(df_X.columns)\n",
    "fig, ax = plt.subplots(len(col_names), figsize=(8,100))\n",
    "\n",
    "for i, col_val in enumerate(col_names):\n",
    "\n",
    "    sns.boxplot(y=df_X[col_val], ax=ax[i])\n",
    "    ax[i].set_title('Box plot - {}'.format(col_val), fontsize=10)\n",
    "    ax[i].set_xlabel(col_val, fontsize=8)\n",
    "    plt.tight_layout()\n",
    "\n",
    "plt.show()"
   ]
  },
  {
   "cell_type": "code",
   "execution_count": null,
   "id": "067228be",
   "metadata": {},
   "outputs": [],
   "source": [
    "def remove_outlier(col):\n",
    "    Q1,Q3=np.percentile(col,[25,75])\n",
    "    IQR=Q3-Q1\n",
    "    lower_range=Q1-(1.5*IQR)\n",
    "    upper_range=Q3+(1.5*IQR)\n",
    "    return lower_range,upper_range\n",
    "\n",
    "for i in df_X:\n",
    "    LL,UL=remove_outlier(df_X[i])\n",
    "    df_X[i]=np.where(df_X[i]>UL,UL,df_X[i])\n",
    "    df_X[i]=np.where(df_X[i]<LL,LL,df_X[i])"
   ]
  },
  {
   "cell_type": "code",
   "execution_count": null,
   "id": "3de05a95",
   "metadata": {},
   "outputs": [],
   "source": [
    "col_names = list(df_X.columns)\n",
    "fig, ax = plt.subplots(len(col_names), figsize=(8,100))\n",
    "\n",
    "for i, col_val in enumerate(col_names):\n",
    "\n",
    "    sns.boxplot(y=df_X[col_val], ax=ax[i])\n",
    "    ax[i].set_title('Box plot - {}'.format(col_val), fontsize=10)\n",
    "    ax[i].set_xlabel(col_val, fontsize=8)\n",
    "    plt.tight_layout()\n",
    "\n",
    "plt.show()"
   ]
  },
  {
   "cell_type": "code",
   "execution_count": null,
   "id": "571a76d9",
   "metadata": {},
   "outputs": [],
   "source": [
    "mask = np.triu(np.ones_like(df_X.corr()))\n",
    "plt.figure(figsize=(30,30))\n",
    "p=sns.heatmap(df_X.corr(),annot=True,cmap='coolwarm',square=True,mask=mask);"
   ]
  },
  {
   "cell_type": "markdown",
   "id": "8a3f70ed",
   "metadata": {},
   "source": [
    "Dark red boxes have the highest correlation followed by light blue and dark blue. "
   ]
  },
  {
   "cell_type": "markdown",
   "id": "f1658e95",
   "metadata": {},
   "source": [
    "Univariate Analysis"
   ]
  },
  {
   "cell_type": "code",
   "execution_count": null,
   "id": "db5e7b8a",
   "metadata": {},
   "outputs": [],
   "source": [
    "for cols in df_X.columns:\n",
    "    if df_X[cols].nunique()==1:\n",
    "        print('Column name is '+cols+' and its unique value count is : '+ str(df_X[cols].nunique()))"
   ]
  },
  {
   "cell_type": "markdown",
   "id": "009ee36d",
   "metadata": {},
   "source": [
    "We cannot use columns with only one unique value and hence we need to drop it."
   ]
  },
  {
   "cell_type": "code",
   "execution_count": null,
   "id": "9c0062ed",
   "metadata": {},
   "outputs": [],
   "source": [
    "df_X.drop('Capital_expenses_in_forex',axis=1, inplace=True)\n",
    "df_X.drop('ROG_Revenue_earnings_in_forex_perc',axis=1, inplace=True)\n",
    "df_X.drop('ROG_Revenue_expenses_in_forex_perc',axis=1, inplace=True)"
   ]
  },
  {
   "cell_type": "code",
   "execution_count": null,
   "id": "081301c3",
   "metadata": {},
   "outputs": [],
   "source": [
    "df_X.head()"
   ]
  },
  {
   "cell_type": "code",
   "execution_count": null,
   "id": "c74ab58c",
   "metadata": {},
   "outputs": [],
   "source": [
    "df_X.shape"
   ]
  },
  {
   "cell_type": "code",
   "execution_count": null,
   "id": "f780650c",
   "metadata": {},
   "outputs": [],
   "source": [
    "col_list=df_X.columns\n",
    "print(col_list)\n",
    "\n",
    "fig, axes = plt.subplots(nrows=len(col_list),ncols=2)\n",
    "fig.set_size_inches(12,100)\n",
    "x=0\n",
    "y=0\n",
    "for i in df_X.select_dtypes(include='number'):\n",
    "        ax_hist=sns.histplot(x=df_X[i], kde=True, ax=axes[x][y], color='g')\n",
    "        ax_box=sns.boxplot(x=df_X[i], data=df_X, ax=axes[x][y+1], color='y')\n",
    "        plt.xticks(rotation=45)\n",
    "        ax_hist.set(xlabel=i,title='Histogram for '+i)\n",
    "        ax_box.set(xlabel=i,title='BoxPlot for '+i)\n",
    "        plt.tight_layout()\n",
    "        x=x+1"
   ]
  },
  {
   "cell_type": "code",
   "execution_count": null,
   "id": "6a47b5dc",
   "metadata": {},
   "outputs": [],
   "source": [
    "Concating df_X and df_Y to build model."
   ]
  },
  {
   "cell_type": "code",
   "execution_count": null,
   "id": "9b524284",
   "metadata": {},
   "outputs": [],
   "source": [
    "df=pd.concat([df_X,df_Y],axis=1)"
   ]
  },
  {
   "cell_type": "code",
   "execution_count": null,
   "id": "ba8c675d",
   "metadata": {},
   "outputs": [],
   "source": [
    "df.head()"
   ]
  },
  {
   "cell_type": "code",
   "execution_count": null,
   "id": "f45eedd0",
   "metadata": {},
   "outputs": [],
   "source": [
    "mask = np.triu(np.ones_like(df.corr()))\n",
    "plt.figure(figsize=(30,30))\n",
    "p=sns.heatmap(df.corr(),annot=True,cmap='coolwarm',square=True,mask=mask);"
   ]
  },
  {
   "cell_type": "markdown",
   "id": "13a0e070",
   "metadata": {},
   "source": [
    "Method 1-Logistic Regression"
   ]
  },
  {
   "cell_type": "markdown",
   "id": "a19738ee",
   "metadata": {},
   "source": [
    "Model 1"
   ]
  },
  {
   "cell_type": "code",
   "execution_count": null,
   "id": "21c6cc9e",
   "metadata": {},
   "outputs": [],
   "source": [
    "df.columns"
   ]
  },
  {
   "cell_type": "code",
   "execution_count": null,
   "id": "766f1a02",
   "metadata": {},
   "outputs": [],
   "source": [
    "f_1 = 'default~Equity_Paid_Up+Networth+Capital_Employed+Total_Debt+Gross_Block+Net_Working_Capital+Current_Assets+Current_Liabilities_and_Provisions+Total_Assets_by_Liabilities+Gross_Sales+Net_Sales+Other_Income+Value_Of_Output+Cost_of_Production+Selling_Cost+PBIDT+PBDT+PBIT+PBT+PAT+Adjusted_PAT+CP+Revenue_earnings_in_forex+Revenue_expenses_in_forex+Book_Value_Unit_Curr+Book_Value_Adj_Unit_Curr+Market_Capitalisation+CEPS_annualised_Unit_Curr+Cash_Flow_From_Operating_Activities+Cash_Flow_From_Investing_Activities+Cash_Flow_From_Financing_Activities+ROG_Net_Worth_perc+ROG_Capital_Employed_perc+ROG_Gross_Block_perc+ROG_Gross_Sales_perc+ROG_Net_Sales_perc+ROG_Cost_of_Production_perc+ROG_Total_Assets_perc+ROG_PBIDT_perc+ROG_PBDT_perc+ROG_PBIT_perc+ROG_PBT_perc+ROG_PAT_perc+ROG_CP_perc+ROG_Market_Capitalisation_perc+Current_RatioLatest+Fixed_Assets_RatioLatest+Inventory_RatioLatest+Debtors_RatioLatest+Total_Asset_Turnover_RatioLatest+Interest_Cover_RatioLatest+PBIDTM_percLatest+PBITM_percLatest+PBDTM_percLatest+CPM_percLatest+APATM_percLatest+Debtors_Velocity_Days+Creditors_Velocity_Days+Inventory_Velocity_Days+Value_of_Output_by_Total_Assets+Value_of_Output_by_Gross_Block'"
   ]
  },
  {
   "cell_type": "code",
   "execution_count": null,
   "id": "cb8ad2cb",
   "metadata": {},
   "outputs": [],
   "source": [
    "## Fitting the logistic regression model on df dataset..\n",
    "\n",
    "model_1=SM.logit(formula=f_1,data=df).fit()"
   ]
  },
  {
   "cell_type": "code",
   "execution_count": null,
   "id": "692f91ee",
   "metadata": {},
   "outputs": [],
   "source": [
    "model_1.summary()"
   ]
  },
  {
   "cell_type": "markdown",
   "id": "a53b07a0",
   "metadata": {},
   "source": [
    "As lot of Fields have P value as more than 0.05 we need to iliminate them.\n",
    "checking VIF values and the eliminarting the hightest and see the results and find the best features according to VIF.\n",
    "For this testing we will keep VIF thresold value as 5."
   ]
  },
  {
   "cell_type": "code",
   "execution_count": null,
   "id": "91003385",
   "metadata": {},
   "outputs": [],
   "source": [
    "# Checking the variance inflation factor..\n",
    "\n",
    "from statsmodels.stats.outliers_influence import variance_inflation_factor"
   ]
  },
  {
   "cell_type": "code",
   "execution_count": null,
   "id": "8366bee8",
   "metadata": {},
   "outputs": [],
   "source": [
    "def calc_vif(X):\n",
    "    vif=pd.DataFrame()\n",
    "    vif['variables']=X.columns\n",
    "    vif['VIF']=[variance_inflation_factor(X.values,i) for i in range(X.shape[1])]\n",
    "    \n",
    "    return(vif)"
   ]
  },
  {
   "cell_type": "code",
   "execution_count": null,
   "id": "293d970a",
   "metadata": {},
   "outputs": [],
   "source": [
    "X=df.drop('default',axis=1)\n",
    "calc_vif(X).sort_values(by='VIF',ascending=False)"
   ]
  },
  {
   "cell_type": "code",
   "execution_count": null,
   "id": "10908c46",
   "metadata": {},
   "outputs": [],
   "source": [
    "X=X.drop('Net_Sales',axis=1)\n",
    "calc_vif(X).sort_values(by='VIF',ascending=False)"
   ]
  },
  {
   "cell_type": "markdown",
   "id": "37964def",
   "metadata": {},
   "source": [
    "By dropping Net_Sales VIF reduced from 1696 to 526. Let's continue to eliminate parameters till we get below 5."
   ]
  },
  {
   "cell_type": "code",
   "execution_count": null,
   "id": "872f2e81",
   "metadata": {},
   "outputs": [],
   "source": [
    "X=X.drop('ROG_Gross_Sales_perc',axis=1)\n",
    "calc_vif(X).sort_values(by='VIF',ascending=False)"
   ]
  },
  {
   "cell_type": "code",
   "execution_count": null,
   "id": "47da534f",
   "metadata": {},
   "outputs": [],
   "source": [
    "X=X.drop('Gross_Sales',axis=1)\n",
    "calc_vif(X).sort_values(by='VIF',ascending=False)"
   ]
  },
  {
   "cell_type": "code",
   "execution_count": null,
   "id": "b9ca12da",
   "metadata": {},
   "outputs": [],
   "source": [
    "X=X.drop('PBDT',axis=1)\n",
    "calc_vif(X).sort_values(by='VIF',ascending=False)"
   ]
  },
  {
   "cell_type": "code",
   "execution_count": null,
   "id": "2424b3ee",
   "metadata": {},
   "outputs": [],
   "source": [
    "X=X.drop('Total_Assets_by_Liabilities',axis=1)\n",
    "calc_vif(X).sort_values(by='VIF',ascending=False)"
   ]
  },
  {
   "cell_type": "code",
   "execution_count": null,
   "id": "a3908f3c",
   "metadata": {},
   "outputs": [],
   "source": [
    "X=X.drop('PAT',axis=1)\n",
    "calc_vif(X).sort_values(by='VIF',ascending=False)"
   ]
  },
  {
   "cell_type": "code",
   "execution_count": null,
   "id": "c7069cbf",
   "metadata": {},
   "outputs": [],
   "source": [
    "X=X.drop('Value_Of_Output',axis=1)\n",
    "calc_vif(X).sort_values(by='VIF',ascending=False)"
   ]
  },
  {
   "cell_type": "code",
   "execution_count": null,
   "id": "34ef4905",
   "metadata": {},
   "outputs": [],
   "source": [
    "X=X.drop('CPM_percLatest',axis=1)\n",
    "calc_vif(X).sort_values(by='VIF',ascending=False)"
   ]
  },
  {
   "cell_type": "code",
   "execution_count": null,
   "id": "f53649ee",
   "metadata": {},
   "outputs": [],
   "source": [
    "X=X.drop('Current_Assets',axis=1)\n",
    "calc_vif(X).sort_values(by='VIF',ascending=False)"
   ]
  },
  {
   "cell_type": "code",
   "execution_count": null,
   "id": "7bab56e5",
   "metadata": {},
   "outputs": [],
   "source": [
    "X=X.drop('PBIDT',axis=1)\n",
    "calc_vif(X).sort_values(by='VIF',ascending=False)"
   ]
  },
  {
   "cell_type": "code",
   "execution_count": null,
   "id": "8e41e8e7",
   "metadata": {},
   "outputs": [],
   "source": [
    "X=X.drop('PBIDTM_percLatest',axis=1)\n",
    "calc_vif(X).sort_values(by='VIF',ascending=False)"
   ]
  },
  {
   "cell_type": "code",
   "execution_count": null,
   "id": "a597df17",
   "metadata": {},
   "outputs": [],
   "source": [
    "X=X.drop('ROG_PBDT_perc',axis=1)\n",
    "calc_vif(X).sort_values(by='VIF',ascending=False)"
   ]
  },
  {
   "cell_type": "code",
   "execution_count": null,
   "id": "e8b9e68f",
   "metadata": {},
   "outputs": [],
   "source": [
    "X=X.drop('Capital_Employed',axis=1)\n",
    "calc_vif(X).sort_values(by='VIF',ascending=False)"
   ]
  },
  {
   "cell_type": "code",
   "execution_count": null,
   "id": "b0b3aee8",
   "metadata": {},
   "outputs": [],
   "source": [
    "X=X.drop('PBT',axis=1)\n",
    "calc_vif(X).sort_values(by='VIF',ascending=False)"
   ]
  },
  {
   "cell_type": "code",
   "execution_count": null,
   "id": "37d18fc8",
   "metadata": {},
   "outputs": [],
   "source": [
    "X=X.drop('Book_Value_Unit_Curr',axis=1)\n",
    "calc_vif(X).sort_values(by='VIF',ascending=False)"
   ]
  },
  {
   "cell_type": "code",
   "execution_count": null,
   "id": "0b823921",
   "metadata": {},
   "outputs": [],
   "source": [
    "X=X.drop('CP',axis=1)\n",
    "calc_vif(X).sort_values(by='VIF',ascending=False)"
   ]
  },
  {
   "cell_type": "code",
   "execution_count": null,
   "id": "e14d6115",
   "metadata": {},
   "outputs": [],
   "source": [
    "X=X.drop('Value_of_Output_by_Total_Assets',axis=1)\n",
    "calc_vif(X).sort_values(by='VIF',ascending=False)"
   ]
  },
  {
   "cell_type": "code",
   "execution_count": null,
   "id": "a7d41c42",
   "metadata": {},
   "outputs": [],
   "source": [
    "X=X.drop('ROG_PBIDT_perc',axis=1)\n",
    "calc_vif(X).sort_values(by='VIF',ascending=False)"
   ]
  },
  {
   "cell_type": "code",
   "execution_count": null,
   "id": "93a9d1c1",
   "metadata": {},
   "outputs": [],
   "source": [
    "X=X.drop('Cost_of_Production',axis=1)\n",
    "calc_vif(X).sort_values(by='VIF',ascending=False)"
   ]
  },
  {
   "cell_type": "code",
   "execution_count": null,
   "id": "bc12d10e",
   "metadata": {},
   "outputs": [],
   "source": [
    "X=X.drop('PBDTM_percLatest',axis=1)\n",
    "calc_vif(X).sort_values(by='VIF',ascending=False)"
   ]
  },
  {
   "cell_type": "code",
   "execution_count": null,
   "id": "5fce8998",
   "metadata": {},
   "outputs": [],
   "source": [
    "X=X.drop('ROG_PBT_perc',axis=1)\n",
    "calc_vif(X).sort_values(by='VIF',ascending=False)"
   ]
  },
  {
   "cell_type": "code",
   "execution_count": null,
   "id": "9ff2a8e0",
   "metadata": {},
   "outputs": [],
   "source": [
    "X=X.drop('Gross_Block',axis=1)\n",
    "calc_vif(X).sort_values(by='VIF',ascending=False)"
   ]
  },
  {
   "cell_type": "code",
   "execution_count": null,
   "id": "36494f68",
   "metadata": {},
   "outputs": [],
   "source": [
    "X=X.drop('Current_Liabilities_and_Provisions',axis=1)\n",
    "calc_vif(X).sort_values(by='VIF',ascending=False)"
   ]
  },
  {
   "cell_type": "code",
   "execution_count": null,
   "id": "6c7ce47c",
   "metadata": {},
   "outputs": [],
   "source": [
    "X=X.drop('Fixed_Assets_RatioLatest',axis=1)\n",
    "calc_vif(X).sort_values(by='VIF',ascending=False)"
   ]
  },
  {
   "cell_type": "code",
   "execution_count": null,
   "id": "451931f9",
   "metadata": {},
   "outputs": [],
   "source": [
    "X=X.drop('PBIT',axis=1)\n",
    "calc_vif(X).sort_values(by='VIF',ascending=False)"
   ]
  },
  {
   "cell_type": "code",
   "execution_count": null,
   "id": "31ecef7a",
   "metadata": {},
   "outputs": [],
   "source": [
    "X=X.drop('Networth',axis=1)\n",
    "calc_vif(X).sort_values(by='VIF',ascending=False)"
   ]
  },
  {
   "cell_type": "code",
   "execution_count": null,
   "id": "8deeb5e5",
   "metadata": {},
   "outputs": [],
   "source": [
    "X=X.drop('APATM_percLatest',axis=1)\n",
    "calc_vif(X).sort_values(by='VIF',ascending=False)"
   ]
  },
  {
   "cell_type": "code",
   "execution_count": null,
   "id": "a924a989",
   "metadata": {},
   "outputs": [],
   "source": [
    "X=X.drop('ROG_PAT_perc',axis=1)\n",
    "calc_vif(X).sort_values(by='VIF',ascending=False)"
   ]
  },
  {
   "cell_type": "markdown",
   "id": "0d42fe0c",
   "metadata": {},
   "source": [
    "We followed a traditional method of dropping one variable at a time to ensure we can see the impact of each and every variable and not simply removing all the variables having VIF > 5."
   ]
  },
  {
   "cell_type": "code",
   "execution_count": null,
   "id": "350ef047",
   "metadata": {},
   "outputs": [],
   "source": [
    "X.shape"
   ]
  },
  {
   "cell_type": "markdown",
   "id": "d697f9d0",
   "metadata": {},
   "source": [
    "We can see that we have eliminated varibales to 33 from total 62 features of the data set."
   ]
  },
  {
   "cell_type": "code",
   "execution_count": null,
   "id": "1a8ed232",
   "metadata": {},
   "outputs": [],
   "source": [
    "print((df['default'].value_counts(normalize=True).round(4))*100)"
   ]
  },
  {
   "cell_type": "markdown",
   "id": "753710a8",
   "metadata": {},
   "source": [
    "The data is highly imbalanced with 89.18% non default and 10.82% as defaulters. We need to balance the data while doing the split."
   ]
  },
  {
   "cell_type": "code",
   "execution_count": null,
   "id": "21350bad",
   "metadata": {},
   "outputs": [],
   "source": [
    "import statsmodels.formula.api as SM"
   ]
  },
  {
   "cell_type": "code",
   "execution_count": null,
   "id": "1ec84faf",
   "metadata": {},
   "outputs": [],
   "source": [
    "from sklearn.model_selection import train_test_split"
   ]
  },
  {
   "cell_type": "code",
   "execution_count": null,
   "id": "3bbb325b",
   "metadata": {},
   "outputs": [],
   "source": [
    "X = df.drop('default', axis = 1)\n",
    "y = df['default']"
   ]
  },
  {
   "cell_type": "markdown",
   "id": "6869ae6d",
   "metadata": {},
   "source": [
    "Test Train Split -   Split the data into Train and Test dataset in a ratio of 67:33 and use random_state =42. Model Building is to be done on Train Dataset and Model Validation is to be done on Test Dataset."
   ]
  },
  {
   "cell_type": "code",
   "execution_count": null,
   "id": "8509c27a",
   "metadata": {},
   "outputs": [],
   "source": [
    "X_train, X_test, y_train, y_test = train_test_split(X, y, test_size = 0.33, random_state = 42, stratify = y)"
   ]
  },
  {
   "cell_type": "code",
   "execution_count": null,
   "id": "a8067d3b",
   "metadata": {},
   "outputs": [],
   "source": [
    "print(X_train.shape)\n",
    "print(X_test.shape)"
   ]
  },
  {
   "cell_type": "markdown",
   "id": "b54fbbcb",
   "metadata": {},
   "source": [
    "Post stratifying we can see that the proportion of data is balanced between test and train."
   ]
  },
  {
   "cell_type": "code",
   "execution_count": null,
   "id": "24ea6b9c",
   "metadata": {},
   "outputs": [],
   "source": [
    "print((y_train.value_counts(normalize=True).round(4))*100)\n",
    "print(' ')\n",
    "print((y_test.value_counts(normalize=True).round(4))*100)"
   ]
  },
  {
   "cell_type": "code",
   "execution_count": null,
   "id": "0f6e4ba2",
   "metadata": {},
   "outputs": [],
   "source": [
    "df_train=pd.concat([X_train,y_train],axis=1)\n",
    "df_test=pd.concat([X_test,y_test],axis=1)"
   ]
  },
  {
   "cell_type": "markdown",
   "id": "c15694ce",
   "metadata": {},
   "source": [
    "Model 2"
   ]
  },
  {
   "cell_type": "code",
   "execution_count": null,
   "id": "64dcc3e1",
   "metadata": {},
   "outputs": [],
   "source": [
    "X.columns"
   ]
  },
  {
   "cell_type": "code",
   "execution_count": null,
   "id": "9748e75b",
   "metadata": {},
   "outputs": [],
   "source": [
    "f_2='default~Equity_Paid_Up+Total_Debt+Net_Working_Capital+Other_Income+Selling_Cost+Adjusted_PAT+Revenue_earnings_in_forex+Revenue_expenses_in_forex+Book_Value_Adj_Unit_Curr+Market_Capitalisation+CEPS_annualised_Unit_Curr+Cash_Flow_From_Operating_Activities+Cash_Flow_From_Investing_Activities+Cash_Flow_From_Financing_Activities+ROG_Net_Worth_perc+ROG_Capital_Employed_perc+ROG_Gross_Block_perc+ROG_Net_Sales_perc+ROG_Cost_of_Production_perc+ROG_Total_Assets_perc+ROG_PBIT_perc+ROG_CP_perc+ROG_Market_Capitalisation_perc+Current_RatioLatest+Inventory_RatioLatest+Debtors_RatioLatest+Total_Asset_Turnover_RatioLatest+Interest_Cover_RatioLatest+PBITM_percLatest+Debtors_Velocity_Days+Creditors_Velocity_Days+Inventory_Velocity_Days+Value_of_Output_by_Gross_Block'"
   ]
  },
  {
   "cell_type": "code",
   "execution_count": null,
   "id": "e6c66edd",
   "metadata": {},
   "outputs": [],
   "source": [
    "model_2=SM.logit(formula=f_2,data=df_train).fit()"
   ]
  },
  {
   "cell_type": "code",
   "execution_count": null,
   "id": "12f8be45",
   "metadata": {},
   "outputs": [],
   "source": [
    "model_2.summary()"
   ]
  },
  {
   "cell_type": "markdown",
   "id": "dcb3dee4",
   "metadata": {},
   "source": [
    "Model 3"
   ]
  },
  {
   "cell_type": "markdown",
   "id": "611a632c",
   "metadata": {},
   "source": [
    "Cash_Flow_From_Financing_Activities has the highest P value so we will run our model by dropping it in our next model."
   ]
  },
  {
   "cell_type": "code",
   "execution_count": null,
   "id": "f07e7195",
   "metadata": {},
   "outputs": [],
   "source": [
    "f_3='default~Equity_Paid_Up+Total_Debt+Net_Working_Capital+Other_Income+Selling_Cost+Adjusted_PAT+Revenue_earnings_in_forex+Revenue_expenses_in_forex+Book_Value_Adj_Unit_Curr+Market_Capitalisation+CEPS_annualised_Unit_Curr+Cash_Flow_From_Operating_Activities+Cash_Flow_From_Investing_Activities+ROG_Net_Worth_perc+ROG_Capital_Employed_perc+ROG_Gross_Block_perc+ROG_Net_Sales_perc+ROG_Cost_of_Production_perc+ROG_Total_Assets_perc+ROG_PBIT_perc+ROG_CP_perc+ROG_Market_Capitalisation_perc+Current_RatioLatest+Inventory_RatioLatest+Debtors_RatioLatest+Total_Asset_Turnover_RatioLatest+Interest_Cover_RatioLatest+PBITM_percLatest+Debtors_Velocity_Days+Creditors_Velocity_Days+Inventory_Velocity_Days+Value_of_Output_by_Gross_Block'"
   ]
  },
  {
   "cell_type": "code",
   "execution_count": null,
   "id": "3e0bdd61",
   "metadata": {},
   "outputs": [],
   "source": [
    "model_3=SM.logit(formula=f_3,data=df_train).fit()\n",
    "model_3.summary()"
   ]
  },
  {
   "cell_type": "markdown",
   "id": "889d4fe5",
   "metadata": {},
   "source": [
    "Cash_Flow_From_Operating_Activities has the highest P value so we will run our model by dropping it in our next model."
   ]
  },
  {
   "cell_type": "markdown",
   "id": "1d2aa13a",
   "metadata": {},
   "source": [
    "Model 4"
   ]
  },
  {
   "cell_type": "code",
   "execution_count": null,
   "id": "37d8ca9b",
   "metadata": {},
   "outputs": [],
   "source": [
    "f_4='default~Equity_Paid_Up+Total_Debt+Net_Working_Capital+Other_Income+Selling_Cost+Adjusted_PAT+Revenue_earnings_in_forex+Revenue_expenses_in_forex+Book_Value_Adj_Unit_Curr+Market_Capitalisation+CEPS_annualised_Unit_Curr+Cash_Flow_From_Investing_Activities+ROG_Net_Worth_perc+ROG_Capital_Employed_perc+ROG_Gross_Block_perc+ROG_Net_Sales_perc+ROG_Cost_of_Production_perc+ROG_Total_Assets_perc+ROG_PBIT_perc+ROG_CP_perc+ROG_Market_Capitalisation_perc+Current_RatioLatest+Inventory_RatioLatest+Debtors_RatioLatest+Total_Asset_Turnover_RatioLatest+Interest_Cover_RatioLatest+PBITM_percLatest+Debtors_Velocity_Days+Creditors_Velocity_Days+Inventory_Velocity_Days+Value_of_Output_by_Gross_Block'"
   ]
  },
  {
   "cell_type": "code",
   "execution_count": null,
   "id": "d89c093e",
   "metadata": {},
   "outputs": [],
   "source": [
    "model_4=SM.logit(formula=f_4,data=df_train).fit()\n",
    "model_4.summary()"
   ]
  },
  {
   "cell_type": "markdown",
   "id": "7ed931b0",
   "metadata": {},
   "source": [
    "ROG_Market_Capitalisation_perc has the highest P value so we will run our model by dropping it in our next model."
   ]
  },
  {
   "cell_type": "markdown",
   "id": "4dc5d5ce",
   "metadata": {},
   "source": [
    "Model 5"
   ]
  },
  {
   "cell_type": "code",
   "execution_count": null,
   "id": "529fce05",
   "metadata": {},
   "outputs": [],
   "source": [
    "f_5='default~Equity_Paid_Up+Total_Debt+Net_Working_Capital+Other_Income+Selling_Cost+Adjusted_PAT+Revenue_earnings_in_forex+Revenue_expenses_in_forex+Book_Value_Adj_Unit_Curr+Market_Capitalisation+CEPS_annualised_Unit_Curr+Cash_Flow_From_Investing_Activities+ROG_Net_Worth_perc+ROG_Capital_Employed_perc+ROG_Gross_Block_perc+ROG_Net_Sales_perc+ROG_Cost_of_Production_perc+ROG_Total_Assets_perc+ROG_PBIT_perc+ROG_CP_perc+Current_RatioLatest+Inventory_RatioLatest+Debtors_RatioLatest+Total_Asset_Turnover_RatioLatest+Interest_Cover_RatioLatest+PBITM_percLatest+Debtors_Velocity_Days+Creditors_Velocity_Days+Inventory_Velocity_Days+Value_of_Output_by_Gross_Block'"
   ]
  },
  {
   "cell_type": "code",
   "execution_count": null,
   "id": "56490b59",
   "metadata": {},
   "outputs": [],
   "source": [
    "model_5=SM.logit(formula=f_5,data=df_train).fit()\n",
    "model_5.summary()"
   ]
  },
  {
   "cell_type": "markdown",
   "id": "78c81d66",
   "metadata": {},
   "source": [
    "Other_Income has the highest P value so we will run our model by dropping it in our next model."
   ]
  },
  {
   "cell_type": "markdown",
   "id": "1f3f460b",
   "metadata": {},
   "source": [
    "Model 6"
   ]
  },
  {
   "cell_type": "code",
   "execution_count": null,
   "id": "a2427657",
   "metadata": {},
   "outputs": [],
   "source": [
    "f_6='default~Equity_Paid_Up+Total_Debt+Net_Working_Capital+Selling_Cost+Adjusted_PAT+Revenue_earnings_in_forex+Revenue_expenses_in_forex+Book_Value_Adj_Unit_Curr+Market_Capitalisation+CEPS_annualised_Unit_Curr+Cash_Flow_From_Investing_Activities+ROG_Net_Worth_perc+ROG_Capital_Employed_perc+ROG_Gross_Block_perc+ROG_Net_Sales_perc+ROG_Cost_of_Production_perc+ROG_Total_Assets_perc+ROG_PBIT_perc+ROG_CP_perc+Current_RatioLatest+Inventory_RatioLatest+Debtors_RatioLatest+Total_Asset_Turnover_RatioLatest+Interest_Cover_RatioLatest+PBITM_percLatest+Debtors_Velocity_Days+Creditors_Velocity_Days+Inventory_Velocity_Days+Value_of_Output_by_Gross_Block'"
   ]
  },
  {
   "cell_type": "code",
   "execution_count": null,
   "id": "29e8b217",
   "metadata": {},
   "outputs": [],
   "source": [
    "model_6=SM.logit(formula=f_6,data=df_train).fit()\n",
    "model_6.summary()"
   ]
  },
  {
   "cell_type": "markdown",
   "id": "18eaac7f",
   "metadata": {},
   "source": [
    "Adjusted_PAT has the highest P value so we will run our model by dropping it in our next model"
   ]
  },
  {
   "cell_type": "markdown",
   "id": "1174db43",
   "metadata": {},
   "source": [
    "Model 7"
   ]
  },
  {
   "cell_type": "code",
   "execution_count": null,
   "id": "42a71969",
   "metadata": {},
   "outputs": [],
   "source": [
    "f_7='default~Equity_Paid_Up+Total_Debt+Net_Working_Capital+Selling_Cost+Revenue_earnings_in_forex+Revenue_expenses_in_forex+Book_Value_Adj_Unit_Curr+Market_Capitalisation+CEPS_annualised_Unit_Curr+Cash_Flow_From_Investing_Activities+ROG_Net_Worth_perc+ROG_Capital_Employed_perc+ROG_Gross_Block_perc+ROG_Net_Sales_perc+ROG_Cost_of_Production_perc+ROG_Total_Assets_perc+ROG_PBIT_perc+ROG_CP_perc+Current_RatioLatest+Inventory_RatioLatest+Debtors_RatioLatest+Total_Asset_Turnover_RatioLatest+Interest_Cover_RatioLatest+PBITM_percLatest+Debtors_Velocity_Days+Creditors_Velocity_Days+Inventory_Velocity_Days+Value_of_Output_by_Gross_Block'"
   ]
  },
  {
   "cell_type": "code",
   "execution_count": null,
   "id": "42b4aa7d",
   "metadata": {},
   "outputs": [],
   "source": [
    "model_7=SM.logit(formula=f_7,data=df_train).fit()\n",
    "model_7.summary()"
   ]
  },
  {
   "cell_type": "markdown",
   "id": "e15aa21a",
   "metadata": {},
   "source": [
    "ROG_Net_Sales_perc has the highest P value so we will run our model by dropping it in our next model"
   ]
  },
  {
   "cell_type": "markdown",
   "id": "054d88ac",
   "metadata": {},
   "source": [
    "Model 8"
   ]
  },
  {
   "cell_type": "code",
   "execution_count": null,
   "id": "bafd2b15",
   "metadata": {},
   "outputs": [],
   "source": [
    "f_8='default~Equity_Paid_Up+Total_Debt+Net_Working_Capital+Selling_Cost+Revenue_earnings_in_forex+Revenue_expenses_in_forex+Book_Value_Adj_Unit_Curr+Market_Capitalisation+CEPS_annualised_Unit_Curr+Cash_Flow_From_Investing_Activities+ROG_Net_Worth_perc+ROG_Capital_Employed_perc+ROG_Gross_Block_perc+ROG_Cost_of_Production_perc+ROG_Total_Assets_perc+ROG_PBIT_perc+ROG_CP_perc+Current_RatioLatest+Inventory_RatioLatest+Debtors_RatioLatest+Total_Asset_Turnover_RatioLatest+Interest_Cover_RatioLatest+PBITM_percLatest+Debtors_Velocity_Days+Creditors_Velocity_Days+Inventory_Velocity_Days+Value_of_Output_by_Gross_Block'\n",
    "\n",
    "model_8=SM.logit(formula=f_8,data=df_train).fit()\n",
    "model_8.summary()"
   ]
  },
  {
   "cell_type": "markdown",
   "id": "1d79315c",
   "metadata": {},
   "source": [
    "Inventory_Velocity_Days has the highest P value so we will run our model by dropping it in our next model\n",
    "\n"
   ]
  },
  {
   "cell_type": "markdown",
   "id": "7c033ba8",
   "metadata": {},
   "source": [
    "Model 9"
   ]
  },
  {
   "cell_type": "code",
   "execution_count": null,
   "id": "5ff7c9a1",
   "metadata": {},
   "outputs": [],
   "source": [
    "f_9='default~Equity_Paid_Up+Total_Debt+Net_Working_Capital+Selling_Cost+Revenue_earnings_in_forex+Revenue_expenses_in_forex+Book_Value_Adj_Unit_Curr+Market_Capitalisation+CEPS_annualised_Unit_Curr+Cash_Flow_From_Investing_Activities+ROG_Net_Worth_perc+ROG_Capital_Employed_perc+ROG_Gross_Block_perc+ROG_Cost_of_Production_perc+ROG_Total_Assets_perc+ROG_PBIT_perc+ROG_CP_perc+Current_RatioLatest+Inventory_RatioLatest+Debtors_RatioLatest+Total_Asset_Turnover_RatioLatest+Interest_Cover_RatioLatest+PBITM_percLatest+Debtors_Velocity_Days+Creditors_Velocity_Days+Value_of_Output_by_Gross_Block'\n",
    "\n",
    "model_9=SM.logit(formula=f_9,data=df_train).fit()\n",
    "model_9.summary()"
   ]
  },
  {
   "cell_type": "markdown",
   "id": "7595edfc",
   "metadata": {},
   "source": [
    "Cash_Flow_From_Investing_Activities has the highest P value so we will run our model by dropping it in our next model"
   ]
  },
  {
   "cell_type": "markdown",
   "id": "95fe5833",
   "metadata": {},
   "source": [
    "Model 10"
   ]
  },
  {
   "cell_type": "code",
   "execution_count": null,
   "id": "e06fb8e6",
   "metadata": {},
   "outputs": [],
   "source": [
    "f_10='default~Equity_Paid_Up+Total_Debt+Net_Working_Capital+Selling_Cost+Revenue_earnings_in_forex+Revenue_expenses_in_forex+Book_Value_Adj_Unit_Curr+Market_Capitalisation+CEPS_annualised_Unit_Curr+ROG_Net_Worth_perc+ROG_Capital_Employed_perc+ROG_Gross_Block_perc+ROG_Cost_of_Production_perc+ROG_Total_Assets_perc+ROG_PBIT_perc+ROG_CP_perc+Current_RatioLatest+Inventory_RatioLatest+Debtors_RatioLatest+Total_Asset_Turnover_RatioLatest+Interest_Cover_RatioLatest+PBITM_percLatest+Debtors_Velocity_Days+Creditors_Velocity_Days+Value_of_Output_by_Gross_Block'\n",
    "\n",
    "model_10=SM.logit(formula=f_10,data=df_train).fit()\n",
    "model_10.summary()"
   ]
  },
  {
   "cell_type": "markdown",
   "id": "f51fa227",
   "metadata": {},
   "source": [
    "Selling_Cost has the highest P value so we will run our model by dropping it in our next model"
   ]
  },
  {
   "cell_type": "markdown",
   "id": "8164baf0",
   "metadata": {},
   "source": [
    "Model 11"
   ]
  },
  {
   "cell_type": "code",
   "execution_count": null,
   "id": "69c62c7d",
   "metadata": {},
   "outputs": [],
   "source": [
    "f_11='default~Equity_Paid_Up+Total_Debt+Net_Working_Capital+Revenue_earnings_in_forex+Revenue_expenses_in_forex+Book_Value_Adj_Unit_Curr+Market_Capitalisation+CEPS_annualised_Unit_Curr+ROG_Net_Worth_perc+ROG_Capital_Employed_perc+ROG_Gross_Block_perc+ROG_Cost_of_Production_perc+ROG_Total_Assets_perc+ROG_PBIT_perc+ROG_CP_perc+Current_RatioLatest+Inventory_RatioLatest+Debtors_RatioLatest+Total_Asset_Turnover_RatioLatest+Interest_Cover_RatioLatest+PBITM_percLatest+Debtors_Velocity_Days+Creditors_Velocity_Days+Value_of_Output_by_Gross_Block'\n",
    "\n",
    "model_11=SM.logit(formula=f_11,data=df_train).fit()\n",
    "model_11.summary()"
   ]
  },
  {
   "cell_type": "markdown",
   "id": "8834e83f",
   "metadata": {},
   "source": [
    "ROG_CP_perc has the highest P value so we will run our model by dropping it in our next model"
   ]
  },
  {
   "cell_type": "markdown",
   "id": "92363950",
   "metadata": {},
   "source": [
    "Model 12"
   ]
  },
  {
   "cell_type": "code",
   "execution_count": null,
   "id": "6ace5553",
   "metadata": {},
   "outputs": [],
   "source": [
    "f_12='default~Equity_Paid_Up+Total_Debt+Net_Working_Capital+Revenue_earnings_in_forex+Revenue_expenses_in_forex+Book_Value_Adj_Unit_Curr+Market_Capitalisation+CEPS_annualised_Unit_Curr+ROG_Net_Worth_perc+ROG_Capital_Employed_perc+ROG_Gross_Block_perc+ROG_Cost_of_Production_perc+ROG_Total_Assets_perc+ROG_PBIT_perc+Current_RatioLatest+Inventory_RatioLatest+Debtors_RatioLatest+Total_Asset_Turnover_RatioLatest+Interest_Cover_RatioLatest+PBITM_percLatest+Debtors_Velocity_Days+Creditors_Velocity_Days+Value_of_Output_by_Gross_Block'\n",
    "\n",
    "model_12=SM.logit(formula=f_12,data=df_train).fit()\n",
    "model_12.summary()"
   ]
  },
  {
   "cell_type": "markdown",
   "id": "e03dc29e",
   "metadata": {},
   "source": [
    "Creditors_Velocity_Days has the highest P value so we will run our model by dropping it in our next model"
   ]
  },
  {
   "cell_type": "markdown",
   "id": "08bf2117",
   "metadata": {},
   "source": [
    "Model 13"
   ]
  },
  {
   "cell_type": "code",
   "execution_count": null,
   "id": "66d97423",
   "metadata": {},
   "outputs": [],
   "source": [
    "f_13='default~Equity_Paid_Up+Total_Debt+Net_Working_Capital+Revenue_earnings_in_forex+Revenue_expenses_in_forex+Book_Value_Adj_Unit_Curr+Market_Capitalisation+CEPS_annualised_Unit_Curr+ROG_Net_Worth_perc+ROG_Capital_Employed_perc+ROG_Gross_Block_perc+ROG_Cost_of_Production_perc+ROG_Total_Assets_perc+ROG_PBIT_perc+Current_RatioLatest+Inventory_RatioLatest+Debtors_RatioLatest+Total_Asset_Turnover_RatioLatest+Interest_Cover_RatioLatest+PBITM_percLatest+Debtors_Velocity_Days+Value_of_Output_by_Gross_Block'\n",
    "\n",
    "model_13=SM.logit(formula=f_13,data=df_train).fit()\n",
    "model_13.summary()"
   ]
  },
  {
   "cell_type": "markdown",
   "id": "a1832aba",
   "metadata": {},
   "source": [
    "Equity_Paid_Up has the highest P value so we will run our model by dropping it in our next model"
   ]
  },
  {
   "cell_type": "markdown",
   "id": "b4c54f24",
   "metadata": {},
   "source": [
    "Model 14"
   ]
  },
  {
   "cell_type": "code",
   "execution_count": null,
   "id": "5000e75c",
   "metadata": {},
   "outputs": [],
   "source": [
    "f_14='default~Total_Debt+Net_Working_Capital+Revenue_earnings_in_forex+Revenue_expenses_in_forex+Book_Value_Adj_Unit_Curr+Market_Capitalisation+CEPS_annualised_Unit_Curr+ROG_Net_Worth_perc+ROG_Capital_Employed_perc+ROG_Gross_Block_perc+ROG_Cost_of_Production_perc+ROG_Total_Assets_perc+ROG_PBIT_perc+Current_RatioLatest+Inventory_RatioLatest+Debtors_RatioLatest+Total_Asset_Turnover_RatioLatest+Interest_Cover_RatioLatest+PBITM_percLatest+Debtors_Velocity_Days+Value_of_Output_by_Gross_Block'\n",
    "\n",
    "model_14=SM.logit(formula=f_14,data=df_train).fit()\n",
    "model_14.summary()"
   ]
  },
  {
   "cell_type": "markdown",
   "id": "e4343095",
   "metadata": {},
   "source": [
    "Value_of_Output_by_Gross_Block has the highest P value so we will run our model by dropping it in our next model"
   ]
  },
  {
   "cell_type": "markdown",
   "id": "b2890d5e",
   "metadata": {},
   "source": [
    "Model 15"
   ]
  },
  {
   "cell_type": "code",
   "execution_count": null,
   "id": "df7943c8",
   "metadata": {},
   "outputs": [],
   "source": [
    "f_15='default~Total_Debt+Net_Working_Capital+Revenue_earnings_in_forex+Revenue_expenses_in_forex+Book_Value_Adj_Unit_Curr+Market_Capitalisation+CEPS_annualised_Unit_Curr+ROG_Net_Worth_perc+ROG_Capital_Employed_perc+ROG_Gross_Block_perc+ROG_Cost_of_Production_perc+ROG_Total_Assets_perc+ROG_PBIT_perc+Current_RatioLatest+Inventory_RatioLatest+Debtors_RatioLatest+Total_Asset_Turnover_RatioLatest+Interest_Cover_RatioLatest+PBITM_percLatest+Debtors_Velocity_Days'\n",
    "\n",
    "model_15=SM.logit(formula=f_15,data=df_train).fit()\n",
    "model_15.summary()"
   ]
  },
  {
   "cell_type": "markdown",
   "id": "992edeab",
   "metadata": {},
   "source": [
    "As we can see now all our P values are less than 1 and we can now test our model on test data. We can continue to build models till our P values are almost 0. we will use model_15 for our analysis."
   ]
  },
  {
   "cell_type": "markdown",
   "id": "067467fa",
   "metadata": {},
   "source": [
    "Model Prediction"
   ]
  },
  {
   "cell_type": "markdown",
   "id": "f7ca8535",
   "metadata": {},
   "source": [
    "Model prediction on train set"
   ]
  },
  {
   "cell_type": "code",
   "execution_count": null,
   "id": "8e251fa6",
   "metadata": {},
   "outputs": [],
   "source": [
    "from sklearn.metrics import confusion_matrix, classification_report\n",
    "from sklearn.metrics import roc_auc_score,accuracy_score,roc_auc_score,roc_curve\n",
    "from sklearn import metrics"
   ]
  },
  {
   "cell_type": "code",
   "execution_count": null,
   "id": "4dbf3767",
   "metadata": {},
   "outputs": [],
   "source": [
    "y_prob_pred_train=model_15.predict(df_train)"
   ]
  },
  {
   "cell_type": "code",
   "execution_count": null,
   "id": "e68419a2",
   "metadata": {},
   "outputs": [],
   "source": [
    "y_class_pred=[]\n",
    "\n",
    "for i in range(0,len(y_prob_pred_train)):\n",
    "    if np.array(y_prob_pred_train)[i]>0.5:\n",
    "        a=1\n",
    "    else:\n",
    "        a=0\n",
    "    y_class_pred.append(a)  "
   ]
  },
  {
   "cell_type": "code",
   "execution_count": null,
   "id": "e82c1f16",
   "metadata": {},
   "outputs": [],
   "source": [
    "sns.heatmap((metrics.confusion_matrix(df_train['default'],y_class_pred)),annot=True,fmt='0.5g',cmap='Blues');\n",
    "plt.xlabel('Predicted')\n",
    "plt.ylabel('Actual',rotation=0);"
   ]
  },
  {
   "cell_type": "code",
   "execution_count": null,
   "id": "ddf39a9e",
   "metadata": {},
   "outputs": [],
   "source": [
    "print(metrics.classification_report(y_train,y_class_pred,digits=3))"
   ]
  },
  {
   "cell_type": "code",
   "execution_count": null,
   "id": "df0d6e9b",
   "metadata": {},
   "outputs": [],
   "source": []
  },
  {
   "cell_type": "markdown",
   "id": "5d81eb12",
   "metadata": {},
   "source": [
    "As we can see the model_15 recall is fairly good with 72.7% and has accuracy of 95.9%. the model is overfitting."
   ]
  },
  {
   "cell_type": "code",
   "execution_count": null,
   "id": "fb5eda5f",
   "metadata": {},
   "outputs": [],
   "source": [
    "y_prob_pred_15=model_15.predict()"
   ]
  },
  {
   "cell_type": "code",
   "execution_count": null,
   "id": "03c6dde5",
   "metadata": {},
   "outputs": [],
   "source": [
    "sns.boxplot(x=df_train['default'],y=y_prob_pred_15);\n",
    "plt.xlabel('Default')"
   ]
  },
  {
   "cell_type": "markdown",
   "id": "2da66f2c",
   "metadata": {},
   "source": [
    "From the box plot we can see that median for default is high."
   ]
  },
  {
   "cell_type": "markdown",
   "id": "8dec6ed9",
   "metadata": {},
   "source": [
    "Choosing the optimal threshold to ensure that our cutoff is optimal."
   ]
  },
  {
   "cell_type": "code",
   "execution_count": null,
   "id": "aa418d88",
   "metadata": {},
   "outputs": [],
   "source": [
    "from sklearn.metrics import roc_curve"
   ]
  },
  {
   "cell_type": "code",
   "execution_count": null,
   "id": "532bc023",
   "metadata": {},
   "outputs": [],
   "source": [
    "fpr,tpr,thresholds=roc_curve(df_train['default'],y_prob_pred_train)"
   ]
  },
  {
   "cell_type": "code",
   "execution_count": null,
   "id": "c89ae494",
   "metadata": {},
   "outputs": [],
   "source": [
    "optimal_idx=np.argmax(tpr-fpr)\n",
    "optimal_threshold=thresholds[optimal_idx]\n",
    "optimal_threshold"
   ]
  },
  {
   "cell_type": "code",
   "execution_count": null,
   "id": "5b6e098e",
   "metadata": {},
   "outputs": [],
   "source": [
    "y_class_pred=[]\n",
    "\n",
    "for i in range(0,len(y_prob_pred_train)):\n",
    "    if np.array(y_prob_pred_train)[i]>0.14:\n",
    "        a=1\n",
    "    else:\n",
    "        a=0\n",
    "    y_class_pred.append(a)  "
   ]
  },
  {
   "cell_type": "code",
   "execution_count": null,
   "id": "5df72733",
   "metadata": {},
   "outputs": [],
   "source": [
    "sns.heatmap((metrics.confusion_matrix(df_train['default'],y_class_pred)),annot=True,fmt='0.5g',cmap='Blues');\n",
    "plt.xlabel('Predicted')\n",
    "plt.ylabel('Actual',rotation=0);"
   ]
  },
  {
   "cell_type": "code",
   "execution_count": null,
   "id": "d24e02d6",
   "metadata": {},
   "outputs": [],
   "source": [
    "print(metrics.classification_report(df_train['default'],y_class_pred,digits=3))"
   ]
  },
  {
   "cell_type": "markdown",
   "id": "7d9418eb",
   "metadata": {},
   "source": [
    "Here the recall value is 93.1% and accuracy has gone down to 92.6 but still can be considered a good model."
   ]
  },
  {
   "cell_type": "markdown",
   "id": "5caeb51c",
   "metadata": {},
   "source": [
    "Model prediction on test set using optimal value."
   ]
  },
  {
   "cell_type": "code",
   "execution_count": null,
   "id": "030f08ce",
   "metadata": {},
   "outputs": [],
   "source": [
    "y_prob_pred_test=model_15.predict(df_test)"
   ]
  },
  {
   "cell_type": "code",
   "execution_count": null,
   "id": "5608c4c8",
   "metadata": {},
   "outputs": [],
   "source": [
    "y_class_pred=[]\n",
    "for i in range(0,len(y_prob_pred_test)):\n",
    "    if np.array(y_prob_pred_test)[i]>0.14:\n",
    "        a=1\n",
    "    else:\n",
    "        a=0\n",
    "        \n",
    "    y_class_pred.append(a)"
   ]
  },
  {
   "cell_type": "code",
   "execution_count": null,
   "id": "7667154b",
   "metadata": {},
   "outputs": [],
   "source": [
    "sns.heatmap((metrics.confusion_matrix(df_test['default'],y_class_pred)),annot=True,fmt='0.5g',cmap='Blues');\n",
    "plt.xlabel('Predicted')\n",
    "plt.ylabel('Actual',rotation=0);"
   ]
  },
  {
   "cell_type": "code",
   "execution_count": null,
   "id": "0fbf54d6",
   "metadata": {},
   "outputs": [],
   "source": [
    "print(metrics.classification_report(df_test['default'],y_class_pred,digits=3))"
   ]
  },
  {
   "cell_type": "markdown",
   "id": "46288e99",
   "metadata": {},
   "source": [
    "On the test model the recall is  90.6% and accuracy is 90.9%."
   ]
  },
  {
   "cell_type": "markdown",
   "id": "4c36a2d4",
   "metadata": {},
   "source": [
    "Our analysis concludes that for Logistics Regression model our recall is 90.6% and accuracy is 90.9% on the test data."
   ]
  },
  {
   "cell_type": "markdown",
   "id": "bee805dd",
   "metadata": {},
   "source": [
    "Method 2-Linear Discriminant Analysis"
   ]
  },
  {
   "cell_type": "code",
   "execution_count": null,
   "id": "d2239eb3",
   "metadata": {},
   "outputs": [],
   "source": [
    "from sklearn.discriminant_analysis import LinearDiscriminantAnalysis\n",
    "from sklearn.ensemble import RandomForestClassifier"
   ]
  },
  {
   "cell_type": "code",
   "execution_count": null,
   "id": "62575fc3",
   "metadata": {},
   "outputs": [],
   "source": [
    "LDA=LinearDiscriminantAnalysis()"
   ]
  },
  {
   "cell_type": "code",
   "execution_count": null,
   "id": "518e6645",
   "metadata": {},
   "outputs": [],
   "source": [
    "lda_model=LDA.fit(X_train,y_train)"
   ]
  },
  {
   "cell_type": "markdown",
   "id": "64a0928b",
   "metadata": {},
   "source": [
    "Prediction on trin and test data"
   ]
  },
  {
   "cell_type": "code",
   "execution_count": null,
   "id": "5ab35917",
   "metadata": {},
   "outputs": [],
   "source": [
    "pred_train_lda=lda_model.predict(X_train)\n",
    "pred_test_lda=lda_model.predict(X_test)"
   ]
  },
  {
   "cell_type": "code",
   "execution_count": null,
   "id": "d906b9f3",
   "metadata": {},
   "outputs": [],
   "source": [
    "print(metrics.classification_report(y_train,pred_train_lda))"
   ]
  },
  {
   "cell_type": "code",
   "execution_count": null,
   "id": "65e009e8",
   "metadata": {},
   "outputs": [],
   "source": [
    "print(metrics.classification_report(y_test,pred_test_lda))"
   ]
  },
  {
   "cell_type": "code",
   "execution_count": null,
   "id": "390927ea",
   "metadata": {},
   "outputs": [],
   "source": [
    "pred_train_lda_prob=lda_model.predict_proba(X_train)[:,1]\n",
    "pred_test_lda_prob=lda_model.predict_proba(X_test)[:,1]"
   ]
  },
  {
   "cell_type": "code",
   "execution_count": null,
   "id": "e1e8830d",
   "metadata": {},
   "outputs": [],
   "source": [
    "fpr,tpr,thresholds=roc_curve(y_train,pred_train_lda_prob)"
   ]
  },
  {
   "cell_type": "code",
   "execution_count": null,
   "id": "cae53561",
   "metadata": {},
   "outputs": [],
   "source": [
    "optimal_idx=np.argmax(tpr-fpr)\n",
    "optimal_threshold=thresholds[optimal_idx]\n",
    "optimal_threshold"
   ]
  },
  {
   "cell_type": "code",
   "execution_count": null,
   "id": "65daef7a",
   "metadata": {},
   "outputs": [],
   "source": [
    "y_class_pred=[]\n",
    "for i in range(0,len(pred_train_lda_prob)):\n",
    "    if np.array(pred_train_lda_prob)[i]>0.12:\n",
    "        a=1\n",
    "    else:\n",
    "        a=0\n",
    "        \n",
    "    y_class_pred.append(a)"
   ]
  },
  {
   "cell_type": "code",
   "execution_count": null,
   "id": "7b3a39e6",
   "metadata": {},
   "outputs": [],
   "source": []
  },
  {
   "cell_type": "code",
   "execution_count": null,
   "id": "ba368c8d",
   "metadata": {},
   "outputs": [],
   "source": [
    "sns.heatmap((metrics.confusion_matrix(y_train,y_class_pred)),annot=True,fmt='0.5g',cmap='Blues');\n",
    "plt.xlabel('Predicted')\n",
    "plt.ylabel('Actual',rotation=0);"
   ]
  },
  {
   "cell_type": "code",
   "execution_count": null,
   "id": "12620600",
   "metadata": {},
   "outputs": [],
   "source": [
    "print(metrics.classification_report(y_train,y_class_pred,digits=3))"
   ]
  },
  {
   "cell_type": "code",
   "execution_count": null,
   "id": "2ceaa92e",
   "metadata": {},
   "outputs": [],
   "source": [
    "y_class_pred=[]\n",
    "for i in range(0,len(pred_test_lda_prob)):\n",
    "    if np.array(pred_test_lda_prob)[i]>0.12:\n",
    "        a=1\n",
    "    else:\n",
    "        a=0\n",
    "        \n",
    "    y_class_pred.append(a)"
   ]
  },
  {
   "cell_type": "code",
   "execution_count": null,
   "id": "fdef27bf",
   "metadata": {},
   "outputs": [],
   "source": [
    "sns.heatmap((metrics.confusion_matrix(y_test,y_class_pred)),annot=True,fmt='0.5g',cmap='Blues');\n",
    "plt.xlabel('Predicted')\n",
    "plt.ylabel('Actual',rotation=0);"
   ]
  },
  {
   "cell_type": "code",
   "execution_count": null,
   "id": "11a8d2a2",
   "metadata": {},
   "outputs": [],
   "source": [
    "print(metrics.classification_report(y_test,y_class_pred,digits=3))"
   ]
  },
  {
   "cell_type": "markdown",
   "id": "c45eee6f",
   "metadata": {},
   "source": [
    "For LDA the recall is 89.8% and accuracy is 88.1% so it is little below Linear Regression"
   ]
  },
  {
   "cell_type": "markdown",
   "id": "fb1ab2a4",
   "metadata": {},
   "source": [
    "Method 3-Random Forest Classifier"
   ]
  },
  {
   "cell_type": "code",
   "execution_count": null,
   "id": "df7d53e6",
   "metadata": {},
   "outputs": [],
   "source": [
    "from sklearn.ensemble import RandomForestClassifier\n",
    "from sklearn.model_selection import GridSearchCV\n",
    "\n",
    "param_grid={\n",
    "    'max_depth':[3,5,7],\n",
    "    'min_samples_leaf':[5,10,15],\n",
    "    'min_samples_split':[15,30,45],\n",
    "    'n_estimators':[25,10]\n",
    "}\n",
    "\n",
    "rfcl=RandomForestClassifier()\n",
    "grid_search=GridSearchCV(estimator=rfcl,param_grid=param_grid)"
   ]
  },
  {
   "cell_type": "code",
   "execution_count": null,
   "id": "18c46935",
   "metadata": {},
   "outputs": [],
   "source": [
    "grid_search.fit(X_train,y_train)"
   ]
  },
  {
   "cell_type": "code",
   "execution_count": null,
   "id": "4243f064",
   "metadata": {},
   "outputs": [],
   "source": [
    "grid_search.best_params_"
   ]
  },
  {
   "cell_type": "code",
   "execution_count": null,
   "id": "c7a4e94b",
   "metadata": {},
   "outputs": [],
   "source": [
    "best_grid=grid_search.best_estimator_"
   ]
  },
  {
   "cell_type": "code",
   "execution_count": null,
   "id": "0b5bba73",
   "metadata": {},
   "outputs": [],
   "source": [
    "pred_train_rf=best_grid.predict(X_train)\n",
    "pred_test_rf=best_grid.predict(X_test)"
   ]
  },
  {
   "cell_type": "code",
   "execution_count": null,
   "id": "d0553e8d",
   "metadata": {},
   "outputs": [],
   "source": [
    "print(metrics.classification_report(y_train,pred_train_rf,digits=3))"
   ]
  },
  {
   "cell_type": "code",
   "execution_count": null,
   "id": "f79551de",
   "metadata": {},
   "outputs": [],
   "source": [
    "print(metrics.classification_report(y_test,pred_test_rf,digits=3))"
   ]
  },
  {
   "cell_type": "code",
   "execution_count": null,
   "id": "46af90fb",
   "metadata": {},
   "outputs": [],
   "source": [
    "print(\"For Logistics Regression model our recall is 90.6% and accuracy is 90.9% on the test data.\")\n",
    "print('For Random Forest Classifier model the recall is 82.0% and accuracy is 98.0.')\n",
    "print('For LDA the recall is 89.8% and accuracy is 88.1% ')"
   ]
  },
  {
   "cell_type": "markdown",
   "id": "e415ede4",
   "metadata": {},
   "source": [
    "Based on the above data it is good to go for Logistics Regression model."
   ]
  },
  {
   "cell_type": "markdown",
   "id": "0d437b39",
   "metadata": {},
   "source": [
    "Model-4 SMOTE"
   ]
  },
  {
   "cell_type": "code",
   "execution_count": null,
   "id": "be260c1e",
   "metadata": {},
   "outputs": [],
   "source": [
    "from imblearn.over_sampling import SMOTE\n",
    "# Treating target imbalance using SMOTE..Synthetic minority oversampling technique.."
   ]
  },
  {
   "cell_type": "code",
   "execution_count": null,
   "id": "6bc6fef0",
   "metadata": {},
   "outputs": [],
   "source": [
    "sm=SMOTE(random_state=33,sampling_strategy=0.75)\n",
    "X_res,y_res=sm.fit_resample(X_train,y_train)"
   ]
  },
  {
   "cell_type": "code",
   "execution_count": null,
   "id": "90f62513",
   "metadata": {},
   "outputs": [],
   "source": [
    "default_smote=pd.concat([X_res,y_res],axis=1)"
   ]
  },
  {
   "cell_type": "code",
   "execution_count": null,
   "id": "0b3dba21",
   "metadata": {},
   "outputs": [],
   "source": [
    "df.groupby('default').mean()"
   ]
  },
  {
   "cell_type": "code",
   "execution_count": null,
   "id": "2a468ae7",
   "metadata": {},
   "outputs": [],
   "source": [
    "default_smote.groupby('default').mean()"
   ]
  },
  {
   "cell_type": "markdown",
   "id": "39dcaa33",
   "metadata": {},
   "source": [
    "Model Building using Logistic regression for probability at default"
   ]
  },
  {
   "cell_type": "code",
   "execution_count": null,
   "id": "90740943",
   "metadata": {},
   "outputs": [],
   "source": [
    "import statsmodels.formula.api as SM"
   ]
  },
  {
   "cell_type": "code",
   "execution_count": null,
   "id": "f2ff639b",
   "metadata": {},
   "outputs": [],
   "source": [
    "train=pd.concat([X_train,y_train],axis=1)\n",
    "train_smote=pd.concat([X_res,y_res],axis=1)\n",
    "test=pd.concat([X_test,y_test],axis=1)"
   ]
  },
  {
   "cell_type": "code",
   "execution_count": null,
   "id": "2518195d",
   "metadata": {},
   "outputs": [],
   "source": [
    "train.columns"
   ]
  },
  {
   "cell_type": "code",
   "execution_count": null,
   "id": "a39c797f",
   "metadata": {},
   "outputs": [],
   "source": [
    "len(train.columns)"
   ]
  },
  {
   "cell_type": "code",
   "execution_count": null,
   "id": "1dd5aa3b",
   "metadata": {},
   "outputs": [],
   "source": [
    "train_smote.columns"
   ]
  },
  {
   "cell_type": "code",
   "execution_count": null,
   "id": "e1308f53",
   "metadata": {},
   "outputs": [],
   "source": [
    "len(train_smote.columns)"
   ]
  },
  {
   "cell_type": "code",
   "execution_count": null,
   "id": "2b707580",
   "metadata": {},
   "outputs": [],
   "source": [
    "f_16='default~Total_Debt+Net_Working_Capital+Revenue_earnings_in_forex+Revenue_expenses_in_forex+Book_Value_Adj_Unit_Curr+Market_Capitalisation+CEPS_annualised_Unit_Curr+ROG_Net_Worth_perc+ROG_Capital_Employed_perc+ROG_Gross_Block_perc+ROG_Cost_of_Production_perc+ROG_Total_Assets_perc+ROG_PBIT_perc+Current_RatioLatest+Inventory_RatioLatest+Debtors_RatioLatest+Total_Asset_Turnover_RatioLatest+Interest_Cover_RatioLatest+PBITM_percLatest+Debtors_Velocity_Days'"
   ]
  },
  {
   "cell_type": "code",
   "execution_count": null,
   "id": "91a36faf",
   "metadata": {},
   "outputs": [],
   "source": [
    "model_16=SM.logit(formula=f_16,data=train_smote).fit()"
   ]
  },
  {
   "cell_type": "code",
   "execution_count": null,
   "id": "38652f18",
   "metadata": {},
   "outputs": [],
   "source": [
    "model_16.summary()"
   ]
  },
  {
   "cell_type": "markdown",
   "id": "4b18f362",
   "metadata": {},
   "source": [
    "Validating the model on train set"
   ]
  },
  {
   "cell_type": "code",
   "execution_count": null,
   "id": "8bb6a235",
   "metadata": {},
   "outputs": [],
   "source": [
    "y_pred_train_smote=np.where(model_16.predict(train_smote)>0.5,1,0)"
   ]
  },
  {
   "cell_type": "code",
   "execution_count": null,
   "id": "d54aac68",
   "metadata": {},
   "outputs": [],
   "source": [
    "y_class_pred_smote=[]\n",
    "\n",
    "for i in range(0,len(y_pred_train_smote)):\n",
    "    if np.array(y_pred_train_smote)[i]>0.5:\n",
    "        a=1\n",
    "    else:\n",
    "        a=0\n",
    "    y_class_pred.append(a)"
   ]
  },
  {
   "cell_type": "code",
   "execution_count": null,
   "id": "d8042b8a",
   "metadata": {},
   "outputs": [],
   "source": [
    "sns.heatmap((metrics.confusion_matrix(y_res,y_pred_train_smote)),annot=True,fmt='0.5g',cmap='Blues');\n",
    "plt.xlabel('Predicted')\n",
    "plt.ylabel('Actual',rotation=0);"
   ]
  },
  {
   "cell_type": "code",
   "execution_count": null,
   "id": "3bc9d118",
   "metadata": {},
   "outputs": [],
   "source": [
    "print(classification_report(y_res, y_pred_train_smote))"
   ]
  },
  {
   "cell_type": "code",
   "execution_count": null,
   "id": "2fa962ec",
   "metadata": {},
   "outputs": [],
   "source": [
    "y_pred_test_smote = np.where(model_16.predict(test) > 0.5, 1, 0)"
   ]
  },
  {
   "cell_type": "code",
   "execution_count": null,
   "id": "650144e3",
   "metadata": {},
   "outputs": [],
   "source": [
    "sns.heatmap((metrics.confusion_matrix(y_test,y_pred_test_smote)),annot=True,fmt='0.5g',cmap='Blues');\n",
    "plt.xlabel('Predicted')\n",
    "plt.ylabel('Actual',rotation=0);"
   ]
  },
  {
   "cell_type": "code",
   "execution_count": null,
   "id": "099907e7",
   "metadata": {},
   "outputs": [],
   "source": [
    "print(classification_report(y_test, y_pred_test_smote))"
   ]
  },
  {
   "cell_type": "markdown",
   "id": "a150e1ef",
   "metadata": {},
   "source": [
    "END..."
   ]
  },
  {
   "cell_type": "code",
   "execution_count": null,
   "id": "6d226a50",
   "metadata": {},
   "outputs": [],
   "source": [
    "|"
   ]
  }
 ],
 "metadata": {
  "kernelspec": {
   "display_name": "Python 3",
   "language": "python",
   "name": "python3"
  },
  "language_info": {
   "codemirror_mode": {
    "name": "ipython",
    "version": 3
   },
   "file_extension": ".py",
   "mimetype": "text/x-python",
   "name": "python",
   "nbconvert_exporter": "python",
   "pygments_lexer": "ipython3",
   "version": "3.8.8"
  }
 },
 "nbformat": 4,
 "nbformat_minor": 5
}
