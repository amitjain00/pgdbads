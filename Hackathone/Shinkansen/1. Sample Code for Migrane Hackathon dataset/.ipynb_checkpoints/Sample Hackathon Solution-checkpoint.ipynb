{
 "cells": [
  {
   "cell_type": "code",
   "execution_count": 1,
   "metadata": {},
   "outputs": [],
   "source": [
    "import numpy as np\n",
    "import pandas as pd"
   ]
  },
  {
   "cell_type": "code",
   "execution_count": 2,
   "metadata": {},
   "outputs": [],
   "source": [
    "df_train = pd.read_csv('train_file.csv')\n",
    "df_test = pd.read_csv('test_file.csv')"
   ]
  },
  {
   "cell_type": "code",
   "execution_count": 3,
   "metadata": {},
   "outputs": [
    {
     "data": {
      "text/plain": [
       "1    1704\n",
       "0    1202\n",
       "Name: hatype, dtype: int64"
      ]
     },
     "execution_count": 3,
     "metadata": {},
     "output_type": "execute_result"
    }
   ],
   "source": [
    "df_train['hatype'].value_counts()"
   ]
  },
  {
   "cell_type": "markdown",
   "metadata": {},
   "source": [
    "### TARGET VARIABLE => hatype : Type of Migraine experienced - Aura =0, No Aura=1"
   ]
  },
  {
   "cell_type": "code",
   "execution_count": 4,
   "metadata": {},
   "outputs": [
    {
     "data": {
      "text/html": [
       "<div>\n",
       "<style scoped>\n",
       "    .dataframe tbody tr th:only-of-type {\n",
       "        vertical-align: middle;\n",
       "    }\n",
       "\n",
       "    .dataframe tbody tr th {\n",
       "        vertical-align: top;\n",
       "    }\n",
       "\n",
       "    .dataframe thead th {\n",
       "        text-align: right;\n",
       "    }\n",
       "</style>\n",
       "<table border=\"1\" class=\"dataframe\">\n",
       "  <thead>\n",
       "    <tr style=\"text-align: right;\">\n",
       "      <th></th>\n",
       "      <th>patient_id</th>\n",
       "      <th>time</th>\n",
       "      <th>dos</th>\n",
       "      <th>age</th>\n",
       "      <th>airq</th>\n",
       "      <th>medication</th>\n",
       "      <th>headache</th>\n",
       "      <th>sex</th>\n",
       "      <th>hatype</th>\n",
       "    </tr>\n",
       "  </thead>\n",
       "  <tbody>\n",
       "    <tr>\n",
       "      <th>0</th>\n",
       "      <td>1</td>\n",
       "      <td>-7.0</td>\n",
       "      <td>757.0</td>\n",
       "      <td>30.0</td>\n",
       "      <td>18.0</td>\n",
       "      <td>continuing</td>\n",
       "      <td>yes</td>\n",
       "      <td>female</td>\n",
       "      <td>0</td>\n",
       "    </tr>\n",
       "    <tr>\n",
       "      <th>1</th>\n",
       "      <td>2</td>\n",
       "      <td>-11.0</td>\n",
       "      <td>753.0</td>\n",
       "      <td>30.0</td>\n",
       "      <td>9.0</td>\n",
       "      <td>continuing</td>\n",
       "      <td>yes</td>\n",
       "      <td>female</td>\n",
       "      <td>0</td>\n",
       "    </tr>\n",
       "    <tr>\n",
       "      <th>2</th>\n",
       "      <td>3</td>\n",
       "      <td>-6.0</td>\n",
       "      <td>758.0</td>\n",
       "      <td>30.0</td>\n",
       "      <td>19.0</td>\n",
       "      <td>continuing</td>\n",
       "      <td>yes</td>\n",
       "      <td>female</td>\n",
       "      <td>0</td>\n",
       "    </tr>\n",
       "    <tr>\n",
       "      <th>3</th>\n",
       "      <td>4</td>\n",
       "      <td>29.0</td>\n",
       "      <td>793.0</td>\n",
       "      <td>30.0</td>\n",
       "      <td>21.0</td>\n",
       "      <td>continuing</td>\n",
       "      <td>yes</td>\n",
       "      <td>female</td>\n",
       "      <td>0</td>\n",
       "    </tr>\n",
       "    <tr>\n",
       "      <th>4</th>\n",
       "      <td>5</td>\n",
       "      <td>22.0</td>\n",
       "      <td>786.0</td>\n",
       "      <td>30.0</td>\n",
       "      <td>21.0</td>\n",
       "      <td>continuing</td>\n",
       "      <td>yes</td>\n",
       "      <td>female</td>\n",
       "      <td>0</td>\n",
       "    </tr>\n",
       "  </tbody>\n",
       "</table>\n",
       "</div>"
      ],
      "text/plain": [
       "   patient_id  time    dos   age  airq  medication headache     sex  hatype\n",
       "0           1  -7.0  757.0  30.0  18.0  continuing      yes  female       0\n",
       "1           2 -11.0  753.0  30.0   9.0  continuing      yes  female       0\n",
       "2           3  -6.0  758.0  30.0  19.0  continuing      yes  female       0\n",
       "3           4  29.0  793.0  30.0  21.0  continuing      yes  female       0\n",
       "4           5  22.0  786.0  30.0  21.0  continuing      yes  female       0"
      ]
     },
     "execution_count": 4,
     "metadata": {},
     "output_type": "execute_result"
    }
   ],
   "source": [
    "df_train.head()"
   ]
  },
  {
   "cell_type": "code",
   "execution_count": 5,
   "metadata": {},
   "outputs": [
    {
     "data": {
      "text/html": [
       "<div>\n",
       "<style scoped>\n",
       "    .dataframe tbody tr th:only-of-type {\n",
       "        vertical-align: middle;\n",
       "    }\n",
       "\n",
       "    .dataframe tbody tr th {\n",
       "        vertical-align: top;\n",
       "    }\n",
       "\n",
       "    .dataframe thead th {\n",
       "        text-align: right;\n",
       "    }\n",
       "</style>\n",
       "<table border=\"1\" class=\"dataframe\">\n",
       "  <thead>\n",
       "    <tr style=\"text-align: right;\">\n",
       "      <th></th>\n",
       "      <th>patient_id</th>\n",
       "      <th>time</th>\n",
       "      <th>dos</th>\n",
       "      <th>age</th>\n",
       "      <th>airq</th>\n",
       "      <th>medication</th>\n",
       "      <th>headache</th>\n",
       "      <th>sex</th>\n",
       "    </tr>\n",
       "  </thead>\n",
       "  <tbody>\n",
       "    <tr>\n",
       "      <th>0</th>\n",
       "      <td>1</td>\n",
       "      <td>23.0</td>\n",
       "      <td>262</td>\n",
       "      <td>54</td>\n",
       "      <td>20.0</td>\n",
       "      <td>continuing</td>\n",
       "      <td>yes</td>\n",
       "      <td>female</td>\n",
       "    </tr>\n",
       "    <tr>\n",
       "      <th>1</th>\n",
       "      <td>2</td>\n",
       "      <td>31.0</td>\n",
       "      <td>795</td>\n",
       "      <td>30</td>\n",
       "      <td>15.0</td>\n",
       "      <td>continuing</td>\n",
       "      <td>yes</td>\n",
       "      <td>female</td>\n",
       "    </tr>\n",
       "    <tr>\n",
       "      <th>2</th>\n",
       "      <td>3</td>\n",
       "      <td>28.0</td>\n",
       "      <td>792</td>\n",
       "      <td>30</td>\n",
       "      <td>22.0</td>\n",
       "      <td>continuing</td>\n",
       "      <td>no</td>\n",
       "      <td>female</td>\n",
       "    </tr>\n",
       "    <tr>\n",
       "      <th>3</th>\n",
       "      <td>4</td>\n",
       "      <td>26.0</td>\n",
       "      <td>790</td>\n",
       "      <td>30</td>\n",
       "      <td>12.0</td>\n",
       "      <td>continuing</td>\n",
       "      <td>yes</td>\n",
       "      <td>female</td>\n",
       "    </tr>\n",
       "    <tr>\n",
       "      <th>4</th>\n",
       "      <td>5</td>\n",
       "      <td>34.0</td>\n",
       "      <td>798</td>\n",
       "      <td>30</td>\n",
       "      <td>20.0</td>\n",
       "      <td>continuing</td>\n",
       "      <td>yes</td>\n",
       "      <td>female</td>\n",
       "    </tr>\n",
       "  </tbody>\n",
       "</table>\n",
       "</div>"
      ],
      "text/plain": [
       "   patient_id  time  dos  age  airq  medication headache     sex\n",
       "0           1  23.0  262   54  20.0  continuing      yes  female\n",
       "1           2  31.0  795   30  15.0  continuing      yes  female\n",
       "2           3  28.0  792   30  22.0  continuing       no  female\n",
       "3           4  26.0  790   30  12.0  continuing      yes  female\n",
       "4           5  34.0  798   30  20.0  continuing      yes  female"
      ]
     },
     "execution_count": 5,
     "metadata": {},
     "output_type": "execute_result"
    }
   ],
   "source": [
    "df_test.head()"
   ]
  },
  {
   "cell_type": "code",
   "execution_count": 6,
   "metadata": {},
   "outputs": [
    {
     "data": {
      "text/plain": [
       "continuing    1674\n",
       "reduced        681\n",
       "none           535\n",
       "Name: medication, dtype: int64"
      ]
     },
     "execution_count": 6,
     "metadata": {},
     "output_type": "execute_result"
    }
   ],
   "source": [
    "df_train['medication'].value_counts()"
   ]
  },
  {
   "cell_type": "code",
   "execution_count": 7,
   "metadata": {},
   "outputs": [
    {
     "data": {
      "text/plain": [
       "continuing    691\n",
       "reduced       297\n",
       "Name: medication, dtype: int64"
      ]
     },
     "execution_count": 7,
     "metadata": {},
     "output_type": "execute_result"
    }
   ],
   "source": [
    "df_test['medication'].value_counts()"
   ]
  },
  {
   "cell_type": "markdown",
   "metadata": {},
   "source": [
    "##### Train data has an extra subcategory \"none\" for the variable 'medication'. This can create a problem while predicting values over test data if we convert the \"medication\" variable to dummy variables. So, we will convert these \"none\" values to nan values and then impute these using mode. You can choose any other way to handle such a case where there are any extra subcategories in any categorical variable for train dataset."
   ]
  },
  {
   "cell_type": "code",
   "execution_count": 8,
   "metadata": {},
   "outputs": [],
   "source": [
    "df_train.loc[df_train['medication'] == 'none','medication'] = np.nan"
   ]
  },
  {
   "cell_type": "code",
   "execution_count": 9,
   "metadata": {},
   "outputs": [
    {
     "data": {
      "text/plain": [
       "continuing    1674\n",
       "reduced        681\n",
       "Name: medication, dtype: int64"
      ]
     },
     "execution_count": 9,
     "metadata": {},
     "output_type": "execute_result"
    }
   ],
   "source": [
    "df_train['medication'].value_counts()"
   ]
  },
  {
   "cell_type": "markdown",
   "metadata": {},
   "source": [
    "### Checking datatypes of the variables"
   ]
  },
  {
   "cell_type": "code",
   "execution_count": 10,
   "metadata": {},
   "outputs": [
    {
     "name": "stdout",
     "output_type": "stream",
     "text": [
      "<class 'pandas.core.frame.DataFrame'>\n",
      "RangeIndex: 2906 entries, 0 to 2905\n",
      "Data columns (total 9 columns):\n",
      " #   Column      Non-Null Count  Dtype  \n",
      "---  ------      --------------  -----  \n",
      " 0   patient_id  2906 non-null   int64  \n",
      " 1   time        2899 non-null   float64\n",
      " 2   dos         2901 non-null   float64\n",
      " 3   age         2898 non-null   float64\n",
      " 4   airq        2905 non-null   float64\n",
      " 5   medication  2355 non-null   object \n",
      " 6   headache    2905 non-null   object \n",
      " 7   sex         2906 non-null   object \n",
      " 8   hatype      2906 non-null   int64  \n",
      "dtypes: float64(4), int64(2), object(3)\n",
      "memory usage: 204.5+ KB\n"
     ]
    }
   ],
   "source": [
    "df_train.info()"
   ]
  },
  {
   "cell_type": "markdown",
   "metadata": {},
   "source": [
    "### Checking for null values"
   ]
  },
  {
   "cell_type": "code",
   "execution_count": 11,
   "metadata": {},
   "outputs": [
    {
     "data": {
      "text/plain": [
       "patient_id      0\n",
       "time            7\n",
       "dos             5\n",
       "age             8\n",
       "airq            1\n",
       "medication    551\n",
       "headache        1\n",
       "sex             0\n",
       "hatype          0\n",
       "dtype: int64"
      ]
     },
     "execution_count": 11,
     "metadata": {},
     "output_type": "execute_result"
    }
   ],
   "source": [
    "df_train.isnull().sum()"
   ]
  },
  {
   "cell_type": "code",
   "execution_count": 12,
   "metadata": {
    "scrolled": false
   },
   "outputs": [
    {
     "data": {
      "text/plain": [
       "patient_id     0\n",
       "time           2\n",
       "dos            0\n",
       "age            0\n",
       "airq           0\n",
       "medication    10\n",
       "headache       1\n",
       "sex            0\n",
       "dtype: int64"
      ]
     },
     "execution_count": 12,
     "metadata": {},
     "output_type": "execute_result"
    }
   ],
   "source": [
    "df_test.isnull().sum()"
   ]
  },
  {
   "cell_type": "markdown",
   "metadata": {},
   "source": [
    "### Imputing categorical values"
   ]
  },
  {
   "cell_type": "code",
   "execution_count": 13,
   "metadata": {},
   "outputs": [],
   "source": [
    "df_train.loc[df_train['medication'].isnull() == True,'medication'] = df_train['medication'].mode()[0]\n",
    "df_test.loc[df_test['medication'].isnull() == True,'medication'] = df_train['medication'].mode()[0]\n",
    "\n",
    "df_train.loc[df_train['headache'].isnull() == True,'headache'] = df_train['headache'].mode()[0]\n",
    "df_test.loc[df_test['headache'].isnull() == True,'headache'] = df_train['headache'].mode()[0]\n",
    "\n",
    "df_train.loc[df_train['sex'].isnull() == True,'sex'] = df_train['sex'].mode()[0]\n",
    "df_test.loc[df_test['sex'].isnull() == True,'sex'] = df_train['sex'].mode()[0]"
   ]
  },
  {
   "cell_type": "markdown",
   "metadata": {},
   "source": [
    "### Dropping unnecessary columns"
   ]
  },
  {
   "cell_type": "code",
   "execution_count": 14,
   "metadata": {},
   "outputs": [],
   "source": [
    "df_train.drop('patient_id',axis = 1,inplace = True)\n",
    "test_file_ids = df_test['patient_id'] ## necessary step\n",
    "df_test.drop('patient_id',axis = 1,inplace = True)"
   ]
  },
  {
   "cell_type": "markdown",
   "metadata": {},
   "source": [
    "### Encoding Categorical values"
   ]
  },
  {
   "cell_type": "code",
   "execution_count": 15,
   "metadata": {},
   "outputs": [
    {
     "data": {
      "text/html": [
       "<div>\n",
       "<style scoped>\n",
       "    .dataframe tbody tr th:only-of-type {\n",
       "        vertical-align: middle;\n",
       "    }\n",
       "\n",
       "    .dataframe tbody tr th {\n",
       "        vertical-align: top;\n",
       "    }\n",
       "\n",
       "    .dataframe thead th {\n",
       "        text-align: right;\n",
       "    }\n",
       "</style>\n",
       "<table border=\"1\" class=\"dataframe\">\n",
       "  <thead>\n",
       "    <tr style=\"text-align: right;\">\n",
       "      <th></th>\n",
       "      <th>time</th>\n",
       "      <th>dos</th>\n",
       "      <th>age</th>\n",
       "      <th>airq</th>\n",
       "      <th>hatype</th>\n",
       "      <th>medication_reduced</th>\n",
       "      <th>headache_yes</th>\n",
       "      <th>sex_male</th>\n",
       "    </tr>\n",
       "  </thead>\n",
       "  <tbody>\n",
       "    <tr>\n",
       "      <th>0</th>\n",
       "      <td>-7.0</td>\n",
       "      <td>757.0</td>\n",
       "      <td>30.0</td>\n",
       "      <td>18.0</td>\n",
       "      <td>0</td>\n",
       "      <td>0</td>\n",
       "      <td>1</td>\n",
       "      <td>0</td>\n",
       "    </tr>\n",
       "    <tr>\n",
       "      <th>1</th>\n",
       "      <td>-11.0</td>\n",
       "      <td>753.0</td>\n",
       "      <td>30.0</td>\n",
       "      <td>9.0</td>\n",
       "      <td>0</td>\n",
       "      <td>0</td>\n",
       "      <td>1</td>\n",
       "      <td>0</td>\n",
       "    </tr>\n",
       "    <tr>\n",
       "      <th>2</th>\n",
       "      <td>-6.0</td>\n",
       "      <td>758.0</td>\n",
       "      <td>30.0</td>\n",
       "      <td>19.0</td>\n",
       "      <td>0</td>\n",
       "      <td>0</td>\n",
       "      <td>1</td>\n",
       "      <td>0</td>\n",
       "    </tr>\n",
       "    <tr>\n",
       "      <th>3</th>\n",
       "      <td>29.0</td>\n",
       "      <td>793.0</td>\n",
       "      <td>30.0</td>\n",
       "      <td>21.0</td>\n",
       "      <td>0</td>\n",
       "      <td>0</td>\n",
       "      <td>1</td>\n",
       "      <td>0</td>\n",
       "    </tr>\n",
       "    <tr>\n",
       "      <th>4</th>\n",
       "      <td>22.0</td>\n",
       "      <td>786.0</td>\n",
       "      <td>30.0</td>\n",
       "      <td>21.0</td>\n",
       "      <td>0</td>\n",
       "      <td>0</td>\n",
       "      <td>1</td>\n",
       "      <td>0</td>\n",
       "    </tr>\n",
       "  </tbody>\n",
       "</table>\n",
       "</div>"
      ],
      "text/plain": [
       "   time    dos   age  airq  hatype  medication_reduced  headache_yes  sex_male\n",
       "0  -7.0  757.0  30.0  18.0       0                   0             1         0\n",
       "1 -11.0  753.0  30.0   9.0       0                   0             1         0\n",
       "2  -6.0  758.0  30.0  19.0       0                   0             1         0\n",
       "3  29.0  793.0  30.0  21.0       0                   0             1         0\n",
       "4  22.0  786.0  30.0  21.0       0                   0             1         0"
      ]
     },
     "execution_count": 15,
     "metadata": {},
     "output_type": "execute_result"
    }
   ],
   "source": [
    "df_train = pd.get_dummies(df_train,drop_first = True)\n",
    "df_train.head()"
   ]
  },
  {
   "cell_type": "code",
   "execution_count": 16,
   "metadata": {},
   "outputs": [
    {
     "data": {
      "text/html": [
       "<div>\n",
       "<style scoped>\n",
       "    .dataframe tbody tr th:only-of-type {\n",
       "        vertical-align: middle;\n",
       "    }\n",
       "\n",
       "    .dataframe tbody tr th {\n",
       "        vertical-align: top;\n",
       "    }\n",
       "\n",
       "    .dataframe thead th {\n",
       "        text-align: right;\n",
       "    }\n",
       "</style>\n",
       "<table border=\"1\" class=\"dataframe\">\n",
       "  <thead>\n",
       "    <tr style=\"text-align: right;\">\n",
       "      <th></th>\n",
       "      <th>time</th>\n",
       "      <th>dos</th>\n",
       "      <th>age</th>\n",
       "      <th>airq</th>\n",
       "      <th>medication_reduced</th>\n",
       "      <th>headache_yes</th>\n",
       "      <th>sex_male</th>\n",
       "    </tr>\n",
       "  </thead>\n",
       "  <tbody>\n",
       "    <tr>\n",
       "      <th>0</th>\n",
       "      <td>23.0</td>\n",
       "      <td>262</td>\n",
       "      <td>54</td>\n",
       "      <td>20.0</td>\n",
       "      <td>0</td>\n",
       "      <td>1</td>\n",
       "      <td>0</td>\n",
       "    </tr>\n",
       "    <tr>\n",
       "      <th>1</th>\n",
       "      <td>31.0</td>\n",
       "      <td>795</td>\n",
       "      <td>30</td>\n",
       "      <td>15.0</td>\n",
       "      <td>0</td>\n",
       "      <td>1</td>\n",
       "      <td>0</td>\n",
       "    </tr>\n",
       "    <tr>\n",
       "      <th>2</th>\n",
       "      <td>28.0</td>\n",
       "      <td>792</td>\n",
       "      <td>30</td>\n",
       "      <td>22.0</td>\n",
       "      <td>0</td>\n",
       "      <td>0</td>\n",
       "      <td>0</td>\n",
       "    </tr>\n",
       "    <tr>\n",
       "      <th>3</th>\n",
       "      <td>26.0</td>\n",
       "      <td>790</td>\n",
       "      <td>30</td>\n",
       "      <td>12.0</td>\n",
       "      <td>0</td>\n",
       "      <td>1</td>\n",
       "      <td>0</td>\n",
       "    </tr>\n",
       "    <tr>\n",
       "      <th>4</th>\n",
       "      <td>34.0</td>\n",
       "      <td>798</td>\n",
       "      <td>30</td>\n",
       "      <td>20.0</td>\n",
       "      <td>0</td>\n",
       "      <td>1</td>\n",
       "      <td>0</td>\n",
       "    </tr>\n",
       "  </tbody>\n",
       "</table>\n",
       "</div>"
      ],
      "text/plain": [
       "   time  dos  age  airq  medication_reduced  headache_yes  sex_male\n",
       "0  23.0  262   54  20.0                   0             1         0\n",
       "1  31.0  795   30  15.0                   0             1         0\n",
       "2  28.0  792   30  22.0                   0             0         0\n",
       "3  26.0  790   30  12.0                   0             1         0\n",
       "4  34.0  798   30  20.0                   0             1         0"
      ]
     },
     "execution_count": 16,
     "metadata": {},
     "output_type": "execute_result"
    }
   ],
   "source": [
    "df_test = pd.get_dummies(df_test,drop_first = True)\n",
    "df_test.head()"
   ]
  },
  {
   "cell_type": "code",
   "execution_count": 17,
   "metadata": {
    "scrolled": true
   },
   "outputs": [],
   "source": [
    "cols = df_train.columns"
   ]
  },
  {
   "cell_type": "markdown",
   "metadata": {},
   "source": [
    "### Imputing continuous values"
   ]
  },
  {
   "cell_type": "code",
   "execution_count": 18,
   "metadata": {},
   "outputs": [],
   "source": [
    "from sklearn.impute import SimpleImputer\n",
    "SI = SimpleImputer(strategy='median')\n",
    "df_train = SI.fit_transform(df_train)\n",
    "df_train = pd.DataFrame(df_train,columns=cols)\n",
    "\n",
    "df_test.loc[df_test['time'].isnull() == True,'time'] = df_train['time'].median()"
   ]
  },
  {
   "cell_type": "markdown",
   "metadata": {},
   "source": [
    "### Splitting training dataset into train and validation set"
   ]
  },
  {
   "cell_type": "code",
   "execution_count": 19,
   "metadata": {},
   "outputs": [],
   "source": [
    "X = df_train.drop(['hatype'],axis = 1)\n",
    "y = df_train['hatype']"
   ]
  },
  {
   "cell_type": "code",
   "execution_count": 20,
   "metadata": {},
   "outputs": [],
   "source": [
    "from sklearn.model_selection import train_test_split\n",
    "X_train, X_validation, y_train, y_validation = train_test_split(X,y,test_size = 0.2,random_state = 0)"
   ]
  },
  {
   "cell_type": "markdown",
   "metadata": {},
   "source": [
    "### Model training - Decision Tree"
   ]
  },
  {
   "cell_type": "code",
   "execution_count": 21,
   "metadata": {},
   "outputs": [],
   "source": [
    "from sklearn.tree import DecisionTreeClassifier\n",
    "dt_model = DecisionTreeClassifier(criterion='gini',max_depth=10,random_state=0)\n",
    "dt_model.fit(X_train,y_train)\n",
    "\n",
    "y_pred_train = dt_model.predict(X_train)\n",
    "y_pred_val = dt_model.predict(X_validation)"
   ]
  },
  {
   "cell_type": "code",
   "execution_count": 22,
   "metadata": {},
   "outputs": [
    {
     "name": "stdout",
     "output_type": "stream",
     "text": [
      "Train Accuracy: 0.898881239242685\n",
      "Validation Accuracy: 0.8917525773195877\n",
      "\n",
      "Train ROC AUC score: 0.886778009107069\n",
      "Validation ROC AUC score: 0.8758522727272728\n",
      "\n",
      "Train Classification Report:\n",
      "               precision    recall  f1-score   support\n",
      "\n",
      "         0.0       0.94      0.81      0.87       972\n",
      "         1.0       0.88      0.96      0.92      1352\n",
      "\n",
      "    accuracy                           0.90      2324\n",
      "   macro avg       0.91      0.89      0.89      2324\n",
      "weighted avg       0.90      0.90      0.90      2324\n",
      "\n",
      "Validation Classification Report:\n",
      "               precision    recall  f1-score   support\n",
      "\n",
      "         0.0       0.92      0.80      0.85       230\n",
      "         1.0       0.88      0.95      0.91       352\n",
      "\n",
      "    accuracy                           0.89       582\n",
      "   macro avg       0.90      0.88      0.88       582\n",
      "weighted avg       0.89      0.89      0.89       582\n",
      "\n"
     ]
    }
   ],
   "source": [
    "from sklearn import metrics\n",
    "dt_acc_train = metrics.accuracy_score(y_train,y_pred_train)\n",
    "dt_acc_val = metrics.accuracy_score(y_validation,y_pred_val)\n",
    "print(\"Train Accuracy:\",dt_acc_train)\n",
    "print(\"Validation Accuracy:\",dt_acc_val)\n",
    "print()\n",
    "\n",
    "dt_roc_train = metrics.roc_auc_score(y_train,y_pred_train)\n",
    "dt_roc_val = metrics.roc_auc_score(y_validation,y_pred_val)\n",
    "print(\"Train ROC AUC score:\",dt_roc_train)\n",
    "print(\"Validation ROC AUC score:\",dt_roc_val)\n",
    "print()\n",
    "\n",
    "dt_clr_train = metrics.classification_report(y_train,y_pred_train)\n",
    "dt_clr_val = metrics.classification_report(y_validation,y_pred_val)\n",
    "print(\"Train Classification Report:\\n\",dt_clr_train)\n",
    "print(\"Validation Classification Report:\\n\",dt_clr_val)"
   ]
  },
  {
   "cell_type": "markdown",
   "metadata": {},
   "source": [
    "### Model training - Random Forest"
   ]
  },
  {
   "cell_type": "code",
   "execution_count": 23,
   "metadata": {},
   "outputs": [],
   "source": [
    "from sklearn.ensemble import RandomForestClassifier\n",
    "rf_model = RandomForestClassifier(n_estimators=10,criterion='gini',max_depth=10,random_state=0)\n",
    "rf_model.fit(X_train,y_train)\n",
    "\n",
    "y_pred_train = rf_model.predict(X_train)\n",
    "y_pred_val = rf_model.predict(X_validation)"
   ]
  },
  {
   "cell_type": "code",
   "execution_count": 24,
   "metadata": {},
   "outputs": [
    {
     "name": "stdout",
     "output_type": "stream",
     "text": [
      "Train Accuracy: 0.9707401032702238\n",
      "Validation Accuracy: 0.9484536082474226\n",
      "\n",
      "Train ROC AUC score: 0.9692134195339324\n",
      "Validation ROC AUC score: 0.9453310276679842\n",
      "\n",
      "Train Classification Report:\n",
      "               precision    recall  f1-score   support\n",
      "\n",
      "         0.0       0.97      0.96      0.96       972\n",
      "         1.0       0.97      0.98      0.97      1352\n",
      "\n",
      "    accuracy                           0.97      2324\n",
      "   macro avg       0.97      0.97      0.97      2324\n",
      "weighted avg       0.97      0.97      0.97      2324\n",
      "\n",
      "Validation Classification Report:\n",
      "               precision    recall  f1-score   support\n",
      "\n",
      "         0.0       0.94      0.93      0.93       230\n",
      "         1.0       0.95      0.96      0.96       352\n",
      "\n",
      "    accuracy                           0.95       582\n",
      "   macro avg       0.95      0.95      0.95       582\n",
      "weighted avg       0.95      0.95      0.95       582\n",
      "\n"
     ]
    }
   ],
   "source": [
    "from sklearn import metrics\n",
    "dt_acc_train = metrics.accuracy_score(y_train,y_pred_train)\n",
    "dt_acc_val = metrics.accuracy_score(y_validation,y_pred_val)\n",
    "print(\"Train Accuracy:\",dt_acc_train)\n",
    "print(\"Validation Accuracy:\",dt_acc_val)\n",
    "print()\n",
    "\n",
    "dt_roc_train = metrics.roc_auc_score(y_train,y_pred_train)\n",
    "dt_roc_val = metrics.roc_auc_score(y_validation,y_pred_val)\n",
    "print(\"Train ROC AUC score:\",dt_roc_train)\n",
    "print(\"Validation ROC AUC score:\",dt_roc_val)\n",
    "print()\n",
    "\n",
    "dt_clr_train = metrics.classification_report(y_train,y_pred_train)\n",
    "dt_clr_val = metrics.classification_report(y_validation,y_pred_val)\n",
    "print(\"Train Classification Report:\\n\",dt_clr_train)\n",
    "print(\"Validation Classification Report:\\n\",dt_clr_val)"
   ]
  },
  {
   "cell_type": "markdown",
   "metadata": {},
   "source": [
    "### Predicting on test data using RF model and creating a submission file that needs to be uploaded to the GL Hackathon Platform"
   ]
  },
  {
   "cell_type": "code",
   "execution_count": 25,
   "metadata": {},
   "outputs": [],
   "source": [
    "final_predictions = rf_model.predict(df_test)\n",
    "submission=pd.DataFrame([test_file_ids,final_predictions]).T\n",
    "submission.rename(columns={\"Unnamed 0\": \"hatype\"},inplace=True)\n",
    "submission.to_csv('submission.csv',index = False)"
   ]
  },
  {
   "cell_type": "markdown",
   "metadata": {},
   "source": [
    "##### Once this \"submission.csv\" file is created, you are supposed to submit it on the GL Hackathon Platform. Once it is submitted, the platform calculates the performance metric as per the hackathon  and your score will reflect on Leaderboard with your respective rank."
   ]
  }
 ],
 "metadata": {
  "kernelspec": {
   "display_name": "Python 3",
   "language": "python",
   "name": "python3"
  },
  "language_info": {
   "codemirror_mode": {
    "name": "ipython",
    "version": 3
   },
   "file_extension": ".py",
   "mimetype": "text/x-python",
   "name": "python",
   "nbconvert_exporter": "python",
   "pygments_lexer": "ipython3",
   "version": "3.8.3"
  }
 },
 "nbformat": 4,
 "nbformat_minor": 4
}
