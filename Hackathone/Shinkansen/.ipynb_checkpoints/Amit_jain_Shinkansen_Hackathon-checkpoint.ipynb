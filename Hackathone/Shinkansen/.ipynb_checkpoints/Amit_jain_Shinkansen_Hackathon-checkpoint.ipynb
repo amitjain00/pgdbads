{
 "cells": [
  {
   "cell_type": "code",
   "execution_count": 50,
   "id": "da58e6e4",
   "metadata": {},
   "outputs": [],
   "source": [
    "import pandas as pd\n",
    "import numpy as np\n",
    "from sklearn import metrics\n",
    "import matplotlib.pyplot as plt\n",
    "%matplotlib inline \n",
    "import seaborn as sns\n",
    "from sklearn.model_selection import train_test_split\n",
    "from sklearn.tree import DecisionTreeClassifier\n",
    "#from sklearn.feature_extraction.text import CountVectorizer  #DT does not take strings as input for the model fit step....\n",
    "from IPython.display import Image  \n",
    "#import pydotplus as pydot\n",
    "from sklearn import tree\n",
    "from os import system\n",
    "\n",
    "from sklearn import metrics\n",
    "from sklearn.model_selection import train_test_split,GridSearchCV\n",
    "from sklearn.metrics import roc_auc_score,roc_curve,confusion_matrix,plot_confusion_matrix\n",
    "from warnings import filterwarnings\n",
    "filterwarnings('ignore')\n",
    "\n",
    "from sklearn.linear_model import LinearRegression\n",
    "from sklearn.linear_model import LogisticRegression\n",
    "from sklearn.neighbors import KNeighborsClassifier\n",
    "\n",
    "\n",
    "from sklearn.preprocessing import StandardScaler\n",
    "from sklearn.neural_network import MLPClassifier\n",
    "from sklearn.tree import DecisionTreeClassifier\n",
    "from sklearn.ensemble import RandomForestClassifier\n",
    "from sklearn.metrics import confusion_matrix,classification_report,roc_auc_score,accuracy_score,roc_auc_score,roc_curve\n"
   ]
  },
  {
   "cell_type": "code",
   "execution_count": 2,
   "id": "694ccd7d",
   "metadata": {},
   "outputs": [],
   "source": [
    "df_surveydata_train = pd.read_csv(\"Surveydata_train.csv\")\n",
    "df_surveydata_test = pd.read_csv(\"Surveydata_test.csv\")\n",
    "df_traveldata_test = pd.read_csv(\"Traveldata_test.csv\")\n",
    "df_traveldata_train = pd.read_csv(\"Traveldata_train.csv\")"
   ]
  },
  {
   "cell_type": "code",
   "execution_count": 3,
   "id": "c449b47b",
   "metadata": {},
   "outputs": [
    {
     "data": {
      "text/html": [
       "<div>\n",
       "<style scoped>\n",
       "    .dataframe tbody tr th:only-of-type {\n",
       "        vertical-align: middle;\n",
       "    }\n",
       "\n",
       "    .dataframe tbody tr th {\n",
       "        vertical-align: top;\n",
       "    }\n",
       "\n",
       "    .dataframe thead th {\n",
       "        text-align: right;\n",
       "    }\n",
       "</style>\n",
       "<table border=\"1\" class=\"dataframe\">\n",
       "  <thead>\n",
       "    <tr style=\"text-align: right;\">\n",
       "      <th></th>\n",
       "      <th>ID</th>\n",
       "      <th>Overall_Experience</th>\n",
       "      <th>Seat_comfort</th>\n",
       "      <th>Seat_Class</th>\n",
       "      <th>Arrival_time_convenient</th>\n",
       "      <th>Catering</th>\n",
       "      <th>Platform_location</th>\n",
       "      <th>Onboardwifi_service</th>\n",
       "      <th>Onboard_entertainment</th>\n",
       "      <th>Online_support</th>\n",
       "      <th>Onlinebooking_Ease</th>\n",
       "      <th>Onboard_service</th>\n",
       "      <th>Leg_room</th>\n",
       "      <th>Baggage_handling</th>\n",
       "      <th>Checkin_service</th>\n",
       "      <th>Cleanliness</th>\n",
       "      <th>Online_boarding</th>\n",
       "    </tr>\n",
       "  </thead>\n",
       "  <tbody>\n",
       "    <tr>\n",
       "      <th>0</th>\n",
       "      <td>98800001</td>\n",
       "      <td>0</td>\n",
       "      <td>need improvement</td>\n",
       "      <td>Green Car</td>\n",
       "      <td>excellent</td>\n",
       "      <td>excellent</td>\n",
       "      <td>very convinient</td>\n",
       "      <td>good</td>\n",
       "      <td>need improvement</td>\n",
       "      <td>acceptable</td>\n",
       "      <td>need improvement</td>\n",
       "      <td>need improvement</td>\n",
       "      <td>acceptable</td>\n",
       "      <td>need improvement</td>\n",
       "      <td>good</td>\n",
       "      <td>need improvement</td>\n",
       "      <td>poor</td>\n",
       "    </tr>\n",
       "    <tr>\n",
       "      <th>1</th>\n",
       "      <td>98800002</td>\n",
       "      <td>0</td>\n",
       "      <td>poor</td>\n",
       "      <td>Ordinary</td>\n",
       "      <td>excellent</td>\n",
       "      <td>poor</td>\n",
       "      <td>need improvement</td>\n",
       "      <td>good</td>\n",
       "      <td>poor</td>\n",
       "      <td>good</td>\n",
       "      <td>good</td>\n",
       "      <td>excellent</td>\n",
       "      <td>need improvement</td>\n",
       "      <td>poor</td>\n",
       "      <td>need improvement</td>\n",
       "      <td>good</td>\n",
       "      <td>good</td>\n",
       "    </tr>\n",
       "    <tr>\n",
       "      <th>2</th>\n",
       "      <td>98800003</td>\n",
       "      <td>1</td>\n",
       "      <td>need improvement</td>\n",
       "      <td>Green Car</td>\n",
       "      <td>need improvement</td>\n",
       "      <td>need improvement</td>\n",
       "      <td>need improvement</td>\n",
       "      <td>need improvement</td>\n",
       "      <td>good</td>\n",
       "      <td>excellent</td>\n",
       "      <td>excellent</td>\n",
       "      <td>excellent</td>\n",
       "      <td>excellent</td>\n",
       "      <td>excellent</td>\n",
       "      <td>good</td>\n",
       "      <td>excellent</td>\n",
       "      <td>excellent</td>\n",
       "    </tr>\n",
       "    <tr>\n",
       "      <th>3</th>\n",
       "      <td>98800004</td>\n",
       "      <td>0</td>\n",
       "      <td>acceptable</td>\n",
       "      <td>Ordinary</td>\n",
       "      <td>need improvement</td>\n",
       "      <td>NaN</td>\n",
       "      <td>need improvement</td>\n",
       "      <td>acceptable</td>\n",
       "      <td>need improvement</td>\n",
       "      <td>acceptable</td>\n",
       "      <td>acceptable</td>\n",
       "      <td>acceptable</td>\n",
       "      <td>acceptable</td>\n",
       "      <td>acceptable</td>\n",
       "      <td>good</td>\n",
       "      <td>acceptable</td>\n",
       "      <td>acceptable</td>\n",
       "    </tr>\n",
       "    <tr>\n",
       "      <th>4</th>\n",
       "      <td>98800005</td>\n",
       "      <td>1</td>\n",
       "      <td>acceptable</td>\n",
       "      <td>Ordinary</td>\n",
       "      <td>acceptable</td>\n",
       "      <td>acceptable</td>\n",
       "      <td>manageable</td>\n",
       "      <td>need improvement</td>\n",
       "      <td>good</td>\n",
       "      <td>excellent</td>\n",
       "      <td>good</td>\n",
       "      <td>good</td>\n",
       "      <td>good</td>\n",
       "      <td>good</td>\n",
       "      <td>good</td>\n",
       "      <td>good</td>\n",
       "      <td>good</td>\n",
       "    </tr>\n",
       "  </tbody>\n",
       "</table>\n",
       "</div>"
      ],
      "text/plain": [
       "         ID  Overall_Experience      Seat_comfort Seat_Class  \\\n",
       "0  98800001                   0  need improvement  Green Car   \n",
       "1  98800002                   0              poor   Ordinary   \n",
       "2  98800003                   1  need improvement  Green Car   \n",
       "3  98800004                   0        acceptable   Ordinary   \n",
       "4  98800005                   1        acceptable   Ordinary   \n",
       "\n",
       "  Arrival_time_convenient          Catering Platform_location  \\\n",
       "0               excellent         excellent   very convinient   \n",
       "1               excellent              poor  need improvement   \n",
       "2        need improvement  need improvement  need improvement   \n",
       "3        need improvement               NaN  need improvement   \n",
       "4              acceptable        acceptable        manageable   \n",
       "\n",
       "  Onboardwifi_service Onboard_entertainment Online_support Onlinebooking_Ease  \\\n",
       "0                good      need improvement     acceptable   need improvement   \n",
       "1                good                  poor           good               good   \n",
       "2    need improvement                  good      excellent          excellent   \n",
       "3          acceptable      need improvement     acceptable         acceptable   \n",
       "4    need improvement                  good      excellent               good   \n",
       "\n",
       "    Onboard_service          Leg_room  Baggage_handling   Checkin_service  \\\n",
       "0  need improvement        acceptable  need improvement              good   \n",
       "1         excellent  need improvement              poor  need improvement   \n",
       "2         excellent         excellent         excellent              good   \n",
       "3        acceptable        acceptable        acceptable              good   \n",
       "4              good              good              good              good   \n",
       "\n",
       "        Cleanliness Online_boarding  \n",
       "0  need improvement            poor  \n",
       "1              good            good  \n",
       "2         excellent       excellent  \n",
       "3        acceptable      acceptable  \n",
       "4              good            good  "
      ]
     },
     "execution_count": 3,
     "metadata": {},
     "output_type": "execute_result"
    }
   ],
   "source": [
    "df_surveydata_train.head()"
   ]
  },
  {
   "cell_type": "code",
   "execution_count": 4,
   "id": "b61da5d1",
   "metadata": {},
   "outputs": [
    {
     "data": {
      "text/html": [
       "<div>\n",
       "<style scoped>\n",
       "    .dataframe tbody tr th:only-of-type {\n",
       "        vertical-align: middle;\n",
       "    }\n",
       "\n",
       "    .dataframe tbody tr th {\n",
       "        vertical-align: top;\n",
       "    }\n",
       "\n",
       "    .dataframe thead th {\n",
       "        text-align: right;\n",
       "    }\n",
       "</style>\n",
       "<table border=\"1\" class=\"dataframe\">\n",
       "  <thead>\n",
       "    <tr style=\"text-align: right;\">\n",
       "      <th></th>\n",
       "      <th>ID</th>\n",
       "      <th>Gender</th>\n",
       "      <th>CustomerType</th>\n",
       "      <th>Age</th>\n",
       "      <th>TypeTravel</th>\n",
       "      <th>Travel_Class</th>\n",
       "      <th>Travel_Distance</th>\n",
       "      <th>DepartureDelay_in_Mins</th>\n",
       "      <th>ArrivalDelay_in_Mins</th>\n",
       "    </tr>\n",
       "  </thead>\n",
       "  <tbody>\n",
       "    <tr>\n",
       "      <th>0</th>\n",
       "      <td>98800001</td>\n",
       "      <td>Female</td>\n",
       "      <td>Loyal Customer</td>\n",
       "      <td>52.0</td>\n",
       "      <td>NaN</td>\n",
       "      <td>Business</td>\n",
       "      <td>272</td>\n",
       "      <td>0.0</td>\n",
       "      <td>5.0</td>\n",
       "    </tr>\n",
       "    <tr>\n",
       "      <th>1</th>\n",
       "      <td>98800002</td>\n",
       "      <td>Male</td>\n",
       "      <td>Loyal Customer</td>\n",
       "      <td>48.0</td>\n",
       "      <td>Personal Travel</td>\n",
       "      <td>Eco</td>\n",
       "      <td>2200</td>\n",
       "      <td>9.0</td>\n",
       "      <td>0.0</td>\n",
       "    </tr>\n",
       "    <tr>\n",
       "      <th>2</th>\n",
       "      <td>98800003</td>\n",
       "      <td>Female</td>\n",
       "      <td>Loyal Customer</td>\n",
       "      <td>43.0</td>\n",
       "      <td>Business travel</td>\n",
       "      <td>Business</td>\n",
       "      <td>1061</td>\n",
       "      <td>77.0</td>\n",
       "      <td>119.0</td>\n",
       "    </tr>\n",
       "    <tr>\n",
       "      <th>3</th>\n",
       "      <td>98800004</td>\n",
       "      <td>Female</td>\n",
       "      <td>Loyal Customer</td>\n",
       "      <td>44.0</td>\n",
       "      <td>Business travel</td>\n",
       "      <td>Business</td>\n",
       "      <td>780</td>\n",
       "      <td>13.0</td>\n",
       "      <td>18.0</td>\n",
       "    </tr>\n",
       "    <tr>\n",
       "      <th>4</th>\n",
       "      <td>98800005</td>\n",
       "      <td>Female</td>\n",
       "      <td>Loyal Customer</td>\n",
       "      <td>50.0</td>\n",
       "      <td>Business travel</td>\n",
       "      <td>Business</td>\n",
       "      <td>1981</td>\n",
       "      <td>0.0</td>\n",
       "      <td>0.0</td>\n",
       "    </tr>\n",
       "  </tbody>\n",
       "</table>\n",
       "</div>"
      ],
      "text/plain": [
       "         ID  Gender    CustomerType   Age       TypeTravel Travel_Class  \\\n",
       "0  98800001  Female  Loyal Customer  52.0              NaN     Business   \n",
       "1  98800002    Male  Loyal Customer  48.0  Personal Travel          Eco   \n",
       "2  98800003  Female  Loyal Customer  43.0  Business travel     Business   \n",
       "3  98800004  Female  Loyal Customer  44.0  Business travel     Business   \n",
       "4  98800005  Female  Loyal Customer  50.0  Business travel     Business   \n",
       "\n",
       "   Travel_Distance  DepartureDelay_in_Mins  ArrivalDelay_in_Mins  \n",
       "0              272                     0.0                   5.0  \n",
       "1             2200                     9.0                   0.0  \n",
       "2             1061                    77.0                 119.0  \n",
       "3              780                    13.0                  18.0  \n",
       "4             1981                     0.0                   0.0  "
      ]
     },
     "execution_count": 4,
     "metadata": {},
     "output_type": "execute_result"
    }
   ],
   "source": [
    "df_traveldata_train.head()"
   ]
  },
  {
   "cell_type": "code",
   "execution_count": 5,
   "id": "a0c2f996",
   "metadata": {},
   "outputs": [
    {
     "data": {
      "text/plain": [
       "ID                            0\n",
       "Overall_Experience            0\n",
       "Seat_comfort                 61\n",
       "Seat_Class                    0\n",
       "Arrival_time_convenient    8930\n",
       "Catering                   8741\n",
       "Platform_location            30\n",
       "Onboardwifi_service          30\n",
       "Onboard_entertainment        18\n",
       "Online_support               91\n",
       "Onlinebooking_Ease           73\n",
       "Onboard_service            7601\n",
       "Leg_room                     90\n",
       "Baggage_handling            142\n",
       "Checkin_service              77\n",
       "Cleanliness                   6\n",
       "Online_boarding               6\n",
       "dtype: int64"
      ]
     },
     "execution_count": 5,
     "metadata": {},
     "output_type": "execute_result"
    }
   ],
   "source": [
    "df_surveydata_train.isnull().sum()"
   ]
  },
  {
   "cell_type": "code",
   "execution_count": 6,
   "id": "9c28e6a0",
   "metadata": {},
   "outputs": [
    {
     "data": {
      "text/plain": [
       "ID                           0\n",
       "Gender                      77\n",
       "CustomerType              8951\n",
       "Age                         33\n",
       "TypeTravel                9226\n",
       "Travel_Class                 0\n",
       "Travel_Distance              0\n",
       "DepartureDelay_in_Mins      57\n",
       "ArrivalDelay_in_Mins       357\n",
       "dtype: int64"
      ]
     },
     "execution_count": 6,
     "metadata": {},
     "output_type": "execute_result"
    }
   ],
   "source": [
    "df_traveldata_train.isnull().sum()"
   ]
  },
  {
   "cell_type": "code",
   "execution_count": 7,
   "id": "082b85a0",
   "metadata": {},
   "outputs": [
    {
     "data": {
      "text/plain": [
       "ID                            0\n",
       "Seat_comfort                 22\n",
       "Seat_Class                    0\n",
       "Arrival_time_convenient    3325\n",
       "Catering                   3357\n",
       "Platform_location            12\n",
       "Onboardwifi_service          12\n",
       "Onboard_entertainment         8\n",
       "Online_support               26\n",
       "Onlinebooking_Ease           18\n",
       "Onboard_service            2872\n",
       "Leg_room                     25\n",
       "Baggage_handling             40\n",
       "Checkin_service              22\n",
       "Cleanliness                   2\n",
       "Online_boarding               2\n",
       "dtype: int64"
      ]
     },
     "execution_count": 7,
     "metadata": {},
     "output_type": "execute_result"
    }
   ],
   "source": [
    "df_surveydata_test.isnull().sum()"
   ]
  },
  {
   "cell_type": "code",
   "execution_count": 8,
   "id": "9a275875",
   "metadata": {},
   "outputs": [
    {
     "data": {
      "text/plain": [
       "ID                           0\n",
       "Gender                      30\n",
       "CustomerType              3383\n",
       "Age                         11\n",
       "TypeTravel                3448\n",
       "Travel_Class                 0\n",
       "Travel_Distance              0\n",
       "DepartureDelay_in_Mins      29\n",
       "ArrivalDelay_in_Mins       123\n",
       "dtype: int64"
      ]
     },
     "execution_count": 8,
     "metadata": {},
     "output_type": "execute_result"
    }
   ],
   "source": [
    "df_traveldata_test.isnull().sum()"
   ]
  },
  {
   "cell_type": "code",
   "execution_count": 9,
   "id": "4fa10f73",
   "metadata": {
    "scrolled": true
   },
   "outputs": [
    {
     "name": "stdout",
     "output_type": "stream",
     "text": [
      " Total number of count for data set df_surveydata_train:  94379\n",
      " Total number of count for data set df_traveldata_train:  94379\n",
      " Total number of count for data set df_surveydata_test:  35602\n",
      " Total number of count for data set df_traveldata_test:  35602\n"
     ]
    }
   ],
   "source": [
    "print(' Total number of count for data set df_surveydata_train: ',df_surveydata_train.ID.count())\n",
    "print(' Total number of count for data set df_traveldata_train: ',df_traveldata_train.ID.count())\n",
    "print(' Total number of count for data set df_surveydata_test: ',df_surveydata_test.ID.count())\n",
    "print(' Total number of count for data set df_traveldata_test: ',df_traveldata_test.ID.count())"
   ]
  },
  {
   "cell_type": "code",
   "execution_count": 10,
   "id": "62004a94",
   "metadata": {},
   "outputs": [
    {
     "data": {
      "text/plain": [
       "<pandas.core.groupby.generic.SeriesGroupBy object at 0x000001DA9A365CA0>"
      ]
     },
     "execution_count": 10,
     "metadata": {},
     "output_type": "execute_result"
    }
   ],
   "source": [
    "df_surveydata_train.groupby(\"ID\")[\"ID\"]"
   ]
  },
  {
   "cell_type": "code",
   "execution_count": 11,
   "id": "8c9190e2",
   "metadata": {},
   "outputs": [],
   "source": [
    "df2= df_surveydata_train.merge(df_traveldata_train)"
   ]
  },
  {
   "cell_type": "code",
   "execution_count": 12,
   "id": "a518e2bc",
   "metadata": {},
   "outputs": [],
   "source": [
    "df=df2.copy()"
   ]
  },
  {
   "cell_type": "code",
   "execution_count": 165,
   "id": "97334eba",
   "metadata": {},
   "outputs": [],
   "source": [
    "df_to_predict= df_surveydata_test.merge(df_traveldata_test)"
   ]
  },
  {
   "cell_type": "code",
   "execution_count": 166,
   "id": "fd174d2b",
   "metadata": {},
   "outputs": [],
   "source": [
    "df_to_predict_copy=df_to_predict.copy()"
   ]
  },
  {
   "cell_type": "code",
   "execution_count": 15,
   "id": "490c4294",
   "metadata": {},
   "outputs": [
    {
     "data": {
      "text/html": [
       "<div>\n",
       "<style scoped>\n",
       "    .dataframe tbody tr th:only-of-type {\n",
       "        vertical-align: middle;\n",
       "    }\n",
       "\n",
       "    .dataframe tbody tr th {\n",
       "        vertical-align: top;\n",
       "    }\n",
       "\n",
       "    .dataframe thead th {\n",
       "        text-align: right;\n",
       "    }\n",
       "</style>\n",
       "<table border=\"1\" class=\"dataframe\">\n",
       "  <thead>\n",
       "    <tr style=\"text-align: right;\">\n",
       "      <th></th>\n",
       "      <th>count</th>\n",
       "      <th>mean</th>\n",
       "      <th>std</th>\n",
       "      <th>min</th>\n",
       "      <th>25%</th>\n",
       "      <th>50%</th>\n",
       "      <th>75%</th>\n",
       "      <th>max</th>\n",
       "    </tr>\n",
       "  </thead>\n",
       "  <tbody>\n",
       "    <tr>\n",
       "      <th>ID</th>\n",
       "      <td>94379.0</td>\n",
       "      <td>9.884719e+07</td>\n",
       "      <td>27245.014865</td>\n",
       "      <td>98800001.0</td>\n",
       "      <td>98823595.5</td>\n",
       "      <td>98847190.0</td>\n",
       "      <td>98870784.5</td>\n",
       "      <td>98894379.0</td>\n",
       "    </tr>\n",
       "    <tr>\n",
       "      <th>Overall_Experience</th>\n",
       "      <td>94379.0</td>\n",
       "      <td>5.466576e-01</td>\n",
       "      <td>0.497821</td>\n",
       "      <td>0.0</td>\n",
       "      <td>0.0</td>\n",
       "      <td>1.0</td>\n",
       "      <td>1.0</td>\n",
       "      <td>1.0</td>\n",
       "    </tr>\n",
       "    <tr>\n",
       "      <th>Age</th>\n",
       "      <td>94346.0</td>\n",
       "      <td>3.941965e+01</td>\n",
       "      <td>15.116632</td>\n",
       "      <td>7.0</td>\n",
       "      <td>27.0</td>\n",
       "      <td>40.0</td>\n",
       "      <td>51.0</td>\n",
       "      <td>85.0</td>\n",
       "    </tr>\n",
       "    <tr>\n",
       "      <th>Travel_Distance</th>\n",
       "      <td>94379.0</td>\n",
       "      <td>1.978888e+03</td>\n",
       "      <td>1027.961019</td>\n",
       "      <td>50.0</td>\n",
       "      <td>1359.0</td>\n",
       "      <td>1923.0</td>\n",
       "      <td>2538.0</td>\n",
       "      <td>6951.0</td>\n",
       "    </tr>\n",
       "    <tr>\n",
       "      <th>DepartureDelay_in_Mins</th>\n",
       "      <td>94322.0</td>\n",
       "      <td>1.464709e+01</td>\n",
       "      <td>38.138781</td>\n",
       "      <td>0.0</td>\n",
       "      <td>0.0</td>\n",
       "      <td>0.0</td>\n",
       "      <td>12.0</td>\n",
       "      <td>1592.0</td>\n",
       "    </tr>\n",
       "    <tr>\n",
       "      <th>ArrivalDelay_in_Mins</th>\n",
       "      <td>94022.0</td>\n",
       "      <td>1.500522e+01</td>\n",
       "      <td>38.439409</td>\n",
       "      <td>0.0</td>\n",
       "      <td>0.0</td>\n",
       "      <td>0.0</td>\n",
       "      <td>13.0</td>\n",
       "      <td>1584.0</td>\n",
       "    </tr>\n",
       "  </tbody>\n",
       "</table>\n",
       "</div>"
      ],
      "text/plain": [
       "                          count          mean           std         min  \\\n",
       "ID                      94379.0  9.884719e+07  27245.014865  98800001.0   \n",
       "Overall_Experience      94379.0  5.466576e-01      0.497821         0.0   \n",
       "Age                     94346.0  3.941965e+01     15.116632         7.0   \n",
       "Travel_Distance         94379.0  1.978888e+03   1027.961019        50.0   \n",
       "DepartureDelay_in_Mins  94322.0  1.464709e+01     38.138781         0.0   \n",
       "ArrivalDelay_in_Mins    94022.0  1.500522e+01     38.439409         0.0   \n",
       "\n",
       "                               25%         50%         75%         max  \n",
       "ID                      98823595.5  98847190.0  98870784.5  98894379.0  \n",
       "Overall_Experience             0.0         1.0         1.0         1.0  \n",
       "Age                           27.0        40.0        51.0        85.0  \n",
       "Travel_Distance             1359.0      1923.0      2538.0      6951.0  \n",
       "DepartureDelay_in_Mins         0.0         0.0        12.0      1592.0  \n",
       "ArrivalDelay_in_Mins           0.0         0.0        13.0      1584.0  "
      ]
     },
     "execution_count": 15,
     "metadata": {},
     "output_type": "execute_result"
    }
   ],
   "source": [
    "df.describe().T\n"
   ]
  },
  {
   "cell_type": "code",
   "execution_count": 16,
   "id": "532dfc3b",
   "metadata": {},
   "outputs": [
    {
     "data": {
      "text/html": [
       "<div>\n",
       "<style scoped>\n",
       "    .dataframe tbody tr th:only-of-type {\n",
       "        vertical-align: middle;\n",
       "    }\n",
       "\n",
       "    .dataframe tbody tr th {\n",
       "        vertical-align: top;\n",
       "    }\n",
       "\n",
       "    .dataframe thead th {\n",
       "        text-align: right;\n",
       "    }\n",
       "</style>\n",
       "<table border=\"1\" class=\"dataframe\">\n",
       "  <thead>\n",
       "    <tr style=\"text-align: right;\">\n",
       "      <th></th>\n",
       "      <th>count</th>\n",
       "      <th>unique</th>\n",
       "      <th>top</th>\n",
       "      <th>freq</th>\n",
       "      <th>mean</th>\n",
       "      <th>std</th>\n",
       "      <th>min</th>\n",
       "      <th>25%</th>\n",
       "      <th>50%</th>\n",
       "      <th>75%</th>\n",
       "      <th>max</th>\n",
       "    </tr>\n",
       "  </thead>\n",
       "  <tbody>\n",
       "    <tr>\n",
       "      <th>ID</th>\n",
       "      <td>94379.0</td>\n",
       "      <td>NaN</td>\n",
       "      <td>NaN</td>\n",
       "      <td>NaN</td>\n",
       "      <td>98847190.0</td>\n",
       "      <td>27245.014865</td>\n",
       "      <td>98800001.0</td>\n",
       "      <td>98823595.5</td>\n",
       "      <td>98847190.0</td>\n",
       "      <td>98870784.5</td>\n",
       "      <td>98894379.0</td>\n",
       "    </tr>\n",
       "    <tr>\n",
       "      <th>Overall_Experience</th>\n",
       "      <td>94379.0</td>\n",
       "      <td>NaN</td>\n",
       "      <td>NaN</td>\n",
       "      <td>NaN</td>\n",
       "      <td>0.546658</td>\n",
       "      <td>0.497821</td>\n",
       "      <td>0.0</td>\n",
       "      <td>0.0</td>\n",
       "      <td>1.0</td>\n",
       "      <td>1.0</td>\n",
       "      <td>1.0</td>\n",
       "    </tr>\n",
       "    <tr>\n",
       "      <th>Seat_comfort</th>\n",
       "      <td>94318</td>\n",
       "      <td>6</td>\n",
       "      <td>acceptable</td>\n",
       "      <td>21158</td>\n",
       "      <td>NaN</td>\n",
       "      <td>NaN</td>\n",
       "      <td>NaN</td>\n",
       "      <td>NaN</td>\n",
       "      <td>NaN</td>\n",
       "      <td>NaN</td>\n",
       "      <td>NaN</td>\n",
       "    </tr>\n",
       "    <tr>\n",
       "      <th>Seat_Class</th>\n",
       "      <td>94379</td>\n",
       "      <td>2</td>\n",
       "      <td>Green Car</td>\n",
       "      <td>47435</td>\n",
       "      <td>NaN</td>\n",
       "      <td>NaN</td>\n",
       "      <td>NaN</td>\n",
       "      <td>NaN</td>\n",
       "      <td>NaN</td>\n",
       "      <td>NaN</td>\n",
       "      <td>NaN</td>\n",
       "    </tr>\n",
       "    <tr>\n",
       "      <th>Arrival_time_convenient</th>\n",
       "      <td>85449</td>\n",
       "      <td>6</td>\n",
       "      <td>good</td>\n",
       "      <td>19574</td>\n",
       "      <td>NaN</td>\n",
       "      <td>NaN</td>\n",
       "      <td>NaN</td>\n",
       "      <td>NaN</td>\n",
       "      <td>NaN</td>\n",
       "      <td>NaN</td>\n",
       "      <td>NaN</td>\n",
       "    </tr>\n",
       "    <tr>\n",
       "      <th>Catering</th>\n",
       "      <td>85638</td>\n",
       "      <td>6</td>\n",
       "      <td>acceptable</td>\n",
       "      <td>18468</td>\n",
       "      <td>NaN</td>\n",
       "      <td>NaN</td>\n",
       "      <td>NaN</td>\n",
       "      <td>NaN</td>\n",
       "      <td>NaN</td>\n",
       "      <td>NaN</td>\n",
       "      <td>NaN</td>\n",
       "    </tr>\n",
       "    <tr>\n",
       "      <th>Platform_location</th>\n",
       "      <td>94349</td>\n",
       "      <td>6</td>\n",
       "      <td>manageable</td>\n",
       "      <td>24173</td>\n",
       "      <td>NaN</td>\n",
       "      <td>NaN</td>\n",
       "      <td>NaN</td>\n",
       "      <td>NaN</td>\n",
       "      <td>NaN</td>\n",
       "      <td>NaN</td>\n",
       "      <td>NaN</td>\n",
       "    </tr>\n",
       "    <tr>\n",
       "      <th>Onboardwifi_service</th>\n",
       "      <td>94349</td>\n",
       "      <td>6</td>\n",
       "      <td>good</td>\n",
       "      <td>22835</td>\n",
       "      <td>NaN</td>\n",
       "      <td>NaN</td>\n",
       "      <td>NaN</td>\n",
       "      <td>NaN</td>\n",
       "      <td>NaN</td>\n",
       "      <td>NaN</td>\n",
       "      <td>NaN</td>\n",
       "    </tr>\n",
       "    <tr>\n",
       "      <th>Onboard_entertainment</th>\n",
       "      <td>94361</td>\n",
       "      <td>6</td>\n",
       "      <td>good</td>\n",
       "      <td>30446</td>\n",
       "      <td>NaN</td>\n",
       "      <td>NaN</td>\n",
       "      <td>NaN</td>\n",
       "      <td>NaN</td>\n",
       "      <td>NaN</td>\n",
       "      <td>NaN</td>\n",
       "      <td>NaN</td>\n",
       "    </tr>\n",
       "    <tr>\n",
       "      <th>Online_support</th>\n",
       "      <td>94288</td>\n",
       "      <td>6</td>\n",
       "      <td>good</td>\n",
       "      <td>30016</td>\n",
       "      <td>NaN</td>\n",
       "      <td>NaN</td>\n",
       "      <td>NaN</td>\n",
       "      <td>NaN</td>\n",
       "      <td>NaN</td>\n",
       "      <td>NaN</td>\n",
       "      <td>NaN</td>\n",
       "    </tr>\n",
       "    <tr>\n",
       "      <th>Onlinebooking_Ease</th>\n",
       "      <td>94306</td>\n",
       "      <td>6</td>\n",
       "      <td>good</td>\n",
       "      <td>28909</td>\n",
       "      <td>NaN</td>\n",
       "      <td>NaN</td>\n",
       "      <td>NaN</td>\n",
       "      <td>NaN</td>\n",
       "      <td>NaN</td>\n",
       "      <td>NaN</td>\n",
       "      <td>NaN</td>\n",
       "    </tr>\n",
       "    <tr>\n",
       "      <th>Onboard_service</th>\n",
       "      <td>86778</td>\n",
       "      <td>6</td>\n",
       "      <td>good</td>\n",
       "      <td>27265</td>\n",
       "      <td>NaN</td>\n",
       "      <td>NaN</td>\n",
       "      <td>NaN</td>\n",
       "      <td>NaN</td>\n",
       "      <td>NaN</td>\n",
       "      <td>NaN</td>\n",
       "      <td>NaN</td>\n",
       "    </tr>\n",
       "    <tr>\n",
       "      <th>Leg_room</th>\n",
       "      <td>94289</td>\n",
       "      <td>6</td>\n",
       "      <td>good</td>\n",
       "      <td>28870</td>\n",
       "      <td>NaN</td>\n",
       "      <td>NaN</td>\n",
       "      <td>NaN</td>\n",
       "      <td>NaN</td>\n",
       "      <td>NaN</td>\n",
       "      <td>NaN</td>\n",
       "      <td>NaN</td>\n",
       "    </tr>\n",
       "    <tr>\n",
       "      <th>Baggage_handling</th>\n",
       "      <td>94237</td>\n",
       "      <td>5</td>\n",
       "      <td>good</td>\n",
       "      <td>34944</td>\n",
       "      <td>NaN</td>\n",
       "      <td>NaN</td>\n",
       "      <td>NaN</td>\n",
       "      <td>NaN</td>\n",
       "      <td>NaN</td>\n",
       "      <td>NaN</td>\n",
       "      <td>NaN</td>\n",
       "    </tr>\n",
       "    <tr>\n",
       "      <th>Checkin_service</th>\n",
       "      <td>94302</td>\n",
       "      <td>6</td>\n",
       "      <td>good</td>\n",
       "      <td>26502</td>\n",
       "      <td>NaN</td>\n",
       "      <td>NaN</td>\n",
       "      <td>NaN</td>\n",
       "      <td>NaN</td>\n",
       "      <td>NaN</td>\n",
       "      <td>NaN</td>\n",
       "      <td>NaN</td>\n",
       "    </tr>\n",
       "    <tr>\n",
       "      <th>Cleanliness</th>\n",
       "      <td>94373</td>\n",
       "      <td>6</td>\n",
       "      <td>good</td>\n",
       "      <td>35427</td>\n",
       "      <td>NaN</td>\n",
       "      <td>NaN</td>\n",
       "      <td>NaN</td>\n",
       "      <td>NaN</td>\n",
       "      <td>NaN</td>\n",
       "      <td>NaN</td>\n",
       "      <td>NaN</td>\n",
       "    </tr>\n",
       "    <tr>\n",
       "      <th>Online_boarding</th>\n",
       "      <td>94373</td>\n",
       "      <td>6</td>\n",
       "      <td>good</td>\n",
       "      <td>25533</td>\n",
       "      <td>NaN</td>\n",
       "      <td>NaN</td>\n",
       "      <td>NaN</td>\n",
       "      <td>NaN</td>\n",
       "      <td>NaN</td>\n",
       "      <td>NaN</td>\n",
       "      <td>NaN</td>\n",
       "    </tr>\n",
       "    <tr>\n",
       "      <th>Gender</th>\n",
       "      <td>94302</td>\n",
       "      <td>2</td>\n",
       "      <td>Female</td>\n",
       "      <td>47815</td>\n",
       "      <td>NaN</td>\n",
       "      <td>NaN</td>\n",
       "      <td>NaN</td>\n",
       "      <td>NaN</td>\n",
       "      <td>NaN</td>\n",
       "      <td>NaN</td>\n",
       "      <td>NaN</td>\n",
       "    </tr>\n",
       "    <tr>\n",
       "      <th>CustomerType</th>\n",
       "      <td>85428</td>\n",
       "      <td>2</td>\n",
       "      <td>Loyal Customer</td>\n",
       "      <td>69823</td>\n",
       "      <td>NaN</td>\n",
       "      <td>NaN</td>\n",
       "      <td>NaN</td>\n",
       "      <td>NaN</td>\n",
       "      <td>NaN</td>\n",
       "      <td>NaN</td>\n",
       "      <td>NaN</td>\n",
       "    </tr>\n",
       "    <tr>\n",
       "      <th>Age</th>\n",
       "      <td>94346.0</td>\n",
       "      <td>NaN</td>\n",
       "      <td>NaN</td>\n",
       "      <td>NaN</td>\n",
       "      <td>39.419647</td>\n",
       "      <td>15.116632</td>\n",
       "      <td>7.0</td>\n",
       "      <td>27.0</td>\n",
       "      <td>40.0</td>\n",
       "      <td>51.0</td>\n",
       "      <td>85.0</td>\n",
       "    </tr>\n",
       "    <tr>\n",
       "      <th>TypeTravel</th>\n",
       "      <td>85153</td>\n",
       "      <td>2</td>\n",
       "      <td>Business travel</td>\n",
       "      <td>58617</td>\n",
       "      <td>NaN</td>\n",
       "      <td>NaN</td>\n",
       "      <td>NaN</td>\n",
       "      <td>NaN</td>\n",
       "      <td>NaN</td>\n",
       "      <td>NaN</td>\n",
       "      <td>NaN</td>\n",
       "    </tr>\n",
       "    <tr>\n",
       "      <th>Travel_Class</th>\n",
       "      <td>94379</td>\n",
       "      <td>2</td>\n",
       "      <td>Eco</td>\n",
       "      <td>49342</td>\n",
       "      <td>NaN</td>\n",
       "      <td>NaN</td>\n",
       "      <td>NaN</td>\n",
       "      <td>NaN</td>\n",
       "      <td>NaN</td>\n",
       "      <td>NaN</td>\n",
       "      <td>NaN</td>\n",
       "    </tr>\n",
       "    <tr>\n",
       "      <th>Travel_Distance</th>\n",
       "      <td>94379.0</td>\n",
       "      <td>NaN</td>\n",
       "      <td>NaN</td>\n",
       "      <td>NaN</td>\n",
       "      <td>1978.888185</td>\n",
       "      <td>1027.961019</td>\n",
       "      <td>50.0</td>\n",
       "      <td>1359.0</td>\n",
       "      <td>1923.0</td>\n",
       "      <td>2538.0</td>\n",
       "      <td>6951.0</td>\n",
       "    </tr>\n",
       "    <tr>\n",
       "      <th>DepartureDelay_in_Mins</th>\n",
       "      <td>94322.0</td>\n",
       "      <td>NaN</td>\n",
       "      <td>NaN</td>\n",
       "      <td>NaN</td>\n",
       "      <td>14.647092</td>\n",
       "      <td>38.138781</td>\n",
       "      <td>0.0</td>\n",
       "      <td>0.0</td>\n",
       "      <td>0.0</td>\n",
       "      <td>12.0</td>\n",
       "      <td>1592.0</td>\n",
       "    </tr>\n",
       "    <tr>\n",
       "      <th>ArrivalDelay_in_Mins</th>\n",
       "      <td>94022.0</td>\n",
       "      <td>NaN</td>\n",
       "      <td>NaN</td>\n",
       "      <td>NaN</td>\n",
       "      <td>15.005222</td>\n",
       "      <td>38.439409</td>\n",
       "      <td>0.0</td>\n",
       "      <td>0.0</td>\n",
       "      <td>0.0</td>\n",
       "      <td>13.0</td>\n",
       "      <td>1584.0</td>\n",
       "    </tr>\n",
       "  </tbody>\n",
       "</table>\n",
       "</div>"
      ],
      "text/plain": [
       "                           count unique              top   freq         mean  \\\n",
       "ID                       94379.0    NaN              NaN    NaN   98847190.0   \n",
       "Overall_Experience       94379.0    NaN              NaN    NaN     0.546658   \n",
       "Seat_comfort               94318      6       acceptable  21158          NaN   \n",
       "Seat_Class                 94379      2        Green Car  47435          NaN   \n",
       "Arrival_time_convenient    85449      6             good  19574          NaN   \n",
       "Catering                   85638      6       acceptable  18468          NaN   \n",
       "Platform_location          94349      6       manageable  24173          NaN   \n",
       "Onboardwifi_service        94349      6             good  22835          NaN   \n",
       "Onboard_entertainment      94361      6             good  30446          NaN   \n",
       "Online_support             94288      6             good  30016          NaN   \n",
       "Onlinebooking_Ease         94306      6             good  28909          NaN   \n",
       "Onboard_service            86778      6             good  27265          NaN   \n",
       "Leg_room                   94289      6             good  28870          NaN   \n",
       "Baggage_handling           94237      5             good  34944          NaN   \n",
       "Checkin_service            94302      6             good  26502          NaN   \n",
       "Cleanliness                94373      6             good  35427          NaN   \n",
       "Online_boarding            94373      6             good  25533          NaN   \n",
       "Gender                     94302      2           Female  47815          NaN   \n",
       "CustomerType               85428      2   Loyal Customer  69823          NaN   \n",
       "Age                      94346.0    NaN              NaN    NaN    39.419647   \n",
       "TypeTravel                 85153      2  Business travel  58617          NaN   \n",
       "Travel_Class               94379      2              Eco  49342          NaN   \n",
       "Travel_Distance          94379.0    NaN              NaN    NaN  1978.888185   \n",
       "DepartureDelay_in_Mins   94322.0    NaN              NaN    NaN    14.647092   \n",
       "ArrivalDelay_in_Mins     94022.0    NaN              NaN    NaN    15.005222   \n",
       "\n",
       "                                  std         min         25%         50%  \\\n",
       "ID                       27245.014865  98800001.0  98823595.5  98847190.0   \n",
       "Overall_Experience           0.497821         0.0         0.0         1.0   \n",
       "Seat_comfort                      NaN         NaN         NaN         NaN   \n",
       "Seat_Class                        NaN         NaN         NaN         NaN   \n",
       "Arrival_time_convenient           NaN         NaN         NaN         NaN   \n",
       "Catering                          NaN         NaN         NaN         NaN   \n",
       "Platform_location                 NaN         NaN         NaN         NaN   \n",
       "Onboardwifi_service               NaN         NaN         NaN         NaN   \n",
       "Onboard_entertainment             NaN         NaN         NaN         NaN   \n",
       "Online_support                    NaN         NaN         NaN         NaN   \n",
       "Onlinebooking_Ease                NaN         NaN         NaN         NaN   \n",
       "Onboard_service                   NaN         NaN         NaN         NaN   \n",
       "Leg_room                          NaN         NaN         NaN         NaN   \n",
       "Baggage_handling                  NaN         NaN         NaN         NaN   \n",
       "Checkin_service                   NaN         NaN         NaN         NaN   \n",
       "Cleanliness                       NaN         NaN         NaN         NaN   \n",
       "Online_boarding                   NaN         NaN         NaN         NaN   \n",
       "Gender                            NaN         NaN         NaN         NaN   \n",
       "CustomerType                      NaN         NaN         NaN         NaN   \n",
       "Age                         15.116632         7.0        27.0        40.0   \n",
       "TypeTravel                        NaN         NaN         NaN         NaN   \n",
       "Travel_Class                      NaN         NaN         NaN         NaN   \n",
       "Travel_Distance           1027.961019        50.0      1359.0      1923.0   \n",
       "DepartureDelay_in_Mins      38.138781         0.0         0.0         0.0   \n",
       "ArrivalDelay_in_Mins        38.439409         0.0         0.0         0.0   \n",
       "\n",
       "                                75%         max  \n",
       "ID                       98870784.5  98894379.0  \n",
       "Overall_Experience              1.0         1.0  \n",
       "Seat_comfort                    NaN         NaN  \n",
       "Seat_Class                      NaN         NaN  \n",
       "Arrival_time_convenient         NaN         NaN  \n",
       "Catering                        NaN         NaN  \n",
       "Platform_location               NaN         NaN  \n",
       "Onboardwifi_service             NaN         NaN  \n",
       "Onboard_entertainment           NaN         NaN  \n",
       "Online_support                  NaN         NaN  \n",
       "Onlinebooking_Ease              NaN         NaN  \n",
       "Onboard_service                 NaN         NaN  \n",
       "Leg_room                        NaN         NaN  \n",
       "Baggage_handling                NaN         NaN  \n",
       "Checkin_service                 NaN         NaN  \n",
       "Cleanliness                     NaN         NaN  \n",
       "Online_boarding                 NaN         NaN  \n",
       "Gender                          NaN         NaN  \n",
       "CustomerType                    NaN         NaN  \n",
       "Age                            51.0        85.0  \n",
       "TypeTravel                      NaN         NaN  \n",
       "Travel_Class                    NaN         NaN  \n",
       "Travel_Distance              2538.0      6951.0  \n",
       "DepartureDelay_in_Mins         12.0      1592.0  \n",
       "ArrivalDelay_in_Mins           13.0      1584.0  "
      ]
     },
     "execution_count": 16,
     "metadata": {},
     "output_type": "execute_result"
    }
   ],
   "source": [
    "df.describe(include='all').T"
   ]
  },
  {
   "cell_type": "code",
   "execution_count": 17,
   "id": "81bedbeb",
   "metadata": {},
   "outputs": [
    {
     "data": {
      "text/plain": [
       "ID                            0\n",
       "Overall_Experience            0\n",
       "Seat_comfort                 61\n",
       "Seat_Class                    0\n",
       "Arrival_time_convenient    8930\n",
       "Catering                   8741\n",
       "Platform_location            30\n",
       "Onboardwifi_service          30\n",
       "Onboard_entertainment        18\n",
       "Online_support               91\n",
       "Onlinebooking_Ease           73\n",
       "Onboard_service            7601\n",
       "Leg_room                     90\n",
       "Baggage_handling            142\n",
       "Checkin_service              77\n",
       "Cleanliness                   6\n",
       "Online_boarding               6\n",
       "Gender                       77\n",
       "CustomerType               8951\n",
       "Age                          33\n",
       "TypeTravel                 9226\n",
       "Travel_Class                  0\n",
       "Travel_Distance               0\n",
       "DepartureDelay_in_Mins       57\n",
       "ArrivalDelay_in_Mins        357\n",
       "dtype: int64"
      ]
     },
     "execution_count": 17,
     "metadata": {},
     "output_type": "execute_result"
    }
   ],
   "source": [
    "df.isnull().sum()"
   ]
  },
  {
   "cell_type": "code",
   "execution_count": 18,
   "id": "154d5c9f",
   "metadata": {},
   "outputs": [
    {
     "data": {
      "text/plain": [
       "array(['need improvement', 'poor', 'acceptable', 'good', 'excellent',\n",
       "       'extremely poor', nan], dtype=object)"
      ]
     },
     "execution_count": 18,
     "metadata": {},
     "output_type": "execute_result"
    }
   ],
   "source": [
    "df.Seat_comfort.unique()"
   ]
  },
  {
   "cell_type": "code",
   "execution_count": 19,
   "id": "4fe9eae9",
   "metadata": {},
   "outputs": [
    {
     "data": {
      "text/html": [
       "<div>\n",
       "<style scoped>\n",
       "    .dataframe tbody tr th:only-of-type {\n",
       "        vertical-align: middle;\n",
       "    }\n",
       "\n",
       "    .dataframe tbody tr th {\n",
       "        vertical-align: top;\n",
       "    }\n",
       "\n",
       "    .dataframe thead th {\n",
       "        text-align: right;\n",
       "    }\n",
       "</style>\n",
       "<table border=\"1\" class=\"dataframe\">\n",
       "  <thead>\n",
       "    <tr style=\"text-align: right;\">\n",
       "      <th></th>\n",
       "      <th>ID</th>\n",
       "      <th>Overall_Experience</th>\n",
       "      <th>Seat_comfort</th>\n",
       "      <th>Seat_Class</th>\n",
       "      <th>Arrival_time_convenient</th>\n",
       "      <th>Catering</th>\n",
       "      <th>Platform_location</th>\n",
       "      <th>Onboardwifi_service</th>\n",
       "      <th>Onboard_entertainment</th>\n",
       "      <th>Online_support</th>\n",
       "      <th>...</th>\n",
       "      <th>Cleanliness</th>\n",
       "      <th>Online_boarding</th>\n",
       "      <th>Gender</th>\n",
       "      <th>CustomerType</th>\n",
       "      <th>Age</th>\n",
       "      <th>TypeTravel</th>\n",
       "      <th>Travel_Class</th>\n",
       "      <th>Travel_Distance</th>\n",
       "      <th>DepartureDelay_in_Mins</th>\n",
       "      <th>ArrivalDelay_in_Mins</th>\n",
       "    </tr>\n",
       "  </thead>\n",
       "  <tbody>\n",
       "    <tr>\n",
       "      <th>560</th>\n",
       "      <td>98800561</td>\n",
       "      <td>0</td>\n",
       "      <td>NaN</td>\n",
       "      <td>Green Car</td>\n",
       "      <td>NaN</td>\n",
       "      <td>good</td>\n",
       "      <td>need improvement</td>\n",
       "      <td>good</td>\n",
       "      <td>good</td>\n",
       "      <td>good</td>\n",
       "      <td>...</td>\n",
       "      <td>acceptable</td>\n",
       "      <td>good</td>\n",
       "      <td>Male</td>\n",
       "      <td>Loyal Customer</td>\n",
       "      <td>30.0</td>\n",
       "      <td>Business travel</td>\n",
       "      <td>Eco</td>\n",
       "      <td>1495</td>\n",
       "      <td>0.0</td>\n",
       "      <td>0.0</td>\n",
       "    </tr>\n",
       "    <tr>\n",
       "      <th>2214</th>\n",
       "      <td>98802215</td>\n",
       "      <td>1</td>\n",
       "      <td>NaN</td>\n",
       "      <td>Green Car</td>\n",
       "      <td>NaN</td>\n",
       "      <td>poor</td>\n",
       "      <td>manageable</td>\n",
       "      <td>good</td>\n",
       "      <td>good</td>\n",
       "      <td>good</td>\n",
       "      <td>...</td>\n",
       "      <td>excellent</td>\n",
       "      <td>good</td>\n",
       "      <td>Male</td>\n",
       "      <td>Loyal Customer</td>\n",
       "      <td>30.0</td>\n",
       "      <td>NaN</td>\n",
       "      <td>Business</td>\n",
       "      <td>4725</td>\n",
       "      <td>86.0</td>\n",
       "      <td>77.0</td>\n",
       "    </tr>\n",
       "    <tr>\n",
       "      <th>4754</th>\n",
       "      <td>98804755</td>\n",
       "      <td>0</td>\n",
       "      <td>NaN</td>\n",
       "      <td>Ordinary</td>\n",
       "      <td>NaN</td>\n",
       "      <td>need improvement</td>\n",
       "      <td>manageable</td>\n",
       "      <td>excellent</td>\n",
       "      <td>need improvement</td>\n",
       "      <td>poor</td>\n",
       "      <td>...</td>\n",
       "      <td>good</td>\n",
       "      <td>excellent</td>\n",
       "      <td>Male</td>\n",
       "      <td>Loyal Customer</td>\n",
       "      <td>63.0</td>\n",
       "      <td>Personal Travel</td>\n",
       "      <td>Eco</td>\n",
       "      <td>1380</td>\n",
       "      <td>0.0</td>\n",
       "      <td>0.0</td>\n",
       "    </tr>\n",
       "    <tr>\n",
       "      <th>5191</th>\n",
       "      <td>98805192</td>\n",
       "      <td>1</td>\n",
       "      <td>NaN</td>\n",
       "      <td>Green Car</td>\n",
       "      <td>NaN</td>\n",
       "      <td>acceptable</td>\n",
       "      <td>manageable</td>\n",
       "      <td>good</td>\n",
       "      <td>good</td>\n",
       "      <td>good</td>\n",
       "      <td>...</td>\n",
       "      <td>acceptable</td>\n",
       "      <td>good</td>\n",
       "      <td>Male</td>\n",
       "      <td>NaN</td>\n",
       "      <td>33.0</td>\n",
       "      <td>Business travel</td>\n",
       "      <td>Business</td>\n",
       "      <td>1436</td>\n",
       "      <td>6.0</td>\n",
       "      <td>25.0</td>\n",
       "    </tr>\n",
       "    <tr>\n",
       "      <th>8809</th>\n",
       "      <td>98808810</td>\n",
       "      <td>1</td>\n",
       "      <td>NaN</td>\n",
       "      <td>Green Car</td>\n",
       "      <td>NaN</td>\n",
       "      <td>acceptable</td>\n",
       "      <td>manageable</td>\n",
       "      <td>good</td>\n",
       "      <td>good</td>\n",
       "      <td>good</td>\n",
       "      <td>...</td>\n",
       "      <td>need improvement</td>\n",
       "      <td>good</td>\n",
       "      <td>Female</td>\n",
       "      <td>Loyal Customer</td>\n",
       "      <td>12.0</td>\n",
       "      <td>Personal Travel</td>\n",
       "      <td>Eco</td>\n",
       "      <td>3114</td>\n",
       "      <td>41.0</td>\n",
       "      <td>44.0</td>\n",
       "    </tr>\n",
       "    <tr>\n",
       "      <th>...</th>\n",
       "      <td>...</td>\n",
       "      <td>...</td>\n",
       "      <td>...</td>\n",
       "      <td>...</td>\n",
       "      <td>...</td>\n",
       "      <td>...</td>\n",
       "      <td>...</td>\n",
       "      <td>...</td>\n",
       "      <td>...</td>\n",
       "      <td>...</td>\n",
       "      <td>...</td>\n",
       "      <td>...</td>\n",
       "      <td>...</td>\n",
       "      <td>...</td>\n",
       "      <td>...</td>\n",
       "      <td>...</td>\n",
       "      <td>...</td>\n",
       "      <td>...</td>\n",
       "      <td>...</td>\n",
       "      <td>...</td>\n",
       "      <td>...</td>\n",
       "    </tr>\n",
       "    <tr>\n",
       "      <th>86883</th>\n",
       "      <td>98886884</td>\n",
       "      <td>0</td>\n",
       "      <td>NaN</td>\n",
       "      <td>Green Car</td>\n",
       "      <td>NaN</td>\n",
       "      <td>acceptable</td>\n",
       "      <td>manageable</td>\n",
       "      <td>need improvement</td>\n",
       "      <td>acceptable</td>\n",
       "      <td>need improvement</td>\n",
       "      <td>...</td>\n",
       "      <td>good</td>\n",
       "      <td>need improvement</td>\n",
       "      <td>Male</td>\n",
       "      <td>Loyal Customer</td>\n",
       "      <td>13.0</td>\n",
       "      <td>Personal Travel</td>\n",
       "      <td>Eco</td>\n",
       "      <td>2188</td>\n",
       "      <td>4.0</td>\n",
       "      <td>0.0</td>\n",
       "    </tr>\n",
       "    <tr>\n",
       "      <th>87693</th>\n",
       "      <td>98887694</td>\n",
       "      <td>0</td>\n",
       "      <td>NaN</td>\n",
       "      <td>Green Car</td>\n",
       "      <td>NaN</td>\n",
       "      <td>excellent</td>\n",
       "      <td>very convinient</td>\n",
       "      <td>need improvement</td>\n",
       "      <td>need improvement</td>\n",
       "      <td>need improvement</td>\n",
       "      <td>...</td>\n",
       "      <td>acceptable</td>\n",
       "      <td>need improvement</td>\n",
       "      <td>Female</td>\n",
       "      <td>Loyal Customer</td>\n",
       "      <td>40.0</td>\n",
       "      <td>Business travel</td>\n",
       "      <td>Eco</td>\n",
       "      <td>2361</td>\n",
       "      <td>0.0</td>\n",
       "      <td>0.0</td>\n",
       "    </tr>\n",
       "    <tr>\n",
       "      <th>88765</th>\n",
       "      <td>98888766</td>\n",
       "      <td>0</td>\n",
       "      <td>NaN</td>\n",
       "      <td>Green Car</td>\n",
       "      <td>NaN</td>\n",
       "      <td>acceptable</td>\n",
       "      <td>Convinient</td>\n",
       "      <td>need improvement</td>\n",
       "      <td>acceptable</td>\n",
       "      <td>poor</td>\n",
       "      <td>...</td>\n",
       "      <td>acceptable</td>\n",
       "      <td>need improvement</td>\n",
       "      <td>Female</td>\n",
       "      <td>disloyal Customer</td>\n",
       "      <td>49.0</td>\n",
       "      <td>Business travel</td>\n",
       "      <td>Eco</td>\n",
       "      <td>1788</td>\n",
       "      <td>22.0</td>\n",
       "      <td>18.0</td>\n",
       "    </tr>\n",
       "    <tr>\n",
       "      <th>90800</th>\n",
       "      <td>98890801</td>\n",
       "      <td>0</td>\n",
       "      <td>NaN</td>\n",
       "      <td>Ordinary</td>\n",
       "      <td>NaN</td>\n",
       "      <td>excellent</td>\n",
       "      <td>need improvement</td>\n",
       "      <td>acceptable</td>\n",
       "      <td>acceptable</td>\n",
       "      <td>acceptable</td>\n",
       "      <td>...</td>\n",
       "      <td>good</td>\n",
       "      <td>acceptable</td>\n",
       "      <td>Male</td>\n",
       "      <td>Loyal Customer</td>\n",
       "      <td>37.0</td>\n",
       "      <td>Business travel</td>\n",
       "      <td>Eco</td>\n",
       "      <td>1528</td>\n",
       "      <td>76.0</td>\n",
       "      <td>56.0</td>\n",
       "    </tr>\n",
       "    <tr>\n",
       "      <th>93674</th>\n",
       "      <td>98893675</td>\n",
       "      <td>1</td>\n",
       "      <td>NaN</td>\n",
       "      <td>Green Car</td>\n",
       "      <td>NaN</td>\n",
       "      <td>acceptable</td>\n",
       "      <td>manageable</td>\n",
       "      <td>good</td>\n",
       "      <td>good</td>\n",
       "      <td>good</td>\n",
       "      <td>...</td>\n",
       "      <td>need improvement</td>\n",
       "      <td>good</td>\n",
       "      <td>Male</td>\n",
       "      <td>Loyal Customer</td>\n",
       "      <td>48.0</td>\n",
       "      <td>Business travel</td>\n",
       "      <td>Eco</td>\n",
       "      <td>1315</td>\n",
       "      <td>0.0</td>\n",
       "      <td>0.0</td>\n",
       "    </tr>\n",
       "  </tbody>\n",
       "</table>\n",
       "<p>61 rows × 25 columns</p>\n",
       "</div>"
      ],
      "text/plain": [
       "             ID  Overall_Experience Seat_comfort Seat_Class  \\\n",
       "560    98800561                   0          NaN  Green Car   \n",
       "2214   98802215                   1          NaN  Green Car   \n",
       "4754   98804755                   0          NaN   Ordinary   \n",
       "5191   98805192                   1          NaN  Green Car   \n",
       "8809   98808810                   1          NaN  Green Car   \n",
       "...         ...                 ...          ...        ...   \n",
       "86883  98886884                   0          NaN  Green Car   \n",
       "87693  98887694                   0          NaN  Green Car   \n",
       "88765  98888766                   0          NaN  Green Car   \n",
       "90800  98890801                   0          NaN   Ordinary   \n",
       "93674  98893675                   1          NaN  Green Car   \n",
       "\n",
       "      Arrival_time_convenient          Catering Platform_location  \\\n",
       "560                       NaN              good  need improvement   \n",
       "2214                      NaN              poor        manageable   \n",
       "4754                      NaN  need improvement        manageable   \n",
       "5191                      NaN        acceptable        manageable   \n",
       "8809                      NaN        acceptable        manageable   \n",
       "...                       ...               ...               ...   \n",
       "86883                     NaN        acceptable        manageable   \n",
       "87693                     NaN         excellent   very convinient   \n",
       "88765                     NaN        acceptable        Convinient   \n",
       "90800                     NaN         excellent  need improvement   \n",
       "93674                     NaN        acceptable        manageable   \n",
       "\n",
       "      Onboardwifi_service Onboard_entertainment    Online_support  ...  \\\n",
       "560                  good                  good              good  ...   \n",
       "2214                 good                  good              good  ...   \n",
       "4754            excellent      need improvement              poor  ...   \n",
       "5191                 good                  good              good  ...   \n",
       "8809                 good                  good              good  ...   \n",
       "...                   ...                   ...               ...  ...   \n",
       "86883    need improvement            acceptable  need improvement  ...   \n",
       "87693    need improvement      need improvement  need improvement  ...   \n",
       "88765    need improvement            acceptable              poor  ...   \n",
       "90800          acceptable            acceptable        acceptable  ...   \n",
       "93674                good                  good              good  ...   \n",
       "\n",
       "            Cleanliness   Online_boarding  Gender       CustomerType   Age  \\\n",
       "560          acceptable              good    Male     Loyal Customer  30.0   \n",
       "2214          excellent              good    Male     Loyal Customer  30.0   \n",
       "4754               good         excellent    Male     Loyal Customer  63.0   \n",
       "5191         acceptable              good    Male                NaN  33.0   \n",
       "8809   need improvement              good  Female     Loyal Customer  12.0   \n",
       "...                 ...               ...     ...                ...   ...   \n",
       "86883              good  need improvement    Male     Loyal Customer  13.0   \n",
       "87693        acceptable  need improvement  Female     Loyal Customer  40.0   \n",
       "88765        acceptable  need improvement  Female  disloyal Customer  49.0   \n",
       "90800              good        acceptable    Male     Loyal Customer  37.0   \n",
       "93674  need improvement              good    Male     Loyal Customer  48.0   \n",
       "\n",
       "            TypeTravel Travel_Class Travel_Distance DepartureDelay_in_Mins  \\\n",
       "560    Business travel          Eco            1495                    0.0   \n",
       "2214               NaN     Business            4725                   86.0   \n",
       "4754   Personal Travel          Eco            1380                    0.0   \n",
       "5191   Business travel     Business            1436                    6.0   \n",
       "8809   Personal Travel          Eco            3114                   41.0   \n",
       "...                ...          ...             ...                    ...   \n",
       "86883  Personal Travel          Eco            2188                    4.0   \n",
       "87693  Business travel          Eco            2361                    0.0   \n",
       "88765  Business travel          Eco            1788                   22.0   \n",
       "90800  Business travel          Eco            1528                   76.0   \n",
       "93674  Business travel          Eco            1315                    0.0   \n",
       "\n",
       "       ArrivalDelay_in_Mins  \n",
       "560                     0.0  \n",
       "2214                   77.0  \n",
       "4754                    0.0  \n",
       "5191                   25.0  \n",
       "8809                   44.0  \n",
       "...                     ...  \n",
       "86883                   0.0  \n",
       "87693                   0.0  \n",
       "88765                  18.0  \n",
       "90800                  56.0  \n",
       "93674                   0.0  \n",
       "\n",
       "[61 rows x 25 columns]"
      ]
     },
     "execution_count": 19,
     "metadata": {},
     "output_type": "execute_result"
    }
   ],
   "source": [
    "df[df.Seat_comfort.isnull()==True]"
   ]
  },
  {
   "cell_type": "code",
   "execution_count": 20,
   "id": "a08724ff",
   "metadata": {},
   "outputs": [
    {
     "data": {
      "text/plain": [
       "ID                            0\n",
       "Overall_Experience            0\n",
       "Seat_comfort                 61\n",
       "Seat_Class                    0\n",
       "Arrival_time_convenient    8930\n",
       "Catering                   8741\n",
       "Platform_location            30\n",
       "Onboardwifi_service          30\n",
       "Onboard_entertainment        18\n",
       "Online_support               91\n",
       "Onlinebooking_Ease           73\n",
       "Onboard_service            7601\n",
       "Leg_room                     90\n",
       "Baggage_handling            142\n",
       "Checkin_service              77\n",
       "Cleanliness                   6\n",
       "Online_boarding               6\n",
       "Gender                       77\n",
       "CustomerType               8951\n",
       "Age                          33\n",
       "TypeTravel                 9226\n",
       "Travel_Class                  0\n",
       "Travel_Distance               0\n",
       "DepartureDelay_in_Mins       57\n",
       "ArrivalDelay_in_Mins        357\n",
       "dtype: int64"
      ]
     },
     "execution_count": 20,
     "metadata": {},
     "output_type": "execute_result"
    }
   ],
   "source": [
    "df.isnull().sum()"
   ]
  },
  {
   "cell_type": "code",
   "execution_count": 21,
   "id": "482fbbb4",
   "metadata": {},
   "outputs": [
    {
     "name": "stdout",
     "output_type": "stream",
     "text": [
      "<class 'pandas.core.frame.DataFrame'>\n",
      "Int64Index: 94379 entries, 0 to 94378\n",
      "Data columns (total 25 columns):\n",
      " #   Column                   Non-Null Count  Dtype  \n",
      "---  ------                   --------------  -----  \n",
      " 0   ID                       94379 non-null  int64  \n",
      " 1   Overall_Experience       94379 non-null  int64  \n",
      " 2   Seat_comfort             94318 non-null  object \n",
      " 3   Seat_Class               94379 non-null  object \n",
      " 4   Arrival_time_convenient  85449 non-null  object \n",
      " 5   Catering                 85638 non-null  object \n",
      " 6   Platform_location        94349 non-null  object \n",
      " 7   Onboardwifi_service      94349 non-null  object \n",
      " 8   Onboard_entertainment    94361 non-null  object \n",
      " 9   Online_support           94288 non-null  object \n",
      " 10  Onlinebooking_Ease       94306 non-null  object \n",
      " 11  Onboard_service          86778 non-null  object \n",
      " 12  Leg_room                 94289 non-null  object \n",
      " 13  Baggage_handling         94237 non-null  object \n",
      " 14  Checkin_service          94302 non-null  object \n",
      " 15  Cleanliness              94373 non-null  object \n",
      " 16  Online_boarding          94373 non-null  object \n",
      " 17  Gender                   94302 non-null  object \n",
      " 18  CustomerType             85428 non-null  object \n",
      " 19  Age                      94346 non-null  float64\n",
      " 20  TypeTravel               85153 non-null  object \n",
      " 21  Travel_Class             94379 non-null  object \n",
      " 22  Travel_Distance          94379 non-null  int64  \n",
      " 23  DepartureDelay_in_Mins   94322 non-null  float64\n",
      " 24  ArrivalDelay_in_Mins     94022 non-null  float64\n",
      "dtypes: float64(3), int64(3), object(19)\n",
      "memory usage: 18.7+ MB\n"
     ]
    }
   ],
   "source": [
    "df.info()"
   ]
  },
  {
   "cell_type": "code",
   "execution_count": 168,
   "id": "6daaada7",
   "metadata": {},
   "outputs": [],
   "source": [
    "for cols in df_to_predict_copy.columns:\n",
    "    if df_to_predict_copy[cols].dtype==\"float64\":\n",
    "        df_to_predict_copy[cols] =df_to_predict_copy[cols].fillna(df_to_predict_copy[cols].mean())\n",
    "    elif df_to_predict_copy[cols].dtype==\"object\":\n",
    "        df_to_predict_copy[cols] =df_to_predict_copy[cols].fillna(df_to_predict_copy[cols].mode()[0])\n",
    "    elif df_to_predict_copy[cols].dtype==\"int64\":\n",
    "        df_to_predict_copy[cols] =df_to_predict_copy[cols].fillna(df_to_predict_copy[cols].median())"
   ]
  },
  {
   "cell_type": "code",
   "execution_count": 167,
   "id": "a79b71c9",
   "metadata": {},
   "outputs": [],
   "source": [
    "for cols in df.columns:\n",
    "    if df[cols].dtype==\"float64\":\n",
    "        df[cols] =df[cols].fillna(df[cols].mean())\n",
    "    elif df[cols].dtype==\"object\":\n",
    "        df[cols] =df[cols].fillna(df[cols].mode()[0])\n",
    "    elif df[cols].dtype==\"int64\":\n",
    "        df[cols] =df[cols].fillna(df[cols].median())"
   ]
  },
  {
   "cell_type": "code",
   "execution_count": null,
   "id": "516ec567",
   "metadata": {},
   "outputs": [],
   "source": []
  },
  {
   "cell_type": "code",
   "execution_count": 23,
   "id": "8e8b8738",
   "metadata": {},
   "outputs": [
    {
     "data": {
      "text/plain": [
       "ID                         0\n",
       "Overall_Experience         0\n",
       "Seat_comfort               0\n",
       "Seat_Class                 0\n",
       "Arrival_time_convenient    0\n",
       "Catering                   0\n",
       "Platform_location          0\n",
       "Onboardwifi_service        0\n",
       "Onboard_entertainment      0\n",
       "Online_support             0\n",
       "Onlinebooking_Ease         0\n",
       "Onboard_service            0\n",
       "Leg_room                   0\n",
       "Baggage_handling           0\n",
       "Checkin_service            0\n",
       "Cleanliness                0\n",
       "Online_boarding            0\n",
       "Gender                     0\n",
       "CustomerType               0\n",
       "Age                        0\n",
       "TypeTravel                 0\n",
       "Travel_Class               0\n",
       "Travel_Distance            0\n",
       "DepartureDelay_in_Mins     0\n",
       "ArrivalDelay_in_Mins       0\n",
       "dtype: int64"
      ]
     },
     "execution_count": 23,
     "metadata": {},
     "output_type": "execute_result"
    }
   ],
   "source": [
    "df.isnull().sum()"
   ]
  },
  {
   "cell_type": "code",
   "execution_count": 24,
   "id": "cdec5b12",
   "metadata": {
    "scrolled": false
   },
   "outputs": [
    {
     "name": "stdout",
     "output_type": "stream",
     "text": [
      "Field name is  SEAT_COMFORT : and Count for this categories are  6\n",
      "extremely poor       3463\n",
      "excellent           12971\n",
      "poor                15185\n",
      "good                20595\n",
      "need improvement    20946\n",
      "acceptable          21219\n",
      "Name: Seat_comfort, dtype: int64\n",
      "\n",
      "\n",
      "\n",
      "Field name is  SEAT_CLASS : and Count for this categories are  2\n",
      "Ordinary     46944\n",
      "Green Car    47435\n",
      "Name: Seat_Class, dtype: int64\n",
      "\n",
      "\n",
      "\n",
      "Field name is  ARRIVAL_TIME_CONVENIENT : and Count for this categories are  6\n",
      "extremely poor       4332\n",
      "poor                13692\n",
      "need improvement    14990\n",
      "acceptable          15177\n",
      "excellent           17684\n",
      "good                28504\n",
      "Name: Arrival_time_convenient, dtype: int64\n",
      "\n",
      "\n",
      "\n",
      "Field name is  CATERING : and Count for this categories are  6\n",
      "extremely poor       3910\n",
      "excellent           13455\n",
      "poor                13858\n",
      "good                17969\n",
      "need improvement    17978\n",
      "acceptable          27209\n",
      "Name: Catering, dtype: int64\n",
      "\n",
      "\n",
      "\n",
      "Field name is  PLATFORM_LOCATION : and Count for this categories are  6\n",
      "very inconvinient        2\n",
      "very convinient      13981\n",
      "Inconvinient         16449\n",
      "need improvement     17832\n",
      "Convinient           21912\n",
      "manageable           24203\n",
      "Name: Platform_location, dtype: int64\n",
      "\n",
      "\n",
      "\n",
      "Field name is  ONBOARDWIFI_SERVICE : and Count for this categories are  6\n",
      "extremely poor         91\n",
      "poor                10741\n",
      "need improvement    19596\n",
      "acceptable          20118\n",
      "excellent           20968\n",
      "good                22865\n",
      "Name: Onboardwifi_service, dtype: int64\n",
      "\n",
      "\n",
      "\n",
      "Field name is  ONBOARD_ENTERTAINMENT : and Count for this categories are  6\n",
      "extremely poor       2144\n",
      "poor                 8641\n",
      "need improvement    13926\n",
      "acceptable          17560\n",
      "excellent           21644\n",
      "good                30464\n",
      "Name: Onboard_entertainment, dtype: int64\n",
      "\n",
      "\n",
      "\n",
      "Field name is  ONLINE_SUPPORT : and Count for this categories are  6\n",
      "extremely poor          1\n",
      "poor                10167\n",
      "need improvement    12508\n",
      "acceptable          15702\n",
      "excellent           25894\n",
      "good                30107\n",
      "Name: Online_support, dtype: int64\n",
      "\n",
      "\n",
      "\n",
      "Field name is  ONLINEBOOKING_EASE : and Count for this categories are  6\n",
      "extremely poor         16\n",
      "poor                 9768\n",
      "need improvement    14479\n",
      "acceptable          16390\n",
      "excellent           24744\n",
      "good                28982\n",
      "Name: Onlinebooking_Ease, dtype: int64\n",
      "\n",
      "\n",
      "\n",
      "Field name is  ONBOARD_SERVICE : and Count for this categories are  6\n",
      "extremely poor          4\n",
      "poor                 8776\n",
      "need improvement    11390\n",
      "acceptable          18071\n",
      "excellent           21272\n",
      "good                34866\n",
      "Name: Onboard_service, dtype: int64\n",
      "\n",
      "\n",
      "\n",
      "Field name is  LEG_ROOM : and Count for this categories are  6\n",
      "extremely poor        340\n",
      "poor                 8110\n",
      "need improvement    15753\n",
      "acceptable          16384\n",
      "excellent           24832\n",
      "good                28960\n",
      "Name: Leg_room, dtype: int64\n",
      "\n",
      "\n",
      "\n",
      "Field name is  BAGGAGE_HANDLING : and Count for this categories are  5\n",
      "poor                 5764\n",
      "need improvement     9759\n",
      "acceptable          17767\n",
      "excellent           26003\n",
      "good                35086\n",
      "Name: Baggage_handling, dtype: int64\n",
      "\n",
      "\n",
      "\n",
      "Field name is  CHECKIN_SERVICE : and Count for this categories are  6\n",
      "extremely poor          1\n",
      "poor                11137\n",
      "need improvement    11218\n",
      "excellent           19641\n",
      "acceptable          25803\n",
      "good                26579\n",
      "Name: Checkin_service, dtype: int64\n",
      "\n",
      "\n",
      "\n",
      "Field name is  CLEANLINESS : and Count for this categories are  6\n",
      "extremely poor          5\n",
      "poor                 5633\n",
      "need improvement     9806\n",
      "acceptable          17449\n",
      "excellent           26053\n",
      "good                35433\n",
      "Name: Cleanliness, dtype: int64\n",
      "\n",
      "\n",
      "\n",
      "Field name is  ONLINE_BOARDING : and Count for this categories are  6\n",
      "extremely poor         12\n",
      "poor                11160\n",
      "need improvement    13451\n",
      "excellent           21742\n",
      "acceptable          22475\n",
      "good                25539\n",
      "Name: Online_boarding, dtype: int64\n",
      "\n",
      "\n",
      "\n",
      "Field name is  GENDER : and Count for this categories are  2\n",
      "Male      46487\n",
      "Female    47892\n",
      "Name: Gender, dtype: int64\n",
      "\n",
      "\n",
      "\n",
      "Field name is  CUSTOMERTYPE : and Count for this categories are  2\n",
      "disloyal Customer    15605\n",
      "Loyal Customer       78774\n",
      "Name: CustomerType, dtype: int64\n",
      "\n",
      "\n",
      "\n",
      "Field name is  TYPETRAVEL : and Count for this categories are  2\n",
      "Personal Travel    26536\n",
      "Business travel    67843\n",
      "Name: TypeTravel, dtype: int64\n",
      "\n",
      "\n",
      "\n",
      "Field name is  TRAVEL_CLASS : and Count for this categories are  2\n",
      "Business    45037\n",
      "Eco         49342\n",
      "Name: Travel_Class, dtype: int64\n",
      "\n",
      "\n",
      "\n"
     ]
    }
   ],
   "source": [
    "#Finding unique values for categorical variables\n",
    "for column in df.columns:\n",
    "    if df[column].dtype == 'object':\n",
    "        print(\"Field name is \", column.upper(),': and Count for this categories are ',df[column].nunique())\n",
    "        print(df[column].value_counts().sort_values())\n",
    "        print('\\n\\n')"
   ]
  },
  {
   "cell_type": "code",
   "execution_count": 25,
   "id": "662b94c4",
   "metadata": {},
   "outputs": [
    {
     "data": {
      "image/png": "[encoded data removed]",
      "text/plain": [
       "<Figure size 720x720 with 4 Axes>"
      ]
     },
     "metadata": {
      "needs_background": "light"
     },
     "output_type": "display_data"
    }
   ],
   "source": [
    "fig,axes=plt.subplots(nrows=2,ncols=2,figsize=(10,10))\n",
    "x=0\n",
    "for i in df.columns:\n",
    "    if i=='Travel_Distance':\n",
    "        sns.histplot(x=df[i],kde=True,ax=axes[x][0],color='r');\n",
    "        sns.boxplot(x=df[i],data=df,ax=axes[x][1],color='y');\n",
    "        plt.tight_layout()"
   ]
  },
  {
   "cell_type": "code",
   "execution_count": 26,
   "id": "646817cf",
   "metadata": {},
   "outputs": [
    {
     "name": "stdout",
     "output_type": "stream",
     "text": [
      "Index(['ID', 'Overall_Experience', 'Seat_comfort', 'Seat_Class',\n",
      "       'Arrival_time_convenient', 'Catering', 'Platform_location',\n",
      "       'Onboardwifi_service', 'Onboard_entertainment', 'Online_support',\n",
      "       'Onlinebooking_Ease', 'Onboard_service', 'Leg_room', 'Baggage_handling',\n",
      "       'Checkin_service', 'Cleanliness', 'Online_boarding', 'Gender',\n",
      "       'CustomerType', 'Age', 'TypeTravel', 'Travel_Class', 'Travel_Distance',\n",
      "       'DepartureDelay_in_Mins', 'ArrivalDelay_in_Mins'],\n",
      "      dtype='object')\n"
     ]
    },
    {
     "data": {
      "image/png": "[encoded data removed]",
      "text/plain": [
       "<Figure size 864x1152 with 12 Axes>"
      ]
     },
     "metadata": {
      "needs_background": "light"
     },
     "output_type": "display_data"
    }
   ],
   "source": [
    "col_list=df.columns\n",
    "print(col_list)\n",
    "\n",
    "fig, axes = plt.subplots(nrows=6,ncols=2)\n",
    "fig.set_size_inches(12,16)\n",
    "x=0\n",
    "y=0\n",
    "for i in df.select_dtypes(include='number'):\n",
    "        ax_hist=sns.histplot(x=df[i], kde=True, ax=axes[x][y], color='g')\n",
    "        ax_box=sns.boxplot(x=df[i], data=df, ax=axes[x][y+1], color='y')\n",
    "        plt.xticks(rotation=45)\n",
    "        ax_hist.set(xlabel=i,title='Histogram for '+i)\n",
    "        ax_box.set(xlabel=i,title='BoxPlot for '+i)\n",
    "        plt.tight_layout()\n",
    "        x=x+1"
   ]
  },
  {
   "cell_type": "code",
   "execution_count": 27,
   "id": "1372df3d",
   "metadata": {},
   "outputs": [
    {
     "data": {
      "text/plain": [
       "DepartureDelay_in_Mins    7.158965\n",
       "ArrivalDelay_in_Mins      6.992923\n",
       "Travel_Distance           0.473058\n",
       "ID                        0.000000\n",
       "Age                      -0.002387\n",
       "Overall_Experience       -0.187451\n",
       "dtype: float64"
      ]
     },
     "execution_count": 27,
     "metadata": {},
     "output_type": "execute_result"
    }
   ],
   "source": [
    "#df.skew()\n",
    "df.skew().sort_values(ascending=False)\n",
    "#calculating skewness before treating outliers present in the data."
   ]
  },
  {
   "cell_type": "code",
   "execution_count": 28,
   "id": "93f938cb",
   "metadata": {},
   "outputs": [
    {
     "data": {
      "text/plain": [
       "(array([0.5, 1.5, 2.5, 3.5, 4.5, 5.5]),\n",
       " [Text(0.5, 0, 'ID'),\n",
       "  Text(1.5, 0, 'Overall_Experience'),\n",
       "  Text(2.5, 0, 'Age'),\n",
       "  Text(3.5, 0, 'Travel_Distance'),\n",
       "  Text(4.5, 0, 'DepartureDelay_in_Mins'),\n",
       "  Text(5.5, 0, 'ArrivalDelay_in_Mins')])"
      ]
     },
     "execution_count": 28,
     "metadata": {},
     "output_type": "execute_result"
    },
    {
     "data": {
      "image/png": "[encoded data removed]",
      "text/plain": [
       "<Figure size 576x576 with 2 Axes>"
      ]
     },
     "metadata": {
      "needs_background": "light"
     },
     "output_type": "display_data"
    }
   ],
   "source": [
    "## Heat Map for all Numeric Fields\n",
    "plt.figure(figsize=(8,8))\n",
    "colormap = sns.color_palette(\"Greens\")\n",
    "sns.heatmap(df.corr(),annot=True,fmt=\".2f\",cmap=colormap);\n",
    "plt.xticks(rotation=60)"
   ]
  },
  {
   "cell_type": "markdown",
   "id": "092084ec",
   "metadata": {},
   "source": [
    "# Encoding For Train Data"
   ]
  },
  {
   "cell_type": "code",
   "execution_count": 29,
   "id": "c446df1a",
   "metadata": {},
   "outputs": [],
   "source": [
    "col_list=[]"
   ]
  },
  {
   "cell_type": "code",
   "execution_count": 30,
   "id": "2a7dad5b",
   "metadata": {},
   "outputs": [
    {
     "name": "stdout",
     "output_type": "stream",
     "text": [
      "Seat_comfort\n",
      "Seat_Class\n",
      "Arrival_time_convenient\n",
      "Catering\n",
      "Platform_location\n",
      "Onboardwifi_service\n",
      "Onboard_entertainment\n",
      "Online_support\n",
      "Onlinebooking_Ease\n",
      "Onboard_service\n",
      "Leg_room\n",
      "Baggage_handling\n",
      "Checkin_service\n",
      "Cleanliness\n",
      "Online_boarding\n",
      "Gender\n",
      "CustomerType\n",
      "TypeTravel\n",
      "Travel_Class\n"
     ]
    }
   ],
   "source": [
    "col_list=[]\n",
    "for cols in df.columns:\n",
    "    if df[cols].dtype=='object':\n",
    "        print(cols)\n",
    "        col_list.append(cols)"
   ]
  },
  {
   "cell_type": "code",
   "execution_count": 31,
   "id": "4f36d853",
   "metadata": {},
   "outputs": [
    {
     "data": {
      "text/plain": [
       "['Seat_comfort',\n",
       " 'Seat_Class',\n",
       " 'Arrival_time_convenient',\n",
       " 'Catering',\n",
       " 'Platform_location',\n",
       " 'Onboardwifi_service',\n",
       " 'Onboard_entertainment',\n",
       " 'Online_support',\n",
       " 'Onlinebooking_Ease',\n",
       " 'Onboard_service',\n",
       " 'Leg_room',\n",
       " 'Baggage_handling',\n",
       " 'Checkin_service',\n",
       " 'Cleanliness',\n",
       " 'Online_boarding',\n",
       " 'Gender',\n",
       " 'CustomerType',\n",
       " 'TypeTravel',\n",
       " 'Travel_Class']"
      ]
     },
     "execution_count": 31,
     "metadata": {},
     "output_type": "execute_result"
    }
   ],
   "source": [
    "col_list"
   ]
  },
  {
   "cell_type": "code",
   "execution_count": 32,
   "id": "03a9e059",
   "metadata": {},
   "outputs": [],
   "source": [
    "df_new=pd.get_dummies(df,columns=col_list,drop_first=True)"
   ]
  },
  {
   "cell_type": "code",
   "execution_count": 33,
   "id": "a7761b0d",
   "metadata": {
    "scrolled": false
   },
   "outputs": [
    {
     "data": {
      "text/html": [
       "<div>\n",
       "<style scoped>\n",
       "    .dataframe tbody tr th:only-of-type {\n",
       "        vertical-align: middle;\n",
       "    }\n",
       "\n",
       "    .dataframe tbody tr th {\n",
       "        vertical-align: top;\n",
       "    }\n",
       "\n",
       "    .dataframe thead th {\n",
       "        text-align: right;\n",
       "    }\n",
       "</style>\n",
       "<table border=\"1\" class=\"dataframe\">\n",
       "  <thead>\n",
       "    <tr style=\"text-align: right;\">\n",
       "      <th></th>\n",
       "      <th>ID</th>\n",
       "      <th>Overall_Experience</th>\n",
       "      <th>Age</th>\n",
       "      <th>Travel_Distance</th>\n",
       "      <th>DepartureDelay_in_Mins</th>\n",
       "      <th>ArrivalDelay_in_Mins</th>\n",
       "      <th>Seat_comfort_excellent</th>\n",
       "      <th>Seat_comfort_extremely poor</th>\n",
       "      <th>Seat_comfort_good</th>\n",
       "      <th>Seat_comfort_need improvement</th>\n",
       "      <th>...</th>\n",
       "      <th>Cleanliness_poor</th>\n",
       "      <th>Online_boarding_excellent</th>\n",
       "      <th>Online_boarding_extremely poor</th>\n",
       "      <th>Online_boarding_good</th>\n",
       "      <th>Online_boarding_need improvement</th>\n",
       "      <th>Online_boarding_poor</th>\n",
       "      <th>Gender_Male</th>\n",
       "      <th>CustomerType_disloyal Customer</th>\n",
       "      <th>TypeTravel_Personal Travel</th>\n",
       "      <th>Travel_Class_Eco</th>\n",
       "    </tr>\n",
       "  </thead>\n",
       "  <tbody>\n",
       "    <tr>\n",
       "      <th>0</th>\n",
       "      <td>98800001</td>\n",
       "      <td>0</td>\n",
       "      <td>52.0</td>\n",
       "      <td>272</td>\n",
       "      <td>0.0</td>\n",
       "      <td>5.0</td>\n",
       "      <td>0</td>\n",
       "      <td>0</td>\n",
       "      <td>0</td>\n",
       "      <td>1</td>\n",
       "      <td>...</td>\n",
       "      <td>0</td>\n",
       "      <td>0</td>\n",
       "      <td>0</td>\n",
       "      <td>0</td>\n",
       "      <td>0</td>\n",
       "      <td>1</td>\n",
       "      <td>0</td>\n",
       "      <td>0</td>\n",
       "      <td>0</td>\n",
       "      <td>0</td>\n",
       "    </tr>\n",
       "    <tr>\n",
       "      <th>1</th>\n",
       "      <td>98800002</td>\n",
       "      <td>0</td>\n",
       "      <td>48.0</td>\n",
       "      <td>2200</td>\n",
       "      <td>9.0</td>\n",
       "      <td>0.0</td>\n",
       "      <td>0</td>\n",
       "      <td>0</td>\n",
       "      <td>0</td>\n",
       "      <td>0</td>\n",
       "      <td>...</td>\n",
       "      <td>0</td>\n",
       "      <td>0</td>\n",
       "      <td>0</td>\n",
       "      <td>1</td>\n",
       "      <td>0</td>\n",
       "      <td>0</td>\n",
       "      <td>1</td>\n",
       "      <td>0</td>\n",
       "      <td>1</td>\n",
       "      <td>1</td>\n",
       "    </tr>\n",
       "    <tr>\n",
       "      <th>2</th>\n",
       "      <td>98800003</td>\n",
       "      <td>1</td>\n",
       "      <td>43.0</td>\n",
       "      <td>1061</td>\n",
       "      <td>77.0</td>\n",
       "      <td>119.0</td>\n",
       "      <td>0</td>\n",
       "      <td>0</td>\n",
       "      <td>0</td>\n",
       "      <td>1</td>\n",
       "      <td>...</td>\n",
       "      <td>0</td>\n",
       "      <td>1</td>\n",
       "      <td>0</td>\n",
       "      <td>0</td>\n",
       "      <td>0</td>\n",
       "      <td>0</td>\n",
       "      <td>0</td>\n",
       "      <td>0</td>\n",
       "      <td>0</td>\n",
       "      <td>0</td>\n",
       "    </tr>\n",
       "    <tr>\n",
       "      <th>3</th>\n",
       "      <td>98800004</td>\n",
       "      <td>0</td>\n",
       "      <td>44.0</td>\n",
       "      <td>780</td>\n",
       "      <td>13.0</td>\n",
       "      <td>18.0</td>\n",
       "      <td>0</td>\n",
       "      <td>0</td>\n",
       "      <td>0</td>\n",
       "      <td>0</td>\n",
       "      <td>...</td>\n",
       "      <td>0</td>\n",
       "      <td>0</td>\n",
       "      <td>0</td>\n",
       "      <td>0</td>\n",
       "      <td>0</td>\n",
       "      <td>0</td>\n",
       "      <td>0</td>\n",
       "      <td>0</td>\n",
       "      <td>0</td>\n",
       "      <td>0</td>\n",
       "    </tr>\n",
       "    <tr>\n",
       "      <th>4</th>\n",
       "      <td>98800005</td>\n",
       "      <td>1</td>\n",
       "      <td>50.0</td>\n",
       "      <td>1981</td>\n",
       "      <td>0.0</td>\n",
       "      <td>0.0</td>\n",
       "      <td>0</td>\n",
       "      <td>0</td>\n",
       "      <td>0</td>\n",
       "      <td>0</td>\n",
       "      <td>...</td>\n",
       "      <td>0</td>\n",
       "      <td>0</td>\n",
       "      <td>0</td>\n",
       "      <td>1</td>\n",
       "      <td>0</td>\n",
       "      <td>0</td>\n",
       "      <td>0</td>\n",
       "      <td>0</td>\n",
       "      <td>0</td>\n",
       "      <td>0</td>\n",
       "    </tr>\n",
       "    <tr>\n",
       "      <th>...</th>\n",
       "      <td>...</td>\n",
       "      <td>...</td>\n",
       "      <td>...</td>\n",
       "      <td>...</td>\n",
       "      <td>...</td>\n",
       "      <td>...</td>\n",
       "      <td>...</td>\n",
       "      <td>...</td>\n",
       "      <td>...</td>\n",
       "      <td>...</td>\n",
       "      <td>...</td>\n",
       "      <td>...</td>\n",
       "      <td>...</td>\n",
       "      <td>...</td>\n",
       "      <td>...</td>\n",
       "      <td>...</td>\n",
       "      <td>...</td>\n",
       "      <td>...</td>\n",
       "      <td>...</td>\n",
       "      <td>...</td>\n",
       "      <td>...</td>\n",
       "    </tr>\n",
       "    <tr>\n",
       "      <th>94374</th>\n",
       "      <td>98894375</td>\n",
       "      <td>0</td>\n",
       "      <td>32.0</td>\n",
       "      <td>1357</td>\n",
       "      <td>83.0</td>\n",
       "      <td>125.0</td>\n",
       "      <td>0</td>\n",
       "      <td>0</td>\n",
       "      <td>0</td>\n",
       "      <td>0</td>\n",
       "      <td>...</td>\n",
       "      <td>0</td>\n",
       "      <td>0</td>\n",
       "      <td>0</td>\n",
       "      <td>0</td>\n",
       "      <td>0</td>\n",
       "      <td>1</td>\n",
       "      <td>1</td>\n",
       "      <td>0</td>\n",
       "      <td>0</td>\n",
       "      <td>0</td>\n",
       "    </tr>\n",
       "    <tr>\n",
       "      <th>94375</th>\n",
       "      <td>98894376</td>\n",
       "      <td>1</td>\n",
       "      <td>44.0</td>\n",
       "      <td>592</td>\n",
       "      <td>5.0</td>\n",
       "      <td>11.0</td>\n",
       "      <td>0</td>\n",
       "      <td>0</td>\n",
       "      <td>1</td>\n",
       "      <td>0</td>\n",
       "      <td>...</td>\n",
       "      <td>0</td>\n",
       "      <td>0</td>\n",
       "      <td>0</td>\n",
       "      <td>1</td>\n",
       "      <td>0</td>\n",
       "      <td>0</td>\n",
       "      <td>1</td>\n",
       "      <td>0</td>\n",
       "      <td>0</td>\n",
       "      <td>0</td>\n",
       "    </tr>\n",
       "    <tr>\n",
       "      <th>94376</th>\n",
       "      <td>98894377</td>\n",
       "      <td>1</td>\n",
       "      <td>63.0</td>\n",
       "      <td>2794</td>\n",
       "      <td>0.0</td>\n",
       "      <td>0.0</td>\n",
       "      <td>0</td>\n",
       "      <td>0</td>\n",
       "      <td>0</td>\n",
       "      <td>1</td>\n",
       "      <td>...</td>\n",
       "      <td>0</td>\n",
       "      <td>0</td>\n",
       "      <td>0</td>\n",
       "      <td>0</td>\n",
       "      <td>0</td>\n",
       "      <td>0</td>\n",
       "      <td>1</td>\n",
       "      <td>0</td>\n",
       "      <td>0</td>\n",
       "      <td>0</td>\n",
       "    </tr>\n",
       "    <tr>\n",
       "      <th>94377</th>\n",
       "      <td>98894378</td>\n",
       "      <td>0</td>\n",
       "      <td>16.0</td>\n",
       "      <td>2744</td>\n",
       "      <td>0.0</td>\n",
       "      <td>0.0</td>\n",
       "      <td>0</td>\n",
       "      <td>0</td>\n",
       "      <td>0</td>\n",
       "      <td>1</td>\n",
       "      <td>...</td>\n",
       "      <td>0</td>\n",
       "      <td>0</td>\n",
       "      <td>0</td>\n",
       "      <td>1</td>\n",
       "      <td>0</td>\n",
       "      <td>0</td>\n",
       "      <td>1</td>\n",
       "      <td>0</td>\n",
       "      <td>1</td>\n",
       "      <td>1</td>\n",
       "    </tr>\n",
       "    <tr>\n",
       "      <th>94378</th>\n",
       "      <td>98894379</td>\n",
       "      <td>0</td>\n",
       "      <td>54.0</td>\n",
       "      <td>2107</td>\n",
       "      <td>28.0</td>\n",
       "      <td>28.0</td>\n",
       "      <td>0</td>\n",
       "      <td>0</td>\n",
       "      <td>0</td>\n",
       "      <td>0</td>\n",
       "      <td>...</td>\n",
       "      <td>0</td>\n",
       "      <td>0</td>\n",
       "      <td>0</td>\n",
       "      <td>0</td>\n",
       "      <td>0</td>\n",
       "      <td>0</td>\n",
       "      <td>1</td>\n",
       "      <td>0</td>\n",
       "      <td>0</td>\n",
       "      <td>1</td>\n",
       "    </tr>\n",
       "  </tbody>\n",
       "</table>\n",
       "<p>94379 rows × 80 columns</p>\n",
       "</div>"
      ],
      "text/plain": [
       "             ID  Overall_Experience   Age  Travel_Distance  \\\n",
       "0      98800001                   0  52.0              272   \n",
       "1      98800002                   0  48.0             2200   \n",
       "2      98800003                   1  43.0             1061   \n",
       "3      98800004                   0  44.0              780   \n",
       "4      98800005                   1  50.0             1981   \n",
       "...         ...                 ...   ...              ...   \n",
       "94374  98894375                   0  32.0             1357   \n",
       "94375  98894376                   1  44.0              592   \n",
       "94376  98894377                   1  63.0             2794   \n",
       "94377  98894378                   0  16.0             2744   \n",
       "94378  98894379                   0  54.0             2107   \n",
       "\n",
       "       DepartureDelay_in_Mins  ArrivalDelay_in_Mins  Seat_comfort_excellent  \\\n",
       "0                         0.0                   5.0                       0   \n",
       "1                         9.0                   0.0                       0   \n",
       "2                        77.0                 119.0                       0   \n",
       "3                        13.0                  18.0                       0   \n",
       "4                         0.0                   0.0                       0   \n",
       "...                       ...                   ...                     ...   \n",
       "94374                    83.0                 125.0                       0   \n",
       "94375                     5.0                  11.0                       0   \n",
       "94376                     0.0                   0.0                       0   \n",
       "94377                     0.0                   0.0                       0   \n",
       "94378                    28.0                  28.0                       0   \n",
       "\n",
       "       Seat_comfort_extremely poor  Seat_comfort_good  \\\n",
       "0                                0                  0   \n",
       "1                                0                  0   \n",
       "2                                0                  0   \n",
       "3                                0                  0   \n",
       "4                                0                  0   \n",
       "...                            ...                ...   \n",
       "94374                            0                  0   \n",
       "94375                            0                  1   \n",
       "94376                            0                  0   \n",
       "94377                            0                  0   \n",
       "94378                            0                  0   \n",
       "\n",
       "       Seat_comfort_need improvement  ...  Cleanliness_poor  \\\n",
       "0                                  1  ...                 0   \n",
       "1                                  0  ...                 0   \n",
       "2                                  1  ...                 0   \n",
       "3                                  0  ...                 0   \n",
       "4                                  0  ...                 0   \n",
       "...                              ...  ...               ...   \n",
       "94374                              0  ...                 0   \n",
       "94375                              0  ...                 0   \n",
       "94376                              1  ...                 0   \n",
       "94377                              1  ...                 0   \n",
       "94378                              0  ...                 0   \n",
       "\n",
       "       Online_boarding_excellent  Online_boarding_extremely poor  \\\n",
       "0                              0                               0   \n",
       "1                              0                               0   \n",
       "2                              1                               0   \n",
       "3                              0                               0   \n",
       "4                              0                               0   \n",
       "...                          ...                             ...   \n",
       "94374                          0                               0   \n",
       "94375                          0                               0   \n",
       "94376                          0                               0   \n",
       "94377                          0                               0   \n",
       "94378                          0                               0   \n",
       "\n",
       "       Online_boarding_good  Online_boarding_need improvement  \\\n",
       "0                         0                                 0   \n",
       "1                         1                                 0   \n",
       "2                         0                                 0   \n",
       "3                         0                                 0   \n",
       "4                         1                                 0   \n",
       "...                     ...                               ...   \n",
       "94374                     0                                 0   \n",
       "94375                     1                                 0   \n",
       "94376                     0                                 0   \n",
       "94377                     1                                 0   \n",
       "94378                     0                                 0   \n",
       "\n",
       "       Online_boarding_poor  Gender_Male  CustomerType_disloyal Customer  \\\n",
       "0                         1            0                               0   \n",
       "1                         0            1                               0   \n",
       "2                         0            0                               0   \n",
       "3                         0            0                               0   \n",
       "4                         0            0                               0   \n",
       "...                     ...          ...                             ...   \n",
       "94374                     1            1                               0   \n",
       "94375                     0            1                               0   \n",
       "94376                     0            1                               0   \n",
       "94377                     0            1                               0   \n",
       "94378                     0            1                               0   \n",
       "\n",
       "       TypeTravel_Personal Travel  Travel_Class_Eco  \n",
       "0                               0                 0  \n",
       "1                               1                 1  \n",
       "2                               0                 0  \n",
       "3                               0                 0  \n",
       "4                               0                 0  \n",
       "...                           ...               ...  \n",
       "94374                           0                 0  \n",
       "94375                           0                 0  \n",
       "94376                           0                 0  \n",
       "94377                           1                 1  \n",
       "94378                           0                 1  \n",
       "\n",
       "[94379 rows x 80 columns]"
      ]
     },
     "execution_count": 33,
     "metadata": {},
     "output_type": "execute_result"
    }
   ],
   "source": [
    "df_new"
   ]
  },
  {
   "cell_type": "code",
   "execution_count": 34,
   "id": "d5808994",
   "metadata": {},
   "outputs": [],
   "source": [
    "df_new.drop('ID',inplace=True, axis=1)"
   ]
  },
  {
   "cell_type": "code",
   "execution_count": 35,
   "id": "b2fba403",
   "metadata": {},
   "outputs": [],
   "source": [
    "# Copy all the predictor variables into X dataframe. Since 'vote_Labour' is dependent variable drop it\n",
    "X = df_new.drop('Overall_Experience', axis=1)\n",
    "# Copy the 'vote_Labour' column alone into the y dataframe. This is the dependent variable\n",
    "y = df_new[['Overall_Experience']]"
   ]
  },
  {
   "cell_type": "markdown",
   "id": "13401816",
   "metadata": {},
   "source": [
    "# Split the Test data"
   ]
  },
  {
   "cell_type": "code",
   "execution_count": 36,
   "id": "d6ecd33f",
   "metadata": {},
   "outputs": [],
   "source": [
    "X_train,X_test,y_train,y_test=train_test_split(X, y, test_size = 0.30, random_state = 123)"
   ]
  },
  {
   "cell_type": "code",
   "execution_count": 37,
   "id": "dcf7b57d",
   "metadata": {
    "scrolled": true
   },
   "outputs": [
    {
     "data": {
      "text/html": [
       "<div>\n",
       "<style scoped>\n",
       "    .dataframe tbody tr th:only-of-type {\n",
       "        vertical-align: middle;\n",
       "    }\n",
       "\n",
       "    .dataframe tbody tr th {\n",
       "        vertical-align: top;\n",
       "    }\n",
       "\n",
       "    .dataframe thead th {\n",
       "        text-align: right;\n",
       "    }\n",
       "</style>\n",
       "<table border=\"1\" class=\"dataframe\">\n",
       "  <thead>\n",
       "    <tr style=\"text-align: right;\">\n",
       "      <th></th>\n",
       "      <th>Age</th>\n",
       "      <th>Travel_Distance</th>\n",
       "      <th>DepartureDelay_in_Mins</th>\n",
       "      <th>ArrivalDelay_in_Mins</th>\n",
       "      <th>Seat_comfort_excellent</th>\n",
       "      <th>Seat_comfort_extremely poor</th>\n",
       "      <th>Seat_comfort_good</th>\n",
       "      <th>Seat_comfort_need improvement</th>\n",
       "      <th>Seat_comfort_poor</th>\n",
       "      <th>Seat_Class_Ordinary</th>\n",
       "      <th>...</th>\n",
       "      <th>Cleanliness_poor</th>\n",
       "      <th>Online_boarding_excellent</th>\n",
       "      <th>Online_boarding_extremely poor</th>\n",
       "      <th>Online_boarding_good</th>\n",
       "      <th>Online_boarding_need improvement</th>\n",
       "      <th>Online_boarding_poor</th>\n",
       "      <th>Gender_Male</th>\n",
       "      <th>CustomerType_disloyal Customer</th>\n",
       "      <th>TypeTravel_Personal Travel</th>\n",
       "      <th>Travel_Class_Eco</th>\n",
       "    </tr>\n",
       "  </thead>\n",
       "  <tbody>\n",
       "    <tr>\n",
       "      <th>8859</th>\n",
       "      <td>29.0</td>\n",
       "      <td>1778</td>\n",
       "      <td>0.0</td>\n",
       "      <td>0.0</td>\n",
       "      <td>0</td>\n",
       "      <td>0</td>\n",
       "      <td>0</td>\n",
       "      <td>0</td>\n",
       "      <td>0</td>\n",
       "      <td>1</td>\n",
       "      <td>...</td>\n",
       "      <td>0</td>\n",
       "      <td>0</td>\n",
       "      <td>0</td>\n",
       "      <td>1</td>\n",
       "      <td>0</td>\n",
       "      <td>0</td>\n",
       "      <td>1</td>\n",
       "      <td>1</td>\n",
       "      <td>0</td>\n",
       "      <td>1</td>\n",
       "    </tr>\n",
       "    <tr>\n",
       "      <th>22759</th>\n",
       "      <td>46.0</td>\n",
       "      <td>1569</td>\n",
       "      <td>0.0</td>\n",
       "      <td>0.0</td>\n",
       "      <td>0</td>\n",
       "      <td>0</td>\n",
       "      <td>0</td>\n",
       "      <td>1</td>\n",
       "      <td>0</td>\n",
       "      <td>0</td>\n",
       "      <td>...</td>\n",
       "      <td>0</td>\n",
       "      <td>0</td>\n",
       "      <td>0</td>\n",
       "      <td>0</td>\n",
       "      <td>0</td>\n",
       "      <td>0</td>\n",
       "      <td>1</td>\n",
       "      <td>0</td>\n",
       "      <td>1</td>\n",
       "      <td>1</td>\n",
       "    </tr>\n",
       "    <tr>\n",
       "      <th>47025</th>\n",
       "      <td>30.0</td>\n",
       "      <td>1930</td>\n",
       "      <td>0.0</td>\n",
       "      <td>0.0</td>\n",
       "      <td>0</td>\n",
       "      <td>0</td>\n",
       "      <td>0</td>\n",
       "      <td>0</td>\n",
       "      <td>0</td>\n",
       "      <td>0</td>\n",
       "      <td>...</td>\n",
       "      <td>0</td>\n",
       "      <td>1</td>\n",
       "      <td>0</td>\n",
       "      <td>0</td>\n",
       "      <td>0</td>\n",
       "      <td>0</td>\n",
       "      <td>1</td>\n",
       "      <td>0</td>\n",
       "      <td>0</td>\n",
       "      <td>0</td>\n",
       "    </tr>\n",
       "    <tr>\n",
       "      <th>40505</th>\n",
       "      <td>47.0</td>\n",
       "      <td>2121</td>\n",
       "      <td>0.0</td>\n",
       "      <td>10.0</td>\n",
       "      <td>0</td>\n",
       "      <td>0</td>\n",
       "      <td>0</td>\n",
       "      <td>1</td>\n",
       "      <td>0</td>\n",
       "      <td>0</td>\n",
       "      <td>...</td>\n",
       "      <td>0</td>\n",
       "      <td>1</td>\n",
       "      <td>0</td>\n",
       "      <td>0</td>\n",
       "      <td>0</td>\n",
       "      <td>0</td>\n",
       "      <td>1</td>\n",
       "      <td>0</td>\n",
       "      <td>1</td>\n",
       "      <td>1</td>\n",
       "    </tr>\n",
       "    <tr>\n",
       "      <th>7597</th>\n",
       "      <td>13.0</td>\n",
       "      <td>3262</td>\n",
       "      <td>52.0</td>\n",
       "      <td>31.0</td>\n",
       "      <td>0</td>\n",
       "      <td>0</td>\n",
       "      <td>0</td>\n",
       "      <td>1</td>\n",
       "      <td>0</td>\n",
       "      <td>0</td>\n",
       "      <td>...</td>\n",
       "      <td>0</td>\n",
       "      <td>0</td>\n",
       "      <td>0</td>\n",
       "      <td>0</td>\n",
       "      <td>0</td>\n",
       "      <td>0</td>\n",
       "      <td>1</td>\n",
       "      <td>0</td>\n",
       "      <td>1</td>\n",
       "      <td>1</td>\n",
       "    </tr>\n",
       "  </tbody>\n",
       "</table>\n",
       "<p>5 rows × 78 columns</p>\n",
       "</div>"
      ],
      "text/plain": [
       "        Age  Travel_Distance  DepartureDelay_in_Mins  ArrivalDelay_in_Mins  \\\n",
       "8859   29.0             1778                     0.0                   0.0   \n",
       "22759  46.0             1569                     0.0                   0.0   \n",
       "47025  30.0             1930                     0.0                   0.0   \n",
       "40505  47.0             2121                     0.0                  10.0   \n",
       "7597   13.0             3262                    52.0                  31.0   \n",
       "\n",
       "       Seat_comfort_excellent  Seat_comfort_extremely poor  Seat_comfort_good  \\\n",
       "8859                        0                            0                  0   \n",
       "22759                       0                            0                  0   \n",
       "47025                       0                            0                  0   \n",
       "40505                       0                            0                  0   \n",
       "7597                        0                            0                  0   \n",
       "\n",
       "       Seat_comfort_need improvement  Seat_comfort_poor  Seat_Class_Ordinary  \\\n",
       "8859                               0                  0                    1   \n",
       "22759                              1                  0                    0   \n",
       "47025                              0                  0                    0   \n",
       "40505                              1                  0                    0   \n",
       "7597                               1                  0                    0   \n",
       "\n",
       "       ...  Cleanliness_poor  Online_boarding_excellent  \\\n",
       "8859   ...                 0                          0   \n",
       "22759  ...                 0                          0   \n",
       "47025  ...                 0                          1   \n",
       "40505  ...                 0                          1   \n",
       "7597   ...                 0                          0   \n",
       "\n",
       "       Online_boarding_extremely poor  Online_boarding_good  \\\n",
       "8859                                0                     1   \n",
       "22759                               0                     0   \n",
       "47025                               0                     0   \n",
       "40505                               0                     0   \n",
       "7597                                0                     0   \n",
       "\n",
       "       Online_boarding_need improvement  Online_boarding_poor  Gender_Male  \\\n",
       "8859                                  0                     0            1   \n",
       "22759                                 0                     0            1   \n",
       "47025                                 0                     0            1   \n",
       "40505                                 0                     0            1   \n",
       "7597                                  0                     0            1   \n",
       "\n",
       "       CustomerType_disloyal Customer  TypeTravel_Personal Travel  \\\n",
       "8859                                1                           0   \n",
       "22759                               0                           1   \n",
       "47025                               0                           0   \n",
       "40505                               0                           1   \n",
       "7597                                0                           1   \n",
       "\n",
       "       Travel_Class_Eco  \n",
       "8859                  1  \n",
       "22759                 1  \n",
       "47025                 0  \n",
       "40505                 1  \n",
       "7597                  1  \n",
       "\n",
       "[5 rows x 78 columns]"
      ]
     },
     "execution_count": 37,
     "metadata": {},
     "output_type": "execute_result"
    }
   ],
   "source": [
    "X_train.head()"
   ]
  },
  {
   "cell_type": "markdown",
   "id": "4212d8e8",
   "metadata": {},
   "source": [
    "# Encode for future data, whch needs to be predicted"
   ]
  },
  {
   "cell_type": "code",
   "execution_count": 170,
   "id": "63bf0c63",
   "metadata": {},
   "outputs": [
    {
     "name": "stdout",
     "output_type": "stream",
     "text": [
      "Seat_comfort\n",
      "Seat_Class\n",
      "Arrival_time_convenient\n",
      "Catering\n",
      "Platform_location\n",
      "Onboardwifi_service\n",
      "Onboard_entertainment\n",
      "Online_support\n",
      "Onlinebooking_Ease\n",
      "Onboard_service\n",
      "Leg_room\n",
      "Baggage_handling\n",
      "Checkin_service\n",
      "Cleanliness\n",
      "Online_boarding\n",
      "Gender\n",
      "CustomerType\n",
      "TypeTravel\n",
      "Travel_Class\n"
     ]
    }
   ],
   "source": [
    "col_list_test=[]\n",
    "for cols in df_to_predict_copy.columns:\n",
    "    if df_to_predict_copy[cols].dtype=='object':\n",
    "        print(cols)\n",
    "        col_list_test.append(cols)"
   ]
  },
  {
   "cell_type": "code",
   "execution_count": 171,
   "id": "067ed5b9",
   "metadata": {},
   "outputs": [],
   "source": [
    "\n",
    "df_to_predict_new=pd.get_dummies(df_to_predict_copy,columns=col_list_test,drop_first=True)"
   ]
  },
  {
   "cell_type": "code",
   "execution_count": 172,
   "id": "d7d6baa2",
   "metadata": {},
   "outputs": [
    {
     "data": {
      "text/html": [
       "<div>\n",
       "<style scoped>\n",
       "    .dataframe tbody tr th:only-of-type {\n",
       "        vertical-align: middle;\n",
       "    }\n",
       "\n",
       "    .dataframe tbody tr th {\n",
       "        vertical-align: top;\n",
       "    }\n",
       "\n",
       "    .dataframe thead th {\n",
       "        text-align: right;\n",
       "    }\n",
       "</style>\n",
       "<table border=\"1\" class=\"dataframe\">\n",
       "  <thead>\n",
       "    <tr style=\"text-align: right;\">\n",
       "      <th></th>\n",
       "      <th>ID</th>\n",
       "      <th>Age</th>\n",
       "      <th>Travel_Distance</th>\n",
       "      <th>DepartureDelay_in_Mins</th>\n",
       "      <th>ArrivalDelay_in_Mins</th>\n",
       "      <th>Seat_comfort_excellent</th>\n",
       "      <th>Seat_comfort_extremely poor</th>\n",
       "      <th>Seat_comfort_good</th>\n",
       "      <th>Seat_comfort_need improvement</th>\n",
       "      <th>Seat_comfort_poor</th>\n",
       "      <th>...</th>\n",
       "      <th>Cleanliness_poor</th>\n",
       "      <th>Online_boarding_excellent</th>\n",
       "      <th>Online_boarding_extremely poor</th>\n",
       "      <th>Online_boarding_good</th>\n",
       "      <th>Online_boarding_need improvement</th>\n",
       "      <th>Online_boarding_poor</th>\n",
       "      <th>Gender_Male</th>\n",
       "      <th>CustomerType_disloyal Customer</th>\n",
       "      <th>TypeTravel_Personal Travel</th>\n",
       "      <th>Travel_Class_Eco</th>\n",
       "    </tr>\n",
       "  </thead>\n",
       "  <tbody>\n",
       "    <tr>\n",
       "      <th>0</th>\n",
       "      <td>99900001</td>\n",
       "      <td>36.0</td>\n",
       "      <td>532</td>\n",
       "      <td>0.0</td>\n",
       "      <td>0.0</td>\n",
       "      <td>0</td>\n",
       "      <td>0</td>\n",
       "      <td>0</td>\n",
       "      <td>0</td>\n",
       "      <td>0</td>\n",
       "      <td>...</td>\n",
       "      <td>0</td>\n",
       "      <td>0</td>\n",
       "      <td>0</td>\n",
       "      <td>0</td>\n",
       "      <td>0</td>\n",
       "      <td>1</td>\n",
       "      <td>0</td>\n",
       "      <td>0</td>\n",
       "      <td>0</td>\n",
       "      <td>0</td>\n",
       "    </tr>\n",
       "    <tr>\n",
       "      <th>1</th>\n",
       "      <td>99900002</td>\n",
       "      <td>21.0</td>\n",
       "      <td>1425</td>\n",
       "      <td>9.0</td>\n",
       "      <td>28.0</td>\n",
       "      <td>0</td>\n",
       "      <td>1</td>\n",
       "      <td>0</td>\n",
       "      <td>0</td>\n",
       "      <td>0</td>\n",
       "      <td>...</td>\n",
       "      <td>0</td>\n",
       "      <td>0</td>\n",
       "      <td>0</td>\n",
       "      <td>0</td>\n",
       "      <td>0</td>\n",
       "      <td>0</td>\n",
       "      <td>0</td>\n",
       "      <td>1</td>\n",
       "      <td>0</td>\n",
       "      <td>0</td>\n",
       "    </tr>\n",
       "    <tr>\n",
       "      <th>2</th>\n",
       "      <td>99900003</td>\n",
       "      <td>60.0</td>\n",
       "      <td>2832</td>\n",
       "      <td>0.0</td>\n",
       "      <td>0.0</td>\n",
       "      <td>1</td>\n",
       "      <td>0</td>\n",
       "      <td>0</td>\n",
       "      <td>0</td>\n",
       "      <td>0</td>\n",
       "      <td>...</td>\n",
       "      <td>0</td>\n",
       "      <td>1</td>\n",
       "      <td>0</td>\n",
       "      <td>0</td>\n",
       "      <td>0</td>\n",
       "      <td>0</td>\n",
       "      <td>1</td>\n",
       "      <td>0</td>\n",
       "      <td>0</td>\n",
       "      <td>0</td>\n",
       "    </tr>\n",
       "    <tr>\n",
       "      <th>3</th>\n",
       "      <td>99900004</td>\n",
       "      <td>29.0</td>\n",
       "      <td>1352</td>\n",
       "      <td>0.0</td>\n",
       "      <td>0.0</td>\n",
       "      <td>0</td>\n",
       "      <td>0</td>\n",
       "      <td>0</td>\n",
       "      <td>0</td>\n",
       "      <td>0</td>\n",
       "      <td>...</td>\n",
       "      <td>0</td>\n",
       "      <td>0</td>\n",
       "      <td>0</td>\n",
       "      <td>0</td>\n",
       "      <td>0</td>\n",
       "      <td>1</td>\n",
       "      <td>0</td>\n",
       "      <td>0</td>\n",
       "      <td>1</td>\n",
       "      <td>1</td>\n",
       "    </tr>\n",
       "    <tr>\n",
       "      <th>4</th>\n",
       "      <td>99900005</td>\n",
       "      <td>18.0</td>\n",
       "      <td>1610</td>\n",
       "      <td>17.0</td>\n",
       "      <td>0.0</td>\n",
       "      <td>1</td>\n",
       "      <td>0</td>\n",
       "      <td>0</td>\n",
       "      <td>0</td>\n",
       "      <td>0</td>\n",
       "      <td>...</td>\n",
       "      <td>0</td>\n",
       "      <td>1</td>\n",
       "      <td>0</td>\n",
       "      <td>0</td>\n",
       "      <td>0</td>\n",
       "      <td>0</td>\n",
       "      <td>1</td>\n",
       "      <td>1</td>\n",
       "      <td>0</td>\n",
       "      <td>0</td>\n",
       "    </tr>\n",
       "  </tbody>\n",
       "</table>\n",
       "<p>5 rows × 74 columns</p>\n",
       "</div>"
      ],
      "text/plain": [
       "         ID   Age  Travel_Distance  DepartureDelay_in_Mins  \\\n",
       "0  99900001  36.0              532                     0.0   \n",
       "1  99900002  21.0             1425                     9.0   \n",
       "2  99900003  60.0             2832                     0.0   \n",
       "3  99900004  29.0             1352                     0.0   \n",
       "4  99900005  18.0             1610                    17.0   \n",
       "\n",
       "   ArrivalDelay_in_Mins  Seat_comfort_excellent  Seat_comfort_extremely poor  \\\n",
       "0                   0.0                       0                            0   \n",
       "1                  28.0                       0                            1   \n",
       "2                   0.0                       1                            0   \n",
       "3                   0.0                       0                            0   \n",
       "4                   0.0                       1                            0   \n",
       "\n",
       "   Seat_comfort_good  Seat_comfort_need improvement  Seat_comfort_poor  ...  \\\n",
       "0                  0                              0                  0  ...   \n",
       "1                  0                              0                  0  ...   \n",
       "2                  0                              0                  0  ...   \n",
       "3                  0                              0                  0  ...   \n",
       "4                  0                              0                  0  ...   \n",
       "\n",
       "   Cleanliness_poor  Online_boarding_excellent  \\\n",
       "0                 0                          0   \n",
       "1                 0                          0   \n",
       "2                 0                          1   \n",
       "3                 0                          0   \n",
       "4                 0                          1   \n",
       "\n",
       "   Online_boarding_extremely poor  Online_boarding_good  \\\n",
       "0                               0                     0   \n",
       "1                               0                     0   \n",
       "2                               0                     0   \n",
       "3                               0                     0   \n",
       "4                               0                     0   \n",
       "\n",
       "   Online_boarding_need improvement  Online_boarding_poor  Gender_Male  \\\n",
       "0                                 0                     1            0   \n",
       "1                                 0                     0            0   \n",
       "2                                 0                     0            1   \n",
       "3                                 0                     1            0   \n",
       "4                                 0                     0            1   \n",
       "\n",
       "   CustomerType_disloyal Customer  TypeTravel_Personal Travel  \\\n",
       "0                               0                           0   \n",
       "1                               1                           0   \n",
       "2                               0                           0   \n",
       "3                               0                           1   \n",
       "4                               1                           0   \n",
       "\n",
       "   Travel_Class_Eco  \n",
       "0                 0  \n",
       "1                 0  \n",
       "2                 0  \n",
       "3                 1  \n",
       "4                 0  \n",
       "\n",
       "[5 rows x 74 columns]"
      ]
     },
     "execution_count": 172,
     "metadata": {},
     "output_type": "execute_result"
    }
   ],
   "source": [
    "df_to_predict_new.head()"
   ]
  },
  {
   "cell_type": "code",
   "execution_count": 175,
   "id": "9bebaed4",
   "metadata": {},
   "outputs": [],
   "source": [
    "df_to_predict_new.drop(\"ID\",inplace=True, axis=1)"
   ]
  },
  {
   "cell_type": "code",
   "execution_count": 181,
   "id": "b10ad092",
   "metadata": {},
   "outputs": [
    {
     "data": {
      "text/plain": [
       "(73,)"
      ]
     },
     "execution_count": 181,
     "metadata": {},
     "output_type": "execute_result"
    }
   ],
   "source": [
    "df_to_predict_new.columns.shape"
   ]
  },
  {
   "cell_type": "markdown",
   "id": "0d99eba5",
   "metadata": {},
   "source": [
    "# Building a Decision Tree Classifier Model and fit it on the Training Set"
   ]
  },
  {
   "cell_type": "markdown",
   "id": "aeeecc1e",
   "metadata": {},
   "source": [
    "# DTree Predictions on Train data"
   ]
  },
  {
   "cell_type": "code",
   "execution_count": 45,
   "id": "02db4a57",
   "metadata": {},
   "outputs": [],
   "source": [
    "from sklearn.tree import DecisionTreeClassifier"
   ]
  },
  {
   "cell_type": "code",
   "execution_count": 46,
   "id": "a89f4549",
   "metadata": {},
   "outputs": [],
   "source": [
    "dt_model = DecisionTreeClassifier(criterion = 'gini' )"
   ]
  },
  {
   "cell_type": "code",
   "execution_count": 47,
   "id": "84277632",
   "metadata": {},
   "outputs": [
    {
     "data": {
      "text/plain": [
       "DecisionTreeClassifier()"
      ]
     },
     "execution_count": 47,
     "metadata": {},
     "output_type": "execute_result"
    }
   ],
   "source": [
    "dt_model.fit(X_train, y_train)"
   ]
  },
  {
   "cell_type": "code",
   "execution_count": 48,
   "id": "34e00417",
   "metadata": {},
   "outputs": [],
   "source": [
    "prediction_dtc=dt_model.predict(X_test)"
   ]
  },
  {
   "cell_type": "code",
   "execution_count": 51,
   "id": "82e3a892",
   "metadata": {
    "scrolled": false
   },
   "outputs": [
    {
     "name": "stdout",
     "output_type": "stream",
     "text": [
      "Accuracy for DecisionTreeClassifier model is \n",
      " 0.9261142897506534\n",
      "\n",
      "\n",
      "Classification report for DecisionTreeClassifier model is \n",
      "               precision    recall  f1-score   support\n",
      "\n",
      "           0       0.92      0.92      0.92     12773\n",
      "           1       0.93      0.93      0.93     15541\n",
      "\n",
      "    accuracy                           0.93     28314\n",
      "   macro avg       0.93      0.93      0.93     28314\n",
      "weighted avg       0.93      0.93      0.93     28314\n",
      "\n",
      "\n",
      "\n",
      "Confusion Matrix for DecisionTreeClassifier model is\n"
     ]
    },
    {
     "data": {
      "image/png": "[encoded data removed]",
      "text/plain": [
       "<Figure size 432x288 with 1 Axes>"
      ]
     },
     "metadata": {
      "needs_background": "light"
     },
     "output_type": "display_data"
    }
   ],
   "source": [
    "models_names={dt_model:'DecisionTreeClassifier'}\n",
    "\n",
    "print('Accuracy for {} model is'.format(models_names[dt_model]),'\\n',accuracy_score(y_test,prediction_dtc))\n",
    "print('\\n')\n",
    "print('Classification report for {} model is'.format(models_names[dt_model]),'\\n',classification_report(y_test,prediction_dtc))\n",
    "print('\\n')\n",
    "print('Confusion Matrix for {} model is'.format(models_names[dt_model]))\n",
    "sns.heatmap(confusion_matrix(y_test,prediction_dtc),annot=True,fmt='d',cbar=False)\n",
    "plt.title('Confusion Matrix for {}'.format(models_names[dt_model]))\n",
    "plt.xlabel('Predicted Label')\n",
    "plt.ylabel('Actual Label')\n",
    "plt.show()"
   ]
  },
  {
   "cell_type": "code",
   "execution_count": 52,
   "id": "d2eef797",
   "metadata": {},
   "outputs": [
    {
     "name": "stdout",
     "output_type": "stream",
     "text": [
      "                                          Imp\n",
      "Onboard_entertainment_excellent      0.198919\n",
      "Onboard_entertainment_good           0.193254\n",
      "Seat_comfort_excellent               0.071538\n",
      "Seat_comfort_extremely poor          0.059409\n",
      "Seat_comfort_good                    0.042609\n",
      "...                                       ...\n",
      "Online_support_extremely poor        0.000000\n",
      "Onboardwifi_service_extremely poor   0.000000\n",
      "Onboard_service_extremely poor       0.000000\n",
      "Checkin_service_extremely poor       0.000000\n",
      "Platform_location_very inconvinient  0.000000\n",
      "\n",
      "[78 rows x 1 columns]\n"
     ]
    }
   ],
   "source": [
    "print(pd.DataFrame(dt_model.feature_importances_,\n",
    "                 columns=[\"Imp\"],\n",
    "                 index=pd.DataFrame(X_train).columns).sort_values('Imp', ascending=False))"
   ]
  },
  {
   "cell_type": "code",
   "execution_count": 55,
   "id": "394a1c87",
   "metadata": {},
   "outputs": [
    {
     "data": {
      "image/png": "[encoded data removed]",
      "text/plain": [
       "<Figure size 2160x1440 with 1 Axes>"
      ]
     },
     "metadata": {
      "needs_background": "light"
     },
     "output_type": "display_data"
    }
   ],
   "source": [
    "##Print Feature Importances\n",
    "x=pd.DataFrame(dt_model.feature_importances_*100,index=pd.DataFrame(X_train).columns).sort_values(by=0,ascending=False)\n",
    "plt.figure(figsize=(30,20))\n",
    "sns.barplot(x[0],x.index,palette='rainbow')\n",
    "plt.ylabel('Feature Name')\n",
    "plt.xlabel('Feature Importance in %')\n",
    "plt.title('Feature Importance Plot')\n",
    "plt.show()"
   ]
  },
  {
   "cell_type": "code",
   "execution_count": null,
   "id": "69f36f0d",
   "metadata": {},
   "outputs": [],
   "source": []
  },
  {
   "cell_type": "markdown",
   "id": "d170d172",
   "metadata": {},
   "source": [
    "# Building a Random Forest Classifier Model and fit it on the Training Set"
   ]
  },
  {
   "cell_type": "code",
   "execution_count": 57,
   "id": "b1f39e82",
   "metadata": {},
   "outputs": [],
   "source": [
    "rfc=RandomForestClassifier(random_state=123)"
   ]
  },
  {
   "cell_type": "code",
   "execution_count": 58,
   "id": "5c2d9a2b",
   "metadata": {},
   "outputs": [
    {
     "data": {
      "text/plain": [
       "RandomForestClassifier(random_state=123)"
      ]
     },
     "execution_count": 58,
     "metadata": {},
     "output_type": "execute_result"
    }
   ],
   "source": [
    "rfc.fit(X_train,y_train)"
   ]
  },
  {
   "cell_type": "code",
   "execution_count": 59,
   "id": "58dde023",
   "metadata": {},
   "outputs": [],
   "source": [
    "prediction_rfc=rfc.predict(X_test)"
   ]
  },
  {
   "cell_type": "code",
   "execution_count": 60,
   "id": "c17e8ea2",
   "metadata": {},
   "outputs": [
    {
     "name": "stdout",
     "output_type": "stream",
     "text": [
      "Accuracy for RandomForestClassifier model is \n",
      " 0.9495302677120859\n",
      "\n",
      "\n",
      "Classification report for RandomForestClassifier model is \n",
      "               precision    recall  f1-score   support\n",
      "\n",
      "           0       0.93      0.96      0.94     12773\n",
      "           1       0.96      0.94      0.95     15541\n",
      "\n",
      "    accuracy                           0.95     28314\n",
      "   macro avg       0.95      0.95      0.95     28314\n",
      "weighted avg       0.95      0.95      0.95     28314\n",
      "\n",
      "\n",
      "\n",
      "Confusion Matrix for RandomForestClassifier model is\n"
     ]
    },
    {
     "data": {
      "image/png": "[encoded data removed]",
      "text/plain": [
       "<Figure size 432x288 with 1 Axes>"
      ]
     },
     "metadata": {
      "needs_background": "light"
     },
     "output_type": "display_data"
    }
   ],
   "source": [
    "models_names={dtc:'DecisionTreeClassifier',rfc:'RandomForestClassifier'}\n",
    "\n",
    "print('Accuracy for {} model is'.format(models_names[rfc]),'\\n',accuracy_score(y_test,prediction_rfc))\n",
    "print('\\n')\n",
    "print('Classification report for {} model is'.format(models_names[rfc]),'\\n',classification_report(y_test,prediction_rfc))\n",
    "print('\\n')\n",
    "print('Confusion Matrix for {} model is'.format(models_names[rfc]))\n",
    "sns.heatmap(confusion_matrix(y_test,prediction_rfc),annot=True,fmt='d',cbar=False)\n",
    "plt.title('Confusion Matrix for {}'.format(models_names[rfc]))\n",
    "plt.xlabel('Predicted Label')\n",
    "plt.ylabel('Actual Label')\n",
    "plt.show()"
   ]
  },
  {
   "cell_type": "markdown",
   "id": "4a299000",
   "metadata": {},
   "source": [
    "# Building an ANN Model and fit it on the Training Set"
   ]
  },
  {
   "cell_type": "code",
   "execution_count": 65,
   "id": "2cad8ba9",
   "metadata": {},
   "outputs": [],
   "source": [
    "mlp=MLPClassifier(hidden_layer_sizes=(200),solver='sgd',random_state=0,max_iter=500)"
   ]
  },
  {
   "cell_type": "code",
   "execution_count": 66,
   "id": "af7bc965",
   "metadata": {},
   "outputs": [
    {
     "data": {
      "text/plain": [
       "MLPClassifier(hidden_layer_sizes=200, max_iter=500, random_state=0,\n",
       "              solver='sgd')"
      ]
     },
     "execution_count": 66,
     "metadata": {},
     "output_type": "execute_result"
    }
   ],
   "source": [
    "mlp.fit(X_train,y_train)"
   ]
  },
  {
   "cell_type": "code",
   "execution_count": 67,
   "id": "6463b11e",
   "metadata": {},
   "outputs": [],
   "source": [
    "prediction_ann=mlp.predict(X_test)"
   ]
  },
  {
   "cell_type": "code",
   "execution_count": 68,
   "id": "82ffff8b",
   "metadata": {},
   "outputs": [
    {
     "name": "stdout",
     "output_type": "stream",
     "text": [
      "Accuracy for ANN model is \n",
      " 0.548421275694003\n",
      "\n",
      "\n",
      "Classification report for ANN model is \n",
      "               precision    recall  f1-score   support\n",
      "\n",
      "           0       0.19      0.00      0.00     12773\n",
      "           1       0.55      1.00      0.71     15541\n",
      "\n",
      "    accuracy                           0.55     28314\n",
      "   macro avg       0.37      0.50      0.35     28314\n",
      "weighted avg       0.39      0.55      0.39     28314\n",
      "\n",
      "\n",
      "\n",
      "Confusion Matrix for ANN model is\n"
     ]
    },
    {
     "data": {
      "image/png": "[encoded data removed]",
      "text/plain": [
       "<Figure size 432x288 with 1 Axes>"
      ]
     },
     "metadata": {
      "needs_background": "light"
     },
     "output_type": "display_data"
    }
   ],
   "source": [
    "models_names={dtc:'DecisionTreeClassifier',rfc:'RandomForestClassifier',mlp:'ANN'}\n",
    "\n",
    "print('Accuracy for {} model is'.format(models_names[mlp]),'\\n',accuracy_score(y_test,prediction_ann))\n",
    "print('\\n')\n",
    "print('Classification report for {} model is'.format(models_names[mlp]),'\\n',classification_report(y_test,prediction_ann))\n",
    "print('\\n')\n",
    "print('Confusion Matrix for {} model is'.format(models_names[mlp]))\n",
    "sns.heatmap(confusion_matrix(y_test,prediction_ann),annot=True,fmt='d',cbar=False)\n",
    "plt.title('Confusion Matrix for {}'.format(models_names[mlp]))\n",
    "plt.xlabel('Predicted Label')\n",
    "plt.ylabel('Actual Label')\n",
    "plt.show()"
   ]
  },
  {
   "cell_type": "markdown",
   "id": "7483dd7d",
   "metadata": {},
   "source": [
    "# Perform Logistic Regression"
   ]
  },
  {
   "cell_type": "code",
   "execution_count": 72,
   "id": "91e488b4",
   "metadata": {},
   "outputs": [],
   "source": [
    "from sklearn.linear_model import LogisticRegression\n",
    "from sklearn import metrics"
   ]
  },
  {
   "cell_type": "code",
   "execution_count": 73,
   "id": "86a1cd9b",
   "metadata": {},
   "outputs": [
    {
     "data": {
      "text/html": [
       "<div>\n",
       "<style scoped>\n",
       "    .dataframe tbody tr th:only-of-type {\n",
       "        vertical-align: middle;\n",
       "    }\n",
       "\n",
       "    .dataframe tbody tr th {\n",
       "        vertical-align: top;\n",
       "    }\n",
       "\n",
       "    .dataframe thead th {\n",
       "        text-align: right;\n",
       "    }\n",
       "</style>\n",
       "<table border=\"1\" class=\"dataframe\">\n",
       "  <thead>\n",
       "    <tr style=\"text-align: right;\">\n",
       "      <th></th>\n",
       "      <th>Age</th>\n",
       "      <th>Travel_Distance</th>\n",
       "      <th>DepartureDelay_in_Mins</th>\n",
       "      <th>ArrivalDelay_in_Mins</th>\n",
       "      <th>Seat_comfort_excellent</th>\n",
       "      <th>Seat_comfort_extremely poor</th>\n",
       "      <th>Seat_comfort_good</th>\n",
       "      <th>Seat_comfort_need improvement</th>\n",
       "      <th>Seat_comfort_poor</th>\n",
       "      <th>Seat_Class_Ordinary</th>\n",
       "      <th>...</th>\n",
       "      <th>Cleanliness_poor</th>\n",
       "      <th>Online_boarding_excellent</th>\n",
       "      <th>Online_boarding_extremely poor</th>\n",
       "      <th>Online_boarding_good</th>\n",
       "      <th>Online_boarding_need improvement</th>\n",
       "      <th>Online_boarding_poor</th>\n",
       "      <th>Gender_Male</th>\n",
       "      <th>CustomerType_disloyal Customer</th>\n",
       "      <th>TypeTravel_Personal Travel</th>\n",
       "      <th>Travel_Class_Eco</th>\n",
       "    </tr>\n",
       "  </thead>\n",
       "  <tbody>\n",
       "    <tr>\n",
       "      <th>8859</th>\n",
       "      <td>29.0</td>\n",
       "      <td>1778</td>\n",
       "      <td>0.0</td>\n",
       "      <td>0.0</td>\n",
       "      <td>0</td>\n",
       "      <td>0</td>\n",
       "      <td>0</td>\n",
       "      <td>0</td>\n",
       "      <td>0</td>\n",
       "      <td>1</td>\n",
       "      <td>...</td>\n",
       "      <td>0</td>\n",
       "      <td>0</td>\n",
       "      <td>0</td>\n",
       "      <td>1</td>\n",
       "      <td>0</td>\n",
       "      <td>0</td>\n",
       "      <td>1</td>\n",
       "      <td>1</td>\n",
       "      <td>0</td>\n",
       "      <td>1</td>\n",
       "    </tr>\n",
       "    <tr>\n",
       "      <th>22759</th>\n",
       "      <td>46.0</td>\n",
       "      <td>1569</td>\n",
       "      <td>0.0</td>\n",
       "      <td>0.0</td>\n",
       "      <td>0</td>\n",
       "      <td>0</td>\n",
       "      <td>0</td>\n",
       "      <td>1</td>\n",
       "      <td>0</td>\n",
       "      <td>0</td>\n",
       "      <td>...</td>\n",
       "      <td>0</td>\n",
       "      <td>0</td>\n",
       "      <td>0</td>\n",
       "      <td>0</td>\n",
       "      <td>0</td>\n",
       "      <td>0</td>\n",
       "      <td>1</td>\n",
       "      <td>0</td>\n",
       "      <td>1</td>\n",
       "      <td>1</td>\n",
       "    </tr>\n",
       "    <tr>\n",
       "      <th>47025</th>\n",
       "      <td>30.0</td>\n",
       "      <td>1930</td>\n",
       "      <td>0.0</td>\n",
       "      <td>0.0</td>\n",
       "      <td>0</td>\n",
       "      <td>0</td>\n",
       "      <td>0</td>\n",
       "      <td>0</td>\n",
       "      <td>0</td>\n",
       "      <td>0</td>\n",
       "      <td>...</td>\n",
       "      <td>0</td>\n",
       "      <td>1</td>\n",
       "      <td>0</td>\n",
       "      <td>0</td>\n",
       "      <td>0</td>\n",
       "      <td>0</td>\n",
       "      <td>1</td>\n",
       "      <td>0</td>\n",
       "      <td>0</td>\n",
       "      <td>0</td>\n",
       "    </tr>\n",
       "    <tr>\n",
       "      <th>40505</th>\n",
       "      <td>47.0</td>\n",
       "      <td>2121</td>\n",
       "      <td>0.0</td>\n",
       "      <td>10.0</td>\n",
       "      <td>0</td>\n",
       "      <td>0</td>\n",
       "      <td>0</td>\n",
       "      <td>1</td>\n",
       "      <td>0</td>\n",
       "      <td>0</td>\n",
       "      <td>...</td>\n",
       "      <td>0</td>\n",
       "      <td>1</td>\n",
       "      <td>0</td>\n",
       "      <td>0</td>\n",
       "      <td>0</td>\n",
       "      <td>0</td>\n",
       "      <td>1</td>\n",
       "      <td>0</td>\n",
       "      <td>1</td>\n",
       "      <td>1</td>\n",
       "    </tr>\n",
       "    <tr>\n",
       "      <th>7597</th>\n",
       "      <td>13.0</td>\n",
       "      <td>3262</td>\n",
       "      <td>52.0</td>\n",
       "      <td>31.0</td>\n",
       "      <td>0</td>\n",
       "      <td>0</td>\n",
       "      <td>0</td>\n",
       "      <td>1</td>\n",
       "      <td>0</td>\n",
       "      <td>0</td>\n",
       "      <td>...</td>\n",
       "      <td>0</td>\n",
       "      <td>0</td>\n",
       "      <td>0</td>\n",
       "      <td>0</td>\n",
       "      <td>0</td>\n",
       "      <td>0</td>\n",
       "      <td>1</td>\n",
       "      <td>0</td>\n",
       "      <td>1</td>\n",
       "      <td>1</td>\n",
       "    </tr>\n",
       "  </tbody>\n",
       "</table>\n",
       "<p>5 rows × 78 columns</p>\n",
       "</div>"
      ],
      "text/plain": [
       "        Age  Travel_Distance  DepartureDelay_in_Mins  ArrivalDelay_in_Mins  \\\n",
       "8859   29.0             1778                     0.0                   0.0   \n",
       "22759  46.0             1569                     0.0                   0.0   \n",
       "47025  30.0             1930                     0.0                   0.0   \n",
       "40505  47.0             2121                     0.0                  10.0   \n",
       "7597   13.0             3262                    52.0                  31.0   \n",
       "\n",
       "       Seat_comfort_excellent  Seat_comfort_extremely poor  Seat_comfort_good  \\\n",
       "8859                        0                            0                  0   \n",
       "22759                       0                            0                  0   \n",
       "47025                       0                            0                  0   \n",
       "40505                       0                            0                  0   \n",
       "7597                        0                            0                  0   \n",
       "\n",
       "       Seat_comfort_need improvement  Seat_comfort_poor  Seat_Class_Ordinary  \\\n",
       "8859                               0                  0                    1   \n",
       "22759                              1                  0                    0   \n",
       "47025                              0                  0                    0   \n",
       "40505                              1                  0                    0   \n",
       "7597                               1                  0                    0   \n",
       "\n",
       "       ...  Cleanliness_poor  Online_boarding_excellent  \\\n",
       "8859   ...                 0                          0   \n",
       "22759  ...                 0                          0   \n",
       "47025  ...                 0                          1   \n",
       "40505  ...                 0                          1   \n",
       "7597   ...                 0                          0   \n",
       "\n",
       "       Online_boarding_extremely poor  Online_boarding_good  \\\n",
       "8859                                0                     1   \n",
       "22759                               0                     0   \n",
       "47025                               0                     0   \n",
       "40505                               0                     0   \n",
       "7597                                0                     0   \n",
       "\n",
       "       Online_boarding_need improvement  Online_boarding_poor  Gender_Male  \\\n",
       "8859                                  0                     0            1   \n",
       "22759                                 0                     0            1   \n",
       "47025                                 0                     0            1   \n",
       "40505                                 0                     0            1   \n",
       "7597                                  0                     0            1   \n",
       "\n",
       "       CustomerType_disloyal Customer  TypeTravel_Personal Travel  \\\n",
       "8859                                1                           0   \n",
       "22759                               0                           1   \n",
       "47025                               0                           0   \n",
       "40505                               0                           1   \n",
       "7597                                0                           1   \n",
       "\n",
       "       Travel_Class_Eco  \n",
       "8859                  1  \n",
       "22759                 1  \n",
       "47025                 0  \n",
       "40505                 1  \n",
       "7597                  1  \n",
       "\n",
       "[5 rows x 78 columns]"
      ]
     },
     "execution_count": 73,
     "metadata": {},
     "output_type": "execute_result"
    }
   ],
   "source": [
    "X_train.head()"
   ]
  },
  {
   "cell_type": "code",
   "execution_count": 87,
   "id": "78795a21",
   "metadata": {},
   "outputs": [],
   "source": [
    "#Applying GridSearchCV\n",
    "grid={'penalty':['l1'],\n",
    "      'solver':['liblinear'],\n",
    "      'tol':[0.01]}"
   ]
  },
  {
   "cell_type": "code",
   "execution_count": 88,
   "id": "1e630403",
   "metadata": {},
   "outputs": [],
   "source": [
    "logistic_model = LogisticRegression(max_iter=100000,n_jobs=2)"
   ]
  },
  {
   "cell_type": "code",
   "execution_count": 89,
   "id": "4b2722c0",
   "metadata": {},
   "outputs": [],
   "source": [
    "grid_search_logit = GridSearchCV(estimator = logistic_model, param_grid = grid, cv = 3,n_jobs=-1,scoring='f1')"
   ]
  },
  {
   "cell_type": "code",
   "execution_count": 90,
   "id": "aaf2f1e3",
   "metadata": {},
   "outputs": [
    {
     "data": {
      "text/plain": [
       "GridSearchCV(cv=3, estimator=LogisticRegression(max_iter=100000, n_jobs=2),\n",
       "             n_jobs=-1,\n",
       "             param_grid={'penalty': ['l1'], 'solver': ['liblinear'],\n",
       "                         'tol': [0.01]},\n",
       "             scoring='f1')"
      ]
     },
     "execution_count": 90,
     "metadata": {},
     "output_type": "execute_result"
    }
   ],
   "source": [
    "grid_search_logit.fit(X_train, y_train)"
   ]
  },
  {
   "cell_type": "code",
   "execution_count": 91,
   "id": "d0c20c64",
   "metadata": {},
   "outputs": [
    {
     "name": "stdout",
     "output_type": "stream",
     "text": [
      "{'penalty': 'l1', 'solver': 'liblinear', 'tol': 0.01} \n",
      "\n",
      "LogisticRegression(max_iter=100000, n_jobs=2, penalty='l1', solver='liblinear',\n",
      "                   tol=0.01)\n"
     ]
    }
   ],
   "source": [
    "print(grid_search_logit.best_params_,'\\n')\n",
    "print(grid_search_logit.best_estimator_)"
   ]
  },
  {
   "cell_type": "code",
   "execution_count": 92,
   "id": "231bc5b9",
   "metadata": {},
   "outputs": [],
   "source": [
    "best_model_logit = grid_search_logit.best_estimator_"
   ]
  },
  {
   "cell_type": "code",
   "execution_count": 93,
   "id": "1061c088",
   "metadata": {},
   "outputs": [
    {
     "data": {
      "text/plain": [
       "array([0, 1, 1, ..., 1, 0, 1], dtype=int64)"
      ]
     },
     "execution_count": 93,
     "metadata": {},
     "output_type": "execute_result"
    }
   ],
   "source": [
    "# Prediction on the training set\n",
    "y_test_predict_logit = best_model_logit.predict(X_test)\n",
    "y_test_predict_logit"
   ]
  },
  {
   "cell_type": "code",
   "execution_count": 94,
   "id": "37c5b654",
   "metadata": {},
   "outputs": [
    {
     "name": "stdout",
     "output_type": "stream",
     "text": [
      "Accuracy of the Logistic Regression Model is  0.9019213110122201 \n",
      "\n",
      "Confusion Matrix \n",
      " [[11475  1298]\n",
      " [ 1479 14062]] \n",
      "\n",
      "Classification Report \n",
      "               precision    recall  f1-score   support\n",
      "\n",
      "           0       0.89      0.90      0.89     12773\n",
      "           1       0.92      0.90      0.91     15541\n",
      "\n",
      "    accuracy                           0.90     28314\n",
      "   macro avg       0.90      0.90      0.90     28314\n",
      "weighted avg       0.90      0.90      0.90     28314\n",
      "\n"
     ]
    },
    {
     "data": {
      "text/plain": [
       "<sklearn.metrics._plot.confusion_matrix.ConfusionMatrixDisplay at 0x1daa8e44d30>"
      ]
     },
     "execution_count": 94,
     "metadata": {},
     "output_type": "execute_result"
    },
    {
     "data": {
      "image/png": "[encoded data removed]",
      "text/plain": [
       "<Figure size 432x288 with 2 Axes>"
      ]
     },
     "metadata": {
      "needs_background": "light"
     },
     "output_type": "display_data"
    }
   ],
   "source": [
    "## Generate the Confusion Matrix and Classification Report for Test data set\n",
    "print('Accuracy of the Logistic Regression Model is ',best_model_logit.score(X_test, y_test), '\\n')\n",
    "print('Confusion Matrix','\\n',metrics.confusion_matrix(y_test, y_test_predict_logit),'\\n')\n",
    "print('Classification Report','\\n',metrics.classification_report(y_test, y_test_predict_logit))\n",
    "plot_confusion_matrix(best_model_logit,X_test,y_test)"
   ]
  },
  {
   "cell_type": "code",
   "execution_count": null,
   "id": "c9765e9c",
   "metadata": {},
   "outputs": [],
   "source": []
  },
  {
   "cell_type": "code",
   "execution_count": null,
   "id": "e5c818c1",
   "metadata": {},
   "outputs": [],
   "source": []
  },
  {
   "cell_type": "markdown",
   "id": "1bbf2d94",
   "metadata": {},
   "source": [
    "# Perform LDA"
   ]
  },
  {
   "cell_type": "code",
   "execution_count": 95,
   "id": "8f4f5cdd",
   "metadata": {},
   "outputs": [],
   "source": [
    "from sklearn.discriminant_analysis import LinearDiscriminantAnalysis"
   ]
  },
  {
   "cell_type": "code",
   "execution_count": 96,
   "id": "5c834f82",
   "metadata": {},
   "outputs": [],
   "source": [
    "#Building a LDA Model\n",
    "clf = LinearDiscriminantAnalysis()\n",
    "model_lda=clf.fit(X_train,y_train)"
   ]
  },
  {
   "cell_type": "code",
   "execution_count": 97,
   "id": "618db7c8",
   "metadata": {},
   "outputs": [
    {
     "data": {
      "text/plain": [
       "array([0, 1, 1, ..., 1, 0, 1], dtype=int64)"
      ]
     },
     "execution_count": 97,
     "metadata": {},
     "output_type": "execute_result"
    }
   ],
   "source": [
    "# Test data class Prediction, cut-off value = 0.5\n",
    "y_predict_test_LDA = model_lda.predict(X_test)\n",
    "y_predict_test_LDA"
   ]
  },
  {
   "cell_type": "code",
   "execution_count": 98,
   "id": "38ca81fc",
   "metadata": {},
   "outputs": [
    {
     "data": {
      "text/plain": [
       "array([[9.95662427e-01, 4.33757260e-03],\n",
       "       [5.16101992e-04, 9.99483898e-01],\n",
       "       [5.57146811e-02, 9.44285319e-01]])"
      ]
     },
     "execution_count": 98,
     "metadata": {},
     "output_type": "execute_result"
    }
   ],
   "source": [
    "# Training data probability prediction\n",
    "y_pred_test_LDA_prob = model_lda.predict_proba(X_test)\n",
    "## sample record first 3 rows\n",
    "y_pred_test_LDA_prob[:3,:]"
   ]
  },
  {
   "cell_type": "code",
   "execution_count": 100,
   "id": "dec0ffdf",
   "metadata": {},
   "outputs": [
    {
     "name": "stdout",
     "output_type": "stream",
     "text": [
      "Accuracy of the LDA Model is  0.8950342586706224 \n",
      "\n",
      "Confusion Matrix \n",
      " [[11330  1443]\n",
      " [ 1529 14012]] \n",
      "\n",
      "Classification Report \n",
      "               precision    recall  f1-score   support\n",
      "\n",
      "           0       0.88      0.89      0.88     12773\n",
      "           1       0.91      0.90      0.90     15541\n",
      "\n",
      "    accuracy                           0.90     28314\n",
      "   macro avg       0.89      0.89      0.89     28314\n",
      "weighted avg       0.90      0.90      0.90     28314\n",
      "\n"
     ]
    },
    {
     "data": {
      "text/plain": [
       "<sklearn.metrics._plot.confusion_matrix.ConfusionMatrixDisplay at 0x1daa8e56160>"
      ]
     },
     "execution_count": 100,
     "metadata": {},
     "output_type": "execute_result"
    },
    {
     "data": {
      "image/png": "[encoded data removed]",
      "text/plain": [
       "<Figure size 432x288 with 2 Axes>"
      ]
     },
     "metadata": {
      "needs_background": "light"
     },
     "output_type": "display_data"
    }
   ],
   "source": [
    "# Generate the Confusion Matrix and Classification Report for Test data set\n",
    "print('Accuracy of the LDA Model is ',model_lda.score(X_test, y_test), '\\n')\n",
    "print('Confusion Matrix','\\n',metrics.confusion_matrix(y_test, y_predict_test_LDA),'\\n')\n",
    "print('Classification Report','\\n',metrics.classification_report(y_test, y_predict_test_LDA))\n",
    "plot_confusion_matrix(model_lda,X_test,y_test)"
   ]
  },
  {
   "cell_type": "code",
   "execution_count": null,
   "id": "1e959f7c",
   "metadata": {},
   "outputs": [],
   "source": []
  },
  {
   "cell_type": "markdown",
   "id": "f7ab3770",
   "metadata": {},
   "source": [
    "# Perform KNN Model"
   ]
  },
  {
   "cell_type": "code",
   "execution_count": 101,
   "id": "d9c074f4",
   "metadata": {},
   "outputs": [],
   "source": [
    "from sklearn.neighbors import KNeighborsClassifier\n",
    "from sklearn.preprocessing import StandardScaler"
   ]
  },
  {
   "cell_type": "code",
   "execution_count": 102,
   "id": "200b0215",
   "metadata": {},
   "outputs": [],
   "source": [
    "clfKNN=KNeighborsClassifier()\n",
    "model_KNN = clfKNN.fit(X_train,y_train)"
   ]
  },
  {
   "cell_type": "code",
   "execution_count": 103,
   "id": "13502591",
   "metadata": {},
   "outputs": [
    {
     "data": {
      "text/plain": [
       "array([0, 1, 0, ..., 1, 0, 0], dtype=int64)"
      ]
     },
     "execution_count": 103,
     "metadata": {},
     "output_type": "execute_result"
    }
   ],
   "source": [
    "# Training data class Prediction, cut-off value = 0.5\n",
    "y_predict_train_KNN = model_KNN.predict(X_train)\n",
    "y_predict_train_KNN"
   ]
  },
  {
   "cell_type": "code",
   "execution_count": 104,
   "id": "a5162235",
   "metadata": {},
   "outputs": [
    {
     "data": {
      "text/plain": [
       "array([0, 1, 1, ..., 1, 0, 1], dtype=int64)"
      ]
     },
     "execution_count": 104,
     "metadata": {},
     "output_type": "execute_result"
    }
   ],
   "source": [
    "# Test data class Prediction, cut-off value = 0.5\n",
    "y_predict_test_KNN = model_KNN.predict(X_test)\n",
    "y_predict_test_KNN"
   ]
  },
  {
   "cell_type": "code",
   "execution_count": 105,
   "id": "e498aa16",
   "metadata": {},
   "outputs": [
    {
     "data": {
      "text/plain": [
       "array([[0.8, 0.2],\n",
       "       [0.4, 0.6],\n",
       "       [0.4, 0.6],\n",
       "       ...,\n",
       "       [0.2, 0.8],\n",
       "       [0.6, 0.4],\n",
       "       [0.4, 0.6]])"
      ]
     },
     "execution_count": 105,
     "metadata": {},
     "output_type": "execute_result"
    }
   ],
   "source": [
    "# Training data probability prediction\n",
    "y_pred_test_KNN_prob = model_KNN.predict_proba(X_test)\n",
    "y_pred_test_KNN_prob"
   ]
  },
  {
   "cell_type": "code",
   "execution_count": 106,
   "id": "ee522254",
   "metadata": {},
   "outputs": [
    {
     "name": "stdout",
     "output_type": "stream",
     "text": [
      "AUC for testing data for KNN Model is : 0.649\n"
     ]
    },
    {
     "data": {
      "text/plain": [
       "Text(0, 0.5, 'True Positive Rate')"
      ]
     },
     "execution_count": 106,
     "metadata": {},
     "output_type": "execute_result"
    },
    {
     "data": {
      "image/png": "[encoded data removed]",
      "text/plain": [
       "<Figure size 432x288 with 1 Axes>"
      ]
     },
     "metadata": {
      "needs_background": "light"
     },
     "output_type": "display_data"
    }
   ],
   "source": [
    "# predict probabilities for testing data set\n",
    "y_test_predict_KNN_prob = model_KNN.predict_proba(X_test)\n",
    "# keep probabilities for the positive outcome only\n",
    "y_test_predict_KNN_prob = y_test_predict_KNN_prob[:, 1]\n",
    "# calculate AUC\n",
    "KNN_test_auc = roc_auc_score(y_test, y_test_predict_KNN_prob)\n",
    "print('AUC for testing data for KNN Model is : %.3f' % KNN_test_auc)\n",
    "# calculate roc curve\n",
    "KNN_test_fpr, KNN_test_tpr, KNN_test_thresholds = roc_curve(y_test, y_test_predict_KNN_prob)\n",
    "plt.plot([0, 1], [0, 1], linestyle='--')\n",
    "# plot the roc curve for the model\n",
    "plt.plot(KNN_test_fpr, KNN_test_tpr)\n",
    "plt.xlabel('False Positive Rate')\n",
    "plt.ylabel('True Positive Rate')"
   ]
  },
  {
   "cell_type": "markdown",
   "id": "035c9477",
   "metadata": {},
   "source": [
    "# KNN with different K values"
   ]
  },
  {
   "cell_type": "code",
   "execution_count": 107,
   "id": "f4239c3d",
   "metadata": {},
   "outputs": [
    {
     "data": {
      "text/plain": [
       "[0.39086670904852727,\n",
       " 0.38560429469520374,\n",
       " 0.3821077911987003,\n",
       " 0.38020060747333473,\n",
       " 0.38277883732429185,\n",
       " 0.38189588189588186,\n",
       " 0.3822137458501095,\n",
       " 0.38235501871865507,\n",
       " 0.38154269972451793,\n",
       " 0.3822490640672459]"
      ]
     },
     "execution_count": 107,
     "metadata": {},
     "output_type": "execute_result"
    }
   ],
   "source": [
    "# Create empty list that will hold accuracy scores\n",
    "ac_scores = []\n",
    "\n",
    "# perform accuracy metrics for values from 1,3,5....19\n",
    "for k in range(1,20,2):\n",
    "    knn = KNeighborsClassifier(n_neighbors=k)\n",
    "    knn.fit(X_train, y_train)\n",
    "    # evaluate test accuracy\n",
    "    scores = knn.score(X_test, y_test)\n",
    "    ac_scores.append(scores)\n",
    "\n",
    "# changing to misclassification error\n",
    "MCE = [1 - x for x in ac_scores]\n",
    "MCE"
   ]
  },
  {
   "cell_type": "code",
   "execution_count": 108,
   "id": "8ea47cd7",
   "metadata": {},
   "outputs": [
    {
     "data": {
      "image/png": "[encoded data removed]",
      "text/plain": [
       "<Figure size 432x288 with 1 Axes>"
      ]
     },
     "metadata": {
      "needs_background": "light"
     },
     "output_type": "display_data"
    }
   ],
   "source": [
    "import matplotlib.pyplot as plt\n",
    "# plot misclassification error vs k\n",
    "plt.plot(range(1,20,2), MCE)\n",
    "plt.xlabel('Number of Neighbors K')\n",
    "plt.ylabel('Misclassification Error')\n",
    "plt.show()"
   ]
  },
  {
   "cell_type": "code",
   "execution_count": 118,
   "id": "180ceebb",
   "metadata": {},
   "outputs": [],
   "source": [
    "from sklearn.neighbors import KNeighborsClassifier\n",
    "\n",
    "KNN_model=KNeighborsClassifier(n_neighbors=7)\n",
    "model_KNN_7 = KNN_model.fit(X_train,y_train)"
   ]
  },
  {
   "cell_type": "code",
   "execution_count": 122,
   "id": "96361bff",
   "metadata": {},
   "outputs": [
    {
     "name": "stdout",
     "output_type": "stream",
     "text": [
      "Classification report for Test data is as follows:\n",
      "              precision    recall  f1-score   support\n",
      "\n",
      "           0       0.58      0.55      0.56     12773\n",
      "           1       0.65      0.68      0.66     15541\n",
      "\n",
      "    accuracy                           0.62     28314\n",
      "   macro avg       0.61      0.61      0.61     28314\n",
      "weighted avg       0.62      0.62      0.62     28314\n",
      "\n"
     ]
    },
    {
     "data": {
      "image/png": "[encoded data removed]",
      "text/plain": [
       "<Figure size 432x288 with 1 Axes>"
      ]
     },
     "metadata": {
      "needs_background": "light"
     },
     "output_type": "display_data"
    }
   ],
   "source": [
    "y_test_predict_KNN_7 = model_KNN_7.predict(X_test)\n",
    "\n",
    "y_test_predict_KNN_7_prob = model_KNN_7.predict_proba(X_test)\n",
    "\n",
    "##Print Classification Report\n",
    "\n",
    "## testing data set\n",
    "print('Classification report for Test data is as follows:')\n",
    "print(classification_report(y_test,y_test_predict_KNN_7))\n",
    "\n",
    "##Print Confusion Matrix\n",
    "\n",
    "sns.heatmap(confusion_matrix(y_test,y_test_predict_KNN_7),annot=True, fmt='d', cbar=False,cmap='YlGnBu')\n",
    "plt.xlabel('Predicted Label')\n",
    "plt.ylabel('Actual Label')\n",
    "plt.title('Confusion Matrix for test data is as follows :')\n",
    "plt.show()"
   ]
  },
  {
   "cell_type": "code",
   "execution_count": null,
   "id": "7c8e3c44",
   "metadata": {},
   "outputs": [],
   "source": []
  },
  {
   "cell_type": "markdown",
   "id": "b08e5bf2",
   "metadata": {},
   "source": [
    "# Naïve Bayes Model"
   ]
  },
  {
   "cell_type": "code",
   "execution_count": 123,
   "id": "902d14a2",
   "metadata": {},
   "outputs": [],
   "source": [
    "from sklearn.naive_bayes import GaussianNB\n",
    "from sklearn import metrics"
   ]
  },
  {
   "cell_type": "code",
   "execution_count": 124,
   "id": "a42ca6ad",
   "metadata": {},
   "outputs": [],
   "source": [
    "clfKNN=KNeighborsClassifier()\n",
    "model = GaussianNB()\n",
    "model_Naive = model.fit(X_train,y_train)"
   ]
  },
  {
   "cell_type": "code",
   "execution_count": 125,
   "id": "e106cedf",
   "metadata": {},
   "outputs": [
    {
     "data": {
      "text/plain": [
       "array([0, 0, 1, ..., 0, 1, 0], dtype=int64)"
      ]
     },
     "execution_count": 125,
     "metadata": {},
     "output_type": "execute_result"
    }
   ],
   "source": [
    "# Training data class Prediction, cut-off value = 0.5\n",
    "y_predict_train_naive = model_Naive.predict(X_train)\n",
    "y_predict_train_naive"
   ]
  },
  {
   "cell_type": "code",
   "execution_count": 126,
   "id": "7466a3cd",
   "metadata": {},
   "outputs": [
    {
     "data": {
      "text/plain": [
       "array([0, 1, 1, ..., 0, 0, 1], dtype=int64)"
      ]
     },
     "execution_count": 126,
     "metadata": {},
     "output_type": "execute_result"
    }
   ],
   "source": [
    "# Test data class Prediction, cut-off value = 0.5\n",
    "y_predict_test_naive = model_Naive.predict(X_test)\n",
    "y_predict_test_naive"
   ]
  },
  {
   "cell_type": "code",
   "execution_count": 127,
   "id": "51f066ec",
   "metadata": {},
   "outputs": [
    {
     "data": {
      "text/plain": [
       "array([[9.99999977e-01, 2.25749729e-08],\n",
       "       [4.57768443e-77, 1.00000000e+00],\n",
       "       [1.60152775e-02, 9.83984723e-01],\n",
       "       ...,\n",
       "       [9.99999998e-01, 1.78527712e-09],\n",
       "       [1.00000000e+00, 2.24275699e-21],\n",
       "       [4.29365991e-75, 1.00000000e+00]])"
      ]
     },
     "execution_count": 127,
     "metadata": {},
     "output_type": "execute_result"
    }
   ],
   "source": [
    "# Training data probability prediction\n",
    "y_pred_test_naive_prob = model_Naive.predict_proba(X_test)\n",
    "y_pred_test_naive_prob"
   ]
  },
  {
   "cell_type": "code",
   "execution_count": 128,
   "id": "77b1fa14",
   "metadata": {},
   "outputs": [
    {
     "name": "stdout",
     "output_type": "stream",
     "text": [
      "Classification report for Test data is as follows:\n",
      "              precision    recall  f1-score   support\n",
      "\n",
      "           0       0.81      0.84      0.82     12773\n",
      "           1       0.86      0.84      0.85     15541\n",
      "\n",
      "    accuracy                           0.84     28314\n",
      "   macro avg       0.84      0.84      0.84     28314\n",
      "weighted avg       0.84      0.84      0.84     28314\n",
      "\n"
     ]
    },
    {
     "data": {
      "image/png": "[encoded data removed]",
      "text/plain": [
       "<Figure size 432x288 with 1 Axes>"
      ]
     },
     "metadata": {
      "needs_background": "light"
     },
     "output_type": "display_data"
    }
   ],
   "source": [
    "##Print Classification Report\n",
    "y_test_predict_Naive = model_Naive.predict(X_test)\n",
    "\n",
    "y_test_predict_Naive_prob = model_Naive.predict_proba(X_test)\n",
    "\n",
    "## testing data set\n",
    "print('Classification report for Test data is as follows:')\n",
    "print(classification_report(y_test,y_test_predict_Naive))\n",
    "\n",
    "##Print Confusion Matrix\n",
    "\n",
    "sns.heatmap(confusion_matrix(y_test,y_test_predict_Naive),annot=True, fmt='d', cbar=False,cmap='YlGnBu')\n",
    "plt.xlabel('Predicted Label')\n",
    "plt.ylabel('Actual Label')\n",
    "plt.title('Confusion Matrix for test data is as follows :')\n",
    "plt.show()\n"
   ]
  },
  {
   "cell_type": "markdown",
   "id": "d3684933",
   "metadata": {},
   "source": [
    "# Bagging Classifier (Random Forest should be applied for Bagging)"
   ]
  },
  {
   "cell_type": "code",
   "execution_count": 129,
   "id": "073e0b5b",
   "metadata": {},
   "outputs": [],
   "source": [
    "from sklearn.ensemble import BaggingClassifier\n",
    "from sklearn.ensemble import RandomForestClassifier"
   ]
  },
  {
   "cell_type": "code",
   "execution_count": 130,
   "id": "56a73495",
   "metadata": {},
   "outputs": [],
   "source": [
    "#Create a Gaussian Classifier\n",
    "clfRF=RandomForestClassifier(n_estimators=50)\n",
    "bgcl = BaggingClassifier(random_state=1, base_estimator=clfRF, n_estimators=50 ) #BaggingClassifier(n_estimators=50,random_state=1)\n",
    "model_bgcl = bgcl.fit(X_train, y_train)"
   ]
  },
  {
   "cell_type": "code",
   "execution_count": 131,
   "id": "5476c092",
   "metadata": {},
   "outputs": [
    {
     "name": "stdout",
     "output_type": "stream",
     "text": [
      "[0 1 1 ... 0 0 1]\n"
     ]
    }
   ],
   "source": [
    "# Test data class Prediction, cut-off value = 0.5\n",
    "y_predict_test_bgcl = model_bgcl.predict(X_test)\n",
    "print(y_predict_test_bgcl)\n"
   ]
  },
  {
   "cell_type": "code",
   "execution_count": 132,
   "id": "d9191211",
   "metadata": {},
   "outputs": [
    {
     "name": "stdout",
     "output_type": "stream",
     "text": [
      "[[0.9904 0.0096]\n",
      " [0.0048 0.9952]\n",
      " [0.0112 0.9888]\n",
      " ...\n",
      " [0.5764 0.4236]\n",
      " [0.9824 0.0176]\n",
      " [0.0028 0.9972]]\n"
     ]
    }
   ],
   "source": [
    "# Training data probability prediction\n",
    "y_pred_test_bgcl_prob = model_bgcl.predict_proba(X_test)\n",
    "print(y_pred_test_bgcl_prob)"
   ]
  },
  {
   "cell_type": "code",
   "execution_count": 144,
   "id": "c7bbfce2",
   "metadata": {},
   "outputs": [
    {
     "name": "stdout",
     "output_type": "stream",
     "text": [
      "Classification report for Test data is as follows:\n",
      "              precision    recall  f1-score   support\n",
      "\n",
      "           0       0.93      0.95      0.94     12773\n",
      "           1       0.96      0.94      0.95     15541\n",
      "\n",
      "    accuracy                           0.95     28314\n",
      "   macro avg       0.95      0.95      0.95     28314\n",
      "weighted avg       0.95      0.95      0.95     28314\n",
      "\n"
     ]
    },
    {
     "data": {
      "image/png": "[encoded data removed]",
      "text/plain": [
       "<Figure size 432x288 with 1 Axes>"
      ]
     },
     "metadata": {
      "needs_background": "light"
     },
     "output_type": "display_data"
    }
   ],
   "source": [
    "y_test_predict_bgcl = model_bgcl.predict(X_test)\n",
    "y_test_predict_bgcl_prob = model_bgcl.predict_proba(X_test)\n",
    "\n",
    "##Print Classification Report\n",
    "\n",
    "## testing data set\n",
    "print('Classification report for Test data is as follows:')\n",
    "print(classification_report(y_test,y_test_predict_bgcl))\n",
    "\n",
    "##Print Confusion Matrix\n",
    "\n",
    "sns.heatmap(confusion_matrix(y_test,y_test_predict_bgcl),annot=True, fmt='d', cbar=False,cmap='YlGnBu')\n",
    "plt.xlabel('Predicted Label')\n",
    "plt.ylabel('Actual Label')\n",
    "plt.title('Confusion Matrix for test data is as follows :')\n",
    "plt.show()\n"
   ]
  },
  {
   "cell_type": "code",
   "execution_count": null,
   "id": "141cd5ca",
   "metadata": {},
   "outputs": [],
   "source": []
  },
  {
   "cell_type": "markdown",
   "id": "e4fe606e",
   "metadata": {},
   "source": [
    "# Ada Boosting"
   ]
  },
  {
   "cell_type": "code",
   "execution_count": 145,
   "id": "ec22f1b4",
   "metadata": {},
   "outputs": [],
   "source": [
    "from sklearn.ensemble import AdaBoostClassifier\n",
    "\n",
    "clfADB = AdaBoostClassifier(n_estimators=100)\n",
    "model_ADB = clfADB.fit(X_train,y_train)"
   ]
  },
  {
   "cell_type": "code",
   "execution_count": 146,
   "id": "0cfc0289",
   "metadata": {},
   "outputs": [
    {
     "name": "stdout",
     "output_type": "stream",
     "text": [
      "[0 1 1 ... 1 0 1]\n"
     ]
    }
   ],
   "source": [
    "# Test data class Prediction, cut-off value = 0.5\n",
    "y_predict_test_ADB = model_ADB.predict(X_test)\n",
    "print(y_predict_test_ADB)"
   ]
  },
  {
   "cell_type": "code",
   "execution_count": 147,
   "id": "c6b65363",
   "metadata": {},
   "outputs": [
    {
     "name": "stdout",
     "output_type": "stream",
     "text": [
      "[[0.5115912  0.4884088 ]\n",
      " [0.47947139 0.52052861]\n",
      " [0.49228066 0.50771934]\n",
      " ...\n",
      " [0.49754551 0.50245449]\n",
      " [0.51149255 0.48850745]\n",
      " [0.48386587 0.51613413]]\n"
     ]
    }
   ],
   "source": [
    "# Training data probability prediction\n",
    "y_pred_test_ADB_prob = model_ADB.predict_proba(X_test)\n",
    "print(y_pred_test_ADB_prob)"
   ]
  },
  {
   "cell_type": "code",
   "execution_count": 187,
   "id": "1c93585b",
   "metadata": {},
   "outputs": [
    {
     "name": "stdout",
     "output_type": "stream",
     "text": [
      "Classification report for Test data is as follows:\n",
      "              precision    recall  f1-score   support\n",
      "\n",
      "           0       0.88      0.89      0.89     12773\n",
      "           1       0.91      0.90      0.91     15541\n",
      "\n",
      "    accuracy                           0.90     28314\n",
      "   macro avg       0.90      0.90      0.90     28314\n",
      "weighted avg       0.90      0.90      0.90     28314\n",
      "\n"
     ]
    },
    {
     "data": {
      "image/png": "[encoded data removed]",
      "text/plain": [
       "<Figure size 432x288 with 1 Axes>"
      ]
     },
     "metadata": {
      "needs_background": "light"
     },
     "output_type": "display_data"
    }
   ],
   "source": [
    "y_test_predict_ADB = model_ADB.predict(X_test)\n",
    "y_test_predict_ADB_prob = model_ADB.predict_proba(X_test)\n",
    "\n",
    "\n",
    "##Print Classification Report\n",
    "\n",
    "## testing data set\n",
    "print('Classification report for Test data is as follows:')\n",
    "print(classification_report(y_test,y_test_predict_ADB))\n",
    "\n",
    "##Print Confusion Matrix\n",
    "\n",
    "sns.heatmap(confusion_matrix(y_test,y_test_predict_ADB),annot=True, fmt='d', cbar=False,cmap='YlGnBu')\n",
    "plt.xlabel('Predicted Label')\n",
    "plt.ylabel('Actual Label')\n",
    "plt.title('Confusion Matrix for test data is as follows :')\n",
    "plt.show()\n"
   ]
  },
  {
   "cell_type": "code",
   "execution_count": null,
   "id": "ce96fc1f",
   "metadata": {},
   "outputs": [],
   "source": []
  },
  {
   "cell_type": "markdown",
   "id": "1833e33b",
   "metadata": {},
   "source": [
    "# Gradient Boosting"
   ]
  },
  {
   "cell_type": "code",
   "execution_count": 149,
   "id": "9e4f6a98",
   "metadata": {},
   "outputs": [],
   "source": [
    "from sklearn.ensemble import GradientBoostingClassifier"
   ]
  },
  {
   "cell_type": "code",
   "execution_count": 150,
   "id": "18387c7a",
   "metadata": {},
   "outputs": [],
   "source": [
    "gbcl = GradientBoostingClassifier(n_estimators = 50,random_state=1)\n",
    "model_GDB = gbcl.fit(X_train, y_train)"
   ]
  },
  {
   "cell_type": "code",
   "execution_count": 151,
   "id": "cd5882dc",
   "metadata": {},
   "outputs": [
    {
     "name": "stdout",
     "output_type": "stream",
     "text": [
      "[0 1 1 ... 0 0 1]\n"
     ]
    }
   ],
   "source": [
    "# Test data class Prediction, cut-off value = 0.5\n",
    "y_predict_test_GDB = model_GDB.predict(X_test)\n",
    "print(y_predict_test_GDB)"
   ]
  },
  {
   "cell_type": "code",
   "execution_count": 152,
   "id": "fe418e1e",
   "metadata": {},
   "outputs": [
    {
     "name": "stdout",
     "output_type": "stream",
     "text": [
      "[[0.91672792 0.08327208]\n",
      " [0.01166919 0.98833081]\n",
      " [0.12094992 0.87905008]\n",
      " ...\n",
      " [0.62448539 0.37551461]\n",
      " [0.91136784 0.08863216]\n",
      " [0.03843381 0.96156619]]\n"
     ]
    }
   ],
   "source": [
    "# Training data probability prediction\n",
    "y_pred_test_GDB_prob = model_GDB.predict_proba(X_test)\n",
    "print(y_pred_test_GDB_prob)"
   ]
  },
  {
   "cell_type": "code",
   "execution_count": 153,
   "id": "fbe825b9",
   "metadata": {},
   "outputs": [
    {
     "name": "stdout",
     "output_type": "stream",
     "text": [
      "Classification report for Test data is as follows:\n",
      "              precision    recall  f1-score   support\n",
      "\n",
      "           0       0.90      0.91      0.90     12773\n",
      "           1       0.92      0.91      0.92     15541\n",
      "\n",
      "    accuracy                           0.91     28314\n",
      "   macro avg       0.91      0.91      0.91     28314\n",
      "weighted avg       0.91      0.91      0.91     28314\n",
      "\n"
     ]
    },
    {
     "data": {
      "image/png": "[encoded data removed]",
      "text/plain": [
       "<Figure size 432x288 with 1 Axes>"
      ]
     },
     "metadata": {
      "needs_background": "light"
     },
     "output_type": "display_data"
    }
   ],
   "source": [
    "y_test_predict_GDB = model_GDB.predict(X_test)\n",
    "y_test_predict_GDB_prob = model_GDB.predict_proba(X_test)\n",
    "\n",
    "\n",
    "##Print Classification Report\n",
    "\n",
    "## testing data set\n",
    "print('Classification report for Test data is as follows:')\n",
    "print(classification_report(y_test,y_test_predict_GDB))\n",
    "\n",
    "##Print Confusion Matrix\n",
    "\n",
    "sns.heatmap(confusion_matrix(y_test,y_test_predict_GDB),annot=True, fmt='d', cbar=False,cmap='YlGnBu')\n",
    "plt.xlabel('Predicted Label')\n",
    "plt.ylabel('Actual Label')\n",
    "plt.title('Confusion Matrix for test data is as follows :')\n",
    "plt.show()\n"
   ]
  },
  {
   "cell_type": "markdown",
   "id": "9654db78",
   "metadata": {},
   "source": [
    "# Since the best Accuracy we are getting from Random Forest and Bagging Method\n",
    "\n",
    "## We would use Bagging or our final model"
   ]
  },
  {
   "cell_type": "code",
   "execution_count": null,
   "id": "3af865d1",
   "metadata": {},
   "outputs": [],
   "source": [
    "# Test data class Prediction, cut-off value = 0.5\n",
    "y_predict_final = model_bgcl.predict(X_test)\n",
    "print(y_predict_test_bgcl)"
   ]
  },
  {
   "cell_type": "code",
   "execution_count": 157,
   "id": "0c941357",
   "metadata": {},
   "outputs": [
    {
     "data": {
      "text/plain": [
       "74"
      ]
     },
     "execution_count": 157,
     "metadata": {},
     "output_type": "execute_result"
    }
   ],
   "source": [
    "len(df_to_predict_new.columns)"
   ]
  },
  {
   "cell_type": "code",
   "execution_count": 184,
   "id": "3d5db26b",
   "metadata": {},
   "outputs": [
    {
     "data": {
      "text/plain": [
       "78"
      ]
     },
     "execution_count": 184,
     "metadata": {},
     "output_type": "execute_result"
    }
   ],
   "source": [
    "len(X_test.columns)"
   ]
  },
  {
   "cell_type": "code",
   "execution_count": 164,
   "id": "62672bdd",
   "metadata": {},
   "outputs": [
    {
     "data": {
      "text/plain": [
       "Age                                200\n",
       "Travel_Distance                      5\n",
       "DepartureDelay_in_Mins            3491\n",
       "ArrivalDelay_in_Mins              3428\n",
       "Seat_comfort_excellent            8315\n",
       "                                  ... \n",
       "Online_boarding_poor              8573\n",
       "Gender_Male                       5369\n",
       "CustomerType_disloyal Customer    7842\n",
       "TypeTravel_Personal Travel        6527\n",
       "Travel_Class_Eco                  5432\n",
       "Length: 78, dtype: int64"
      ]
     },
     "execution_count": 164,
     "metadata": {},
     "output_type": "execute_result"
    }
   ],
   "source": [
    "X_test.isin(df_to_predict_new).sum()"
   ]
  },
  {
   "cell_type": "code",
   "execution_count": null,
   "id": "bccfc91b",
   "metadata": {},
   "outputs": [],
   "source": []
  },
  {
   "cell_type": "code",
   "execution_count": null,
   "id": "3367a1be",
   "metadata": {},
   "outputs": [],
   "source": []
  },
  {
   "cell_type": "code",
   "execution_count": null,
   "id": "944590e4",
   "metadata": {},
   "outputs": [],
   "source": []
  },
  {
   "cell_type": "code",
   "execution_count": null,
   "id": "f0df923c",
   "metadata": {},
   "outputs": [],
   "source": []
  },
  {
   "cell_type": "code",
   "execution_count": null,
   "id": "bf85bc7f",
   "metadata": {},
   "outputs": [],
   "source": []
  },
  {
   "cell_type": "code",
   "execution_count": null,
   "id": "152923a0",
   "metadata": {},
   "outputs": [],
   "source": []
  },
  {
   "cell_type": "code",
   "execution_count": null,
   "id": "93976487",
   "metadata": {},
   "outputs": [],
   "source": []
  },
  {
   "cell_type": "code",
   "execution_count": null,
   "id": "5f713cfd",
   "metadata": {},
   "outputs": [],
   "source": []
  },
  {
   "cell_type": "code",
   "execution_count": null,
   "id": "4a4e1e32",
   "metadata": {},
   "outputs": [],
   "source": []
  },
  {
   "cell_type": "code",
   "execution_count": null,
   "id": "79ac4e74",
   "metadata": {},
   "outputs": [],
   "source": []
  },
  {
   "cell_type": "code",
   "execution_count": null,
   "id": "1d020f46",
   "metadata": {},
   "outputs": [],
   "source": []
  },
  {
   "cell_type": "code",
   "execution_count": null,
   "id": "b89f4e32",
   "metadata": {},
   "outputs": [],
   "source": []
  },
  {
   "cell_type": "code",
   "execution_count": null,
   "id": "29ebcf98",
   "metadata": {},
   "outputs": [],
   "source": []
  },
  {
   "cell_type": "code",
   "execution_count": null,
   "id": "b81f7517",
   "metadata": {},
   "outputs": [],
   "source": []
  },
  {
   "cell_type": "code",
   "execution_count": null,
   "id": "a006c301",
   "metadata": {},
   "outputs": [],
   "source": []
  },
  {
   "cell_type": "code",
   "execution_count": null,
   "id": "f80d8a4f",
   "metadata": {},
   "outputs": [],
   "source": []
  },
  {
   "cell_type": "code",
   "execution_count": null,
   "id": "1c145d43",
   "metadata": {},
   "outputs": [],
   "source": []
  },
  {
   "cell_type": "code",
   "execution_count": null,
   "id": "8865fe7e",
   "metadata": {},
   "outputs": [],
   "source": []
  },
  {
   "cell_type": "code",
   "execution_count": null,
   "id": "bdcc0571",
   "metadata": {},
   "outputs": [],
   "source": []
  },
  {
   "cell_type": "code",
   "execution_count": null,
   "id": "3cac72cb",
   "metadata": {},
   "outputs": [],
   "source": []
  },
  {
   "cell_type": "code",
   "execution_count": null,
   "id": "1024bac9",
   "metadata": {},
   "outputs": [],
   "source": []
  },
  {
   "cell_type": "code",
   "execution_count": null,
   "id": "19b53ef3",
   "metadata": {},
   "outputs": [],
   "source": []
  },
  {
   "cell_type": "code",
   "execution_count": null,
   "id": "18aabb03",
   "metadata": {},
   "outputs": [],
   "source": []
  },
  {
   "cell_type": "code",
   "execution_count": null,
   "id": "bc1ec90f",
   "metadata": {},
   "outputs": [],
   "source": []
  },
  {
   "cell_type": "code",
   "execution_count": null,
   "id": "1f1139b7",
   "metadata": {},
   "outputs": [],
   "source": []
  }
 ],
 "metadata": {
  "kernelspec": {
   "display_name": "Python 3",
   "language": "python",
   "name": "python3"
  },
  "language_info": {
   "codemirror_mode": {
    "name": "ipython",
    "version": 3
   },
   "file_extension": ".py",
   "mimetype": "text/x-python",
   "name": "python",
   "nbconvert_exporter": "python",
   "pygments_lexer": "ipython3",
   "version": "3.8.8"
  }
 },
 "nbformat": 4,
 "nbformat_minor": 5
}
