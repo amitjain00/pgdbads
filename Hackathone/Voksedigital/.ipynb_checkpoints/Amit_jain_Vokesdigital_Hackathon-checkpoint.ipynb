{
 "cells": [
  {
   "cell_type": "code",
   "execution_count": 126,
   "id": "da58e6e4",
   "metadata": {},
   "outputs": [],
   "source": [
    "import pandas as pd\n",
    "import numpy as np\n",
    "from sklearn import metrics\n",
    "import matplotlib.pyplot as plt\n",
    "%matplotlib inline \n",
    "import seaborn as sns\n",
    "from sklearn.model_selection import train_test_split\n",
    "from sklearn.tree import DecisionTreeClassifier\n",
    "#from sklearn.feature_extraction.text import CountVectorizer  #DT does not take strings as input for the model fit step....\n",
    "from IPython.display import Image  \n",
    "#import pydotplus as pydot\n",
    "from sklearn import tree\n",
    "from os import system\n",
    "\n",
    "from sklearn import metrics\n",
    "from sklearn.model_selection import train_test_split,GridSearchCV\n",
    "from sklearn.metrics import roc_auc_score,roc_curve,confusion_matrix,plot_confusion_matrix\n",
    "from warnings import filterwarnings\n",
    "filterwarnings('ignore')\n",
    "\n",
    "from sklearn.linear_model import LinearRegression\n",
    "from sklearn.linear_model import LogisticRegression\n",
    "from sklearn.neighbors import KNeighborsClassifier\n",
    "\n",
    "\n",
    "from sklearn.preprocessing import StandardScaler\n",
    "from sklearn.neural_network import MLPClassifier\n",
    "from sklearn.tree import DecisionTreeClassifier\n",
    "from sklearn.ensemble import RandomForestClassifier\n",
    "from sklearn.metrics import confusion_matrix,classification_report,roc_auc_score,accuracy_score,roc_auc_score,roc_curve\n"
   ]
  },
  {
   "cell_type": "code",
   "execution_count": 127,
   "id": "694ccd7d",
   "metadata": {},
   "outputs": [],
   "source": [
    "df_train = pd.read_csv(\"train.csv\")\n",
    "df_test = pd.read_csv(\"test.csv\")"
   ]
  },
  {
   "cell_type": "code",
   "execution_count": 128,
   "id": "c449b47b",
   "metadata": {},
   "outputs": [
    {
     "data": {
      "text/html": [
       "<div>\n",
       "<style scoped>\n",
       "    .dataframe tbody tr th:only-of-type {\n",
       "        vertical-align: middle;\n",
       "    }\n",
       "\n",
       "    .dataframe tbody tr th {\n",
       "        vertical-align: top;\n",
       "    }\n",
       "\n",
       "    .dataframe thead th {\n",
       "        text-align: right;\n",
       "    }\n",
       "</style>\n",
       "<table border=\"1\" class=\"dataframe\">\n",
       "  <thead>\n",
       "    <tr style=\"text-align: right;\">\n",
       "      <th></th>\n",
       "      <th>ID</th>\n",
       "      <th>year_of_poll</th>\n",
       "      <th>own_self_emp</th>\n",
       "      <th>veteran benefits</th>\n",
       "      <th>currently_enrolled</th>\n",
       "      <th>race</th>\n",
       "      <th>father_country</th>\n",
       "      <th>educ</th>\n",
       "      <th>house_stat</th>\n",
       "      <th>major_ind_code</th>\n",
       "      <th>...</th>\n",
       "      <th>income_filled</th>\n",
       "      <th>weeks_worked</th>\n",
       "      <th>under18</th>\n",
       "      <th>hourly_wage</th>\n",
       "      <th>unemp_reason</th>\n",
       "      <th>citizenship</th>\n",
       "      <th>woker_type</th>\n",
       "      <th>fed_liability</th>\n",
       "      <th>full_partime_job</th>\n",
       "      <th>income</th>\n",
       "    </tr>\n",
       "  </thead>\n",
       "  <tbody>\n",
       "    <tr>\n",
       "      <th>0</th>\n",
       "      <td>0</td>\n",
       "      <td>2004</td>\n",
       "      <td>0</td>\n",
       "      <td>2</td>\n",
       "      <td>High school</td>\n",
       "      <td>White</td>\n",
       "      <td>United-States</td>\n",
       "      <td>Associates degree-academic program</td>\n",
       "      <td>Householder</td>\n",
       "      <td>Business and repair services</td>\n",
       "      <td>...</td>\n",
       "      <td>No</td>\n",
       "      <td>47</td>\n",
       "      <td>NaN</td>\n",
       "      <td>0.0</td>\n",
       "      <td>NaN</td>\n",
       "      <td>NB_US</td>\n",
       "      <td>Pvt</td>\n",
       "      <td>Joint_both_under65</td>\n",
       "      <td>Children/Armed_Forces</td>\n",
       "      <td>More than 50K $</td>\n",
       "    </tr>\n",
       "    <tr>\n",
       "      <th>1</th>\n",
       "      <td>1</td>\n",
       "      <td>2005</td>\n",
       "      <td>0</td>\n",
       "      <td>0</td>\n",
       "      <td>College/University</td>\n",
       "      <td>White</td>\n",
       "      <td>Japan</td>\n",
       "      <td>Children</td>\n",
       "      <td>Child &lt;18 never marr not in subfamily</td>\n",
       "      <td>Not in universe or children</td>\n",
       "      <td>...</td>\n",
       "      <td>No</td>\n",
       "      <td>0</td>\n",
       "      <td>Both_Pr</td>\n",
       "      <td>0.0</td>\n",
       "      <td>NaN</td>\n",
       "      <td>NB_US</td>\n",
       "      <td>NaN</td>\n",
       "      <td>Nonfiler</td>\n",
       "      <td>Children/Armed_Forces</td>\n",
       "      <td>More than 50K $</td>\n",
       "    </tr>\n",
       "    <tr>\n",
       "      <th>2</th>\n",
       "      <td>2</td>\n",
       "      <td>2004</td>\n",
       "      <td>0</td>\n",
       "      <td>2</td>\n",
       "      <td>NaN</td>\n",
       "      <td>White</td>\n",
       "      <td>United-States</td>\n",
       "      <td>Some college but no degree</td>\n",
       "      <td>Secondary individual</td>\n",
       "      <td>Manufacturing-durable goods</td>\n",
       "      <td>...</td>\n",
       "      <td>Yes</td>\n",
       "      <td>47</td>\n",
       "      <td>NaN</td>\n",
       "      <td>0.0</td>\n",
       "      <td>NaN</td>\n",
       "      <td>NB_US</td>\n",
       "      <td>Pvt</td>\n",
       "      <td>Single</td>\n",
       "      <td>Children/Armed_Forces</td>\n",
       "      <td>More than 50K $</td>\n",
       "    </tr>\n",
       "    <tr>\n",
       "      <th>3</th>\n",
       "      <td>3</td>\n",
       "      <td>2004</td>\n",
       "      <td>0</td>\n",
       "      <td>2</td>\n",
       "      <td>College/University</td>\n",
       "      <td>Amer/Indian/Aleut/Eskimo</td>\n",
       "      <td>United-States</td>\n",
       "      <td>High school graduate</td>\n",
       "      <td>Householder</td>\n",
       "      <td>Wholesale trade</td>\n",
       "      <td>...</td>\n",
       "      <td>NaN</td>\n",
       "      <td>47</td>\n",
       "      <td>NaN</td>\n",
       "      <td>0.0</td>\n",
       "      <td>NaN</td>\n",
       "      <td>NB_US</td>\n",
       "      <td>Pvt</td>\n",
       "      <td>Joint_both_under65</td>\n",
       "      <td>Children/Armed_Forces</td>\n",
       "      <td>More than 50K $</td>\n",
       "    </tr>\n",
       "    <tr>\n",
       "      <th>4</th>\n",
       "      <td>4</td>\n",
       "      <td>2004</td>\n",
       "      <td>0</td>\n",
       "      <td>2</td>\n",
       "      <td>NaN</td>\n",
       "      <td>White</td>\n",
       "      <td>United-States</td>\n",
       "      <td>High school graduate</td>\n",
       "      <td>Householder</td>\n",
       "      <td>Wholesale trade</td>\n",
       "      <td>...</td>\n",
       "      <td>NaN</td>\n",
       "      <td>47</td>\n",
       "      <td>NaN</td>\n",
       "      <td>0.0</td>\n",
       "      <td>NaN</td>\n",
       "      <td>NB_US</td>\n",
       "      <td>Pvt</td>\n",
       "      <td>Single</td>\n",
       "      <td>Children/Armed_Forces</td>\n",
       "      <td>More than 50K $</td>\n",
       "    </tr>\n",
       "  </tbody>\n",
       "</table>\n",
       "<p>5 rows × 34 columns</p>\n",
       "</div>"
      ],
      "text/plain": [
       "   ID  year_of_poll  own_self_emp  veteran benefits  currently_enrolled  \\\n",
       "0   0          2004             0                 2         High school   \n",
       "1   1          2005             0                 0  College/University   \n",
       "2   2          2004             0                 2                 NaN   \n",
       "3   3          2004             0                 2  College/University   \n",
       "4   4          2004             0                 2                 NaN   \n",
       "\n",
       "                       race  father_country  \\\n",
       "0                     White   United-States   \n",
       "1                     White           Japan   \n",
       "2                     White   United-States   \n",
       "3  Amer/Indian/Aleut/Eskimo   United-States   \n",
       "4                     White   United-States   \n",
       "\n",
       "                                  educ  \\\n",
       "0   Associates degree-academic program   \n",
       "1                             Children   \n",
       "2           Some college but no degree   \n",
       "3                 High school graduate   \n",
       "4                 High school graduate   \n",
       "\n",
       "                               house_stat                 major_ind_code  ...  \\\n",
       "0                             Householder   Business and repair services  ...   \n",
       "1   Child <18 never marr not in subfamily    Not in universe or children  ...   \n",
       "2                    Secondary individual    Manufacturing-durable goods  ...   \n",
       "3                             Householder                Wholesale trade  ...   \n",
       "4                             Householder                Wholesale trade  ...   \n",
       "\n",
       "  income_filled weeks_worked  under18  hourly_wage unemp_reason citizenship  \\\n",
       "0            No           47      NaN          0.0          NaN       NB_US   \n",
       "1            No            0  Both_Pr          0.0          NaN       NB_US   \n",
       "2           Yes           47      NaN          0.0          NaN       NB_US   \n",
       "3           NaN           47      NaN          0.0          NaN       NB_US   \n",
       "4           NaN           47      NaN          0.0          NaN       NB_US   \n",
       "\n",
       "  woker_type       fed_liability       full_partime_job           income  \n",
       "0        Pvt  Joint_both_under65  Children/Armed_Forces  More than 50K $  \n",
       "1        NaN            Nonfiler  Children/Armed_Forces  More than 50K $  \n",
       "2        Pvt              Single  Children/Armed_Forces  More than 50K $  \n",
       "3        Pvt  Joint_both_under65  Children/Armed_Forces  More than 50K $  \n",
       "4        Pvt              Single  Children/Armed_Forces  More than 50K $  \n",
       "\n",
       "[5 rows x 34 columns]"
      ]
     },
     "execution_count": 128,
     "metadata": {},
     "output_type": "execute_result"
    }
   ],
   "source": [
    "df_train.head()"
   ]
  },
  {
   "cell_type": "code",
   "execution_count": 129,
   "id": "b61da5d1",
   "metadata": {},
   "outputs": [
    {
     "data": {
      "text/html": [
       "<div>\n",
       "<style scoped>\n",
       "    .dataframe tbody tr th:only-of-type {\n",
       "        vertical-align: middle;\n",
       "    }\n",
       "\n",
       "    .dataframe tbody tr th {\n",
       "        vertical-align: top;\n",
       "    }\n",
       "\n",
       "    .dataframe thead th {\n",
       "        text-align: right;\n",
       "    }\n",
       "</style>\n",
       "<table border=\"1\" class=\"dataframe\">\n",
       "  <thead>\n",
       "    <tr style=\"text-align: right;\">\n",
       "      <th></th>\n",
       "      <th>ID</th>\n",
       "      <th>year_of_poll</th>\n",
       "      <th>own_self_emp</th>\n",
       "      <th>veteran benefits</th>\n",
       "      <th>currently_enrolled</th>\n",
       "      <th>race</th>\n",
       "      <th>father_country</th>\n",
       "      <th>educ</th>\n",
       "      <th>house_stat</th>\n",
       "      <th>major_ind_code</th>\n",
       "      <th>...</th>\n",
       "      <th>house_1yr_ago</th>\n",
       "      <th>income_filled</th>\n",
       "      <th>weeks_worked</th>\n",
       "      <th>under18</th>\n",
       "      <th>hourly_wage</th>\n",
       "      <th>unemp_reason</th>\n",
       "      <th>citizenship</th>\n",
       "      <th>woker_type</th>\n",
       "      <th>fed_liability</th>\n",
       "      <th>full_partime_job</th>\n",
       "    </tr>\n",
       "  </thead>\n",
       "  <tbody>\n",
       "    <tr>\n",
       "      <th>0</th>\n",
       "      <td>105000</td>\n",
       "      <td>2005</td>\n",
       "      <td>0</td>\n",
       "      <td>2</td>\n",
       "      <td>College/University</td>\n",
       "      <td>White</td>\n",
       "      <td>United-States</td>\n",
       "      <td>Some college but no degree</td>\n",
       "      <td>Householder</td>\n",
       "      <td>Manufacturing-nondurable goods</td>\n",
       "      <td>...</td>\n",
       "      <td>NaN</td>\n",
       "      <td>No</td>\n",
       "      <td>47</td>\n",
       "      <td>NaN</td>\n",
       "      <td>0.0</td>\n",
       "      <td>NaN</td>\n",
       "      <td>NB_US</td>\n",
       "      <td>Pvt</td>\n",
       "      <td>Joint_both_under65</td>\n",
       "      <td>Full-time schedules</td>\n",
       "    </tr>\n",
       "    <tr>\n",
       "      <th>1</th>\n",
       "      <td>105001</td>\n",
       "      <td>2004</td>\n",
       "      <td>0</td>\n",
       "      <td>2</td>\n",
       "      <td>College/University</td>\n",
       "      <td>White</td>\n",
       "      <td>United-States</td>\n",
       "      <td>Bachelors degree(BA AB BS)</td>\n",
       "      <td>Nonfamily householder</td>\n",
       "      <td>Medical except hospital</td>\n",
       "      <td>...</td>\n",
       "      <td>Yes</td>\n",
       "      <td>NaN</td>\n",
       "      <td>47</td>\n",
       "      <td>NaN</td>\n",
       "      <td>0.0</td>\n",
       "      <td>NaN</td>\n",
       "      <td>NB_US</td>\n",
       "      <td>Pvt</td>\n",
       "      <td>Single</td>\n",
       "      <td>Children/Armed_Forces</td>\n",
       "    </tr>\n",
       "    <tr>\n",
       "      <th>2</th>\n",
       "      <td>105002</td>\n",
       "      <td>2004</td>\n",
       "      <td>0</td>\n",
       "      <td>2</td>\n",
       "      <td>NaN</td>\n",
       "      <td>White</td>\n",
       "      <td>United-States</td>\n",
       "      <td>7th and 8th grade</td>\n",
       "      <td>In group quarters</td>\n",
       "      <td>Not in universe or children</td>\n",
       "      <td>...</td>\n",
       "      <td>Yes</td>\n",
       "      <td>NaN</td>\n",
       "      <td>0</td>\n",
       "      <td>NaN</td>\n",
       "      <td>0.0</td>\n",
       "      <td>NaN</td>\n",
       "      <td>NB_US</td>\n",
       "      <td>NaN</td>\n",
       "      <td>Nonfiler</td>\n",
       "      <td>Children/Armed_Forces</td>\n",
       "    </tr>\n",
       "    <tr>\n",
       "      <th>3</th>\n",
       "      <td>105003</td>\n",
       "      <td>2004</td>\n",
       "      <td>2</td>\n",
       "      <td>2</td>\n",
       "      <td>NaN</td>\n",
       "      <td>White</td>\n",
       "      <td>United-States</td>\n",
       "      <td>High school graduate</td>\n",
       "      <td>Secondary individual</td>\n",
       "      <td>Manufacturing-nondurable goods</td>\n",
       "      <td>...</td>\n",
       "      <td>No</td>\n",
       "      <td>No</td>\n",
       "      <td>47</td>\n",
       "      <td>NaN</td>\n",
       "      <td>0.0</td>\n",
       "      <td>NaN</td>\n",
       "      <td>NB_US</td>\n",
       "      <td>Pvt</td>\n",
       "      <td>Single</td>\n",
       "      <td>Children/Armed_Forces</td>\n",
       "    </tr>\n",
       "    <tr>\n",
       "      <th>4</th>\n",
       "      <td>105004</td>\n",
       "      <td>2004</td>\n",
       "      <td>0</td>\n",
       "      <td>2</td>\n",
       "      <td>NaN</td>\n",
       "      <td>White</td>\n",
       "      <td>Iran</td>\n",
       "      <td>Doctorate degree(PhD EdD)</td>\n",
       "      <td>Householder</td>\n",
       "      <td>Public administration</td>\n",
       "      <td>...</td>\n",
       "      <td>Yes</td>\n",
       "      <td>No</td>\n",
       "      <td>47</td>\n",
       "      <td>NaN</td>\n",
       "      <td>0.0</td>\n",
       "      <td>NaN</td>\n",
       "      <td>FB_US</td>\n",
       "      <td>Loc_Govt</td>\n",
       "      <td>Single</td>\n",
       "      <td>Children/Armed_Forces</td>\n",
       "    </tr>\n",
       "  </tbody>\n",
       "</table>\n",
       "<p>5 rows × 33 columns</p>\n",
       "</div>"
      ],
      "text/plain": [
       "       ID  year_of_poll  own_self_emp  veteran benefits  currently_enrolled  \\\n",
       "0  105000          2005             0                 2  College/University   \n",
       "1  105001          2004             0                 2  College/University   \n",
       "2  105002          2004             0                 2                 NaN   \n",
       "3  105003          2004             2                 2                 NaN   \n",
       "4  105004          2004             0                 2                 NaN   \n",
       "\n",
       "     race  father_country                         educ  \\\n",
       "0   White   United-States   Some college but no degree   \n",
       "1   White   United-States   Bachelors degree(BA AB BS)   \n",
       "2   White   United-States            7th and 8th grade   \n",
       "3   White   United-States         High school graduate   \n",
       "4   White            Iran    Doctorate degree(PhD EdD)   \n",
       "\n",
       "               house_stat                   major_ind_code  ... house_1yr_ago  \\\n",
       "0             Householder   Manufacturing-nondurable goods  ...           NaN   \n",
       "1   Nonfamily householder          Medical except hospital  ...           Yes   \n",
       "2       In group quarters      Not in universe or children  ...           Yes   \n",
       "3    Secondary individual   Manufacturing-nondurable goods  ...            No   \n",
       "4             Householder            Public administration  ...           Yes   \n",
       "\n",
       "  income_filled weeks_worked  under18 hourly_wage unemp_reason citizenship  \\\n",
       "0            No           47      NaN         0.0          NaN       NB_US   \n",
       "1           NaN           47      NaN         0.0          NaN       NB_US   \n",
       "2           NaN            0      NaN         0.0          NaN       NB_US   \n",
       "3            No           47      NaN         0.0          NaN       NB_US   \n",
       "4            No           47      NaN         0.0          NaN       FB_US   \n",
       "\n",
       "  woker_type       fed_liability       full_partime_job  \n",
       "0        Pvt  Joint_both_under65    Full-time schedules  \n",
       "1        Pvt              Single  Children/Armed_Forces  \n",
       "2        NaN            Nonfiler  Children/Armed_Forces  \n",
       "3        Pvt              Single  Children/Armed_Forces  \n",
       "4   Loc_Govt              Single  Children/Armed_Forces  \n",
       "\n",
       "[5 rows x 33 columns]"
      ]
     },
     "execution_count": 129,
     "metadata": {},
     "output_type": "execute_result"
    }
   ],
   "source": [
    "df_test.head()"
   ]
  },
  {
   "cell_type": "code",
   "execution_count": 130,
   "id": "a0c2f996",
   "metadata": {},
   "outputs": [
    {
     "data": {
      "text/plain": [
       "(42000, 33)"
      ]
     },
     "execution_count": 130,
     "metadata": {},
     "output_type": "execute_result"
    }
   ],
   "source": [
    "df_test.shape"
   ]
  },
  {
   "cell_type": "code",
   "execution_count": 131,
   "id": "9c28e6a0",
   "metadata": {},
   "outputs": [
    {
     "data": {
      "text/plain": [
       "(105000, 34)"
      ]
     },
     "execution_count": 131,
     "metadata": {},
     "output_type": "execute_result"
    }
   ],
   "source": [
    "df_train.shape"
   ]
  },
  {
   "cell_type": "code",
   "execution_count": 132,
   "id": "082b85a0",
   "metadata": {},
   "outputs": [
    {
     "name": "stdout",
     "output_type": "stream",
     "text": [
      "<class 'pandas.core.frame.DataFrame'>\n",
      "RangeIndex: 105000 entries, 0 to 104999\n",
      "Data columns (total 34 columns):\n",
      " #   Column              Non-Null Count   Dtype  \n",
      "---  ------              --------------   -----  \n",
      " 0   ID                  105000 non-null  int64  \n",
      " 1   year_of_poll        105000 non-null  int64  \n",
      " 2   own_self_emp        105000 non-null  int64  \n",
      " 3   veteran benefits    105000 non-null  int64  \n",
      " 4   currently_enrolled  73557 non-null   object \n",
      " 5   race                105000 non-null  object \n",
      " 6   father_country      105000 non-null  object \n",
      " 7   educ                105000 non-null  object \n",
      " 8   house_stat          104989 non-null  object \n",
      " 9   major_ind_code      105000 non-null  object \n",
      " 10  labour_union        69669 non-null   object \n",
      " 11  self_country        105000 non-null  object \n",
      " 12  major_occ_code      51945 non-null   object \n",
      " 13  age                 105000 non-null  int64  \n",
      " 14  mother_country      105000 non-null  object \n",
      " 15  house_summary       105000 non-null  object \n",
      " 16  gender              105000 non-null  object \n",
      " 17  hisp_origin         105000 non-null  object \n",
      " 18  gains               105000 non-null  float64\n",
      " 19  dividends           105000 non-null  float64\n",
      " 20  marriage_status     105000 non-null  object \n",
      " 21  losses              105000 non-null  float64\n",
      " 22  employer_of         105000 non-null  int64  \n",
      " 23  house_1yr_ago       51678 non-null   object \n",
      " 24  income_filled       72597 non-null   object \n",
      " 25  weeks_worked        105000 non-null  int64  \n",
      " 26  under18             28984 non-null   object \n",
      " 27  hourly_wage         105000 non-null  float64\n",
      " 28  unemp_reason        3189 non-null    object \n",
      " 29  citizenship         105000 non-null  object \n",
      " 30  woker_type          52165 non-null   object \n",
      " 31  fed_liability       105000 non-null  object \n",
      " 32  full_partime_job    103608 non-null  object \n",
      " 33  income              105000 non-null  object \n",
      "dtypes: float64(4), int64(7), object(23)\n",
      "memory usage: 27.2+ MB\n"
     ]
    }
   ],
   "source": [
    "df_train.info()"
   ]
  },
  {
   "cell_type": "code",
   "execution_count": 133,
   "id": "4fa10f73",
   "metadata": {
    "scrolled": true
   },
   "outputs": [
    {
     "name": "stdout",
     "output_type": "stream",
     "text": [
      " Total number of count for data set Train data :  105000\n",
      " Total number of count for data set Test data:  42000\n"
     ]
    }
   ],
   "source": [
    "print(' Total number of count for data set Train data : ',df_train.ID.count())\n",
    "print(' Total number of count for data set Test data: ',df_test.ID.count())"
   ]
  },
  {
   "cell_type": "code",
   "execution_count": 134,
   "id": "a518e2bc",
   "metadata": {},
   "outputs": [],
   "source": [
    "df=df_train.copy()"
   ]
  },
  {
   "cell_type": "code",
   "execution_count": 135,
   "id": "fd174d2b",
   "metadata": {},
   "outputs": [],
   "source": [
    "df_to_predict=df_test.copy()"
   ]
  },
  {
   "cell_type": "code",
   "execution_count": 136,
   "id": "490c4294",
   "metadata": {},
   "outputs": [
    {
     "data": {
      "text/html": [
       "<div>\n",
       "<style scoped>\n",
       "    .dataframe tbody tr th:only-of-type {\n",
       "        vertical-align: middle;\n",
       "    }\n",
       "\n",
       "    .dataframe tbody tr th {\n",
       "        vertical-align: top;\n",
       "    }\n",
       "\n",
       "    .dataframe thead th {\n",
       "        text-align: right;\n",
       "    }\n",
       "</style>\n",
       "<table border=\"1\" class=\"dataframe\">\n",
       "  <thead>\n",
       "    <tr style=\"text-align: right;\">\n",
       "      <th></th>\n",
       "      <th>count</th>\n",
       "      <th>mean</th>\n",
       "      <th>std</th>\n",
       "      <th>min</th>\n",
       "      <th>25%</th>\n",
       "      <th>50%</th>\n",
       "      <th>75%</th>\n",
       "      <th>max</th>\n",
       "    </tr>\n",
       "  </thead>\n",
       "  <tbody>\n",
       "    <tr>\n",
       "      <th>ID</th>\n",
       "      <td>105000.0</td>\n",
       "      <td>52499.500000</td>\n",
       "      <td>30311.033470</td>\n",
       "      <td>0.0</td>\n",
       "      <td>26249.75</td>\n",
       "      <td>52499.5</td>\n",
       "      <td>78749.25</td>\n",
       "      <td>104999.0</td>\n",
       "    </tr>\n",
       "    <tr>\n",
       "      <th>year_of_poll</th>\n",
       "      <td>105000.0</td>\n",
       "      <td>2004.500305</td>\n",
       "      <td>0.500002</td>\n",
       "      <td>2004.0</td>\n",
       "      <td>2004.00</td>\n",
       "      <td>2005.0</td>\n",
       "      <td>2005.00</td>\n",
       "      <td>2005.0</td>\n",
       "    </tr>\n",
       "    <tr>\n",
       "      <th>own_self_emp</th>\n",
       "      <td>105000.0</td>\n",
       "      <td>0.176800</td>\n",
       "      <td>0.555648</td>\n",
       "      <td>0.0</td>\n",
       "      <td>0.00</td>\n",
       "      <td>0.0</td>\n",
       "      <td>0.00</td>\n",
       "      <td>2.0</td>\n",
       "    </tr>\n",
       "    <tr>\n",
       "      <th>veteran benefits</th>\n",
       "      <td>105000.0</td>\n",
       "      <td>1.517305</td>\n",
       "      <td>0.850049</td>\n",
       "      <td>0.0</td>\n",
       "      <td>2.00</td>\n",
       "      <td>2.0</td>\n",
       "      <td>2.00</td>\n",
       "      <td>2.0</td>\n",
       "    </tr>\n",
       "    <tr>\n",
       "      <th>age</th>\n",
       "      <td>105000.0</td>\n",
       "      <td>36.243924</td>\n",
       "      <td>23.465922</td>\n",
       "      <td>0.0</td>\n",
       "      <td>16.00</td>\n",
       "      <td>35.0</td>\n",
       "      <td>52.00</td>\n",
       "      <td>94.0</td>\n",
       "    </tr>\n",
       "    <tr>\n",
       "      <th>gains</th>\n",
       "      <td>105000.0</td>\n",
       "      <td>488.464764</td>\n",
       "      <td>5284.877430</td>\n",
       "      <td>0.0</td>\n",
       "      <td>0.00</td>\n",
       "      <td>0.0</td>\n",
       "      <td>0.00</td>\n",
       "      <td>109998.9</td>\n",
       "    </tr>\n",
       "    <tr>\n",
       "      <th>dividends</th>\n",
       "      <td>105000.0</td>\n",
       "      <td>240.232046</td>\n",
       "      <td>2501.629980</td>\n",
       "      <td>0.0</td>\n",
       "      <td>0.00</td>\n",
       "      <td>0.0</td>\n",
       "      <td>0.00</td>\n",
       "      <td>119998.8</td>\n",
       "    </tr>\n",
       "    <tr>\n",
       "      <th>losses</th>\n",
       "      <td>105000.0</td>\n",
       "      <td>25.321047</td>\n",
       "      <td>186.824899</td>\n",
       "      <td>0.0</td>\n",
       "      <td>0.00</td>\n",
       "      <td>0.0</td>\n",
       "      <td>0.00</td>\n",
       "      <td>3225.6</td>\n",
       "    </tr>\n",
       "    <tr>\n",
       "      <th>employer_of</th>\n",
       "      <td>105000.0</td>\n",
       "      <td>1.953057</td>\n",
       "      <td>2.361890</td>\n",
       "      <td>0.0</td>\n",
       "      <td>0.00</td>\n",
       "      <td>1.0</td>\n",
       "      <td>4.00</td>\n",
       "      <td>6.0</td>\n",
       "    </tr>\n",
       "    <tr>\n",
       "      <th>weeks_worked</th>\n",
       "      <td>105000.0</td>\n",
       "      <td>20.898371</td>\n",
       "      <td>22.041670</td>\n",
       "      <td>0.0</td>\n",
       "      <td>0.00</td>\n",
       "      <td>7.0</td>\n",
       "      <td>47.00</td>\n",
       "      <td>47.0</td>\n",
       "    </tr>\n",
       "    <tr>\n",
       "      <th>hourly_wage</th>\n",
       "      <td>105000.0</td>\n",
       "      <td>93.484943</td>\n",
       "      <td>461.214547</td>\n",
       "      <td>0.0</td>\n",
       "      <td>0.00</td>\n",
       "      <td>0.0</td>\n",
       "      <td>0.00</td>\n",
       "      <td>16998.3</td>\n",
       "    </tr>\n",
       "  </tbody>\n",
       "</table>\n",
       "</div>"
      ],
      "text/plain": [
       "                     count          mean           std     min       25%  \\\n",
       "ID                105000.0  52499.500000  30311.033470     0.0  26249.75   \n",
       "year_of_poll      105000.0   2004.500305      0.500002  2004.0   2004.00   \n",
       "own_self_emp      105000.0      0.176800      0.555648     0.0      0.00   \n",
       "veteran benefits  105000.0      1.517305      0.850049     0.0      2.00   \n",
       "age               105000.0     36.243924     23.465922     0.0     16.00   \n",
       "gains             105000.0    488.464764   5284.877430     0.0      0.00   \n",
       "dividends         105000.0    240.232046   2501.629980     0.0      0.00   \n",
       "losses            105000.0     25.321047    186.824899     0.0      0.00   \n",
       "employer_of       105000.0      1.953057      2.361890     0.0      0.00   \n",
       "weeks_worked      105000.0     20.898371     22.041670     0.0      0.00   \n",
       "hourly_wage       105000.0     93.484943    461.214547     0.0      0.00   \n",
       "\n",
       "                      50%       75%       max  \n",
       "ID                52499.5  78749.25  104999.0  \n",
       "year_of_poll       2005.0   2005.00    2005.0  \n",
       "own_self_emp          0.0      0.00       2.0  \n",
       "veteran benefits      2.0      2.00       2.0  \n",
       "age                  35.0     52.00      94.0  \n",
       "gains                 0.0      0.00  109998.9  \n",
       "dividends             0.0      0.00  119998.8  \n",
       "losses                0.0      0.00    3225.6  \n",
       "employer_of           1.0      4.00       6.0  \n",
       "weeks_worked          7.0     47.00      47.0  \n",
       "hourly_wage           0.0      0.00   16998.3  "
      ]
     },
     "execution_count": 136,
     "metadata": {},
     "output_type": "execute_result"
    }
   ],
   "source": [
    "df.describe().T"
   ]
  },
  {
   "cell_type": "markdown",
   "id": "fbb19daf",
   "metadata": {},
   "source": [
    "# Impute the NULL values"
   ]
  },
  {
   "cell_type": "code",
   "execution_count": 137,
   "id": "81bedbeb",
   "metadata": {
    "scrolled": true
   },
   "outputs": [
    {
     "data": {
      "text/plain": [
       "ID                         0\n",
       "year_of_poll               0\n",
       "own_self_emp               0\n",
       "veteran benefits           0\n",
       "currently_enrolled     31443\n",
       "race                       0\n",
       "father_country             0\n",
       "educ                       0\n",
       "house_stat                11\n",
       "major_ind_code             0\n",
       "labour_union           35331\n",
       "self_country               0\n",
       "major_occ_code         53055\n",
       "age                        0\n",
       "mother_country             0\n",
       "house_summary              0\n",
       "gender                     0\n",
       "hisp_origin                0\n",
       "gains                      0\n",
       "dividends                  0\n",
       "marriage_status            0\n",
       "losses                     0\n",
       "employer_of                0\n",
       "house_1yr_ago          53322\n",
       "income_filled          32403\n",
       "weeks_worked               0\n",
       "under18                76016\n",
       "hourly_wage                0\n",
       "unemp_reason          101811\n",
       "citizenship                0\n",
       "woker_type             52835\n",
       "fed_liability              0\n",
       "full_partime_job        1392\n",
       "income                     0\n",
       "dtype: int64"
      ]
     },
     "execution_count": 137,
     "metadata": {},
     "output_type": "execute_result"
    }
   ],
   "source": [
    "df.isnull().sum()"
   ]
  },
  {
   "cell_type": "code",
   "execution_count": 138,
   "id": "5458b005",
   "metadata": {
    "scrolled": true
   },
   "outputs": [
    {
     "data": {
      "text/plain": [
       "ID                        0\n",
       "year_of_poll              0\n",
       "own_self_emp              0\n",
       "veteran benefits          0\n",
       "currently_enrolled    12613\n",
       "race                      0\n",
       "father_country            0\n",
       "educ                      0\n",
       "house_stat                3\n",
       "major_ind_code            0\n",
       "labour_union          14337\n",
       "self_country              0\n",
       "major_occ_code        21068\n",
       "age                     596\n",
       "mother_country            0\n",
       "house_summary             0\n",
       "gender                    0\n",
       "hisp_origin               0\n",
       "gains                     0\n",
       "dividends                 0\n",
       "marriage_status           0\n",
       "losses                    0\n",
       "employer_of               0\n",
       "house_1yr_ago         21398\n",
       "income_filled         13008\n",
       "weeks_worked              0\n",
       "under18               30340\n",
       "hourly_wage               0\n",
       "unemp_reason          40715\n",
       "citizenship               0\n",
       "woker_type            20977\n",
       "fed_liability             0\n",
       "full_partime_job        568\n",
       "dtype: int64"
      ]
     },
     "execution_count": 138,
     "metadata": {},
     "output_type": "execute_result"
    }
   ],
   "source": [
    "df_to_predict.isnull().sum()"
   ]
  },
  {
   "cell_type": "code",
   "execution_count": 139,
   "id": "bfe8c3d7",
   "metadata": {},
   "outputs": [
    {
     "data": {
      "text/html": [
       "<div>\n",
       "<style scoped>\n",
       "    .dataframe tbody tr th:only-of-type {\n",
       "        vertical-align: middle;\n",
       "    }\n",
       "\n",
       "    .dataframe tbody tr th {\n",
       "        vertical-align: top;\n",
       "    }\n",
       "\n",
       "    .dataframe thead th {\n",
       "        text-align: right;\n",
       "    }\n",
       "</style>\n",
       "<table border=\"1\" class=\"dataframe\">\n",
       "  <thead>\n",
       "    <tr style=\"text-align: right;\">\n",
       "      <th></th>\n",
       "      <th>ID</th>\n",
       "      <th>year_of_poll</th>\n",
       "      <th>own_self_emp</th>\n",
       "      <th>veteran benefits</th>\n",
       "      <th>race</th>\n",
       "      <th>father_country</th>\n",
       "      <th>educ</th>\n",
       "      <th>house_stat</th>\n",
       "      <th>major_ind_code</th>\n",
       "      <th>labour_union</th>\n",
       "      <th>...</th>\n",
       "      <th>income_filled</th>\n",
       "      <th>weeks_worked</th>\n",
       "      <th>under18</th>\n",
       "      <th>hourly_wage</th>\n",
       "      <th>unemp_reason</th>\n",
       "      <th>citizenship</th>\n",
       "      <th>woker_type</th>\n",
       "      <th>fed_liability</th>\n",
       "      <th>full_partime_job</th>\n",
       "      <th>income</th>\n",
       "    </tr>\n",
       "    <tr>\n",
       "      <th>currently_enrolled</th>\n",
       "      <th></th>\n",
       "      <th></th>\n",
       "      <th></th>\n",
       "      <th></th>\n",
       "      <th></th>\n",
       "      <th></th>\n",
       "      <th></th>\n",
       "      <th></th>\n",
       "      <th></th>\n",
       "      <th></th>\n",
       "      <th></th>\n",
       "      <th></th>\n",
       "      <th></th>\n",
       "      <th></th>\n",
       "      <th></th>\n",
       "      <th></th>\n",
       "      <th></th>\n",
       "      <th></th>\n",
       "      <th></th>\n",
       "      <th></th>\n",
       "      <th></th>\n",
       "    </tr>\n",
       "  </thead>\n",
       "  <tbody>\n",
       "    <tr>\n",
       "      <th>High school</th>\n",
       "      <td>31171</td>\n",
       "      <td>31171</td>\n",
       "      <td>31171</td>\n",
       "      <td>31171</td>\n",
       "      <td>31171</td>\n",
       "      <td>31171</td>\n",
       "      <td>31171</td>\n",
       "      <td>31164</td>\n",
       "      <td>31171</td>\n",
       "      <td>20660</td>\n",
       "      <td>...</td>\n",
       "      <td>21423</td>\n",
       "      <td>31171</td>\n",
       "      <td>9771</td>\n",
       "      <td>31171</td>\n",
       "      <td>1068</td>\n",
       "      <td>31171</td>\n",
       "      <td>15365</td>\n",
       "      <td>31171</td>\n",
       "      <td>30746</td>\n",
       "      <td>31171</td>\n",
       "    </tr>\n",
       "    <tr>\n",
       "      <th>College/University</th>\n",
       "      <td>42386</td>\n",
       "      <td>42386</td>\n",
       "      <td>42386</td>\n",
       "      <td>42386</td>\n",
       "      <td>42386</td>\n",
       "      <td>42386</td>\n",
       "      <td>42386</td>\n",
       "      <td>42384</td>\n",
       "      <td>42386</td>\n",
       "      <td>28146</td>\n",
       "      <td>...</td>\n",
       "      <td>29370</td>\n",
       "      <td>42386</td>\n",
       "      <td>10725</td>\n",
       "      <td>42386</td>\n",
       "      <td>1227</td>\n",
       "      <td>42386</td>\n",
       "      <td>21349</td>\n",
       "      <td>42386</td>\n",
       "      <td>41836</td>\n",
       "      <td>42386</td>\n",
       "    </tr>\n",
       "  </tbody>\n",
       "</table>\n",
       "<p>2 rows × 33 columns</p>\n",
       "</div>"
      ],
      "text/plain": [
       "                       ID  year_of_poll  own_self_emp  veteran benefits  \\\n",
       "currently_enrolled                                                        \n",
       " High school        31171         31171         31171             31171   \n",
       "College/University  42386         42386         42386             42386   \n",
       "\n",
       "                     race  father_country   educ  house_stat  major_ind_code  \\\n",
       "currently_enrolled                                                             \n",
       " High school        31171           31171  31171       31164           31171   \n",
       "College/University  42386           42386  42386       42384           42386   \n",
       "\n",
       "                    labour_union  ...  income_filled  weeks_worked  under18  \\\n",
       "currently_enrolled                ...                                         \n",
       " High school               20660  ...          21423         31171     9771   \n",
       "College/University         28146  ...          29370         42386    10725   \n",
       "\n",
       "                    hourly_wage  unemp_reason  citizenship  woker_type  \\\n",
       "currently_enrolled                                                       \n",
       " High school              31171          1068        31171       15365   \n",
       "College/University        42386          1227        42386       21349   \n",
       "\n",
       "                    fed_liability  full_partime_job  income  \n",
       "currently_enrolled                                           \n",
       " High school                31171             30746   31171  \n",
       "College/University          42386             41836   42386  \n",
       "\n",
       "[2 rows x 33 columns]"
      ]
     },
     "execution_count": 139,
     "metadata": {},
     "output_type": "execute_result"
    }
   ],
   "source": [
    "df.groupby(\"currently_enrolled\").count()"
   ]
  },
  {
   "cell_type": "code",
   "execution_count": 140,
   "id": "a79b71c9",
   "metadata": {},
   "outputs": [],
   "source": [
    "df.fillna('NaN', inplace=True, axis=1)"
   ]
  },
  {
   "cell_type": "code",
   "execution_count": 142,
   "id": "baa4bac1",
   "metadata": {},
   "outputs": [],
   "source": [
    "df_to_predict.age.fillna(df_to_predict.age.mean(), inplace=True)"
   ]
  },
  {
   "cell_type": "code",
   "execution_count": 143,
   "id": "1f6b8949",
   "metadata": {},
   "outputs": [
    {
     "data": {
      "text/plain": [
       "ID                        0\n",
       "year_of_poll              0\n",
       "own_self_emp              0\n",
       "veteran benefits          0\n",
       "currently_enrolled    12613\n",
       "race                      0\n",
       "father_country            0\n",
       "educ                      0\n",
       "house_stat                3\n",
       "major_ind_code            0\n",
       "labour_union          14337\n",
       "self_country              0\n",
       "major_occ_code        21068\n",
       "age                       0\n",
       "mother_country            0\n",
       "house_summary             0\n",
       "gender                    0\n",
       "hisp_origin               0\n",
       "gains                     0\n",
       "dividends                 0\n",
       "marriage_status           0\n",
       "losses                    0\n",
       "employer_of               0\n",
       "house_1yr_ago         21398\n",
       "income_filled         13008\n",
       "weeks_worked              0\n",
       "under18               30340\n",
       "hourly_wage               0\n",
       "unemp_reason          40715\n",
       "citizenship               0\n",
       "woker_type            20977\n",
       "fed_liability             0\n",
       "full_partime_job        568\n",
       "dtype: int64"
      ]
     },
     "execution_count": 143,
     "metadata": {},
     "output_type": "execute_result"
    }
   ],
   "source": [
    "df_to_predict.isnull().sum()"
   ]
  },
  {
   "cell_type": "code",
   "execution_count": 144,
   "id": "467a3981",
   "metadata": {},
   "outputs": [],
   "source": [
    "df_to_predict.fillna('NaN', inplace=True, axis=1)"
   ]
  },
  {
   "cell_type": "code",
   "execution_count": 145,
   "id": "0c469496",
   "metadata": {
    "scrolled": false
   },
   "outputs": [
    {
     "data": {
      "text/plain": [
       "ID                    0\n",
       "year_of_poll          0\n",
       "own_self_emp          0\n",
       "veteran benefits      0\n",
       "currently_enrolled    0\n",
       "race                  0\n",
       "father_country        0\n",
       "educ                  0\n",
       "house_stat            0\n",
       "major_ind_code        0\n",
       "labour_union          0\n",
       "self_country          0\n",
       "major_occ_code        0\n",
       "age                   0\n",
       "mother_country        0\n",
       "house_summary         0\n",
       "gender                0\n",
       "hisp_origin           0\n",
       "gains                 0\n",
       "dividends             0\n",
       "marriage_status       0\n",
       "losses                0\n",
       "employer_of           0\n",
       "house_1yr_ago         0\n",
       "income_filled         0\n",
       "weeks_worked          0\n",
       "under18               0\n",
       "hourly_wage           0\n",
       "unemp_reason          0\n",
       "citizenship           0\n",
       "woker_type            0\n",
       "fed_liability         0\n",
       "full_partime_job      0\n",
       "income                0\n",
       "dtype: int64"
      ]
     },
     "execution_count": 145,
     "metadata": {},
     "output_type": "execute_result"
    }
   ],
   "source": [
    "df.isnull().sum()"
   ]
  },
  {
   "cell_type": "code",
   "execution_count": 146,
   "id": "05797294",
   "metadata": {},
   "outputs": [
    {
     "data": {
      "text/plain": [
       "ID                    0\n",
       "year_of_poll          0\n",
       "own_self_emp          0\n",
       "veteran benefits      0\n",
       "currently_enrolled    0\n",
       "race                  0\n",
       "father_country        0\n",
       "educ                  0\n",
       "house_stat            0\n",
       "major_ind_code        0\n",
       "labour_union          0\n",
       "self_country          0\n",
       "major_occ_code        0\n",
       "age                   0\n",
       "mother_country        0\n",
       "house_summary         0\n",
       "gender                0\n",
       "hisp_origin           0\n",
       "gains                 0\n",
       "dividends             0\n",
       "marriage_status       0\n",
       "losses                0\n",
       "employer_of           0\n",
       "house_1yr_ago         0\n",
       "income_filled         0\n",
       "weeks_worked          0\n",
       "under18               0\n",
       "hourly_wage           0\n",
       "unemp_reason          0\n",
       "citizenship           0\n",
       "woker_type            0\n",
       "fed_liability         0\n",
       "full_partime_job      0\n",
       "dtype: int64"
      ]
     },
     "execution_count": 146,
     "metadata": {},
     "output_type": "execute_result"
    }
   ],
   "source": [
    "df_to_predict.isnull().sum()"
   ]
  },
  {
   "cell_type": "code",
   "execution_count": 147,
   "id": "311544e4",
   "metadata": {},
   "outputs": [
    {
     "name": "stdout",
     "output_type": "stream",
     "text": [
      "<class 'pandas.core.frame.DataFrame'>\n",
      "RangeIndex: 42000 entries, 0 to 41999\n",
      "Data columns (total 33 columns):\n",
      " #   Column              Non-Null Count  Dtype  \n",
      "---  ------              --------------  -----  \n",
      " 0   ID                  42000 non-null  int64  \n",
      " 1   year_of_poll        42000 non-null  int64  \n",
      " 2   own_self_emp        42000 non-null  int64  \n",
      " 3   veteran benefits    42000 non-null  int64  \n",
      " 4   currently_enrolled  42000 non-null  object \n",
      " 5   race                42000 non-null  object \n",
      " 6   father_country      42000 non-null  object \n",
      " 7   educ                42000 non-null  object \n",
      " 8   house_stat          42000 non-null  object \n",
      " 9   major_ind_code      42000 non-null  object \n",
      " 10  labour_union        42000 non-null  object \n",
      " 11  self_country        42000 non-null  object \n",
      " 12  major_occ_code      42000 non-null  object \n",
      " 13  age                 42000 non-null  float64\n",
      " 14  mother_country      42000 non-null  object \n",
      " 15  house_summary       42000 non-null  object \n",
      " 16  gender              42000 non-null  object \n",
      " 17  hisp_origin         42000 non-null  object \n",
      " 18  gains               42000 non-null  float64\n",
      " 19  dividends           42000 non-null  float64\n",
      " 20  marriage_status     42000 non-null  object \n",
      " 21  losses              42000 non-null  float64\n",
      " 22  employer_of         42000 non-null  int64  \n",
      " 23  house_1yr_ago       42000 non-null  object \n",
      " 24  income_filled       42000 non-null  object \n",
      " 25  weeks_worked        42000 non-null  int64  \n",
      " 26  under18             42000 non-null  object \n",
      " 27  hourly_wage         42000 non-null  float64\n",
      " 28  unemp_reason        42000 non-null  object \n",
      " 29  citizenship         42000 non-null  object \n",
      " 30  woker_type          42000 non-null  object \n",
      " 31  fed_liability       42000 non-null  object \n",
      " 32  full_partime_job    42000 non-null  object \n",
      "dtypes: float64(5), int64(6), object(22)\n",
      "memory usage: 10.6+ MB\n"
     ]
    }
   ],
   "source": [
    "df_to_predict.info()"
   ]
  },
  {
   "cell_type": "code",
   "execution_count": 124,
   "id": "3f1fb457",
   "metadata": {},
   "outputs": [
    {
     "name": "stdout",
     "output_type": "stream",
     "text": [
      "<class 'pandas.core.frame.DataFrame'>\n",
      "RangeIndex: 105000 entries, 0 to 104999\n",
      "Data columns (total 33 columns):\n",
      " #   Column              Non-Null Count   Dtype  \n",
      "---  ------              --------------   -----  \n",
      " 0   year_of_poll        105000 non-null  int64  \n",
      " 1   own_self_emp        105000 non-null  int64  \n",
      " 2   veteran benefits    105000 non-null  int64  \n",
      " 3   currently_enrolled  105000 non-null  int32  \n",
      " 4   race                105000 non-null  int32  \n",
      " 5   father_country      105000 non-null  int32  \n",
      " 6   educ                105000 non-null  int32  \n",
      " 7   house_stat          105000 non-null  int32  \n",
      " 8   major_ind_code      105000 non-null  int32  \n",
      " 9   labour_union        105000 non-null  int32  \n",
      " 10  self_country        105000 non-null  int32  \n",
      " 11  major_occ_code      105000 non-null  int32  \n",
      " 12  age                 105000 non-null  int64  \n",
      " 13  mother_country      105000 non-null  int32  \n",
      " 14  house_summary       105000 non-null  int32  \n",
      " 15  gender              105000 non-null  int32  \n",
      " 16  hisp_origin         105000 non-null  int32  \n",
      " 17  gains               105000 non-null  float64\n",
      " 18  dividends           105000 non-null  float64\n",
      " 19  marriage_status     105000 non-null  int32  \n",
      " 20  losses              105000 non-null  float64\n",
      " 21  employer_of         105000 non-null  int64  \n",
      " 22  house_1yr_ago       105000 non-null  int32  \n",
      " 23  income_filled       105000 non-null  int32  \n",
      " 24  weeks_worked        105000 non-null  int64  \n",
      " 25  under18             105000 non-null  int32  \n",
      " 26  hourly_wage         105000 non-null  float64\n",
      " 27  unemp_reason        105000 non-null  int32  \n",
      " 28  citizenship         105000 non-null  int32  \n",
      " 29  woker_type          105000 non-null  int32  \n",
      " 30  fed_liability       105000 non-null  int32  \n",
      " 31  full_partime_job    105000 non-null  int32  \n",
      " 32  income              105000 non-null  int32  \n",
      "dtypes: float64(4), int32(23), int64(6)\n",
      "memory usage: 17.2 MB\n"
     ]
    }
   ],
   "source": [
    "df.info()"
   ]
  },
  {
   "cell_type": "code",
   "execution_count": 148,
   "id": "cdec5b12",
   "metadata": {
    "scrolled": false
   },
   "outputs": [
    {
     "name": "stdout",
     "output_type": "stream",
     "text": [
      "Field name is  CURRENTLY_ENROLLED : and Count for this categories are  3\n",
      " High school          31171\n",
      "NaN                   31443\n",
      "College/University    42386\n",
      "Name: currently_enrolled, dtype: int64\n",
      "\n",
      "\n",
      "\n",
      "Field name is  RACE : and Count for this categories are  5\n",
      "Amer/Indian/Aleut/Eskimo     1174\n",
      " Other                       1935\n",
      "Asian/Pacific_Islander       3050\n",
      " Black                      10763\n",
      " White                      88078\n",
      "Name: race, dtype: int64\n",
      "\n",
      "\n",
      "\n",
      "Field name is  FATHER_COUNTRY : and Count for this categories are  43\n",
      " Panama                             11\n",
      " Holand-Netherlands                 25\n",
      " Hong Kong                          52\n",
      " Trinadad&Tobago                    55\n",
      " Thailand                           55\n",
      " Outlying-U S (Guam USVI etc)       74\n",
      " Laos                               85\n",
      " Honduras                           99\n",
      " France                            100\n",
      " Taiwan                            100\n",
      " Cambodia                          109\n",
      " Iran                              113\n",
      " Yugoslavia                        124\n",
      " Scotland                          130\n",
      " Hungary                           149\n",
      " Peru                              172\n",
      " Greece                            172\n",
      " Nicaragua                         187\n",
      " Haiti                             193\n",
      " Portugal                          197\n",
      " Ecuador                           197\n",
      " Japan                             209\n",
      " Guatemala                         239\n",
      " Vietnam                           242\n",
      " Jamaica                           247\n",
      " Ireland                           258\n",
      " India                             280\n",
      " South Korea                       288\n",
      " Columbia                          320\n",
      " England                           403\n",
      " China                             434\n",
      " El-Salvador                       519\n",
      " Cuba                              593\n",
      " Philippines                       616\n",
      " Poland                            645\n",
      " Dominican-Republic                679\n",
      " Canada                            704\n",
      " Germany                           741\n",
      " Italy                            1189\n",
      " Puerto-Rico                      1455\n",
      " ?                                3523\n",
      " Mexico                           5297\n",
      " United-States                   83720\n",
      "Name: father_country, dtype: int64\n",
      "\n",
      "\n",
      "\n",
      "Field name is  EDUC : and Count for this categories are  17\n",
      " Less than 1st grade                         449\n",
      " Doctorate degree(PhD EdD)                   651\n",
      " Prof school degree (MD DDS DVM LLB JD)      937\n",
      " 1st 2nd 3rd or 4th grade                    963\n",
      " 12th grade no diploma                      1082\n",
      " 5th or 6th grade                           1735\n",
      " Associates degree-academic program         2289\n",
      " Associates degree-occup /vocational        2857\n",
      " 9th grade                                  3275\n",
      " Masters degree(MA MS MEng MEd MSW MBA)     3471\n",
      " 11th grade                                 3611\n",
      " 10th grade                                 3962\n",
      " 7th and 8th grade                          4239\n",
      " Bachelors degree(BA AB BS)                10403\n",
      " Some college but no degree                14637\n",
      " Children                                  24831\n",
      " High school graduate                      25608\n",
      "Name: educ, dtype: int64\n",
      "\n",
      "\n",
      "\n",
      "Field name is  HOUSE_STAT : and Count for this categories are  32\n",
      " Other Rel <18 never married RP of subfamily            2\n",
      " Child <18 ever marr RP of subfamily                    3\n",
      " Grandchild 18+ spouse of subfamily RP                  3\n",
      " Grandchild 18+ ever marr RP of subfamily               5\n",
      "NaN                                                    11\n",
      " Child <18 ever marr not in subfamily                  14\n",
      " Grandchild 18+ ever marr not in subfamily             19\n",
      " Spouse of RP of unrelated subfamily                   23\n",
      " Other Rel 18+ never marr RP of subfamily              45\n",
      " Child <18 never marr RP of subfamily                  46\n",
      " Child 18+ spouse of subfamily RP                      64\n",
      " In group quarters                                    108\n",
      " Grandchild 18+ never marr not in subfamily           195\n",
      " Other Rel 18+ spouse of subfamily RP                 308\n",
      " Child 18+ never marr RP of subfamily                 308\n",
      " Other Rel <18 never marr not in subfamily            316\n",
      " Other Rel <18 never marr child of subfamily RP       348\n",
      " Child 18+ ever marr RP of subfamily                  350\n",
      " Other Rel 18+ ever marr RP of subfamily              386\n",
      " RP of unrelated subfamily                            388\n",
      " Child under 18 of RP of unrel subfamily              390\n",
      " Grandchild <18 never marr not in subfamily           542\n",
      " Child 18+ ever marr Not in a subfamily               547\n",
      " Other Rel 18+ never marr not in subfamily            929\n",
      " Grandchild <18 never marr child of subfamily RP      980\n",
      " Other Rel 18+ ever marr not in subfamily             997\n",
      " Secondary individual                                3224\n",
      " Child 18+ never marr Not in a subfamily             6320\n",
      " Nonfamily householder                              11728\n",
      " Spouse of householder                              21940\n",
      " Child <18 never marr not in subfamily              26380\n",
      " Householder                                        28081\n",
      "Name: house_stat, dtype: int64\n",
      "\n",
      "\n",
      "\n",
      "Field name is  MAJOR_IND_CODE : and Count for this categories are  24\n",
      " Armed Forces                              21\n",
      " Forestry and fisheries                    94\n",
      " Mining                                   299\n",
      " Private household services               517\n",
      " Utilities and sanitary services          608\n",
      " Communications                           655\n",
      " Entertainment                            846\n",
      " Social services                         1336\n",
      " Personal services except private HH     1541\n",
      " Agriculture                             1630\n",
      " Wholesale trade                         1858\n",
      " Hospital services                       2086\n",
      " Transportation                          2157\n",
      " Other professional services             2373\n",
      " Public administration                   2416\n",
      " Medical except hospital                 2484\n",
      " Business and repair services            2962\n",
      " Construction                            3178\n",
      " Finance insurance and real estate       3178\n",
      " Manufacturing-nondurable goods          3705\n",
      " Education                               4307\n",
      " Manufacturing-durable goods             4805\n",
      " Retail trade                            8889\n",
      " Not in universe or children            53055\n",
      "Name: major_ind_code, dtype: int64\n",
      "\n",
      "\n",
      "\n",
      "Field name is  LABOUR_UNION : and Count for this categories are  3\n",
      "yes    10399\n",
      "NaN    35331\n",
      "no     59270\n",
      "Name: labour_union, dtype: int64\n",
      "\n",
      "\n",
      "\n",
      "Field name is  SELF_COUNTRY : and Count for this categories are  43\n",
      " Holand-Netherlands                 12\n",
      " Panama                             16\n",
      " Trinadad&Tobago                    33\n",
      " Scotland                           36\n",
      " Yugoslavia                         39\n",
      " Hungary                            40\n",
      " Cambodia                           47\n",
      " Hong Kong                          48\n",
      " Laos                               53\n",
      " Thailand                           61\n",
      " Outlying-U S (Guam USVI etc)       62\n",
      " Ireland                            65\n",
      " France                             68\n",
      " Iran                               77\n",
      " Honduras                           78\n",
      " Greece                             78\n",
      " Portugal                           85\n",
      " Taiwan                            100\n",
      " Haiti                             125\n",
      " Nicaragua                         127\n",
      " Ecuador                           140\n",
      " Peru                              141\n",
      " Jamaica                           176\n",
      " Japan                             179\n",
      " Guatemala                         180\n",
      " India                             194\n",
      " Poland                            195\n",
      " Italy                             208\n",
      " Vietnam                           210\n",
      " England                           234\n",
      " Columbia                          241\n",
      " South Korea                       254\n",
      " China                             258\n",
      " Canada                            357\n",
      " Dominican-Republic                358\n",
      " El-Salvador                       372\n",
      " Cuba                              453\n",
      " Germany                           456\n",
      " Philippines                       464\n",
      " Puerto-Rico                       769\n",
      " ?                                1806\n",
      " Mexico                           3083\n",
      " United-States                   93022\n",
      "Name: self_country, dtype: int64\n",
      "\n",
      "\n",
      "\n",
      "Field name is  MAJOR_OCC_CODE : and Count for this categories are  15\n",
      " Armed Forces                                21\n",
      " Private household services                 431\n",
      " Protective services                        871\n",
      " Technicians and related support           1604\n",
      " Farming forestry and fishing              1686\n",
      " Transportation and material moving        2112\n",
      " Handlers equip cleaners etc               2180\n",
      " Machine operators assmblrs & inspctrs     3414\n",
      " Precision production craft & repair       5604\n",
      " Sales                                     6112\n",
      " Other service                             6365\n",
      " Executive admin and managerial            6517\n",
      " Professional specialty                    7320\n",
      " Adm support including clerical            7708\n",
      "NaN                                       53055\n",
      "Name: major_occ_code, dtype: int64\n",
      "\n",
      "\n",
      "\n",
      "Field name is  MOTHER_COUNTRY : and Count for this categories are  43\n",
      " Panama                             18\n",
      " Holand-Netherlands                 27\n",
      " Trinadad&Tobago                    49\n",
      " Hong Kong                          53\n",
      " Thailand                           65\n",
      " Outlying-U S (Guam USVI etc)       79\n",
      " Cambodia                           81\n",
      " Laos                               86\n",
      " Iran                               96\n",
      " Yugoslavia                        108\n",
      " Taiwan                            110\n",
      " France                            113\n",
      " Honduras                          117\n",
      " Greece                            122\n",
      " Scotland                          130\n",
      " Hungary                           157\n",
      " Portugal                          175\n",
      " Nicaragua                         182\n",
      " Peru                              187\n",
      " Haiti                             192\n",
      " Ecuador                           202\n",
      " Guatemala                         235\n",
      " Jamaica                           240\n",
      " Japan                             248\n",
      " Vietnam                           253\n",
      " India                             271\n",
      " Ireland                           298\n",
      " South Korea                       332\n",
      " Columbia                          337\n",
      " China                             390\n",
      " England                           463\n",
      " Poland                            578\n",
      " Dominican-Republic                579\n",
      " El-Salvador                       581\n",
      " Cuba                              592\n",
      " Philippines                       651\n",
      " Canada                            736\n",
      " Germany                           742\n",
      " Italy                             990\n",
      " Puerto-Rico                      1369\n",
      " ?                                3243\n",
      " Mexico                           5199\n",
      " United-States                   84324\n"
     ]
    },
    {
     "name": "stdout",
     "output_type": "stream",
     "text": [
      "Name: mother_country, dtype: int64\n",
      "\n",
      "\n",
      "\n",
      "Field name is  HOUSE_SUMMARY : and Count for this categories are  8\n",
      "Child_U18_Married         18\n",
      "Sy_Individual             76\n",
      "Non_Relative            4029\n",
      "Relative                5086\n",
      "Child_Above18           7590\n",
      "Spouse                 21946\n",
      "Child_U18_Unmarried    26438\n",
      " Householder           39817\n",
      "Name: house_summary, dtype: int64\n",
      "\n",
      "\n",
      "\n",
      "Field name is  GENDER : and Count for this categories are  2\n",
      "M    50418\n",
      "F    54582\n",
      "Name: gender, dtype: int64\n",
      "\n",
      "\n",
      "\n",
      "Field name is  HISP_ORIGIN : and Count for this categories are  10\n",
      " Chicano                    153\n",
      " Do not know                169\n",
      " NA                         469\n",
      " Cuban                      601\n",
      "Other_Spanish              1316\n",
      "Puer_Ric                   1777\n",
      "Central/South_American     2135\n",
      "Mexican_Mexicano           3836\n",
      "Mex_Amer                   4282\n",
      "All_Other                 90262\n",
      "Name: hisp_origin, dtype: int64\n",
      "\n",
      "\n",
      "\n",
      "Field name is  MARRIAGE_STATUS : and Count for this categories are  7\n",
      "Married_AF_Sp_Pr            357\n",
      "Married_Sp_Ab               773\n",
      " Separated                 1883\n",
      " Widowed                   5510\n",
      " Divorced                  6726\n",
      "Married_civilian_Sp_Pr    44230\n",
      "Unmarried                 45521\n",
      "Name: marriage_status, dtype: int64\n",
      "\n",
      "\n",
      "\n",
      "Field name is  HOUSE_1YR_AGO : and Count for this categories are  3\n",
      " No      8234\n",
      " Yes    43444\n",
      "NaN     53322\n",
      "Name: house_1yr_ago, dtype: int64\n",
      "\n",
      "\n",
      "\n",
      "Field name is  INCOME_FILLED : and Count for this categories are  3\n",
      " Yes    16455\n",
      "NaN     32403\n",
      " No     56142\n",
      "Name: income_filled, dtype: int64\n",
      "\n",
      "\n",
      "\n",
      "Field name is  UNDER18 : and Count for this categories are  5\n",
      "Both_Ab       860\n",
      "Only_Dad      984\n",
      "Only_Mom     6713\n",
      "Both_Pr     20427\n",
      "NaN         76016\n",
      "Name: under18, dtype: int64\n",
      "\n",
      "\n",
      "\n",
      "Field name is  UNEMP_REASON : and Count for this categories are  6\n",
      " New entrant           220\n",
      " Job leaver            320\n",
      "Job loser_layoff       517\n",
      "Job loser_Other       1051\n",
      " Re-entrant           1081\n",
      "NaN                 101811\n",
      "Name: unemp_reason, dtype: int64\n",
      "\n",
      "\n",
      "\n",
      "Field name is  CITIZENSHIP : and Count for this categories are  5\n",
      "NB_PR              831\n",
      "NB_US_Parents      917\n",
      "FB_US             3095\n",
      "FB                7133\n",
      "NB_US            93024\n",
      "Name: citizenship, dtype: int64\n",
      "\n",
      "\n",
      "\n",
      "Field name is  WOKER_TYPE : and Count for this categories are  9\n",
      " Without pay           83\n",
      " Never worked         220\n",
      "Fed_Govt             1538\n",
      "Self_emp_inc         1693\n",
      "St_Govt              2186\n",
      "Loc_Govt             4048\n",
      "Self_emp_not_inc     4430\n",
      "Pvt                 37967\n",
      "NaN                 52835\n",
      "Name: woker_type, dtype: int64\n",
      "\n",
      "\n",
      "\n",
      "Field name is  FED_LIABILITY : and Count for this categories are  6\n",
      "Joint_one_Under65_one_Above65     2082\n",
      " Head of household                3939\n",
      "Joint_both_Above65                4347\n",
      " Single                          19729\n",
      "Joint_both_under65               35315\n",
      " Nonfiler                        39588\n",
      "Name: fed_liability, dtype: int64\n",
      "\n",
      "\n",
      "\n",
      "Field name is  FULL_PARTIME_JOB : and Count for this categories are  9\n",
      " PT for econ reasons usually FT          280\n",
      " Unemployed part- time                   450\n",
      " PT for econ reasons usually PT          654\n",
      " Unemployed full-time                   1185\n",
      "NaN                                     1392\n",
      " PT for non-econ reasons usually FT     1737\n",
      " Not in labor force                    14051\n",
      " Full-time schedules                   21083\n",
      "Children/Armed_Forces                  64168\n",
      "Name: full_partime_job, dtype: int64\n",
      "\n",
      "\n",
      "\n",
      "Field name is  INCOME : and Count for this categories are  2\n",
      "More than 50K $    39728\n",
      "Less than 50K $    65272\n",
      "Name: income, dtype: int64\n",
      "\n",
      "\n",
      "\n"
     ]
    }
   ],
   "source": [
    "#Finding unique values for categorical variables\n",
    "for column in df.columns:\n",
    "    if df[column].dtype == 'object':\n",
    "        print(\"Field name is \", column.upper(),': and Count for this categories are ',df[column].nunique())\n",
    "        print(df[column].value_counts().sort_values())\n",
    "        print('\\n\\n')"
   ]
  },
  {
   "cell_type": "code",
   "execution_count": 149,
   "id": "646817cf",
   "metadata": {},
   "outputs": [
    {
     "data": {
      "image/png": "[encoded data removed]",
      "text/plain": [
       "<Figure size 1440x1440 with 24 Axes>"
      ]
     },
     "metadata": {
      "needs_background": "light"
     },
     "output_type": "display_data"
    }
   ],
   "source": [
    "fig, axes = plt.subplots(nrows=12,ncols=2)\n",
    "fig.set_size_inches(20,20)\n",
    "x=0\n",
    "y=0\n",
    "for i in df.select_dtypes(include='number'):\n",
    "        ax_hist=sns.histplot(x=df[i], kde=True, ax=axes[x][y], color='g')\n",
    "        ax_box=sns.boxplot(x=df[i], data=df, ax=axes[x][y+1], color='y')\n",
    "        plt.xticks(rotation=45)\n",
    "        ax_hist.set(xlabel=i,title='Histogram for '+i)\n",
    "        ax_box.set(xlabel=i,title='BoxPlot for '+i)\n",
    "        plt.tight_layout()\n",
    "        x=x+1"
   ]
  },
  {
   "cell_type": "code",
   "execution_count": 150,
   "id": "1372df3d",
   "metadata": {},
   "outputs": [
    {
     "data": {
      "text/plain": [
       "dividends           28.285405\n",
       "gains               18.609031\n",
       "hourly_wage          8.608618\n",
       "losses               7.744515\n",
       "own_self_emp         2.897822\n",
       "employer_of          0.752876\n",
       "age                  0.366649\n",
       "weeks_worked         0.214267\n",
       "ID                   0.000000\n",
       "year_of_poll        -0.001219\n",
       "veteran benefits    -1.208871\n",
       "dtype: float64"
      ]
     },
     "execution_count": 150,
     "metadata": {},
     "output_type": "execute_result"
    }
   ],
   "source": [
    "#df.skew()\n",
    "df.skew().sort_values(ascending=False)\n",
    "#calculating skewness before treating outliers present in the data."
   ]
  },
  {
   "cell_type": "code",
   "execution_count": 151,
   "id": "93f938cb",
   "metadata": {},
   "outputs": [
    {
     "data": {
      "text/plain": [
       "(array([ 0.5,  1.5,  2.5,  3.5,  4.5,  5.5,  6.5,  7.5,  8.5,  9.5, 10.5]),\n",
       " [Text(0.5, 0, 'ID'),\n",
       "  Text(1.5, 0, 'year_of_poll'),\n",
       "  Text(2.5, 0, 'own_self_emp'),\n",
       "  Text(3.5, 0, 'veteran benefits'),\n",
       "  Text(4.5, 0, 'age'),\n",
       "  Text(5.5, 0, 'gains'),\n",
       "  Text(6.5, 0, 'dividends'),\n",
       "  Text(7.5, 0, 'losses'),\n",
       "  Text(8.5, 0, 'employer_of'),\n",
       "  Text(9.5, 0, 'weeks_worked'),\n",
       "  Text(10.5, 0, 'hourly_wage')])"
      ]
     },
     "execution_count": 151,
     "metadata": {},
     "output_type": "execute_result"
    },
    {
     "data": {
      "image/png": "[encoded data removed]",
      "text/plain": [
       "<Figure size 864x864 with 2 Axes>"
      ]
     },
     "metadata": {
      "needs_background": "light"
     },
     "output_type": "display_data"
    }
   ],
   "source": [
    "## Heat Map for all Numeric Fields\n",
    "plt.figure(figsize=(12,12))\n",
    "colormap = sns.color_palette(\"Greens\")\n",
    "sns.heatmap(df.corr(),annot=True,fmt=\".2f\",cmap=colormap);\n",
    "plt.xticks(rotation=60)"
   ]
  },
  {
   "cell_type": "markdown",
   "id": "092084ec",
   "metadata": {},
   "source": [
    "# Encoding For Train Data"
   ]
  },
  {
   "cell_type": "code",
   "execution_count": 156,
   "id": "c446df1a",
   "metadata": {},
   "outputs": [],
   "source": [
    "from sklearn.preprocessing import LabelEncoder,OneHotEncoder"
   ]
  },
  {
   "cell_type": "code",
   "execution_count": 157,
   "id": "e11b9de5",
   "metadata": {},
   "outputs": [],
   "source": [
    "# label_encoder object\n",
    "label_encoder =LabelEncoder()"
   ]
  },
  {
   "cell_type": "markdown",
   "id": "2630dd76",
   "metadata": {},
   "source": [
    "# Train data Label encoding"
   ]
  },
  {
   "cell_type": "code",
   "execution_count": 158,
   "id": "2a7dad5b",
   "metadata": {
    "scrolled": false
   },
   "outputs": [],
   "source": [
    "col_list=[]\n",
    "for cols in df.columns:\n",
    "    if df[cols].dtype=='object':\n",
    "        print(cols)\n",
    "        df[cols]= label_encoder.fit_transform(df[cols])"
   ]
  },
  {
   "cell_type": "code",
   "execution_count": 159,
   "id": "f4d7c9c4",
   "metadata": {},
   "outputs": [
    {
     "data": {
      "text/html": [
       "<div>\n",
       "<style scoped>\n",
       "    .dataframe tbody tr th:only-of-type {\n",
       "        vertical-align: middle;\n",
       "    }\n",
       "\n",
       "    .dataframe tbody tr th {\n",
       "        vertical-align: top;\n",
       "    }\n",
       "\n",
       "    .dataframe thead th {\n",
       "        text-align: right;\n",
       "    }\n",
       "</style>\n",
       "<table border=\"1\" class=\"dataframe\">\n",
       "  <thead>\n",
       "    <tr style=\"text-align: right;\">\n",
       "      <th></th>\n",
       "      <th>ID</th>\n",
       "      <th>year_of_poll</th>\n",
       "      <th>own_self_emp</th>\n",
       "      <th>veteran benefits</th>\n",
       "      <th>currently_enrolled</th>\n",
       "      <th>race</th>\n",
       "      <th>father_country</th>\n",
       "      <th>educ</th>\n",
       "      <th>house_stat</th>\n",
       "      <th>major_ind_code</th>\n",
       "      <th>...</th>\n",
       "      <th>income_filled</th>\n",
       "      <th>weeks_worked</th>\n",
       "      <th>under18</th>\n",
       "      <th>hourly_wage</th>\n",
       "      <th>unemp_reason</th>\n",
       "      <th>citizenship</th>\n",
       "      <th>woker_type</th>\n",
       "      <th>fed_liability</th>\n",
       "      <th>full_partime_job</th>\n",
       "      <th>income</th>\n",
       "    </tr>\n",
       "  </thead>\n",
       "  <tbody>\n",
       "    <tr>\n",
       "      <th>0</th>\n",
       "      <td>0</td>\n",
       "      <td>2004</td>\n",
       "      <td>0</td>\n",
       "      <td>2</td>\n",
       "      <td>0</td>\n",
       "      <td>2</td>\n",
       "      <td>40</td>\n",
       "      <td>7</td>\n",
       "      <td>16</td>\n",
       "      <td>2</td>\n",
       "      <td>...</td>\n",
       "      <td>0</td>\n",
       "      <td>47</td>\n",
       "      <td>2</td>\n",
       "      <td>0.0</td>\n",
       "      <td>5</td>\n",
       "      <td>3</td>\n",
       "      <td>5</td>\n",
       "      <td>4</td>\n",
       "      <td>7</td>\n",
       "      <td>1</td>\n",
       "    </tr>\n",
       "    <tr>\n",
       "      <th>1</th>\n",
       "      <td>1</td>\n",
       "      <td>2005</td>\n",
       "      <td>0</td>\n",
       "      <td>0</td>\n",
       "      <td>1</td>\n",
       "      <td>2</td>\n",
       "      <td>24</td>\n",
       "      <td>10</td>\n",
       "      <td>8</td>\n",
       "      <td>14</td>\n",
       "      <td>...</td>\n",
       "      <td>0</td>\n",
       "      <td>0</td>\n",
       "      <td>1</td>\n",
       "      <td>0.0</td>\n",
       "      <td>5</td>\n",
       "      <td>3</td>\n",
       "      <td>4</td>\n",
       "      <td>1</td>\n",
       "      <td>7</td>\n",
       "      <td>1</td>\n",
       "    </tr>\n",
       "    <tr>\n",
       "      <th>2</th>\n",
       "      <td>2</td>\n",
       "      <td>2004</td>\n",
       "      <td>0</td>\n",
       "      <td>2</td>\n",
       "      <td>2</td>\n",
       "      <td>2</td>\n",
       "      <td>40</td>\n",
       "      <td>16</td>\n",
       "      <td>28</td>\n",
       "      <td>10</td>\n",
       "      <td>...</td>\n",
       "      <td>1</td>\n",
       "      <td>47</td>\n",
       "      <td>2</td>\n",
       "      <td>0.0</td>\n",
       "      <td>5</td>\n",
       "      <td>3</td>\n",
       "      <td>5</td>\n",
       "      <td>2</td>\n",
       "      <td>7</td>\n",
       "      <td>1</td>\n",
       "    </tr>\n",
       "    <tr>\n",
       "      <th>3</th>\n",
       "      <td>3</td>\n",
       "      <td>2004</td>\n",
       "      <td>0</td>\n",
       "      <td>2</td>\n",
       "      <td>1</td>\n",
       "      <td>3</td>\n",
       "      <td>40</td>\n",
       "      <td>12</td>\n",
       "      <td>16</td>\n",
       "      <td>23</td>\n",
       "      <td>...</td>\n",
       "      <td>2</td>\n",
       "      <td>47</td>\n",
       "      <td>2</td>\n",
       "      <td>0.0</td>\n",
       "      <td>5</td>\n",
       "      <td>3</td>\n",
       "      <td>5</td>\n",
       "      <td>4</td>\n",
       "      <td>7</td>\n",
       "      <td>1</td>\n",
       "    </tr>\n",
       "    <tr>\n",
       "      <th>4</th>\n",
       "      <td>4</td>\n",
       "      <td>2004</td>\n",
       "      <td>0</td>\n",
       "      <td>2</td>\n",
       "      <td>2</td>\n",
       "      <td>2</td>\n",
       "      <td>40</td>\n",
       "      <td>12</td>\n",
       "      <td>16</td>\n",
       "      <td>23</td>\n",
       "      <td>...</td>\n",
       "      <td>2</td>\n",
       "      <td>47</td>\n",
       "      <td>2</td>\n",
       "      <td>0.0</td>\n",
       "      <td>5</td>\n",
       "      <td>3</td>\n",
       "      <td>5</td>\n",
       "      <td>2</td>\n",
       "      <td>7</td>\n",
       "      <td>1</td>\n",
       "    </tr>\n",
       "  </tbody>\n",
       "</table>\n",
       "<p>5 rows × 34 columns</p>\n",
       "</div>"
      ],
      "text/plain": [
       "   ID  year_of_poll  own_self_emp  veteran benefits  currently_enrolled  race  \\\n",
       "0   0          2004             0                 2                   0     2   \n",
       "1   1          2005             0                 0                   1     2   \n",
       "2   2          2004             0                 2                   2     2   \n",
       "3   3          2004             0                 2                   1     3   \n",
       "4   4          2004             0                 2                   2     2   \n",
       "\n",
       "   father_country  educ  house_stat  major_ind_code  ...  income_filled  \\\n",
       "0              40     7          16               2  ...              0   \n",
       "1              24    10           8              14  ...              0   \n",
       "2              40    16          28              10  ...              1   \n",
       "3              40    12          16              23  ...              2   \n",
       "4              40    12          16              23  ...              2   \n",
       "\n",
       "   weeks_worked  under18  hourly_wage  unemp_reason  citizenship  woker_type  \\\n",
       "0            47        2          0.0             5            3           5   \n",
       "1             0        1          0.0             5            3           4   \n",
       "2            47        2          0.0             5            3           5   \n",
       "3            47        2          0.0             5            3           5   \n",
       "4            47        2          0.0             5            3           5   \n",
       "\n",
       "   fed_liability  full_partime_job  income  \n",
       "0              4                 7       1  \n",
       "1              1                 7       1  \n",
       "2              2                 7       1  \n",
       "3              4                 7       1  \n",
       "4              2                 7       1  \n",
       "\n",
       "[5 rows x 34 columns]"
      ]
     },
     "execution_count": 159,
     "metadata": {},
     "output_type": "execute_result"
    }
   ],
   "source": [
    "df.head()"
   ]
  },
  {
   "cell_type": "markdown",
   "id": "192e66cd",
   "metadata": {},
   "source": [
    "# Test Data Label encoding"
   ]
  },
  {
   "cell_type": "code",
   "execution_count": 160,
   "id": "4f36d853",
   "metadata": {},
   "outputs": [
    {
     "name": "stdout",
     "output_type": "stream",
     "text": [
      "currently_enrolled\n",
      "race\n",
      "father_country\n",
      "educ\n",
      "house_stat\n",
      "major_ind_code\n",
      "labour_union\n",
      "self_country\n",
      "major_occ_code\n",
      "mother_country\n",
      "house_summary\n",
      "gender\n",
      "hisp_origin\n",
      "marriage_status\n",
      "house_1yr_ago\n",
      "income_filled\n",
      "under18\n",
      "unemp_reason\n",
      "citizenship\n",
      "woker_type\n",
      "fed_liability\n",
      "full_partime_job\n"
     ]
    }
   ],
   "source": [
    "col_list=[]\n",
    "for cols in df_to_predict.columns:\n",
    "    if df_to_predict[cols].dtype=='object' and cols!='age':\n",
    "        print(cols)\n",
    "        df_to_predict[cols]= label_encoder.fit_transform(df_to_predict[cols])\n",
    "        \n",
    "df['age'] = df['age'].replace(np.nan, df['age'].mean())"
   ]
  },
  {
   "cell_type": "code",
   "execution_count": 161,
   "id": "82336070",
   "metadata": {},
   "outputs": [
    {
     "data": {
      "text/html": [
       "<div>\n",
       "<style scoped>\n",
       "    .dataframe tbody tr th:only-of-type {\n",
       "        vertical-align: middle;\n",
       "    }\n",
       "\n",
       "    .dataframe tbody tr th {\n",
       "        vertical-align: top;\n",
       "    }\n",
       "\n",
       "    .dataframe thead th {\n",
       "        text-align: right;\n",
       "    }\n",
       "</style>\n",
       "<table border=\"1\" class=\"dataframe\">\n",
       "  <thead>\n",
       "    <tr style=\"text-align: right;\">\n",
       "      <th></th>\n",
       "      <th>ID</th>\n",
       "      <th>year_of_poll</th>\n",
       "      <th>own_self_emp</th>\n",
       "      <th>veteran benefits</th>\n",
       "      <th>currently_enrolled</th>\n",
       "      <th>race</th>\n",
       "      <th>father_country</th>\n",
       "      <th>educ</th>\n",
       "      <th>house_stat</th>\n",
       "      <th>major_ind_code</th>\n",
       "      <th>...</th>\n",
       "      <th>house_1yr_ago</th>\n",
       "      <th>income_filled</th>\n",
       "      <th>weeks_worked</th>\n",
       "      <th>under18</th>\n",
       "      <th>hourly_wage</th>\n",
       "      <th>unemp_reason</th>\n",
       "      <th>citizenship</th>\n",
       "      <th>woker_type</th>\n",
       "      <th>fed_liability</th>\n",
       "      <th>full_partime_job</th>\n",
       "    </tr>\n",
       "  </thead>\n",
       "  <tbody>\n",
       "    <tr>\n",
       "      <th>0</th>\n",
       "      <td>105000</td>\n",
       "      <td>2005</td>\n",
       "      <td>0</td>\n",
       "      <td>2</td>\n",
       "      <td>1</td>\n",
       "      <td>2</td>\n",
       "      <td>40</td>\n",
       "      <td>16</td>\n",
       "      <td>16</td>\n",
       "      <td>11</td>\n",
       "      <td>...</td>\n",
       "      <td>2</td>\n",
       "      <td>0</td>\n",
       "      <td>47</td>\n",
       "      <td>2</td>\n",
       "      <td>0.0</td>\n",
       "      <td>5</td>\n",
       "      <td>3</td>\n",
       "      <td>5</td>\n",
       "      <td>4</td>\n",
       "      <td>0</td>\n",
       "    </tr>\n",
       "    <tr>\n",
       "      <th>1</th>\n",
       "      <td>105001</td>\n",
       "      <td>2004</td>\n",
       "      <td>0</td>\n",
       "      <td>2</td>\n",
       "      <td>1</td>\n",
       "      <td>2</td>\n",
       "      <td>40</td>\n",
       "      <td>9</td>\n",
       "      <td>18</td>\n",
       "      <td>12</td>\n",
       "      <td>...</td>\n",
       "      <td>1</td>\n",
       "      <td>2</td>\n",
       "      <td>47</td>\n",
       "      <td>2</td>\n",
       "      <td>0.0</td>\n",
       "      <td>5</td>\n",
       "      <td>3</td>\n",
       "      <td>5</td>\n",
       "      <td>2</td>\n",
       "      <td>7</td>\n",
       "    </tr>\n",
       "    <tr>\n",
       "      <th>2</th>\n",
       "      <td>105002</td>\n",
       "      <td>2004</td>\n",
       "      <td>0</td>\n",
       "      <td>2</td>\n",
       "      <td>2</td>\n",
       "      <td>2</td>\n",
       "      <td>40</td>\n",
       "      <td>5</td>\n",
       "      <td>17</td>\n",
       "      <td>14</td>\n",
       "      <td>...</td>\n",
       "      <td>1</td>\n",
       "      <td>2</td>\n",
       "      <td>0</td>\n",
       "      <td>2</td>\n",
       "      <td>0.0</td>\n",
       "      <td>5</td>\n",
       "      <td>3</td>\n",
       "      <td>4</td>\n",
       "      <td>1</td>\n",
       "      <td>7</td>\n",
       "    </tr>\n",
       "    <tr>\n",
       "      <th>3</th>\n",
       "      <td>105003</td>\n",
       "      <td>2004</td>\n",
       "      <td>2</td>\n",
       "      <td>2</td>\n",
       "      <td>2</td>\n",
       "      <td>2</td>\n",
       "      <td>40</td>\n",
       "      <td>12</td>\n",
       "      <td>28</td>\n",
       "      <td>11</td>\n",
       "      <td>...</td>\n",
       "      <td>0</td>\n",
       "      <td>0</td>\n",
       "      <td>47</td>\n",
       "      <td>2</td>\n",
       "      <td>0.0</td>\n",
       "      <td>5</td>\n",
       "      <td>3</td>\n",
       "      <td>5</td>\n",
       "      <td>2</td>\n",
       "      <td>7</td>\n",
       "    </tr>\n",
       "    <tr>\n",
       "      <th>4</th>\n",
       "      <td>105004</td>\n",
       "      <td>2004</td>\n",
       "      <td>0</td>\n",
       "      <td>2</td>\n",
       "      <td>2</td>\n",
       "      <td>2</td>\n",
       "      <td>20</td>\n",
       "      <td>11</td>\n",
       "      <td>16</td>\n",
       "      <td>18</td>\n",
       "      <td>...</td>\n",
       "      <td>1</td>\n",
       "      <td>0</td>\n",
       "      <td>47</td>\n",
       "      <td>2</td>\n",
       "      <td>0.0</td>\n",
       "      <td>5</td>\n",
       "      <td>1</td>\n",
       "      <td>3</td>\n",
       "      <td>2</td>\n",
       "      <td>7</td>\n",
       "    </tr>\n",
       "  </tbody>\n",
       "</table>\n",
       "<p>5 rows × 33 columns</p>\n",
       "</div>"
      ],
      "text/plain": [
       "       ID  year_of_poll  own_self_emp  veteran benefits  currently_enrolled  \\\n",
       "0  105000          2005             0                 2                   1   \n",
       "1  105001          2004             0                 2                   1   \n",
       "2  105002          2004             0                 2                   2   \n",
       "3  105003          2004             2                 2                   2   \n",
       "4  105004          2004             0                 2                   2   \n",
       "\n",
       "   race  father_country  educ  house_stat  major_ind_code  ...  house_1yr_ago  \\\n",
       "0     2              40    16          16              11  ...              2   \n",
       "1     2              40     9          18              12  ...              1   \n",
       "2     2              40     5          17              14  ...              1   \n",
       "3     2              40    12          28              11  ...              0   \n",
       "4     2              20    11          16              18  ...              1   \n",
       "\n",
       "   income_filled  weeks_worked  under18  hourly_wage  unemp_reason  \\\n",
       "0              0            47        2          0.0             5   \n",
       "1              2            47        2          0.0             5   \n",
       "2              2             0        2          0.0             5   \n",
       "3              0            47        2          0.0             5   \n",
       "4              0            47        2          0.0             5   \n",
       "\n",
       "   citizenship  woker_type  fed_liability  full_partime_job  \n",
       "0            3           5              4                 0  \n",
       "1            3           5              2                 7  \n",
       "2            3           4              1                 7  \n",
       "3            3           5              2                 7  \n",
       "4            1           3              2                 7  \n",
       "\n",
       "[5 rows x 33 columns]"
      ]
     },
     "execution_count": 161,
     "metadata": {},
     "output_type": "execute_result"
    }
   ],
   "source": [
    "df_to_predict.head()"
   ]
  },
  {
   "cell_type": "markdown",
   "id": "1a6fafad",
   "metadata": {},
   "source": [
    "# Drop ID Columns "
   ]
  },
  {
   "cell_type": "code",
   "execution_count": 162,
   "id": "2a6ca1f0",
   "metadata": {
    "scrolled": true
   },
   "outputs": [],
   "source": [
    "df.drop('ID',inplace=True, axis=1)"
   ]
  },
  {
   "cell_type": "code",
   "execution_count": 163,
   "id": "133de3f6",
   "metadata": {},
   "outputs": [
    {
     "data": {
      "text/plain": [
       "(105000, 33)"
      ]
     },
     "execution_count": 163,
     "metadata": {},
     "output_type": "execute_result"
    }
   ],
   "source": [
    "df.shape"
   ]
  },
  {
   "cell_type": "code",
   "execution_count": 164,
   "id": "657c908e",
   "metadata": {},
   "outputs": [],
   "source": [
    "df_to_predict.drop('ID',inplace=True, axis=1)"
   ]
  },
  {
   "cell_type": "code",
   "execution_count": 165,
   "id": "cdeb1d90",
   "metadata": {},
   "outputs": [
    {
     "data": {
      "text/plain": [
       "(42000, 32)"
      ]
     },
     "execution_count": 165,
     "metadata": {},
     "output_type": "execute_result"
    }
   ],
   "source": [
    "df_to_predict.shape"
   ]
  },
  {
   "cell_type": "code",
   "execution_count": 166,
   "id": "b2fba403",
   "metadata": {},
   "outputs": [],
   "source": [
    "# Copy all the predictor variables into X dataframe. Since 'vote_Labour' is dependent variable drop it\n",
    "X = df.drop('income', axis=1)\n",
    "# Copy the 'vote_Labour' column alone into the y dataframe. This is the dependent variable\n",
    "y = df[['income']]"
   ]
  },
  {
   "cell_type": "markdown",
   "id": "13401816",
   "metadata": {},
   "source": [
    "# Split the Test data"
   ]
  },
  {
   "cell_type": "code",
   "execution_count": 167,
   "id": "d6ecd33f",
   "metadata": {},
   "outputs": [],
   "source": [
    "X_train,X_test,y_train,y_test=train_test_split(X, y, test_size = 0.30, random_state = 123)"
   ]
  },
  {
   "cell_type": "code",
   "execution_count": 168,
   "id": "dcf7b57d",
   "metadata": {
    "scrolled": false
   },
   "outputs": [
    {
     "data": {
      "text/html": [
       "<div>\n",
       "<style scoped>\n",
       "    .dataframe tbody tr th:only-of-type {\n",
       "        vertical-align: middle;\n",
       "    }\n",
       "\n",
       "    .dataframe tbody tr th {\n",
       "        vertical-align: top;\n",
       "    }\n",
       "\n",
       "    .dataframe thead th {\n",
       "        text-align: right;\n",
       "    }\n",
       "</style>\n",
       "<table border=\"1\" class=\"dataframe\">\n",
       "  <thead>\n",
       "    <tr style=\"text-align: right;\">\n",
       "      <th></th>\n",
       "      <th>year_of_poll</th>\n",
       "      <th>own_self_emp</th>\n",
       "      <th>veteran benefits</th>\n",
       "      <th>currently_enrolled</th>\n",
       "      <th>race</th>\n",
       "      <th>father_country</th>\n",
       "      <th>educ</th>\n",
       "      <th>house_stat</th>\n",
       "      <th>major_ind_code</th>\n",
       "      <th>labour_union</th>\n",
       "      <th>...</th>\n",
       "      <th>house_1yr_ago</th>\n",
       "      <th>income_filled</th>\n",
       "      <th>weeks_worked</th>\n",
       "      <th>under18</th>\n",
       "      <th>hourly_wage</th>\n",
       "      <th>unemp_reason</th>\n",
       "      <th>citizenship</th>\n",
       "      <th>woker_type</th>\n",
       "      <th>fed_liability</th>\n",
       "      <th>full_partime_job</th>\n",
       "    </tr>\n",
       "  </thead>\n",
       "  <tbody>\n",
       "    <tr>\n",
       "      <th>47039</th>\n",
       "      <td>2004</td>\n",
       "      <td>0</td>\n",
       "      <td>2</td>\n",
       "      <td>1</td>\n",
       "      <td>2</td>\n",
       "      <td>26</td>\n",
       "      <td>5</td>\n",
       "      <td>27</td>\n",
       "      <td>14</td>\n",
       "      <td>0</td>\n",
       "      <td>...</td>\n",
       "      <td>1</td>\n",
       "      <td>0</td>\n",
       "      <td>0</td>\n",
       "      <td>2</td>\n",
       "      <td>0.0</td>\n",
       "      <td>5</td>\n",
       "      <td>3</td>\n",
       "      <td>4</td>\n",
       "      <td>1</td>\n",
       "      <td>7</td>\n",
       "    </tr>\n",
       "    <tr>\n",
       "      <th>79674</th>\n",
       "      <td>2004</td>\n",
       "      <td>0</td>\n",
       "      <td>0</td>\n",
       "      <td>1</td>\n",
       "      <td>2</td>\n",
       "      <td>26</td>\n",
       "      <td>10</td>\n",
       "      <td>24</td>\n",
       "      <td>14</td>\n",
       "      <td>0</td>\n",
       "      <td>...</td>\n",
       "      <td>2</td>\n",
       "      <td>2</td>\n",
       "      <td>0</td>\n",
       "      <td>1</td>\n",
       "      <td>0.0</td>\n",
       "      <td>5</td>\n",
       "      <td>3</td>\n",
       "      <td>4</td>\n",
       "      <td>1</td>\n",
       "      <td>7</td>\n",
       "    </tr>\n",
       "    <tr>\n",
       "      <th>43660</th>\n",
       "      <td>2005</td>\n",
       "      <td>0</td>\n",
       "      <td>2</td>\n",
       "      <td>0</td>\n",
       "      <td>2</td>\n",
       "      <td>40</td>\n",
       "      <td>12</td>\n",
       "      <td>30</td>\n",
       "      <td>14</td>\n",
       "      <td>0</td>\n",
       "      <td>...</td>\n",
       "      <td>2</td>\n",
       "      <td>0</td>\n",
       "      <td>0</td>\n",
       "      <td>2</td>\n",
       "      <td>0.0</td>\n",
       "      <td>5</td>\n",
       "      <td>3</td>\n",
       "      <td>4</td>\n",
       "      <td>1</td>\n",
       "      <td>1</td>\n",
       "    </tr>\n",
       "    <tr>\n",
       "      <th>101614</th>\n",
       "      <td>2005</td>\n",
       "      <td>1</td>\n",
       "      <td>2</td>\n",
       "      <td>1</td>\n",
       "      <td>2</td>\n",
       "      <td>40</td>\n",
       "      <td>6</td>\n",
       "      <td>16</td>\n",
       "      <td>4</td>\n",
       "      <td>1</td>\n",
       "      <td>...</td>\n",
       "      <td>2</td>\n",
       "      <td>0</td>\n",
       "      <td>47</td>\n",
       "      <td>2</td>\n",
       "      <td>1700.0</td>\n",
       "      <td>5</td>\n",
       "      <td>3</td>\n",
       "      <td>5</td>\n",
       "      <td>0</td>\n",
       "      <td>0</td>\n",
       "    </tr>\n",
       "    <tr>\n",
       "      <th>57714</th>\n",
       "      <td>2004</td>\n",
       "      <td>0</td>\n",
       "      <td>2</td>\n",
       "      <td>2</td>\n",
       "      <td>2</td>\n",
       "      <td>40</td>\n",
       "      <td>5</td>\n",
       "      <td>8</td>\n",
       "      <td>14</td>\n",
       "      <td>1</td>\n",
       "      <td>...</td>\n",
       "      <td>1</td>\n",
       "      <td>0</td>\n",
       "      <td>0</td>\n",
       "      <td>4</td>\n",
       "      <td>0.0</td>\n",
       "      <td>5</td>\n",
       "      <td>3</td>\n",
       "      <td>4</td>\n",
       "      <td>1</td>\n",
       "      <td>7</td>\n",
       "    </tr>\n",
       "  </tbody>\n",
       "</table>\n",
       "<p>5 rows × 32 columns</p>\n",
       "</div>"
      ],
      "text/plain": [
       "        year_of_poll  own_self_emp  veteran benefits  currently_enrolled  \\\n",
       "47039           2004             0                 2                   1   \n",
       "79674           2004             0                 0                   1   \n",
       "43660           2005             0                 2                   0   \n",
       "101614          2005             1                 2                   1   \n",
       "57714           2004             0                 2                   2   \n",
       "\n",
       "        race  father_country  educ  house_stat  major_ind_code  labour_union  \\\n",
       "47039      2              26     5          27              14             0   \n",
       "79674      2              26    10          24              14             0   \n",
       "43660      2              40    12          30              14             0   \n",
       "101614     2              40     6          16               4             1   \n",
       "57714      2              40     5           8              14             1   \n",
       "\n",
       "        ...  house_1yr_ago  income_filled  weeks_worked  under18  hourly_wage  \\\n",
       "47039   ...              1              0             0        2          0.0   \n",
       "79674   ...              2              2             0        1          0.0   \n",
       "43660   ...              2              0             0        2          0.0   \n",
       "101614  ...              2              0            47        2       1700.0   \n",
       "57714   ...              1              0             0        4          0.0   \n",
       "\n",
       "        unemp_reason  citizenship  woker_type  fed_liability  full_partime_job  \n",
       "47039              5            3           4              1                 7  \n",
       "79674              5            3           4              1                 7  \n",
       "43660              5            3           4              1                 1  \n",
       "101614             5            3           5              0                 0  \n",
       "57714              5            3           4              1                 7  \n",
       "\n",
       "[5 rows x 32 columns]"
      ]
     },
     "execution_count": 168,
     "metadata": {},
     "output_type": "execute_result"
    }
   ],
   "source": [
    "X_train.head()"
   ]
  },
  {
   "cell_type": "code",
   "execution_count": 169,
   "id": "f61651f6",
   "metadata": {},
   "outputs": [
    {
     "data": {
      "text/plain": [
       "(73500, 32)"
      ]
     },
     "execution_count": 169,
     "metadata": {},
     "output_type": "execute_result"
    }
   ],
   "source": [
    "X_train.shape"
   ]
  },
  {
   "cell_type": "markdown",
   "id": "0d99eba5",
   "metadata": {},
   "source": [
    "# Building a Decision Tree Classifier Model and fit it on the Training Set"
   ]
  },
  {
   "cell_type": "markdown",
   "id": "aeeecc1e",
   "metadata": {},
   "source": [
    "# DTree Predictions on Train data"
   ]
  },
  {
   "cell_type": "code",
   "execution_count": 170,
   "id": "02db4a57",
   "metadata": {},
   "outputs": [],
   "source": [
    "from sklearn.tree import DecisionTreeClassifier"
   ]
  },
  {
   "cell_type": "code",
   "execution_count": 171,
   "id": "a89f4549",
   "metadata": {},
   "outputs": [],
   "source": [
    "dtc = DecisionTreeClassifier(criterion = 'gini' )"
   ]
  },
  {
   "cell_type": "code",
   "execution_count": 39,
   "id": "84277632",
   "metadata": {},
   "outputs": [
    {
     "data": {
      "text/plain": [
       "DecisionTreeClassifier()"
      ]
     },
     "execution_count": 39,
     "metadata": {},
     "output_type": "execute_result"
    }
   ],
   "source": [
    "dtc.fit(X_train, y_train)"
   ]
  },
  {
   "cell_type": "code",
   "execution_count": 40,
   "id": "34e00417",
   "metadata": {},
   "outputs": [],
   "source": [
    "prediction_dtc=dtc.predict(X_test)"
   ]
  },
  {
   "cell_type": "code",
   "execution_count": 41,
   "id": "82e3a892",
   "metadata": {
    "scrolled": false
   },
   "outputs": [
    {
     "name": "stdout",
     "output_type": "stream",
     "text": [
      "Accuracy for DecisionTreeClassifier model is \n",
      " 0.5534285714285714\n",
      "\n",
      "\n",
      "Classification report for DecisionTreeClassifier model is \n",
      "               precision    recall  f1-score   support\n",
      "\n",
      "           0       0.63      0.66      0.65     19441\n",
      "           1       0.41      0.39      0.40     12059\n",
      "\n",
      "    accuracy                           0.55     31500\n",
      "   macro avg       0.52      0.52      0.52     31500\n",
      "weighted avg       0.55      0.55      0.55     31500\n",
      "\n",
      "\n",
      "\n",
      "Confusion Matrix for DecisionTreeClassifier model is\n"
     ]
    },
    {
     "data": {
      "image/png": "[encoded data removed]",
      "text/plain": [
       "<Figure size 432x288 with 1 Axes>"
      ]
     },
     "metadata": {
      "needs_background": "light"
     },
     "output_type": "display_data"
    }
   ],
   "source": [
    "models_names={dtc:'DecisionTreeClassifier'}\n",
    "\n",
    "print('Accuracy for {} model is'.format(models_names[dtc]),'\\n',accuracy_score(y_test,prediction_dtc))\n",
    "print('\\n')\n",
    "print('Classification report for {} model is'.format(models_names[dtc]),'\\n',classification_report(y_test,prediction_dtc))\n",
    "print('\\n')\n",
    "print('Confusion Matrix for {} model is'.format(models_names[dtc]))\n",
    "sns.heatmap(confusion_matrix(y_test,prediction_dtc),annot=True,fmt='d',cbar=False)\n",
    "plt.title('Confusion Matrix for {}'.format(models_names[dtc]))\n",
    "plt.xlabel('Predicted Label')\n",
    "plt.ylabel('Actual Label')\n",
    "plt.show()"
   ]
  },
  {
   "cell_type": "code",
   "execution_count": 42,
   "id": "d2eef797",
   "metadata": {},
   "outputs": [
    {
     "name": "stdout",
     "output_type": "stream",
     "text": [
      "                         Imp\n",
      "age                 0.175263\n",
      "educ                0.066380\n",
      "major_ind_code      0.057802\n",
      "income_filled       0.051826\n",
      "currently_enrolled  0.051454\n",
      "labour_union        0.048396\n",
      "major_occ_code      0.041276\n",
      "employer_of         0.038364\n",
      "house_stat          0.036380\n",
      "race                0.032739\n",
      "weeks_worked        0.031916\n",
      "dividends           0.029574\n",
      "hisp_origin         0.026967\n",
      "marriage_status     0.024635\n",
      "fed_liability       0.024550\n",
      "woker_type          0.024250\n",
      "father_country      0.024051\n",
      "gains               0.021835\n",
      "mother_country      0.021535\n",
      "house_1yr_ago       0.021406\n",
      "gender              0.021174\n",
      "house_summary       0.019494\n",
      "full_partime_job    0.018435\n",
      "hourly_wage         0.018081\n",
      "under18             0.015303\n",
      "year_of_poll        0.011673\n",
      "own_self_emp        0.011569\n",
      "self_country        0.010992\n",
      "citizenship         0.007934\n",
      "losses              0.007753\n",
      "unemp_reason        0.004304\n",
      "veteran benefits    0.002689\n"
     ]
    }
   ],
   "source": [
    "print(pd.DataFrame(dtc.feature_importances_,\n",
    "                 columns=[\"Imp\"],\n",
    "                 index=pd.DataFrame(X_train).columns).sort_values('Imp', ascending=False))"
   ]
  },
  {
   "cell_type": "code",
   "execution_count": 43,
   "id": "394a1c87",
   "metadata": {},
   "outputs": [
    {
     "data": {
      "image/png": "[encoded data removed]",
      "text/plain": [
       "<Figure size 2160x1440 with 1 Axes>"
      ]
     },
     "metadata": {
      "needs_background": "light"
     },
     "output_type": "display_data"
    }
   ],
   "source": [
    "##Print Feature Importances\n",
    "x=pd.DataFrame(dtc.feature_importances_*100,index=pd.DataFrame(X_train).columns).sort_values(by=0,ascending=False)\n",
    "plt.figure(figsize=(30,20))\n",
    "sns.barplot(x[0],x.index,palette='rainbow')\n",
    "plt.ylabel('Feature Name')\n",
    "plt.xlabel('Feature Importance in %')\n",
    "plt.title('Feature Importance Plot')\n",
    "plt.show()"
   ]
  },
  {
   "cell_type": "code",
   "execution_count": null,
   "id": "69f36f0d",
   "metadata": {},
   "outputs": [],
   "source": []
  },
  {
   "cell_type": "markdown",
   "id": "d170d172",
   "metadata": {},
   "source": [
    "# Building a Random Forest Classifier Model and fit it on the Training Set"
   ]
  },
  {
   "cell_type": "code",
   "execution_count": 44,
   "id": "b1f39e82",
   "metadata": {},
   "outputs": [],
   "source": [
    "rfc=RandomForestClassifier(random_state=123)"
   ]
  },
  {
   "cell_type": "code",
   "execution_count": 45,
   "id": "5c2d9a2b",
   "metadata": {},
   "outputs": [
    {
     "data": {
      "text/plain": [
       "RandomForestClassifier(random_state=123)"
      ]
     },
     "execution_count": 45,
     "metadata": {},
     "output_type": "execute_result"
    }
   ],
   "source": [
    "rfc.fit(X_train,y_train)"
   ]
  },
  {
   "cell_type": "code",
   "execution_count": 46,
   "id": "58dde023",
   "metadata": {},
   "outputs": [],
   "source": [
    "prediction_rfc=rfc.predict(X_test)"
   ]
  },
  {
   "cell_type": "code",
   "execution_count": 47,
   "id": "c17e8ea2",
   "metadata": {},
   "outputs": [
    {
     "name": "stdout",
     "output_type": "stream",
     "text": [
      "Accuracy for RandomForestClassifier model is \n",
      " 0.6091111111111112\n",
      "\n",
      "\n",
      "Classification report for RandomForestClassifier model is \n",
      "               precision    recall  f1-score   support\n",
      "\n",
      "           0       0.64      0.84      0.73     19441\n",
      "           1       0.48      0.23      0.31     12059\n",
      "\n",
      "    accuracy                           0.61     31500\n",
      "   macro avg       0.56      0.54      0.52     31500\n",
      "weighted avg       0.58      0.61      0.57     31500\n",
      "\n",
      "\n",
      "\n",
      "Confusion Matrix for RandomForestClassifier model is\n"
     ]
    },
    {
     "data": {
      "image/png": "[encoded data removed]",
      "text/plain": [
       "<Figure size 432x288 with 1 Axes>"
      ]
     },
     "metadata": {
      "needs_background": "light"
     },
     "output_type": "display_data"
    }
   ],
   "source": [
    "models_names={dtc:'DecisionTreeClassifier',rfc:'RandomForestClassifier'}\n",
    "\n",
    "print('Accuracy for {} model is'.format(models_names[rfc]),'\\n',accuracy_score(y_test,prediction_rfc))\n",
    "print('\\n')\n",
    "print('Classification report for {} model is'.format(models_names[rfc]),'\\n',classification_report(y_test,prediction_rfc))\n",
    "print('\\n')\n",
    "print('Confusion Matrix for {} model is'.format(models_names[rfc]))\n",
    "sns.heatmap(confusion_matrix(y_test,prediction_rfc),annot=True,fmt='d',cbar=False)\n",
    "plt.title('Confusion Matrix for {}'.format(models_names[rfc]))\n",
    "plt.xlabel('Predicted Label')\n",
    "plt.ylabel('Actual Label')\n",
    "plt.show()"
   ]
  },
  {
   "cell_type": "markdown",
   "id": "4a299000",
   "metadata": {},
   "source": [
    "# Building an ANN Model and fit it on the Training Set"
   ]
  },
  {
   "cell_type": "code",
   "execution_count": 48,
   "id": "2cad8ba9",
   "metadata": {},
   "outputs": [],
   "source": [
    "mlp=MLPClassifier(hidden_layer_sizes=(200),solver='sgd',random_state=0,max_iter=500)"
   ]
  },
  {
   "cell_type": "code",
   "execution_count": 49,
   "id": "af7bc965",
   "metadata": {},
   "outputs": [
    {
     "data": {
      "text/plain": [
       "MLPClassifier(hidden_layer_sizes=200, max_iter=500, random_state=0,\n",
       "              solver='sgd')"
      ]
     },
     "execution_count": 49,
     "metadata": {},
     "output_type": "execute_result"
    }
   ],
   "source": [
    "mlp.fit(X_train,y_train)"
   ]
  },
  {
   "cell_type": "code",
   "execution_count": 50,
   "id": "6463b11e",
   "metadata": {},
   "outputs": [],
   "source": [
    "prediction_ann=mlp.predict(X_test)"
   ]
  },
  {
   "cell_type": "code",
   "execution_count": 51,
   "id": "82ffff8b",
   "metadata": {},
   "outputs": [
    {
     "name": "stdout",
     "output_type": "stream",
     "text": [
      "Accuracy for ANN model is \n",
      " 0.6171428571428571\n",
      "\n",
      "\n",
      "Classification report for ANN model is \n",
      "               precision    recall  f1-score   support\n",
      "\n",
      "           0       0.62      1.00      0.76     19441\n",
      "           1       0.40      0.00      0.00     12059\n",
      "\n",
      "    accuracy                           0.62     31500\n",
      "   macro avg       0.51      0.50      0.38     31500\n",
      "weighted avg       0.53      0.62      0.47     31500\n",
      "\n",
      "\n",
      "\n",
      "Confusion Matrix for ANN model is\n"
     ]
    },
    {
     "data": {
      "image/png": "[encoded data removed]",
      "text/plain": [
       "<Figure size 432x288 with 1 Axes>"
      ]
     },
     "metadata": {
      "needs_background": "light"
     },
     "output_type": "display_data"
    }
   ],
   "source": [
    "models_names={dtc:'DecisionTreeClassifier',rfc:'RandomForestClassifier',mlp:'ANN'}\n",
    "\n",
    "print('Accuracy for {} model is'.format(models_names[mlp]),'\\n',accuracy_score(y_test,prediction_ann))\n",
    "print('\\n')\n",
    "print('Classification report for {} model is'.format(models_names[mlp]),'\\n',classification_report(y_test,prediction_ann))\n",
    "print('\\n')\n",
    "print('Confusion Matrix for {} model is'.format(models_names[mlp]))\n",
    "sns.heatmap(confusion_matrix(y_test,prediction_ann),annot=True,fmt='d',cbar=False)\n",
    "plt.title('Confusion Matrix for {}'.format(models_names[mlp]))\n",
    "plt.xlabel('Predicted Label')\n",
    "plt.ylabel('Actual Label')\n",
    "plt.show()"
   ]
  },
  {
   "cell_type": "markdown",
   "id": "7483dd7d",
   "metadata": {},
   "source": [
    "# Perform Logistic Regression"
   ]
  },
  {
   "cell_type": "code",
   "execution_count": 52,
   "id": "91e488b4",
   "metadata": {},
   "outputs": [],
   "source": [
    "from sklearn.linear_model import LogisticRegression\n",
    "from sklearn import metrics"
   ]
  },
  {
   "cell_type": "code",
   "execution_count": 53,
   "id": "86a1cd9b",
   "metadata": {},
   "outputs": [
    {
     "data": {
      "text/html": [
       "<div>\n",
       "<style scoped>\n",
       "    .dataframe tbody tr th:only-of-type {\n",
       "        vertical-align: middle;\n",
       "    }\n",
       "\n",
       "    .dataframe tbody tr th {\n",
       "        vertical-align: top;\n",
       "    }\n",
       "\n",
       "    .dataframe thead th {\n",
       "        text-align: right;\n",
       "    }\n",
       "</style>\n",
       "<table border=\"1\" class=\"dataframe\">\n",
       "  <thead>\n",
       "    <tr style=\"text-align: right;\">\n",
       "      <th></th>\n",
       "      <th>year_of_poll</th>\n",
       "      <th>own_self_emp</th>\n",
       "      <th>veteran benefits</th>\n",
       "      <th>currently_enrolled</th>\n",
       "      <th>race</th>\n",
       "      <th>father_country</th>\n",
       "      <th>educ</th>\n",
       "      <th>house_stat</th>\n",
       "      <th>major_ind_code</th>\n",
       "      <th>labour_union</th>\n",
       "      <th>...</th>\n",
       "      <th>house_1yr_ago</th>\n",
       "      <th>income_filled</th>\n",
       "      <th>weeks_worked</th>\n",
       "      <th>under18</th>\n",
       "      <th>hourly_wage</th>\n",
       "      <th>unemp_reason</th>\n",
       "      <th>citizenship</th>\n",
       "      <th>woker_type</th>\n",
       "      <th>fed_liability</th>\n",
       "      <th>full_partime_job</th>\n",
       "    </tr>\n",
       "  </thead>\n",
       "  <tbody>\n",
       "    <tr>\n",
       "      <th>47039</th>\n",
       "      <td>2004</td>\n",
       "      <td>0</td>\n",
       "      <td>2</td>\n",
       "      <td>1</td>\n",
       "      <td>2</td>\n",
       "      <td>26</td>\n",
       "      <td>5</td>\n",
       "      <td>27</td>\n",
       "      <td>14</td>\n",
       "      <td>0</td>\n",
       "      <td>...</td>\n",
       "      <td>1</td>\n",
       "      <td>0</td>\n",
       "      <td>0</td>\n",
       "      <td>2</td>\n",
       "      <td>0.0</td>\n",
       "      <td>5</td>\n",
       "      <td>3</td>\n",
       "      <td>4</td>\n",
       "      <td>1</td>\n",
       "      <td>7</td>\n",
       "    </tr>\n",
       "    <tr>\n",
       "      <th>79674</th>\n",
       "      <td>2004</td>\n",
       "      <td>0</td>\n",
       "      <td>0</td>\n",
       "      <td>1</td>\n",
       "      <td>2</td>\n",
       "      <td>26</td>\n",
       "      <td>10</td>\n",
       "      <td>24</td>\n",
       "      <td>14</td>\n",
       "      <td>0</td>\n",
       "      <td>...</td>\n",
       "      <td>2</td>\n",
       "      <td>2</td>\n",
       "      <td>0</td>\n",
       "      <td>1</td>\n",
       "      <td>0.0</td>\n",
       "      <td>5</td>\n",
       "      <td>3</td>\n",
       "      <td>4</td>\n",
       "      <td>1</td>\n",
       "      <td>7</td>\n",
       "    </tr>\n",
       "    <tr>\n",
       "      <th>43660</th>\n",
       "      <td>2005</td>\n",
       "      <td>0</td>\n",
       "      <td>2</td>\n",
       "      <td>0</td>\n",
       "      <td>2</td>\n",
       "      <td>40</td>\n",
       "      <td>12</td>\n",
       "      <td>30</td>\n",
       "      <td>14</td>\n",
       "      <td>0</td>\n",
       "      <td>...</td>\n",
       "      <td>2</td>\n",
       "      <td>0</td>\n",
       "      <td>0</td>\n",
       "      <td>2</td>\n",
       "      <td>0.0</td>\n",
       "      <td>5</td>\n",
       "      <td>3</td>\n",
       "      <td>4</td>\n",
       "      <td>1</td>\n",
       "      <td>1</td>\n",
       "    </tr>\n",
       "    <tr>\n",
       "      <th>101614</th>\n",
       "      <td>2005</td>\n",
       "      <td>1</td>\n",
       "      <td>2</td>\n",
       "      <td>1</td>\n",
       "      <td>2</td>\n",
       "      <td>40</td>\n",
       "      <td>6</td>\n",
       "      <td>16</td>\n",
       "      <td>4</td>\n",
       "      <td>1</td>\n",
       "      <td>...</td>\n",
       "      <td>2</td>\n",
       "      <td>0</td>\n",
       "      <td>47</td>\n",
       "      <td>2</td>\n",
       "      <td>1700.0</td>\n",
       "      <td>5</td>\n",
       "      <td>3</td>\n",
       "      <td>5</td>\n",
       "      <td>0</td>\n",
       "      <td>0</td>\n",
       "    </tr>\n",
       "    <tr>\n",
       "      <th>57714</th>\n",
       "      <td>2004</td>\n",
       "      <td>0</td>\n",
       "      <td>2</td>\n",
       "      <td>2</td>\n",
       "      <td>2</td>\n",
       "      <td>40</td>\n",
       "      <td>5</td>\n",
       "      <td>8</td>\n",
       "      <td>14</td>\n",
       "      <td>1</td>\n",
       "      <td>...</td>\n",
       "      <td>1</td>\n",
       "      <td>0</td>\n",
       "      <td>0</td>\n",
       "      <td>4</td>\n",
       "      <td>0.0</td>\n",
       "      <td>5</td>\n",
       "      <td>3</td>\n",
       "      <td>4</td>\n",
       "      <td>1</td>\n",
       "      <td>7</td>\n",
       "    </tr>\n",
       "  </tbody>\n",
       "</table>\n",
       "<p>5 rows × 32 columns</p>\n",
       "</div>"
      ],
      "text/plain": [
       "        year_of_poll  own_self_emp  veteran benefits  currently_enrolled  \\\n",
       "47039           2004             0                 2                   1   \n",
       "79674           2004             0                 0                   1   \n",
       "43660           2005             0                 2                   0   \n",
       "101614          2005             1                 2                   1   \n",
       "57714           2004             0                 2                   2   \n",
       "\n",
       "        race  father_country  educ  house_stat  major_ind_code  labour_union  \\\n",
       "47039      2              26     5          27              14             0   \n",
       "79674      2              26    10          24              14             0   \n",
       "43660      2              40    12          30              14             0   \n",
       "101614     2              40     6          16               4             1   \n",
       "57714      2              40     5           8              14             1   \n",
       "\n",
       "        ...  house_1yr_ago  income_filled  weeks_worked  under18  hourly_wage  \\\n",
       "47039   ...              1              0             0        2          0.0   \n",
       "79674   ...              2              2             0        1          0.0   \n",
       "43660   ...              2              0             0        2          0.0   \n",
       "101614  ...              2              0            47        2       1700.0   \n",
       "57714   ...              1              0             0        4          0.0   \n",
       "\n",
       "        unemp_reason  citizenship  woker_type  fed_liability  full_partime_job  \n",
       "47039              5            3           4              1                 7  \n",
       "79674              5            3           4              1                 7  \n",
       "43660              5            3           4              1                 1  \n",
       "101614             5            3           5              0                 0  \n",
       "57714              5            3           4              1                 7  \n",
       "\n",
       "[5 rows x 32 columns]"
      ]
     },
     "execution_count": 53,
     "metadata": {},
     "output_type": "execute_result"
    }
   ],
   "source": [
    "X_train.head()"
   ]
  },
  {
   "cell_type": "code",
   "execution_count": 54,
   "id": "78795a21",
   "metadata": {},
   "outputs": [],
   "source": [
    "#Applying GridSearchCV\n",
    "grid={'penalty':['l1'],\n",
    "      'solver':['liblinear'],\n",
    "      'tol':[0.01]}"
   ]
  },
  {
   "cell_type": "code",
   "execution_count": 55,
   "id": "1e630403",
   "metadata": {},
   "outputs": [],
   "source": [
    "logistic_model = LogisticRegression(max_iter=100000,n_jobs=2)"
   ]
  },
  {
   "cell_type": "code",
   "execution_count": 56,
   "id": "4b2722c0",
   "metadata": {},
   "outputs": [],
   "source": [
    "grid_search_logit = GridSearchCV(estimator = logistic_model, param_grid = grid, cv = 3,n_jobs=-1,scoring='f1')"
   ]
  },
  {
   "cell_type": "code",
   "execution_count": 57,
   "id": "aaf2f1e3",
   "metadata": {},
   "outputs": [
    {
     "data": {
      "text/plain": [
       "GridSearchCV(cv=3, estimator=LogisticRegression(max_iter=100000, n_jobs=2),\n",
       "             n_jobs=-1,\n",
       "             param_grid={'penalty': ['l1'], 'solver': ['liblinear'],\n",
       "                         'tol': [0.01]},\n",
       "             scoring='f1')"
      ]
     },
     "execution_count": 57,
     "metadata": {},
     "output_type": "execute_result"
    }
   ],
   "source": [
    "grid_search_logit.fit(X_train, y_train)"
   ]
  },
  {
   "cell_type": "code",
   "execution_count": 58,
   "id": "d0c20c64",
   "metadata": {},
   "outputs": [
    {
     "name": "stdout",
     "output_type": "stream",
     "text": [
      "{'penalty': 'l1', 'solver': 'liblinear', 'tol': 0.01} \n",
      "\n",
      "LogisticRegression(max_iter=100000, n_jobs=2, penalty='l1', solver='liblinear',\n",
      "                   tol=0.01)\n"
     ]
    }
   ],
   "source": [
    "print(grid_search_logit.best_params_,'\\n')\n",
    "print(grid_search_logit.best_estimator_)"
   ]
  },
  {
   "cell_type": "code",
   "execution_count": 59,
   "id": "231bc5b9",
   "metadata": {},
   "outputs": [],
   "source": [
    "best_model_logit = grid_search_logit.best_estimator_"
   ]
  },
  {
   "cell_type": "code",
   "execution_count": 60,
   "id": "1061c088",
   "metadata": {},
   "outputs": [
    {
     "data": {
      "text/plain": [
       "array([0, 0, 0, ..., 0, 0, 0])"
      ]
     },
     "execution_count": 60,
     "metadata": {},
     "output_type": "execute_result"
    }
   ],
   "source": [
    "# Prediction on the training set\n",
    "y_test_predict_logit = best_model_logit.predict(X_test)\n",
    "y_test_predict_logit"
   ]
  },
  {
   "cell_type": "code",
   "execution_count": 61,
   "id": "37c5b654",
   "metadata": {},
   "outputs": [
    {
     "name": "stdout",
     "output_type": "stream",
     "text": [
      "Accuracy of the Logistic Regression Model is  0.6307936507936508 \n",
      "\n",
      "Confusion Matrix \n",
      " [[19001   440]\n",
      " [11190   869]] \n",
      "\n",
      "Classification Report \n",
      "               precision    recall  f1-score   support\n",
      "\n",
      "           0       0.63      0.98      0.77     19441\n",
      "           1       0.66      0.07      0.13     12059\n",
      "\n",
      "    accuracy                           0.63     31500\n",
      "   macro avg       0.65      0.52      0.45     31500\n",
      "weighted avg       0.64      0.63      0.52     31500\n",
      "\n"
     ]
    },
    {
     "data": {
      "text/plain": [
       "<sklearn.metrics._plot.confusion_matrix.ConfusionMatrixDisplay at 0x17e5368d250>"
      ]
     },
     "execution_count": 61,
     "metadata": {},
     "output_type": "execute_result"
    },
    {
     "data": {
      "image/png": "[encoded data removed]",
      "text/plain": [
       "<Figure size 432x288 with 2 Axes>"
      ]
     },
     "metadata": {
      "needs_background": "light"
     },
     "output_type": "display_data"
    }
   ],
   "source": [
    "## Generate the Confusion Matrix and Classification Report for Test data set\n",
    "print('Accuracy of the Logistic Regression Model is ',best_model_logit.score(X_test, y_test), '\\n')\n",
    "print('Confusion Matrix','\\n',metrics.confusion_matrix(y_test, y_test_predict_logit),'\\n')\n",
    "print('Classification Report','\\n',metrics.classification_report(y_test, y_test_predict_logit))\n",
    "plot_confusion_matrix(best_model_logit,X_test,y_test)"
   ]
  },
  {
   "cell_type": "code",
   "execution_count": null,
   "id": "c9765e9c",
   "metadata": {},
   "outputs": [],
   "source": []
  },
  {
   "cell_type": "code",
   "execution_count": null,
   "id": "e5c818c1",
   "metadata": {},
   "outputs": [],
   "source": []
  },
  {
   "cell_type": "markdown",
   "id": "1bbf2d94",
   "metadata": {},
   "source": [
    "# Perform LDA"
   ]
  },
  {
   "cell_type": "code",
   "execution_count": 62,
   "id": "8f4f5cdd",
   "metadata": {},
   "outputs": [],
   "source": [
    "from sklearn.discriminant_analysis import LinearDiscriminantAnalysis"
   ]
  },
  {
   "cell_type": "code",
   "execution_count": 63,
   "id": "5c834f82",
   "metadata": {},
   "outputs": [],
   "source": [
    "#Building a LDA Model\n",
    "clf = LinearDiscriminantAnalysis()\n",
    "model_lda=clf.fit(X_train,y_train)"
   ]
  },
  {
   "cell_type": "code",
   "execution_count": 64,
   "id": "618db7c8",
   "metadata": {},
   "outputs": [
    {
     "data": {
      "text/plain": [
       "array([0, 0, 0, ..., 0, 0, 0])"
      ]
     },
     "execution_count": 64,
     "metadata": {},
     "output_type": "execute_result"
    }
   ],
   "source": [
    "# Test data class Prediction, cut-off value = 0.5\n",
    "y_predict_test_LDA = model_lda.predict(X_test)\n",
    "y_predict_test_LDA"
   ]
  },
  {
   "cell_type": "code",
   "execution_count": 65,
   "id": "38ca81fc",
   "metadata": {},
   "outputs": [
    {
     "data": {
      "text/plain": [
       "array([[0.62142083, 0.37857917],\n",
       "       [0.65549135, 0.34450865],\n",
       "       [0.70257893, 0.29742107]])"
      ]
     },
     "execution_count": 65,
     "metadata": {},
     "output_type": "execute_result"
    }
   ],
   "source": [
    "# Training data probability prediction\n",
    "y_pred_test_LDA_prob = model_lda.predict_proba(X_test)\n",
    "## sample record first 3 rows\n",
    "y_pred_test_LDA_prob[:3,:]"
   ]
  },
  {
   "cell_type": "code",
   "execution_count": 66,
   "id": "dec0ffdf",
   "metadata": {},
   "outputs": [
    {
     "name": "stdout",
     "output_type": "stream",
     "text": [
      "Accuracy of the LDA Model is  0.6303174603174603 \n",
      "\n",
      "Confusion Matrix \n",
      " [[19136   305]\n",
      " [11340   719]] \n",
      "\n",
      "Classification Report \n",
      "               precision    recall  f1-score   support\n",
      "\n",
      "           0       0.63      0.98      0.77     19441\n",
      "           1       0.70      0.06      0.11     12059\n",
      "\n",
      "    accuracy                           0.63     31500\n",
      "   macro avg       0.67      0.52      0.44     31500\n",
      "weighted avg       0.66      0.63      0.52     31500\n",
      "\n"
     ]
    },
    {
     "data": {
      "text/plain": [
       "<sklearn.metrics._plot.confusion_matrix.ConfusionMatrixDisplay at 0x17e55afa310>"
      ]
     },
     "execution_count": 66,
     "metadata": {},
     "output_type": "execute_result"
    },
    {
     "data": {
      "image/png": "[encoded data removed]",
      "text/plain": [
       "<Figure size 432x288 with 2 Axes>"
      ]
     },
     "metadata": {
      "needs_background": "light"
     },
     "output_type": "display_data"
    }
   ],
   "source": [
    "# Generate the Confusion Matrix and Classification Report for Test data set\n",
    "print('Accuracy of the LDA Model is ',model_lda.score(X_test, y_test), '\\n')\n",
    "print('Confusion Matrix','\\n',metrics.confusion_matrix(y_test, y_predict_test_LDA),'\\n')\n",
    "print('Classification Report','\\n',metrics.classification_report(y_test, y_predict_test_LDA))\n",
    "plot_confusion_matrix(model_lda,X_test,y_test)"
   ]
  },
  {
   "cell_type": "code",
   "execution_count": null,
   "id": "1e959f7c",
   "metadata": {},
   "outputs": [],
   "source": []
  },
  {
   "cell_type": "markdown",
   "id": "f7ab3770",
   "metadata": {},
   "source": [
    "# Perform KNN Model"
   ]
  },
  {
   "cell_type": "code",
   "execution_count": 67,
   "id": "d9c074f4",
   "metadata": {},
   "outputs": [],
   "source": [
    "from sklearn.neighbors import KNeighborsClassifier\n",
    "from sklearn.preprocessing import StandardScaler"
   ]
  },
  {
   "cell_type": "code",
   "execution_count": 68,
   "id": "200b0215",
   "metadata": {},
   "outputs": [],
   "source": [
    "clfKNN=KNeighborsClassifier()\n",
    "model_KNN = clfKNN.fit(X_train,y_train)"
   ]
  },
  {
   "cell_type": "code",
   "execution_count": 69,
   "id": "13502591",
   "metadata": {},
   "outputs": [
    {
     "data": {
      "text/plain": [
       "array([1, 1, 1, ..., 0, 0, 0])"
      ]
     },
     "execution_count": 69,
     "metadata": {},
     "output_type": "execute_result"
    }
   ],
   "source": [
    "# Training data class Prediction, cut-off value = 0.5\n",
    "y_predict_train_KNN = model_KNN.predict(X_train)\n",
    "y_predict_train_KNN"
   ]
  },
  {
   "cell_type": "code",
   "execution_count": 70,
   "id": "a5162235",
   "metadata": {},
   "outputs": [
    {
     "data": {
      "text/plain": [
       "array([0, 0, 0, ..., 0, 0, 0])"
      ]
     },
     "execution_count": 70,
     "metadata": {},
     "output_type": "execute_result"
    }
   ],
   "source": [
    "# Test data class Prediction, cut-off value = 0.5\n",
    "y_predict_test_KNN = model_KNN.predict(X_test)\n",
    "y_predict_test_KNN"
   ]
  },
  {
   "cell_type": "code",
   "execution_count": 71,
   "id": "e498aa16",
   "metadata": {},
   "outputs": [
    {
     "data": {
      "text/plain": [
       "array([[0.6, 0.4],\n",
       "       [0.6, 0.4],\n",
       "       [0.8, 0.2],\n",
       "       ...,\n",
       "       [0.8, 0.2],\n",
       "       [0.6, 0.4],\n",
       "       [1. , 0. ]])"
      ]
     },
     "execution_count": 71,
     "metadata": {},
     "output_type": "execute_result"
    }
   ],
   "source": [
    "# Training data probability prediction\n",
    "y_pred_test_KNN_prob = model_KNN.predict_proba(X_test)\n",
    "y_pred_test_KNN_prob"
   ]
  },
  {
   "cell_type": "code",
   "execution_count": 72,
   "id": "ee522254",
   "metadata": {},
   "outputs": [
    {
     "name": "stdout",
     "output_type": "stream",
     "text": [
      "AUC for testing data for KNN Model is : 0.537\n"
     ]
    },
    {
     "data": {
      "text/plain": [
       "Text(0, 0.5, 'True Positive Rate')"
      ]
     },
     "execution_count": 72,
     "metadata": {},
     "output_type": "execute_result"
    },
    {
     "data": {
      "image/png": "[encoded data removed]",
      "text/plain": [
       "<Figure size 432x288 with 1 Axes>"
      ]
     },
     "metadata": {
      "needs_background": "light"
     },
     "output_type": "display_data"
    }
   ],
   "source": [
    "# predict probabilities for testing data set\n",
    "y_test_predict_KNN_prob = model_KNN.predict_proba(X_test)\n",
    "# keep probabilities for the positive outcome only\n",
    "y_test_predict_KNN_prob = y_test_predict_KNN_prob[:, 1]\n",
    "# calculate AUC\n",
    "KNN_test_auc = roc_auc_score(y_test, y_test_predict_KNN_prob)\n",
    "print('AUC for testing data for KNN Model is : %.3f' % KNN_test_auc)\n",
    "# calculate roc curve\n",
    "KNN_test_fpr, KNN_test_tpr, KNN_test_thresholds = roc_curve(y_test, y_test_predict_KNN_prob)\n",
    "plt.plot([0, 1], [0, 1], linestyle='--')\n",
    "# plot the roc curve for the model\n",
    "plt.plot(KNN_test_fpr, KNN_test_tpr)\n",
    "plt.xlabel('False Positive Rate')\n",
    "plt.ylabel('True Positive Rate')"
   ]
  },
  {
   "cell_type": "markdown",
   "id": "035c9477",
   "metadata": {},
   "source": [
    "# KNN with different K values"
   ]
  },
  {
   "cell_type": "code",
   "execution_count": 73,
   "id": "f4239c3d",
   "metadata": {},
   "outputs": [
    {
     "data": {
      "text/plain": [
       "[0.4527619047619048,\n",
       " 0.43180952380952375,\n",
       " 0.42066666666666663,\n",
       " 0.41374603174603175,\n",
       " 0.40660317460317463,\n",
       " 0.40053968253968253,\n",
       " 0.3977142857142857,\n",
       " 0.3937777777777778,\n",
       " 0.3896507936507937,\n",
       " 0.38834920634920633]"
      ]
     },
     "execution_count": 73,
     "metadata": {},
     "output_type": "execute_result"
    }
   ],
   "source": [
    "# Create empty list that will hold accuracy scores\n",
    "ac_scores = []\n",
    "\n",
    "# perform accuracy metrics for values from 1,3,5....19\n",
    "for k in range(1,20,2):\n",
    "    knn = KNeighborsClassifier(n_neighbors=k)\n",
    "    knn.fit(X_train, y_train)\n",
    "    # evaluate test accuracy\n",
    "    scores = knn.score(X_test, y_test)\n",
    "    ac_scores.append(scores)\n",
    "\n",
    "# changing to misclassification error\n",
    "MCE = [1 - x for x in ac_scores]\n",
    "MCE"
   ]
  },
  {
   "cell_type": "code",
   "execution_count": 74,
   "id": "8ea47cd7",
   "metadata": {},
   "outputs": [
    {
     "data": {
      "image/png": "[encoded data removed]",
      "text/plain": [
       "<Figure size 432x288 with 1 Axes>"
      ]
     },
     "metadata": {
      "needs_background": "light"
     },
     "output_type": "display_data"
    }
   ],
   "source": [
    "import matplotlib.pyplot as plt\n",
    "# plot misclassification error vs k\n",
    "plt.plot(range(1,20,2), MCE)\n",
    "plt.xlabel('Number of Neighbors K')\n",
    "plt.ylabel('Misclassification Error')\n",
    "plt.show()"
   ]
  },
  {
   "cell_type": "code",
   "execution_count": 75,
   "id": "180ceebb",
   "metadata": {},
   "outputs": [],
   "source": [
    "from sklearn.neighbors import KNeighborsClassifier\n",
    "\n",
    "KNN_model=KNeighborsClassifier(n_neighbors=5)\n",
    "model_KNN_5 = KNN_model.fit(X_train,y_train)"
   ]
  },
  {
   "cell_type": "code",
   "execution_count": 76,
   "id": "96361bff",
   "metadata": {},
   "outputs": [
    {
     "name": "stdout",
     "output_type": "stream",
     "text": [
      "Classification report for Test data is as follows:\n",
      "              precision    recall  f1-score   support\n",
      "\n",
      "           0       0.64      0.74      0.68     19441\n",
      "           1       0.43      0.32      0.37     12059\n",
      "\n",
      "    accuracy                           0.58     31500\n",
      "   macro avg       0.54      0.53      0.53     31500\n",
      "weighted avg       0.56      0.58      0.56     31500\n",
      "\n"
     ]
    },
    {
     "data": {
      "image/png": "[encoded data removed]",
      "text/plain": [
       "<Figure size 432x288 with 1 Axes>"
      ]
     },
     "metadata": {
      "needs_background": "light"
     },
     "output_type": "display_data"
    }
   ],
   "source": [
    "y_test_predict_KNN_5 = model_KNN_5.predict(X_test)\n",
    "\n",
    "y_test_predict_KNN_5_prob = model_KNN_5.predict_proba(X_test)\n",
    "\n",
    "##Print Classification Report\n",
    "\n",
    "## testing data set\n",
    "print('Classification report for Test data is as follows:')\n",
    "print(classification_report(y_test,y_test_predict_KNN_5))\n",
    "\n",
    "##Print Confusion Matrix\n",
    "\n",
    "sns.heatmap(confusion_matrix(y_test,y_test_predict_KNN_5),annot=True, fmt='d', cbar=False,cmap='YlGnBu')\n",
    "plt.xlabel('Predicted Label')\n",
    "plt.ylabel('Actual Label')\n",
    "plt.title('Confusion Matrix for test data is as follows :')\n",
    "plt.show()"
   ]
  },
  {
   "cell_type": "code",
   "execution_count": null,
   "id": "7c8e3c44",
   "metadata": {},
   "outputs": [],
   "source": []
  },
  {
   "cell_type": "markdown",
   "id": "b08e5bf2",
   "metadata": {},
   "source": [
    "# Naïve Bayes Model"
   ]
  },
  {
   "cell_type": "code",
   "execution_count": 77,
   "id": "902d14a2",
   "metadata": {},
   "outputs": [],
   "source": [
    "from sklearn.naive_bayes import GaussianNB\n",
    "from sklearn import metrics"
   ]
  },
  {
   "cell_type": "code",
   "execution_count": 78,
   "id": "a42ca6ad",
   "metadata": {},
   "outputs": [],
   "source": [
    "clfKNN=KNeighborsClassifier()\n",
    "model = GaussianNB()\n",
    "model_Naive = model.fit(X_train,y_train)"
   ]
  },
  {
   "cell_type": "code",
   "execution_count": 79,
   "id": "e106cedf",
   "metadata": {},
   "outputs": [
    {
     "data": {
      "text/plain": [
       "array([0, 0, 0, ..., 0, 0, 0])"
      ]
     },
     "execution_count": 79,
     "metadata": {},
     "output_type": "execute_result"
    }
   ],
   "source": [
    "# Training data class Prediction, cut-off value = 0.5\n",
    "y_predict_train_naive = model_Naive.predict(X_train)\n",
    "y_predict_train_naive"
   ]
  },
  {
   "cell_type": "code",
   "execution_count": 80,
   "id": "7466a3cd",
   "metadata": {},
   "outputs": [
    {
     "data": {
      "text/plain": [
       "array([0, 0, 0, ..., 0, 0, 0])"
      ]
     },
     "execution_count": 80,
     "metadata": {},
     "output_type": "execute_result"
    }
   ],
   "source": [
    "# Test data class Prediction, cut-off value = 0.5\n",
    "y_predict_test_naive = model_Naive.predict(X_test)\n",
    "y_predict_test_naive"
   ]
  },
  {
   "cell_type": "code",
   "execution_count": 81,
   "id": "51f066ec",
   "metadata": {},
   "outputs": [
    {
     "data": {
      "text/plain": [
       "array([[0.96339732, 0.03660268],\n",
       "       [0.99163153, 0.00836847],\n",
       "       [0.9849575 , 0.0150425 ],\n",
       "       ...,\n",
       "       [0.95602883, 0.04397117],\n",
       "       [0.97406154, 0.02593846],\n",
       "       [0.99616172, 0.00383828]])"
      ]
     },
     "execution_count": 81,
     "metadata": {},
     "output_type": "execute_result"
    }
   ],
   "source": [
    "# Training data probability prediction\n",
    "y_pred_test_naive_prob = model_Naive.predict_proba(X_test)\n",
    "y_pred_test_naive_prob"
   ]
  },
  {
   "cell_type": "code",
   "execution_count": 82,
   "id": "77b1fa14",
   "metadata": {},
   "outputs": [
    {
     "name": "stdout",
     "output_type": "stream",
     "text": [
      "Classification report for Test data is as follows:\n",
      "              precision    recall  f1-score   support\n",
      "\n",
      "           0       0.63      0.96      0.76     19441\n",
      "           1       0.59      0.10      0.17     12059\n",
      "\n",
      "    accuracy                           0.63     31500\n",
      "   macro avg       0.61      0.53      0.47     31500\n",
      "weighted avg       0.61      0.63      0.54     31500\n",
      "\n"
     ]
    },
    {
     "data": {
      "image/png": "[encoded data removed]",
      "text/plain": [
       "<Figure size 432x288 with 1 Axes>"
      ]
     },
     "metadata": {
      "needs_background": "light"
     },
     "output_type": "display_data"
    }
   ],
   "source": [
    "##Print Classification Report\n",
    "y_test_predict_Naive = model_Naive.predict(X_test)\n",
    "\n",
    "y_test_predict_Naive_prob = model_Naive.predict_proba(X_test)\n",
    "\n",
    "## testing data set\n",
    "print('Classification report for Test data is as follows:')\n",
    "print(classification_report(y_test,y_test_predict_Naive))\n",
    "\n",
    "##Print Confusion Matrix\n",
    "\n",
    "sns.heatmap(confusion_matrix(y_test,y_test_predict_Naive),annot=True, fmt='d', cbar=False,cmap='YlGnBu')\n",
    "plt.xlabel('Predicted Label')\n",
    "plt.ylabel('Actual Label')\n",
    "plt.title('Confusion Matrix for test data is as follows :')\n",
    "plt.show()\n"
   ]
  },
  {
   "cell_type": "markdown",
   "id": "d3684933",
   "metadata": {},
   "source": [
    "# Bagging Classifier (Random Forest should be applied for Bagging)"
   ]
  },
  {
   "cell_type": "code",
   "execution_count": 83,
   "id": "073e0b5b",
   "metadata": {},
   "outputs": [],
   "source": [
    "from sklearn.ensemble import BaggingClassifier\n",
    "from sklearn.ensemble import RandomForestClassifier"
   ]
  },
  {
   "cell_type": "code",
   "execution_count": 84,
   "id": "56a73495",
   "metadata": {},
   "outputs": [],
   "source": [
    "#Create a Gaussian Classifier\n",
    "clfRF=RandomForestClassifier(n_estimators=50)\n",
    "bgcl = BaggingClassifier(random_state=1, base_estimator=clfRF, n_estimators=50 ) #BaggingClassifier(n_estimators=50,random_state=1)\n",
    "model_bgcl = bgcl.fit(X_train, y_train)"
   ]
  },
  {
   "cell_type": "code",
   "execution_count": 85,
   "id": "5476c092",
   "metadata": {},
   "outputs": [
    {
     "name": "stdout",
     "output_type": "stream",
     "text": [
      "[0 0 0 ... 0 0 0]\n"
     ]
    }
   ],
   "source": [
    "# Test data class Prediction, cut-off value = 0.5\n",
    "y_predict_test_bgcl = model_bgcl.predict(X_test)\n",
    "print(y_predict_test_bgcl)\n"
   ]
  },
  {
   "cell_type": "code",
   "execution_count": 86,
   "id": "d9191211",
   "metadata": {},
   "outputs": [
    {
     "name": "stdout",
     "output_type": "stream",
     "text": [
      "[[0.63413333 0.36586667]\n",
      " [0.85793851 0.14206149]\n",
      " [0.7848     0.2152    ]\n",
      " ...\n",
      " [0.6308     0.3692    ]\n",
      " [0.66099048 0.33900952]\n",
      " [0.81946094 0.18053906]]\n"
     ]
    }
   ],
   "source": [
    "# Training data probability prediction\n",
    "y_pred_test_bgcl_prob = model_bgcl.predict_proba(X_test)\n",
    "print(y_pred_test_bgcl_prob)"
   ]
  },
  {
   "cell_type": "code",
   "execution_count": 87,
   "id": "c7bbfce2",
   "metadata": {},
   "outputs": [
    {
     "name": "stdout",
     "output_type": "stream",
     "text": [
      "Classification report for Test data is as follows:\n",
      "              precision    recall  f1-score   support\n",
      "\n",
      "           0       0.64      0.89      0.75     19441\n",
      "           1       0.53      0.19      0.28     12059\n",
      "\n",
      "    accuracy                           0.63     31500\n",
      "   macro avg       0.59      0.54      0.51     31500\n",
      "weighted avg       0.60      0.63      0.57     31500\n",
      "\n"
     ]
    },
    {
     "data": {
      "image/png": "[encoded data removed]",
      "text/plain": [
       "<Figure size 432x288 with 1 Axes>"
      ]
     },
     "metadata": {
      "needs_background": "light"
     },
     "output_type": "display_data"
    }
   ],
   "source": [
    "y_test_predict_bgcl = model_bgcl.predict(X_test)\n",
    "y_test_predict_bgcl_prob = model_bgcl.predict_proba(X_test)\n",
    "\n",
    "##Print Classification Report\n",
    "\n",
    "## testing data set\n",
    "print('Classification report for Test data is as follows:')\n",
    "print(classification_report(y_test,y_test_predict_bgcl))\n",
    "\n",
    "##Print Confusion Matrix\n",
    "\n",
    "sns.heatmap(confusion_matrix(y_test,y_test_predict_bgcl),annot=True, fmt='d', cbar=False,cmap='YlGnBu')\n",
    "plt.xlabel('Predicted Label')\n",
    "plt.ylabel('Actual Label')\n",
    "plt.title('Confusion Matrix for test data is as follows :')\n",
    "plt.show()\n"
   ]
  },
  {
   "cell_type": "code",
   "execution_count": null,
   "id": "141cd5ca",
   "metadata": {},
   "outputs": [],
   "source": []
  },
  {
   "cell_type": "markdown",
   "id": "e4fe606e",
   "metadata": {},
   "source": [
    "# Ada Boosting"
   ]
  },
  {
   "cell_type": "code",
   "execution_count": 88,
   "id": "ec22f1b4",
   "metadata": {},
   "outputs": [],
   "source": [
    "from sklearn.ensemble import AdaBoostClassifier\n",
    "\n",
    "clfADB = AdaBoostClassifier(n_estimators=100)\n",
    "model_ADB = clfADB.fit(X_train,y_train)"
   ]
  },
  {
   "cell_type": "code",
   "execution_count": 89,
   "id": "0cfc0289",
   "metadata": {},
   "outputs": [
    {
     "name": "stdout",
     "output_type": "stream",
     "text": [
      "[0 0 0 ... 0 0 0]\n"
     ]
    }
   ],
   "source": [
    "# Test data class Prediction, cut-off value = 0.5\n",
    "y_predict_test_ADB = model_ADB.predict(X_test)\n",
    "print(y_predict_test_ADB)"
   ]
  },
  {
   "cell_type": "code",
   "execution_count": 90,
   "id": "c6b65363",
   "metadata": {},
   "outputs": [
    {
     "name": "stdout",
     "output_type": "stream",
     "text": [
      "[[0.50161525 0.49838475]\n",
      " [0.50153624 0.49846376]\n",
      " [0.50231343 0.49768657]\n",
      " ...\n",
      " [0.50075763 0.49924237]\n",
      " [0.50147776 0.49852224]\n",
      " [0.50203131 0.49796869]]\n"
     ]
    }
   ],
   "source": [
    "# Training data probability prediction\n",
    "y_pred_test_ADB_prob = model_ADB.predict_proba(X_test)\n",
    "print(y_pred_test_ADB_prob)"
   ]
  },
  {
   "cell_type": "code",
   "execution_count": 91,
   "id": "1c93585b",
   "metadata": {},
   "outputs": [
    {
     "name": "stdout",
     "output_type": "stream",
     "text": [
      "Classification report for Test data is as follows:\n",
      "              precision    recall  f1-score   support\n",
      "\n",
      "           0       0.64      0.96      0.77     19441\n",
      "           1       0.66      0.14      0.22     12059\n",
      "\n",
      "    accuracy                           0.64     31500\n",
      "   macro avg       0.65      0.55      0.50     31500\n",
      "weighted avg       0.65      0.64      0.56     31500\n",
      "\n"
     ]
    },
    {
     "data": {
      "image/png": "[encoded data removed]",
      "text/plain": [
       "<Figure size 432x288 with 1 Axes>"
      ]
     },
     "metadata": {
      "needs_background": "light"
     },
     "output_type": "display_data"
    }
   ],
   "source": [
    "y_test_predict_ADB = model_ADB.predict(X_test)\n",
    "y_test_predict_ADB_prob = model_ADB.predict_proba(X_test)\n",
    "\n",
    "\n",
    "##Print Classification Report\n",
    "\n",
    "## testing data set\n",
    "print('Classification report for Test data is as follows:')\n",
    "print(classification_report(y_test,y_test_predict_ADB))\n",
    "\n",
    "##Print Confusion Matrix\n",
    "\n",
    "sns.heatmap(confusion_matrix(y_test,y_test_predict_ADB),annot=True, fmt='d', cbar=False,cmap='YlGnBu')\n",
    "plt.xlabel('Predicted Label')\n",
    "plt.ylabel('Actual Label')\n",
    "plt.title('Confusion Matrix for test data is as follows :')\n",
    "plt.show()\n"
   ]
  },
  {
   "cell_type": "code",
   "execution_count": null,
   "id": "ce96fc1f",
   "metadata": {},
   "outputs": [],
   "source": []
  },
  {
   "cell_type": "markdown",
   "id": "1833e33b",
   "metadata": {},
   "source": [
    "# Gradient Boosting"
   ]
  },
  {
   "cell_type": "code",
   "execution_count": 92,
   "id": "9e4f6a98",
   "metadata": {},
   "outputs": [],
   "source": [
    "from sklearn.ensemble import GradientBoostingClassifier"
   ]
  },
  {
   "cell_type": "code",
   "execution_count": 93,
   "id": "18387c7a",
   "metadata": {},
   "outputs": [],
   "source": [
    "gbcl = GradientBoostingClassifier(n_estimators = 50,random_state=1)\n",
    "model_GDB = gbcl.fit(X_train, y_train)"
   ]
  },
  {
   "cell_type": "code",
   "execution_count": 94,
   "id": "cd5882dc",
   "metadata": {},
   "outputs": [
    {
     "name": "stdout",
     "output_type": "stream",
     "text": [
      "[0 0 0 ... 0 0 0]\n"
     ]
    }
   ],
   "source": [
    "# Test data class Prediction, cut-off value = 0.5\n",
    "y_predict_test_GDB = model_GDB.predict(X_test)\n",
    "print(y_predict_test_GDB)"
   ]
  },
  {
   "cell_type": "code",
   "execution_count": 95,
   "id": "fe418e1e",
   "metadata": {},
   "outputs": [
    {
     "name": "stdout",
     "output_type": "stream",
     "text": [
      "[[0.65686177 0.34313823]\n",
      " [0.65875169 0.34124831]\n",
      " [0.66706865 0.33293135]\n",
      " ...\n",
      " [0.61599507 0.38400493]\n",
      " [0.65863701 0.34136299]\n",
      " [0.66142079 0.33857921]]\n"
     ]
    }
   ],
   "source": [
    "# Training data probability prediction\n",
    "y_pred_test_GDB_prob = model_GDB.predict_proba(X_test)\n",
    "print(y_pred_test_GDB_prob)"
   ]
  },
  {
   "cell_type": "code",
   "execution_count": 96,
   "id": "fbe825b9",
   "metadata": {},
   "outputs": [
    {
     "name": "stdout",
     "output_type": "stream",
     "text": [
      "Classification report for Test data is as follows:\n",
      "              precision    recall  f1-score   support\n",
      "\n",
      "           0       0.64      0.97      0.77     19441\n",
      "           1       0.70      0.12      0.20     12059\n",
      "\n",
      "    accuracy                           0.64     31500\n",
      "   macro avg       0.67      0.54      0.49     31500\n",
      "weighted avg       0.66      0.64      0.55     31500\n",
      "\n"
     ]
    },
    {
     "data": {
      "image/png": "[encoded data removed]",
      "text/plain": [
       "<Figure size 432x288 with 1 Axes>"
      ]
     },
     "metadata": {
      "needs_background": "light"
     },
     "output_type": "display_data"
    }
   ],
   "source": [
    "y_test_predict_GDB = model_GDB.predict(X_test)\n",
    "y_test_predict_GDB_prob = model_GDB.predict_proba(X_test)\n",
    "\n",
    "\n",
    "##Print Classification Report\n",
    "\n",
    "## testing data set\n",
    "print('Classification report for Test data is as follows:')\n",
    "print(classification_report(y_test,y_test_predict_GDB))\n",
    "\n",
    "##Print Confusion Matrix\n",
    "\n",
    "sns.heatmap(confusion_matrix(y_test,y_test_predict_GDB),annot=True, fmt='d', cbar=False,cmap='YlGnBu')\n",
    "plt.xlabel('Predicted Label')\n",
    "plt.ylabel('Actual Label')\n",
    "plt.title('Confusion Matrix for test data is as follows :')\n",
    "plt.show()\n"
   ]
  },
  {
   "cell_type": "markdown",
   "id": "9654db78",
   "metadata": {},
   "source": [
    "# Since the best Accuracy we are getting from Random Forest and Bagging Method\n",
    "\n",
    "## We would use Bagging or our final model , which gave us 95% accuracy"
   ]
  },
  {
   "cell_type": "code",
   "execution_count": 172,
   "id": "dccc8398",
   "metadata": {},
   "outputs": [
    {
     "name": "stdout",
     "output_type": "stream",
     "text": [
      "<class 'pandas.core.frame.DataFrame'>\n",
      "RangeIndex: 42000 entries, 0 to 41999\n",
      "Data columns (total 32 columns):\n",
      " #   Column              Non-Null Count  Dtype  \n",
      "---  ------              --------------  -----  \n",
      " 0   year_of_poll        42000 non-null  int64  \n",
      " 1   own_self_emp        42000 non-null  int64  \n",
      " 2   veteran benefits    42000 non-null  int64  \n",
      " 3   currently_enrolled  42000 non-null  int32  \n",
      " 4   race                42000 non-null  int32  \n",
      " 5   father_country      42000 non-null  int32  \n",
      " 6   educ                42000 non-null  int32  \n",
      " 7   house_stat          42000 non-null  int32  \n",
      " 8   major_ind_code      42000 non-null  int32  \n",
      " 9   labour_union        42000 non-null  int32  \n",
      " 10  self_country        42000 non-null  int32  \n",
      " 11  major_occ_code      42000 non-null  int32  \n",
      " 12  age                 42000 non-null  float64\n",
      " 13  mother_country      42000 non-null  int32  \n",
      " 14  house_summary       42000 non-null  int32  \n",
      " 15  gender              42000 non-null  int32  \n",
      " 16  hisp_origin         42000 non-null  int32  \n",
      " 17  gains               42000 non-null  float64\n",
      " 18  dividends           42000 non-null  float64\n",
      " 19  marriage_status     42000 non-null  int32  \n",
      " 20  losses              42000 non-null  float64\n",
      " 21  employer_of         42000 non-null  int64  \n",
      " 22  house_1yr_ago       42000 non-null  int32  \n",
      " 23  income_filled       42000 non-null  int32  \n",
      " 24  weeks_worked        42000 non-null  int64  \n",
      " 25  under18             42000 non-null  int32  \n",
      " 26  hourly_wage         42000 non-null  float64\n",
      " 27  unemp_reason        42000 non-null  int32  \n",
      " 28  citizenship         42000 non-null  int32  \n",
      " 29  woker_type          42000 non-null  int32  \n",
      " 30  fed_liability       42000 non-null  int32  \n",
      " 31  full_partime_job    42000 non-null  int32  \n",
      "dtypes: float64(5), int32(22), int64(5)\n",
      "memory usage: 6.7 MB\n"
     ]
    }
   ],
   "source": [
    "df_to_predict.info()"
   ]
  },
  {
   "cell_type": "code",
   "execution_count": 174,
   "id": "128c16f3",
   "metadata": {},
   "outputs": [
    {
     "data": {
      "text/plain": [
       "array([32.        , 51.        , 70.        , 25.        , 65.        ,\n",
       "       27.        , 35.        ,  1.        , 62.        ,  4.        ,\n",
       "       14.        , 71.        , 68.        ,  9.        , 36.63774031,\n",
       "       82.        , 72.        , 92.        , 69.        , 52.        ,\n",
       "        8.        , 41.        ,  3.        , 40.        , 10.        ,\n",
       "       21.        ,  2.        , 46.        , 22.        , 12.        ,\n",
       "       49.        , 63.        , 77.        , 89.        , 20.        ,\n",
       "       84.        ,  7.        , 15.        , 34.        , 29.        ,\n",
       "       83.        , 64.        , 39.        , 76.        , 43.        ,\n",
       "       57.        , 50.        , 42.        , 58.        , 37.        ,\n",
       "       56.        , 55.        , 54.        , 44.        , 48.        ,\n",
       "       59.        , 36.        , 45.        , 38.        , 60.        ,\n",
       "       47.        , 66.        , 30.        , 81.        , 24.        ,\n",
       "       67.        , 28.        , 18.        ,  6.        , 75.        ,\n",
       "       33.        , 17.        , 23.        ,  5.        , 16.        ,\n",
       "       74.        , 90.        , 13.        , 80.        , 19.        ,\n",
       "       86.        , 26.        , 93.        , 79.        , 61.        ,\n",
       "       85.        , 91.        , 78.        , 88.        , 94.        ,\n",
       "       87.        ])"
      ]
     },
     "execution_count": 174,
     "metadata": {},
     "output_type": "execute_result"
    }
   ],
   "source": [
    "df_to_predict.age.unique()"
   ]
  },
  {
   "cell_type": "code",
   "execution_count": 175,
   "id": "3af865d1",
   "metadata": {},
   "outputs": [
    {
     "name": "stdout",
     "output_type": "stream",
     "text": [
      "[0 0 0 ... 0 0 0]\n"
     ]
    }
   ],
   "source": [
    "# Test data class Prediction, cut-off value = 0.5\n",
    "y_predict_final = model_bgcl.predict(df_to_predict)\n",
    "print(y_predict_final)"
   ]
  },
  {
   "cell_type": "code",
   "execution_count": 176,
   "id": "0c941357",
   "metadata": {},
   "outputs": [],
   "source": [
    "df_to_predict[\"income\"]=y_predict_final"
   ]
  },
  {
   "cell_type": "code",
   "execution_count": 182,
   "id": "c1828365",
   "metadata": {},
   "outputs": [],
   "source": [
    "df_test[\"income\"]=y_predict_final"
   ]
  },
  {
   "cell_type": "code",
   "execution_count": 177,
   "id": "3d5db26b",
   "metadata": {
    "scrolled": true
   },
   "outputs": [
    {
     "data": {
      "text/html": [
       "<div>\n",
       "<style scoped>\n",
       "    .dataframe tbody tr th:only-of-type {\n",
       "        vertical-align: middle;\n",
       "    }\n",
       "\n",
       "    .dataframe tbody tr th {\n",
       "        vertical-align: top;\n",
       "    }\n",
       "\n",
       "    .dataframe thead th {\n",
       "        text-align: right;\n",
       "    }\n",
       "</style>\n",
       "<table border=\"1\" class=\"dataframe\">\n",
       "  <thead>\n",
       "    <tr style=\"text-align: right;\">\n",
       "      <th></th>\n",
       "      <th>year_of_poll</th>\n",
       "      <th>own_self_emp</th>\n",
       "      <th>veteran benefits</th>\n",
       "      <th>currently_enrolled</th>\n",
       "      <th>race</th>\n",
       "      <th>father_country</th>\n",
       "      <th>educ</th>\n",
       "      <th>house_stat</th>\n",
       "      <th>major_ind_code</th>\n",
       "      <th>labour_union</th>\n",
       "      <th>...</th>\n",
       "      <th>income_filled</th>\n",
       "      <th>weeks_worked</th>\n",
       "      <th>under18</th>\n",
       "      <th>hourly_wage</th>\n",
       "      <th>unemp_reason</th>\n",
       "      <th>citizenship</th>\n",
       "      <th>woker_type</th>\n",
       "      <th>fed_liability</th>\n",
       "      <th>full_partime_job</th>\n",
       "      <th>income</th>\n",
       "    </tr>\n",
       "  </thead>\n",
       "  <tbody>\n",
       "    <tr>\n",
       "      <th>0</th>\n",
       "      <td>2005</td>\n",
       "      <td>0</td>\n",
       "      <td>2</td>\n",
       "      <td>1</td>\n",
       "      <td>2</td>\n",
       "      <td>40</td>\n",
       "      <td>16</td>\n",
       "      <td>16</td>\n",
       "      <td>11</td>\n",
       "      <td>0</td>\n",
       "      <td>...</td>\n",
       "      <td>0</td>\n",
       "      <td>47</td>\n",
       "      <td>2</td>\n",
       "      <td>0.0</td>\n",
       "      <td>5</td>\n",
       "      <td>3</td>\n",
       "      <td>5</td>\n",
       "      <td>4</td>\n",
       "      <td>0</td>\n",
       "      <td>0</td>\n",
       "    </tr>\n",
       "    <tr>\n",
       "      <th>1</th>\n",
       "      <td>2004</td>\n",
       "      <td>0</td>\n",
       "      <td>2</td>\n",
       "      <td>1</td>\n",
       "      <td>2</td>\n",
       "      <td>40</td>\n",
       "      <td>9</td>\n",
       "      <td>18</td>\n",
       "      <td>12</td>\n",
       "      <td>0</td>\n",
       "      <td>...</td>\n",
       "      <td>2</td>\n",
       "      <td>47</td>\n",
       "      <td>2</td>\n",
       "      <td>0.0</td>\n",
       "      <td>5</td>\n",
       "      <td>3</td>\n",
       "      <td>5</td>\n",
       "      <td>2</td>\n",
       "      <td>7</td>\n",
       "      <td>0</td>\n",
       "    </tr>\n",
       "    <tr>\n",
       "      <th>2</th>\n",
       "      <td>2004</td>\n",
       "      <td>0</td>\n",
       "      <td>2</td>\n",
       "      <td>2</td>\n",
       "      <td>2</td>\n",
       "      <td>40</td>\n",
       "      <td>5</td>\n",
       "      <td>17</td>\n",
       "      <td>14</td>\n",
       "      <td>1</td>\n",
       "      <td>...</td>\n",
       "      <td>2</td>\n",
       "      <td>0</td>\n",
       "      <td>2</td>\n",
       "      <td>0.0</td>\n",
       "      <td>5</td>\n",
       "      <td>3</td>\n",
       "      <td>4</td>\n",
       "      <td>1</td>\n",
       "      <td>7</td>\n",
       "      <td>0</td>\n",
       "    </tr>\n",
       "    <tr>\n",
       "      <th>3</th>\n",
       "      <td>2004</td>\n",
       "      <td>2</td>\n",
       "      <td>2</td>\n",
       "      <td>2</td>\n",
       "      <td>2</td>\n",
       "      <td>40</td>\n",
       "      <td>12</td>\n",
       "      <td>28</td>\n",
       "      <td>11</td>\n",
       "      <td>1</td>\n",
       "      <td>...</td>\n",
       "      <td>0</td>\n",
       "      <td>47</td>\n",
       "      <td>2</td>\n",
       "      <td>0.0</td>\n",
       "      <td>5</td>\n",
       "      <td>3</td>\n",
       "      <td>5</td>\n",
       "      <td>2</td>\n",
       "      <td>7</td>\n",
       "      <td>0</td>\n",
       "    </tr>\n",
       "    <tr>\n",
       "      <th>4</th>\n",
       "      <td>2004</td>\n",
       "      <td>0</td>\n",
       "      <td>2</td>\n",
       "      <td>2</td>\n",
       "      <td>2</td>\n",
       "      <td>20</td>\n",
       "      <td>11</td>\n",
       "      <td>16</td>\n",
       "      <td>18</td>\n",
       "      <td>2</td>\n",
       "      <td>...</td>\n",
       "      <td>0</td>\n",
       "      <td>47</td>\n",
       "      <td>2</td>\n",
       "      <td>0.0</td>\n",
       "      <td>5</td>\n",
       "      <td>1</td>\n",
       "      <td>3</td>\n",
       "      <td>2</td>\n",
       "      <td>7</td>\n",
       "      <td>0</td>\n",
       "    </tr>\n",
       "  </tbody>\n",
       "</table>\n",
       "<p>5 rows × 33 columns</p>\n",
       "</div>"
      ],
      "text/plain": [
       "   year_of_poll  own_self_emp  veteran benefits  currently_enrolled  race  \\\n",
       "0          2005             0                 2                   1     2   \n",
       "1          2004             0                 2                   1     2   \n",
       "2          2004             0                 2                   2     2   \n",
       "3          2004             2                 2                   2     2   \n",
       "4          2004             0                 2                   2     2   \n",
       "\n",
       "   father_country  educ  house_stat  major_ind_code  labour_union  ...  \\\n",
       "0              40    16          16              11             0  ...   \n",
       "1              40     9          18              12             0  ...   \n",
       "2              40     5          17              14             1  ...   \n",
       "3              40    12          28              11             1  ...   \n",
       "4              20    11          16              18             2  ...   \n",
       "\n",
       "   income_filled  weeks_worked  under18  hourly_wage  unemp_reason  \\\n",
       "0              0            47        2          0.0             5   \n",
       "1              2            47        2          0.0             5   \n",
       "2              2             0        2          0.0             5   \n",
       "3              0            47        2          0.0             5   \n",
       "4              0            47        2          0.0             5   \n",
       "\n",
       "   citizenship  woker_type  fed_liability  full_partime_job  income  \n",
       "0            3           5              4                 0       0  \n",
       "1            3           5              2                 7       0  \n",
       "2            3           4              1                 7       0  \n",
       "3            3           5              2                 7       0  \n",
       "4            1           3              2                 7       0  \n",
       "\n",
       "[5 rows x 33 columns]"
      ]
     },
     "execution_count": 177,
     "metadata": {},
     "output_type": "execute_result"
    }
   ],
   "source": [
    "df_to_predict.head()"
   ]
  },
  {
   "cell_type": "code",
   "execution_count": 183,
   "id": "a5ff0762",
   "metadata": {},
   "outputs": [
    {
     "data": {
      "text/html": [
       "<div>\n",
       "<style scoped>\n",
       "    .dataframe tbody tr th:only-of-type {\n",
       "        vertical-align: middle;\n",
       "    }\n",
       "\n",
       "    .dataframe tbody tr th {\n",
       "        vertical-align: top;\n",
       "    }\n",
       "\n",
       "    .dataframe thead th {\n",
       "        text-align: right;\n",
       "    }\n",
       "</style>\n",
       "<table border=\"1\" class=\"dataframe\">\n",
       "  <thead>\n",
       "    <tr style=\"text-align: right;\">\n",
       "      <th></th>\n",
       "      <th>ID</th>\n",
       "      <th>year_of_poll</th>\n",
       "      <th>own_self_emp</th>\n",
       "      <th>veteran benefits</th>\n",
       "      <th>currently_enrolled</th>\n",
       "      <th>race</th>\n",
       "      <th>father_country</th>\n",
       "      <th>educ</th>\n",
       "      <th>house_stat</th>\n",
       "      <th>major_ind_code</th>\n",
       "      <th>...</th>\n",
       "      <th>income_filled</th>\n",
       "      <th>weeks_worked</th>\n",
       "      <th>under18</th>\n",
       "      <th>hourly_wage</th>\n",
       "      <th>unemp_reason</th>\n",
       "      <th>citizenship</th>\n",
       "      <th>woker_type</th>\n",
       "      <th>fed_liability</th>\n",
       "      <th>full_partime_job</th>\n",
       "      <th>income</th>\n",
       "    </tr>\n",
       "  </thead>\n",
       "  <tbody>\n",
       "    <tr>\n",
       "      <th>0</th>\n",
       "      <td>105000</td>\n",
       "      <td>2005</td>\n",
       "      <td>0</td>\n",
       "      <td>2</td>\n",
       "      <td>College/University</td>\n",
       "      <td>White</td>\n",
       "      <td>United-States</td>\n",
       "      <td>Some college but no degree</td>\n",
       "      <td>Householder</td>\n",
       "      <td>Manufacturing-nondurable goods</td>\n",
       "      <td>...</td>\n",
       "      <td>No</td>\n",
       "      <td>47</td>\n",
       "      <td>NaN</td>\n",
       "      <td>0.0</td>\n",
       "      <td>NaN</td>\n",
       "      <td>NB_US</td>\n",
       "      <td>Pvt</td>\n",
       "      <td>Joint_both_under65</td>\n",
       "      <td>Full-time schedules</td>\n",
       "      <td>0</td>\n",
       "    </tr>\n",
       "    <tr>\n",
       "      <th>1</th>\n",
       "      <td>105001</td>\n",
       "      <td>2004</td>\n",
       "      <td>0</td>\n",
       "      <td>2</td>\n",
       "      <td>College/University</td>\n",
       "      <td>White</td>\n",
       "      <td>United-States</td>\n",
       "      <td>Bachelors degree(BA AB BS)</td>\n",
       "      <td>Nonfamily householder</td>\n",
       "      <td>Medical except hospital</td>\n",
       "      <td>...</td>\n",
       "      <td>NaN</td>\n",
       "      <td>47</td>\n",
       "      <td>NaN</td>\n",
       "      <td>0.0</td>\n",
       "      <td>NaN</td>\n",
       "      <td>NB_US</td>\n",
       "      <td>Pvt</td>\n",
       "      <td>Single</td>\n",
       "      <td>Children/Armed_Forces</td>\n",
       "      <td>0</td>\n",
       "    </tr>\n",
       "    <tr>\n",
       "      <th>2</th>\n",
       "      <td>105002</td>\n",
       "      <td>2004</td>\n",
       "      <td>0</td>\n",
       "      <td>2</td>\n",
       "      <td>NaN</td>\n",
       "      <td>White</td>\n",
       "      <td>United-States</td>\n",
       "      <td>7th and 8th grade</td>\n",
       "      <td>In group quarters</td>\n",
       "      <td>Not in universe or children</td>\n",
       "      <td>...</td>\n",
       "      <td>NaN</td>\n",
       "      <td>0</td>\n",
       "      <td>NaN</td>\n",
       "      <td>0.0</td>\n",
       "      <td>NaN</td>\n",
       "      <td>NB_US</td>\n",
       "      <td>NaN</td>\n",
       "      <td>Nonfiler</td>\n",
       "      <td>Children/Armed_Forces</td>\n",
       "      <td>0</td>\n",
       "    </tr>\n",
       "    <tr>\n",
       "      <th>3</th>\n",
       "      <td>105003</td>\n",
       "      <td>2004</td>\n",
       "      <td>2</td>\n",
       "      <td>2</td>\n",
       "      <td>NaN</td>\n",
       "      <td>White</td>\n",
       "      <td>United-States</td>\n",
       "      <td>High school graduate</td>\n",
       "      <td>Secondary individual</td>\n",
       "      <td>Manufacturing-nondurable goods</td>\n",
       "      <td>...</td>\n",
       "      <td>No</td>\n",
       "      <td>47</td>\n",
       "      <td>NaN</td>\n",
       "      <td>0.0</td>\n",
       "      <td>NaN</td>\n",
       "      <td>NB_US</td>\n",
       "      <td>Pvt</td>\n",
       "      <td>Single</td>\n",
       "      <td>Children/Armed_Forces</td>\n",
       "      <td>0</td>\n",
       "    </tr>\n",
       "    <tr>\n",
       "      <th>4</th>\n",
       "      <td>105004</td>\n",
       "      <td>2004</td>\n",
       "      <td>0</td>\n",
       "      <td>2</td>\n",
       "      <td>NaN</td>\n",
       "      <td>White</td>\n",
       "      <td>Iran</td>\n",
       "      <td>Doctorate degree(PhD EdD)</td>\n",
       "      <td>Householder</td>\n",
       "      <td>Public administration</td>\n",
       "      <td>...</td>\n",
       "      <td>No</td>\n",
       "      <td>47</td>\n",
       "      <td>NaN</td>\n",
       "      <td>0.0</td>\n",
       "      <td>NaN</td>\n",
       "      <td>FB_US</td>\n",
       "      <td>Loc_Govt</td>\n",
       "      <td>Single</td>\n",
       "      <td>Children/Armed_Forces</td>\n",
       "      <td>0</td>\n",
       "    </tr>\n",
       "  </tbody>\n",
       "</table>\n",
       "<p>5 rows × 34 columns</p>\n",
       "</div>"
      ],
      "text/plain": [
       "       ID  year_of_poll  own_self_emp  veteran benefits  currently_enrolled  \\\n",
       "0  105000          2005             0                 2  College/University   \n",
       "1  105001          2004             0                 2  College/University   \n",
       "2  105002          2004             0                 2                 NaN   \n",
       "3  105003          2004             2                 2                 NaN   \n",
       "4  105004          2004             0                 2                 NaN   \n",
       "\n",
       "     race  father_country                         educ  \\\n",
       "0   White   United-States   Some college but no degree   \n",
       "1   White   United-States   Bachelors degree(BA AB BS)   \n",
       "2   White   United-States            7th and 8th grade   \n",
       "3   White   United-States         High school graduate   \n",
       "4   White            Iran    Doctorate degree(PhD EdD)   \n",
       "\n",
       "               house_stat                   major_ind_code  ... income_filled  \\\n",
       "0             Householder   Manufacturing-nondurable goods  ...            No   \n",
       "1   Nonfamily householder          Medical except hospital  ...           NaN   \n",
       "2       In group quarters      Not in universe or children  ...           NaN   \n",
       "3    Secondary individual   Manufacturing-nondurable goods  ...            No   \n",
       "4             Householder            Public administration  ...            No   \n",
       "\n",
       "  weeks_worked under18  hourly_wage unemp_reason citizenship woker_type  \\\n",
       "0           47     NaN          0.0          NaN       NB_US        Pvt   \n",
       "1           47     NaN          0.0          NaN       NB_US        Pvt   \n",
       "2            0     NaN          0.0          NaN       NB_US        NaN   \n",
       "3           47     NaN          0.0          NaN       NB_US        Pvt   \n",
       "4           47     NaN          0.0          NaN       FB_US   Loc_Govt   \n",
       "\n",
       "        fed_liability       full_partime_job  income  \n",
       "0  Joint_both_under65    Full-time schedules       0  \n",
       "1              Single  Children/Armed_Forces       0  \n",
       "2            Nonfiler  Children/Armed_Forces       0  \n",
       "3              Single  Children/Armed_Forces       0  \n",
       "4              Single  Children/Armed_Forces       0  \n",
       "\n",
       "[5 rows x 34 columns]"
      ]
     },
     "execution_count": 183,
     "metadata": {},
     "output_type": "execute_result"
    }
   ],
   "source": [
    "df_test.head()"
   ]
  },
  {
   "cell_type": "code",
   "execution_count": 180,
   "id": "bccfc91b",
   "metadata": {},
   "outputs": [
    {
     "data": {
      "text/plain": [
       "0    36064\n",
       "1     5936\n",
       "Name: income, dtype: int64"
      ]
     },
     "execution_count": 180,
     "metadata": {},
     "output_type": "execute_result"
    }
   ],
   "source": [
    "df_to_predict.income.value_counts()"
   ]
  },
  {
   "cell_type": "code",
   "execution_count": 188,
   "id": "3367a1be",
   "metadata": {},
   "outputs": [],
   "source": [
    "df_test[[\"ID\",\"income\"]].to_csv(\"FInal_result.csv\", index=False)"
   ]
  },
  {
   "cell_type": "code",
   "execution_count": null,
   "id": "f0df923c",
   "metadata": {},
   "outputs": [],
   "source": []
  },
  {
   "cell_type": "code",
   "execution_count": null,
   "id": "bf85bc7f",
   "metadata": {},
   "outputs": [],
   "source": []
  },
  {
   "cell_type": "code",
   "execution_count": null,
   "id": "152923a0",
   "metadata": {},
   "outputs": [],
   "source": []
  },
  {
   "cell_type": "code",
   "execution_count": null,
   "id": "93976487",
   "metadata": {},
   "outputs": [],
   "source": []
  },
  {
   "cell_type": "code",
   "execution_count": null,
   "id": "5f713cfd",
   "metadata": {},
   "outputs": [],
   "source": []
  },
  {
   "cell_type": "code",
   "execution_count": null,
   "id": "4a4e1e32",
   "metadata": {},
   "outputs": [],
   "source": []
  },
  {
   "cell_type": "code",
   "execution_count": null,
   "id": "79ac4e74",
   "metadata": {},
   "outputs": [],
   "source": []
  },
  {
   "cell_type": "code",
   "execution_count": null,
   "id": "1d020f46",
   "metadata": {},
   "outputs": [],
   "source": []
  },
  {
   "cell_type": "code",
   "execution_count": null,
   "id": "b89f4e32",
   "metadata": {},
   "outputs": [],
   "source": []
  },
  {
   "cell_type": "code",
   "execution_count": null,
   "id": "29ebcf98",
   "metadata": {},
   "outputs": [],
   "source": []
  },
  {
   "cell_type": "code",
   "execution_count": null,
   "id": "b81f7517",
   "metadata": {},
   "outputs": [],
   "source": []
  },
  {
   "cell_type": "code",
   "execution_count": null,
   "id": "a006c301",
   "metadata": {},
   "outputs": [],
   "source": []
  },
  {
   "cell_type": "code",
   "execution_count": null,
   "id": "f80d8a4f",
   "metadata": {},
   "outputs": [],
   "source": []
  },
  {
   "cell_type": "code",
   "execution_count": null,
   "id": "1c145d43",
   "metadata": {},
   "outputs": [],
   "source": []
  },
  {
   "cell_type": "code",
   "execution_count": null,
   "id": "8865fe7e",
   "metadata": {},
   "outputs": [],
   "source": []
  },
  {
   "cell_type": "code",
   "execution_count": null,
   "id": "bdcc0571",
   "metadata": {},
   "outputs": [],
   "source": []
  },
  {
   "cell_type": "code",
   "execution_count": null,
   "id": "3cac72cb",
   "metadata": {},
   "outputs": [],
   "source": []
  },
  {
   "cell_type": "code",
   "execution_count": null,
   "id": "1024bac9",
   "metadata": {},
   "outputs": [],
   "source": []
  },
  {
   "cell_type": "code",
   "execution_count": null,
   "id": "19b53ef3",
   "metadata": {},
   "outputs": [],
   "source": []
  },
  {
   "cell_type": "code",
   "execution_count": null,
   "id": "18aabb03",
   "metadata": {},
   "outputs": [],
   "source": []
  },
  {
   "cell_type": "code",
   "execution_count": null,
   "id": "bc1ec90f",
   "metadata": {},
   "outputs": [],
   "source": []
  },
  {
   "cell_type": "code",
   "execution_count": null,
   "id": "1f1139b7",
   "metadata": {},
   "outputs": [],
   "source": []
  }
 ],
 "metadata": {
  "kernelspec": {
   "display_name": "Python 3",
   "language": "python",
   "name": "python3"
  },
  "language_info": {
   "codemirror_mode": {
    "name": "ipython",
    "version": 3
   },
   "file_extension": ".py",
   "mimetype": "text/x-python",
   "name": "python",
   "nbconvert_exporter": "python",
   "pygments_lexer": "ipython3",
   "version": "3.8.8"
  }
 },
 "nbformat": 4,
 "nbformat_minor": 5
}
